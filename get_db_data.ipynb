{
 "cells": [
  {
   "cell_type": "code",
   "execution_count": 25,
   "metadata": {},
   "outputs": [],
   "source": [
    "import pandas as pd\n",
    "from sqlalchemy import create_engine\n",
    "import yaml\n",
    "import plotly.express as px"
   ]
  },
  {
   "cell_type": "code",
   "execution_count": 2,
   "metadata": {},
   "outputs": [],
   "source": [
    "db_name = 'climate_change_db'\n",
    "db_user = 'db_user'\n",
    "db_user_pw = 'db_password'\n",
    "db_adress = '86.119.42.47'\n",
    "db_port = '5432'\n",
    "\n",
    "engine = create_engine('postgresql://{user}:{password}@{host}:{port}/{db}'.format(user = db_user, password = db_user_pw, \n",
    "                                                                                        host = db_adress, port = db_port, db = db_name), echo=False)"
   ]
  },
  {
   "cell_type": "markdown",
   "metadata": {},
   "source": [
    "# Query swiss data"
   ]
  },
  {
   "cell_type": "code",
   "execution_count": 88,
   "metadata": {},
   "outputs": [],
   "source": [
    "def get_swiss_data_db(engine):\n",
    "    '''\n",
    "    Collects the swiss precipitation data from the database.\n",
    "    data names: precipitation, new_snow, sunshine, temperature.\n",
    "    \n",
    "    Takes:\n",
    "    - engine: SQL-Alchemy engine\n",
    "    \n",
    "    Returns:\n",
    "    - df: dictionary of pandas dataframes with data names as keys.\n",
    "    '''\n",
    "    \n",
    "    # define sql queries\n",
    "    q_precip = '''SELECT r.timestamp as date, l.country, l.region, r.float_reading AS precipitation\n",
    "                     FROM locations l\n",
    "                     JOIN (SELECT sensor_id, location_id, sensor_type FROM sensors) AS s\n",
    "                           ON l.location_id = s.location_id\n",
    "                     JOIN (SELECT timestamp, float_reading, sensor_id FROM sensor_readings) AS r\n",
    "                           ON s.sensor_id = r.sensor_id\n",
    "                     WHERE l.region IS NOT NULL and s.sensor_type = 'precipitation'\n",
    "                     ORDER BY l.region'''\n",
    "    \n",
    "    q_snow = '''SELECT r.timestamp as date, l.country, l.region, r.int_reading AS new_snow\n",
    "                FROM locations l\n",
    "                JOIN (SELECT sensor_id, location_id, sensor_type FROM sensors) AS s\n",
    "                      ON l.location_id = s.location_id\n",
    "                JOIN (SELECT timestamp, int_reading, sensor_id FROM sensor_readings) AS r\n",
    "                      ON s.sensor_id = r.sensor_id\n",
    "                WHERE l.region IS NOT NULL and s.sensor_type = 'new_snow'\n",
    "                ORDER BY l.region'''\n",
    "    \n",
    "    q_sun = '''SELECT r.timestamp as date, l.country, l.region, r.float_reading AS sunshine\n",
    "                  FROM locations l\n",
    "                  JOIN (SELECT sensor_id, location_id, sensor_type FROM sensors) AS s\n",
    "                        ON l.location_id = s.location_id\n",
    "                  JOIN (SELECT timestamp, float_reading, sensor_id FROM sensor_readings) AS r\n",
    "                        ON s.sensor_id = r.sensor_id\n",
    "                  WHERE l.region IS NOT NULL and s.sensor_type = 'sunshine'\n",
    "                  ORDER BY l.region'''\n",
    "    \n",
    "    q_temp = '''SELECT r.timestamp as date, l.country, l.region, r.float_reading AS temperature\n",
    "                   FROM locations l\n",
    "                   JOIN (SELECT sensor_id, location_id, sensor_type FROM sensors) AS s\n",
    "                         ON l.location_id = s.location_id\n",
    "                   JOIN (SELECT timestamp, float_reading, sensor_id FROM sensor_readings) AS r\n",
    "                         ON s.sensor_id = r.sensor_id\n",
    "                   WHERE l.region IS NOT NULL and s.sensor_type = 'temperature'\n",
    "                   ORDER BY l.region'''\n",
    "    \n",
    "    # get data from database\n",
    "    df_precip = pd.read_sql(q_precip, engine)\n",
    "    df_snow = pd.read_sql(q_snow, engine)\n",
    "    df_ch_sun = pd.read_sql(q_sun, engine)\n",
    "    df_ch_temp = pd.read_sql(q_temp, engine)\n",
    "    \n",
    "    \n",
    "    df_list = [df_precip, df_snow, df_sun, df_temp]\n",
    "    df_names = ['precipitation', 'new_snow', 'sunshine', 'temperature']\n",
    "    \n",
    "    return dict(zip(df_names, df_list))"
   ]
  },
  {
   "cell_type": "markdown",
   "metadata": {},
   "source": [
    "# Query global data"
   ]
  },
  {
   "cell_type": "code",
   "execution_count": 93,
   "metadata": {},
   "outputs": [],
   "source": [
    "def get_global_data_db(engine):\n",
    "    '''\n",
    "    Collects the swiss precipitation data from the database.\n",
    "    data names: precipitation, new_snow, sunshine, temperature.\n",
    "    \n",
    "    Takes:\n",
    "    - engine: SQL-Alchemy engine\n",
    "    \n",
    "    Returns:\n",
    "    - df: dictionary of pandas dataframes with data names as keys.\n",
    "    '''\n",
    "    \n",
    "    q_temp = '''SELECT r.timestamp as date, l.country, r.float_reading AS temperature\n",
    "                FROM locations l\n",
    "                JOIN (SELECT sensor_id, location_id, sensor_type FROM sensors) AS s\n",
    "                      ON l.location_id = s.location_id\n",
    "                JOIN (SELECT timestamp, float_reading, sensor_id FROM sensor_readings) AS r\n",
    "                      ON s.sensor_id = r.sensor_id\n",
    "                WHERE l.region IS NULL and s.sensor_type = 'temperature'\n",
    "                ORDER BY l.country'''\n",
    "    \n",
    "    q_co2 = '''SELECT r.timestamp as date, l.country, r.float_reading AS co2\n",
    "               FROM locations l\n",
    "               JOIN (SELECT sensor_id, location_id, sensor_type FROM sensors) AS s\n",
    "                     ON l.location_id = s.location_id\n",
    "               JOIN (SELECT timestamp, float_reading, sensor_id FROM sensor_readings) AS r\n",
    "                     ON s.sensor_id = r.sensor_id\n",
    "               WHERE l.region IS NULL and s.sensor_type = 'co2'\n",
    "               ORDER BY l.country'''\n",
    "    \n",
    "    df_temp = pd.read_sql(q_temp, engine)\n",
    "    df_co2 = pd.read_sql(q_co2, engine)\n",
    "    \n",
    "    df_list = [df_temp, df_co2]\n",
    "    df_names = ['temperature', 'co2']\n",
    "    \n",
    "    return dict(zip(df_names, df_list))"
   ]
  }
 ],
 "metadata": {
  "kernelspec": {
   "display_name": "Python 3",
   "language": "python",
   "name": "python3"
  },
  "language_info": {
   "codemirror_mode": {
    "name": "ipython",
    "version": 3
   },
   "file_extension": ".py",
   "mimetype": "text/x-python",
   "name": "python",
   "nbconvert_exporter": "python",
   "pygments_lexer": "ipython3",
   "version": "3.7.7"
  }
 },
 "nbformat": 4,
 "nbformat_minor": 4
}
