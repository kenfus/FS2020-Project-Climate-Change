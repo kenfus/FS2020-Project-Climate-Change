{
 "cells": [
  {
   "cell_type": "code",
   "execution_count": null,
   "metadata": {},
   "outputs": [],
   "source": [
    "import sys, json\n",
    "sys.path.insert(1, '../data_collection')\n",
    "from collection import *\n",
    "\n",
    "import pandas as pd\n",
    "import plotly.graph_objects as go\n",
    "import numpy as np\n",
    "from plotly.subplots import make_subplots\n",
    "import plotly.express as px"
   ]
  },
  {
   "cell_type": "code",
   "execution_count": null,
   "metadata": {},
   "outputs": [],
   "source": [
    "df_gtemp = pd.read_csv('global_temp.csv')\n",
    "df_gtemp['date'] = pd.to_datetime(df_gtemp['date'])\n",
    "\n",
    "with open('../data_collection/countries.json', 'r') as f:\n",
    "    countries_json = json.load(f)\n",
    "country_alpha3 = [[country, countries_json[country]['alpha3']] for country in countries_json.keys()]\n",
    "df_country_alpha3 = pd.DataFrame(country_alpha3, columns = ['country', 'alpha3'])\n",
    "df_gtemp = df_gtemp.merge(df_country_alpha3, on = 'country')\n",
    "\n",
    "df_gtemp = df_gtemp[df_gtemp.date.dt.year > 1849]\n",
    "df_gtemp['yearly_mean'] = df_gtemp.groupby(by = ['country', df_gtemp.date.dt.year])['monthly_anomaly'].transform('mean')\n",
    "df_gtemp_yearly = df_gtemp.groupby(by = ['country', df_gtemp.date.dt.year]).first().drop(columns = ['date', 'monthly_anomaly']).reset_index()\n",
    "yearly_min = df_gtemp_yearly.loc[:, 'yearly_mean'].min()\n",
    "yearly_max = df_gtemp_yearly.loc[:, 'yearly_mean'].max()\n",
    "df_gtemp_yearly"
   ]
  },
  {
   "cell_type": "code",
   "execution_count": null,
   "metadata": {},
   "outputs": [],
   "source": [
    "print('min: ', yearly_min)\n",
    "print('max: ', yearly_max)"
   ]
  },
  {
   "cell_type": "code",
   "execution_count": null,
   "metadata": {},
   "outputs": [],
   "source": [
    "fig = px.choropleth(data_frame = df_gtemp_yearly,\n",
    "                    locations = 'alpha3',\n",
    "                    color = 'yearly_mean',  # value in column 'Confirmed' determines color\n",
    "                    hover_name = 'country',\n",
    "                    color_continuous_scale = 'Jet',  #  color scale red, yellow green\n",
    "                    range_color = [yearly_min, yearly_max],\n",
    "                    animation_frame = 'date')\n",
    "\n",
    "fig.show()"
   ]
  },
  {
   "cell_type": "code",
   "execution_count": null,
   "metadata": {},
   "outputs": [],
   "source": [
    "afg = df_gtemp[df_gtemp.loc[:, 'country'] == 'Afghanistan']\n",
    "fig = go.Figure(data=go.Scatter(x = afg['date'], y = afg['monthly_anomaly']))\n",
    "fig.show()"
   ]
  }
 ],
 "metadata": {
  "kernelspec": {
   "display_name": "Python 3",
   "language": "python",
   "name": "python3"
  },
  "language_info": {
   "codemirror_mode": {
    "name": "ipython",
    "version": 3
   },
   "file_extension": ".py",
   "mimetype": "text/x-python",
   "name": "python",
   "nbconvert_exporter": "python",
   "pygments_lexer": "ipython3",
   "version": "3.7.6"
  }
 },
 "nbformat": 4,
 "nbformat_minor": 2
}
