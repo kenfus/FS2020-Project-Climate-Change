{
 "cells": [
  {
   "cell_type": "markdown",
   "metadata": {},
   "source": [
    "# **EDA Switzerland Story-telling**"
   ]
  },
  {
   "cell_type": "markdown",
   "metadata": {},
   "source": [
    "# Story-Inputs"
   ]
  },
  {
   "cell_type": "markdown",
   "metadata": {},
   "source": [
    "## Ideas"
   ]
  },
  {
   "cell_type": "markdown",
   "metadata": {},
   "source": [
    "**Story-Inputs**:\n",
    "- Involve the readers interests (Skiing)\n",
    "- Progression of tourists in winter region/cable car usage"
   ]
  },
  {
   "cell_type": "markdown",
   "metadata": {},
   "source": [
    "**Start the Story**\n",
    "- Skier asks himself regarding to all the climate change if it will be possible to ski in the future and then he does some research\n",
    "- Guy talks with his grandma who's living in a famous skiing area in Switzerland and she tells him that every year they have less snow -> Guy starts with research about this topic"
   ]
  },
  {
   "cell_type": "markdown",
   "metadata": {},
   "source": [
    "# Data Import"
   ]
  },
  {
   "cell_type": "markdown",
   "metadata": {},
   "source": [
    "Set all import paths for this project"
   ]
  },
  {
   "cell_type": "code",
   "execution_count": 4,
   "metadata": {
    "scrolled": false
   },
   "outputs": [
    {
     "name": "stdout",
     "output_type": "stream",
     "text": [
      "['C:\\\\Users\\\\simon\\\\Desktop\\\\FS2020-Project-Climate-Change\\\\storytelling', 'C:\\\\Users\\\\simon\\\\anaconda3\\\\python37.zip', 'C:\\\\Users\\\\simon\\\\anaconda3\\\\DLLs', 'C:\\\\Users\\\\simon\\\\anaconda3\\\\lib', 'C:\\\\Users\\\\simon\\\\anaconda3', '', 'C:\\\\Users\\\\simon\\\\anaconda3\\\\lib\\\\site-packages', 'C:\\\\Users\\\\simon\\\\anaconda3\\\\lib\\\\site-packages\\\\win32', 'C:\\\\Users\\\\simon\\\\anaconda3\\\\lib\\\\site-packages\\\\win32\\\\lib', 'C:\\\\Users\\\\simon\\\\anaconda3\\\\lib\\\\site-packages\\\\Pythonwin', 'C:\\\\Users\\\\simon\\\\anaconda3\\\\lib\\\\site-packages\\\\IPython\\\\extensions', 'C:\\\\Users\\\\simon\\\\.ipython']\n",
      "New path added to Sys.\n"
     ]
    }
   ],
   "source": [
    "import sys\n",
    "import os\n",
    "\n",
    "database_path = 'C:\\\\Users\\\\simon\\\\Desktop\\\\FS2020-Project-Climate-Change\\\\database'\n",
    "print(sys.path)\n",
    "\n",
    "def import_system_path():\n",
    "    if database_path not in sys.path:\n",
    "        sys.path.append(database_path)\n",
    "        print('New path added to Sys.')\n",
    "    else:\n",
    "        print('Path already exists.')\n",
    "        \n",
    "import_system_path()"
   ]
  },
  {
   "cell_type": "code",
   "execution_count": 19,
   "metadata": {},
   "outputs": [],
   "source": [
    "from DBA import DBA\n",
    "import yaml\n",
    "\n",
    "\n",
    "import pandas as pd\n",
    "import numpy as np\n",
    "import datetime\n",
    "\n",
    "import sqlalchemy\n",
    "\n",
    "import seaborn as sns\n",
    "import matplotlib.pyplot as plt\n",
    "import squarify\n",
    "import plotly.express as px\n",
    "import plotly.graph_objects as go\n",
    "\n",
    "\n",
    "sns.set_style(\"darkgrid\")"
   ]
  },
  {
   "cell_type": "markdown",
   "metadata": {},
   "source": [
    "Read YML-File with Configuration data for database"
   ]
  },
  {
   "cell_type": "code",
   "execution_count": null,
   "metadata": {
    "scrolled": false
   },
   "outputs": [],
   "source": [
    "a_yaml_file = open(\"config.yml\")\n",
    "parsed_yaml_file = yaml.load(a_yaml_file, Loader=yaml.FullLoader)\n",
    "print(parsed_yaml_file)"
   ]
  },
  {
   "cell_type": "markdown",
   "metadata": {},
   "source": [
    "## DB Connection"
   ]
  },
  {
   "cell_type": "markdown",
   "metadata": {},
   "source": [
    "Create connection object with all DB configurations"
   ]
  },
  {
   "cell_type": "code",
   "execution_count": null,
   "metadata": {},
   "outputs": [],
   "source": [
    "connection_object = DBA(parsed_yaml_file['sql']['db'], \n",
    "                        parsed_yaml_file['sql']['user'] , \n",
    "                        parsed_yaml_file['sql']['pw'] , \n",
    "                        parsed_yaml_file['sql']['host'], \n",
    "                        parsed_yaml_file['sql']['port']\n",
    "                       )"
   ]
  },
  {
   "cell_type": "markdown",
   "metadata": {},
   "source": [
    "Test-Query"
   ]
  },
  {
   "cell_type": "markdown",
   "metadata": {},
   "source": [
    "## All Queries"
   ]
  },
  {
   "cell_type": "code",
   "execution_count": null,
   "metadata": {},
   "outputs": [],
   "source": [
    "class Queries():\n",
    "    \n",
    "    switzerland_temperature = \"\"\"select locations.location_id, locations.country, \n",
    "                                 sensors.sensor_id, sensors.sensor_type,\n",
    "                                 sensor_readings.timestamp, sensor_readings.int_reading, sensor_readings.float_reading, sensor_readings.bool_reading\n",
    "                                 from locations\n",
    "                                 inner join sensors on (sensors.location_id = locations.location_id)\n",
    "                                 inner join sensor_readings on (sensors.sensor_id = sensor_readings.sensor_id)\n",
    "                                 where locations.country = 'Switzerland' and (sensors.sensor_type = 'temperature')\n",
    "                                 order by timestamp\"\"\"\n",
    "    \n",
    "    switzerland_co2 = \"\"\"select locations.location_id, locations.country, \n",
    "                         sensors.sensor_id, sensors.sensor_type,\n",
    "                         sensor_readings.timestamp, sensor_readings.int_reading, sensor_readings.float_reading, sensor_readings.bool_reading\n",
    "                         from locations\n",
    "                         inner join sensors on (sensors.location_id = locations.location_id)\n",
    "                         inner join sensor_readings on (sensors.sensor_id = sensor_readings.sensor_id)\n",
    "                         where locations.country = 'Switzerland' and (sensors.sensor_type = 'co2')\n",
    "                         order by timestamp\"\"\"\n",
    "    \n",
    "    regions_newsnow = \"\"\"select locations.location_id, locations.region, \n",
    "                         sensors.sensor_id, sensors.sensor_type,\n",
    "                         sensor_readings.int_reading, sensor_readings.timestamp\n",
    "                         from locations\n",
    "                         inner join sensors on (sensors.location_id = locations.location_id)\n",
    "                         inner join sensor_readings on (sensors.sensor_id = sensor_readings.sensor_id)\n",
    "                         where locations.region is not NULL\n",
    "                         order by region, timestamp\"\"\"\n",
    "\n",
    "    "
   ]
  },
  {
   "cell_type": "markdown",
   "metadata": {},
   "source": [
    "## Query Data"
   ]
  },
  {
   "cell_type": "code",
   "execution_count": null,
   "metadata": {
    "scrolled": false
   },
   "outputs": [],
   "source": [
    "switzerland_temp = connection_object.query_data(Queries.switzerland_temperature)\n",
    "switzerland_co2 = connection_object.query_data(Queries.switzerland_co2)\n",
    "switzerland_newsnow = connection_object.query_data(Queries.regions_newsnow)"
   ]
  },
  {
   "cell_type": "markdown",
   "metadata": {},
   "source": [
    "## Transform"
   ]
  },
  {
   "cell_type": "code",
   "execution_count": null,
   "metadata": {},
   "outputs": [],
   "source": [
    "def transform_switzerland_temp(swiss_temp):\n",
    "    swiss_temp = swiss_temp.drop(['int_reading', 'bool_reading'], axis=1)\n",
    "    swiss_temp = swiss_temp.set_index('timestamp', drop=True)\n",
    "    swiss_temp.index = pd.to_datetime(swiss_temp.index)\n",
    "    swiss_temp = swiss_temp.loc[:, ['float_reading']]\n",
    "    swiss_temp.columns = ['temperature']\n",
    "    \n",
    "    amt_missing_values = swiss_temp[swiss_temp['temperature'].isna() == True].shape[0]\n",
    "    if amt_missing_values > 0:\n",
    "        plot = sns.distplot(swiss_temp[swiss_temp['temperature'].isna() == True].index.year, bins=50)\n",
    "        plot.set_title('Missing Values in years / Amount: {}'.format(amt_missing_values))\n",
    "        plt.show()\n",
    " \n",
    "    swiss_temp = swiss_temp.dropna()\n",
    "    \n",
    "    return swiss_temp\n",
    "\n",
    "def transform_switzerland_co2(swiss_co2):\n",
    "    swiss_co2 = swiss_co2.drop(['int_reading', 'bool_reading'], axis=1)\n",
    "    swiss_co2 = swiss_co2.set_index('timestamp', drop=True)\n",
    "    swiss_co2.index = pd.to_datetime(swiss_co2.index)\n",
    "    swiss_co2 = swiss_co2.loc[:, ['float_reading']]\n",
    "    swiss_co2.columns = ['CO2']\n",
    "    \n",
    "    amt_missing_values = swiss_co2[swiss_co2['CO2'].isna() == True].shape[0]\n",
    "    if amt_missing_values > 0:\n",
    "        plot = sns.distplot(swiss_co2[swiss_co2['CO2'].isna() == True].index.year, bins=50)\n",
    "        plot.set_title('Missing Values in years / Amount: {}'.format(amt_missing_values))\n",
    "        plt.show()\n",
    "    \n",
    "    swiss_co2 = swiss_co2.dropna()\n",
    "    \n",
    "    return swiss_co2\n",
    "\n",
    "\n",
    "def transform_newsnow(data):\n",
    "    data = data.loc[:,['timestamp', 'region', 'int_reading']]\n",
    "    #data = pd.pivot_table(data=data, values='int_reading', index='timestamp', columns='region')\n",
    "    data = data.set_index('timestamp')\n",
    "    data.index = pd.to_datetime(data.index)\n",
    "    data = data.sort_values(by='timestamp')\n",
    "    data.columns = ['region', 'new_snow']\n",
    "\n",
    "    return data\n"
   ]
  },
  {
   "cell_type": "code",
   "execution_count": null,
   "metadata": {},
   "outputs": [],
   "source": [
    "switzerland_temp = transform_switzerland_temp(switzerland_temp)  \n",
    "switzerland_co2 = transform_switzerland_co2(switzerland_co2)\n",
    "switzerland_newsnow = transform_newsnow(switzerland_newsnow)"
   ]
  },
  {
   "cell_type": "code",
   "execution_count": null,
   "metadata": {},
   "outputs": [],
   "source": [
    "sns.lineplot(switzerland_co2.index.year, switzerland_co2['CO2'])"
   ]
  },
  {
   "cell_type": "markdown",
   "metadata": {},
   "source": [
    "# Analysis Temperature/CO2"
   ]
  },
  {
   "cell_type": "markdown",
   "metadata": {},
   "source": [
    "Analysis of the Temperature and CO2 values of Switzerland"
   ]
  },
  {
   "cell_type": "markdown",
   "metadata": {},
   "source": [
    "Check which are the time differences between each measurement of CO2 and temperature"
   ]
  },
  {
   "cell_type": "code",
   "execution_count": null,
   "metadata": {},
   "outputs": [],
   "source": [
    "not_local_data.sample(2)"
   ]
  },
  {
   "cell_type": "code",
   "execution_count": null,
   "metadata": {},
   "outputs": [],
   "source": [
    "temperature_switzerland = not_local_data[not_local_data['sensor_type'] == 'temperature']\n",
    "temperature_switzerland = temperature_switzerland.set_index(temperature_switzerland['timestamp'])\n",
    "temperature_switzerland.index = pd.to_datetime(temperature_switzerland.index)\n",
    "\n",
    "time_shifted = temperature_switzerland.loc[:,'timestamp'].shift(1) \n",
    "time_diff = temperature_switzerland.loc[:,'timestamp'] - time_shifted\n",
    "print('Temperature Measurement differences: {}'.format(time_diff.mean()))\n",
    "\n",
    "temperature_switzerland.head()"
   ]
  },
  {
   "cell_type": "code",
   "execution_count": null,
   "metadata": {
    "scrolled": true
   },
   "outputs": [],
   "source": [
    "co2_switzerland = not_local_data[not_local_data['sensor_type'] == 'co2']\n",
    "co2_switzerland = co2_switzerland.set_index(co2_switzerland['timestamp'])\n",
    "co2_switzerland.index = pd.to_datetime(co2_switzerland.index)\n",
    "\n",
    "\n",
    "time_shifted = co2_switzerland.loc[:,'timestamp'].shift(1) \n",
    "time_diff = co2_switzerland.loc[:,'timestamp'] - time_shifted\n",
    "print('CO2 Measurement differences: {}'.format(time_diff.mean()))\n",
    "\n",
    "co2_switzerland.head()"
   ]
  },
  {
   "cell_type": "markdown",
   "metadata": {},
   "source": [
    "## Time Linechart"
   ]
  },
  {
   "cell_type": "code",
   "execution_count": null,
   "metadata": {},
   "outputs": [],
   "source": [
    "def plot_temperature_international(rolling_mean):\n",
    "    fig, ax = plt.subplots(2, 1, figsize=(12,10))\n",
    "    \n",
    "    time_from = '1960-01-01'\n",
    "    time_to =  2020\n",
    "    \n",
    "    temperature_switzerland = not_local_data[not_local_data['sensor_type'] == 'temperature']\n",
    "    temperature_switzerland = temperature_switzerland.loc[:, ['timestamp', 'float_reading']]\n",
    "    \n",
    "    co2_switzerland = not_local_data[not_local_data['sensor_type'] == 'co2']\n",
    "            \n",
    "    p1_y = not_local_data[not_local_data['sensor_type'] == 'temperature']['timestamp']\n",
    "    p1_y = p1_y[p1_y > pd.to_datetime(time_from)]\n",
    "    \n",
    "    p1 = sns.lineplot(x=p1_y, \n",
    "                      y=temperature_switzerland['float_reading'].rolling(rolling_mean).mean(), ax=ax[0])\n",
    "    p3 = sns.lineplot(x=p1_y, y=temperature_switzerland['float_reading'].rolling(6).mean(), ax=ax[0])\n",
    "    p1.set_title('Temperature of Switzerland with {} month Rolling Average'.format(rolling_mean), loc='left')\n",
    "    p1.set(ylabel='Temperature in C°', xlabel=('Years'))\n",
    "\n",
    "    p2 = sns.lineplot(x=not_local_data[not_local_data['sensor_type'] == 'co2']['timestamp'], \n",
    "                      y=co2_switzerland['float_reading'], ax=ax[1])\n",
    "    p2.set_title('CO2 of Switzerland cumulative each year', loc='left')\n",
    "    p2.set(ylabel='CO2', xlabel=('Years'))\n",
    "    \n",
    "    plt.show()\n",
    "\n",
    "plot_temperature_international(6*12)"
   ]
  },
  {
   "cell_type": "markdown",
   "metadata": {},
   "source": [
    "## Distribution of the Data"
   ]
  },
  {
   "cell_type": "code",
   "execution_count": null,
   "metadata": {},
   "outputs": [],
   "source": [
    "def boxplot_temp_co2():\n",
    "    fig, ax = plt.subplots(1,2, figsize=(12,3))\n",
    "    p1 = sns.boxplot(temperature_switzerland['float_reading'], ax=ax[0])\n",
    "    p1.set_title('Temperature Readings Switzerland from {} to {}'.format(temperature_switzerland.index[0].year, temperature_switzerland.index[-1].year))\n",
    "    p1.set_xlabel('Temperature in C°')\n",
    "    \n",
    "    p2 = sns.boxplot(co2_switzerland['float_reading'], ax=ax[1])\n",
    "    p2.set_title('CO2 Readings Switzerland from {} to {}'.format(co2_switzerland.index[0].year, co2_switzerland.index[-1].year))\n",
    "    p2.set_xlabel('CO2')\n",
    "    plt.show()\n",
    "    \n",
    "boxplot_temp_co2()\n",
    "\n",
    "def distribution_temp_co2():\n",
    "\n",
    "    fig, ax = plt.subplots(1,2, figsize=(12,3))\n",
    "    p1 = sns.distplot(temperature_switzerland['float_reading'], bins=int(np.sqrt(temperature_switzerland.shape[0])), ax=ax[0])\n",
    "    p1.set_title('Temperature Readings Switzerland from {} to {}'.format(temperature_switzerland.index[0].year, temperature_switzerland.index[-1].year))\n",
    "    p1.set_xlabel('Temperature in C°')\n",
    "    \n",
    "    p2 = sns.distplot(co2_switzerland['float_reading'], bins=int(np.sqrt(co2_switzerland.shape[0])), ax=ax[1])\n",
    "    p2.set_title('CO2 Readings Switzerland from {} to {}'.format(co2_switzerland.index[0].year, co2_switzerland.index[-1].year))\n",
    "    p2.set_xlabel('CO2')\n",
    "    plt.show()\n",
    "\n",
    "distribution_temp_co2()"
   ]
  },
  {
   "cell_type": "markdown",
   "metadata": {},
   "source": [
    "Calculation of the Pearson correlation between the two variables of all data available. For the same timestamp I resampled the temperature from one month to one year and took the mean of it, because of the fact we don't have massive outliers in our dataframe."
   ]
  },
  {
   "cell_type": "markdown",
   "metadata": {},
   "source": [
    "## Pearson Correlation "
   ]
  },
  {
   "cell_type": "code",
   "execution_count": null,
   "metadata": {
    "scrolled": true
   },
   "outputs": [],
   "source": [
    "def temp_co2_correlation():\n",
    "    temp_from_1960_yearly = temperature_switzerland.loc[temperature_switzerland.index > pd.to_datetime('1960-01-01')]['float_reading']\n",
    "    temp_from_1960_yearly.index = pd.to_datetime(temp_from_1960_yearly.index)\n",
    "\n",
    "    temp_from_1960_yearly = temp_from_1960_yearly.resample('Y').mean()\n",
    "    temp_from_1960_yearly.tail()\n",
    "    \n",
    "    co2_from_1960_yearly = co2_switzerland.loc[:'2013-01-01']['float_reading']\n",
    "\n",
    "    corr_df = pd.concat([co2_from_1960_yearly, temp_from_1960_yearly], axis=1).resample('Y').median()\n",
    "    corr_df.columns = ['CO2', 'Temperature']\n",
    "    \n",
    "    plot = sns.heatmap(corr_df.corr(), annot=True)\n",
    "    plot.set_title('Correlation Heat Map CO2/Temperaturefrom {} to {}'.format(corr_df.index[0].year, corr_df.index[-1].year))\n",
    "    plt.show()\n",
    "\n",
    "temp_co2_correlation()"
   ]
  },
  {
   "cell_type": "markdown",
   "metadata": {},
   "source": [
    "As we can see we have a medium negative correlation which probably is the effect on the upturn of the CO2 trendline at 1990. To have better measure I only take the timeframe from 1990 up to highest available data."
   ]
  },
  {
   "cell_type": "code",
   "execution_count": null,
   "metadata": {},
   "outputs": [],
   "source": [
    "def temp_co2_correlation():\n",
    "    temp = temperature_switzerland.loc[temperature_switzerland.index > pd.to_datetime('1995-01-01')]['float_reading']\n",
    "    temp.index = pd.to_datetime(temp.index)\n",
    "\n",
    "    temp = temp.resample('Y').mean()\n",
    "    \n",
    "    co2 = co2_switzerland.loc[temp.index[0]:temp.index[-1]]['float_reading']\n",
    "    \n",
    "    corr_df = pd.concat([co2, temp], axis=1).resample('Y').median()\n",
    "    corr_df.columns = ['CO2', 'Temperature']\n",
    "        \n",
    "    plot = sns.heatmap(corr_df.corr(), annot=True)\n",
    "    plot.set_title('Correlation Heat Map CO2/Temperaturefrom {} to {}'.format(corr_df.index[0].year, corr_df.index[-1].year))\n",
    "    plt.show()\n",
    "\n",
    "temp_co2_correlation()"
   ]
  },
  {
   "cell_type": "markdown",
   "metadata": {},
   "source": [
    "## Cross -and Autocorrelation"
   ]
  },
  {
   "cell_type": "code",
   "execution_count": null,
   "metadata": {},
   "outputs": [],
   "source": [
    "def autocorr():\n",
    "    \n",
    "    temp =  temperature_switzerland.loc[:, ['float_reading']]\n",
    "    plt.acorr(temp['float_reading'])\n",
    "    plt.show()\n",
    "    \n",
    "    temp = temp.resample('Y').mean()\n",
    "    plt.acorr(temp['float_reading'])\n",
    "    plt.show()\n",
    "\n",
    "        \n",
    "    \n",
    "    \n",
    "    \n",
    "    \n",
    "autocorr()"
   ]
  },
  {
   "cell_type": "markdown",
   "metadata": {},
   "source": [
    "# Analysis New Snow"
   ]
  },
  {
   "cell_type": "code",
   "execution_count": null,
   "metadata": {},
   "outputs": [],
   "source": [
    "switzerland_newsnow.head()"
   ]
  },
  {
   "cell_type": "code",
   "execution_count": null,
   "metadata": {},
   "outputs": [],
   "source": [
    "def plot_line_newsnow(data):\n",
    "     \n",
    "    plot = px.line(data, x=data.index, y='new_snow', color=\"region\")\n",
    "    return plot\n",
    "    \n",
    "    \n",
    "plot_line_newsnow(switzerland_newsnow)"
   ]
  },
  {
   "cell_type": "markdown",
   "metadata": {},
   "source": [
    "# Analysis with .CSV data"
   ]
  },
  {
   "cell_type": "markdown",
   "metadata": {},
   "source": [
    "## Read Data"
   ]
  },
  {
   "cell_type": "code",
   "execution_count": 255,
   "metadata": {
    "scrolled": true
   },
   "outputs": [],
   "source": [
    "swiss_data = pd.read_excel('data_collectionklimadaten_swiss_open_data.xlsx', \n",
    "                           header=5, index_col=0 ).dropna().iloc[1:]\n",
    "\n",
    "co2_data = pd.read_csv('co2.csv', index_col=1).drop(['Unnamed: 0'], axis=1)\n",
    "co2_data.index = pd.to_datetime(co2_data.index)\n",
    "\n",
    "temp_data = pd.read_csv('temperature_global.csv', index_col=1).drop(['Unnamed: 0'], axis=1)\n",
    "temp_data.index = pd.to_datetime(temp_data.index)"
   ]
  },
  {
   "cell_type": "markdown",
   "metadata": {},
   "source": [
    "##  CO2  "
   ]
  },
  {
   "cell_type": "markdown",
   "metadata": {},
   "source": [
    "### Overall Sum of each country"
   ]
  },
  {
   "cell_type": "code",
   "execution_count": 32,
   "metadata": {},
   "outputs": [
    {
     "data": {
      "application/vnd.plotly.v1+json": {
       "config": {
        "plotlyServerURL": "https://plot.ly"
       },
       "data": [
        {
         "hovertemplate": "Years=%{x}<br>CO2=%{y}<extra></extra>",
         "legendgroup": "",
         "line": {
          "color": "#636efa",
          "dash": "solid"
         },
         "mode": "lines",
         "name": "",
         "showlegend": false,
         "type": "scatter",
         "x": [
          "1960-12-31T00:00:00",
          "1961-12-31T00:00:00",
          "1962-12-31T00:00:00",
          "1963-12-31T00:00:00",
          "1964-12-31T00:00:00",
          "1965-12-31T00:00:00",
          "1966-12-31T00:00:00",
          "1967-12-31T00:00:00",
          "1968-12-31T00:00:00",
          "1969-12-31T00:00:00",
          "1970-12-31T00:00:00",
          "1971-12-31T00:00:00",
          "1972-12-31T00:00:00",
          "1973-12-31T00:00:00",
          "1974-12-31T00:00:00",
          "1975-12-31T00:00:00",
          "1976-12-31T00:00:00",
          "1977-12-31T00:00:00",
          "1978-12-31T00:00:00",
          "1979-12-31T00:00:00",
          "1980-12-31T00:00:00",
          "1981-12-31T00:00:00",
          "1982-12-31T00:00:00",
          "1983-12-31T00:00:00",
          "1984-12-31T00:00:00",
          "1985-12-31T00:00:00",
          "1986-12-31T00:00:00",
          "1987-12-31T00:00:00",
          "1988-12-31T00:00:00",
          "1989-12-31T00:00:00",
          "1990-12-31T00:00:00",
          "1991-12-31T00:00:00",
          "1992-12-31T00:00:00",
          "1993-12-31T00:00:00",
          "1994-12-31T00:00:00",
          "1995-12-31T00:00:00",
          "1996-12-31T00:00:00",
          "1997-12-31T00:00:00",
          "1998-12-31T00:00:00",
          "1999-12-31T00:00:00",
          "2000-12-31T00:00:00",
          "2001-12-31T00:00:00",
          "2002-12-31T00:00:00",
          "2003-12-31T00:00:00",
          "2004-12-31T00:00:00",
          "2005-12-31T00:00:00",
          "2006-12-31T00:00:00",
          "2007-12-31T00:00:00",
          "2008-12-31T00:00:00",
          "2009-12-31T00:00:00",
          "2010-12-31T00:00:00",
          "2011-12-31T00:00:00",
          "2012-12-31T00:00:00",
          "2013-12-31T00:00:00",
          "2014-12-31T00:00:00",
          "2015-12-31T00:00:00",
          "2016-12-31T00:00:00",
          "2017-12-31T00:00:00",
          "2018-12-31T00:00:00"
         ],
         "xaxis": "x",
         "y": [
          9098.593158000003,
          9095.446996000002,
          9418.056662000005,
          9954.694905999999,
          10460.605934999998,
          10950.738237000001,
          11448.85063,
          11801.215999999999,
          12444.489669999999,
          13280.892696999997,
          14382.387003000003,
          14956.689162000002,
          15635.271134000006,
          16467.396227000005,
          16432.612602,
          16453.804384000003,
          17359.788793999996,
          17838.524404000003,
          18500.109813000006,
          19006.166484,
          18925.810636000006,
          18438.570325999994,
          18337.325253999996,
          18528.795955999998,
          19076.796994,
          19761.090208000005,
          20023.831176,
          20550.258294000003,
          21337.55217800001,
          21648.291461999997,
          22141.71155200001,
          22156.615936999995,
          21903.901458,
          22145.003157999996,
          22282.924484000014,
          22742.894562,
          23417.161874000005,
          23519.55057999999,
          23389.808977000008,
          23672.391667,
          24358.697960000016,
          24574.738844000003,
          25111.10262200001,
          26324.636106000013,
          27525.693014000004,
          28446.024964000007,
          29366.012760000012,
          30211.545965999998,
          30903.102106,
          30487.38596800001,
          32042.237514000022,
          33129.69536800001,
          33663.56836800001,
          33812.17641000003,
          34063.619592000025,
          34035.52012400001,
          34127.802106,
          34537.60117519998,
          35284.291342699995
         ],
         "yaxis": "y"
        }
       ],
       "layout": {
        "legend": {
         "tracegroupgap": 0
        },
        "template": {
         "data": {
          "bar": [
           {
            "error_x": {
             "color": "#2a3f5f"
            },
            "error_y": {
             "color": "#2a3f5f"
            },
            "marker": {
             "line": {
              "color": "#E5ECF6",
              "width": 0.5
             }
            },
            "type": "bar"
           }
          ],
          "barpolar": [
           {
            "marker": {
             "line": {
              "color": "#E5ECF6",
              "width": 0.5
             }
            },
            "type": "barpolar"
           }
          ],
          "carpet": [
           {
            "aaxis": {
             "endlinecolor": "#2a3f5f",
             "gridcolor": "white",
             "linecolor": "white",
             "minorgridcolor": "white",
             "startlinecolor": "#2a3f5f"
            },
            "baxis": {
             "endlinecolor": "#2a3f5f",
             "gridcolor": "white",
             "linecolor": "white",
             "minorgridcolor": "white",
             "startlinecolor": "#2a3f5f"
            },
            "type": "carpet"
           }
          ],
          "choropleth": [
           {
            "colorbar": {
             "outlinewidth": 0,
             "ticks": ""
            },
            "type": "choropleth"
           }
          ],
          "contour": [
           {
            "colorbar": {
             "outlinewidth": 0,
             "ticks": ""
            },
            "colorscale": [
             [
              0,
              "#0d0887"
             ],
             [
              0.1111111111111111,
              "#46039f"
             ],
             [
              0.2222222222222222,
              "#7201a8"
             ],
             [
              0.3333333333333333,
              "#9c179e"
             ],
             [
              0.4444444444444444,
              "#bd3786"
             ],
             [
              0.5555555555555556,
              "#d8576b"
             ],
             [
              0.6666666666666666,
              "#ed7953"
             ],
             [
              0.7777777777777778,
              "#fb9f3a"
             ],
             [
              0.8888888888888888,
              "#fdca26"
             ],
             [
              1,
              "#f0f921"
             ]
            ],
            "type": "contour"
           }
          ],
          "contourcarpet": [
           {
            "colorbar": {
             "outlinewidth": 0,
             "ticks": ""
            },
            "type": "contourcarpet"
           }
          ],
          "heatmap": [
           {
            "colorbar": {
             "outlinewidth": 0,
             "ticks": ""
            },
            "colorscale": [
             [
              0,
              "#0d0887"
             ],
             [
              0.1111111111111111,
              "#46039f"
             ],
             [
              0.2222222222222222,
              "#7201a8"
             ],
             [
              0.3333333333333333,
              "#9c179e"
             ],
             [
              0.4444444444444444,
              "#bd3786"
             ],
             [
              0.5555555555555556,
              "#d8576b"
             ],
             [
              0.6666666666666666,
              "#ed7953"
             ],
             [
              0.7777777777777778,
              "#fb9f3a"
             ],
             [
              0.8888888888888888,
              "#fdca26"
             ],
             [
              1,
              "#f0f921"
             ]
            ],
            "type": "heatmap"
           }
          ],
          "heatmapgl": [
           {
            "colorbar": {
             "outlinewidth": 0,
             "ticks": ""
            },
            "colorscale": [
             [
              0,
              "#0d0887"
             ],
             [
              0.1111111111111111,
              "#46039f"
             ],
             [
              0.2222222222222222,
              "#7201a8"
             ],
             [
              0.3333333333333333,
              "#9c179e"
             ],
             [
              0.4444444444444444,
              "#bd3786"
             ],
             [
              0.5555555555555556,
              "#d8576b"
             ],
             [
              0.6666666666666666,
              "#ed7953"
             ],
             [
              0.7777777777777778,
              "#fb9f3a"
             ],
             [
              0.8888888888888888,
              "#fdca26"
             ],
             [
              1,
              "#f0f921"
             ]
            ],
            "type": "heatmapgl"
           }
          ],
          "histogram": [
           {
            "marker": {
             "colorbar": {
              "outlinewidth": 0,
              "ticks": ""
             }
            },
            "type": "histogram"
           }
          ],
          "histogram2d": [
           {
            "colorbar": {
             "outlinewidth": 0,
             "ticks": ""
            },
            "colorscale": [
             [
              0,
              "#0d0887"
             ],
             [
              0.1111111111111111,
              "#46039f"
             ],
             [
              0.2222222222222222,
              "#7201a8"
             ],
             [
              0.3333333333333333,
              "#9c179e"
             ],
             [
              0.4444444444444444,
              "#bd3786"
             ],
             [
              0.5555555555555556,
              "#d8576b"
             ],
             [
              0.6666666666666666,
              "#ed7953"
             ],
             [
              0.7777777777777778,
              "#fb9f3a"
             ],
             [
              0.8888888888888888,
              "#fdca26"
             ],
             [
              1,
              "#f0f921"
             ]
            ],
            "type": "histogram2d"
           }
          ],
          "histogram2dcontour": [
           {
            "colorbar": {
             "outlinewidth": 0,
             "ticks": ""
            },
            "colorscale": [
             [
              0,
              "#0d0887"
             ],
             [
              0.1111111111111111,
              "#46039f"
             ],
             [
              0.2222222222222222,
              "#7201a8"
             ],
             [
              0.3333333333333333,
              "#9c179e"
             ],
             [
              0.4444444444444444,
              "#bd3786"
             ],
             [
              0.5555555555555556,
              "#d8576b"
             ],
             [
              0.6666666666666666,
              "#ed7953"
             ],
             [
              0.7777777777777778,
              "#fb9f3a"
             ],
             [
              0.8888888888888888,
              "#fdca26"
             ],
             [
              1,
              "#f0f921"
             ]
            ],
            "type": "histogram2dcontour"
           }
          ],
          "mesh3d": [
           {
            "colorbar": {
             "outlinewidth": 0,
             "ticks": ""
            },
            "type": "mesh3d"
           }
          ],
          "parcoords": [
           {
            "line": {
             "colorbar": {
              "outlinewidth": 0,
              "ticks": ""
             }
            },
            "type": "parcoords"
           }
          ],
          "pie": [
           {
            "automargin": true,
            "type": "pie"
           }
          ],
          "scatter": [
           {
            "marker": {
             "colorbar": {
              "outlinewidth": 0,
              "ticks": ""
             }
            },
            "type": "scatter"
           }
          ],
          "scatter3d": [
           {
            "line": {
             "colorbar": {
              "outlinewidth": 0,
              "ticks": ""
             }
            },
            "marker": {
             "colorbar": {
              "outlinewidth": 0,
              "ticks": ""
             }
            },
            "type": "scatter3d"
           }
          ],
          "scattercarpet": [
           {
            "marker": {
             "colorbar": {
              "outlinewidth": 0,
              "ticks": ""
             }
            },
            "type": "scattercarpet"
           }
          ],
          "scattergeo": [
           {
            "marker": {
             "colorbar": {
              "outlinewidth": 0,
              "ticks": ""
             }
            },
            "type": "scattergeo"
           }
          ],
          "scattergl": [
           {
            "marker": {
             "colorbar": {
              "outlinewidth": 0,
              "ticks": ""
             }
            },
            "type": "scattergl"
           }
          ],
          "scattermapbox": [
           {
            "marker": {
             "colorbar": {
              "outlinewidth": 0,
              "ticks": ""
             }
            },
            "type": "scattermapbox"
           }
          ],
          "scatterpolar": [
           {
            "marker": {
             "colorbar": {
              "outlinewidth": 0,
              "ticks": ""
             }
            },
            "type": "scatterpolar"
           }
          ],
          "scatterpolargl": [
           {
            "marker": {
             "colorbar": {
              "outlinewidth": 0,
              "ticks": ""
             }
            },
            "type": "scatterpolargl"
           }
          ],
          "scatterternary": [
           {
            "marker": {
             "colorbar": {
              "outlinewidth": 0,
              "ticks": ""
             }
            },
            "type": "scatterternary"
           }
          ],
          "surface": [
           {
            "colorbar": {
             "outlinewidth": 0,
             "ticks": ""
            },
            "colorscale": [
             [
              0,
              "#0d0887"
             ],
             [
              0.1111111111111111,
              "#46039f"
             ],
             [
              0.2222222222222222,
              "#7201a8"
             ],
             [
              0.3333333333333333,
              "#9c179e"
             ],
             [
              0.4444444444444444,
              "#bd3786"
             ],
             [
              0.5555555555555556,
              "#d8576b"
             ],
             [
              0.6666666666666666,
              "#ed7953"
             ],
             [
              0.7777777777777778,
              "#fb9f3a"
             ],
             [
              0.8888888888888888,
              "#fdca26"
             ],
             [
              1,
              "#f0f921"
             ]
            ],
            "type": "surface"
           }
          ],
          "table": [
           {
            "cells": {
             "fill": {
              "color": "#EBF0F8"
             },
             "line": {
              "color": "white"
             }
            },
            "header": {
             "fill": {
              "color": "#C8D4E3"
             },
             "line": {
              "color": "white"
             }
            },
            "type": "table"
           }
          ]
         },
         "layout": {
          "annotationdefaults": {
           "arrowcolor": "#2a3f5f",
           "arrowhead": 0,
           "arrowwidth": 1
          },
          "coloraxis": {
           "colorbar": {
            "outlinewidth": 0,
            "ticks": ""
           }
          },
          "colorscale": {
           "diverging": [
            [
             0,
             "#8e0152"
            ],
            [
             0.1,
             "#c51b7d"
            ],
            [
             0.2,
             "#de77ae"
            ],
            [
             0.3,
             "#f1b6da"
            ],
            [
             0.4,
             "#fde0ef"
            ],
            [
             0.5,
             "#f7f7f7"
            ],
            [
             0.6,
             "#e6f5d0"
            ],
            [
             0.7,
             "#b8e186"
            ],
            [
             0.8,
             "#7fbc41"
            ],
            [
             0.9,
             "#4d9221"
            ],
            [
             1,
             "#276419"
            ]
           ],
           "sequential": [
            [
             0,
             "#0d0887"
            ],
            [
             0.1111111111111111,
             "#46039f"
            ],
            [
             0.2222222222222222,
             "#7201a8"
            ],
            [
             0.3333333333333333,
             "#9c179e"
            ],
            [
             0.4444444444444444,
             "#bd3786"
            ],
            [
             0.5555555555555556,
             "#d8576b"
            ],
            [
             0.6666666666666666,
             "#ed7953"
            ],
            [
             0.7777777777777778,
             "#fb9f3a"
            ],
            [
             0.8888888888888888,
             "#fdca26"
            ],
            [
             1,
             "#f0f921"
            ]
           ],
           "sequentialminus": [
            [
             0,
             "#0d0887"
            ],
            [
             0.1111111111111111,
             "#46039f"
            ],
            [
             0.2222222222222222,
             "#7201a8"
            ],
            [
             0.3333333333333333,
             "#9c179e"
            ],
            [
             0.4444444444444444,
             "#bd3786"
            ],
            [
             0.5555555555555556,
             "#d8576b"
            ],
            [
             0.6666666666666666,
             "#ed7953"
            ],
            [
             0.7777777777777778,
             "#fb9f3a"
            ],
            [
             0.8888888888888888,
             "#fdca26"
            ],
            [
             1,
             "#f0f921"
            ]
           ]
          },
          "colorway": [
           "#636efa",
           "#EF553B",
           "#00cc96",
           "#ab63fa",
           "#FFA15A",
           "#19d3f3",
           "#FF6692",
           "#B6E880",
           "#FF97FF",
           "#FECB52"
          ],
          "font": {
           "color": "#2a3f5f"
          },
          "geo": {
           "bgcolor": "white",
           "lakecolor": "white",
           "landcolor": "#E5ECF6",
           "showlakes": true,
           "showland": true,
           "subunitcolor": "white"
          },
          "hoverlabel": {
           "align": "left"
          },
          "hovermode": "closest",
          "mapbox": {
           "style": "light"
          },
          "paper_bgcolor": "white",
          "plot_bgcolor": "#E5ECF6",
          "polar": {
           "angularaxis": {
            "gridcolor": "white",
            "linecolor": "white",
            "ticks": ""
           },
           "bgcolor": "#E5ECF6",
           "radialaxis": {
            "gridcolor": "white",
            "linecolor": "white",
            "ticks": ""
           }
          },
          "scene": {
           "xaxis": {
            "backgroundcolor": "#E5ECF6",
            "gridcolor": "white",
            "gridwidth": 2,
            "linecolor": "white",
            "showbackground": true,
            "ticks": "",
            "zerolinecolor": "white"
           },
           "yaxis": {
            "backgroundcolor": "#E5ECF6",
            "gridcolor": "white",
            "gridwidth": 2,
            "linecolor": "white",
            "showbackground": true,
            "ticks": "",
            "zerolinecolor": "white"
           },
           "zaxis": {
            "backgroundcolor": "#E5ECF6",
            "gridcolor": "white",
            "gridwidth": 2,
            "linecolor": "white",
            "showbackground": true,
            "ticks": "",
            "zerolinecolor": "white"
           }
          },
          "shapedefaults": {
           "line": {
            "color": "#2a3f5f"
           }
          },
          "ternary": {
           "aaxis": {
            "gridcolor": "white",
            "linecolor": "white",
            "ticks": ""
           },
           "baxis": {
            "gridcolor": "white",
            "linecolor": "white",
            "ticks": ""
           },
           "bgcolor": "#E5ECF6",
           "caxis": {
            "gridcolor": "white",
            "linecolor": "white",
            "ticks": ""
           }
          },
          "title": {
           "x": 0.05
          },
          "xaxis": {
           "automargin": true,
           "gridcolor": "white",
           "linecolor": "white",
           "ticks": "",
           "title": {
            "standoff": 15
           },
           "zerolinecolor": "white",
           "zerolinewidth": 2
          },
          "yaxis": {
           "automargin": true,
           "gridcolor": "white",
           "linecolor": "white",
           "ticks": "",
           "title": {
            "standoff": 15
           },
           "zerolinecolor": "white",
           "zerolinewidth": 2
          }
         }
        },
        "title": {
         "text": "Continental yearly CO2 Increase"
        },
        "xaxis": {
         "anchor": "y",
         "domain": [
          0,
          1
         ],
         "title": {
          "text": "Years"
         }
        },
        "yaxis": {
         "anchor": "x",
         "domain": [
          0,
          1
         ],
         "title": {
          "text": "CO2"
         }
        }
       }
      },
      "text/html": [
       "<div>\n",
       "        \n",
       "        \n",
       "            <div id=\"006ffbfb-b77c-482a-830e-be0dd2ae0b53\" class=\"plotly-graph-div\" style=\"height:525px; width:100%;\"></div>\n",
       "            <script type=\"text/javascript\">\n",
       "                require([\"plotly\"], function(Plotly) {\n",
       "                    window.PLOTLYENV=window.PLOTLYENV || {};\n",
       "                    \n",
       "                if (document.getElementById(\"006ffbfb-b77c-482a-830e-be0dd2ae0b53\")) {\n",
       "                    Plotly.newPlot(\n",
       "                        '006ffbfb-b77c-482a-830e-be0dd2ae0b53',\n",
       "                        [{\"hovertemplate\": \"Years=%{x}<br>CO2=%{y}<extra></extra>\", \"legendgroup\": \"\", \"line\": {\"color\": \"#636efa\", \"dash\": \"solid\"}, \"mode\": \"lines\", \"name\": \"\", \"showlegend\": false, \"type\": \"scatter\", \"x\": [\"1960-12-31T00:00:00\", \"1961-12-31T00:00:00\", \"1962-12-31T00:00:00\", \"1963-12-31T00:00:00\", \"1964-12-31T00:00:00\", \"1965-12-31T00:00:00\", \"1966-12-31T00:00:00\", \"1967-12-31T00:00:00\", \"1968-12-31T00:00:00\", \"1969-12-31T00:00:00\", \"1970-12-31T00:00:00\", \"1971-12-31T00:00:00\", \"1972-12-31T00:00:00\", \"1973-12-31T00:00:00\", \"1974-12-31T00:00:00\", \"1975-12-31T00:00:00\", \"1976-12-31T00:00:00\", \"1977-12-31T00:00:00\", \"1978-12-31T00:00:00\", \"1979-12-31T00:00:00\", \"1980-12-31T00:00:00\", \"1981-12-31T00:00:00\", \"1982-12-31T00:00:00\", \"1983-12-31T00:00:00\", \"1984-12-31T00:00:00\", \"1985-12-31T00:00:00\", \"1986-12-31T00:00:00\", \"1987-12-31T00:00:00\", \"1988-12-31T00:00:00\", \"1989-12-31T00:00:00\", \"1990-12-31T00:00:00\", \"1991-12-31T00:00:00\", \"1992-12-31T00:00:00\", \"1993-12-31T00:00:00\", \"1994-12-31T00:00:00\", \"1995-12-31T00:00:00\", \"1996-12-31T00:00:00\", \"1997-12-31T00:00:00\", \"1998-12-31T00:00:00\", \"1999-12-31T00:00:00\", \"2000-12-31T00:00:00\", \"2001-12-31T00:00:00\", \"2002-12-31T00:00:00\", \"2003-12-31T00:00:00\", \"2004-12-31T00:00:00\", \"2005-12-31T00:00:00\", \"2006-12-31T00:00:00\", \"2007-12-31T00:00:00\", \"2008-12-31T00:00:00\", \"2009-12-31T00:00:00\", \"2010-12-31T00:00:00\", \"2011-12-31T00:00:00\", \"2012-12-31T00:00:00\", \"2013-12-31T00:00:00\", \"2014-12-31T00:00:00\", \"2015-12-31T00:00:00\", \"2016-12-31T00:00:00\", \"2017-12-31T00:00:00\", \"2018-12-31T00:00:00\"], \"xaxis\": \"x\", \"y\": [9098.593158000003, 9095.446996000002, 9418.056662000005, 9954.694905999999, 10460.605934999998, 10950.738237000001, 11448.85063, 11801.215999999999, 12444.489669999999, 13280.892696999997, 14382.387003000003, 14956.689162000002, 15635.271134000006, 16467.396227000005, 16432.612602, 16453.804384000003, 17359.788793999996, 17838.524404000003, 18500.109813000006, 19006.166484, 18925.810636000006, 18438.570325999994, 18337.325253999996, 18528.795955999998, 19076.796994, 19761.090208000005, 20023.831176, 20550.258294000003, 21337.55217800001, 21648.291461999997, 22141.71155200001, 22156.615936999995, 21903.901458, 22145.003157999996, 22282.924484000014, 22742.894562, 23417.161874000005, 23519.55057999999, 23389.808977000008, 23672.391667, 24358.697960000016, 24574.738844000003, 25111.10262200001, 26324.636106000013, 27525.693014000004, 28446.024964000007, 29366.012760000012, 30211.545965999998, 30903.102106, 30487.38596800001, 32042.237514000022, 33129.69536800001, 33663.56836800001, 33812.17641000003, 34063.619592000025, 34035.52012400001, 34127.802106, 34537.60117519998, 35284.291342699995], \"yaxis\": \"y\"}],\n",
       "                        {\"legend\": {\"tracegroupgap\": 0}, \"template\": {\"data\": {\"bar\": [{\"error_x\": {\"color\": \"#2a3f5f\"}, \"error_y\": {\"color\": \"#2a3f5f\"}, \"marker\": {\"line\": {\"color\": \"#E5ECF6\", \"width\": 0.5}}, \"type\": \"bar\"}], \"barpolar\": [{\"marker\": {\"line\": {\"color\": \"#E5ECF6\", \"width\": 0.5}}, \"type\": \"barpolar\"}], \"carpet\": [{\"aaxis\": {\"endlinecolor\": \"#2a3f5f\", \"gridcolor\": \"white\", \"linecolor\": \"white\", \"minorgridcolor\": \"white\", \"startlinecolor\": \"#2a3f5f\"}, \"baxis\": {\"endlinecolor\": \"#2a3f5f\", \"gridcolor\": \"white\", \"linecolor\": \"white\", \"minorgridcolor\": \"white\", \"startlinecolor\": \"#2a3f5f\"}, \"type\": \"carpet\"}], \"choropleth\": [{\"colorbar\": {\"outlinewidth\": 0, \"ticks\": \"\"}, \"type\": \"choropleth\"}], \"contour\": [{\"colorbar\": {\"outlinewidth\": 0, \"ticks\": \"\"}, \"colorscale\": [[0.0, \"#0d0887\"], [0.1111111111111111, \"#46039f\"], [0.2222222222222222, \"#7201a8\"], [0.3333333333333333, \"#9c179e\"], [0.4444444444444444, \"#bd3786\"], [0.5555555555555556, \"#d8576b\"], [0.6666666666666666, \"#ed7953\"], [0.7777777777777778, \"#fb9f3a\"], [0.8888888888888888, \"#fdca26\"], [1.0, \"#f0f921\"]], \"type\": \"contour\"}], \"contourcarpet\": [{\"colorbar\": {\"outlinewidth\": 0, \"ticks\": \"\"}, \"type\": \"contourcarpet\"}], \"heatmap\": [{\"colorbar\": {\"outlinewidth\": 0, \"ticks\": \"\"}, \"colorscale\": [[0.0, \"#0d0887\"], [0.1111111111111111, \"#46039f\"], [0.2222222222222222, \"#7201a8\"], [0.3333333333333333, \"#9c179e\"], [0.4444444444444444, \"#bd3786\"], [0.5555555555555556, \"#d8576b\"], [0.6666666666666666, \"#ed7953\"], [0.7777777777777778, \"#fb9f3a\"], [0.8888888888888888, \"#fdca26\"], [1.0, \"#f0f921\"]], \"type\": \"heatmap\"}], \"heatmapgl\": [{\"colorbar\": {\"outlinewidth\": 0, \"ticks\": \"\"}, \"colorscale\": [[0.0, \"#0d0887\"], [0.1111111111111111, \"#46039f\"], [0.2222222222222222, \"#7201a8\"], [0.3333333333333333, \"#9c179e\"], [0.4444444444444444, \"#bd3786\"], [0.5555555555555556, \"#d8576b\"], [0.6666666666666666, \"#ed7953\"], [0.7777777777777778, \"#fb9f3a\"], [0.8888888888888888, \"#fdca26\"], [1.0, \"#f0f921\"]], \"type\": \"heatmapgl\"}], \"histogram\": [{\"marker\": {\"colorbar\": {\"outlinewidth\": 0, \"ticks\": \"\"}}, \"type\": \"histogram\"}], \"histogram2d\": [{\"colorbar\": {\"outlinewidth\": 0, \"ticks\": \"\"}, \"colorscale\": [[0.0, \"#0d0887\"], [0.1111111111111111, \"#46039f\"], [0.2222222222222222, \"#7201a8\"], [0.3333333333333333, \"#9c179e\"], [0.4444444444444444, \"#bd3786\"], [0.5555555555555556, \"#d8576b\"], [0.6666666666666666, \"#ed7953\"], [0.7777777777777778, \"#fb9f3a\"], [0.8888888888888888, \"#fdca26\"], [1.0, \"#f0f921\"]], \"type\": \"histogram2d\"}], \"histogram2dcontour\": [{\"colorbar\": {\"outlinewidth\": 0, \"ticks\": \"\"}, \"colorscale\": [[0.0, \"#0d0887\"], [0.1111111111111111, \"#46039f\"], [0.2222222222222222, \"#7201a8\"], [0.3333333333333333, \"#9c179e\"], [0.4444444444444444, \"#bd3786\"], [0.5555555555555556, \"#d8576b\"], [0.6666666666666666, \"#ed7953\"], [0.7777777777777778, \"#fb9f3a\"], [0.8888888888888888, \"#fdca26\"], [1.0, \"#f0f921\"]], \"type\": \"histogram2dcontour\"}], \"mesh3d\": [{\"colorbar\": {\"outlinewidth\": 0, \"ticks\": \"\"}, \"type\": \"mesh3d\"}], \"parcoords\": [{\"line\": {\"colorbar\": {\"outlinewidth\": 0, \"ticks\": \"\"}}, \"type\": \"parcoords\"}], \"pie\": [{\"automargin\": true, \"type\": \"pie\"}], \"scatter\": [{\"marker\": {\"colorbar\": {\"outlinewidth\": 0, \"ticks\": \"\"}}, \"type\": \"scatter\"}], \"scatter3d\": [{\"line\": {\"colorbar\": {\"outlinewidth\": 0, \"ticks\": \"\"}}, \"marker\": {\"colorbar\": {\"outlinewidth\": 0, \"ticks\": \"\"}}, \"type\": \"scatter3d\"}], \"scattercarpet\": [{\"marker\": {\"colorbar\": {\"outlinewidth\": 0, \"ticks\": \"\"}}, \"type\": \"scattercarpet\"}], \"scattergeo\": [{\"marker\": {\"colorbar\": {\"outlinewidth\": 0, \"ticks\": \"\"}}, \"type\": \"scattergeo\"}], \"scattergl\": [{\"marker\": {\"colorbar\": {\"outlinewidth\": 0, \"ticks\": \"\"}}, \"type\": \"scattergl\"}], \"scattermapbox\": [{\"marker\": {\"colorbar\": {\"outlinewidth\": 0, \"ticks\": \"\"}}, \"type\": \"scattermapbox\"}], \"scatterpolar\": [{\"marker\": {\"colorbar\": {\"outlinewidth\": 0, \"ticks\": \"\"}}, \"type\": \"scatterpolar\"}], \"scatterpolargl\": [{\"marker\": {\"colorbar\": {\"outlinewidth\": 0, \"ticks\": \"\"}}, \"type\": \"scatterpolargl\"}], \"scatterternary\": [{\"marker\": {\"colorbar\": {\"outlinewidth\": 0, \"ticks\": \"\"}}, \"type\": \"scatterternary\"}], \"surface\": [{\"colorbar\": {\"outlinewidth\": 0, \"ticks\": \"\"}, \"colorscale\": [[0.0, \"#0d0887\"], [0.1111111111111111, \"#46039f\"], [0.2222222222222222, \"#7201a8\"], [0.3333333333333333, \"#9c179e\"], [0.4444444444444444, \"#bd3786\"], [0.5555555555555556, \"#d8576b\"], [0.6666666666666666, \"#ed7953\"], [0.7777777777777778, \"#fb9f3a\"], [0.8888888888888888, \"#fdca26\"], [1.0, \"#f0f921\"]], \"type\": \"surface\"}], \"table\": [{\"cells\": {\"fill\": {\"color\": \"#EBF0F8\"}, \"line\": {\"color\": \"white\"}}, \"header\": {\"fill\": {\"color\": \"#C8D4E3\"}, \"line\": {\"color\": \"white\"}}, \"type\": \"table\"}]}, \"layout\": {\"annotationdefaults\": {\"arrowcolor\": \"#2a3f5f\", \"arrowhead\": 0, \"arrowwidth\": 1}, \"coloraxis\": {\"colorbar\": {\"outlinewidth\": 0, \"ticks\": \"\"}}, \"colorscale\": {\"diverging\": [[0, \"#8e0152\"], [0.1, \"#c51b7d\"], [0.2, \"#de77ae\"], [0.3, \"#f1b6da\"], [0.4, \"#fde0ef\"], [0.5, \"#f7f7f7\"], [0.6, \"#e6f5d0\"], [0.7, \"#b8e186\"], [0.8, \"#7fbc41\"], [0.9, \"#4d9221\"], [1, \"#276419\"]], \"sequential\": [[0.0, \"#0d0887\"], [0.1111111111111111, \"#46039f\"], [0.2222222222222222, \"#7201a8\"], [0.3333333333333333, \"#9c179e\"], [0.4444444444444444, \"#bd3786\"], [0.5555555555555556, \"#d8576b\"], [0.6666666666666666, \"#ed7953\"], [0.7777777777777778, \"#fb9f3a\"], [0.8888888888888888, \"#fdca26\"], [1.0, \"#f0f921\"]], \"sequentialminus\": [[0.0, \"#0d0887\"], [0.1111111111111111, \"#46039f\"], [0.2222222222222222, \"#7201a8\"], [0.3333333333333333, \"#9c179e\"], [0.4444444444444444, \"#bd3786\"], [0.5555555555555556, \"#d8576b\"], [0.6666666666666666, \"#ed7953\"], [0.7777777777777778, \"#fb9f3a\"], [0.8888888888888888, \"#fdca26\"], [1.0, \"#f0f921\"]]}, \"colorway\": [\"#636efa\", \"#EF553B\", \"#00cc96\", \"#ab63fa\", \"#FFA15A\", \"#19d3f3\", \"#FF6692\", \"#B6E880\", \"#FF97FF\", \"#FECB52\"], \"font\": {\"color\": \"#2a3f5f\"}, \"geo\": {\"bgcolor\": \"white\", \"lakecolor\": \"white\", \"landcolor\": \"#E5ECF6\", \"showlakes\": true, \"showland\": true, \"subunitcolor\": \"white\"}, \"hoverlabel\": {\"align\": \"left\"}, \"hovermode\": \"closest\", \"mapbox\": {\"style\": \"light\"}, \"paper_bgcolor\": \"white\", \"plot_bgcolor\": \"#E5ECF6\", \"polar\": {\"angularaxis\": {\"gridcolor\": \"white\", \"linecolor\": \"white\", \"ticks\": \"\"}, \"bgcolor\": \"#E5ECF6\", \"radialaxis\": {\"gridcolor\": \"white\", \"linecolor\": \"white\", \"ticks\": \"\"}}, \"scene\": {\"xaxis\": {\"backgroundcolor\": \"#E5ECF6\", \"gridcolor\": \"white\", \"gridwidth\": 2, \"linecolor\": \"white\", \"showbackground\": true, \"ticks\": \"\", \"zerolinecolor\": \"white\"}, \"yaxis\": {\"backgroundcolor\": \"#E5ECF6\", \"gridcolor\": \"white\", \"gridwidth\": 2, \"linecolor\": \"white\", \"showbackground\": true, \"ticks\": \"\", \"zerolinecolor\": \"white\"}, \"zaxis\": {\"backgroundcolor\": \"#E5ECF6\", \"gridcolor\": \"white\", \"gridwidth\": 2, \"linecolor\": \"white\", \"showbackground\": true, \"ticks\": \"\", \"zerolinecolor\": \"white\"}}, \"shapedefaults\": {\"line\": {\"color\": \"#2a3f5f\"}}, \"ternary\": {\"aaxis\": {\"gridcolor\": \"white\", \"linecolor\": \"white\", \"ticks\": \"\"}, \"baxis\": {\"gridcolor\": \"white\", \"linecolor\": \"white\", \"ticks\": \"\"}, \"bgcolor\": \"#E5ECF6\", \"caxis\": {\"gridcolor\": \"white\", \"linecolor\": \"white\", \"ticks\": \"\"}}, \"title\": {\"x\": 0.05}, \"xaxis\": {\"automargin\": true, \"gridcolor\": \"white\", \"linecolor\": \"white\", \"ticks\": \"\", \"title\": {\"standoff\": 15}, \"zerolinecolor\": \"white\", \"zerolinewidth\": 2}, \"yaxis\": {\"automargin\": true, \"gridcolor\": \"white\", \"linecolor\": \"white\", \"ticks\": \"\", \"title\": {\"standoff\": 15}, \"zerolinecolor\": \"white\", \"zerolinewidth\": 2}}}, \"title\": {\"text\": \"Continental yearly CO2 Increase\"}, \"xaxis\": {\"anchor\": \"y\", \"domain\": [0.0, 1.0], \"title\": {\"text\": \"Years\"}}, \"yaxis\": {\"anchor\": \"x\", \"domain\": [0.0, 1.0], \"title\": {\"text\": \"CO2\"}}},\n",
       "                        {\"responsive\": true}\n",
       "                    ).then(function(){\n",
       "                            \n",
       "var gd = document.getElementById('006ffbfb-b77c-482a-830e-be0dd2ae0b53');\n",
       "var x = new MutationObserver(function (mutations, observer) {{\n",
       "        var display = window.getComputedStyle(gd).display;\n",
       "        if (!display || display === 'none') {{\n",
       "            console.log([gd, 'removed!']);\n",
       "            Plotly.purge(gd);\n",
       "            observer.disconnect();\n",
       "        }}\n",
       "}});\n",
       "\n",
       "// Listen for the removal of the full notebook cells\n",
       "var notebookContainer = gd.closest('#notebook-container');\n",
       "if (notebookContainer) {{\n",
       "    x.observe(notebookContainer, {childList: true});\n",
       "}}\n",
       "\n",
       "// Listen for the clearing of the current output cell\n",
       "var outputEl = gd.closest('.output');\n",
       "if (outputEl) {{\n",
       "    x.observe(outputEl, {childList: true});\n",
       "}}\n",
       "\n",
       "                        })\n",
       "                };\n",
       "                });\n",
       "            </script>\n",
       "        </div>"
      ]
     },
     "metadata": {},
     "output_type": "display_data"
    }
   ],
   "source": [
    "def plot_co2_overall_sum():\n",
    "\n",
    "    labels={'x':'Years', 'y':'CO2'}\n",
    "    title='Continental yearly CO2 Increase'\n",
    "\n",
    "    fig = px.line(y=co2_data.resample('Y').sum()['co2'], x=co2_data.resample('Y').median().index,\n",
    "                 title=title, labels=labels)\n",
    "\n",
    "    fig.show()\n",
    "    \n",
    "plot_co2_overall_sum()"
   ]
  },
  {
   "cell_type": "markdown",
   "metadata": {},
   "source": [
    "### Tree Map Switzerland <> 10 Countries with highest CO2 Emission"
   ]
  },
  {
   "cell_type": "code",
   "execution_count": 191,
   "metadata": {},
   "outputs": [],
   "source": [
    "import matplotlib"
   ]
  },
  {
   "cell_type": "code",
   "execution_count": 189,
   "metadata": {},
   "outputs": [],
   "source": [
    "def tree_map_co2(data):\n",
    "    data = data.groupby('country').sum()\n",
    "    data_swiss = data[data.index == 'Switzerland']\n",
    "    data_swiss.index = ['CH']\n",
    "    top_players = data.sort_values('co2', ascending=False).iloc[:10]\n",
    "    top_players = pd.concat([top_players, data_swiss], axis=0)\n",
    "    \n",
    "    # Plotting\n",
    "    cmap = matplotlib.cm.Greys\n",
    "    mini=min(top_players['co2'])\n",
    "    maxi=max(top_players['co2'])\n",
    "    norm = matplotlib.colors.Normalize(vmin=mini, vmax=maxi)\n",
    "    colors = [cmap(norm(value)) for value in top_players['co2']]\n",
    " \n",
    "    fig, ax = plt.subplots(figsize=(16,6))\n",
    "    squarify.plot(sizes=top_players['co2'] , label=top_players.index, color=colors)\n",
    "    plt.title('CO2 Comparisson Switzerland and Global Big Players', loc='left')\n",
    "    plt.axis('off')\n",
    "    plt.show()"
   ]
  },
  {
   "cell_type": "code",
   "execution_count": 190,
   "metadata": {
    "scrolled": true
   },
   "outputs": [
    {
     "data": {
      "image/png": "[encoded data removed]",
      "text/plain": [
       "<Figure size 1152x432 with 1 Axes>"
      ]
     },
     "metadata": {},
     "output_type": "display_data"
    }
   ],
   "source": [
    "tree_map_co2(co2_data)"
   ]
  },
  {
   "cell_type": "markdown",
   "metadata": {},
   "source": [
    "## Temperature"
   ]
  },
  {
   "cell_type": "markdown",
   "metadata": {},
   "source": [
    "### Tree Map (Switzerland Comparisson to other Countries)"
   ]
  },
  {
   "cell_type": "code",
   "execution_count": 192,
   "metadata": {},
   "outputs": [],
   "source": [
    "def tree_map_temp(data):\n",
    "    year_to = data.index[-1].year\n",
    "    data = data[data.index.year == year_to]\n",
    "    data = data.groupby('country').max()\n",
    "    data_swiss = data[data.index == 'Switzerland']\n",
    "    data_swiss.index = ['CH']\n",
    "    top_players = data.sort_values('monthly_anomaly', ascending=False).iloc[:10]\n",
    "    top_players = pd.concat([top_players, data_swiss], axis=0)\n",
    "    \n",
    "    # Plotting\n",
    "    cmap = matplotlib.cm.Reds\n",
    "    mini=min(top_players['monthly_anomaly'])\n",
    "    maxi=max(top_players['monthly_anomaly'])\n",
    "    norm = matplotlib.colors.Normalize(vmin=mini, vmax=maxi)\n",
    "    colors = [cmap(norm(value)) for value in top_players['monthly_anomaly']]\n",
    " \n",
    "    fig, ax = plt.subplots(figsize=(16,6))\n",
    "    squarify.plot(sizes=top_players['monthly_anomaly'] , label=top_players.index, color=colors)\n",
    "    plt.title('Top 10 Countries with highest Temperature Increase of the Year {}'.format(year_to), loc='left')\n",
    "    plt.axis('off')\n",
    "    plt.show()    \n"
   ]
  },
  {
   "cell_type": "code",
   "execution_count": 193,
   "metadata": {},
   "outputs": [
    {
     "data": {
      "image/png": "[encoded data removed]",
      "text/plain": [
       "<Figure size 1152x432 with 1 Axes>"
      ]
     },
     "metadata": {},
     "output_type": "display_data"
    }
   ],
   "source": [
    "tree_map_temp(temp_data)  "
   ]
  },
  {
   "cell_type": "markdown",
   "metadata": {},
   "source": [
    "## Swiss Local Data"
   ]
  },
  {
   "cell_type": "code",
   "execution_count": 259,
   "metadata": {},
   "outputs": [
    {
     "name": "stdout",
     "output_type": "stream",
     "text": [
      "Index(['Basel-Binningen ', 'Bern-Zollikofen ', 'Davos', 'Genf-Cointrin ',\n",
      "       'Locarno-Monti', 'Lugano', 'Luzern', 'Neuenburg', 'Säntis', 'Samedan',\n",
      "       'Sitten', 'St. Gallen', 'Zürich-Fluntern '],\n",
      "      dtype='object')\n"
     ]
    }
   ],
   "source": [
    "import re\n",
    "\n",
    "def swiss_places_column_titles(data):\n",
    "    \"\"\"Replaces the Header of the swiss data table with only alphabetic chars.\"\"\"\n",
    "    new_cols = []\n",
    "    \n",
    "    for i in data.columns:\n",
    "        result = re.sub(\"[1,2)]\", '', i)\n",
    "        new_cols.append(result)\n",
    "    data.columns = new_cols\n",
    "    \n",
    "    return data  "
   ]
  },
  {
   "cell_type": "code",
   "execution_count": 260,
   "metadata": {},
   "outputs": [],
   "source": [
    "swiss_data = swiss_places_column_titles(swiss_data)"
   ]
  }
 ],
 "metadata": {
  "kernelspec": {
   "display_name": "Python 3",
   "language": "python",
   "name": "python3"
  },
  "language_info": {
   "codemirror_mode": {
    "name": "ipython",
    "version": 3
   },
   "file_extension": ".py",
   "mimetype": "text/x-python",
   "name": "python",
   "nbconvert_exporter": "python",
   "pygments_lexer": "ipython3",
   "version": "3.7.6"
  },
  "toc": {
   "base_numbering": 1,
   "nav_menu": {},
   "number_sections": true,
   "sideBar": true,
   "skip_h1_title": false,
   "title_cell": "Table of Contents",
   "title_sidebar": "Contents",
   "toc_cell": false,
   "toc_position": {
    "height": "calc(100% - 180px)",
    "left": "10px",
    "top": "150px",
    "width": "256px"
   },
   "toc_section_display": true,
   "toc_window_display": true
  }
 },
 "nbformat": 4,
 "nbformat_minor": 4
}
