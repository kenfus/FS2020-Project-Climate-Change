{
 "cells": [
  {
   "cell_type": "markdown",
   "metadata": {},
   "source": [
    "# **EDA Switzerland Story-telling**"
   ]
  },
  {
   "cell_type": "markdown",
   "metadata": {},
   "source": [
    "# Story-Inputs"
   ]
  },
  {
   "cell_type": "markdown",
   "metadata": {},
   "source": [
    "**Story-Inputs**:\n",
    "- Involve the readers interests (Skiing)\n",
    "- Progression of tourists in winter region/cable car usage\n"
   ]
  },
  {
   "cell_type": "markdown",
   "metadata": {},
   "source": [
    "# Data Import"
   ]
  },
  {
   "cell_type": "markdown",
   "metadata": {},
   "source": [
    "Set all import paths for this project"
   ]
  },
  {
   "cell_type": "code",
   "execution_count": 1,
   "metadata": {
    "scrolled": true
   },
   "outputs": [
    {
     "name": "stdout",
     "output_type": "stream",
     "text": [
      "['C:\\\\Users\\\\simon\\\\Desktop\\\\FS2020-Project-Climate-Change\\\\storytelling', 'C:\\\\Users\\\\simon\\\\anaconda3\\\\python37.zip', 'C:\\\\Users\\\\simon\\\\anaconda3\\\\DLLs', 'C:\\\\Users\\\\simon\\\\anaconda3\\\\lib', 'C:\\\\Users\\\\simon\\\\anaconda3', '', 'C:\\\\Users\\\\simon\\\\anaconda3\\\\lib\\\\site-packages', 'C:\\\\Users\\\\simon\\\\anaconda3\\\\lib\\\\site-packages\\\\win32', 'C:\\\\Users\\\\simon\\\\anaconda3\\\\lib\\\\site-packages\\\\win32\\\\lib', 'C:\\\\Users\\\\simon\\\\anaconda3\\\\lib\\\\site-packages\\\\Pythonwin', 'C:\\\\Users\\\\simon\\\\anaconda3\\\\lib\\\\site-packages\\\\IPython\\\\extensions', 'C:\\\\Users\\\\simon\\\\.ipython']\n",
      "New path added to Sys.\n"
     ]
    }
   ],
   "source": [
    "import sys\n",
    "import os\n",
    "\n",
    "database_path = 'C:\\\\Users\\\\simon\\\\Desktop\\\\FS2020-Project-Climate-Change\\\\database'\n",
    "print(sys.path)\n",
    "\n",
    "def import_system_path():\n",
    "    if database_path not in sys.path:\n",
    "        sys.path.append(database_path)\n",
    "        print('New path added to Sys.')\n",
    "    else:\n",
    "        print('Path already exists.')\n",
    "        \n",
    "import_system_path()"
   ]
  },
  {
   "cell_type": "code",
   "execution_count": 135,
   "metadata": {},
   "outputs": [],
   "source": [
    "from DBA import DBA\n",
    "import yaml\n",
    "\n",
    "import seaborn as sns\n",
    "import pandas as pd\n",
    "import numpy as np\n",
    "import sqlalchemy\n",
    "import matplotlib.pyplot as plt\n",
    "import datetime"
   ]
  },
  {
   "cell_type": "markdown",
   "metadata": {},
   "source": [
    "Read YML-File with Configuration data for database"
   ]
  },
  {
   "cell_type": "code",
   "execution_count": 3,
   "metadata": {
    "scrolled": false
   },
   "outputs": [
    {
     "name": "stdout",
     "output_type": "stream",
     "text": [
      "{'sql': {'host': '86.119.42.47', 'user': 'db_user', 'pw': 'db_password', 'db': 'climate_change_db', 'port': '5432'}}\n"
     ]
    }
   ],
   "source": [
    "a_yaml_file = open(\"config.yml\")\n",
    "parsed_yaml_file = yaml.load(a_yaml_file, Loader=yaml.FullLoader)\n",
    "print(parsed_yaml_file)"
   ]
  },
  {
   "cell_type": "markdown",
   "metadata": {},
   "source": [
    "## DB Connection"
   ]
  },
  {
   "cell_type": "markdown",
   "metadata": {},
   "source": [
    "Create connection object with all DB configurations"
   ]
  },
  {
   "cell_type": "code",
   "execution_count": 4,
   "metadata": {},
   "outputs": [],
   "source": [
    "connection_object = DBA(parsed_yaml_file['sql']['db'], \n",
    "                        parsed_yaml_file['sql']['user'] , \n",
    "                        parsed_yaml_file['sql']['pw'] , \n",
    "                        parsed_yaml_file['sql']['host'], \n",
    "                        parsed_yaml_file['sql']['port']\n",
    "                       )"
   ]
  },
  {
   "cell_type": "markdown",
   "metadata": {},
   "source": [
    "Test-Query"
   ]
  },
  {
   "cell_type": "code",
   "execution_count": 5,
   "metadata": {
    "scrolled": true
   },
   "outputs": [
    {
     "data": {
      "text/html": [
       "<div>\n",
       "<style scoped>\n",
       "    .dataframe tbody tr th:only-of-type {\n",
       "        vertical-align: middle;\n",
       "    }\n",
       "\n",
       "    .dataframe tbody tr th {\n",
       "        vertical-align: top;\n",
       "    }\n",
       "\n",
       "    .dataframe thead th {\n",
       "        text-align: right;\n",
       "    }\n",
       "</style>\n",
       "<table border=\"1\" class=\"dataframe\">\n",
       "  <thead>\n",
       "    <tr style=\"text-align: right;\">\n",
       "      <th></th>\n",
       "      <th>location_id</th>\n",
       "      <th>latitude</th>\n",
       "      <th>longitude</th>\n",
       "      <th>region</th>\n",
       "      <th>country</th>\n",
       "      <th>alpha_3</th>\n",
       "    </tr>\n",
       "  </thead>\n",
       "  <tbody>\n",
       "    <tr>\n",
       "      <th>0</th>\n",
       "      <td>1</td>\n",
       "      <td>None</td>\n",
       "      <td>None</td>\n",
       "      <td>Basel-Binningen</td>\n",
       "      <td>Switzerland</td>\n",
       "      <td>CHE</td>\n",
       "    </tr>\n",
       "    <tr>\n",
       "      <th>1</th>\n",
       "      <td>2</td>\n",
       "      <td>None</td>\n",
       "      <td>None</td>\n",
       "      <td>Bern-Zollikofen 1)</td>\n",
       "      <td>Switzerland</td>\n",
       "      <td>CHE</td>\n",
       "    </tr>\n",
       "    <tr>\n",
       "      <th>2</th>\n",
       "      <td>3</td>\n",
       "      <td>None</td>\n",
       "      <td>None</td>\n",
       "      <td>Davos WSL 2)</td>\n",
       "      <td>Switzerland</td>\n",
       "      <td>CHE</td>\n",
       "    </tr>\n",
       "    <tr>\n",
       "      <th>3</th>\n",
       "      <td>4</td>\n",
       "      <td>None</td>\n",
       "      <td>None</td>\n",
       "      <td>Genf-Cointrin</td>\n",
       "      <td>Switzerland</td>\n",
       "      <td>CHE</td>\n",
       "    </tr>\n",
       "    <tr>\n",
       "      <th>4</th>\n",
       "      <td>5</td>\n",
       "      <td>None</td>\n",
       "      <td>None</td>\n",
       "      <td>Locarno-Monti</td>\n",
       "      <td>Switzerland</td>\n",
       "      <td>CHE</td>\n",
       "    </tr>\n",
       "    <tr>\n",
       "      <th>...</th>\n",
       "      <td>...</td>\n",
       "      <td>...</td>\n",
       "      <td>...</td>\n",
       "      <td>...</td>\n",
       "      <td>...</td>\n",
       "      <td>...</td>\n",
       "    </tr>\n",
       "    <tr>\n",
       "      <th>213</th>\n",
       "      <td>214</td>\n",
       "      <td>None</td>\n",
       "      <td>None</td>\n",
       "      <td>None</td>\n",
       "      <td>Vietnam</td>\n",
       "      <td>VNM</td>\n",
       "    </tr>\n",
       "    <tr>\n",
       "      <th>214</th>\n",
       "      <td>215</td>\n",
       "      <td>None</td>\n",
       "      <td>None</td>\n",
       "      <td>None</td>\n",
       "      <td>Western Sahara</td>\n",
       "      <td>WBG</td>\n",
       "    </tr>\n",
       "    <tr>\n",
       "      <th>215</th>\n",
       "      <td>216</td>\n",
       "      <td>None</td>\n",
       "      <td>None</td>\n",
       "      <td>None</td>\n",
       "      <td>Yemen</td>\n",
       "      <td>YEM</td>\n",
       "    </tr>\n",
       "    <tr>\n",
       "      <th>216</th>\n",
       "      <td>217</td>\n",
       "      <td>None</td>\n",
       "      <td>None</td>\n",
       "      <td>None</td>\n",
       "      <td>Zambia</td>\n",
       "      <td>ZMB</td>\n",
       "    </tr>\n",
       "    <tr>\n",
       "      <th>217</th>\n",
       "      <td>218</td>\n",
       "      <td>None</td>\n",
       "      <td>None</td>\n",
       "      <td>None</td>\n",
       "      <td>Zimbabwe</td>\n",
       "      <td>ZWE</td>\n",
       "    </tr>\n",
       "  </tbody>\n",
       "</table>\n",
       "<p>218 rows × 6 columns</p>\n",
       "</div>"
      ],
      "text/plain": [
       "     location_id latitude longitude              region         country  \\\n",
       "0              1     None      None     Basel-Binningen     Switzerland   \n",
       "1              2     None      None  Bern-Zollikofen 1)     Switzerland   \n",
       "2              3     None      None        Davos WSL 2)     Switzerland   \n",
       "3              4     None      None       Genf-Cointrin     Switzerland   \n",
       "4              5     None      None       Locarno-Monti     Switzerland   \n",
       "..           ...      ...       ...                 ...             ...   \n",
       "213          214     None      None                None         Vietnam   \n",
       "214          215     None      None                None  Western Sahara   \n",
       "215          216     None      None                None           Yemen   \n",
       "216          217     None      None                None          Zambia   \n",
       "217          218     None      None                None        Zimbabwe   \n",
       "\n",
       "    alpha_3  \n",
       "0       CHE  \n",
       "1       CHE  \n",
       "2       CHE  \n",
       "3       CHE  \n",
       "4       CHE  \n",
       "..      ...  \n",
       "213     VNM  \n",
       "214     WBG  \n",
       "215     YEM  \n",
       "216     ZMB  \n",
       "217     ZWE  \n",
       "\n",
       "[218 rows x 6 columns]"
      ]
     },
     "execution_count": 5,
     "metadata": {},
     "output_type": "execute_result"
    }
   ],
   "source": [
    "connection_object.query_data('SELECT * FROM locations')"
   ]
  },
  {
   "cell_type": "markdown",
   "metadata": {},
   "source": [
    "## All Queries"
   ]
  },
  {
   "cell_type": "code",
   "execution_count": 7,
   "metadata": {},
   "outputs": [],
   "source": [
    "class Queries():\n",
    "    \n",
    "    all_data_from_switzerland = \"\"\"select locations.location_id, locations.region, locations.country, locations.alpha_3, \n",
    "                                   sensors.sensor_id, sensors.sensor_type,\n",
    "                                   sensor_readings.timestamp, sensor_readings.int_reading, sensor_readings.float_reading, sensor_readings.bool_reading\n",
    "                                   from locations\n",
    "                                   inner join sensors on (sensors.location_id = locations.location_id)\n",
    "                                   inner join sensor_readings on (sensors.sensor_id = sensor_readings.sensor_id)\n",
    "                                   where locations.country = 'Switzerland'\n",
    "                                   order by region, timestamp\"\"\"\n",
    "    \n",
    "    "
   ]
  },
  {
   "cell_type": "markdown",
   "metadata": {},
   "source": [
    "## Query Data"
   ]
  },
  {
   "cell_type": "code",
   "execution_count": 280,
   "metadata": {
    "scrolled": false
   },
   "outputs": [
    {
     "name": "stdout",
     "output_type": "stream",
     "text": [
      "<class 'pandas.core.frame.DataFrame'>\n",
      "RangeIndex: 4455 entries, 0 to 4454\n",
      "Data columns (total 10 columns):\n",
      " #   Column         Non-Null Count  Dtype  \n",
      "---  ------         --------------  -----  \n",
      " 0   location_id    4455 non-null   int64  \n",
      " 1   region         1157 non-null   object \n",
      " 2   country        4455 non-null   object \n",
      " 3   alpha_3        4455 non-null   object \n",
      " 4   sensor_id      4455 non-null   int64  \n",
      " 5   sensor_type    4455 non-null   object \n",
      " 6   timestamp      4455 non-null   object \n",
      " 7   int_reading    980 non-null    float64\n",
      " 8   float_reading  3225 non-null   float64\n",
      " 9   bool_reading   0 non-null      object \n",
      "dtypes: float64(2), int64(2), object(6)\n",
      "memory usage: 348.2+ KB\n",
      "None\n"
     ]
    },
    {
     "data": {
      "text/html": [
       "<div>\n",
       "<style scoped>\n",
       "    .dataframe tbody tr th:only-of-type {\n",
       "        vertical-align: middle;\n",
       "    }\n",
       "\n",
       "    .dataframe tbody tr th {\n",
       "        vertical-align: top;\n",
       "    }\n",
       "\n",
       "    .dataframe thead th {\n",
       "        text-align: right;\n",
       "    }\n",
       "</style>\n",
       "<table border=\"1\" class=\"dataframe\">\n",
       "  <thead>\n",
       "    <tr style=\"text-align: right;\">\n",
       "      <th></th>\n",
       "      <th>location_id</th>\n",
       "      <th>region</th>\n",
       "      <th>country</th>\n",
       "      <th>alpha_3</th>\n",
       "      <th>sensor_id</th>\n",
       "      <th>sensor_type</th>\n",
       "      <th>timestamp</th>\n",
       "      <th>int_reading</th>\n",
       "      <th>float_reading</th>\n",
       "      <th>bool_reading</th>\n",
       "    </tr>\n",
       "  </thead>\n",
       "  <tbody>\n",
       "    <tr>\n",
       "      <th>0</th>\n",
       "      <td>1</td>\n",
       "      <td>Basel-Binningen</td>\n",
       "      <td>Switzerland</td>\n",
       "      <td>CHE</td>\n",
       "      <td>1</td>\n",
       "      <td>new_snow</td>\n",
       "      <td>1931-01-01</td>\n",
       "      <td>86.0</td>\n",
       "      <td>NaN</td>\n",
       "      <td>None</td>\n",
       "    </tr>\n",
       "    <tr>\n",
       "      <th>1</th>\n",
       "      <td>1</td>\n",
       "      <td>Basel-Binningen</td>\n",
       "      <td>Switzerland</td>\n",
       "      <td>CHE</td>\n",
       "      <td>1</td>\n",
       "      <td>new_snow</td>\n",
       "      <td>1932-01-01</td>\n",
       "      <td>41.0</td>\n",
       "      <td>NaN</td>\n",
       "      <td>None</td>\n",
       "    </tr>\n",
       "    <tr>\n",
       "      <th>2</th>\n",
       "      <td>1</td>\n",
       "      <td>Basel-Binningen</td>\n",
       "      <td>Switzerland</td>\n",
       "      <td>CHE</td>\n",
       "      <td>1</td>\n",
       "      <td>new_snow</td>\n",
       "      <td>1933-01-01</td>\n",
       "      <td>22.0</td>\n",
       "      <td>NaN</td>\n",
       "      <td>None</td>\n",
       "    </tr>\n",
       "    <tr>\n",
       "      <th>3</th>\n",
       "      <td>1</td>\n",
       "      <td>Basel-Binningen</td>\n",
       "      <td>Switzerland</td>\n",
       "      <td>CHE</td>\n",
       "      <td>1</td>\n",
       "      <td>new_snow</td>\n",
       "      <td>1934-01-01</td>\n",
       "      <td>19.0</td>\n",
       "      <td>NaN</td>\n",
       "      <td>None</td>\n",
       "    </tr>\n",
       "    <tr>\n",
       "      <th>4</th>\n",
       "      <td>1</td>\n",
       "      <td>Basel-Binningen</td>\n",
       "      <td>Switzerland</td>\n",
       "      <td>CHE</td>\n",
       "      <td>1</td>\n",
       "      <td>new_snow</td>\n",
       "      <td>1935-01-01</td>\n",
       "      <td>105.0</td>\n",
       "      <td>NaN</td>\n",
       "      <td>None</td>\n",
       "    </tr>\n",
       "  </tbody>\n",
       "</table>\n",
       "</div>"
      ],
      "text/plain": [
       "   location_id           region      country alpha_3  sensor_id sensor_type  \\\n",
       "0            1  Basel-Binningen  Switzerland     CHE          1    new_snow   \n",
       "1            1  Basel-Binningen  Switzerland     CHE          1    new_snow   \n",
       "2            1  Basel-Binningen  Switzerland     CHE          1    new_snow   \n",
       "3            1  Basel-Binningen  Switzerland     CHE          1    new_snow   \n",
       "4            1  Basel-Binningen  Switzerland     CHE          1    new_snow   \n",
       "\n",
       "    timestamp  int_reading  float_reading bool_reading  \n",
       "0  1931-01-01         86.0            NaN         None  \n",
       "1  1932-01-01         41.0            NaN         None  \n",
       "2  1933-01-01         22.0            NaN         None  \n",
       "3  1934-01-01         19.0            NaN         None  \n",
       "4  1935-01-01        105.0            NaN         None  "
      ]
     },
     "execution_count": 280,
     "metadata": {},
     "output_type": "execute_result"
    }
   ],
   "source": [
    "swiss_all_data = connection_object.query_data(Queries.all_data_from_switzerland)\n",
    "print(swiss_all_data.info())\n",
    "swiss_all_data.head()"
   ]
  },
  {
   "cell_type": "markdown",
   "metadata": {},
   "source": [
    "What kind of Data is available?"
   ]
  },
  {
   "cell_type": "code",
   "execution_count": 281,
   "metadata": {},
   "outputs": [
    {
     "data": {
      "text/plain": [
       "array(['new_snow', 'temperature', 'co2'], dtype=object)"
      ]
     },
     "execution_count": 281,
     "metadata": {},
     "output_type": "execute_result"
    }
   ],
   "source": [
    "swiss_all_data['sensor_type'].unique()"
   ]
  },
  {
   "cell_type": "code",
   "execution_count": 44,
   "metadata": {
    "scrolled": true
   },
   "outputs": [
    {
     "name": "stdout",
     "output_type": "stream",
     "text": [
      "<class 'pandas.core.frame.DataFrame'>\n",
      "Int64Index: 3298 entries, 1157 to 4454\n",
      "Data columns (total 8 columns):\n",
      " #   Column         Non-Null Count  Dtype  \n",
      "---  ------         --------------  -----  \n",
      " 0   location_id    3298 non-null   int64  \n",
      " 1   region         0 non-null      object \n",
      " 2   country        3298 non-null   object \n",
      " 3   alpha_3        3298 non-null   object \n",
      " 4   sensor_id      3298 non-null   int64  \n",
      " 5   sensor_type    3298 non-null   object \n",
      " 6   timestamp      3298 non-null   object \n",
      " 7   float_reading  3225 non-null   float64\n",
      "dtypes: float64(1), int64(2), object(5)\n",
      "memory usage: 231.9+ KB\n"
     ]
    }
   ],
   "source": [
    "not_local_data = swiss_all_data[swiss_all_data['region'].isna() == True]\n",
    "not_local_data = not_local_data.drop(['int_reading', 'bool_reading'], axis=1)\n",
    "not_local_data.info()"
   ]
  },
  {
   "cell_type": "code",
   "execution_count": 279,
   "metadata": {},
   "outputs": [
    {
     "name": "stdout",
     "output_type": "stream",
     "text": [
      "Summary of Temperature Data:\n",
      "count    3239.000000\n",
      "mean       -0.100099\n",
      "std         1.636898\n",
      "min        -8.228000\n",
      "25%        -1.082500\n",
      "50%        -0.059000\n",
      "75%         0.986000\n",
      "max         6.093000\n",
      "Name: float_reading, dtype: float64\n",
      "--------------------------------------------------\n",
      "Summary of CO2 Data\n",
      "count    59.000000\n",
      "mean      5.827385\n",
      "std       3.056822\n",
      "min       1.872900\n",
      "25%       2.728300\n",
      "50%       5.161400\n",
      "75%       8.909650\n",
      "max      11.075100\n",
      "Name: float_reading, dtype: float64\n"
     ]
    }
   ],
   "source": [
    "not_local_data = not_local_data.fillna(method='ffill')\n",
    "print('Summary of Temperature Data:')\n",
    "print(not_local_data[not_local_data['sensor_type'] == 'temperature'].describe()['float_reading'])\n",
    "print(50*'-')\n",
    "print('Summary of CO2 Data')\n",
    "print(not_local_data[not_local_data['sensor_type'] == 'co2'].describe()['float_reading'])"
   ]
  },
  {
   "cell_type": "markdown",
   "metadata": {},
   "source": [
    "# Analysis Temperature/CO2"
   ]
  },
  {
   "cell_type": "markdown",
   "metadata": {},
   "source": [
    "Analysis of the Temperature and CO2 values of Switzerland"
   ]
  },
  {
   "cell_type": "markdown",
   "metadata": {},
   "source": [
    "Check which are the time differences between each measurement of CO2 and temperature"
   ]
  },
  {
   "cell_type": "code",
   "execution_count": 278,
   "metadata": {},
   "outputs": [
    {
     "data": {
      "text/html": [
       "<div>\n",
       "<style scoped>\n",
       "    .dataframe tbody tr th:only-of-type {\n",
       "        vertical-align: middle;\n",
       "    }\n",
       "\n",
       "    .dataframe tbody tr th {\n",
       "        vertical-align: top;\n",
       "    }\n",
       "\n",
       "    .dataframe thead th {\n",
       "        text-align: right;\n",
       "    }\n",
       "</style>\n",
       "<table border=\"1\" class=\"dataframe\">\n",
       "  <thead>\n",
       "    <tr style=\"text-align: right;\">\n",
       "      <th></th>\n",
       "      <th>location_id</th>\n",
       "      <th>region</th>\n",
       "      <th>country</th>\n",
       "      <th>alpha_3</th>\n",
       "      <th>sensor_id</th>\n",
       "      <th>sensor_type</th>\n",
       "      <th>timestamp</th>\n",
       "      <th>float_reading</th>\n",
       "    </tr>\n",
       "  </thead>\n",
       "  <tbody>\n",
       "    <tr>\n",
       "      <th>2973</th>\n",
       "      <td>192</td>\n",
       "      <td>None</td>\n",
       "      <td>Switzerland</td>\n",
       "      <td>CHE</td>\n",
       "      <td>192</td>\n",
       "      <td>temperature</td>\n",
       "      <td>1895-03-01</td>\n",
       "      <td>-1.962</td>\n",
       "    </tr>\n",
       "    <tr>\n",
       "      <th>1772</th>\n",
       "      <td>192</td>\n",
       "      <td>None</td>\n",
       "      <td>Switzerland</td>\n",
       "      <td>CHE</td>\n",
       "      <td>192</td>\n",
       "      <td>temperature</td>\n",
       "      <td>1795-02-01</td>\n",
       "      <td>-1.710</td>\n",
       "    </tr>\n",
       "  </tbody>\n",
       "</table>\n",
       "</div>"
      ],
      "text/plain": [
       "      location_id region      country alpha_3  sensor_id  sensor_type  \\\n",
       "2973          192   None  Switzerland     CHE        192  temperature   \n",
       "1772          192   None  Switzerland     CHE        192  temperature   \n",
       "\n",
       "       timestamp  float_reading  \n",
       "2973  1895-03-01         -1.962  \n",
       "1772  1795-02-01         -1.710  "
      ]
     },
     "execution_count": 278,
     "metadata": {},
     "output_type": "execute_result"
    }
   ],
   "source": [
    "not_local_data.sample(2)"
   ]
  },
  {
   "cell_type": "code",
   "execution_count": 235,
   "metadata": {},
   "outputs": [
    {
     "name": "stdout",
     "output_type": "stream",
     "text": [
      "Temperature Measurement differences: 30 days 10:29:16.639901\n"
     ]
    },
    {
     "data": {
      "text/html": [
       "<div>\n",
       "<style scoped>\n",
       "    .dataframe tbody tr th:only-of-type {\n",
       "        vertical-align: middle;\n",
       "    }\n",
       "\n",
       "    .dataframe tbody tr th {\n",
       "        vertical-align: top;\n",
       "    }\n",
       "\n",
       "    .dataframe thead th {\n",
       "        text-align: right;\n",
       "    }\n",
       "</style>\n",
       "<table border=\"1\" class=\"dataframe\">\n",
       "  <thead>\n",
       "    <tr style=\"text-align: right;\">\n",
       "      <th></th>\n",
       "      <th>location_id</th>\n",
       "      <th>region</th>\n",
       "      <th>country</th>\n",
       "      <th>alpha_3</th>\n",
       "      <th>sensor_id</th>\n",
       "      <th>sensor_type</th>\n",
       "      <th>timestamp</th>\n",
       "      <th>float_reading</th>\n",
       "    </tr>\n",
       "    <tr>\n",
       "      <th>timestamp</th>\n",
       "      <th></th>\n",
       "      <th></th>\n",
       "      <th></th>\n",
       "      <th></th>\n",
       "      <th></th>\n",
       "      <th></th>\n",
       "      <th></th>\n",
       "      <th></th>\n",
       "    </tr>\n",
       "  </thead>\n",
       "  <tbody>\n",
       "    <tr>\n",
       "      <th>1743-11-01</th>\n",
       "      <td>192</td>\n",
       "      <td>None</td>\n",
       "      <td>Switzerland</td>\n",
       "      <td>CHE</td>\n",
       "      <td>192</td>\n",
       "      <td>temperature</td>\n",
       "      <td>1743-11-01</td>\n",
       "      <td>0.872</td>\n",
       "    </tr>\n",
       "    <tr>\n",
       "      <th>1743-12-01</th>\n",
       "      <td>192</td>\n",
       "      <td>None</td>\n",
       "      <td>Switzerland</td>\n",
       "      <td>CHE</td>\n",
       "      <td>192</td>\n",
       "      <td>temperature</td>\n",
       "      <td>1743-12-01</td>\n",
       "      <td>0.872</td>\n",
       "    </tr>\n",
       "    <tr>\n",
       "      <th>1744-01-01</th>\n",
       "      <td>192</td>\n",
       "      <td>None</td>\n",
       "      <td>Switzerland</td>\n",
       "      <td>CHE</td>\n",
       "      <td>192</td>\n",
       "      <td>temperature</td>\n",
       "      <td>1744-01-01</td>\n",
       "      <td>0.872</td>\n",
       "    </tr>\n",
       "    <tr>\n",
       "      <th>1744-02-01</th>\n",
       "      <td>192</td>\n",
       "      <td>None</td>\n",
       "      <td>Switzerland</td>\n",
       "      <td>CHE</td>\n",
       "      <td>192</td>\n",
       "      <td>temperature</td>\n",
       "      <td>1744-02-01</td>\n",
       "      <td>0.872</td>\n",
       "    </tr>\n",
       "    <tr>\n",
       "      <th>1744-03-01</th>\n",
       "      <td>192</td>\n",
       "      <td>None</td>\n",
       "      <td>Switzerland</td>\n",
       "      <td>CHE</td>\n",
       "      <td>192</td>\n",
       "      <td>temperature</td>\n",
       "      <td>1744-03-01</td>\n",
       "      <td>0.872</td>\n",
       "    </tr>\n",
       "  </tbody>\n",
       "</table>\n",
       "</div>"
      ],
      "text/plain": [
       "            location_id region      country alpha_3  sensor_id  sensor_type  \\\n",
       "timestamp                                                                     \n",
       "1743-11-01          192   None  Switzerland     CHE        192  temperature   \n",
       "1743-12-01          192   None  Switzerland     CHE        192  temperature   \n",
       "1744-01-01          192   None  Switzerland     CHE        192  temperature   \n",
       "1744-02-01          192   None  Switzerland     CHE        192  temperature   \n",
       "1744-03-01          192   None  Switzerland     CHE        192  temperature   \n",
       "\n",
       "             timestamp  float_reading  \n",
       "timestamp                              \n",
       "1743-11-01  1743-11-01          0.872  \n",
       "1743-12-01  1743-12-01          0.872  \n",
       "1744-01-01  1744-01-01          0.872  \n",
       "1744-02-01  1744-02-01          0.872  \n",
       "1744-03-01  1744-03-01          0.872  "
      ]
     },
     "execution_count": 235,
     "metadata": {},
     "output_type": "execute_result"
    }
   ],
   "source": [
    "temperature_switzerland = not_local_data[not_local_data['sensor_type'] == 'temperature']\n",
    "temperature_switzerland = temperature_switzerland.set_index(temperature_switzerland['timestamp'])\n",
    "temperature_switzerland.index = pd.to_datetime(temperature_switzerland.index)\n",
    "\n",
    "\n",
    "time_shifted = temperature_switzerland.loc[:,'timestamp'].shift(1) \n",
    "time_diff = temperature_switzerland.loc[:,'timestamp'] - time_shifted\n",
    "print('Temperature Measurement differences: {}'.format(time_diff.mean()))\n",
    "\n",
    "temperature_switzerland.head()"
   ]
  },
  {
   "cell_type": "code",
   "execution_count": 234,
   "metadata": {},
   "outputs": [
    {
     "name": "stdout",
     "output_type": "stream",
     "text": [
      "CO2 Measurement differences: 365 days 06:12:24.827586\n"
     ]
    },
    {
     "data": {
      "text/html": [
       "<div>\n",
       "<style scoped>\n",
       "    .dataframe tbody tr th:only-of-type {\n",
       "        vertical-align: middle;\n",
       "    }\n",
       "\n",
       "    .dataframe tbody tr th {\n",
       "        vertical-align: top;\n",
       "    }\n",
       "\n",
       "    .dataframe thead th {\n",
       "        text-align: right;\n",
       "    }\n",
       "</style>\n",
       "<table border=\"1\" class=\"dataframe\">\n",
       "  <thead>\n",
       "    <tr style=\"text-align: right;\">\n",
       "      <th></th>\n",
       "      <th>location_id</th>\n",
       "      <th>region</th>\n",
       "      <th>country</th>\n",
       "      <th>alpha_3</th>\n",
       "      <th>sensor_id</th>\n",
       "      <th>sensor_type</th>\n",
       "      <th>timestamp</th>\n",
       "      <th>float_reading</th>\n",
       "    </tr>\n",
       "    <tr>\n",
       "      <th>timestamp</th>\n",
       "      <th></th>\n",
       "      <th></th>\n",
       "      <th></th>\n",
       "      <th></th>\n",
       "      <th></th>\n",
       "      <th></th>\n",
       "      <th></th>\n",
       "      <th></th>\n",
       "    </tr>\n",
       "  </thead>\n",
       "  <tbody>\n",
       "    <tr>\n",
       "      <th>1960-01-01</th>\n",
       "      <td>192</td>\n",
       "      <td>None</td>\n",
       "      <td>Switzerland</td>\n",
       "      <td>CHE</td>\n",
       "      <td>599</td>\n",
       "      <td>co2</td>\n",
       "      <td>1960-01-01</td>\n",
       "      <td>4.0647</td>\n",
       "    </tr>\n",
       "    <tr>\n",
       "      <th>1961-01-01</th>\n",
       "      <td>192</td>\n",
       "      <td>None</td>\n",
       "      <td>Switzerland</td>\n",
       "      <td>CHE</td>\n",
       "      <td>599</td>\n",
       "      <td>co2</td>\n",
       "      <td>1961-01-01</td>\n",
       "      <td>4.1924</td>\n",
       "    </tr>\n",
       "    <tr>\n",
       "      <th>1962-01-01</th>\n",
       "      <td>192</td>\n",
       "      <td>None</td>\n",
       "      <td>Switzerland</td>\n",
       "      <td>CHE</td>\n",
       "      <td>599</td>\n",
       "      <td>co2</td>\n",
       "      <td>1962-01-01</td>\n",
       "      <td>4.4014</td>\n",
       "    </tr>\n",
       "    <tr>\n",
       "      <th>1963-01-01</th>\n",
       "      <td>192</td>\n",
       "      <td>None</td>\n",
       "      <td>Switzerland</td>\n",
       "      <td>CHE</td>\n",
       "      <td>599</td>\n",
       "      <td>co2</td>\n",
       "      <td>1963-01-01</td>\n",
       "      <td>4.7206</td>\n",
       "    </tr>\n",
       "    <tr>\n",
       "      <th>1964-01-01</th>\n",
       "      <td>192</td>\n",
       "      <td>None</td>\n",
       "      <td>Switzerland</td>\n",
       "      <td>CHE</td>\n",
       "      <td>599</td>\n",
       "      <td>co2</td>\n",
       "      <td>1964-01-01</td>\n",
       "      <td>5.0205</td>\n",
       "    </tr>\n",
       "  </tbody>\n",
       "</table>\n",
       "</div>"
      ],
      "text/plain": [
       "            location_id region      country alpha_3  sensor_id sensor_type  \\\n",
       "timestamp                                                                    \n",
       "1960-01-01          192   None  Switzerland     CHE        599         co2   \n",
       "1961-01-01          192   None  Switzerland     CHE        599         co2   \n",
       "1962-01-01          192   None  Switzerland     CHE        599         co2   \n",
       "1963-01-01          192   None  Switzerland     CHE        599         co2   \n",
       "1964-01-01          192   None  Switzerland     CHE        599         co2   \n",
       "\n",
       "             timestamp  float_reading  \n",
       "timestamp                              \n",
       "1960-01-01  1960-01-01         4.0647  \n",
       "1961-01-01  1961-01-01         4.1924  \n",
       "1962-01-01  1962-01-01         4.4014  \n",
       "1963-01-01  1963-01-01         4.7206  \n",
       "1964-01-01  1964-01-01         5.0205  "
      ]
     },
     "execution_count": 234,
     "metadata": {},
     "output_type": "execute_result"
    }
   ],
   "source": [
    "co2_switzerland = not_local_data[not_local_data['sensor_type'] == 'co2']\n",
    "co2_switzerland = co2_switzerland.set_index(co2_switzerland['timestamp'])\n",
    "co2_switzerland.index = pd.to_datetime(co2_switzerland.index)\n",
    "\n",
    "\n",
    "time_shifted = co2_switzerland.loc[:,'timestamp'].shift(1) \n",
    "time_diff = co2_switzerland.loc[:,'timestamp'] - time_shifted\n",
    "print('CO2 Measurement differences: {}'.format(time_diff.mean()))\n",
    "\n",
    "co2_switzerland.head()"
   ]
  },
  {
   "cell_type": "code",
   "execution_count": 155,
   "metadata": {},
   "outputs": [
    {
     "data": {
      "image/png": "[encoded data removed]",
      "text/plain": [
       "<Figure size 1152x720 with 2 Axes>"
      ]
     },
     "metadata": {
      "needs_background": "light"
     },
     "output_type": "display_data"
    }
   ],
   "source": [
    "def plot_temperature_international(rolling_mean):\n",
    "    fig, ax = plt.subplots(2, 1, figsize=(16,10))\n",
    "    \n",
    "    time_from = '1960-01-01'\n",
    "    time_to =  2020\n",
    "    \n",
    "    temperature_switzerland = not_local_data[not_local_data['sensor_type'] == 'temperature']\n",
    "    co2_switzerland = not_local_data[not_local_data['sensor_type'] == 'co2']\n",
    "            \n",
    "    p1_y = not_local_data[not_local_data['sensor_type'] == 'temperature']['timestamp']\n",
    "    p1_y = p1_y[p1_y > pd.to_datetime(time_from)]\n",
    "    \n",
    "    p1 = sns.lineplot(x=p1_y, \n",
    "                      y=temperature_switzerland['float_reading'].rolling(rolling_mean).mean(), ax=ax[0], )\n",
    "    p1.set_title('Temperature of Switzerland with {}d Rolling Average'.format(rolling_mean), loc='left')\n",
    "    p1.set(ylabel='Temperature in C°', xlabel=('Years'))\n",
    "    \n",
    "    p1_y = not_local_data[not_local_data['sensor_type'] == 'temperature']['timestamp']\n",
    "    p1_y = p1_y[p1_y > pd.to_datetime(time_from)]\n",
    "    \n",
    "    p2 = sns.lineplot(x=not_local_data[not_local_data['sensor_type'] == 'co2']['timestamp'], \n",
    "                      y=co2_switzerland['float_reading'], ax=ax[1])\n",
    "    p2.set_title('CO2 of Switzerland with {}d Rolling Average'.format(rolling_mean), loc='left')\n",
    "    p2.set(ylabel='CO2', xlabel=('Years'))\n",
    "    \n",
    "    plt.show()\n",
    "\n",
    "plot_temperature_international(3)"
   ]
  },
  {
   "cell_type": "code",
   "execution_count": 276,
   "metadata": {
    "scrolled": true
   },
   "outputs": [
    {
     "data": {
      "image/png": "[encoded data removed]",
      "text/plain": [
       "<Figure size 432x288 with 2 Axes>"
      ]
     },
     "metadata": {
      "needs_background": "light"
     },
     "output_type": "display_data"
    }
   ],
   "source": [
    "def temp_co2_correlation():\n",
    "    temp_from_1960_yearly = temperature_switzerland.loc[temperature_switzerland.index > pd.to_datetime('1960-01-01')]['float_reading']\n",
    "    temp_from_1960_yearly.index = pd.to_datetime(temp_from_1960_yearly.index)\n",
    "\n",
    "    temp_from_1960_yearly = temp_from_1960_yearly.resample('Y').median()\n",
    "    temp_from_1960_yearly.tail()\n",
    "    \n",
    "    co2_from_1960_yearly = co2_switzerland.loc[:'2013-01-01']['float_reading']\n",
    "\n",
    "    corr_df = pd.concat([co2_from_1960_yearly, temp_from_1960_yearly], axis=1).resample('Y').median()\n",
    "    corr_df.columns = ['CO2', 'Temperature']\n",
    "    \n",
    "    plot = sns.heatmap(corr_df.corr(), annot=True)\n",
    "    plot.set_title('Correlation Heat Map CO2/Temperaturefrom {} to {}'.format(corr_df.index[0].year, corr_df.index[-1].year))\n",
    "    plt.show()\n",
    "\n",
    "temp_co2_correlation()"
   ]
  }
 ],
 "metadata": {
  "kernelspec": {
   "display_name": "Python 3",
   "language": "python",
   "name": "python3"
  },
  "language_info": {
   "codemirror_mode": {
    "name": "ipython",
    "version": 3
   },
   "file_extension": ".py",
   "mimetype": "text/x-python",
   "name": "python",
   "nbconvert_exporter": "python",
   "pygments_lexer": "ipython3",
   "version": "3.7.6"
  },
  "toc": {
   "base_numbering": 1,
   "nav_menu": {},
   "number_sections": true,
   "sideBar": true,
   "skip_h1_title": false,
   "title_cell": "Table of Contents",
   "title_sidebar": "Contents",
   "toc_cell": false,
   "toc_position": {},
   "toc_section_display": true,
   "toc_window_display": true
  }
 },
 "nbformat": 4,
 "nbformat_minor": 4
}
