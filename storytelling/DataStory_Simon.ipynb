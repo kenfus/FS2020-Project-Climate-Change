{
 "cells": [
  {
   "cell_type": "markdown",
   "metadata": {},
   "source": [
    "# Imports"
   ]
  },
  {
   "cell_type": "code",
   "execution_count": 68,
   "metadata": {
    "scrolled": true
   },
   "outputs": [
    {
     "name": "stdout",
     "output_type": "stream",
     "text": [
      "Path already exists.\n",
      "['C:\\\\Users\\\\simon\\\\Desktop\\\\FS2020-Project-Climate-Change\\\\storytelling', 'C:\\\\Users\\\\simon\\\\anaconda3\\\\python37.zip', 'C:\\\\Users\\\\simon\\\\anaconda3\\\\DLLs', 'C:\\\\Users\\\\simon\\\\anaconda3\\\\lib', 'C:\\\\Users\\\\simon\\\\anaconda3', '', 'C:\\\\Users\\\\simon\\\\anaconda3\\\\lib\\\\site-packages', 'C:\\\\Users\\\\simon\\\\anaconda3\\\\lib\\\\site-packages\\\\win32', 'C:\\\\Users\\\\simon\\\\anaconda3\\\\lib\\\\site-packages\\\\win32\\\\lib', 'C:\\\\Users\\\\simon\\\\anaconda3\\\\lib\\\\site-packages\\\\Pythonwin', 'C:\\\\Users\\\\simon\\\\anaconda3\\\\lib\\\\site-packages\\\\IPython\\\\extensions', 'C:\\\\Users\\\\simon\\\\.ipython', '../database', '../']\n"
     ]
    }
   ],
   "source": [
    "import sys\n",
    "\n",
    "database_path = '../'\n",
    "\n",
    "def import_system_path():\n",
    "    if database_path not in sys.path:\n",
    "        sys.path.append(database_path)\n",
    "        print('New path added to Sys.')\n",
    "    else:\n",
    "        print('Path already exists.')\n",
    "        \n",
    "import_system_path()\n",
    "print(sys.path)"
   ]
  },
  {
   "cell_type": "code",
   "execution_count": 69,
   "metadata": {},
   "outputs": [],
   "source": [
    "import numpy as np\n",
    "import pandas as pd\n",
    "\n",
    "\n",
    "import re\n",
    "\n",
    "import plotly.express as px\n",
    "import plotly.graph_objects as go\n",
    "import seaborn as sns\n",
    "\n",
    "from database.get_db_data import DataAccess"
   ]
  },
  {
   "cell_type": "markdown",
   "metadata": {},
   "source": [
    "## Import from DB"
   ]
  },
  {
   "cell_type": "code",
   "execution_count": 70,
   "metadata": {},
   "outputs": [],
   "source": [
    "da = DataAccess()"
   ]
  },
  {
   "cell_type": "code",
   "execution_count": 71,
   "metadata": {},
   "outputs": [],
   "source": [
    "df_global = da.get_global_data_db()\n",
    "df_swiss = da.get_swiss_data_db()"
   ]
  },
  {
   "cell_type": "code",
   "execution_count": 72,
   "metadata": {
    "scrolled": true
   },
   "outputs": [
    {
     "name": "stdout",
     "output_type": "stream",
     "text": [
      "dict_keys(['temperature', 'co2'])\n",
      "dict_keys(['precipitation', 'new_snow', 'sunshine', 'temperature'])\n"
     ]
    }
   ],
   "source": [
    "print(df_global.keys())\n",
    "print(df_swiss.keys())"
   ]
  },
  {
   "cell_type": "code",
   "execution_count": 74,
   "metadata": {},
   "outputs": [],
   "source": [
    "def extract_dataframes_swiss(df_dict):\n",
    "    \"\"\"\"\"\"\n",
    "    swiss_keys = list(df_dict.keys())\n",
    "    \n",
    "    prec = df_dict[swiss_keys[0]]    \n",
    "    snow = df_dict[swiss_keys[1]]    \n",
    "    sunshine = df_dict[swiss_keys[2]]    \n",
    "    temp = df_dict[swiss_keys[3]]\n",
    "    \n",
    "    return prec, snow, sunshine, temp\n",
    "\n",
    "\n",
    "def extract_dataframes_global(df_dict):\n",
    "    \"\"\"\"\"\"\n",
    "    global_keys = list(df_dict.keys())\n",
    "    \n",
    "    temp = df_dict[global_keys[0]]    \n",
    "    co2 = df_dict[global_keys[1]]\n",
    "    \n",
    "    return temp, co2"
   ]
  },
  {
   "cell_type": "code",
   "execution_count": 75,
   "metadata": {},
   "outputs": [],
   "source": [
    "swiss_precipitation, swiss_snow, swiss_sunshine, swiss_temp = extract_dataframes_swiss(df_swiss)\n",
    "temp_data, co2_data = extract_dataframes_global(df_global)"
   ]
  },
  {
   "cell_type": "markdown",
   "metadata": {},
   "source": [
    "# Helper Functions"
   ]
  },
  {
   "cell_type": "code",
   "execution_count": 173,
   "metadata": {},
   "outputs": [],
   "source": [
    "def swiss_places_column_titles(data):\n",
    "    \"\"\"Replaces the Header of the swiss data table with only alphabetic chars.\"\"\"\n",
    "    new_cols = []\n",
    "    \n",
    "    for i in data.columns:\n",
    "        result = re.sub(\"[1,2) ]\", '', i)\n",
    "        new_cols.append(result)\n",
    "    data.columns = new_cols\n",
    "    \n",
    "    return data  \n",
    "\n",
    "\n",
    "def get_continents(global_data):\n",
    "    \n",
    "    global_data = global_data.copy()\n",
    "    \n",
    "    data_url = 'https://datahub.io/JohnSnowLabs/country-and-continent-codes-list/datapackage.json'\n",
    "\n",
    "    package = datapackage.Package(data_url)\n",
    "\n",
    "    resources = package.resources\n",
    "    for resource in resources:\n",
    "        if resource.tabular:\n",
    "            continent_data = pd.read_csv(resource.descriptor['path'])\n",
    "    continent_data = continent_data[['Continent_Name', 'Three_Letter_Country_Code']]\n",
    "    \n",
    "            \n",
    "    global_data = pd.merge(left=continent_data, right=global_data, how='inner',\n",
    "                           left_on='Three_Letter_Country_Code', right_on='alpha_3').drop('Three_Letter_Country_Code',\n",
    "                                                                                             axis=1)\n",
    "    if global_data.columns[-1] == 'temperature':\n",
    "        global_data.columns = ['continent','date','country','alpha_3','temperature']\n",
    "    elif global_data.columns[-1] == 'co2':\n",
    "        global_data.columns = ['continent','date','country','alpha_3','co2']\n",
    "    \n",
    "    return global_data"
   ]
  },
  {
   "cell_type": "code",
   "execution_count": 176,
   "metadata": {},
   "outputs": [],
   "source": [
    "co2_data = get_continents(co2_data)\n",
    "temp_data = get_continents(temp_data)"
   ]
  },
  {
   "cell_type": "code",
   "execution_count": 78,
   "metadata": {},
   "outputs": [],
   "source": [
    "swiss_sunshine = swiss_places_column_titles(swiss_sunshine)\n",
    "swiss_precipitation = swiss_places_column_titles(swiss_precipitation)\n",
    "swiss_snow = swiss_places_column_titles(swiss_snow)\n",
    "swiss_temp = swiss_places_column_titles(swiss_temp)"
   ]
  },
  {
   "cell_type": "markdown",
   "metadata": {},
   "source": [
    "# Story"
   ]
  },
  {
   "cell_type": "markdown",
   "metadata": {},
   "source": [
    "Ich gehe jeden Winter zu meiner Grossmutter in die Skiferien nach Davos. Meine Grossmutter lebt bereits ihr ganzes Leben im Davoser-Dorf. Immer wieder tönt sie an, es gäbe von Jahr zu Jahr immer weniger Schnee im Dorf und auch im Skigebiet. Hat sich meine Grossmutter das nur ausgedacht oder steckt da wirklich einen Funken Wahrheit dahinter.\n",
    "Ich bin Data Scientist und sehr faktenorientiert und möchte mir dies einmal genauer ansehen. Ich fange mit der Recherche an...\n",
    "\n",
    "Ich finde eine Infografik über die jährliche gemessene Schneehöhe in Davos-Klosters."
   ]
  },
  {
   "cell_type": "code",
   "execution_count": 82,
   "metadata": {},
   "outputs": [
    {
     "name": "stderr",
     "output_type": "stream",
     "text": [
      "C:\\Users\\simon\\anaconda3\\lib\\site-packages\\pandas\\core\\ops\\array_ops.py:253: FutureWarning:\n",
      "\n",
      "elementwise comparison failed; returning scalar instead, but in the future will perform elementwise comparison\n",
      "\n"
     ]
    },
    {
     "data": {
      "application/vnd.plotly.v1+json": {
       "config": {
        "plotlyServerURL": "https://plot.ly"
       },
       "data": [
        {
         "alignmentgroup": "True",
         "hovertemplate": "Jahre=%{x}<br>Abweichung Neuschnee pro Jahr (cm)=%{y}<br>color=%{marker.color}<extra></extra>",
         "legendgroup": "",
         "marker": {
          "color": [
           1,
           0,
           0,
           1,
           0,
           1,
           0,
           0,
           1,
           1,
           0,
           0,
           0,
           1,
           1,
           0,
           1,
           0,
           0,
           0,
           0,
           1,
           0,
           1,
           0,
           1,
           0,
           1,
           0,
           0,
           1,
           0,
           0,
           0,
           1,
           0,
           0,
           0,
           0,
           0,
           0,
           0,
           0,
           0,
           0,
           0,
           0,
           1,
           0,
           0,
           0,
           0,
           0,
           1,
           1
          ],
          "coloraxis": "coloraxis",
          "opacity": 0.7
         },
         "name": "",
         "offsetgroup": "",
         "orientation": "v",
         "showlegend": false,
         "textposition": "auto",
         "type": "bar",
         "x": [
          1965,
          1966,
          1967,
          1968,
          1969,
          1970,
          1971,
          1972,
          1973,
          1974,
          1975,
          1976,
          1977,
          1978,
          1979,
          1980,
          1981,
          1982,
          1983,
          1984,
          1985,
          1986,
          1987,
          1988,
          1989,
          1990,
          1991,
          1992,
          1993,
          1994,
          1995,
          1996,
          1997,
          1998,
          1999,
          2000,
          2001,
          2002,
          2003,
          2004,
          2005,
          2006,
          2007,
          2008,
          2009,
          2010,
          2011,
          2012,
          2013,
          2014,
          2015,
          2016,
          2017,
          2018,
          2019
         ],
         "xaxis": "x",
         "y": [
          0,
          -6,
          -99,
          76,
          -179,
          132,
          -232,
          -236,
          45,
          188,
          -111,
          -140,
          -80,
          9,
          57,
          -45,
          107,
          -110,
          -47,
          -91,
          -164,
          127,
          -166,
          95,
          -288,
          11,
          -101,
          12,
          -47,
          -102,
          92,
          -184,
          -163,
          -123,
          303,
          -52,
          -130,
          -297,
          -224,
          -157,
          -87,
          -207,
          -94,
          -32,
          -36,
          -101,
          -101,
          139,
          -167,
          -141,
          -230,
          -91,
          -44,
          1,
          100
         ],
         "yaxis": "y"
        }
       ],
       "layout": {
        "barmode": "relative",
        "coloraxis": {
         "colorbar": {
          "title": {
           "text": "color"
          }
         },
         "colorscale": [
          [
           0,
           "red"
          ],
          [
           1,
           "blue"
          ]
         ],
         "showscale": false
        },
        "legend": {
         "tracegroupgap": 0
        },
        "template": {
         "data": {
          "bar": [
           {
            "error_x": {
             "color": "rgb(36,36,36)"
            },
            "error_y": {
             "color": "rgb(36,36,36)"
            },
            "marker": {
             "line": {
              "color": "white",
              "width": 0.5
             }
            },
            "type": "bar"
           }
          ],
          "barpolar": [
           {
            "marker": {
             "line": {
              "color": "white",
              "width": 0.5
             }
            },
            "type": "barpolar"
           }
          ],
          "carpet": [
           {
            "aaxis": {
             "endlinecolor": "rgb(36,36,36)",
             "gridcolor": "white",
             "linecolor": "white",
             "minorgridcolor": "white",
             "startlinecolor": "rgb(36,36,36)"
            },
            "baxis": {
             "endlinecolor": "rgb(36,36,36)",
             "gridcolor": "white",
             "linecolor": "white",
             "minorgridcolor": "white",
             "startlinecolor": "rgb(36,36,36)"
            },
            "type": "carpet"
           }
          ],
          "choropleth": [
           {
            "colorbar": {
             "outlinewidth": 1,
             "tickcolor": "rgb(36,36,36)",
             "ticks": "outside"
            },
            "type": "choropleth"
           }
          ],
          "contour": [
           {
            "colorbar": {
             "outlinewidth": 1,
             "tickcolor": "rgb(36,36,36)",
             "ticks": "outside"
            },
            "colorscale": [
             [
              0,
              "#440154"
             ],
             [
              0.1111111111111111,
              "#482878"
             ],
             [
              0.2222222222222222,
              "#3e4989"
             ],
             [
              0.3333333333333333,
              "#31688e"
             ],
             [
              0.4444444444444444,
              "#26828e"
             ],
             [
              0.5555555555555556,
              "#1f9e89"
             ],
             [
              0.6666666666666666,
              "#35b779"
             ],
             [
              0.7777777777777778,
              "#6ece58"
             ],
             [
              0.8888888888888888,
              "#b5de2b"
             ],
             [
              1,
              "#fde725"
             ]
            ],
            "type": "contour"
           }
          ],
          "contourcarpet": [
           {
            "colorbar": {
             "outlinewidth": 1,
             "tickcolor": "rgb(36,36,36)",
             "ticks": "outside"
            },
            "type": "contourcarpet"
           }
          ],
          "heatmap": [
           {
            "colorbar": {
             "outlinewidth": 1,
             "tickcolor": "rgb(36,36,36)",
             "ticks": "outside"
            },
            "colorscale": [
             [
              0,
              "#440154"
             ],
             [
              0.1111111111111111,
              "#482878"
             ],
             [
              0.2222222222222222,
              "#3e4989"
             ],
             [
              0.3333333333333333,
              "#31688e"
             ],
             [
              0.4444444444444444,
              "#26828e"
             ],
             [
              0.5555555555555556,
              "#1f9e89"
             ],
             [
              0.6666666666666666,
              "#35b779"
             ],
             [
              0.7777777777777778,
              "#6ece58"
             ],
             [
              0.8888888888888888,
              "#b5de2b"
             ],
             [
              1,
              "#fde725"
             ]
            ],
            "type": "heatmap"
           }
          ],
          "heatmapgl": [
           {
            "colorbar": {
             "outlinewidth": 1,
             "tickcolor": "rgb(36,36,36)",
             "ticks": "outside"
            },
            "colorscale": [
             [
              0,
              "#440154"
             ],
             [
              0.1111111111111111,
              "#482878"
             ],
             [
              0.2222222222222222,
              "#3e4989"
             ],
             [
              0.3333333333333333,
              "#31688e"
             ],
             [
              0.4444444444444444,
              "#26828e"
             ],
             [
              0.5555555555555556,
              "#1f9e89"
             ],
             [
              0.6666666666666666,
              "#35b779"
             ],
             [
              0.7777777777777778,
              "#6ece58"
             ],
             [
              0.8888888888888888,
              "#b5de2b"
             ],
             [
              1,
              "#fde725"
             ]
            ],
            "type": "heatmapgl"
           }
          ],
          "histogram": [
           {
            "marker": {
             "line": {
              "color": "white",
              "width": 0.6
             }
            },
            "type": "histogram"
           }
          ],
          "histogram2d": [
           {
            "colorbar": {
             "outlinewidth": 1,
             "tickcolor": "rgb(36,36,36)",
             "ticks": "outside"
            },
            "colorscale": [
             [
              0,
              "#440154"
             ],
             [
              0.1111111111111111,
              "#482878"
             ],
             [
              0.2222222222222222,
              "#3e4989"
             ],
             [
              0.3333333333333333,
              "#31688e"
             ],
             [
              0.4444444444444444,
              "#26828e"
             ],
             [
              0.5555555555555556,
              "#1f9e89"
             ],
             [
              0.6666666666666666,
              "#35b779"
             ],
             [
              0.7777777777777778,
              "#6ece58"
             ],
             [
              0.8888888888888888,
              "#b5de2b"
             ],
             [
              1,
              "#fde725"
             ]
            ],
            "type": "histogram2d"
           }
          ],
          "histogram2dcontour": [
           {
            "colorbar": {
             "outlinewidth": 1,
             "tickcolor": "rgb(36,36,36)",
             "ticks": "outside"
            },
            "colorscale": [
             [
              0,
              "#440154"
             ],
             [
              0.1111111111111111,
              "#482878"
             ],
             [
              0.2222222222222222,
              "#3e4989"
             ],
             [
              0.3333333333333333,
              "#31688e"
             ],
             [
              0.4444444444444444,
              "#26828e"
             ],
             [
              0.5555555555555556,
              "#1f9e89"
             ],
             [
              0.6666666666666666,
              "#35b779"
             ],
             [
              0.7777777777777778,
              "#6ece58"
             ],
             [
              0.8888888888888888,
              "#b5de2b"
             ],
             [
              1,
              "#fde725"
             ]
            ],
            "type": "histogram2dcontour"
           }
          ],
          "mesh3d": [
           {
            "colorbar": {
             "outlinewidth": 1,
             "tickcolor": "rgb(36,36,36)",
             "ticks": "outside"
            },
            "type": "mesh3d"
           }
          ],
          "parcoords": [
           {
            "line": {
             "colorbar": {
              "outlinewidth": 1,
              "tickcolor": "rgb(36,36,36)",
              "ticks": "outside"
             }
            },
            "type": "parcoords"
           }
          ],
          "pie": [
           {
            "automargin": true,
            "type": "pie"
           }
          ],
          "scatter": [
           {
            "marker": {
             "colorbar": {
              "outlinewidth": 1,
              "tickcolor": "rgb(36,36,36)",
              "ticks": "outside"
             }
            },
            "type": "scatter"
           }
          ],
          "scatter3d": [
           {
            "line": {
             "colorbar": {
              "outlinewidth": 1,
              "tickcolor": "rgb(36,36,36)",
              "ticks": "outside"
             }
            },
            "marker": {
             "colorbar": {
              "outlinewidth": 1,
              "tickcolor": "rgb(36,36,36)",
              "ticks": "outside"
             }
            },
            "type": "scatter3d"
           }
          ],
          "scattercarpet": [
           {
            "marker": {
             "colorbar": {
              "outlinewidth": 1,
              "tickcolor": "rgb(36,36,36)",
              "ticks": "outside"
             }
            },
            "type": "scattercarpet"
           }
          ],
          "scattergeo": [
           {
            "marker": {
             "colorbar": {
              "outlinewidth": 1,
              "tickcolor": "rgb(36,36,36)",
              "ticks": "outside"
             }
            },
            "type": "scattergeo"
           }
          ],
          "scattergl": [
           {
            "marker": {
             "colorbar": {
              "outlinewidth": 1,
              "tickcolor": "rgb(36,36,36)",
              "ticks": "outside"
             }
            },
            "type": "scattergl"
           }
          ],
          "scattermapbox": [
           {
            "marker": {
             "colorbar": {
              "outlinewidth": 1,
              "tickcolor": "rgb(36,36,36)",
              "ticks": "outside"
             }
            },
            "type": "scattermapbox"
           }
          ],
          "scatterpolar": [
           {
            "marker": {
             "colorbar": {
              "outlinewidth": 1,
              "tickcolor": "rgb(36,36,36)",
              "ticks": "outside"
             }
            },
            "type": "scatterpolar"
           }
          ],
          "scatterpolargl": [
           {
            "marker": {
             "colorbar": {
              "outlinewidth": 1,
              "tickcolor": "rgb(36,36,36)",
              "ticks": "outside"
             }
            },
            "type": "scatterpolargl"
           }
          ],
          "scatterternary": [
           {
            "marker": {
             "colorbar": {
              "outlinewidth": 1,
              "tickcolor": "rgb(36,36,36)",
              "ticks": "outside"
             }
            },
            "type": "scatterternary"
           }
          ],
          "surface": [
           {
            "colorbar": {
             "outlinewidth": 1,
             "tickcolor": "rgb(36,36,36)",
             "ticks": "outside"
            },
            "colorscale": [
             [
              0,
              "#440154"
             ],
             [
              0.1111111111111111,
              "#482878"
             ],
             [
              0.2222222222222222,
              "#3e4989"
             ],
             [
              0.3333333333333333,
              "#31688e"
             ],
             [
              0.4444444444444444,
              "#26828e"
             ],
             [
              0.5555555555555556,
              "#1f9e89"
             ],
             [
              0.6666666666666666,
              "#35b779"
             ],
             [
              0.7777777777777778,
              "#6ece58"
             ],
             [
              0.8888888888888888,
              "#b5de2b"
             ],
             [
              1,
              "#fde725"
             ]
            ],
            "type": "surface"
           }
          ],
          "table": [
           {
            "cells": {
             "fill": {
              "color": "rgb(237,237,237)"
             },
             "line": {
              "color": "white"
             }
            },
            "header": {
             "fill": {
              "color": "rgb(217,217,217)"
             },
             "line": {
              "color": "white"
             }
            },
            "type": "table"
           }
          ]
         },
         "layout": {
          "annotationdefaults": {
           "arrowhead": 0,
           "arrowwidth": 1
          },
          "coloraxis": {
           "colorbar": {
            "outlinewidth": 1,
            "tickcolor": "rgb(36,36,36)",
            "ticks": "outside"
           }
          },
          "colorscale": {
           "diverging": [
            [
             0,
             "rgb(103,0,31)"
            ],
            [
             0.1,
             "rgb(178,24,43)"
            ],
            [
             0.2,
             "rgb(214,96,77)"
            ],
            [
             0.3,
             "rgb(244,165,130)"
            ],
            [
             0.4,
             "rgb(253,219,199)"
            ],
            [
             0.5,
             "rgb(247,247,247)"
            ],
            [
             0.6,
             "rgb(209,229,240)"
            ],
            [
             0.7,
             "rgb(146,197,222)"
            ],
            [
             0.8,
             "rgb(67,147,195)"
            ],
            [
             0.9,
             "rgb(33,102,172)"
            ],
            [
             1,
             "rgb(5,48,97)"
            ]
           ],
           "sequential": [
            [
             0,
             "#440154"
            ],
            [
             0.1111111111111111,
             "#482878"
            ],
            [
             0.2222222222222222,
             "#3e4989"
            ],
            [
             0.3333333333333333,
             "#31688e"
            ],
            [
             0.4444444444444444,
             "#26828e"
            ],
            [
             0.5555555555555556,
             "#1f9e89"
            ],
            [
             0.6666666666666666,
             "#35b779"
            ],
            [
             0.7777777777777778,
             "#6ece58"
            ],
            [
             0.8888888888888888,
             "#b5de2b"
            ],
            [
             1,
             "#fde725"
            ]
           ],
           "sequentialminus": [
            [
             0,
             "#440154"
            ],
            [
             0.1111111111111111,
             "#482878"
            ],
            [
             0.2222222222222222,
             "#3e4989"
            ],
            [
             0.3333333333333333,
             "#31688e"
            ],
            [
             0.4444444444444444,
             "#26828e"
            ],
            [
             0.5555555555555556,
             "#1f9e89"
            ],
            [
             0.6666666666666666,
             "#35b779"
            ],
            [
             0.7777777777777778,
             "#6ece58"
            ],
            [
             0.8888888888888888,
             "#b5de2b"
            ],
            [
             1,
             "#fde725"
            ]
           ]
          },
          "colorway": [
           "#1F77B4",
           "#FF7F0E",
           "#2CA02C",
           "#D62728",
           "#9467BD",
           "#8C564B",
           "#E377C2",
           "#7F7F7F",
           "#BCBD22",
           "#17BECF"
          ],
          "font": {
           "color": "rgb(36,36,36)"
          },
          "geo": {
           "bgcolor": "white",
           "lakecolor": "white",
           "landcolor": "white",
           "showlakes": true,
           "showland": true,
           "subunitcolor": "white"
          },
          "hoverlabel": {
           "align": "left"
          },
          "hovermode": "closest",
          "mapbox": {
           "style": "light"
          },
          "paper_bgcolor": "white",
          "plot_bgcolor": "white",
          "polar": {
           "angularaxis": {
            "gridcolor": "rgb(232,232,232)",
            "linecolor": "rgb(36,36,36)",
            "showgrid": false,
            "showline": true,
            "ticks": "outside"
           },
           "bgcolor": "white",
           "radialaxis": {
            "gridcolor": "rgb(232,232,232)",
            "linecolor": "rgb(36,36,36)",
            "showgrid": false,
            "showline": true,
            "ticks": "outside"
           }
          },
          "scene": {
           "xaxis": {
            "backgroundcolor": "white",
            "gridcolor": "rgb(232,232,232)",
            "gridwidth": 2,
            "linecolor": "rgb(36,36,36)",
            "showbackground": true,
            "showgrid": false,
            "showline": true,
            "ticks": "outside",
            "zeroline": false,
            "zerolinecolor": "rgb(36,36,36)"
           },
           "yaxis": {
            "backgroundcolor": "white",
            "gridcolor": "rgb(232,232,232)",
            "gridwidth": 2,
            "linecolor": "rgb(36,36,36)",
            "showbackground": true,
            "showgrid": false,
            "showline": true,
            "ticks": "outside",
            "zeroline": false,
            "zerolinecolor": "rgb(36,36,36)"
           },
           "zaxis": {
            "backgroundcolor": "white",
            "gridcolor": "rgb(232,232,232)",
            "gridwidth": 2,
            "linecolor": "rgb(36,36,36)",
            "showbackground": true,
            "showgrid": false,
            "showline": true,
            "ticks": "outside",
            "zeroline": false,
            "zerolinecolor": "rgb(36,36,36)"
           }
          },
          "shapedefaults": {
           "fillcolor": "black",
           "line": {
            "width": 0
           },
           "opacity": 0.3
          },
          "ternary": {
           "aaxis": {
            "gridcolor": "rgb(232,232,232)",
            "linecolor": "rgb(36,36,36)",
            "showgrid": false,
            "showline": true,
            "ticks": "outside"
           },
           "baxis": {
            "gridcolor": "rgb(232,232,232)",
            "linecolor": "rgb(36,36,36)",
            "showgrid": false,
            "showline": true,
            "ticks": "outside"
           },
           "bgcolor": "white",
           "caxis": {
            "gridcolor": "rgb(232,232,232)",
            "linecolor": "rgb(36,36,36)",
            "showgrid": false,
            "showline": true,
            "ticks": "outside"
           }
          },
          "title": {
           "x": 0.05
          },
          "xaxis": {
           "automargin": true,
           "gridcolor": "rgb(232,232,232)",
           "linecolor": "rgb(36,36,36)",
           "showgrid": false,
           "showline": true,
           "ticks": "outside",
           "title": {
            "standoff": 15
           },
           "zeroline": false,
           "zerolinecolor": "rgb(36,36,36)"
          },
          "yaxis": {
           "automargin": true,
           "gridcolor": "rgb(232,232,232)",
           "linecolor": "rgb(36,36,36)",
           "showgrid": false,
           "showline": true,
           "ticks": "outside",
           "title": {
            "standoff": 15
           },
           "zeroline": false,
           "zerolinecolor": "rgb(36,36,36)"
          }
         }
        },
        "title": {
         "text": "Jährliche Abweichungen Neuschnee zu 1965 in Davos von 1965 bis 2019"
        },
        "xaxis": {
         "anchor": "y",
         "domain": [
          0,
          1
         ],
         "title": {
          "text": "Jahre"
         }
        },
        "yaxis": {
         "anchor": "x",
         "domain": [
          0,
          1
         ],
         "title": {
          "text": "Abweichung Neuschnee pro Jahr (cm)"
         }
        }
       }
      },
      "text/html": [
       "<div>\n",
       "        \n",
       "        \n",
       "            <div id=\"1902d511-5f6f-455d-b9d5-61c1383e57a0\" class=\"plotly-graph-div\" style=\"height:525px; width:100%;\"></div>\n",
       "            <script type=\"text/javascript\">\n",
       "                require([\"plotly\"], function(Plotly) {\n",
       "                    window.PLOTLYENV=window.PLOTLYENV || {};\n",
       "                    \n",
       "                if (document.getElementById(\"1902d511-5f6f-455d-b9d5-61c1383e57a0\")) {\n",
       "                    Plotly.newPlot(\n",
       "                        '1902d511-5f6f-455d-b9d5-61c1383e57a0',\n",
       "                        [{\"alignmentgroup\": \"True\", \"hovertemplate\": \"Jahre=%{x}<br>Abweichung Neuschnee pro Jahr (cm)=%{y}<br>color=%{marker.color}<extra></extra>\", \"legendgroup\": \"\", \"marker\": {\"color\": [1, 0, 0, 1, 0, 1, 0, 0, 1, 1, 0, 0, 0, 1, 1, 0, 1, 0, 0, 0, 0, 1, 0, 1, 0, 1, 0, 1, 0, 0, 1, 0, 0, 0, 1, 0, 0, 0, 0, 0, 0, 0, 0, 0, 0, 0, 0, 1, 0, 0, 0, 0, 0, 1, 1], \"coloraxis\": \"coloraxis\", \"opacity\": 0.7}, \"name\": \"\", \"offsetgroup\": \"\", \"orientation\": \"v\", \"showlegend\": false, \"textposition\": \"auto\", \"type\": \"bar\", \"x\": [1965, 1966, 1967, 1968, 1969, 1970, 1971, 1972, 1973, 1974, 1975, 1976, 1977, 1978, 1979, 1980, 1981, 1982, 1983, 1984, 1985, 1986, 1987, 1988, 1989, 1990, 1991, 1992, 1993, 1994, 1995, 1996, 1997, 1998, 1999, 2000, 2001, 2002, 2003, 2004, 2005, 2006, 2007, 2008, 2009, 2010, 2011, 2012, 2013, 2014, 2015, 2016, 2017, 2018, 2019], \"xaxis\": \"x\", \"y\": [0, -6, -99, 76, -179, 132, -232, -236, 45, 188, -111, -140, -80, 9, 57, -45, 107, -110, -47, -91, -164, 127, -166, 95, -288, 11, -101, 12, -47, -102, 92, -184, -163, -123, 303, -52, -130, -297, -224, -157, -87, -207, -94, -32, -36, -101, -101, 139, -167, -141, -230, -91, -44, 1, 100], \"yaxis\": \"y\"}],\n",
       "                        {\"barmode\": \"relative\", \"coloraxis\": {\"colorbar\": {\"title\": {\"text\": \"color\"}}, \"colorscale\": [[0.0, \"red\"], [1.0, \"blue\"]], \"showscale\": false}, \"legend\": {\"tracegroupgap\": 0}, \"template\": {\"data\": {\"bar\": [{\"error_x\": {\"color\": \"rgb(36,36,36)\"}, \"error_y\": {\"color\": \"rgb(36,36,36)\"}, \"marker\": {\"line\": {\"color\": \"white\", \"width\": 0.5}}, \"type\": \"bar\"}], \"barpolar\": [{\"marker\": {\"line\": {\"color\": \"white\", \"width\": 0.5}}, \"type\": \"barpolar\"}], \"carpet\": [{\"aaxis\": {\"endlinecolor\": \"rgb(36,36,36)\", \"gridcolor\": \"white\", \"linecolor\": \"white\", \"minorgridcolor\": \"white\", \"startlinecolor\": \"rgb(36,36,36)\"}, \"baxis\": {\"endlinecolor\": \"rgb(36,36,36)\", \"gridcolor\": \"white\", \"linecolor\": \"white\", \"minorgridcolor\": \"white\", \"startlinecolor\": \"rgb(36,36,36)\"}, \"type\": \"carpet\"}], \"choropleth\": [{\"colorbar\": {\"outlinewidth\": 1, \"tickcolor\": \"rgb(36,36,36)\", \"ticks\": \"outside\"}, \"type\": \"choropleth\"}], \"contour\": [{\"colorbar\": {\"outlinewidth\": 1, \"tickcolor\": \"rgb(36,36,36)\", \"ticks\": \"outside\"}, \"colorscale\": [[0.0, \"#440154\"], [0.1111111111111111, \"#482878\"], [0.2222222222222222, \"#3e4989\"], [0.3333333333333333, \"#31688e\"], [0.4444444444444444, \"#26828e\"], [0.5555555555555556, \"#1f9e89\"], [0.6666666666666666, \"#35b779\"], [0.7777777777777778, \"#6ece58\"], [0.8888888888888888, \"#b5de2b\"], [1.0, \"#fde725\"]], \"type\": \"contour\"}], \"contourcarpet\": [{\"colorbar\": {\"outlinewidth\": 1, \"tickcolor\": \"rgb(36,36,36)\", \"ticks\": \"outside\"}, \"type\": \"contourcarpet\"}], \"heatmap\": [{\"colorbar\": {\"outlinewidth\": 1, \"tickcolor\": \"rgb(36,36,36)\", \"ticks\": \"outside\"}, \"colorscale\": [[0.0, \"#440154\"], [0.1111111111111111, \"#482878\"], [0.2222222222222222, \"#3e4989\"], [0.3333333333333333, \"#31688e\"], [0.4444444444444444, \"#26828e\"], [0.5555555555555556, \"#1f9e89\"], [0.6666666666666666, \"#35b779\"], [0.7777777777777778, \"#6ece58\"], [0.8888888888888888, \"#b5de2b\"], [1.0, \"#fde725\"]], \"type\": \"heatmap\"}], \"heatmapgl\": [{\"colorbar\": {\"outlinewidth\": 1, \"tickcolor\": \"rgb(36,36,36)\", \"ticks\": \"outside\"}, \"colorscale\": [[0.0, \"#440154\"], [0.1111111111111111, \"#482878\"], [0.2222222222222222, \"#3e4989\"], [0.3333333333333333, \"#31688e\"], [0.4444444444444444, \"#26828e\"], [0.5555555555555556, \"#1f9e89\"], [0.6666666666666666, \"#35b779\"], [0.7777777777777778, \"#6ece58\"], [0.8888888888888888, \"#b5de2b\"], [1.0, \"#fde725\"]], \"type\": \"heatmapgl\"}], \"histogram\": [{\"marker\": {\"line\": {\"color\": \"white\", \"width\": 0.6}}, \"type\": \"histogram\"}], \"histogram2d\": [{\"colorbar\": {\"outlinewidth\": 1, \"tickcolor\": \"rgb(36,36,36)\", \"ticks\": \"outside\"}, \"colorscale\": [[0.0, \"#440154\"], [0.1111111111111111, \"#482878\"], [0.2222222222222222, \"#3e4989\"], [0.3333333333333333, \"#31688e\"], [0.4444444444444444, \"#26828e\"], [0.5555555555555556, \"#1f9e89\"], [0.6666666666666666, \"#35b779\"], [0.7777777777777778, \"#6ece58\"], [0.8888888888888888, \"#b5de2b\"], [1.0, \"#fde725\"]], \"type\": \"histogram2d\"}], \"histogram2dcontour\": [{\"colorbar\": {\"outlinewidth\": 1, \"tickcolor\": \"rgb(36,36,36)\", \"ticks\": \"outside\"}, \"colorscale\": [[0.0, \"#440154\"], [0.1111111111111111, \"#482878\"], [0.2222222222222222, \"#3e4989\"], [0.3333333333333333, \"#31688e\"], [0.4444444444444444, \"#26828e\"], [0.5555555555555556, \"#1f9e89\"], [0.6666666666666666, \"#35b779\"], [0.7777777777777778, \"#6ece58\"], [0.8888888888888888, \"#b5de2b\"], [1.0, \"#fde725\"]], \"type\": \"histogram2dcontour\"}], \"mesh3d\": [{\"colorbar\": {\"outlinewidth\": 1, \"tickcolor\": \"rgb(36,36,36)\", \"ticks\": \"outside\"}, \"type\": \"mesh3d\"}], \"parcoords\": [{\"line\": {\"colorbar\": {\"outlinewidth\": 1, \"tickcolor\": \"rgb(36,36,36)\", \"ticks\": \"outside\"}}, \"type\": \"parcoords\"}], \"pie\": [{\"automargin\": true, \"type\": \"pie\"}], \"scatter\": [{\"marker\": {\"colorbar\": {\"outlinewidth\": 1, \"tickcolor\": \"rgb(36,36,36)\", \"ticks\": \"outside\"}}, \"type\": \"scatter\"}], \"scatter3d\": [{\"line\": {\"colorbar\": {\"outlinewidth\": 1, \"tickcolor\": \"rgb(36,36,36)\", \"ticks\": \"outside\"}}, \"marker\": {\"colorbar\": {\"outlinewidth\": 1, \"tickcolor\": \"rgb(36,36,36)\", \"ticks\": \"outside\"}}, \"type\": \"scatter3d\"}], \"scattercarpet\": [{\"marker\": {\"colorbar\": {\"outlinewidth\": 1, \"tickcolor\": \"rgb(36,36,36)\", \"ticks\": \"outside\"}}, \"type\": \"scattercarpet\"}], \"scattergeo\": [{\"marker\": {\"colorbar\": {\"outlinewidth\": 1, \"tickcolor\": \"rgb(36,36,36)\", \"ticks\": \"outside\"}}, \"type\": \"scattergeo\"}], \"scattergl\": [{\"marker\": {\"colorbar\": {\"outlinewidth\": 1, \"tickcolor\": \"rgb(36,36,36)\", \"ticks\": \"outside\"}}, \"type\": \"scattergl\"}], \"scattermapbox\": [{\"marker\": {\"colorbar\": {\"outlinewidth\": 1, \"tickcolor\": \"rgb(36,36,36)\", \"ticks\": \"outside\"}}, \"type\": \"scattermapbox\"}], \"scatterpolar\": [{\"marker\": {\"colorbar\": {\"outlinewidth\": 1, \"tickcolor\": \"rgb(36,36,36)\", \"ticks\": \"outside\"}}, \"type\": \"scatterpolar\"}], \"scatterpolargl\": [{\"marker\": {\"colorbar\": {\"outlinewidth\": 1, \"tickcolor\": \"rgb(36,36,36)\", \"ticks\": \"outside\"}}, \"type\": \"scatterpolargl\"}], \"scatterternary\": [{\"marker\": {\"colorbar\": {\"outlinewidth\": 1, \"tickcolor\": \"rgb(36,36,36)\", \"ticks\": \"outside\"}}, \"type\": \"scatterternary\"}], \"surface\": [{\"colorbar\": {\"outlinewidth\": 1, \"tickcolor\": \"rgb(36,36,36)\", \"ticks\": \"outside\"}, \"colorscale\": [[0.0, \"#440154\"], [0.1111111111111111, \"#482878\"], [0.2222222222222222, \"#3e4989\"], [0.3333333333333333, \"#31688e\"], [0.4444444444444444, \"#26828e\"], [0.5555555555555556, \"#1f9e89\"], [0.6666666666666666, \"#35b779\"], [0.7777777777777778, \"#6ece58\"], [0.8888888888888888, \"#b5de2b\"], [1.0, \"#fde725\"]], \"type\": \"surface\"}], \"table\": [{\"cells\": {\"fill\": {\"color\": \"rgb(237,237,237)\"}, \"line\": {\"color\": \"white\"}}, \"header\": {\"fill\": {\"color\": \"rgb(217,217,217)\"}, \"line\": {\"color\": \"white\"}}, \"type\": \"table\"}]}, \"layout\": {\"annotationdefaults\": {\"arrowhead\": 0, \"arrowwidth\": 1}, \"coloraxis\": {\"colorbar\": {\"outlinewidth\": 1, \"tickcolor\": \"rgb(36,36,36)\", \"ticks\": \"outside\"}}, \"colorscale\": {\"diverging\": [[0.0, \"rgb(103,0,31)\"], [0.1, \"rgb(178,24,43)\"], [0.2, \"rgb(214,96,77)\"], [0.3, \"rgb(244,165,130)\"], [0.4, \"rgb(253,219,199)\"], [0.5, \"rgb(247,247,247)\"], [0.6, \"rgb(209,229,240)\"], [0.7, \"rgb(146,197,222)\"], [0.8, \"rgb(67,147,195)\"], [0.9, \"rgb(33,102,172)\"], [1.0, \"rgb(5,48,97)\"]], \"sequential\": [[0.0, \"#440154\"], [0.1111111111111111, \"#482878\"], [0.2222222222222222, \"#3e4989\"], [0.3333333333333333, \"#31688e\"], [0.4444444444444444, \"#26828e\"], [0.5555555555555556, \"#1f9e89\"], [0.6666666666666666, \"#35b779\"], [0.7777777777777778, \"#6ece58\"], [0.8888888888888888, \"#b5de2b\"], [1.0, \"#fde725\"]], \"sequentialminus\": [[0.0, \"#440154\"], [0.1111111111111111, \"#482878\"], [0.2222222222222222, \"#3e4989\"], [0.3333333333333333, \"#31688e\"], [0.4444444444444444, \"#26828e\"], [0.5555555555555556, \"#1f9e89\"], [0.6666666666666666, \"#35b779\"], [0.7777777777777778, \"#6ece58\"], [0.8888888888888888, \"#b5de2b\"], [1.0, \"#fde725\"]]}, \"colorway\": [\"#1F77B4\", \"#FF7F0E\", \"#2CA02C\", \"#D62728\", \"#9467BD\", \"#8C564B\", \"#E377C2\", \"#7F7F7F\", \"#BCBD22\", \"#17BECF\"], \"font\": {\"color\": \"rgb(36,36,36)\"}, \"geo\": {\"bgcolor\": \"white\", \"lakecolor\": \"white\", \"landcolor\": \"white\", \"showlakes\": true, \"showland\": true, \"subunitcolor\": \"white\"}, \"hoverlabel\": {\"align\": \"left\"}, \"hovermode\": \"closest\", \"mapbox\": {\"style\": \"light\"}, \"paper_bgcolor\": \"white\", \"plot_bgcolor\": \"white\", \"polar\": {\"angularaxis\": {\"gridcolor\": \"rgb(232,232,232)\", \"linecolor\": \"rgb(36,36,36)\", \"showgrid\": false, \"showline\": true, \"ticks\": \"outside\"}, \"bgcolor\": \"white\", \"radialaxis\": {\"gridcolor\": \"rgb(232,232,232)\", \"linecolor\": \"rgb(36,36,36)\", \"showgrid\": false, \"showline\": true, \"ticks\": \"outside\"}}, \"scene\": {\"xaxis\": {\"backgroundcolor\": \"white\", \"gridcolor\": \"rgb(232,232,232)\", \"gridwidth\": 2, \"linecolor\": \"rgb(36,36,36)\", \"showbackground\": true, \"showgrid\": false, \"showline\": true, \"ticks\": \"outside\", \"zeroline\": false, \"zerolinecolor\": \"rgb(36,36,36)\"}, \"yaxis\": {\"backgroundcolor\": \"white\", \"gridcolor\": \"rgb(232,232,232)\", \"gridwidth\": 2, \"linecolor\": \"rgb(36,36,36)\", \"showbackground\": true, \"showgrid\": false, \"showline\": true, \"ticks\": \"outside\", \"zeroline\": false, \"zerolinecolor\": \"rgb(36,36,36)\"}, \"zaxis\": {\"backgroundcolor\": \"white\", \"gridcolor\": \"rgb(232,232,232)\", \"gridwidth\": 2, \"linecolor\": \"rgb(36,36,36)\", \"showbackground\": true, \"showgrid\": false, \"showline\": true, \"ticks\": \"outside\", \"zeroline\": false, \"zerolinecolor\": \"rgb(36,36,36)\"}}, \"shapedefaults\": {\"fillcolor\": \"black\", \"line\": {\"width\": 0}, \"opacity\": 0.3}, \"ternary\": {\"aaxis\": {\"gridcolor\": \"rgb(232,232,232)\", \"linecolor\": \"rgb(36,36,36)\", \"showgrid\": false, \"showline\": true, \"ticks\": \"outside\"}, \"baxis\": {\"gridcolor\": \"rgb(232,232,232)\", \"linecolor\": \"rgb(36,36,36)\", \"showgrid\": false, \"showline\": true, \"ticks\": \"outside\"}, \"bgcolor\": \"white\", \"caxis\": {\"gridcolor\": \"rgb(232,232,232)\", \"linecolor\": \"rgb(36,36,36)\", \"showgrid\": false, \"showline\": true, \"ticks\": \"outside\"}}, \"title\": {\"x\": 0.05}, \"xaxis\": {\"automargin\": true, \"gridcolor\": \"rgb(232,232,232)\", \"linecolor\": \"rgb(36,36,36)\", \"showgrid\": false, \"showline\": true, \"ticks\": \"outside\", \"title\": {\"standoff\": 15}, \"zeroline\": false, \"zerolinecolor\": \"rgb(36,36,36)\"}, \"yaxis\": {\"automargin\": true, \"gridcolor\": \"rgb(232,232,232)\", \"linecolor\": \"rgb(36,36,36)\", \"showgrid\": false, \"showline\": true, \"ticks\": \"outside\", \"title\": {\"standoff\": 15}, \"zeroline\": false, \"zerolinecolor\": \"rgb(36,36,36)\"}}}, \"title\": {\"text\": \"J\\u00e4hrliche Abweichungen Neuschnee zu 1965 in Davos von 1965 bis 2019\"}, \"xaxis\": {\"anchor\": \"y\", \"domain\": [0.0, 1.0], \"title\": {\"text\": \"Jahre\"}}, \"yaxis\": {\"anchor\": \"x\", \"domain\": [0.0, 1.0], \"title\": {\"text\": \"Abweichung Neuschnee pro Jahr (cm)\"}}},\n",
       "                        {\"responsive\": true}\n",
       "                    ).then(function(){\n",
       "                            \n",
       "var gd = document.getElementById('1902d511-5f6f-455d-b9d5-61c1383e57a0');\n",
       "var x = new MutationObserver(function (mutations, observer) {{\n",
       "        var display = window.getComputedStyle(gd).display;\n",
       "        if (!display || display === 'none') {{\n",
       "            console.log([gd, 'removed!']);\n",
       "            Plotly.purge(gd);\n",
       "            observer.disconnect();\n",
       "        }}\n",
       "}});\n",
       "\n",
       "// Listen for the removal of the full notebook cells\n",
       "var notebookContainer = gd.closest('#notebook-container');\n",
       "if (notebookContainer) {{\n",
       "    x.observe(notebookContainer, {childList: true});\n",
       "}}\n",
       "\n",
       "// Listen for the clearing of the current output cell\n",
       "var outputEl = gd.closest('.output');\n",
       "if (outputEl) {{\n",
       "    x.observe(outputEl, {childList: true});\n",
       "}}\n",
       "\n",
       "                        })\n",
       "                };\n",
       "                });\n",
       "            </script>\n",
       "        </div>"
      ]
     },
     "metadata": {},
     "output_type": "display_data"
    }
   ],
   "source": [
    "def lineplot_davos_snow(data):\n",
    "    \n",
    "    data = data.pivot_table(index='year', columns='region', values='new_snow')\n",
    "    data = swiss_places_column_titles(data)\n",
    "    data = data['DavosWSL']\n",
    "    new_val = np.where(data == '...' ,None , data*1)\n",
    "    data = pd.DataFrame(new_val, index=data.index).dropna().astype('int')\n",
    "    \n",
    "    data = data - data.iloc[0]\n",
    "    data.loc[:,'color'] = np.where(data >= 0, 1, 0)\n",
    "    data.columns = ['snow', 'color']\n",
    "    data.index = pd.to_numeric(data.index)\n",
    "  \n",
    "    fig = px.bar(x=data.index, \n",
    "                 y=data['snow'], \n",
    "                 color=data['color'], \n",
    "                 title='Jährliche Abweichungen Neuschnee zu {} in Davos von {} bis {}'.format(data.index[0], data.index[0], data.index[-1]),\n",
    "                 labels={'x':'Jahre', 'y':'Abweichung Neuschnee pro Jahr (cm)'},  \n",
    "                 template='simple_white',\n",
    "                 color_continuous_scale=['red', 'blue'],\n",
    "                 opacity=0.7\n",
    "            )\n",
    "    \n",
    "    fig.update(layout_coloraxis_showscale=False)\n",
    "    fig.show()\n",
    "     \n",
    "lineplot_davos_snow(swiss_snow)"
   ]
  },
  {
   "cell_type": "code",
   "execution_count": 84,
   "metadata": {},
   "outputs": [
    {
     "data": {
      "application/vnd.plotly.v1+json": {
       "config": {
        "plotlyServerURL": "https://plot.ly"
       },
       "data": [
        {
         "hovertemplate": "Jahre=%{x}<br>Abweichung Neuschnee pro Jahr (cm)=%{y}<br>color=%{marker.color}<extra></extra>",
         "legendgroup": "",
         "marker": {
          "color": [
           1,
           0,
           0,
           1,
           0,
           1,
           0,
           0,
           1,
           1,
           0,
           0,
           0,
           1,
           1,
           0,
           1,
           0,
           0,
           0,
           0,
           1,
           0,
           1,
           0,
           1,
           0,
           1,
           0,
           0,
           1,
           0,
           0,
           0,
           1,
           0,
           0,
           0,
           0,
           0,
           0,
           0,
           0,
           0,
           0,
           0,
           0,
           1,
           0,
           0,
           0,
           0,
           0,
           1,
           1
          ],
          "coloraxis": "coloraxis",
          "symbol": "circle"
         },
         "mode": "lines",
         "name": "",
         "showlegend": false,
         "type": "scatter",
         "x": [
          1965,
          1966,
          1967,
          1968,
          1969,
          1970,
          1971,
          1972,
          1973,
          1974,
          1975,
          1976,
          1977,
          1978,
          1979,
          1980,
          1981,
          1982,
          1983,
          1984,
          1985,
          1986,
          1987,
          1988,
          1989,
          1990,
          1991,
          1992,
          1993,
          1994,
          1995,
          1996,
          1997,
          1998,
          1999,
          2000,
          2001,
          2002,
          2003,
          2004,
          2005,
          2006,
          2007,
          2008,
          2009,
          2010,
          2011,
          2012,
          2013,
          2014,
          2015,
          2016,
          2017,
          2018,
          2019
         ],
         "xaxis": "x",
         "y": [
          0,
          -6,
          -99,
          76,
          -179,
          132,
          -232,
          -236,
          45,
          188,
          -111,
          -140,
          -80,
          9,
          57,
          -45,
          107,
          -110,
          -47,
          -91,
          -164,
          127,
          -166,
          95,
          -288,
          11,
          -101,
          12,
          -47,
          -102,
          92,
          -184,
          -163,
          -123,
          303,
          -52,
          -130,
          -297,
          -224,
          -157,
          -87,
          -207,
          -94,
          -32,
          -36,
          -101,
          -101,
          139,
          -167,
          -141,
          -230,
          -91,
          -44,
          1,
          100
         ],
         "yaxis": "y"
        },
        {
         "hovertemplate": "<b>OLS trendline</b><br>y = -0.995527 * x + 1921.07<br>R<sup>2</sup>=0.016267<br><br>Jahre=%{x}<br>Abweichung Neuschnee pro Jahr (cm)=%{y} <b>(trend)</b><extra></extra>",
         "legendgroup": "",
         "marker": {
          "symbol": "circle"
         },
         "mode": "lines",
         "name": "",
         "showlegend": false,
         "type": "scatter",
         "x": [
          1965,
          1966,
          1967,
          1968,
          1969,
          1970,
          1971,
          1972,
          1973,
          1974,
          1975,
          1976,
          1977,
          1978,
          1979,
          1980,
          1981,
          1982,
          1983,
          1984,
          1985,
          1986,
          1987,
          1988,
          1989,
          1990,
          1991,
          1992,
          1993,
          1994,
          1995,
          1996,
          1997,
          1998,
          1999,
          2000,
          2001,
          2002,
          2003,
          2004,
          2005,
          2006,
          2007,
          2008,
          2009,
          2010,
          2011,
          2012,
          2013,
          2014,
          2015,
          2016,
          2017,
          2018,
          2019
         ],
         "xaxis": "x",
         "y": [
          -35.138961038961725,
          -36.1344877344884,
          -37.13001443001508,
          -38.12554112554176,
          -39.121067821068436,
          -40.116594516595114,
          -41.11212121212179,
          -42.10764790764847,
          -43.103174603175376,
          -44.09870129870205,
          -45.09422799422873,
          -46.08975468975541,
          -47.08528138528209,
          -48.080808080808765,
          -49.07633477633544,
          -50.07186147186212,
          -51.0673881673888,
          -52.06291486291548,
          -53.058441558442155,
          -54.05396825396883,
          -55.04949494949551,
          -56.04502164502219,
          -57.040548340549094,
          -58.03607503607577,
          -59.03160173160245,
          -60.02712842712913,
          -61.022655122655806,
          -62.018181818182484,
          -63.01370851370916,
          -64.00923520923584,
          -65.00476190476252,
          -66.0002886002892,
          -66.99581529581587,
          -67.99134199134255,
          -68.98686868686923,
          -69.98239538239613,
          -70.97792207792281,
          -71.97344877344949,
          -72.96897546897617,
          -73.96450216450285,
          -74.96002886002952,
          -75.9555555555562,
          -76.95108225108288,
          -77.94660894660956,
          -78.94213564213624,
          -79.93766233766291,
          -80.93318903318959,
          -81.92871572871627,
          -82.92424242424295,
          -83.91976911976985,
          -84.91529581529653,
          -85.91082251082321,
          -86.90634920634989,
          -87.90187590187656,
          -88.89740259740324
         ],
         "yaxis": "y"
        }
       ],
       "layout": {
        "coloraxis": {
         "colorbar": {
          "title": {
           "text": "color"
          }
         },
         "colorscale": [
          [
           0,
           "#440154"
          ],
          [
           0.1111111111111111,
           "#482878"
          ],
          [
           0.2222222222222222,
           "#3e4989"
          ],
          [
           0.3333333333333333,
           "#31688e"
          ],
          [
           0.4444444444444444,
           "#26828e"
          ],
          [
           0.5555555555555556,
           "#1f9e89"
          ],
          [
           0.6666666666666666,
           "#35b779"
          ],
          [
           0.7777777777777778,
           "#6ece58"
          ],
          [
           0.8888888888888888,
           "#b5de2b"
          ],
          [
           1,
           "#fde725"
          ]
         ],
         "showscale": false
        },
        "legend": {
         "tracegroupgap": 0
        },
        "template": {
         "data": {
          "bar": [
           {
            "error_x": {
             "color": "rgb(36,36,36)"
            },
            "error_y": {
             "color": "rgb(36,36,36)"
            },
            "marker": {
             "line": {
              "color": "white",
              "width": 0.5
             }
            },
            "type": "bar"
           }
          ],
          "barpolar": [
           {
            "marker": {
             "line": {
              "color": "white",
              "width": 0.5
             }
            },
            "type": "barpolar"
           }
          ],
          "carpet": [
           {
            "aaxis": {
             "endlinecolor": "rgb(36,36,36)",
             "gridcolor": "white",
             "linecolor": "white",
             "minorgridcolor": "white",
             "startlinecolor": "rgb(36,36,36)"
            },
            "baxis": {
             "endlinecolor": "rgb(36,36,36)",
             "gridcolor": "white",
             "linecolor": "white",
             "minorgridcolor": "white",
             "startlinecolor": "rgb(36,36,36)"
            },
            "type": "carpet"
           }
          ],
          "choropleth": [
           {
            "colorbar": {
             "outlinewidth": 1,
             "tickcolor": "rgb(36,36,36)",
             "ticks": "outside"
            },
            "type": "choropleth"
           }
          ],
          "contour": [
           {
            "colorbar": {
             "outlinewidth": 1,
             "tickcolor": "rgb(36,36,36)",
             "ticks": "outside"
            },
            "colorscale": [
             [
              0,
              "#440154"
             ],
             [
              0.1111111111111111,
              "#482878"
             ],
             [
              0.2222222222222222,
              "#3e4989"
             ],
             [
              0.3333333333333333,
              "#31688e"
             ],
             [
              0.4444444444444444,
              "#26828e"
             ],
             [
              0.5555555555555556,
              "#1f9e89"
             ],
             [
              0.6666666666666666,
              "#35b779"
             ],
             [
              0.7777777777777778,
              "#6ece58"
             ],
             [
              0.8888888888888888,
              "#b5de2b"
             ],
             [
              1,
              "#fde725"
             ]
            ],
            "type": "contour"
           }
          ],
          "contourcarpet": [
           {
            "colorbar": {
             "outlinewidth": 1,
             "tickcolor": "rgb(36,36,36)",
             "ticks": "outside"
            },
            "type": "contourcarpet"
           }
          ],
          "heatmap": [
           {
            "colorbar": {
             "outlinewidth": 1,
             "tickcolor": "rgb(36,36,36)",
             "ticks": "outside"
            },
            "colorscale": [
             [
              0,
              "#440154"
             ],
             [
              0.1111111111111111,
              "#482878"
             ],
             [
              0.2222222222222222,
              "#3e4989"
             ],
             [
              0.3333333333333333,
              "#31688e"
             ],
             [
              0.4444444444444444,
              "#26828e"
             ],
             [
              0.5555555555555556,
              "#1f9e89"
             ],
             [
              0.6666666666666666,
              "#35b779"
             ],
             [
              0.7777777777777778,
              "#6ece58"
             ],
             [
              0.8888888888888888,
              "#b5de2b"
             ],
             [
              1,
              "#fde725"
             ]
            ],
            "type": "heatmap"
           }
          ],
          "heatmapgl": [
           {
            "colorbar": {
             "outlinewidth": 1,
             "tickcolor": "rgb(36,36,36)",
             "ticks": "outside"
            },
            "colorscale": [
             [
              0,
              "#440154"
             ],
             [
              0.1111111111111111,
              "#482878"
             ],
             [
              0.2222222222222222,
              "#3e4989"
             ],
             [
              0.3333333333333333,
              "#31688e"
             ],
             [
              0.4444444444444444,
              "#26828e"
             ],
             [
              0.5555555555555556,
              "#1f9e89"
             ],
             [
              0.6666666666666666,
              "#35b779"
             ],
             [
              0.7777777777777778,
              "#6ece58"
             ],
             [
              0.8888888888888888,
              "#b5de2b"
             ],
             [
              1,
              "#fde725"
             ]
            ],
            "type": "heatmapgl"
           }
          ],
          "histogram": [
           {
            "marker": {
             "line": {
              "color": "white",
              "width": 0.6
             }
            },
            "type": "histogram"
           }
          ],
          "histogram2d": [
           {
            "colorbar": {
             "outlinewidth": 1,
             "tickcolor": "rgb(36,36,36)",
             "ticks": "outside"
            },
            "colorscale": [
             [
              0,
              "#440154"
             ],
             [
              0.1111111111111111,
              "#482878"
             ],
             [
              0.2222222222222222,
              "#3e4989"
             ],
             [
              0.3333333333333333,
              "#31688e"
             ],
             [
              0.4444444444444444,
              "#26828e"
             ],
             [
              0.5555555555555556,
              "#1f9e89"
             ],
             [
              0.6666666666666666,
              "#35b779"
             ],
             [
              0.7777777777777778,
              "#6ece58"
             ],
             [
              0.8888888888888888,
              "#b5de2b"
             ],
             [
              1,
              "#fde725"
             ]
            ],
            "type": "histogram2d"
           }
          ],
          "histogram2dcontour": [
           {
            "colorbar": {
             "outlinewidth": 1,
             "tickcolor": "rgb(36,36,36)",
             "ticks": "outside"
            },
            "colorscale": [
             [
              0,
              "#440154"
             ],
             [
              0.1111111111111111,
              "#482878"
             ],
             [
              0.2222222222222222,
              "#3e4989"
             ],
             [
              0.3333333333333333,
              "#31688e"
             ],
             [
              0.4444444444444444,
              "#26828e"
             ],
             [
              0.5555555555555556,
              "#1f9e89"
             ],
             [
              0.6666666666666666,
              "#35b779"
             ],
             [
              0.7777777777777778,
              "#6ece58"
             ],
             [
              0.8888888888888888,
              "#b5de2b"
             ],
             [
              1,
              "#fde725"
             ]
            ],
            "type": "histogram2dcontour"
           }
          ],
          "mesh3d": [
           {
            "colorbar": {
             "outlinewidth": 1,
             "tickcolor": "rgb(36,36,36)",
             "ticks": "outside"
            },
            "type": "mesh3d"
           }
          ],
          "parcoords": [
           {
            "line": {
             "colorbar": {
              "outlinewidth": 1,
              "tickcolor": "rgb(36,36,36)",
              "ticks": "outside"
             }
            },
            "type": "parcoords"
           }
          ],
          "pie": [
           {
            "automargin": true,
            "type": "pie"
           }
          ],
          "scatter": [
           {
            "marker": {
             "colorbar": {
              "outlinewidth": 1,
              "tickcolor": "rgb(36,36,36)",
              "ticks": "outside"
             }
            },
            "type": "scatter"
           }
          ],
          "scatter3d": [
           {
            "line": {
             "colorbar": {
              "outlinewidth": 1,
              "tickcolor": "rgb(36,36,36)",
              "ticks": "outside"
             }
            },
            "marker": {
             "colorbar": {
              "outlinewidth": 1,
              "tickcolor": "rgb(36,36,36)",
              "ticks": "outside"
             }
            },
            "type": "scatter3d"
           }
          ],
          "scattercarpet": [
           {
            "marker": {
             "colorbar": {
              "outlinewidth": 1,
              "tickcolor": "rgb(36,36,36)",
              "ticks": "outside"
             }
            },
            "type": "scattercarpet"
           }
          ],
          "scattergeo": [
           {
            "marker": {
             "colorbar": {
              "outlinewidth": 1,
              "tickcolor": "rgb(36,36,36)",
              "ticks": "outside"
             }
            },
            "type": "scattergeo"
           }
          ],
          "scattergl": [
           {
            "marker": {
             "colorbar": {
              "outlinewidth": 1,
              "tickcolor": "rgb(36,36,36)",
              "ticks": "outside"
             }
            },
            "type": "scattergl"
           }
          ],
          "scattermapbox": [
           {
            "marker": {
             "colorbar": {
              "outlinewidth": 1,
              "tickcolor": "rgb(36,36,36)",
              "ticks": "outside"
             }
            },
            "type": "scattermapbox"
           }
          ],
          "scatterpolar": [
           {
            "marker": {
             "colorbar": {
              "outlinewidth": 1,
              "tickcolor": "rgb(36,36,36)",
              "ticks": "outside"
             }
            },
            "type": "scatterpolar"
           }
          ],
          "scatterpolargl": [
           {
            "marker": {
             "colorbar": {
              "outlinewidth": 1,
              "tickcolor": "rgb(36,36,36)",
              "ticks": "outside"
             }
            },
            "type": "scatterpolargl"
           }
          ],
          "scatterternary": [
           {
            "marker": {
             "colorbar": {
              "outlinewidth": 1,
              "tickcolor": "rgb(36,36,36)",
              "ticks": "outside"
             }
            },
            "type": "scatterternary"
           }
          ],
          "surface": [
           {
            "colorbar": {
             "outlinewidth": 1,
             "tickcolor": "rgb(36,36,36)",
             "ticks": "outside"
            },
            "colorscale": [
             [
              0,
              "#440154"
             ],
             [
              0.1111111111111111,
              "#482878"
             ],
             [
              0.2222222222222222,
              "#3e4989"
             ],
             [
              0.3333333333333333,
              "#31688e"
             ],
             [
              0.4444444444444444,
              "#26828e"
             ],
             [
              0.5555555555555556,
              "#1f9e89"
             ],
             [
              0.6666666666666666,
              "#35b779"
             ],
             [
              0.7777777777777778,
              "#6ece58"
             ],
             [
              0.8888888888888888,
              "#b5de2b"
             ],
             [
              1,
              "#fde725"
             ]
            ],
            "type": "surface"
           }
          ],
          "table": [
           {
            "cells": {
             "fill": {
              "color": "rgb(237,237,237)"
             },
             "line": {
              "color": "white"
             }
            },
            "header": {
             "fill": {
              "color": "rgb(217,217,217)"
             },
             "line": {
              "color": "white"
             }
            },
            "type": "table"
           }
          ]
         },
         "layout": {
          "annotationdefaults": {
           "arrowhead": 0,
           "arrowwidth": 1
          },
          "coloraxis": {
           "colorbar": {
            "outlinewidth": 1,
            "tickcolor": "rgb(36,36,36)",
            "ticks": "outside"
           }
          },
          "colorscale": {
           "diverging": [
            [
             0,
             "rgb(103,0,31)"
            ],
            [
             0.1,
             "rgb(178,24,43)"
            ],
            [
             0.2,
             "rgb(214,96,77)"
            ],
            [
             0.3,
             "rgb(244,165,130)"
            ],
            [
             0.4,
             "rgb(253,219,199)"
            ],
            [
             0.5,
             "rgb(247,247,247)"
            ],
            [
             0.6,
             "rgb(209,229,240)"
            ],
            [
             0.7,
             "rgb(146,197,222)"
            ],
            [
             0.8,
             "rgb(67,147,195)"
            ],
            [
             0.9,
             "rgb(33,102,172)"
            ],
            [
             1,
             "rgb(5,48,97)"
            ]
           ],
           "sequential": [
            [
             0,
             "#440154"
            ],
            [
             0.1111111111111111,
             "#482878"
            ],
            [
             0.2222222222222222,
             "#3e4989"
            ],
            [
             0.3333333333333333,
             "#31688e"
            ],
            [
             0.4444444444444444,
             "#26828e"
            ],
            [
             0.5555555555555556,
             "#1f9e89"
            ],
            [
             0.6666666666666666,
             "#35b779"
            ],
            [
             0.7777777777777778,
             "#6ece58"
            ],
            [
             0.8888888888888888,
             "#b5de2b"
            ],
            [
             1,
             "#fde725"
            ]
           ],
           "sequentialminus": [
            [
             0,
             "#440154"
            ],
            [
             0.1111111111111111,
             "#482878"
            ],
            [
             0.2222222222222222,
             "#3e4989"
            ],
            [
             0.3333333333333333,
             "#31688e"
            ],
            [
             0.4444444444444444,
             "#26828e"
            ],
            [
             0.5555555555555556,
             "#1f9e89"
            ],
            [
             0.6666666666666666,
             "#35b779"
            ],
            [
             0.7777777777777778,
             "#6ece58"
            ],
            [
             0.8888888888888888,
             "#b5de2b"
            ],
            [
             1,
             "#fde725"
            ]
           ]
          },
          "colorway": [
           "#1F77B4",
           "#FF7F0E",
           "#2CA02C",
           "#D62728",
           "#9467BD",
           "#8C564B",
           "#E377C2",
           "#7F7F7F",
           "#BCBD22",
           "#17BECF"
          ],
          "font": {
           "color": "rgb(36,36,36)"
          },
          "geo": {
           "bgcolor": "white",
           "lakecolor": "white",
           "landcolor": "white",
           "showlakes": true,
           "showland": true,
           "subunitcolor": "white"
          },
          "hoverlabel": {
           "align": "left"
          },
          "hovermode": "closest",
          "mapbox": {
           "style": "light"
          },
          "paper_bgcolor": "white",
          "plot_bgcolor": "white",
          "polar": {
           "angularaxis": {
            "gridcolor": "rgb(232,232,232)",
            "linecolor": "rgb(36,36,36)",
            "showgrid": false,
            "showline": true,
            "ticks": "outside"
           },
           "bgcolor": "white",
           "radialaxis": {
            "gridcolor": "rgb(232,232,232)",
            "linecolor": "rgb(36,36,36)",
            "showgrid": false,
            "showline": true,
            "ticks": "outside"
           }
          },
          "scene": {
           "xaxis": {
            "backgroundcolor": "white",
            "gridcolor": "rgb(232,232,232)",
            "gridwidth": 2,
            "linecolor": "rgb(36,36,36)",
            "showbackground": true,
            "showgrid": false,
            "showline": true,
            "ticks": "outside",
            "zeroline": false,
            "zerolinecolor": "rgb(36,36,36)"
           },
           "yaxis": {
            "backgroundcolor": "white",
            "gridcolor": "rgb(232,232,232)",
            "gridwidth": 2,
            "linecolor": "rgb(36,36,36)",
            "showbackground": true,
            "showgrid": false,
            "showline": true,
            "ticks": "outside",
            "zeroline": false,
            "zerolinecolor": "rgb(36,36,36)"
           },
           "zaxis": {
            "backgroundcolor": "white",
            "gridcolor": "rgb(232,232,232)",
            "gridwidth": 2,
            "linecolor": "rgb(36,36,36)",
            "showbackground": true,
            "showgrid": false,
            "showline": true,
            "ticks": "outside",
            "zeroline": false,
            "zerolinecolor": "rgb(36,36,36)"
           }
          },
          "shapedefaults": {
           "fillcolor": "black",
           "line": {
            "width": 0
           },
           "opacity": 0.3
          },
          "ternary": {
           "aaxis": {
            "gridcolor": "rgb(232,232,232)",
            "linecolor": "rgb(36,36,36)",
            "showgrid": false,
            "showline": true,
            "ticks": "outside"
           },
           "baxis": {
            "gridcolor": "rgb(232,232,232)",
            "linecolor": "rgb(36,36,36)",
            "showgrid": false,
            "showline": true,
            "ticks": "outside"
           },
           "bgcolor": "white",
           "caxis": {
            "gridcolor": "rgb(232,232,232)",
            "linecolor": "rgb(36,36,36)",
            "showgrid": false,
            "showline": true,
            "ticks": "outside"
           }
          },
          "title": {
           "x": 0.05
          },
          "xaxis": {
           "automargin": true,
           "gridcolor": "rgb(232,232,232)",
           "linecolor": "rgb(36,36,36)",
           "showgrid": false,
           "showline": true,
           "ticks": "outside",
           "title": {
            "standoff": 15
           },
           "zeroline": false,
           "zerolinecolor": "rgb(36,36,36)"
          },
          "yaxis": {
           "automargin": true,
           "gridcolor": "rgb(232,232,232)",
           "linecolor": "rgb(36,36,36)",
           "showgrid": false,
           "showline": true,
           "ticks": "outside",
           "title": {
            "standoff": 15
           },
           "zeroline": false,
           "zerolinecolor": "rgb(36,36,36)"
          }
         }
        },
        "title": {
         "text": "Jährliche Abweichungen Neuschnee zu 1965 in Davos von 1965 bis 2019"
        },
        "xaxis": {
         "anchor": "y",
         "domain": [
          0,
          1
         ],
         "title": {
          "text": "Jahre"
         }
        },
        "yaxis": {
         "anchor": "x",
         "domain": [
          0,
          1
         ],
         "title": {
          "text": "Abweichung Neuschnee pro Jahr (cm)"
         }
        }
       }
      },
      "text/html": [
       "<div>\n",
       "        \n",
       "        \n",
       "            <div id=\"53af85d7-d26b-4963-b93a-8b92dea74f6f\" class=\"plotly-graph-div\" style=\"height:525px; width:100%;\"></div>\n",
       "            <script type=\"text/javascript\">\n",
       "                require([\"plotly\"], function(Plotly) {\n",
       "                    window.PLOTLYENV=window.PLOTLYENV || {};\n",
       "                    \n",
       "                if (document.getElementById(\"53af85d7-d26b-4963-b93a-8b92dea74f6f\")) {\n",
       "                    Plotly.newPlot(\n",
       "                        '53af85d7-d26b-4963-b93a-8b92dea74f6f',\n",
       "                        [{\"hovertemplate\": \"Jahre=%{x}<br>Abweichung Neuschnee pro Jahr (cm)=%{y}<br>color=%{marker.color}<extra></extra>\", \"legendgroup\": \"\", \"marker\": {\"color\": [1, 0, 0, 1, 0, 1, 0, 0, 1, 1, 0, 0, 0, 1, 1, 0, 1, 0, 0, 0, 0, 1, 0, 1, 0, 1, 0, 1, 0, 0, 1, 0, 0, 0, 1, 0, 0, 0, 0, 0, 0, 0, 0, 0, 0, 0, 0, 1, 0, 0, 0, 0, 0, 1, 1], \"coloraxis\": \"coloraxis\", \"symbol\": \"circle\"}, \"mode\": \"lines\", \"name\": \"\", \"showlegend\": false, \"type\": \"scatter\", \"x\": [1965, 1966, 1967, 1968, 1969, 1970, 1971, 1972, 1973, 1974, 1975, 1976, 1977, 1978, 1979, 1980, 1981, 1982, 1983, 1984, 1985, 1986, 1987, 1988, 1989, 1990, 1991, 1992, 1993, 1994, 1995, 1996, 1997, 1998, 1999, 2000, 2001, 2002, 2003, 2004, 2005, 2006, 2007, 2008, 2009, 2010, 2011, 2012, 2013, 2014, 2015, 2016, 2017, 2018, 2019], \"xaxis\": \"x\", \"y\": [0, -6, -99, 76, -179, 132, -232, -236, 45, 188, -111, -140, -80, 9, 57, -45, 107, -110, -47, -91, -164, 127, -166, 95, -288, 11, -101, 12, -47, -102, 92, -184, -163, -123, 303, -52, -130, -297, -224, -157, -87, -207, -94, -32, -36, -101, -101, 139, -167, -141, -230, -91, -44, 1, 100], \"yaxis\": \"y\"}, {\"hovertemplate\": \"<b>OLS trendline</b><br>y = -0.995527 * x + 1921.07<br>R<sup>2</sup>=0.016267<br><br>Jahre=%{x}<br>Abweichung Neuschnee pro Jahr (cm)=%{y} <b>(trend)</b><extra></extra>\", \"legendgroup\": \"\", \"marker\": {\"symbol\": \"circle\"}, \"mode\": \"lines\", \"name\": \"\", \"showlegend\": false, \"type\": \"scatter\", \"x\": [1965, 1966, 1967, 1968, 1969, 1970, 1971, 1972, 1973, 1974, 1975, 1976, 1977, 1978, 1979, 1980, 1981, 1982, 1983, 1984, 1985, 1986, 1987, 1988, 1989, 1990, 1991, 1992, 1993, 1994, 1995, 1996, 1997, 1998, 1999, 2000, 2001, 2002, 2003, 2004, 2005, 2006, 2007, 2008, 2009, 2010, 2011, 2012, 2013, 2014, 2015, 2016, 2017, 2018, 2019], \"xaxis\": \"x\", \"y\": [-35.138961038961725, -36.1344877344884, -37.13001443001508, -38.12554112554176, -39.121067821068436, -40.116594516595114, -41.11212121212179, -42.10764790764847, -43.103174603175376, -44.09870129870205, -45.09422799422873, -46.08975468975541, -47.08528138528209, -48.080808080808765, -49.07633477633544, -50.07186147186212, -51.0673881673888, -52.06291486291548, -53.058441558442155, -54.05396825396883, -55.04949494949551, -56.04502164502219, -57.040548340549094, -58.03607503607577, -59.03160173160245, -60.02712842712913, -61.022655122655806, -62.018181818182484, -63.01370851370916, -64.00923520923584, -65.00476190476252, -66.0002886002892, -66.99581529581587, -67.99134199134255, -68.98686868686923, -69.98239538239613, -70.97792207792281, -71.97344877344949, -72.96897546897617, -73.96450216450285, -74.96002886002952, -75.9555555555562, -76.95108225108288, -77.94660894660956, -78.94213564213624, -79.93766233766291, -80.93318903318959, -81.92871572871627, -82.92424242424295, -83.91976911976985, -84.91529581529653, -85.91082251082321, -86.90634920634989, -87.90187590187656, -88.89740259740324], \"yaxis\": \"y\"}],\n",
       "                        {\"coloraxis\": {\"colorbar\": {\"title\": {\"text\": \"color\"}}, \"colorscale\": [[0.0, \"#440154\"], [0.1111111111111111, \"#482878\"], [0.2222222222222222, \"#3e4989\"], [0.3333333333333333, \"#31688e\"], [0.4444444444444444, \"#26828e\"], [0.5555555555555556, \"#1f9e89\"], [0.6666666666666666, \"#35b779\"], [0.7777777777777778, \"#6ece58\"], [0.8888888888888888, \"#b5de2b\"], [1.0, \"#fde725\"]], \"showscale\": false}, \"legend\": {\"tracegroupgap\": 0}, \"template\": {\"data\": {\"bar\": [{\"error_x\": {\"color\": \"rgb(36,36,36)\"}, \"error_y\": {\"color\": \"rgb(36,36,36)\"}, \"marker\": {\"line\": {\"color\": \"white\", \"width\": 0.5}}, \"type\": \"bar\"}], \"barpolar\": [{\"marker\": {\"line\": {\"color\": \"white\", \"width\": 0.5}}, \"type\": \"barpolar\"}], \"carpet\": [{\"aaxis\": {\"endlinecolor\": \"rgb(36,36,36)\", \"gridcolor\": \"white\", \"linecolor\": \"white\", \"minorgridcolor\": \"white\", \"startlinecolor\": \"rgb(36,36,36)\"}, \"baxis\": {\"endlinecolor\": \"rgb(36,36,36)\", \"gridcolor\": \"white\", \"linecolor\": \"white\", \"minorgridcolor\": \"white\", \"startlinecolor\": \"rgb(36,36,36)\"}, \"type\": \"carpet\"}], \"choropleth\": [{\"colorbar\": {\"outlinewidth\": 1, \"tickcolor\": \"rgb(36,36,36)\", \"ticks\": \"outside\"}, \"type\": \"choropleth\"}], \"contour\": [{\"colorbar\": {\"outlinewidth\": 1, \"tickcolor\": \"rgb(36,36,36)\", \"ticks\": \"outside\"}, \"colorscale\": [[0.0, \"#440154\"], [0.1111111111111111, \"#482878\"], [0.2222222222222222, \"#3e4989\"], [0.3333333333333333, \"#31688e\"], [0.4444444444444444, \"#26828e\"], [0.5555555555555556, \"#1f9e89\"], [0.6666666666666666, \"#35b779\"], [0.7777777777777778, \"#6ece58\"], [0.8888888888888888, \"#b5de2b\"], [1.0, \"#fde725\"]], \"type\": \"contour\"}], \"contourcarpet\": [{\"colorbar\": {\"outlinewidth\": 1, \"tickcolor\": \"rgb(36,36,36)\", \"ticks\": \"outside\"}, \"type\": \"contourcarpet\"}], \"heatmap\": [{\"colorbar\": {\"outlinewidth\": 1, \"tickcolor\": \"rgb(36,36,36)\", \"ticks\": \"outside\"}, \"colorscale\": [[0.0, \"#440154\"], [0.1111111111111111, \"#482878\"], [0.2222222222222222, \"#3e4989\"], [0.3333333333333333, \"#31688e\"], [0.4444444444444444, \"#26828e\"], [0.5555555555555556, \"#1f9e89\"], [0.6666666666666666, \"#35b779\"], [0.7777777777777778, \"#6ece58\"], [0.8888888888888888, \"#b5de2b\"], [1.0, \"#fde725\"]], \"type\": \"heatmap\"}], \"heatmapgl\": [{\"colorbar\": {\"outlinewidth\": 1, \"tickcolor\": \"rgb(36,36,36)\", \"ticks\": \"outside\"}, \"colorscale\": [[0.0, \"#440154\"], [0.1111111111111111, \"#482878\"], [0.2222222222222222, \"#3e4989\"], [0.3333333333333333, \"#31688e\"], [0.4444444444444444, \"#26828e\"], [0.5555555555555556, \"#1f9e89\"], [0.6666666666666666, \"#35b779\"], [0.7777777777777778, \"#6ece58\"], [0.8888888888888888, \"#b5de2b\"], [1.0, \"#fde725\"]], \"type\": \"heatmapgl\"}], \"histogram\": [{\"marker\": {\"line\": {\"color\": \"white\", \"width\": 0.6}}, \"type\": \"histogram\"}], \"histogram2d\": [{\"colorbar\": {\"outlinewidth\": 1, \"tickcolor\": \"rgb(36,36,36)\", \"ticks\": \"outside\"}, \"colorscale\": [[0.0, \"#440154\"], [0.1111111111111111, \"#482878\"], [0.2222222222222222, \"#3e4989\"], [0.3333333333333333, \"#31688e\"], [0.4444444444444444, \"#26828e\"], [0.5555555555555556, \"#1f9e89\"], [0.6666666666666666, \"#35b779\"], [0.7777777777777778, \"#6ece58\"], [0.8888888888888888, \"#b5de2b\"], [1.0, \"#fde725\"]], \"type\": \"histogram2d\"}], \"histogram2dcontour\": [{\"colorbar\": {\"outlinewidth\": 1, \"tickcolor\": \"rgb(36,36,36)\", \"ticks\": \"outside\"}, \"colorscale\": [[0.0, \"#440154\"], [0.1111111111111111, \"#482878\"], [0.2222222222222222, \"#3e4989\"], [0.3333333333333333, \"#31688e\"], [0.4444444444444444, \"#26828e\"], [0.5555555555555556, \"#1f9e89\"], [0.6666666666666666, \"#35b779\"], [0.7777777777777778, \"#6ece58\"], [0.8888888888888888, \"#b5de2b\"], [1.0, \"#fde725\"]], \"type\": \"histogram2dcontour\"}], \"mesh3d\": [{\"colorbar\": {\"outlinewidth\": 1, \"tickcolor\": \"rgb(36,36,36)\", \"ticks\": \"outside\"}, \"type\": \"mesh3d\"}], \"parcoords\": [{\"line\": {\"colorbar\": {\"outlinewidth\": 1, \"tickcolor\": \"rgb(36,36,36)\", \"ticks\": \"outside\"}}, \"type\": \"parcoords\"}], \"pie\": [{\"automargin\": true, \"type\": \"pie\"}], \"scatter\": [{\"marker\": {\"colorbar\": {\"outlinewidth\": 1, \"tickcolor\": \"rgb(36,36,36)\", \"ticks\": \"outside\"}}, \"type\": \"scatter\"}], \"scatter3d\": [{\"line\": {\"colorbar\": {\"outlinewidth\": 1, \"tickcolor\": \"rgb(36,36,36)\", \"ticks\": \"outside\"}}, \"marker\": {\"colorbar\": {\"outlinewidth\": 1, \"tickcolor\": \"rgb(36,36,36)\", \"ticks\": \"outside\"}}, \"type\": \"scatter3d\"}], \"scattercarpet\": [{\"marker\": {\"colorbar\": {\"outlinewidth\": 1, \"tickcolor\": \"rgb(36,36,36)\", \"ticks\": \"outside\"}}, \"type\": \"scattercarpet\"}], \"scattergeo\": [{\"marker\": {\"colorbar\": {\"outlinewidth\": 1, \"tickcolor\": \"rgb(36,36,36)\", \"ticks\": \"outside\"}}, \"type\": \"scattergeo\"}], \"scattergl\": [{\"marker\": {\"colorbar\": {\"outlinewidth\": 1, \"tickcolor\": \"rgb(36,36,36)\", \"ticks\": \"outside\"}}, \"type\": \"scattergl\"}], \"scattermapbox\": [{\"marker\": {\"colorbar\": {\"outlinewidth\": 1, \"tickcolor\": \"rgb(36,36,36)\", \"ticks\": \"outside\"}}, \"type\": \"scattermapbox\"}], \"scatterpolar\": [{\"marker\": {\"colorbar\": {\"outlinewidth\": 1, \"tickcolor\": \"rgb(36,36,36)\", \"ticks\": \"outside\"}}, \"type\": \"scatterpolar\"}], \"scatterpolargl\": [{\"marker\": {\"colorbar\": {\"outlinewidth\": 1, \"tickcolor\": \"rgb(36,36,36)\", \"ticks\": \"outside\"}}, \"type\": \"scatterpolargl\"}], \"scatterternary\": [{\"marker\": {\"colorbar\": {\"outlinewidth\": 1, \"tickcolor\": \"rgb(36,36,36)\", \"ticks\": \"outside\"}}, \"type\": \"scatterternary\"}], \"surface\": [{\"colorbar\": {\"outlinewidth\": 1, \"tickcolor\": \"rgb(36,36,36)\", \"ticks\": \"outside\"}, \"colorscale\": [[0.0, \"#440154\"], [0.1111111111111111, \"#482878\"], [0.2222222222222222, \"#3e4989\"], [0.3333333333333333, \"#31688e\"], [0.4444444444444444, \"#26828e\"], [0.5555555555555556, \"#1f9e89\"], [0.6666666666666666, \"#35b779\"], [0.7777777777777778, \"#6ece58\"], [0.8888888888888888, \"#b5de2b\"], [1.0, \"#fde725\"]], \"type\": \"surface\"}], \"table\": [{\"cells\": {\"fill\": {\"color\": \"rgb(237,237,237)\"}, \"line\": {\"color\": \"white\"}}, \"header\": {\"fill\": {\"color\": \"rgb(217,217,217)\"}, \"line\": {\"color\": \"white\"}}, \"type\": \"table\"}]}, \"layout\": {\"annotationdefaults\": {\"arrowhead\": 0, \"arrowwidth\": 1}, \"coloraxis\": {\"colorbar\": {\"outlinewidth\": 1, \"tickcolor\": \"rgb(36,36,36)\", \"ticks\": \"outside\"}}, \"colorscale\": {\"diverging\": [[0.0, \"rgb(103,0,31)\"], [0.1, \"rgb(178,24,43)\"], [0.2, \"rgb(214,96,77)\"], [0.3, \"rgb(244,165,130)\"], [0.4, \"rgb(253,219,199)\"], [0.5, \"rgb(247,247,247)\"], [0.6, \"rgb(209,229,240)\"], [0.7, \"rgb(146,197,222)\"], [0.8, \"rgb(67,147,195)\"], [0.9, \"rgb(33,102,172)\"], [1.0, \"rgb(5,48,97)\"]], \"sequential\": [[0.0, \"#440154\"], [0.1111111111111111, \"#482878\"], [0.2222222222222222, \"#3e4989\"], [0.3333333333333333, \"#31688e\"], [0.4444444444444444, \"#26828e\"], [0.5555555555555556, \"#1f9e89\"], [0.6666666666666666, \"#35b779\"], [0.7777777777777778, \"#6ece58\"], [0.8888888888888888, \"#b5de2b\"], [1.0, \"#fde725\"]], \"sequentialminus\": [[0.0, \"#440154\"], [0.1111111111111111, \"#482878\"], [0.2222222222222222, \"#3e4989\"], [0.3333333333333333, \"#31688e\"], [0.4444444444444444, \"#26828e\"], [0.5555555555555556, \"#1f9e89\"], [0.6666666666666666, \"#35b779\"], [0.7777777777777778, \"#6ece58\"], [0.8888888888888888, \"#b5de2b\"], [1.0, \"#fde725\"]]}, \"colorway\": [\"#1F77B4\", \"#FF7F0E\", \"#2CA02C\", \"#D62728\", \"#9467BD\", \"#8C564B\", \"#E377C2\", \"#7F7F7F\", \"#BCBD22\", \"#17BECF\"], \"font\": {\"color\": \"rgb(36,36,36)\"}, \"geo\": {\"bgcolor\": \"white\", \"lakecolor\": \"white\", \"landcolor\": \"white\", \"showlakes\": true, \"showland\": true, \"subunitcolor\": \"white\"}, \"hoverlabel\": {\"align\": \"left\"}, \"hovermode\": \"closest\", \"mapbox\": {\"style\": \"light\"}, \"paper_bgcolor\": \"white\", \"plot_bgcolor\": \"white\", \"polar\": {\"angularaxis\": {\"gridcolor\": \"rgb(232,232,232)\", \"linecolor\": \"rgb(36,36,36)\", \"showgrid\": false, \"showline\": true, \"ticks\": \"outside\"}, \"bgcolor\": \"white\", \"radialaxis\": {\"gridcolor\": \"rgb(232,232,232)\", \"linecolor\": \"rgb(36,36,36)\", \"showgrid\": false, \"showline\": true, \"ticks\": \"outside\"}}, \"scene\": {\"xaxis\": {\"backgroundcolor\": \"white\", \"gridcolor\": \"rgb(232,232,232)\", \"gridwidth\": 2, \"linecolor\": \"rgb(36,36,36)\", \"showbackground\": true, \"showgrid\": false, \"showline\": true, \"ticks\": \"outside\", \"zeroline\": false, \"zerolinecolor\": \"rgb(36,36,36)\"}, \"yaxis\": {\"backgroundcolor\": \"white\", \"gridcolor\": \"rgb(232,232,232)\", \"gridwidth\": 2, \"linecolor\": \"rgb(36,36,36)\", \"showbackground\": true, \"showgrid\": false, \"showline\": true, \"ticks\": \"outside\", \"zeroline\": false, \"zerolinecolor\": \"rgb(36,36,36)\"}, \"zaxis\": {\"backgroundcolor\": \"white\", \"gridcolor\": \"rgb(232,232,232)\", \"gridwidth\": 2, \"linecolor\": \"rgb(36,36,36)\", \"showbackground\": true, \"showgrid\": false, \"showline\": true, \"ticks\": \"outside\", \"zeroline\": false, \"zerolinecolor\": \"rgb(36,36,36)\"}}, \"shapedefaults\": {\"fillcolor\": \"black\", \"line\": {\"width\": 0}, \"opacity\": 0.3}, \"ternary\": {\"aaxis\": {\"gridcolor\": \"rgb(232,232,232)\", \"linecolor\": \"rgb(36,36,36)\", \"showgrid\": false, \"showline\": true, \"ticks\": \"outside\"}, \"baxis\": {\"gridcolor\": \"rgb(232,232,232)\", \"linecolor\": \"rgb(36,36,36)\", \"showgrid\": false, \"showline\": true, \"ticks\": \"outside\"}, \"bgcolor\": \"white\", \"caxis\": {\"gridcolor\": \"rgb(232,232,232)\", \"linecolor\": \"rgb(36,36,36)\", \"showgrid\": false, \"showline\": true, \"ticks\": \"outside\"}}, \"title\": {\"x\": 0.05}, \"xaxis\": {\"automargin\": true, \"gridcolor\": \"rgb(232,232,232)\", \"linecolor\": \"rgb(36,36,36)\", \"showgrid\": false, \"showline\": true, \"ticks\": \"outside\", \"title\": {\"standoff\": 15}, \"zeroline\": false, \"zerolinecolor\": \"rgb(36,36,36)\"}, \"yaxis\": {\"automargin\": true, \"gridcolor\": \"rgb(232,232,232)\", \"linecolor\": \"rgb(36,36,36)\", \"showgrid\": false, \"showline\": true, \"ticks\": \"outside\", \"title\": {\"standoff\": 15}, \"zeroline\": false, \"zerolinecolor\": \"rgb(36,36,36)\"}}}, \"title\": {\"text\": \"J\\u00e4hrliche Abweichungen Neuschnee zu 1965 in Davos von 1965 bis 2019\"}, \"xaxis\": {\"anchor\": \"y\", \"domain\": [0.0, 1.0], \"title\": {\"text\": \"Jahre\"}}, \"yaxis\": {\"anchor\": \"x\", \"domain\": [0.0, 1.0], \"title\": {\"text\": \"Abweichung Neuschnee pro Jahr (cm)\"}}},\n",
       "                        {\"responsive\": true}\n",
       "                    ).then(function(){\n",
       "                            \n",
       "var gd = document.getElementById('53af85d7-d26b-4963-b93a-8b92dea74f6f');\n",
       "var x = new MutationObserver(function (mutations, observer) {{\n",
       "        var display = window.getComputedStyle(gd).display;\n",
       "        if (!display || display === 'none') {{\n",
       "            console.log([gd, 'removed!']);\n",
       "            Plotly.purge(gd);\n",
       "            observer.disconnect();\n",
       "        }}\n",
       "}});\n",
       "\n",
       "// Listen for the removal of the full notebook cells\n",
       "var notebookContainer = gd.closest('#notebook-container');\n",
       "if (notebookContainer) {{\n",
       "    x.observe(notebookContainer, {childList: true});\n",
       "}}\n",
       "\n",
       "// Listen for the clearing of the current output cell\n",
       "var outputEl = gd.closest('.output');\n",
       "if (outputEl) {{\n",
       "    x.observe(outputEl, {childList: true});\n",
       "}}\n",
       "\n",
       "                        })\n",
       "                };\n",
       "                });\n",
       "            </script>\n",
       "        </div>"
      ]
     },
     "metadata": {},
     "output_type": "display_data"
    }
   ],
   "source": [
    "def lineplot_davos_snow(data):\n",
    "    \n",
    "    data = data.pivot_table(index='year', columns='region', values='new_snow')\n",
    "    data = swiss_places_column_titles(data)\n",
    "    \n",
    "    data = data['DavosWSL']\n",
    "    new_val = np.where(data == '...' ,None , data*1)\n",
    "    data = pd.DataFrame(new_val, index=data.index).dropna().astype('int')\n",
    "    \n",
    "    data = data - data.iloc[0]\n",
    "    data.loc[:,'color'] = np.where(data >= 0, 1, 0)\n",
    "    data.columns = ['snow', 'color']\n",
    "    data.index = pd.to_numeric(data.index)\n",
    "  \n",
    "    fig = px.scatter(x=data.index, \n",
    "                     y=data['snow'], \n",
    "                     color=data['color'], \n",
    "                     trendline='ols',\n",
    "                     title='Jährliche Abweichungen Neuschnee zu {} in Davos von {} bis {}'.format(data.index[0], data.index[0], data.index[-1]),\n",
    "                     labels={'x':'Jahre', 'y':'Abweichung Neuschnee pro Jahr (cm)'},  \n",
    "                     template='simple_white'  \n",
    "                     )\n",
    "    \n",
    "    fig.update_traces(mode='lines')\n",
    "    fig.update(layout_coloraxis_showscale=False)\n",
    "    fig.show()\n",
    "     \n",
    "lineplot_davos_snow(swiss_snow)"
   ]
  },
  {
   "cell_type": "markdown",
   "metadata": {},
   "source": [
    "Ich verfolgt den Trend und merke, dass es seit 1960 immer weniger schneereiche Jahre gibt. Ich prüfe den Trend in dem ich eine Lineare Regression über den Trend legt. Der Trend der Regressionslinie zeigt nach unten, was darauf hindeutet, dass es wirklich immer weniger Schnee in Davos gibt. Ich findet eine weitere Grafik, welche die jährliche Durchschnittstemperatur präsentiert. "
   ]
  },
  {
   "cell_type": "code",
   "execution_count": 88,
   "metadata": {
    "scrolled": true
   },
   "outputs": [
    {
     "data": {
      "application/vnd.plotly.v1+json": {
       "config": {
        "plotlyServerURL": "https://plot.ly"
       },
       "data": [
        {
         "line": {
          "color": "grey"
         },
         "name": "Basel-Binningen",
         "opacity": 0.3,
         "type": "scatter",
         "x": [
          1931,
          1932,
          1933,
          1934,
          1935,
          1936,
          1937,
          1938,
          1939,
          1940,
          1941,
          1942,
          1943,
          1944,
          1945,
          1946,
          1947,
          1948,
          1949,
          1950,
          1951,
          1952,
          1953,
          1954,
          1955,
          1956,
          1957,
          1958,
          1959,
          1960,
          1961,
          1962,
          1963,
          1964,
          1965,
          1966,
          1967,
          1968,
          1969,
          1970,
          1971,
          1972,
          1973,
          1974,
          1975,
          1976,
          1977,
          1978,
          1979,
          1980,
          1981,
          1982,
          1983,
          1984,
          1985,
          1986,
          1987,
          1988,
          1989,
          1990,
          1991,
          1992,
          1993,
          1994,
          1995,
          1996,
          1997,
          1998,
          1999,
          2000,
          2001,
          2002,
          2003,
          2004,
          2005,
          2006,
          2007,
          2008,
          2009,
          2010,
          2011,
          2012,
          2013,
          2014,
          2015,
          2016,
          2017,
          2018,
          2019
         ],
         "y": [
          -1.4584269662921336,
          -1.0584269662921333,
          -1.158426966292133,
          -0.05842696629213329,
          -0.5584269662921333,
          -0.45842696629213364,
          -0.15842696629213293,
          -0.6584269662921329,
          -0.858426966292134,
          -1.7584269662921344,
          -1.5584269662921333,
          -1.158426966292133,
          0.24157303370786565,
          -0.6584269662921329,
          0.04157303370786636,
          -0.45842696629213364,
          0.5415730337078664,
          -0.05842696629213329,
          0.4415730337078667,
          0.04157303370786636,
          -0.358426966292134,
          -0.25842696629213435,
          -0.358426966292134,
          -0.9584269662921336,
          -0.858426966292134,
          -2.0584269662921333,
          -0.45842696629213364,
          -0.358426966292134,
          0.24157303370786565,
          -0.358426966292134,
          0.5415730337078664,
          -1.358426966292134,
          -1.4584269662921336,
          -0.15842696629213293,
          -0.7584269662921344,
          -0.05842696629213329,
          -0.15842696629213293,
          -0.6584269662921329,
          -0.9584269662921336,
          -0.7584269662921344,
          -0.6584269662921329,
          -1.0584269662921333,
          -0.7584269662921344,
          0.04157303370786636,
          -0.25842696629213435,
          0.04157303370786636,
          -0.05842696629213329,
          -0.9584269662921336,
          -0.45842696629213364,
          -1.0584269662921333,
          -0.358426966292134,
          0.34157303370786707,
          0.34157303370786707,
          -0.45842696629213364,
          -0.9584269662921336,
          -0.5584269662921333,
          -0.45842696629213364,
          0.5415730337078664,
          0.641573033707866,
          0.9415730337078667,
          0.04157303370786636,
          0.7415730337078656,
          0.24157303370786565,
          1.5415730337078664,
          0.5415730337078664,
          -0.5584269662921333,
          0.641573033707866,
          0.641573033707866,
          0.7415730337078656,
          1.4415730337078667,
          0.641573033707866,
          1.2415730337078656,
          1.4415730337078667,
          0.641573033707866,
          0.4415730337078667,
          0.9415730337078667,
          1.341573033707867,
          0.8415730337078671,
          1.141573033707866,
          -0.05842696629213329,
          1.641573033707866,
          0.9415730337078667,
          0.34157303370786707,
          1.9415730337078667,
          1.7415730337078656,
          0.9415730337078667,
          1.4415730337078667,
          2.2415730337078656,
          1.641573033707866
         ]
        },
        {
         "line": {
          "color": "grey"
         },
         "name": "Bern-Zollikofen",
         "opacity": 0.3,
         "type": "scatter",
         "x": [
          1931,
          1932,
          1933,
          1934,
          1935,
          1936,
          1937,
          1938,
          1939,
          1940,
          1941,
          1942,
          1943,
          1944,
          1945,
          1946,
          1947,
          1948,
          1949,
          1950,
          1951,
          1952,
          1953,
          1954,
          1955,
          1956,
          1957,
          1958,
          1959,
          1960,
          1961,
          1962,
          1963,
          1964,
          1965,
          1966,
          1967,
          1968,
          1969,
          1970,
          1971,
          1972,
          1973,
          1974,
          1975,
          1976,
          1977,
          1978,
          1979,
          1980,
          1981,
          1982,
          1983,
          1984,
          1985,
          1986,
          1987,
          1988,
          1989,
          1990,
          1991,
          1992,
          1993,
          1994,
          1995,
          1996,
          1997,
          1998,
          1999,
          2000,
          2001,
          2002,
          2003,
          2004,
          2005,
          2006,
          2007,
          2008,
          2009,
          2010,
          2011,
          2012,
          2013,
          2014,
          2015,
          2016,
          2017,
          2018,
          2019
         ],
         "y": [
          -1.1258426966292143,
          -0.9258426966292141,
          -1.0258426966292147,
          0.07415730337078585,
          -0.5258426966292147,
          -0.3258426966292145,
          -0.1258426966292152,
          -0.5258426966292147,
          -0.9258426966292141,
          -1.5258426966292147,
          -1.4258426966292141,
          -1.1258426966292143,
          0.1741573033707855,
          -0.9258426966292141,
          -0.1258426966292152,
          -0.42584269662921415,
          0.8741573033707848,
          0.1741573033707855,
          0.6741573033707855,
          0.27415730337078514,
          -0.22584269662921486,
          -0.02584269662921379,
          -0.3258426966292145,
          -0.6258426966292143,
          -0.7258426966292149,
          -1.8258426966292145,
          -0.42584269662921415,
          -0.42584269662921415,
          0.1741573033707855,
          -0.5258426966292147,
          0.4741573033707862,
          -1.2258426966292149,
          -1.6258426966292143,
          -0.3258426966292145,
          -1.1258426966292143,
          -0.02584269662921379,
          -0.1258426966292152,
          -0.6258426966292143,
          -0.8258426966292145,
          -0.8258426966292145,
          -0.7258426966292149,
          -0.9258426966292141,
          -0.8258426966292145,
          -0.02584269662921379,
          -0.3258426966292145,
          -0.1258426966292152,
          -0.1258426966292152,
          -1.0258426966292147,
          -0.42584269662921415,
          -1.0258426966292147,
          -0.3258426966292145,
          0.3741573033707848,
          0.1741573033707855,
          -0.5258426966292147,
          -0.7258426966292149,
          -0.3258426966292145,
          -0.42584269662921415,
          0.4741573033707862,
          0.4741573033707862,
          0.7741573033707851,
          -0.1258426966292152,
          0.4741573033707862,
          0.27415730337078514,
          1.6741573033707855,
          0.4741573033707862,
          -0.42584269662921415,
          0.6741573033707855,
          0.5741573033707859,
          0.5741573033707859,
          1.2741573033707851,
          0.7741573033707851,
          1.0741573033707859,
          1.1741573033707855,
          0.4741573033707862,
          0.1741573033707855,
          0.8741573033707848,
          1.1741573033707855,
          0.6741573033707855,
          1.0741573033707859,
          0.27415730337078514,
          1.7741573033707851,
          0.8741573033707848,
          0.3741573033707848,
          1.6741573033707855,
          1.5741573033707859,
          1.0741573033707859,
          1.2741573033707851,
          2.1741573033707855,
          1.6741573033707855
         ]
        },
        {
         "line": {
          "color": "red",
          "width": 2
         },
         "name": "DavosWSL",
         "type": "scatter",
         "x": [
          1931,
          1932,
          1933,
          1934,
          1935,
          1936,
          1937,
          1938,
          1939,
          1940,
          1941,
          1942,
          1943,
          1944,
          1945,
          1946,
          1947,
          1948,
          1949,
          1950,
          1951,
          1952,
          1953,
          1954,
          1955,
          1956,
          1957,
          1958,
          1959,
          1960,
          1961,
          1962,
          1963,
          1964,
          1965,
          1966,
          1967,
          1968,
          1969,
          1970,
          1971,
          1972,
          1973,
          1974,
          1975,
          1976,
          1977,
          1978,
          1979,
          1980,
          1981,
          1982,
          1983,
          1984,
          1985,
          1986,
          1987,
          1988,
          1989,
          1990,
          1991,
          1992,
          1993,
          1994,
          1995,
          1996,
          1997,
          1998,
          1999,
          2000,
          2001,
          2002,
          2003,
          2004,
          2005,
          2006,
          2007,
          2008,
          2009,
          2010,
          2011,
          2012,
          2013,
          2014,
          2015,
          2016,
          2017,
          2018,
          2019
         ],
         "y": [
          -1.3449438202247184,
          -0.7449438202247185,
          -1.2449438202247183,
          0.2550561797752815,
          -1.2449438202247183,
          -0.6449438202247184,
          -0.5449438202247183,
          -0.7449438202247185,
          -0.8449438202247181,
          -1.6449438202247184,
          -1.3449438202247184,
          -0.6449438202247184,
          0.055056179775281766,
          -1.3449438202247184,
          -0.5449438202247183,
          -0.04494382022471832,
          0.5550561797752818,
          0.15505617977528185,
          0.15505617977528185,
          -0.2449438202247185,
          -0.1449438202247184,
          -0.8449438202247181,
          -0.34494382022471815,
          -1.1449438202247184,
          -1.0449438202247183,
          -2.1449438202247184,
          -0.04494382022471832,
          -0.44494382022471823,
          0.15505617977528185,
          -0.2449438202247185,
          0.6550561797752819,
          -1.4449438202247182,
          -1.1449438202247184,
          0.055056179775281766,
          -1.2449438202247183,
          -0.44494382022471823,
          -0.34494382022471815,
          -0.44494382022471823,
          -0.44494382022471823,
          -0.7449438202247185,
          0.055056179775281766,
          -0.1449438202247184,
          -0.44494382022471823,
          -0.34494382022471815,
          0.055056179775281766,
          -0.34494382022471815,
          0.15505617977528185,
          -0.44494382022471823,
          -0.44494382022471823,
          -0.9449438202247182,
          -0.44494382022471823,
          0.2550561797752815,
          0.3550561797752816,
          -0.7449438202247185,
          -0.44494382022471823,
          0.055056179775281766,
          -0.04494382022471832,
          0.4550561797752817,
          1.1550561797752819,
          0.7550561797752815,
          0.15505617977528185,
          0.7550561797752815,
          0.3550561797752816,
          1.5550561797752813,
          0.15505617977528185,
          0.055056179775281766,
          1.0550561797752813,
          0.4550561797752817,
          0.4550561797752817,
          1.0550561797752813,
          0.4550561797752817,
          1.2550561797752815,
          1.2550561797752815,
          0.4550561797752817,
          -0.04494382022471832,
          1.1550561797752819,
          1.0550561797752813,
          0.7550561797752815,
          0.7550561797752815,
          -0.34494382022471815,
          1.6550561797752819,
          0.8550561797752816,
          0.5550561797752818,
          1.7550561797752815,
          1.7550561797752815,
          1.355056179775282,
          1.1550561797752819,
          1.9550561797752817,
          1.4550561797752817
         ]
        },
        {
         "line": {
          "color": "grey"
         },
         "name": "Genf-Cointrin",
         "opacity": 0.3,
         "type": "scatter",
         "x": [
          1931,
          1932,
          1933,
          1934,
          1935,
          1936,
          1937,
          1938,
          1939,
          1940,
          1941,
          1942,
          1943,
          1944,
          1945,
          1946,
          1947,
          1948,
          1949,
          1950,
          1951,
          1952,
          1953,
          1954,
          1955,
          1956,
          1957,
          1958,
          1959,
          1960,
          1961,
          1962,
          1963,
          1964,
          1965,
          1966,
          1967,
          1968,
          1969,
          1970,
          1971,
          1972,
          1973,
          1974,
          1975,
          1976,
          1977,
          1978,
          1979,
          1980,
          1981,
          1982,
          1983,
          1984,
          1985,
          1986,
          1987,
          1988,
          1989,
          1990,
          1991,
          1992,
          1993,
          1994,
          1995,
          1996,
          1997,
          1998,
          1999,
          2000,
          2001,
          2002,
          2003,
          2004,
          2005,
          2006,
          2007,
          2008,
          2009,
          2010,
          2011,
          2012,
          2013,
          2014,
          2015,
          2016,
          2017,
          2018,
          2019
         ],
         "y": [
          -1.0730337078651715,
          -0.8730337078651722,
          -1.0730337078651715,
          -0.0730337078651715,
          -0.47303370786517185,
          -0.47303370786517185,
          -0.0730337078651715,
          -0.6730337078651711,
          -0.9730337078651718,
          -1.3730337078651722,
          -1.2730337078651708,
          -0.7730337078651708,
          0.32696629213482886,
          -0.47303370786517185,
          0.22696629213482922,
          -0.0730337078651715,
          0.8269662921348289,
          0.02696629213482815,
          0.5269662921348282,
          0.32696629213482886,
          -0.47303370786517185,
          -0.17303370786517114,
          -0.3730337078651722,
          -0.6730337078651711,
          -0.3730337078651722,
          -1.5730337078651715,
          -0.5730337078651715,
          -0.47303370786517185,
          0.1269662921348278,
          -0.3730337078651722,
          0.5269662921348282,
          -0.9730337078651718,
          -1.5730337078651715,
          -0.2730337078651708,
          -1.2730337078651708,
          -0.0730337078651715,
          -0.3730337078651722,
          -0.6730337078651711,
          -0.9730337078651718,
          -0.7730337078651708,
          -0.7730337078651708,
          -0.8730337078651722,
          -0.9730337078651718,
          -0.2730337078651708,
          -0.3730337078651722,
          -0.2730337078651708,
          -0.17303370786517114,
          -1.0730337078651715,
          -0.3730337078651722,
          -1.1730337078651711,
          -0.47303370786517185,
          0.32696629213482886,
          0.22696629213482922,
          -0.5730337078651715,
          -0.8730337078651722,
          -0.2730337078651708,
          -0.17303370786517114,
          0.4269662921348285,
          0.6269662921348278,
          0.7269662921348292,
          0.1269662921348278,
          0.5269662921348282,
          0.02696629213482815,
          1.5269662921348282,
          0.6269662921348278,
          -0.2730337078651708,
          0.6269662921348278,
          0.5269662921348282,
          0.4269662921348285,
          1.1269662921348278,
          0.8269662921348289,
          1.1269662921348278,
          1.3269662921348289,
          0.6269662921348278,
          0.22696629213482922,
          1.1269662921348278,
          1.1269662921348278,
          0.7269662921348292,
          1.1269662921348278,
          0.02696629213482815,
          1.3269662921348289,
          0.8269662921348289,
          0.1269662921348278,
          1.6269662921348278,
          1.5269662921348282,
          1.0269662921348282,
          1.2269662921348292,
          2.226966292134829,
          1.7269662921348292
         ]
        },
        {
         "line": {
          "color": "grey"
         },
         "name": "Locarno-Monti",
         "opacity": 0.3,
         "type": "scatter",
         "x": [
          1931,
          1932,
          1933,
          1934,
          1935,
          1936,
          1937,
          1938,
          1939,
          1940,
          1941,
          1942,
          1943,
          1944,
          1945,
          1946,
          1947,
          1948,
          1949,
          1950,
          1951,
          1952,
          1953,
          1954,
          1955,
          1956,
          1957,
          1958,
          1959,
          1960,
          1961,
          1962,
          1963,
          1964,
          1965,
          1966,
          1967,
          1968,
          1969,
          1970,
          1971,
          1972,
          1973,
          1974,
          1975,
          1976,
          1977,
          1978,
          1979,
          1980,
          1981,
          1982,
          1983,
          1984,
          1985,
          1986,
          1987,
          1988,
          1989,
          1990,
          1991,
          1992,
          1993,
          1994,
          1995,
          1996,
          1997,
          1998,
          1999,
          2000,
          2001,
          2002,
          2003,
          2004,
          2005,
          2006,
          2007,
          2008,
          2009,
          2010,
          2011,
          2012,
          2013,
          2014,
          2015,
          2016,
          2017,
          2018,
          2019
         ],
         "y": [
          -0.8943820224719072,
          -0.8943820224719072,
          -0.694382022471908,
          -0.39438202247190723,
          -0.694382022471908,
          -0.7943820224719076,
          -0.5943820224719065,
          -0.4943820224719069,
          -1.0943820224719065,
          -1.2943820224719076,
          -1.3943820224719072,
          -0.4943820224719069,
          0.6056179775280928,
          -0.5943820224719065,
          0.4056179775280935,
          -0.39438202247190723,
          0.005617977528093121,
          0.005617977528093121,
          0.5056179775280931,
          0.005617977528093121,
          -0.694382022471908,
          -0.5943820224719065,
          0.005617977528093121,
          -0.8943820224719072,
          -0.4943820224719069,
          -1.2943820224719076,
          -0.39438202247190723,
          -0.2943820224719076,
          0.10561797752809277,
          -0.9943820224719069,
          0.30561797752809206,
          -0.694382022471908,
          -1.2943820224719076,
          -0.09438202247190652,
          -0.8943820224719072,
          -0.4943820224719069,
          -0.39438202247190723,
          -0.8943820224719072,
          -0.8943820224719072,
          -0.8943820224719072,
          -0.4943820224719069,
          -1.0943820224719065,
          -0.39438202247190723,
          -0.2943820224719076,
          -0.39438202247190723,
          -0.09438202247190652,
          -0.8943820224719072,
          -0.9943820224719069,
          -0.5943820224719065,
          -0.7943820224719076,
          -0.2943820224719076,
          -0.09438202247190652,
          -0.09438202247190652,
          -0.7943820224719076,
          -0.4943820224719069,
          -0.09438202247190652,
          -0.39438202247190723,
          0.2056179775280924,
          0.5056179775280931,
          0.805617977528092,
          0.4056179775280935,
          0.6056179775280928,
          0.4056179775280935,
          1.1056179775280928,
          0.30561797752809206,
          0.005617977528093121,
          1.0056179775280931,
          0.6056179775280928,
          0.5056179775280931,
          0.9056179775280935,
          0.6056179775280928,
          0.805617977528092,
          1.5056179775280931,
          0.6056179775280928,
          0.5056179775280931,
          1.1056179775280928,
          1.6056179775280928,
          0.6056179775280928,
          1.1056179775280928,
          0.005617977528093121,
          1.5056179775280931,
          1.2056179775280924,
          0.805617977528092,
          1.4056179775280935,
          1.9056179775280935,
          1.305617977528092,
          1.5056179775280931,
          1.9056179775280935,
          1.9056179775280935
         ]
        },
        {
         "line": {
          "color": "grey"
         },
         "name": "Lugano",
         "opacity": 0.3,
         "type": "scatter",
         "x": [
          1931,
          1932,
          1933,
          1934,
          1935,
          1936,
          1937,
          1938,
          1939,
          1940,
          1941,
          1942,
          1943,
          1944,
          1945,
          1946,
          1947,
          1948,
          1949,
          1950,
          1951,
          1952,
          1953,
          1954,
          1955,
          1956,
          1957,
          1958,
          1959,
          1960,
          1961,
          1962,
          1963,
          1964,
          1965,
          1966,
          1967,
          1968,
          1969,
          1970,
          1971,
          1972,
          1973,
          1974,
          1975,
          1976,
          1977,
          1978,
          1979,
          1980,
          1981,
          1982,
          1983,
          1984,
          1985,
          1986,
          1987,
          1988,
          1989,
          1990,
          1991,
          1992,
          1993,
          1994,
          1995,
          1996,
          1997,
          1998,
          1999,
          2000,
          2001,
          2002,
          2003,
          2004,
          2005,
          2006,
          2007,
          2008,
          2009,
          2010,
          2011,
          2012,
          2013,
          2014,
          2015,
          2016,
          2017,
          2018,
          2019
         ],
         "y": [
          -1.1595505617977544,
          -1.0595505617977548,
          -0.9595505617977551,
          -0.35955056179775546,
          -0.6595505617977544,
          -0.759550561797754,
          -0.4595505617977551,
          -0.5595505617977548,
          -0.9595505617977551,
          -1.0595505617977548,
          -1.0595505617977548,
          -0.1595505617977544,
          0.6404494382022445,
          -0.5595505617977548,
          0.44044943820224525,
          -0.35955056179775546,
          0.14044943820224454,
          0.3404494382022456,
          0.6404494382022445,
          0.14044943820224454,
          -0.5595505617977548,
          -0.4595505617977551,
          -0.05955056179775475,
          -0.8595505617977555,
          -0.35955056179775546,
          -1.259550561797754,
          -0.4595505617977551,
          -0.05955056179775475,
          0.04044943820224489,
          -0.9595505617977551,
          0.14044943820224454,
          -0.6595505617977544,
          -1.1595505617977544,
          -0.25955056179775404,
          -1.0595505617977548,
          -0.4595505617977551,
          -0.1595505617977544,
          -0.759550561797754,
          -0.9595505617977551,
          -0.759550561797754,
          -0.25955056179775404,
          -0.759550561797754,
          -0.35955056179775546,
          -0.1595505617977544,
          -0.25955056179775404,
          -0.1595505617977544,
          -0.759550561797754,
          -0.9595505617977551,
          -0.6595505617977544,
          -0.9595505617977551,
          -0.4595505617977551,
          0.04044943820224489,
          -0.1595505617977544,
          -0.759550561797754,
          -0.5595505617977548,
          -0.25955056179775404,
          -0.4595505617977551,
          0.24044943820224596,
          0.24044943820224596,
          0.5404494382022449,
          0.24044943820224596,
          0.3404494382022456,
          0.04044943820224489,
          1.040449438202245,
          0.44044943820224525,
          0.04044943820224489,
          0.9404494382022452,
          0.3404494382022456,
          0.5404494382022449,
          0.9404494382022452,
          0.6404494382022445,
          0.8404494382022456,
          1.240449438202246,
          0.5404494382022449,
          0.5404494382022449,
          1.040449438202245,
          1.4404494382022452,
          0.6404494382022445,
          1.1404494382022445,
          0.04044943820224489,
          1.4404494382022452,
          1.1404494382022445,
          0.740449438202246,
          1.4404494382022452,
          1.740449438202246,
          1.240449438202246,
          1.3404494382022456,
          1.8404494382022456,
          1.8404494382022456
         ]
        },
        {
         "line": {
          "color": "grey"
         },
         "name": "Luzern",
         "opacity": 0.3,
         "type": "scatter",
         "x": [
          1931,
          1932,
          1933,
          1934,
          1935,
          1936,
          1937,
          1938,
          1939,
          1940,
          1941,
          1942,
          1943,
          1944,
          1945,
          1946,
          1947,
          1948,
          1949,
          1950,
          1951,
          1952,
          1953,
          1954,
          1955,
          1956,
          1957,
          1958,
          1959,
          1960,
          1961,
          1962,
          1963,
          1964,
          1965,
          1966,
          1967,
          1968,
          1969,
          1970,
          1971,
          1972,
          1973,
          1974,
          1975,
          1976,
          1977,
          1978,
          1979,
          1980,
          1981,
          1982,
          1983,
          1984,
          1985,
          1986,
          1987,
          1988,
          1989,
          1990,
          1991,
          1992,
          1993,
          1994,
          1995,
          1996,
          1997,
          1998,
          1999,
          2000,
          2001,
          2002,
          2003,
          2004,
          2005,
          2006,
          2007,
          2008,
          2009,
          2010,
          2011,
          2012,
          2013,
          2014,
          2015,
          2016,
          2017,
          2018,
          2019
         ],
         "y": [
          -1.322471910112358,
          -1.0224719101123583,
          -1.2224719101123576,
          -0.022471910112358273,
          -0.8224719101123572,
          -0.42247191011235863,
          -0.3224719101123572,
          -0.7224719101123576,
          -0.9224719101123586,
          -1.7224719101123576,
          -1.4224719101123577,
          -1.0224719101123583,
          0.27752808988764244,
          -0.8224719101123572,
          -0.12247191011235792,
          -0.22247191011235756,
          0.5775280898876414,
          0.1775280898876428,
          0.4775280898876417,
          0.07752808988764137,
          -0.3224719101123572,
          -0.22247191011235756,
          -0.3224719101123572,
          -0.8224719101123572,
          -0.6224719101123579,
          -1.7224719101123576,
          -0.42247191011235863,
          -0.3224719101123572,
          0.07752808988764137,
          -0.42247191011235863,
          0.5775280898876414,
          -1.2224719101123576,
          -1.622471910112358,
          -0.3224719101123572,
          -1.2224719101123576,
          -0.12247191011235792,
          -0.12247191011235792,
          -0.5224719101123583,
          -0.9224719101123586,
          -1.0224719101123583,
          -0.8224719101123572,
          -1.122471910112358,
          -0.7224719101123576,
          -0.022471910112358273,
          -0.3224719101123572,
          -0.12247191011235792,
          -0.12247191011235792,
          -1.122471910112358,
          -0.42247191011235863,
          -0.8224719101123572,
          -0.3224719101123572,
          0.1775280898876428,
          0.3775280898876421,
          -0.6224719101123579,
          -0.8224719101123572,
          -0.42247191011235863,
          -0.42247191011235863,
          0.7775280898876424,
          0.6775280898876428,
          0.8775280898876421,
          -0.022471910112358273,
          0.6775280898876428,
          0.3775280898876421,
          1.7775280898876424,
          0.5775280898876414,
          -0.42247191011235863,
          0.6775280898876428,
          0.6775280898876428,
          0.4775280898876417,
          1.2775280898876424,
          0.7775280898876424,
          1.2775280898876424,
          1.2775280898876424,
          0.6775280898876428,
          0.3775280898876421,
          0.9775280898876417,
          1.2775280898876424,
          0.7775280898876424,
          1.0775280898876414,
          0.07752808988764137,
          1.5775280898876414,
          0.9775280898876417,
          0.3775280898876421,
          1.7775280898876424,
          1.6775280898876428,
          1.1775280898876428,
          1.2775280898876424,
          2.2775280898876424,
          1.7775280898876424
         ]
        },
        {
         "line": {
          "color": "grey"
         },
         "name": "Neuenburg",
         "opacity": 0.3,
         "type": "scatter",
         "x": [
          1931,
          1932,
          1933,
          1934,
          1935,
          1936,
          1937,
          1938,
          1939,
          1940,
          1941,
          1942,
          1943,
          1944,
          1945,
          1946,
          1947,
          1948,
          1949,
          1950,
          1951,
          1952,
          1953,
          1954,
          1955,
          1956,
          1957,
          1958,
          1959,
          1960,
          1961,
          1962,
          1963,
          1964,
          1965,
          1966,
          1967,
          1968,
          1969,
          1970,
          1971,
          1972,
          1973,
          1974,
          1975,
          1976,
          1977,
          1978,
          1979,
          1980,
          1981,
          1982,
          1983,
          1984,
          1985,
          1986,
          1987,
          1988,
          1989,
          1990,
          1991,
          1992,
          1993,
          1994,
          1995,
          1996,
          1997,
          1998,
          1999,
          2000,
          2001,
          2002,
          2003,
          2004,
          2005,
          2006,
          2007,
          2008,
          2009,
          2010,
          2011,
          2012,
          2013,
          2014,
          2015,
          2016,
          2017,
          2018,
          2019
         ],
         "y": [
          -1.330337078651679,
          -1.1303370786516798,
          -1.2303370786516794,
          0.0696629213483213,
          -0.830337078651679,
          -0.5303370786516801,
          -0.4303370786516787,
          -0.7303370786516794,
          -1.2303370786516794,
          -1.6303370786516798,
          -1.4303370786516787,
          -1.0303370786516801,
          0.36966292134832024,
          -0.6303370786516798,
          0.16966292134832095,
          -0.33033707865167905,
          0.7696629213483206,
          -0.030337078651680116,
          0.4696629213483199,
          -0.030337078651680116,
          -0.4303370786516787,
          -0.13033707865167976,
          -0.5303370786516801,
          -0.830337078651679,
          -0.830337078651679,
          -1.9303370786516796,
          -0.5303370786516801,
          -0.4303370786516787,
          0.36966292134832024,
          -0.4303370786516787,
          0.5696629213483213,
          -1.0303370786516801,
          -1.6303370786516798,
          -0.2303370786516794,
          -1.2303370786516794,
          -0.030337078651680116,
          -0.030337078651680116,
          -0.4303370786516787,
          -0.830337078651679,
          -0.830337078651679,
          -0.5303370786516801,
          -0.9303370786516787,
          -0.6303370786516798,
          0.0696629213483213,
          -0.13033707865167976,
          0.0696629213483213,
          -0.13033707865167976,
          -0.9303370786516787,
          -0.2303370786516794,
          -0.9303370786516787,
          -0.2303370786516794,
          0.36966292134832024,
          0.2696629213483206,
          -0.5303370786516801,
          -0.5303370786516801,
          -0.33033707865167905,
          -0.33033707865167905,
          0.36966292134832024,
          0.5696629213483213,
          0.7696629213483206,
          -0.030337078651680116,
          0.669662921348321,
          0.2696629213483206,
          1.669662921348321,
          0.5696629213483213,
          -0.33033707865167905,
          0.669662921348321,
          0.669662921348321,
          0.5696629213483213,
          1.2696629213483206,
          0.669662921348321,
          1.169662921348321,
          1.3696629213483202,
          0.5696629213483213,
          0.2696629213483206,
          0.9696629213483199,
          1.0696629213483213,
          0.5696629213483213,
          1.0696629213483213,
          0.0696629213483213,
          1.5696629213483213,
          0.8696629213483202,
          0.2696629213483206,
          1.5696629213483213,
          1.7696629213483206,
          1.0696629213483213,
          1.4696629213483199,
          2.0696629213483213,
          1.5696629213483213
         ]
        },
        {
         "line": {
          "color": "grey"
         },
         "name": "Samedan",
         "opacity": 0.3,
         "type": "scatter",
         "x": [
          1931,
          1932,
          1933,
          1934,
          1935,
          1936,
          1937,
          1938,
          1939,
          1940,
          1941,
          1942,
          1943,
          1944,
          1945,
          1946,
          1947,
          1948,
          1949,
          1950,
          1951,
          1952,
          1953,
          1954,
          1955,
          1956,
          1957,
          1958,
          1959,
          1960,
          1961,
          1962,
          1963,
          1964,
          1965,
          1966,
          1967,
          1968,
          1969,
          1970,
          1971,
          1972,
          1973,
          1974,
          1975,
          1976,
          1977,
          1978,
          1979,
          1980,
          1981,
          1982,
          1983,
          1984,
          1985,
          1986,
          1987,
          1988,
          1989,
          1990,
          1991,
          1992,
          1993,
          1994,
          1995,
          1996,
          1997,
          1998,
          1999,
          2000,
          2001,
          2002,
          2003,
          2004,
          2005,
          2006,
          2007,
          2008,
          2009,
          2010,
          2011,
          2012,
          2013,
          2014,
          2015,
          2016,
          2017,
          2018,
          2019
         ],
         "y": [
          -1.2494382022471915,
          -0.14943820224719162,
          -1.2494382022471915,
          0.5505617977528083,
          -1.1494382022471918,
          -0.6494382022471918,
          -0.7494382022471915,
          -0.44943820224719166,
          -0.8494382022471916,
          -1.5494382022471918,
          -1.4494382022471917,
          -0.3494382022471916,
          0.45056179775280825,
          -1.2494382022471915,
          -0.049438202247191754,
          0.050561797752808335,
          0.6505617977528083,
          0.6505617977528083,
          0.45056179775280825,
          0.2505617977528083,
          0.050561797752808335,
          -0.9494382022471917,
          0.5505617977528083,
          -1.0494382022471918,
          -0.8494382022471916,
          -1.7494382022471915,
          0.15056179775280842,
          -0.049438202247191754,
          0.7505617977528083,
          -0.6494382022471918,
          0.6505617977528083,
          -1.3494382022471916,
          -0.7494382022471915,
          0.3505617977528084,
          -1.5494382022471918,
          -0.6494382022471918,
          -0.2494382022471917,
          -0.5494382022471918,
          -0.7494382022471915,
          -1.1494382022471918,
          -0.049438202247191754,
          -0.5494382022471918,
          -0.7494382022471915,
          -1.0494382022471918,
          0.15056179775280842,
          -0.44943820224719166,
          -0.14943820224719162,
          -0.5494382022471918,
          -0.6494382022471918,
          -1.2494382022471915,
          -0.9494382022471917,
          0.3505617977528084,
          0.7505617977528083,
          -1.0494382022471918,
          -0.5494382022471918,
          -0.2494382022471917,
          -0.2494382022471917,
          0.15056179775280842,
          1.3505617977528084,
          0.6505617977528083,
          0.15056179775280842,
          1.1505617977528084,
          0.2505617977528083,
          1.1505617977528084,
          -0.049438202247191754,
          -0.14943820224719162,
          1.1505617977528084,
          0.3505617977528084,
          0.45056179775280825,
          0.9505617977528084,
          0.45056179775280825,
          1.1505617977528084,
          1.4505617977528082,
          0.2505617977528083,
          -0.2494382022471917,
          1.2505617977528083,
          1.0505617977528083,
          0.6505617977528083,
          0.5505617977528083,
          -0.5494382022471918,
          1.8505617977528084,
          0.8505617977528084,
          0.45056179775280825,
          1.4505617977528082,
          1.7505617977528083,
          0.9505617977528084,
          0.9505617977528084,
          1.8505617977528084,
          1.4505617977528082
         ]
        },
        {
         "line": {
          "color": "grey"
         },
         "name": "Sitten",
         "opacity": 0.3,
         "type": "scatter",
         "x": [
          1931,
          1932,
          1933,
          1934,
          1935,
          1936,
          1937,
          1938,
          1939,
          1940,
          1941,
          1942,
          1943,
          1944,
          1945,
          1946,
          1947,
          1948,
          1949,
          1950,
          1951,
          1952,
          1953,
          1954,
          1955,
          1956,
          1957,
          1958,
          1959,
          1960,
          1961,
          1962,
          1963,
          1964,
          1965,
          1966,
          1967,
          1968,
          1969,
          1970,
          1971,
          1972,
          1973,
          1974,
          1975,
          1976,
          1977,
          1978,
          1979,
          1980,
          1981,
          1982,
          1983,
          1984,
          1985,
          1986,
          1987,
          1988,
          1989,
          1990,
          1991,
          1992,
          1993,
          1994,
          1995,
          1996,
          1997,
          1998,
          1999,
          2000,
          2001,
          2002,
          2003,
          2004,
          2005,
          2006,
          2007,
          2008,
          2009,
          2010,
          2011,
          2012,
          2013,
          2014,
          2015,
          2016,
          2017,
          2018,
          2019
         ],
         "y": [
          -0.979775280898877,
          -0.579775280898877,
          -0.979775280898877,
          -0.07977528089887698,
          -0.879775280898877,
          -0.379775280898877,
          -0.17977528089887707,
          -0.4797752808988769,
          -0.679775280898877,
          -1.379775280898877,
          -1.1797752808988768,
          0.12022471910112298,
          0.420224719101123,
          -0.679775280898877,
          0.020224719101123112,
          -0.07977528089887698,
          0.7202247191011228,
          0.420224719101123,
          0.32022471910112293,
          -0.07977528089887698,
          0.12022471910112298,
          -0.17977528089887707,
          0.12022471910112298,
          -0.17977528089887707,
          -0.579775280898877,
          -1.679775280898877,
          -0.27977528089887693,
          -0.4797752808988769,
          -0.17977528089887707,
          -0.7797752808988769,
          0.22022471910112307,
          -1.1797752808988768,
          -1.279775280898877,
          0.22022471910112307,
          -1.1797752808988768,
          -0.17977528089887707,
          -0.679775280898877,
          -0.7797752808988769,
          -0.679775280898877,
          -0.879775280898877,
          -0.4797752808988769,
          -0.379775280898877,
          -0.379775280898877,
          -0.17977528089887707,
          -0.4797752808988769,
          -0.379775280898877,
          -0.17977528089887707,
          -0.579775280898877,
          -0.579775280898877,
          -1.079775280898877,
          -0.27977528089887693,
          0.32022471910112293,
          0.12022471910112298,
          -0.879775280898877,
          -0.4797752808988769,
          -0.17977528089887707,
          0.020224719101123112,
          0.920224719101123,
          0.6202247191011232,
          0.420224719101123,
          -0.379775280898877,
          0.020224719101123112,
          0.22022471910112307,
          1.5202247191011231,
          0.32022471910112293,
          -0.17977528089887707,
          0.32022471910112293,
          0.32022471910112293,
          0.32022471910112293,
          0.8202247191011229,
          0.6202247191011232,
          1.320224719101123,
          0.8202247191011229,
          0.6202247191011232,
          -0.07977528089887698,
          0.920224719101123,
          1.2202247191011228,
          0.8202247191011229,
          0.6202247191011232,
          -0.07977528089887698,
          1.320224719101123,
          0.8202247191011229,
          0.5202247191011231,
          1.6202247191011232,
          1.820224719101123,
          1.2202247191011228,
          1.0202247191011231,
          1.5202247191011231,
          1.2202247191011228
         ]
        },
        {
         "line": {
          "color": "grey"
         },
         "name": "St.Gallen",
         "opacity": 0.3,
         "type": "scatter",
         "x": [
          1931,
          1932,
          1933,
          1934,
          1935,
          1936,
          1937,
          1938,
          1939,
          1940,
          1941,
          1942,
          1943,
          1944,
          1945,
          1946,
          1947,
          1948,
          1949,
          1950,
          1951,
          1952,
          1953,
          1954,
          1955,
          1956,
          1957,
          1958,
          1959,
          1960,
          1961,
          1962,
          1963,
          1964,
          1965,
          1966,
          1967,
          1968,
          1969,
          1970,
          1971,
          1972,
          1973,
          1974,
          1975,
          1976,
          1977,
          1978,
          1979,
          1980,
          1981,
          1982,
          1983,
          1984,
          1985,
          1986,
          1987,
          1988,
          1989,
          1990,
          1991,
          1992,
          1993,
          1994,
          1995,
          1996,
          1997,
          1998,
          1999,
          2000,
          2001,
          2002,
          2003,
          2004,
          2005,
          2006,
          2007,
          2008,
          2009,
          2010,
          2011,
          2012,
          2013,
          2014,
          2015,
          2016,
          2017,
          2018,
          2019
         ],
         "y": [
          -1.5685393258426927,
          -0.9685393258426931,
          -0.8685393258426917,
          -0.268539325842692,
          -0.768539325842692,
          -0.5685393258426927,
          -0.16853932584269238,
          -0.4685393258426931,
          -0.768539325842692,
          -1.5685393258426927,
          -1.468539325842693,
          -0.6685393258426924,
          0.23146067415730798,
          -1.1685393258426924,
          -0.268539325842692,
          -0.4685393258426931,
          0.6314606741573083,
          0.03146067415730691,
          0.3314606741573076,
          -0.06853932584269273,
          -0.268539325842692,
          -0.4685393258426931,
          -0.5685393258426927,
          -0.9685393258426931,
          -0.6685393258426924,
          -1.768539325842692,
          -0.5685393258426927,
          -0.6685393258426924,
          0.43146067415730727,
          -0.16853932584269238,
          0.3314606741573076,
          -0.9685393258426931,
          -1.268539325842692,
          -0.4685393258426931,
          -1.3685393258426917,
          -0.268539325842692,
          -0.16853932584269238,
          -0.36853932584269167,
          -0.8685393258426917,
          -0.6685393258426924,
          -0.5685393258426927,
          -0.4685393258426931,
          -0.8685393258426917,
          -0.36853932584269167,
          -0.36853932584269167,
          -0.268539325842692,
          -0.268539325842692,
          -1.468539325842693,
          -0.6685393258426924,
          -1.468539325842693,
          -0.4685393258426931,
          0.13146067415730833,
          -0.16853932584269238,
          -0.768539325842692,
          -0.9685393258426931,
          -0.268539325842692,
          -0.36853932584269167,
          0.43146067415730727,
          0.23146067415730798,
          0.5314606741573069,
          0.03146067415730691,
          0.5314606741573069,
          0.6314606741573083,
          1.4314606741573073,
          0.5314606741573069,
          0.23146067415730798,
          0.9314606741573073,
          0.5314606741573069,
          0.43146067415730727,
          1.1314606741573083,
          0.6314606741573083,
          1.231460674157308,
          1.6314606741573083,
          0.731460674157308,
          0.13146067415730833,
          0.9314606741573073,
          1.1314606741573083,
          1.1314606741573083,
          1.031460674157307,
          0.43146067415730727,
          1.6314606741573083,
          1.3314606741573076,
          0.731460674157308,
          2.1314606741573083,
          1.8314606741573076,
          1.531460674157307,
          1.6314606741573083,
          2.731460674157308,
          2.1314606741573083
         ]
        },
        {
         "line": {
          "color": "grey"
         },
         "name": "Säntis",
         "opacity": 0.3,
         "type": "scatter",
         "x": [
          1931,
          1932,
          1933,
          1934,
          1935,
          1936,
          1937,
          1938,
          1939,
          1940,
          1941,
          1942,
          1943,
          1944,
          1945,
          1946,
          1947,
          1948,
          1949,
          1950,
          1951,
          1952,
          1953,
          1954,
          1955,
          1956,
          1957,
          1958,
          1959,
          1960,
          1961,
          1962,
          1963,
          1964,
          1965,
          1966,
          1967,
          1968,
          1969,
          1970,
          1971,
          1972,
          1973,
          1974,
          1975,
          1976,
          1977,
          1978,
          1979,
          1980,
          1981,
          1982,
          1983,
          1984,
          1985,
          1986,
          1987,
          1988,
          1989,
          1990,
          1991,
          1992,
          1993,
          1994,
          1995,
          1996,
          1997,
          1998,
          1999,
          2000,
          2001,
          2002,
          2003,
          2004,
          2005,
          2006,
          2007,
          2008,
          2009,
          2010,
          2011,
          2012,
          2013,
          2014,
          2015,
          2016,
          2017,
          2018,
          2019
         ],
         "y": [
          -1.5752808988764064,
          -0.9752808988764068,
          -1.4752808988764068,
          0.12471910112359375,
          -0.8752808988764063,
          -0.4752808988764068,
          -0.17528089887640697,
          -0.675280898876407,
          -0.8752808988764063,
          -1.675280898876407,
          -1.3752808988764063,
          -0.8752808988764063,
          0.12471910112359375,
          -0.7752808988764066,
          -0.07528089887640643,
          -0.2752808988764066,
          0.4247191011235927,
          0.024719101123593212,
          0.2247191011235934,
          0.12471910112359375,
          0.024719101123593212,
          -0.37528089887640625,
          -0.37528089887640625,
          -0.9752808988764068,
          -0.9752808988764068,
          -1.7752808988764066,
          -0.2752808988764066,
          -0.2752808988764066,
          0.12471910112359375,
          -0.17528089887640697,
          0.6247191011235937,
          -1.2752808988764066,
          -1.4752808988764068,
          -0.4752808988764068,
          -1.175280898876407,
          0.024719101123593212,
          -0.07528089887640643,
          -0.5752808988764064,
          -0.8752808988764063,
          -0.7752808988764066,
          -0.4752808988764068,
          -0.8752808988764063,
          -0.675280898876407,
          0.024719101123593212,
          -0.17528089887640697,
          -0.2752808988764066,
          0.12471910112359375,
          -0.9752808988764068,
          -0.2752808988764066,
          -0.9752808988764068,
          -0.2752808988764066,
          0.32471910112359303,
          0.4247191011235927,
          -0.7752808988764066,
          -0.7752808988764066,
          -0.4752808988764068,
          -0.4752808988764068,
          0.6247191011235937,
          0.7247191011235934,
          1.024719101123594,
          -0.2752808988764066,
          0.824719101123593,
          0.2247191011235934,
          1.6247191011235937,
          0.32471910112359303,
          -0.8752808988764063,
          0.7247191011235934,
          0.824719101123593,
          0.6247191011235937,
          1.6247191011235937,
          0.6247191011235937,
          1.324719101123593,
          1.324719101123593,
          0.4247191011235927,
          0.32471910112359303,
          1.024719101123594,
          1.324719101123593,
          0.824719101123593,
          1.1247191011235937,
          -0.17528089887640697,
          1.6247191011235937,
          0.824719101123593,
          0.12471910112359375,
          1.824719101123593,
          1.824719101123593,
          1.2247191011235934,
          1.324719101123593,
          2.1247191011235937,
          1.7247191011235934
         ]
        },
        {
         "line": {
          "color": "grey"
         },
         "name": "Zürich-Fluntern",
         "opacity": 0.3,
         "type": "scatter",
         "x": [
          1931,
          1932,
          1933,
          1934,
          1935,
          1936,
          1937,
          1938,
          1939,
          1940,
          1941,
          1942,
          1943,
          1944,
          1945,
          1946,
          1947,
          1948,
          1949,
          1950,
          1951,
          1952,
          1953,
          1954,
          1955,
          1956,
          1957,
          1958,
          1959,
          1960,
          1961,
          1962,
          1963,
          1964,
          1965,
          1966,
          1967,
          1968,
          1969,
          1970,
          1971,
          1972,
          1973,
          1974,
          1975,
          1976,
          1977,
          1978,
          1979,
          1980,
          1981,
          1982,
          1983,
          1984,
          1985,
          1986,
          1987,
          1988,
          1989,
          1990,
          1991,
          1992,
          1993,
          1994,
          1995,
          1996,
          1997,
          1998,
          1999,
          2000,
          2001,
          2002,
          2003,
          2004,
          2005,
          2006,
          2007,
          2008,
          2009,
          2010,
          2011,
          2012,
          2013,
          2014,
          2015,
          2016,
          2017,
          2018,
          2019
         ],
         "y": [
          -1.4550561797752817,
          -1.0550561797752822,
          -1.2550561797752824,
          0.04494382022471832,
          -0.6550561797752827,
          -0.4550561797752817,
          -0.2550561797752824,
          -0.6550561797752827,
          -0.9550561797752817,
          -1.7550561797752824,
          -1.4550561797752817,
          -0.9550561797752817,
          0.34494382022471726,
          -0.6550561797752827,
          0.14494382022471797,
          -0.2550561797752824,
          0.5449438202247183,
          0.04494382022471832,
          0.5449438202247183,
          0.14494382022471797,
          -0.2550561797752824,
          -0.2550561797752824,
          -0.35505617977528203,
          -0.855056179775282,
          -0.7550561797752824,
          -1.7550561797752824,
          -0.2550561797752824,
          -0.2550561797752824,
          0.34494382022471726,
          -0.2550561797752824,
          0.644943820224718,
          -1.2550561797752824,
          -1.4550561797752817,
          -0.35505617977528203,
          -1.2550561797752824,
          -0.15505617977528274,
          -0.15505617977528274,
          -0.6550561797752827,
          -0.855056179775282,
          -0.9550561797752817,
          -0.5550561797752813,
          -0.9550561797752817,
          -0.855056179775282,
          0.04494382022471832,
          -0.2550561797752824,
          -0.2550561797752824,
          0.04494382022471832,
          -0.9550561797752817,
          -0.35505617977528203,
          -0.9550561797752817,
          -0.2550561797752824,
          0.34494382022471726,
          0.4449438202247187,
          -0.5550561797752813,
          -0.6550561797752827,
          -0.4550561797752817,
          -0.5550561797752813,
          0.5449438202247183,
          0.5449438202247183,
          0.8449438202247173,
          0.04494382022471832,
          0.644943820224718,
          0.2449438202247176,
          1.644943820224718,
          0.34494382022471726,
          -0.7550561797752824,
          0.5449438202247183,
          0.644943820224718,
          0.5449438202247183,
          1.3449438202247173,
          0.5449438202247183,
          1.3449438202247173,
          1.2449438202247176,
          0.644943820224718,
          0.4449438202247187,
          0.9449438202247187,
          1.2449438202247176,
          0.7449438202247176,
          1.0449438202247183,
          -0.05505617977528132,
          1.644943820224718,
          0.8449438202247173,
          0.2449438202247176,
          1.7449438202247176,
          1.7449438202247176,
          1.0449438202247183,
          1.3449438202247173,
          2.2449438202247176,
          1.644943820224718
         ]
        },
        {
         "line": {
          "color": "black",
          "dash": "dot",
          "width": 1
         },
         "name": "Zentriertes Mittel",
         "opacity": 0.8,
         "type": "scatter",
         "x": [
          1931,
          1932,
          1933,
          1934,
          1935,
          1936,
          1937,
          1938,
          1939,
          1940,
          1941,
          1942,
          1943,
          1944,
          1945,
          1946,
          1947,
          1948,
          1949,
          1950,
          1951,
          1952,
          1953,
          1954,
          1955,
          1956,
          1957,
          1958,
          1959,
          1960,
          1961,
          1962,
          1963,
          1964,
          1965,
          1966,
          1967,
          1968,
          1969,
          1970,
          1971,
          1972,
          1973,
          1974,
          1975,
          1976,
          1977,
          1978,
          1979,
          1980,
          1981,
          1982,
          1983,
          1984,
          1985,
          1986,
          1987,
          1988,
          1989,
          1990,
          1991,
          1992,
          1993,
          1994,
          1995,
          1996,
          1997,
          1998,
          1999,
          2000,
          2001,
          2002,
          2003,
          2004,
          2005,
          2006,
          2007,
          2008,
          2009,
          2010,
          2011,
          2012,
          2013,
          2014,
          2015,
          2016,
          2017,
          2018,
          2019
         ],
         "y": [
          0,
          0,
          0,
          0,
          0,
          0,
          0,
          0,
          0,
          0,
          0,
          0,
          0,
          0,
          0,
          0,
          0,
          0,
          0,
          0,
          0,
          0,
          0,
          0,
          0,
          0,
          0,
          0,
          0,
          0,
          0,
          0,
          0,
          0,
          0,
          0,
          0,
          0,
          0,
          0,
          0,
          0,
          0,
          0,
          0,
          0,
          0,
          0,
          0,
          0,
          0,
          0,
          0,
          0,
          0,
          0,
          0,
          0,
          0,
          0,
          0,
          0,
          0,
          0,
          0,
          0,
          0,
          0,
          0,
          0,
          0,
          0,
          0,
          0,
          0,
          0,
          0,
          0,
          0,
          0,
          0,
          0,
          0,
          0,
          0,
          0,
          0,
          0,
          0
         ]
        }
       ],
       "layout": {
        "template": {
         "data": {
          "bar": [
           {
            "error_x": {
             "color": "rgb(36,36,36)"
            },
            "error_y": {
             "color": "rgb(36,36,36)"
            },
            "marker": {
             "line": {
              "color": "white",
              "width": 0.5
             }
            },
            "type": "bar"
           }
          ],
          "barpolar": [
           {
            "marker": {
             "line": {
              "color": "white",
              "width": 0.5
             }
            },
            "type": "barpolar"
           }
          ],
          "carpet": [
           {
            "aaxis": {
             "endlinecolor": "rgb(36,36,36)",
             "gridcolor": "white",
             "linecolor": "white",
             "minorgridcolor": "white",
             "startlinecolor": "rgb(36,36,36)"
            },
            "baxis": {
             "endlinecolor": "rgb(36,36,36)",
             "gridcolor": "white",
             "linecolor": "white",
             "minorgridcolor": "white",
             "startlinecolor": "rgb(36,36,36)"
            },
            "type": "carpet"
           }
          ],
          "choropleth": [
           {
            "colorbar": {
             "outlinewidth": 1,
             "tickcolor": "rgb(36,36,36)",
             "ticks": "outside"
            },
            "type": "choropleth"
           }
          ],
          "contour": [
           {
            "colorbar": {
             "outlinewidth": 1,
             "tickcolor": "rgb(36,36,36)",
             "ticks": "outside"
            },
            "colorscale": [
             [
              0,
              "#440154"
             ],
             [
              0.1111111111111111,
              "#482878"
             ],
             [
              0.2222222222222222,
              "#3e4989"
             ],
             [
              0.3333333333333333,
              "#31688e"
             ],
             [
              0.4444444444444444,
              "#26828e"
             ],
             [
              0.5555555555555556,
              "#1f9e89"
             ],
             [
              0.6666666666666666,
              "#35b779"
             ],
             [
              0.7777777777777778,
              "#6ece58"
             ],
             [
              0.8888888888888888,
              "#b5de2b"
             ],
             [
              1,
              "#fde725"
             ]
            ],
            "type": "contour"
           }
          ],
          "contourcarpet": [
           {
            "colorbar": {
             "outlinewidth": 1,
             "tickcolor": "rgb(36,36,36)",
             "ticks": "outside"
            },
            "type": "contourcarpet"
           }
          ],
          "heatmap": [
           {
            "colorbar": {
             "outlinewidth": 1,
             "tickcolor": "rgb(36,36,36)",
             "ticks": "outside"
            },
            "colorscale": [
             [
              0,
              "#440154"
             ],
             [
              0.1111111111111111,
              "#482878"
             ],
             [
              0.2222222222222222,
              "#3e4989"
             ],
             [
              0.3333333333333333,
              "#31688e"
             ],
             [
              0.4444444444444444,
              "#26828e"
             ],
             [
              0.5555555555555556,
              "#1f9e89"
             ],
             [
              0.6666666666666666,
              "#35b779"
             ],
             [
              0.7777777777777778,
              "#6ece58"
             ],
             [
              0.8888888888888888,
              "#b5de2b"
             ],
             [
              1,
              "#fde725"
             ]
            ],
            "type": "heatmap"
           }
          ],
          "heatmapgl": [
           {
            "colorbar": {
             "outlinewidth": 1,
             "tickcolor": "rgb(36,36,36)",
             "ticks": "outside"
            },
            "colorscale": [
             [
              0,
              "#440154"
             ],
             [
              0.1111111111111111,
              "#482878"
             ],
             [
              0.2222222222222222,
              "#3e4989"
             ],
             [
              0.3333333333333333,
              "#31688e"
             ],
             [
              0.4444444444444444,
              "#26828e"
             ],
             [
              0.5555555555555556,
              "#1f9e89"
             ],
             [
              0.6666666666666666,
              "#35b779"
             ],
             [
              0.7777777777777778,
              "#6ece58"
             ],
             [
              0.8888888888888888,
              "#b5de2b"
             ],
             [
              1,
              "#fde725"
             ]
            ],
            "type": "heatmapgl"
           }
          ],
          "histogram": [
           {
            "marker": {
             "line": {
              "color": "white",
              "width": 0.6
             }
            },
            "type": "histogram"
           }
          ],
          "histogram2d": [
           {
            "colorbar": {
             "outlinewidth": 1,
             "tickcolor": "rgb(36,36,36)",
             "ticks": "outside"
            },
            "colorscale": [
             [
              0,
              "#440154"
             ],
             [
              0.1111111111111111,
              "#482878"
             ],
             [
              0.2222222222222222,
              "#3e4989"
             ],
             [
              0.3333333333333333,
              "#31688e"
             ],
             [
              0.4444444444444444,
              "#26828e"
             ],
             [
              0.5555555555555556,
              "#1f9e89"
             ],
             [
              0.6666666666666666,
              "#35b779"
             ],
             [
              0.7777777777777778,
              "#6ece58"
             ],
             [
              0.8888888888888888,
              "#b5de2b"
             ],
             [
              1,
              "#fde725"
             ]
            ],
            "type": "histogram2d"
           }
          ],
          "histogram2dcontour": [
           {
            "colorbar": {
             "outlinewidth": 1,
             "tickcolor": "rgb(36,36,36)",
             "ticks": "outside"
            },
            "colorscale": [
             [
              0,
              "#440154"
             ],
             [
              0.1111111111111111,
              "#482878"
             ],
             [
              0.2222222222222222,
              "#3e4989"
             ],
             [
              0.3333333333333333,
              "#31688e"
             ],
             [
              0.4444444444444444,
              "#26828e"
             ],
             [
              0.5555555555555556,
              "#1f9e89"
             ],
             [
              0.6666666666666666,
              "#35b779"
             ],
             [
              0.7777777777777778,
              "#6ece58"
             ],
             [
              0.8888888888888888,
              "#b5de2b"
             ],
             [
              1,
              "#fde725"
             ]
            ],
            "type": "histogram2dcontour"
           }
          ],
          "mesh3d": [
           {
            "colorbar": {
             "outlinewidth": 1,
             "tickcolor": "rgb(36,36,36)",
             "ticks": "outside"
            },
            "type": "mesh3d"
           }
          ],
          "parcoords": [
           {
            "line": {
             "colorbar": {
              "outlinewidth": 1,
              "tickcolor": "rgb(36,36,36)",
              "ticks": "outside"
             }
            },
            "type": "parcoords"
           }
          ],
          "pie": [
           {
            "automargin": true,
            "type": "pie"
           }
          ],
          "scatter": [
           {
            "marker": {
             "colorbar": {
              "outlinewidth": 1,
              "tickcolor": "rgb(36,36,36)",
              "ticks": "outside"
             }
            },
            "type": "scatter"
           }
          ],
          "scatter3d": [
           {
            "line": {
             "colorbar": {
              "outlinewidth": 1,
              "tickcolor": "rgb(36,36,36)",
              "ticks": "outside"
             }
            },
            "marker": {
             "colorbar": {
              "outlinewidth": 1,
              "tickcolor": "rgb(36,36,36)",
              "ticks": "outside"
             }
            },
            "type": "scatter3d"
           }
          ],
          "scattercarpet": [
           {
            "marker": {
             "colorbar": {
              "outlinewidth": 1,
              "tickcolor": "rgb(36,36,36)",
              "ticks": "outside"
             }
            },
            "type": "scattercarpet"
           }
          ],
          "scattergeo": [
           {
            "marker": {
             "colorbar": {
              "outlinewidth": 1,
              "tickcolor": "rgb(36,36,36)",
              "ticks": "outside"
             }
            },
            "type": "scattergeo"
           }
          ],
          "scattergl": [
           {
            "marker": {
             "colorbar": {
              "outlinewidth": 1,
              "tickcolor": "rgb(36,36,36)",
              "ticks": "outside"
             }
            },
            "type": "scattergl"
           }
          ],
          "scattermapbox": [
           {
            "marker": {
             "colorbar": {
              "outlinewidth": 1,
              "tickcolor": "rgb(36,36,36)",
              "ticks": "outside"
             }
            },
            "type": "scattermapbox"
           }
          ],
          "scatterpolar": [
           {
            "marker": {
             "colorbar": {
              "outlinewidth": 1,
              "tickcolor": "rgb(36,36,36)",
              "ticks": "outside"
             }
            },
            "type": "scatterpolar"
           }
          ],
          "scatterpolargl": [
           {
            "marker": {
             "colorbar": {
              "outlinewidth": 1,
              "tickcolor": "rgb(36,36,36)",
              "ticks": "outside"
             }
            },
            "type": "scatterpolargl"
           }
          ],
          "scatterternary": [
           {
            "marker": {
             "colorbar": {
              "outlinewidth": 1,
              "tickcolor": "rgb(36,36,36)",
              "ticks": "outside"
             }
            },
            "type": "scatterternary"
           }
          ],
          "surface": [
           {
            "colorbar": {
             "outlinewidth": 1,
             "tickcolor": "rgb(36,36,36)",
             "ticks": "outside"
            },
            "colorscale": [
             [
              0,
              "#440154"
             ],
             [
              0.1111111111111111,
              "#482878"
             ],
             [
              0.2222222222222222,
              "#3e4989"
             ],
             [
              0.3333333333333333,
              "#31688e"
             ],
             [
              0.4444444444444444,
              "#26828e"
             ],
             [
              0.5555555555555556,
              "#1f9e89"
             ],
             [
              0.6666666666666666,
              "#35b779"
             ],
             [
              0.7777777777777778,
              "#6ece58"
             ],
             [
              0.8888888888888888,
              "#b5de2b"
             ],
             [
              1,
              "#fde725"
             ]
            ],
            "type": "surface"
           }
          ],
          "table": [
           {
            "cells": {
             "fill": {
              "color": "rgb(237,237,237)"
             },
             "line": {
              "color": "white"
             }
            },
            "header": {
             "fill": {
              "color": "rgb(217,217,217)"
             },
             "line": {
              "color": "white"
             }
            },
            "type": "table"
           }
          ]
         },
         "layout": {
          "annotationdefaults": {
           "arrowhead": 0,
           "arrowwidth": 1
          },
          "coloraxis": {
           "colorbar": {
            "outlinewidth": 1,
            "tickcolor": "rgb(36,36,36)",
            "ticks": "outside"
           }
          },
          "colorscale": {
           "diverging": [
            [
             0,
             "rgb(103,0,31)"
            ],
            [
             0.1,
             "rgb(178,24,43)"
            ],
            [
             0.2,
             "rgb(214,96,77)"
            ],
            [
             0.3,
             "rgb(244,165,130)"
            ],
            [
             0.4,
             "rgb(253,219,199)"
            ],
            [
             0.5,
             "rgb(247,247,247)"
            ],
            [
             0.6,
             "rgb(209,229,240)"
            ],
            [
             0.7,
             "rgb(146,197,222)"
            ],
            [
             0.8,
             "rgb(67,147,195)"
            ],
            [
             0.9,
             "rgb(33,102,172)"
            ],
            [
             1,
             "rgb(5,48,97)"
            ]
           ],
           "sequential": [
            [
             0,
             "#440154"
            ],
            [
             0.1111111111111111,
             "#482878"
            ],
            [
             0.2222222222222222,
             "#3e4989"
            ],
            [
             0.3333333333333333,
             "#31688e"
            ],
            [
             0.4444444444444444,
             "#26828e"
            ],
            [
             0.5555555555555556,
             "#1f9e89"
            ],
            [
             0.6666666666666666,
             "#35b779"
            ],
            [
             0.7777777777777778,
             "#6ece58"
            ],
            [
             0.8888888888888888,
             "#b5de2b"
            ],
            [
             1,
             "#fde725"
            ]
           ],
           "sequentialminus": [
            [
             0,
             "#440154"
            ],
            [
             0.1111111111111111,
             "#482878"
            ],
            [
             0.2222222222222222,
             "#3e4989"
            ],
            [
             0.3333333333333333,
             "#31688e"
            ],
            [
             0.4444444444444444,
             "#26828e"
            ],
            [
             0.5555555555555556,
             "#1f9e89"
            ],
            [
             0.6666666666666666,
             "#35b779"
            ],
            [
             0.7777777777777778,
             "#6ece58"
            ],
            [
             0.8888888888888888,
             "#b5de2b"
            ],
            [
             1,
             "#fde725"
            ]
           ]
          },
          "colorway": [
           "#1F77B4",
           "#FF7F0E",
           "#2CA02C",
           "#D62728",
           "#9467BD",
           "#8C564B",
           "#E377C2",
           "#7F7F7F",
           "#BCBD22",
           "#17BECF"
          ],
          "font": {
           "color": "rgb(36,36,36)"
          },
          "geo": {
           "bgcolor": "white",
           "lakecolor": "white",
           "landcolor": "white",
           "showlakes": true,
           "showland": true,
           "subunitcolor": "white"
          },
          "hoverlabel": {
           "align": "left"
          },
          "hovermode": "closest",
          "mapbox": {
           "style": "light"
          },
          "paper_bgcolor": "white",
          "plot_bgcolor": "white",
          "polar": {
           "angularaxis": {
            "gridcolor": "rgb(232,232,232)",
            "linecolor": "rgb(36,36,36)",
            "showgrid": false,
            "showline": true,
            "ticks": "outside"
           },
           "bgcolor": "white",
           "radialaxis": {
            "gridcolor": "rgb(232,232,232)",
            "linecolor": "rgb(36,36,36)",
            "showgrid": false,
            "showline": true,
            "ticks": "outside"
           }
          },
          "scene": {
           "xaxis": {
            "backgroundcolor": "white",
            "gridcolor": "rgb(232,232,232)",
            "gridwidth": 2,
            "linecolor": "rgb(36,36,36)",
            "showbackground": true,
            "showgrid": false,
            "showline": true,
            "ticks": "outside",
            "zeroline": false,
            "zerolinecolor": "rgb(36,36,36)"
           },
           "yaxis": {
            "backgroundcolor": "white",
            "gridcolor": "rgb(232,232,232)",
            "gridwidth": 2,
            "linecolor": "rgb(36,36,36)",
            "showbackground": true,
            "showgrid": false,
            "showline": true,
            "ticks": "outside",
            "zeroline": false,
            "zerolinecolor": "rgb(36,36,36)"
           },
           "zaxis": {
            "backgroundcolor": "white",
            "gridcolor": "rgb(232,232,232)",
            "gridwidth": 2,
            "linecolor": "rgb(36,36,36)",
            "showbackground": true,
            "showgrid": false,
            "showline": true,
            "ticks": "outside",
            "zeroline": false,
            "zerolinecolor": "rgb(36,36,36)"
           }
          },
          "shapedefaults": {
           "fillcolor": "black",
           "line": {
            "width": 0
           },
           "opacity": 0.3
          },
          "ternary": {
           "aaxis": {
            "gridcolor": "rgb(232,232,232)",
            "linecolor": "rgb(36,36,36)",
            "showgrid": false,
            "showline": true,
            "ticks": "outside"
           },
           "baxis": {
            "gridcolor": "rgb(232,232,232)",
            "linecolor": "rgb(36,36,36)",
            "showgrid": false,
            "showline": true,
            "ticks": "outside"
           },
           "bgcolor": "white",
           "caxis": {
            "gridcolor": "rgb(232,232,232)",
            "linecolor": "rgb(36,36,36)",
            "showgrid": false,
            "showline": true,
            "ticks": "outside"
           }
          },
          "title": {
           "x": 0.05
          },
          "xaxis": {
           "automargin": true,
           "gridcolor": "rgb(232,232,232)",
           "linecolor": "rgb(36,36,36)",
           "showgrid": false,
           "showline": true,
           "ticks": "outside",
           "title": {
            "standoff": 15
           },
           "zeroline": false,
           "zerolinecolor": "rgb(36,36,36)"
          },
          "yaxis": {
           "automargin": true,
           "gridcolor": "rgb(232,232,232)",
           "linecolor": "rgb(36,36,36)",
           "showgrid": false,
           "showline": true,
           "ticks": "outside",
           "title": {
            "standoff": 15
           },
           "zeroline": false,
           "zerolinecolor": "rgb(36,36,36)"
          }
         }
        },
        "title": {
         "text": "Temperaturabweichungen aller Orte zu ihrem Mittelwert"
        },
        "xaxis": {
         "title": {
          "text": "Jahre"
         }
        },
        "yaxis": {
         "title": {
          "text": "Temperaturdifferenz in K"
         }
        }
       }
      },
      "text/html": [
       "<div>\n",
       "        \n",
       "        \n",
       "            <div id=\"6ddebc55-f273-4295-8459-35fcee6f7bc6\" class=\"plotly-graph-div\" style=\"height:525px; width:100%;\"></div>\n",
       "            <script type=\"text/javascript\">\n",
       "                require([\"plotly\"], function(Plotly) {\n",
       "                    window.PLOTLYENV=window.PLOTLYENV || {};\n",
       "                    \n",
       "                if (document.getElementById(\"6ddebc55-f273-4295-8459-35fcee6f7bc6\")) {\n",
       "                    Plotly.newPlot(\n",
       "                        '6ddebc55-f273-4295-8459-35fcee6f7bc6',\n",
       "                        [{\"line\": {\"color\": \"grey\"}, \"name\": \"Basel-Binningen\", \"opacity\": 0.3, \"type\": \"scatter\", \"x\": [1931, 1932, 1933, 1934, 1935, 1936, 1937, 1938, 1939, 1940, 1941, 1942, 1943, 1944, 1945, 1946, 1947, 1948, 1949, 1950, 1951, 1952, 1953, 1954, 1955, 1956, 1957, 1958, 1959, 1960, 1961, 1962, 1963, 1964, 1965, 1966, 1967, 1968, 1969, 1970, 1971, 1972, 1973, 1974, 1975, 1976, 1977, 1978, 1979, 1980, 1981, 1982, 1983, 1984, 1985, 1986, 1987, 1988, 1989, 1990, 1991, 1992, 1993, 1994, 1995, 1996, 1997, 1998, 1999, 2000, 2001, 2002, 2003, 2004, 2005, 2006, 2007, 2008, 2009, 2010, 2011, 2012, 2013, 2014, 2015, 2016, 2017, 2018, 2019], \"y\": [-1.4584269662921336, -1.0584269662921333, -1.158426966292133, -0.05842696629213329, -0.5584269662921333, -0.45842696629213364, -0.15842696629213293, -0.6584269662921329, -0.858426966292134, -1.7584269662921344, -1.5584269662921333, -1.158426966292133, 0.24157303370786565, -0.6584269662921329, 0.04157303370786636, -0.45842696629213364, 0.5415730337078664, -0.05842696629213329, 0.4415730337078667, 0.04157303370786636, -0.358426966292134, -0.25842696629213435, -0.358426966292134, -0.9584269662921336, -0.858426966292134, -2.0584269662921333, -0.45842696629213364, -0.358426966292134, 0.24157303370786565, -0.358426966292134, 0.5415730337078664, -1.358426966292134, -1.4584269662921336, -0.15842696629213293, -0.7584269662921344, -0.05842696629213329, -0.15842696629213293, -0.6584269662921329, -0.9584269662921336, -0.7584269662921344, -0.6584269662921329, -1.0584269662921333, -0.7584269662921344, 0.04157303370786636, -0.25842696629213435, 0.04157303370786636, -0.05842696629213329, -0.9584269662921336, -0.45842696629213364, -1.0584269662921333, -0.358426966292134, 0.34157303370786707, 0.34157303370786707, -0.45842696629213364, -0.9584269662921336, -0.5584269662921333, -0.45842696629213364, 0.5415730337078664, 0.641573033707866, 0.9415730337078667, 0.04157303370786636, 0.7415730337078656, 0.24157303370786565, 1.5415730337078664, 0.5415730337078664, -0.5584269662921333, 0.641573033707866, 0.641573033707866, 0.7415730337078656, 1.4415730337078667, 0.641573033707866, 1.2415730337078656, 1.4415730337078667, 0.641573033707866, 0.4415730337078667, 0.9415730337078667, 1.341573033707867, 0.8415730337078671, 1.141573033707866, -0.05842696629213329, 1.641573033707866, 0.9415730337078667, 0.34157303370786707, 1.9415730337078667, 1.7415730337078656, 0.9415730337078667, 1.4415730337078667, 2.2415730337078656, 1.641573033707866]}, {\"line\": {\"color\": \"grey\"}, \"name\": \"Bern-Zollikofen\", \"opacity\": 0.3, \"type\": \"scatter\", \"x\": [1931, 1932, 1933, 1934, 1935, 1936, 1937, 1938, 1939, 1940, 1941, 1942, 1943, 1944, 1945, 1946, 1947, 1948, 1949, 1950, 1951, 1952, 1953, 1954, 1955, 1956, 1957, 1958, 1959, 1960, 1961, 1962, 1963, 1964, 1965, 1966, 1967, 1968, 1969, 1970, 1971, 1972, 1973, 1974, 1975, 1976, 1977, 1978, 1979, 1980, 1981, 1982, 1983, 1984, 1985, 1986, 1987, 1988, 1989, 1990, 1991, 1992, 1993, 1994, 1995, 1996, 1997, 1998, 1999, 2000, 2001, 2002, 2003, 2004, 2005, 2006, 2007, 2008, 2009, 2010, 2011, 2012, 2013, 2014, 2015, 2016, 2017, 2018, 2019], \"y\": [-1.1258426966292143, -0.9258426966292141, -1.0258426966292147, 0.07415730337078585, -0.5258426966292147, -0.3258426966292145, -0.1258426966292152, -0.5258426966292147, -0.9258426966292141, -1.5258426966292147, -1.4258426966292141, -1.1258426966292143, 0.1741573033707855, -0.9258426966292141, -0.1258426966292152, -0.42584269662921415, 0.8741573033707848, 0.1741573033707855, 0.6741573033707855, 0.27415730337078514, -0.22584269662921486, -0.02584269662921379, -0.3258426966292145, -0.6258426966292143, -0.7258426966292149, -1.8258426966292145, -0.42584269662921415, -0.42584269662921415, 0.1741573033707855, -0.5258426966292147, 0.4741573033707862, -1.2258426966292149, -1.6258426966292143, -0.3258426966292145, -1.1258426966292143, -0.02584269662921379, -0.1258426966292152, -0.6258426966292143, -0.8258426966292145, -0.8258426966292145, -0.7258426966292149, -0.9258426966292141, -0.8258426966292145, -0.02584269662921379, -0.3258426966292145, -0.1258426966292152, -0.1258426966292152, -1.0258426966292147, -0.42584269662921415, -1.0258426966292147, -0.3258426966292145, 0.3741573033707848, 0.1741573033707855, -0.5258426966292147, -0.7258426966292149, -0.3258426966292145, -0.42584269662921415, 0.4741573033707862, 0.4741573033707862, 0.7741573033707851, -0.1258426966292152, 0.4741573033707862, 0.27415730337078514, 1.6741573033707855, 0.4741573033707862, -0.42584269662921415, 0.6741573033707855, 0.5741573033707859, 0.5741573033707859, 1.2741573033707851, 0.7741573033707851, 1.0741573033707859, 1.1741573033707855, 0.4741573033707862, 0.1741573033707855, 0.8741573033707848, 1.1741573033707855, 0.6741573033707855, 1.0741573033707859, 0.27415730337078514, 1.7741573033707851, 0.8741573033707848, 0.3741573033707848, 1.6741573033707855, 1.5741573033707859, 1.0741573033707859, 1.2741573033707851, 2.1741573033707855, 1.6741573033707855]}, {\"line\": {\"color\": \"red\", \"width\": 2}, \"name\": \"DavosWSL\", \"type\": \"scatter\", \"x\": [1931, 1932, 1933, 1934, 1935, 1936, 1937, 1938, 1939, 1940, 1941, 1942, 1943, 1944, 1945, 1946, 1947, 1948, 1949, 1950, 1951, 1952, 1953, 1954, 1955, 1956, 1957, 1958, 1959, 1960, 1961, 1962, 1963, 1964, 1965, 1966, 1967, 1968, 1969, 1970, 1971, 1972, 1973, 1974, 1975, 1976, 1977, 1978, 1979, 1980, 1981, 1982, 1983, 1984, 1985, 1986, 1987, 1988, 1989, 1990, 1991, 1992, 1993, 1994, 1995, 1996, 1997, 1998, 1999, 2000, 2001, 2002, 2003, 2004, 2005, 2006, 2007, 2008, 2009, 2010, 2011, 2012, 2013, 2014, 2015, 2016, 2017, 2018, 2019], \"y\": [-1.3449438202247184, -0.7449438202247185, -1.2449438202247183, 0.2550561797752815, -1.2449438202247183, -0.6449438202247184, -0.5449438202247183, -0.7449438202247185, -0.8449438202247181, -1.6449438202247184, -1.3449438202247184, -0.6449438202247184, 0.055056179775281766, -1.3449438202247184, -0.5449438202247183, -0.04494382022471832, 0.5550561797752818, 0.15505617977528185, 0.15505617977528185, -0.2449438202247185, -0.1449438202247184, -0.8449438202247181, -0.34494382022471815, -1.1449438202247184, -1.0449438202247183, -2.1449438202247184, -0.04494382022471832, -0.44494382022471823, 0.15505617977528185, -0.2449438202247185, 0.6550561797752819, -1.4449438202247182, -1.1449438202247184, 0.055056179775281766, -1.2449438202247183, -0.44494382022471823, -0.34494382022471815, -0.44494382022471823, -0.44494382022471823, -0.7449438202247185, 0.055056179775281766, -0.1449438202247184, -0.44494382022471823, -0.34494382022471815, 0.055056179775281766, -0.34494382022471815, 0.15505617977528185, -0.44494382022471823, -0.44494382022471823, -0.9449438202247182, -0.44494382022471823, 0.2550561797752815, 0.3550561797752816, -0.7449438202247185, -0.44494382022471823, 0.055056179775281766, -0.04494382022471832, 0.4550561797752817, 1.1550561797752819, 0.7550561797752815, 0.15505617977528185, 0.7550561797752815, 0.3550561797752816, 1.5550561797752813, 0.15505617977528185, 0.055056179775281766, 1.0550561797752813, 0.4550561797752817, 0.4550561797752817, 1.0550561797752813, 0.4550561797752817, 1.2550561797752815, 1.2550561797752815, 0.4550561797752817, -0.04494382022471832, 1.1550561797752819, 1.0550561797752813, 0.7550561797752815, 0.7550561797752815, -0.34494382022471815, 1.6550561797752819, 0.8550561797752816, 0.5550561797752818, 1.7550561797752815, 1.7550561797752815, 1.355056179775282, 1.1550561797752819, 1.9550561797752817, 1.4550561797752817]}, {\"line\": {\"color\": \"grey\"}, \"name\": \"Genf-Cointrin\", \"opacity\": 0.3, \"type\": \"scatter\", \"x\": [1931, 1932, 1933, 1934, 1935, 1936, 1937, 1938, 1939, 1940, 1941, 1942, 1943, 1944, 1945, 1946, 1947, 1948, 1949, 1950, 1951, 1952, 1953, 1954, 1955, 1956, 1957, 1958, 1959, 1960, 1961, 1962, 1963, 1964, 1965, 1966, 1967, 1968, 1969, 1970, 1971, 1972, 1973, 1974, 1975, 1976, 1977, 1978, 1979, 1980, 1981, 1982, 1983, 1984, 1985, 1986, 1987, 1988, 1989, 1990, 1991, 1992, 1993, 1994, 1995, 1996, 1997, 1998, 1999, 2000, 2001, 2002, 2003, 2004, 2005, 2006, 2007, 2008, 2009, 2010, 2011, 2012, 2013, 2014, 2015, 2016, 2017, 2018, 2019], \"y\": [-1.0730337078651715, -0.8730337078651722, -1.0730337078651715, -0.0730337078651715, -0.47303370786517185, -0.47303370786517185, -0.0730337078651715, -0.6730337078651711, -0.9730337078651718, -1.3730337078651722, -1.2730337078651708, -0.7730337078651708, 0.32696629213482886, -0.47303370786517185, 0.22696629213482922, -0.0730337078651715, 0.8269662921348289, 0.02696629213482815, 0.5269662921348282, 0.32696629213482886, -0.47303370786517185, -0.17303370786517114, -0.3730337078651722, -0.6730337078651711, -0.3730337078651722, -1.5730337078651715, -0.5730337078651715, -0.47303370786517185, 0.1269662921348278, -0.3730337078651722, 0.5269662921348282, -0.9730337078651718, -1.5730337078651715, -0.2730337078651708, -1.2730337078651708, -0.0730337078651715, -0.3730337078651722, -0.6730337078651711, -0.9730337078651718, -0.7730337078651708, -0.7730337078651708, -0.8730337078651722, -0.9730337078651718, -0.2730337078651708, -0.3730337078651722, -0.2730337078651708, -0.17303370786517114, -1.0730337078651715, -0.3730337078651722, -1.1730337078651711, -0.47303370786517185, 0.32696629213482886, 0.22696629213482922, -0.5730337078651715, -0.8730337078651722, -0.2730337078651708, -0.17303370786517114, 0.4269662921348285, 0.6269662921348278, 0.7269662921348292, 0.1269662921348278, 0.5269662921348282, 0.02696629213482815, 1.5269662921348282, 0.6269662921348278, -0.2730337078651708, 0.6269662921348278, 0.5269662921348282, 0.4269662921348285, 1.1269662921348278, 0.8269662921348289, 1.1269662921348278, 1.3269662921348289, 0.6269662921348278, 0.22696629213482922, 1.1269662921348278, 1.1269662921348278, 0.7269662921348292, 1.1269662921348278, 0.02696629213482815, 1.3269662921348289, 0.8269662921348289, 0.1269662921348278, 1.6269662921348278, 1.5269662921348282, 1.0269662921348282, 1.2269662921348292, 2.226966292134829, 1.7269662921348292]}, {\"line\": {\"color\": \"grey\"}, \"name\": \"Locarno-Monti\", \"opacity\": 0.3, \"type\": \"scatter\", \"x\": [1931, 1932, 1933, 1934, 1935, 1936, 1937, 1938, 1939, 1940, 1941, 1942, 1943, 1944, 1945, 1946, 1947, 1948, 1949, 1950, 1951, 1952, 1953, 1954, 1955, 1956, 1957, 1958, 1959, 1960, 1961, 1962, 1963, 1964, 1965, 1966, 1967, 1968, 1969, 1970, 1971, 1972, 1973, 1974, 1975, 1976, 1977, 1978, 1979, 1980, 1981, 1982, 1983, 1984, 1985, 1986, 1987, 1988, 1989, 1990, 1991, 1992, 1993, 1994, 1995, 1996, 1997, 1998, 1999, 2000, 2001, 2002, 2003, 2004, 2005, 2006, 2007, 2008, 2009, 2010, 2011, 2012, 2013, 2014, 2015, 2016, 2017, 2018, 2019], \"y\": [-0.8943820224719072, -0.8943820224719072, -0.694382022471908, -0.39438202247190723, -0.694382022471908, -0.7943820224719076, -0.5943820224719065, -0.4943820224719069, -1.0943820224719065, -1.2943820224719076, -1.3943820224719072, -0.4943820224719069, 0.6056179775280928, -0.5943820224719065, 0.4056179775280935, -0.39438202247190723, 0.005617977528093121, 0.005617977528093121, 0.5056179775280931, 0.005617977528093121, -0.694382022471908, -0.5943820224719065, 0.005617977528093121, -0.8943820224719072, -0.4943820224719069, -1.2943820224719076, -0.39438202247190723, -0.2943820224719076, 0.10561797752809277, -0.9943820224719069, 0.30561797752809206, -0.694382022471908, -1.2943820224719076, -0.09438202247190652, -0.8943820224719072, -0.4943820224719069, -0.39438202247190723, -0.8943820224719072, -0.8943820224719072, -0.8943820224719072, -0.4943820224719069, -1.0943820224719065, -0.39438202247190723, -0.2943820224719076, -0.39438202247190723, -0.09438202247190652, -0.8943820224719072, -0.9943820224719069, -0.5943820224719065, -0.7943820224719076, -0.2943820224719076, -0.09438202247190652, -0.09438202247190652, -0.7943820224719076, -0.4943820224719069, -0.09438202247190652, -0.39438202247190723, 0.2056179775280924, 0.5056179775280931, 0.805617977528092, 0.4056179775280935, 0.6056179775280928, 0.4056179775280935, 1.1056179775280928, 0.30561797752809206, 0.005617977528093121, 1.0056179775280931, 0.6056179775280928, 0.5056179775280931, 0.9056179775280935, 0.6056179775280928, 0.805617977528092, 1.5056179775280931, 0.6056179775280928, 0.5056179775280931, 1.1056179775280928, 1.6056179775280928, 0.6056179775280928, 1.1056179775280928, 0.005617977528093121, 1.5056179775280931, 1.2056179775280924, 0.805617977528092, 1.4056179775280935, 1.9056179775280935, 1.305617977528092, 1.5056179775280931, 1.9056179775280935, 1.9056179775280935]}, {\"line\": {\"color\": \"grey\"}, \"name\": \"Lugano\", \"opacity\": 0.3, \"type\": \"scatter\", \"x\": [1931, 1932, 1933, 1934, 1935, 1936, 1937, 1938, 1939, 1940, 1941, 1942, 1943, 1944, 1945, 1946, 1947, 1948, 1949, 1950, 1951, 1952, 1953, 1954, 1955, 1956, 1957, 1958, 1959, 1960, 1961, 1962, 1963, 1964, 1965, 1966, 1967, 1968, 1969, 1970, 1971, 1972, 1973, 1974, 1975, 1976, 1977, 1978, 1979, 1980, 1981, 1982, 1983, 1984, 1985, 1986, 1987, 1988, 1989, 1990, 1991, 1992, 1993, 1994, 1995, 1996, 1997, 1998, 1999, 2000, 2001, 2002, 2003, 2004, 2005, 2006, 2007, 2008, 2009, 2010, 2011, 2012, 2013, 2014, 2015, 2016, 2017, 2018, 2019], \"y\": [-1.1595505617977544, -1.0595505617977548, -0.9595505617977551, -0.35955056179775546, -0.6595505617977544, -0.759550561797754, -0.4595505617977551, -0.5595505617977548, -0.9595505617977551, -1.0595505617977548, -1.0595505617977548, -0.1595505617977544, 0.6404494382022445, -0.5595505617977548, 0.44044943820224525, -0.35955056179775546, 0.14044943820224454, 0.3404494382022456, 0.6404494382022445, 0.14044943820224454, -0.5595505617977548, -0.4595505617977551, -0.05955056179775475, -0.8595505617977555, -0.35955056179775546, -1.259550561797754, -0.4595505617977551, -0.05955056179775475, 0.04044943820224489, -0.9595505617977551, 0.14044943820224454, -0.6595505617977544, -1.1595505617977544, -0.25955056179775404, -1.0595505617977548, -0.4595505617977551, -0.1595505617977544, -0.759550561797754, -0.9595505617977551, -0.759550561797754, -0.25955056179775404, -0.759550561797754, -0.35955056179775546, -0.1595505617977544, -0.25955056179775404, -0.1595505617977544, -0.759550561797754, -0.9595505617977551, -0.6595505617977544, -0.9595505617977551, -0.4595505617977551, 0.04044943820224489, -0.1595505617977544, -0.759550561797754, -0.5595505617977548, -0.25955056179775404, -0.4595505617977551, 0.24044943820224596, 0.24044943820224596, 0.5404494382022449, 0.24044943820224596, 0.3404494382022456, 0.04044943820224489, 1.040449438202245, 0.44044943820224525, 0.04044943820224489, 0.9404494382022452, 0.3404494382022456, 0.5404494382022449, 0.9404494382022452, 0.6404494382022445, 0.8404494382022456, 1.240449438202246, 0.5404494382022449, 0.5404494382022449, 1.040449438202245, 1.4404494382022452, 0.6404494382022445, 1.1404494382022445, 0.04044943820224489, 1.4404494382022452, 1.1404494382022445, 0.740449438202246, 1.4404494382022452, 1.740449438202246, 1.240449438202246, 1.3404494382022456, 1.8404494382022456, 1.8404494382022456]}, {\"line\": {\"color\": \"grey\"}, \"name\": \"Luzern\", \"opacity\": 0.3, \"type\": \"scatter\", \"x\": [1931, 1932, 1933, 1934, 1935, 1936, 1937, 1938, 1939, 1940, 1941, 1942, 1943, 1944, 1945, 1946, 1947, 1948, 1949, 1950, 1951, 1952, 1953, 1954, 1955, 1956, 1957, 1958, 1959, 1960, 1961, 1962, 1963, 1964, 1965, 1966, 1967, 1968, 1969, 1970, 1971, 1972, 1973, 1974, 1975, 1976, 1977, 1978, 1979, 1980, 1981, 1982, 1983, 1984, 1985, 1986, 1987, 1988, 1989, 1990, 1991, 1992, 1993, 1994, 1995, 1996, 1997, 1998, 1999, 2000, 2001, 2002, 2003, 2004, 2005, 2006, 2007, 2008, 2009, 2010, 2011, 2012, 2013, 2014, 2015, 2016, 2017, 2018, 2019], \"y\": [-1.322471910112358, -1.0224719101123583, -1.2224719101123576, -0.022471910112358273, -0.8224719101123572, -0.42247191011235863, -0.3224719101123572, -0.7224719101123576, -0.9224719101123586, -1.7224719101123576, -1.4224719101123577, -1.0224719101123583, 0.27752808988764244, -0.8224719101123572, -0.12247191011235792, -0.22247191011235756, 0.5775280898876414, 0.1775280898876428, 0.4775280898876417, 0.07752808988764137, -0.3224719101123572, -0.22247191011235756, -0.3224719101123572, -0.8224719101123572, -0.6224719101123579, -1.7224719101123576, -0.42247191011235863, -0.3224719101123572, 0.07752808988764137, -0.42247191011235863, 0.5775280898876414, -1.2224719101123576, -1.622471910112358, -0.3224719101123572, -1.2224719101123576, -0.12247191011235792, -0.12247191011235792, -0.5224719101123583, -0.9224719101123586, -1.0224719101123583, -0.8224719101123572, -1.122471910112358, -0.7224719101123576, -0.022471910112358273, -0.3224719101123572, -0.12247191011235792, -0.12247191011235792, -1.122471910112358, -0.42247191011235863, -0.8224719101123572, -0.3224719101123572, 0.1775280898876428, 0.3775280898876421, -0.6224719101123579, -0.8224719101123572, -0.42247191011235863, -0.42247191011235863, 0.7775280898876424, 0.6775280898876428, 0.8775280898876421, -0.022471910112358273, 0.6775280898876428, 0.3775280898876421, 1.7775280898876424, 0.5775280898876414, -0.42247191011235863, 0.6775280898876428, 0.6775280898876428, 0.4775280898876417, 1.2775280898876424, 0.7775280898876424, 1.2775280898876424, 1.2775280898876424, 0.6775280898876428, 0.3775280898876421, 0.9775280898876417, 1.2775280898876424, 0.7775280898876424, 1.0775280898876414, 0.07752808988764137, 1.5775280898876414, 0.9775280898876417, 0.3775280898876421, 1.7775280898876424, 1.6775280898876428, 1.1775280898876428, 1.2775280898876424, 2.2775280898876424, 1.7775280898876424]}, {\"line\": {\"color\": \"grey\"}, \"name\": \"Neuenburg\", \"opacity\": 0.3, \"type\": \"scatter\", \"x\": [1931, 1932, 1933, 1934, 1935, 1936, 1937, 1938, 1939, 1940, 1941, 1942, 1943, 1944, 1945, 1946, 1947, 1948, 1949, 1950, 1951, 1952, 1953, 1954, 1955, 1956, 1957, 1958, 1959, 1960, 1961, 1962, 1963, 1964, 1965, 1966, 1967, 1968, 1969, 1970, 1971, 1972, 1973, 1974, 1975, 1976, 1977, 1978, 1979, 1980, 1981, 1982, 1983, 1984, 1985, 1986, 1987, 1988, 1989, 1990, 1991, 1992, 1993, 1994, 1995, 1996, 1997, 1998, 1999, 2000, 2001, 2002, 2003, 2004, 2005, 2006, 2007, 2008, 2009, 2010, 2011, 2012, 2013, 2014, 2015, 2016, 2017, 2018, 2019], \"y\": [-1.330337078651679, -1.1303370786516798, -1.2303370786516794, 0.0696629213483213, -0.830337078651679, -0.5303370786516801, -0.4303370786516787, -0.7303370786516794, -1.2303370786516794, -1.6303370786516798, -1.4303370786516787, -1.0303370786516801, 0.36966292134832024, -0.6303370786516798, 0.16966292134832095, -0.33033707865167905, 0.7696629213483206, -0.030337078651680116, 0.4696629213483199, -0.030337078651680116, -0.4303370786516787, -0.13033707865167976, -0.5303370786516801, -0.830337078651679, -0.830337078651679, -1.9303370786516796, -0.5303370786516801, -0.4303370786516787, 0.36966292134832024, -0.4303370786516787, 0.5696629213483213, -1.0303370786516801, -1.6303370786516798, -0.2303370786516794, -1.2303370786516794, -0.030337078651680116, -0.030337078651680116, -0.4303370786516787, -0.830337078651679, -0.830337078651679, -0.5303370786516801, -0.9303370786516787, -0.6303370786516798, 0.0696629213483213, -0.13033707865167976, 0.0696629213483213, -0.13033707865167976, -0.9303370786516787, -0.2303370786516794, -0.9303370786516787, -0.2303370786516794, 0.36966292134832024, 0.2696629213483206, -0.5303370786516801, -0.5303370786516801, -0.33033707865167905, -0.33033707865167905, 0.36966292134832024, 0.5696629213483213, 0.7696629213483206, -0.030337078651680116, 0.669662921348321, 0.2696629213483206, 1.669662921348321, 0.5696629213483213, -0.33033707865167905, 0.669662921348321, 0.669662921348321, 0.5696629213483213, 1.2696629213483206, 0.669662921348321, 1.169662921348321, 1.3696629213483202, 0.5696629213483213, 0.2696629213483206, 0.9696629213483199, 1.0696629213483213, 0.5696629213483213, 1.0696629213483213, 0.0696629213483213, 1.5696629213483213, 0.8696629213483202, 0.2696629213483206, 1.5696629213483213, 1.7696629213483206, 1.0696629213483213, 1.4696629213483199, 2.0696629213483213, 1.5696629213483213]}, {\"line\": {\"color\": \"grey\"}, \"name\": \"Samedan\", \"opacity\": 0.3, \"type\": \"scatter\", \"x\": [1931, 1932, 1933, 1934, 1935, 1936, 1937, 1938, 1939, 1940, 1941, 1942, 1943, 1944, 1945, 1946, 1947, 1948, 1949, 1950, 1951, 1952, 1953, 1954, 1955, 1956, 1957, 1958, 1959, 1960, 1961, 1962, 1963, 1964, 1965, 1966, 1967, 1968, 1969, 1970, 1971, 1972, 1973, 1974, 1975, 1976, 1977, 1978, 1979, 1980, 1981, 1982, 1983, 1984, 1985, 1986, 1987, 1988, 1989, 1990, 1991, 1992, 1993, 1994, 1995, 1996, 1997, 1998, 1999, 2000, 2001, 2002, 2003, 2004, 2005, 2006, 2007, 2008, 2009, 2010, 2011, 2012, 2013, 2014, 2015, 2016, 2017, 2018, 2019], \"y\": [-1.2494382022471915, -0.14943820224719162, -1.2494382022471915, 0.5505617977528083, -1.1494382022471918, -0.6494382022471918, -0.7494382022471915, -0.44943820224719166, -0.8494382022471916, -1.5494382022471918, -1.4494382022471917, -0.3494382022471916, 0.45056179775280825, -1.2494382022471915, -0.049438202247191754, 0.050561797752808335, 0.6505617977528083, 0.6505617977528083, 0.45056179775280825, 0.2505617977528083, 0.050561797752808335, -0.9494382022471917, 0.5505617977528083, -1.0494382022471918, -0.8494382022471916, -1.7494382022471915, 0.15056179775280842, -0.049438202247191754, 0.7505617977528083, -0.6494382022471918, 0.6505617977528083, -1.3494382022471916, -0.7494382022471915, 0.3505617977528084, -1.5494382022471918, -0.6494382022471918, -0.2494382022471917, -0.5494382022471918, -0.7494382022471915, -1.1494382022471918, -0.049438202247191754, -0.5494382022471918, -0.7494382022471915, -1.0494382022471918, 0.15056179775280842, -0.44943820224719166, -0.14943820224719162, -0.5494382022471918, -0.6494382022471918, -1.2494382022471915, -0.9494382022471917, 0.3505617977528084, 0.7505617977528083, -1.0494382022471918, -0.5494382022471918, -0.2494382022471917, -0.2494382022471917, 0.15056179775280842, 1.3505617977528084, 0.6505617977528083, 0.15056179775280842, 1.1505617977528084, 0.2505617977528083, 1.1505617977528084, -0.049438202247191754, -0.14943820224719162, 1.1505617977528084, 0.3505617977528084, 0.45056179775280825, 0.9505617977528084, 0.45056179775280825, 1.1505617977528084, 1.4505617977528082, 0.2505617977528083, -0.2494382022471917, 1.2505617977528083, 1.0505617977528083, 0.6505617977528083, 0.5505617977528083, -0.5494382022471918, 1.8505617977528084, 0.8505617977528084, 0.45056179775280825, 1.4505617977528082, 1.7505617977528083, 0.9505617977528084, 0.9505617977528084, 1.8505617977528084, 1.4505617977528082]}, {\"line\": {\"color\": \"grey\"}, \"name\": \"Sitten\", \"opacity\": 0.3, \"type\": \"scatter\", \"x\": [1931, 1932, 1933, 1934, 1935, 1936, 1937, 1938, 1939, 1940, 1941, 1942, 1943, 1944, 1945, 1946, 1947, 1948, 1949, 1950, 1951, 1952, 1953, 1954, 1955, 1956, 1957, 1958, 1959, 1960, 1961, 1962, 1963, 1964, 1965, 1966, 1967, 1968, 1969, 1970, 1971, 1972, 1973, 1974, 1975, 1976, 1977, 1978, 1979, 1980, 1981, 1982, 1983, 1984, 1985, 1986, 1987, 1988, 1989, 1990, 1991, 1992, 1993, 1994, 1995, 1996, 1997, 1998, 1999, 2000, 2001, 2002, 2003, 2004, 2005, 2006, 2007, 2008, 2009, 2010, 2011, 2012, 2013, 2014, 2015, 2016, 2017, 2018, 2019], \"y\": [-0.979775280898877, -0.579775280898877, -0.979775280898877, -0.07977528089887698, -0.879775280898877, -0.379775280898877, -0.17977528089887707, -0.4797752808988769, -0.679775280898877, -1.379775280898877, -1.1797752808988768, 0.12022471910112298, 0.420224719101123, -0.679775280898877, 0.020224719101123112, -0.07977528089887698, 0.7202247191011228, 0.420224719101123, 0.32022471910112293, -0.07977528089887698, 0.12022471910112298, -0.17977528089887707, 0.12022471910112298, -0.17977528089887707, -0.579775280898877, -1.679775280898877, -0.27977528089887693, -0.4797752808988769, -0.17977528089887707, -0.7797752808988769, 0.22022471910112307, -1.1797752808988768, -1.279775280898877, 0.22022471910112307, -1.1797752808988768, -0.17977528089887707, -0.679775280898877, -0.7797752808988769, -0.679775280898877, -0.879775280898877, -0.4797752808988769, -0.379775280898877, -0.379775280898877, -0.17977528089887707, -0.4797752808988769, -0.379775280898877, -0.17977528089887707, -0.579775280898877, -0.579775280898877, -1.079775280898877, -0.27977528089887693, 0.32022471910112293, 0.12022471910112298, -0.879775280898877, -0.4797752808988769, -0.17977528089887707, 0.020224719101123112, 0.920224719101123, 0.6202247191011232, 0.420224719101123, -0.379775280898877, 0.020224719101123112, 0.22022471910112307, 1.5202247191011231, 0.32022471910112293, -0.17977528089887707, 0.32022471910112293, 0.32022471910112293, 0.32022471910112293, 0.8202247191011229, 0.6202247191011232, 1.320224719101123, 0.8202247191011229, 0.6202247191011232, -0.07977528089887698, 0.920224719101123, 1.2202247191011228, 0.8202247191011229, 0.6202247191011232, -0.07977528089887698, 1.320224719101123, 0.8202247191011229, 0.5202247191011231, 1.6202247191011232, 1.820224719101123, 1.2202247191011228, 1.0202247191011231, 1.5202247191011231, 1.2202247191011228]}, {\"line\": {\"color\": \"grey\"}, \"name\": \"St.Gallen\", \"opacity\": 0.3, \"type\": \"scatter\", \"x\": [1931, 1932, 1933, 1934, 1935, 1936, 1937, 1938, 1939, 1940, 1941, 1942, 1943, 1944, 1945, 1946, 1947, 1948, 1949, 1950, 1951, 1952, 1953, 1954, 1955, 1956, 1957, 1958, 1959, 1960, 1961, 1962, 1963, 1964, 1965, 1966, 1967, 1968, 1969, 1970, 1971, 1972, 1973, 1974, 1975, 1976, 1977, 1978, 1979, 1980, 1981, 1982, 1983, 1984, 1985, 1986, 1987, 1988, 1989, 1990, 1991, 1992, 1993, 1994, 1995, 1996, 1997, 1998, 1999, 2000, 2001, 2002, 2003, 2004, 2005, 2006, 2007, 2008, 2009, 2010, 2011, 2012, 2013, 2014, 2015, 2016, 2017, 2018, 2019], \"y\": [-1.5685393258426927, -0.9685393258426931, -0.8685393258426917, -0.268539325842692, -0.768539325842692, -0.5685393258426927, -0.16853932584269238, -0.4685393258426931, -0.768539325842692, -1.5685393258426927, -1.468539325842693, -0.6685393258426924, 0.23146067415730798, -1.1685393258426924, -0.268539325842692, -0.4685393258426931, 0.6314606741573083, 0.03146067415730691, 0.3314606741573076, -0.06853932584269273, -0.268539325842692, -0.4685393258426931, -0.5685393258426927, -0.9685393258426931, -0.6685393258426924, -1.768539325842692, -0.5685393258426927, -0.6685393258426924, 0.43146067415730727, -0.16853932584269238, 0.3314606741573076, -0.9685393258426931, -1.268539325842692, -0.4685393258426931, -1.3685393258426917, -0.268539325842692, -0.16853932584269238, -0.36853932584269167, -0.8685393258426917, -0.6685393258426924, -0.5685393258426927, -0.4685393258426931, -0.8685393258426917, -0.36853932584269167, -0.36853932584269167, -0.268539325842692, -0.268539325842692, -1.468539325842693, -0.6685393258426924, -1.468539325842693, -0.4685393258426931, 0.13146067415730833, -0.16853932584269238, -0.768539325842692, -0.9685393258426931, -0.268539325842692, -0.36853932584269167, 0.43146067415730727, 0.23146067415730798, 0.5314606741573069, 0.03146067415730691, 0.5314606741573069, 0.6314606741573083, 1.4314606741573073, 0.5314606741573069, 0.23146067415730798, 0.9314606741573073, 0.5314606741573069, 0.43146067415730727, 1.1314606741573083, 0.6314606741573083, 1.231460674157308, 1.6314606741573083, 0.731460674157308, 0.13146067415730833, 0.9314606741573073, 1.1314606741573083, 1.1314606741573083, 1.031460674157307, 0.43146067415730727, 1.6314606741573083, 1.3314606741573076, 0.731460674157308, 2.1314606741573083, 1.8314606741573076, 1.531460674157307, 1.6314606741573083, 2.731460674157308, 2.1314606741573083]}, {\"line\": {\"color\": \"grey\"}, \"name\": \"S\\u00e4ntis\", \"opacity\": 0.3, \"type\": \"scatter\", \"x\": [1931, 1932, 1933, 1934, 1935, 1936, 1937, 1938, 1939, 1940, 1941, 1942, 1943, 1944, 1945, 1946, 1947, 1948, 1949, 1950, 1951, 1952, 1953, 1954, 1955, 1956, 1957, 1958, 1959, 1960, 1961, 1962, 1963, 1964, 1965, 1966, 1967, 1968, 1969, 1970, 1971, 1972, 1973, 1974, 1975, 1976, 1977, 1978, 1979, 1980, 1981, 1982, 1983, 1984, 1985, 1986, 1987, 1988, 1989, 1990, 1991, 1992, 1993, 1994, 1995, 1996, 1997, 1998, 1999, 2000, 2001, 2002, 2003, 2004, 2005, 2006, 2007, 2008, 2009, 2010, 2011, 2012, 2013, 2014, 2015, 2016, 2017, 2018, 2019], \"y\": [-1.5752808988764064, -0.9752808988764068, -1.4752808988764068, 0.12471910112359375, -0.8752808988764063, -0.4752808988764068, -0.17528089887640697, -0.675280898876407, -0.8752808988764063, -1.675280898876407, -1.3752808988764063, -0.8752808988764063, 0.12471910112359375, -0.7752808988764066, -0.07528089887640643, -0.2752808988764066, 0.4247191011235927, 0.024719101123593212, 0.2247191011235934, 0.12471910112359375, 0.024719101123593212, -0.37528089887640625, -0.37528089887640625, -0.9752808988764068, -0.9752808988764068, -1.7752808988764066, -0.2752808988764066, -0.2752808988764066, 0.12471910112359375, -0.17528089887640697, 0.6247191011235937, -1.2752808988764066, -1.4752808988764068, -0.4752808988764068, -1.175280898876407, 0.024719101123593212, -0.07528089887640643, -0.5752808988764064, -0.8752808988764063, -0.7752808988764066, -0.4752808988764068, -0.8752808988764063, -0.675280898876407, 0.024719101123593212, -0.17528089887640697, -0.2752808988764066, 0.12471910112359375, -0.9752808988764068, -0.2752808988764066, -0.9752808988764068, -0.2752808988764066, 0.32471910112359303, 0.4247191011235927, -0.7752808988764066, -0.7752808988764066, -0.4752808988764068, -0.4752808988764068, 0.6247191011235937, 0.7247191011235934, 1.024719101123594, -0.2752808988764066, 0.824719101123593, 0.2247191011235934, 1.6247191011235937, 0.32471910112359303, -0.8752808988764063, 0.7247191011235934, 0.824719101123593, 0.6247191011235937, 1.6247191011235937, 0.6247191011235937, 1.324719101123593, 1.324719101123593, 0.4247191011235927, 0.32471910112359303, 1.024719101123594, 1.324719101123593, 0.824719101123593, 1.1247191011235937, -0.17528089887640697, 1.6247191011235937, 0.824719101123593, 0.12471910112359375, 1.824719101123593, 1.824719101123593, 1.2247191011235934, 1.324719101123593, 2.1247191011235937, 1.7247191011235934]}, {\"line\": {\"color\": \"grey\"}, \"name\": \"Z\\u00fcrich-Fluntern\", \"opacity\": 0.3, \"type\": \"scatter\", \"x\": [1931, 1932, 1933, 1934, 1935, 1936, 1937, 1938, 1939, 1940, 1941, 1942, 1943, 1944, 1945, 1946, 1947, 1948, 1949, 1950, 1951, 1952, 1953, 1954, 1955, 1956, 1957, 1958, 1959, 1960, 1961, 1962, 1963, 1964, 1965, 1966, 1967, 1968, 1969, 1970, 1971, 1972, 1973, 1974, 1975, 1976, 1977, 1978, 1979, 1980, 1981, 1982, 1983, 1984, 1985, 1986, 1987, 1988, 1989, 1990, 1991, 1992, 1993, 1994, 1995, 1996, 1997, 1998, 1999, 2000, 2001, 2002, 2003, 2004, 2005, 2006, 2007, 2008, 2009, 2010, 2011, 2012, 2013, 2014, 2015, 2016, 2017, 2018, 2019], \"y\": [-1.4550561797752817, -1.0550561797752822, -1.2550561797752824, 0.04494382022471832, -0.6550561797752827, -0.4550561797752817, -0.2550561797752824, -0.6550561797752827, -0.9550561797752817, -1.7550561797752824, -1.4550561797752817, -0.9550561797752817, 0.34494382022471726, -0.6550561797752827, 0.14494382022471797, -0.2550561797752824, 0.5449438202247183, 0.04494382022471832, 0.5449438202247183, 0.14494382022471797, -0.2550561797752824, -0.2550561797752824, -0.35505617977528203, -0.855056179775282, -0.7550561797752824, -1.7550561797752824, -0.2550561797752824, -0.2550561797752824, 0.34494382022471726, -0.2550561797752824, 0.644943820224718, -1.2550561797752824, -1.4550561797752817, -0.35505617977528203, -1.2550561797752824, -0.15505617977528274, -0.15505617977528274, -0.6550561797752827, -0.855056179775282, -0.9550561797752817, -0.5550561797752813, -0.9550561797752817, -0.855056179775282, 0.04494382022471832, -0.2550561797752824, -0.2550561797752824, 0.04494382022471832, -0.9550561797752817, -0.35505617977528203, -0.9550561797752817, -0.2550561797752824, 0.34494382022471726, 0.4449438202247187, -0.5550561797752813, -0.6550561797752827, -0.4550561797752817, -0.5550561797752813, 0.5449438202247183, 0.5449438202247183, 0.8449438202247173, 0.04494382022471832, 0.644943820224718, 0.2449438202247176, 1.644943820224718, 0.34494382022471726, -0.7550561797752824, 0.5449438202247183, 0.644943820224718, 0.5449438202247183, 1.3449438202247173, 0.5449438202247183, 1.3449438202247173, 1.2449438202247176, 0.644943820224718, 0.4449438202247187, 0.9449438202247187, 1.2449438202247176, 0.7449438202247176, 1.0449438202247183, -0.05505617977528132, 1.644943820224718, 0.8449438202247173, 0.2449438202247176, 1.7449438202247176, 1.7449438202247176, 1.0449438202247183, 1.3449438202247173, 2.2449438202247176, 1.644943820224718]}, {\"line\": {\"color\": \"black\", \"dash\": \"dot\", \"width\": 1}, \"name\": \"Zentriertes Mittel\", \"opacity\": 0.8, \"type\": \"scatter\", \"x\": [1931, 1932, 1933, 1934, 1935, 1936, 1937, 1938, 1939, 1940, 1941, 1942, 1943, 1944, 1945, 1946, 1947, 1948, 1949, 1950, 1951, 1952, 1953, 1954, 1955, 1956, 1957, 1958, 1959, 1960, 1961, 1962, 1963, 1964, 1965, 1966, 1967, 1968, 1969, 1970, 1971, 1972, 1973, 1974, 1975, 1976, 1977, 1978, 1979, 1980, 1981, 1982, 1983, 1984, 1985, 1986, 1987, 1988, 1989, 1990, 1991, 1992, 1993, 1994, 1995, 1996, 1997, 1998, 1999, 2000, 2001, 2002, 2003, 2004, 2005, 2006, 2007, 2008, 2009, 2010, 2011, 2012, 2013, 2014, 2015, 2016, 2017, 2018, 2019], \"y\": [0, 0, 0, 0, 0, 0, 0, 0, 0, 0, 0, 0, 0, 0, 0, 0, 0, 0, 0, 0, 0, 0, 0, 0, 0, 0, 0, 0, 0, 0, 0, 0, 0, 0, 0, 0, 0, 0, 0, 0, 0, 0, 0, 0, 0, 0, 0, 0, 0, 0, 0, 0, 0, 0, 0, 0, 0, 0, 0, 0, 0, 0, 0, 0, 0, 0, 0, 0, 0, 0, 0, 0, 0, 0, 0, 0, 0, 0, 0, 0, 0, 0, 0, 0, 0, 0, 0, 0, 0]}],\n",
       "                        {\"template\": {\"data\": {\"bar\": [{\"error_x\": {\"color\": \"rgb(36,36,36)\"}, \"error_y\": {\"color\": \"rgb(36,36,36)\"}, \"marker\": {\"line\": {\"color\": \"white\", \"width\": 0.5}}, \"type\": \"bar\"}], \"barpolar\": [{\"marker\": {\"line\": {\"color\": \"white\", \"width\": 0.5}}, \"type\": \"barpolar\"}], \"carpet\": [{\"aaxis\": {\"endlinecolor\": \"rgb(36,36,36)\", \"gridcolor\": \"white\", \"linecolor\": \"white\", \"minorgridcolor\": \"white\", \"startlinecolor\": \"rgb(36,36,36)\"}, \"baxis\": {\"endlinecolor\": \"rgb(36,36,36)\", \"gridcolor\": \"white\", \"linecolor\": \"white\", \"minorgridcolor\": \"white\", \"startlinecolor\": \"rgb(36,36,36)\"}, \"type\": \"carpet\"}], \"choropleth\": [{\"colorbar\": {\"outlinewidth\": 1, \"tickcolor\": \"rgb(36,36,36)\", \"ticks\": \"outside\"}, \"type\": \"choropleth\"}], \"contour\": [{\"colorbar\": {\"outlinewidth\": 1, \"tickcolor\": \"rgb(36,36,36)\", \"ticks\": \"outside\"}, \"colorscale\": [[0.0, \"#440154\"], [0.1111111111111111, \"#482878\"], [0.2222222222222222, \"#3e4989\"], [0.3333333333333333, \"#31688e\"], [0.4444444444444444, \"#26828e\"], [0.5555555555555556, \"#1f9e89\"], [0.6666666666666666, \"#35b779\"], [0.7777777777777778, \"#6ece58\"], [0.8888888888888888, \"#b5de2b\"], [1.0, \"#fde725\"]], \"type\": \"contour\"}], \"contourcarpet\": [{\"colorbar\": {\"outlinewidth\": 1, \"tickcolor\": \"rgb(36,36,36)\", \"ticks\": \"outside\"}, \"type\": \"contourcarpet\"}], \"heatmap\": [{\"colorbar\": {\"outlinewidth\": 1, \"tickcolor\": \"rgb(36,36,36)\", \"ticks\": \"outside\"}, \"colorscale\": [[0.0, \"#440154\"], [0.1111111111111111, \"#482878\"], [0.2222222222222222, \"#3e4989\"], [0.3333333333333333, \"#31688e\"], [0.4444444444444444, \"#26828e\"], [0.5555555555555556, \"#1f9e89\"], [0.6666666666666666, \"#35b779\"], [0.7777777777777778, \"#6ece58\"], [0.8888888888888888, \"#b5de2b\"], [1.0, \"#fde725\"]], \"type\": \"heatmap\"}], \"heatmapgl\": [{\"colorbar\": {\"outlinewidth\": 1, \"tickcolor\": \"rgb(36,36,36)\", \"ticks\": \"outside\"}, \"colorscale\": [[0.0, \"#440154\"], [0.1111111111111111, \"#482878\"], [0.2222222222222222, \"#3e4989\"], [0.3333333333333333, \"#31688e\"], [0.4444444444444444, \"#26828e\"], [0.5555555555555556, \"#1f9e89\"], [0.6666666666666666, \"#35b779\"], [0.7777777777777778, \"#6ece58\"], [0.8888888888888888, \"#b5de2b\"], [1.0, \"#fde725\"]], \"type\": \"heatmapgl\"}], \"histogram\": [{\"marker\": {\"line\": {\"color\": \"white\", \"width\": 0.6}}, \"type\": \"histogram\"}], \"histogram2d\": [{\"colorbar\": {\"outlinewidth\": 1, \"tickcolor\": \"rgb(36,36,36)\", \"ticks\": \"outside\"}, \"colorscale\": [[0.0, \"#440154\"], [0.1111111111111111, \"#482878\"], [0.2222222222222222, \"#3e4989\"], [0.3333333333333333, \"#31688e\"], [0.4444444444444444, \"#26828e\"], [0.5555555555555556, \"#1f9e89\"], [0.6666666666666666, \"#35b779\"], [0.7777777777777778, \"#6ece58\"], [0.8888888888888888, \"#b5de2b\"], [1.0, \"#fde725\"]], \"type\": \"histogram2d\"}], \"histogram2dcontour\": [{\"colorbar\": {\"outlinewidth\": 1, \"tickcolor\": \"rgb(36,36,36)\", \"ticks\": \"outside\"}, \"colorscale\": [[0.0, \"#440154\"], [0.1111111111111111, \"#482878\"], [0.2222222222222222, \"#3e4989\"], [0.3333333333333333, \"#31688e\"], [0.4444444444444444, \"#26828e\"], [0.5555555555555556, \"#1f9e89\"], [0.6666666666666666, \"#35b779\"], [0.7777777777777778, \"#6ece58\"], [0.8888888888888888, \"#b5de2b\"], [1.0, \"#fde725\"]], \"type\": \"histogram2dcontour\"}], \"mesh3d\": [{\"colorbar\": {\"outlinewidth\": 1, \"tickcolor\": \"rgb(36,36,36)\", \"ticks\": \"outside\"}, \"type\": \"mesh3d\"}], \"parcoords\": [{\"line\": {\"colorbar\": {\"outlinewidth\": 1, \"tickcolor\": \"rgb(36,36,36)\", \"ticks\": \"outside\"}}, \"type\": \"parcoords\"}], \"pie\": [{\"automargin\": true, \"type\": \"pie\"}], \"scatter\": [{\"marker\": {\"colorbar\": {\"outlinewidth\": 1, \"tickcolor\": \"rgb(36,36,36)\", \"ticks\": \"outside\"}}, \"type\": \"scatter\"}], \"scatter3d\": [{\"line\": {\"colorbar\": {\"outlinewidth\": 1, \"tickcolor\": \"rgb(36,36,36)\", \"ticks\": \"outside\"}}, \"marker\": {\"colorbar\": {\"outlinewidth\": 1, \"tickcolor\": \"rgb(36,36,36)\", \"ticks\": \"outside\"}}, \"type\": \"scatter3d\"}], \"scattercarpet\": [{\"marker\": {\"colorbar\": {\"outlinewidth\": 1, \"tickcolor\": \"rgb(36,36,36)\", \"ticks\": \"outside\"}}, \"type\": \"scattercarpet\"}], \"scattergeo\": [{\"marker\": {\"colorbar\": {\"outlinewidth\": 1, \"tickcolor\": \"rgb(36,36,36)\", \"ticks\": \"outside\"}}, \"type\": \"scattergeo\"}], \"scattergl\": [{\"marker\": {\"colorbar\": {\"outlinewidth\": 1, \"tickcolor\": \"rgb(36,36,36)\", \"ticks\": \"outside\"}}, \"type\": \"scattergl\"}], \"scattermapbox\": [{\"marker\": {\"colorbar\": {\"outlinewidth\": 1, \"tickcolor\": \"rgb(36,36,36)\", \"ticks\": \"outside\"}}, \"type\": \"scattermapbox\"}], \"scatterpolar\": [{\"marker\": {\"colorbar\": {\"outlinewidth\": 1, \"tickcolor\": \"rgb(36,36,36)\", \"ticks\": \"outside\"}}, \"type\": \"scatterpolar\"}], \"scatterpolargl\": [{\"marker\": {\"colorbar\": {\"outlinewidth\": 1, \"tickcolor\": \"rgb(36,36,36)\", \"ticks\": \"outside\"}}, \"type\": \"scatterpolargl\"}], \"scatterternary\": [{\"marker\": {\"colorbar\": {\"outlinewidth\": 1, \"tickcolor\": \"rgb(36,36,36)\", \"ticks\": \"outside\"}}, \"type\": \"scatterternary\"}], \"surface\": [{\"colorbar\": {\"outlinewidth\": 1, \"tickcolor\": \"rgb(36,36,36)\", \"ticks\": \"outside\"}, \"colorscale\": [[0.0, \"#440154\"], [0.1111111111111111, \"#482878\"], [0.2222222222222222, \"#3e4989\"], [0.3333333333333333, \"#31688e\"], [0.4444444444444444, \"#26828e\"], [0.5555555555555556, \"#1f9e89\"], [0.6666666666666666, \"#35b779\"], [0.7777777777777778, \"#6ece58\"], [0.8888888888888888, \"#b5de2b\"], [1.0, \"#fde725\"]], \"type\": \"surface\"}], \"table\": [{\"cells\": {\"fill\": {\"color\": \"rgb(237,237,237)\"}, \"line\": {\"color\": \"white\"}}, \"header\": {\"fill\": {\"color\": \"rgb(217,217,217)\"}, \"line\": {\"color\": \"white\"}}, \"type\": \"table\"}]}, \"layout\": {\"annotationdefaults\": {\"arrowhead\": 0, \"arrowwidth\": 1}, \"coloraxis\": {\"colorbar\": {\"outlinewidth\": 1, \"tickcolor\": \"rgb(36,36,36)\", \"ticks\": \"outside\"}}, \"colorscale\": {\"diverging\": [[0.0, \"rgb(103,0,31)\"], [0.1, \"rgb(178,24,43)\"], [0.2, \"rgb(214,96,77)\"], [0.3, \"rgb(244,165,130)\"], [0.4, \"rgb(253,219,199)\"], [0.5, \"rgb(247,247,247)\"], [0.6, \"rgb(209,229,240)\"], [0.7, \"rgb(146,197,222)\"], [0.8, \"rgb(67,147,195)\"], [0.9, \"rgb(33,102,172)\"], [1.0, \"rgb(5,48,97)\"]], \"sequential\": [[0.0, \"#440154\"], [0.1111111111111111, \"#482878\"], [0.2222222222222222, \"#3e4989\"], [0.3333333333333333, \"#31688e\"], [0.4444444444444444, \"#26828e\"], [0.5555555555555556, \"#1f9e89\"], [0.6666666666666666, \"#35b779\"], [0.7777777777777778, \"#6ece58\"], [0.8888888888888888, \"#b5de2b\"], [1.0, \"#fde725\"]], \"sequentialminus\": [[0.0, \"#440154\"], [0.1111111111111111, \"#482878\"], [0.2222222222222222, \"#3e4989\"], [0.3333333333333333, \"#31688e\"], [0.4444444444444444, \"#26828e\"], [0.5555555555555556, \"#1f9e89\"], [0.6666666666666666, \"#35b779\"], [0.7777777777777778, \"#6ece58\"], [0.8888888888888888, \"#b5de2b\"], [1.0, \"#fde725\"]]}, \"colorway\": [\"#1F77B4\", \"#FF7F0E\", \"#2CA02C\", \"#D62728\", \"#9467BD\", \"#8C564B\", \"#E377C2\", \"#7F7F7F\", \"#BCBD22\", \"#17BECF\"], \"font\": {\"color\": \"rgb(36,36,36)\"}, \"geo\": {\"bgcolor\": \"white\", \"lakecolor\": \"white\", \"landcolor\": \"white\", \"showlakes\": true, \"showland\": true, \"subunitcolor\": \"white\"}, \"hoverlabel\": {\"align\": \"left\"}, \"hovermode\": \"closest\", \"mapbox\": {\"style\": \"light\"}, \"paper_bgcolor\": \"white\", \"plot_bgcolor\": \"white\", \"polar\": {\"angularaxis\": {\"gridcolor\": \"rgb(232,232,232)\", \"linecolor\": \"rgb(36,36,36)\", \"showgrid\": false, \"showline\": true, \"ticks\": \"outside\"}, \"bgcolor\": \"white\", \"radialaxis\": {\"gridcolor\": \"rgb(232,232,232)\", \"linecolor\": \"rgb(36,36,36)\", \"showgrid\": false, \"showline\": true, \"ticks\": \"outside\"}}, \"scene\": {\"xaxis\": {\"backgroundcolor\": \"white\", \"gridcolor\": \"rgb(232,232,232)\", \"gridwidth\": 2, \"linecolor\": \"rgb(36,36,36)\", \"showbackground\": true, \"showgrid\": false, \"showline\": true, \"ticks\": \"outside\", \"zeroline\": false, \"zerolinecolor\": \"rgb(36,36,36)\"}, \"yaxis\": {\"backgroundcolor\": \"white\", \"gridcolor\": \"rgb(232,232,232)\", \"gridwidth\": 2, \"linecolor\": \"rgb(36,36,36)\", \"showbackground\": true, \"showgrid\": false, \"showline\": true, \"ticks\": \"outside\", \"zeroline\": false, \"zerolinecolor\": \"rgb(36,36,36)\"}, \"zaxis\": {\"backgroundcolor\": \"white\", \"gridcolor\": \"rgb(232,232,232)\", \"gridwidth\": 2, \"linecolor\": \"rgb(36,36,36)\", \"showbackground\": true, \"showgrid\": false, \"showline\": true, \"ticks\": \"outside\", \"zeroline\": false, \"zerolinecolor\": \"rgb(36,36,36)\"}}, \"shapedefaults\": {\"fillcolor\": \"black\", \"line\": {\"width\": 0}, \"opacity\": 0.3}, \"ternary\": {\"aaxis\": {\"gridcolor\": \"rgb(232,232,232)\", \"linecolor\": \"rgb(36,36,36)\", \"showgrid\": false, \"showline\": true, \"ticks\": \"outside\"}, \"baxis\": {\"gridcolor\": \"rgb(232,232,232)\", \"linecolor\": \"rgb(36,36,36)\", \"showgrid\": false, \"showline\": true, \"ticks\": \"outside\"}, \"bgcolor\": \"white\", \"caxis\": {\"gridcolor\": \"rgb(232,232,232)\", \"linecolor\": \"rgb(36,36,36)\", \"showgrid\": false, \"showline\": true, \"ticks\": \"outside\"}}, \"title\": {\"x\": 0.05}, \"xaxis\": {\"automargin\": true, \"gridcolor\": \"rgb(232,232,232)\", \"linecolor\": \"rgb(36,36,36)\", \"showgrid\": false, \"showline\": true, \"ticks\": \"outside\", \"title\": {\"standoff\": 15}, \"zeroline\": false, \"zerolinecolor\": \"rgb(36,36,36)\"}, \"yaxis\": {\"automargin\": true, \"gridcolor\": \"rgb(232,232,232)\", \"linecolor\": \"rgb(36,36,36)\", \"showgrid\": false, \"showline\": true, \"ticks\": \"outside\", \"title\": {\"standoff\": 15}, \"zeroline\": false, \"zerolinecolor\": \"rgb(36,36,36)\"}}}, \"title\": {\"text\": \"Temperaturabweichungen aller Orte zu ihrem Mittelwert\"}, \"xaxis\": {\"title\": {\"text\": \"Jahre\"}}, \"yaxis\": {\"title\": {\"text\": \"Temperaturdifferenz in K\"}}},\n",
       "                        {\"responsive\": true}\n",
       "                    ).then(function(){\n",
       "                            \n",
       "var gd = document.getElementById('6ddebc55-f273-4295-8459-35fcee6f7bc6');\n",
       "var x = new MutationObserver(function (mutations, observer) {{\n",
       "        var display = window.getComputedStyle(gd).display;\n",
       "        if (!display || display === 'none') {{\n",
       "            console.log([gd, 'removed!']);\n",
       "            Plotly.purge(gd);\n",
       "            observer.disconnect();\n",
       "        }}\n",
       "}});\n",
       "\n",
       "// Listen for the removal of the full notebook cells\n",
       "var notebookContainer = gd.closest('#notebook-container');\n",
       "if (notebookContainer) {{\n",
       "    x.observe(notebookContainer, {childList: true});\n",
       "}}\n",
       "\n",
       "// Listen for the clearing of the current output cell\n",
       "var outputEl = gd.closest('.output');\n",
       "if (outputEl) {{\n",
       "    x.observe(outputEl, {childList: true});\n",
       "}}\n",
       "\n",
       "                        })\n",
       "                };\n",
       "                });\n",
       "            </script>\n",
       "        </div>"
      ]
     },
     "metadata": {},
     "output_type": "display_data"
    }
   ],
   "source": [
    "def lineplot_swiss_temp(data):\n",
    "    data = data.copy()\n",
    "    \n",
    "    data = data.pivot_table(index='year', columns='region', values='temperature')\n",
    "    data = swiss_places_column_titles(data)\n",
    "    \n",
    "    for column in data.columns:\n",
    "        data[column] = data[column] - data[column].mean()\n",
    "        \n",
    "    fig = go.Figure()\n",
    "    for column in data.columns:\n",
    "        if column != 'DavosWSL':\n",
    "            fig.add_trace(go.Scatter(x=data.index,\n",
    "                                     y=data[column], \n",
    "                                     name=column,\n",
    "                                     line=dict(color='grey'),\n",
    "                                     opacity=0.3)\n",
    "                         )\n",
    "        else:\n",
    "            fig.add_trace(go.Scatter(x=data.index,\n",
    "                                     y=data[column],\n",
    "                                     name=column, \n",
    "                                     line=dict(color='red',\n",
    "                                               width=2)\n",
    "                                    )\n",
    "                         )\n",
    "    fig.add_trace(go.Scatter(x=data.index,\n",
    "                             y=[0 for i in range(data.shape[0])],\n",
    "                             name='Zentriertes Mittel',\n",
    "                             line=dict(color='black', \n",
    "                                       dash='dot',\n",
    "                                       width=1),\n",
    "                             opacity=0.8)\n",
    "                  \n",
    "                 )\n",
    "    \n",
    "    fig.update_layout(template='simple_white',\n",
    "                      title='Temperaturabweichungen aller Orte zu ihrem Mittelwert',\n",
    "                      xaxis_title='Jahre',\n",
    "                      yaxis_title='Temperaturdifferenz in K')\n",
    "    fig.show()\n",
    "    \n",
    "    \n",
    "lineplot_swiss_temp(swiss_temp)"
   ]
  },
  {
   "cell_type": "markdown",
   "metadata": {},
   "source": [
    "## Globaler Teil"
   ]
  },
  {
   "cell_type": "markdown",
   "metadata": {},
   "source": [
    "**Scatterplot per COuntry mit Co2 und Temperatur** "
   ]
  },
  {
   "cell_type": "markdown",
   "metadata": {},
   "source": [
    "Die Globale Temperatur nimmt zu. Dies ist ein Fakt, der jedem bewusst ist. Wie sieht die Zunahme der Temperatur von der Schweiz und der übrigen Ländern aus?"
   ]
  },
  {
   "cell_type": "code",
   "execution_count": 95,
   "metadata": {
    "scrolled": false
   },
   "outputs": [
    {
     "data": {
      "application/vnd.plotly.v1+json": {
       "config": {
        "plotlyServerURL": "https://plot.ly"
       },
       "data": [
        {
         "line": {
          "color": "grey"
         },
         "name": "Afghanistan",
         "opacity": 0.1,
         "type": "scatter",
         "x": [
          "1800-12-31T00:00:00",
          "1810-12-31T00:00:00",
          "1820-12-31T00:00:00",
          "1830-12-31T00:00:00",
          "1840-12-31T00:00:00",
          "1850-12-31T00:00:00",
          "1860-12-31T00:00:00",
          "1870-12-31T00:00:00",
          "1880-12-31T00:00:00",
          "1890-12-31T00:00:00",
          "1900-12-31T00:00:00",
          "1910-12-31T00:00:00",
          "1920-12-31T00:00:00",
          "1930-12-31T00:00:00",
          "1940-12-31T00:00:00",
          "1950-12-31T00:00:00",
          "1960-12-31T00:00:00",
          "1970-12-31T00:00:00",
          "1980-12-31T00:00:00",
          "1990-12-31T00:00:00",
          "2000-12-31T00:00:00",
          "2010-12-31T00:00:00",
          "2020-12-31T00:00:00"
         ],
         "y": [
          null,
          null,
          null,
          null,
          -0.6502777777777777,
          -0.6375999999999998,
          -0.4956666666666667,
          -0.5433916666666667,
          -0.1749416666666667,
          -0.4354833333333332,
          -0.3154583333333331,
          -0.3951750000000001,
          -0.2589833333333333,
          -0.3246333333333334,
          -0.22894166666666668,
          0.15699999999999992,
          0.03425000000000004,
          -0.019783333333333288,
          -0.014424999999999926,
          0.5449500000000003,
          0.7220749999999998,
          1.337900000000001,
          0.9720000000000002
         ]
        },
        {
         "line": {
          "color": "grey"
         },
         "name": "Albania",
         "opacity": 0.1,
         "type": "scatter",
         "x": [
          "1800-12-31T00:00:00",
          "1810-12-31T00:00:00",
          "1820-12-31T00:00:00",
          "1830-12-31T00:00:00",
          "1840-12-31T00:00:00",
          "1850-12-31T00:00:00",
          "1860-12-31T00:00:00",
          "1870-12-31T00:00:00",
          "1880-12-31T00:00:00",
          "1890-12-31T00:00:00",
          "1900-12-31T00:00:00",
          "1910-12-31T00:00:00",
          "1920-12-31T00:00:00",
          "1930-12-31T00:00:00",
          "1940-12-31T00:00:00",
          "1950-12-31T00:00:00",
          "1960-12-31T00:00:00",
          "1970-12-31T00:00:00",
          "1980-12-31T00:00:00",
          "1990-12-31T00:00:00",
          "2000-12-31T00:00:00",
          "2010-12-31T00:00:00",
          "2020-12-31T00:00:00"
         ],
         "y": [
          0.19833333333333336,
          -0.2001666666666667,
          -0.7458416666666665,
          -0.34395000000000003,
          -0.7951333333333336,
          -0.36999999999999994,
          -0.479625,
          -0.23603333333333334,
          -0.4120749999999999,
          -0.5750416666666667,
          -0.3784333333333335,
          -0.38387500000000013,
          -0.2299916666666667,
          0.0852,
          -0.05341666666666664,
          0.10204166666666671,
          0.16308333333333333,
          0.08202499999999997,
          -0.24514166666666656,
          0.11800000000000008,
          0.38935,
          0.7441083333333328,
          1.01465625
         ]
        },
        {
         "line": {
          "color": "grey"
         },
         "name": "Algeria",
         "opacity": 0.1,
         "type": "scatter",
         "x": [
          "1800-12-31T00:00:00",
          "1810-12-31T00:00:00",
          "1820-12-31T00:00:00",
          "1830-12-31T00:00:00",
          "1840-12-31T00:00:00",
          "1850-12-31T00:00:00",
          "1860-12-31T00:00:00",
          "1870-12-31T00:00:00",
          "1880-12-31T00:00:00",
          "1890-12-31T00:00:00",
          "1900-12-31T00:00:00",
          "1910-12-31T00:00:00",
          "1920-12-31T00:00:00",
          "1930-12-31T00:00:00",
          "1940-12-31T00:00:00",
          "1950-12-31T00:00:00",
          "1960-12-31T00:00:00",
          "1970-12-31T00:00:00",
          "1980-12-31T00:00:00",
          "1990-12-31T00:00:00",
          "2000-12-31T00:00:00",
          "2010-12-31T00:00:00",
          "2020-12-31T00:00:00"
         ],
         "y": [
          0.23808333333333334,
          -0.30896638655462183,
          -0.9639999999999999,
          -0.30043333333333316,
          -0.58385,
          -0.4055750000000001,
          -0.4330000000000001,
          -0.29510000000000025,
          -0.27157500000000007,
          -0.6490083333333332,
          -0.21270000000000008,
          -0.4681583333333335,
          -0.3206916666666667,
          -0.0657416666666666,
          0.058408333333333305,
          0.13973333333333343,
          0.06729999999999997,
          0.11668333333333332,
          -0.1839333333333334,
          0.5029583333333332,
          0.556025,
          1.213108333333333,
          0.9543750000000001
         ]
        },
        {
         "line": {
          "color": "grey"
         },
         "name": "Andorra",
         "opacity": 0.1,
         "type": "scatter",
         "x": [
          "1800-12-31T00:00:00",
          "1810-12-31T00:00:00",
          "1820-12-31T00:00:00",
          "1830-12-31T00:00:00",
          "1840-12-31T00:00:00",
          "1850-12-31T00:00:00",
          "1860-12-31T00:00:00",
          "1870-12-31T00:00:00",
          "1880-12-31T00:00:00",
          "1890-12-31T00:00:00",
          "1900-12-31T00:00:00",
          "1910-12-31T00:00:00",
          "1920-12-31T00:00:00",
          "1930-12-31T00:00:00",
          "1940-12-31T00:00:00",
          "1950-12-31T00:00:00",
          "1960-12-31T00:00:00",
          "1970-12-31T00:00:00",
          "1980-12-31T00:00:00",
          "1990-12-31T00:00:00",
          "2000-12-31T00:00:00",
          "2010-12-31T00:00:00",
          "2020-12-31T00:00:00"
         ],
         "y": [
          0.4095000000000002,
          -0.2084083333333333,
          -0.5890249999999999,
          -0.10464999999999998,
          -0.29158333333333325,
          -0.2570666666666666,
          -0.4736000000000001,
          -0.0060583333333333435,
          -0.2541166666666667,
          -0.6333916666666667,
          -0.08260833333333341,
          -0.39559999999999995,
          -0.30244166666666666,
          0.10809999999999995,
          -0.04237499999999998,
          0.40827500000000005,
          0.031116666666666702,
          0.1066916666666666,
          -0.1378,
          0.603275,
          0.8384916666666666,
          0.9771749999999997,
          1.1907812499999997
         ]
        },
        {
         "line": {
          "color": "grey"
         },
         "name": "Angola",
         "opacity": 0.1,
         "type": "scatter",
         "x": [
          "1800-12-31T00:00:00",
          "1810-12-31T00:00:00",
          "1820-12-31T00:00:00",
          "1830-12-31T00:00:00",
          "1840-12-31T00:00:00",
          "1850-12-31T00:00:00",
          "1860-12-31T00:00:00",
          "1870-12-31T00:00:00",
          "1880-12-31T00:00:00",
          "1890-12-31T00:00:00",
          "1900-12-31T00:00:00",
          "1910-12-31T00:00:00",
          "1920-12-31T00:00:00",
          "1930-12-31T00:00:00",
          "1940-12-31T00:00:00",
          "1950-12-31T00:00:00",
          "1960-12-31T00:00:00",
          "1970-12-31T00:00:00",
          "1980-12-31T00:00:00",
          "1990-12-31T00:00:00",
          "2000-12-31T00:00:00",
          "2010-12-31T00:00:00",
          "2020-12-31T00:00:00"
         ],
         "y": [
          null,
          null,
          null,
          null,
          null,
          null,
          -0.7110294117647057,
          -0.8666428571428569,
          -0.5953977272727273,
          -0.6555666666666661,
          -0.4378583333333333,
          -0.46790000000000004,
          -0.2808583333333334,
          -0.04508333333333335,
          -0.13854999999999998,
          0.08195833333333334,
          -0.029766666666666667,
          0.01996666666666667,
          0.009758333333333317,
          0.34802500000000003,
          0.5769916666666668,
          0.6793416666666665,
          0.44403125
         ]
        },
        {
         "line": {
          "color": "grey"
         },
         "name": "Anguilla",
         "opacity": 0.1,
         "type": "scatter",
         "x": [
          "1800-12-31T00:00:00",
          "1810-12-31T00:00:00",
          "1820-12-31T00:00:00",
          "1830-12-31T00:00:00",
          "1840-12-31T00:00:00",
          "1850-12-31T00:00:00",
          "1860-12-31T00:00:00",
          "1870-12-31T00:00:00",
          "1880-12-31T00:00:00",
          "1890-12-31T00:00:00",
          "1900-12-31T00:00:00",
          "1910-12-31T00:00:00",
          "1920-12-31T00:00:00",
          "1930-12-31T00:00:00",
          "1940-12-31T00:00:00",
          "1950-12-31T00:00:00",
          "1960-12-31T00:00:00",
          "1970-12-31T00:00:00",
          "1980-12-31T00:00:00",
          "1990-12-31T00:00:00",
          "2000-12-31T00:00:00",
          "2010-12-31T00:00:00",
          "2020-12-31T00:00:00"
         ],
         "y": [
          null,
          null,
          null,
          -0.2818307692307692,
          null,
          -0.7008550724637681,
          -0.7176999999999999,
          -0.5888749999999998,
          -0.4732,
          -0.7563250000000001,
          -0.5049583333333332,
          -0.4920166666666668,
          -0.5041333333333332,
          -0.32685,
          -0.20741666666666667,
          -0.15706666666666663,
          0.0709,
          -0.02538333333333333,
          -0.04550833333333333,
          0.20516666666666664,
          0.434425,
          0.7201833333333333,
          0.7379687500000002
         ]
        },
        {
         "line": {
          "color": "grey"
         },
         "name": "Antigua and Barbuda",
         "opacity": 0.1,
         "type": "scatter",
         "x": [
          "1800-12-31T00:00:00",
          "1810-12-31T00:00:00",
          "1820-12-31T00:00:00",
          "1830-12-31T00:00:00",
          "1840-12-31T00:00:00",
          "1850-12-31T00:00:00",
          "1860-12-31T00:00:00",
          "1870-12-31T00:00:00",
          "1880-12-31T00:00:00",
          "1890-12-31T00:00:00",
          "1900-12-31T00:00:00",
          "1910-12-31T00:00:00",
          "1920-12-31T00:00:00",
          "1930-12-31T00:00:00",
          "1940-12-31T00:00:00",
          "1950-12-31T00:00:00",
          "1960-12-31T00:00:00",
          "1970-12-31T00:00:00",
          "1980-12-31T00:00:00",
          "1990-12-31T00:00:00",
          "2000-12-31T00:00:00",
          "2010-12-31T00:00:00",
          "2020-12-31T00:00:00"
         ],
         "y": [
          null,
          null,
          null,
          -0.31155384615384624,
          null,
          -0.7081739130434783,
          -0.7353583333333336,
          -0.6002499999999997,
          -0.4692833333333332,
          -0.7487666666666667,
          -0.5290666666666666,
          -0.5091250000000002,
          -0.5280333333333336,
          -0.33235833333333326,
          -0.2193833333333334,
          -0.18505833333333344,
          0.059308333333333324,
          -0.018866666666666667,
          -0.04047499999999997,
          0.19088333333333332,
          0.428025,
          0.7182416666666668,
          0.69540625
         ]
        },
        {
         "line": {
          "color": "grey"
         },
         "name": "Argentina",
         "opacity": 0.1,
         "type": "scatter",
         "x": [
          "1800-12-31T00:00:00",
          "1810-12-31T00:00:00",
          "1820-12-31T00:00:00",
          "1830-12-31T00:00:00",
          "1840-12-31T00:00:00",
          "1850-12-31T00:00:00",
          "1860-12-31T00:00:00",
          "1870-12-31T00:00:00",
          "1880-12-31T00:00:00",
          "1890-12-31T00:00:00",
          "1900-12-31T00:00:00",
          "1910-12-31T00:00:00",
          "1920-12-31T00:00:00",
          "1930-12-31T00:00:00",
          "1940-12-31T00:00:00",
          "1950-12-31T00:00:00",
          "1960-12-31T00:00:00",
          "1970-12-31T00:00:00",
          "1980-12-31T00:00:00",
          "1990-12-31T00:00:00",
          "2000-12-31T00:00:00",
          "2010-12-31T00:00:00",
          "2020-12-31T00:00:00"
         ],
         "y": [
          null,
          null,
          null,
          null,
          null,
          null,
          -0.7267205882352943,
          -0.6520083333333336,
          -0.6625750000000001,
          -0.7942250000000004,
          -0.4421999999999998,
          -0.42916666666666675,
          -0.27612500000000006,
          -0.3585833333333334,
          -0.21805000000000002,
          0.005850000000000032,
          -0.18204166666666666,
          0.11961666666666666,
          0.062400000000000004,
          0.29622500000000007,
          0.33733333333333354,
          0.47059166666666674,
          0.6431562500000002
         ]
        },
        {
         "line": {
          "color": "grey"
         },
         "name": "Armenia",
         "opacity": 0.1,
         "type": "scatter",
         "x": [
          "1800-12-31T00:00:00",
          "1810-12-31T00:00:00",
          "1820-12-31T00:00:00",
          "1830-12-31T00:00:00",
          "1840-12-31T00:00:00",
          "1850-12-31T00:00:00",
          "1860-12-31T00:00:00",
          "1870-12-31T00:00:00",
          "1880-12-31T00:00:00",
          "1890-12-31T00:00:00",
          "1900-12-31T00:00:00",
          "1910-12-31T00:00:00",
          "1920-12-31T00:00:00",
          "1930-12-31T00:00:00",
          "1940-12-31T00:00:00",
          "1950-12-31T00:00:00",
          "1960-12-31T00:00:00",
          "1970-12-31T00:00:00",
          "1980-12-31T00:00:00",
          "1990-12-31T00:00:00",
          "2000-12-31T00:00:00",
          "2010-12-31T00:00:00",
          "2020-12-31T00:00:00"
         ],
         "y": [
          null,
          -1.9389629629629628,
          -1.369266666666667,
          -0.5825,
          -1.2501000000000004,
          -0.7538333333333331,
          -0.5906166666666667,
          -0.8396083333333334,
          -0.30036666666666656,
          -0.6570416666666664,
          -0.6619250000000001,
          -0.6306166666666663,
          -0.4440666666666668,
          -0.37967499999999993,
          -0.32524999999999993,
          -0.3282416666666667,
          -0.0950916666666666,
          0.20779166666666665,
          -0.11260833333333335,
          0.21713333333333343,
          0.4308416666666667,
          1.0449166666666667,
          1.02565625
         ]
        },
        {
         "line": {
          "color": "grey"
         },
         "name": "Aruba",
         "opacity": 0.1,
         "type": "scatter",
         "x": [
          "1800-12-31T00:00:00",
          "1810-12-31T00:00:00",
          "1820-12-31T00:00:00",
          "1830-12-31T00:00:00",
          "1840-12-31T00:00:00",
          "1850-12-31T00:00:00",
          "1860-12-31T00:00:00",
          "1870-12-31T00:00:00",
          "1880-12-31T00:00:00",
          "1890-12-31T00:00:00",
          "1900-12-31T00:00:00",
          "1910-12-31T00:00:00",
          "1920-12-31T00:00:00",
          "1930-12-31T00:00:00",
          "1940-12-31T00:00:00",
          "1950-12-31T00:00:00",
          "1960-12-31T00:00:00",
          "1970-12-31T00:00:00",
          "1980-12-31T00:00:00",
          "1990-12-31T00:00:00",
          "2000-12-31T00:00:00",
          "2010-12-31T00:00:00",
          "2020-12-31T00:00:00"
         ],
         "y": [
          null,
          null,
          null,
          -0.37804615384615387,
          null,
          -0.7437101449275363,
          -0.798625,
          -0.6427916666666663,
          -0.4374166666666667,
          -0.8337333333333331,
          -0.6267333333333335,
          -0.5550333333333334,
          -0.5835,
          -0.4158666666666667,
          -0.27194166666666675,
          -0.15168333333333334,
          0.002400000000000015,
          0.007649999999999992,
          -0.010033333333333337,
          0.10088333333333334,
          0.3167666666666665,
          0.5452833333333335,
          0.40493749999999995
         ]
        },
        {
         "line": {
          "color": "grey"
         },
         "name": "Australia",
         "opacity": 0.1,
         "type": "scatter",
         "x": [
          "1800-12-31T00:00:00",
          "1810-12-31T00:00:00",
          "1820-12-31T00:00:00",
          "1830-12-31T00:00:00",
          "1840-12-31T00:00:00",
          "1850-12-31T00:00:00",
          "1860-12-31T00:00:00",
          "1870-12-31T00:00:00",
          "1880-12-31T00:00:00",
          "1890-12-31T00:00:00",
          "1900-12-31T00:00:00",
          "1910-12-31T00:00:00",
          "1920-12-31T00:00:00",
          "1930-12-31T00:00:00",
          "1940-12-31T00:00:00",
          "1950-12-31T00:00:00",
          "1960-12-31T00:00:00",
          "1970-12-31T00:00:00",
          "1980-12-31T00:00:00",
          "1990-12-31T00:00:00",
          "2000-12-31T00:00:00",
          "2010-12-31T00:00:00",
          "2020-12-31T00:00:00"
         ],
         "y": [
          null,
          null,
          null,
          null,
          null,
          null,
          -0.5315714285714287,
          -0.3842666666666665,
          -0.3265250000000001,
          -0.10785833333333325,
          -0.33139166666666675,
          -0.40535833333333327,
          -0.17336666666666675,
          -0.2386333333333333,
          -0.188125,
          -0.28855000000000003,
          -0.13700833333333334,
          0.005475000000000018,
          0.13145,
          0.36853333333333355,
          0.41909166666666664,
          0.6398500000000001,
          0.46315625000000005
         ]
        },
        {
         "line": {
          "color": "grey"
         },
         "name": "Austria",
         "opacity": 0.1,
         "type": "scatter",
         "x": [
          "1800-12-31T00:00:00",
          "1810-12-31T00:00:00",
          "1820-12-31T00:00:00",
          "1830-12-31T00:00:00",
          "1840-12-31T00:00:00",
          "1850-12-31T00:00:00",
          "1860-12-31T00:00:00",
          "1870-12-31T00:00:00",
          "1880-12-31T00:00:00",
          "1890-12-31T00:00:00",
          "1900-12-31T00:00:00",
          "1910-12-31T00:00:00",
          "1920-12-31T00:00:00",
          "1930-12-31T00:00:00",
          "1940-12-31T00:00:00",
          "1950-12-31T00:00:00",
          "1960-12-31T00:00:00",
          "1970-12-31T00:00:00",
          "1980-12-31T00:00:00",
          "1990-12-31T00:00:00",
          "2000-12-31T00:00:00",
          "2010-12-31T00:00:00",
          "2020-12-31T00:00:00"
         ],
         "y": [
          0.252,
          -0.1978749999999999,
          -0.5249416666666665,
          -0.19894999999999996,
          -0.48153333333333315,
          -0.3259000000000001,
          -0.6252333333333332,
          -0.06827500000000002,
          -0.4225499999999999,
          -0.5761333333333333,
          -0.35926666666666673,
          -0.3934083333333333,
          -0.17035833333333333,
          -0.027825000000000003,
          -0.19354166666666667,
          0.18554166666666663,
          0.031408333333333385,
          -0.10144166666666662,
          0.07002499999999998,
          0.3720749999999998,
          0.8115499999999994,
          1.0291833333333331,
          1.2779375
         ]
        },
        {
         "line": {
          "color": "grey"
         },
         "name": "Azerbaijan",
         "opacity": 0.1,
         "type": "scatter",
         "x": [
          "1800-12-31T00:00:00",
          "1810-12-31T00:00:00",
          "1820-12-31T00:00:00",
          "1830-12-31T00:00:00",
          "1840-12-31T00:00:00",
          "1850-12-31T00:00:00",
          "1860-12-31T00:00:00",
          "1870-12-31T00:00:00",
          "1880-12-31T00:00:00",
          "1890-12-31T00:00:00",
          "1900-12-31T00:00:00",
          "1910-12-31T00:00:00",
          "1920-12-31T00:00:00",
          "1930-12-31T00:00:00",
          "1940-12-31T00:00:00",
          "1950-12-31T00:00:00",
          "1960-12-31T00:00:00",
          "1970-12-31T00:00:00",
          "1980-12-31T00:00:00",
          "1990-12-31T00:00:00",
          "2000-12-31T00:00:00",
          "2010-12-31T00:00:00",
          "2020-12-31T00:00:00"
         ],
         "y": [
          null,
          -1.9893703703703705,
          -1.3883333333333336,
          -0.5730166666666666,
          -1.2261166666666674,
          -0.7848750000000001,
          -0.5724999999999997,
          -0.8594249999999999,
          -0.31813333333333343,
          -0.6100500000000004,
          -0.7074166666666669,
          -0.6306083333333337,
          -0.5081666666666662,
          -0.4940083333333334,
          -0.3034416666666665,
          -0.33685833333333337,
          -0.13165,
          0.1835583333333335,
          -0.0519333333333334,
          0.21823333333333336,
          0.4572083333333334,
          1.161291666666667,
          1.148625
         ]
        },
        {
         "line": {
          "color": "grey"
         },
         "name": "Bahamas",
         "opacity": 0.1,
         "type": "scatter",
         "x": [
          "1800-12-31T00:00:00",
          "1810-12-31T00:00:00",
          "1820-12-31T00:00:00",
          "1830-12-31T00:00:00",
          "1840-12-31T00:00:00",
          "1850-12-31T00:00:00",
          "1860-12-31T00:00:00",
          "1870-12-31T00:00:00",
          "1880-12-31T00:00:00",
          "1890-12-31T00:00:00",
          "1900-12-31T00:00:00",
          "1910-12-31T00:00:00",
          "1920-12-31T00:00:00",
          "1930-12-31T00:00:00",
          "1940-12-31T00:00:00",
          "1950-12-31T00:00:00",
          "1960-12-31T00:00:00",
          "1970-12-31T00:00:00",
          "1980-12-31T00:00:00",
          "1990-12-31T00:00:00",
          "2000-12-31T00:00:00",
          "2010-12-31T00:00:00",
          "2020-12-31T00:00:00"
         ],
         "y": [
          -0.20516666666666664,
          0.14550000000000005,
          -1.0402500000000001,
          -0.054611111111111076,
          -0.5175500000000002,
          -0.6042666666666668,
          -0.565333333333333,
          -0.34699166666666664,
          -0.35141666666666677,
          -0.46296666666666675,
          -0.35163333333333335,
          -0.5086249999999999,
          -0.3594166666666668,
          -0.09694166666666669,
          -0.08764999999999999,
          0.11463333333333339,
          -0.0465083333333333,
          -0.10690833333333333,
          0.15338333333333326,
          0.28849166666666665,
          0.4871166666666666,
          0.5435583333333335,
          0.5915454545454547
         ]
        },
        {
         "line": {
          "color": "grey"
         },
         "name": "Bahrain",
         "opacity": 0.1,
         "type": "scatter",
         "x": [
          "1800-12-31T00:00:00",
          "1810-12-31T00:00:00",
          "1820-12-31T00:00:00",
          "1830-12-31T00:00:00",
          "1840-12-31T00:00:00",
          "1850-12-31T00:00:00",
          "1860-12-31T00:00:00",
          "1870-12-31T00:00:00",
          "1880-12-31T00:00:00",
          "1890-12-31T00:00:00",
          "1900-12-31T00:00:00",
          "1910-12-31T00:00:00",
          "1920-12-31T00:00:00",
          "1930-12-31T00:00:00",
          "1940-12-31T00:00:00",
          "1950-12-31T00:00:00",
          "1960-12-31T00:00:00",
          "1970-12-31T00:00:00",
          "1980-12-31T00:00:00",
          "1990-12-31T00:00:00",
          "2000-12-31T00:00:00",
          "2010-12-31T00:00:00",
          "2020-12-31T00:00:00"
         ],
         "y": [
          null,
          null,
          null,
          null,
          null,
          -0.7884999999999998,
          -0.6028416666666666,
          -0.6517083333333332,
          -0.388875,
          -0.3398333333333332,
          -0.39682499999999993,
          -0.39754166666666657,
          -0.5127583333333339,
          -0.2360666666666667,
          -0.3693416666666666,
          -0.11409166666666662,
          -0.053291666666666675,
          0.03778333333333335,
          0.015466666666666684,
          0.11080000000000002,
          0.48823333333333335,
          1.234358333333333,
          1.2928437499999998
         ]
        },
        {
         "line": {
          "color": "grey"
         },
         "name": "Bangladesh",
         "opacity": 0.1,
         "type": "scatter",
         "x": [
          "1800-12-31T00:00:00",
          "1810-12-31T00:00:00",
          "1820-12-31T00:00:00",
          "1830-12-31T00:00:00",
          "1840-12-31T00:00:00",
          "1850-12-31T00:00:00",
          "1860-12-31T00:00:00",
          "1870-12-31T00:00:00",
          "1880-12-31T00:00:00",
          "1890-12-31T00:00:00",
          "1900-12-31T00:00:00",
          "1910-12-31T00:00:00",
          "1920-12-31T00:00:00",
          "1930-12-31T00:00:00",
          "1940-12-31T00:00:00",
          "1950-12-31T00:00:00",
          "1960-12-31T00:00:00",
          "1970-12-31T00:00:00",
          "1980-12-31T00:00:00",
          "1990-12-31T00:00:00",
          "2000-12-31T00:00:00",
          "2010-12-31T00:00:00",
          "2020-12-31T00:00:00"
         ],
         "y": [
          -0.3194166666666667,
          -0.11600000000000006,
          -1.4653789473684216,
          -0.4966666666666669,
          -0.9889745762711866,
          -0.9146916666666666,
          -0.7376083333333329,
          -0.6888333333333329,
          -0.5219000000000003,
          -0.5930166666666666,
          -0.4185499999999998,
          -0.45168333333333316,
          -0.4635166666666665,
          -0.3290666666666668,
          -0.21709166666666668,
          -0.1764666666666667,
          0.07735833333333328,
          -0.04655,
          -0.030749999999999996,
          0.10104166666666661,
          0.075175,
          0.33856666666666657,
          0.22293749999999998
         ]
        },
        {
         "line": {
          "color": "grey"
         },
         "name": "Barbados",
         "opacity": 0.1,
         "type": "scatter",
         "x": [
          "1800-12-31T00:00:00",
          "1810-12-31T00:00:00",
          "1820-12-31T00:00:00",
          "1830-12-31T00:00:00",
          "1840-12-31T00:00:00",
          "1850-12-31T00:00:00",
          "1860-12-31T00:00:00",
          "1870-12-31T00:00:00",
          "1880-12-31T00:00:00",
          "1890-12-31T00:00:00",
          "1900-12-31T00:00:00",
          "1910-12-31T00:00:00",
          "1920-12-31T00:00:00",
          "1930-12-31T00:00:00",
          "1940-12-31T00:00:00",
          "1950-12-31T00:00:00",
          "1960-12-31T00:00:00",
          "1970-12-31T00:00:00",
          "1980-12-31T00:00:00",
          "1990-12-31T00:00:00",
          "2000-12-31T00:00:00",
          "2010-12-31T00:00:00",
          "2020-12-31T00:00:00"
         ],
         "y": [
          null,
          null,
          null,
          -0.3973384615384615,
          null,
          -0.703695652173913,
          -0.7673416666666665,
          -0.6510500000000001,
          -0.5027833333333331,
          -0.7673083333333334,
          -0.5861166666666666,
          -0.5771166666666666,
          -0.5779083333333332,
          -0.38236666666666647,
          -0.24764999999999998,
          -0.188075,
          0.010641666666666678,
          0.03445000000000001,
          -0.045116666666666624,
          0.16180833333333336,
          0.3891333333333335,
          0.6693083333333333,
          0.6403749999999997
         ]
        },
        {
         "line": {
          "color": "grey"
         },
         "name": "Belarus",
         "opacity": 0.1,
         "type": "scatter",
         "x": [
          "1800-12-31T00:00:00",
          "1810-12-31T00:00:00",
          "1820-12-31T00:00:00",
          "1830-12-31T00:00:00",
          "1840-12-31T00:00:00",
          "1850-12-31T00:00:00",
          "1860-12-31T00:00:00",
          "1870-12-31T00:00:00",
          "1880-12-31T00:00:00",
          "1890-12-31T00:00:00",
          "1900-12-31T00:00:00",
          "1910-12-31T00:00:00",
          "1920-12-31T00:00:00",
          "1930-12-31T00:00:00",
          "1940-12-31T00:00:00",
          "1950-12-31T00:00:00",
          "1960-12-31T00:00:00",
          "1970-12-31T00:00:00",
          "1980-12-31T00:00:00",
          "1990-12-31T00:00:00",
          "2000-12-31T00:00:00",
          "2010-12-31T00:00:00",
          "2020-12-31T00:00:00"
         ],
         "y": [
          -0.4186666666666667,
          -0.39401666666666657,
          -0.74805,
          -0.1332833333333333,
          -0.7268416666666666,
          -0.45860000000000023,
          -0.3392999999999999,
          -0.5463500000000002,
          -0.608416666666667,
          -0.42170833333333335,
          -0.311283333333333,
          -0.3078916666666667,
          -0.17679999999999998,
          -0.27087500000000003,
          0.18354166666666666,
          -0.2082083333333334,
          0.02580833333333331,
          -0.1524500000000001,
          0.12661666666666688,
          0.4638833333333334,
          0.8341333333333331,
          1.3069333333333333,
          1.2620625
         ]
        },
        {
         "line": {
          "color": "grey"
         },
         "name": "Belgium",
         "opacity": 0.1,
         "type": "scatter",
         "x": [
          "1800-12-31T00:00:00",
          "1810-12-31T00:00:00",
          "1820-12-31T00:00:00",
          "1830-12-31T00:00:00",
          "1840-12-31T00:00:00",
          "1850-12-31T00:00:00",
          "1860-12-31T00:00:00",
          "1870-12-31T00:00:00",
          "1880-12-31T00:00:00",
          "1890-12-31T00:00:00",
          "1900-12-31T00:00:00",
          "1910-12-31T00:00:00",
          "1920-12-31T00:00:00",
          "1930-12-31T00:00:00",
          "1940-12-31T00:00:00",
          "1950-12-31T00:00:00",
          "1960-12-31T00:00:00",
          "1970-12-31T00:00:00",
          "1980-12-31T00:00:00",
          "1990-12-31T00:00:00",
          "2000-12-31T00:00:00",
          "2010-12-31T00:00:00",
          "2020-12-31T00:00:00"
         ],
         "y": [
          -0.18025,
          -0.513075,
          -0.5250500000000001,
          -0.16400000000000003,
          -0.3291583333333333,
          -0.3960666666666669,
          -0.5102583333333334,
          -0.13620833333333332,
          -0.34351666666666675,
          -0.696666666666667,
          -0.2831083333333332,
          -0.4146416666666665,
          -0.11999166666666668,
          -0.07280833333333335,
          0.00968333333333337,
          0.21267499999999998,
          0.0922583333333333,
          -0.18084166666666673,
          0.08854166666666659,
          0.32425833333333337,
          0.7421000000000002,
          1.0265666666666666,
          0.8730312499999997
         ]
        },
        {
         "line": {
          "color": "grey"
         },
         "name": "Belize",
         "opacity": 0.1,
         "type": "scatter",
         "x": [
          "1800-12-31T00:00:00",
          "1810-12-31T00:00:00",
          "1820-12-31T00:00:00",
          "1830-12-31T00:00:00",
          "1840-12-31T00:00:00",
          "1850-12-31T00:00:00",
          "1860-12-31T00:00:00",
          "1870-12-31T00:00:00",
          "1880-12-31T00:00:00",
          "1890-12-31T00:00:00",
          "1900-12-31T00:00:00",
          "1910-12-31T00:00:00",
          "1920-12-31T00:00:00",
          "1930-12-31T00:00:00",
          "1940-12-31T00:00:00",
          "1950-12-31T00:00:00",
          "1960-12-31T00:00:00",
          "1970-12-31T00:00:00",
          "1980-12-31T00:00:00",
          "1990-12-31T00:00:00",
          "2000-12-31T00:00:00",
          "2010-12-31T00:00:00",
          "2020-12-31T00:00:00"
         ],
         "y": [
          null,
          null,
          null,
          -0.22793055555555558,
          -1.0292444444444446,
          -0.6584583333333331,
          -0.8206250000000004,
          -0.5209916666666666,
          -0.46075833333333327,
          -0.7193999999999998,
          -0.39314999999999994,
          -0.7441583333333333,
          -0.38139166666666663,
          -0.17794166666666675,
          -0.11087499999999999,
          0.04668333333333332,
          0.004424999999999977,
          -0.048283333333333324,
          0.04391666666666667,
          0.16076666666666656,
          0.44299166666666684,
          0.4325000000000003,
          0.4841212121212122
         ]
        },
        {
         "line": {
          "color": "grey"
         },
         "name": "Benin",
         "opacity": 0.1,
         "type": "scatter",
         "x": [
          "1800-12-31T00:00:00",
          "1810-12-31T00:00:00",
          "1820-12-31T00:00:00",
          "1830-12-31T00:00:00",
          "1840-12-31T00:00:00",
          "1850-12-31T00:00:00",
          "1860-12-31T00:00:00",
          "1870-12-31T00:00:00",
          "1880-12-31T00:00:00",
          "1890-12-31T00:00:00",
          "1900-12-31T00:00:00",
          "1910-12-31T00:00:00",
          "1920-12-31T00:00:00",
          "1930-12-31T00:00:00",
          "1940-12-31T00:00:00",
          "1950-12-31T00:00:00",
          "1960-12-31T00:00:00",
          "1970-12-31T00:00:00",
          "1980-12-31T00:00:00",
          "1990-12-31T00:00:00",
          "2000-12-31T00:00:00",
          "2010-12-31T00:00:00",
          "2020-12-31T00:00:00"
         ],
         "y": [
          null,
          null,
          null,
          null,
          null,
          -0.6932916666666665,
          -0.6208301886792452,
          -0.8803571428571431,
          -0.5455934065934065,
          -0.8383584905660376,
          -0.7145499999999998,
          -0.6378583333333329,
          -0.10247500000000007,
          0.11064166666666667,
          0.21736666666666676,
          0.25890000000000013,
          -0.06743333333333339,
          -0.030808333333333344,
          0.09824166666666666,
          0.33717499999999995,
          0.3547083333333333,
          0.7605999999999997,
          0.64003125
         ]
        },
        {
         "line": {
          "color": "grey"
         },
         "name": "Bhutan",
         "opacity": 0.1,
         "type": "scatter",
         "x": [
          "1800-12-31T00:00:00",
          "1810-12-31T00:00:00",
          "1820-12-31T00:00:00",
          "1830-12-31T00:00:00",
          "1840-12-31T00:00:00",
          "1850-12-31T00:00:00",
          "1860-12-31T00:00:00",
          "1870-12-31T00:00:00",
          "1880-12-31T00:00:00",
          "1890-12-31T00:00:00",
          "1900-12-31T00:00:00",
          "1910-12-31T00:00:00",
          "1920-12-31T00:00:00",
          "1930-12-31T00:00:00",
          "1940-12-31T00:00:00",
          "1950-12-31T00:00:00",
          "1960-12-31T00:00:00",
          "1970-12-31T00:00:00",
          "1980-12-31T00:00:00",
          "1990-12-31T00:00:00",
          "2000-12-31T00:00:00",
          "2010-12-31T00:00:00",
          "2020-12-31T00:00:00"
         ],
         "y": [
          null,
          null,
          -1.559824561403509,
          -0.4690499999999999,
          -0.9441010101010102,
          -0.8596890756302514,
          -0.694608695652174,
          -0.6438611111111113,
          -0.45649166666666646,
          -0.5593166666666665,
          -0.4343083333333333,
          -0.4195499999999999,
          -0.42090833333333316,
          -0.3331166666666666,
          -0.1872,
          -0.07431666666666664,
          0.11830000000000002,
          -0.16351666666666656,
          0.04519166666666667,
          0.08954166666666669,
          0.09189999999999995,
          0.44895000000000007,
          0.33753125
         ]
        },
        {
         "line": {
          "color": "grey"
         },
         "name": "Bolivia",
         "opacity": 0.1,
         "type": "scatter",
         "x": [
          "1800-12-31T00:00:00",
          "1810-12-31T00:00:00",
          "1820-12-31T00:00:00",
          "1830-12-31T00:00:00",
          "1840-12-31T00:00:00",
          "1850-12-31T00:00:00",
          "1860-12-31T00:00:00",
          "1870-12-31T00:00:00",
          "1880-12-31T00:00:00",
          "1890-12-31T00:00:00",
          "1900-12-31T00:00:00",
          "1910-12-31T00:00:00",
          "1920-12-31T00:00:00",
          "1930-12-31T00:00:00",
          "1940-12-31T00:00:00",
          "1950-12-31T00:00:00",
          "1960-12-31T00:00:00",
          "1970-12-31T00:00:00",
          "1980-12-31T00:00:00",
          "1990-12-31T00:00:00",
          "2000-12-31T00:00:00",
          "2010-12-31T00:00:00",
          "2020-12-31T00:00:00"
         ],
         "y": [
          null,
          null,
          null,
          null,
          null,
          null,
          -0.8426911764705882,
          -0.6653416666666666,
          -0.5469750000000002,
          -0.7238333333333336,
          -0.5163583333333335,
          -0.43145833333333333,
          -0.3078916666666666,
          -0.23753333333333337,
          -0.04893333333333329,
          -0.10001666666666667,
          -0.21175000000000005,
          0.21374999999999994,
          -0.002050000000000003,
          0.32550833333333323,
          0.3766499999999998,
          0.29834166666666667,
          0.448375
         ]
        },
        {
         "line": {
          "color": "grey"
         },
         "name": "Bonaire Saint Eustatius and Saba",
         "opacity": 0.1,
         "type": "scatter",
         "x": [
          "1800-12-31T00:00:00",
          "1810-12-31T00:00:00",
          "1820-12-31T00:00:00",
          "1830-12-31T00:00:00",
          "1840-12-31T00:00:00",
          "1850-12-31T00:00:00",
          "1860-12-31T00:00:00",
          "1870-12-31T00:00:00",
          "1880-12-31T00:00:00",
          "1890-12-31T00:00:00",
          "1900-12-31T00:00:00",
          "1910-12-31T00:00:00",
          "1920-12-31T00:00:00",
          "1930-12-31T00:00:00",
          "1940-12-31T00:00:00",
          "1950-12-31T00:00:00",
          "1960-12-31T00:00:00",
          "1970-12-31T00:00:00",
          "1980-12-31T00:00:00",
          "1990-12-31T00:00:00",
          "2000-12-31T00:00:00",
          "2010-12-31T00:00:00",
          "2020-12-31T00:00:00"
         ],
         "y": [
          null,
          null,
          null,
          -0.3872769230769231,
          null,
          -0.745173913043478,
          -0.7913083333333334,
          -0.6451166666666669,
          -0.46484166666666676,
          -0.8286250000000001,
          -0.6187416666666664,
          -0.5430833333333333,
          -0.6026666666666665,
          -0.4302249999999999,
          -0.2765666666666666,
          -0.1751083333333334,
          0.022233333333333365,
          0.0012666666666667065,
          -0.02353333333333329,
          0.13293333333333335,
          0.2955583333333334,
          0.5791666666666667,
          0.5100624999999999
         ]
        },
        {
         "line": {
          "color": "grey"
         },
         "name": "Bosnia and Herzegovina",
         "opacity": 0.1,
         "type": "scatter",
         "x": [
          "1800-12-31T00:00:00",
          "1810-12-31T00:00:00",
          "1820-12-31T00:00:00",
          "1830-12-31T00:00:00",
          "1840-12-31T00:00:00",
          "1850-12-31T00:00:00",
          "1860-12-31T00:00:00",
          "1870-12-31T00:00:00",
          "1880-12-31T00:00:00",
          "1890-12-31T00:00:00",
          "1900-12-31T00:00:00",
          "1910-12-31T00:00:00",
          "1920-12-31T00:00:00",
          "1930-12-31T00:00:00",
          "1940-12-31T00:00:00",
          "1950-12-31T00:00:00",
          "1960-12-31T00:00:00",
          "1970-12-31T00:00:00",
          "1980-12-31T00:00:00",
          "1990-12-31T00:00:00",
          "2000-12-31T00:00:00",
          "2010-12-31T00:00:00",
          "2020-12-31T00:00:00"
         ],
         "y": [
          0.24600000000000008,
          -0.17741666666666672,
          -0.5635833333333334,
          -0.21794166666666673,
          -0.6462499999999998,
          -0.3142416666666666,
          -0.4875333333333334,
          -0.1919583333333333,
          -0.45181666666666676,
          -0.5452833333333336,
          -0.38588333333333313,
          -0.3841416666666666,
          -0.2766500000000001,
          0.0889,
          -0.14125000000000001,
          0.19584166666666672,
          0.16448333333333337,
          -0.06018333333333335,
          -0.10425833333333333,
          0.22347499999999998,
          0.5775166666666663,
          0.8812999999999999,
          1.39284375
         ]
        },
        {
         "line": {
          "color": "grey"
         },
         "name": "Botswana",
         "opacity": 0.1,
         "type": "scatter",
         "x": [
          "1800-12-31T00:00:00",
          "1810-12-31T00:00:00",
          "1820-12-31T00:00:00",
          "1830-12-31T00:00:00",
          "1840-12-31T00:00:00",
          "1850-12-31T00:00:00",
          "1860-12-31T00:00:00",
          "1870-12-31T00:00:00",
          "1880-12-31T00:00:00",
          "1890-12-31T00:00:00",
          "1900-12-31T00:00:00",
          "1910-12-31T00:00:00",
          "1920-12-31T00:00:00",
          "1930-12-31T00:00:00",
          "1940-12-31T00:00:00",
          "1950-12-31T00:00:00",
          "1960-12-31T00:00:00",
          "1970-12-31T00:00:00",
          "1980-12-31T00:00:00",
          "1990-12-31T00:00:00",
          "2000-12-31T00:00:00",
          "2010-12-31T00:00:00",
          "2020-12-31T00:00:00"
         ],
         "y": [
          null,
          null,
          null,
          null,
          null,
          null,
          -0.7181304347826089,
          -0.5150166666666666,
          -0.5425689655172412,
          -0.5584083333333332,
          -0.43381666666666674,
          -0.6557916666666667,
          -0.2453,
          -0.0966,
          -0.22759166666666672,
          0.1273750000000001,
          0.004766666666666658,
          0.13581666666666667,
          -0.14053333333333334,
          0.46863333333333335,
          0.6156666666666667,
          0.5906833333333331,
          0.45962499999999995
         ]
        },
        {
         "line": {
          "color": "grey"
         },
         "name": "Brazil",
         "opacity": 0.1,
         "type": "scatter",
         "x": [
          "1800-12-31T00:00:00",
          "1810-12-31T00:00:00",
          "1820-12-31T00:00:00",
          "1830-12-31T00:00:00",
          "1840-12-31T00:00:00",
          "1850-12-31T00:00:00",
          "1860-12-31T00:00:00",
          "1870-12-31T00:00:00",
          "1880-12-31T00:00:00",
          "1890-12-31T00:00:00",
          "1900-12-31T00:00:00",
          "1910-12-31T00:00:00",
          "1920-12-31T00:00:00",
          "1930-12-31T00:00:00",
          "1940-12-31T00:00:00",
          "1950-12-31T00:00:00",
          "1960-12-31T00:00:00",
          "1970-12-31T00:00:00",
          "1980-12-31T00:00:00",
          "1990-12-31T00:00:00",
          "2000-12-31T00:00:00",
          "2010-12-31T00:00:00",
          "2020-12-31T00:00:00"
         ],
         "y": [
          null,
          null,
          null,
          null,
          -0.9953611111111116,
          -0.6589326923076922,
          -0.6522333333333333,
          -0.5993416666666669,
          -0.48406666666666637,
          -0.6880833333333335,
          -0.5410333333333335,
          -0.4312166666666667,
          -0.4131583333333333,
          -0.30670833333333325,
          -0.03959166666666667,
          -0.12669166666666662,
          -0.04716666666666668,
          0.07750833333333336,
          -0.03035000000000001,
          0.2349833333333333,
          0.49382499999999985,
          0.6928249999999998,
          0.6683437499999999
         ]
        },
        {
         "line": {
          "color": "grey"
         },
         "name": "British Virgin Islands",
         "opacity": 0.1,
         "type": "scatter",
         "x": [
          "1800-12-31T00:00:00",
          "1810-12-31T00:00:00",
          "1820-12-31T00:00:00",
          "1830-12-31T00:00:00",
          "1840-12-31T00:00:00",
          "1850-12-31T00:00:00",
          "1860-12-31T00:00:00",
          "1870-12-31T00:00:00",
          "1880-12-31T00:00:00",
          "1890-12-31T00:00:00",
          "1900-12-31T00:00:00",
          "1910-12-31T00:00:00",
          "1920-12-31T00:00:00",
          "1930-12-31T00:00:00",
          "1940-12-31T00:00:00",
          "1950-12-31T00:00:00",
          "1960-12-31T00:00:00",
          "1970-12-31T00:00:00",
          "1980-12-31T00:00:00",
          "1990-12-31T00:00:00",
          "2000-12-31T00:00:00",
          "2010-12-31T00:00:00",
          "2020-12-31T00:00:00"
         ],
         "y": [
          null,
          null,
          null,
          -0.2589076923076923,
          null,
          -0.6914492753623189,
          -0.7111666666666666,
          -0.5863916666666662,
          -0.46284166666666654,
          -0.7682333333333337,
          -0.5125666666666666,
          -0.48111666666666675,
          -0.4752583333333333,
          -0.33299166666666674,
          -0.24096666666666655,
          -0.15177499999999994,
          0.06122500000000001,
          -0.008983333333333334,
          -0.052258333333333365,
          0.2063750000000001,
          0.4285249999999999,
          0.7354166666666669,
          0.7137575757575756
         ]
        },
        {
         "line": {
          "color": "grey"
         },
         "name": "Bulgaria",
         "opacity": 0.1,
         "type": "scatter",
         "x": [
          "1800-12-31T00:00:00",
          "1810-12-31T00:00:00",
          "1820-12-31T00:00:00",
          "1830-12-31T00:00:00",
          "1840-12-31T00:00:00",
          "1850-12-31T00:00:00",
          "1860-12-31T00:00:00",
          "1870-12-31T00:00:00",
          "1880-12-31T00:00:00",
          "1890-12-31T00:00:00",
          "1900-12-31T00:00:00",
          "1910-12-31T00:00:00",
          "1920-12-31T00:00:00",
          "1930-12-31T00:00:00",
          "1940-12-31T00:00:00",
          "1950-12-31T00:00:00",
          "1960-12-31T00:00:00",
          "1970-12-31T00:00:00",
          "1980-12-31T00:00:00",
          "1990-12-31T00:00:00",
          "2000-12-31T00:00:00",
          "2010-12-31T00:00:00",
          "2020-12-31T00:00:00"
         ],
         "y": [
          0.025416666666666674,
          -0.236525,
          -0.8163000000000001,
          -0.3671499999999999,
          -0.9814416666666668,
          -0.4181583333333334,
          -0.3992250000000001,
          -0.45110833333333333,
          -0.42185,
          -0.6391249999999999,
          -0.3526750000000001,
          -0.3986750000000003,
          -0.22027500000000005,
          0.01576666666666669,
          -0.09900833333333334,
          -0.17893333333333347,
          0.06900833333333328,
          0.0977333333333333,
          -0.16679166666666664,
          0.07406666666666664,
          0.33323333333333344,
          0.8318416666666669,
          1.1290625
         ]
        },
        {
         "line": {
          "color": "grey"
         },
         "name": "Burkina Faso",
         "opacity": 0.1,
         "type": "scatter",
         "x": [
          "1800-12-31T00:00:00",
          "1810-12-31T00:00:00",
          "1820-12-31T00:00:00",
          "1830-12-31T00:00:00",
          "1840-12-31T00:00:00",
          "1850-12-31T00:00:00",
          "1860-12-31T00:00:00",
          "1870-12-31T00:00:00",
          "1880-12-31T00:00:00",
          "1890-12-31T00:00:00",
          "1900-12-31T00:00:00",
          "1910-12-31T00:00:00",
          "1920-12-31T00:00:00",
          "1930-12-31T00:00:00",
          "1940-12-31T00:00:00",
          "1950-12-31T00:00:00",
          "1960-12-31T00:00:00",
          "1970-12-31T00:00:00",
          "1980-12-31T00:00:00",
          "1990-12-31T00:00:00",
          "2000-12-31T00:00:00",
          "2010-12-31T00:00:00",
          "2020-12-31T00:00:00"
         ],
         "y": [
          null,
          null,
          null,
          null,
          null,
          -0.6702500000000002,
          -0.6300563380281691,
          -0.6253614457831327,
          -0.5550752688172043,
          -0.7420283018867925,
          -0.6306083333333331,
          -0.6184666666666667,
          -0.11839999999999999,
          0.00601666666666666,
          0.1353916666666667,
          0.1415166666666666,
          -0.09630833333333329,
          -0.030333333333333285,
          0.12658333333333335,
          0.33309166666666684,
          0.32151666666666645,
          0.7736166666666667,
          0.666625
         ]
        },
        {
         "line": {
          "color": "grey"
         },
         "name": "Burundi",
         "opacity": 0.1,
         "type": "scatter",
         "x": [
          "1800-12-31T00:00:00",
          "1810-12-31T00:00:00",
          "1820-12-31T00:00:00",
          "1830-12-31T00:00:00",
          "1840-12-31T00:00:00",
          "1850-12-31T00:00:00",
          "1860-12-31T00:00:00",
          "1870-12-31T00:00:00",
          "1880-12-31T00:00:00",
          "1890-12-31T00:00:00",
          "1900-12-31T00:00:00",
          "1910-12-31T00:00:00",
          "1920-12-31T00:00:00",
          "1930-12-31T00:00:00",
          "1940-12-31T00:00:00",
          "1950-12-31T00:00:00",
          "1960-12-31T00:00:00",
          "1970-12-31T00:00:00",
          "1980-12-31T00:00:00",
          "1990-12-31T00:00:00",
          "2000-12-31T00:00:00",
          "2010-12-31T00:00:00",
          "2020-12-31T00:00:00"
         ],
         "y": [
          null,
          null,
          null,
          null,
          null,
          -0.7575454545454545,
          -0.6283953488372094,
          -0.7548461538461537,
          -0.3824000000000001,
          -0.609304347826087,
          -0.29490000000000016,
          -0.3377583333333333,
          -0.16905833333333334,
          -0.15054999999999996,
          -0.010716666666666668,
          0.08532500000000003,
          -0.017974999999999988,
          -0.07623333333333336,
          0.09420000000000003,
          0.3676416666666668,
          0.4598249999999998,
          0.7683916666666669,
          0.6269999999999999
         ]
        },
        {
         "line": {
          "color": "grey"
         },
         "name": "Cambodia",
         "opacity": 0.1,
         "type": "scatter",
         "x": [
          "1800-12-31T00:00:00",
          "1810-12-31T00:00:00",
          "1820-12-31T00:00:00",
          "1830-12-31T00:00:00",
          "1840-12-31T00:00:00",
          "1850-12-31T00:00:00",
          "1860-12-31T00:00:00",
          "1870-12-31T00:00:00",
          "1880-12-31T00:00:00",
          "1890-12-31T00:00:00",
          "1900-12-31T00:00:00",
          "1910-12-31T00:00:00",
          "1920-12-31T00:00:00",
          "1930-12-31T00:00:00",
          "1940-12-31T00:00:00",
          "1950-12-31T00:00:00",
          "1960-12-31T00:00:00",
          "1970-12-31T00:00:00",
          "1980-12-31T00:00:00",
          "1990-12-31T00:00:00",
          "2000-12-31T00:00:00",
          "2010-12-31T00:00:00",
          "2020-12-31T00:00:00"
         ],
         "y": [
          null,
          null,
          null,
          -0.3796666666666666,
          -0.9328571428571427,
          -0.8111368421052634,
          -0.7471949152542379,
          -0.7957117117117114,
          -0.6277416666666666,
          -0.7040416666666665,
          -0.6665000000000004,
          -0.48167499999999996,
          -0.430666666666667,
          -0.45746666666666674,
          -0.16187500000000005,
          -0.02801666666666669,
          0.01699166666666664,
          0.013650000000000015,
          -0.030641666666666675,
          0.10153333333333327,
          0.18155833333333335,
          0.3875916666666667,
          0.5410625
         ]
        },
        {
         "line": {
          "color": "grey"
         },
         "name": "Cameroon",
         "opacity": 0.1,
         "type": "scatter",
         "x": [
          "1800-12-31T00:00:00",
          "1810-12-31T00:00:00",
          "1820-12-31T00:00:00",
          "1830-12-31T00:00:00",
          "1840-12-31T00:00:00",
          "1850-12-31T00:00:00",
          "1860-12-31T00:00:00",
          "1870-12-31T00:00:00",
          "1880-12-31T00:00:00",
          "1890-12-31T00:00:00",
          "1900-12-31T00:00:00",
          "1910-12-31T00:00:00",
          "1920-12-31T00:00:00",
          "1930-12-31T00:00:00",
          "1940-12-31T00:00:00",
          "1950-12-31T00:00:00",
          "1960-12-31T00:00:00",
          "1970-12-31T00:00:00",
          "1980-12-31T00:00:00",
          "1990-12-31T00:00:00",
          "2000-12-31T00:00:00",
          "2010-12-31T00:00:00",
          "2020-12-31T00:00:00"
         ],
         "y": [
          null,
          null,
          null,
          null,
          null,
          null,
          -0.7306829268292684,
          -0.8253571428571428,
          -0.5693863636363634,
          -0.8116999999999999,
          -0.6438749999999999,
          -0.6299250000000001,
          -0.14570000000000008,
          -0.06260833333333334,
          0.20811666666666662,
          0.24036666666666673,
          -0.06248333333333335,
          -0.014116666666666678,
          0.07675833333333333,
          0.10179166666666666,
          0.28284166666666677,
          0.7124583333333335,
          0.4773125
         ]
        },
        {
         "line": {
          "color": "grey"
         },
         "name": "Canada",
         "opacity": 0.1,
         "type": "scatter",
         "x": [
          "1800-12-31T00:00:00",
          "1810-12-31T00:00:00",
          "1820-12-31T00:00:00",
          "1830-12-31T00:00:00",
          "1840-12-31T00:00:00",
          "1850-12-31T00:00:00",
          "1860-12-31T00:00:00",
          "1870-12-31T00:00:00",
          "1880-12-31T00:00:00",
          "1890-12-31T00:00:00",
          "1900-12-31T00:00:00",
          "1910-12-31T00:00:00",
          "1920-12-31T00:00:00",
          "1930-12-31T00:00:00",
          "1940-12-31T00:00:00",
          "1950-12-31T00:00:00",
          "1960-12-31T00:00:00",
          "1970-12-31T00:00:00",
          "1980-12-31T00:00:00",
          "1990-12-31T00:00:00",
          "2000-12-31T00:00:00",
          "2010-12-31T00:00:00",
          "2020-12-31T00:00:00"
         ],
         "y": [
          null,
          null,
          -1.3459651162790693,
          -0.4423333333333334,
          -0.8949333333333331,
          -0.8013166666666666,
          -0.6678000000000001,
          -0.7430833333333334,
          -0.543875,
          -1.1327916666666662,
          -0.7889666666666671,
          -0.5202416666666667,
          -0.5391583333333332,
          -0.11468333333333326,
          0.0033000000000000577,
          0.17829999999999993,
          0.16455833333333325,
          -0.1027416666666667,
          -0.06180833333333349,
          0.37377500000000013,
          0.773108333333333,
          1.2781416666666667,
          1.452939393939394
         ]
        },
        {
         "line": {
          "color": "grey"
         },
         "name": "Cape Verde",
         "opacity": 0.1,
         "type": "scatter",
         "x": [
          "1800-12-31T00:00:00",
          "1810-12-31T00:00:00",
          "1820-12-31T00:00:00",
          "1830-12-31T00:00:00",
          "1840-12-31T00:00:00",
          "1850-12-31T00:00:00",
          "1860-12-31T00:00:00",
          "1870-12-31T00:00:00",
          "1880-12-31T00:00:00",
          "1890-12-31T00:00:00",
          "1900-12-31T00:00:00",
          "1910-12-31T00:00:00",
          "1920-12-31T00:00:00",
          "1930-12-31T00:00:00",
          "1940-12-31T00:00:00",
          "1950-12-31T00:00:00",
          "1960-12-31T00:00:00",
          "1970-12-31T00:00:00",
          "1980-12-31T00:00:00",
          "1990-12-31T00:00:00",
          "2000-12-31T00:00:00",
          "2010-12-31T00:00:00",
          "2020-12-31T00:00:00"
         ],
         "y": [
          null,
          null,
          null,
          null,
          null,
          -0.6505,
          -0.6031549295774647,
          -0.5646288659793813,
          -0.49421111111111127,
          -0.6436101694915256,
          -0.10217499999999997,
          -0.38709999999999983,
          -0.3631000000000001,
          -0.06565000000000003,
          -0.02759166666666665,
          -0.07699999999999993,
          -0.1536583333333333,
          0.10152499999999995,
          0.05212500000000004,
          0.2855916666666667,
          0.6159583333333333,
          0.8021833333333336,
          0.9491250000000002
         ]
        },
        {
         "line": {
          "color": "grey"
         },
         "name": "Cayman Islands",
         "opacity": 0.1,
         "type": "scatter",
         "x": [
          "1800-12-31T00:00:00",
          "1810-12-31T00:00:00",
          "1820-12-31T00:00:00",
          "1830-12-31T00:00:00",
          "1840-12-31T00:00:00",
          "1850-12-31T00:00:00",
          "1860-12-31T00:00:00",
          "1870-12-31T00:00:00",
          "1880-12-31T00:00:00",
          "1890-12-31T00:00:00",
          "1900-12-31T00:00:00",
          "1910-12-31T00:00:00",
          "1920-12-31T00:00:00",
          "1930-12-31T00:00:00",
          "1940-12-31T00:00:00",
          "1950-12-31T00:00:00",
          "1960-12-31T00:00:00",
          "1970-12-31T00:00:00",
          "1980-12-31T00:00:00",
          "1990-12-31T00:00:00",
          "2000-12-31T00:00:00",
          "2010-12-31T00:00:00",
          "2020-12-31T00:00:00"
         ],
         "y": [
          null,
          null,
          null,
          -0.12309375,
          -0.6988249999999997,
          -0.601316666666667,
          -0.6978166666666666,
          -0.3968499999999998,
          -0.33694999999999975,
          -0.5928083333333333,
          -0.4429416666666666,
          -0.5870416666666666,
          -0.3356916666666666,
          -0.07833333333333337,
          -0.1634833333333333,
          0.09370833333333335,
          0.0035166666666666736,
          -0.07440833333333334,
          0.07080833333333333,
          0.245575,
          0.476925,
          0.5776333333333333,
          0.4086363636363636
         ]
        },
        {
         "line": {
          "color": "grey"
         },
         "name": "Central African Republic",
         "opacity": 0.1,
         "type": "scatter",
         "x": [
          "1800-12-31T00:00:00",
          "1810-12-31T00:00:00",
          "1820-12-31T00:00:00",
          "1830-12-31T00:00:00",
          "1840-12-31T00:00:00",
          "1850-12-31T00:00:00",
          "1860-12-31T00:00:00",
          "1870-12-31T00:00:00",
          "1880-12-31T00:00:00",
          "1890-12-31T00:00:00",
          "1900-12-31T00:00:00",
          "1910-12-31T00:00:00",
          "1920-12-31T00:00:00",
          "1930-12-31T00:00:00",
          "1940-12-31T00:00:00",
          "1950-12-31T00:00:00",
          "1960-12-31T00:00:00",
          "1970-12-31T00:00:00",
          "1980-12-31T00:00:00",
          "1990-12-31T00:00:00",
          "2000-12-31T00:00:00",
          "2010-12-31T00:00:00",
          "2020-12-31T00:00:00"
         ],
         "y": [
          null,
          null,
          null,
          null,
          null,
          null,
          -0.7084390243902439,
          -0.8206428571428572,
          -0.48930681818181826,
          -0.7045749999999996,
          -0.4873666666666664,
          -0.4954833333333333,
          -0.23526666666666657,
          -0.11085833333333331,
          0.19347499999999998,
          0.18097500000000002,
          -0.003408333333333332,
          -0.09037499999999997,
          0.09373333333333332,
          0.1219,
          0.345225,
          0.7648916666666664,
          0.33862500000000006
         ]
        },
        {
         "line": {
          "color": "grey"
         },
         "name": "Chad",
         "opacity": 0.1,
         "type": "scatter",
         "x": [
          "1800-12-31T00:00:00",
          "1810-12-31T00:00:00",
          "1820-12-31T00:00:00",
          "1830-12-31T00:00:00",
          "1840-12-31T00:00:00",
          "1850-12-31T00:00:00",
          "1860-12-31T00:00:00",
          "1870-12-31T00:00:00",
          "1880-12-31T00:00:00",
          "1890-12-31T00:00:00",
          "1900-12-31T00:00:00",
          "1910-12-31T00:00:00",
          "1920-12-31T00:00:00",
          "1930-12-31T00:00:00",
          "1940-12-31T00:00:00",
          "1950-12-31T00:00:00",
          "1960-12-31T00:00:00",
          "1970-12-31T00:00:00",
          "1980-12-31T00:00:00",
          "1990-12-31T00:00:00",
          "2000-12-31T00:00:00",
          "2010-12-31T00:00:00",
          "2020-12-31T00:00:00"
         ],
         "y": [
          null,
          null,
          null,
          null,
          null,
          null,
          -0.6212195121951218,
          -0.8520714285714286,
          -0.43467045454545444,
          -0.7294833333333334,
          -0.4621500000000002,
          -0.5495666666666665,
          -0.211475,
          -0.06507500000000006,
          0.25464999999999993,
          0.03347499999999992,
          0.043091666666666674,
          -0.10738333333333339,
          0.06428333333333336,
          0.17979166666666668,
          0.374625,
          0.8379583333333334,
          0.569375
         ]
        },
        {
         "line": {
          "color": "grey"
         },
         "name": "Chile",
         "opacity": 0.1,
         "type": "scatter",
         "x": [
          "1800-12-31T00:00:00",
          "1810-12-31T00:00:00",
          "1820-12-31T00:00:00",
          "1830-12-31T00:00:00",
          "1840-12-31T00:00:00",
          "1850-12-31T00:00:00",
          "1860-12-31T00:00:00",
          "1870-12-31T00:00:00",
          "1880-12-31T00:00:00",
          "1890-12-31T00:00:00",
          "1900-12-31T00:00:00",
          "1910-12-31T00:00:00",
          "1920-12-31T00:00:00",
          "1930-12-31T00:00:00",
          "1940-12-31T00:00:00",
          "1950-12-31T00:00:00",
          "1960-12-31T00:00:00",
          "1970-12-31T00:00:00",
          "1980-12-31T00:00:00",
          "1990-12-31T00:00:00",
          "2000-12-31T00:00:00",
          "2010-12-31T00:00:00",
          "2020-12-31T00:00:00"
         ],
         "y": [
          null,
          null,
          null,
          null,
          null,
          null,
          -0.7672941176470589,
          -0.7360500000000004,
          -0.5456083333333334,
          -0.7796416666666665,
          -0.47475,
          -0.4261999999999999,
          -0.2758416666666667,
          -0.3521249999999999,
          -0.16700833333333331,
          -0.011016666666666676,
          -0.08320833333333333,
          0.0753,
          0.008008333333333333,
          0.3679749999999998,
          0.32197499999999984,
          0.3463500000000001,
          0.60365625
         ]
        },
        {
         "line": {
          "color": "grey"
         },
         "name": "China",
         "opacity": 0.1,
         "type": "scatter",
         "x": [
          "1800-12-31T00:00:00",
          "1810-12-31T00:00:00",
          "1820-12-31T00:00:00",
          "1830-12-31T00:00:00",
          "1840-12-31T00:00:00",
          "1850-12-31T00:00:00",
          "1860-12-31T00:00:00",
          "1870-12-31T00:00:00",
          "1880-12-31T00:00:00",
          "1890-12-31T00:00:00",
          "1900-12-31T00:00:00",
          "1910-12-31T00:00:00",
          "1920-12-31T00:00:00",
          "1930-12-31T00:00:00",
          "1940-12-31T00:00:00",
          "1950-12-31T00:00:00",
          "1960-12-31T00:00:00",
          "1970-12-31T00:00:00",
          "1980-12-31T00:00:00",
          "1990-12-31T00:00:00",
          "2000-12-31T00:00:00",
          "2010-12-31T00:00:00",
          "2020-12-31T00:00:00"
         ],
         "y": [
          null,
          null,
          -1.8644000000000003,
          -0.6307142857142858,
          -0.9354382022471911,
          -0.6840999999999998,
          -0.6676249999999998,
          -0.5903416666666668,
          -0.3526083333333332,
          -0.5944916666666664,
          -0.4549499999999999,
          -0.5083749999999999,
          -0.4188249999999999,
          -0.1825750000000001,
          -0.15220833333333333,
          0.1789999999999999,
          -0.06597499999999996,
          -0.04481666666666671,
          0.11087499999999996,
          0.25584999999999997,
          0.5126083333333333,
          0.9122416666666666,
          0.581875
         ]
        },
        {
         "line": {
          "color": "grey"
         },
         "name": "Colombia",
         "opacity": 0.1,
         "type": "scatter",
         "x": [
          "1800-12-31T00:00:00",
          "1810-12-31T00:00:00",
          "1820-12-31T00:00:00",
          "1830-12-31T00:00:00",
          "1840-12-31T00:00:00",
          "1850-12-31T00:00:00",
          "1860-12-31T00:00:00",
          "1870-12-31T00:00:00",
          "1880-12-31T00:00:00",
          "1890-12-31T00:00:00",
          "1900-12-31T00:00:00",
          "1910-12-31T00:00:00",
          "1920-12-31T00:00:00",
          "1930-12-31T00:00:00",
          "1940-12-31T00:00:00",
          "1950-12-31T00:00:00",
          "1960-12-31T00:00:00",
          "1970-12-31T00:00:00",
          "1980-12-31T00:00:00",
          "1990-12-31T00:00:00",
          "2000-12-31T00:00:00",
          "2010-12-31T00:00:00",
          "2020-12-31T00:00:00"
         ],
         "y": [
          null,
          null,
          null,
          -0.4089076923076923,
          null,
          -0.6923833333333332,
          -0.7570333333333331,
          -0.6767833333333332,
          -0.476608333333333,
          -0.8305083333333336,
          -0.6278666666666669,
          -0.5969166666666667,
          -0.5040166666666666,
          -0.38642499999999974,
          -0.22643333333333335,
          -0.06418333333333333,
          -0.046066666666666665,
          0.03525833333333331,
          0.010866666666666688,
          0.2050083333333333,
          0.3488666666666667,
          0.5534916666666667,
          0.3964062499999999
         ]
        },
        {
         "line": {
          "color": "grey"
         },
         "name": "Comoros",
         "opacity": 0.1,
         "type": "scatter",
         "x": [
          "1800-12-31T00:00:00",
          "1810-12-31T00:00:00",
          "1820-12-31T00:00:00",
          "1830-12-31T00:00:00",
          "1840-12-31T00:00:00",
          "1850-12-31T00:00:00",
          "1860-12-31T00:00:00",
          "1870-12-31T00:00:00",
          "1880-12-31T00:00:00",
          "1890-12-31T00:00:00",
          "1900-12-31T00:00:00",
          "1910-12-31T00:00:00",
          "1920-12-31T00:00:00",
          "1930-12-31T00:00:00",
          "1940-12-31T00:00:00",
          "1950-12-31T00:00:00",
          "1960-12-31T00:00:00",
          "1970-12-31T00:00:00",
          "1980-12-31T00:00:00",
          "1990-12-31T00:00:00",
          "2000-12-31T00:00:00",
          "2010-12-31T00:00:00",
          "2020-12-31T00:00:00"
         ],
         "y": [
          null,
          0.27670588235294113,
          null,
          null,
          null,
          -0.8071818181818181,
          -0.6436842105263162,
          -0.6952916666666668,
          -0.37979999999999997,
          -0.704576923076923,
          -0.32850833333333335,
          -0.36653333333333343,
          -0.31791666666666646,
          -0.2799,
          -0.13881666666666667,
          -0.10025833333333334,
          0.019058333333333333,
          -0.018666666666666658,
          -0.0004916666666666651,
          0.25224166666666664,
          0.48030833333333345,
          0.7568666666666668,
          0.6546875
         ]
        },
        {
         "line": {
          "color": "grey"
         },
         "name": "Congo",
         "opacity": 0.1,
         "type": "scatter",
         "x": [
          "1800-12-31T00:00:00",
          "1810-12-31T00:00:00",
          "1820-12-31T00:00:00",
          "1830-12-31T00:00:00",
          "1840-12-31T00:00:00",
          "1850-12-31T00:00:00",
          "1860-12-31T00:00:00",
          "1870-12-31T00:00:00",
          "1880-12-31T00:00:00",
          "1890-12-31T00:00:00",
          "1900-12-31T00:00:00",
          "1910-12-31T00:00:00",
          "1920-12-31T00:00:00",
          "1930-12-31T00:00:00",
          "1940-12-31T00:00:00",
          "1950-12-31T00:00:00",
          "1960-12-31T00:00:00",
          "1970-12-31T00:00:00",
          "1980-12-31T00:00:00",
          "1990-12-31T00:00:00",
          "2000-12-31T00:00:00",
          "2010-12-31T00:00:00",
          "2020-12-31T00:00:00"
         ],
         "y": [
          null,
          null,
          null,
          null,
          null,
          null,
          -0.7314146341463414,
          -0.8627142857142859,
          -0.6140681818181819,
          -0.7503583333333329,
          -0.5549916666666668,
          -0.5075583333333334,
          -0.24802500000000002,
          -0.11762500000000006,
          0.09252500000000001,
          0.28115833333333334,
          -0.02833333333333333,
          -0.0012250000000000212,
          0.029533333333333314,
          0.16019999999999998,
          0.3316833333333332,
          0.6406249999999999,
          0.332125
         ]
        },
        {
         "line": {
          "color": "grey"
         },
         "name": "Costa Rica",
         "opacity": 0.1,
         "type": "scatter",
         "x": [
          "1800-12-31T00:00:00",
          "1810-12-31T00:00:00",
          "1820-12-31T00:00:00",
          "1830-12-31T00:00:00",
          "1840-12-31T00:00:00",
          "1850-12-31T00:00:00",
          "1860-12-31T00:00:00",
          "1870-12-31T00:00:00",
          "1880-12-31T00:00:00",
          "1890-12-31T00:00:00",
          "1900-12-31T00:00:00",
          "1910-12-31T00:00:00",
          "1920-12-31T00:00:00",
          "1930-12-31T00:00:00",
          "1940-12-31T00:00:00",
          "1950-12-31T00:00:00",
          "1960-12-31T00:00:00",
          "1970-12-31T00:00:00",
          "1980-12-31T00:00:00",
          "1990-12-31T00:00:00",
          "2000-12-31T00:00:00",
          "2010-12-31T00:00:00",
          "2020-12-31T00:00:00"
         ],
         "y": [
          null,
          null,
          null,
          null,
          null,
          null,
          -0.766141666666667,
          -0.5948499999999999,
          -0.4006916666666667,
          -0.751166666666667,
          -0.48208333333333325,
          -0.6974833333333329,
          -0.36111666666666675,
          -0.15290833333333329,
          -0.16895833333333332,
          -0.0642583333333333,
          0.08424166666666669,
          -0.08404999999999996,
          -0.00016666666666665387,
          0.25893333333333324,
          0.5402416666666665,
          0.5668250000000002,
          0.4146363636363637
         ]
        },
        {
         "line": {
          "color": "grey"
         },
         "name": "Cote dIvoire",
         "opacity": 0.1,
         "type": "scatter",
         "x": [
          "1800-12-31T00:00:00",
          "1810-12-31T00:00:00",
          "1820-12-31T00:00:00",
          "1830-12-31T00:00:00",
          "1840-12-31T00:00:00",
          "1850-12-31T00:00:00",
          "1860-12-31T00:00:00",
          "1870-12-31T00:00:00",
          "1880-12-31T00:00:00",
          "1890-12-31T00:00:00",
          "1900-12-31T00:00:00",
          "1910-12-31T00:00:00",
          "1920-12-31T00:00:00",
          "1930-12-31T00:00:00",
          "1940-12-31T00:00:00",
          "1950-12-31T00:00:00",
          "1960-12-31T00:00:00",
          "1970-12-31T00:00:00",
          "1980-12-31T00:00:00",
          "1990-12-31T00:00:00",
          "2000-12-31T00:00:00",
          "2010-12-31T00:00:00",
          "2020-12-31T00:00:00"
         ],
         "y": [
          null,
          null,
          null,
          null,
          null,
          -0.7013333333333334,
          -0.6733098591549295,
          -0.6351847826086952,
          -0.6461505376344087,
          -0.7431698113207545,
          -0.671866666666667,
          -0.5495416666666665,
          -0.11561666666666658,
          -0.061841666666666684,
          -0.013458333333333317,
          0.05694999999999999,
          -0.06324166666666663,
          0.01576666666666666,
          0.04749166666666668,
          0.3237166666666666,
          0.3547583333333331,
          0.7959416666666667,
          0.64578125
         ]
        },
        {
         "line": {
          "color": "grey"
         },
         "name": "Croatia",
         "opacity": 0.1,
         "type": "scatter",
         "x": [
          "1800-12-31T00:00:00",
          "1810-12-31T00:00:00",
          "1820-12-31T00:00:00",
          "1830-12-31T00:00:00",
          "1840-12-31T00:00:00",
          "1850-12-31T00:00:00",
          "1860-12-31T00:00:00",
          "1870-12-31T00:00:00",
          "1880-12-31T00:00:00",
          "1890-12-31T00:00:00",
          "1900-12-31T00:00:00",
          "1910-12-31T00:00:00",
          "1920-12-31T00:00:00",
          "1930-12-31T00:00:00",
          "1940-12-31T00:00:00",
          "1950-12-31T00:00:00",
          "1960-12-31T00:00:00",
          "1970-12-31T00:00:00",
          "1980-12-31T00:00:00",
          "1990-12-31T00:00:00",
          "2000-12-31T00:00:00",
          "2010-12-31T00:00:00",
          "2020-12-31T00:00:00"
         ],
         "y": [
          0.2675,
          -0.17510833333333334,
          -0.5103166666666666,
          -0.183175,
          -0.5714000000000004,
          -0.2998500000000001,
          -0.5183916666666667,
          -0.12999999999999998,
          -0.44485,
          -0.5349916666666666,
          -0.3708750000000001,
          -0.3952166666666668,
          -0.26154166666666634,
          0.07817500000000001,
          -0.14778333333333327,
          0.20456666666666654,
          0.11735833333333336,
          -0.07263333333333334,
          -0.04478333333333331,
          0.2559166666666666,
          0.6927666666666664,
          0.9818749999999999,
          1.3826875000000003
         ]
        },
        {
         "line": {
          "color": "grey"
         },
         "name": "Cuba",
         "opacity": 0.1,
         "type": "scatter",
         "x": [
          "1800-12-31T00:00:00",
          "1810-12-31T00:00:00",
          "1820-12-31T00:00:00",
          "1830-12-31T00:00:00",
          "1840-12-31T00:00:00",
          "1850-12-31T00:00:00",
          "1860-12-31T00:00:00",
          "1870-12-31T00:00:00",
          "1880-12-31T00:00:00",
          "1890-12-31T00:00:00",
          "1900-12-31T00:00:00",
          "1910-12-31T00:00:00",
          "1920-12-31T00:00:00",
          "1930-12-31T00:00:00",
          "1940-12-31T00:00:00",
          "1950-12-31T00:00:00",
          "1960-12-31T00:00:00",
          "1970-12-31T00:00:00",
          "1980-12-31T00:00:00",
          "1990-12-31T00:00:00",
          "2000-12-31T00:00:00",
          "2010-12-31T00:00:00",
          "2020-12-31T00:00:00"
         ],
         "y": [
          null,
          null,
          null,
          -0.06919791666666665,
          -0.6367999999999997,
          -0.6085583333333332,
          -0.6562416666666671,
          -0.3858416666666667,
          -0.3292333333333333,
          -0.5529333333333335,
          -0.43404166666666694,
          -0.5406749999999999,
          -0.35431666666666656,
          -0.08885,
          -0.14702499999999993,
          0.07560000000000006,
          -0.02597500000000001,
          -0.06376666666666667,
          0.08968333333333332,
          0.26062500000000005,
          0.49295000000000017,
          0.5291000000000001,
          0.5232727272727274
         ]
        },
        {
         "line": {
          "color": "grey"
         },
         "name": "Curacao",
         "opacity": 0.1,
         "type": "scatter",
         "x": [
          "1800-12-31T00:00:00",
          "1810-12-31T00:00:00",
          "1820-12-31T00:00:00",
          "1830-12-31T00:00:00",
          "1840-12-31T00:00:00",
          "1850-12-31T00:00:00",
          "1860-12-31T00:00:00",
          "1870-12-31T00:00:00",
          "1880-12-31T00:00:00",
          "1890-12-31T00:00:00",
          "1900-12-31T00:00:00",
          "1910-12-31T00:00:00",
          "1920-12-31T00:00:00",
          "1930-12-31T00:00:00",
          "1940-12-31T00:00:00",
          "1950-12-31T00:00:00",
          "1960-12-31T00:00:00",
          "1970-12-31T00:00:00",
          "1980-12-31T00:00:00",
          "1990-12-31T00:00:00",
          "2000-12-31T00:00:00",
          "2010-12-31T00:00:00",
          "2020-12-31T00:00:00"
         ],
         "y": [
          null,
          null,
          null,
          -0.3883538461538462,
          null,
          -0.748289855072464,
          -0.799133333333333,
          -0.6463333333333332,
          -0.4486499999999999,
          -0.8388250000000002,
          -0.6307666666666666,
          -0.5504416666666666,
          -0.5990416666666668,
          -0.43271666666666664,
          -0.2790416666666666,
          -0.16190833333333332,
          0.01302499999999999,
          0.009466666666666656,
          -0.022533333333333325,
          0.1196333333333333,
          0.30335833333333345,
          0.5414166666666667,
          0.44084375
         ]
        },
        {
         "line": {
          "color": "grey"
         },
         "name": "Cyprus",
         "opacity": 0.1,
         "type": "scatter",
         "x": [
          "1800-12-31T00:00:00",
          "1810-12-31T00:00:00",
          "1820-12-31T00:00:00",
          "1830-12-31T00:00:00",
          "1840-12-31T00:00:00",
          "1850-12-31T00:00:00",
          "1860-12-31T00:00:00",
          "1870-12-31T00:00:00",
          "1880-12-31T00:00:00",
          "1890-12-31T00:00:00",
          "1900-12-31T00:00:00",
          "1910-12-31T00:00:00",
          "1920-12-31T00:00:00",
          "1930-12-31T00:00:00",
          "1940-12-31T00:00:00",
          "1950-12-31T00:00:00",
          "1960-12-31T00:00:00",
          "1970-12-31T00:00:00",
          "1980-12-31T00:00:00",
          "1990-12-31T00:00:00",
          "2000-12-31T00:00:00",
          "2010-12-31T00:00:00",
          "2020-12-31T00:00:00"
         ],
         "y": [
          -0.11225,
          -0.3951176470588236,
          -1.2296166666666672,
          -0.5462416666666667,
          -1.1754083333333332,
          -0.6061416666666667,
          -0.5368499999999998,
          -0.6109416666666667,
          -0.38510833333333316,
          -0.5433416666666666,
          -0.5994916666666668,
          -0.5506,
          -0.4916666666666668,
          -0.07912499999999992,
          -0.025841666666666655,
          -0.1461166666666666,
          0.05490833333333334,
          0.09154999999999999,
          -0.1465083333333334,
          -0.10233333333333341,
          0.1885333333333333,
          0.8490083333333331,
          0.8970625000000001
         ]
        },
        {
         "line": {
          "color": "grey"
         },
         "name": "Czech Republic",
         "opacity": 0.1,
         "type": "scatter",
         "x": [
          "1800-12-31T00:00:00",
          "1810-12-31T00:00:00",
          "1820-12-31T00:00:00",
          "1830-12-31T00:00:00",
          "1840-12-31T00:00:00",
          "1850-12-31T00:00:00",
          "1860-12-31T00:00:00",
          "1870-12-31T00:00:00",
          "1880-12-31T00:00:00",
          "1890-12-31T00:00:00",
          "1900-12-31T00:00:00",
          "1910-12-31T00:00:00",
          "1920-12-31T00:00:00",
          "1930-12-31T00:00:00",
          "1940-12-31T00:00:00",
          "1950-12-31T00:00:00",
          "1960-12-31T00:00:00",
          "1970-12-31T00:00:00",
          "1980-12-31T00:00:00",
          "1990-12-31T00:00:00",
          "2000-12-31T00:00:00",
          "2010-12-31T00:00:00",
          "2020-12-31T00:00:00"
         ],
         "y": [
          -0.016666666666666642,
          -0.27120833333333333,
          -0.5425083333333334,
          -0.22575833333333337,
          -0.5576916666666667,
          -0.3858916666666667,
          -0.6148916666666665,
          -0.14875000000000002,
          -0.4419083333333332,
          -0.605691666666667,
          -0.3570666666666667,
          -0.354525,
          -0.09727500000000004,
          -0.14509166666666667,
          -0.09205833333333334,
          0.0836916666666667,
          -0.012641666666666633,
          -0.10961666666666663,
          0.12229166666666651,
          0.35785,
          0.7548666666666667,
          1.0251999999999997,
          1.1320312500000003
         ]
        },
        {
         "line": {
          "color": "grey"
         },
         "name": "Denmark",
         "opacity": 0.1,
         "type": "scatter",
         "x": [
          "1800-12-31T00:00:00",
          "1810-12-31T00:00:00",
          "1820-12-31T00:00:00",
          "1830-12-31T00:00:00",
          "1840-12-31T00:00:00",
          "1850-12-31T00:00:00",
          "1860-12-31T00:00:00",
          "1870-12-31T00:00:00",
          "1880-12-31T00:00:00",
          "1890-12-31T00:00:00",
          "1900-12-31T00:00:00",
          "1910-12-31T00:00:00",
          "1920-12-31T00:00:00",
          "1930-12-31T00:00:00",
          "1940-12-31T00:00:00",
          "1950-12-31T00:00:00",
          "1960-12-31T00:00:00",
          "1970-12-31T00:00:00",
          "1980-12-31T00:00:00",
          "1990-12-31T00:00:00",
          "2000-12-31T00:00:00",
          "2010-12-31T00:00:00",
          "2020-12-31T00:00:00"
         ],
         "y": [
          -0.6887500000000001,
          -0.5418666666666668,
          -0.5032416666666667,
          -0.10006666666666666,
          -0.43695833333333334,
          -0.3944749999999999,
          -0.4262500000000004,
          -0.3023166666666666,
          -0.42658333333333326,
          -0.5258083333333332,
          -0.20465833333333325,
          -0.23421666666666663,
          -0.014725000000000028,
          -0.2394083333333334,
          0.29568333333333346,
          0.1288166666666667,
          0.007400000000000024,
          -0.21925000000000014,
          0.21183333333333343,
          0.30488333333333334,
          0.7695083333333329,
          1.1269999999999993,
          0.7963749999999998
         ]
        },
        {
         "line": {
          "color": "grey"
         },
         "name": "Djibouti",
         "opacity": 0.1,
         "type": "scatter",
         "x": [
          "1800-12-31T00:00:00",
          "1810-12-31T00:00:00",
          "1820-12-31T00:00:00",
          "1830-12-31T00:00:00",
          "1840-12-31T00:00:00",
          "1850-12-31T00:00:00",
          "1860-12-31T00:00:00",
          "1870-12-31T00:00:00",
          "1880-12-31T00:00:00",
          "1890-12-31T00:00:00",
          "1900-12-31T00:00:00",
          "1910-12-31T00:00:00",
          "1920-12-31T00:00:00",
          "1930-12-31T00:00:00",
          "1940-12-31T00:00:00",
          "1950-12-31T00:00:00",
          "1960-12-31T00:00:00",
          "1970-12-31T00:00:00",
          "1980-12-31T00:00:00",
          "1990-12-31T00:00:00",
          "2000-12-31T00:00:00",
          "2010-12-31T00:00:00",
          "2020-12-31T00:00:00"
         ],
         "y": [
          null,
          null,
          null,
          null,
          null,
          null,
          null,
          -0.5401666666666666,
          -0.2918181818181817,
          -0.3275630252100841,
          -0.2528916666666667,
          -0.3251000000000001,
          -0.2524916666666668,
          -0.2637583333333335,
          -0.1543833333333334,
          0.16410000000000005,
          -0.14302499999999987,
          -0.004233333333333328,
          0.14720833333333333,
          0.21765833333333326,
          0.49479166666666685,
          0.8902583333333334,
          1.1882187499999999
         ]
        },
        {
         "line": {
          "color": "grey"
         },
         "name": "Dominica",
         "opacity": 0.1,
         "type": "scatter",
         "x": [
          "1800-12-31T00:00:00",
          "1810-12-31T00:00:00",
          "1820-12-31T00:00:00",
          "1830-12-31T00:00:00",
          "1840-12-31T00:00:00",
          "1850-12-31T00:00:00",
          "1860-12-31T00:00:00",
          "1870-12-31T00:00:00",
          "1880-12-31T00:00:00",
          "1890-12-31T00:00:00",
          "1900-12-31T00:00:00",
          "1910-12-31T00:00:00",
          "1920-12-31T00:00:00",
          "1930-12-31T00:00:00",
          "1940-12-31T00:00:00",
          "1950-12-31T00:00:00",
          "1960-12-31T00:00:00",
          "1970-12-31T00:00:00",
          "1980-12-31T00:00:00",
          "1990-12-31T00:00:00",
          "2000-12-31T00:00:00",
          "2010-12-31T00:00:00",
          "2020-12-31T00:00:00"
         ],
         "y": [
          null,
          null,
          null,
          -0.36184615384615376,
          null,
          -0.705927536231884,
          -0.7484916666666669,
          -0.620975,
          -0.48213333333333336,
          -0.7542916666666667,
          -0.5644916666666666,
          -0.5484166666666666,
          -0.5623333333333334,
          -0.3517666666666667,
          -0.2343500000000001,
          -0.19678333333333342,
          0.026116666666666667,
          0.01603333333333331,
          -0.04214999999999999,
          0.17788333333333328,
          0.41110833333333324,
          0.6870083333333332,
          0.6843437500000001
         ]
        },
        {
         "line": {
          "color": "grey"
         },
         "name": "Dominican Republic",
         "opacity": 0.1,
         "type": "scatter",
         "x": [
          "1800-12-31T00:00:00",
          "1810-12-31T00:00:00",
          "1820-12-31T00:00:00",
          "1830-12-31T00:00:00",
          "1840-12-31T00:00:00",
          "1850-12-31T00:00:00",
          "1860-12-31T00:00:00",
          "1870-12-31T00:00:00",
          "1880-12-31T00:00:00",
          "1890-12-31T00:00:00",
          "1900-12-31T00:00:00",
          "1910-12-31T00:00:00",
          "1920-12-31T00:00:00",
          "1930-12-31T00:00:00",
          "1940-12-31T00:00:00",
          "1950-12-31T00:00:00",
          "1960-12-31T00:00:00",
          "1970-12-31T00:00:00",
          "1980-12-31T00:00:00",
          "1990-12-31T00:00:00",
          "2000-12-31T00:00:00",
          "2010-12-31T00:00:00",
          "2020-12-31T00:00:00"
         ],
         "y": [
          null,
          null,
          null,
          -0.13628915662650606,
          -0.8439054054054052,
          -0.7526666666666667,
          -0.6688833333333333,
          -0.5524166666666669,
          -0.3986833333333333,
          -0.7157416666666665,
          -0.4645583333333334,
          -0.4787416666666665,
          -0.45618333333333355,
          -0.2895750000000001,
          -0.1812,
          -0.0754833333333333,
          0.0020500000000000175,
          0.00876666666666666,
          -0.010791666666666668,
          0.25343333333333334,
          0.41221666666666656,
          0.6992749999999999,
          0.5061515151515151
         ]
        },
        {
         "line": {
          "color": "grey"
         },
         "name": "Ecuador",
         "opacity": 0.1,
         "type": "scatter",
         "x": [
          "1800-12-31T00:00:00",
          "1810-12-31T00:00:00",
          "1820-12-31T00:00:00",
          "1830-12-31T00:00:00",
          "1840-12-31T00:00:00",
          "1850-12-31T00:00:00",
          "1860-12-31T00:00:00",
          "1870-12-31T00:00:00",
          "1880-12-31T00:00:00",
          "1890-12-31T00:00:00",
          "1900-12-31T00:00:00",
          "1910-12-31T00:00:00",
          "1920-12-31T00:00:00",
          "1930-12-31T00:00:00",
          "1940-12-31T00:00:00",
          "1950-12-31T00:00:00",
          "1960-12-31T00:00:00",
          "1970-12-31T00:00:00",
          "1980-12-31T00:00:00",
          "1990-12-31T00:00:00",
          "2000-12-31T00:00:00",
          "2010-12-31T00:00:00",
          "2020-12-31T00:00:00"
         ],
         "y": [
          null,
          null,
          null,
          null,
          null,
          null,
          null,
          -0.4624999999999998,
          null,
          -0.8670266666666667,
          -0.5845833333333332,
          -0.6236666666666669,
          -0.4432750000000001,
          -0.28608333333333336,
          -0.22893333333333324,
          -0.03520833333333337,
          -0.08104166666666665,
          0.031433333333333355,
          0.04964166666666668,
          0.2876583333333335,
          0.4718416666666665,
          0.554975,
          0.36700000000000005
         ]
        },
        {
         "line": {
          "color": "grey"
         },
         "name": "Egypt",
         "opacity": 0.1,
         "type": "scatter",
         "x": [
          "1800-12-31T00:00:00",
          "1810-12-31T00:00:00",
          "1820-12-31T00:00:00",
          "1830-12-31T00:00:00",
          "1840-12-31T00:00:00",
          "1850-12-31T00:00:00",
          "1860-12-31T00:00:00",
          "1870-12-31T00:00:00",
          "1880-12-31T00:00:00",
          "1890-12-31T00:00:00",
          "1900-12-31T00:00:00",
          "1910-12-31T00:00:00",
          "1920-12-31T00:00:00",
          "1930-12-31T00:00:00",
          "1940-12-31T00:00:00",
          "1950-12-31T00:00:00",
          "1960-12-31T00:00:00",
          "1970-12-31T00:00:00",
          "1980-12-31T00:00:00",
          "1990-12-31T00:00:00",
          "2000-12-31T00:00:00",
          "2010-12-31T00:00:00",
          "2020-12-31T00:00:00"
         ],
         "y": [
          null,
          null,
          -1.310454545454545,
          -0.5385948275862069,
          -1.0939406779661023,
          -0.6764416666666663,
          -0.6323166666666669,
          -0.5352666666666668,
          -0.49457500000000004,
          -0.6776666666666664,
          -0.49872500000000003,
          -0.5509333333333333,
          -0.46039166666666653,
          -0.1650916666666666,
          0.0005250000000000328,
          -0.23585000000000006,
          0.09439166666666665,
          -0.02369999999999998,
          -0.07067499999999995,
          -0.09996666666666666,
          0.2790666666666667,
          0.8386833333333336,
          0.7040624999999999
         ]
        },
        {
         "line": {
          "color": "grey"
         },
         "name": "El Salvador",
         "opacity": 0.1,
         "type": "scatter",
         "x": [
          "1800-12-31T00:00:00",
          "1810-12-31T00:00:00",
          "1820-12-31T00:00:00",
          "1830-12-31T00:00:00",
          "1840-12-31T00:00:00",
          "1850-12-31T00:00:00",
          "1860-12-31T00:00:00",
          "1870-12-31T00:00:00",
          "1880-12-31T00:00:00",
          "1890-12-31T00:00:00",
          "1900-12-31T00:00:00",
          "1910-12-31T00:00:00",
          "1920-12-31T00:00:00",
          "1930-12-31T00:00:00",
          "1940-12-31T00:00:00",
          "1950-12-31T00:00:00",
          "1960-12-31T00:00:00",
          "1970-12-31T00:00:00",
          "1980-12-31T00:00:00",
          "1990-12-31T00:00:00",
          "2000-12-31T00:00:00",
          "2010-12-31T00:00:00",
          "2020-12-31T00:00:00"
         ],
         "y": [
          null,
          null,
          null,
          null,
          -1.0574772727272725,
          -0.6945739130434778,
          -0.8261750000000002,
          -0.5843083333333332,
          -0.4734333333333332,
          -0.7726833333333335,
          -0.4514666666666666,
          -0.7404500000000004,
          -0.38807499999999967,
          -0.13416666666666663,
          -0.19413333333333338,
          -0.010000000000000035,
          0.04218333333333334,
          -0.09275833333333332,
          0.05063333333333332,
          0.19528333333333328,
          0.5399333333333336,
          0.44793333333333335,
          0.41718181818181826
         ]
        },
        {
         "line": {
          "color": "grey"
         },
         "name": "Equatorial Guinea",
         "opacity": 0.1,
         "type": "scatter",
         "x": [
          "1800-12-31T00:00:00",
          "1810-12-31T00:00:00",
          "1820-12-31T00:00:00",
          "1830-12-31T00:00:00",
          "1840-12-31T00:00:00",
          "1850-12-31T00:00:00",
          "1860-12-31T00:00:00",
          "1870-12-31T00:00:00",
          "1880-12-31T00:00:00",
          "1890-12-31T00:00:00",
          "1900-12-31T00:00:00",
          "1910-12-31T00:00:00",
          "1920-12-31T00:00:00",
          "1930-12-31T00:00:00",
          "1940-12-31T00:00:00",
          "1950-12-31T00:00:00",
          "1960-12-31T00:00:00",
          "1970-12-31T00:00:00",
          "1980-12-31T00:00:00",
          "1990-12-31T00:00:00",
          "2000-12-31T00:00:00",
          "2010-12-31T00:00:00",
          "2020-12-31T00:00:00"
         ],
         "y": [
          null,
          null,
          null,
          null,
          null,
          null,
          -0.7538536585365855,
          -0.8780714285714286,
          -0.6550454545454548,
          -0.8303916666666668,
          -0.7080249999999996,
          -0.6183000000000002,
          -0.17924166666666666,
          -0.10525833333333331,
          0.1257833333333334,
          0.25625,
          -0.053166666666666626,
          0.032625,
          0.02054999999999997,
          0.09890833333333333,
          0.29587499999999994,
          0.6275750000000002,
          0.5085625
         ]
        },
        {
         "line": {
          "color": "grey"
         },
         "name": "Eritrea",
         "opacity": 0.1,
         "type": "scatter",
         "x": [
          "1800-12-31T00:00:00",
          "1810-12-31T00:00:00",
          "1820-12-31T00:00:00",
          "1830-12-31T00:00:00",
          "1840-12-31T00:00:00",
          "1850-12-31T00:00:00",
          "1860-12-31T00:00:00",
          "1870-12-31T00:00:00",
          "1880-12-31T00:00:00",
          "1890-12-31T00:00:00",
          "1900-12-31T00:00:00",
          "1910-12-31T00:00:00",
          "1920-12-31T00:00:00",
          "1930-12-31T00:00:00",
          "1940-12-31T00:00:00",
          "1950-12-31T00:00:00",
          "1960-12-31T00:00:00",
          "1970-12-31T00:00:00",
          "1980-12-31T00:00:00",
          "1990-12-31T00:00:00",
          "2000-12-31T00:00:00",
          "2010-12-31T00:00:00",
          "2020-12-31T00:00:00"
         ],
         "y": [
          null,
          null,
          null,
          null,
          null,
          null,
          null,
          -0.47208333333333335,
          -0.35004411764705884,
          -0.3645583333333332,
          -0.3257166666666667,
          -0.4116666666666664,
          -0.4096000000000001,
          -0.11922499999999991,
          -0.08624166666666663,
          0.05440833333333332,
          0.04084999999999999,
          -0.097575,
          0.05679166666666666,
          0.11277499999999999,
          0.3374,
          0.8557416666666666,
          1.0193125
         ]
        },
        {
         "line": {
          "color": "grey"
         },
         "name": "Estonia",
         "opacity": 0.1,
         "type": "scatter",
         "x": [
          "1800-12-31T00:00:00",
          "1810-12-31T00:00:00",
          "1820-12-31T00:00:00",
          "1830-12-31T00:00:00",
          "1840-12-31T00:00:00",
          "1850-12-31T00:00:00",
          "1860-12-31T00:00:00",
          "1870-12-31T00:00:00",
          "1880-12-31T00:00:00",
          "1890-12-31T00:00:00",
          "1900-12-31T00:00:00",
          "1910-12-31T00:00:00",
          "1920-12-31T00:00:00",
          "1930-12-31T00:00:00",
          "1940-12-31T00:00:00",
          "1950-12-31T00:00:00",
          "1960-12-31T00:00:00",
          "1970-12-31T00:00:00",
          "1980-12-31T00:00:00",
          "1990-12-31T00:00:00",
          "2000-12-31T00:00:00",
          "2010-12-31T00:00:00",
          "2020-12-31T00:00:00"
         ],
         "y": [
          -0.7022499999999999,
          -0.7684833333333333,
          -0.6425916666666667,
          -0.028825000000000045,
          -0.6558916666666664,
          -0.5428666666666667,
          -0.3376583333333333,
          -0.6172999999999998,
          -0.5571333333333335,
          -0.3188833333333335,
          -0.329675,
          -0.17416666666666672,
          -0.12592500000000006,
          -0.09715000000000006,
          0.555308333333334,
          0.0027750000000000257,
          -0.055266666666666665,
          -0.19753333333333337,
          0.25284166666666674,
          0.45145833333333324,
          0.9041416666666666,
          1.2157666666666662,
          1.24125
         ]
        },
        {
         "line": {
          "color": "grey"
         },
         "name": "Ethiopia",
         "opacity": 0.1,
         "type": "scatter",
         "x": [
          "1800-12-31T00:00:00",
          "1810-12-31T00:00:00",
          "1820-12-31T00:00:00",
          "1830-12-31T00:00:00",
          "1840-12-31T00:00:00",
          "1850-12-31T00:00:00",
          "1860-12-31T00:00:00",
          "1870-12-31T00:00:00",
          "1880-12-31T00:00:00",
          "1890-12-31T00:00:00",
          "1900-12-31T00:00:00",
          "1910-12-31T00:00:00",
          "1920-12-31T00:00:00",
          "1930-12-31T00:00:00",
          "1940-12-31T00:00:00",
          "1950-12-31T00:00:00",
          "1960-12-31T00:00:00",
          "1970-12-31T00:00:00",
          "1980-12-31T00:00:00",
          "1990-12-31T00:00:00",
          "2000-12-31T00:00:00",
          "2010-12-31T00:00:00",
          "2020-12-31T00:00:00"
         ],
         "y": [
          null,
          null,
          null,
          null,
          null,
          -0.770818181818182,
          -0.44210000000000005,
          -0.6060833333333333,
          -0.3235090909090909,
          -0.4480924369747899,
          -0.28074999999999994,
          -0.3543666666666668,
          -0.2595499999999999,
          -0.2622833333333334,
          -0.03140000000000001,
          0.05928333333333321,
          0.002541666666666663,
          -0.10900000000000003,
          0.10650833333333333,
          0.23365,
          0.36770833333333336,
          0.8073250000000002,
          1.06425
         ]
        },
        {
         "line": {
          "color": "grey"
         },
         "name": "Faeroe Islands",
         "opacity": 0.1,
         "type": "scatter",
         "x": [
          "1800-12-31T00:00:00",
          "1810-12-31T00:00:00",
          "1820-12-31T00:00:00",
          "1830-12-31T00:00:00",
          "1840-12-31T00:00:00",
          "1850-12-31T00:00:00",
          "1860-12-31T00:00:00",
          "1870-12-31T00:00:00",
          "1880-12-31T00:00:00",
          "1890-12-31T00:00:00",
          "1900-12-31T00:00:00",
          "1910-12-31T00:00:00",
          "1920-12-31T00:00:00",
          "1930-12-31T00:00:00",
          "1940-12-31T00:00:00",
          "1950-12-31T00:00:00",
          "1960-12-31T00:00:00",
          "1970-12-31T00:00:00",
          "1980-12-31T00:00:00",
          "1990-12-31T00:00:00",
          "2000-12-31T00:00:00",
          "2010-12-31T00:00:00",
          "2020-12-31T00:00:00"
         ],
         "y": [
          -0.6001666666666668,
          -0.6385416666666665,
          -0.7946416666666668,
          -0.10673333333333335,
          -0.6041000000000004,
          -0.3812250000000001,
          -0.3694083333333336,
          -0.3720833333333334,
          -0.30246666666666666,
          -0.5233249999999997,
          -0.35666666666666663,
          -0.4567249999999999,
          -0.4008999999999999,
          -0.20732499999999993,
          0.3883333333333335,
          0.308925,
          0.13481666666666667,
          -0.18666666666666665,
          0.05181666666666664,
          0.03364166666666661,
          0.25365833333333343,
          0.7820499999999997,
          0.45540625
         ]
        },
        {
         "line": {
          "color": "grey"
         },
         "name": "Falkland Islands Malvinas",
         "opacity": 0.1,
         "type": "scatter",
         "x": [
          "1800-12-31T00:00:00",
          "1810-12-31T00:00:00",
          "1820-12-31T00:00:00",
          "1830-12-31T00:00:00",
          "1840-12-31T00:00:00",
          "1850-12-31T00:00:00",
          "1860-12-31T00:00:00",
          "1870-12-31T00:00:00",
          "1880-12-31T00:00:00",
          "1890-12-31T00:00:00",
          "1900-12-31T00:00:00",
          "1910-12-31T00:00:00",
          "1920-12-31T00:00:00",
          "1930-12-31T00:00:00",
          "1940-12-31T00:00:00",
          "1950-12-31T00:00:00",
          "1960-12-31T00:00:00",
          "1970-12-31T00:00:00",
          "1980-12-31T00:00:00",
          "1990-12-31T00:00:00",
          "2000-12-31T00:00:00",
          "2010-12-31T00:00:00",
          "2020-12-31T00:00:00"
         ],
         "y": [
          null,
          null,
          null,
          null,
          null,
          null,
          -0.8865,
          -0.5702521008403363,
          -0.6223999999999996,
          -0.8945423728813556,
          -0.4805999999999998,
          -0.48880833333333323,
          -0.26135,
          -0.5193999999999999,
          -0.3107583333333333,
          -0.03352499999999994,
          -0.026658333333333332,
          -0.004399999999999968,
          0.03110833333333331,
          0.3995083333333333,
          0.36336666666666667,
          0.43574166666666664,
          0.7648437499999999
         ]
        },
        {
         "line": {
          "color": "grey"
         },
         "name": "Fiji",
         "opacity": 0.1,
         "type": "scatter",
         "x": [
          "1800-12-31T00:00:00",
          "1810-12-31T00:00:00",
          "1820-12-31T00:00:00",
          "1830-12-31T00:00:00",
          "1840-12-31T00:00:00",
          "1850-12-31T00:00:00",
          "1860-12-31T00:00:00",
          "1870-12-31T00:00:00",
          "1880-12-31T00:00:00",
          "1890-12-31T00:00:00",
          "1900-12-31T00:00:00",
          "1910-12-31T00:00:00",
          "1920-12-31T00:00:00",
          "1930-12-31T00:00:00",
          "1940-12-31T00:00:00",
          "1950-12-31T00:00:00",
          "1960-12-31T00:00:00",
          "1970-12-31T00:00:00",
          "1980-12-31T00:00:00",
          "1990-12-31T00:00:00",
          "2000-12-31T00:00:00",
          "2010-12-31T00:00:00",
          "2020-12-31T00:00:00"
         ],
         "y": [
          null,
          null,
          null,
          null,
          null,
          null,
          null,
          -0.732970588235294,
          -0.501433962264151,
          -0.9173098591549297,
          -0.579825,
          -0.6512333333333333,
          -0.4964000000000002,
          -0.38872500000000004,
          -0.088025,
          -0.05807499999999989,
          4.999999999999588e-05,
          -0.1554333333333334,
          0.1553833333333333,
          0.19304999999999997,
          0.3098249999999999,
          0.4633833333333333,
          0.45637500000000003
         ]
        },
        {
         "line": {
          "color": "grey"
         },
         "name": "Finland",
         "opacity": 0.1,
         "type": "scatter",
         "x": [
          "1800-12-31T00:00:00",
          "1810-12-31T00:00:00",
          "1820-12-31T00:00:00",
          "1830-12-31T00:00:00",
          "1840-12-31T00:00:00",
          "1850-12-31T00:00:00",
          "1860-12-31T00:00:00",
          "1870-12-31T00:00:00",
          "1880-12-31T00:00:00",
          "1890-12-31T00:00:00",
          "1900-12-31T00:00:00",
          "1910-12-31T00:00:00",
          "1920-12-31T00:00:00",
          "1930-12-31T00:00:00",
          "1940-12-31T00:00:00",
          "1950-12-31T00:00:00",
          "1960-12-31T00:00:00",
          "1970-12-31T00:00:00",
          "1980-12-31T00:00:00",
          "1990-12-31T00:00:00",
          "2000-12-31T00:00:00",
          "2010-12-31T00:00:00",
          "2020-12-31T00:00:00"
         ],
         "y": [
          -0.5435,
          -0.9180083333333336,
          -0.751691666666667,
          -0.01389166666666659,
          -0.7499916666666666,
          -0.47661666666666663,
          -0.42724999999999996,
          -0.8070583333333334,
          -0.7320083333333331,
          -0.25548333333333323,
          -0.6365416666666668,
          -0.23071666666666665,
          -0.28611666666666674,
          -0.021933333333333322,
          0.7919916666666665,
          0.25045,
          0.044825000000000004,
          -0.20577499999999996,
          0.16099166666666667,
          0.19569166666666662,
          0.7824333333333333,
          1.1313666666666662,
          1.4013750000000005
         ]
        },
        {
         "line": {
          "color": "grey"
         },
         "name": "France",
         "opacity": 0.1,
         "type": "scatter",
         "x": [
          "1800-12-31T00:00:00",
          "1810-12-31T00:00:00",
          "1820-12-31T00:00:00",
          "1830-12-31T00:00:00",
          "1840-12-31T00:00:00",
          "1850-12-31T00:00:00",
          "1860-12-31T00:00:00",
          "1870-12-31T00:00:00",
          "1880-12-31T00:00:00",
          "1890-12-31T00:00:00",
          "1900-12-31T00:00:00",
          "1910-12-31T00:00:00",
          "1920-12-31T00:00:00",
          "1930-12-31T00:00:00",
          "1940-12-31T00:00:00",
          "1950-12-31T00:00:00",
          "1960-12-31T00:00:00",
          "1970-12-31T00:00:00",
          "1980-12-31T00:00:00",
          "1990-12-31T00:00:00",
          "2000-12-31T00:00:00",
          "2010-12-31T00:00:00",
          "2020-12-31T00:00:00"
         ],
         "y": [
          0.17108333333333325,
          -0.2994583333333333,
          -0.5728666666666666,
          -0.10689166666666668,
          -0.2882416666666668,
          -0.33626666666666655,
          -0.4712,
          -0.03763333333333336,
          -0.3122000000000001,
          -0.6976750000000002,
          -0.17962500000000006,
          -0.3945250000000002,
          -0.21295833333333328,
          0.05702500000000001,
          -0.07576666666666668,
          0.3259666666666667,
          0.09006666666666666,
          -0.05750833333333335,
          -0.03251666666666667,
          0.46385,
          0.8215749999999999,
          0.9576000000000007,
          1.0140625
         ]
        },
        {
         "line": {
          "color": "grey"
         },
         "name": "French Guiana",
         "opacity": 0.1,
         "type": "scatter",
         "x": [
          "1800-12-31T00:00:00",
          "1810-12-31T00:00:00",
          "1820-12-31T00:00:00",
          "1830-12-31T00:00:00",
          "1840-12-31T00:00:00",
          "1850-12-31T00:00:00",
          "1860-12-31T00:00:00",
          "1870-12-31T00:00:00",
          "1880-12-31T00:00:00",
          "1890-12-31T00:00:00",
          "1900-12-31T00:00:00",
          "1910-12-31T00:00:00",
          "1920-12-31T00:00:00",
          "1930-12-31T00:00:00",
          "1940-12-31T00:00:00",
          "1950-12-31T00:00:00",
          "1960-12-31T00:00:00",
          "1970-12-31T00:00:00",
          "1980-12-31T00:00:00",
          "1990-12-31T00:00:00",
          "2000-12-31T00:00:00",
          "2010-12-31T00:00:00",
          "2020-12-31T00:00:00"
         ],
         "y": [
          null,
          null,
          null,
          -0.38980000000000015,
          null,
          -0.6401449275362318,
          -0.7628333333333331,
          -0.6462666666666664,
          -0.5420249999999999,
          -0.7888660714285715,
          -0.6436083333333327,
          -0.5345499999999999,
          -0.5067416666666664,
          -0.43260833333333315,
          -0.14900833333333338,
          -0.162925,
          0.03153333333333333,
          0.03880000000000001,
          -0.07031666666666661,
          0.13231666666666667,
          0.40805000000000013,
          0.725475,
          0.6963437500000002
         ]
        },
        {
         "line": {
          "color": "grey"
         },
         "name": "French Polynesia",
         "opacity": 0.1,
         "type": "scatter",
         "x": [
          "1800-12-31T00:00:00",
          "1810-12-31T00:00:00",
          "1820-12-31T00:00:00",
          "1830-12-31T00:00:00",
          "1840-12-31T00:00:00",
          "1850-12-31T00:00:00",
          "1860-12-31T00:00:00",
          "1870-12-31T00:00:00",
          "1880-12-31T00:00:00",
          "1890-12-31T00:00:00",
          "1900-12-31T00:00:00",
          "1910-12-31T00:00:00",
          "1920-12-31T00:00:00",
          "1930-12-31T00:00:00",
          "1940-12-31T00:00:00",
          "1950-12-31T00:00:00",
          "1960-12-31T00:00:00",
          "1970-12-31T00:00:00",
          "1980-12-31T00:00:00",
          "1990-12-31T00:00:00",
          "2000-12-31T00:00:00",
          "2010-12-31T00:00:00",
          "2020-12-31T00:00:00"
         ],
         "y": [
          null,
          null,
          null,
          null,
          null,
          null,
          null,
          null,
          -0.26493478260869563,
          -0.8040336134453785,
          -0.5931785714285711,
          -0.5350583333333332,
          -0.512948275862069,
          -0.23255084745762716,
          -0.1218833333333334,
          0.02459999999999997,
          0.011258333333333344,
          -0.015724999999999927,
          0.004458333333333337,
          0.29305000000000003,
          0.43435833333333335,
          0.6079416666666667,
          0.47415624999999995
         ]
        },
        {
         "line": {
          "color": "grey"
         },
         "name": "Gabon",
         "opacity": 0.1,
         "type": "scatter",
         "x": [
          "1800-12-31T00:00:00",
          "1810-12-31T00:00:00",
          "1820-12-31T00:00:00",
          "1830-12-31T00:00:00",
          "1840-12-31T00:00:00",
          "1850-12-31T00:00:00",
          "1860-12-31T00:00:00",
          "1870-12-31T00:00:00",
          "1880-12-31T00:00:00",
          "1890-12-31T00:00:00",
          "1900-12-31T00:00:00",
          "1910-12-31T00:00:00",
          "1920-12-31T00:00:00",
          "1930-12-31T00:00:00",
          "1940-12-31T00:00:00",
          "1950-12-31T00:00:00",
          "1960-12-31T00:00:00",
          "1970-12-31T00:00:00",
          "1980-12-31T00:00:00",
          "1990-12-31T00:00:00",
          "2000-12-31T00:00:00",
          "2010-12-31T00:00:00",
          "2020-12-31T00:00:00"
         ],
         "y": [
          null,
          null,
          null,
          null,
          null,
          null,
          -0.7489268292682927,
          -0.8859285714285716,
          -0.6545568181818182,
          -0.7923000000000002,
          -0.6416916666666669,
          -0.5586583333333334,
          -0.23401666666666668,
          -0.113675,
          0.09167499999999999,
          0.2714333333333333,
          -0.018624999999999996,
          0.022491666666666656,
          -0.003791666666666716,
          0.13428333333333334,
          0.32181666666666675,
          0.6166416666666665,
          0.43934375000000014
         ]
        },
        {
         "line": {
          "color": "grey"
         },
         "name": "Gambia",
         "opacity": 0.1,
         "type": "scatter",
         "x": [
          "1800-12-31T00:00:00",
          "1810-12-31T00:00:00",
          "1820-12-31T00:00:00",
          "1830-12-31T00:00:00",
          "1840-12-31T00:00:00",
          "1850-12-31T00:00:00",
          "1860-12-31T00:00:00",
          "1870-12-31T00:00:00",
          "1880-12-31T00:00:00",
          "1890-12-31T00:00:00",
          "1900-12-31T00:00:00",
          "1910-12-31T00:00:00",
          "1920-12-31T00:00:00",
          "1930-12-31T00:00:00",
          "1940-12-31T00:00:00",
          "1950-12-31T00:00:00",
          "1960-12-31T00:00:00",
          "1970-12-31T00:00:00",
          "1980-12-31T00:00:00",
          "1990-12-31T00:00:00",
          "2000-12-31T00:00:00",
          "2010-12-31T00:00:00",
          "2020-12-31T00:00:00"
         ],
         "y": [
          null,
          null,
          null,
          null,
          null,
          -0.5946666666666667,
          -0.5868028169014083,
          -0.5484948453608248,
          -0.5833111111111111,
          -0.587957627118644,
          -0.12121666666666661,
          -0.43535,
          -0.24099166666666674,
          -0.10165000000000002,
          -0.03699166666666668,
          0.026783333333333326,
          -0.15103333333333335,
          0.07378333333333333,
          0.07723333333333332,
          0.4246333333333336,
          0.5785666666666668,
          0.7969000000000003,
          0.7167187499999998
         ]
        },
        {
         "line": {
          "color": "grey"
         },
         "name": "Georgia",
         "opacity": 0.1,
         "type": "scatter",
         "x": [
          "1800-12-31T00:00:00",
          "1810-12-31T00:00:00",
          "1820-12-31T00:00:00",
          "1830-12-31T00:00:00",
          "1840-12-31T00:00:00",
          "1850-12-31T00:00:00",
          "1860-12-31T00:00:00",
          "1870-12-31T00:00:00",
          "1880-12-31T00:00:00",
          "1890-12-31T00:00:00",
          "1900-12-31T00:00:00",
          "1910-12-31T00:00:00",
          "1920-12-31T00:00:00",
          "1930-12-31T00:00:00",
          "1940-12-31T00:00:00",
          "1950-12-31T00:00:00",
          "1960-12-31T00:00:00",
          "1970-12-31T00:00:00",
          "1980-12-31T00:00:00",
          "1990-12-31T00:00:00",
          "2000-12-31T00:00:00",
          "2010-12-31T00:00:00",
          "2020-12-31T00:00:00"
         ],
         "y": [
          null,
          -1.9923703703703703,
          -1.4035666666666675,
          -0.6423499999999998,
          -1.3464583333333333,
          -0.7614249999999998,
          -0.5852416666666667,
          -0.8981083333333336,
          -0.4021416666666665,
          -0.7137583333333332,
          -0.7688166666666667,
          -0.5922666666666668,
          -0.5130999999999999,
          -0.44858333333333333,
          -0.3295416666666669,
          -0.4330833333333333,
          -0.11899166666666662,
          0.19544166666666668,
          -0.07642500000000015,
          0.0670833333333334,
          0.3191083333333332,
          1.0188833333333336,
          0.86425
         ]
        },
        {
         "line": {
          "color": "grey"
         },
         "name": "Germany",
         "opacity": 0.1,
         "type": "scatter",
         "x": [
          "1800-12-31T00:00:00",
          "1810-12-31T00:00:00",
          "1820-12-31T00:00:00",
          "1830-12-31T00:00:00",
          "1840-12-31T00:00:00",
          "1850-12-31T00:00:00",
          "1860-12-31T00:00:00",
          "1870-12-31T00:00:00",
          "1880-12-31T00:00:00",
          "1890-12-31T00:00:00",
          "1900-12-31T00:00:00",
          "1910-12-31T00:00:00",
          "1920-12-31T00:00:00",
          "1930-12-31T00:00:00",
          "1940-12-31T00:00:00",
          "1950-12-31T00:00:00",
          "1960-12-31T00:00:00",
          "1970-12-31T00:00:00",
          "1980-12-31T00:00:00",
          "1990-12-31T00:00:00",
          "2000-12-31T00:00:00",
          "2010-12-31T00:00:00",
          "2020-12-31T00:00:00"
         ],
         "y": [
          -0.17666666666666672,
          -0.3784,
          -0.60425,
          -0.20879166666666665,
          -0.4289083333333333,
          -0.42915,
          -0.5869333333333333,
          -0.17742499999999997,
          -0.378175,
          -0.6506083333333336,
          -0.3160666666666667,
          -0.3581916666666668,
          -0.07645000000000003,
          -0.14905833333333343,
          -0.006541666666666572,
          0.13984166666666673,
          0.020816666666666667,
          -0.15144166666666667,
          0.1305583333333332,
          0.3721750000000001,
          0.7945583333333333,
          1.0284333333333333,
          0.9841562499999998
         ]
        },
        {
         "line": {
          "color": "grey"
         },
         "name": "Ghana",
         "opacity": 0.1,
         "type": "scatter",
         "x": [
          "1800-12-31T00:00:00",
          "1810-12-31T00:00:00",
          "1820-12-31T00:00:00",
          "1830-12-31T00:00:00",
          "1840-12-31T00:00:00",
          "1850-12-31T00:00:00",
          "1860-12-31T00:00:00",
          "1870-12-31T00:00:00",
          "1880-12-31T00:00:00",
          "1890-12-31T00:00:00",
          "1900-12-31T00:00:00",
          "1910-12-31T00:00:00",
          "1920-12-31T00:00:00",
          "1930-12-31T00:00:00",
          "1940-12-31T00:00:00",
          "1950-12-31T00:00:00",
          "1960-12-31T00:00:00",
          "1970-12-31T00:00:00",
          "1980-12-31T00:00:00",
          "1990-12-31T00:00:00",
          "2000-12-31T00:00:00",
          "2010-12-31T00:00:00",
          "2020-12-31T00:00:00"
         ],
         "y": [
          null,
          null,
          null,
          null,
          null,
          -0.6991250000000001,
          -0.6425000000000001,
          -0.8983571428571429,
          -0.5985604395604395,
          -0.7990849056603775,
          -0.7482833333333337,
          -0.6095833333333337,
          -0.05921666666666672,
          0.06411666666666668,
          0.08984166666666665,
          0.20000833333333337,
          -0.07251666666666672,
          0.0037249999999999835,
          0.06878333333333334,
          0.355925,
          0.3444666666666667,
          0.7441666666666668,
          0.65471875
         ]
        },
        {
         "line": {
          "color": "grey"
         },
         "name": "Greece",
         "opacity": 0.1,
         "type": "scatter",
         "x": [
          "1800-12-31T00:00:00",
          "1810-12-31T00:00:00",
          "1820-12-31T00:00:00",
          "1830-12-31T00:00:00",
          "1840-12-31T00:00:00",
          "1850-12-31T00:00:00",
          "1860-12-31T00:00:00",
          "1870-12-31T00:00:00",
          "1880-12-31T00:00:00",
          "1890-12-31T00:00:00",
          "1900-12-31T00:00:00",
          "1910-12-31T00:00:00",
          "1920-12-31T00:00:00",
          "1930-12-31T00:00:00",
          "1940-12-31T00:00:00",
          "1950-12-31T00:00:00",
          "1960-12-31T00:00:00",
          "1970-12-31T00:00:00",
          "1980-12-31T00:00:00",
          "1990-12-31T00:00:00",
          "2000-12-31T00:00:00",
          "2010-12-31T00:00:00",
          "2020-12-31T00:00:00"
         ],
         "y": [
          0.13100000000000006,
          -0.22991666666666669,
          -0.8879083333333332,
          -0.41346666666666654,
          -0.9131333333333329,
          -0.41943333333333344,
          -0.4700083333333335,
          -0.23072499999999999,
          -0.3605,
          -0.545183333333333,
          -0.37309166666666643,
          -0.41955833333333353,
          -0.23479166666666657,
          0.09057500000000002,
          0.020391666666666645,
          0.011966666666666658,
          0.11086666666666666,
          0.13969166666666674,
          -0.2505916666666666,
          0.010458333333333325,
          0.23422500000000007,
          0.751075,
          0.9174375
         ]
        },
        {
         "line": {
          "color": "grey"
         },
         "name": "Greenland",
         "opacity": 0.1,
         "type": "scatter",
         "x": [
          "1800-12-31T00:00:00",
          "1810-12-31T00:00:00",
          "1820-12-31T00:00:00",
          "1830-12-31T00:00:00",
          "1840-12-31T00:00:00",
          "1850-12-31T00:00:00",
          "1860-12-31T00:00:00",
          "1870-12-31T00:00:00",
          "1880-12-31T00:00:00",
          "1890-12-31T00:00:00",
          "1900-12-31T00:00:00",
          "1910-12-31T00:00:00",
          "1920-12-31T00:00:00",
          "1930-12-31T00:00:00",
          "1940-12-31T00:00:00",
          "1950-12-31T00:00:00",
          "1960-12-31T00:00:00",
          "1970-12-31T00:00:00",
          "1980-12-31T00:00:00",
          "1990-12-31T00:00:00",
          "2000-12-31T00:00:00",
          "2010-12-31T00:00:00",
          "2020-12-31T00:00:00"
         ],
         "y": [
          null,
          null,
          null,
          -0.23490624999999987,
          -0.9999416666666666,
          -0.630475,
          -0.6456333333333333,
          -0.9449833333333334,
          -0.30625833333333335,
          -1.3051666666666668,
          -1.1285666666666667,
          -0.7675833333333333,
          -0.7972666666666667,
          0.4017916666666667,
          1.1236416666666664,
          0.4192083333333336,
          0.22635833333333336,
          0.01843333333333329,
          -0.24484166666666654,
          -0.33864166666666684,
          0.16445833333333326,
          1.5241666666666673,
          1.3660312500000003
         ]
        },
        {
         "line": {
          "color": "grey"
         },
         "name": "Grenada",
         "opacity": 0.1,
         "type": "scatter",
         "x": [
          "1800-12-31T00:00:00",
          "1810-12-31T00:00:00",
          "1820-12-31T00:00:00",
          "1830-12-31T00:00:00",
          "1840-12-31T00:00:00",
          "1850-12-31T00:00:00",
          "1860-12-31T00:00:00",
          "1870-12-31T00:00:00",
          "1880-12-31T00:00:00",
          "1890-12-31T00:00:00",
          "1900-12-31T00:00:00",
          "1910-12-31T00:00:00",
          "1920-12-31T00:00:00",
          "1930-12-31T00:00:00",
          "1940-12-31T00:00:00",
          "1950-12-31T00:00:00",
          "1960-12-31T00:00:00",
          "1970-12-31T00:00:00",
          "1980-12-31T00:00:00",
          "1990-12-31T00:00:00",
          "2000-12-31T00:00:00",
          "2010-12-31T00:00:00",
          "2020-12-31T00:00:00"
         ],
         "y": [
          null,
          null,
          null,
          -0.41449230769230777,
          null,
          -0.7045362318840579,
          -0.7805000000000002,
          -0.6702083333333334,
          -0.515925,
          -0.7770833333333333,
          -0.5997499999999998,
          -0.5955250000000003,
          -0.587441666666667,
          -0.41074999999999995,
          -0.26190833333333335,
          -0.18808333333333335,
          0.010566666666666653,
          0.03327499999999999,
          -0.043766666666666725,
          0.14966666666666667,
          0.3756250000000001,
          0.6454916666666662,
          0.6442187500000001
         ]
        },
        {
         "line": {
          "color": "grey"
         },
         "name": "Guadeloupe",
         "opacity": 0.1,
         "type": "scatter",
         "x": [
          "1800-12-31T00:00:00",
          "1810-12-31T00:00:00",
          "1820-12-31T00:00:00",
          "1830-12-31T00:00:00",
          "1840-12-31T00:00:00",
          "1850-12-31T00:00:00",
          "1860-12-31T00:00:00",
          "1870-12-31T00:00:00",
          "1880-12-31T00:00:00",
          "1890-12-31T00:00:00",
          "1900-12-31T00:00:00",
          "1910-12-31T00:00:00",
          "1920-12-31T00:00:00",
          "1930-12-31T00:00:00",
          "1940-12-31T00:00:00",
          "1950-12-31T00:00:00",
          "1960-12-31T00:00:00",
          "1970-12-31T00:00:00",
          "1980-12-31T00:00:00",
          "1990-12-31T00:00:00",
          "2000-12-31T00:00:00",
          "2010-12-31T00:00:00",
          "2020-12-31T00:00:00"
         ],
         "y": [
          null,
          null,
          null,
          -0.32890769230769246,
          null,
          -0.7095217391304348,
          -0.7423833333333334,
          -0.6071833333333334,
          -0.47083333333333327,
          -0.7479999999999998,
          -0.5421083333333332,
          -0.5211833333333334,
          -0.5407583333333331,
          -0.3375166666666666,
          -0.22532499999999994,
          -0.194325,
          0.04988333333333335,
          -0.010308333333333329,
          -0.03954166666666669,
          0.18473333333333328,
          0.4230416666666667,
          0.7115499999999995,
          0.6825312500000001
         ]
        },
        {
         "line": {
          "color": "grey"
         },
         "name": "Guatemala",
         "opacity": 0.1,
         "type": "scatter",
         "x": [
          "1800-12-31T00:00:00",
          "1810-12-31T00:00:00",
          "1820-12-31T00:00:00",
          "1830-12-31T00:00:00",
          "1840-12-31T00:00:00",
          "1850-12-31T00:00:00",
          "1860-12-31T00:00:00",
          "1870-12-31T00:00:00",
          "1880-12-31T00:00:00",
          "1890-12-31T00:00:00",
          "1900-12-31T00:00:00",
          "1910-12-31T00:00:00",
          "1920-12-31T00:00:00",
          "1930-12-31T00:00:00",
          "1940-12-31T00:00:00",
          "1950-12-31T00:00:00",
          "1960-12-31T00:00:00",
          "1970-12-31T00:00:00",
          "1980-12-31T00:00:00",
          "1990-12-31T00:00:00",
          "2000-12-31T00:00:00",
          "2010-12-31T00:00:00",
          "2020-12-31T00:00:00"
         ],
         "y": [
          null,
          null,
          null,
          -0.30033333333333334,
          -1.1009506172839505,
          -0.6916166666666669,
          -0.8480916666666666,
          -0.5695750000000003,
          -0.4834083333333334,
          -0.7659999999999999,
          -0.44655,
          -0.7404333333333337,
          -0.40226666666666655,
          -0.1578333333333333,
          -0.16943333333333338,
          0.025616666666666687,
          0.025158333333333345,
          -0.08610000000000002,
          0.06095833333333334,
          0.14391666666666672,
          0.42576666666666685,
          0.40443333333333314,
          0.4672727272727274
         ]
        },
        {
         "line": {
          "color": "grey"
         },
         "name": "Guinea",
         "opacity": 0.1,
         "type": "scatter",
         "x": [
          "1800-12-31T00:00:00",
          "1810-12-31T00:00:00",
          "1820-12-31T00:00:00",
          "1830-12-31T00:00:00",
          "1840-12-31T00:00:00",
          "1850-12-31T00:00:00",
          "1860-12-31T00:00:00",
          "1870-12-31T00:00:00",
          "1880-12-31T00:00:00",
          "1890-12-31T00:00:00",
          "1900-12-31T00:00:00",
          "1910-12-31T00:00:00",
          "1920-12-31T00:00:00",
          "1930-12-31T00:00:00",
          "1940-12-31T00:00:00",
          "1950-12-31T00:00:00",
          "1960-12-31T00:00:00",
          "1970-12-31T00:00:00",
          "1980-12-31T00:00:00",
          "1990-12-31T00:00:00",
          "2000-12-31T00:00:00",
          "2010-12-31T00:00:00",
          "2020-12-31T00:00:00"
         ],
         "y": [
          null,
          null,
          null,
          null,
          null,
          -0.6758333333333333,
          -0.6738309859154928,
          -0.6380927835051546,
          -0.7031333333333334,
          -0.696906779661017,
          -0.4667583333333336,
          -0.4861416666666667,
          -0.20845000000000005,
          -0.19095833333333329,
          -0.08659166666666665,
          -0.009675000000000015,
          -0.08444166666666668,
          -0.0035166666666666658,
          0.08800833333333334,
          0.29226666666666656,
          0.41145833333333337,
          0.7906416666666668,
          0.6143125
         ]
        },
        {
         "line": {
          "color": "grey"
         },
         "name": "Guinea-Bissau",
         "opacity": 0.1,
         "type": "scatter",
         "x": [
          "1800-12-31T00:00:00",
          "1810-12-31T00:00:00",
          "1820-12-31T00:00:00",
          "1830-12-31T00:00:00",
          "1840-12-31T00:00:00",
          "1850-12-31T00:00:00",
          "1860-12-31T00:00:00",
          "1870-12-31T00:00:00",
          "1880-12-31T00:00:00",
          "1890-12-31T00:00:00",
          "1900-12-31T00:00:00",
          "1910-12-31T00:00:00",
          "1920-12-31T00:00:00",
          "1930-12-31T00:00:00",
          "1940-12-31T00:00:00",
          "1950-12-31T00:00:00",
          "1960-12-31T00:00:00",
          "1970-12-31T00:00:00",
          "1980-12-31T00:00:00",
          "1990-12-31T00:00:00",
          "2000-12-31T00:00:00",
          "2010-12-31T00:00:00",
          "2020-12-31T00:00:00"
         ],
         "y": [
          null,
          null,
          null,
          null,
          null,
          -0.6242500000000001,
          -0.6230422535211269,
          -0.5823402061855669,
          -0.6331999999999998,
          -0.627760683760684,
          -0.2221166666666667,
          -0.4345249999999997,
          -0.24469999999999997,
          -0.16070833333333334,
          -0.03082500000000003,
          0.0027250000000000004,
          -0.09672499999999998,
          0.030183333333333305,
          0.06648333333333334,
          0.3961666666666666,
          0.5523416666666666,
          0.7773083333333337,
          0.65828125
         ]
        },
        {
         "line": {
          "color": "grey"
         },
         "name": "Guyana",
         "opacity": 0.1,
         "type": "scatter",
         "x": [
          "1800-12-31T00:00:00",
          "1810-12-31T00:00:00",
          "1820-12-31T00:00:00",
          "1830-12-31T00:00:00",
          "1840-12-31T00:00:00",
          "1850-12-31T00:00:00",
          "1860-12-31T00:00:00",
          "1870-12-31T00:00:00",
          "1880-12-31T00:00:00",
          "1890-12-31T00:00:00",
          "1900-12-31T00:00:00",
          "1910-12-31T00:00:00",
          "1920-12-31T00:00:00",
          "1930-12-31T00:00:00",
          "1940-12-31T00:00:00",
          "1950-12-31T00:00:00",
          "1960-12-31T00:00:00",
          "1970-12-31T00:00:00",
          "1980-12-31T00:00:00",
          "1990-12-31T00:00:00",
          "2000-12-31T00:00:00",
          "2010-12-31T00:00:00",
          "2020-12-31T00:00:00"
         ],
         "y": [
          null,
          null,
          null,
          -0.41616923076923085,
          null,
          -0.6954347826086961,
          -0.7710916666666667,
          -0.6771166666666666,
          -0.5446333333333331,
          -0.8236696428571427,
          -0.6676749999999999,
          -0.5684833333333332,
          -0.550075,
          -0.4645416666666666,
          -0.1776500000000001,
          -0.15419166666666667,
          0.024175,
          0.07296666666666664,
          -0.09705833333333326,
          0.135725,
          0.37452500000000005,
          0.6486750000000002,
          0.58571875
         ]
        },
        {
         "line": {
          "color": "grey"
         },
         "name": "Haiti",
         "opacity": 0.1,
         "type": "scatter",
         "x": [
          "1800-12-31T00:00:00",
          "1810-12-31T00:00:00",
          "1820-12-31T00:00:00",
          "1830-12-31T00:00:00",
          "1840-12-31T00:00:00",
          "1850-12-31T00:00:00",
          "1860-12-31T00:00:00",
          "1870-12-31T00:00:00",
          "1880-12-31T00:00:00",
          "1890-12-31T00:00:00",
          "1900-12-31T00:00:00",
          "1910-12-31T00:00:00",
          "1920-12-31T00:00:00",
          "1930-12-31T00:00:00",
          "1940-12-31T00:00:00",
          "1950-12-31T00:00:00",
          "1960-12-31T00:00:00",
          "1970-12-31T00:00:00",
          "1980-12-31T00:00:00",
          "1990-12-31T00:00:00",
          "2000-12-31T00:00:00",
          "2010-12-31T00:00:00",
          "2020-12-31T00:00:00"
         ],
         "y": [
          null,
          null,
          null,
          -0.10491566265060237,
          -0.8224933333333334,
          -0.7259333333333337,
          -0.6644666666666666,
          -0.5347250000000001,
          -0.36654166666666643,
          -0.6916166666666665,
          -0.458866666666667,
          -0.48160833333333347,
          -0.4506333333333334,
          -0.23162500000000005,
          -0.16149999999999995,
          -0.055874999999999994,
          -0.022174999999999993,
          0.014374999999999987,
          0.007833333333333376,
          0.2594000000000001,
          0.42926666666666674,
          0.6432833333333333,
          0.476
         ]
        },
        {
         "line": {
          "color": "grey"
         },
         "name": "Honduras",
         "opacity": 0.1,
         "type": "scatter",
         "x": [
          "1800-12-31T00:00:00",
          "1810-12-31T00:00:00",
          "1820-12-31T00:00:00",
          "1830-12-31T00:00:00",
          "1840-12-31T00:00:00",
          "1850-12-31T00:00:00",
          "1860-12-31T00:00:00",
          "1870-12-31T00:00:00",
          "1880-12-31T00:00:00",
          "1890-12-31T00:00:00",
          "1900-12-31T00:00:00",
          "1910-12-31T00:00:00",
          "1920-12-31T00:00:00",
          "1930-12-31T00:00:00",
          "1940-12-31T00:00:00",
          "1950-12-31T00:00:00",
          "1960-12-31T00:00:00",
          "1970-12-31T00:00:00",
          "1980-12-31T00:00:00",
          "1990-12-31T00:00:00",
          "2000-12-31T00:00:00",
          "2010-12-31T00:00:00",
          "2020-12-31T00:00:00"
         ],
         "y": [
          null,
          null,
          null,
          -0.2668194444444445,
          -1.040918918918919,
          -0.6958916666666665,
          -0.8092583333333339,
          -0.5642499999999997,
          -0.46264166666666695,
          -0.7432499999999999,
          -0.4414999999999999,
          -0.7276749999999997,
          -0.36984166666666674,
          -0.15303333333333333,
          -0.16838333333333333,
          -0.013500000000000007,
          0.037674999999999986,
          -0.08462499999999996,
          0.04695833333333332,
          0.18039166666666667,
          0.5631499999999999,
          0.46135,
          0.40481818181818174
         ]
        },
        {
         "line": {
          "color": "grey"
         },
         "name": "Hong Kong",
         "opacity": 0.1,
         "type": "scatter",
         "x": [
          "1800-12-31T00:00:00",
          "1810-12-31T00:00:00",
          "1820-12-31T00:00:00",
          "1830-12-31T00:00:00",
          "1840-12-31T00:00:00",
          "1850-12-31T00:00:00",
          "1860-12-31T00:00:00",
          "1870-12-31T00:00:00",
          "1880-12-31T00:00:00",
          "1890-12-31T00:00:00",
          "1900-12-31T00:00:00",
          "1910-12-31T00:00:00",
          "1920-12-31T00:00:00",
          "1930-12-31T00:00:00",
          "1940-12-31T00:00:00",
          "1950-12-31T00:00:00",
          "1960-12-31T00:00:00",
          "1970-12-31T00:00:00",
          "1980-12-31T00:00:00",
          "1990-12-31T00:00:00",
          "2000-12-31T00:00:00",
          "2010-12-31T00:00:00",
          "2020-12-31T00:00:00"
         ],
         "y": [
          null,
          null,
          null,
          null,
          -0.9435833333333333,
          -0.8406666666666662,
          -0.6682833333333332,
          -0.6407000000000002,
          -0.5043083333333332,
          -0.8927083333333332,
          -0.693925,
          -0.5158583333333334,
          -0.4758833333333333,
          -0.31549999999999984,
          -0.2866,
          0.09160833333333333,
          0.048500000000000015,
          -0.044175,
          -0.004358333333333327,
          0.016541666666666652,
          0.11393333333333334,
          0.3542083333333333,
          0.19265624999999997
         ]
        },
        {
         "line": {
          "color": "grey"
         },
         "name": "Hungary",
         "opacity": 0.1,
         "type": "scatter",
         "x": [
          "1800-12-31T00:00:00",
          "1810-12-31T00:00:00",
          "1820-12-31T00:00:00",
          "1830-12-31T00:00:00",
          "1840-12-31T00:00:00",
          "1850-12-31T00:00:00",
          "1860-12-31T00:00:00",
          "1870-12-31T00:00:00",
          "1880-12-31T00:00:00",
          "1890-12-31T00:00:00",
          "1900-12-31T00:00:00",
          "1910-12-31T00:00:00",
          "1920-12-31T00:00:00",
          "1930-12-31T00:00:00",
          "1940-12-31T00:00:00",
          "1950-12-31T00:00:00",
          "1960-12-31T00:00:00",
          "1970-12-31T00:00:00",
          "1980-12-31T00:00:00",
          "1990-12-31T00:00:00",
          "2000-12-31T00:00:00",
          "2010-12-31T00:00:00",
          "2020-12-31T00:00:00"
         ],
         "y": [
          0.046416666666666655,
          -0.20837499999999995,
          -0.5174666666666665,
          -0.18545833333333334,
          -0.6485083333333332,
          -0.3860250000000001,
          -0.5166666666666665,
          -0.22356666666666666,
          -0.529575,
          -0.6683333333333331,
          -0.46388333333333304,
          -0.3944583333333336,
          -0.28747500000000004,
          -0.07516666666666665,
          -0.16768333333333327,
          0.05671666666666668,
          0.059308333333333324,
          -0.08233333333333324,
          0.02301666666666667,
          0.20494166666666658,
          0.5758333333333333,
          0.9570833333333331,
          1.2453125
         ]
        },
        {
         "line": {
          "color": "grey"
         },
         "name": "Iceland",
         "opacity": 0.1,
         "type": "scatter",
         "x": [
          "1800-12-31T00:00:00",
          "1810-12-31T00:00:00",
          "1820-12-31T00:00:00",
          "1830-12-31T00:00:00",
          "1840-12-31T00:00:00",
          "1850-12-31T00:00:00",
          "1860-12-31T00:00:00",
          "1870-12-31T00:00:00",
          "1880-12-31T00:00:00",
          "1890-12-31T00:00:00",
          "1900-12-31T00:00:00",
          "1910-12-31T00:00:00",
          "1920-12-31T00:00:00",
          "1930-12-31T00:00:00",
          "1940-12-31T00:00:00",
          "1950-12-31T00:00:00",
          "1960-12-31T00:00:00",
          "1970-12-31T00:00:00",
          "1980-12-31T00:00:00",
          "1990-12-31T00:00:00",
          "2000-12-31T00:00:00",
          "2010-12-31T00:00:00",
          "2020-12-31T00:00:00"
         ],
         "y": [
          -0.39983333333333343,
          -0.5411833333333332,
          -0.9936333333333337,
          -0.1555666666666668,
          -0.8227166666666665,
          -0.42437500000000006,
          -0.47087500000000004,
          -0.6611333333333335,
          -0.39012499999999994,
          -0.7378500000000003,
          -0.4546083333333335,
          -0.44923333333333343,
          -0.44212500000000016,
          0.12991666666666674,
          0.7135916666666672,
          0.42915833333333336,
          0.2510916666666667,
          -0.25719166666666665,
          0.0061000000000000255,
          -0.15365000000000023,
          0.24780833333333335,
          0.9934250000000002,
          0.7730625
         ]
        },
        {
         "line": {
          "color": "grey"
         },
         "name": "India",
         "opacity": 0.1,
         "type": "scatter",
         "x": [
          "1800-12-31T00:00:00",
          "1810-12-31T00:00:00",
          "1820-12-31T00:00:00",
          "1830-12-31T00:00:00",
          "1840-12-31T00:00:00",
          "1850-12-31T00:00:00",
          "1860-12-31T00:00:00",
          "1870-12-31T00:00:00",
          "1880-12-31T00:00:00",
          "1890-12-31T00:00:00",
          "1900-12-31T00:00:00",
          "1910-12-31T00:00:00",
          "1920-12-31T00:00:00",
          "1930-12-31T00:00:00",
          "1940-12-31T00:00:00",
          "1950-12-31T00:00:00",
          "1960-12-31T00:00:00",
          "1970-12-31T00:00:00",
          "1980-12-31T00:00:00",
          "1990-12-31T00:00:00",
          "2000-12-31T00:00:00",
          "2010-12-31T00:00:00",
          "2020-12-31T00:00:00"
         ],
         "y": [
          -0.26225000000000004,
          -0.03316250000000001,
          -1.3363052631578944,
          -0.4744833333333335,
          -0.9142796610169495,
          -0.823983333333333,
          -0.6770416666666669,
          -0.5329885057471263,
          -0.4198166666666669,
          -0.6047666666666668,
          -0.24953333333333325,
          -0.3785583333333334,
          -0.3589916666666666,
          -0.24016666666666672,
          -0.29940000000000005,
          -0.11217499999999997,
          0.06818333333333336,
          -0.09138333333333332,
          0.023150000000000014,
          0.14662500000000012,
          0.2325333333333334,
          0.5518666666666667,
          0.33759375000000014
         ]
        },
        {
         "line": {
          "color": "grey"
         },
         "name": "Indonesia",
         "opacity": 0.1,
         "type": "scatter",
         "x": [
          "1800-12-31T00:00:00",
          "1810-12-31T00:00:00",
          "1820-12-31T00:00:00",
          "1830-12-31T00:00:00",
          "1840-12-31T00:00:00",
          "1850-12-31T00:00:00",
          "1860-12-31T00:00:00",
          "1870-12-31T00:00:00",
          "1880-12-31T00:00:00",
          "1890-12-31T00:00:00",
          "1900-12-31T00:00:00",
          "1910-12-31T00:00:00",
          "1920-12-31T00:00:00",
          "1930-12-31T00:00:00",
          "1940-12-31T00:00:00",
          "1950-12-31T00:00:00",
          "1960-12-31T00:00:00",
          "1970-12-31T00:00:00",
          "1980-12-31T00:00:00",
          "1990-12-31T00:00:00",
          "2000-12-31T00:00:00",
          "2010-12-31T00:00:00",
          "2020-12-31T00:00:00"
         ],
         "y": [
          null,
          null,
          null,
          -0.3795,
          -1.1473846153846154,
          -0.9406428571428572,
          -0.7287058823529414,
          -0.6742333333333332,
          -0.6919666666666665,
          -0.7180500000000003,
          -0.6457249999999995,
          -0.5489499999999999,
          -0.5372166666666669,
          -0.4117499999999999,
          -0.23970833333333333,
          -0.08145833333333334,
          0.01625000000000001,
          -0.04764166666666672,
          0.03142499999999999,
          0.1629666666666666,
          0.3046833333333334,
          0.46082499999999993,
          0.3886875000000001
         ]
        },
        {
         "line": {
          "color": "grey"
         },
         "name": "Iran",
         "opacity": 0.1,
         "type": "scatter",
         "x": [
          "1800-12-31T00:00:00",
          "1810-12-31T00:00:00",
          "1820-12-31T00:00:00",
          "1830-12-31T00:00:00",
          "1840-12-31T00:00:00",
          "1850-12-31T00:00:00",
          "1860-12-31T00:00:00",
          "1870-12-31T00:00:00",
          "1880-12-31T00:00:00",
          "1890-12-31T00:00:00",
          "1900-12-31T00:00:00",
          "1910-12-31T00:00:00",
          "1920-12-31T00:00:00",
          "1930-12-31T00:00:00",
          "1940-12-31T00:00:00",
          "1950-12-31T00:00:00",
          "1960-12-31T00:00:00",
          "1970-12-31T00:00:00",
          "1980-12-31T00:00:00",
          "1990-12-31T00:00:00",
          "2000-12-31T00:00:00",
          "2010-12-31T00:00:00",
          "2020-12-31T00:00:00"
         ],
         "y": [
          null,
          null,
          null,
          null,
          -1.0548510638297877,
          -0.6642833333333333,
          -0.5096166666666666,
          -0.6536250000000002,
          -0.24419166666666667,
          -0.39830833333333326,
          -0.44875833333333326,
          -0.3778416666666668,
          -0.4201416666666668,
          -0.2641416666666667,
          -0.2579749999999999,
          -0.0990666666666667,
          -0.03288333333333334,
          0.05615833333333332,
          -0.023250000000000038,
          0.33727499999999994,
          0.6143583333333335,
          1.444491666666667,
          1.35996875
         ]
        },
        {
         "line": {
          "color": "grey"
         },
         "name": "Iraq",
         "opacity": 0.1,
         "type": "scatter",
         "x": [
          "1800-12-31T00:00:00",
          "1810-12-31T00:00:00",
          "1820-12-31T00:00:00",
          "1830-12-31T00:00:00",
          "1840-12-31T00:00:00",
          "1850-12-31T00:00:00",
          "1860-12-31T00:00:00",
          "1870-12-31T00:00:00",
          "1880-12-31T00:00:00",
          "1890-12-31T00:00:00",
          "1900-12-31T00:00:00",
          "1910-12-31T00:00:00",
          "1920-12-31T00:00:00",
          "1930-12-31T00:00:00",
          "1940-12-31T00:00:00",
          "1950-12-31T00:00:00",
          "1960-12-31T00:00:00",
          "1970-12-31T00:00:00",
          "1980-12-31T00:00:00",
          "1990-12-31T00:00:00",
          "2000-12-31T00:00:00",
          "2010-12-31T00:00:00",
          "2020-12-31T00:00:00"
         ],
         "y": [
          null,
          null,
          -1.5124666666666664,
          -0.5586371681415929,
          -1.1899000000000002,
          -0.7543499999999999,
          -0.5983583333333334,
          -0.7733916666666669,
          -0.3771083333333333,
          -0.5033416666666665,
          -0.6817416666666669,
          -0.49327499999999996,
          -0.6116333333333337,
          -0.24474999999999988,
          -0.24595833333333333,
          -0.34543333333333337,
          -0.07549166666666665,
          0.1267666666666666,
          -0.05119999999999996,
          0.017950000000000008,
          0.3940166666666666,
          1.0658000000000003,
          0.9815625000000001
         ]
        },
        {
         "line": {
          "color": "grey"
         },
         "name": "Ireland",
         "opacity": 0.1,
         "type": "scatter",
         "x": [
          "1800-12-31T00:00:00",
          "1810-12-31T00:00:00",
          "1820-12-31T00:00:00",
          "1830-12-31T00:00:00",
          "1840-12-31T00:00:00",
          "1850-12-31T00:00:00",
          "1860-12-31T00:00:00",
          "1870-12-31T00:00:00",
          "1880-12-31T00:00:00",
          "1890-12-31T00:00:00",
          "1900-12-31T00:00:00",
          "1910-12-31T00:00:00",
          "1920-12-31T00:00:00",
          "1930-12-31T00:00:00",
          "1940-12-31T00:00:00",
          "1950-12-31T00:00:00",
          "1960-12-31T00:00:00",
          "1970-12-31T00:00:00",
          "1980-12-31T00:00:00",
          "1990-12-31T00:00:00",
          "2000-12-31T00:00:00",
          "2010-12-31T00:00:00",
          "2020-12-31T00:00:00"
         ],
         "y": [
          -0.3074166666666666,
          -0.41284166666666666,
          -0.7990249999999999,
          -0.12724166666666673,
          -0.46516666666666673,
          -0.2935833333333332,
          -0.3302083333333334,
          -0.13695000000000002,
          -0.3042416666666667,
          -0.5812583333333337,
          -0.2347833333333332,
          -0.38750000000000007,
          -0.23119166666666663,
          -0.06954166666666665,
          0.19872500000000007,
          0.2534499999999999,
          0.11725833333333328,
          -0.16434166666666664,
          0.047041666666666725,
          0.12831666666666666,
          0.5207583333333332,
          0.7277000000000001,
          0.5110312500000002
         ]
        },
        {
         "line": {
          "color": "grey"
         },
         "name": "Israel",
         "opacity": 0.1,
         "type": "scatter",
         "x": [
          "1800-12-31T00:00:00",
          "1810-12-31T00:00:00",
          "1820-12-31T00:00:00",
          "1830-12-31T00:00:00",
          "1840-12-31T00:00:00",
          "1850-12-31T00:00:00",
          "1860-12-31T00:00:00",
          "1870-12-31T00:00:00",
          "1880-12-31T00:00:00",
          "1890-12-31T00:00:00",
          "1900-12-31T00:00:00",
          "1910-12-31T00:00:00",
          "1920-12-31T00:00:00",
          "1930-12-31T00:00:00",
          "1940-12-31T00:00:00",
          "1950-12-31T00:00:00",
          "1960-12-31T00:00:00",
          "1970-12-31T00:00:00",
          "1980-12-31T00:00:00",
          "1990-12-31T00:00:00",
          "2000-12-31T00:00:00",
          "2010-12-31T00:00:00",
          "2020-12-31T00:00:00"
         ],
         "y": [
          null,
          -1.7188518518518519,
          -1.376731182795699,
          -0.5648,
          -1.174,
          -0.6884249999999998,
          -0.6077499999999997,
          -0.6454166666666669,
          -0.4957333333333334,
          -0.5648916666666669,
          -0.6071749999999998,
          -0.5802499999999998,
          -0.6214749999999999,
          -0.1611416666666666,
          -0.006033333333333333,
          -0.2887166666666667,
          0.06758333333333326,
          0.04089999999999998,
          -0.10845000000000003,
          -0.13147500000000006,
          0.21682500000000005,
          0.8542083333333336,
          0.7886562500000001
         ]
        },
        {
         "line": {
          "color": "grey"
         },
         "name": "Italy",
         "opacity": 0.1,
         "type": "scatter",
         "x": [
          "1800-12-31T00:00:00",
          "1810-12-31T00:00:00",
          "1820-12-31T00:00:00",
          "1830-12-31T00:00:00",
          "1840-12-31T00:00:00",
          "1850-12-31T00:00:00",
          "1860-12-31T00:00:00",
          "1870-12-31T00:00:00",
          "1880-12-31T00:00:00",
          "1890-12-31T00:00:00",
          "1900-12-31T00:00:00",
          "1910-12-31T00:00:00",
          "1920-12-31T00:00:00",
          "1930-12-31T00:00:00",
          "1940-12-31T00:00:00",
          "1950-12-31T00:00:00",
          "1960-12-31T00:00:00",
          "1970-12-31T00:00:00",
          "1980-12-31T00:00:00",
          "1990-12-31T00:00:00",
          "2000-12-31T00:00:00",
          "2010-12-31T00:00:00",
          "2020-12-31T00:00:00"
         ],
         "y": [
          0.31741666666666657,
          -0.2096166666666667,
          -0.6327916666666663,
          -0.2266166666666666,
          -0.5720666666666665,
          -0.32467500000000005,
          -0.6100166666666667,
          -0.14375,
          -0.3446416666666668,
          -0.5663999999999999,
          -0.2952666666666667,
          -0.4493749999999999,
          -0.27105833333333346,
          0.09554999999999997,
          -0.11002500000000003,
          0.3159583333333334,
          0.10742500000000003,
          0.029833333333333316,
          -0.13726666666666668,
          0.333775,
          0.7285499999999999,
          0.9418333333333334,
          1.1717499999999998
         ]
        },
        {
         "line": {
          "color": "grey"
         },
         "name": "Jamaica",
         "opacity": 0.1,
         "type": "scatter",
         "x": [
          "1800-12-31T00:00:00",
          "1810-12-31T00:00:00",
          "1820-12-31T00:00:00",
          "1830-12-31T00:00:00",
          "1840-12-31T00:00:00",
          "1850-12-31T00:00:00",
          "1860-12-31T00:00:00",
          "1870-12-31T00:00:00",
          "1880-12-31T00:00:00",
          "1890-12-31T00:00:00",
          "1900-12-31T00:00:00",
          "1910-12-31T00:00:00",
          "1920-12-31T00:00:00",
          "1930-12-31T00:00:00",
          "1940-12-31T00:00:00",
          "1950-12-31T00:00:00",
          "1960-12-31T00:00:00",
          "1970-12-31T00:00:00",
          "1980-12-31T00:00:00",
          "1990-12-31T00:00:00",
          "2000-12-31T00:00:00",
          "2010-12-31T00:00:00",
          "2020-12-31T00:00:00"
         ],
         "y": [
          null,
          null,
          null,
          -0.07816867469879518,
          -0.829010989010989,
          -0.6758333333333333,
          -0.6778916666666669,
          -0.5038166666666669,
          -0.31455833333333344,
          -0.6691499999999999,
          -0.4828999999999999,
          -0.49466666666666664,
          -0.3649833333333333,
          -0.10958333333333334,
          -0.18279166666666677,
          -0.03994999999999998,
          -0.021491666666666683,
          -0.03511666666666668,
          0.05663333333333334,
          0.2577916666666666,
          0.4650833333333331,
          0.5559499999999999,
          0.539878787878788
         ]
        },
        {
         "line": {
          "color": "grey"
         },
         "name": "Japan",
         "opacity": 0.1,
         "type": "scatter",
         "x": [
          "1800-12-31T00:00:00",
          "1810-12-31T00:00:00",
          "1820-12-31T00:00:00",
          "1830-12-31T00:00:00",
          "1840-12-31T00:00:00",
          "1850-12-31T00:00:00",
          "1860-12-31T00:00:00",
          "1870-12-31T00:00:00",
          "1880-12-31T00:00:00",
          "1890-12-31T00:00:00",
          "1900-12-31T00:00:00",
          "1910-12-31T00:00:00",
          "1920-12-31T00:00:00",
          "1930-12-31T00:00:00",
          "1940-12-31T00:00:00",
          "1950-12-31T00:00:00",
          "1960-12-31T00:00:00",
          "1970-12-31T00:00:00",
          "1980-12-31T00:00:00",
          "1990-12-31T00:00:00",
          "2000-12-31T00:00:00",
          "2010-12-31T00:00:00",
          "2020-12-31T00:00:00"
         ],
         "y": [
          null,
          null,
          null,
          null,
          null,
          -0.804708333333333,
          -0.8083416666666667,
          -0.7525749999999998,
          -0.534725,
          -0.7132416666666671,
          -0.5851249999999998,
          -0.7676083333333337,
          -0.38409999999999994,
          -0.44184999999999985,
          -0.3813666666666669,
          -0.26129166666666676,
          0.06650833333333336,
          -0.032991666666666704,
          -0.033508333333333314,
          0.019250000000000086,
          0.44799999999999984,
          0.6217833333333332,
          0.4502812499999999
         ]
        },
        {
         "line": {
          "color": "grey"
         },
         "name": "Jordan",
         "opacity": 0.1,
         "type": "scatter",
         "x": [
          "1800-12-31T00:00:00",
          "1810-12-31T00:00:00",
          "1820-12-31T00:00:00",
          "1830-12-31T00:00:00",
          "1840-12-31T00:00:00",
          "1850-12-31T00:00:00",
          "1860-12-31T00:00:00",
          "1870-12-31T00:00:00",
          "1880-12-31T00:00:00",
          "1890-12-31T00:00:00",
          "1900-12-31T00:00:00",
          "1910-12-31T00:00:00",
          "1920-12-31T00:00:00",
          "1930-12-31T00:00:00",
          "1940-12-31T00:00:00",
          "1950-12-31T00:00:00",
          "1960-12-31T00:00:00",
          "1970-12-31T00:00:00",
          "1980-12-31T00:00:00",
          "1990-12-31T00:00:00",
          "2000-12-31T00:00:00",
          "2010-12-31T00:00:00",
          "2020-12-31T00:00:00"
         ],
         "y": [
          null,
          -1.7698518518518516,
          -1.4655833333333335,
          -0.5678916666666667,
          -1.1841833333333334,
          -0.7140083333333336,
          -0.6114666666666663,
          -0.6771166666666667,
          -0.4911333333333335,
          -0.5546999999999999,
          -0.6337083333333332,
          -0.5584083333333333,
          -0.6426749999999999,
          -0.1775916666666668,
          -0.05202499999999998,
          -0.31045000000000006,
          0.05700000000000003,
          0.06687500000000005,
          -0.12383333333333339,
          -0.11881666666666665,
          0.2411666666666667,
          0.8565083333333334,
          0.8340625
         ]
        },
        {
         "line": {
          "color": "grey"
         },
         "name": "Kazakhstan",
         "opacity": 0.1,
         "type": "scatter",
         "x": [
          "1800-12-31T00:00:00",
          "1810-12-31T00:00:00",
          "1820-12-31T00:00:00",
          "1830-12-31T00:00:00",
          "1840-12-31T00:00:00",
          "1850-12-31T00:00:00",
          "1860-12-31T00:00:00",
          "1870-12-31T00:00:00",
          "1880-12-31T00:00:00",
          "1890-12-31T00:00:00",
          "1900-12-31T00:00:00",
          "1910-12-31T00:00:00",
          "1920-12-31T00:00:00",
          "1930-12-31T00:00:00",
          "1940-12-31T00:00:00",
          "1950-12-31T00:00:00",
          "1960-12-31T00:00:00",
          "1970-12-31T00:00:00",
          "1980-12-31T00:00:00",
          "1990-12-31T00:00:00",
          "2000-12-31T00:00:00",
          "2010-12-31T00:00:00",
          "2020-12-31T00:00:00"
         ],
         "y": [
          null,
          null,
          -1.4209891304347826,
          -0.4111833333333334,
          -1.2024666666666666,
          -0.7248416666666667,
          -0.5987000000000003,
          -0.6279916666666667,
          -0.35445833333333326,
          -0.7429583333333336,
          -0.8610916666666664,
          -0.6771916666666666,
          -0.39985833333333337,
          -0.3099,
          -0.4325000000000003,
          -0.35729999999999984,
          -0.458475,
          0.2391916666666666,
          0.2193083333333334,
          0.6896749999999998,
          0.7256749999999996,
          1.403391666666667,
          0.7308749999999999
         ]
        },
        {
         "line": {
          "color": "grey"
         },
         "name": "Kenya",
         "opacity": 0.1,
         "type": "scatter",
         "x": [
          "1800-12-31T00:00:00",
          "1810-12-31T00:00:00",
          "1820-12-31T00:00:00",
          "1830-12-31T00:00:00",
          "1840-12-31T00:00:00",
          "1850-12-31T00:00:00",
          "1860-12-31T00:00:00",
          "1870-12-31T00:00:00",
          "1880-12-31T00:00:00",
          "1890-12-31T00:00:00",
          "1900-12-31T00:00:00",
          "1910-12-31T00:00:00",
          "1920-12-31T00:00:00",
          "1930-12-31T00:00:00",
          "1940-12-31T00:00:00",
          "1950-12-31T00:00:00",
          "1960-12-31T00:00:00",
          "1970-12-31T00:00:00",
          "1980-12-31T00:00:00",
          "1990-12-31T00:00:00",
          "2000-12-31T00:00:00",
          "2010-12-31T00:00:00",
          "2020-12-31T00:00:00"
         ],
         "y": [
          null,
          null,
          null,
          null,
          null,
          -0.7870909090909092,
          -0.4869,
          -0.7001666666666666,
          -0.35970909090909087,
          -0.5931596638655462,
          -0.26850833333333346,
          -0.36350833333333327,
          -0.28365833333333335,
          -0.3096666666666668,
          -0.008991666666666656,
          0.00676666666666668,
          0.0051416666666666555,
          -0.11496666666666668,
          0.10983333333333332,
          0.26676666666666676,
          0.34583333333333327,
          0.6927083333333334,
          0.7804999999999999
         ]
        },
        {
         "line": {
          "color": "grey"
         },
         "name": "Kiribati",
         "opacity": 0.1,
         "type": "scatter",
         "x": [
          "1800-12-31T00:00:00",
          "1810-12-31T00:00:00",
          "1820-12-31T00:00:00",
          "1830-12-31T00:00:00",
          "1840-12-31T00:00:00",
          "1850-12-31T00:00:00",
          "1860-12-31T00:00:00",
          "1870-12-31T00:00:00",
          "1880-12-31T00:00:00",
          "1890-12-31T00:00:00",
          "1900-12-31T00:00:00",
          "1910-12-31T00:00:00",
          "1920-12-31T00:00:00",
          "1930-12-31T00:00:00",
          "1940-12-31T00:00:00",
          "1950-12-31T00:00:00",
          "1960-12-31T00:00:00",
          "1970-12-31T00:00:00",
          "1980-12-31T00:00:00",
          "1990-12-31T00:00:00",
          "2000-12-31T00:00:00",
          "2010-12-31T00:00:00",
          "2020-12-31T00:00:00"
         ],
         "y": [
          null,
          null,
          null,
          null,
          null,
          null,
          null,
          null,
          null,
          -0.7461263157894739,
          -0.5326416666666668,
          -0.5403833333333333,
          -0.4712833333333333,
          -0.19012500000000002,
          -0.10752499999999995,
          -0.025058333333333325,
          -0.02356666666666666,
          0.04008333333333335,
          -0.016508333333333243,
          0.25155833333333333,
          0.48241666666666655,
          0.7516916666666663,
          0.52034375
         ]
        },
        {
         "line": {
          "color": "grey"
         },
         "name": "Kuwait",
         "opacity": 0.1,
         "type": "scatter",
         "x": [
          "1800-12-31T00:00:00",
          "1810-12-31T00:00:00",
          "1820-12-31T00:00:00",
          "1830-12-31T00:00:00",
          "1840-12-31T00:00:00",
          "1850-12-31T00:00:00",
          "1860-12-31T00:00:00",
          "1870-12-31T00:00:00",
          "1880-12-31T00:00:00",
          "1890-12-31T00:00:00",
          "1900-12-31T00:00:00",
          "1910-12-31T00:00:00",
          "1920-12-31T00:00:00",
          "1930-12-31T00:00:00",
          "1940-12-31T00:00:00",
          "1950-12-31T00:00:00",
          "1960-12-31T00:00:00",
          "1970-12-31T00:00:00",
          "1980-12-31T00:00:00",
          "1990-12-31T00:00:00",
          "2000-12-31T00:00:00",
          "2010-12-31T00:00:00",
          "2020-12-31T00:00:00"
         ],
         "y": [
          null,
          null,
          null,
          null,
          -1.1308461538461538,
          -0.7794563106796115,
          -0.5915250000000002,
          -0.7239000000000001,
          -0.36990000000000006,
          -0.3877249999999999,
          -0.4918749999999999,
          -0.49831666666666663,
          -0.5215833333333335,
          -0.23801666666666663,
          -0.3163583333333334,
          -0.23149166666666668,
          -0.09314999999999998,
          0.10914166666666665,
          -0.01600833333333338,
          0.09523333333333334,
          0.5013916666666666,
          1.1827083333333328,
          1.1048125
         ]
        },
        {
         "line": {
          "color": "grey"
         },
         "name": "Kyrgyzstan",
         "opacity": 0.1,
         "type": "scatter",
         "x": [
          "1800-12-31T00:00:00",
          "1810-12-31T00:00:00",
          "1820-12-31T00:00:00",
          "1830-12-31T00:00:00",
          "1840-12-31T00:00:00",
          "1850-12-31T00:00:00",
          "1860-12-31T00:00:00",
          "1870-12-31T00:00:00",
          "1880-12-31T00:00:00",
          "1890-12-31T00:00:00",
          "1900-12-31T00:00:00",
          "1910-12-31T00:00:00",
          "1920-12-31T00:00:00",
          "1930-12-31T00:00:00",
          "1940-12-31T00:00:00",
          "1950-12-31T00:00:00",
          "1960-12-31T00:00:00",
          "1970-12-31T00:00:00",
          "1980-12-31T00:00:00",
          "1990-12-31T00:00:00",
          "2000-12-31T00:00:00",
          "2010-12-31T00:00:00",
          "2020-12-31T00:00:00"
         ],
         "y": [
          null,
          null,
          null,
          null,
          -1.0934166666666667,
          -0.7604916666666668,
          -0.6304416666666666,
          -0.6400916666666666,
          -0.28760833333333313,
          -0.7188749999999999,
          -0.6281750000000001,
          -0.7926083333333332,
          -0.2251916666666667,
          -0.45177499999999987,
          -0.47718333333333385,
          -0.020691666666666605,
          -0.25904999999999995,
          0.09016666666666656,
          0.16888333333333333,
          0.4644166666666668,
          0.5994250000000001,
          1.2131083333333335,
          0.6949062500000001
         ]
        },
        {
         "line": {
          "color": "grey"
         },
         "name": "Laos",
         "opacity": 0.1,
         "type": "scatter",
         "x": [
          "1800-12-31T00:00:00",
          "1810-12-31T00:00:00",
          "1820-12-31T00:00:00",
          "1830-12-31T00:00:00",
          "1840-12-31T00:00:00",
          "1850-12-31T00:00:00",
          "1860-12-31T00:00:00",
          "1870-12-31T00:00:00",
          "1880-12-31T00:00:00",
          "1890-12-31T00:00:00",
          "1900-12-31T00:00:00",
          "1910-12-31T00:00:00",
          "1920-12-31T00:00:00",
          "1930-12-31T00:00:00",
          "1940-12-31T00:00:00",
          "1950-12-31T00:00:00",
          "1960-12-31T00:00:00",
          "1970-12-31T00:00:00",
          "1980-12-31T00:00:00",
          "1990-12-31T00:00:00",
          "2000-12-31T00:00:00",
          "2010-12-31T00:00:00",
          "2020-12-31T00:00:00"
         ],
         "y": [
          null,
          null,
          -1.4695789473684204,
          -0.6421276595744682,
          -0.9388765432098765,
          -0.8379666666666669,
          -0.7120593220338985,
          -0.7381981981981979,
          -0.5561833333333335,
          -0.6843583333333338,
          -0.6065500000000001,
          -0.4462666666666665,
          -0.41214166666666663,
          -0.33482500000000004,
          -0.1986749999999999,
          0.07158333333333329,
          0.04613333333333333,
          0.021666666666666647,
          -0.06778333333333333,
          0.03060833333333331,
          0.12423333333333336,
          0.3469750000000001,
          0.4956875
         ]
        },
        {
         "line": {
          "color": "grey"
         },
         "name": "Latvia",
         "opacity": 0.1,
         "type": "scatter",
         "x": [
          "1800-12-31T00:00:00",
          "1810-12-31T00:00:00",
          "1820-12-31T00:00:00",
          "1830-12-31T00:00:00",
          "1840-12-31T00:00:00",
          "1850-12-31T00:00:00",
          "1860-12-31T00:00:00",
          "1870-12-31T00:00:00",
          "1880-12-31T00:00:00",
          "1890-12-31T00:00:00",
          "1900-12-31T00:00:00",
          "1910-12-31T00:00:00",
          "1920-12-31T00:00:00",
          "1930-12-31T00:00:00",
          "1940-12-31T00:00:00",
          "1950-12-31T00:00:00",
          "1960-12-31T00:00:00",
          "1970-12-31T00:00:00",
          "1980-12-31T00:00:00",
          "1990-12-31T00:00:00",
          "2000-12-31T00:00:00",
          "2010-12-31T00:00:00",
          "2020-12-31T00:00:00"
         ],
         "y": [
          -0.6770833333333334,
          -0.5939416666666669,
          -0.6457416666666662,
          -0.021874999999999853,
          -0.5920833333333335,
          -0.5332166666666667,
          -0.3475083333333332,
          -0.5685916666666667,
          -0.5846333333333337,
          -0.3727666666666664,
          -0.2834583333333336,
          -0.21295000000000008,
          -0.08925833333333336,
          -0.16389166666666669,
          0.40925833333333356,
          -0.027725000000000118,
          -0.032525,
          -0.21618333333333337,
          0.24865833333333337,
          0.4900500000000001,
          0.9240916666666669,
          1.2327000000000006,
          1.1541250000000003
         ]
        },
        {
         "line": {
          "color": "grey"
         },
         "name": "Lebanon",
         "opacity": 0.1,
         "type": "scatter",
         "x": [
          "1800-12-31T00:00:00",
          "1810-12-31T00:00:00",
          "1820-12-31T00:00:00",
          "1830-12-31T00:00:00",
          "1840-12-31T00:00:00",
          "1850-12-31T00:00:00",
          "1860-12-31T00:00:00",
          "1870-12-31T00:00:00",
          "1880-12-31T00:00:00",
          "1890-12-31T00:00:00",
          "1900-12-31T00:00:00",
          "1910-12-31T00:00:00",
          "1920-12-31T00:00:00",
          "1930-12-31T00:00:00",
          "1940-12-31T00:00:00",
          "1950-12-31T00:00:00",
          "1960-12-31T00:00:00",
          "1970-12-31T00:00:00",
          "1980-12-31T00:00:00",
          "1990-12-31T00:00:00",
          "2000-12-31T00:00:00",
          "2010-12-31T00:00:00",
          "2020-12-31T00:00:00"
         ],
         "y": [
          null,
          -1.6615185185185184,
          -1.2890666666666661,
          -0.5587583333333334,
          -1.191016666666666,
          -0.6571750000000001,
          -0.5664583333333333,
          -0.6817083333333332,
          -0.4354666666666665,
          -0.4950833333333335,
          -0.6212916666666666,
          -0.5687916666666666,
          -0.6173583333333336,
          -0.11988333333333337,
          -0.020808333333333356,
          -0.21135,
          0.05617499999999998,
          0.08024166666666668,
          -0.1364,
          -0.07474166666666668,
          0.24736666666666668,
          0.8458583333333336,
          0.7467187499999999
         ]
        },
        {
         "line": {
          "color": "grey"
         },
         "name": "Lesotho",
         "opacity": 0.1,
         "type": "scatter",
         "x": [
          "1800-12-31T00:00:00",
          "1810-12-31T00:00:00",
          "1820-12-31T00:00:00",
          "1830-12-31T00:00:00",
          "1840-12-31T00:00:00",
          "1850-12-31T00:00:00",
          "1860-12-31T00:00:00",
          "1870-12-31T00:00:00",
          "1880-12-31T00:00:00",
          "1890-12-31T00:00:00",
          "1900-12-31T00:00:00",
          "1910-12-31T00:00:00",
          "1920-12-31T00:00:00",
          "1930-12-31T00:00:00",
          "1940-12-31T00:00:00",
          "1950-12-31T00:00:00",
          "1960-12-31T00:00:00",
          "1970-12-31T00:00:00",
          "1980-12-31T00:00:00",
          "1990-12-31T00:00:00",
          "2000-12-31T00:00:00",
          "2010-12-31T00:00:00",
          "2020-12-31T00:00:00"
         ],
         "y": [
          null,
          null,
          null,
          null,
          null,
          null,
          -0.7535869565217392,
          -0.5190083333333334,
          -0.5572347826086959,
          -0.47116666666666696,
          -0.45443333333333347,
          -0.6578750000000001,
          -0.353225,
          -0.2470583333333333,
          -0.0921416666666667,
          0.07845833333333335,
          -0.1793666666666667,
          0.15961666666666652,
          0.019766666666666703,
          0.4041166666666666,
          0.4686916666666666,
          0.6040583333333334,
          0.49968750000000006
         ]
        },
        {
         "line": {
          "color": "grey"
         },
         "name": "Liberia",
         "opacity": 0.1,
         "type": "scatter",
         "x": [
          "1800-12-31T00:00:00",
          "1810-12-31T00:00:00",
          "1820-12-31T00:00:00",
          "1830-12-31T00:00:00",
          "1840-12-31T00:00:00",
          "1850-12-31T00:00:00",
          "1860-12-31T00:00:00",
          "1870-12-31T00:00:00",
          "1880-12-31T00:00:00",
          "1890-12-31T00:00:00",
          "1900-12-31T00:00:00",
          "1910-12-31T00:00:00",
          "1920-12-31T00:00:00",
          "1930-12-31T00:00:00",
          "1940-12-31T00:00:00",
          "1950-12-31T00:00:00",
          "1960-12-31T00:00:00",
          "1970-12-31T00:00:00",
          "1980-12-31T00:00:00",
          "1990-12-31T00:00:00",
          "2000-12-31T00:00:00",
          "2010-12-31T00:00:00",
          "2020-12-31T00:00:00"
         ],
         "y": [
          null,
          null,
          null,
          null,
          null,
          -0.69875,
          -0.6568720930232559,
          -0.6528556701030928,
          -0.6902365591397849,
          -0.718203539823009,
          -0.5991499999999996,
          -0.49418333333333336,
          -0.18400833333333327,
          -0.17768333333333317,
          -0.05867499999999997,
          -0.004141666666666664,
          -0.07464166666666666,
          0.011350000000000002,
          0.06325000000000001,
          0.28960000000000014,
          0.3991083333333332,
          0.7939750000000004,
          0.60928125
         ]
        },
        {
         "line": {
          "color": "grey"
         },
         "name": "Libya",
         "opacity": 0.1,
         "type": "scatter",
         "x": [
          "1800-12-31T00:00:00",
          "1810-12-31T00:00:00",
          "1820-12-31T00:00:00",
          "1830-12-31T00:00:00",
          "1840-12-31T00:00:00",
          "1850-12-31T00:00:00",
          "1860-12-31T00:00:00",
          "1870-12-31T00:00:00",
          "1880-12-31T00:00:00",
          "1890-12-31T00:00:00",
          "1900-12-31T00:00:00",
          "1910-12-31T00:00:00",
          "1920-12-31T00:00:00",
          "1930-12-31T00:00:00",
          "1940-12-31T00:00:00",
          "1950-12-31T00:00:00",
          "1960-12-31T00:00:00",
          "1970-12-31T00:00:00",
          "1980-12-31T00:00:00",
          "1990-12-31T00:00:00",
          "2000-12-31T00:00:00",
          "2010-12-31T00:00:00",
          "2020-12-31T00:00:00"
         ],
         "y": [
          0.06391666666666666,
          -0.35556302521008404,
          -1.115275,
          -0.4233166666666668,
          -0.8391583333333335,
          -0.4920166666666667,
          -0.5265000000000001,
          -0.35224999999999995,
          -0.35331666666666695,
          -0.6481833333333332,
          -0.35164166666666663,
          -0.5197999999999999,
          -0.2736916666666665,
          -0.04387500000000003,
          0.16525833333333334,
          -0.028199999999999954,
          0.1099916666666667,
          -0.02665833333333332,
          -0.08334999999999995,
          0.2101333333333333,
          0.5234083333333334,
          1.021266666666667,
          0.7849999999999999
         ]
        },
        {
         "line": {
          "color": "grey"
         },
         "name": "Liechtenstein",
         "opacity": 0.1,
         "type": "scatter",
         "x": [
          "1800-12-31T00:00:00",
          "1810-12-31T00:00:00",
          "1820-12-31T00:00:00",
          "1830-12-31T00:00:00",
          "1840-12-31T00:00:00",
          "1850-12-31T00:00:00",
          "1860-12-31T00:00:00",
          "1870-12-31T00:00:00",
          "1880-12-31T00:00:00",
          "1890-12-31T00:00:00",
          "1900-12-31T00:00:00",
          "1910-12-31T00:00:00",
          "1920-12-31T00:00:00",
          "1930-12-31T00:00:00",
          "1940-12-31T00:00:00",
          "1950-12-31T00:00:00",
          "1960-12-31T00:00:00",
          "1970-12-31T00:00:00",
          "1980-12-31T00:00:00",
          "1990-12-31T00:00:00",
          "2000-12-31T00:00:00",
          "2010-12-31T00:00:00",
          "2020-12-31T00:00:00"
         ],
         "y": [
          0.26225000000000004,
          -0.17464999999999994,
          -0.6459916666666667,
          -0.172825,
          -0.45625833333333343,
          -0.3824083333333332,
          -0.6770333333333336,
          -0.09410833333333336,
          -0.36588333333333334,
          -0.6336416666666665,
          -0.31041666666666656,
          -0.43192500000000006,
          -0.2036083333333334,
          -0.021074999999999986,
          -0.21991666666666665,
          0.268375,
          0.03711666666666669,
          -0.09907500000000001,
          0.06197500000000001,
          0.43069166666666664,
          0.840166666666667,
          0.9757500000000001,
          1.2165312500000003
         ]
        },
        {
         "line": {
          "color": "grey"
         },
         "name": "Lithuania",
         "opacity": 0.1,
         "type": "scatter",
         "x": [
          "1800-12-31T00:00:00",
          "1810-12-31T00:00:00",
          "1820-12-31T00:00:00",
          "1830-12-31T00:00:00",
          "1840-12-31T00:00:00",
          "1850-12-31T00:00:00",
          "1860-12-31T00:00:00",
          "1870-12-31T00:00:00",
          "1880-12-31T00:00:00",
          "1890-12-31T00:00:00",
          "1900-12-31T00:00:00",
          "1910-12-31T00:00:00",
          "1920-12-31T00:00:00",
          "1930-12-31T00:00:00",
          "1940-12-31T00:00:00",
          "1950-12-31T00:00:00",
          "1960-12-31T00:00:00",
          "1970-12-31T00:00:00",
          "1980-12-31T00:00:00",
          "1990-12-31T00:00:00",
          "2000-12-31T00:00:00",
          "2010-12-31T00:00:00",
          "2020-12-31T00:00:00"
         ],
         "y": [
          -0.60325,
          -0.4319416666666666,
          -0.6378083333333329,
          -0.04852499999999998,
          -0.5764999999999999,
          -0.5105083333333333,
          -0.3530083333333334,
          -0.5447750000000001,
          -0.6103999999999998,
          -0.44722499999999993,
          -0.2547916666666667,
          -0.2822916666666667,
          -0.04629999999999998,
          -0.24969999999999995,
          0.2687999999999999,
          -0.024291666666666614,
          0.005508333333333282,
          -0.2133166666666666,
          0.2077416666666666,
          0.5021583333333334,
          0.8939749999999996,
          1.2036416666666663,
          1.10828125
         ]
        },
        {
         "line": {
          "color": "grey"
         },
         "name": "Luxembourg",
         "opacity": 0.1,
         "type": "scatter",
         "x": [
          "1800-12-31T00:00:00",
          "1810-12-31T00:00:00",
          "1820-12-31T00:00:00",
          "1830-12-31T00:00:00",
          "1840-12-31T00:00:00",
          "1850-12-31T00:00:00",
          "1860-12-31T00:00:00",
          "1870-12-31T00:00:00",
          "1880-12-31T00:00:00",
          "1890-12-31T00:00:00",
          "1900-12-31T00:00:00",
          "1910-12-31T00:00:00",
          "1920-12-31T00:00:00",
          "1930-12-31T00:00:00",
          "1940-12-31T00:00:00",
          "1950-12-31T00:00:00",
          "1960-12-31T00:00:00",
          "1970-12-31T00:00:00",
          "1980-12-31T00:00:00",
          "1990-12-31T00:00:00",
          "2000-12-31T00:00:00",
          "2010-12-31T00:00:00",
          "2020-12-31T00:00:00"
         ],
         "y": [
          -0.08291666666666662,
          -0.47143333333333337,
          -0.562375,
          -0.16801666666666656,
          -0.3388083333333334,
          -0.42579999999999996,
          -0.5365333333333333,
          -0.13691666666666666,
          -0.3560249999999998,
          -0.7041416666666666,
          -0.29741666666666694,
          -0.41391666666666677,
          -0.14173333333333327,
          -0.045950000000000005,
          -0.03921666666666669,
          0.2186749999999999,
          0.0862,
          -0.16708333333333325,
          0.08081666666666668,
          0.34025000000000005,
          0.7719583333333335,
          1.007075,
          0.9395937499999999
         ]
        },
        {
         "line": {
          "color": "grey"
         },
         "name": "Macao",
         "opacity": 0.1,
         "type": "scatter",
         "x": [
          "1800-12-31T00:00:00",
          "1810-12-31T00:00:00",
          "1820-12-31T00:00:00",
          "1830-12-31T00:00:00",
          "1840-12-31T00:00:00",
          "1850-12-31T00:00:00",
          "1860-12-31T00:00:00",
          "1870-12-31T00:00:00",
          "1880-12-31T00:00:00",
          "1890-12-31T00:00:00",
          "1900-12-31T00:00:00",
          "1910-12-31T00:00:00",
          "1920-12-31T00:00:00",
          "1930-12-31T00:00:00",
          "1940-12-31T00:00:00",
          "1950-12-31T00:00:00",
          "1960-12-31T00:00:00",
          "1970-12-31T00:00:00",
          "1980-12-31T00:00:00",
          "1990-12-31T00:00:00",
          "2000-12-31T00:00:00",
          "2010-12-31T00:00:00",
          "2020-12-31T00:00:00"
         ],
         "y": [
          null,
          null,
          null,
          null,
          -0.9322500000000001,
          -0.835908333333333,
          -0.6679499999999999,
          -0.6369249999999996,
          -0.49790000000000006,
          -0.8832416666666669,
          -0.6934499999999997,
          -0.4953000000000002,
          -0.4626999999999999,
          -0.28795000000000004,
          -0.2777000000000001,
          0.11802500000000005,
          0.043225000000000006,
          -0.04581666666666664,
          0.0026083333333333614,
          0.02404166666666665,
          0.10231666666666667,
          0.3392166666666668,
          0.18028125000000003
         ]
        },
        {
         "line": {
          "color": "grey"
         },
         "name": "Macedonia Republic of",
         "opacity": 0.1,
         "type": "scatter",
         "x": [
          "1800-12-31T00:00:00",
          "1810-12-31T00:00:00",
          "1820-12-31T00:00:00",
          "1830-12-31T00:00:00",
          "1840-12-31T00:00:00",
          "1850-12-31T00:00:00",
          "1860-12-31T00:00:00",
          "1870-12-31T00:00:00",
          "1880-12-31T00:00:00",
          "1890-12-31T00:00:00",
          "1900-12-31T00:00:00",
          "1910-12-31T00:00:00",
          "1920-12-31T00:00:00",
          "1930-12-31T00:00:00",
          "1940-12-31T00:00:00",
          "1950-12-31T00:00:00",
          "1960-12-31T00:00:00",
          "1970-12-31T00:00:00",
          "1980-12-31T00:00:00",
          "1990-12-31T00:00:00",
          "2000-12-31T00:00:00",
          "2010-12-31T00:00:00",
          "2020-12-31T00:00:00"
         ],
         "y": [
          0.1549166666666667,
          -0.19945833333333343,
          -0.7542583333333334,
          -0.3427833333333332,
          -0.8427916666666663,
          -0.38091666666666674,
          -0.4452666666666666,
          -0.2685333333333333,
          -0.40891666666666665,
          -0.5900916666666663,
          -0.3696499999999997,
          -0.35155,
          -0.21805833333333322,
          0.06706666666666665,
          -0.0636833333333333,
          0.02676666666666668,
          0.13937499999999997,
          0.08975833333333337,
          -0.22913333333333336,
          0.06372499999999998,
          0.37042499999999995,
          0.7935083333333337,
          1.001625
         ]
        },
        {
         "line": {
          "color": "grey"
         },
         "name": "Madagascar",
         "opacity": 0.1,
         "type": "scatter",
         "x": [
          "1800-12-31T00:00:00",
          "1810-12-31T00:00:00",
          "1820-12-31T00:00:00",
          "1830-12-31T00:00:00",
          "1840-12-31T00:00:00",
          "1850-12-31T00:00:00",
          "1860-12-31T00:00:00",
          "1870-12-31T00:00:00",
          "1880-12-31T00:00:00",
          "1890-12-31T00:00:00",
          "1900-12-31T00:00:00",
          "1910-12-31T00:00:00",
          "1920-12-31T00:00:00",
          "1930-12-31T00:00:00",
          "1940-12-31T00:00:00",
          "1950-12-31T00:00:00",
          "1960-12-31T00:00:00",
          "1970-12-31T00:00:00",
          "1980-12-31T00:00:00",
          "1990-12-31T00:00:00",
          "2000-12-31T00:00:00",
          "2010-12-31T00:00:00",
          "2020-12-31T00:00:00"
         ],
         "y": [
          null,
          0.29035294117647054,
          null,
          null,
          null,
          -0.8243636363636362,
          -0.6612526315789473,
          -0.6493333333333334,
          -0.3971636363636363,
          -0.6521923076923077,
          -0.4371499999999999,
          -0.33939999999999987,
          -0.3672249999999997,
          -0.29858333333333326,
          -0.08605000000000004,
          -0.08826666666666666,
          -0.0649,
          0.03280833333333334,
          0.03209999999999998,
          0.18254166666666657,
          0.5865666666666667,
          0.7490833333333331,
          0.6625625
         ]
        },
        {
         "line": {
          "color": "grey"
         },
         "name": "Malawi",
         "opacity": 0.1,
         "type": "scatter",
         "x": [
          "1800-12-31T00:00:00",
          "1810-12-31T00:00:00",
          "1820-12-31T00:00:00",
          "1830-12-31T00:00:00",
          "1840-12-31T00:00:00",
          "1850-12-31T00:00:00",
          "1860-12-31T00:00:00",
          "1870-12-31T00:00:00",
          "1880-12-31T00:00:00",
          "1890-12-31T00:00:00",
          "1900-12-31T00:00:00",
          "1910-12-31T00:00:00",
          "1920-12-31T00:00:00",
          "1930-12-31T00:00:00",
          "1940-12-31T00:00:00",
          "1950-12-31T00:00:00",
          "1960-12-31T00:00:00",
          "1970-12-31T00:00:00",
          "1980-12-31T00:00:00",
          "1990-12-31T00:00:00",
          "2000-12-31T00:00:00",
          "2010-12-31T00:00:00",
          "2020-12-31T00:00:00"
         ],
         "y": [
          null,
          null,
          null,
          null,
          null,
          -0.7972727272727272,
          -0.49799999999999994,
          -0.6756666666666667,
          -0.3852727272727272,
          -0.62116,
          -0.3126249999999998,
          -0.3707416666666667,
          -0.17189166666666672,
          -0.15106666666666663,
          -0.20430833333333345,
          -0.03768333333333333,
          0.02942500000000002,
          -0.031716666666666685,
          0.0022666666666666365,
          0.32695833333333346,
          0.5698166666666666,
          0.7188500000000002,
          0.6550937499999998
         ]
        },
        {
         "line": {
          "color": "grey"
         },
         "name": "Malaysia",
         "opacity": 0.1,
         "type": "scatter",
         "x": [
          "1800-12-31T00:00:00",
          "1810-12-31T00:00:00",
          "1820-12-31T00:00:00",
          "1830-12-31T00:00:00",
          "1840-12-31T00:00:00",
          "1850-12-31T00:00:00",
          "1860-12-31T00:00:00",
          "1870-12-31T00:00:00",
          "1880-12-31T00:00:00",
          "1890-12-31T00:00:00",
          "1900-12-31T00:00:00",
          "1910-12-31T00:00:00",
          "1920-12-31T00:00:00",
          "1930-12-31T00:00:00",
          "1940-12-31T00:00:00",
          "1950-12-31T00:00:00",
          "1960-12-31T00:00:00",
          "1970-12-31T00:00:00",
          "1980-12-31T00:00:00",
          "1990-12-31T00:00:00",
          "2000-12-31T00:00:00",
          "2010-12-31T00:00:00",
          "2020-12-31T00:00:00"
         ],
         "y": [
          null,
          null,
          null,
          -0.38375000000000004,
          -1.017095238095238,
          -0.8059789473684207,
          -0.7250480769230769,
          -0.7529999999999997,
          -0.7159333333333335,
          -0.7407583333333336,
          -0.6693833333333336,
          -0.5696,
          -0.5361833333333336,
          -0.40361666666666685,
          -0.23278333333333334,
          -0.03771666666666667,
          0.015824999999999985,
          -0.029283333333333324,
          0.013483333333333326,
          0.15663333333333332,
          0.2949333333333334,
          0.48579999999999995,
          0.5165000000000001
         ]
        },
        {
         "line": {
          "color": "grey"
         },
         "name": "Mali",
         "opacity": 0.1,
         "type": "scatter",
         "x": [
          "1800-12-31T00:00:00",
          "1810-12-31T00:00:00",
          "1820-12-31T00:00:00",
          "1830-12-31T00:00:00",
          "1840-12-31T00:00:00",
          "1850-12-31T00:00:00",
          "1860-12-31T00:00:00",
          "1870-12-31T00:00:00",
          "1880-12-31T00:00:00",
          "1890-12-31T00:00:00",
          "1900-12-31T00:00:00",
          "1910-12-31T00:00:00",
          "1920-12-31T00:00:00",
          "1930-12-31T00:00:00",
          "1940-12-31T00:00:00",
          "1950-12-31T00:00:00",
          "1960-12-31T00:00:00",
          "1970-12-31T00:00:00",
          "1980-12-31T00:00:00",
          "1990-12-31T00:00:00",
          "2000-12-31T00:00:00",
          "2010-12-31T00:00:00",
          "2020-12-31T00:00:00"
         ],
         "y": [
          null,
          null,
          null,
          null,
          null,
          -0.5850833333333333,
          -0.5700000000000002,
          -0.5896597938144327,
          -0.4689042553191489,
          -0.706466666666667,
          -0.44555833333333333,
          -0.5579833333333333,
          -0.22297500000000006,
          -0.02014166666666666,
          0.026233333333333338,
          0.013283333333333314,
          -0.09544999999999997,
          0.038300000000000015,
          0.057166666666666664,
          0.40947500000000037,
          0.4274583333333333,
          0.8659916666666663,
          0.5605625
         ]
        },
        {
         "line": {
          "color": "grey"
         },
         "name": "Malta",
         "opacity": 0.1,
         "type": "scatter",
         "x": [
          "1800-12-31T00:00:00",
          "1810-12-31T00:00:00",
          "1820-12-31T00:00:00",
          "1830-12-31T00:00:00",
          "1840-12-31T00:00:00",
          "1850-12-31T00:00:00",
          "1860-12-31T00:00:00",
          "1870-12-31T00:00:00",
          "1880-12-31T00:00:00",
          "1890-12-31T00:00:00",
          "1900-12-31T00:00:00",
          "1910-12-31T00:00:00",
          "1920-12-31T00:00:00",
          "1930-12-31T00:00:00",
          "1940-12-31T00:00:00",
          "1950-12-31T00:00:00",
          "1960-12-31T00:00:00",
          "1970-12-31T00:00:00",
          "1980-12-31T00:00:00",
          "1990-12-31T00:00:00",
          "2000-12-31T00:00:00",
          "2010-12-31T00:00:00",
          "2020-12-31T00:00:00"
         ],
         "y": [
          0.44141666666666673,
          -0.11324166666666666,
          -0.7476833333333333,
          -0.3141583333333335,
          -0.54965,
          -0.22608333333333339,
          -0.44233333333333336,
          -0.1338166666666667,
          -0.26001666666666673,
          -0.49949166666666683,
          -0.27195833333333336,
          -0.37061666666666665,
          -0.008975000000000004,
          0.17546666666666663,
          0.13855833333333328,
          0.38235833333333347,
          0.13585,
          0.04927499999999999,
          -0.1851583333333333,
          0.37468333333333337,
          0.7071833333333333,
          1.0244083333333334,
          1.06034375
         ]
        },
        {
         "line": {
          "color": "grey"
         },
         "name": "Martinique",
         "opacity": 0.1,
         "type": "scatter",
         "x": [
          "1800-12-31T00:00:00",
          "1810-12-31T00:00:00",
          "1820-12-31T00:00:00",
          "1830-12-31T00:00:00",
          "1840-12-31T00:00:00",
          "1850-12-31T00:00:00",
          "1860-12-31T00:00:00",
          "1870-12-31T00:00:00",
          "1880-12-31T00:00:00",
          "1890-12-31T00:00:00",
          "1900-12-31T00:00:00",
          "1910-12-31T00:00:00",
          "1920-12-31T00:00:00",
          "1930-12-31T00:00:00",
          "1940-12-31T00:00:00",
          "1950-12-31T00:00:00",
          "1960-12-31T00:00:00",
          "1970-12-31T00:00:00",
          "1980-12-31T00:00:00",
          "1990-12-31T00:00:00",
          "2000-12-31T00:00:00",
          "2010-12-31T00:00:00",
          "2020-12-31T00:00:00"
         ],
         "y": [
          null,
          null,
          null,
          -0.36184615384615376,
          null,
          -0.705927536231884,
          -0.7484916666666669,
          -0.620975,
          -0.48213333333333336,
          -0.7542916666666667,
          -0.5644916666666666,
          -0.5484166666666666,
          -0.5623333333333334,
          -0.3517666666666667,
          -0.2343500000000001,
          -0.19678333333333342,
          0.026116666666666667,
          0.01603333333333331,
          -0.04214999999999999,
          0.17788333333333328,
          0.41110833333333324,
          0.6870083333333332,
          0.6843437500000001
         ]
        },
        {
         "line": {
          "color": "grey"
         },
         "name": "Mauritania",
         "opacity": 0.1,
         "type": "scatter",
         "x": [
          "1800-12-31T00:00:00",
          "1810-12-31T00:00:00",
          "1820-12-31T00:00:00",
          "1830-12-31T00:00:00",
          "1840-12-31T00:00:00",
          "1850-12-31T00:00:00",
          "1860-12-31T00:00:00",
          "1870-12-31T00:00:00",
          "1880-12-31T00:00:00",
          "1890-12-31T00:00:00",
          "1900-12-31T00:00:00",
          "1910-12-31T00:00:00",
          "1920-12-31T00:00:00",
          "1930-12-31T00:00:00",
          "1940-12-31T00:00:00",
          "1950-12-31T00:00:00",
          "1960-12-31T00:00:00",
          "1970-12-31T00:00:00",
          "1980-12-31T00:00:00",
          "1990-12-31T00:00:00",
          "2000-12-31T00:00:00",
          "2010-12-31T00:00:00",
          "2020-12-31T00:00:00"
         ],
         "y": [
          null,
          null,
          null,
          null,
          null,
          -0.4592916666666666,
          -0.44573195876288657,
          -0.3782333333333333,
          -0.4254583333333333,
          -0.5501833333333332,
          -0.18535000000000004,
          -0.4067333333333335,
          -0.22278333333333342,
          0.008625,
          -0.06611666666666662,
          -0.005025000000000026,
          -0.119575,
          0.16056666666666664,
          -0.0411166666666666,
          0.5311666666666667,
          0.5955083333333335,
          1.0169666666666666,
          0.7577187499999999
         ]
        },
        {
         "line": {
          "color": "grey"
         },
         "name": "Mauritius",
         "opacity": 0.1,
         "type": "scatter",
         "x": [
          "1800-12-31T00:00:00",
          "1810-12-31T00:00:00",
          "1820-12-31T00:00:00",
          "1830-12-31T00:00:00",
          "1840-12-31T00:00:00",
          "1850-12-31T00:00:00",
          "1860-12-31T00:00:00",
          "1870-12-31T00:00:00",
          "1880-12-31T00:00:00",
          "1890-12-31T00:00:00",
          "1900-12-31T00:00:00",
          "1910-12-31T00:00:00",
          "1920-12-31T00:00:00",
          "1930-12-31T00:00:00",
          "1940-12-31T00:00:00",
          "1950-12-31T00:00:00",
          "1960-12-31T00:00:00",
          "1970-12-31T00:00:00",
          "1980-12-31T00:00:00",
          "1990-12-31T00:00:00",
          "2000-12-31T00:00:00",
          "2010-12-31T00:00:00",
          "2020-12-31T00:00:00"
         ],
         "y": [
          null,
          0.32152941176470584,
          null,
          null,
          null,
          null,
          -0.7198526315789472,
          -0.33975,
          null,
          -0.7620434782608696,
          -0.5159416666666666,
          -0.4516583333333333,
          -0.36173333333333324,
          -0.32646666666666674,
          -0.10403333333333334,
          -0.05568333333333333,
          -0.05024166666666667,
          -0.07007499999999996,
          0.12034166666666667,
          0.21531666666666668,
          0.44603333333333317,
          0.7769166666666668,
          0.76171875
         ]
        },
        {
         "line": {
          "color": "grey"
         },
         "name": "Mexico",
         "opacity": 0.1,
         "type": "scatter",
         "x": [
          "1800-12-31T00:00:00",
          "1810-12-31T00:00:00",
          "1820-12-31T00:00:00",
          "1830-12-31T00:00:00",
          "1840-12-31T00:00:00",
          "1850-12-31T00:00:00",
          "1860-12-31T00:00:00",
          "1870-12-31T00:00:00",
          "1880-12-31T00:00:00",
          "1890-12-31T00:00:00",
          "1900-12-31T00:00:00",
          "1910-12-31T00:00:00",
          "1920-12-31T00:00:00",
          "1930-12-31T00:00:00",
          "1940-12-31T00:00:00",
          "1950-12-31T00:00:00",
          "1960-12-31T00:00:00",
          "1970-12-31T00:00:00",
          "1980-12-31T00:00:00",
          "1990-12-31T00:00:00",
          "2000-12-31T00:00:00",
          "2010-12-31T00:00:00",
          "2020-12-31T00:00:00"
         ],
         "y": [
          null,
          null,
          null,
          null,
          -1.1962916666666663,
          -0.6115916666666668,
          -0.5891749999999999,
          -0.15932499999999997,
          -0.35030000000000006,
          -0.570225,
          -0.46844999999999987,
          -0.38881666666666664,
          -0.4112333333333334,
          -0.06595833333333333,
          -0.024616666666666672,
          0.15719999999999998,
          0.1488249999999998,
          -0.06361666666666664,
          -0.08522499999999997,
          0.01719166666666666,
          0.36566666666666664,
          0.461575,
          0.827090909090909
         ]
        },
        {
         "line": {
          "color": "grey"
         },
         "name": "Moldova",
         "opacity": 0.1,
         "type": "scatter",
         "x": [
          "1800-12-31T00:00:00",
          "1810-12-31T00:00:00",
          "1820-12-31T00:00:00",
          "1830-12-31T00:00:00",
          "1840-12-31T00:00:00",
          "1850-12-31T00:00:00",
          "1860-12-31T00:00:00",
          "1870-12-31T00:00:00",
          "1880-12-31T00:00:00",
          "1890-12-31T00:00:00",
          "1900-12-31T00:00:00",
          "1910-12-31T00:00:00",
          "1920-12-31T00:00:00",
          "1930-12-31T00:00:00",
          "1940-12-31T00:00:00",
          "1950-12-31T00:00:00",
          "1960-12-31T00:00:00",
          "1970-12-31T00:00:00",
          "1980-12-31T00:00:00",
          "1990-12-31T00:00:00",
          "2000-12-31T00:00:00",
          "2010-12-31T00:00:00",
          "2020-12-31T00:00:00"
         ],
         "y": [
          -0.18983333333333338,
          -0.31294166666666673,
          -0.8397333333333334,
          -0.32204999999999995,
          -1.1236916666666663,
          -0.3901166666666668,
          -0.3631500000000001,
          -0.5332749999999998,
          -0.600491666666667,
          -0.6285416666666667,
          -0.37880833333333336,
          -0.4008166666666669,
          -0.3169416666666666,
          -0.16449166666666673,
          -0.19580833333333325,
          -0.34828333333333317,
          -0.012058333333333377,
          0.06945000000000004,
          -0.05737499999999999,
          0.1648416666666667,
          0.42806666666666676,
          1.0584250000000002,
          1.23596875
         ]
        },
        {
         "line": {
          "color": "grey"
         },
         "name": "Mongolia",
         "opacity": 0.1,
         "type": "scatter",
         "x": [
          "1800-12-31T00:00:00",
          "1810-12-31T00:00:00",
          "1820-12-31T00:00:00",
          "1830-12-31T00:00:00",
          "1840-12-31T00:00:00",
          "1850-12-31T00:00:00",
          "1860-12-31T00:00:00",
          "1870-12-31T00:00:00",
          "1880-12-31T00:00:00",
          "1890-12-31T00:00:00",
          "1900-12-31T00:00:00",
          "1910-12-31T00:00:00",
          "1920-12-31T00:00:00",
          "1930-12-31T00:00:00",
          "1940-12-31T00:00:00",
          "1950-12-31T00:00:00",
          "1960-12-31T00:00:00",
          "1970-12-31T00:00:00",
          "1980-12-31T00:00:00",
          "1990-12-31T00:00:00",
          "2000-12-31T00:00:00",
          "2010-12-31T00:00:00",
          "2020-12-31T00:00:00"
         ],
         "y": [
          null,
          null,
          -2.0476,
          -0.40739166666666693,
          -1.1353949579831932,
          -0.6084916666666663,
          -0.8115666666666667,
          -0.6073500000000001,
          -0.3113749999999999,
          -0.6046166666666666,
          -0.4701833333333332,
          -0.6404999999999997,
          -0.45980000000000004,
          -0.27953333333333347,
          -0.40899166666666653,
          -0.10787499999999996,
          -0.3519333333333332,
          0.03270833333333324,
          0.31919166666666676,
          0.42885833333333345,
          1.1963833333333336,
          1.3532416666666667,
          0.5250937499999999
         ]
        },
        {
         "line": {
          "color": "grey"
         },
         "name": "Montenegro",
         "opacity": 0.1,
         "type": "scatter",
         "x": [
          "1800-12-31T00:00:00",
          "1810-12-31T00:00:00",
          "1820-12-31T00:00:00",
          "1830-12-31T00:00:00",
          "1840-12-31T00:00:00",
          "1850-12-31T00:00:00",
          "1860-12-31T00:00:00",
          "1870-12-31T00:00:00",
          "1880-12-31T00:00:00",
          "1890-12-31T00:00:00",
          "1900-12-31T00:00:00",
          "1910-12-31T00:00:00",
          "1920-12-31T00:00:00",
          "1930-12-31T00:00:00",
          "1940-12-31T00:00:00",
          "1950-12-31T00:00:00",
          "1960-12-31T00:00:00",
          "1970-12-31T00:00:00",
          "1980-12-31T00:00:00",
          "1990-12-31T00:00:00",
          "2000-12-31T00:00:00",
          "2010-12-31T00:00:00",
          "2020-12-31T00:00:00"
         ],
         "y": [
          0.19441666666666668,
          -0.19165000000000001,
          -0.6722333333333335,
          -0.2966916666666667,
          -0.7601499999999998,
          -0.357475,
          -0.4720916666666667,
          -0.2504583333333333,
          -0.44719166666666665,
          -0.5924750000000001,
          -0.3901249999999999,
          -0.38,
          -0.26246666666666674,
          0.07632499999999998,
          -0.09600833333333333,
          0.12180833333333334,
          0.169125,
          0.038816666666666715,
          -0.2079416666666667,
          0.15516666666666667,
          0.47795833333333365,
          0.7559999999999992,
          1.16878125
         ]
        },
        {
         "line": {
          "color": "grey"
         },
         "name": "Montserrat",
         "opacity": 0.1,
         "type": "scatter",
         "x": [
          "1800-12-31T00:00:00",
          "1810-12-31T00:00:00",
          "1820-12-31T00:00:00",
          "1830-12-31T00:00:00",
          "1840-12-31T00:00:00",
          "1850-12-31T00:00:00",
          "1860-12-31T00:00:00",
          "1870-12-31T00:00:00",
          "1880-12-31T00:00:00",
          "1890-12-31T00:00:00",
          "1900-12-31T00:00:00",
          "1910-12-31T00:00:00",
          "1920-12-31T00:00:00",
          "1930-12-31T00:00:00",
          "1940-12-31T00:00:00",
          "1950-12-31T00:00:00",
          "1960-12-31T00:00:00",
          "1970-12-31T00:00:00",
          "1980-12-31T00:00:00",
          "1990-12-31T00:00:00",
          "2000-12-31T00:00:00",
          "2010-12-31T00:00:00",
          "2020-12-31T00:00:00"
         ],
         "y": [
          null,
          null,
          null,
          -0.3208461538461539,
          null,
          -0.7104347826086957,
          -0.7408999999999996,
          -0.6037583333333332,
          -0.46800833333333325,
          -0.7464666666666664,
          -0.5365499999999999,
          -0.51435,
          -0.5354666666666664,
          -0.3340666666666667,
          -0.22308333333333327,
          -0.19378333333333328,
          0.05573333333333334,
          -0.016858333333333347,
          -0.038908333333333336,
          0.18635833333333343,
          0.42600000000000027,
          0.71755,
          0.682125
         ]
        },
        {
         "line": {
          "color": "grey"
         },
         "name": "Morocco",
         "opacity": 0.1,
         "type": "scatter",
         "x": [
          "1800-12-31T00:00:00",
          "1810-12-31T00:00:00",
          "1820-12-31T00:00:00",
          "1830-12-31T00:00:00",
          "1840-12-31T00:00:00",
          "1850-12-31T00:00:00",
          "1860-12-31T00:00:00",
          "1870-12-31T00:00:00",
          "1880-12-31T00:00:00",
          "1890-12-31T00:00:00",
          "1900-12-31T00:00:00",
          "1910-12-31T00:00:00",
          "1920-12-31T00:00:00",
          "1930-12-31T00:00:00",
          "1940-12-31T00:00:00",
          "1950-12-31T00:00:00",
          "1960-12-31T00:00:00",
          "1970-12-31T00:00:00",
          "1980-12-31T00:00:00",
          "1990-12-31T00:00:00",
          "2000-12-31T00:00:00",
          "2010-12-31T00:00:00",
          "2020-12-31T00:00:00"
         ],
         "y": [
          0.389,
          -0.2690840336134454,
          -0.8442000000000005,
          -0.19035833333333346,
          -0.39344999999999997,
          -0.3265666666666665,
          -0.3153416666666667,
          -0.15520833333333342,
          -0.22982499999999992,
          -0.4986833333333334,
          -0.07922500000000003,
          -0.35564166666666674,
          -0.33694166666666653,
          -0.021558333333333332,
          -0.10296666666666666,
          0.28612499999999996,
          0.05145000000000001,
          0.19707499999999997,
          -0.24856666666666685,
          0.5814833333333331,
          0.5923583333333333,
          1.1084999999999998,
          1.0694687500000002
         ]
        },
        {
         "line": {
          "color": "grey"
         },
         "name": "Mozambique",
         "opacity": 0.1,
         "type": "scatter",
         "x": [
          "1800-12-31T00:00:00",
          "1810-12-31T00:00:00",
          "1820-12-31T00:00:00",
          "1830-12-31T00:00:00",
          "1840-12-31T00:00:00",
          "1850-12-31T00:00:00",
          "1860-12-31T00:00:00",
          "1870-12-31T00:00:00",
          "1880-12-31T00:00:00",
          "1890-12-31T00:00:00",
          "1900-12-31T00:00:00",
          "1910-12-31T00:00:00",
          "1920-12-31T00:00:00",
          "1930-12-31T00:00:00",
          "1940-12-31T00:00:00",
          "1950-12-31T00:00:00",
          "1960-12-31T00:00:00",
          "1970-12-31T00:00:00",
          "1980-12-31T00:00:00",
          "1990-12-31T00:00:00",
          "2000-12-31T00:00:00",
          "2010-12-31T00:00:00",
          "2020-12-31T00:00:00"
         ],
         "y": [
          null,
          null,
          null,
          null,
          null,
          -0.8107272727272729,
          -0.5352,
          -0.68125,
          -0.4164727272727273,
          -0.6298403361344539,
          -0.35756666666666637,
          -0.42025,
          -0.2296,
          -0.20479999999999995,
          -0.2262500000000001,
          -0.027724999999999986,
          0.0013750000000000077,
          0.013633333333333355,
          -0.015041666666666668,
          0.30942499999999995,
          0.5967916666666665,
          0.6712416666666665,
          0.5210937499999999
         ]
        },
        {
         "line": {
          "color": "grey"
         },
         "name": "Namibia",
         "opacity": 0.1,
         "type": "scatter",
         "x": [
          "1800-12-31T00:00:00",
          "1810-12-31T00:00:00",
          "1820-12-31T00:00:00",
          "1830-12-31T00:00:00",
          "1840-12-31T00:00:00",
          "1850-12-31T00:00:00",
          "1860-12-31T00:00:00",
          "1870-12-31T00:00:00",
          "1880-12-31T00:00:00",
          "1890-12-31T00:00:00",
          "1900-12-31T00:00:00",
          "1910-12-31T00:00:00",
          "1920-12-31T00:00:00",
          "1930-12-31T00:00:00",
          "1940-12-31T00:00:00",
          "1950-12-31T00:00:00",
          "1960-12-31T00:00:00",
          "1970-12-31T00:00:00",
          "1980-12-31T00:00:00",
          "1990-12-31T00:00:00",
          "2000-12-31T00:00:00",
          "2010-12-31T00:00:00",
          "2020-12-31T00:00:00"
         ],
         "y": [
          null,
          null,
          null,
          null,
          null,
          null,
          -0.6889565217391305,
          -0.48083333333333317,
          -0.5353620689655172,
          -0.5671333333333334,
          -0.4375666666666664,
          -0.5675583333333332,
          -0.25384999999999996,
          0.06274166666666665,
          -0.18958333333333327,
          0.1606166666666667,
          -0.059225,
          0.0968833333333333,
          -0.037608333333333334,
          0.47503333333333325,
          0.6090999999999999,
          0.7261999999999994,
          0.4419375
         ]
        },
        {
         "line": {
          "color": "grey"
         },
         "name": "Nepal",
         "opacity": 0.1,
         "type": "scatter",
         "x": [
          "1800-12-31T00:00:00",
          "1810-12-31T00:00:00",
          "1820-12-31T00:00:00",
          "1830-12-31T00:00:00",
          "1840-12-31T00:00:00",
          "1850-12-31T00:00:00",
          "1860-12-31T00:00:00",
          "1870-12-31T00:00:00",
          "1880-12-31T00:00:00",
          "1890-12-31T00:00:00",
          "1900-12-31T00:00:00",
          "1910-12-31T00:00:00",
          "1920-12-31T00:00:00",
          "1930-12-31T00:00:00",
          "1940-12-31T00:00:00",
          "1950-12-31T00:00:00",
          "1960-12-31T00:00:00",
          "1970-12-31T00:00:00",
          "1980-12-31T00:00:00",
          "1990-12-31T00:00:00",
          "2000-12-31T00:00:00",
          "2010-12-31T00:00:00",
          "2020-12-31T00:00:00"
         ],
         "y": [
          -0.25466666666666665,
          -0.060575000000000004,
          -1.3657157894736842,
          -0.4500166666666666,
          -0.9565593220338982,
          -0.8260583333333333,
          -0.7044268292682926,
          -0.4949850746268657,
          -0.39493333333333336,
          -0.5827916666666666,
          -0.33290000000000003,
          -0.32148333333333323,
          -0.47616666666666646,
          -0.24549999999999994,
          -0.313475,
          -0.08712500000000005,
          0.16075833333333334,
          -0.12213333333333334,
          -0.038666666666666724,
          0.057233333333333296,
          0.2460166666666666,
          0.6298666666666667,
          0.208625
         ]
        },
        {
         "line": {
          "color": "grey"
         },
         "name": "Netherlands",
         "opacity": 0.1,
         "type": "scatter",
         "x": [
          "1800-12-31T00:00:00",
          "1810-12-31T00:00:00",
          "1820-12-31T00:00:00",
          "1830-12-31T00:00:00",
          "1840-12-31T00:00:00",
          "1850-12-31T00:00:00",
          "1860-12-31T00:00:00",
          "1870-12-31T00:00:00",
          "1880-12-31T00:00:00",
          "1890-12-31T00:00:00",
          "1900-12-31T00:00:00",
          "1910-12-31T00:00:00",
          "1920-12-31T00:00:00",
          "1930-12-31T00:00:00",
          "1940-12-31T00:00:00",
          "1950-12-31T00:00:00",
          "1960-12-31T00:00:00",
          "1970-12-31T00:00:00",
          "1980-12-31T00:00:00",
          "1990-12-31T00:00:00",
          "2000-12-31T00:00:00",
          "2010-12-31T00:00:00",
          "2020-12-31T00:00:00"
         ],
         "y": [
          -0.3630833333333334,
          -0.5786,
          -0.5312750000000002,
          -0.1573333333333333,
          -0.31029999999999996,
          -0.3575000000000001,
          -0.5409333333333333,
          -0.13194999999999998,
          -0.3244833333333335,
          -0.6346749999999999,
          -0.2941083333333335,
          -0.36906666666666665,
          -0.07483333333333331,
          -0.15128333333333333,
          0.11032500000000003,
          0.17012499999999994,
          0.08596666666666672,
          -0.19375833333333337,
          0.10778333333333334,
          0.3279583333333334,
          0.7388166666666669,
          1.09575,
          0.8105625000000002
         ]
        },
        {
         "line": {
          "color": "grey"
         },
         "name": "New Caledonia",
         "opacity": 0.1,
         "type": "scatter",
         "x": [
          "1800-12-31T00:00:00",
          "1810-12-31T00:00:00",
          "1820-12-31T00:00:00",
          "1830-12-31T00:00:00",
          "1840-12-31T00:00:00",
          "1850-12-31T00:00:00",
          "1860-12-31T00:00:00",
          "1870-12-31T00:00:00",
          "1880-12-31T00:00:00",
          "1890-12-31T00:00:00",
          "1900-12-31T00:00:00",
          "1910-12-31T00:00:00",
          "1920-12-31T00:00:00",
          "1930-12-31T00:00:00",
          "1940-12-31T00:00:00",
          "1950-12-31T00:00:00",
          "1960-12-31T00:00:00",
          "1970-12-31T00:00:00",
          "1980-12-31T00:00:00",
          "1990-12-31T00:00:00",
          "2000-12-31T00:00:00",
          "2010-12-31T00:00:00",
          "2020-12-31T00:00:00"
         ],
         "y": [
          null,
          null,
          null,
          null,
          null,
          null,
          -0.7727499999999998,
          -0.5566134453781515,
          -0.41851666666666676,
          -0.7090833333333333,
          -0.5259583333333332,
          -0.5056916666666668,
          -0.2248916666666668,
          -0.30885,
          -0.1561833333333333,
          0.03890833333333332,
          -0.0027749999999999923,
          -0.1415583333333333,
          0.1443166666666665,
          0.3122333333333333,
          0.46085833333333337,
          0.6417833333333334,
          0.49584375
         ]
        },
        {
         "line": {
          "color": "grey"
         },
         "name": "New Zealand",
         "opacity": 0.1,
         "type": "scatter",
         "x": [
          "1800-12-31T00:00:00",
          "1810-12-31T00:00:00",
          "1820-12-31T00:00:00",
          "1830-12-31T00:00:00",
          "1840-12-31T00:00:00",
          "1850-12-31T00:00:00",
          "1860-12-31T00:00:00",
          "1870-12-31T00:00:00",
          "1880-12-31T00:00:00",
          "1890-12-31T00:00:00",
          "1900-12-31T00:00:00",
          "1910-12-31T00:00:00",
          "1920-12-31T00:00:00",
          "1930-12-31T00:00:00",
          "1940-12-31T00:00:00",
          "1950-12-31T00:00:00",
          "1960-12-31T00:00:00",
          "1970-12-31T00:00:00",
          "1980-12-31T00:00:00",
          "1990-12-31T00:00:00",
          "2000-12-31T00:00:00",
          "2010-12-31T00:00:00",
          "2020-12-31T00:00:00"
         ],
         "y": [
          null,
          null,
          null,
          null,
          null,
          null,
          -1.0647291666666665,
          -0.42585833333333334,
          -0.4008166666666667,
          -0.7481916666666667,
          -0.62105,
          -0.7873833333333331,
          -0.42565833333333336,
          -0.36065833333333347,
          -0.28776666666666656,
          -0.25862500000000005,
          -0.023800000000000064,
          -0.09091666666666663,
          0.11463333333333335,
          0.29355,
          0.13267499999999996,
          0.3528083333333335,
          0.3871875
         ]
        },
        {
         "line": {
          "color": "grey"
         },
         "name": "Nicaragua",
         "opacity": 0.1,
         "type": "scatter",
         "x": [
          "1800-12-31T00:00:00",
          "1810-12-31T00:00:00",
          "1820-12-31T00:00:00",
          "1830-12-31T00:00:00",
          "1840-12-31T00:00:00",
          "1850-12-31T00:00:00",
          "1860-12-31T00:00:00",
          "1870-12-31T00:00:00",
          "1880-12-31T00:00:00",
          "1890-12-31T00:00:00",
          "1900-12-31T00:00:00",
          "1910-12-31T00:00:00",
          "1920-12-31T00:00:00",
          "1930-12-31T00:00:00",
          "1940-12-31T00:00:00",
          "1950-12-31T00:00:00",
          "1960-12-31T00:00:00",
          "1970-12-31T00:00:00",
          "1980-12-31T00:00:00",
          "1990-12-31T00:00:00",
          "2000-12-31T00:00:00",
          "2010-12-31T00:00:00",
          "2020-12-31T00:00:00"
         ],
         "y": [
          null,
          null,
          null,
          -0.2793888888888889,
          -1.0362619047619048,
          -0.7068086956521741,
          -0.7889166666666662,
          -0.5744166666666667,
          -0.43488333333333334,
          -0.7399583333333333,
          -0.46335000000000004,
          -0.7079833333333334,
          -0.3605583333333334,
          -0.14459166666666665,
          -0.17440000000000003,
          -0.03573333333333335,
          0.056783333333333325,
          -0.09428333333333336,
          0.03745833333333333,
          0.22216666666666676,
          0.5523916666666668,
          0.5280833333333335,
          0.3965151515151515
         ]
        },
        {
         "line": {
          "color": "grey"
         },
         "name": "Niger",
         "opacity": 0.1,
         "type": "scatter",
         "x": [
          "1800-12-31T00:00:00",
          "1810-12-31T00:00:00",
          "1820-12-31T00:00:00",
          "1830-12-31T00:00:00",
          "1840-12-31T00:00:00",
          "1850-12-31T00:00:00",
          "1860-12-31T00:00:00",
          "1870-12-31T00:00:00",
          "1880-12-31T00:00:00",
          "1890-12-31T00:00:00",
          "1900-12-31T00:00:00",
          "1910-12-31T00:00:00",
          "1920-12-31T00:00:00",
          "1930-12-31T00:00:00",
          "1940-12-31T00:00:00",
          "1950-12-31T00:00:00",
          "1960-12-31T00:00:00",
          "1970-12-31T00:00:00",
          "1980-12-31T00:00:00",
          "1990-12-31T00:00:00",
          "2000-12-31T00:00:00",
          "2010-12-31T00:00:00",
          "2020-12-31T00:00:00"
         ],
         "y": [
          null,
          null,
          -0.66275,
          -0.6574,
          null,
          null,
          -0.5505365853658539,
          -0.7816428571428571,
          -0.40010869565217416,
          -0.7887333333333333,
          -0.5008083333333336,
          -0.6513583333333334,
          -0.16083333333333333,
          0.05853333333333334,
          0.23372500000000007,
          0.04140000000000006,
          -0.03904166666666665,
          -0.020524999999999922,
          0.05960833333333331,
          0.24806666666666677,
          0.39831666666666654,
          0.9390999999999998,
          0.82978125
         ]
        },
        {
         "line": {
          "color": "grey"
         },
         "name": "Nigeria",
         "opacity": 0.1,
         "type": "scatter",
         "x": [
          "1800-12-31T00:00:00",
          "1810-12-31T00:00:00",
          "1820-12-31T00:00:00",
          "1830-12-31T00:00:00",
          "1840-12-31T00:00:00",
          "1850-12-31T00:00:00",
          "1860-12-31T00:00:00",
          "1870-12-31T00:00:00",
          "1880-12-31T00:00:00",
          "1890-12-31T00:00:00",
          "1900-12-31T00:00:00",
          "1910-12-31T00:00:00",
          "1920-12-31T00:00:00",
          "1930-12-31T00:00:00",
          "1940-12-31T00:00:00",
          "1950-12-31T00:00:00",
          "1960-12-31T00:00:00",
          "1970-12-31T00:00:00",
          "1980-12-31T00:00:00",
          "1990-12-31T00:00:00",
          "2000-12-31T00:00:00",
          "2010-12-31T00:00:00",
          "2020-12-31T00:00:00"
         ],
         "y": [
          null,
          null,
          null,
          null,
          null,
          null,
          -0.6698048780487805,
          -0.8635714285714285,
          -0.5129204545454545,
          -0.8438207547169811,
          -0.6623833333333333,
          -0.6519916666666667,
          -0.10980833333333329,
          0.07178333333333332,
          0.2465833333333334,
          0.22020000000000003,
          -0.08456666666666666,
          -0.01372499999999999,
          0.09827499999999997,
          0.22909999999999994,
          0.32001666666666667,
          0.8091666666666663,
          0.7262187499999999
         ]
        },
        {
         "line": {
          "color": "grey"
         },
         "name": "Niue",
         "opacity": 0.1,
         "type": "scatter",
         "x": [
          "1800-12-31T00:00:00",
          "1810-12-31T00:00:00",
          "1820-12-31T00:00:00",
          "1830-12-31T00:00:00",
          "1840-12-31T00:00:00",
          "1850-12-31T00:00:00",
          "1860-12-31T00:00:00",
          "1870-12-31T00:00:00",
          "1880-12-31T00:00:00",
          "1890-12-31T00:00:00",
          "1900-12-31T00:00:00",
          "1910-12-31T00:00:00",
          "1920-12-31T00:00:00",
          "1930-12-31T00:00:00",
          "1940-12-31T00:00:00",
          "1950-12-31T00:00:00",
          "1960-12-31T00:00:00",
          "1970-12-31T00:00:00",
          "1980-12-31T00:00:00",
          "1990-12-31T00:00:00",
          "2000-12-31T00:00:00",
          "2010-12-31T00:00:00",
          "2020-12-31T00:00:00"
         ],
         "y": [
          null,
          null,
          null,
          null,
          null,
          null,
          null,
          -0.5759117647058823,
          -0.6072884615384616,
          -0.9087464788732397,
          -0.6012666666666663,
          -0.604108333333333,
          -0.5678250000000001,
          -0.3655666666666668,
          0.06167500000000004,
          -0.04349166666666666,
          -0.001216666666666683,
          -0.10086666666666673,
          0.10207499999999999,
          0.18130000000000004,
          0.31925000000000003,
          0.4830583333333335,
          0.659875
         ]
        },
        {
         "line": {
          "color": "grey"
         },
         "name": "North Korea",
         "opacity": 0.1,
         "type": "scatter",
         "x": [
          "1800-12-31T00:00:00",
          "1810-12-31T00:00:00",
          "1820-12-31T00:00:00",
          "1830-12-31T00:00:00",
          "1840-12-31T00:00:00",
          "1850-12-31T00:00:00",
          "1860-12-31T00:00:00",
          "1870-12-31T00:00:00",
          "1880-12-31T00:00:00",
          "1890-12-31T00:00:00",
          "1900-12-31T00:00:00",
          "1910-12-31T00:00:00",
          "1920-12-31T00:00:00",
          "1930-12-31T00:00:00",
          "1940-12-31T00:00:00",
          "1950-12-31T00:00:00",
          "1960-12-31T00:00:00",
          "1970-12-31T00:00:00",
          "1980-12-31T00:00:00",
          "1990-12-31T00:00:00",
          "2000-12-31T00:00:00",
          "2010-12-31T00:00:00",
          "2020-12-31T00:00:00"
         ],
         "y": [
          null,
          null,
          null,
          null,
          -1.0344583333333337,
          -0.6695166666666668,
          -0.8159500000000003,
          -0.6187583333333335,
          -0.47780000000000006,
          -0.6025916666666666,
          -0.3968583333333333,
          -0.46415833333333345,
          -0.5388583333333334,
          -0.3524166666666666,
          -0.17999999999999997,
          -0.16044166666666665,
          -0.017741666666666614,
          -0.09867500000000003,
          0.11644999999999996,
          0.3165583333333333,
          0.8619666666666667,
          1.0087750000000004,
          0.39165625000000004
         ]
        },
        {
         "line": {
          "color": "grey"
         },
         "name": "Norway",
         "opacity": 0.1,
         "type": "scatter",
         "x": [
          "1800-12-31T00:00:00",
          "1810-12-31T00:00:00",
          "1820-12-31T00:00:00",
          "1830-12-31T00:00:00",
          "1840-12-31T00:00:00",
          "1850-12-31T00:00:00",
          "1860-12-31T00:00:00",
          "1870-12-31T00:00:00",
          "1880-12-31T00:00:00",
          "1890-12-31T00:00:00",
          "1900-12-31T00:00:00",
          "1910-12-31T00:00:00",
          "1920-12-31T00:00:00",
          "1930-12-31T00:00:00",
          "1940-12-31T00:00:00",
          "1950-12-31T00:00:00",
          "1960-12-31T00:00:00",
          "1970-12-31T00:00:00",
          "1980-12-31T00:00:00",
          "1990-12-31T00:00:00",
          "2000-12-31T00:00:00",
          "2010-12-31T00:00:00",
          "2020-12-31T00:00:00"
         ],
         "y": [
          -0.5464999999999999,
          -0.7145083333333339,
          -0.6600333333333335,
          -0.020833333333333356,
          -0.5758333333333333,
          -0.4496250000000001,
          -0.39224166666666666,
          -0.5987749999999998,
          -0.5742833333333334,
          -0.35692500000000005,
          -0.47176666666666656,
          -0.2861833333333334,
          -0.24890833333333343,
          -0.012766666666666652,
          0.6725333333333336,
          0.2553249999999998,
          0.1919166666666667,
          -0.3370499999999999,
          0.14514166666666667,
          0.22977499999999995,
          0.6277333333333335,
          1.1126250000000002,
          1.2518750000000003
         ]
        },
        {
         "line": {
          "color": "grey"
         },
         "name": "Oman",
         "opacity": 0.1,
         "type": "scatter",
         "x": [
          "1800-12-31T00:00:00",
          "1810-12-31T00:00:00",
          "1820-12-31T00:00:00",
          "1830-12-31T00:00:00",
          "1840-12-31T00:00:00",
          "1850-12-31T00:00:00",
          "1860-12-31T00:00:00",
          "1870-12-31T00:00:00",
          "1880-12-31T00:00:00",
          "1890-12-31T00:00:00",
          "1900-12-31T00:00:00",
          "1910-12-31T00:00:00",
          "1920-12-31T00:00:00",
          "1930-12-31T00:00:00",
          "1940-12-31T00:00:00",
          "1950-12-31T00:00:00",
          "1960-12-31T00:00:00",
          "1970-12-31T00:00:00",
          "1980-12-31T00:00:00",
          "1990-12-31T00:00:00",
          "2000-12-31T00:00:00",
          "2010-12-31T00:00:00",
          "2020-12-31T00:00:00"
         ],
         "y": [
          null,
          null,
          null,
          null,
          null,
          -0.7692631578947369,
          -0.5258333333333334,
          null,
          -0.42226388888888894,
          -0.4141833333333332,
          -0.35746666666666677,
          -0.3521166666666667,
          -0.38058333333333333,
          -0.18370833333333333,
          -0.32307499999999995,
          -0.10678333333333337,
          -0.031441666666666666,
          -0.031024999999999976,
          0.06253333333333336,
          -0.018683333333333312,
          0.5239999999999999,
          1.1806333333333334,
          1.0278749999999999
         ]
        },
        {
         "line": {
          "color": "grey"
         },
         "name": "Pakistan",
         "opacity": 0.1,
         "type": "scatter",
         "x": [
          "1800-12-31T00:00:00",
          "1810-12-31T00:00:00",
          "1820-12-31T00:00:00",
          "1830-12-31T00:00:00",
          "1840-12-31T00:00:00",
          "1850-12-31T00:00:00",
          "1860-12-31T00:00:00",
          "1870-12-31T00:00:00",
          "1880-12-31T00:00:00",
          "1890-12-31T00:00:00",
          "1900-12-31T00:00:00",
          "1910-12-31T00:00:00",
          "1920-12-31T00:00:00",
          "1930-12-31T00:00:00",
          "1940-12-31T00:00:00",
          "1950-12-31T00:00:00",
          "1960-12-31T00:00:00",
          "1970-12-31T00:00:00",
          "1980-12-31T00:00:00",
          "1990-12-31T00:00:00",
          "2000-12-31T00:00:00",
          "2010-12-31T00:00:00",
          "2020-12-31T00:00:00"
         ],
         "y": [
          null,
          null,
          -1.2608771929824563,
          -0.5852571428571429,
          -0.7711971830985914,
          -0.6984949494949497,
          -0.6049512195121952,
          -0.37149999999999994,
          -0.29345378151260504,
          -0.4338666666666666,
          -0.22242500000000004,
          -0.3706250000000001,
          -0.30473333333333336,
          -0.28518333333333334,
          -0.22167499999999998,
          0.06137499999999998,
          0.09295833333333338,
          -0.0792416666666667,
          -0.013741666666666714,
          0.33864999999999995,
          0.5337500000000001,
          1.0690833333333336,
          0.7166250000000002
         ]
        },
        {
         "line": {
          "color": "grey"
         },
         "name": "Palau",
         "opacity": 0.1,
         "type": "scatter",
         "x": [
          "1800-12-31T00:00:00",
          "1810-12-31T00:00:00",
          "1820-12-31T00:00:00",
          "1830-12-31T00:00:00",
          "1840-12-31T00:00:00",
          "1850-12-31T00:00:00",
          "1860-12-31T00:00:00",
          "1870-12-31T00:00:00",
          "1880-12-31T00:00:00",
          "1890-12-31T00:00:00",
          "1900-12-31T00:00:00",
          "1910-12-31T00:00:00",
          "1920-12-31T00:00:00",
          "1930-12-31T00:00:00",
          "1940-12-31T00:00:00",
          "1950-12-31T00:00:00",
          "1960-12-31T00:00:00",
          "1970-12-31T00:00:00",
          "1980-12-31T00:00:00",
          "1990-12-31T00:00:00",
          "2000-12-31T00:00:00",
          "2010-12-31T00:00:00",
          "2020-12-31T00:00:00"
         ],
         "y": [
          null,
          null,
          null,
          null,
          null,
          null,
          null,
          null,
          null,
          -0.8633148148148151,
          -0.6837592592592588,
          -0.710763636363636,
          -0.5074666666666666,
          -0.3886416666666665,
          -0.3274,
          -0.15629999999999994,
          -0.021183333333333318,
          -0.03585000000000002,
          0.05703333333333332,
          0.23190000000000005,
          0.26536666666666653,
          0.3481916666666667,
          0.28215625000000005
         ]
        },
        {
         "line": {
          "color": "grey"
         },
         "name": "Palestina",
         "opacity": 0.1,
         "type": "scatter",
         "x": [
          "1800-12-31T00:00:00",
          "1810-12-31T00:00:00",
          "1820-12-31T00:00:00",
          "1830-12-31T00:00:00",
          "1840-12-31T00:00:00",
          "1850-12-31T00:00:00",
          "1860-12-31T00:00:00",
          "1870-12-31T00:00:00",
          "1880-12-31T00:00:00",
          "1890-12-31T00:00:00",
          "1900-12-31T00:00:00",
          "1910-12-31T00:00:00",
          "1920-12-31T00:00:00",
          "1930-12-31T00:00:00",
          "1940-12-31T00:00:00",
          "1950-12-31T00:00:00",
          "1960-12-31T00:00:00",
          "1970-12-31T00:00:00",
          "1980-12-31T00:00:00",
          "1990-12-31T00:00:00",
          "2000-12-31T00:00:00",
          "2010-12-31T00:00:00",
          "2020-12-31T00:00:00"
         ],
         "y": [
          null,
          null,
          null,
          null,
          null,
          -0.7081499999999998,
          -0.7038690476190473,
          -0.6525583333333332,
          -0.46809999999999985,
          -0.675,
          -0.5958749999999999,
          -0.5663083333333333,
          -0.4010666666666669,
          -0.27561666666666673,
          -0.13326666666666673,
          -0.09986666666666663,
          -0.002508333333333341,
          -0.04886666666666664,
          0.051291666666666666,
          0.1262916666666666,
          0.3360833333333334,
          0.6724083333333333,
          0.5808437500000003
         ]
        },
        {
         "line": {
          "color": "grey"
         },
         "name": "Panama",
         "opacity": 0.1,
         "type": "scatter",
         "x": [
          "1800-12-31T00:00:00",
          "1810-12-31T00:00:00",
          "1820-12-31T00:00:00",
          "1830-12-31T00:00:00",
          "1840-12-31T00:00:00",
          "1850-12-31T00:00:00",
          "1860-12-31T00:00:00",
          "1870-12-31T00:00:00",
          "1880-12-31T00:00:00",
          "1890-12-31T00:00:00",
          "1900-12-31T00:00:00",
          "1910-12-31T00:00:00",
          "1920-12-31T00:00:00",
          "1930-12-31T00:00:00",
          "1940-12-31T00:00:00",
          "1950-12-31T00:00:00",
          "1960-12-31T00:00:00",
          "1970-12-31T00:00:00",
          "1980-12-31T00:00:00",
          "1990-12-31T00:00:00",
          "2000-12-31T00:00:00",
          "2010-12-31T00:00:00",
          "2020-12-31T00:00:00"
         ],
         "y": [
          null,
          null,
          null,
          -0.3388703703703704,
          null,
          null,
          -0.7435416666666664,
          -0.5978249999999998,
          -0.3846250000000001,
          -0.7717166666666665,
          -0.5236583333333334,
          -0.6458250000000003,
          -0.3716333333333332,
          -0.19778333333333348,
          -0.1529833333333333,
          -0.08395833333333336,
          0.03275833333333334,
          -0.016408333333333337,
          -0.016366666666666696,
          0.26317500000000005,
          0.5051749999999999,
          0.5811249999999999,
          0.44034375000000003
         ]
        },
        {
         "line": {
          "color": "grey"
         },
         "name": "Papua New Guinea",
         "opacity": 0.1,
         "type": "scatter",
         "x": [
          "1800-12-31T00:00:00",
          "1810-12-31T00:00:00",
          "1820-12-31T00:00:00",
          "1830-12-31T00:00:00",
          "1840-12-31T00:00:00",
          "1850-12-31T00:00:00",
          "1860-12-31T00:00:00",
          "1870-12-31T00:00:00",
          "1880-12-31T00:00:00",
          "1890-12-31T00:00:00",
          "1900-12-31T00:00:00",
          "1910-12-31T00:00:00",
          "1920-12-31T00:00:00",
          "1930-12-31T00:00:00",
          "1940-12-31T00:00:00",
          "1950-12-31T00:00:00",
          "1960-12-31T00:00:00",
          "1970-12-31T00:00:00",
          "1980-12-31T00:00:00",
          "1990-12-31T00:00:00",
          "2000-12-31T00:00:00",
          "2010-12-31T00:00:00",
          "2020-12-31T00:00:00"
         ],
         "y": [
          null,
          null,
          null,
          null,
          null,
          null,
          null,
          null,
          null,
          -0.6332129629629628,
          -0.5050166666666668,
          -0.44225833333333353,
          -0.267125,
          -0.2722166666666666,
          -0.13103333333333333,
          -0.004741666666666654,
          -0.013558333333333327,
          -0.05529166666666671,
          0.068875,
          0.3436666666666667,
          0.3792916666666668,
          0.44749166666666645,
          0.393875
         ]
        },
        {
         "line": {
          "color": "grey"
         },
         "name": "Paraguay",
         "opacity": 0.1,
         "type": "scatter",
         "x": [
          "1800-12-31T00:00:00",
          "1810-12-31T00:00:00",
          "1820-12-31T00:00:00",
          "1830-12-31T00:00:00",
          "1840-12-31T00:00:00",
          "1850-12-31T00:00:00",
          "1860-12-31T00:00:00",
          "1870-12-31T00:00:00",
          "1880-12-31T00:00:00",
          "1890-12-31T00:00:00",
          "1900-12-31T00:00:00",
          "1910-12-31T00:00:00",
          "1920-12-31T00:00:00",
          "1930-12-31T00:00:00",
          "1940-12-31T00:00:00",
          "1950-12-31T00:00:00",
          "1960-12-31T00:00:00",
          "1970-12-31T00:00:00",
          "1980-12-31T00:00:00",
          "1990-12-31T00:00:00",
          "2000-12-31T00:00:00",
          "2010-12-31T00:00:00",
          "2020-12-31T00:00:00"
         ],
         "y": [
          null,
          null,
          null,
          null,
          -1.0039444444444443,
          -0.7071944444444443,
          -0.6584833333333331,
          -0.6051916666666665,
          -0.5970499999999999,
          -0.7113333333333336,
          -0.40989166666666665,
          -0.4131333333333333,
          -0.3221083333333333,
          -0.15809999999999994,
          -0.07995833333333334,
          -0.12322499999999999,
          -0.21034999999999995,
          0.15785833333333335,
          0.05250833333333332,
          0.1891166666666667,
          0.3288499999999999,
          0.601125,
          0.6096562499999999
         ]
        },
        {
         "line": {
          "color": "grey"
         },
         "name": "Peru",
         "opacity": 0.1,
         "type": "scatter",
         "x": [
          "1800-12-31T00:00:00",
          "1810-12-31T00:00:00",
          "1820-12-31T00:00:00",
          "1830-12-31T00:00:00",
          "1840-12-31T00:00:00",
          "1850-12-31T00:00:00",
          "1860-12-31T00:00:00",
          "1870-12-31T00:00:00",
          "1880-12-31T00:00:00",
          "1890-12-31T00:00:00",
          "1900-12-31T00:00:00",
          "1910-12-31T00:00:00",
          "1920-12-31T00:00:00",
          "1930-12-31T00:00:00",
          "1940-12-31T00:00:00",
          "1950-12-31T00:00:00",
          "1960-12-31T00:00:00",
          "1970-12-31T00:00:00",
          "1980-12-31T00:00:00",
          "1990-12-31T00:00:00",
          "2000-12-31T00:00:00",
          "2010-12-31T00:00:00",
          "2020-12-31T00:00:00"
         ],
         "y": [
          null,
          null,
          null,
          null,
          null,
          null,
          -0.9811428571428572,
          null,
          -0.6517435897435898,
          -0.8264400000000003,
          -0.5873644067796606,
          -0.56905,
          -0.4018833333333333,
          -0.34199166666666686,
          -0.15155833333333335,
          -0.032583333333333325,
          -0.063125,
          0.06127499999999999,
          0.001841666666666663,
          0.23779166666666654,
          0.4909666666666667,
          0.3524333333333333,
          0.23465625
         ]
        },
        {
         "line": {
          "color": "grey"
         },
         "name": "Philippines",
         "opacity": 0.1,
         "type": "scatter",
         "x": [
          "1800-12-31T00:00:00",
          "1810-12-31T00:00:00",
          "1820-12-31T00:00:00",
          "1830-12-31T00:00:00",
          "1840-12-31T00:00:00",
          "1850-12-31T00:00:00",
          "1860-12-31T00:00:00",
          "1870-12-31T00:00:00",
          "1880-12-31T00:00:00",
          "1890-12-31T00:00:00",
          "1900-12-31T00:00:00",
          "1910-12-31T00:00:00",
          "1920-12-31T00:00:00",
          "1930-12-31T00:00:00",
          "1940-12-31T00:00:00",
          "1950-12-31T00:00:00",
          "1960-12-31T00:00:00",
          "1970-12-31T00:00:00",
          "1980-12-31T00:00:00",
          "1990-12-31T00:00:00",
          "2000-12-31T00:00:00",
          "2010-12-31T00:00:00",
          "2020-12-31T00:00:00"
         ],
         "y": [
          null,
          null,
          null,
          null,
          null,
          null,
          -0.7931075268817206,
          -0.6467647058823527,
          -0.6300666666666669,
          -0.9099416666666664,
          -0.7509333333333333,
          -0.6695666666666665,
          -0.5203500000000002,
          -0.476475,
          -0.3919916666666667,
          -0.1663583333333333,
          0.027741666666666658,
          -0.005108333333333358,
          -0.022699999999999988,
          0.17964166666666664,
          0.23698333333333332,
          0.3609166666666665,
          0.30506250000000007
         ]
        },
        {
         "line": {
          "color": "grey"
         },
         "name": "Poland",
         "opacity": 0.1,
         "type": "scatter",
         "x": [
          "1800-12-31T00:00:00",
          "1810-12-31T00:00:00",
          "1820-12-31T00:00:00",
          "1830-12-31T00:00:00",
          "1840-12-31T00:00:00",
          "1850-12-31T00:00:00",
          "1860-12-31T00:00:00",
          "1870-12-31T00:00:00",
          "1880-12-31T00:00:00",
          "1890-12-31T00:00:00",
          "1900-12-31T00:00:00",
          "1910-12-31T00:00:00",
          "1920-12-31T00:00:00",
          "1930-12-31T00:00:00",
          "1940-12-31T00:00:00",
          "1950-12-31T00:00:00",
          "1960-12-31T00:00:00",
          "1970-12-31T00:00:00",
          "1980-12-31T00:00:00",
          "1990-12-31T00:00:00",
          "2000-12-31T00:00:00",
          "2010-12-31T00:00:00",
          "2020-12-31T00:00:00"
         ],
         "y": [
          -0.3760833333333334,
          -0.26998333333333346,
          -0.5408249999999999,
          -0.17147500000000002,
          -0.5933083333333332,
          -0.43308333333333343,
          -0.4670083333333336,
          -0.3300083333333334,
          -0.4831499999999999,
          -0.5498,
          -0.2524833333333332,
          -0.3286583333333333,
          -0.04431666666666666,
          -0.2083749999999999,
          0.10618333333333338,
          0.022916666666666623,
          0.019508333333333336,
          -0.16786666666666666,
          0.14838333333333328,
          0.5096916666666668,
          0.7752333333333333,
          1.0918916666666667,
          1.0901874999999999
         ]
        },
        {
         "line": {
          "color": "grey"
         },
         "name": "Portugal",
         "opacity": 0.1,
         "type": "scatter",
         "x": [
          "1800-12-31T00:00:00",
          "1810-12-31T00:00:00",
          "1820-12-31T00:00:00",
          "1830-12-31T00:00:00",
          "1840-12-31T00:00:00",
          "1850-12-31T00:00:00",
          "1860-12-31T00:00:00",
          "1870-12-31T00:00:00",
          "1880-12-31T00:00:00",
          "1890-12-31T00:00:00",
          "1900-12-31T00:00:00",
          "1910-12-31T00:00:00",
          "1920-12-31T00:00:00",
          "1930-12-31T00:00:00",
          "1940-12-31T00:00:00",
          "1950-12-31T00:00:00",
          "1960-12-31T00:00:00",
          "1970-12-31T00:00:00",
          "1980-12-31T00:00:00",
          "1990-12-31T00:00:00",
          "2000-12-31T00:00:00",
          "2010-12-31T00:00:00",
          "2020-12-31T00:00:00"
         ],
         "y": [
          0.43758333333333344,
          -0.24295833333333328,
          -0.7627416666666662,
          -0.1481,
          -0.28944166666666665,
          -0.25386666666666674,
          -0.3187583333333333,
          0.01309999999999998,
          -0.24603333333333335,
          -0.7019416666666669,
          0.020200000000000044,
          -0.27489166666666676,
          -0.28254999999999997,
          0.016591666666666657,
          -0.1136833333333334,
          0.3786916666666666,
          0.07491666666666667,
          0.14546666666666672,
          -0.2204416666666668,
          0.5202583333333332,
          0.6972249999999997,
          0.8435583333333329,
          0.9345937499999997
         ]
        },
        {
         "line": {
          "color": "grey"
         },
         "name": "Qatar",
         "opacity": 0.1,
         "type": "scatter",
         "x": [
          "1800-12-31T00:00:00",
          "1810-12-31T00:00:00",
          "1820-12-31T00:00:00",
          "1830-12-31T00:00:00",
          "1840-12-31T00:00:00",
          "1850-12-31T00:00:00",
          "1860-12-31T00:00:00",
          "1870-12-31T00:00:00",
          "1880-12-31T00:00:00",
          "1890-12-31T00:00:00",
          "1900-12-31T00:00:00",
          "1910-12-31T00:00:00",
          "1920-12-31T00:00:00",
          "1930-12-31T00:00:00",
          "1940-12-31T00:00:00",
          "1950-12-31T00:00:00",
          "1960-12-31T00:00:00",
          "1970-12-31T00:00:00",
          "1980-12-31T00:00:00",
          "1990-12-31T00:00:00",
          "2000-12-31T00:00:00",
          "2010-12-31T00:00:00",
          "2020-12-31T00:00:00"
         ],
         "y": [
          null,
          null,
          null,
          null,
          null,
          -0.765375,
          -0.58925,
          -0.6193916666666665,
          -0.3866666666666667,
          -0.33646666666666664,
          -0.3772833333333333,
          -0.3702666666666667,
          -0.48009166666666636,
          -0.21320833333333347,
          -0.35535833333333333,
          -0.08816666666666666,
          -0.04640833333333332,
          0.007091666666666663,
          0.03935833333333328,
          0.057008333333333355,
          0.5042083333333335,
          1.283066666666667,
          1.3735000000000002
         ]
        },
        {
         "line": {
          "color": "grey"
         },
         "name": "Reunion",
         "opacity": 0.1,
         "type": "scatter",
         "x": [
          "1800-12-31T00:00:00",
          "1810-12-31T00:00:00",
          "1820-12-31T00:00:00",
          "1830-12-31T00:00:00",
          "1840-12-31T00:00:00",
          "1850-12-31T00:00:00",
          "1860-12-31T00:00:00",
          "1870-12-31T00:00:00",
          "1880-12-31T00:00:00",
          "1890-12-31T00:00:00",
          "1900-12-31T00:00:00",
          "1910-12-31T00:00:00",
          "1920-12-31T00:00:00",
          "1930-12-31T00:00:00",
          "1940-12-31T00:00:00",
          "1950-12-31T00:00:00",
          "1960-12-31T00:00:00",
          "1970-12-31T00:00:00",
          "1980-12-31T00:00:00",
          "1990-12-31T00:00:00",
          "2000-12-31T00:00:00",
          "2010-12-31T00:00:00",
          "2020-12-31T00:00:00"
         ],
         "y": [
          null,
          0.3184117647058823,
          null,
          null,
          null,
          null,
          -0.708052631578947,
          -0.37683333333333335,
          null,
          -0.7390434782608696,
          -0.5224499999999999,
          -0.41509999999999975,
          -0.3634333333333333,
          -0.3106916666666667,
          -0.09976666666666663,
          -0.05965833333333335,
          -0.0824,
          -0.05221666666666671,
          0.13462500000000002,
          0.20046666666666668,
          0.509275,
          0.7468749999999996,
          0.79921875
         ]
        },
        {
         "line": {
          "color": "grey"
         },
         "name": "Romania",
         "opacity": 0.1,
         "type": "scatter",
         "x": [
          "1800-12-31T00:00:00",
          "1810-12-31T00:00:00",
          "1820-12-31T00:00:00",
          "1830-12-31T00:00:00",
          "1840-12-31T00:00:00",
          "1850-12-31T00:00:00",
          "1860-12-31T00:00:00",
          "1870-12-31T00:00:00",
          "1880-12-31T00:00:00",
          "1890-12-31T00:00:00",
          "1900-12-31T00:00:00",
          "1910-12-31T00:00:00",
          "1920-12-31T00:00:00",
          "1930-12-31T00:00:00",
          "1940-12-31T00:00:00",
          "1950-12-31T00:00:00",
          "1960-12-31T00:00:00",
          "1970-12-31T00:00:00",
          "1980-12-31T00:00:00",
          "1990-12-31T00:00:00",
          "2000-12-31T00:00:00",
          "2010-12-31T00:00:00",
          "2020-12-31T00:00:00"
         ],
         "y": [
          -0.08966666666666671,
          -0.2696416666666667,
          -0.7496083333333332,
          -0.3201000000000001,
          -0.9571916666666669,
          -0.4461166666666666,
          -0.40590000000000015,
          -0.47875833333333323,
          -0.5525083333333334,
          -0.7071666666666664,
          -0.41771666666666685,
          -0.4293083333333332,
          -0.2992916666666666,
          -0.09935000000000004,
          -0.23204166666666678,
          -0.19724166666666682,
          0.04028333333333333,
          0.03800000000000001,
          -0.07829166666666666,
          0.11244166666666665,
          0.3799500000000002,
          0.9156749999999996,
          1.13734375
         ]
        },
        {
         "line": {
          "color": "grey"
         },
         "name": "Russia",
         "opacity": 0.1,
         "type": "scatter",
         "x": [
          "1800-12-31T00:00:00",
          "1810-12-31T00:00:00",
          "1820-12-31T00:00:00",
          "1830-12-31T00:00:00",
          "1840-12-31T00:00:00",
          "1850-12-31T00:00:00",
          "1860-12-31T00:00:00",
          "1870-12-31T00:00:00",
          "1880-12-31T00:00:00",
          "1890-12-31T00:00:00",
          "1900-12-31T00:00:00",
          "1910-12-31T00:00:00",
          "1920-12-31T00:00:00",
          "1930-12-31T00:00:00",
          "1940-12-31T00:00:00",
          "1950-12-31T00:00:00",
          "1960-12-31T00:00:00",
          "1970-12-31T00:00:00",
          "1980-12-31T00:00:00",
          "1990-12-31T00:00:00",
          "2000-12-31T00:00:00",
          "2010-12-31T00:00:00",
          "2020-12-31T00:00:00"
         ],
         "y": [
          null,
          null,
          -1.1609354838709678,
          -0.21002499999999982,
          -0.9884749999999995,
          -0.4738583333333336,
          -0.47070000000000023,
          -0.44843333333333335,
          -0.3429916666666665,
          -0.6957249999999999,
          -0.38485833333333325,
          -0.3486750000000002,
          -0.46240000000000003,
          -0.09204166666666665,
          0.2634250000000001,
          0.22200833333333328,
          -0.07139166666666666,
          -0.028741666666666683,
          0.10010833333333326,
          0.6717833333333332,
          0.8787749999999995,
          1.3731000000000002,
          1.6226562500000001
         ]
        },
        {
         "line": {
          "color": "grey"
         },
         "name": "Rwanda",
         "opacity": 0.1,
         "type": "scatter",
         "x": [
          "1800-12-31T00:00:00",
          "1810-12-31T00:00:00",
          "1820-12-31T00:00:00",
          "1830-12-31T00:00:00",
          "1840-12-31T00:00:00",
          "1850-12-31T00:00:00",
          "1860-12-31T00:00:00",
          "1870-12-31T00:00:00",
          "1880-12-31T00:00:00",
          "1890-12-31T00:00:00",
          "1900-12-31T00:00:00",
          "1910-12-31T00:00:00",
          "1920-12-31T00:00:00",
          "1930-12-31T00:00:00",
          "1940-12-31T00:00:00",
          "1950-12-31T00:00:00",
          "1960-12-31T00:00:00",
          "1970-12-31T00:00:00",
          "1980-12-31T00:00:00",
          "1990-12-31T00:00:00",
          "2000-12-31T00:00:00",
          "2010-12-31T00:00:00",
          "2020-12-31T00:00:00"
         ],
         "y": [
          null,
          null,
          null,
          null,
          null,
          -0.7588181818181817,
          -0.6285581395348835,
          -0.7568846153846155,
          -0.3795454545454545,
          -0.6034434782608697,
          -0.29443333333333366,
          -0.33476666666666666,
          -0.1743916666666667,
          -0.15216666666666664,
          -0.0001166666666666677,
          0.09875833333333334,
          -0.02763333333333335,
          -0.09566666666666672,
          0.12324166666666667,
          0.3683583333333333,
          0.4397416666666665,
          0.7474999999999998,
          0.65278125
         ]
        },
        {
         "line": {
          "color": "grey"
         },
         "name": "Saint Kitts and Nevis",
         "opacity": 0.1,
         "type": "scatter",
         "x": [
          "1800-12-31T00:00:00",
          "1810-12-31T00:00:00",
          "1820-12-31T00:00:00",
          "1830-12-31T00:00:00",
          "1840-12-31T00:00:00",
          "1850-12-31T00:00:00",
          "1860-12-31T00:00:00",
          "1870-12-31T00:00:00",
          "1880-12-31T00:00:00",
          "1890-12-31T00:00:00",
          "1900-12-31T00:00:00",
          "1910-12-31T00:00:00",
          "1920-12-31T00:00:00",
          "1930-12-31T00:00:00",
          "1940-12-31T00:00:00",
          "1950-12-31T00:00:00",
          "1960-12-31T00:00:00",
          "1970-12-31T00:00:00",
          "1980-12-31T00:00:00",
          "1990-12-31T00:00:00",
          "2000-12-31T00:00:00",
          "2010-12-31T00:00:00",
          "2020-12-31T00:00:00"
         ],
         "y": [
          null,
          null,
          null,
          -0.30838461538461537,
          null,
          -0.7125652173913042,
          -0.7393,
          -0.5995416666666668,
          -0.46310000000000007,
          -0.7556249999999999,
          -0.5394,
          -0.5079833333333333,
          -0.5130416666666667,
          -0.3441499999999999,
          -0.24678333333333333,
          -0.18721666666666664,
          0.058666666666666666,
          -0.011625000000000005,
          -0.04702499999999997,
          0.18876666666666655,
          0.4170666666666667,
          0.7169499999999995,
          0.6804062499999999
         ]
        },
        {
         "line": {
          "color": "grey"
         },
         "name": "Saint Lucia",
         "opacity": 0.1,
         "type": "scatter",
         "x": [
          "1800-12-31T00:00:00",
          "1810-12-31T00:00:00",
          "1820-12-31T00:00:00",
          "1830-12-31T00:00:00",
          "1840-12-31T00:00:00",
          "1850-12-31T00:00:00",
          "1860-12-31T00:00:00",
          "1870-12-31T00:00:00",
          "1880-12-31T00:00:00",
          "1890-12-31T00:00:00",
          "1900-12-31T00:00:00",
          "1910-12-31T00:00:00",
          "1920-12-31T00:00:00",
          "1930-12-31T00:00:00",
          "1940-12-31T00:00:00",
          "1950-12-31T00:00:00",
          "1960-12-31T00:00:00",
          "1970-12-31T00:00:00",
          "1980-12-31T00:00:00",
          "1990-12-31T00:00:00",
          "2000-12-31T00:00:00",
          "2010-12-31T00:00:00",
          "2020-12-31T00:00:00"
         ],
         "y": [
          null,
          null,
          null,
          -0.39232307692307694,
          null,
          -0.7122173913043477,
          -0.7657916666666664,
          -0.6482833333333337,
          -0.4933083333333334,
          -0.7789666666666668,
          -0.5868166666666669,
          -0.571925,
          -0.5788916666666666,
          -0.384875,
          -0.2595249999999999,
          -0.19358333333333336,
          0.016000000000000007,
          0.029008333333333337,
          -0.04497499999999999,
          0.15722500000000006,
          0.3831749999999998,
          0.6638333333333336,
          0.64978125
         ]
        },
        {
         "line": {
          "color": "grey"
         },
         "name": "Saint Pierre and Miquelon",
         "opacity": 0.1,
         "type": "scatter",
         "x": [
          "1800-12-31T00:00:00",
          "1810-12-31T00:00:00",
          "1820-12-31T00:00:00",
          "1830-12-31T00:00:00",
          "1840-12-31T00:00:00",
          "1850-12-31T00:00:00",
          "1860-12-31T00:00:00",
          "1870-12-31T00:00:00",
          "1880-12-31T00:00:00",
          "1890-12-31T00:00:00",
          "1900-12-31T00:00:00",
          "1910-12-31T00:00:00",
          "1920-12-31T00:00:00",
          "1930-12-31T00:00:00",
          "1940-12-31T00:00:00",
          "1950-12-31T00:00:00",
          "1960-12-31T00:00:00",
          "1970-12-31T00:00:00",
          "1980-12-31T00:00:00",
          "1990-12-31T00:00:00",
          "2000-12-31T00:00:00",
          "2010-12-31T00:00:00",
          "2020-12-31T00:00:00"
         ],
         "y": [
          -0.3505,
          -0.6515249999999998,
          -1.6080166666666662,
          -0.7384333333333333,
          -1.525516666666666,
          -1.0855,
          -1.1145000000000003,
          -0.9112666666666667,
          -0.8823083333333337,
          -0.9378916666666662,
          -0.6500249999999996,
          -0.4438666666666665,
          -0.706216666666667,
          -0.764191666666667,
          -0.22588333333333332,
          -0.3424583333333334,
          0.35130833333333317,
          0.03299166666666672,
          -0.38432500000000014,
          -0.09764166666666667,
          -0.011108333333333541,
          0.7368833333333333,
          1.3449090909090908
         ]
        },
        {
         "line": {
          "color": "grey"
         },
         "name": "Saint Vincent and the Grenadines",
         "opacity": 0.1,
         "type": "scatter",
         "x": [
          "1800-12-31T00:00:00",
          "1810-12-31T00:00:00",
          "1820-12-31T00:00:00",
          "1830-12-31T00:00:00",
          "1840-12-31T00:00:00",
          "1850-12-31T00:00:00",
          "1860-12-31T00:00:00",
          "1870-12-31T00:00:00",
          "1880-12-31T00:00:00",
          "1890-12-31T00:00:00",
          "1900-12-31T00:00:00",
          "1910-12-31T00:00:00",
          "1920-12-31T00:00:00",
          "1930-12-31T00:00:00",
          "1940-12-31T00:00:00",
          "1950-12-31T00:00:00",
          "1960-12-31T00:00:00",
          "1970-12-31T00:00:00",
          "1980-12-31T00:00:00",
          "1990-12-31T00:00:00",
          "2000-12-31T00:00:00",
          "2010-12-31T00:00:00",
          "2020-12-31T00:00:00"
         ],
         "y": [
          null,
          null,
          null,
          -0.39590769230769235,
          null,
          -0.7152028985507246,
          -0.7696499999999998,
          -0.6533749999999998,
          -0.494275,
          -0.7869000000000003,
          -0.5918333333333334,
          -0.5752666666666667,
          -0.582033333333333,
          -0.3943666666666665,
          -0.2669916666666668,
          -0.19539166666666669,
          0.018616666666666667,
          0.025408333333333342,
          -0.04404999999999992,
          0.15127500000000002,
          0.37584999999999974,
          0.6543833333333332,
          0.65296875
         ]
        },
        {
         "line": {
          "color": "grey"
         },
         "name": "Samoa",
         "opacity": 0.1,
         "type": "scatter",
         "x": [
          "1800-12-31T00:00:00",
          "1810-12-31T00:00:00",
          "1820-12-31T00:00:00",
          "1830-12-31T00:00:00",
          "1840-12-31T00:00:00",
          "1850-12-31T00:00:00",
          "1860-12-31T00:00:00",
          "1870-12-31T00:00:00",
          "1880-12-31T00:00:00",
          "1890-12-31T00:00:00",
          "1900-12-31T00:00:00",
          "1910-12-31T00:00:00",
          "1920-12-31T00:00:00",
          "1930-12-31T00:00:00",
          "1940-12-31T00:00:00",
          "1950-12-31T00:00:00",
          "1960-12-31T00:00:00",
          "1970-12-31T00:00:00",
          "1980-12-31T00:00:00",
          "1990-12-31T00:00:00",
          "2000-12-31T00:00:00",
          "2010-12-31T00:00:00",
          "2020-12-31T00:00:00"
         ],
         "y": [
          null,
          null,
          null,
          null,
          null,
          null,
          null,
          -0.5490588235294117,
          -0.5768076923076922,
          -0.8922535211267605,
          -0.6155500000000002,
          -0.5905000000000001,
          -0.5276583333333332,
          -0.32973333333333327,
          0.004333333333333309,
          -0.00360833333333332,
          0.055399999999999984,
          -0.09224166666666664,
          0.036833333333333336,
          0.18147499999999994,
          0.3552416666666666,
          0.5282333333333338,
          0.4337187499999999
         ]
        },
        {
         "line": {
          "color": "grey"
         },
         "name": "Sao Tome and Principe",
         "opacity": 0.1,
         "type": "scatter",
         "x": [
          "1800-12-31T00:00:00",
          "1810-12-31T00:00:00",
          "1820-12-31T00:00:00",
          "1830-12-31T00:00:00",
          "1840-12-31T00:00:00",
          "1850-12-31T00:00:00",
          "1860-12-31T00:00:00",
          "1870-12-31T00:00:00",
          "1880-12-31T00:00:00",
          "1890-12-31T00:00:00",
          "1900-12-31T00:00:00",
          "1910-12-31T00:00:00",
          "1920-12-31T00:00:00",
          "1930-12-31T00:00:00",
          "1940-12-31T00:00:00",
          "1950-12-31T00:00:00",
          "1960-12-31T00:00:00",
          "1970-12-31T00:00:00",
          "1980-12-31T00:00:00",
          "1990-12-31T00:00:00",
          "2000-12-31T00:00:00",
          "2010-12-31T00:00:00",
          "2020-12-31T00:00:00"
         ],
         "y": [
          null,
          null,
          null,
          null,
          null,
          null,
          -0.7440975609756099,
          -0.9009285714285716,
          -0.6836931818181818,
          -0.827875,
          -0.7544500000000002,
          -0.5967999999999997,
          -0.18245833333333325,
          -0.07424166666666666,
          0.0931583333333333,
          0.24423333333333333,
          -0.06596666666666663,
          0.015866666666666664,
          0.05010833333333335,
          0.13083333333333327,
          0.2991833333333334,
          0.6549,
          0.5317812500000001
         ]
        },
        {
         "line": {
          "color": "grey"
         },
         "name": "Saudi Arabia",
         "opacity": 0.1,
         "type": "scatter",
         "x": [
          "1800-12-31T00:00:00",
          "1810-12-31T00:00:00",
          "1820-12-31T00:00:00",
          "1830-12-31T00:00:00",
          "1840-12-31T00:00:00",
          "1850-12-31T00:00:00",
          "1860-12-31T00:00:00",
          "1870-12-31T00:00:00",
          "1880-12-31T00:00:00",
          "1890-12-31T00:00:00",
          "1900-12-31T00:00:00",
          "1910-12-31T00:00:00",
          "1920-12-31T00:00:00",
          "1930-12-31T00:00:00",
          "1940-12-31T00:00:00",
          "1950-12-31T00:00:00",
          "1960-12-31T00:00:00",
          "1970-12-31T00:00:00",
          "1980-12-31T00:00:00",
          "1990-12-31T00:00:00",
          "2000-12-31T00:00:00",
          "2010-12-31T00:00:00",
          "2020-12-31T00:00:00"
         ],
         "y": [
          null,
          null,
          null,
          null,
          null,
          -0.8278870967741938,
          -0.5961649484536081,
          -0.6517083333333332,
          -0.4605166666666668,
          -0.4228916666666666,
          -0.46711666666666657,
          -0.4586666666666664,
          -0.5331833333333331,
          -0.1826083333333334,
          -0.25190000000000007,
          -0.16627500000000003,
          -0.023683333333333317,
          0.04376666666666665,
          -0.020141666666666717,
          -0.08564166666666663,
          0.40215,
          1.0013250000000002,
          1.1020624999999997
         ]
        },
        {
         "line": {
          "color": "grey"
         },
         "name": "Senegal",
         "opacity": 0.1,
         "type": "scatter",
         "x": [
          "1800-12-31T00:00:00",
          "1810-12-31T00:00:00",
          "1820-12-31T00:00:00",
          "1830-12-31T00:00:00",
          "1840-12-31T00:00:00",
          "1850-12-31T00:00:00",
          "1860-12-31T00:00:00",
          "1870-12-31T00:00:00",
          "1880-12-31T00:00:00",
          "1890-12-31T00:00:00",
          "1900-12-31T00:00:00",
          "1910-12-31T00:00:00",
          "1920-12-31T00:00:00",
          "1930-12-31T00:00:00",
          "1940-12-31T00:00:00",
          "1950-12-31T00:00:00",
          "1960-12-31T00:00:00",
          "1970-12-31T00:00:00",
          "1980-12-31T00:00:00",
          "1990-12-31T00:00:00",
          "2000-12-31T00:00:00",
          "2010-12-31T00:00:00",
          "2020-12-31T00:00:00"
         ],
         "y": [
          null,
          null,
          null,
          null,
          null,
          -0.5957499999999999,
          -0.5912394366197186,
          -0.559896907216495,
          -0.5885111111111112,
          -0.5983559322033899,
          -0.17029166666666679,
          -0.44511666666666666,
          -0.24395833333333333,
          -0.09640833333333339,
          -0.07702499999999994,
          0.0017416666666666728,
          -0.15680833333333333,
          0.05879166666666666,
          0.09800833333333332,
          0.38370833333333326,
          0.5557666666666666,
          0.8103916666666673,
          0.7036874999999999
         ]
        },
        {
         "line": {
          "color": "grey"
         },
         "name": "Serbia",
         "opacity": 0.1,
         "type": "scatter",
         "x": [
          "1800-12-31T00:00:00",
          "1810-12-31T00:00:00",
          "1820-12-31T00:00:00",
          "1830-12-31T00:00:00",
          "1840-12-31T00:00:00",
          "1850-12-31T00:00:00",
          "1860-12-31T00:00:00",
          "1870-12-31T00:00:00",
          "1880-12-31T00:00:00",
          "1890-12-31T00:00:00",
          "1900-12-31T00:00:00",
          "1910-12-31T00:00:00",
          "1920-12-31T00:00:00",
          "1930-12-31T00:00:00",
          "1940-12-31T00:00:00",
          "1950-12-31T00:00:00",
          "1960-12-31T00:00:00",
          "1970-12-31T00:00:00",
          "1980-12-31T00:00:00",
          "1990-12-31T00:00:00",
          "2000-12-31T00:00:00",
          "2010-12-31T00:00:00",
          "2020-12-31T00:00:00"
         ],
         "y": [
          0.13475,
          -0.19145833333333329,
          -0.6374833333333335,
          -0.2624833333333334,
          -0.7693583333333335,
          -0.37404999999999994,
          -0.44183333333333363,
          -0.28317499999999984,
          -0.4690916666666666,
          -0.6334250000000001,
          -0.4270083333333331,
          -0.3598499999999998,
          -0.2737833333333334,
          0.03259166666666662,
          -0.13942500000000002,
          0.06392499999999995,
          0.1237333333333333,
          0.00289166666666667,
          -0.126625,
          0.156375,
          0.46060000000000006,
          0.8477249999999998,
          1.1767500000000002
         ]
        },
        {
         "line": {
          "color": "grey"
         },
         "name": "Seychelles",
         "opacity": 0.1,
         "type": "scatter",
         "x": [
          "1800-12-31T00:00:00",
          "1810-12-31T00:00:00",
          "1820-12-31T00:00:00",
          "1830-12-31T00:00:00",
          "1840-12-31T00:00:00",
          "1850-12-31T00:00:00",
          "1860-12-31T00:00:00",
          "1870-12-31T00:00:00",
          "1880-12-31T00:00:00",
          "1890-12-31T00:00:00",
          "1900-12-31T00:00:00",
          "1910-12-31T00:00:00",
          "1920-12-31T00:00:00",
          "1930-12-31T00:00:00",
          "1940-12-31T00:00:00",
          "1950-12-31T00:00:00",
          "1960-12-31T00:00:00",
          "1970-12-31T00:00:00",
          "1980-12-31T00:00:00",
          "1990-12-31T00:00:00",
          "2000-12-31T00:00:00",
          "2010-12-31T00:00:00",
          "2020-12-31T00:00:00"
         ],
         "y": [
          null,
          0.2522941176470588,
          null,
          null,
          null,
          -0.8396363636363635,
          -0.6662526315789475,
          -0.7264583333333335,
          -0.4370181818181819,
          -0.7384999999999999,
          -0.35517500000000013,
          -0.5843,
          -0.33762500000000006,
          -0.31412499999999993,
          -0.1079083333333334,
          -0.06150000000000001,
          -0.03655833333333333,
          0.028983333333333326,
          0.007541666666666719,
          0.23878333333333332,
          0.3697166666666665,
          0.7056166666666666,
          0.79825
         ]
        },
        {
         "line": {
          "color": "grey"
         },
         "name": "Sierra Leone",
         "opacity": 0.1,
         "type": "scatter",
         "x": [
          "1800-12-31T00:00:00",
          "1810-12-31T00:00:00",
          "1820-12-31T00:00:00",
          "1830-12-31T00:00:00",
          "1840-12-31T00:00:00",
          "1850-12-31T00:00:00",
          "1860-12-31T00:00:00",
          "1870-12-31T00:00:00",
          "1880-12-31T00:00:00",
          "1890-12-31T00:00:00",
          "1900-12-31T00:00:00",
          "1910-12-31T00:00:00",
          "1920-12-31T00:00:00",
          "1930-12-31T00:00:00",
          "1940-12-31T00:00:00",
          "1950-12-31T00:00:00",
          "1960-12-31T00:00:00",
          "1970-12-31T00:00:00",
          "1980-12-31T00:00:00",
          "1990-12-31T00:00:00",
          "2000-12-31T00:00:00",
          "2010-12-31T00:00:00",
          "2020-12-31T00:00:00"
         ],
         "y": [
          null,
          null,
          null,
          null,
          null,
          -0.6807083333333334,
          -0.6549302325581393,
          -0.648360824742268,
          -0.7340111111111111,
          -0.7081949152542374,
          -0.4994916666666667,
          -0.4601749999999999,
          -0.21269166666666664,
          -0.23519999999999994,
          -0.06907500000000003,
          -0.011458333333333345,
          -0.08997500000000004,
          -0.006166666666666693,
          0.09612500000000002,
          0.27257500000000007,
          0.44320833333333337,
          0.7865416666666668,
          0.6120625000000001
         ]
        },
        {
         "line": {
          "color": "grey"
         },
         "name": "Singapore",
         "opacity": 0.1,
         "type": "scatter",
         "x": [
          "1800-12-31T00:00:00",
          "1810-12-31T00:00:00",
          "1820-12-31T00:00:00",
          "1830-12-31T00:00:00",
          "1840-12-31T00:00:00",
          "1850-12-31T00:00:00",
          "1860-12-31T00:00:00",
          "1870-12-31T00:00:00",
          "1880-12-31T00:00:00",
          "1890-12-31T00:00:00",
          "1900-12-31T00:00:00",
          "1910-12-31T00:00:00",
          "1920-12-31T00:00:00",
          "1930-12-31T00:00:00",
          "1940-12-31T00:00:00",
          "1950-12-31T00:00:00",
          "1960-12-31T00:00:00",
          "1970-12-31T00:00:00",
          "1980-12-31T00:00:00",
          "1990-12-31T00:00:00",
          "2000-12-31T00:00:00",
          "2010-12-31T00:00:00",
          "2020-12-31T00:00:00"
         ],
         "y": [
          null,
          null,
          null,
          -0.3646666666666667,
          -0.9918571428571429,
          -0.7768526315789472,
          -0.7083076923076923,
          -0.799175925925926,
          -0.778416666666667,
          -0.6606583333333329,
          -0.5742916666666666,
          -0.5995166666666666,
          -0.43454999999999994,
          -0.3712916666666667,
          -0.1923166666666666,
          -0.0052416666666666835,
          0.01924166666666667,
          -0.031116666666666674,
          0.011933333333333329,
          0.15449999999999997,
          0.35020000000000007,
          0.5432416666666666,
          0.5491250000000001
         ]
        },
        {
         "line": {
          "color": "grey"
         },
         "name": "Slovakia",
         "opacity": 0.1,
         "type": "scatter",
         "x": [
          "1800-12-31T00:00:00",
          "1810-12-31T00:00:00",
          "1820-12-31T00:00:00",
          "1830-12-31T00:00:00",
          "1840-12-31T00:00:00",
          "1850-12-31T00:00:00",
          "1860-12-31T00:00:00",
          "1870-12-31T00:00:00",
          "1880-12-31T00:00:00",
          "1890-12-31T00:00:00",
          "1900-12-31T00:00:00",
          "1910-12-31T00:00:00",
          "1920-12-31T00:00:00",
          "1930-12-31T00:00:00",
          "1940-12-31T00:00:00",
          "1950-12-31T00:00:00",
          "1960-12-31T00:00:00",
          "1970-12-31T00:00:00",
          "1980-12-31T00:00:00",
          "1990-12-31T00:00:00",
          "2000-12-31T00:00:00",
          "2010-12-31T00:00:00",
          "2020-12-31T00:00:00"
         ],
         "y": [
          -0.09083333333333336,
          -0.25616666666666676,
          -0.5302999999999999,
          -0.21389999999999995,
          -0.6641750000000001,
          -0.42652499999999993,
          -0.5658416666666668,
          -0.2559916666666667,
          -0.5249083333333335,
          -0.6571000000000004,
          -0.39878333333333327,
          -0.41863333333333325,
          -0.21874999999999994,
          -0.1633249999999999,
          -0.11870833333333335,
          0.014800000000000228,
          0.04130000000000005,
          -0.09601666666666668,
          0.05475833333333331,
          0.25668333333333326,
          0.6214499999999998,
          0.9518083333333335,
          1.15609375
         ]
        },
        {
         "line": {
          "color": "grey"
         },
         "name": "Slovenia",
         "opacity": 0.1,
         "type": "scatter",
         "x": [
          "1800-12-31T00:00:00",
          "1810-12-31T00:00:00",
          "1820-12-31T00:00:00",
          "1830-12-31T00:00:00",
          "1840-12-31T00:00:00",
          "1850-12-31T00:00:00",
          "1860-12-31T00:00:00",
          "1870-12-31T00:00:00",
          "1880-12-31T00:00:00",
          "1890-12-31T00:00:00",
          "1900-12-31T00:00:00",
          "1910-12-31T00:00:00",
          "1920-12-31T00:00:00",
          "1930-12-31T00:00:00",
          "1940-12-31T00:00:00",
          "1950-12-31T00:00:00",
          "1960-12-31T00:00:00",
          "1970-12-31T00:00:00",
          "1980-12-31T00:00:00",
          "1990-12-31T00:00:00",
          "2000-12-31T00:00:00",
          "2010-12-31T00:00:00",
          "2020-12-31T00:00:00"
         ],
         "y": [
          0.3228333333333334,
          -0.17263333333333328,
          -0.4750583333333332,
          -0.16487500000000002,
          -0.48687500000000017,
          -0.2786749999999999,
          -0.5512250000000001,
          -0.06000833333333336,
          -0.39875833333333316,
          -0.5089250000000001,
          -0.32514166666666644,
          -0.3994416666666665,
          -0.20763333333333325,
          0.0815,
          -0.1454083333333333,
          0.228225,
          0.08605000000000002,
          -0.08203333333333342,
          -0.004016666666666683,
          0.3170666666666667,
          0.8185999999999997,
          1.080158333333333,
          1.4138750000000002
         ]
        },
        {
         "line": {
          "color": "grey"
         },
         "name": "Solomon Islands",
         "opacity": 0.1,
         "type": "scatter",
         "x": [
          "1800-12-31T00:00:00",
          "1810-12-31T00:00:00",
          "1820-12-31T00:00:00",
          "1830-12-31T00:00:00",
          "1840-12-31T00:00:00",
          "1850-12-31T00:00:00",
          "1860-12-31T00:00:00",
          "1870-12-31T00:00:00",
          "1880-12-31T00:00:00",
          "1890-12-31T00:00:00",
          "1900-12-31T00:00:00",
          "1910-12-31T00:00:00",
          "1920-12-31T00:00:00",
          "1930-12-31T00:00:00",
          "1940-12-31T00:00:00",
          "1950-12-31T00:00:00",
          "1960-12-31T00:00:00",
          "1970-12-31T00:00:00",
          "1980-12-31T00:00:00",
          "1990-12-31T00:00:00",
          "2000-12-31T00:00:00",
          "2010-12-31T00:00:00",
          "2020-12-31T00:00:00"
         ],
         "y": [
          null,
          null,
          null,
          null,
          null,
          null,
          null,
          -0.507,
          -0.5440392156862744,
          -0.7980769230769232,
          -0.6101249999999998,
          -0.5267583333333333,
          -0.1604583333333333,
          -0.2841999999999999,
          -0.20594166666666675,
          -0.06744166666666668,
          -0.026149999999999993,
          -0.0710166666666667,
          0.09714166666666667,
          0.3337166666666667,
          0.359525,
          0.6568916666666667,
          0.5103437499999999
         ]
        },
        {
         "line": {
          "color": "grey"
         },
         "name": "Somalia",
         "opacity": 0.1,
         "type": "scatter",
         "x": [
          "1800-12-31T00:00:00",
          "1810-12-31T00:00:00",
          "1820-12-31T00:00:00",
          "1830-12-31T00:00:00",
          "1840-12-31T00:00:00",
          "1850-12-31T00:00:00",
          "1860-12-31T00:00:00",
          "1870-12-31T00:00:00",
          "1880-12-31T00:00:00",
          "1890-12-31T00:00:00",
          "1900-12-31T00:00:00",
          "1910-12-31T00:00:00",
          "1920-12-31T00:00:00",
          "1930-12-31T00:00:00",
          "1940-12-31T00:00:00",
          "1950-12-31T00:00:00",
          "1960-12-31T00:00:00",
          "1970-12-31T00:00:00",
          "1980-12-31T00:00:00",
          "1990-12-31T00:00:00",
          "2000-12-31T00:00:00",
          "2010-12-31T00:00:00",
          "2020-12-31T00:00:00"
         ],
         "y": [
          null,
          null,
          null,
          null,
          null,
          -0.778090909090909,
          -0.4908,
          -0.6794166666666667,
          -0.3625818181818182,
          -0.498327731092437,
          -0.2920916666666665,
          -0.39929166666666666,
          -0.279275,
          -0.2768083333333333,
          -0.1516166666666667,
          0.04012499999999998,
          -0.01248333333333333,
          -0.10305833333333338,
          0.11552500000000002,
          0.1997249999999999,
          0.3802000000000001,
          0.788208333333333,
          0.9693750000000002
         ]
        },
        {
         "line": {
          "color": "grey"
         },
         "name": "South Africa",
         "opacity": 0.1,
         "type": "scatter",
         "x": [
          "1800-12-31T00:00:00",
          "1810-12-31T00:00:00",
          "1820-12-31T00:00:00",
          "1830-12-31T00:00:00",
          "1840-12-31T00:00:00",
          "1850-12-31T00:00:00",
          "1860-12-31T00:00:00",
          "1870-12-31T00:00:00",
          "1880-12-31T00:00:00",
          "1890-12-31T00:00:00",
          "1900-12-31T00:00:00",
          "1910-12-31T00:00:00",
          "1920-12-31T00:00:00",
          "1930-12-31T00:00:00",
          "1940-12-31T00:00:00",
          "1950-12-31T00:00:00",
          "1960-12-31T00:00:00",
          "1970-12-31T00:00:00",
          "1980-12-31T00:00:00",
          "1990-12-31T00:00:00",
          "2000-12-31T00:00:00",
          "2010-12-31T00:00:00",
          "2020-12-31T00:00:00"
         ],
         "y": [
          null,
          null,
          null,
          null,
          null,
          null,
          -0.7539130434782607,
          -0.5050416666666665,
          -0.5672956521739129,
          -0.4992416666666669,
          -0.4649500000000003,
          -0.6910083333333337,
          -0.31170833333333337,
          -0.1892833333333333,
          -0.0549666666666667,
          0.0778583333333333,
          -0.15531666666666663,
          0.120225,
          0.03505,
          0.4017583333333333,
          0.48967500000000025,
          0.620825,
          0.4401562499999999
         ]
        },
        {
         "line": {
          "color": "grey"
         },
         "name": "South Korea",
         "opacity": 0.1,
         "type": "scatter",
         "x": [
          "1800-12-31T00:00:00",
          "1810-12-31T00:00:00",
          "1820-12-31T00:00:00",
          "1830-12-31T00:00:00",
          "1840-12-31T00:00:00",
          "1850-12-31T00:00:00",
          "1860-12-31T00:00:00",
          "1870-12-31T00:00:00",
          "1880-12-31T00:00:00",
          "1890-12-31T00:00:00",
          "1900-12-31T00:00:00",
          "1910-12-31T00:00:00",
          "1920-12-31T00:00:00",
          "1930-12-31T00:00:00",
          "1940-12-31T00:00:00",
          "1950-12-31T00:00:00",
          "1960-12-31T00:00:00",
          "1970-12-31T00:00:00",
          "1980-12-31T00:00:00",
          "1990-12-31T00:00:00",
          "2000-12-31T00:00:00",
          "2010-12-31T00:00:00",
          "2020-12-31T00:00:00"
         ],
         "y": [
          null,
          null,
          null,
          null,
          null,
          -0.7406833333333335,
          -0.799475,
          -0.6949166666666662,
          -0.541225,
          -0.6802083333333334,
          -0.4134916666666665,
          -0.6215333333333336,
          -0.5082,
          -0.4004166666666669,
          -0.27445000000000014,
          -0.22609166666666664,
          0.048508333333333334,
          -0.09125833333333332,
          0.04269999999999999,
          0.17649166666666666,
          0.6141416666666666,
          0.7949666666666669,
          0.4620625000000001
         ]
        },
        {
         "line": {
          "color": "grey"
         },
         "name": "Spain",
         "opacity": 0.1,
         "type": "scatter",
         "x": [
          "1800-12-31T00:00:00",
          "1810-12-31T00:00:00",
          "1820-12-31T00:00:00",
          "1830-12-31T00:00:00",
          "1840-12-31T00:00:00",
          "1850-12-31T00:00:00",
          "1860-12-31T00:00:00",
          "1870-12-31T00:00:00",
          "1880-12-31T00:00:00",
          "1890-12-31T00:00:00",
          "1900-12-31T00:00:00",
          "1910-12-31T00:00:00",
          "1920-12-31T00:00:00",
          "1930-12-31T00:00:00",
          "1940-12-31T00:00:00",
          "1950-12-31T00:00:00",
          "1960-12-31T00:00:00",
          "1970-12-31T00:00:00",
          "1980-12-31T00:00:00",
          "1990-12-31T00:00:00",
          "2000-12-31T00:00:00",
          "2010-12-31T00:00:00",
          "2020-12-31T00:00:00"
         ],
         "y": [
          0.4750833333333333,
          -0.20144166666666674,
          -0.666716666666667,
          -0.1084833333333333,
          -0.24279999999999985,
          -0.21671666666666672,
          -0.30956666666666666,
          0.007124999999999987,
          -0.16535000000000002,
          -0.634525,
          -0.015733333333333332,
          -0.3295416666666666,
          -0.2976,
          0.07323333333333332,
          -0.04834166666666664,
          0.3909416666666667,
          0.057474999999999984,
          0.16849166666666668,
          -0.22597499999999998,
          0.6060166666666666,
          0.7414,
          0.9335083333333334,
          1.142
         ]
        },
        {
         "line": {
          "color": "grey"
         },
         "name": "Sri Lanka",
         "opacity": 0.1,
         "type": "scatter",
         "x": [
          "1800-12-31T00:00:00",
          "1810-12-31T00:00:00",
          "1820-12-31T00:00:00",
          "1830-12-31T00:00:00",
          "1840-12-31T00:00:00",
          "1850-12-31T00:00:00",
          "1860-12-31T00:00:00",
          "1870-12-31T00:00:00",
          "1880-12-31T00:00:00",
          "1890-12-31T00:00:00",
          "1900-12-31T00:00:00",
          "1910-12-31T00:00:00",
          "1920-12-31T00:00:00",
          "1930-12-31T00:00:00",
          "1940-12-31T00:00:00",
          "1950-12-31T00:00:00",
          "1960-12-31T00:00:00",
          "1970-12-31T00:00:00",
          "1980-12-31T00:00:00",
          "1990-12-31T00:00:00",
          "2000-12-31T00:00:00",
          "2010-12-31T00:00:00",
          "2020-12-31T00:00:00"
         ],
         "y": [
          -0.21808333333333332,
          0.060875,
          -1.2322,
          -0.45820000000000005,
          -0.8454745762711865,
          -0.7266749999999998,
          -0.6117250000000002,
          -0.2692528735632183,
          -0.489425,
          -0.5026583333333333,
          -0.2839749999999999,
          -0.3135416666666668,
          -0.17435833333333334,
          -0.2114499999999999,
          -0.1580666666666666,
          -0.06151666666666664,
          -0.05105000000000001,
          0.001983333333333333,
          0.04908333333333332,
          0.2923083333333332,
          0.3424833333333333,
          0.50185,
          0.64934375
         ]
        },
        {
         "line": {
          "color": "grey"
         },
         "name": "Sudan",
         "opacity": 0.1,
         "type": "scatter",
         "x": [
          "1800-12-31T00:00:00",
          "1810-12-31T00:00:00",
          "1820-12-31T00:00:00",
          "1830-12-31T00:00:00",
          "1840-12-31T00:00:00",
          "1850-12-31T00:00:00",
          "1860-12-31T00:00:00",
          "1870-12-31T00:00:00",
          "1880-12-31T00:00:00",
          "1890-12-31T00:00:00",
          "1900-12-31T00:00:00",
          "1910-12-31T00:00:00",
          "1920-12-31T00:00:00",
          "1930-12-31T00:00:00",
          "1940-12-31T00:00:00",
          "1950-12-31T00:00:00",
          "1960-12-31T00:00:00",
          "1970-12-31T00:00:00",
          "1980-12-31T00:00:00",
          "1990-12-31T00:00:00",
          "2000-12-31T00:00:00",
          "2010-12-31T00:00:00",
          "2020-12-31T00:00:00"
         ],
         "y": [
          null,
          null,
          null,
          null,
          null,
          null,
          -0.666609756097561,
          -0.8006538461538462,
          -0.4064615384615387,
          -0.5544499999999999,
          -0.37929166666666697,
          -0.37194999999999995,
          -0.36970000000000003,
          -0.13106666666666666,
          0.10804999999999997,
          -0.07233333333333333,
          0.005224999999999991,
          -0.084675,
          0.07948333333333334,
          0.1596500000000001,
          0.36884166666666657,
          0.8058499999999996,
          0.7540312499999999
         ]
        },
        {
         "line": {
          "color": "grey"
         },
         "name": "Suriname",
         "opacity": 0.1,
         "type": "scatter",
         "x": [
          "1800-12-31T00:00:00",
          "1810-12-31T00:00:00",
          "1820-12-31T00:00:00",
          "1830-12-31T00:00:00",
          "1840-12-31T00:00:00",
          "1850-12-31T00:00:00",
          "1860-12-31T00:00:00",
          "1870-12-31T00:00:00",
          "1880-12-31T00:00:00",
          "1890-12-31T00:00:00",
          "1900-12-31T00:00:00",
          "1910-12-31T00:00:00",
          "1920-12-31T00:00:00",
          "1930-12-31T00:00:00",
          "1940-12-31T00:00:00",
          "1950-12-31T00:00:00",
          "1960-12-31T00:00:00",
          "1970-12-31T00:00:00",
          "1980-12-31T00:00:00",
          "1990-12-31T00:00:00",
          "2000-12-31T00:00:00",
          "2010-12-31T00:00:00",
          "2020-12-31T00:00:00"
         ],
         "y": [
          null,
          null,
          null,
          -0.40833846153846143,
          null,
          -0.6724637681159421,
          -0.7731083333333334,
          -0.6648416666666666,
          -0.5527000000000003,
          -0.8104642857142856,
          -0.6656166666666665,
          -0.5527083333333334,
          -0.532183333333333,
          -0.46712500000000007,
          -0.1596666666666667,
          -0.16528333333333337,
          0.030508333333333346,
          0.067875,
          -0.09847500000000001,
          0.10615833333333335,
          0.38938333333333325,
          0.6690583333333333,
          0.7180312500000001
         ]
        },
        {
         "line": {
          "color": "grey"
         },
         "name": "Swaziland",
         "opacity": 0.1,
         "type": "scatter",
         "x": [
          "1800-12-31T00:00:00",
          "1810-12-31T00:00:00",
          "1820-12-31T00:00:00",
          "1830-12-31T00:00:00",
          "1840-12-31T00:00:00",
          "1850-12-31T00:00:00",
          "1860-12-31T00:00:00",
          "1870-12-31T00:00:00",
          "1880-12-31T00:00:00",
          "1890-12-31T00:00:00",
          "1900-12-31T00:00:00",
          "1910-12-31T00:00:00",
          "1920-12-31T00:00:00",
          "1930-12-31T00:00:00",
          "1940-12-31T00:00:00",
          "1950-12-31T00:00:00",
          "1960-12-31T00:00:00",
          "1970-12-31T00:00:00",
          "1980-12-31T00:00:00",
          "1990-12-31T00:00:00",
          "2000-12-31T00:00:00",
          "2010-12-31T00:00:00",
          "2020-12-31T00:00:00"
         ],
         "y": [
          null,
          null,
          null,
          null,
          null,
          null,
          -0.731608695652174,
          -0.5326166666666665,
          -0.5273913043478261,
          -0.4988666666666666,
          -0.4605333333333335,
          -0.5821,
          -0.31015833333333315,
          -0.2128583333333332,
          -0.21640000000000004,
          0.08734166666666665,
          -0.12422499999999997,
          0.10617499999999996,
          0.018058333333333298,
          0.36865833333333337,
          0.5274916666666669,
          0.6353499999999997,
          0.5542187499999999
         ]
        },
        {
         "line": {
          "color": "grey"
         },
         "name": "Sweden",
         "opacity": 0.1,
         "type": "scatter",
         "x": [
          "1800-12-31T00:00:00",
          "1810-12-31T00:00:00",
          "1820-12-31T00:00:00",
          "1830-12-31T00:00:00",
          "1840-12-31T00:00:00",
          "1850-12-31T00:00:00",
          "1860-12-31T00:00:00",
          "1870-12-31T00:00:00",
          "1880-12-31T00:00:00",
          "1890-12-31T00:00:00",
          "1900-12-31T00:00:00",
          "1910-12-31T00:00:00",
          "1920-12-31T00:00:00",
          "1930-12-31T00:00:00",
          "1940-12-31T00:00:00",
          "1950-12-31T00:00:00",
          "1960-12-31T00:00:00",
          "1970-12-31T00:00:00",
          "1980-12-31T00:00:00",
          "1990-12-31T00:00:00",
          "2000-12-31T00:00:00",
          "2010-12-31T00:00:00",
          "2020-12-31T00:00:00"
         ],
         "y": [
          -0.6288333333333335,
          -0.7633916666666665,
          -0.529133333333333,
          0.01606666666666665,
          -0.5306666666666667,
          -0.437025,
          -0.3631249999999999,
          -0.6191,
          -0.6264499999999997,
          -0.2963750000000001,
          -0.3937083333333335,
          -0.20970833333333333,
          -0.12269999999999999,
          -0.07874166666666671,
          0.6620333333333333,
          0.27268333333333333,
          0.03958333333333327,
          -0.22928333333333334,
          0.18975833333333336,
          0.26350833333333334,
          0.8165666666666669,
          1.1112916666666672,
          1.1327187500000002
         ]
        },
        {
         "line": {
          "color": "red",
          "width": 2
         },
         "name": "Switzerland",
         "type": "scatter",
         "x": [
          "1800-12-31T00:00:00",
          "1810-12-31T00:00:00",
          "1820-12-31T00:00:00",
          "1830-12-31T00:00:00",
          "1840-12-31T00:00:00",
          "1850-12-31T00:00:00",
          "1860-12-31T00:00:00",
          "1870-12-31T00:00:00",
          "1880-12-31T00:00:00",
          "1890-12-31T00:00:00",
          "1900-12-31T00:00:00",
          "1910-12-31T00:00:00",
          "1920-12-31T00:00:00",
          "1930-12-31T00:00:00",
          "1940-12-31T00:00:00",
          "1950-12-31T00:00:00",
          "1960-12-31T00:00:00",
          "1970-12-31T00:00:00",
          "1980-12-31T00:00:00",
          "1990-12-31T00:00:00",
          "2000-12-31T00:00:00",
          "2010-12-31T00:00:00",
          "2020-12-31T00:00:00"
         ],
         "y": [
          0.21658333333333332,
          -0.251575,
          -0.6109666666666668,
          -0.13032500000000002,
          -0.40600833333333314,
          -0.42458333333333315,
          -0.6794583333333329,
          -0.07945833333333334,
          -0.346025,
          -0.6881583333333336,
          -0.2609416666666668,
          -0.41215833333333346,
          -0.25066666666666665,
          0.04227499999999999,
          -0.20083333333333328,
          0.3102083333333333,
          0.05347500000000002,
          -0.057266666666666695,
          0.0038083333333333116,
          0.4056916666666668,
          0.8290499999999998,
          1.010666666666667,
          1.1340312500000003
         ]
        },
        {
         "line": {
          "color": "grey"
         },
         "name": "Syria",
         "opacity": 0.1,
         "type": "scatter",
         "x": [
          "1800-12-31T00:00:00",
          "1810-12-31T00:00:00",
          "1820-12-31T00:00:00",
          "1830-12-31T00:00:00",
          "1840-12-31T00:00:00",
          "1850-12-31T00:00:00",
          "1860-12-31T00:00:00",
          "1870-12-31T00:00:00",
          "1880-12-31T00:00:00",
          "1890-12-31T00:00:00",
          "1900-12-31T00:00:00",
          "1910-12-31T00:00:00",
          "1920-12-31T00:00:00",
          "1930-12-31T00:00:00",
          "1940-12-31T00:00:00",
          "1950-12-31T00:00:00",
          "1960-12-31T00:00:00",
          "1970-12-31T00:00:00",
          "1980-12-31T00:00:00",
          "1990-12-31T00:00:00",
          "2000-12-31T00:00:00",
          "2010-12-31T00:00:00",
          "2020-12-31T00:00:00"
         ],
         "y": [
          null,
          -1.7394814814814816,
          -1.3287916666666664,
          -0.5919500000000002,
          -1.233975,
          -0.7057666666666663,
          -0.5864999999999998,
          -0.7613166666666675,
          -0.4136083333333335,
          -0.5487916666666665,
          -0.6879000000000003,
          -0.56355,
          -0.6259916666666663,
          -0.1567499999999999,
          -0.11881666666666658,
          -0.29341666666666666,
          0.01591666666666667,
          0.10081666666666673,
          -0.11670833333333348,
          -0.04216666666666665,
          0.23945833333333333,
          0.8333416666666665,
          0.7576250000000001
         ]
        },
        {
         "line": {
          "color": "grey"
         },
         "name": "Taiwan",
         "opacity": 0.1,
         "type": "scatter",
         "x": [
          "1800-12-31T00:00:00",
          "1810-12-31T00:00:00",
          "1820-12-31T00:00:00",
          "1830-12-31T00:00:00",
          "1840-12-31T00:00:00",
          "1850-12-31T00:00:00",
          "1860-12-31T00:00:00",
          "1870-12-31T00:00:00",
          "1880-12-31T00:00:00",
          "1890-12-31T00:00:00",
          "1900-12-31T00:00:00",
          "1910-12-31T00:00:00",
          "1920-12-31T00:00:00",
          "1930-12-31T00:00:00",
          "1940-12-31T00:00:00",
          "1950-12-31T00:00:00",
          "1960-12-31T00:00:00",
          "1970-12-31T00:00:00",
          "1980-12-31T00:00:00",
          "1990-12-31T00:00:00",
          "2000-12-31T00:00:00",
          "2010-12-31T00:00:00",
          "2020-12-31T00:00:00"
         ],
         "y": [
          null,
          null,
          null,
          null,
          null,
          -0.8547333333333335,
          -0.6597833333333333,
          -0.7120677966101693,
          -0.5610416666666667,
          -0.8722749999999999,
          -0.6574416666666666,
          -0.6138166666666665,
          -0.5652416666666668,
          -0.5566666666666668,
          -0.34114999999999984,
          -0.092325,
          0.07180000000000002,
          -0.07742499999999998,
          0.005641666666666651,
          -0.02937499999999997,
          0.3284916666666668,
          0.5888249999999998,
          0.30596874999999996
         ]
        },
        {
         "line": {
          "color": "grey"
         },
         "name": "Tajikistan",
         "opacity": 0.1,
         "type": "scatter",
         "x": [
          "1800-12-31T00:00:00",
          "1810-12-31T00:00:00",
          "1820-12-31T00:00:00",
          "1830-12-31T00:00:00",
          "1840-12-31T00:00:00",
          "1850-12-31T00:00:00",
          "1860-12-31T00:00:00",
          "1870-12-31T00:00:00",
          "1880-12-31T00:00:00",
          "1890-12-31T00:00:00",
          "1900-12-31T00:00:00",
          "1910-12-31T00:00:00",
          "1920-12-31T00:00:00",
          "1930-12-31T00:00:00",
          "1940-12-31T00:00:00",
          "1950-12-31T00:00:00",
          "1960-12-31T00:00:00",
          "1970-12-31T00:00:00",
          "1980-12-31T00:00:00",
          "1990-12-31T00:00:00",
          "2000-12-31T00:00:00",
          "2010-12-31T00:00:00",
          "2020-12-31T00:00:00"
         ],
         "y": [
          null,
          null,
          null,
          null,
          -1.0441744186046513,
          -0.7477333333333334,
          -0.6107583333333333,
          -0.6432000000000002,
          -0.26793333333333336,
          -0.6848083333333334,
          -0.5664833333333333,
          -0.6347249999999999,
          -0.26138333333333325,
          -0.4747833333333333,
          -0.4047916666666665,
          0.012566666666666814,
          -0.09308333333333337,
          0.012233333333333256,
          0.08094999999999998,
          0.47668333333333346,
          0.61865,
          1.1663666666666666,
          0.7628437499999998
         ]
        },
        {
         "line": {
          "color": "grey"
         },
         "name": "Tanzania",
         "opacity": 0.1,
         "type": "scatter",
         "x": [
          "1800-12-31T00:00:00",
          "1810-12-31T00:00:00",
          "1820-12-31T00:00:00",
          "1830-12-31T00:00:00",
          "1840-12-31T00:00:00",
          "1850-12-31T00:00:00",
          "1860-12-31T00:00:00",
          "1870-12-31T00:00:00",
          "1880-12-31T00:00:00",
          "1890-12-31T00:00:00",
          "1900-12-31T00:00:00",
          "1910-12-31T00:00:00",
          "1920-12-31T00:00:00",
          "1930-12-31T00:00:00",
          "1940-12-31T00:00:00",
          "1950-12-31T00:00:00",
          "1960-12-31T00:00:00",
          "1970-12-31T00:00:00",
          "1980-12-31T00:00:00",
          "1990-12-31T00:00:00",
          "2000-12-31T00:00:00",
          "2010-12-31T00:00:00",
          "2020-12-31T00:00:00"
         ],
         "y": [
          null,
          null,
          null,
          null,
          null,
          -0.7642727272727273,
          -0.4657,
          -0.67125,
          -0.3527454545454545,
          -0.5757714285714285,
          -0.2590083333333332,
          -0.33616666666666656,
          -0.22455,
          -0.19660000000000005,
          -0.059941666666666664,
          -7.499999999999013e-05,
          0.021266666666666656,
          -0.053658333333333315,
          0.03232499999999999,
          0.3212833333333332,
          0.49146666666666655,
          0.7553333333333333,
          0.7655937500000001
         ]
        },
        {
         "line": {
          "color": "grey"
         },
         "name": "Thailand",
         "opacity": 0.1,
         "type": "scatter",
         "x": [
          "1800-12-31T00:00:00",
          "1810-12-31T00:00:00",
          "1820-12-31T00:00:00",
          "1830-12-31T00:00:00",
          "1840-12-31T00:00:00",
          "1850-12-31T00:00:00",
          "1860-12-31T00:00:00",
          "1870-12-31T00:00:00",
          "1880-12-31T00:00:00",
          "1890-12-31T00:00:00",
          "1900-12-31T00:00:00",
          "1910-12-31T00:00:00",
          "1920-12-31T00:00:00",
          "1930-12-31T00:00:00",
          "1940-12-31T00:00:00",
          "1950-12-31T00:00:00",
          "1960-12-31T00:00:00",
          "1970-12-31T00:00:00",
          "1980-12-31T00:00:00",
          "1990-12-31T00:00:00",
          "2000-12-31T00:00:00",
          "2010-12-31T00:00:00",
          "2020-12-31T00:00:00"
         ],
         "y": [
          null,
          null,
          -1.4865087719298251,
          -0.6570212765957446,
          -0.9464938271604941,
          -0.8591666666666669,
          -0.7406864406779657,
          -0.8105225225225228,
          -0.6007333333333332,
          -0.6587750000000002,
          -0.5885583333333333,
          -0.4750250000000001,
          -0.42879166666666657,
          -0.3886416666666668,
          -0.19855833333333334,
          -0.004341666666666693,
          0.007000000000000018,
          0.00935833333333332,
          -0.016333333333333293,
          0.007983333333333308,
          0.1681583333333333,
          0.37979166666666675,
          0.56896875
         ]
        },
        {
         "line": {
          "color": "grey"
         },
         "name": "Timor-Leste",
         "opacity": 0.1,
         "type": "scatter",
         "x": [
          "1800-12-31T00:00:00",
          "1810-12-31T00:00:00",
          "1820-12-31T00:00:00",
          "1830-12-31T00:00:00",
          "1840-12-31T00:00:00",
          "1850-12-31T00:00:00",
          "1860-12-31T00:00:00",
          "1870-12-31T00:00:00",
          "1880-12-31T00:00:00",
          "1890-12-31T00:00:00",
          "1900-12-31T00:00:00",
          "1910-12-31T00:00:00",
          "1920-12-31T00:00:00",
          "1930-12-31T00:00:00",
          "1940-12-31T00:00:00",
          "1950-12-31T00:00:00",
          "1960-12-31T00:00:00",
          "1970-12-31T00:00:00",
          "1980-12-31T00:00:00",
          "1990-12-31T00:00:00",
          "2000-12-31T00:00:00",
          "2010-12-31T00:00:00",
          "2020-12-31T00:00:00"
         ],
         "y": [
          null,
          null,
          null,
          null,
          null,
          null,
          null,
          null,
          -0.40267647058823525,
          -0.5256666666666666,
          -0.6700333333333333,
          -0.46333333333333304,
          -0.6274750000000003,
          -0.5008666666666666,
          -0.3798833333333333,
          -0.30405000000000004,
          0.017316666666666664,
          -0.14862499999999987,
          0.13133333333333339,
          0.2522083333333333,
          0.16529166666666661,
          0.36262500000000003,
          0.05240624999999999
         ]
        },
        {
         "line": {
          "color": "grey"
         },
         "name": "Togo",
         "opacity": 0.1,
         "type": "scatter",
         "x": [
          "1800-12-31T00:00:00",
          "1810-12-31T00:00:00",
          "1820-12-31T00:00:00",
          "1830-12-31T00:00:00",
          "1840-12-31T00:00:00",
          "1850-12-31T00:00:00",
          "1860-12-31T00:00:00",
          "1870-12-31T00:00:00",
          "1880-12-31T00:00:00",
          "1890-12-31T00:00:00",
          "1900-12-31T00:00:00",
          "1910-12-31T00:00:00",
          "1920-12-31T00:00:00",
          "1930-12-31T00:00:00",
          "1940-12-31T00:00:00",
          "1950-12-31T00:00:00",
          "1960-12-31T00:00:00",
          "1970-12-31T00:00:00",
          "1980-12-31T00:00:00",
          "1990-12-31T00:00:00",
          "2000-12-31T00:00:00",
          "2010-12-31T00:00:00",
          "2020-12-31T00:00:00"
         ],
         "y": [
          null,
          null,
          null,
          null,
          null,
          -0.6955833333333333,
          -0.6420000000000001,
          -0.879357142857143,
          -0.5717582417582417,
          -0.8250000000000001,
          -0.7502583333333334,
          -0.62405,
          -0.06619166666666669,
          0.10328333333333332,
          0.1553583333333333,
          0.2751666666666667,
          -0.07145833333333339,
          -0.01571666666666665,
          0.08717499999999996,
          0.36965833333333314,
          0.33716666666666667,
          0.7393083333333332,
          0.6227187500000001
         ]
        },
        {
         "line": {
          "color": "grey"
         },
         "name": "Tonga",
         "opacity": 0.1,
         "type": "scatter",
         "x": [
          "1800-12-31T00:00:00",
          "1810-12-31T00:00:00",
          "1820-12-31T00:00:00",
          "1830-12-31T00:00:00",
          "1840-12-31T00:00:00",
          "1850-12-31T00:00:00",
          "1860-12-31T00:00:00",
          "1870-12-31T00:00:00",
          "1880-12-31T00:00:00",
          "1890-12-31T00:00:00",
          "1900-12-31T00:00:00",
          "1910-12-31T00:00:00",
          "1920-12-31T00:00:00",
          "1930-12-31T00:00:00",
          "1940-12-31T00:00:00",
          "1950-12-31T00:00:00",
          "1960-12-31T00:00:00",
          "1970-12-31T00:00:00",
          "1980-12-31T00:00:00",
          "1990-12-31T00:00:00",
          "2000-12-31T00:00:00",
          "2010-12-31T00:00:00",
          "2020-12-31T00:00:00"
         ],
         "y": [
          null,
          null,
          null,
          null,
          null,
          null,
          null,
          -0.6650882352941175,
          -0.5755471698113207,
          -0.9246760563380287,
          -0.5774250000000004,
          -0.6234166666666671,
          -0.594633333333333,
          -0.3939500000000001,
          -0.02918333333333334,
          -0.04080000000000001,
          -0.03145,
          -0.15976666666666672,
          0.1912333333333334,
          0.19854999999999998,
          0.2919666666666666,
          0.4619250000000001,
          0.6389687499999999
         ]
        },
        {
         "line": {
          "color": "grey"
         },
         "name": "Trinidad and Tobago",
         "opacity": 0.1,
         "type": "scatter",
         "x": [
          "1800-12-31T00:00:00",
          "1810-12-31T00:00:00",
          "1820-12-31T00:00:00",
          "1830-12-31T00:00:00",
          "1840-12-31T00:00:00",
          "1850-12-31T00:00:00",
          "1860-12-31T00:00:00",
          "1870-12-31T00:00:00",
          "1880-12-31T00:00:00",
          "1890-12-31T00:00:00",
          "1900-12-31T00:00:00",
          "1910-12-31T00:00:00",
          "1920-12-31T00:00:00",
          "1930-12-31T00:00:00",
          "1940-12-31T00:00:00",
          "1950-12-31T00:00:00",
          "1960-12-31T00:00:00",
          "1970-12-31T00:00:00",
          "1980-12-31T00:00:00",
          "1990-12-31T00:00:00",
          "2000-12-31T00:00:00",
          "2010-12-31T00:00:00",
          "2020-12-31T00:00:00"
         ],
         "y": [
          null,
          null,
          null,
          -0.42916923076923086,
          null,
          -0.7048840579710144,
          -0.7867249999999995,
          -0.6806583333333338,
          -0.5116833333333334,
          -0.7905166666666669,
          -0.6165833333333333,
          -0.6086916666666669,
          -0.5997999999999998,
          -0.4393666666666666,
          -0.24530833333333346,
          -0.16739166666666663,
          0.00828333333333331,
          0.03520833333333332,
          -0.04354166666666666,
          0.15101666666666663,
          0.35226666666666673,
          0.6380750000000001,
          0.6493125000000002
         ]
        },
        {
         "line": {
          "color": "grey"
         },
         "name": "Tunisia",
         "opacity": 0.1,
         "type": "scatter",
         "x": [
          "1800-12-31T00:00:00",
          "1810-12-31T00:00:00",
          "1820-12-31T00:00:00",
          "1830-12-31T00:00:00",
          "1840-12-31T00:00:00",
          "1850-12-31T00:00:00",
          "1860-12-31T00:00:00",
          "1870-12-31T00:00:00",
          "1880-12-31T00:00:00",
          "1890-12-31T00:00:00",
          "1900-12-31T00:00:00",
          "1910-12-31T00:00:00",
          "1920-12-31T00:00:00",
          "1930-12-31T00:00:00",
          "1940-12-31T00:00:00",
          "1950-12-31T00:00:00",
          "1960-12-31T00:00:00",
          "1970-12-31T00:00:00",
          "1980-12-31T00:00:00",
          "1990-12-31T00:00:00",
          "2000-12-31T00:00:00",
          "2010-12-31T00:00:00",
          "2020-12-31T00:00:00"
         ],
         "y": [
          0.43283333333333335,
          -0.19090833333333335,
          -0.7912999999999994,
          -0.3036416666666667,
          -0.5225750000000002,
          -0.27310833333333334,
          -0.44805,
          -0.19303333333333333,
          -0.23256666666666664,
          -0.6066999999999999,
          -0.11702499999999999,
          -0.5133916666666668,
          -0.20499166666666657,
          0.041049999999999996,
          0.06430833333333334,
          0.2940083333333335,
          0.11930833333333332,
          0.08690833333333335,
          -0.20627500000000007,
          0.47049166666666664,
          0.7294999999999999,
          1.2319583333333337,
          1.1995625
         ]
        },
        {
         "line": {
          "color": "grey"
         },
         "name": "Turkey",
         "opacity": 0.1,
         "type": "scatter",
         "x": [
          "1800-12-31T00:00:00",
          "1810-12-31T00:00:00",
          "1820-12-31T00:00:00",
          "1830-12-31T00:00:00",
          "1840-12-31T00:00:00",
          "1850-12-31T00:00:00",
          "1860-12-31T00:00:00",
          "1870-12-31T00:00:00",
          "1880-12-31T00:00:00",
          "1890-12-31T00:00:00",
          "1900-12-31T00:00:00",
          "1910-12-31T00:00:00",
          "1920-12-31T00:00:00",
          "1930-12-31T00:00:00",
          "1940-12-31T00:00:00",
          "1950-12-31T00:00:00",
          "1960-12-31T00:00:00",
          "1970-12-31T00:00:00",
          "1980-12-31T00:00:00",
          "1990-12-31T00:00:00",
          "2000-12-31T00:00:00",
          "2010-12-31T00:00:00",
          "2020-12-31T00:00:00"
         ],
         "y": [
          -0.17700000000000002,
          -0.4358333333333333,
          -1.2362333333333333,
          -0.5998083333333334,
          -1.2609500000000005,
          -0.6343333333333334,
          -0.5456166666666664,
          -0.7546416666666667,
          -0.37639166666666657,
          -0.6259916666666668,
          -0.6125999999999999,
          -0.5547416666666668,
          -0.4617833333333331,
          -0.11504166666666664,
          -0.07600833333333336,
          -0.3306083333333334,
          0.023416666666666672,
          0.15441666666666676,
          -0.17778333333333343,
          -0.02112500000000001,
          0.08500833333333326,
          0.7941416666666666,
          0.6909375000000001
         ]
        },
        {
         "line": {
          "color": "grey"
         },
         "name": "Turkmenistan",
         "opacity": 0.1,
         "type": "scatter",
         "x": [
          "1800-12-31T00:00:00",
          "1810-12-31T00:00:00",
          "1820-12-31T00:00:00",
          "1830-12-31T00:00:00",
          "1840-12-31T00:00:00",
          "1850-12-31T00:00:00",
          "1860-12-31T00:00:00",
          "1870-12-31T00:00:00",
          "1880-12-31T00:00:00",
          "1890-12-31T00:00:00",
          "1900-12-31T00:00:00",
          "1910-12-31T00:00:00",
          "1920-12-31T00:00:00",
          "1930-12-31T00:00:00",
          "1940-12-31T00:00:00",
          "1950-12-31T00:00:00",
          "1960-12-31T00:00:00",
          "1970-12-31T00:00:00",
          "1980-12-31T00:00:00",
          "1990-12-31T00:00:00",
          "2000-12-31T00:00:00",
          "2010-12-31T00:00:00",
          "2020-12-31T00:00:00"
         ],
         "y": [
          null,
          null,
          -1.5844666666666667,
          -0.8639999999999999,
          -1.0239272727272728,
          -0.6943416666666667,
          -0.5234333333333334,
          -0.7035500000000002,
          -0.20689999999999995,
          -0.5721833333333336,
          -0.6410416666666666,
          -0.44003333333333333,
          -0.37898333333333334,
          -0.5069000000000001,
          -0.3385249999999999,
          -0.11880000000000003,
          -0.18340000000000004,
          0.17324999999999993,
          0.01016666666666668,
          0.5641999999999997,
          0.8130249999999999,
          1.426658333333333,
          1.1213125
         ]
        },
        {
         "line": {
          "color": "grey"
         },
         "name": "Turks and Caicos Islands",
         "opacity": 0.1,
         "type": "scatter",
         "x": [
          "1800-12-31T00:00:00",
          "1810-12-31T00:00:00",
          "1820-12-31T00:00:00",
          "1830-12-31T00:00:00",
          "1840-12-31T00:00:00",
          "1850-12-31T00:00:00",
          "1860-12-31T00:00:00",
          "1870-12-31T00:00:00",
          "1880-12-31T00:00:00",
          "1890-12-31T00:00:00",
          "1900-12-31T00:00:00",
          "1910-12-31T00:00:00",
          "1920-12-31T00:00:00",
          "1930-12-31T00:00:00",
          "1940-12-31T00:00:00",
          "1950-12-31T00:00:00",
          "1960-12-31T00:00:00",
          "1970-12-31T00:00:00",
          "1980-12-31T00:00:00",
          "1990-12-31T00:00:00",
          "2000-12-31T00:00:00",
          "2010-12-31T00:00:00",
          "2020-12-31T00:00:00"
         ],
         "y": [
          null,
          null,
          null,
          -0.14185416666666656,
          -0.708433333333333,
          -0.7079916666666669,
          -0.6269750000000001,
          -0.4802749999999999,
          -0.400025,
          -0.6218499999999998,
          -0.4160750000000002,
          -0.4923499999999999,
          -0.447025,
          -0.23169166666666674,
          -0.12761666666666666,
          -0.005141666666666646,
          -0.06620833333333323,
          0.020116666666666658,
          0.046075000000000005,
          0.26255,
          0.4388083333333332,
          0.6331,
          0.524121212121212
         ]
        },
        {
         "line": {
          "color": "grey"
         },
         "name": "Uganda",
         "opacity": 0.1,
         "type": "scatter",
         "x": [
          "1800-12-31T00:00:00",
          "1810-12-31T00:00:00",
          "1820-12-31T00:00:00",
          "1830-12-31T00:00:00",
          "1840-12-31T00:00:00",
          "1850-12-31T00:00:00",
          "1860-12-31T00:00:00",
          "1870-12-31T00:00:00",
          "1880-12-31T00:00:00",
          "1890-12-31T00:00:00",
          "1900-12-31T00:00:00",
          "1910-12-31T00:00:00",
          "1920-12-31T00:00:00",
          "1930-12-31T00:00:00",
          "1940-12-31T00:00:00",
          "1950-12-31T00:00:00",
          "1960-12-31T00:00:00",
          "1970-12-31T00:00:00",
          "1980-12-31T00:00:00",
          "1990-12-31T00:00:00",
          "2000-12-31T00:00:00",
          "2010-12-31T00:00:00",
          "2020-12-31T00:00:00"
         ],
         "y": [
          null,
          null,
          null,
          null,
          null,
          -0.7764545454545455,
          -0.6421162790697674,
          -0.7757692307692309,
          -0.3646727272727273,
          -0.5784369747899162,
          -0.3012666666666667,
          -0.3182166666666667,
          -0.21368333333333336,
          -0.2116416666666667,
          0.014016666666666658,
          0.05048333333333336,
          -0.03890833333333333,
          -0.10214166666666667,
          0.14104166666666665,
          0.33179166666666665,
          0.38445833333333324,
          0.693991666666667,
          0.7345625
         ]
        },
        {
         "line": {
          "color": "grey"
         },
         "name": "Ukraine",
         "opacity": 0.1,
         "type": "scatter",
         "x": [
          "1800-12-31T00:00:00",
          "1810-12-31T00:00:00",
          "1820-12-31T00:00:00",
          "1830-12-31T00:00:00",
          "1840-12-31T00:00:00",
          "1850-12-31T00:00:00",
          "1860-12-31T00:00:00",
          "1870-12-31T00:00:00",
          "1880-12-31T00:00:00",
          "1890-12-31T00:00:00",
          "1900-12-31T00:00:00",
          "1910-12-31T00:00:00",
          "1920-12-31T00:00:00",
          "1930-12-31T00:00:00",
          "1940-12-31T00:00:00",
          "1950-12-31T00:00:00",
          "1960-12-31T00:00:00",
          "1970-12-31T00:00:00",
          "1980-12-31T00:00:00",
          "1990-12-31T00:00:00",
          "2000-12-31T00:00:00",
          "2010-12-31T00:00:00",
          "2020-12-31T00:00:00"
         ],
         "y": [
          -0.2900833333333333,
          -0.3965833333333334,
          -0.9332916666666666,
          -0.36442500000000005,
          -1.1000416666666666,
          -0.4814916666666669,
          -0.3275416666666666,
          -0.6408333333333333,
          -0.5923083333333334,
          -0.571783333333333,
          -0.5216166666666668,
          -0.3182916666666665,
          -0.42338333333333333,
          -0.31219166666666653,
          -0.07443333333333335,
          -0.4024083333333333,
          -0.04111666666666666,
          0.05112499999999998,
          -0.009975000000000038,
          0.217375,
          0.4957666666666667,
          1.2121333333333333,
          1.3311249999999997
         ]
        },
        {
         "line": {
          "color": "grey"
         },
         "name": "United Arab Emirates",
         "opacity": 0.1,
         "type": "scatter",
         "x": [
          "1800-12-31T00:00:00",
          "1810-12-31T00:00:00",
          "1820-12-31T00:00:00",
          "1830-12-31T00:00:00",
          "1840-12-31T00:00:00",
          "1850-12-31T00:00:00",
          "1860-12-31T00:00:00",
          "1870-12-31T00:00:00",
          "1880-12-31T00:00:00",
          "1890-12-31T00:00:00",
          "1900-12-31T00:00:00",
          "1910-12-31T00:00:00",
          "1920-12-31T00:00:00",
          "1930-12-31T00:00:00",
          "1940-12-31T00:00:00",
          "1950-12-31T00:00:00",
          "1960-12-31T00:00:00",
          "1970-12-31T00:00:00",
          "1980-12-31T00:00:00",
          "1990-12-31T00:00:00",
          "2000-12-31T00:00:00",
          "2010-12-31T00:00:00",
          "2020-12-31T00:00:00"
         ],
         "y": [
          null,
          null,
          null,
          null,
          null,
          -0.769078431372549,
          -0.4359166666666667,
          -0.5907168141592917,
          -0.40036134453781524,
          -0.374975,
          -0.35867500000000024,
          -0.3487750000000001,
          -0.435166666666667,
          -0.1814666666666667,
          -0.3629833333333335,
          -0.08117500000000001,
          -0.03578333333333334,
          -0.019216666666666653,
          0.05495833333333325,
          -0.018041666666666675,
          0.5260666666666666,
          1.2933666666666666,
          1.3656249999999999
         ]
        },
        {
         "line": {
          "color": "grey"
         },
         "name": "United Kingdom",
         "opacity": 0.1,
         "type": "scatter",
         "x": [
          "1800-12-31T00:00:00",
          "1810-12-31T00:00:00",
          "1820-12-31T00:00:00",
          "1830-12-31T00:00:00",
          "1840-12-31T00:00:00",
          "1850-12-31T00:00:00",
          "1860-12-31T00:00:00",
          "1870-12-31T00:00:00",
          "1880-12-31T00:00:00",
          "1890-12-31T00:00:00",
          "1900-12-31T00:00:00",
          "1910-12-31T00:00:00",
          "1920-12-31T00:00:00",
          "1930-12-31T00:00:00",
          "1940-12-31T00:00:00",
          "1950-12-31T00:00:00",
          "1960-12-31T00:00:00",
          "1970-12-31T00:00:00",
          "1980-12-31T00:00:00",
          "1990-12-31T00:00:00",
          "2000-12-31T00:00:00",
          "2010-12-31T00:00:00",
          "2020-12-31T00:00:00"
         ],
         "y": [
          -0.399,
          -0.47015833333333334,
          -0.6651666666666667,
          -0.0962416666666667,
          -0.39709166666666657,
          -0.27264999999999995,
          -0.35328333333333334,
          -0.14453333333333332,
          -0.3373916666666666,
          -0.5973833333333334,
          -0.2147333333333333,
          -0.35715,
          -0.1523750000000001,
          -0.12199166666666669,
          0.15186666666666662,
          0.24232499999999998,
          0.11425000000000002,
          -0.18653333333333347,
          0.0723500000000001,
          0.16334166666666664,
          0.5419999999999999,
          0.8652750000000007,
          0.64875
         ]
        },
        {
         "line": {
          "color": "grey"
         },
         "name": "United States of America",
         "opacity": 0.1,
         "type": "scatter",
         "x": [
          "1800-12-31T00:00:00",
          "1810-12-31T00:00:00",
          "1820-12-31T00:00:00",
          "1830-12-31T00:00:00",
          "1840-12-31T00:00:00",
          "1850-12-31T00:00:00",
          "1860-12-31T00:00:00",
          "1870-12-31T00:00:00",
          "1880-12-31T00:00:00",
          "1890-12-31T00:00:00",
          "1900-12-31T00:00:00",
          "1910-12-31T00:00:00",
          "1920-12-31T00:00:00",
          "1930-12-31T00:00:00",
          "1940-12-31T00:00:00",
          "1950-12-31T00:00:00",
          "1960-12-31T00:00:00",
          "1970-12-31T00:00:00",
          "1980-12-31T00:00:00",
          "1990-12-31T00:00:00",
          "2000-12-31T00:00:00",
          "2010-12-31T00:00:00",
          "2020-12-31T00:00:00"
         ],
         "y": [
          null,
          null,
          -1.2339651162790695,
          -0.20288333333333322,
          -0.6913750000000003,
          -0.5712583333333335,
          -0.4257999999999999,
          -0.3554333333333334,
          -0.39387499999999986,
          -0.5005750000000002,
          -0.4380416666666666,
          -0.37147500000000017,
          -0.39042500000000013,
          0.01723333333333336,
          0.32960833333333345,
          0.0866833333333333,
          0.1234833333333333,
          -0.07334166666666665,
          -0.05015833333333332,
          0.3495833333333333,
          0.5370416666666668,
          0.8389749999999998,
          1.0004848484848483
         ]
        },
        {
         "line": {
          "color": "grey"
         },
         "name": "Uruguay",
         "opacity": 0.1,
         "type": "scatter",
         "x": [
          "1800-12-31T00:00:00",
          "1810-12-31T00:00:00",
          "1820-12-31T00:00:00",
          "1830-12-31T00:00:00",
          "1840-12-31T00:00:00",
          "1850-12-31T00:00:00",
          "1860-12-31T00:00:00",
          "1870-12-31T00:00:00",
          "1880-12-31T00:00:00",
          "1890-12-31T00:00:00",
          "1900-12-31T00:00:00",
          "1910-12-31T00:00:00",
          "1920-12-31T00:00:00",
          "1930-12-31T00:00:00",
          "1940-12-31T00:00:00",
          "1950-12-31T00:00:00",
          "1960-12-31T00:00:00",
          "1970-12-31T00:00:00",
          "1980-12-31T00:00:00",
          "1990-12-31T00:00:00",
          "2000-12-31T00:00:00",
          "2010-12-31T00:00:00",
          "2020-12-31T00:00:00"
         ],
         "y": [
          null,
          null,
          null,
          null,
          -0.9902962962962966,
          -0.6939444444444445,
          -0.5545249999999999,
          -0.4994,
          -0.7023666666666671,
          -0.8750749999999997,
          -0.3494583333333336,
          -0.4868333333333332,
          -0.3169666666666665,
          -0.23573333333333338,
          -0.18587500000000015,
          -0.014975000000000018,
          -0.11541666666666674,
          0.022424999999999955,
          0.09301666666666669,
          0.3560666666666667,
          0.4438166666666668,
          0.6623250000000003,
          0.5555624999999998
         ]
        },
        {
         "line": {
          "color": "grey"
         },
         "name": "Uzbekistan",
         "opacity": 0.1,
         "type": "scatter",
         "x": [
          "1800-12-31T00:00:00",
          "1810-12-31T00:00:00",
          "1820-12-31T00:00:00",
          "1830-12-31T00:00:00",
          "1840-12-31T00:00:00",
          "1850-12-31T00:00:00",
          "1860-12-31T00:00:00",
          "1870-12-31T00:00:00",
          "1880-12-31T00:00:00",
          "1890-12-31T00:00:00",
          "1900-12-31T00:00:00",
          "1910-12-31T00:00:00",
          "1920-12-31T00:00:00",
          "1930-12-31T00:00:00",
          "1940-12-31T00:00:00",
          "1950-12-31T00:00:00",
          "1960-12-31T00:00:00",
          "1970-12-31T00:00:00",
          "1980-12-31T00:00:00",
          "1990-12-31T00:00:00",
          "2000-12-31T00:00:00",
          "2010-12-31T00:00:00",
          "2020-12-31T00:00:00"
         ],
         "y": [
          null,
          null,
          -1.6208571428571428,
          null,
          -1.0805909090909094,
          -0.7431250000000004,
          -0.5905500000000001,
          -0.7102000000000002,
          -0.26493333333333335,
          -0.6780583333333333,
          -0.7256000000000001,
          -0.5681749999999999,
          -0.3692833333333333,
          -0.5189499999999999,
          -0.4194416666666663,
          -0.163025,
          -0.2820083333333333,
          0.2129249999999998,
          0.06916666666666667,
          0.579733333333333,
          0.6727749999999998,
          1.343841666666667,
          0.9355937500000001
         ]
        },
        {
         "line": {
          "color": "grey"
         },
         "name": "Venezuela",
         "opacity": 0.1,
         "type": "scatter",
         "x": [
          "1800-12-31T00:00:00",
          "1810-12-31T00:00:00",
          "1820-12-31T00:00:00",
          "1830-12-31T00:00:00",
          "1840-12-31T00:00:00",
          "1850-12-31T00:00:00",
          "1860-12-31T00:00:00",
          "1870-12-31T00:00:00",
          "1880-12-31T00:00:00",
          "1890-12-31T00:00:00",
          "1900-12-31T00:00:00",
          "1910-12-31T00:00:00",
          "1920-12-31T00:00:00",
          "1930-12-31T00:00:00",
          "1940-12-31T00:00:00",
          "1950-12-31T00:00:00",
          "1960-12-31T00:00:00",
          "1970-12-31T00:00:00",
          "1980-12-31T00:00:00",
          "1990-12-31T00:00:00",
          "2000-12-31T00:00:00",
          "2010-12-31T00:00:00",
          "2020-12-31T00:00:00"
         ],
         "y": [
          null,
          null,
          null,
          -0.43901538461538453,
          null,
          -0.7299710144927535,
          -0.7933166666666666,
          -0.6998999999999997,
          -0.5115416666666669,
          -0.8462666666666664,
          -0.6629583333333333,
          -0.5768166666666666,
          -0.6036416666666667,
          -0.46159166666666646,
          -0.25415833333333326,
          -0.14729166666666668,
          -0.003116666666666672,
          0.04219166666666669,
          -0.039041666666666704,
          0.12527500000000005,
          0.30644166666666683,
          0.5801499999999998,
          0.4191875
         ]
        },
        {
         "line": {
          "color": "grey"
         },
         "name": "Vietnam",
         "opacity": 0.1,
         "type": "scatter",
         "x": [
          "1800-12-31T00:00:00",
          "1810-12-31T00:00:00",
          "1820-12-31T00:00:00",
          "1830-12-31T00:00:00",
          "1840-12-31T00:00:00",
          "1850-12-31T00:00:00",
          "1860-12-31T00:00:00",
          "1870-12-31T00:00:00",
          "1880-12-31T00:00:00",
          "1890-12-31T00:00:00",
          "1900-12-31T00:00:00",
          "1910-12-31T00:00:00",
          "1920-12-31T00:00:00",
          "1930-12-31T00:00:00",
          "1940-12-31T00:00:00",
          "1950-12-31T00:00:00",
          "1960-12-31T00:00:00",
          "1970-12-31T00:00:00",
          "1980-12-31T00:00:00",
          "1990-12-31T00:00:00",
          "2000-12-31T00:00:00",
          "2010-12-31T00:00:00",
          "2020-12-31T00:00:00"
         ],
         "y": [
          null,
          null,
          null,
          -0.35674999999999996,
          -0.9381904761904761,
          -0.8194117647058824,
          -0.71185593220339,
          -0.7241261261261264,
          -0.5714416666666667,
          -0.7163166666666668,
          -0.6433166666666668,
          -0.4601083333333335,
          -0.40304166666666663,
          -0.35554166666666664,
          -0.1768583333333334,
          0.07501666666666665,
          0.03538333333333336,
          0.011191666666666655,
          -0.04656666666666665,
          0.09107499999999999,
          0.1387333333333334,
          0.3664500000000002,
          0.3765625000000001
         ]
        },
        {
         "line": {
          "color": "grey"
         },
         "name": "Western Sahara",
         "opacity": 0.1,
         "type": "scatter",
         "x": [
          "1800-12-31T00:00:00",
          "1810-12-31T00:00:00",
          "1820-12-31T00:00:00",
          "1830-12-31T00:00:00",
          "1840-12-31T00:00:00",
          "1850-12-31T00:00:00",
          "1860-12-31T00:00:00",
          "1870-12-31T00:00:00",
          "1880-12-31T00:00:00",
          "1890-12-31T00:00:00",
          "1900-12-31T00:00:00",
          "1910-12-31T00:00:00",
          "1920-12-31T00:00:00",
          "1930-12-31T00:00:00",
          "1940-12-31T00:00:00",
          "1950-12-31T00:00:00",
          "1960-12-31T00:00:00",
          "1970-12-31T00:00:00",
          "1980-12-31T00:00:00",
          "1990-12-31T00:00:00",
          "2000-12-31T00:00:00",
          "2010-12-31T00:00:00",
          "2020-12-31T00:00:00"
         ],
         "y": [
          0.107,
          -0.36883116883116884,
          -0.8671904761904764,
          -0.2302916666666665,
          -0.6250916666666672,
          -0.4404786324786324,
          -0.3875666666666665,
          -0.2738833333333334,
          -0.3631416666666666,
          -0.4842166666666665,
          -0.0913916666666667,
          -0.34759166666666663,
          -0.18574166666666653,
          0.05280000000000001,
          -0.088725,
          0.024850000000000018,
          -0.11555833333333337,
          0.2365083333333334,
          -0.1208916666666667,
          0.5572333333333331,
          0.6361083333333336,
          1.0822333333333327,
          0.9859374999999998
         ]
        },
        {
         "line": {
          "color": "grey"
         },
         "name": "Yemen",
         "opacity": 0.1,
         "type": "scatter",
         "x": [
          "1800-12-31T00:00:00",
          "1810-12-31T00:00:00",
          "1820-12-31T00:00:00",
          "1830-12-31T00:00:00",
          "1840-12-31T00:00:00",
          "1850-12-31T00:00:00",
          "1860-12-31T00:00:00",
          "1870-12-31T00:00:00",
          "1880-12-31T00:00:00",
          "1890-12-31T00:00:00",
          "1900-12-31T00:00:00",
          "1910-12-31T00:00:00",
          "1920-12-31T00:00:00",
          "1930-12-31T00:00:00",
          "1940-12-31T00:00:00",
          "1950-12-31T00:00:00",
          "1960-12-31T00:00:00",
          "1970-12-31T00:00:00",
          "1980-12-31T00:00:00",
          "1990-12-31T00:00:00",
          "2000-12-31T00:00:00",
          "2010-12-31T00:00:00",
          "2020-12-31T00:00:00"
         ],
         "y": [
          null,
          null,
          null,
          null,
          null,
          null,
          null,
          null,
          -0.31459649122807015,
          -0.35150833333333337,
          -0.33978333333333327,
          -0.3898416666666666,
          -0.3791083333333332,
          -0.1823583333333335,
          -0.2894666666666666,
          0.048083333333333284,
          -0.07521666666666665,
          0.0028916666666666466,
          0.07235833333333334,
          -0.016925000000000016,
          0.5721083333333333,
          0.9360666666666669,
          1.10365625
         ]
        },
        {
         "line": {
          "color": "grey"
         },
         "name": "Zambia",
         "opacity": 0.1,
         "type": "scatter",
         "x": [
          "1800-12-31T00:00:00",
          "1810-12-31T00:00:00",
          "1820-12-31T00:00:00",
          "1830-12-31T00:00:00",
          "1840-12-31T00:00:00",
          "1850-12-31T00:00:00",
          "1860-12-31T00:00:00",
          "1870-12-31T00:00:00",
          "1880-12-31T00:00:00",
          "1890-12-31T00:00:00",
          "1900-12-31T00:00:00",
          "1910-12-31T00:00:00",
          "1920-12-31T00:00:00",
          "1930-12-31T00:00:00",
          "1940-12-31T00:00:00",
          "1950-12-31T00:00:00",
          "1960-12-31T00:00:00",
          "1970-12-31T00:00:00",
          "1980-12-31T00:00:00",
          "1990-12-31T00:00:00",
          "2000-12-31T00:00:00",
          "2010-12-31T00:00:00",
          "2020-12-31T00:00:00"
         ],
         "y": [
          null,
          null,
          null,
          null,
          null,
          -0.7786363636363638,
          -0.5142000000000001,
          -0.6468333333333333,
          -0.4875846153846154,
          -0.6082333333333333,
          -0.3377250000000001,
          -0.444625,
          -0.14537499999999998,
          -0.0735,
          -0.20323333333333332,
          0.03305833333333333,
          0.06862499999999999,
          0.020783333333333338,
          -0.08940833333333334,
          0.4425250000000002,
          0.6207166666666664,
          0.68045,
          0.55625
         ]
        },
        {
         "line": {
          "color": "grey"
         },
         "name": "Zimbabwe",
         "opacity": 0.1,
         "type": "scatter",
         "x": [
          "1800-12-31T00:00:00",
          "1810-12-31T00:00:00",
          "1820-12-31T00:00:00",
          "1830-12-31T00:00:00",
          "1840-12-31T00:00:00",
          "1850-12-31T00:00:00",
          "1860-12-31T00:00:00",
          "1870-12-31T00:00:00",
          "1880-12-31T00:00:00",
          "1890-12-31T00:00:00",
          "1900-12-31T00:00:00",
          "1910-12-31T00:00:00",
          "1920-12-31T00:00:00",
          "1930-12-31T00:00:00",
          "1940-12-31T00:00:00",
          "1950-12-31T00:00:00",
          "1960-12-31T00:00:00",
          "1970-12-31T00:00:00",
          "1980-12-31T00:00:00",
          "1990-12-31T00:00:00",
          "2000-12-31T00:00:00",
          "2010-12-31T00:00:00",
          "2020-12-31T00:00:00"
         ],
         "y": [
          null,
          null,
          null,
          null,
          null,
          -0.7883636363636364,
          -0.6516000000000001,
          -0.6349090909090909,
          -0.4960923076923077,
          -0.5625833333333337,
          -0.35573333333333346,
          -0.517825,
          -0.1577416666666667,
          -0.12486666666666665,
          -0.23453333333333332,
          0.13678333333333342,
          0.02129166666666665,
          0.10375833333333334,
          -0.12508333333333335,
          0.45284166666666653,
          0.6784666666666663,
          0.5938916666666664,
          0.4690937500000001
         ]
        },
        {
         "line": {
          "color": "black",
          "dash": "dot",
          "width": 1
         },
         "name": "Mittelwert von 1950-1980",
         "opacity": 0.8,
         "type": "scatter",
         "x": [
          "1800-12-31T00:00:00",
          "1810-12-31T00:00:00",
          "1820-12-31T00:00:00",
          "1830-12-31T00:00:00",
          "1840-12-31T00:00:00",
          "1850-12-31T00:00:00",
          "1860-12-31T00:00:00",
          "1870-12-31T00:00:00",
          "1880-12-31T00:00:00",
          "1890-12-31T00:00:00",
          "1900-12-31T00:00:00",
          "1910-12-31T00:00:00",
          "1920-12-31T00:00:00",
          "1930-12-31T00:00:00",
          "1940-12-31T00:00:00",
          "1950-12-31T00:00:00",
          "1960-12-31T00:00:00",
          "1970-12-31T00:00:00",
          "1980-12-31T00:00:00",
          "1990-12-31T00:00:00",
          "2000-12-31T00:00:00",
          "2010-12-31T00:00:00",
          "2020-12-31T00:00:00"
         ],
         "y": [
          0,
          0,
          0,
          0,
          0,
          0,
          0,
          0,
          0,
          0,
          0,
          0,
          0,
          0,
          0,
          0,
          0,
          0,
          0,
          0,
          0,
          0,
          0
         ]
        }
       ],
       "layout": {
        "annotations": [
         {
          "showarrow": false,
          "text": "Quelle: http://berkeleyearth.org/",
          "x": 0.5,
          "xref": "paper",
          "y": -0.25,
          "yref": "paper"
         }
        ],
        "margin": {
         "b": 90
        },
        "showlegend": false,
        "template": {
         "data": {
          "bar": [
           {
            "error_x": {
             "color": "rgb(36,36,36)"
            },
            "error_y": {
             "color": "rgb(36,36,36)"
            },
            "marker": {
             "line": {
              "color": "white",
              "width": 0.5
             }
            },
            "type": "bar"
           }
          ],
          "barpolar": [
           {
            "marker": {
             "line": {
              "color": "white",
              "width": 0.5
             }
            },
            "type": "barpolar"
           }
          ],
          "carpet": [
           {
            "aaxis": {
             "endlinecolor": "rgb(36,36,36)",
             "gridcolor": "white",
             "linecolor": "white",
             "minorgridcolor": "white",
             "startlinecolor": "rgb(36,36,36)"
            },
            "baxis": {
             "endlinecolor": "rgb(36,36,36)",
             "gridcolor": "white",
             "linecolor": "white",
             "minorgridcolor": "white",
             "startlinecolor": "rgb(36,36,36)"
            },
            "type": "carpet"
           }
          ],
          "choropleth": [
           {
            "colorbar": {
             "outlinewidth": 1,
             "tickcolor": "rgb(36,36,36)",
             "ticks": "outside"
            },
            "type": "choropleth"
           }
          ],
          "contour": [
           {
            "colorbar": {
             "outlinewidth": 1,
             "tickcolor": "rgb(36,36,36)",
             "ticks": "outside"
            },
            "colorscale": [
             [
              0,
              "#440154"
             ],
             [
              0.1111111111111111,
              "#482878"
             ],
             [
              0.2222222222222222,
              "#3e4989"
             ],
             [
              0.3333333333333333,
              "#31688e"
             ],
             [
              0.4444444444444444,
              "#26828e"
             ],
             [
              0.5555555555555556,
              "#1f9e89"
             ],
             [
              0.6666666666666666,
              "#35b779"
             ],
             [
              0.7777777777777778,
              "#6ece58"
             ],
             [
              0.8888888888888888,
              "#b5de2b"
             ],
             [
              1,
              "#fde725"
             ]
            ],
            "type": "contour"
           }
          ],
          "contourcarpet": [
           {
            "colorbar": {
             "outlinewidth": 1,
             "tickcolor": "rgb(36,36,36)",
             "ticks": "outside"
            },
            "type": "contourcarpet"
           }
          ],
          "heatmap": [
           {
            "colorbar": {
             "outlinewidth": 1,
             "tickcolor": "rgb(36,36,36)",
             "ticks": "outside"
            },
            "colorscale": [
             [
              0,
              "#440154"
             ],
             [
              0.1111111111111111,
              "#482878"
             ],
             [
              0.2222222222222222,
              "#3e4989"
             ],
             [
              0.3333333333333333,
              "#31688e"
             ],
             [
              0.4444444444444444,
              "#26828e"
             ],
             [
              0.5555555555555556,
              "#1f9e89"
             ],
             [
              0.6666666666666666,
              "#35b779"
             ],
             [
              0.7777777777777778,
              "#6ece58"
             ],
             [
              0.8888888888888888,
              "#b5de2b"
             ],
             [
              1,
              "#fde725"
             ]
            ],
            "type": "heatmap"
           }
          ],
          "heatmapgl": [
           {
            "colorbar": {
             "outlinewidth": 1,
             "tickcolor": "rgb(36,36,36)",
             "ticks": "outside"
            },
            "colorscale": [
             [
              0,
              "#440154"
             ],
             [
              0.1111111111111111,
              "#482878"
             ],
             [
              0.2222222222222222,
              "#3e4989"
             ],
             [
              0.3333333333333333,
              "#31688e"
             ],
             [
              0.4444444444444444,
              "#26828e"
             ],
             [
              0.5555555555555556,
              "#1f9e89"
             ],
             [
              0.6666666666666666,
              "#35b779"
             ],
             [
              0.7777777777777778,
              "#6ece58"
             ],
             [
              0.8888888888888888,
              "#b5de2b"
             ],
             [
              1,
              "#fde725"
             ]
            ],
            "type": "heatmapgl"
           }
          ],
          "histogram": [
           {
            "marker": {
             "line": {
              "color": "white",
              "width": 0.6
             }
            },
            "type": "histogram"
           }
          ],
          "histogram2d": [
           {
            "colorbar": {
             "outlinewidth": 1,
             "tickcolor": "rgb(36,36,36)",
             "ticks": "outside"
            },
            "colorscale": [
             [
              0,
              "#440154"
             ],
             [
              0.1111111111111111,
              "#482878"
             ],
             [
              0.2222222222222222,
              "#3e4989"
             ],
             [
              0.3333333333333333,
              "#31688e"
             ],
             [
              0.4444444444444444,
              "#26828e"
             ],
             [
              0.5555555555555556,
              "#1f9e89"
             ],
             [
              0.6666666666666666,
              "#35b779"
             ],
             [
              0.7777777777777778,
              "#6ece58"
             ],
             [
              0.8888888888888888,
              "#b5de2b"
             ],
             [
              1,
              "#fde725"
             ]
            ],
            "type": "histogram2d"
           }
          ],
          "histogram2dcontour": [
           {
            "colorbar": {
             "outlinewidth": 1,
             "tickcolor": "rgb(36,36,36)",
             "ticks": "outside"
            },
            "colorscale": [
             [
              0,
              "#440154"
             ],
             [
              0.1111111111111111,
              "#482878"
             ],
             [
              0.2222222222222222,
              "#3e4989"
             ],
             [
              0.3333333333333333,
              "#31688e"
             ],
             [
              0.4444444444444444,
              "#26828e"
             ],
             [
              0.5555555555555556,
              "#1f9e89"
             ],
             [
              0.6666666666666666,
              "#35b779"
             ],
             [
              0.7777777777777778,
              "#6ece58"
             ],
             [
              0.8888888888888888,
              "#b5de2b"
             ],
             [
              1,
              "#fde725"
             ]
            ],
            "type": "histogram2dcontour"
           }
          ],
          "mesh3d": [
           {
            "colorbar": {
             "outlinewidth": 1,
             "tickcolor": "rgb(36,36,36)",
             "ticks": "outside"
            },
            "type": "mesh3d"
           }
          ],
          "parcoords": [
           {
            "line": {
             "colorbar": {
              "outlinewidth": 1,
              "tickcolor": "rgb(36,36,36)",
              "ticks": "outside"
             }
            },
            "type": "parcoords"
           }
          ],
          "pie": [
           {
            "automargin": true,
            "type": "pie"
           }
          ],
          "scatter": [
           {
            "marker": {
             "colorbar": {
              "outlinewidth": 1,
              "tickcolor": "rgb(36,36,36)",
              "ticks": "outside"
             }
            },
            "type": "scatter"
           }
          ],
          "scatter3d": [
           {
            "line": {
             "colorbar": {
              "outlinewidth": 1,
              "tickcolor": "rgb(36,36,36)",
              "ticks": "outside"
             }
            },
            "marker": {
             "colorbar": {
              "outlinewidth": 1,
              "tickcolor": "rgb(36,36,36)",
              "ticks": "outside"
             }
            },
            "type": "scatter3d"
           }
          ],
          "scattercarpet": [
           {
            "marker": {
             "colorbar": {
              "outlinewidth": 1,
              "tickcolor": "rgb(36,36,36)",
              "ticks": "outside"
             }
            },
            "type": "scattercarpet"
           }
          ],
          "scattergeo": [
           {
            "marker": {
             "colorbar": {
              "outlinewidth": 1,
              "tickcolor": "rgb(36,36,36)",
              "ticks": "outside"
             }
            },
            "type": "scattergeo"
           }
          ],
          "scattergl": [
           {
            "marker": {
             "colorbar": {
              "outlinewidth": 1,
              "tickcolor": "rgb(36,36,36)",
              "ticks": "outside"
             }
            },
            "type": "scattergl"
           }
          ],
          "scattermapbox": [
           {
            "marker": {
             "colorbar": {
              "outlinewidth": 1,
              "tickcolor": "rgb(36,36,36)",
              "ticks": "outside"
             }
            },
            "type": "scattermapbox"
           }
          ],
          "scatterpolar": [
           {
            "marker": {
             "colorbar": {
              "outlinewidth": 1,
              "tickcolor": "rgb(36,36,36)",
              "ticks": "outside"
             }
            },
            "type": "scatterpolar"
           }
          ],
          "scatterpolargl": [
           {
            "marker": {
             "colorbar": {
              "outlinewidth": 1,
              "tickcolor": "rgb(36,36,36)",
              "ticks": "outside"
             }
            },
            "type": "scatterpolargl"
           }
          ],
          "scatterternary": [
           {
            "marker": {
             "colorbar": {
              "outlinewidth": 1,
              "tickcolor": "rgb(36,36,36)",
              "ticks": "outside"
             }
            },
            "type": "scatterternary"
           }
          ],
          "surface": [
           {
            "colorbar": {
             "outlinewidth": 1,
             "tickcolor": "rgb(36,36,36)",
             "ticks": "outside"
            },
            "colorscale": [
             [
              0,
              "#440154"
             ],
             [
              0.1111111111111111,
              "#482878"
             ],
             [
              0.2222222222222222,
              "#3e4989"
             ],
             [
              0.3333333333333333,
              "#31688e"
             ],
             [
              0.4444444444444444,
              "#26828e"
             ],
             [
              0.5555555555555556,
              "#1f9e89"
             ],
             [
              0.6666666666666666,
              "#35b779"
             ],
             [
              0.7777777777777778,
              "#6ece58"
             ],
             [
              0.8888888888888888,
              "#b5de2b"
             ],
             [
              1,
              "#fde725"
             ]
            ],
            "type": "surface"
           }
          ],
          "table": [
           {
            "cells": {
             "fill": {
              "color": "rgb(237,237,237)"
             },
             "line": {
              "color": "white"
             }
            },
            "header": {
             "fill": {
              "color": "rgb(217,217,217)"
             },
             "line": {
              "color": "white"
             }
            },
            "type": "table"
           }
          ]
         },
         "layout": {
          "annotationdefaults": {
           "arrowhead": 0,
           "arrowwidth": 1
          },
          "coloraxis": {
           "colorbar": {
            "outlinewidth": 1,
            "tickcolor": "rgb(36,36,36)",
            "ticks": "outside"
           }
          },
          "colorscale": {
           "diverging": [
            [
             0,
             "rgb(103,0,31)"
            ],
            [
             0.1,
             "rgb(178,24,43)"
            ],
            [
             0.2,
             "rgb(214,96,77)"
            ],
            [
             0.3,
             "rgb(244,165,130)"
            ],
            [
             0.4,
             "rgb(253,219,199)"
            ],
            [
             0.5,
             "rgb(247,247,247)"
            ],
            [
             0.6,
             "rgb(209,229,240)"
            ],
            [
             0.7,
             "rgb(146,197,222)"
            ],
            [
             0.8,
             "rgb(67,147,195)"
            ],
            [
             0.9,
             "rgb(33,102,172)"
            ],
            [
             1,
             "rgb(5,48,97)"
            ]
           ],
           "sequential": [
            [
             0,
             "#440154"
            ],
            [
             0.1111111111111111,
             "#482878"
            ],
            [
             0.2222222222222222,
             "#3e4989"
            ],
            [
             0.3333333333333333,
             "#31688e"
            ],
            [
             0.4444444444444444,
             "#26828e"
            ],
            [
             0.5555555555555556,
             "#1f9e89"
            ],
            [
             0.6666666666666666,
             "#35b779"
            ],
            [
             0.7777777777777778,
             "#6ece58"
            ],
            [
             0.8888888888888888,
             "#b5de2b"
            ],
            [
             1,
             "#fde725"
            ]
           ],
           "sequentialminus": [
            [
             0,
             "#440154"
            ],
            [
             0.1111111111111111,
             "#482878"
            ],
            [
             0.2222222222222222,
             "#3e4989"
            ],
            [
             0.3333333333333333,
             "#31688e"
            ],
            [
             0.4444444444444444,
             "#26828e"
            ],
            [
             0.5555555555555556,
             "#1f9e89"
            ],
            [
             0.6666666666666666,
             "#35b779"
            ],
            [
             0.7777777777777778,
             "#6ece58"
            ],
            [
             0.8888888888888888,
             "#b5de2b"
            ],
            [
             1,
             "#fde725"
            ]
           ]
          },
          "colorway": [
           "#1F77B4",
           "#FF7F0E",
           "#2CA02C",
           "#D62728",
           "#9467BD",
           "#8C564B",
           "#E377C2",
           "#7F7F7F",
           "#BCBD22",
           "#17BECF"
          ],
          "font": {
           "color": "rgb(36,36,36)"
          },
          "geo": {
           "bgcolor": "white",
           "lakecolor": "white",
           "landcolor": "white",
           "showlakes": true,
           "showland": true,
           "subunitcolor": "white"
          },
          "hoverlabel": {
           "align": "left"
          },
          "hovermode": "closest",
          "mapbox": {
           "style": "light"
          },
          "paper_bgcolor": "white",
          "plot_bgcolor": "white",
          "polar": {
           "angularaxis": {
            "gridcolor": "rgb(232,232,232)",
            "linecolor": "rgb(36,36,36)",
            "showgrid": false,
            "showline": true,
            "ticks": "outside"
           },
           "bgcolor": "white",
           "radialaxis": {
            "gridcolor": "rgb(232,232,232)",
            "linecolor": "rgb(36,36,36)",
            "showgrid": false,
            "showline": true,
            "ticks": "outside"
           }
          },
          "scene": {
           "xaxis": {
            "backgroundcolor": "white",
            "gridcolor": "rgb(232,232,232)",
            "gridwidth": 2,
            "linecolor": "rgb(36,36,36)",
            "showbackground": true,
            "showgrid": false,
            "showline": true,
            "ticks": "outside",
            "zeroline": false,
            "zerolinecolor": "rgb(36,36,36)"
           },
           "yaxis": {
            "backgroundcolor": "white",
            "gridcolor": "rgb(232,232,232)",
            "gridwidth": 2,
            "linecolor": "rgb(36,36,36)",
            "showbackground": true,
            "showgrid": false,
            "showline": true,
            "ticks": "outside",
            "zeroline": false,
            "zerolinecolor": "rgb(36,36,36)"
           },
           "zaxis": {
            "backgroundcolor": "white",
            "gridcolor": "rgb(232,232,232)",
            "gridwidth": 2,
            "linecolor": "rgb(36,36,36)",
            "showbackground": true,
            "showgrid": false,
            "showline": true,
            "ticks": "outside",
            "zeroline": false,
            "zerolinecolor": "rgb(36,36,36)"
           }
          },
          "shapedefaults": {
           "fillcolor": "black",
           "line": {
            "width": 0
           },
           "opacity": 0.3
          },
          "ternary": {
           "aaxis": {
            "gridcolor": "rgb(232,232,232)",
            "linecolor": "rgb(36,36,36)",
            "showgrid": false,
            "showline": true,
            "ticks": "outside"
           },
           "baxis": {
            "gridcolor": "rgb(232,232,232)",
            "linecolor": "rgb(36,36,36)",
            "showgrid": false,
            "showline": true,
            "ticks": "outside"
           },
           "bgcolor": "white",
           "caxis": {
            "gridcolor": "rgb(232,232,232)",
            "linecolor": "rgb(36,36,36)",
            "showgrid": false,
            "showline": true,
            "ticks": "outside"
           }
          },
          "title": {
           "x": 0.05
          },
          "xaxis": {
           "automargin": true,
           "gridcolor": "rgb(232,232,232)",
           "linecolor": "rgb(36,36,36)",
           "showgrid": false,
           "showline": true,
           "ticks": "outside",
           "title": {
            "standoff": 15
           },
           "zeroline": false,
           "zerolinecolor": "rgb(36,36,36)"
          },
          "yaxis": {
           "automargin": true,
           "gridcolor": "rgb(232,232,232)",
           "linecolor": "rgb(36,36,36)",
           "showgrid": false,
           "showline": true,
           "ticks": "outside",
           "title": {
            "standoff": 15
           },
           "zeroline": false,
           "zerolinecolor": "rgb(36,36,36)"
          }
         }
        },
        "title": {
         "text": "Temperaturdifferenzen zum gemessenen Mittel aller Länder von 1950-1980 im 10 Jahres Mittel"
        },
        "width": 950,
        "xaxis": {
         "title": {
          "text": "Jahre"
         }
        },
        "yaxis": {
         "title": {
          "text": "Temperaturdifferenz in K"
         }
        }
       }
      },
      "text/html": [
       "<div>\n",
       "        \n",
       "        \n",
       "            <div id=\"e46fdc06-aac6-446f-87bc-e360f4f2305d\" class=\"plotly-graph-div\" style=\"height:525px; width:950px;\"></div>\n",
       "            <script type=\"text/javascript\">\n",
       "                require([\"plotly\"], function(Plotly) {\n",
       "                    window.PLOTLYENV=window.PLOTLYENV || {};\n",
       "                    \n",
       "                if (document.getElementById(\"e46fdc06-aac6-446f-87bc-e360f4f2305d\")) {\n",
       "                    Plotly.newPlot(\n",
       "                        'e46fdc06-aac6-446f-87bc-e360f4f2305d',\n",
       "                        [{\"line\": {\"color\": \"grey\"}, \"name\": \"Afghanistan\", \"opacity\": 0.1, \"type\": \"scatter\", \"x\": [\"1800-12-31T00:00:00\", \"1810-12-31T00:00:00\", \"1820-12-31T00:00:00\", \"1830-12-31T00:00:00\", \"1840-12-31T00:00:00\", \"1850-12-31T00:00:00\", \"1860-12-31T00:00:00\", \"1870-12-31T00:00:00\", \"1880-12-31T00:00:00\", \"1890-12-31T00:00:00\", \"1900-12-31T00:00:00\", \"1910-12-31T00:00:00\", \"1920-12-31T00:00:00\", \"1930-12-31T00:00:00\", \"1940-12-31T00:00:00\", \"1950-12-31T00:00:00\", \"1960-12-31T00:00:00\", \"1970-12-31T00:00:00\", \"1980-12-31T00:00:00\", \"1990-12-31T00:00:00\", \"2000-12-31T00:00:00\", \"2010-12-31T00:00:00\", \"2020-12-31T00:00:00\"], \"y\": [null, null, null, null, -0.6502777777777777, -0.6375999999999998, -0.4956666666666667, -0.5433916666666667, -0.1749416666666667, -0.4354833333333332, -0.3154583333333331, -0.3951750000000001, -0.2589833333333333, -0.3246333333333334, -0.22894166666666668, 0.15699999999999992, 0.03425000000000004, -0.019783333333333288, -0.014424999999999926, 0.5449500000000003, 0.7220749999999998, 1.337900000000001, 0.9720000000000002]}, {\"line\": {\"color\": \"grey\"}, \"name\": \"Albania\", \"opacity\": 0.1, \"type\": \"scatter\", \"x\": [\"1800-12-31T00:00:00\", \"1810-12-31T00:00:00\", \"1820-12-31T00:00:00\", \"1830-12-31T00:00:00\", \"1840-12-31T00:00:00\", \"1850-12-31T00:00:00\", \"1860-12-31T00:00:00\", \"1870-12-31T00:00:00\", \"1880-12-31T00:00:00\", \"1890-12-31T00:00:00\", \"1900-12-31T00:00:00\", \"1910-12-31T00:00:00\", \"1920-12-31T00:00:00\", \"1930-12-31T00:00:00\", \"1940-12-31T00:00:00\", \"1950-12-31T00:00:00\", \"1960-12-31T00:00:00\", \"1970-12-31T00:00:00\", \"1980-12-31T00:00:00\", \"1990-12-31T00:00:00\", \"2000-12-31T00:00:00\", \"2010-12-31T00:00:00\", \"2020-12-31T00:00:00\"], \"y\": [0.19833333333333336, -0.2001666666666667, -0.7458416666666665, -0.34395000000000003, -0.7951333333333336, -0.36999999999999994, -0.479625, -0.23603333333333334, -0.4120749999999999, -0.5750416666666667, -0.3784333333333335, -0.38387500000000013, -0.2299916666666667, 0.0852, -0.05341666666666664, 0.10204166666666671, 0.16308333333333333, 0.08202499999999997, -0.24514166666666656, 0.11800000000000008, 0.38935, 0.7441083333333328, 1.01465625]}, {\"line\": {\"color\": \"grey\"}, \"name\": \"Algeria\", \"opacity\": 0.1, \"type\": \"scatter\", \"x\": [\"1800-12-31T00:00:00\", \"1810-12-31T00:00:00\", \"1820-12-31T00:00:00\", \"1830-12-31T00:00:00\", \"1840-12-31T00:00:00\", \"1850-12-31T00:00:00\", \"1860-12-31T00:00:00\", \"1870-12-31T00:00:00\", \"1880-12-31T00:00:00\", \"1890-12-31T00:00:00\", \"1900-12-31T00:00:00\", \"1910-12-31T00:00:00\", \"1920-12-31T00:00:00\", \"1930-12-31T00:00:00\", \"1940-12-31T00:00:00\", \"1950-12-31T00:00:00\", \"1960-12-31T00:00:00\", \"1970-12-31T00:00:00\", \"1980-12-31T00:00:00\", \"1990-12-31T00:00:00\", \"2000-12-31T00:00:00\", \"2010-12-31T00:00:00\", \"2020-12-31T00:00:00\"], \"y\": [0.23808333333333334, -0.30896638655462183, -0.9639999999999999, -0.30043333333333316, -0.58385, -0.4055750000000001, -0.4330000000000001, -0.29510000000000025, -0.27157500000000007, -0.6490083333333332, -0.21270000000000008, -0.4681583333333335, -0.3206916666666667, -0.0657416666666666, 0.058408333333333305, 0.13973333333333343, 0.06729999999999997, 0.11668333333333332, -0.1839333333333334, 0.5029583333333332, 0.556025, 1.213108333333333, 0.9543750000000001]}, {\"line\": {\"color\": \"grey\"}, \"name\": \"Andorra\", \"opacity\": 0.1, \"type\": \"scatter\", \"x\": [\"1800-12-31T00:00:00\", \"1810-12-31T00:00:00\", \"1820-12-31T00:00:00\", \"1830-12-31T00:00:00\", \"1840-12-31T00:00:00\", \"1850-12-31T00:00:00\", \"1860-12-31T00:00:00\", \"1870-12-31T00:00:00\", \"1880-12-31T00:00:00\", \"1890-12-31T00:00:00\", \"1900-12-31T00:00:00\", \"1910-12-31T00:00:00\", \"1920-12-31T00:00:00\", \"1930-12-31T00:00:00\", \"1940-12-31T00:00:00\", \"1950-12-31T00:00:00\", \"1960-12-31T00:00:00\", \"1970-12-31T00:00:00\", \"1980-12-31T00:00:00\", \"1990-12-31T00:00:00\", \"2000-12-31T00:00:00\", \"2010-12-31T00:00:00\", \"2020-12-31T00:00:00\"], \"y\": [0.4095000000000002, -0.2084083333333333, -0.5890249999999999, -0.10464999999999998, -0.29158333333333325, -0.2570666666666666, -0.4736000000000001, -0.0060583333333333435, -0.2541166666666667, -0.6333916666666667, -0.08260833333333341, -0.39559999999999995, -0.30244166666666666, 0.10809999999999995, -0.04237499999999998, 0.40827500000000005, 0.031116666666666702, 0.1066916666666666, -0.1378, 0.603275, 0.8384916666666666, 0.9771749999999997, 1.1907812499999997]}, {\"line\": {\"color\": \"grey\"}, \"name\": \"Angola\", \"opacity\": 0.1, \"type\": \"scatter\", \"x\": [\"1800-12-31T00:00:00\", \"1810-12-31T00:00:00\", \"1820-12-31T00:00:00\", \"1830-12-31T00:00:00\", \"1840-12-31T00:00:00\", \"1850-12-31T00:00:00\", \"1860-12-31T00:00:00\", \"1870-12-31T00:00:00\", \"1880-12-31T00:00:00\", \"1890-12-31T00:00:00\", \"1900-12-31T00:00:00\", \"1910-12-31T00:00:00\", \"1920-12-31T00:00:00\", \"1930-12-31T00:00:00\", \"1940-12-31T00:00:00\", \"1950-12-31T00:00:00\", \"1960-12-31T00:00:00\", \"1970-12-31T00:00:00\", \"1980-12-31T00:00:00\", \"1990-12-31T00:00:00\", \"2000-12-31T00:00:00\", \"2010-12-31T00:00:00\", \"2020-12-31T00:00:00\"], \"y\": [null, null, null, null, null, null, -0.7110294117647057, -0.8666428571428569, -0.5953977272727273, -0.6555666666666661, -0.4378583333333333, -0.46790000000000004, -0.2808583333333334, -0.04508333333333335, -0.13854999999999998, 0.08195833333333334, -0.029766666666666667, 0.01996666666666667, 0.009758333333333317, 0.34802500000000003, 0.5769916666666668, 0.6793416666666665, 0.44403125]}, {\"line\": {\"color\": \"grey\"}, \"name\": \"Anguilla\", \"opacity\": 0.1, \"type\": \"scatter\", \"x\": [\"1800-12-31T00:00:00\", \"1810-12-31T00:00:00\", \"1820-12-31T00:00:00\", \"1830-12-31T00:00:00\", \"1840-12-31T00:00:00\", \"1850-12-31T00:00:00\", \"1860-12-31T00:00:00\", \"1870-12-31T00:00:00\", \"1880-12-31T00:00:00\", \"1890-12-31T00:00:00\", \"1900-12-31T00:00:00\", \"1910-12-31T00:00:00\", \"1920-12-31T00:00:00\", \"1930-12-31T00:00:00\", \"1940-12-31T00:00:00\", \"1950-12-31T00:00:00\", \"1960-12-31T00:00:00\", \"1970-12-31T00:00:00\", \"1980-12-31T00:00:00\", \"1990-12-31T00:00:00\", \"2000-12-31T00:00:00\", \"2010-12-31T00:00:00\", \"2020-12-31T00:00:00\"], \"y\": [null, null, null, -0.2818307692307692, null, -0.7008550724637681, -0.7176999999999999, -0.5888749999999998, -0.4732, -0.7563250000000001, -0.5049583333333332, -0.4920166666666668, -0.5041333333333332, -0.32685, -0.20741666666666667, -0.15706666666666663, 0.0709, -0.02538333333333333, -0.04550833333333333, 0.20516666666666664, 0.434425, 0.7201833333333333, 0.7379687500000002]}, {\"line\": {\"color\": \"grey\"}, \"name\": \"Antigua and Barbuda\", \"opacity\": 0.1, \"type\": \"scatter\", \"x\": [\"1800-12-31T00:00:00\", \"1810-12-31T00:00:00\", \"1820-12-31T00:00:00\", \"1830-12-31T00:00:00\", \"1840-12-31T00:00:00\", \"1850-12-31T00:00:00\", \"1860-12-31T00:00:00\", \"1870-12-31T00:00:00\", \"1880-12-31T00:00:00\", \"1890-12-31T00:00:00\", \"1900-12-31T00:00:00\", \"1910-12-31T00:00:00\", \"1920-12-31T00:00:00\", \"1930-12-31T00:00:00\", \"1940-12-31T00:00:00\", \"1950-12-31T00:00:00\", \"1960-12-31T00:00:00\", \"1970-12-31T00:00:00\", \"1980-12-31T00:00:00\", \"1990-12-31T00:00:00\", \"2000-12-31T00:00:00\", \"2010-12-31T00:00:00\", \"2020-12-31T00:00:00\"], \"y\": [null, null, null, -0.31155384615384624, null, -0.7081739130434783, -0.7353583333333336, -0.6002499999999997, -0.4692833333333332, -0.7487666666666667, -0.5290666666666666, -0.5091250000000002, -0.5280333333333336, -0.33235833333333326, -0.2193833333333334, -0.18505833333333344, 0.059308333333333324, -0.018866666666666667, -0.04047499999999997, 0.19088333333333332, 0.428025, 0.7182416666666668, 0.69540625]}, {\"line\": {\"color\": \"grey\"}, \"name\": \"Argentina\", \"opacity\": 0.1, \"type\": \"scatter\", \"x\": [\"1800-12-31T00:00:00\", \"1810-12-31T00:00:00\", \"1820-12-31T00:00:00\", \"1830-12-31T00:00:00\", \"1840-12-31T00:00:00\", \"1850-12-31T00:00:00\", \"1860-12-31T00:00:00\", \"1870-12-31T00:00:00\", \"1880-12-31T00:00:00\", \"1890-12-31T00:00:00\", \"1900-12-31T00:00:00\", \"1910-12-31T00:00:00\", \"1920-12-31T00:00:00\", \"1930-12-31T00:00:00\", \"1940-12-31T00:00:00\", \"1950-12-31T00:00:00\", \"1960-12-31T00:00:00\", \"1970-12-31T00:00:00\", \"1980-12-31T00:00:00\", \"1990-12-31T00:00:00\", \"2000-12-31T00:00:00\", \"2010-12-31T00:00:00\", \"2020-12-31T00:00:00\"], \"y\": [null, null, null, null, null, null, -0.7267205882352943, -0.6520083333333336, -0.6625750000000001, -0.7942250000000004, -0.4421999999999998, -0.42916666666666675, -0.27612500000000006, -0.3585833333333334, -0.21805000000000002, 0.005850000000000032, -0.18204166666666666, 0.11961666666666666, 0.062400000000000004, 0.29622500000000007, 0.33733333333333354, 0.47059166666666674, 0.6431562500000002]}, {\"line\": {\"color\": \"grey\"}, \"name\": \"Armenia\", \"opacity\": 0.1, \"type\": \"scatter\", \"x\": [\"1800-12-31T00:00:00\", \"1810-12-31T00:00:00\", \"1820-12-31T00:00:00\", \"1830-12-31T00:00:00\", \"1840-12-31T00:00:00\", \"1850-12-31T00:00:00\", \"1860-12-31T00:00:00\", \"1870-12-31T00:00:00\", \"1880-12-31T00:00:00\", \"1890-12-31T00:00:00\", \"1900-12-31T00:00:00\", \"1910-12-31T00:00:00\", \"1920-12-31T00:00:00\", \"1930-12-31T00:00:00\", \"1940-12-31T00:00:00\", \"1950-12-31T00:00:00\", \"1960-12-31T00:00:00\", \"1970-12-31T00:00:00\", \"1980-12-31T00:00:00\", \"1990-12-31T00:00:00\", \"2000-12-31T00:00:00\", \"2010-12-31T00:00:00\", \"2020-12-31T00:00:00\"], \"y\": [null, -1.9389629629629628, -1.369266666666667, -0.5825, -1.2501000000000004, -0.7538333333333331, -0.5906166666666667, -0.8396083333333334, -0.30036666666666656, -0.6570416666666664, -0.6619250000000001, -0.6306166666666663, -0.4440666666666668, -0.37967499999999993, -0.32524999999999993, -0.3282416666666667, -0.0950916666666666, 0.20779166666666665, -0.11260833333333335, 0.21713333333333343, 0.4308416666666667, 1.0449166666666667, 1.02565625]}, {\"line\": {\"color\": \"grey\"}, \"name\": \"Aruba\", \"opacity\": 0.1, \"type\": \"scatter\", \"x\": [\"1800-12-31T00:00:00\", \"1810-12-31T00:00:00\", \"1820-12-31T00:00:00\", \"1830-12-31T00:00:00\", \"1840-12-31T00:00:00\", \"1850-12-31T00:00:00\", \"1860-12-31T00:00:00\", \"1870-12-31T00:00:00\", \"1880-12-31T00:00:00\", \"1890-12-31T00:00:00\", \"1900-12-31T00:00:00\", \"1910-12-31T00:00:00\", \"1920-12-31T00:00:00\", \"1930-12-31T00:00:00\", \"1940-12-31T00:00:00\", \"1950-12-31T00:00:00\", \"1960-12-31T00:00:00\", \"1970-12-31T00:00:00\", \"1980-12-31T00:00:00\", \"1990-12-31T00:00:00\", \"2000-12-31T00:00:00\", \"2010-12-31T00:00:00\", \"2020-12-31T00:00:00\"], \"y\": [null, null, null, -0.37804615384615387, null, -0.7437101449275363, -0.798625, -0.6427916666666663, -0.4374166666666667, -0.8337333333333331, -0.6267333333333335, -0.5550333333333334, -0.5835, -0.4158666666666667, -0.27194166666666675, -0.15168333333333334, 0.002400000000000015, 0.007649999999999992, -0.010033333333333337, 0.10088333333333334, 0.3167666666666665, 0.5452833333333335, 0.40493749999999995]}, {\"line\": {\"color\": \"grey\"}, \"name\": \"Australia\", \"opacity\": 0.1, \"type\": \"scatter\", \"x\": [\"1800-12-31T00:00:00\", \"1810-12-31T00:00:00\", \"1820-12-31T00:00:00\", \"1830-12-31T00:00:00\", \"1840-12-31T00:00:00\", \"1850-12-31T00:00:00\", \"1860-12-31T00:00:00\", \"1870-12-31T00:00:00\", \"1880-12-31T00:00:00\", \"1890-12-31T00:00:00\", \"1900-12-31T00:00:00\", \"1910-12-31T00:00:00\", \"1920-12-31T00:00:00\", \"1930-12-31T00:00:00\", \"1940-12-31T00:00:00\", \"1950-12-31T00:00:00\", \"1960-12-31T00:00:00\", \"1970-12-31T00:00:00\", \"1980-12-31T00:00:00\", \"1990-12-31T00:00:00\", \"2000-12-31T00:00:00\", \"2010-12-31T00:00:00\", \"2020-12-31T00:00:00\"], \"y\": [null, null, null, null, null, null, -0.5315714285714287, -0.3842666666666665, -0.3265250000000001, -0.10785833333333325, -0.33139166666666675, -0.40535833333333327, -0.17336666666666675, -0.2386333333333333, -0.188125, -0.28855000000000003, -0.13700833333333334, 0.005475000000000018, 0.13145, 0.36853333333333355, 0.41909166666666664, 0.6398500000000001, 0.46315625000000005]}, {\"line\": {\"color\": \"grey\"}, \"name\": \"Austria\", \"opacity\": 0.1, \"type\": \"scatter\", \"x\": [\"1800-12-31T00:00:00\", \"1810-12-31T00:00:00\", \"1820-12-31T00:00:00\", \"1830-12-31T00:00:00\", \"1840-12-31T00:00:00\", \"1850-12-31T00:00:00\", \"1860-12-31T00:00:00\", \"1870-12-31T00:00:00\", \"1880-12-31T00:00:00\", \"1890-12-31T00:00:00\", \"1900-12-31T00:00:00\", \"1910-12-31T00:00:00\", \"1920-12-31T00:00:00\", \"1930-12-31T00:00:00\", \"1940-12-31T00:00:00\", \"1950-12-31T00:00:00\", \"1960-12-31T00:00:00\", \"1970-12-31T00:00:00\", \"1980-12-31T00:00:00\", \"1990-12-31T00:00:00\", \"2000-12-31T00:00:00\", \"2010-12-31T00:00:00\", \"2020-12-31T00:00:00\"], \"y\": [0.252, -0.1978749999999999, -0.5249416666666665, -0.19894999999999996, -0.48153333333333315, -0.3259000000000001, -0.6252333333333332, -0.06827500000000002, -0.4225499999999999, -0.5761333333333333, -0.35926666666666673, -0.3934083333333333, -0.17035833333333333, -0.027825000000000003, -0.19354166666666667, 0.18554166666666663, 0.031408333333333385, -0.10144166666666662, 0.07002499999999998, 0.3720749999999998, 0.8115499999999994, 1.0291833333333331, 1.2779375]}, {\"line\": {\"color\": \"grey\"}, \"name\": \"Azerbaijan\", \"opacity\": 0.1, \"type\": \"scatter\", \"x\": [\"1800-12-31T00:00:00\", \"1810-12-31T00:00:00\", \"1820-12-31T00:00:00\", \"1830-12-31T00:00:00\", \"1840-12-31T00:00:00\", \"1850-12-31T00:00:00\", \"1860-12-31T00:00:00\", \"1870-12-31T00:00:00\", \"1880-12-31T00:00:00\", \"1890-12-31T00:00:00\", \"1900-12-31T00:00:00\", \"1910-12-31T00:00:00\", \"1920-12-31T00:00:00\", \"1930-12-31T00:00:00\", \"1940-12-31T00:00:00\", \"1950-12-31T00:00:00\", \"1960-12-31T00:00:00\", \"1970-12-31T00:00:00\", \"1980-12-31T00:00:00\", \"1990-12-31T00:00:00\", \"2000-12-31T00:00:00\", \"2010-12-31T00:00:00\", \"2020-12-31T00:00:00\"], \"y\": [null, -1.9893703703703705, -1.3883333333333336, -0.5730166666666666, -1.2261166666666674, -0.7848750000000001, -0.5724999999999997, -0.8594249999999999, -0.31813333333333343, -0.6100500000000004, -0.7074166666666669, -0.6306083333333337, -0.5081666666666662, -0.4940083333333334, -0.3034416666666665, -0.33685833333333337, -0.13165, 0.1835583333333335, -0.0519333333333334, 0.21823333333333336, 0.4572083333333334, 1.161291666666667, 1.148625]}, {\"line\": {\"color\": \"grey\"}, \"name\": \"Bahamas\", \"opacity\": 0.1, \"type\": \"scatter\", \"x\": [\"1800-12-31T00:00:00\", \"1810-12-31T00:00:00\", \"1820-12-31T00:00:00\", \"1830-12-31T00:00:00\", \"1840-12-31T00:00:00\", \"1850-12-31T00:00:00\", \"1860-12-31T00:00:00\", \"1870-12-31T00:00:00\", \"1880-12-31T00:00:00\", \"1890-12-31T00:00:00\", \"1900-12-31T00:00:00\", \"1910-12-31T00:00:00\", \"1920-12-31T00:00:00\", \"1930-12-31T00:00:00\", \"1940-12-31T00:00:00\", \"1950-12-31T00:00:00\", \"1960-12-31T00:00:00\", \"1970-12-31T00:00:00\", \"1980-12-31T00:00:00\", \"1990-12-31T00:00:00\", \"2000-12-31T00:00:00\", \"2010-12-31T00:00:00\", \"2020-12-31T00:00:00\"], \"y\": [-0.20516666666666664, 0.14550000000000005, -1.0402500000000001, -0.054611111111111076, -0.5175500000000002, -0.6042666666666668, -0.565333333333333, -0.34699166666666664, -0.35141666666666677, -0.46296666666666675, -0.35163333333333335, -0.5086249999999999, -0.3594166666666668, -0.09694166666666669, -0.08764999999999999, 0.11463333333333339, -0.0465083333333333, -0.10690833333333333, 0.15338333333333326, 0.28849166666666665, 0.4871166666666666, 0.5435583333333335, 0.5915454545454547]}, {\"line\": {\"color\": \"grey\"}, \"name\": \"Bahrain\", \"opacity\": 0.1, \"type\": \"scatter\", \"x\": [\"1800-12-31T00:00:00\", \"1810-12-31T00:00:00\", \"1820-12-31T00:00:00\", \"1830-12-31T00:00:00\", \"1840-12-31T00:00:00\", \"1850-12-31T00:00:00\", \"1860-12-31T00:00:00\", \"1870-12-31T00:00:00\", \"1880-12-31T00:00:00\", \"1890-12-31T00:00:00\", \"1900-12-31T00:00:00\", \"1910-12-31T00:00:00\", \"1920-12-31T00:00:00\", \"1930-12-31T00:00:00\", \"1940-12-31T00:00:00\", \"1950-12-31T00:00:00\", \"1960-12-31T00:00:00\", \"1970-12-31T00:00:00\", \"1980-12-31T00:00:00\", \"1990-12-31T00:00:00\", \"2000-12-31T00:00:00\", \"2010-12-31T00:00:00\", \"2020-12-31T00:00:00\"], \"y\": [null, null, null, null, null, -0.7884999999999998, -0.6028416666666666, -0.6517083333333332, -0.388875, -0.3398333333333332, -0.39682499999999993, -0.39754166666666657, -0.5127583333333339, -0.2360666666666667, -0.3693416666666666, -0.11409166666666662, -0.053291666666666675, 0.03778333333333335, 0.015466666666666684, 0.11080000000000002, 0.48823333333333335, 1.234358333333333, 1.2928437499999998]}, {\"line\": {\"color\": \"grey\"}, \"name\": \"Bangladesh\", \"opacity\": 0.1, \"type\": \"scatter\", \"x\": [\"1800-12-31T00:00:00\", \"1810-12-31T00:00:00\", \"1820-12-31T00:00:00\", \"1830-12-31T00:00:00\", \"1840-12-31T00:00:00\", \"1850-12-31T00:00:00\", \"1860-12-31T00:00:00\", \"1870-12-31T00:00:00\", \"1880-12-31T00:00:00\", \"1890-12-31T00:00:00\", \"1900-12-31T00:00:00\", \"1910-12-31T00:00:00\", \"1920-12-31T00:00:00\", \"1930-12-31T00:00:00\", \"1940-12-31T00:00:00\", \"1950-12-31T00:00:00\", \"1960-12-31T00:00:00\", \"1970-12-31T00:00:00\", \"1980-12-31T00:00:00\", \"1990-12-31T00:00:00\", \"2000-12-31T00:00:00\", \"2010-12-31T00:00:00\", \"2020-12-31T00:00:00\"], \"y\": [-0.3194166666666667, -0.11600000000000006, -1.4653789473684216, -0.4966666666666669, -0.9889745762711866, -0.9146916666666666, -0.7376083333333329, -0.6888333333333329, -0.5219000000000003, -0.5930166666666666, -0.4185499999999998, -0.45168333333333316, -0.4635166666666665, -0.3290666666666668, -0.21709166666666668, -0.1764666666666667, 0.07735833333333328, -0.04655, -0.030749999999999996, 0.10104166666666661, 0.075175, 0.33856666666666657, 0.22293749999999998]}, {\"line\": {\"color\": \"grey\"}, \"name\": \"Barbados\", \"opacity\": 0.1, \"type\": \"scatter\", \"x\": [\"1800-12-31T00:00:00\", \"1810-12-31T00:00:00\", \"1820-12-31T00:00:00\", \"1830-12-31T00:00:00\", \"1840-12-31T00:00:00\", \"1850-12-31T00:00:00\", \"1860-12-31T00:00:00\", \"1870-12-31T00:00:00\", \"1880-12-31T00:00:00\", \"1890-12-31T00:00:00\", \"1900-12-31T00:00:00\", \"1910-12-31T00:00:00\", \"1920-12-31T00:00:00\", \"1930-12-31T00:00:00\", \"1940-12-31T00:00:00\", \"1950-12-31T00:00:00\", \"1960-12-31T00:00:00\", \"1970-12-31T00:00:00\", \"1980-12-31T00:00:00\", \"1990-12-31T00:00:00\", \"2000-12-31T00:00:00\", \"2010-12-31T00:00:00\", \"2020-12-31T00:00:00\"], \"y\": [null, null, null, -0.3973384615384615, null, -0.703695652173913, -0.7673416666666665, -0.6510500000000001, -0.5027833333333331, -0.7673083333333334, -0.5861166666666666, -0.5771166666666666, -0.5779083333333332, -0.38236666666666647, -0.24764999999999998, -0.188075, 0.010641666666666678, 0.03445000000000001, -0.045116666666666624, 0.16180833333333336, 0.3891333333333335, 0.6693083333333333, 0.6403749999999997]}, {\"line\": {\"color\": \"grey\"}, \"name\": \"Belarus\", \"opacity\": 0.1, \"type\": \"scatter\", \"x\": [\"1800-12-31T00:00:00\", \"1810-12-31T00:00:00\", \"1820-12-31T00:00:00\", \"1830-12-31T00:00:00\", \"1840-12-31T00:00:00\", \"1850-12-31T00:00:00\", \"1860-12-31T00:00:00\", \"1870-12-31T00:00:00\", \"1880-12-31T00:00:00\", \"1890-12-31T00:00:00\", \"1900-12-31T00:00:00\", \"1910-12-31T00:00:00\", \"1920-12-31T00:00:00\", \"1930-12-31T00:00:00\", \"1940-12-31T00:00:00\", \"1950-12-31T00:00:00\", \"1960-12-31T00:00:00\", \"1970-12-31T00:00:00\", \"1980-12-31T00:00:00\", \"1990-12-31T00:00:00\", \"2000-12-31T00:00:00\", \"2010-12-31T00:00:00\", \"2020-12-31T00:00:00\"], \"y\": [-0.4186666666666667, -0.39401666666666657, -0.74805, -0.1332833333333333, -0.7268416666666666, -0.45860000000000023, -0.3392999999999999, -0.5463500000000002, -0.608416666666667, -0.42170833333333335, -0.311283333333333, -0.3078916666666667, -0.17679999999999998, -0.27087500000000003, 0.18354166666666666, -0.2082083333333334, 0.02580833333333331, -0.1524500000000001, 0.12661666666666688, 0.4638833333333334, 0.8341333333333331, 1.3069333333333333, 1.2620625]}, {\"line\": {\"color\": \"grey\"}, \"name\": \"Belgium\", \"opacity\": 0.1, \"type\": \"scatter\", \"x\": [\"1800-12-31T00:00:00\", \"1810-12-31T00:00:00\", \"1820-12-31T00:00:00\", \"1830-12-31T00:00:00\", \"1840-12-31T00:00:00\", \"1850-12-31T00:00:00\", \"1860-12-31T00:00:00\", \"1870-12-31T00:00:00\", \"1880-12-31T00:00:00\", \"1890-12-31T00:00:00\", \"1900-12-31T00:00:00\", \"1910-12-31T00:00:00\", \"1920-12-31T00:00:00\", \"1930-12-31T00:00:00\", \"1940-12-31T00:00:00\", \"1950-12-31T00:00:00\", \"1960-12-31T00:00:00\", \"1970-12-31T00:00:00\", \"1980-12-31T00:00:00\", \"1990-12-31T00:00:00\", \"2000-12-31T00:00:00\", \"2010-12-31T00:00:00\", \"2020-12-31T00:00:00\"], \"y\": [-0.18025, -0.513075, -0.5250500000000001, -0.16400000000000003, -0.3291583333333333, -0.3960666666666669, -0.5102583333333334, -0.13620833333333332, -0.34351666666666675, -0.696666666666667, -0.2831083333333332, -0.4146416666666665, -0.11999166666666668, -0.07280833333333335, 0.00968333333333337, 0.21267499999999998, 0.0922583333333333, -0.18084166666666673, 0.08854166666666659, 0.32425833333333337, 0.7421000000000002, 1.0265666666666666, 0.8730312499999997]}, {\"line\": {\"color\": \"grey\"}, \"name\": \"Belize\", \"opacity\": 0.1, \"type\": \"scatter\", \"x\": [\"1800-12-31T00:00:00\", \"1810-12-31T00:00:00\", \"1820-12-31T00:00:00\", \"1830-12-31T00:00:00\", \"1840-12-31T00:00:00\", \"1850-12-31T00:00:00\", \"1860-12-31T00:00:00\", \"1870-12-31T00:00:00\", \"1880-12-31T00:00:00\", \"1890-12-31T00:00:00\", \"1900-12-31T00:00:00\", \"1910-12-31T00:00:00\", \"1920-12-31T00:00:00\", \"1930-12-31T00:00:00\", \"1940-12-31T00:00:00\", \"1950-12-31T00:00:00\", \"1960-12-31T00:00:00\", \"1970-12-31T00:00:00\", \"1980-12-31T00:00:00\", \"1990-12-31T00:00:00\", \"2000-12-31T00:00:00\", \"2010-12-31T00:00:00\", \"2020-12-31T00:00:00\"], \"y\": [null, null, null, -0.22793055555555558, -1.0292444444444446, -0.6584583333333331, -0.8206250000000004, -0.5209916666666666, -0.46075833333333327, -0.7193999999999998, -0.39314999999999994, -0.7441583333333333, -0.38139166666666663, -0.17794166666666675, -0.11087499999999999, 0.04668333333333332, 0.004424999999999977, -0.048283333333333324, 0.04391666666666667, 0.16076666666666656, 0.44299166666666684, 0.4325000000000003, 0.4841212121212122]}, {\"line\": {\"color\": \"grey\"}, \"name\": \"Benin\", \"opacity\": 0.1, \"type\": \"scatter\", \"x\": [\"1800-12-31T00:00:00\", \"1810-12-31T00:00:00\", \"1820-12-31T00:00:00\", \"1830-12-31T00:00:00\", \"1840-12-31T00:00:00\", \"1850-12-31T00:00:00\", \"1860-12-31T00:00:00\", \"1870-12-31T00:00:00\", \"1880-12-31T00:00:00\", \"1890-12-31T00:00:00\", \"1900-12-31T00:00:00\", \"1910-12-31T00:00:00\", \"1920-12-31T00:00:00\", \"1930-12-31T00:00:00\", \"1940-12-31T00:00:00\", \"1950-12-31T00:00:00\", \"1960-12-31T00:00:00\", \"1970-12-31T00:00:00\", \"1980-12-31T00:00:00\", \"1990-12-31T00:00:00\", \"2000-12-31T00:00:00\", \"2010-12-31T00:00:00\", \"2020-12-31T00:00:00\"], \"y\": [null, null, null, null, null, -0.6932916666666665, -0.6208301886792452, -0.8803571428571431, -0.5455934065934065, -0.8383584905660376, -0.7145499999999998, -0.6378583333333329, -0.10247500000000007, 0.11064166666666667, 0.21736666666666676, 0.25890000000000013, -0.06743333333333339, -0.030808333333333344, 0.09824166666666666, 0.33717499999999995, 0.3547083333333333, 0.7605999999999997, 0.64003125]}, {\"line\": {\"color\": \"grey\"}, \"name\": \"Bhutan\", \"opacity\": 0.1, \"type\": \"scatter\", \"x\": [\"1800-12-31T00:00:00\", \"1810-12-31T00:00:00\", \"1820-12-31T00:00:00\", \"1830-12-31T00:00:00\", \"1840-12-31T00:00:00\", \"1850-12-31T00:00:00\", \"1860-12-31T00:00:00\", \"1870-12-31T00:00:00\", \"1880-12-31T00:00:00\", \"1890-12-31T00:00:00\", \"1900-12-31T00:00:00\", \"1910-12-31T00:00:00\", \"1920-12-31T00:00:00\", \"1930-12-31T00:00:00\", \"1940-12-31T00:00:00\", \"1950-12-31T00:00:00\", \"1960-12-31T00:00:00\", \"1970-12-31T00:00:00\", \"1980-12-31T00:00:00\", \"1990-12-31T00:00:00\", \"2000-12-31T00:00:00\", \"2010-12-31T00:00:00\", \"2020-12-31T00:00:00\"], \"y\": [null, null, -1.559824561403509, -0.4690499999999999, -0.9441010101010102, -0.8596890756302514, -0.694608695652174, -0.6438611111111113, -0.45649166666666646, -0.5593166666666665, -0.4343083333333333, -0.4195499999999999, -0.42090833333333316, -0.3331166666666666, -0.1872, -0.07431666666666664, 0.11830000000000002, -0.16351666666666656, 0.04519166666666667, 0.08954166666666669, 0.09189999999999995, 0.44895000000000007, 0.33753125]}, {\"line\": {\"color\": \"grey\"}, \"name\": \"Bolivia\", \"opacity\": 0.1, \"type\": \"scatter\", \"x\": [\"1800-12-31T00:00:00\", \"1810-12-31T00:00:00\", \"1820-12-31T00:00:00\", \"1830-12-31T00:00:00\", \"1840-12-31T00:00:00\", \"1850-12-31T00:00:00\", \"1860-12-31T00:00:00\", \"1870-12-31T00:00:00\", \"1880-12-31T00:00:00\", \"1890-12-31T00:00:00\", \"1900-12-31T00:00:00\", \"1910-12-31T00:00:00\", \"1920-12-31T00:00:00\", \"1930-12-31T00:00:00\", \"1940-12-31T00:00:00\", \"1950-12-31T00:00:00\", \"1960-12-31T00:00:00\", \"1970-12-31T00:00:00\", \"1980-12-31T00:00:00\", \"1990-12-31T00:00:00\", \"2000-12-31T00:00:00\", \"2010-12-31T00:00:00\", \"2020-12-31T00:00:00\"], \"y\": [null, null, null, null, null, null, -0.8426911764705882, -0.6653416666666666, -0.5469750000000002, -0.7238333333333336, -0.5163583333333335, -0.43145833333333333, -0.3078916666666666, -0.23753333333333337, -0.04893333333333329, -0.10001666666666667, -0.21175000000000005, 0.21374999999999994, -0.002050000000000003, 0.32550833333333323, 0.3766499999999998, 0.29834166666666667, 0.448375]}, {\"line\": {\"color\": \"grey\"}, \"name\": \"Bonaire Saint Eustatius and Saba\", \"opacity\": 0.1, \"type\": \"scatter\", \"x\": [\"1800-12-31T00:00:00\", \"1810-12-31T00:00:00\", \"1820-12-31T00:00:00\", \"1830-12-31T00:00:00\", \"1840-12-31T00:00:00\", \"1850-12-31T00:00:00\", \"1860-12-31T00:00:00\", \"1870-12-31T00:00:00\", \"1880-12-31T00:00:00\", \"1890-12-31T00:00:00\", \"1900-12-31T00:00:00\", \"1910-12-31T00:00:00\", \"1920-12-31T00:00:00\", \"1930-12-31T00:00:00\", \"1940-12-31T00:00:00\", \"1950-12-31T00:00:00\", \"1960-12-31T00:00:00\", \"1970-12-31T00:00:00\", \"1980-12-31T00:00:00\", \"1990-12-31T00:00:00\", \"2000-12-31T00:00:00\", \"2010-12-31T00:00:00\", \"2020-12-31T00:00:00\"], \"y\": [null, null, null, -0.3872769230769231, null, -0.745173913043478, -0.7913083333333334, -0.6451166666666669, -0.46484166666666676, -0.8286250000000001, -0.6187416666666664, -0.5430833333333333, -0.6026666666666665, -0.4302249999999999, -0.2765666666666666, -0.1751083333333334, 0.022233333333333365, 0.0012666666666667065, -0.02353333333333329, 0.13293333333333335, 0.2955583333333334, 0.5791666666666667, 0.5100624999999999]}, {\"line\": {\"color\": \"grey\"}, \"name\": \"Bosnia and Herzegovina\", \"opacity\": 0.1, \"type\": \"scatter\", \"x\": [\"1800-12-31T00:00:00\", \"1810-12-31T00:00:00\", \"1820-12-31T00:00:00\", \"1830-12-31T00:00:00\", \"1840-12-31T00:00:00\", \"1850-12-31T00:00:00\", \"1860-12-31T00:00:00\", \"1870-12-31T00:00:00\", \"1880-12-31T00:00:00\", \"1890-12-31T00:00:00\", \"1900-12-31T00:00:00\", \"1910-12-31T00:00:00\", \"1920-12-31T00:00:00\", \"1930-12-31T00:00:00\", \"1940-12-31T00:00:00\", \"1950-12-31T00:00:00\", \"1960-12-31T00:00:00\", \"1970-12-31T00:00:00\", \"1980-12-31T00:00:00\", \"1990-12-31T00:00:00\", \"2000-12-31T00:00:00\", \"2010-12-31T00:00:00\", \"2020-12-31T00:00:00\"], \"y\": [0.24600000000000008, -0.17741666666666672, -0.5635833333333334, -0.21794166666666673, -0.6462499999999998, -0.3142416666666666, -0.4875333333333334, -0.1919583333333333, -0.45181666666666676, -0.5452833333333336, -0.38588333333333313, -0.3841416666666666, -0.2766500000000001, 0.0889, -0.14125000000000001, 0.19584166666666672, 0.16448333333333337, -0.06018333333333335, -0.10425833333333333, 0.22347499999999998, 0.5775166666666663, 0.8812999999999999, 1.39284375]}, {\"line\": {\"color\": \"grey\"}, \"name\": \"Botswana\", \"opacity\": 0.1, \"type\": \"scatter\", \"x\": [\"1800-12-31T00:00:00\", \"1810-12-31T00:00:00\", \"1820-12-31T00:00:00\", \"1830-12-31T00:00:00\", \"1840-12-31T00:00:00\", \"1850-12-31T00:00:00\", \"1860-12-31T00:00:00\", \"1870-12-31T00:00:00\", \"1880-12-31T00:00:00\", \"1890-12-31T00:00:00\", \"1900-12-31T00:00:00\", \"1910-12-31T00:00:00\", \"1920-12-31T00:00:00\", \"1930-12-31T00:00:00\", \"1940-12-31T00:00:00\", \"1950-12-31T00:00:00\", \"1960-12-31T00:00:00\", \"1970-12-31T00:00:00\", \"1980-12-31T00:00:00\", \"1990-12-31T00:00:00\", \"2000-12-31T00:00:00\", \"2010-12-31T00:00:00\", \"2020-12-31T00:00:00\"], \"y\": [null, null, null, null, null, null, -0.7181304347826089, -0.5150166666666666, -0.5425689655172412, -0.5584083333333332, -0.43381666666666674, -0.6557916666666667, -0.2453, -0.0966, -0.22759166666666672, 0.1273750000000001, 0.004766666666666658, 0.13581666666666667, -0.14053333333333334, 0.46863333333333335, 0.6156666666666667, 0.5906833333333331, 0.45962499999999995]}, {\"line\": {\"color\": \"grey\"}, \"name\": \"Brazil\", \"opacity\": 0.1, \"type\": \"scatter\", \"x\": [\"1800-12-31T00:00:00\", \"1810-12-31T00:00:00\", \"1820-12-31T00:00:00\", \"1830-12-31T00:00:00\", \"1840-12-31T00:00:00\", \"1850-12-31T00:00:00\", \"1860-12-31T00:00:00\", \"1870-12-31T00:00:00\", \"1880-12-31T00:00:00\", \"1890-12-31T00:00:00\", \"1900-12-31T00:00:00\", \"1910-12-31T00:00:00\", \"1920-12-31T00:00:00\", \"1930-12-31T00:00:00\", \"1940-12-31T00:00:00\", \"1950-12-31T00:00:00\", \"1960-12-31T00:00:00\", \"1970-12-31T00:00:00\", \"1980-12-31T00:00:00\", \"1990-12-31T00:00:00\", \"2000-12-31T00:00:00\", \"2010-12-31T00:00:00\", \"2020-12-31T00:00:00\"], \"y\": [null, null, null, null, -0.9953611111111116, -0.6589326923076922, -0.6522333333333333, -0.5993416666666669, -0.48406666666666637, -0.6880833333333335, -0.5410333333333335, -0.4312166666666667, -0.4131583333333333, -0.30670833333333325, -0.03959166666666667, -0.12669166666666662, -0.04716666666666668, 0.07750833333333336, -0.03035000000000001, 0.2349833333333333, 0.49382499999999985, 0.6928249999999998, 0.6683437499999999]}, {\"line\": {\"color\": \"grey\"}, \"name\": \"British Virgin Islands\", \"opacity\": 0.1, \"type\": \"scatter\", \"x\": [\"1800-12-31T00:00:00\", \"1810-12-31T00:00:00\", \"1820-12-31T00:00:00\", \"1830-12-31T00:00:00\", \"1840-12-31T00:00:00\", \"1850-12-31T00:00:00\", \"1860-12-31T00:00:00\", \"1870-12-31T00:00:00\", \"1880-12-31T00:00:00\", \"1890-12-31T00:00:00\", \"1900-12-31T00:00:00\", \"1910-12-31T00:00:00\", \"1920-12-31T00:00:00\", \"1930-12-31T00:00:00\", \"1940-12-31T00:00:00\", \"1950-12-31T00:00:00\", \"1960-12-31T00:00:00\", \"1970-12-31T00:00:00\", \"1980-12-31T00:00:00\", \"1990-12-31T00:00:00\", \"2000-12-31T00:00:00\", \"2010-12-31T00:00:00\", \"2020-12-31T00:00:00\"], \"y\": [null, null, null, -0.2589076923076923, null, -0.6914492753623189, -0.7111666666666666, -0.5863916666666662, -0.46284166666666654, -0.7682333333333337, -0.5125666666666666, -0.48111666666666675, -0.4752583333333333, -0.33299166666666674, -0.24096666666666655, -0.15177499999999994, 0.06122500000000001, -0.008983333333333334, -0.052258333333333365, 0.2063750000000001, 0.4285249999999999, 0.7354166666666669, 0.7137575757575756]}, {\"line\": {\"color\": \"grey\"}, \"name\": \"Bulgaria\", \"opacity\": 0.1, \"type\": \"scatter\", \"x\": [\"1800-12-31T00:00:00\", \"1810-12-31T00:00:00\", \"1820-12-31T00:00:00\", \"1830-12-31T00:00:00\", \"1840-12-31T00:00:00\", \"1850-12-31T00:00:00\", \"1860-12-31T00:00:00\", \"1870-12-31T00:00:00\", \"1880-12-31T00:00:00\", \"1890-12-31T00:00:00\", \"1900-12-31T00:00:00\", \"1910-12-31T00:00:00\", \"1920-12-31T00:00:00\", \"1930-12-31T00:00:00\", \"1940-12-31T00:00:00\", \"1950-12-31T00:00:00\", \"1960-12-31T00:00:00\", \"1970-12-31T00:00:00\", \"1980-12-31T00:00:00\", \"1990-12-31T00:00:00\", \"2000-12-31T00:00:00\", \"2010-12-31T00:00:00\", \"2020-12-31T00:00:00\"], \"y\": [0.025416666666666674, -0.236525, -0.8163000000000001, -0.3671499999999999, -0.9814416666666668, -0.4181583333333334, -0.3992250000000001, -0.45110833333333333, -0.42185, -0.6391249999999999, -0.3526750000000001, -0.3986750000000003, -0.22027500000000005, 0.01576666666666669, -0.09900833333333334, -0.17893333333333347, 0.06900833333333328, 0.0977333333333333, -0.16679166666666664, 0.07406666666666664, 0.33323333333333344, 0.8318416666666669, 1.1290625]}, {\"line\": {\"color\": \"grey\"}, \"name\": \"Burkina Faso\", \"opacity\": 0.1, \"type\": \"scatter\", \"x\": [\"1800-12-31T00:00:00\", \"1810-12-31T00:00:00\", \"1820-12-31T00:00:00\", \"1830-12-31T00:00:00\", \"1840-12-31T00:00:00\", \"1850-12-31T00:00:00\", \"1860-12-31T00:00:00\", \"1870-12-31T00:00:00\", \"1880-12-31T00:00:00\", \"1890-12-31T00:00:00\", \"1900-12-31T00:00:00\", \"1910-12-31T00:00:00\", \"1920-12-31T00:00:00\", \"1930-12-31T00:00:00\", \"1940-12-31T00:00:00\", \"1950-12-31T00:00:00\", \"1960-12-31T00:00:00\", \"1970-12-31T00:00:00\", \"1980-12-31T00:00:00\", \"1990-12-31T00:00:00\", \"2000-12-31T00:00:00\", \"2010-12-31T00:00:00\", \"2020-12-31T00:00:00\"], \"y\": [null, null, null, null, null, -0.6702500000000002, -0.6300563380281691, -0.6253614457831327, -0.5550752688172043, -0.7420283018867925, -0.6306083333333331, -0.6184666666666667, -0.11839999999999999, 0.00601666666666666, 0.1353916666666667, 0.1415166666666666, -0.09630833333333329, -0.030333333333333285, 0.12658333333333335, 0.33309166666666684, 0.32151666666666645, 0.7736166666666667, 0.666625]}, {\"line\": {\"color\": \"grey\"}, \"name\": \"Burundi\", \"opacity\": 0.1, \"type\": \"scatter\", \"x\": [\"1800-12-31T00:00:00\", \"1810-12-31T00:00:00\", \"1820-12-31T00:00:00\", \"1830-12-31T00:00:00\", \"1840-12-31T00:00:00\", \"1850-12-31T00:00:00\", \"1860-12-31T00:00:00\", \"1870-12-31T00:00:00\", \"1880-12-31T00:00:00\", \"1890-12-31T00:00:00\", \"1900-12-31T00:00:00\", \"1910-12-31T00:00:00\", \"1920-12-31T00:00:00\", \"1930-12-31T00:00:00\", \"1940-12-31T00:00:00\", \"1950-12-31T00:00:00\", \"1960-12-31T00:00:00\", \"1970-12-31T00:00:00\", \"1980-12-31T00:00:00\", \"1990-12-31T00:00:00\", \"2000-12-31T00:00:00\", \"2010-12-31T00:00:00\", \"2020-12-31T00:00:00\"], \"y\": [null, null, null, null, null, -0.7575454545454545, -0.6283953488372094, -0.7548461538461537, -0.3824000000000001, -0.609304347826087, -0.29490000000000016, -0.3377583333333333, -0.16905833333333334, -0.15054999999999996, -0.010716666666666668, 0.08532500000000003, -0.017974999999999988, -0.07623333333333336, 0.09420000000000003, 0.3676416666666668, 0.4598249999999998, 0.7683916666666669, 0.6269999999999999]}, {\"line\": {\"color\": \"grey\"}, \"name\": \"Cambodia\", \"opacity\": 0.1, \"type\": \"scatter\", \"x\": [\"1800-12-31T00:00:00\", \"1810-12-31T00:00:00\", \"1820-12-31T00:00:00\", \"1830-12-31T00:00:00\", \"1840-12-31T00:00:00\", \"1850-12-31T00:00:00\", \"1860-12-31T00:00:00\", \"1870-12-31T00:00:00\", \"1880-12-31T00:00:00\", \"1890-12-31T00:00:00\", \"1900-12-31T00:00:00\", \"1910-12-31T00:00:00\", \"1920-12-31T00:00:00\", \"1930-12-31T00:00:00\", \"1940-12-31T00:00:00\", \"1950-12-31T00:00:00\", \"1960-12-31T00:00:00\", \"1970-12-31T00:00:00\", \"1980-12-31T00:00:00\", \"1990-12-31T00:00:00\", \"2000-12-31T00:00:00\", \"2010-12-31T00:00:00\", \"2020-12-31T00:00:00\"], \"y\": [null, null, null, -0.3796666666666666, -0.9328571428571427, -0.8111368421052634, -0.7471949152542379, -0.7957117117117114, -0.6277416666666666, -0.7040416666666665, -0.6665000000000004, -0.48167499999999996, -0.430666666666667, -0.45746666666666674, -0.16187500000000005, -0.02801666666666669, 0.01699166666666664, 0.013650000000000015, -0.030641666666666675, 0.10153333333333327, 0.18155833333333335, 0.3875916666666667, 0.5410625]}, {\"line\": {\"color\": \"grey\"}, \"name\": \"Cameroon\", \"opacity\": 0.1, \"type\": \"scatter\", \"x\": [\"1800-12-31T00:00:00\", \"1810-12-31T00:00:00\", \"1820-12-31T00:00:00\", \"1830-12-31T00:00:00\", \"1840-12-31T00:00:00\", \"1850-12-31T00:00:00\", \"1860-12-31T00:00:00\", \"1870-12-31T00:00:00\", \"1880-12-31T00:00:00\", \"1890-12-31T00:00:00\", \"1900-12-31T00:00:00\", \"1910-12-31T00:00:00\", \"1920-12-31T00:00:00\", \"1930-12-31T00:00:00\", \"1940-12-31T00:00:00\", \"1950-12-31T00:00:00\", \"1960-12-31T00:00:00\", \"1970-12-31T00:00:00\", \"1980-12-31T00:00:00\", \"1990-12-31T00:00:00\", \"2000-12-31T00:00:00\", \"2010-12-31T00:00:00\", \"2020-12-31T00:00:00\"], \"y\": [null, null, null, null, null, null, -0.7306829268292684, -0.8253571428571428, -0.5693863636363634, -0.8116999999999999, -0.6438749999999999, -0.6299250000000001, -0.14570000000000008, -0.06260833333333334, 0.20811666666666662, 0.24036666666666673, -0.06248333333333335, -0.014116666666666678, 0.07675833333333333, 0.10179166666666666, 0.28284166666666677, 0.7124583333333335, 0.4773125]}, {\"line\": {\"color\": \"grey\"}, \"name\": \"Canada\", \"opacity\": 0.1, \"type\": \"scatter\", \"x\": [\"1800-12-31T00:00:00\", \"1810-12-31T00:00:00\", \"1820-12-31T00:00:00\", \"1830-12-31T00:00:00\", \"1840-12-31T00:00:00\", \"1850-12-31T00:00:00\", \"1860-12-31T00:00:00\", \"1870-12-31T00:00:00\", \"1880-12-31T00:00:00\", \"1890-12-31T00:00:00\", \"1900-12-31T00:00:00\", \"1910-12-31T00:00:00\", \"1920-12-31T00:00:00\", \"1930-12-31T00:00:00\", \"1940-12-31T00:00:00\", \"1950-12-31T00:00:00\", \"1960-12-31T00:00:00\", \"1970-12-31T00:00:00\", \"1980-12-31T00:00:00\", \"1990-12-31T00:00:00\", \"2000-12-31T00:00:00\", \"2010-12-31T00:00:00\", \"2020-12-31T00:00:00\"], \"y\": [null, null, -1.3459651162790693, -0.4423333333333334, -0.8949333333333331, -0.8013166666666666, -0.6678000000000001, -0.7430833333333334, -0.543875, -1.1327916666666662, -0.7889666666666671, -0.5202416666666667, -0.5391583333333332, -0.11468333333333326, 0.0033000000000000577, 0.17829999999999993, 0.16455833333333325, -0.1027416666666667, -0.06180833333333349, 0.37377500000000013, 0.773108333333333, 1.2781416666666667, 1.452939393939394]}, {\"line\": {\"color\": \"grey\"}, \"name\": \"Cape Verde\", \"opacity\": 0.1, \"type\": \"scatter\", \"x\": [\"1800-12-31T00:00:00\", \"1810-12-31T00:00:00\", \"1820-12-31T00:00:00\", \"1830-12-31T00:00:00\", \"1840-12-31T00:00:00\", \"1850-12-31T00:00:00\", \"1860-12-31T00:00:00\", \"1870-12-31T00:00:00\", \"1880-12-31T00:00:00\", \"1890-12-31T00:00:00\", \"1900-12-31T00:00:00\", \"1910-12-31T00:00:00\", \"1920-12-31T00:00:00\", \"1930-12-31T00:00:00\", \"1940-12-31T00:00:00\", \"1950-12-31T00:00:00\", \"1960-12-31T00:00:00\", \"1970-12-31T00:00:00\", \"1980-12-31T00:00:00\", \"1990-12-31T00:00:00\", \"2000-12-31T00:00:00\", \"2010-12-31T00:00:00\", \"2020-12-31T00:00:00\"], \"y\": [null, null, null, null, null, -0.6505, -0.6031549295774647, -0.5646288659793813, -0.49421111111111127, -0.6436101694915256, -0.10217499999999997, -0.38709999999999983, -0.3631000000000001, -0.06565000000000003, -0.02759166666666665, -0.07699999999999993, -0.1536583333333333, 0.10152499999999995, 0.05212500000000004, 0.2855916666666667, 0.6159583333333333, 0.8021833333333336, 0.9491250000000002]}, {\"line\": {\"color\": \"grey\"}, \"name\": \"Cayman Islands\", \"opacity\": 0.1, \"type\": \"scatter\", \"x\": [\"1800-12-31T00:00:00\", \"1810-12-31T00:00:00\", \"1820-12-31T00:00:00\", \"1830-12-31T00:00:00\", \"1840-12-31T00:00:00\", \"1850-12-31T00:00:00\", \"1860-12-31T00:00:00\", \"1870-12-31T00:00:00\", \"1880-12-31T00:00:00\", \"1890-12-31T00:00:00\", \"1900-12-31T00:00:00\", \"1910-12-31T00:00:00\", \"1920-12-31T00:00:00\", \"1930-12-31T00:00:00\", \"1940-12-31T00:00:00\", \"1950-12-31T00:00:00\", \"1960-12-31T00:00:00\", \"1970-12-31T00:00:00\", \"1980-12-31T00:00:00\", \"1990-12-31T00:00:00\", \"2000-12-31T00:00:00\", \"2010-12-31T00:00:00\", \"2020-12-31T00:00:00\"], \"y\": [null, null, null, -0.12309375, -0.6988249999999997, -0.601316666666667, -0.6978166666666666, -0.3968499999999998, -0.33694999999999975, -0.5928083333333333, -0.4429416666666666, -0.5870416666666666, -0.3356916666666666, -0.07833333333333337, -0.1634833333333333, 0.09370833333333335, 0.0035166666666666736, -0.07440833333333334, 0.07080833333333333, 0.245575, 0.476925, 0.5776333333333333, 0.4086363636363636]}, {\"line\": {\"color\": \"grey\"}, \"name\": \"Central African Republic\", \"opacity\": 0.1, \"type\": \"scatter\", \"x\": [\"1800-12-31T00:00:00\", \"1810-12-31T00:00:00\", \"1820-12-31T00:00:00\", \"1830-12-31T00:00:00\", \"1840-12-31T00:00:00\", \"1850-12-31T00:00:00\", \"1860-12-31T00:00:00\", \"1870-12-31T00:00:00\", \"1880-12-31T00:00:00\", \"1890-12-31T00:00:00\", \"1900-12-31T00:00:00\", \"1910-12-31T00:00:00\", \"1920-12-31T00:00:00\", \"1930-12-31T00:00:00\", \"1940-12-31T00:00:00\", \"1950-12-31T00:00:00\", \"1960-12-31T00:00:00\", \"1970-12-31T00:00:00\", \"1980-12-31T00:00:00\", \"1990-12-31T00:00:00\", \"2000-12-31T00:00:00\", \"2010-12-31T00:00:00\", \"2020-12-31T00:00:00\"], \"y\": [null, null, null, null, null, null, -0.7084390243902439, -0.8206428571428572, -0.48930681818181826, -0.7045749999999996, -0.4873666666666664, -0.4954833333333333, -0.23526666666666657, -0.11085833333333331, 0.19347499999999998, 0.18097500000000002, -0.003408333333333332, -0.09037499999999997, 0.09373333333333332, 0.1219, 0.345225, 0.7648916666666664, 0.33862500000000006]}, {\"line\": {\"color\": \"grey\"}, \"name\": \"Chad\", \"opacity\": 0.1, \"type\": \"scatter\", \"x\": [\"1800-12-31T00:00:00\", \"1810-12-31T00:00:00\", \"1820-12-31T00:00:00\", \"1830-12-31T00:00:00\", \"1840-12-31T00:00:00\", \"1850-12-31T00:00:00\", \"1860-12-31T00:00:00\", \"1870-12-31T00:00:00\", \"1880-12-31T00:00:00\", \"1890-12-31T00:00:00\", \"1900-12-31T00:00:00\", \"1910-12-31T00:00:00\", \"1920-12-31T00:00:00\", \"1930-12-31T00:00:00\", \"1940-12-31T00:00:00\", \"1950-12-31T00:00:00\", \"1960-12-31T00:00:00\", \"1970-12-31T00:00:00\", \"1980-12-31T00:00:00\", \"1990-12-31T00:00:00\", \"2000-12-31T00:00:00\", \"2010-12-31T00:00:00\", \"2020-12-31T00:00:00\"], \"y\": [null, null, null, null, null, null, -0.6212195121951218, -0.8520714285714286, -0.43467045454545444, -0.7294833333333334, -0.4621500000000002, -0.5495666666666665, -0.211475, -0.06507500000000006, 0.25464999999999993, 0.03347499999999992, 0.043091666666666674, -0.10738333333333339, 0.06428333333333336, 0.17979166666666668, 0.374625, 0.8379583333333334, 0.569375]}, {\"line\": {\"color\": \"grey\"}, \"name\": \"Chile\", \"opacity\": 0.1, \"type\": \"scatter\", \"x\": [\"1800-12-31T00:00:00\", \"1810-12-31T00:00:00\", \"1820-12-31T00:00:00\", \"1830-12-31T00:00:00\", \"1840-12-31T00:00:00\", \"1850-12-31T00:00:00\", \"1860-12-31T00:00:00\", \"1870-12-31T00:00:00\", \"1880-12-31T00:00:00\", \"1890-12-31T00:00:00\", \"1900-12-31T00:00:00\", \"1910-12-31T00:00:00\", \"1920-12-31T00:00:00\", \"1930-12-31T00:00:00\", \"1940-12-31T00:00:00\", \"1950-12-31T00:00:00\", \"1960-12-31T00:00:00\", \"1970-12-31T00:00:00\", \"1980-12-31T00:00:00\", \"1990-12-31T00:00:00\", \"2000-12-31T00:00:00\", \"2010-12-31T00:00:00\", \"2020-12-31T00:00:00\"], \"y\": [null, null, null, null, null, null, -0.7672941176470589, -0.7360500000000004, -0.5456083333333334, -0.7796416666666665, -0.47475, -0.4261999999999999, -0.2758416666666667, -0.3521249999999999, -0.16700833333333331, -0.011016666666666676, -0.08320833333333333, 0.0753, 0.008008333333333333, 0.3679749999999998, 0.32197499999999984, 0.3463500000000001, 0.60365625]}, {\"line\": {\"color\": \"grey\"}, \"name\": \"China\", \"opacity\": 0.1, \"type\": \"scatter\", \"x\": [\"1800-12-31T00:00:00\", \"1810-12-31T00:00:00\", \"1820-12-31T00:00:00\", \"1830-12-31T00:00:00\", \"1840-12-31T00:00:00\", \"1850-12-31T00:00:00\", \"1860-12-31T00:00:00\", \"1870-12-31T00:00:00\", \"1880-12-31T00:00:00\", \"1890-12-31T00:00:00\", \"1900-12-31T00:00:00\", \"1910-12-31T00:00:00\", \"1920-12-31T00:00:00\", \"1930-12-31T00:00:00\", \"1940-12-31T00:00:00\", \"1950-12-31T00:00:00\", \"1960-12-31T00:00:00\", \"1970-12-31T00:00:00\", \"1980-12-31T00:00:00\", \"1990-12-31T00:00:00\", \"2000-12-31T00:00:00\", \"2010-12-31T00:00:00\", \"2020-12-31T00:00:00\"], \"y\": [null, null, -1.8644000000000003, -0.6307142857142858, -0.9354382022471911, -0.6840999999999998, -0.6676249999999998, -0.5903416666666668, -0.3526083333333332, -0.5944916666666664, -0.4549499999999999, -0.5083749999999999, -0.4188249999999999, -0.1825750000000001, -0.15220833333333333, 0.1789999999999999, -0.06597499999999996, -0.04481666666666671, 0.11087499999999996, 0.25584999999999997, 0.5126083333333333, 0.9122416666666666, 0.581875]}, {\"line\": {\"color\": \"grey\"}, \"name\": \"Colombia\", \"opacity\": 0.1, \"type\": \"scatter\", \"x\": [\"1800-12-31T00:00:00\", \"1810-12-31T00:00:00\", \"1820-12-31T00:00:00\", \"1830-12-31T00:00:00\", \"1840-12-31T00:00:00\", \"1850-12-31T00:00:00\", \"1860-12-31T00:00:00\", \"1870-12-31T00:00:00\", \"1880-12-31T00:00:00\", \"1890-12-31T00:00:00\", \"1900-12-31T00:00:00\", \"1910-12-31T00:00:00\", \"1920-12-31T00:00:00\", \"1930-12-31T00:00:00\", \"1940-12-31T00:00:00\", \"1950-12-31T00:00:00\", \"1960-12-31T00:00:00\", \"1970-12-31T00:00:00\", \"1980-12-31T00:00:00\", \"1990-12-31T00:00:00\", \"2000-12-31T00:00:00\", \"2010-12-31T00:00:00\", \"2020-12-31T00:00:00\"], \"y\": [null, null, null, -0.4089076923076923, null, -0.6923833333333332, -0.7570333333333331, -0.6767833333333332, -0.476608333333333, -0.8305083333333336, -0.6278666666666669, -0.5969166666666667, -0.5040166666666666, -0.38642499999999974, -0.22643333333333335, -0.06418333333333333, -0.046066666666666665, 0.03525833333333331, 0.010866666666666688, 0.2050083333333333, 0.3488666666666667, 0.5534916666666667, 0.3964062499999999]}, {\"line\": {\"color\": \"grey\"}, \"name\": \"Comoros\", \"opacity\": 0.1, \"type\": \"scatter\", \"x\": [\"1800-12-31T00:00:00\", \"1810-12-31T00:00:00\", \"1820-12-31T00:00:00\", \"1830-12-31T00:00:00\", \"1840-12-31T00:00:00\", \"1850-12-31T00:00:00\", \"1860-12-31T00:00:00\", \"1870-12-31T00:00:00\", \"1880-12-31T00:00:00\", \"1890-12-31T00:00:00\", \"1900-12-31T00:00:00\", \"1910-12-31T00:00:00\", \"1920-12-31T00:00:00\", \"1930-12-31T00:00:00\", \"1940-12-31T00:00:00\", \"1950-12-31T00:00:00\", \"1960-12-31T00:00:00\", \"1970-12-31T00:00:00\", \"1980-12-31T00:00:00\", \"1990-12-31T00:00:00\", \"2000-12-31T00:00:00\", \"2010-12-31T00:00:00\", \"2020-12-31T00:00:00\"], \"y\": [null, 0.27670588235294113, null, null, null, -0.8071818181818181, -0.6436842105263162, -0.6952916666666668, -0.37979999999999997, -0.704576923076923, -0.32850833333333335, -0.36653333333333343, -0.31791666666666646, -0.2799, -0.13881666666666667, -0.10025833333333334, 0.019058333333333333, -0.018666666666666658, -0.0004916666666666651, 0.25224166666666664, 0.48030833333333345, 0.7568666666666668, 0.6546875]}, {\"line\": {\"color\": \"grey\"}, \"name\": \"Congo\", \"opacity\": 0.1, \"type\": \"scatter\", \"x\": [\"1800-12-31T00:00:00\", \"1810-12-31T00:00:00\", \"1820-12-31T00:00:00\", \"1830-12-31T00:00:00\", \"1840-12-31T00:00:00\", \"1850-12-31T00:00:00\", \"1860-12-31T00:00:00\", \"1870-12-31T00:00:00\", \"1880-12-31T00:00:00\", \"1890-12-31T00:00:00\", \"1900-12-31T00:00:00\", \"1910-12-31T00:00:00\", \"1920-12-31T00:00:00\", \"1930-12-31T00:00:00\", \"1940-12-31T00:00:00\", \"1950-12-31T00:00:00\", \"1960-12-31T00:00:00\", \"1970-12-31T00:00:00\", \"1980-12-31T00:00:00\", \"1990-12-31T00:00:00\", \"2000-12-31T00:00:00\", \"2010-12-31T00:00:00\", \"2020-12-31T00:00:00\"], \"y\": [null, null, null, null, null, null, -0.7314146341463414, -0.8627142857142859, -0.6140681818181819, -0.7503583333333329, -0.5549916666666668, -0.5075583333333334, -0.24802500000000002, -0.11762500000000006, 0.09252500000000001, 0.28115833333333334, -0.02833333333333333, -0.0012250000000000212, 0.029533333333333314, 0.16019999999999998, 0.3316833333333332, 0.6406249999999999, 0.332125]}, {\"line\": {\"color\": \"grey\"}, \"name\": \"Costa Rica\", \"opacity\": 0.1, \"type\": \"scatter\", \"x\": [\"1800-12-31T00:00:00\", \"1810-12-31T00:00:00\", \"1820-12-31T00:00:00\", \"1830-12-31T00:00:00\", \"1840-12-31T00:00:00\", \"1850-12-31T00:00:00\", \"1860-12-31T00:00:00\", \"1870-12-31T00:00:00\", \"1880-12-31T00:00:00\", \"1890-12-31T00:00:00\", \"1900-12-31T00:00:00\", \"1910-12-31T00:00:00\", \"1920-12-31T00:00:00\", \"1930-12-31T00:00:00\", \"1940-12-31T00:00:00\", \"1950-12-31T00:00:00\", \"1960-12-31T00:00:00\", \"1970-12-31T00:00:00\", \"1980-12-31T00:00:00\", \"1990-12-31T00:00:00\", \"2000-12-31T00:00:00\", \"2010-12-31T00:00:00\", \"2020-12-31T00:00:00\"], \"y\": [null, null, null, null, null, null, -0.766141666666667, -0.5948499999999999, -0.4006916666666667, -0.751166666666667, -0.48208333333333325, -0.6974833333333329, -0.36111666666666675, -0.15290833333333329, -0.16895833333333332, -0.0642583333333333, 0.08424166666666669, -0.08404999999999996, -0.00016666666666665387, 0.25893333333333324, 0.5402416666666665, 0.5668250000000002, 0.4146363636363637]}, {\"line\": {\"color\": \"grey\"}, \"name\": \"Cote dIvoire\", \"opacity\": 0.1, \"type\": \"scatter\", \"x\": [\"1800-12-31T00:00:00\", \"1810-12-31T00:00:00\", \"1820-12-31T00:00:00\", \"1830-12-31T00:00:00\", \"1840-12-31T00:00:00\", \"1850-12-31T00:00:00\", \"1860-12-31T00:00:00\", \"1870-12-31T00:00:00\", \"1880-12-31T00:00:00\", \"1890-12-31T00:00:00\", \"1900-12-31T00:00:00\", \"1910-12-31T00:00:00\", \"1920-12-31T00:00:00\", \"1930-12-31T00:00:00\", \"1940-12-31T00:00:00\", \"1950-12-31T00:00:00\", \"1960-12-31T00:00:00\", \"1970-12-31T00:00:00\", \"1980-12-31T00:00:00\", \"1990-12-31T00:00:00\", \"2000-12-31T00:00:00\", \"2010-12-31T00:00:00\", \"2020-12-31T00:00:00\"], \"y\": [null, null, null, null, null, -0.7013333333333334, -0.6733098591549295, -0.6351847826086952, -0.6461505376344087, -0.7431698113207545, -0.671866666666667, -0.5495416666666665, -0.11561666666666658, -0.061841666666666684, -0.013458333333333317, 0.05694999999999999, -0.06324166666666663, 0.01576666666666666, 0.04749166666666668, 0.3237166666666666, 0.3547583333333331, 0.7959416666666667, 0.64578125]}, {\"line\": {\"color\": \"grey\"}, \"name\": \"Croatia\", \"opacity\": 0.1, \"type\": \"scatter\", \"x\": [\"1800-12-31T00:00:00\", \"1810-12-31T00:00:00\", \"1820-12-31T00:00:00\", \"1830-12-31T00:00:00\", \"1840-12-31T00:00:00\", \"1850-12-31T00:00:00\", \"1860-12-31T00:00:00\", \"1870-12-31T00:00:00\", \"1880-12-31T00:00:00\", \"1890-12-31T00:00:00\", \"1900-12-31T00:00:00\", \"1910-12-31T00:00:00\", \"1920-12-31T00:00:00\", \"1930-12-31T00:00:00\", \"1940-12-31T00:00:00\", \"1950-12-31T00:00:00\", \"1960-12-31T00:00:00\", \"1970-12-31T00:00:00\", \"1980-12-31T00:00:00\", \"1990-12-31T00:00:00\", \"2000-12-31T00:00:00\", \"2010-12-31T00:00:00\", \"2020-12-31T00:00:00\"], \"y\": [0.2675, -0.17510833333333334, -0.5103166666666666, -0.183175, -0.5714000000000004, -0.2998500000000001, -0.5183916666666667, -0.12999999999999998, -0.44485, -0.5349916666666666, -0.3708750000000001, -0.3952166666666668, -0.26154166666666634, 0.07817500000000001, -0.14778333333333327, 0.20456666666666654, 0.11735833333333336, -0.07263333333333334, -0.04478333333333331, 0.2559166666666666, 0.6927666666666664, 0.9818749999999999, 1.3826875000000003]}, {\"line\": {\"color\": \"grey\"}, \"name\": \"Cuba\", \"opacity\": 0.1, \"type\": \"scatter\", \"x\": [\"1800-12-31T00:00:00\", \"1810-12-31T00:00:00\", \"1820-12-31T00:00:00\", \"1830-12-31T00:00:00\", \"1840-12-31T00:00:00\", \"1850-12-31T00:00:00\", \"1860-12-31T00:00:00\", \"1870-12-31T00:00:00\", \"1880-12-31T00:00:00\", \"1890-12-31T00:00:00\", \"1900-12-31T00:00:00\", \"1910-12-31T00:00:00\", \"1920-12-31T00:00:00\", \"1930-12-31T00:00:00\", \"1940-12-31T00:00:00\", \"1950-12-31T00:00:00\", \"1960-12-31T00:00:00\", \"1970-12-31T00:00:00\", \"1980-12-31T00:00:00\", \"1990-12-31T00:00:00\", \"2000-12-31T00:00:00\", \"2010-12-31T00:00:00\", \"2020-12-31T00:00:00\"], \"y\": [null, null, null, -0.06919791666666665, -0.6367999999999997, -0.6085583333333332, -0.6562416666666671, -0.3858416666666667, -0.3292333333333333, -0.5529333333333335, -0.43404166666666694, -0.5406749999999999, -0.35431666666666656, -0.08885, -0.14702499999999993, 0.07560000000000006, -0.02597500000000001, -0.06376666666666667, 0.08968333333333332, 0.26062500000000005, 0.49295000000000017, 0.5291000000000001, 0.5232727272727274]}, {\"line\": {\"color\": \"grey\"}, \"name\": \"Curacao\", \"opacity\": 0.1, \"type\": \"scatter\", \"x\": [\"1800-12-31T00:00:00\", \"1810-12-31T00:00:00\", \"1820-12-31T00:00:00\", \"1830-12-31T00:00:00\", \"1840-12-31T00:00:00\", \"1850-12-31T00:00:00\", \"1860-12-31T00:00:00\", \"1870-12-31T00:00:00\", \"1880-12-31T00:00:00\", \"1890-12-31T00:00:00\", \"1900-12-31T00:00:00\", \"1910-12-31T00:00:00\", \"1920-12-31T00:00:00\", \"1930-12-31T00:00:00\", \"1940-12-31T00:00:00\", \"1950-12-31T00:00:00\", \"1960-12-31T00:00:00\", \"1970-12-31T00:00:00\", \"1980-12-31T00:00:00\", \"1990-12-31T00:00:00\", \"2000-12-31T00:00:00\", \"2010-12-31T00:00:00\", \"2020-12-31T00:00:00\"], \"y\": [null, null, null, -0.3883538461538462, null, -0.748289855072464, -0.799133333333333, -0.6463333333333332, -0.4486499999999999, -0.8388250000000002, -0.6307666666666666, -0.5504416666666666, -0.5990416666666668, -0.43271666666666664, -0.2790416666666666, -0.16190833333333332, 0.01302499999999999, 0.009466666666666656, -0.022533333333333325, 0.1196333333333333, 0.30335833333333345, 0.5414166666666667, 0.44084375]}, {\"line\": {\"color\": \"grey\"}, \"name\": \"Cyprus\", \"opacity\": 0.1, \"type\": \"scatter\", \"x\": [\"1800-12-31T00:00:00\", \"1810-12-31T00:00:00\", \"1820-12-31T00:00:00\", \"1830-12-31T00:00:00\", \"1840-12-31T00:00:00\", \"1850-12-31T00:00:00\", \"1860-12-31T00:00:00\", \"1870-12-31T00:00:00\", \"1880-12-31T00:00:00\", \"1890-12-31T00:00:00\", \"1900-12-31T00:00:00\", \"1910-12-31T00:00:00\", \"1920-12-31T00:00:00\", \"1930-12-31T00:00:00\", \"1940-12-31T00:00:00\", \"1950-12-31T00:00:00\", \"1960-12-31T00:00:00\", \"1970-12-31T00:00:00\", \"1980-12-31T00:00:00\", \"1990-12-31T00:00:00\", \"2000-12-31T00:00:00\", \"2010-12-31T00:00:00\", \"2020-12-31T00:00:00\"], \"y\": [-0.11225, -0.3951176470588236, -1.2296166666666672, -0.5462416666666667, -1.1754083333333332, -0.6061416666666667, -0.5368499999999998, -0.6109416666666667, -0.38510833333333316, -0.5433416666666666, -0.5994916666666668, -0.5506, -0.4916666666666668, -0.07912499999999992, -0.025841666666666655, -0.1461166666666666, 0.05490833333333334, 0.09154999999999999, -0.1465083333333334, -0.10233333333333341, 0.1885333333333333, 0.8490083333333331, 0.8970625000000001]}, {\"line\": {\"color\": \"grey\"}, \"name\": \"Czech Republic\", \"opacity\": 0.1, \"type\": \"scatter\", \"x\": [\"1800-12-31T00:00:00\", \"1810-12-31T00:00:00\", \"1820-12-31T00:00:00\", \"1830-12-31T00:00:00\", \"1840-12-31T00:00:00\", \"1850-12-31T00:00:00\", \"1860-12-31T00:00:00\", \"1870-12-31T00:00:00\", \"1880-12-31T00:00:00\", \"1890-12-31T00:00:00\", \"1900-12-31T00:00:00\", \"1910-12-31T00:00:00\", \"1920-12-31T00:00:00\", \"1930-12-31T00:00:00\", \"1940-12-31T00:00:00\", \"1950-12-31T00:00:00\", \"1960-12-31T00:00:00\", \"1970-12-31T00:00:00\", \"1980-12-31T00:00:00\", \"1990-12-31T00:00:00\", \"2000-12-31T00:00:00\", \"2010-12-31T00:00:00\", \"2020-12-31T00:00:00\"], \"y\": [-0.016666666666666642, -0.27120833333333333, -0.5425083333333334, -0.22575833333333337, -0.5576916666666667, -0.3858916666666667, -0.6148916666666665, -0.14875000000000002, -0.4419083333333332, -0.605691666666667, -0.3570666666666667, -0.354525, -0.09727500000000004, -0.14509166666666667, -0.09205833333333334, 0.0836916666666667, -0.012641666666666633, -0.10961666666666663, 0.12229166666666651, 0.35785, 0.7548666666666667, 1.0251999999999997, 1.1320312500000003]}, {\"line\": {\"color\": \"grey\"}, \"name\": \"Denmark\", \"opacity\": 0.1, \"type\": \"scatter\", \"x\": [\"1800-12-31T00:00:00\", \"1810-12-31T00:00:00\", \"1820-12-31T00:00:00\", \"1830-12-31T00:00:00\", \"1840-12-31T00:00:00\", \"1850-12-31T00:00:00\", \"1860-12-31T00:00:00\", \"1870-12-31T00:00:00\", \"1880-12-31T00:00:00\", \"1890-12-31T00:00:00\", \"1900-12-31T00:00:00\", \"1910-12-31T00:00:00\", \"1920-12-31T00:00:00\", \"1930-12-31T00:00:00\", \"1940-12-31T00:00:00\", \"1950-12-31T00:00:00\", \"1960-12-31T00:00:00\", \"1970-12-31T00:00:00\", \"1980-12-31T00:00:00\", \"1990-12-31T00:00:00\", \"2000-12-31T00:00:00\", \"2010-12-31T00:00:00\", \"2020-12-31T00:00:00\"], \"y\": [-0.6887500000000001, -0.5418666666666668, -0.5032416666666667, -0.10006666666666666, -0.43695833333333334, -0.3944749999999999, -0.4262500000000004, -0.3023166666666666, -0.42658333333333326, -0.5258083333333332, -0.20465833333333325, -0.23421666666666663, -0.014725000000000028, -0.2394083333333334, 0.29568333333333346, 0.1288166666666667, 0.007400000000000024, -0.21925000000000014, 0.21183333333333343, 0.30488333333333334, 0.7695083333333329, 1.1269999999999993, 0.7963749999999998]}, {\"line\": {\"color\": \"grey\"}, \"name\": \"Djibouti\", \"opacity\": 0.1, \"type\": \"scatter\", \"x\": [\"1800-12-31T00:00:00\", \"1810-12-31T00:00:00\", \"1820-12-31T00:00:00\", \"1830-12-31T00:00:00\", \"1840-12-31T00:00:00\", \"1850-12-31T00:00:00\", \"1860-12-31T00:00:00\", \"1870-12-31T00:00:00\", \"1880-12-31T00:00:00\", \"1890-12-31T00:00:00\", \"1900-12-31T00:00:00\", \"1910-12-31T00:00:00\", \"1920-12-31T00:00:00\", \"1930-12-31T00:00:00\", \"1940-12-31T00:00:00\", \"1950-12-31T00:00:00\", \"1960-12-31T00:00:00\", \"1970-12-31T00:00:00\", \"1980-12-31T00:00:00\", \"1990-12-31T00:00:00\", \"2000-12-31T00:00:00\", \"2010-12-31T00:00:00\", \"2020-12-31T00:00:00\"], \"y\": [null, null, null, null, null, null, null, -0.5401666666666666, -0.2918181818181817, -0.3275630252100841, -0.2528916666666667, -0.3251000000000001, -0.2524916666666668, -0.2637583333333335, -0.1543833333333334, 0.16410000000000005, -0.14302499999999987, -0.004233333333333328, 0.14720833333333333, 0.21765833333333326, 0.49479166666666685, 0.8902583333333334, 1.1882187499999999]}, {\"line\": {\"color\": \"grey\"}, \"name\": \"Dominica\", \"opacity\": 0.1, \"type\": \"scatter\", \"x\": [\"1800-12-31T00:00:00\", \"1810-12-31T00:00:00\", \"1820-12-31T00:00:00\", \"1830-12-31T00:00:00\", \"1840-12-31T00:00:00\", \"1850-12-31T00:00:00\", \"1860-12-31T00:00:00\", \"1870-12-31T00:00:00\", \"1880-12-31T00:00:00\", \"1890-12-31T00:00:00\", \"1900-12-31T00:00:00\", \"1910-12-31T00:00:00\", \"1920-12-31T00:00:00\", \"1930-12-31T00:00:00\", \"1940-12-31T00:00:00\", \"1950-12-31T00:00:00\", \"1960-12-31T00:00:00\", \"1970-12-31T00:00:00\", \"1980-12-31T00:00:00\", \"1990-12-31T00:00:00\", \"2000-12-31T00:00:00\", \"2010-12-31T00:00:00\", \"2020-12-31T00:00:00\"], \"y\": [null, null, null, -0.36184615384615376, null, -0.705927536231884, -0.7484916666666669, -0.620975, -0.48213333333333336, -0.7542916666666667, -0.5644916666666666, -0.5484166666666666, -0.5623333333333334, -0.3517666666666667, -0.2343500000000001, -0.19678333333333342, 0.026116666666666667, 0.01603333333333331, -0.04214999999999999, 0.17788333333333328, 0.41110833333333324, 0.6870083333333332, 0.6843437500000001]}, {\"line\": {\"color\": \"grey\"}, \"name\": \"Dominican Republic\", \"opacity\": 0.1, \"type\": \"scatter\", \"x\": [\"1800-12-31T00:00:00\", \"1810-12-31T00:00:00\", \"1820-12-31T00:00:00\", \"1830-12-31T00:00:00\", \"1840-12-31T00:00:00\", \"1850-12-31T00:00:00\", \"1860-12-31T00:00:00\", \"1870-12-31T00:00:00\", \"1880-12-31T00:00:00\", \"1890-12-31T00:00:00\", \"1900-12-31T00:00:00\", \"1910-12-31T00:00:00\", \"1920-12-31T00:00:00\", \"1930-12-31T00:00:00\", \"1940-12-31T00:00:00\", \"1950-12-31T00:00:00\", \"1960-12-31T00:00:00\", \"1970-12-31T00:00:00\", \"1980-12-31T00:00:00\", \"1990-12-31T00:00:00\", \"2000-12-31T00:00:00\", \"2010-12-31T00:00:00\", \"2020-12-31T00:00:00\"], \"y\": [null, null, null, -0.13628915662650606, -0.8439054054054052, -0.7526666666666667, -0.6688833333333333, -0.5524166666666669, -0.3986833333333333, -0.7157416666666665, -0.4645583333333334, -0.4787416666666665, -0.45618333333333355, -0.2895750000000001, -0.1812, -0.0754833333333333, 0.0020500000000000175, 0.00876666666666666, -0.010791666666666668, 0.25343333333333334, 0.41221666666666656, 0.6992749999999999, 0.5061515151515151]}, {\"line\": {\"color\": \"grey\"}, \"name\": \"Ecuador\", \"opacity\": 0.1, \"type\": \"scatter\", \"x\": [\"1800-12-31T00:00:00\", \"1810-12-31T00:00:00\", \"1820-12-31T00:00:00\", \"1830-12-31T00:00:00\", \"1840-12-31T00:00:00\", \"1850-12-31T00:00:00\", \"1860-12-31T00:00:00\", \"1870-12-31T00:00:00\", \"1880-12-31T00:00:00\", \"1890-12-31T00:00:00\", \"1900-12-31T00:00:00\", \"1910-12-31T00:00:00\", \"1920-12-31T00:00:00\", \"1930-12-31T00:00:00\", \"1940-12-31T00:00:00\", \"1950-12-31T00:00:00\", \"1960-12-31T00:00:00\", \"1970-12-31T00:00:00\", \"1980-12-31T00:00:00\", \"1990-12-31T00:00:00\", \"2000-12-31T00:00:00\", \"2010-12-31T00:00:00\", \"2020-12-31T00:00:00\"], \"y\": [null, null, null, null, null, null, null, -0.4624999999999998, null, -0.8670266666666667, -0.5845833333333332, -0.6236666666666669, -0.4432750000000001, -0.28608333333333336, -0.22893333333333324, -0.03520833333333337, -0.08104166666666665, 0.031433333333333355, 0.04964166666666668, 0.2876583333333335, 0.4718416666666665, 0.554975, 0.36700000000000005]}, {\"line\": {\"color\": \"grey\"}, \"name\": \"Egypt\", \"opacity\": 0.1, \"type\": \"scatter\", \"x\": [\"1800-12-31T00:00:00\", \"1810-12-31T00:00:00\", \"1820-12-31T00:00:00\", \"1830-12-31T00:00:00\", \"1840-12-31T00:00:00\", \"1850-12-31T00:00:00\", \"1860-12-31T00:00:00\", \"1870-12-31T00:00:00\", \"1880-12-31T00:00:00\", \"1890-12-31T00:00:00\", \"1900-12-31T00:00:00\", \"1910-12-31T00:00:00\", \"1920-12-31T00:00:00\", \"1930-12-31T00:00:00\", \"1940-12-31T00:00:00\", \"1950-12-31T00:00:00\", \"1960-12-31T00:00:00\", \"1970-12-31T00:00:00\", \"1980-12-31T00:00:00\", \"1990-12-31T00:00:00\", \"2000-12-31T00:00:00\", \"2010-12-31T00:00:00\", \"2020-12-31T00:00:00\"], \"y\": [null, null, -1.310454545454545, -0.5385948275862069, -1.0939406779661023, -0.6764416666666663, -0.6323166666666669, -0.5352666666666668, -0.49457500000000004, -0.6776666666666664, -0.49872500000000003, -0.5509333333333333, -0.46039166666666653, -0.1650916666666666, 0.0005250000000000328, -0.23585000000000006, 0.09439166666666665, -0.02369999999999998, -0.07067499999999995, -0.09996666666666666, 0.2790666666666667, 0.8386833333333336, 0.7040624999999999]}, {\"line\": {\"color\": \"grey\"}, \"name\": \"El Salvador\", \"opacity\": 0.1, \"type\": \"scatter\", \"x\": [\"1800-12-31T00:00:00\", \"1810-12-31T00:00:00\", \"1820-12-31T00:00:00\", \"1830-12-31T00:00:00\", \"1840-12-31T00:00:00\", \"1850-12-31T00:00:00\", \"1860-12-31T00:00:00\", \"1870-12-31T00:00:00\", \"1880-12-31T00:00:00\", \"1890-12-31T00:00:00\", \"1900-12-31T00:00:00\", \"1910-12-31T00:00:00\", \"1920-12-31T00:00:00\", \"1930-12-31T00:00:00\", \"1940-12-31T00:00:00\", \"1950-12-31T00:00:00\", \"1960-12-31T00:00:00\", \"1970-12-31T00:00:00\", \"1980-12-31T00:00:00\", \"1990-12-31T00:00:00\", \"2000-12-31T00:00:00\", \"2010-12-31T00:00:00\", \"2020-12-31T00:00:00\"], \"y\": [null, null, null, null, -1.0574772727272725, -0.6945739130434778, -0.8261750000000002, -0.5843083333333332, -0.4734333333333332, -0.7726833333333335, -0.4514666666666666, -0.7404500000000004, -0.38807499999999967, -0.13416666666666663, -0.19413333333333338, -0.010000000000000035, 0.04218333333333334, -0.09275833333333332, 0.05063333333333332, 0.19528333333333328, 0.5399333333333336, 0.44793333333333335, 0.41718181818181826]}, {\"line\": {\"color\": \"grey\"}, \"name\": \"Equatorial Guinea\", \"opacity\": 0.1, \"type\": \"scatter\", \"x\": [\"1800-12-31T00:00:00\", \"1810-12-31T00:00:00\", \"1820-12-31T00:00:00\", \"1830-12-31T00:00:00\", \"1840-12-31T00:00:00\", \"1850-12-31T00:00:00\", \"1860-12-31T00:00:00\", \"1870-12-31T00:00:00\", \"1880-12-31T00:00:00\", \"1890-12-31T00:00:00\", \"1900-12-31T00:00:00\", \"1910-12-31T00:00:00\", \"1920-12-31T00:00:00\", \"1930-12-31T00:00:00\", \"1940-12-31T00:00:00\", \"1950-12-31T00:00:00\", \"1960-12-31T00:00:00\", \"1970-12-31T00:00:00\", \"1980-12-31T00:00:00\", \"1990-12-31T00:00:00\", \"2000-12-31T00:00:00\", \"2010-12-31T00:00:00\", \"2020-12-31T00:00:00\"], \"y\": [null, null, null, null, null, null, -0.7538536585365855, -0.8780714285714286, -0.6550454545454548, -0.8303916666666668, -0.7080249999999996, -0.6183000000000002, -0.17924166666666666, -0.10525833333333331, 0.1257833333333334, 0.25625, -0.053166666666666626, 0.032625, 0.02054999999999997, 0.09890833333333333, 0.29587499999999994, 0.6275750000000002, 0.5085625]}, {\"line\": {\"color\": \"grey\"}, \"name\": \"Eritrea\", \"opacity\": 0.1, \"type\": \"scatter\", \"x\": [\"1800-12-31T00:00:00\", \"1810-12-31T00:00:00\", \"1820-12-31T00:00:00\", \"1830-12-31T00:00:00\", \"1840-12-31T00:00:00\", \"1850-12-31T00:00:00\", \"1860-12-31T00:00:00\", \"1870-12-31T00:00:00\", \"1880-12-31T00:00:00\", \"1890-12-31T00:00:00\", \"1900-12-31T00:00:00\", \"1910-12-31T00:00:00\", \"1920-12-31T00:00:00\", \"1930-12-31T00:00:00\", \"1940-12-31T00:00:00\", \"1950-12-31T00:00:00\", \"1960-12-31T00:00:00\", \"1970-12-31T00:00:00\", \"1980-12-31T00:00:00\", \"1990-12-31T00:00:00\", \"2000-12-31T00:00:00\", \"2010-12-31T00:00:00\", \"2020-12-31T00:00:00\"], \"y\": [null, null, null, null, null, null, null, -0.47208333333333335, -0.35004411764705884, -0.3645583333333332, -0.3257166666666667, -0.4116666666666664, -0.4096000000000001, -0.11922499999999991, -0.08624166666666663, 0.05440833333333332, 0.04084999999999999, -0.097575, 0.05679166666666666, 0.11277499999999999, 0.3374, 0.8557416666666666, 1.0193125]}, {\"line\": {\"color\": \"grey\"}, \"name\": \"Estonia\", \"opacity\": 0.1, \"type\": \"scatter\", \"x\": [\"1800-12-31T00:00:00\", \"1810-12-31T00:00:00\", \"1820-12-31T00:00:00\", \"1830-12-31T00:00:00\", \"1840-12-31T00:00:00\", \"1850-12-31T00:00:00\", \"1860-12-31T00:00:00\", \"1870-12-31T00:00:00\", \"1880-12-31T00:00:00\", \"1890-12-31T00:00:00\", \"1900-12-31T00:00:00\", \"1910-12-31T00:00:00\", \"1920-12-31T00:00:00\", \"1930-12-31T00:00:00\", \"1940-12-31T00:00:00\", \"1950-12-31T00:00:00\", \"1960-12-31T00:00:00\", \"1970-12-31T00:00:00\", \"1980-12-31T00:00:00\", \"1990-12-31T00:00:00\", \"2000-12-31T00:00:00\", \"2010-12-31T00:00:00\", \"2020-12-31T00:00:00\"], \"y\": [-0.7022499999999999, -0.7684833333333333, -0.6425916666666667, -0.028825000000000045, -0.6558916666666664, -0.5428666666666667, -0.3376583333333333, -0.6172999999999998, -0.5571333333333335, -0.3188833333333335, -0.329675, -0.17416666666666672, -0.12592500000000006, -0.09715000000000006, 0.555308333333334, 0.0027750000000000257, -0.055266666666666665, -0.19753333333333337, 0.25284166666666674, 0.45145833333333324, 0.9041416666666666, 1.2157666666666662, 1.24125]}, {\"line\": {\"color\": \"grey\"}, \"name\": \"Ethiopia\", \"opacity\": 0.1, \"type\": \"scatter\", \"x\": [\"1800-12-31T00:00:00\", \"1810-12-31T00:00:00\", \"1820-12-31T00:00:00\", \"1830-12-31T00:00:00\", \"1840-12-31T00:00:00\", \"1850-12-31T00:00:00\", \"1860-12-31T00:00:00\", \"1870-12-31T00:00:00\", \"1880-12-31T00:00:00\", \"1890-12-31T00:00:00\", \"1900-12-31T00:00:00\", \"1910-12-31T00:00:00\", \"1920-12-31T00:00:00\", \"1930-12-31T00:00:00\", \"1940-12-31T00:00:00\", \"1950-12-31T00:00:00\", \"1960-12-31T00:00:00\", \"1970-12-31T00:00:00\", \"1980-12-31T00:00:00\", \"1990-12-31T00:00:00\", \"2000-12-31T00:00:00\", \"2010-12-31T00:00:00\", \"2020-12-31T00:00:00\"], \"y\": [null, null, null, null, null, -0.770818181818182, -0.44210000000000005, -0.6060833333333333, -0.3235090909090909, -0.4480924369747899, -0.28074999999999994, -0.3543666666666668, -0.2595499999999999, -0.2622833333333334, -0.03140000000000001, 0.05928333333333321, 0.002541666666666663, -0.10900000000000003, 0.10650833333333333, 0.23365, 0.36770833333333336, 0.8073250000000002, 1.06425]}, {\"line\": {\"color\": \"grey\"}, \"name\": \"Faeroe Islands\", \"opacity\": 0.1, \"type\": \"scatter\", \"x\": [\"1800-12-31T00:00:00\", \"1810-12-31T00:00:00\", \"1820-12-31T00:00:00\", \"1830-12-31T00:00:00\", \"1840-12-31T00:00:00\", \"1850-12-31T00:00:00\", \"1860-12-31T00:00:00\", \"1870-12-31T00:00:00\", \"1880-12-31T00:00:00\", \"1890-12-31T00:00:00\", \"1900-12-31T00:00:00\", \"1910-12-31T00:00:00\", \"1920-12-31T00:00:00\", \"1930-12-31T00:00:00\", \"1940-12-31T00:00:00\", \"1950-12-31T00:00:00\", \"1960-12-31T00:00:00\", \"1970-12-31T00:00:00\", \"1980-12-31T00:00:00\", \"1990-12-31T00:00:00\", \"2000-12-31T00:00:00\", \"2010-12-31T00:00:00\", \"2020-12-31T00:00:00\"], \"y\": [-0.6001666666666668, -0.6385416666666665, -0.7946416666666668, -0.10673333333333335, -0.6041000000000004, -0.3812250000000001, -0.3694083333333336, -0.3720833333333334, -0.30246666666666666, -0.5233249999999997, -0.35666666666666663, -0.4567249999999999, -0.4008999999999999, -0.20732499999999993, 0.3883333333333335, 0.308925, 0.13481666666666667, -0.18666666666666665, 0.05181666666666664, 0.03364166666666661, 0.25365833333333343, 0.7820499999999997, 0.45540625]}, {\"line\": {\"color\": \"grey\"}, \"name\": \"Falkland Islands Malvinas\", \"opacity\": 0.1, \"type\": \"scatter\", \"x\": [\"1800-12-31T00:00:00\", \"1810-12-31T00:00:00\", \"1820-12-31T00:00:00\", \"1830-12-31T00:00:00\", \"1840-12-31T00:00:00\", \"1850-12-31T00:00:00\", \"1860-12-31T00:00:00\", \"1870-12-31T00:00:00\", \"1880-12-31T00:00:00\", \"1890-12-31T00:00:00\", \"1900-12-31T00:00:00\", \"1910-12-31T00:00:00\", \"1920-12-31T00:00:00\", \"1930-12-31T00:00:00\", \"1940-12-31T00:00:00\", \"1950-12-31T00:00:00\", \"1960-12-31T00:00:00\", \"1970-12-31T00:00:00\", \"1980-12-31T00:00:00\", \"1990-12-31T00:00:00\", \"2000-12-31T00:00:00\", \"2010-12-31T00:00:00\", \"2020-12-31T00:00:00\"], \"y\": [null, null, null, null, null, null, -0.8865, -0.5702521008403363, -0.6223999999999996, -0.8945423728813556, -0.4805999999999998, -0.48880833333333323, -0.26135, -0.5193999999999999, -0.3107583333333333, -0.03352499999999994, -0.026658333333333332, -0.004399999999999968, 0.03110833333333331, 0.3995083333333333, 0.36336666666666667, 0.43574166666666664, 0.7648437499999999]}, {\"line\": {\"color\": \"grey\"}, \"name\": \"Fiji\", \"opacity\": 0.1, \"type\": \"scatter\", \"x\": [\"1800-12-31T00:00:00\", \"1810-12-31T00:00:00\", \"1820-12-31T00:00:00\", \"1830-12-31T00:00:00\", \"1840-12-31T00:00:00\", \"1850-12-31T00:00:00\", \"1860-12-31T00:00:00\", \"1870-12-31T00:00:00\", \"1880-12-31T00:00:00\", \"1890-12-31T00:00:00\", \"1900-12-31T00:00:00\", \"1910-12-31T00:00:00\", \"1920-12-31T00:00:00\", \"1930-12-31T00:00:00\", \"1940-12-31T00:00:00\", \"1950-12-31T00:00:00\", \"1960-12-31T00:00:00\", \"1970-12-31T00:00:00\", \"1980-12-31T00:00:00\", \"1990-12-31T00:00:00\", \"2000-12-31T00:00:00\", \"2010-12-31T00:00:00\", \"2020-12-31T00:00:00\"], \"y\": [null, null, null, null, null, null, null, -0.732970588235294, -0.501433962264151, -0.9173098591549297, -0.579825, -0.6512333333333333, -0.4964000000000002, -0.38872500000000004, -0.088025, -0.05807499999999989, 4.999999999999588e-05, -0.1554333333333334, 0.1553833333333333, 0.19304999999999997, 0.3098249999999999, 0.4633833333333333, 0.45637500000000003]}, {\"line\": {\"color\": \"grey\"}, \"name\": \"Finland\", \"opacity\": 0.1, \"type\": \"scatter\", \"x\": [\"1800-12-31T00:00:00\", \"1810-12-31T00:00:00\", \"1820-12-31T00:00:00\", \"1830-12-31T00:00:00\", \"1840-12-31T00:00:00\", \"1850-12-31T00:00:00\", \"1860-12-31T00:00:00\", \"1870-12-31T00:00:00\", \"1880-12-31T00:00:00\", \"1890-12-31T00:00:00\", \"1900-12-31T00:00:00\", \"1910-12-31T00:00:00\", \"1920-12-31T00:00:00\", \"1930-12-31T00:00:00\", \"1940-12-31T00:00:00\", \"1950-12-31T00:00:00\", \"1960-12-31T00:00:00\", \"1970-12-31T00:00:00\", \"1980-12-31T00:00:00\", \"1990-12-31T00:00:00\", \"2000-12-31T00:00:00\", \"2010-12-31T00:00:00\", \"2020-12-31T00:00:00\"], \"y\": [-0.5435, -0.9180083333333336, -0.751691666666667, -0.01389166666666659, -0.7499916666666666, -0.47661666666666663, -0.42724999999999996, -0.8070583333333334, -0.7320083333333331, -0.25548333333333323, -0.6365416666666668, -0.23071666666666665, -0.28611666666666674, -0.021933333333333322, 0.7919916666666665, 0.25045, 0.044825000000000004, -0.20577499999999996, 0.16099166666666667, 0.19569166666666662, 0.7824333333333333, 1.1313666666666662, 1.4013750000000005]}, {\"line\": {\"color\": \"grey\"}, \"name\": \"France\", \"opacity\": 0.1, \"type\": \"scatter\", \"x\": [\"1800-12-31T00:00:00\", \"1810-12-31T00:00:00\", \"1820-12-31T00:00:00\", \"1830-12-31T00:00:00\", \"1840-12-31T00:00:00\", \"1850-12-31T00:00:00\", \"1860-12-31T00:00:00\", \"1870-12-31T00:00:00\", \"1880-12-31T00:00:00\", \"1890-12-31T00:00:00\", \"1900-12-31T00:00:00\", \"1910-12-31T00:00:00\", \"1920-12-31T00:00:00\", \"1930-12-31T00:00:00\", \"1940-12-31T00:00:00\", \"1950-12-31T00:00:00\", \"1960-12-31T00:00:00\", \"1970-12-31T00:00:00\", \"1980-12-31T00:00:00\", \"1990-12-31T00:00:00\", \"2000-12-31T00:00:00\", \"2010-12-31T00:00:00\", \"2020-12-31T00:00:00\"], \"y\": [0.17108333333333325, -0.2994583333333333, -0.5728666666666666, -0.10689166666666668, -0.2882416666666668, -0.33626666666666655, -0.4712, -0.03763333333333336, -0.3122000000000001, -0.6976750000000002, -0.17962500000000006, -0.3945250000000002, -0.21295833333333328, 0.05702500000000001, -0.07576666666666668, 0.3259666666666667, 0.09006666666666666, -0.05750833333333335, -0.03251666666666667, 0.46385, 0.8215749999999999, 0.9576000000000007, 1.0140625]}, {\"line\": {\"color\": \"grey\"}, \"name\": \"French Guiana\", \"opacity\": 0.1, \"type\": \"scatter\", \"x\": [\"1800-12-31T00:00:00\", \"1810-12-31T00:00:00\", \"1820-12-31T00:00:00\", \"1830-12-31T00:00:00\", \"1840-12-31T00:00:00\", \"1850-12-31T00:00:00\", \"1860-12-31T00:00:00\", \"1870-12-31T00:00:00\", \"1880-12-31T00:00:00\", \"1890-12-31T00:00:00\", \"1900-12-31T00:00:00\", \"1910-12-31T00:00:00\", \"1920-12-31T00:00:00\", \"1930-12-31T00:00:00\", \"1940-12-31T00:00:00\", \"1950-12-31T00:00:00\", \"1960-12-31T00:00:00\", \"1970-12-31T00:00:00\", \"1980-12-31T00:00:00\", \"1990-12-31T00:00:00\", \"2000-12-31T00:00:00\", \"2010-12-31T00:00:00\", \"2020-12-31T00:00:00\"], \"y\": [null, null, null, -0.38980000000000015, null, -0.6401449275362318, -0.7628333333333331, -0.6462666666666664, -0.5420249999999999, -0.7888660714285715, -0.6436083333333327, -0.5345499999999999, -0.5067416666666664, -0.43260833333333315, -0.14900833333333338, -0.162925, 0.03153333333333333, 0.03880000000000001, -0.07031666666666661, 0.13231666666666667, 0.40805000000000013, 0.725475, 0.6963437500000002]}, {\"line\": {\"color\": \"grey\"}, \"name\": \"French Polynesia\", \"opacity\": 0.1, \"type\": \"scatter\", \"x\": [\"1800-12-31T00:00:00\", \"1810-12-31T00:00:00\", \"1820-12-31T00:00:00\", \"1830-12-31T00:00:00\", \"1840-12-31T00:00:00\", \"1850-12-31T00:00:00\", \"1860-12-31T00:00:00\", \"1870-12-31T00:00:00\", \"1880-12-31T00:00:00\", \"1890-12-31T00:00:00\", \"1900-12-31T00:00:00\", \"1910-12-31T00:00:00\", \"1920-12-31T00:00:00\", \"1930-12-31T00:00:00\", \"1940-12-31T00:00:00\", \"1950-12-31T00:00:00\", \"1960-12-31T00:00:00\", \"1970-12-31T00:00:00\", \"1980-12-31T00:00:00\", \"1990-12-31T00:00:00\", \"2000-12-31T00:00:00\", \"2010-12-31T00:00:00\", \"2020-12-31T00:00:00\"], \"y\": [null, null, null, null, null, null, null, null, -0.26493478260869563, -0.8040336134453785, -0.5931785714285711, -0.5350583333333332, -0.512948275862069, -0.23255084745762716, -0.1218833333333334, 0.02459999999999997, 0.011258333333333344, -0.015724999999999927, 0.004458333333333337, 0.29305000000000003, 0.43435833333333335, 0.6079416666666667, 0.47415624999999995]}, {\"line\": {\"color\": \"grey\"}, \"name\": \"Gabon\", \"opacity\": 0.1, \"type\": \"scatter\", \"x\": [\"1800-12-31T00:00:00\", \"1810-12-31T00:00:00\", \"1820-12-31T00:00:00\", \"1830-12-31T00:00:00\", \"1840-12-31T00:00:00\", \"1850-12-31T00:00:00\", \"1860-12-31T00:00:00\", \"1870-12-31T00:00:00\", \"1880-12-31T00:00:00\", \"1890-12-31T00:00:00\", \"1900-12-31T00:00:00\", \"1910-12-31T00:00:00\", \"1920-12-31T00:00:00\", \"1930-12-31T00:00:00\", \"1940-12-31T00:00:00\", \"1950-12-31T00:00:00\", \"1960-12-31T00:00:00\", \"1970-12-31T00:00:00\", \"1980-12-31T00:00:00\", \"1990-12-31T00:00:00\", \"2000-12-31T00:00:00\", \"2010-12-31T00:00:00\", \"2020-12-31T00:00:00\"], \"y\": [null, null, null, null, null, null, -0.7489268292682927, -0.8859285714285716, -0.6545568181818182, -0.7923000000000002, -0.6416916666666669, -0.5586583333333334, -0.23401666666666668, -0.113675, 0.09167499999999999, 0.2714333333333333, -0.018624999999999996, 0.022491666666666656, -0.003791666666666716, 0.13428333333333334, 0.32181666666666675, 0.6166416666666665, 0.43934375000000014]}, {\"line\": {\"color\": \"grey\"}, \"name\": \"Gambia\", \"opacity\": 0.1, \"type\": \"scatter\", \"x\": [\"1800-12-31T00:00:00\", \"1810-12-31T00:00:00\", \"1820-12-31T00:00:00\", \"1830-12-31T00:00:00\", \"1840-12-31T00:00:00\", \"1850-12-31T00:00:00\", \"1860-12-31T00:00:00\", \"1870-12-31T00:00:00\", \"1880-12-31T00:00:00\", \"1890-12-31T00:00:00\", \"1900-12-31T00:00:00\", \"1910-12-31T00:00:00\", \"1920-12-31T00:00:00\", \"1930-12-31T00:00:00\", \"1940-12-31T00:00:00\", \"1950-12-31T00:00:00\", \"1960-12-31T00:00:00\", \"1970-12-31T00:00:00\", \"1980-12-31T00:00:00\", \"1990-12-31T00:00:00\", \"2000-12-31T00:00:00\", \"2010-12-31T00:00:00\", \"2020-12-31T00:00:00\"], \"y\": [null, null, null, null, null, -0.5946666666666667, -0.5868028169014083, -0.5484948453608248, -0.5833111111111111, -0.587957627118644, -0.12121666666666661, -0.43535, -0.24099166666666674, -0.10165000000000002, -0.03699166666666668, 0.026783333333333326, -0.15103333333333335, 0.07378333333333333, 0.07723333333333332, 0.4246333333333336, 0.5785666666666668, 0.7969000000000003, 0.7167187499999998]}, {\"line\": {\"color\": \"grey\"}, \"name\": \"Georgia\", \"opacity\": 0.1, \"type\": \"scatter\", \"x\": [\"1800-12-31T00:00:00\", \"1810-12-31T00:00:00\", \"1820-12-31T00:00:00\", \"1830-12-31T00:00:00\", \"1840-12-31T00:00:00\", \"1850-12-31T00:00:00\", \"1860-12-31T00:00:00\", \"1870-12-31T00:00:00\", \"1880-12-31T00:00:00\", \"1890-12-31T00:00:00\", \"1900-12-31T00:00:00\", \"1910-12-31T00:00:00\", \"1920-12-31T00:00:00\", \"1930-12-31T00:00:00\", \"1940-12-31T00:00:00\", \"1950-12-31T00:00:00\", \"1960-12-31T00:00:00\", \"1970-12-31T00:00:00\", \"1980-12-31T00:00:00\", \"1990-12-31T00:00:00\", \"2000-12-31T00:00:00\", \"2010-12-31T00:00:00\", \"2020-12-31T00:00:00\"], \"y\": [null, -1.9923703703703703, -1.4035666666666675, -0.6423499999999998, -1.3464583333333333, -0.7614249999999998, -0.5852416666666667, -0.8981083333333336, -0.4021416666666665, -0.7137583333333332, -0.7688166666666667, -0.5922666666666668, -0.5130999999999999, -0.44858333333333333, -0.3295416666666669, -0.4330833333333333, -0.11899166666666662, 0.19544166666666668, -0.07642500000000015, 0.0670833333333334, 0.3191083333333332, 1.0188833333333336, 0.86425]}, {\"line\": {\"color\": \"grey\"}, \"name\": \"Germany\", \"opacity\": 0.1, \"type\": \"scatter\", \"x\": [\"1800-12-31T00:00:00\", \"1810-12-31T00:00:00\", \"1820-12-31T00:00:00\", \"1830-12-31T00:00:00\", \"1840-12-31T00:00:00\", \"1850-12-31T00:00:00\", \"1860-12-31T00:00:00\", \"1870-12-31T00:00:00\", \"1880-12-31T00:00:00\", \"1890-12-31T00:00:00\", \"1900-12-31T00:00:00\", \"1910-12-31T00:00:00\", \"1920-12-31T00:00:00\", \"1930-12-31T00:00:00\", \"1940-12-31T00:00:00\", \"1950-12-31T00:00:00\", \"1960-12-31T00:00:00\", \"1970-12-31T00:00:00\", \"1980-12-31T00:00:00\", \"1990-12-31T00:00:00\", \"2000-12-31T00:00:00\", \"2010-12-31T00:00:00\", \"2020-12-31T00:00:00\"], \"y\": [-0.17666666666666672, -0.3784, -0.60425, -0.20879166666666665, -0.4289083333333333, -0.42915, -0.5869333333333333, -0.17742499999999997, -0.378175, -0.6506083333333336, -0.3160666666666667, -0.3581916666666668, -0.07645000000000003, -0.14905833333333343, -0.006541666666666572, 0.13984166666666673, 0.020816666666666667, -0.15144166666666667, 0.1305583333333332, 0.3721750000000001, 0.7945583333333333, 1.0284333333333333, 0.9841562499999998]}, {\"line\": {\"color\": \"grey\"}, \"name\": \"Ghana\", \"opacity\": 0.1, \"type\": \"scatter\", \"x\": [\"1800-12-31T00:00:00\", \"1810-12-31T00:00:00\", \"1820-12-31T00:00:00\", \"1830-12-31T00:00:00\", \"1840-12-31T00:00:00\", \"1850-12-31T00:00:00\", \"1860-12-31T00:00:00\", \"1870-12-31T00:00:00\", \"1880-12-31T00:00:00\", \"1890-12-31T00:00:00\", \"1900-12-31T00:00:00\", \"1910-12-31T00:00:00\", \"1920-12-31T00:00:00\", \"1930-12-31T00:00:00\", \"1940-12-31T00:00:00\", \"1950-12-31T00:00:00\", \"1960-12-31T00:00:00\", \"1970-12-31T00:00:00\", \"1980-12-31T00:00:00\", \"1990-12-31T00:00:00\", \"2000-12-31T00:00:00\", \"2010-12-31T00:00:00\", \"2020-12-31T00:00:00\"], \"y\": [null, null, null, null, null, -0.6991250000000001, -0.6425000000000001, -0.8983571428571429, -0.5985604395604395, -0.7990849056603775, -0.7482833333333337, -0.6095833333333337, -0.05921666666666672, 0.06411666666666668, 0.08984166666666665, 0.20000833333333337, -0.07251666666666672, 0.0037249999999999835, 0.06878333333333334, 0.355925, 0.3444666666666667, 0.7441666666666668, 0.65471875]}, {\"line\": {\"color\": \"grey\"}, \"name\": \"Greece\", \"opacity\": 0.1, \"type\": \"scatter\", \"x\": [\"1800-12-31T00:00:00\", \"1810-12-31T00:00:00\", \"1820-12-31T00:00:00\", \"1830-12-31T00:00:00\", \"1840-12-31T00:00:00\", \"1850-12-31T00:00:00\", \"1860-12-31T00:00:00\", \"1870-12-31T00:00:00\", \"1880-12-31T00:00:00\", \"1890-12-31T00:00:00\", \"1900-12-31T00:00:00\", \"1910-12-31T00:00:00\", \"1920-12-31T00:00:00\", \"1930-12-31T00:00:00\", \"1940-12-31T00:00:00\", \"1950-12-31T00:00:00\", \"1960-12-31T00:00:00\", \"1970-12-31T00:00:00\", \"1980-12-31T00:00:00\", \"1990-12-31T00:00:00\", \"2000-12-31T00:00:00\", \"2010-12-31T00:00:00\", \"2020-12-31T00:00:00\"], \"y\": [0.13100000000000006, -0.22991666666666669, -0.8879083333333332, -0.41346666666666654, -0.9131333333333329, -0.41943333333333344, -0.4700083333333335, -0.23072499999999999, -0.3605, -0.545183333333333, -0.37309166666666643, -0.41955833333333353, -0.23479166666666657, 0.09057500000000002, 0.020391666666666645, 0.011966666666666658, 0.11086666666666666, 0.13969166666666674, -0.2505916666666666, 0.010458333333333325, 0.23422500000000007, 0.751075, 0.9174375]}, {\"line\": {\"color\": \"grey\"}, \"name\": \"Greenland\", \"opacity\": 0.1, \"type\": \"scatter\", \"x\": [\"1800-12-31T00:00:00\", \"1810-12-31T00:00:00\", \"1820-12-31T00:00:00\", \"1830-12-31T00:00:00\", \"1840-12-31T00:00:00\", \"1850-12-31T00:00:00\", \"1860-12-31T00:00:00\", \"1870-12-31T00:00:00\", \"1880-12-31T00:00:00\", \"1890-12-31T00:00:00\", \"1900-12-31T00:00:00\", \"1910-12-31T00:00:00\", \"1920-12-31T00:00:00\", \"1930-12-31T00:00:00\", \"1940-12-31T00:00:00\", \"1950-12-31T00:00:00\", \"1960-12-31T00:00:00\", \"1970-12-31T00:00:00\", \"1980-12-31T00:00:00\", \"1990-12-31T00:00:00\", \"2000-12-31T00:00:00\", \"2010-12-31T00:00:00\", \"2020-12-31T00:00:00\"], \"y\": [null, null, null, -0.23490624999999987, -0.9999416666666666, -0.630475, -0.6456333333333333, -0.9449833333333334, -0.30625833333333335, -1.3051666666666668, -1.1285666666666667, -0.7675833333333333, -0.7972666666666667, 0.4017916666666667, 1.1236416666666664, 0.4192083333333336, 0.22635833333333336, 0.01843333333333329, -0.24484166666666654, -0.33864166666666684, 0.16445833333333326, 1.5241666666666673, 1.3660312500000003]}, {\"line\": {\"color\": \"grey\"}, \"name\": \"Grenada\", \"opacity\": 0.1, \"type\": \"scatter\", \"x\": [\"1800-12-31T00:00:00\", \"1810-12-31T00:00:00\", \"1820-12-31T00:00:00\", \"1830-12-31T00:00:00\", \"1840-12-31T00:00:00\", \"1850-12-31T00:00:00\", \"1860-12-31T00:00:00\", \"1870-12-31T00:00:00\", \"1880-12-31T00:00:00\", \"1890-12-31T00:00:00\", \"1900-12-31T00:00:00\", \"1910-12-31T00:00:00\", \"1920-12-31T00:00:00\", \"1930-12-31T00:00:00\", \"1940-12-31T00:00:00\", \"1950-12-31T00:00:00\", \"1960-12-31T00:00:00\", \"1970-12-31T00:00:00\", \"1980-12-31T00:00:00\", \"1990-12-31T00:00:00\", \"2000-12-31T00:00:00\", \"2010-12-31T00:00:00\", \"2020-12-31T00:00:00\"], \"y\": [null, null, null, -0.41449230769230777, null, -0.7045362318840579, -0.7805000000000002, -0.6702083333333334, -0.515925, -0.7770833333333333, -0.5997499999999998, -0.5955250000000003, -0.587441666666667, -0.41074999999999995, -0.26190833333333335, -0.18808333333333335, 0.010566666666666653, 0.03327499999999999, -0.043766666666666725, 0.14966666666666667, 0.3756250000000001, 0.6454916666666662, 0.6442187500000001]}, {\"line\": {\"color\": \"grey\"}, \"name\": \"Guadeloupe\", \"opacity\": 0.1, \"type\": \"scatter\", \"x\": [\"1800-12-31T00:00:00\", \"1810-12-31T00:00:00\", \"1820-12-31T00:00:00\", \"1830-12-31T00:00:00\", \"1840-12-31T00:00:00\", \"1850-12-31T00:00:00\", \"1860-12-31T00:00:00\", \"1870-12-31T00:00:00\", \"1880-12-31T00:00:00\", \"1890-12-31T00:00:00\", \"1900-12-31T00:00:00\", \"1910-12-31T00:00:00\", \"1920-12-31T00:00:00\", \"1930-12-31T00:00:00\", \"1940-12-31T00:00:00\", \"1950-12-31T00:00:00\", \"1960-12-31T00:00:00\", \"1970-12-31T00:00:00\", \"1980-12-31T00:00:00\", \"1990-12-31T00:00:00\", \"2000-12-31T00:00:00\", \"2010-12-31T00:00:00\", \"2020-12-31T00:00:00\"], \"y\": [null, null, null, -0.32890769230769246, null, -0.7095217391304348, -0.7423833333333334, -0.6071833333333334, -0.47083333333333327, -0.7479999999999998, -0.5421083333333332, -0.5211833333333334, -0.5407583333333331, -0.3375166666666666, -0.22532499999999994, -0.194325, 0.04988333333333335, -0.010308333333333329, -0.03954166666666669, 0.18473333333333328, 0.4230416666666667, 0.7115499999999995, 0.6825312500000001]}, {\"line\": {\"color\": \"grey\"}, \"name\": \"Guatemala\", \"opacity\": 0.1, \"type\": \"scatter\", \"x\": [\"1800-12-31T00:00:00\", \"1810-12-31T00:00:00\", \"1820-12-31T00:00:00\", \"1830-12-31T00:00:00\", \"1840-12-31T00:00:00\", \"1850-12-31T00:00:00\", \"1860-12-31T00:00:00\", \"1870-12-31T00:00:00\", \"1880-12-31T00:00:00\", \"1890-12-31T00:00:00\", \"1900-12-31T00:00:00\", \"1910-12-31T00:00:00\", \"1920-12-31T00:00:00\", \"1930-12-31T00:00:00\", \"1940-12-31T00:00:00\", \"1950-12-31T00:00:00\", \"1960-12-31T00:00:00\", \"1970-12-31T00:00:00\", \"1980-12-31T00:00:00\", \"1990-12-31T00:00:00\", \"2000-12-31T00:00:00\", \"2010-12-31T00:00:00\", \"2020-12-31T00:00:00\"], \"y\": [null, null, null, -0.30033333333333334, -1.1009506172839505, -0.6916166666666669, -0.8480916666666666, -0.5695750000000003, -0.4834083333333334, -0.7659999999999999, -0.44655, -0.7404333333333337, -0.40226666666666655, -0.1578333333333333, -0.16943333333333338, 0.025616666666666687, 0.025158333333333345, -0.08610000000000002, 0.06095833333333334, 0.14391666666666672, 0.42576666666666685, 0.40443333333333314, 0.4672727272727274]}, {\"line\": {\"color\": \"grey\"}, \"name\": \"Guinea\", \"opacity\": 0.1, \"type\": \"scatter\", \"x\": [\"1800-12-31T00:00:00\", \"1810-12-31T00:00:00\", \"1820-12-31T00:00:00\", \"1830-12-31T00:00:00\", \"1840-12-31T00:00:00\", \"1850-12-31T00:00:00\", \"1860-12-31T00:00:00\", \"1870-12-31T00:00:00\", \"1880-12-31T00:00:00\", \"1890-12-31T00:00:00\", \"1900-12-31T00:00:00\", \"1910-12-31T00:00:00\", \"1920-12-31T00:00:00\", \"1930-12-31T00:00:00\", \"1940-12-31T00:00:00\", \"1950-12-31T00:00:00\", \"1960-12-31T00:00:00\", \"1970-12-31T00:00:00\", \"1980-12-31T00:00:00\", \"1990-12-31T00:00:00\", \"2000-12-31T00:00:00\", \"2010-12-31T00:00:00\", \"2020-12-31T00:00:00\"], \"y\": [null, null, null, null, null, -0.6758333333333333, -0.6738309859154928, -0.6380927835051546, -0.7031333333333334, -0.696906779661017, -0.4667583333333336, -0.4861416666666667, -0.20845000000000005, -0.19095833333333329, -0.08659166666666665, -0.009675000000000015, -0.08444166666666668, -0.0035166666666666658, 0.08800833333333334, 0.29226666666666656, 0.41145833333333337, 0.7906416666666668, 0.6143125]}, {\"line\": {\"color\": \"grey\"}, \"name\": \"Guinea-Bissau\", \"opacity\": 0.1, \"type\": \"scatter\", \"x\": [\"1800-12-31T00:00:00\", \"1810-12-31T00:00:00\", \"1820-12-31T00:00:00\", \"1830-12-31T00:00:00\", \"1840-12-31T00:00:00\", \"1850-12-31T00:00:00\", \"1860-12-31T00:00:00\", \"1870-12-31T00:00:00\", \"1880-12-31T00:00:00\", \"1890-12-31T00:00:00\", \"1900-12-31T00:00:00\", \"1910-12-31T00:00:00\", \"1920-12-31T00:00:00\", \"1930-12-31T00:00:00\", \"1940-12-31T00:00:00\", \"1950-12-31T00:00:00\", \"1960-12-31T00:00:00\", \"1970-12-31T00:00:00\", \"1980-12-31T00:00:00\", \"1990-12-31T00:00:00\", \"2000-12-31T00:00:00\", \"2010-12-31T00:00:00\", \"2020-12-31T00:00:00\"], \"y\": [null, null, null, null, null, -0.6242500000000001, -0.6230422535211269, -0.5823402061855669, -0.6331999999999998, -0.627760683760684, -0.2221166666666667, -0.4345249999999997, -0.24469999999999997, -0.16070833333333334, -0.03082500000000003, 0.0027250000000000004, -0.09672499999999998, 0.030183333333333305, 0.06648333333333334, 0.3961666666666666, 0.5523416666666666, 0.7773083333333337, 0.65828125]}, {\"line\": {\"color\": \"grey\"}, \"name\": \"Guyana\", \"opacity\": 0.1, \"type\": \"scatter\", \"x\": [\"1800-12-31T00:00:00\", \"1810-12-31T00:00:00\", \"1820-12-31T00:00:00\", \"1830-12-31T00:00:00\", \"1840-12-31T00:00:00\", \"1850-12-31T00:00:00\", \"1860-12-31T00:00:00\", \"1870-12-31T00:00:00\", \"1880-12-31T00:00:00\", \"1890-12-31T00:00:00\", \"1900-12-31T00:00:00\", \"1910-12-31T00:00:00\", \"1920-12-31T00:00:00\", \"1930-12-31T00:00:00\", \"1940-12-31T00:00:00\", \"1950-12-31T00:00:00\", \"1960-12-31T00:00:00\", \"1970-12-31T00:00:00\", \"1980-12-31T00:00:00\", \"1990-12-31T00:00:00\", \"2000-12-31T00:00:00\", \"2010-12-31T00:00:00\", \"2020-12-31T00:00:00\"], \"y\": [null, null, null, -0.41616923076923085, null, -0.6954347826086961, -0.7710916666666667, -0.6771166666666666, -0.5446333333333331, -0.8236696428571427, -0.6676749999999999, -0.5684833333333332, -0.550075, -0.4645416666666666, -0.1776500000000001, -0.15419166666666667, 0.024175, 0.07296666666666664, -0.09705833333333326, 0.135725, 0.37452500000000005, 0.6486750000000002, 0.58571875]}, {\"line\": {\"color\": \"grey\"}, \"name\": \"Haiti\", \"opacity\": 0.1, \"type\": \"scatter\", \"x\": [\"1800-12-31T00:00:00\", \"1810-12-31T00:00:00\", \"1820-12-31T00:00:00\", \"1830-12-31T00:00:00\", \"1840-12-31T00:00:00\", \"1850-12-31T00:00:00\", \"1860-12-31T00:00:00\", \"1870-12-31T00:00:00\", \"1880-12-31T00:00:00\", \"1890-12-31T00:00:00\", \"1900-12-31T00:00:00\", \"1910-12-31T00:00:00\", \"1920-12-31T00:00:00\", \"1930-12-31T00:00:00\", \"1940-12-31T00:00:00\", \"1950-12-31T00:00:00\", \"1960-12-31T00:00:00\", \"1970-12-31T00:00:00\", \"1980-12-31T00:00:00\", \"1990-12-31T00:00:00\", \"2000-12-31T00:00:00\", \"2010-12-31T00:00:00\", \"2020-12-31T00:00:00\"], \"y\": [null, null, null, -0.10491566265060237, -0.8224933333333334, -0.7259333333333337, -0.6644666666666666, -0.5347250000000001, -0.36654166666666643, -0.6916166666666665, -0.458866666666667, -0.48160833333333347, -0.4506333333333334, -0.23162500000000005, -0.16149999999999995, -0.055874999999999994, -0.022174999999999993, 0.014374999999999987, 0.007833333333333376, 0.2594000000000001, 0.42926666666666674, 0.6432833333333333, 0.476]}, {\"line\": {\"color\": \"grey\"}, \"name\": \"Honduras\", \"opacity\": 0.1, \"type\": \"scatter\", \"x\": [\"1800-12-31T00:00:00\", \"1810-12-31T00:00:00\", \"1820-12-31T00:00:00\", \"1830-12-31T00:00:00\", \"1840-12-31T00:00:00\", \"1850-12-31T00:00:00\", \"1860-12-31T00:00:00\", \"1870-12-31T00:00:00\", \"1880-12-31T00:00:00\", \"1890-12-31T00:00:00\", \"1900-12-31T00:00:00\", \"1910-12-31T00:00:00\", \"1920-12-31T00:00:00\", \"1930-12-31T00:00:00\", \"1940-12-31T00:00:00\", \"1950-12-31T00:00:00\", \"1960-12-31T00:00:00\", \"1970-12-31T00:00:00\", \"1980-12-31T00:00:00\", \"1990-12-31T00:00:00\", \"2000-12-31T00:00:00\", \"2010-12-31T00:00:00\", \"2020-12-31T00:00:00\"], \"y\": [null, null, null, -0.2668194444444445, -1.040918918918919, -0.6958916666666665, -0.8092583333333339, -0.5642499999999997, -0.46264166666666695, -0.7432499999999999, -0.4414999999999999, -0.7276749999999997, -0.36984166666666674, -0.15303333333333333, -0.16838333333333333, -0.013500000000000007, 0.037674999999999986, -0.08462499999999996, 0.04695833333333332, 0.18039166666666667, 0.5631499999999999, 0.46135, 0.40481818181818174]}, {\"line\": {\"color\": \"grey\"}, \"name\": \"Hong Kong\", \"opacity\": 0.1, \"type\": \"scatter\", \"x\": [\"1800-12-31T00:00:00\", \"1810-12-31T00:00:00\", \"1820-12-31T00:00:00\", \"1830-12-31T00:00:00\", \"1840-12-31T00:00:00\", \"1850-12-31T00:00:00\", \"1860-12-31T00:00:00\", \"1870-12-31T00:00:00\", \"1880-12-31T00:00:00\", \"1890-12-31T00:00:00\", \"1900-12-31T00:00:00\", \"1910-12-31T00:00:00\", \"1920-12-31T00:00:00\", \"1930-12-31T00:00:00\", \"1940-12-31T00:00:00\", \"1950-12-31T00:00:00\", \"1960-12-31T00:00:00\", \"1970-12-31T00:00:00\", \"1980-12-31T00:00:00\", \"1990-12-31T00:00:00\", \"2000-12-31T00:00:00\", \"2010-12-31T00:00:00\", \"2020-12-31T00:00:00\"], \"y\": [null, null, null, null, -0.9435833333333333, -0.8406666666666662, -0.6682833333333332, -0.6407000000000002, -0.5043083333333332, -0.8927083333333332, -0.693925, -0.5158583333333334, -0.4758833333333333, -0.31549999999999984, -0.2866, 0.09160833333333333, 0.048500000000000015, -0.044175, -0.004358333333333327, 0.016541666666666652, 0.11393333333333334, 0.3542083333333333, 0.19265624999999997]}, {\"line\": {\"color\": \"grey\"}, \"name\": \"Hungary\", \"opacity\": 0.1, \"type\": \"scatter\", \"x\": [\"1800-12-31T00:00:00\", \"1810-12-31T00:00:00\", \"1820-12-31T00:00:00\", \"1830-12-31T00:00:00\", \"1840-12-31T00:00:00\", \"1850-12-31T00:00:00\", \"1860-12-31T00:00:00\", \"1870-12-31T00:00:00\", \"1880-12-31T00:00:00\", \"1890-12-31T00:00:00\", \"1900-12-31T00:00:00\", \"1910-12-31T00:00:00\", \"1920-12-31T00:00:00\", \"1930-12-31T00:00:00\", \"1940-12-31T00:00:00\", \"1950-12-31T00:00:00\", \"1960-12-31T00:00:00\", \"1970-12-31T00:00:00\", \"1980-12-31T00:00:00\", \"1990-12-31T00:00:00\", \"2000-12-31T00:00:00\", \"2010-12-31T00:00:00\", \"2020-12-31T00:00:00\"], \"y\": [0.046416666666666655, -0.20837499999999995, -0.5174666666666665, -0.18545833333333334, -0.6485083333333332, -0.3860250000000001, -0.5166666666666665, -0.22356666666666666, -0.529575, -0.6683333333333331, -0.46388333333333304, -0.3944583333333336, -0.28747500000000004, -0.07516666666666665, -0.16768333333333327, 0.05671666666666668, 0.059308333333333324, -0.08233333333333324, 0.02301666666666667, 0.20494166666666658, 0.5758333333333333, 0.9570833333333331, 1.2453125]}, {\"line\": {\"color\": \"grey\"}, \"name\": \"Iceland\", \"opacity\": 0.1, \"type\": \"scatter\", \"x\": [\"1800-12-31T00:00:00\", \"1810-12-31T00:00:00\", \"1820-12-31T00:00:00\", \"1830-12-31T00:00:00\", \"1840-12-31T00:00:00\", \"1850-12-31T00:00:00\", \"1860-12-31T00:00:00\", \"1870-12-31T00:00:00\", \"1880-12-31T00:00:00\", \"1890-12-31T00:00:00\", \"1900-12-31T00:00:00\", \"1910-12-31T00:00:00\", \"1920-12-31T00:00:00\", \"1930-12-31T00:00:00\", \"1940-12-31T00:00:00\", \"1950-12-31T00:00:00\", \"1960-12-31T00:00:00\", \"1970-12-31T00:00:00\", \"1980-12-31T00:00:00\", \"1990-12-31T00:00:00\", \"2000-12-31T00:00:00\", \"2010-12-31T00:00:00\", \"2020-12-31T00:00:00\"], \"y\": [-0.39983333333333343, -0.5411833333333332, -0.9936333333333337, -0.1555666666666668, -0.8227166666666665, -0.42437500000000006, -0.47087500000000004, -0.6611333333333335, -0.39012499999999994, -0.7378500000000003, -0.4546083333333335, -0.44923333333333343, -0.44212500000000016, 0.12991666666666674, 0.7135916666666672, 0.42915833333333336, 0.2510916666666667, -0.25719166666666665, 0.0061000000000000255, -0.15365000000000023, 0.24780833333333335, 0.9934250000000002, 0.7730625]}, {\"line\": {\"color\": \"grey\"}, \"name\": \"India\", \"opacity\": 0.1, \"type\": \"scatter\", \"x\": [\"1800-12-31T00:00:00\", \"1810-12-31T00:00:00\", \"1820-12-31T00:00:00\", \"1830-12-31T00:00:00\", \"1840-12-31T00:00:00\", \"1850-12-31T00:00:00\", \"1860-12-31T00:00:00\", \"1870-12-31T00:00:00\", \"1880-12-31T00:00:00\", \"1890-12-31T00:00:00\", \"1900-12-31T00:00:00\", \"1910-12-31T00:00:00\", \"1920-12-31T00:00:00\", \"1930-12-31T00:00:00\", \"1940-12-31T00:00:00\", \"1950-12-31T00:00:00\", \"1960-12-31T00:00:00\", \"1970-12-31T00:00:00\", \"1980-12-31T00:00:00\", \"1990-12-31T00:00:00\", \"2000-12-31T00:00:00\", \"2010-12-31T00:00:00\", \"2020-12-31T00:00:00\"], \"y\": [-0.26225000000000004, -0.03316250000000001, -1.3363052631578944, -0.4744833333333335, -0.9142796610169495, -0.823983333333333, -0.6770416666666669, -0.5329885057471263, -0.4198166666666669, -0.6047666666666668, -0.24953333333333325, -0.3785583333333334, -0.3589916666666666, -0.24016666666666672, -0.29940000000000005, -0.11217499999999997, 0.06818333333333336, -0.09138333333333332, 0.023150000000000014, 0.14662500000000012, 0.2325333333333334, 0.5518666666666667, 0.33759375000000014]}, {\"line\": {\"color\": \"grey\"}, \"name\": \"Indonesia\", \"opacity\": 0.1, \"type\": \"scatter\", \"x\": [\"1800-12-31T00:00:00\", \"1810-12-31T00:00:00\", \"1820-12-31T00:00:00\", \"1830-12-31T00:00:00\", \"1840-12-31T00:00:00\", \"1850-12-31T00:00:00\", \"1860-12-31T00:00:00\", \"1870-12-31T00:00:00\", \"1880-12-31T00:00:00\", \"1890-12-31T00:00:00\", \"1900-12-31T00:00:00\", \"1910-12-31T00:00:00\", \"1920-12-31T00:00:00\", \"1930-12-31T00:00:00\", \"1940-12-31T00:00:00\", \"1950-12-31T00:00:00\", \"1960-12-31T00:00:00\", \"1970-12-31T00:00:00\", \"1980-12-31T00:00:00\", \"1990-12-31T00:00:00\", \"2000-12-31T00:00:00\", \"2010-12-31T00:00:00\", \"2020-12-31T00:00:00\"], \"y\": [null, null, null, -0.3795, -1.1473846153846154, -0.9406428571428572, -0.7287058823529414, -0.6742333333333332, -0.6919666666666665, -0.7180500000000003, -0.6457249999999995, -0.5489499999999999, -0.5372166666666669, -0.4117499999999999, -0.23970833333333333, -0.08145833333333334, 0.01625000000000001, -0.04764166666666672, 0.03142499999999999, 0.1629666666666666, 0.3046833333333334, 0.46082499999999993, 0.3886875000000001]}, {\"line\": {\"color\": \"grey\"}, \"name\": \"Iran\", \"opacity\": 0.1, \"type\": \"scatter\", \"x\": [\"1800-12-31T00:00:00\", \"1810-12-31T00:00:00\", \"1820-12-31T00:00:00\", \"1830-12-31T00:00:00\", \"1840-12-31T00:00:00\", \"1850-12-31T00:00:00\", \"1860-12-31T00:00:00\", \"1870-12-31T00:00:00\", \"1880-12-31T00:00:00\", \"1890-12-31T00:00:00\", \"1900-12-31T00:00:00\", \"1910-12-31T00:00:00\", \"1920-12-31T00:00:00\", \"1930-12-31T00:00:00\", \"1940-12-31T00:00:00\", \"1950-12-31T00:00:00\", \"1960-12-31T00:00:00\", \"1970-12-31T00:00:00\", \"1980-12-31T00:00:00\", \"1990-12-31T00:00:00\", \"2000-12-31T00:00:00\", \"2010-12-31T00:00:00\", \"2020-12-31T00:00:00\"], \"y\": [null, null, null, null, -1.0548510638297877, -0.6642833333333333, -0.5096166666666666, -0.6536250000000002, -0.24419166666666667, -0.39830833333333326, -0.44875833333333326, -0.3778416666666668, -0.4201416666666668, -0.2641416666666667, -0.2579749999999999, -0.0990666666666667, -0.03288333333333334, 0.05615833333333332, -0.023250000000000038, 0.33727499999999994, 0.6143583333333335, 1.444491666666667, 1.35996875]}, {\"line\": {\"color\": \"grey\"}, \"name\": \"Iraq\", \"opacity\": 0.1, \"type\": \"scatter\", \"x\": [\"1800-12-31T00:00:00\", \"1810-12-31T00:00:00\", \"1820-12-31T00:00:00\", \"1830-12-31T00:00:00\", \"1840-12-31T00:00:00\", \"1850-12-31T00:00:00\", \"1860-12-31T00:00:00\", \"1870-12-31T00:00:00\", \"1880-12-31T00:00:00\", \"1890-12-31T00:00:00\", \"1900-12-31T00:00:00\", \"1910-12-31T00:00:00\", \"1920-12-31T00:00:00\", \"1930-12-31T00:00:00\", \"1940-12-31T00:00:00\", \"1950-12-31T00:00:00\", \"1960-12-31T00:00:00\", \"1970-12-31T00:00:00\", \"1980-12-31T00:00:00\", \"1990-12-31T00:00:00\", \"2000-12-31T00:00:00\", \"2010-12-31T00:00:00\", \"2020-12-31T00:00:00\"], \"y\": [null, null, -1.5124666666666664, -0.5586371681415929, -1.1899000000000002, -0.7543499999999999, -0.5983583333333334, -0.7733916666666669, -0.3771083333333333, -0.5033416666666665, -0.6817416666666669, -0.49327499999999996, -0.6116333333333337, -0.24474999999999988, -0.24595833333333333, -0.34543333333333337, -0.07549166666666665, 0.1267666666666666, -0.05119999999999996, 0.017950000000000008, 0.3940166666666666, 1.0658000000000003, 0.9815625000000001]}, {\"line\": {\"color\": \"grey\"}, \"name\": \"Ireland\", \"opacity\": 0.1, \"type\": \"scatter\", \"x\": [\"1800-12-31T00:00:00\", \"1810-12-31T00:00:00\", \"1820-12-31T00:00:00\", \"1830-12-31T00:00:00\", \"1840-12-31T00:00:00\", \"1850-12-31T00:00:00\", \"1860-12-31T00:00:00\", \"1870-12-31T00:00:00\", \"1880-12-31T00:00:00\", \"1890-12-31T00:00:00\", \"1900-12-31T00:00:00\", \"1910-12-31T00:00:00\", \"1920-12-31T00:00:00\", \"1930-12-31T00:00:00\", \"1940-12-31T00:00:00\", \"1950-12-31T00:00:00\", \"1960-12-31T00:00:00\", \"1970-12-31T00:00:00\", \"1980-12-31T00:00:00\", \"1990-12-31T00:00:00\", \"2000-12-31T00:00:00\", \"2010-12-31T00:00:00\", \"2020-12-31T00:00:00\"], \"y\": [-0.3074166666666666, -0.41284166666666666, -0.7990249999999999, -0.12724166666666673, -0.46516666666666673, -0.2935833333333332, -0.3302083333333334, -0.13695000000000002, -0.3042416666666667, -0.5812583333333337, -0.2347833333333332, -0.38750000000000007, -0.23119166666666663, -0.06954166666666665, 0.19872500000000007, 0.2534499999999999, 0.11725833333333328, -0.16434166666666664, 0.047041666666666725, 0.12831666666666666, 0.5207583333333332, 0.7277000000000001, 0.5110312500000002]}, {\"line\": {\"color\": \"grey\"}, \"name\": \"Israel\", \"opacity\": 0.1, \"type\": \"scatter\", \"x\": [\"1800-12-31T00:00:00\", \"1810-12-31T00:00:00\", \"1820-12-31T00:00:00\", \"1830-12-31T00:00:00\", \"1840-12-31T00:00:00\", \"1850-12-31T00:00:00\", \"1860-12-31T00:00:00\", \"1870-12-31T00:00:00\", \"1880-12-31T00:00:00\", \"1890-12-31T00:00:00\", \"1900-12-31T00:00:00\", \"1910-12-31T00:00:00\", \"1920-12-31T00:00:00\", \"1930-12-31T00:00:00\", \"1940-12-31T00:00:00\", \"1950-12-31T00:00:00\", \"1960-12-31T00:00:00\", \"1970-12-31T00:00:00\", \"1980-12-31T00:00:00\", \"1990-12-31T00:00:00\", \"2000-12-31T00:00:00\", \"2010-12-31T00:00:00\", \"2020-12-31T00:00:00\"], \"y\": [null, -1.7188518518518519, -1.376731182795699, -0.5648, -1.174, -0.6884249999999998, -0.6077499999999997, -0.6454166666666669, -0.4957333333333334, -0.5648916666666669, -0.6071749999999998, -0.5802499999999998, -0.6214749999999999, -0.1611416666666666, -0.006033333333333333, -0.2887166666666667, 0.06758333333333326, 0.04089999999999998, -0.10845000000000003, -0.13147500000000006, 0.21682500000000005, 0.8542083333333336, 0.7886562500000001]}, {\"line\": {\"color\": \"grey\"}, \"name\": \"Italy\", \"opacity\": 0.1, \"type\": \"scatter\", \"x\": [\"1800-12-31T00:00:00\", \"1810-12-31T00:00:00\", \"1820-12-31T00:00:00\", \"1830-12-31T00:00:00\", \"1840-12-31T00:00:00\", \"1850-12-31T00:00:00\", \"1860-12-31T00:00:00\", \"1870-12-31T00:00:00\", \"1880-12-31T00:00:00\", \"1890-12-31T00:00:00\", \"1900-12-31T00:00:00\", \"1910-12-31T00:00:00\", \"1920-12-31T00:00:00\", \"1930-12-31T00:00:00\", \"1940-12-31T00:00:00\", \"1950-12-31T00:00:00\", \"1960-12-31T00:00:00\", \"1970-12-31T00:00:00\", \"1980-12-31T00:00:00\", \"1990-12-31T00:00:00\", \"2000-12-31T00:00:00\", \"2010-12-31T00:00:00\", \"2020-12-31T00:00:00\"], \"y\": [0.31741666666666657, -0.2096166666666667, -0.6327916666666663, -0.2266166666666666, -0.5720666666666665, -0.32467500000000005, -0.6100166666666667, -0.14375, -0.3446416666666668, -0.5663999999999999, -0.2952666666666667, -0.4493749999999999, -0.27105833333333346, 0.09554999999999997, -0.11002500000000003, 0.3159583333333334, 0.10742500000000003, 0.029833333333333316, -0.13726666666666668, 0.333775, 0.7285499999999999, 0.9418333333333334, 1.1717499999999998]}, {\"line\": {\"color\": \"grey\"}, \"name\": \"Jamaica\", \"opacity\": 0.1, \"type\": \"scatter\", \"x\": [\"1800-12-31T00:00:00\", \"1810-12-31T00:00:00\", \"1820-12-31T00:00:00\", \"1830-12-31T00:00:00\", \"1840-12-31T00:00:00\", \"1850-12-31T00:00:00\", \"1860-12-31T00:00:00\", \"1870-12-31T00:00:00\", \"1880-12-31T00:00:00\", \"1890-12-31T00:00:00\", \"1900-12-31T00:00:00\", \"1910-12-31T00:00:00\", \"1920-12-31T00:00:00\", \"1930-12-31T00:00:00\", \"1940-12-31T00:00:00\", \"1950-12-31T00:00:00\", \"1960-12-31T00:00:00\", \"1970-12-31T00:00:00\", \"1980-12-31T00:00:00\", \"1990-12-31T00:00:00\", \"2000-12-31T00:00:00\", \"2010-12-31T00:00:00\", \"2020-12-31T00:00:00\"], \"y\": [null, null, null, -0.07816867469879518, -0.829010989010989, -0.6758333333333333, -0.6778916666666669, -0.5038166666666669, -0.31455833333333344, -0.6691499999999999, -0.4828999999999999, -0.49466666666666664, -0.3649833333333333, -0.10958333333333334, -0.18279166666666677, -0.03994999999999998, -0.021491666666666683, -0.03511666666666668, 0.05663333333333334, 0.2577916666666666, 0.4650833333333331, 0.5559499999999999, 0.539878787878788]}, {\"line\": {\"color\": \"grey\"}, \"name\": \"Japan\", \"opacity\": 0.1, \"type\": \"scatter\", \"x\": [\"1800-12-31T00:00:00\", \"1810-12-31T00:00:00\", \"1820-12-31T00:00:00\", \"1830-12-31T00:00:00\", \"1840-12-31T00:00:00\", \"1850-12-31T00:00:00\", \"1860-12-31T00:00:00\", \"1870-12-31T00:00:00\", \"1880-12-31T00:00:00\", \"1890-12-31T00:00:00\", \"1900-12-31T00:00:00\", \"1910-12-31T00:00:00\", \"1920-12-31T00:00:00\", \"1930-12-31T00:00:00\", \"1940-12-31T00:00:00\", \"1950-12-31T00:00:00\", \"1960-12-31T00:00:00\", \"1970-12-31T00:00:00\", \"1980-12-31T00:00:00\", \"1990-12-31T00:00:00\", \"2000-12-31T00:00:00\", \"2010-12-31T00:00:00\", \"2020-12-31T00:00:00\"], \"y\": [null, null, null, null, null, -0.804708333333333, -0.8083416666666667, -0.7525749999999998, -0.534725, -0.7132416666666671, -0.5851249999999998, -0.7676083333333337, -0.38409999999999994, -0.44184999999999985, -0.3813666666666669, -0.26129166666666676, 0.06650833333333336, -0.032991666666666704, -0.033508333333333314, 0.019250000000000086, 0.44799999999999984, 0.6217833333333332, 0.4502812499999999]}, {\"line\": {\"color\": \"grey\"}, \"name\": \"Jordan\", \"opacity\": 0.1, \"type\": \"scatter\", \"x\": [\"1800-12-31T00:00:00\", \"1810-12-31T00:00:00\", \"1820-12-31T00:00:00\", \"1830-12-31T00:00:00\", \"1840-12-31T00:00:00\", \"1850-12-31T00:00:00\", \"1860-12-31T00:00:00\", \"1870-12-31T00:00:00\", \"1880-12-31T00:00:00\", \"1890-12-31T00:00:00\", \"1900-12-31T00:00:00\", \"1910-12-31T00:00:00\", \"1920-12-31T00:00:00\", \"1930-12-31T00:00:00\", \"1940-12-31T00:00:00\", \"1950-12-31T00:00:00\", \"1960-12-31T00:00:00\", \"1970-12-31T00:00:00\", \"1980-12-31T00:00:00\", \"1990-12-31T00:00:00\", \"2000-12-31T00:00:00\", \"2010-12-31T00:00:00\", \"2020-12-31T00:00:00\"], \"y\": [null, -1.7698518518518516, -1.4655833333333335, -0.5678916666666667, -1.1841833333333334, -0.7140083333333336, -0.6114666666666663, -0.6771166666666667, -0.4911333333333335, -0.5546999999999999, -0.6337083333333332, -0.5584083333333333, -0.6426749999999999, -0.1775916666666668, -0.05202499999999998, -0.31045000000000006, 0.05700000000000003, 0.06687500000000005, -0.12383333333333339, -0.11881666666666665, 0.2411666666666667, 0.8565083333333334, 0.8340625]}, {\"line\": {\"color\": \"grey\"}, \"name\": \"Kazakhstan\", \"opacity\": 0.1, \"type\": \"scatter\", \"x\": [\"1800-12-31T00:00:00\", \"1810-12-31T00:00:00\", \"1820-12-31T00:00:00\", \"1830-12-31T00:00:00\", \"1840-12-31T00:00:00\", \"1850-12-31T00:00:00\", \"1860-12-31T00:00:00\", \"1870-12-31T00:00:00\", \"1880-12-31T00:00:00\", \"1890-12-31T00:00:00\", \"1900-12-31T00:00:00\", \"1910-12-31T00:00:00\", \"1920-12-31T00:00:00\", \"1930-12-31T00:00:00\", \"1940-12-31T00:00:00\", \"1950-12-31T00:00:00\", \"1960-12-31T00:00:00\", \"1970-12-31T00:00:00\", \"1980-12-31T00:00:00\", \"1990-12-31T00:00:00\", \"2000-12-31T00:00:00\", \"2010-12-31T00:00:00\", \"2020-12-31T00:00:00\"], \"y\": [null, null, -1.4209891304347826, -0.4111833333333334, -1.2024666666666666, -0.7248416666666667, -0.5987000000000003, -0.6279916666666667, -0.35445833333333326, -0.7429583333333336, -0.8610916666666664, -0.6771916666666666, -0.39985833333333337, -0.3099, -0.4325000000000003, -0.35729999999999984, -0.458475, 0.2391916666666666, 0.2193083333333334, 0.6896749999999998, 0.7256749999999996, 1.403391666666667, 0.7308749999999999]}, {\"line\": {\"color\": \"grey\"}, \"name\": \"Kenya\", \"opacity\": 0.1, \"type\": \"scatter\", \"x\": [\"1800-12-31T00:00:00\", \"1810-12-31T00:00:00\", \"1820-12-31T00:00:00\", \"1830-12-31T00:00:00\", \"1840-12-31T00:00:00\", \"1850-12-31T00:00:00\", \"1860-12-31T00:00:00\", \"1870-12-31T00:00:00\", \"1880-12-31T00:00:00\", \"1890-12-31T00:00:00\", \"1900-12-31T00:00:00\", \"1910-12-31T00:00:00\", \"1920-12-31T00:00:00\", \"1930-12-31T00:00:00\", \"1940-12-31T00:00:00\", \"1950-12-31T00:00:00\", \"1960-12-31T00:00:00\", \"1970-12-31T00:00:00\", \"1980-12-31T00:00:00\", \"1990-12-31T00:00:00\", \"2000-12-31T00:00:00\", \"2010-12-31T00:00:00\", \"2020-12-31T00:00:00\"], \"y\": [null, null, null, null, null, -0.7870909090909092, -0.4869, -0.7001666666666666, -0.35970909090909087, -0.5931596638655462, -0.26850833333333346, -0.36350833333333327, -0.28365833333333335, -0.3096666666666668, -0.008991666666666656, 0.00676666666666668, 0.0051416666666666555, -0.11496666666666668, 0.10983333333333332, 0.26676666666666676, 0.34583333333333327, 0.6927083333333334, 0.7804999999999999]}, {\"line\": {\"color\": \"grey\"}, \"name\": \"Kiribati\", \"opacity\": 0.1, \"type\": \"scatter\", \"x\": [\"1800-12-31T00:00:00\", \"1810-12-31T00:00:00\", \"1820-12-31T00:00:00\", \"1830-12-31T00:00:00\", \"1840-12-31T00:00:00\", \"1850-12-31T00:00:00\", \"1860-12-31T00:00:00\", \"1870-12-31T00:00:00\", \"1880-12-31T00:00:00\", \"1890-12-31T00:00:00\", \"1900-12-31T00:00:00\", \"1910-12-31T00:00:00\", \"1920-12-31T00:00:00\", \"1930-12-31T00:00:00\", \"1940-12-31T00:00:00\", \"1950-12-31T00:00:00\", \"1960-12-31T00:00:00\", \"1970-12-31T00:00:00\", \"1980-12-31T00:00:00\", \"1990-12-31T00:00:00\", \"2000-12-31T00:00:00\", \"2010-12-31T00:00:00\", \"2020-12-31T00:00:00\"], \"y\": [null, null, null, null, null, null, null, null, null, -0.7461263157894739, -0.5326416666666668, -0.5403833333333333, -0.4712833333333333, -0.19012500000000002, -0.10752499999999995, -0.025058333333333325, -0.02356666666666666, 0.04008333333333335, -0.016508333333333243, 0.25155833333333333, 0.48241666666666655, 0.7516916666666663, 0.52034375]}, {\"line\": {\"color\": \"grey\"}, \"name\": \"Kuwait\", \"opacity\": 0.1, \"type\": \"scatter\", \"x\": [\"1800-12-31T00:00:00\", \"1810-12-31T00:00:00\", \"1820-12-31T00:00:00\", \"1830-12-31T00:00:00\", \"1840-12-31T00:00:00\", \"1850-12-31T00:00:00\", \"1860-12-31T00:00:00\", \"1870-12-31T00:00:00\", \"1880-12-31T00:00:00\", \"1890-12-31T00:00:00\", \"1900-12-31T00:00:00\", \"1910-12-31T00:00:00\", \"1920-12-31T00:00:00\", \"1930-12-31T00:00:00\", \"1940-12-31T00:00:00\", \"1950-12-31T00:00:00\", \"1960-12-31T00:00:00\", \"1970-12-31T00:00:00\", \"1980-12-31T00:00:00\", \"1990-12-31T00:00:00\", \"2000-12-31T00:00:00\", \"2010-12-31T00:00:00\", \"2020-12-31T00:00:00\"], \"y\": [null, null, null, null, -1.1308461538461538, -0.7794563106796115, -0.5915250000000002, -0.7239000000000001, -0.36990000000000006, -0.3877249999999999, -0.4918749999999999, -0.49831666666666663, -0.5215833333333335, -0.23801666666666663, -0.3163583333333334, -0.23149166666666668, -0.09314999999999998, 0.10914166666666665, -0.01600833333333338, 0.09523333333333334, 0.5013916666666666, 1.1827083333333328, 1.1048125]}, {\"line\": {\"color\": \"grey\"}, \"name\": \"Kyrgyzstan\", \"opacity\": 0.1, \"type\": \"scatter\", \"x\": [\"1800-12-31T00:00:00\", \"1810-12-31T00:00:00\", \"1820-12-31T00:00:00\", \"1830-12-31T00:00:00\", \"1840-12-31T00:00:00\", \"1850-12-31T00:00:00\", \"1860-12-31T00:00:00\", \"1870-12-31T00:00:00\", \"1880-12-31T00:00:00\", \"1890-12-31T00:00:00\", \"1900-12-31T00:00:00\", \"1910-12-31T00:00:00\", \"1920-12-31T00:00:00\", \"1930-12-31T00:00:00\", \"1940-12-31T00:00:00\", \"1950-12-31T00:00:00\", \"1960-12-31T00:00:00\", \"1970-12-31T00:00:00\", \"1980-12-31T00:00:00\", \"1990-12-31T00:00:00\", \"2000-12-31T00:00:00\", \"2010-12-31T00:00:00\", \"2020-12-31T00:00:00\"], \"y\": [null, null, null, null, -1.0934166666666667, -0.7604916666666668, -0.6304416666666666, -0.6400916666666666, -0.28760833333333313, -0.7188749999999999, -0.6281750000000001, -0.7926083333333332, -0.2251916666666667, -0.45177499999999987, -0.47718333333333385, -0.020691666666666605, -0.25904999999999995, 0.09016666666666656, 0.16888333333333333, 0.4644166666666668, 0.5994250000000001, 1.2131083333333335, 0.6949062500000001]}, {\"line\": {\"color\": \"grey\"}, \"name\": \"Laos\", \"opacity\": 0.1, \"type\": \"scatter\", \"x\": [\"1800-12-31T00:00:00\", \"1810-12-31T00:00:00\", \"1820-12-31T00:00:00\", \"1830-12-31T00:00:00\", \"1840-12-31T00:00:00\", \"1850-12-31T00:00:00\", \"1860-12-31T00:00:00\", \"1870-12-31T00:00:00\", \"1880-12-31T00:00:00\", \"1890-12-31T00:00:00\", \"1900-12-31T00:00:00\", \"1910-12-31T00:00:00\", \"1920-12-31T00:00:00\", \"1930-12-31T00:00:00\", \"1940-12-31T00:00:00\", \"1950-12-31T00:00:00\", \"1960-12-31T00:00:00\", \"1970-12-31T00:00:00\", \"1980-12-31T00:00:00\", \"1990-12-31T00:00:00\", \"2000-12-31T00:00:00\", \"2010-12-31T00:00:00\", \"2020-12-31T00:00:00\"], \"y\": [null, null, -1.4695789473684204, -0.6421276595744682, -0.9388765432098765, -0.8379666666666669, -0.7120593220338985, -0.7381981981981979, -0.5561833333333335, -0.6843583333333338, -0.6065500000000001, -0.4462666666666665, -0.41214166666666663, -0.33482500000000004, -0.1986749999999999, 0.07158333333333329, 0.04613333333333333, 0.021666666666666647, -0.06778333333333333, 0.03060833333333331, 0.12423333333333336, 0.3469750000000001, 0.4956875]}, {\"line\": {\"color\": \"grey\"}, \"name\": \"Latvia\", \"opacity\": 0.1, \"type\": \"scatter\", \"x\": [\"1800-12-31T00:00:00\", \"1810-12-31T00:00:00\", \"1820-12-31T00:00:00\", \"1830-12-31T00:00:00\", \"1840-12-31T00:00:00\", \"1850-12-31T00:00:00\", \"1860-12-31T00:00:00\", \"1870-12-31T00:00:00\", \"1880-12-31T00:00:00\", \"1890-12-31T00:00:00\", \"1900-12-31T00:00:00\", \"1910-12-31T00:00:00\", \"1920-12-31T00:00:00\", \"1930-12-31T00:00:00\", \"1940-12-31T00:00:00\", \"1950-12-31T00:00:00\", \"1960-12-31T00:00:00\", \"1970-12-31T00:00:00\", \"1980-12-31T00:00:00\", \"1990-12-31T00:00:00\", \"2000-12-31T00:00:00\", \"2010-12-31T00:00:00\", \"2020-12-31T00:00:00\"], \"y\": [-0.6770833333333334, -0.5939416666666669, -0.6457416666666662, -0.021874999999999853, -0.5920833333333335, -0.5332166666666667, -0.3475083333333332, -0.5685916666666667, -0.5846333333333337, -0.3727666666666664, -0.2834583333333336, -0.21295000000000008, -0.08925833333333336, -0.16389166666666669, 0.40925833333333356, -0.027725000000000118, -0.032525, -0.21618333333333337, 0.24865833333333337, 0.4900500000000001, 0.9240916666666669, 1.2327000000000006, 1.1541250000000003]}, {\"line\": {\"color\": \"grey\"}, \"name\": \"Lebanon\", \"opacity\": 0.1, \"type\": \"scatter\", \"x\": [\"1800-12-31T00:00:00\", \"1810-12-31T00:00:00\", \"1820-12-31T00:00:00\", \"1830-12-31T00:00:00\", \"1840-12-31T00:00:00\", \"1850-12-31T00:00:00\", \"1860-12-31T00:00:00\", \"1870-12-31T00:00:00\", \"1880-12-31T00:00:00\", \"1890-12-31T00:00:00\", \"1900-12-31T00:00:00\", \"1910-12-31T00:00:00\", \"1920-12-31T00:00:00\", \"1930-12-31T00:00:00\", \"1940-12-31T00:00:00\", \"1950-12-31T00:00:00\", \"1960-12-31T00:00:00\", \"1970-12-31T00:00:00\", \"1980-12-31T00:00:00\", \"1990-12-31T00:00:00\", \"2000-12-31T00:00:00\", \"2010-12-31T00:00:00\", \"2020-12-31T00:00:00\"], \"y\": [null, -1.6615185185185184, -1.2890666666666661, -0.5587583333333334, -1.191016666666666, -0.6571750000000001, -0.5664583333333333, -0.6817083333333332, -0.4354666666666665, -0.4950833333333335, -0.6212916666666666, -0.5687916666666666, -0.6173583333333336, -0.11988333333333337, -0.020808333333333356, -0.21135, 0.05617499999999998, 0.08024166666666668, -0.1364, -0.07474166666666668, 0.24736666666666668, 0.8458583333333336, 0.7467187499999999]}, {\"line\": {\"color\": \"grey\"}, \"name\": \"Lesotho\", \"opacity\": 0.1, \"type\": \"scatter\", \"x\": [\"1800-12-31T00:00:00\", \"1810-12-31T00:00:00\", \"1820-12-31T00:00:00\", \"1830-12-31T00:00:00\", \"1840-12-31T00:00:00\", \"1850-12-31T00:00:00\", \"1860-12-31T00:00:00\", \"1870-12-31T00:00:00\", \"1880-12-31T00:00:00\", \"1890-12-31T00:00:00\", \"1900-12-31T00:00:00\", \"1910-12-31T00:00:00\", \"1920-12-31T00:00:00\", \"1930-12-31T00:00:00\", \"1940-12-31T00:00:00\", \"1950-12-31T00:00:00\", \"1960-12-31T00:00:00\", \"1970-12-31T00:00:00\", \"1980-12-31T00:00:00\", \"1990-12-31T00:00:00\", \"2000-12-31T00:00:00\", \"2010-12-31T00:00:00\", \"2020-12-31T00:00:00\"], \"y\": [null, null, null, null, null, null, -0.7535869565217392, -0.5190083333333334, -0.5572347826086959, -0.47116666666666696, -0.45443333333333347, -0.6578750000000001, -0.353225, -0.2470583333333333, -0.0921416666666667, 0.07845833333333335, -0.1793666666666667, 0.15961666666666652, 0.019766666666666703, 0.4041166666666666, 0.4686916666666666, 0.6040583333333334, 0.49968750000000006]}, {\"line\": {\"color\": \"grey\"}, \"name\": \"Liberia\", \"opacity\": 0.1, \"type\": \"scatter\", \"x\": [\"1800-12-31T00:00:00\", \"1810-12-31T00:00:00\", \"1820-12-31T00:00:00\", \"1830-12-31T00:00:00\", \"1840-12-31T00:00:00\", \"1850-12-31T00:00:00\", \"1860-12-31T00:00:00\", \"1870-12-31T00:00:00\", \"1880-12-31T00:00:00\", \"1890-12-31T00:00:00\", \"1900-12-31T00:00:00\", \"1910-12-31T00:00:00\", \"1920-12-31T00:00:00\", \"1930-12-31T00:00:00\", \"1940-12-31T00:00:00\", \"1950-12-31T00:00:00\", \"1960-12-31T00:00:00\", \"1970-12-31T00:00:00\", \"1980-12-31T00:00:00\", \"1990-12-31T00:00:00\", \"2000-12-31T00:00:00\", \"2010-12-31T00:00:00\", \"2020-12-31T00:00:00\"], \"y\": [null, null, null, null, null, -0.69875, -0.6568720930232559, -0.6528556701030928, -0.6902365591397849, -0.718203539823009, -0.5991499999999996, -0.49418333333333336, -0.18400833333333327, -0.17768333333333317, -0.05867499999999997, -0.004141666666666664, -0.07464166666666666, 0.011350000000000002, 0.06325000000000001, 0.28960000000000014, 0.3991083333333332, 0.7939750000000004, 0.60928125]}, {\"line\": {\"color\": \"grey\"}, \"name\": \"Libya\", \"opacity\": 0.1, \"type\": \"scatter\", \"x\": [\"1800-12-31T00:00:00\", \"1810-12-31T00:00:00\", \"1820-12-31T00:00:00\", \"1830-12-31T00:00:00\", \"1840-12-31T00:00:00\", \"1850-12-31T00:00:00\", \"1860-12-31T00:00:00\", \"1870-12-31T00:00:00\", \"1880-12-31T00:00:00\", \"1890-12-31T00:00:00\", \"1900-12-31T00:00:00\", \"1910-12-31T00:00:00\", \"1920-12-31T00:00:00\", \"1930-12-31T00:00:00\", \"1940-12-31T00:00:00\", \"1950-12-31T00:00:00\", \"1960-12-31T00:00:00\", \"1970-12-31T00:00:00\", \"1980-12-31T00:00:00\", \"1990-12-31T00:00:00\", \"2000-12-31T00:00:00\", \"2010-12-31T00:00:00\", \"2020-12-31T00:00:00\"], \"y\": [0.06391666666666666, -0.35556302521008404, -1.115275, -0.4233166666666668, -0.8391583333333335, -0.4920166666666667, -0.5265000000000001, -0.35224999999999995, -0.35331666666666695, -0.6481833333333332, -0.35164166666666663, -0.5197999999999999, -0.2736916666666665, -0.04387500000000003, 0.16525833333333334, -0.028199999999999954, 0.1099916666666667, -0.02665833333333332, -0.08334999999999995, 0.2101333333333333, 0.5234083333333334, 1.021266666666667, 0.7849999999999999]}, {\"line\": {\"color\": \"grey\"}, \"name\": \"Liechtenstein\", \"opacity\": 0.1, \"type\": \"scatter\", \"x\": [\"1800-12-31T00:00:00\", \"1810-12-31T00:00:00\", \"1820-12-31T00:00:00\", \"1830-12-31T00:00:00\", \"1840-12-31T00:00:00\", \"1850-12-31T00:00:00\", \"1860-12-31T00:00:00\", \"1870-12-31T00:00:00\", \"1880-12-31T00:00:00\", \"1890-12-31T00:00:00\", \"1900-12-31T00:00:00\", \"1910-12-31T00:00:00\", \"1920-12-31T00:00:00\", \"1930-12-31T00:00:00\", \"1940-12-31T00:00:00\", \"1950-12-31T00:00:00\", \"1960-12-31T00:00:00\", \"1970-12-31T00:00:00\", \"1980-12-31T00:00:00\", \"1990-12-31T00:00:00\", \"2000-12-31T00:00:00\", \"2010-12-31T00:00:00\", \"2020-12-31T00:00:00\"], \"y\": [0.26225000000000004, -0.17464999999999994, -0.6459916666666667, -0.172825, -0.45625833333333343, -0.3824083333333332, -0.6770333333333336, -0.09410833333333336, -0.36588333333333334, -0.6336416666666665, -0.31041666666666656, -0.43192500000000006, -0.2036083333333334, -0.021074999999999986, -0.21991666666666665, 0.268375, 0.03711666666666669, -0.09907500000000001, 0.06197500000000001, 0.43069166666666664, 0.840166666666667, 0.9757500000000001, 1.2165312500000003]}, {\"line\": {\"color\": \"grey\"}, \"name\": \"Lithuania\", \"opacity\": 0.1, \"type\": \"scatter\", \"x\": [\"1800-12-31T00:00:00\", \"1810-12-31T00:00:00\", \"1820-12-31T00:00:00\", \"1830-12-31T00:00:00\", \"1840-12-31T00:00:00\", \"1850-12-31T00:00:00\", \"1860-12-31T00:00:00\", \"1870-12-31T00:00:00\", \"1880-12-31T00:00:00\", \"1890-12-31T00:00:00\", \"1900-12-31T00:00:00\", \"1910-12-31T00:00:00\", \"1920-12-31T00:00:00\", \"1930-12-31T00:00:00\", \"1940-12-31T00:00:00\", \"1950-12-31T00:00:00\", \"1960-12-31T00:00:00\", \"1970-12-31T00:00:00\", \"1980-12-31T00:00:00\", \"1990-12-31T00:00:00\", \"2000-12-31T00:00:00\", \"2010-12-31T00:00:00\", \"2020-12-31T00:00:00\"], \"y\": [-0.60325, -0.4319416666666666, -0.6378083333333329, -0.04852499999999998, -0.5764999999999999, -0.5105083333333333, -0.3530083333333334, -0.5447750000000001, -0.6103999999999998, -0.44722499999999993, -0.2547916666666667, -0.2822916666666667, -0.04629999999999998, -0.24969999999999995, 0.2687999999999999, -0.024291666666666614, 0.005508333333333282, -0.2133166666666666, 0.2077416666666666, 0.5021583333333334, 0.8939749999999996, 1.2036416666666663, 1.10828125]}, {\"line\": {\"color\": \"grey\"}, \"name\": \"Luxembourg\", \"opacity\": 0.1, \"type\": \"scatter\", \"x\": [\"1800-12-31T00:00:00\", \"1810-12-31T00:00:00\", \"1820-12-31T00:00:00\", \"1830-12-31T00:00:00\", \"1840-12-31T00:00:00\", \"1850-12-31T00:00:00\", \"1860-12-31T00:00:00\", \"1870-12-31T00:00:00\", \"1880-12-31T00:00:00\", \"1890-12-31T00:00:00\", \"1900-12-31T00:00:00\", \"1910-12-31T00:00:00\", \"1920-12-31T00:00:00\", \"1930-12-31T00:00:00\", \"1940-12-31T00:00:00\", \"1950-12-31T00:00:00\", \"1960-12-31T00:00:00\", \"1970-12-31T00:00:00\", \"1980-12-31T00:00:00\", \"1990-12-31T00:00:00\", \"2000-12-31T00:00:00\", \"2010-12-31T00:00:00\", \"2020-12-31T00:00:00\"], \"y\": [-0.08291666666666662, -0.47143333333333337, -0.562375, -0.16801666666666656, -0.3388083333333334, -0.42579999999999996, -0.5365333333333333, -0.13691666666666666, -0.3560249999999998, -0.7041416666666666, -0.29741666666666694, -0.41391666666666677, -0.14173333333333327, -0.045950000000000005, -0.03921666666666669, 0.2186749999999999, 0.0862, -0.16708333333333325, 0.08081666666666668, 0.34025000000000005, 0.7719583333333335, 1.007075, 0.9395937499999999]}, {\"line\": {\"color\": \"grey\"}, \"name\": \"Macao\", \"opacity\": 0.1, \"type\": \"scatter\", \"x\": [\"1800-12-31T00:00:00\", \"1810-12-31T00:00:00\", \"1820-12-31T00:00:00\", \"1830-12-31T00:00:00\", \"1840-12-31T00:00:00\", \"1850-12-31T00:00:00\", \"1860-12-31T00:00:00\", \"1870-12-31T00:00:00\", \"1880-12-31T00:00:00\", \"1890-12-31T00:00:00\", \"1900-12-31T00:00:00\", \"1910-12-31T00:00:00\", \"1920-12-31T00:00:00\", \"1930-12-31T00:00:00\", \"1940-12-31T00:00:00\", \"1950-12-31T00:00:00\", \"1960-12-31T00:00:00\", \"1970-12-31T00:00:00\", \"1980-12-31T00:00:00\", \"1990-12-31T00:00:00\", \"2000-12-31T00:00:00\", \"2010-12-31T00:00:00\", \"2020-12-31T00:00:00\"], \"y\": [null, null, null, null, -0.9322500000000001, -0.835908333333333, -0.6679499999999999, -0.6369249999999996, -0.49790000000000006, -0.8832416666666669, -0.6934499999999997, -0.4953000000000002, -0.4626999999999999, -0.28795000000000004, -0.2777000000000001, 0.11802500000000005, 0.043225000000000006, -0.04581666666666664, 0.0026083333333333614, 0.02404166666666665, 0.10231666666666667, 0.3392166666666668, 0.18028125000000003]}, {\"line\": {\"color\": \"grey\"}, \"name\": \"Macedonia Republic of\", \"opacity\": 0.1, \"type\": \"scatter\", \"x\": [\"1800-12-31T00:00:00\", \"1810-12-31T00:00:00\", \"1820-12-31T00:00:00\", \"1830-12-31T00:00:00\", \"1840-12-31T00:00:00\", \"1850-12-31T00:00:00\", \"1860-12-31T00:00:00\", \"1870-12-31T00:00:00\", \"1880-12-31T00:00:00\", \"1890-12-31T00:00:00\", \"1900-12-31T00:00:00\", \"1910-12-31T00:00:00\", \"1920-12-31T00:00:00\", \"1930-12-31T00:00:00\", \"1940-12-31T00:00:00\", \"1950-12-31T00:00:00\", \"1960-12-31T00:00:00\", \"1970-12-31T00:00:00\", \"1980-12-31T00:00:00\", \"1990-12-31T00:00:00\", \"2000-12-31T00:00:00\", \"2010-12-31T00:00:00\", \"2020-12-31T00:00:00\"], \"y\": [0.1549166666666667, -0.19945833333333343, -0.7542583333333334, -0.3427833333333332, -0.8427916666666663, -0.38091666666666674, -0.4452666666666666, -0.2685333333333333, -0.40891666666666665, -0.5900916666666663, -0.3696499999999997, -0.35155, -0.21805833333333322, 0.06706666666666665, -0.0636833333333333, 0.02676666666666668, 0.13937499999999997, 0.08975833333333337, -0.22913333333333336, 0.06372499999999998, 0.37042499999999995, 0.7935083333333337, 1.001625]}, {\"line\": {\"color\": \"grey\"}, \"name\": \"Madagascar\", \"opacity\": 0.1, \"type\": \"scatter\", \"x\": [\"1800-12-31T00:00:00\", \"1810-12-31T00:00:00\", \"1820-12-31T00:00:00\", \"1830-12-31T00:00:00\", \"1840-12-31T00:00:00\", \"1850-12-31T00:00:00\", \"1860-12-31T00:00:00\", \"1870-12-31T00:00:00\", \"1880-12-31T00:00:00\", \"1890-12-31T00:00:00\", \"1900-12-31T00:00:00\", \"1910-12-31T00:00:00\", \"1920-12-31T00:00:00\", \"1930-12-31T00:00:00\", \"1940-12-31T00:00:00\", \"1950-12-31T00:00:00\", \"1960-12-31T00:00:00\", \"1970-12-31T00:00:00\", \"1980-12-31T00:00:00\", \"1990-12-31T00:00:00\", \"2000-12-31T00:00:00\", \"2010-12-31T00:00:00\", \"2020-12-31T00:00:00\"], \"y\": [null, 0.29035294117647054, null, null, null, -0.8243636363636362, -0.6612526315789473, -0.6493333333333334, -0.3971636363636363, -0.6521923076923077, -0.4371499999999999, -0.33939999999999987, -0.3672249999999997, -0.29858333333333326, -0.08605000000000004, -0.08826666666666666, -0.0649, 0.03280833333333334, 0.03209999999999998, 0.18254166666666657, 0.5865666666666667, 0.7490833333333331, 0.6625625]}, {\"line\": {\"color\": \"grey\"}, \"name\": \"Malawi\", \"opacity\": 0.1, \"type\": \"scatter\", \"x\": [\"1800-12-31T00:00:00\", \"1810-12-31T00:00:00\", \"1820-12-31T00:00:00\", \"1830-12-31T00:00:00\", \"1840-12-31T00:00:00\", \"1850-12-31T00:00:00\", \"1860-12-31T00:00:00\", \"1870-12-31T00:00:00\", \"1880-12-31T00:00:00\", \"1890-12-31T00:00:00\", \"1900-12-31T00:00:00\", \"1910-12-31T00:00:00\", \"1920-12-31T00:00:00\", \"1930-12-31T00:00:00\", \"1940-12-31T00:00:00\", \"1950-12-31T00:00:00\", \"1960-12-31T00:00:00\", \"1970-12-31T00:00:00\", \"1980-12-31T00:00:00\", \"1990-12-31T00:00:00\", \"2000-12-31T00:00:00\", \"2010-12-31T00:00:00\", \"2020-12-31T00:00:00\"], \"y\": [null, null, null, null, null, -0.7972727272727272, -0.49799999999999994, -0.6756666666666667, -0.3852727272727272, -0.62116, -0.3126249999999998, -0.3707416666666667, -0.17189166666666672, -0.15106666666666663, -0.20430833333333345, -0.03768333333333333, 0.02942500000000002, -0.031716666666666685, 0.0022666666666666365, 0.32695833333333346, 0.5698166666666666, 0.7188500000000002, 0.6550937499999998]}, {\"line\": {\"color\": \"grey\"}, \"name\": \"Malaysia\", \"opacity\": 0.1, \"type\": \"scatter\", \"x\": [\"1800-12-31T00:00:00\", \"1810-12-31T00:00:00\", \"1820-12-31T00:00:00\", \"1830-12-31T00:00:00\", \"1840-12-31T00:00:00\", \"1850-12-31T00:00:00\", \"1860-12-31T00:00:00\", \"1870-12-31T00:00:00\", \"1880-12-31T00:00:00\", \"1890-12-31T00:00:00\", \"1900-12-31T00:00:00\", \"1910-12-31T00:00:00\", \"1920-12-31T00:00:00\", \"1930-12-31T00:00:00\", \"1940-12-31T00:00:00\", \"1950-12-31T00:00:00\", \"1960-12-31T00:00:00\", \"1970-12-31T00:00:00\", \"1980-12-31T00:00:00\", \"1990-12-31T00:00:00\", \"2000-12-31T00:00:00\", \"2010-12-31T00:00:00\", \"2020-12-31T00:00:00\"], \"y\": [null, null, null, -0.38375000000000004, -1.017095238095238, -0.8059789473684207, -0.7250480769230769, -0.7529999999999997, -0.7159333333333335, -0.7407583333333336, -0.6693833333333336, -0.5696, -0.5361833333333336, -0.40361666666666685, -0.23278333333333334, -0.03771666666666667, 0.015824999999999985, -0.029283333333333324, 0.013483333333333326, 0.15663333333333332, 0.2949333333333334, 0.48579999999999995, 0.5165000000000001]}, {\"line\": {\"color\": \"grey\"}, \"name\": \"Mali\", \"opacity\": 0.1, \"type\": \"scatter\", \"x\": [\"1800-12-31T00:00:00\", \"1810-12-31T00:00:00\", \"1820-12-31T00:00:00\", \"1830-12-31T00:00:00\", \"1840-12-31T00:00:00\", \"1850-12-31T00:00:00\", \"1860-12-31T00:00:00\", \"1870-12-31T00:00:00\", \"1880-12-31T00:00:00\", \"1890-12-31T00:00:00\", \"1900-12-31T00:00:00\", \"1910-12-31T00:00:00\", \"1920-12-31T00:00:00\", \"1930-12-31T00:00:00\", \"1940-12-31T00:00:00\", \"1950-12-31T00:00:00\", \"1960-12-31T00:00:00\", \"1970-12-31T00:00:00\", \"1980-12-31T00:00:00\", \"1990-12-31T00:00:00\", \"2000-12-31T00:00:00\", \"2010-12-31T00:00:00\", \"2020-12-31T00:00:00\"], \"y\": [null, null, null, null, null, -0.5850833333333333, -0.5700000000000002, -0.5896597938144327, -0.4689042553191489, -0.706466666666667, -0.44555833333333333, -0.5579833333333333, -0.22297500000000006, -0.02014166666666666, 0.026233333333333338, 0.013283333333333314, -0.09544999999999997, 0.038300000000000015, 0.057166666666666664, 0.40947500000000037, 0.4274583333333333, 0.8659916666666663, 0.5605625]}, {\"line\": {\"color\": \"grey\"}, \"name\": \"Malta\", \"opacity\": 0.1, \"type\": \"scatter\", \"x\": [\"1800-12-31T00:00:00\", \"1810-12-31T00:00:00\", \"1820-12-31T00:00:00\", \"1830-12-31T00:00:00\", \"1840-12-31T00:00:00\", \"1850-12-31T00:00:00\", \"1860-12-31T00:00:00\", \"1870-12-31T00:00:00\", \"1880-12-31T00:00:00\", \"1890-12-31T00:00:00\", \"1900-12-31T00:00:00\", \"1910-12-31T00:00:00\", \"1920-12-31T00:00:00\", \"1930-12-31T00:00:00\", \"1940-12-31T00:00:00\", \"1950-12-31T00:00:00\", \"1960-12-31T00:00:00\", \"1970-12-31T00:00:00\", \"1980-12-31T00:00:00\", \"1990-12-31T00:00:00\", \"2000-12-31T00:00:00\", \"2010-12-31T00:00:00\", \"2020-12-31T00:00:00\"], \"y\": [0.44141666666666673, -0.11324166666666666, -0.7476833333333333, -0.3141583333333335, -0.54965, -0.22608333333333339, -0.44233333333333336, -0.1338166666666667, -0.26001666666666673, -0.49949166666666683, -0.27195833333333336, -0.37061666666666665, -0.008975000000000004, 0.17546666666666663, 0.13855833333333328, 0.38235833333333347, 0.13585, 0.04927499999999999, -0.1851583333333333, 0.37468333333333337, 0.7071833333333333, 1.0244083333333334, 1.06034375]}, {\"line\": {\"color\": \"grey\"}, \"name\": \"Martinique\", \"opacity\": 0.1, \"type\": \"scatter\", \"x\": [\"1800-12-31T00:00:00\", \"1810-12-31T00:00:00\", \"1820-12-31T00:00:00\", \"1830-12-31T00:00:00\", \"1840-12-31T00:00:00\", \"1850-12-31T00:00:00\", \"1860-12-31T00:00:00\", \"1870-12-31T00:00:00\", \"1880-12-31T00:00:00\", \"1890-12-31T00:00:00\", \"1900-12-31T00:00:00\", \"1910-12-31T00:00:00\", \"1920-12-31T00:00:00\", \"1930-12-31T00:00:00\", \"1940-12-31T00:00:00\", \"1950-12-31T00:00:00\", \"1960-12-31T00:00:00\", \"1970-12-31T00:00:00\", \"1980-12-31T00:00:00\", \"1990-12-31T00:00:00\", \"2000-12-31T00:00:00\", \"2010-12-31T00:00:00\", \"2020-12-31T00:00:00\"], \"y\": [null, null, null, -0.36184615384615376, null, -0.705927536231884, -0.7484916666666669, -0.620975, -0.48213333333333336, -0.7542916666666667, -0.5644916666666666, -0.5484166666666666, -0.5623333333333334, -0.3517666666666667, -0.2343500000000001, -0.19678333333333342, 0.026116666666666667, 0.01603333333333331, -0.04214999999999999, 0.17788333333333328, 0.41110833333333324, 0.6870083333333332, 0.6843437500000001]}, {\"line\": {\"color\": \"grey\"}, \"name\": \"Mauritania\", \"opacity\": 0.1, \"type\": \"scatter\", \"x\": [\"1800-12-31T00:00:00\", \"1810-12-31T00:00:00\", \"1820-12-31T00:00:00\", \"1830-12-31T00:00:00\", \"1840-12-31T00:00:00\", \"1850-12-31T00:00:00\", \"1860-12-31T00:00:00\", \"1870-12-31T00:00:00\", \"1880-12-31T00:00:00\", \"1890-12-31T00:00:00\", \"1900-12-31T00:00:00\", \"1910-12-31T00:00:00\", \"1920-12-31T00:00:00\", \"1930-12-31T00:00:00\", \"1940-12-31T00:00:00\", \"1950-12-31T00:00:00\", \"1960-12-31T00:00:00\", \"1970-12-31T00:00:00\", \"1980-12-31T00:00:00\", \"1990-12-31T00:00:00\", \"2000-12-31T00:00:00\", \"2010-12-31T00:00:00\", \"2020-12-31T00:00:00\"], \"y\": [null, null, null, null, null, -0.4592916666666666, -0.44573195876288657, -0.3782333333333333, -0.4254583333333333, -0.5501833333333332, -0.18535000000000004, -0.4067333333333335, -0.22278333333333342, 0.008625, -0.06611666666666662, -0.005025000000000026, -0.119575, 0.16056666666666664, -0.0411166666666666, 0.5311666666666667, 0.5955083333333335, 1.0169666666666666, 0.7577187499999999]}, {\"line\": {\"color\": \"grey\"}, \"name\": \"Mauritius\", \"opacity\": 0.1, \"type\": \"scatter\", \"x\": [\"1800-12-31T00:00:00\", \"1810-12-31T00:00:00\", \"1820-12-31T00:00:00\", \"1830-12-31T00:00:00\", \"1840-12-31T00:00:00\", \"1850-12-31T00:00:00\", \"1860-12-31T00:00:00\", \"1870-12-31T00:00:00\", \"1880-12-31T00:00:00\", \"1890-12-31T00:00:00\", \"1900-12-31T00:00:00\", \"1910-12-31T00:00:00\", \"1920-12-31T00:00:00\", \"1930-12-31T00:00:00\", \"1940-12-31T00:00:00\", \"1950-12-31T00:00:00\", \"1960-12-31T00:00:00\", \"1970-12-31T00:00:00\", \"1980-12-31T00:00:00\", \"1990-12-31T00:00:00\", \"2000-12-31T00:00:00\", \"2010-12-31T00:00:00\", \"2020-12-31T00:00:00\"], \"y\": [null, 0.32152941176470584, null, null, null, null, -0.7198526315789472, -0.33975, null, -0.7620434782608696, -0.5159416666666666, -0.4516583333333333, -0.36173333333333324, -0.32646666666666674, -0.10403333333333334, -0.05568333333333333, -0.05024166666666667, -0.07007499999999996, 0.12034166666666667, 0.21531666666666668, 0.44603333333333317, 0.7769166666666668, 0.76171875]}, {\"line\": {\"color\": \"grey\"}, \"name\": \"Mexico\", \"opacity\": 0.1, \"type\": \"scatter\", \"x\": [\"1800-12-31T00:00:00\", \"1810-12-31T00:00:00\", \"1820-12-31T00:00:00\", \"1830-12-31T00:00:00\", \"1840-12-31T00:00:00\", \"1850-12-31T00:00:00\", \"1860-12-31T00:00:00\", \"1870-12-31T00:00:00\", \"1880-12-31T00:00:00\", \"1890-12-31T00:00:00\", \"1900-12-31T00:00:00\", \"1910-12-31T00:00:00\", \"1920-12-31T00:00:00\", \"1930-12-31T00:00:00\", \"1940-12-31T00:00:00\", \"1950-12-31T00:00:00\", \"1960-12-31T00:00:00\", \"1970-12-31T00:00:00\", \"1980-12-31T00:00:00\", \"1990-12-31T00:00:00\", \"2000-12-31T00:00:00\", \"2010-12-31T00:00:00\", \"2020-12-31T00:00:00\"], \"y\": [null, null, null, null, -1.1962916666666663, -0.6115916666666668, -0.5891749999999999, -0.15932499999999997, -0.35030000000000006, -0.570225, -0.46844999999999987, -0.38881666666666664, -0.4112333333333334, -0.06595833333333333, -0.024616666666666672, 0.15719999999999998, 0.1488249999999998, -0.06361666666666664, -0.08522499999999997, 0.01719166666666666, 0.36566666666666664, 0.461575, 0.827090909090909]}, {\"line\": {\"color\": \"grey\"}, \"name\": \"Moldova\", \"opacity\": 0.1, \"type\": \"scatter\", \"x\": [\"1800-12-31T00:00:00\", \"1810-12-31T00:00:00\", \"1820-12-31T00:00:00\", \"1830-12-31T00:00:00\", \"1840-12-31T00:00:00\", \"1850-12-31T00:00:00\", \"1860-12-31T00:00:00\", \"1870-12-31T00:00:00\", \"1880-12-31T00:00:00\", \"1890-12-31T00:00:00\", \"1900-12-31T00:00:00\", \"1910-12-31T00:00:00\", \"1920-12-31T00:00:00\", \"1930-12-31T00:00:00\", \"1940-12-31T00:00:00\", \"1950-12-31T00:00:00\", \"1960-12-31T00:00:00\", \"1970-12-31T00:00:00\", \"1980-12-31T00:00:00\", \"1990-12-31T00:00:00\", \"2000-12-31T00:00:00\", \"2010-12-31T00:00:00\", \"2020-12-31T00:00:00\"], \"y\": [-0.18983333333333338, -0.31294166666666673, -0.8397333333333334, -0.32204999999999995, -1.1236916666666663, -0.3901166666666668, -0.3631500000000001, -0.5332749999999998, -0.600491666666667, -0.6285416666666667, -0.37880833333333336, -0.4008166666666669, -0.3169416666666666, -0.16449166666666673, -0.19580833333333325, -0.34828333333333317, -0.012058333333333377, 0.06945000000000004, -0.05737499999999999, 0.1648416666666667, 0.42806666666666676, 1.0584250000000002, 1.23596875]}, {\"line\": {\"color\": \"grey\"}, \"name\": \"Mongolia\", \"opacity\": 0.1, \"type\": \"scatter\", \"x\": [\"1800-12-31T00:00:00\", \"1810-12-31T00:00:00\", \"1820-12-31T00:00:00\", \"1830-12-31T00:00:00\", \"1840-12-31T00:00:00\", \"1850-12-31T00:00:00\", \"1860-12-31T00:00:00\", \"1870-12-31T00:00:00\", \"1880-12-31T00:00:00\", \"1890-12-31T00:00:00\", \"1900-12-31T00:00:00\", \"1910-12-31T00:00:00\", \"1920-12-31T00:00:00\", \"1930-12-31T00:00:00\", \"1940-12-31T00:00:00\", \"1950-12-31T00:00:00\", \"1960-12-31T00:00:00\", \"1970-12-31T00:00:00\", \"1980-12-31T00:00:00\", \"1990-12-31T00:00:00\", \"2000-12-31T00:00:00\", \"2010-12-31T00:00:00\", \"2020-12-31T00:00:00\"], \"y\": [null, null, -2.0476, -0.40739166666666693, -1.1353949579831932, -0.6084916666666663, -0.8115666666666667, -0.6073500000000001, -0.3113749999999999, -0.6046166666666666, -0.4701833333333332, -0.6404999999999997, -0.45980000000000004, -0.27953333333333347, -0.40899166666666653, -0.10787499999999996, -0.3519333333333332, 0.03270833333333324, 0.31919166666666676, 0.42885833333333345, 1.1963833333333336, 1.3532416666666667, 0.5250937499999999]}, {\"line\": {\"color\": \"grey\"}, \"name\": \"Montenegro\", \"opacity\": 0.1, \"type\": \"scatter\", \"x\": [\"1800-12-31T00:00:00\", \"1810-12-31T00:00:00\", \"1820-12-31T00:00:00\", \"1830-12-31T00:00:00\", \"1840-12-31T00:00:00\", \"1850-12-31T00:00:00\", \"1860-12-31T00:00:00\", \"1870-12-31T00:00:00\", \"1880-12-31T00:00:00\", \"1890-12-31T00:00:00\", \"1900-12-31T00:00:00\", \"1910-12-31T00:00:00\", \"1920-12-31T00:00:00\", \"1930-12-31T00:00:00\", \"1940-12-31T00:00:00\", \"1950-12-31T00:00:00\", \"1960-12-31T00:00:00\", \"1970-12-31T00:00:00\", \"1980-12-31T00:00:00\", \"1990-12-31T00:00:00\", \"2000-12-31T00:00:00\", \"2010-12-31T00:00:00\", \"2020-12-31T00:00:00\"], \"y\": [0.19441666666666668, -0.19165000000000001, -0.6722333333333335, -0.2966916666666667, -0.7601499999999998, -0.357475, -0.4720916666666667, -0.2504583333333333, -0.44719166666666665, -0.5924750000000001, -0.3901249999999999, -0.38, -0.26246666666666674, 0.07632499999999998, -0.09600833333333333, 0.12180833333333334, 0.169125, 0.038816666666666715, -0.2079416666666667, 0.15516666666666667, 0.47795833333333365, 0.7559999999999992, 1.16878125]}, {\"line\": {\"color\": \"grey\"}, \"name\": \"Montserrat\", \"opacity\": 0.1, \"type\": \"scatter\", \"x\": [\"1800-12-31T00:00:00\", \"1810-12-31T00:00:00\", \"1820-12-31T00:00:00\", \"1830-12-31T00:00:00\", \"1840-12-31T00:00:00\", \"1850-12-31T00:00:00\", \"1860-12-31T00:00:00\", \"1870-12-31T00:00:00\", \"1880-12-31T00:00:00\", \"1890-12-31T00:00:00\", \"1900-12-31T00:00:00\", \"1910-12-31T00:00:00\", \"1920-12-31T00:00:00\", \"1930-12-31T00:00:00\", \"1940-12-31T00:00:00\", \"1950-12-31T00:00:00\", \"1960-12-31T00:00:00\", \"1970-12-31T00:00:00\", \"1980-12-31T00:00:00\", \"1990-12-31T00:00:00\", \"2000-12-31T00:00:00\", \"2010-12-31T00:00:00\", \"2020-12-31T00:00:00\"], \"y\": [null, null, null, -0.3208461538461539, null, -0.7104347826086957, -0.7408999999999996, -0.6037583333333332, -0.46800833333333325, -0.7464666666666664, -0.5365499999999999, -0.51435, -0.5354666666666664, -0.3340666666666667, -0.22308333333333327, -0.19378333333333328, 0.05573333333333334, -0.016858333333333347, -0.038908333333333336, 0.18635833333333343, 0.42600000000000027, 0.71755, 0.682125]}, {\"line\": {\"color\": \"grey\"}, \"name\": \"Morocco\", \"opacity\": 0.1, \"type\": \"scatter\", \"x\": [\"1800-12-31T00:00:00\", \"1810-12-31T00:00:00\", \"1820-12-31T00:00:00\", \"1830-12-31T00:00:00\", \"1840-12-31T00:00:00\", \"1850-12-31T00:00:00\", \"1860-12-31T00:00:00\", \"1870-12-31T00:00:00\", \"1880-12-31T00:00:00\", \"1890-12-31T00:00:00\", \"1900-12-31T00:00:00\", \"1910-12-31T00:00:00\", \"1920-12-31T00:00:00\", \"1930-12-31T00:00:00\", \"1940-12-31T00:00:00\", \"1950-12-31T00:00:00\", \"1960-12-31T00:00:00\", \"1970-12-31T00:00:00\", \"1980-12-31T00:00:00\", \"1990-12-31T00:00:00\", \"2000-12-31T00:00:00\", \"2010-12-31T00:00:00\", \"2020-12-31T00:00:00\"], \"y\": [0.389, -0.2690840336134454, -0.8442000000000005, -0.19035833333333346, -0.39344999999999997, -0.3265666666666665, -0.3153416666666667, -0.15520833333333342, -0.22982499999999992, -0.4986833333333334, -0.07922500000000003, -0.35564166666666674, -0.33694166666666653, -0.021558333333333332, -0.10296666666666666, 0.28612499999999996, 0.05145000000000001, 0.19707499999999997, -0.24856666666666685, 0.5814833333333331, 0.5923583333333333, 1.1084999999999998, 1.0694687500000002]}, {\"line\": {\"color\": \"grey\"}, \"name\": \"Mozambique\", \"opacity\": 0.1, \"type\": \"scatter\", \"x\": [\"1800-12-31T00:00:00\", \"1810-12-31T00:00:00\", \"1820-12-31T00:00:00\", \"1830-12-31T00:00:00\", \"1840-12-31T00:00:00\", \"1850-12-31T00:00:00\", \"1860-12-31T00:00:00\", \"1870-12-31T00:00:00\", \"1880-12-31T00:00:00\", \"1890-12-31T00:00:00\", \"1900-12-31T00:00:00\", \"1910-12-31T00:00:00\", \"1920-12-31T00:00:00\", \"1930-12-31T00:00:00\", \"1940-12-31T00:00:00\", \"1950-12-31T00:00:00\", \"1960-12-31T00:00:00\", \"1970-12-31T00:00:00\", \"1980-12-31T00:00:00\", \"1990-12-31T00:00:00\", \"2000-12-31T00:00:00\", \"2010-12-31T00:00:00\", \"2020-12-31T00:00:00\"], \"y\": [null, null, null, null, null, -0.8107272727272729, -0.5352, -0.68125, -0.4164727272727273, -0.6298403361344539, -0.35756666666666637, -0.42025, -0.2296, -0.20479999999999995, -0.2262500000000001, -0.027724999999999986, 0.0013750000000000077, 0.013633333333333355, -0.015041666666666668, 0.30942499999999995, 0.5967916666666665, 0.6712416666666665, 0.5210937499999999]}, {\"line\": {\"color\": \"grey\"}, \"name\": \"Namibia\", \"opacity\": 0.1, \"type\": \"scatter\", \"x\": [\"1800-12-31T00:00:00\", \"1810-12-31T00:00:00\", \"1820-12-31T00:00:00\", \"1830-12-31T00:00:00\", \"1840-12-31T00:00:00\", \"1850-12-31T00:00:00\", \"1860-12-31T00:00:00\", \"1870-12-31T00:00:00\", \"1880-12-31T00:00:00\", \"1890-12-31T00:00:00\", \"1900-12-31T00:00:00\", \"1910-12-31T00:00:00\", \"1920-12-31T00:00:00\", \"1930-12-31T00:00:00\", \"1940-12-31T00:00:00\", \"1950-12-31T00:00:00\", \"1960-12-31T00:00:00\", \"1970-12-31T00:00:00\", \"1980-12-31T00:00:00\", \"1990-12-31T00:00:00\", \"2000-12-31T00:00:00\", \"2010-12-31T00:00:00\", \"2020-12-31T00:00:00\"], \"y\": [null, null, null, null, null, null, -0.6889565217391305, -0.48083333333333317, -0.5353620689655172, -0.5671333333333334, -0.4375666666666664, -0.5675583333333332, -0.25384999999999996, 0.06274166666666665, -0.18958333333333327, 0.1606166666666667, -0.059225, 0.0968833333333333, -0.037608333333333334, 0.47503333333333325, 0.6090999999999999, 0.7261999999999994, 0.4419375]}, {\"line\": {\"color\": \"grey\"}, \"name\": \"Nepal\", \"opacity\": 0.1, \"type\": \"scatter\", \"x\": [\"1800-12-31T00:00:00\", \"1810-12-31T00:00:00\", \"1820-12-31T00:00:00\", \"1830-12-31T00:00:00\", \"1840-12-31T00:00:00\", \"1850-12-31T00:00:00\", \"1860-12-31T00:00:00\", \"1870-12-31T00:00:00\", \"1880-12-31T00:00:00\", \"1890-12-31T00:00:00\", \"1900-12-31T00:00:00\", \"1910-12-31T00:00:00\", \"1920-12-31T00:00:00\", \"1930-12-31T00:00:00\", \"1940-12-31T00:00:00\", \"1950-12-31T00:00:00\", \"1960-12-31T00:00:00\", \"1970-12-31T00:00:00\", \"1980-12-31T00:00:00\", \"1990-12-31T00:00:00\", \"2000-12-31T00:00:00\", \"2010-12-31T00:00:00\", \"2020-12-31T00:00:00\"], \"y\": [-0.25466666666666665, -0.060575000000000004, -1.3657157894736842, -0.4500166666666666, -0.9565593220338982, -0.8260583333333333, -0.7044268292682926, -0.4949850746268657, -0.39493333333333336, -0.5827916666666666, -0.33290000000000003, -0.32148333333333323, -0.47616666666666646, -0.24549999999999994, -0.313475, -0.08712500000000005, 0.16075833333333334, -0.12213333333333334, -0.038666666666666724, 0.057233333333333296, 0.2460166666666666, 0.6298666666666667, 0.208625]}, {\"line\": {\"color\": \"grey\"}, \"name\": \"Netherlands\", \"opacity\": 0.1, \"type\": \"scatter\", \"x\": [\"1800-12-31T00:00:00\", \"1810-12-31T00:00:00\", \"1820-12-31T00:00:00\", \"1830-12-31T00:00:00\", \"1840-12-31T00:00:00\", \"1850-12-31T00:00:00\", \"1860-12-31T00:00:00\", \"1870-12-31T00:00:00\", \"1880-12-31T00:00:00\", \"1890-12-31T00:00:00\", \"1900-12-31T00:00:00\", \"1910-12-31T00:00:00\", \"1920-12-31T00:00:00\", \"1930-12-31T00:00:00\", \"1940-12-31T00:00:00\", \"1950-12-31T00:00:00\", \"1960-12-31T00:00:00\", \"1970-12-31T00:00:00\", \"1980-12-31T00:00:00\", \"1990-12-31T00:00:00\", \"2000-12-31T00:00:00\", \"2010-12-31T00:00:00\", \"2020-12-31T00:00:00\"], \"y\": [-0.3630833333333334, -0.5786, -0.5312750000000002, -0.1573333333333333, -0.31029999999999996, -0.3575000000000001, -0.5409333333333333, -0.13194999999999998, -0.3244833333333335, -0.6346749999999999, -0.2941083333333335, -0.36906666666666665, -0.07483333333333331, -0.15128333333333333, 0.11032500000000003, 0.17012499999999994, 0.08596666666666672, -0.19375833333333337, 0.10778333333333334, 0.3279583333333334, 0.7388166666666669, 1.09575, 0.8105625000000002]}, {\"line\": {\"color\": \"grey\"}, \"name\": \"New Caledonia\", \"opacity\": 0.1, \"type\": \"scatter\", \"x\": [\"1800-12-31T00:00:00\", \"1810-12-31T00:00:00\", \"1820-12-31T00:00:00\", \"1830-12-31T00:00:00\", \"1840-12-31T00:00:00\", \"1850-12-31T00:00:00\", \"1860-12-31T00:00:00\", \"1870-12-31T00:00:00\", \"1880-12-31T00:00:00\", \"1890-12-31T00:00:00\", \"1900-12-31T00:00:00\", \"1910-12-31T00:00:00\", \"1920-12-31T00:00:00\", \"1930-12-31T00:00:00\", \"1940-12-31T00:00:00\", \"1950-12-31T00:00:00\", \"1960-12-31T00:00:00\", \"1970-12-31T00:00:00\", \"1980-12-31T00:00:00\", \"1990-12-31T00:00:00\", \"2000-12-31T00:00:00\", \"2010-12-31T00:00:00\", \"2020-12-31T00:00:00\"], \"y\": [null, null, null, null, null, null, -0.7727499999999998, -0.5566134453781515, -0.41851666666666676, -0.7090833333333333, -0.5259583333333332, -0.5056916666666668, -0.2248916666666668, -0.30885, -0.1561833333333333, 0.03890833333333332, -0.0027749999999999923, -0.1415583333333333, 0.1443166666666665, 0.3122333333333333, 0.46085833333333337, 0.6417833333333334, 0.49584375]}, {\"line\": {\"color\": \"grey\"}, \"name\": \"New Zealand\", \"opacity\": 0.1, \"type\": \"scatter\", \"x\": [\"1800-12-31T00:00:00\", \"1810-12-31T00:00:00\", \"1820-12-31T00:00:00\", \"1830-12-31T00:00:00\", \"1840-12-31T00:00:00\", \"1850-12-31T00:00:00\", \"1860-12-31T00:00:00\", \"1870-12-31T00:00:00\", \"1880-12-31T00:00:00\", \"1890-12-31T00:00:00\", \"1900-12-31T00:00:00\", \"1910-12-31T00:00:00\", \"1920-12-31T00:00:00\", \"1930-12-31T00:00:00\", \"1940-12-31T00:00:00\", \"1950-12-31T00:00:00\", \"1960-12-31T00:00:00\", \"1970-12-31T00:00:00\", \"1980-12-31T00:00:00\", \"1990-12-31T00:00:00\", \"2000-12-31T00:00:00\", \"2010-12-31T00:00:00\", \"2020-12-31T00:00:00\"], \"y\": [null, null, null, null, null, null, -1.0647291666666665, -0.42585833333333334, -0.4008166666666667, -0.7481916666666667, -0.62105, -0.7873833333333331, -0.42565833333333336, -0.36065833333333347, -0.28776666666666656, -0.25862500000000005, -0.023800000000000064, -0.09091666666666663, 0.11463333333333335, 0.29355, 0.13267499999999996, 0.3528083333333335, 0.3871875]}, {\"line\": {\"color\": \"grey\"}, \"name\": \"Nicaragua\", \"opacity\": 0.1, \"type\": \"scatter\", \"x\": [\"1800-12-31T00:00:00\", \"1810-12-31T00:00:00\", \"1820-12-31T00:00:00\", \"1830-12-31T00:00:00\", \"1840-12-31T00:00:00\", \"1850-12-31T00:00:00\", \"1860-12-31T00:00:00\", \"1870-12-31T00:00:00\", \"1880-12-31T00:00:00\", \"1890-12-31T00:00:00\", \"1900-12-31T00:00:00\", \"1910-12-31T00:00:00\", \"1920-12-31T00:00:00\", \"1930-12-31T00:00:00\", \"1940-12-31T00:00:00\", \"1950-12-31T00:00:00\", \"1960-12-31T00:00:00\", \"1970-12-31T00:00:00\", \"1980-12-31T00:00:00\", \"1990-12-31T00:00:00\", \"2000-12-31T00:00:00\", \"2010-12-31T00:00:00\", \"2020-12-31T00:00:00\"], \"y\": [null, null, null, -0.2793888888888889, -1.0362619047619048, -0.7068086956521741, -0.7889166666666662, -0.5744166666666667, -0.43488333333333334, -0.7399583333333333, -0.46335000000000004, -0.7079833333333334, -0.3605583333333334, -0.14459166666666665, -0.17440000000000003, -0.03573333333333335, 0.056783333333333325, -0.09428333333333336, 0.03745833333333333, 0.22216666666666676, 0.5523916666666668, 0.5280833333333335, 0.3965151515151515]}, {\"line\": {\"color\": \"grey\"}, \"name\": \"Niger\", \"opacity\": 0.1, \"type\": \"scatter\", \"x\": [\"1800-12-31T00:00:00\", \"1810-12-31T00:00:00\", \"1820-12-31T00:00:00\", \"1830-12-31T00:00:00\", \"1840-12-31T00:00:00\", \"1850-12-31T00:00:00\", \"1860-12-31T00:00:00\", \"1870-12-31T00:00:00\", \"1880-12-31T00:00:00\", \"1890-12-31T00:00:00\", \"1900-12-31T00:00:00\", \"1910-12-31T00:00:00\", \"1920-12-31T00:00:00\", \"1930-12-31T00:00:00\", \"1940-12-31T00:00:00\", \"1950-12-31T00:00:00\", \"1960-12-31T00:00:00\", \"1970-12-31T00:00:00\", \"1980-12-31T00:00:00\", \"1990-12-31T00:00:00\", \"2000-12-31T00:00:00\", \"2010-12-31T00:00:00\", \"2020-12-31T00:00:00\"], \"y\": [null, null, -0.66275, -0.6574, null, null, -0.5505365853658539, -0.7816428571428571, -0.40010869565217416, -0.7887333333333333, -0.5008083333333336, -0.6513583333333334, -0.16083333333333333, 0.05853333333333334, 0.23372500000000007, 0.04140000000000006, -0.03904166666666665, -0.020524999999999922, 0.05960833333333331, 0.24806666666666677, 0.39831666666666654, 0.9390999999999998, 0.82978125]}, {\"line\": {\"color\": \"grey\"}, \"name\": \"Nigeria\", \"opacity\": 0.1, \"type\": \"scatter\", \"x\": [\"1800-12-31T00:00:00\", \"1810-12-31T00:00:00\", \"1820-12-31T00:00:00\", \"1830-12-31T00:00:00\", \"1840-12-31T00:00:00\", \"1850-12-31T00:00:00\", \"1860-12-31T00:00:00\", \"1870-12-31T00:00:00\", \"1880-12-31T00:00:00\", \"1890-12-31T00:00:00\", \"1900-12-31T00:00:00\", \"1910-12-31T00:00:00\", \"1920-12-31T00:00:00\", \"1930-12-31T00:00:00\", \"1940-12-31T00:00:00\", \"1950-12-31T00:00:00\", \"1960-12-31T00:00:00\", \"1970-12-31T00:00:00\", \"1980-12-31T00:00:00\", \"1990-12-31T00:00:00\", \"2000-12-31T00:00:00\", \"2010-12-31T00:00:00\", \"2020-12-31T00:00:00\"], \"y\": [null, null, null, null, null, null, -0.6698048780487805, -0.8635714285714285, -0.5129204545454545, -0.8438207547169811, -0.6623833333333333, -0.6519916666666667, -0.10980833333333329, 0.07178333333333332, 0.2465833333333334, 0.22020000000000003, -0.08456666666666666, -0.01372499999999999, 0.09827499999999997, 0.22909999999999994, 0.32001666666666667, 0.8091666666666663, 0.7262187499999999]}, {\"line\": {\"color\": \"grey\"}, \"name\": \"Niue\", \"opacity\": 0.1, \"type\": \"scatter\", \"x\": [\"1800-12-31T00:00:00\", \"1810-12-31T00:00:00\", \"1820-12-31T00:00:00\", \"1830-12-31T00:00:00\", \"1840-12-31T00:00:00\", \"1850-12-31T00:00:00\", \"1860-12-31T00:00:00\", \"1870-12-31T00:00:00\", \"1880-12-31T00:00:00\", \"1890-12-31T00:00:00\", \"1900-12-31T00:00:00\", \"1910-12-31T00:00:00\", \"1920-12-31T00:00:00\", \"1930-12-31T00:00:00\", \"1940-12-31T00:00:00\", \"1950-12-31T00:00:00\", \"1960-12-31T00:00:00\", \"1970-12-31T00:00:00\", \"1980-12-31T00:00:00\", \"1990-12-31T00:00:00\", \"2000-12-31T00:00:00\", \"2010-12-31T00:00:00\", \"2020-12-31T00:00:00\"], \"y\": [null, null, null, null, null, null, null, -0.5759117647058823, -0.6072884615384616, -0.9087464788732397, -0.6012666666666663, -0.604108333333333, -0.5678250000000001, -0.3655666666666668, 0.06167500000000004, -0.04349166666666666, -0.001216666666666683, -0.10086666666666673, 0.10207499999999999, 0.18130000000000004, 0.31925000000000003, 0.4830583333333335, 0.659875]}, {\"line\": {\"color\": \"grey\"}, \"name\": \"North Korea\", \"opacity\": 0.1, \"type\": \"scatter\", \"x\": [\"1800-12-31T00:00:00\", \"1810-12-31T00:00:00\", \"1820-12-31T00:00:00\", \"1830-12-31T00:00:00\", \"1840-12-31T00:00:00\", \"1850-12-31T00:00:00\", \"1860-12-31T00:00:00\", \"1870-12-31T00:00:00\", \"1880-12-31T00:00:00\", \"1890-12-31T00:00:00\", \"1900-12-31T00:00:00\", \"1910-12-31T00:00:00\", \"1920-12-31T00:00:00\", \"1930-12-31T00:00:00\", \"1940-12-31T00:00:00\", \"1950-12-31T00:00:00\", \"1960-12-31T00:00:00\", \"1970-12-31T00:00:00\", \"1980-12-31T00:00:00\", \"1990-12-31T00:00:00\", \"2000-12-31T00:00:00\", \"2010-12-31T00:00:00\", \"2020-12-31T00:00:00\"], \"y\": [null, null, null, null, -1.0344583333333337, -0.6695166666666668, -0.8159500000000003, -0.6187583333333335, -0.47780000000000006, -0.6025916666666666, -0.3968583333333333, -0.46415833333333345, -0.5388583333333334, -0.3524166666666666, -0.17999999999999997, -0.16044166666666665, -0.017741666666666614, -0.09867500000000003, 0.11644999999999996, 0.3165583333333333, 0.8619666666666667, 1.0087750000000004, 0.39165625000000004]}, {\"line\": {\"color\": \"grey\"}, \"name\": \"Norway\", \"opacity\": 0.1, \"type\": \"scatter\", \"x\": [\"1800-12-31T00:00:00\", \"1810-12-31T00:00:00\", \"1820-12-31T00:00:00\", \"1830-12-31T00:00:00\", \"1840-12-31T00:00:00\", \"1850-12-31T00:00:00\", \"1860-12-31T00:00:00\", \"1870-12-31T00:00:00\", \"1880-12-31T00:00:00\", \"1890-12-31T00:00:00\", \"1900-12-31T00:00:00\", \"1910-12-31T00:00:00\", \"1920-12-31T00:00:00\", \"1930-12-31T00:00:00\", \"1940-12-31T00:00:00\", \"1950-12-31T00:00:00\", \"1960-12-31T00:00:00\", \"1970-12-31T00:00:00\", \"1980-12-31T00:00:00\", \"1990-12-31T00:00:00\", \"2000-12-31T00:00:00\", \"2010-12-31T00:00:00\", \"2020-12-31T00:00:00\"], \"y\": [-0.5464999999999999, -0.7145083333333339, -0.6600333333333335, -0.020833333333333356, -0.5758333333333333, -0.4496250000000001, -0.39224166666666666, -0.5987749999999998, -0.5742833333333334, -0.35692500000000005, -0.47176666666666656, -0.2861833333333334, -0.24890833333333343, -0.012766666666666652, 0.6725333333333336, 0.2553249999999998, 0.1919166666666667, -0.3370499999999999, 0.14514166666666667, 0.22977499999999995, 0.6277333333333335, 1.1126250000000002, 1.2518750000000003]}, {\"line\": {\"color\": \"grey\"}, \"name\": \"Oman\", \"opacity\": 0.1, \"type\": \"scatter\", \"x\": [\"1800-12-31T00:00:00\", \"1810-12-31T00:00:00\", \"1820-12-31T00:00:00\", \"1830-12-31T00:00:00\", \"1840-12-31T00:00:00\", \"1850-12-31T00:00:00\", \"1860-12-31T00:00:00\", \"1870-12-31T00:00:00\", \"1880-12-31T00:00:00\", \"1890-12-31T00:00:00\", \"1900-12-31T00:00:00\", \"1910-12-31T00:00:00\", \"1920-12-31T00:00:00\", \"1930-12-31T00:00:00\", \"1940-12-31T00:00:00\", \"1950-12-31T00:00:00\", \"1960-12-31T00:00:00\", \"1970-12-31T00:00:00\", \"1980-12-31T00:00:00\", \"1990-12-31T00:00:00\", \"2000-12-31T00:00:00\", \"2010-12-31T00:00:00\", \"2020-12-31T00:00:00\"], \"y\": [null, null, null, null, null, -0.7692631578947369, -0.5258333333333334, null, -0.42226388888888894, -0.4141833333333332, -0.35746666666666677, -0.3521166666666667, -0.38058333333333333, -0.18370833333333333, -0.32307499999999995, -0.10678333333333337, -0.031441666666666666, -0.031024999999999976, 0.06253333333333336, -0.018683333333333312, 0.5239999999999999, 1.1806333333333334, 1.0278749999999999]}, {\"line\": {\"color\": \"grey\"}, \"name\": \"Pakistan\", \"opacity\": 0.1, \"type\": \"scatter\", \"x\": [\"1800-12-31T00:00:00\", \"1810-12-31T00:00:00\", \"1820-12-31T00:00:00\", \"1830-12-31T00:00:00\", \"1840-12-31T00:00:00\", \"1850-12-31T00:00:00\", \"1860-12-31T00:00:00\", \"1870-12-31T00:00:00\", \"1880-12-31T00:00:00\", \"1890-12-31T00:00:00\", \"1900-12-31T00:00:00\", \"1910-12-31T00:00:00\", \"1920-12-31T00:00:00\", \"1930-12-31T00:00:00\", \"1940-12-31T00:00:00\", \"1950-12-31T00:00:00\", \"1960-12-31T00:00:00\", \"1970-12-31T00:00:00\", \"1980-12-31T00:00:00\", \"1990-12-31T00:00:00\", \"2000-12-31T00:00:00\", \"2010-12-31T00:00:00\", \"2020-12-31T00:00:00\"], \"y\": [null, null, -1.2608771929824563, -0.5852571428571429, -0.7711971830985914, -0.6984949494949497, -0.6049512195121952, -0.37149999999999994, -0.29345378151260504, -0.4338666666666666, -0.22242500000000004, -0.3706250000000001, -0.30473333333333336, -0.28518333333333334, -0.22167499999999998, 0.06137499999999998, 0.09295833333333338, -0.0792416666666667, -0.013741666666666714, 0.33864999999999995, 0.5337500000000001, 1.0690833333333336, 0.7166250000000002]}, {\"line\": {\"color\": \"grey\"}, \"name\": \"Palau\", \"opacity\": 0.1, \"type\": \"scatter\", \"x\": [\"1800-12-31T00:00:00\", \"1810-12-31T00:00:00\", \"1820-12-31T00:00:00\", \"1830-12-31T00:00:00\", \"1840-12-31T00:00:00\", \"1850-12-31T00:00:00\", \"1860-12-31T00:00:00\", \"1870-12-31T00:00:00\", \"1880-12-31T00:00:00\", \"1890-12-31T00:00:00\", \"1900-12-31T00:00:00\", \"1910-12-31T00:00:00\", \"1920-12-31T00:00:00\", \"1930-12-31T00:00:00\", \"1940-12-31T00:00:00\", \"1950-12-31T00:00:00\", \"1960-12-31T00:00:00\", \"1970-12-31T00:00:00\", \"1980-12-31T00:00:00\", \"1990-12-31T00:00:00\", \"2000-12-31T00:00:00\", \"2010-12-31T00:00:00\", \"2020-12-31T00:00:00\"], \"y\": [null, null, null, null, null, null, null, null, null, -0.8633148148148151, -0.6837592592592588, -0.710763636363636, -0.5074666666666666, -0.3886416666666665, -0.3274, -0.15629999999999994, -0.021183333333333318, -0.03585000000000002, 0.05703333333333332, 0.23190000000000005, 0.26536666666666653, 0.3481916666666667, 0.28215625000000005]}, {\"line\": {\"color\": \"grey\"}, \"name\": \"Palestina\", \"opacity\": 0.1, \"type\": \"scatter\", \"x\": [\"1800-12-31T00:00:00\", \"1810-12-31T00:00:00\", \"1820-12-31T00:00:00\", \"1830-12-31T00:00:00\", \"1840-12-31T00:00:00\", \"1850-12-31T00:00:00\", \"1860-12-31T00:00:00\", \"1870-12-31T00:00:00\", \"1880-12-31T00:00:00\", \"1890-12-31T00:00:00\", \"1900-12-31T00:00:00\", \"1910-12-31T00:00:00\", \"1920-12-31T00:00:00\", \"1930-12-31T00:00:00\", \"1940-12-31T00:00:00\", \"1950-12-31T00:00:00\", \"1960-12-31T00:00:00\", \"1970-12-31T00:00:00\", \"1980-12-31T00:00:00\", \"1990-12-31T00:00:00\", \"2000-12-31T00:00:00\", \"2010-12-31T00:00:00\", \"2020-12-31T00:00:00\"], \"y\": [null, null, null, null, null, -0.7081499999999998, -0.7038690476190473, -0.6525583333333332, -0.46809999999999985, -0.675, -0.5958749999999999, -0.5663083333333333, -0.4010666666666669, -0.27561666666666673, -0.13326666666666673, -0.09986666666666663, -0.002508333333333341, -0.04886666666666664, 0.051291666666666666, 0.1262916666666666, 0.3360833333333334, 0.6724083333333333, 0.5808437500000003]}, {\"line\": {\"color\": \"grey\"}, \"name\": \"Panama\", \"opacity\": 0.1, \"type\": \"scatter\", \"x\": [\"1800-12-31T00:00:00\", \"1810-12-31T00:00:00\", \"1820-12-31T00:00:00\", \"1830-12-31T00:00:00\", \"1840-12-31T00:00:00\", \"1850-12-31T00:00:00\", \"1860-12-31T00:00:00\", \"1870-12-31T00:00:00\", \"1880-12-31T00:00:00\", \"1890-12-31T00:00:00\", \"1900-12-31T00:00:00\", \"1910-12-31T00:00:00\", \"1920-12-31T00:00:00\", \"1930-12-31T00:00:00\", \"1940-12-31T00:00:00\", \"1950-12-31T00:00:00\", \"1960-12-31T00:00:00\", \"1970-12-31T00:00:00\", \"1980-12-31T00:00:00\", \"1990-12-31T00:00:00\", \"2000-12-31T00:00:00\", \"2010-12-31T00:00:00\", \"2020-12-31T00:00:00\"], \"y\": [null, null, null, -0.3388703703703704, null, null, -0.7435416666666664, -0.5978249999999998, -0.3846250000000001, -0.7717166666666665, -0.5236583333333334, -0.6458250000000003, -0.3716333333333332, -0.19778333333333348, -0.1529833333333333, -0.08395833333333336, 0.03275833333333334, -0.016408333333333337, -0.016366666666666696, 0.26317500000000005, 0.5051749999999999, 0.5811249999999999, 0.44034375000000003]}, {\"line\": {\"color\": \"grey\"}, \"name\": \"Papua New Guinea\", \"opacity\": 0.1, \"type\": \"scatter\", \"x\": [\"1800-12-31T00:00:00\", \"1810-12-31T00:00:00\", \"1820-12-31T00:00:00\", \"1830-12-31T00:00:00\", \"1840-12-31T00:00:00\", \"1850-12-31T00:00:00\", \"1860-12-31T00:00:00\", \"1870-12-31T00:00:00\", \"1880-12-31T00:00:00\", \"1890-12-31T00:00:00\", \"1900-12-31T00:00:00\", \"1910-12-31T00:00:00\", \"1920-12-31T00:00:00\", \"1930-12-31T00:00:00\", \"1940-12-31T00:00:00\", \"1950-12-31T00:00:00\", \"1960-12-31T00:00:00\", \"1970-12-31T00:00:00\", \"1980-12-31T00:00:00\", \"1990-12-31T00:00:00\", \"2000-12-31T00:00:00\", \"2010-12-31T00:00:00\", \"2020-12-31T00:00:00\"], \"y\": [null, null, null, null, null, null, null, null, null, -0.6332129629629628, -0.5050166666666668, -0.44225833333333353, -0.267125, -0.2722166666666666, -0.13103333333333333, -0.004741666666666654, -0.013558333333333327, -0.05529166666666671, 0.068875, 0.3436666666666667, 0.3792916666666668, 0.44749166666666645, 0.393875]}, {\"line\": {\"color\": \"grey\"}, \"name\": \"Paraguay\", \"opacity\": 0.1, \"type\": \"scatter\", \"x\": [\"1800-12-31T00:00:00\", \"1810-12-31T00:00:00\", \"1820-12-31T00:00:00\", \"1830-12-31T00:00:00\", \"1840-12-31T00:00:00\", \"1850-12-31T00:00:00\", \"1860-12-31T00:00:00\", \"1870-12-31T00:00:00\", \"1880-12-31T00:00:00\", \"1890-12-31T00:00:00\", \"1900-12-31T00:00:00\", \"1910-12-31T00:00:00\", \"1920-12-31T00:00:00\", \"1930-12-31T00:00:00\", \"1940-12-31T00:00:00\", \"1950-12-31T00:00:00\", \"1960-12-31T00:00:00\", \"1970-12-31T00:00:00\", \"1980-12-31T00:00:00\", \"1990-12-31T00:00:00\", \"2000-12-31T00:00:00\", \"2010-12-31T00:00:00\", \"2020-12-31T00:00:00\"], \"y\": [null, null, null, null, -1.0039444444444443, -0.7071944444444443, -0.6584833333333331, -0.6051916666666665, -0.5970499999999999, -0.7113333333333336, -0.40989166666666665, -0.4131333333333333, -0.3221083333333333, -0.15809999999999994, -0.07995833333333334, -0.12322499999999999, -0.21034999999999995, 0.15785833333333335, 0.05250833333333332, 0.1891166666666667, 0.3288499999999999, 0.601125, 0.6096562499999999]}, {\"line\": {\"color\": \"grey\"}, \"name\": \"Peru\", \"opacity\": 0.1, \"type\": \"scatter\", \"x\": [\"1800-12-31T00:00:00\", \"1810-12-31T00:00:00\", \"1820-12-31T00:00:00\", \"1830-12-31T00:00:00\", \"1840-12-31T00:00:00\", \"1850-12-31T00:00:00\", \"1860-12-31T00:00:00\", \"1870-12-31T00:00:00\", \"1880-12-31T00:00:00\", \"1890-12-31T00:00:00\", \"1900-12-31T00:00:00\", \"1910-12-31T00:00:00\", \"1920-12-31T00:00:00\", \"1930-12-31T00:00:00\", \"1940-12-31T00:00:00\", \"1950-12-31T00:00:00\", \"1960-12-31T00:00:00\", \"1970-12-31T00:00:00\", \"1980-12-31T00:00:00\", \"1990-12-31T00:00:00\", \"2000-12-31T00:00:00\", \"2010-12-31T00:00:00\", \"2020-12-31T00:00:00\"], \"y\": [null, null, null, null, null, null, -0.9811428571428572, null, -0.6517435897435898, -0.8264400000000003, -0.5873644067796606, -0.56905, -0.4018833333333333, -0.34199166666666686, -0.15155833333333335, -0.032583333333333325, -0.063125, 0.06127499999999999, 0.001841666666666663, 0.23779166666666654, 0.4909666666666667, 0.3524333333333333, 0.23465625]}, {\"line\": {\"color\": \"grey\"}, \"name\": \"Philippines\", \"opacity\": 0.1, \"type\": \"scatter\", \"x\": [\"1800-12-31T00:00:00\", \"1810-12-31T00:00:00\", \"1820-12-31T00:00:00\", \"1830-12-31T00:00:00\", \"1840-12-31T00:00:00\", \"1850-12-31T00:00:00\", \"1860-12-31T00:00:00\", \"1870-12-31T00:00:00\", \"1880-12-31T00:00:00\", \"1890-12-31T00:00:00\", \"1900-12-31T00:00:00\", \"1910-12-31T00:00:00\", \"1920-12-31T00:00:00\", \"1930-12-31T00:00:00\", \"1940-12-31T00:00:00\", \"1950-12-31T00:00:00\", \"1960-12-31T00:00:00\", \"1970-12-31T00:00:00\", \"1980-12-31T00:00:00\", \"1990-12-31T00:00:00\", \"2000-12-31T00:00:00\", \"2010-12-31T00:00:00\", \"2020-12-31T00:00:00\"], \"y\": [null, null, null, null, null, null, -0.7931075268817206, -0.6467647058823527, -0.6300666666666669, -0.9099416666666664, -0.7509333333333333, -0.6695666666666665, -0.5203500000000002, -0.476475, -0.3919916666666667, -0.1663583333333333, 0.027741666666666658, -0.005108333333333358, -0.022699999999999988, 0.17964166666666664, 0.23698333333333332, 0.3609166666666665, 0.30506250000000007]}, {\"line\": {\"color\": \"grey\"}, \"name\": \"Poland\", \"opacity\": 0.1, \"type\": \"scatter\", \"x\": [\"1800-12-31T00:00:00\", \"1810-12-31T00:00:00\", \"1820-12-31T00:00:00\", \"1830-12-31T00:00:00\", \"1840-12-31T00:00:00\", \"1850-12-31T00:00:00\", \"1860-12-31T00:00:00\", \"1870-12-31T00:00:00\", \"1880-12-31T00:00:00\", \"1890-12-31T00:00:00\", \"1900-12-31T00:00:00\", \"1910-12-31T00:00:00\", \"1920-12-31T00:00:00\", \"1930-12-31T00:00:00\", \"1940-12-31T00:00:00\", \"1950-12-31T00:00:00\", \"1960-12-31T00:00:00\", \"1970-12-31T00:00:00\", \"1980-12-31T00:00:00\", \"1990-12-31T00:00:00\", \"2000-12-31T00:00:00\", \"2010-12-31T00:00:00\", \"2020-12-31T00:00:00\"], \"y\": [-0.3760833333333334, -0.26998333333333346, -0.5408249999999999, -0.17147500000000002, -0.5933083333333332, -0.43308333333333343, -0.4670083333333336, -0.3300083333333334, -0.4831499999999999, -0.5498, -0.2524833333333332, -0.3286583333333333, -0.04431666666666666, -0.2083749999999999, 0.10618333333333338, 0.022916666666666623, 0.019508333333333336, -0.16786666666666666, 0.14838333333333328, 0.5096916666666668, 0.7752333333333333, 1.0918916666666667, 1.0901874999999999]}, {\"line\": {\"color\": \"grey\"}, \"name\": \"Portugal\", \"opacity\": 0.1, \"type\": \"scatter\", \"x\": [\"1800-12-31T00:00:00\", \"1810-12-31T00:00:00\", \"1820-12-31T00:00:00\", \"1830-12-31T00:00:00\", \"1840-12-31T00:00:00\", \"1850-12-31T00:00:00\", \"1860-12-31T00:00:00\", \"1870-12-31T00:00:00\", \"1880-12-31T00:00:00\", \"1890-12-31T00:00:00\", \"1900-12-31T00:00:00\", \"1910-12-31T00:00:00\", \"1920-12-31T00:00:00\", \"1930-12-31T00:00:00\", \"1940-12-31T00:00:00\", \"1950-12-31T00:00:00\", \"1960-12-31T00:00:00\", \"1970-12-31T00:00:00\", \"1980-12-31T00:00:00\", \"1990-12-31T00:00:00\", \"2000-12-31T00:00:00\", \"2010-12-31T00:00:00\", \"2020-12-31T00:00:00\"], \"y\": [0.43758333333333344, -0.24295833333333328, -0.7627416666666662, -0.1481, -0.28944166666666665, -0.25386666666666674, -0.3187583333333333, 0.01309999999999998, -0.24603333333333335, -0.7019416666666669, 0.020200000000000044, -0.27489166666666676, -0.28254999999999997, 0.016591666666666657, -0.1136833333333334, 0.3786916666666666, 0.07491666666666667, 0.14546666666666672, -0.2204416666666668, 0.5202583333333332, 0.6972249999999997, 0.8435583333333329, 0.9345937499999997]}, {\"line\": {\"color\": \"grey\"}, \"name\": \"Qatar\", \"opacity\": 0.1, \"type\": \"scatter\", \"x\": [\"1800-12-31T00:00:00\", \"1810-12-31T00:00:00\", \"1820-12-31T00:00:00\", \"1830-12-31T00:00:00\", \"1840-12-31T00:00:00\", \"1850-12-31T00:00:00\", \"1860-12-31T00:00:00\", \"1870-12-31T00:00:00\", \"1880-12-31T00:00:00\", \"1890-12-31T00:00:00\", \"1900-12-31T00:00:00\", \"1910-12-31T00:00:00\", \"1920-12-31T00:00:00\", \"1930-12-31T00:00:00\", \"1940-12-31T00:00:00\", \"1950-12-31T00:00:00\", \"1960-12-31T00:00:00\", \"1970-12-31T00:00:00\", \"1980-12-31T00:00:00\", \"1990-12-31T00:00:00\", \"2000-12-31T00:00:00\", \"2010-12-31T00:00:00\", \"2020-12-31T00:00:00\"], \"y\": [null, null, null, null, null, -0.765375, -0.58925, -0.6193916666666665, -0.3866666666666667, -0.33646666666666664, -0.3772833333333333, -0.3702666666666667, -0.48009166666666636, -0.21320833333333347, -0.35535833333333333, -0.08816666666666666, -0.04640833333333332, 0.007091666666666663, 0.03935833333333328, 0.057008333333333355, 0.5042083333333335, 1.283066666666667, 1.3735000000000002]}, {\"line\": {\"color\": \"grey\"}, \"name\": \"Reunion\", \"opacity\": 0.1, \"type\": \"scatter\", \"x\": [\"1800-12-31T00:00:00\", \"1810-12-31T00:00:00\", \"1820-12-31T00:00:00\", \"1830-12-31T00:00:00\", \"1840-12-31T00:00:00\", \"1850-12-31T00:00:00\", \"1860-12-31T00:00:00\", \"1870-12-31T00:00:00\", \"1880-12-31T00:00:00\", \"1890-12-31T00:00:00\", \"1900-12-31T00:00:00\", \"1910-12-31T00:00:00\", \"1920-12-31T00:00:00\", \"1930-12-31T00:00:00\", \"1940-12-31T00:00:00\", \"1950-12-31T00:00:00\", \"1960-12-31T00:00:00\", \"1970-12-31T00:00:00\", \"1980-12-31T00:00:00\", \"1990-12-31T00:00:00\", \"2000-12-31T00:00:00\", \"2010-12-31T00:00:00\", \"2020-12-31T00:00:00\"], \"y\": [null, 0.3184117647058823, null, null, null, null, -0.708052631578947, -0.37683333333333335, null, -0.7390434782608696, -0.5224499999999999, -0.41509999999999975, -0.3634333333333333, -0.3106916666666667, -0.09976666666666663, -0.05965833333333335, -0.0824, -0.05221666666666671, 0.13462500000000002, 0.20046666666666668, 0.509275, 0.7468749999999996, 0.79921875]}, {\"line\": {\"color\": \"grey\"}, \"name\": \"Romania\", \"opacity\": 0.1, \"type\": \"scatter\", \"x\": [\"1800-12-31T00:00:00\", \"1810-12-31T00:00:00\", \"1820-12-31T00:00:00\", \"1830-12-31T00:00:00\", \"1840-12-31T00:00:00\", \"1850-12-31T00:00:00\", \"1860-12-31T00:00:00\", \"1870-12-31T00:00:00\", \"1880-12-31T00:00:00\", \"1890-12-31T00:00:00\", \"1900-12-31T00:00:00\", \"1910-12-31T00:00:00\", \"1920-12-31T00:00:00\", \"1930-12-31T00:00:00\", \"1940-12-31T00:00:00\", \"1950-12-31T00:00:00\", \"1960-12-31T00:00:00\", \"1970-12-31T00:00:00\", \"1980-12-31T00:00:00\", \"1990-12-31T00:00:00\", \"2000-12-31T00:00:00\", \"2010-12-31T00:00:00\", \"2020-12-31T00:00:00\"], \"y\": [-0.08966666666666671, -0.2696416666666667, -0.7496083333333332, -0.3201000000000001, -0.9571916666666669, -0.4461166666666666, -0.40590000000000015, -0.47875833333333323, -0.5525083333333334, -0.7071666666666664, -0.41771666666666685, -0.4293083333333332, -0.2992916666666666, -0.09935000000000004, -0.23204166666666678, -0.19724166666666682, 0.04028333333333333, 0.03800000000000001, -0.07829166666666666, 0.11244166666666665, 0.3799500000000002, 0.9156749999999996, 1.13734375]}, {\"line\": {\"color\": \"grey\"}, \"name\": \"Russia\", \"opacity\": 0.1, \"type\": \"scatter\", \"x\": [\"1800-12-31T00:00:00\", \"1810-12-31T00:00:00\", \"1820-12-31T00:00:00\", \"1830-12-31T00:00:00\", \"1840-12-31T00:00:00\", \"1850-12-31T00:00:00\", \"1860-12-31T00:00:00\", \"1870-12-31T00:00:00\", \"1880-12-31T00:00:00\", \"1890-12-31T00:00:00\", \"1900-12-31T00:00:00\", \"1910-12-31T00:00:00\", \"1920-12-31T00:00:00\", \"1930-12-31T00:00:00\", \"1940-12-31T00:00:00\", \"1950-12-31T00:00:00\", \"1960-12-31T00:00:00\", \"1970-12-31T00:00:00\", \"1980-12-31T00:00:00\", \"1990-12-31T00:00:00\", \"2000-12-31T00:00:00\", \"2010-12-31T00:00:00\", \"2020-12-31T00:00:00\"], \"y\": [null, null, -1.1609354838709678, -0.21002499999999982, -0.9884749999999995, -0.4738583333333336, -0.47070000000000023, -0.44843333333333335, -0.3429916666666665, -0.6957249999999999, -0.38485833333333325, -0.3486750000000002, -0.46240000000000003, -0.09204166666666665, 0.2634250000000001, 0.22200833333333328, -0.07139166666666666, -0.028741666666666683, 0.10010833333333326, 0.6717833333333332, 0.8787749999999995, 1.3731000000000002, 1.6226562500000001]}, {\"line\": {\"color\": \"grey\"}, \"name\": \"Rwanda\", \"opacity\": 0.1, \"type\": \"scatter\", \"x\": [\"1800-12-31T00:00:00\", \"1810-12-31T00:00:00\", \"1820-12-31T00:00:00\", \"1830-12-31T00:00:00\", \"1840-12-31T00:00:00\", \"1850-12-31T00:00:00\", \"1860-12-31T00:00:00\", \"1870-12-31T00:00:00\", \"1880-12-31T00:00:00\", \"1890-12-31T00:00:00\", \"1900-12-31T00:00:00\", \"1910-12-31T00:00:00\", \"1920-12-31T00:00:00\", \"1930-12-31T00:00:00\", \"1940-12-31T00:00:00\", \"1950-12-31T00:00:00\", \"1960-12-31T00:00:00\", \"1970-12-31T00:00:00\", \"1980-12-31T00:00:00\", \"1990-12-31T00:00:00\", \"2000-12-31T00:00:00\", \"2010-12-31T00:00:00\", \"2020-12-31T00:00:00\"], \"y\": [null, null, null, null, null, -0.7588181818181817, -0.6285581395348835, -0.7568846153846155, -0.3795454545454545, -0.6034434782608697, -0.29443333333333366, -0.33476666666666666, -0.1743916666666667, -0.15216666666666664, -0.0001166666666666677, 0.09875833333333334, -0.02763333333333335, -0.09566666666666672, 0.12324166666666667, 0.3683583333333333, 0.4397416666666665, 0.7474999999999998, 0.65278125]}, {\"line\": {\"color\": \"grey\"}, \"name\": \"Saint Kitts and Nevis\", \"opacity\": 0.1, \"type\": \"scatter\", \"x\": [\"1800-12-31T00:00:00\", \"1810-12-31T00:00:00\", \"1820-12-31T00:00:00\", \"1830-12-31T00:00:00\", \"1840-12-31T00:00:00\", \"1850-12-31T00:00:00\", \"1860-12-31T00:00:00\", \"1870-12-31T00:00:00\", \"1880-12-31T00:00:00\", \"1890-12-31T00:00:00\", \"1900-12-31T00:00:00\", \"1910-12-31T00:00:00\", \"1920-12-31T00:00:00\", \"1930-12-31T00:00:00\", \"1940-12-31T00:00:00\", \"1950-12-31T00:00:00\", \"1960-12-31T00:00:00\", \"1970-12-31T00:00:00\", \"1980-12-31T00:00:00\", \"1990-12-31T00:00:00\", \"2000-12-31T00:00:00\", \"2010-12-31T00:00:00\", \"2020-12-31T00:00:00\"], \"y\": [null, null, null, -0.30838461538461537, null, -0.7125652173913042, -0.7393, -0.5995416666666668, -0.46310000000000007, -0.7556249999999999, -0.5394, -0.5079833333333333, -0.5130416666666667, -0.3441499999999999, -0.24678333333333333, -0.18721666666666664, 0.058666666666666666, -0.011625000000000005, -0.04702499999999997, 0.18876666666666655, 0.4170666666666667, 0.7169499999999995, 0.6804062499999999]}, {\"line\": {\"color\": \"grey\"}, \"name\": \"Saint Lucia\", \"opacity\": 0.1, \"type\": \"scatter\", \"x\": [\"1800-12-31T00:00:00\", \"1810-12-31T00:00:00\", \"1820-12-31T00:00:00\", \"1830-12-31T00:00:00\", \"1840-12-31T00:00:00\", \"1850-12-31T00:00:00\", \"1860-12-31T00:00:00\", \"1870-12-31T00:00:00\", \"1880-12-31T00:00:00\", \"1890-12-31T00:00:00\", \"1900-12-31T00:00:00\", \"1910-12-31T00:00:00\", \"1920-12-31T00:00:00\", \"1930-12-31T00:00:00\", \"1940-12-31T00:00:00\", \"1950-12-31T00:00:00\", \"1960-12-31T00:00:00\", \"1970-12-31T00:00:00\", \"1980-12-31T00:00:00\", \"1990-12-31T00:00:00\", \"2000-12-31T00:00:00\", \"2010-12-31T00:00:00\", \"2020-12-31T00:00:00\"], \"y\": [null, null, null, -0.39232307692307694, null, -0.7122173913043477, -0.7657916666666664, -0.6482833333333337, -0.4933083333333334, -0.7789666666666668, -0.5868166666666669, -0.571925, -0.5788916666666666, -0.384875, -0.2595249999999999, -0.19358333333333336, 0.016000000000000007, 0.029008333333333337, -0.04497499999999999, 0.15722500000000006, 0.3831749999999998, 0.6638333333333336, 0.64978125]}, {\"line\": {\"color\": \"grey\"}, \"name\": \"Saint Pierre and Miquelon\", \"opacity\": 0.1, \"type\": \"scatter\", \"x\": [\"1800-12-31T00:00:00\", \"1810-12-31T00:00:00\", \"1820-12-31T00:00:00\", \"1830-12-31T00:00:00\", \"1840-12-31T00:00:00\", \"1850-12-31T00:00:00\", \"1860-12-31T00:00:00\", \"1870-12-31T00:00:00\", \"1880-12-31T00:00:00\", \"1890-12-31T00:00:00\", \"1900-12-31T00:00:00\", \"1910-12-31T00:00:00\", \"1920-12-31T00:00:00\", \"1930-12-31T00:00:00\", \"1940-12-31T00:00:00\", \"1950-12-31T00:00:00\", \"1960-12-31T00:00:00\", \"1970-12-31T00:00:00\", \"1980-12-31T00:00:00\", \"1990-12-31T00:00:00\", \"2000-12-31T00:00:00\", \"2010-12-31T00:00:00\", \"2020-12-31T00:00:00\"], \"y\": [-0.3505, -0.6515249999999998, -1.6080166666666662, -0.7384333333333333, -1.525516666666666, -1.0855, -1.1145000000000003, -0.9112666666666667, -0.8823083333333337, -0.9378916666666662, -0.6500249999999996, -0.4438666666666665, -0.706216666666667, -0.764191666666667, -0.22588333333333332, -0.3424583333333334, 0.35130833333333317, 0.03299166666666672, -0.38432500000000014, -0.09764166666666667, -0.011108333333333541, 0.7368833333333333, 1.3449090909090908]}, {\"line\": {\"color\": \"grey\"}, \"name\": \"Saint Vincent and the Grenadines\", \"opacity\": 0.1, \"type\": \"scatter\", \"x\": [\"1800-12-31T00:00:00\", \"1810-12-31T00:00:00\", \"1820-12-31T00:00:00\", \"1830-12-31T00:00:00\", \"1840-12-31T00:00:00\", \"1850-12-31T00:00:00\", \"1860-12-31T00:00:00\", \"1870-12-31T00:00:00\", \"1880-12-31T00:00:00\", \"1890-12-31T00:00:00\", \"1900-12-31T00:00:00\", \"1910-12-31T00:00:00\", \"1920-12-31T00:00:00\", \"1930-12-31T00:00:00\", \"1940-12-31T00:00:00\", \"1950-12-31T00:00:00\", \"1960-12-31T00:00:00\", \"1970-12-31T00:00:00\", \"1980-12-31T00:00:00\", \"1990-12-31T00:00:00\", \"2000-12-31T00:00:00\", \"2010-12-31T00:00:00\", \"2020-12-31T00:00:00\"], \"y\": [null, null, null, -0.39590769230769235, null, -0.7152028985507246, -0.7696499999999998, -0.6533749999999998, -0.494275, -0.7869000000000003, -0.5918333333333334, -0.5752666666666667, -0.582033333333333, -0.3943666666666665, -0.2669916666666668, -0.19539166666666669, 0.018616666666666667, 0.025408333333333342, -0.04404999999999992, 0.15127500000000002, 0.37584999999999974, 0.6543833333333332, 0.65296875]}, {\"line\": {\"color\": \"grey\"}, \"name\": \"Samoa\", \"opacity\": 0.1, \"type\": \"scatter\", \"x\": [\"1800-12-31T00:00:00\", \"1810-12-31T00:00:00\", \"1820-12-31T00:00:00\", \"1830-12-31T00:00:00\", \"1840-12-31T00:00:00\", \"1850-12-31T00:00:00\", \"1860-12-31T00:00:00\", \"1870-12-31T00:00:00\", \"1880-12-31T00:00:00\", \"1890-12-31T00:00:00\", \"1900-12-31T00:00:00\", \"1910-12-31T00:00:00\", \"1920-12-31T00:00:00\", \"1930-12-31T00:00:00\", \"1940-12-31T00:00:00\", \"1950-12-31T00:00:00\", \"1960-12-31T00:00:00\", \"1970-12-31T00:00:00\", \"1980-12-31T00:00:00\", \"1990-12-31T00:00:00\", \"2000-12-31T00:00:00\", \"2010-12-31T00:00:00\", \"2020-12-31T00:00:00\"], \"y\": [null, null, null, null, null, null, null, -0.5490588235294117, -0.5768076923076922, -0.8922535211267605, -0.6155500000000002, -0.5905000000000001, -0.5276583333333332, -0.32973333333333327, 0.004333333333333309, -0.00360833333333332, 0.055399999999999984, -0.09224166666666664, 0.036833333333333336, 0.18147499999999994, 0.3552416666666666, 0.5282333333333338, 0.4337187499999999]}, {\"line\": {\"color\": \"grey\"}, \"name\": \"Sao Tome and Principe\", \"opacity\": 0.1, \"type\": \"scatter\", \"x\": [\"1800-12-31T00:00:00\", \"1810-12-31T00:00:00\", \"1820-12-31T00:00:00\", \"1830-12-31T00:00:00\", \"1840-12-31T00:00:00\", \"1850-12-31T00:00:00\", \"1860-12-31T00:00:00\", \"1870-12-31T00:00:00\", \"1880-12-31T00:00:00\", \"1890-12-31T00:00:00\", \"1900-12-31T00:00:00\", \"1910-12-31T00:00:00\", \"1920-12-31T00:00:00\", \"1930-12-31T00:00:00\", \"1940-12-31T00:00:00\", \"1950-12-31T00:00:00\", \"1960-12-31T00:00:00\", \"1970-12-31T00:00:00\", \"1980-12-31T00:00:00\", \"1990-12-31T00:00:00\", \"2000-12-31T00:00:00\", \"2010-12-31T00:00:00\", \"2020-12-31T00:00:00\"], \"y\": [null, null, null, null, null, null, -0.7440975609756099, -0.9009285714285716, -0.6836931818181818, -0.827875, -0.7544500000000002, -0.5967999999999997, -0.18245833333333325, -0.07424166666666666, 0.0931583333333333, 0.24423333333333333, -0.06596666666666663, 0.015866666666666664, 0.05010833333333335, 0.13083333333333327, 0.2991833333333334, 0.6549, 0.5317812500000001]}, {\"line\": {\"color\": \"grey\"}, \"name\": \"Saudi Arabia\", \"opacity\": 0.1, \"type\": \"scatter\", \"x\": [\"1800-12-31T00:00:00\", \"1810-12-31T00:00:00\", \"1820-12-31T00:00:00\", \"1830-12-31T00:00:00\", \"1840-12-31T00:00:00\", \"1850-12-31T00:00:00\", \"1860-12-31T00:00:00\", \"1870-12-31T00:00:00\", \"1880-12-31T00:00:00\", \"1890-12-31T00:00:00\", \"1900-12-31T00:00:00\", \"1910-12-31T00:00:00\", \"1920-12-31T00:00:00\", \"1930-12-31T00:00:00\", \"1940-12-31T00:00:00\", \"1950-12-31T00:00:00\", \"1960-12-31T00:00:00\", \"1970-12-31T00:00:00\", \"1980-12-31T00:00:00\", \"1990-12-31T00:00:00\", \"2000-12-31T00:00:00\", \"2010-12-31T00:00:00\", \"2020-12-31T00:00:00\"], \"y\": [null, null, null, null, null, -0.8278870967741938, -0.5961649484536081, -0.6517083333333332, -0.4605166666666668, -0.4228916666666666, -0.46711666666666657, -0.4586666666666664, -0.5331833333333331, -0.1826083333333334, -0.25190000000000007, -0.16627500000000003, -0.023683333333333317, 0.04376666666666665, -0.020141666666666717, -0.08564166666666663, 0.40215, 1.0013250000000002, 1.1020624999999997]}, {\"line\": {\"color\": \"grey\"}, \"name\": \"Senegal\", \"opacity\": 0.1, \"type\": \"scatter\", \"x\": [\"1800-12-31T00:00:00\", \"1810-12-31T00:00:00\", \"1820-12-31T00:00:00\", \"1830-12-31T00:00:00\", \"1840-12-31T00:00:00\", \"1850-12-31T00:00:00\", \"1860-12-31T00:00:00\", \"1870-12-31T00:00:00\", \"1880-12-31T00:00:00\", \"1890-12-31T00:00:00\", \"1900-12-31T00:00:00\", \"1910-12-31T00:00:00\", \"1920-12-31T00:00:00\", \"1930-12-31T00:00:00\", \"1940-12-31T00:00:00\", \"1950-12-31T00:00:00\", \"1960-12-31T00:00:00\", \"1970-12-31T00:00:00\", \"1980-12-31T00:00:00\", \"1990-12-31T00:00:00\", \"2000-12-31T00:00:00\", \"2010-12-31T00:00:00\", \"2020-12-31T00:00:00\"], \"y\": [null, null, null, null, null, -0.5957499999999999, -0.5912394366197186, -0.559896907216495, -0.5885111111111112, -0.5983559322033899, -0.17029166666666679, -0.44511666666666666, -0.24395833333333333, -0.09640833333333339, -0.07702499999999994, 0.0017416666666666728, -0.15680833333333333, 0.05879166666666666, 0.09800833333333332, 0.38370833333333326, 0.5557666666666666, 0.8103916666666673, 0.7036874999999999]}, {\"line\": {\"color\": \"grey\"}, \"name\": \"Serbia\", \"opacity\": 0.1, \"type\": \"scatter\", \"x\": [\"1800-12-31T00:00:00\", \"1810-12-31T00:00:00\", \"1820-12-31T00:00:00\", \"1830-12-31T00:00:00\", \"1840-12-31T00:00:00\", \"1850-12-31T00:00:00\", \"1860-12-31T00:00:00\", \"1870-12-31T00:00:00\", \"1880-12-31T00:00:00\", \"1890-12-31T00:00:00\", \"1900-12-31T00:00:00\", \"1910-12-31T00:00:00\", \"1920-12-31T00:00:00\", \"1930-12-31T00:00:00\", \"1940-12-31T00:00:00\", \"1950-12-31T00:00:00\", \"1960-12-31T00:00:00\", \"1970-12-31T00:00:00\", \"1980-12-31T00:00:00\", \"1990-12-31T00:00:00\", \"2000-12-31T00:00:00\", \"2010-12-31T00:00:00\", \"2020-12-31T00:00:00\"], \"y\": [0.13475, -0.19145833333333329, -0.6374833333333335, -0.2624833333333334, -0.7693583333333335, -0.37404999999999994, -0.44183333333333363, -0.28317499999999984, -0.4690916666666666, -0.6334250000000001, -0.4270083333333331, -0.3598499999999998, -0.2737833333333334, 0.03259166666666662, -0.13942500000000002, 0.06392499999999995, 0.1237333333333333, 0.00289166666666667, -0.126625, 0.156375, 0.46060000000000006, 0.8477249999999998, 1.1767500000000002]}, {\"line\": {\"color\": \"grey\"}, \"name\": \"Seychelles\", \"opacity\": 0.1, \"type\": \"scatter\", \"x\": [\"1800-12-31T00:00:00\", \"1810-12-31T00:00:00\", \"1820-12-31T00:00:00\", \"1830-12-31T00:00:00\", \"1840-12-31T00:00:00\", \"1850-12-31T00:00:00\", \"1860-12-31T00:00:00\", \"1870-12-31T00:00:00\", \"1880-12-31T00:00:00\", \"1890-12-31T00:00:00\", \"1900-12-31T00:00:00\", \"1910-12-31T00:00:00\", \"1920-12-31T00:00:00\", \"1930-12-31T00:00:00\", \"1940-12-31T00:00:00\", \"1950-12-31T00:00:00\", \"1960-12-31T00:00:00\", \"1970-12-31T00:00:00\", \"1980-12-31T00:00:00\", \"1990-12-31T00:00:00\", \"2000-12-31T00:00:00\", \"2010-12-31T00:00:00\", \"2020-12-31T00:00:00\"], \"y\": [null, 0.2522941176470588, null, null, null, -0.8396363636363635, -0.6662526315789475, -0.7264583333333335, -0.4370181818181819, -0.7384999999999999, -0.35517500000000013, -0.5843, -0.33762500000000006, -0.31412499999999993, -0.1079083333333334, -0.06150000000000001, -0.03655833333333333, 0.028983333333333326, 0.007541666666666719, 0.23878333333333332, 0.3697166666666665, 0.7056166666666666, 0.79825]}, {\"line\": {\"color\": \"grey\"}, \"name\": \"Sierra Leone\", \"opacity\": 0.1, \"type\": \"scatter\", \"x\": [\"1800-12-31T00:00:00\", \"1810-12-31T00:00:00\", \"1820-12-31T00:00:00\", \"1830-12-31T00:00:00\", \"1840-12-31T00:00:00\", \"1850-12-31T00:00:00\", \"1860-12-31T00:00:00\", \"1870-12-31T00:00:00\", \"1880-12-31T00:00:00\", \"1890-12-31T00:00:00\", \"1900-12-31T00:00:00\", \"1910-12-31T00:00:00\", \"1920-12-31T00:00:00\", \"1930-12-31T00:00:00\", \"1940-12-31T00:00:00\", \"1950-12-31T00:00:00\", \"1960-12-31T00:00:00\", \"1970-12-31T00:00:00\", \"1980-12-31T00:00:00\", \"1990-12-31T00:00:00\", \"2000-12-31T00:00:00\", \"2010-12-31T00:00:00\", \"2020-12-31T00:00:00\"], \"y\": [null, null, null, null, null, -0.6807083333333334, -0.6549302325581393, -0.648360824742268, -0.7340111111111111, -0.7081949152542374, -0.4994916666666667, -0.4601749999999999, -0.21269166666666664, -0.23519999999999994, -0.06907500000000003, -0.011458333333333345, -0.08997500000000004, -0.006166666666666693, 0.09612500000000002, 0.27257500000000007, 0.44320833333333337, 0.7865416666666668, 0.6120625000000001]}, {\"line\": {\"color\": \"grey\"}, \"name\": \"Singapore\", \"opacity\": 0.1, \"type\": \"scatter\", \"x\": [\"1800-12-31T00:00:00\", \"1810-12-31T00:00:00\", \"1820-12-31T00:00:00\", \"1830-12-31T00:00:00\", \"1840-12-31T00:00:00\", \"1850-12-31T00:00:00\", \"1860-12-31T00:00:00\", \"1870-12-31T00:00:00\", \"1880-12-31T00:00:00\", \"1890-12-31T00:00:00\", \"1900-12-31T00:00:00\", \"1910-12-31T00:00:00\", \"1920-12-31T00:00:00\", \"1930-12-31T00:00:00\", \"1940-12-31T00:00:00\", \"1950-12-31T00:00:00\", \"1960-12-31T00:00:00\", \"1970-12-31T00:00:00\", \"1980-12-31T00:00:00\", \"1990-12-31T00:00:00\", \"2000-12-31T00:00:00\", \"2010-12-31T00:00:00\", \"2020-12-31T00:00:00\"], \"y\": [null, null, null, -0.3646666666666667, -0.9918571428571429, -0.7768526315789472, -0.7083076923076923, -0.799175925925926, -0.778416666666667, -0.6606583333333329, -0.5742916666666666, -0.5995166666666666, -0.43454999999999994, -0.3712916666666667, -0.1923166666666666, -0.0052416666666666835, 0.01924166666666667, -0.031116666666666674, 0.011933333333333329, 0.15449999999999997, 0.35020000000000007, 0.5432416666666666, 0.5491250000000001]}, {\"line\": {\"color\": \"grey\"}, \"name\": \"Slovakia\", \"opacity\": 0.1, \"type\": \"scatter\", \"x\": [\"1800-12-31T00:00:00\", \"1810-12-31T00:00:00\", \"1820-12-31T00:00:00\", \"1830-12-31T00:00:00\", \"1840-12-31T00:00:00\", \"1850-12-31T00:00:00\", \"1860-12-31T00:00:00\", \"1870-12-31T00:00:00\", \"1880-12-31T00:00:00\", \"1890-12-31T00:00:00\", \"1900-12-31T00:00:00\", \"1910-12-31T00:00:00\", \"1920-12-31T00:00:00\", \"1930-12-31T00:00:00\", \"1940-12-31T00:00:00\", \"1950-12-31T00:00:00\", \"1960-12-31T00:00:00\", \"1970-12-31T00:00:00\", \"1980-12-31T00:00:00\", \"1990-12-31T00:00:00\", \"2000-12-31T00:00:00\", \"2010-12-31T00:00:00\", \"2020-12-31T00:00:00\"], \"y\": [-0.09083333333333336, -0.25616666666666676, -0.5302999999999999, -0.21389999999999995, -0.6641750000000001, -0.42652499999999993, -0.5658416666666668, -0.2559916666666667, -0.5249083333333335, -0.6571000000000004, -0.39878333333333327, -0.41863333333333325, -0.21874999999999994, -0.1633249999999999, -0.11870833333333335, 0.014800000000000228, 0.04130000000000005, -0.09601666666666668, 0.05475833333333331, 0.25668333333333326, 0.6214499999999998, 0.9518083333333335, 1.15609375]}, {\"line\": {\"color\": \"grey\"}, \"name\": \"Slovenia\", \"opacity\": 0.1, \"type\": \"scatter\", \"x\": [\"1800-12-31T00:00:00\", \"1810-12-31T00:00:00\", \"1820-12-31T00:00:00\", \"1830-12-31T00:00:00\", \"1840-12-31T00:00:00\", \"1850-12-31T00:00:00\", \"1860-12-31T00:00:00\", \"1870-12-31T00:00:00\", \"1880-12-31T00:00:00\", \"1890-12-31T00:00:00\", \"1900-12-31T00:00:00\", \"1910-12-31T00:00:00\", \"1920-12-31T00:00:00\", \"1930-12-31T00:00:00\", \"1940-12-31T00:00:00\", \"1950-12-31T00:00:00\", \"1960-12-31T00:00:00\", \"1970-12-31T00:00:00\", \"1980-12-31T00:00:00\", \"1990-12-31T00:00:00\", \"2000-12-31T00:00:00\", \"2010-12-31T00:00:00\", \"2020-12-31T00:00:00\"], \"y\": [0.3228333333333334, -0.17263333333333328, -0.4750583333333332, -0.16487500000000002, -0.48687500000000017, -0.2786749999999999, -0.5512250000000001, -0.06000833333333336, -0.39875833333333316, -0.5089250000000001, -0.32514166666666644, -0.3994416666666665, -0.20763333333333325, 0.0815, -0.1454083333333333, 0.228225, 0.08605000000000002, -0.08203333333333342, -0.004016666666666683, 0.3170666666666667, 0.8185999999999997, 1.080158333333333, 1.4138750000000002]}, {\"line\": {\"color\": \"grey\"}, \"name\": \"Solomon Islands\", \"opacity\": 0.1, \"type\": \"scatter\", \"x\": [\"1800-12-31T00:00:00\", \"1810-12-31T00:00:00\", \"1820-12-31T00:00:00\", \"1830-12-31T00:00:00\", \"1840-12-31T00:00:00\", \"1850-12-31T00:00:00\", \"1860-12-31T00:00:00\", \"1870-12-31T00:00:00\", \"1880-12-31T00:00:00\", \"1890-12-31T00:00:00\", \"1900-12-31T00:00:00\", \"1910-12-31T00:00:00\", \"1920-12-31T00:00:00\", \"1930-12-31T00:00:00\", \"1940-12-31T00:00:00\", \"1950-12-31T00:00:00\", \"1960-12-31T00:00:00\", \"1970-12-31T00:00:00\", \"1980-12-31T00:00:00\", \"1990-12-31T00:00:00\", \"2000-12-31T00:00:00\", \"2010-12-31T00:00:00\", \"2020-12-31T00:00:00\"], \"y\": [null, null, null, null, null, null, null, -0.507, -0.5440392156862744, -0.7980769230769232, -0.6101249999999998, -0.5267583333333333, -0.1604583333333333, -0.2841999999999999, -0.20594166666666675, -0.06744166666666668, -0.026149999999999993, -0.0710166666666667, 0.09714166666666667, 0.3337166666666667, 0.359525, 0.6568916666666667, 0.5103437499999999]}, {\"line\": {\"color\": \"grey\"}, \"name\": \"Somalia\", \"opacity\": 0.1, \"type\": \"scatter\", \"x\": [\"1800-12-31T00:00:00\", \"1810-12-31T00:00:00\", \"1820-12-31T00:00:00\", \"1830-12-31T00:00:00\", \"1840-12-31T00:00:00\", \"1850-12-31T00:00:00\", \"1860-12-31T00:00:00\", \"1870-12-31T00:00:00\", \"1880-12-31T00:00:00\", \"1890-12-31T00:00:00\", \"1900-12-31T00:00:00\", \"1910-12-31T00:00:00\", \"1920-12-31T00:00:00\", \"1930-12-31T00:00:00\", \"1940-12-31T00:00:00\", \"1950-12-31T00:00:00\", \"1960-12-31T00:00:00\", \"1970-12-31T00:00:00\", \"1980-12-31T00:00:00\", \"1990-12-31T00:00:00\", \"2000-12-31T00:00:00\", \"2010-12-31T00:00:00\", \"2020-12-31T00:00:00\"], \"y\": [null, null, null, null, null, -0.778090909090909, -0.4908, -0.6794166666666667, -0.3625818181818182, -0.498327731092437, -0.2920916666666665, -0.39929166666666666, -0.279275, -0.2768083333333333, -0.1516166666666667, 0.04012499999999998, -0.01248333333333333, -0.10305833333333338, 0.11552500000000002, 0.1997249999999999, 0.3802000000000001, 0.788208333333333, 0.9693750000000002]}, {\"line\": {\"color\": \"grey\"}, \"name\": \"South Africa\", \"opacity\": 0.1, \"type\": \"scatter\", \"x\": [\"1800-12-31T00:00:00\", \"1810-12-31T00:00:00\", \"1820-12-31T00:00:00\", \"1830-12-31T00:00:00\", \"1840-12-31T00:00:00\", \"1850-12-31T00:00:00\", \"1860-12-31T00:00:00\", \"1870-12-31T00:00:00\", \"1880-12-31T00:00:00\", \"1890-12-31T00:00:00\", \"1900-12-31T00:00:00\", \"1910-12-31T00:00:00\", \"1920-12-31T00:00:00\", \"1930-12-31T00:00:00\", \"1940-12-31T00:00:00\", \"1950-12-31T00:00:00\", \"1960-12-31T00:00:00\", \"1970-12-31T00:00:00\", \"1980-12-31T00:00:00\", \"1990-12-31T00:00:00\", \"2000-12-31T00:00:00\", \"2010-12-31T00:00:00\", \"2020-12-31T00:00:00\"], \"y\": [null, null, null, null, null, null, -0.7539130434782607, -0.5050416666666665, -0.5672956521739129, -0.4992416666666669, -0.4649500000000003, -0.6910083333333337, -0.31170833333333337, -0.1892833333333333, -0.0549666666666667, 0.0778583333333333, -0.15531666666666663, 0.120225, 0.03505, 0.4017583333333333, 0.48967500000000025, 0.620825, 0.4401562499999999]}, {\"line\": {\"color\": \"grey\"}, \"name\": \"South Korea\", \"opacity\": 0.1, \"type\": \"scatter\", \"x\": [\"1800-12-31T00:00:00\", \"1810-12-31T00:00:00\", \"1820-12-31T00:00:00\", \"1830-12-31T00:00:00\", \"1840-12-31T00:00:00\", \"1850-12-31T00:00:00\", \"1860-12-31T00:00:00\", \"1870-12-31T00:00:00\", \"1880-12-31T00:00:00\", \"1890-12-31T00:00:00\", \"1900-12-31T00:00:00\", \"1910-12-31T00:00:00\", \"1920-12-31T00:00:00\", \"1930-12-31T00:00:00\", \"1940-12-31T00:00:00\", \"1950-12-31T00:00:00\", \"1960-12-31T00:00:00\", \"1970-12-31T00:00:00\", \"1980-12-31T00:00:00\", \"1990-12-31T00:00:00\", \"2000-12-31T00:00:00\", \"2010-12-31T00:00:00\", \"2020-12-31T00:00:00\"], \"y\": [null, null, null, null, null, -0.7406833333333335, -0.799475, -0.6949166666666662, -0.541225, -0.6802083333333334, -0.4134916666666665, -0.6215333333333336, -0.5082, -0.4004166666666669, -0.27445000000000014, -0.22609166666666664, 0.048508333333333334, -0.09125833333333332, 0.04269999999999999, 0.17649166666666666, 0.6141416666666666, 0.7949666666666669, 0.4620625000000001]}, {\"line\": {\"color\": \"grey\"}, \"name\": \"Spain\", \"opacity\": 0.1, \"type\": \"scatter\", \"x\": [\"1800-12-31T00:00:00\", \"1810-12-31T00:00:00\", \"1820-12-31T00:00:00\", \"1830-12-31T00:00:00\", \"1840-12-31T00:00:00\", \"1850-12-31T00:00:00\", \"1860-12-31T00:00:00\", \"1870-12-31T00:00:00\", \"1880-12-31T00:00:00\", \"1890-12-31T00:00:00\", \"1900-12-31T00:00:00\", \"1910-12-31T00:00:00\", \"1920-12-31T00:00:00\", \"1930-12-31T00:00:00\", \"1940-12-31T00:00:00\", \"1950-12-31T00:00:00\", \"1960-12-31T00:00:00\", \"1970-12-31T00:00:00\", \"1980-12-31T00:00:00\", \"1990-12-31T00:00:00\", \"2000-12-31T00:00:00\", \"2010-12-31T00:00:00\", \"2020-12-31T00:00:00\"], \"y\": [0.4750833333333333, -0.20144166666666674, -0.666716666666667, -0.1084833333333333, -0.24279999999999985, -0.21671666666666672, -0.30956666666666666, 0.007124999999999987, -0.16535000000000002, -0.634525, -0.015733333333333332, -0.3295416666666666, -0.2976, 0.07323333333333332, -0.04834166666666664, 0.3909416666666667, 0.057474999999999984, 0.16849166666666668, -0.22597499999999998, 0.6060166666666666, 0.7414, 0.9335083333333334, 1.142]}, {\"line\": {\"color\": \"grey\"}, \"name\": \"Sri Lanka\", \"opacity\": 0.1, \"type\": \"scatter\", \"x\": [\"1800-12-31T00:00:00\", \"1810-12-31T00:00:00\", \"1820-12-31T00:00:00\", \"1830-12-31T00:00:00\", \"1840-12-31T00:00:00\", \"1850-12-31T00:00:00\", \"1860-12-31T00:00:00\", \"1870-12-31T00:00:00\", \"1880-12-31T00:00:00\", \"1890-12-31T00:00:00\", \"1900-12-31T00:00:00\", \"1910-12-31T00:00:00\", \"1920-12-31T00:00:00\", \"1930-12-31T00:00:00\", \"1940-12-31T00:00:00\", \"1950-12-31T00:00:00\", \"1960-12-31T00:00:00\", \"1970-12-31T00:00:00\", \"1980-12-31T00:00:00\", \"1990-12-31T00:00:00\", \"2000-12-31T00:00:00\", \"2010-12-31T00:00:00\", \"2020-12-31T00:00:00\"], \"y\": [-0.21808333333333332, 0.060875, -1.2322, -0.45820000000000005, -0.8454745762711865, -0.7266749999999998, -0.6117250000000002, -0.2692528735632183, -0.489425, -0.5026583333333333, -0.2839749999999999, -0.3135416666666668, -0.17435833333333334, -0.2114499999999999, -0.1580666666666666, -0.06151666666666664, -0.05105000000000001, 0.001983333333333333, 0.04908333333333332, 0.2923083333333332, 0.3424833333333333, 0.50185, 0.64934375]}, {\"line\": {\"color\": \"grey\"}, \"name\": \"Sudan\", \"opacity\": 0.1, \"type\": \"scatter\", \"x\": [\"1800-12-31T00:00:00\", \"1810-12-31T00:00:00\", \"1820-12-31T00:00:00\", \"1830-12-31T00:00:00\", \"1840-12-31T00:00:00\", \"1850-12-31T00:00:00\", \"1860-12-31T00:00:00\", \"1870-12-31T00:00:00\", \"1880-12-31T00:00:00\", \"1890-12-31T00:00:00\", \"1900-12-31T00:00:00\", \"1910-12-31T00:00:00\", \"1920-12-31T00:00:00\", \"1930-12-31T00:00:00\", \"1940-12-31T00:00:00\", \"1950-12-31T00:00:00\", \"1960-12-31T00:00:00\", \"1970-12-31T00:00:00\", \"1980-12-31T00:00:00\", \"1990-12-31T00:00:00\", \"2000-12-31T00:00:00\", \"2010-12-31T00:00:00\", \"2020-12-31T00:00:00\"], \"y\": [null, null, null, null, null, null, -0.666609756097561, -0.8006538461538462, -0.4064615384615387, -0.5544499999999999, -0.37929166666666697, -0.37194999999999995, -0.36970000000000003, -0.13106666666666666, 0.10804999999999997, -0.07233333333333333, 0.005224999999999991, -0.084675, 0.07948333333333334, 0.1596500000000001, 0.36884166666666657, 0.8058499999999996, 0.7540312499999999]}, {\"line\": {\"color\": \"grey\"}, \"name\": \"Suriname\", \"opacity\": 0.1, \"type\": \"scatter\", \"x\": [\"1800-12-31T00:00:00\", \"1810-12-31T00:00:00\", \"1820-12-31T00:00:00\", \"1830-12-31T00:00:00\", \"1840-12-31T00:00:00\", \"1850-12-31T00:00:00\", \"1860-12-31T00:00:00\", \"1870-12-31T00:00:00\", \"1880-12-31T00:00:00\", \"1890-12-31T00:00:00\", \"1900-12-31T00:00:00\", \"1910-12-31T00:00:00\", \"1920-12-31T00:00:00\", \"1930-12-31T00:00:00\", \"1940-12-31T00:00:00\", \"1950-12-31T00:00:00\", \"1960-12-31T00:00:00\", \"1970-12-31T00:00:00\", \"1980-12-31T00:00:00\", \"1990-12-31T00:00:00\", \"2000-12-31T00:00:00\", \"2010-12-31T00:00:00\", \"2020-12-31T00:00:00\"], \"y\": [null, null, null, -0.40833846153846143, null, -0.6724637681159421, -0.7731083333333334, -0.6648416666666666, -0.5527000000000003, -0.8104642857142856, -0.6656166666666665, -0.5527083333333334, -0.532183333333333, -0.46712500000000007, -0.1596666666666667, -0.16528333333333337, 0.030508333333333346, 0.067875, -0.09847500000000001, 0.10615833333333335, 0.38938333333333325, 0.6690583333333333, 0.7180312500000001]}, {\"line\": {\"color\": \"grey\"}, \"name\": \"Swaziland\", \"opacity\": 0.1, \"type\": \"scatter\", \"x\": [\"1800-12-31T00:00:00\", \"1810-12-31T00:00:00\", \"1820-12-31T00:00:00\", \"1830-12-31T00:00:00\", \"1840-12-31T00:00:00\", \"1850-12-31T00:00:00\", \"1860-12-31T00:00:00\", \"1870-12-31T00:00:00\", \"1880-12-31T00:00:00\", \"1890-12-31T00:00:00\", \"1900-12-31T00:00:00\", \"1910-12-31T00:00:00\", \"1920-12-31T00:00:00\", \"1930-12-31T00:00:00\", \"1940-12-31T00:00:00\", \"1950-12-31T00:00:00\", \"1960-12-31T00:00:00\", \"1970-12-31T00:00:00\", \"1980-12-31T00:00:00\", \"1990-12-31T00:00:00\", \"2000-12-31T00:00:00\", \"2010-12-31T00:00:00\", \"2020-12-31T00:00:00\"], \"y\": [null, null, null, null, null, null, -0.731608695652174, -0.5326166666666665, -0.5273913043478261, -0.4988666666666666, -0.4605333333333335, -0.5821, -0.31015833333333315, -0.2128583333333332, -0.21640000000000004, 0.08734166666666665, -0.12422499999999997, 0.10617499999999996, 0.018058333333333298, 0.36865833333333337, 0.5274916666666669, 0.6353499999999997, 0.5542187499999999]}, {\"line\": {\"color\": \"grey\"}, \"name\": \"Sweden\", \"opacity\": 0.1, \"type\": \"scatter\", \"x\": [\"1800-12-31T00:00:00\", \"1810-12-31T00:00:00\", \"1820-12-31T00:00:00\", \"1830-12-31T00:00:00\", \"1840-12-31T00:00:00\", \"1850-12-31T00:00:00\", \"1860-12-31T00:00:00\", \"1870-12-31T00:00:00\", \"1880-12-31T00:00:00\", \"1890-12-31T00:00:00\", \"1900-12-31T00:00:00\", \"1910-12-31T00:00:00\", \"1920-12-31T00:00:00\", \"1930-12-31T00:00:00\", \"1940-12-31T00:00:00\", \"1950-12-31T00:00:00\", \"1960-12-31T00:00:00\", \"1970-12-31T00:00:00\", \"1980-12-31T00:00:00\", \"1990-12-31T00:00:00\", \"2000-12-31T00:00:00\", \"2010-12-31T00:00:00\", \"2020-12-31T00:00:00\"], \"y\": [-0.6288333333333335, -0.7633916666666665, -0.529133333333333, 0.01606666666666665, -0.5306666666666667, -0.437025, -0.3631249999999999, -0.6191, -0.6264499999999997, -0.2963750000000001, -0.3937083333333335, -0.20970833333333333, -0.12269999999999999, -0.07874166666666671, 0.6620333333333333, 0.27268333333333333, 0.03958333333333327, -0.22928333333333334, 0.18975833333333336, 0.26350833333333334, 0.8165666666666669, 1.1112916666666672, 1.1327187500000002]}, {\"line\": {\"color\": \"red\", \"width\": 2}, \"name\": \"Switzerland\", \"type\": \"scatter\", \"x\": [\"1800-12-31T00:00:00\", \"1810-12-31T00:00:00\", \"1820-12-31T00:00:00\", \"1830-12-31T00:00:00\", \"1840-12-31T00:00:00\", \"1850-12-31T00:00:00\", \"1860-12-31T00:00:00\", \"1870-12-31T00:00:00\", \"1880-12-31T00:00:00\", \"1890-12-31T00:00:00\", \"1900-12-31T00:00:00\", \"1910-12-31T00:00:00\", \"1920-12-31T00:00:00\", \"1930-12-31T00:00:00\", \"1940-12-31T00:00:00\", \"1950-12-31T00:00:00\", \"1960-12-31T00:00:00\", \"1970-12-31T00:00:00\", \"1980-12-31T00:00:00\", \"1990-12-31T00:00:00\", \"2000-12-31T00:00:00\", \"2010-12-31T00:00:00\", \"2020-12-31T00:00:00\"], \"y\": [0.21658333333333332, -0.251575, -0.6109666666666668, -0.13032500000000002, -0.40600833333333314, -0.42458333333333315, -0.6794583333333329, -0.07945833333333334, -0.346025, -0.6881583333333336, -0.2609416666666668, -0.41215833333333346, -0.25066666666666665, 0.04227499999999999, -0.20083333333333328, 0.3102083333333333, 0.05347500000000002, -0.057266666666666695, 0.0038083333333333116, 0.4056916666666668, 0.8290499999999998, 1.010666666666667, 1.1340312500000003]}, {\"line\": {\"color\": \"grey\"}, \"name\": \"Syria\", \"opacity\": 0.1, \"type\": \"scatter\", \"x\": [\"1800-12-31T00:00:00\", \"1810-12-31T00:00:00\", \"1820-12-31T00:00:00\", \"1830-12-31T00:00:00\", \"1840-12-31T00:00:00\", \"1850-12-31T00:00:00\", \"1860-12-31T00:00:00\", \"1870-12-31T00:00:00\", \"1880-12-31T00:00:00\", \"1890-12-31T00:00:00\", \"1900-12-31T00:00:00\", \"1910-12-31T00:00:00\", \"1920-12-31T00:00:00\", \"1930-12-31T00:00:00\", \"1940-12-31T00:00:00\", \"1950-12-31T00:00:00\", \"1960-12-31T00:00:00\", \"1970-12-31T00:00:00\", \"1980-12-31T00:00:00\", \"1990-12-31T00:00:00\", \"2000-12-31T00:00:00\", \"2010-12-31T00:00:00\", \"2020-12-31T00:00:00\"], \"y\": [null, -1.7394814814814816, -1.3287916666666664, -0.5919500000000002, -1.233975, -0.7057666666666663, -0.5864999999999998, -0.7613166666666675, -0.4136083333333335, -0.5487916666666665, -0.6879000000000003, -0.56355, -0.6259916666666663, -0.1567499999999999, -0.11881666666666658, -0.29341666666666666, 0.01591666666666667, 0.10081666666666673, -0.11670833333333348, -0.04216666666666665, 0.23945833333333333, 0.8333416666666665, 0.7576250000000001]}, {\"line\": {\"color\": \"grey\"}, \"name\": \"Taiwan\", \"opacity\": 0.1, \"type\": \"scatter\", \"x\": [\"1800-12-31T00:00:00\", \"1810-12-31T00:00:00\", \"1820-12-31T00:00:00\", \"1830-12-31T00:00:00\", \"1840-12-31T00:00:00\", \"1850-12-31T00:00:00\", \"1860-12-31T00:00:00\", \"1870-12-31T00:00:00\", \"1880-12-31T00:00:00\", \"1890-12-31T00:00:00\", \"1900-12-31T00:00:00\", \"1910-12-31T00:00:00\", \"1920-12-31T00:00:00\", \"1930-12-31T00:00:00\", \"1940-12-31T00:00:00\", \"1950-12-31T00:00:00\", \"1960-12-31T00:00:00\", \"1970-12-31T00:00:00\", \"1980-12-31T00:00:00\", \"1990-12-31T00:00:00\", \"2000-12-31T00:00:00\", \"2010-12-31T00:00:00\", \"2020-12-31T00:00:00\"], \"y\": [null, null, null, null, null, -0.8547333333333335, -0.6597833333333333, -0.7120677966101693, -0.5610416666666667, -0.8722749999999999, -0.6574416666666666, -0.6138166666666665, -0.5652416666666668, -0.5566666666666668, -0.34114999999999984, -0.092325, 0.07180000000000002, -0.07742499999999998, 0.005641666666666651, -0.02937499999999997, 0.3284916666666668, 0.5888249999999998, 0.30596874999999996]}, {\"line\": {\"color\": \"grey\"}, \"name\": \"Tajikistan\", \"opacity\": 0.1, \"type\": \"scatter\", \"x\": [\"1800-12-31T00:00:00\", \"1810-12-31T00:00:00\", \"1820-12-31T00:00:00\", \"1830-12-31T00:00:00\", \"1840-12-31T00:00:00\", \"1850-12-31T00:00:00\", \"1860-12-31T00:00:00\", \"1870-12-31T00:00:00\", \"1880-12-31T00:00:00\", \"1890-12-31T00:00:00\", \"1900-12-31T00:00:00\", \"1910-12-31T00:00:00\", \"1920-12-31T00:00:00\", \"1930-12-31T00:00:00\", \"1940-12-31T00:00:00\", \"1950-12-31T00:00:00\", \"1960-12-31T00:00:00\", \"1970-12-31T00:00:00\", \"1980-12-31T00:00:00\", \"1990-12-31T00:00:00\", \"2000-12-31T00:00:00\", \"2010-12-31T00:00:00\", \"2020-12-31T00:00:00\"], \"y\": [null, null, null, null, -1.0441744186046513, -0.7477333333333334, -0.6107583333333333, -0.6432000000000002, -0.26793333333333336, -0.6848083333333334, -0.5664833333333333, -0.6347249999999999, -0.26138333333333325, -0.4747833333333333, -0.4047916666666665, 0.012566666666666814, -0.09308333333333337, 0.012233333333333256, 0.08094999999999998, 0.47668333333333346, 0.61865, 1.1663666666666666, 0.7628437499999998]}, {\"line\": {\"color\": \"grey\"}, \"name\": \"Tanzania\", \"opacity\": 0.1, \"type\": \"scatter\", \"x\": [\"1800-12-31T00:00:00\", \"1810-12-31T00:00:00\", \"1820-12-31T00:00:00\", \"1830-12-31T00:00:00\", \"1840-12-31T00:00:00\", \"1850-12-31T00:00:00\", \"1860-12-31T00:00:00\", \"1870-12-31T00:00:00\", \"1880-12-31T00:00:00\", \"1890-12-31T00:00:00\", \"1900-12-31T00:00:00\", \"1910-12-31T00:00:00\", \"1920-12-31T00:00:00\", \"1930-12-31T00:00:00\", \"1940-12-31T00:00:00\", \"1950-12-31T00:00:00\", \"1960-12-31T00:00:00\", \"1970-12-31T00:00:00\", \"1980-12-31T00:00:00\", \"1990-12-31T00:00:00\", \"2000-12-31T00:00:00\", \"2010-12-31T00:00:00\", \"2020-12-31T00:00:00\"], \"y\": [null, null, null, null, null, -0.7642727272727273, -0.4657, -0.67125, -0.3527454545454545, -0.5757714285714285, -0.2590083333333332, -0.33616666666666656, -0.22455, -0.19660000000000005, -0.059941666666666664, -7.499999999999013e-05, 0.021266666666666656, -0.053658333333333315, 0.03232499999999999, 0.3212833333333332, 0.49146666666666655, 0.7553333333333333, 0.7655937500000001]}, {\"line\": {\"color\": \"grey\"}, \"name\": \"Thailand\", \"opacity\": 0.1, \"type\": \"scatter\", \"x\": [\"1800-12-31T00:00:00\", \"1810-12-31T00:00:00\", \"1820-12-31T00:00:00\", \"1830-12-31T00:00:00\", \"1840-12-31T00:00:00\", \"1850-12-31T00:00:00\", \"1860-12-31T00:00:00\", \"1870-12-31T00:00:00\", \"1880-12-31T00:00:00\", \"1890-12-31T00:00:00\", \"1900-12-31T00:00:00\", \"1910-12-31T00:00:00\", \"1920-12-31T00:00:00\", \"1930-12-31T00:00:00\", \"1940-12-31T00:00:00\", \"1950-12-31T00:00:00\", \"1960-12-31T00:00:00\", \"1970-12-31T00:00:00\", \"1980-12-31T00:00:00\", \"1990-12-31T00:00:00\", \"2000-12-31T00:00:00\", \"2010-12-31T00:00:00\", \"2020-12-31T00:00:00\"], \"y\": [null, null, -1.4865087719298251, -0.6570212765957446, -0.9464938271604941, -0.8591666666666669, -0.7406864406779657, -0.8105225225225228, -0.6007333333333332, -0.6587750000000002, -0.5885583333333333, -0.4750250000000001, -0.42879166666666657, -0.3886416666666668, -0.19855833333333334, -0.004341666666666693, 0.007000000000000018, 0.00935833333333332, -0.016333333333333293, 0.007983333333333308, 0.1681583333333333, 0.37979166666666675, 0.56896875]}, {\"line\": {\"color\": \"grey\"}, \"name\": \"Timor-Leste\", \"opacity\": 0.1, \"type\": \"scatter\", \"x\": [\"1800-12-31T00:00:00\", \"1810-12-31T00:00:00\", \"1820-12-31T00:00:00\", \"1830-12-31T00:00:00\", \"1840-12-31T00:00:00\", \"1850-12-31T00:00:00\", \"1860-12-31T00:00:00\", \"1870-12-31T00:00:00\", \"1880-12-31T00:00:00\", \"1890-12-31T00:00:00\", \"1900-12-31T00:00:00\", \"1910-12-31T00:00:00\", \"1920-12-31T00:00:00\", \"1930-12-31T00:00:00\", \"1940-12-31T00:00:00\", \"1950-12-31T00:00:00\", \"1960-12-31T00:00:00\", \"1970-12-31T00:00:00\", \"1980-12-31T00:00:00\", \"1990-12-31T00:00:00\", \"2000-12-31T00:00:00\", \"2010-12-31T00:00:00\", \"2020-12-31T00:00:00\"], \"y\": [null, null, null, null, null, null, null, null, -0.40267647058823525, -0.5256666666666666, -0.6700333333333333, -0.46333333333333304, -0.6274750000000003, -0.5008666666666666, -0.3798833333333333, -0.30405000000000004, 0.017316666666666664, -0.14862499999999987, 0.13133333333333339, 0.2522083333333333, 0.16529166666666661, 0.36262500000000003, 0.05240624999999999]}, {\"line\": {\"color\": \"grey\"}, \"name\": \"Togo\", \"opacity\": 0.1, \"type\": \"scatter\", \"x\": [\"1800-12-31T00:00:00\", \"1810-12-31T00:00:00\", \"1820-12-31T00:00:00\", \"1830-12-31T00:00:00\", \"1840-12-31T00:00:00\", \"1850-12-31T00:00:00\", \"1860-12-31T00:00:00\", \"1870-12-31T00:00:00\", \"1880-12-31T00:00:00\", \"1890-12-31T00:00:00\", \"1900-12-31T00:00:00\", \"1910-12-31T00:00:00\", \"1920-12-31T00:00:00\", \"1930-12-31T00:00:00\", \"1940-12-31T00:00:00\", \"1950-12-31T00:00:00\", \"1960-12-31T00:00:00\", \"1970-12-31T00:00:00\", \"1980-12-31T00:00:00\", \"1990-12-31T00:00:00\", \"2000-12-31T00:00:00\", \"2010-12-31T00:00:00\", \"2020-12-31T00:00:00\"], \"y\": [null, null, null, null, null, -0.6955833333333333, -0.6420000000000001, -0.879357142857143, -0.5717582417582417, -0.8250000000000001, -0.7502583333333334, -0.62405, -0.06619166666666669, 0.10328333333333332, 0.1553583333333333, 0.2751666666666667, -0.07145833333333339, -0.01571666666666665, 0.08717499999999996, 0.36965833333333314, 0.33716666666666667, 0.7393083333333332, 0.6227187500000001]}, {\"line\": {\"color\": \"grey\"}, \"name\": \"Tonga\", \"opacity\": 0.1, \"type\": \"scatter\", \"x\": [\"1800-12-31T00:00:00\", \"1810-12-31T00:00:00\", \"1820-12-31T00:00:00\", \"1830-12-31T00:00:00\", \"1840-12-31T00:00:00\", \"1850-12-31T00:00:00\", \"1860-12-31T00:00:00\", \"1870-12-31T00:00:00\", \"1880-12-31T00:00:00\", \"1890-12-31T00:00:00\", \"1900-12-31T00:00:00\", \"1910-12-31T00:00:00\", \"1920-12-31T00:00:00\", \"1930-12-31T00:00:00\", \"1940-12-31T00:00:00\", \"1950-12-31T00:00:00\", \"1960-12-31T00:00:00\", \"1970-12-31T00:00:00\", \"1980-12-31T00:00:00\", \"1990-12-31T00:00:00\", \"2000-12-31T00:00:00\", \"2010-12-31T00:00:00\", \"2020-12-31T00:00:00\"], \"y\": [null, null, null, null, null, null, null, -0.6650882352941175, -0.5755471698113207, -0.9246760563380287, -0.5774250000000004, -0.6234166666666671, -0.594633333333333, -0.3939500000000001, -0.02918333333333334, -0.04080000000000001, -0.03145, -0.15976666666666672, 0.1912333333333334, 0.19854999999999998, 0.2919666666666666, 0.4619250000000001, 0.6389687499999999]}, {\"line\": {\"color\": \"grey\"}, \"name\": \"Trinidad and Tobago\", \"opacity\": 0.1, \"type\": \"scatter\", \"x\": [\"1800-12-31T00:00:00\", \"1810-12-31T00:00:00\", \"1820-12-31T00:00:00\", \"1830-12-31T00:00:00\", \"1840-12-31T00:00:00\", \"1850-12-31T00:00:00\", \"1860-12-31T00:00:00\", \"1870-12-31T00:00:00\", \"1880-12-31T00:00:00\", \"1890-12-31T00:00:00\", \"1900-12-31T00:00:00\", \"1910-12-31T00:00:00\", \"1920-12-31T00:00:00\", \"1930-12-31T00:00:00\", \"1940-12-31T00:00:00\", \"1950-12-31T00:00:00\", \"1960-12-31T00:00:00\", \"1970-12-31T00:00:00\", \"1980-12-31T00:00:00\", \"1990-12-31T00:00:00\", \"2000-12-31T00:00:00\", \"2010-12-31T00:00:00\", \"2020-12-31T00:00:00\"], \"y\": [null, null, null, -0.42916923076923086, null, -0.7048840579710144, -0.7867249999999995, -0.6806583333333338, -0.5116833333333334, -0.7905166666666669, -0.6165833333333333, -0.6086916666666669, -0.5997999999999998, -0.4393666666666666, -0.24530833333333346, -0.16739166666666663, 0.00828333333333331, 0.03520833333333332, -0.04354166666666666, 0.15101666666666663, 0.35226666666666673, 0.6380750000000001, 0.6493125000000002]}, {\"line\": {\"color\": \"grey\"}, \"name\": \"Tunisia\", \"opacity\": 0.1, \"type\": \"scatter\", \"x\": [\"1800-12-31T00:00:00\", \"1810-12-31T00:00:00\", \"1820-12-31T00:00:00\", \"1830-12-31T00:00:00\", \"1840-12-31T00:00:00\", \"1850-12-31T00:00:00\", \"1860-12-31T00:00:00\", \"1870-12-31T00:00:00\", \"1880-12-31T00:00:00\", \"1890-12-31T00:00:00\", \"1900-12-31T00:00:00\", \"1910-12-31T00:00:00\", \"1920-12-31T00:00:00\", \"1930-12-31T00:00:00\", \"1940-12-31T00:00:00\", \"1950-12-31T00:00:00\", \"1960-12-31T00:00:00\", \"1970-12-31T00:00:00\", \"1980-12-31T00:00:00\", \"1990-12-31T00:00:00\", \"2000-12-31T00:00:00\", \"2010-12-31T00:00:00\", \"2020-12-31T00:00:00\"], \"y\": [0.43283333333333335, -0.19090833333333335, -0.7912999999999994, -0.3036416666666667, -0.5225750000000002, -0.27310833333333334, -0.44805, -0.19303333333333333, -0.23256666666666664, -0.6066999999999999, -0.11702499999999999, -0.5133916666666668, -0.20499166666666657, 0.041049999999999996, 0.06430833333333334, 0.2940083333333335, 0.11930833333333332, 0.08690833333333335, -0.20627500000000007, 0.47049166666666664, 0.7294999999999999, 1.2319583333333337, 1.1995625]}, {\"line\": {\"color\": \"grey\"}, \"name\": \"Turkey\", \"opacity\": 0.1, \"type\": \"scatter\", \"x\": [\"1800-12-31T00:00:00\", \"1810-12-31T00:00:00\", \"1820-12-31T00:00:00\", \"1830-12-31T00:00:00\", \"1840-12-31T00:00:00\", \"1850-12-31T00:00:00\", \"1860-12-31T00:00:00\", \"1870-12-31T00:00:00\", \"1880-12-31T00:00:00\", \"1890-12-31T00:00:00\", \"1900-12-31T00:00:00\", \"1910-12-31T00:00:00\", \"1920-12-31T00:00:00\", \"1930-12-31T00:00:00\", \"1940-12-31T00:00:00\", \"1950-12-31T00:00:00\", \"1960-12-31T00:00:00\", \"1970-12-31T00:00:00\", \"1980-12-31T00:00:00\", \"1990-12-31T00:00:00\", \"2000-12-31T00:00:00\", \"2010-12-31T00:00:00\", \"2020-12-31T00:00:00\"], \"y\": [-0.17700000000000002, -0.4358333333333333, -1.2362333333333333, -0.5998083333333334, -1.2609500000000005, -0.6343333333333334, -0.5456166666666664, -0.7546416666666667, -0.37639166666666657, -0.6259916666666668, -0.6125999999999999, -0.5547416666666668, -0.4617833333333331, -0.11504166666666664, -0.07600833333333336, -0.3306083333333334, 0.023416666666666672, 0.15441666666666676, -0.17778333333333343, -0.02112500000000001, 0.08500833333333326, 0.7941416666666666, 0.6909375000000001]}, {\"line\": {\"color\": \"grey\"}, \"name\": \"Turkmenistan\", \"opacity\": 0.1, \"type\": \"scatter\", \"x\": [\"1800-12-31T00:00:00\", \"1810-12-31T00:00:00\", \"1820-12-31T00:00:00\", \"1830-12-31T00:00:00\", \"1840-12-31T00:00:00\", \"1850-12-31T00:00:00\", \"1860-12-31T00:00:00\", \"1870-12-31T00:00:00\", \"1880-12-31T00:00:00\", \"1890-12-31T00:00:00\", \"1900-12-31T00:00:00\", \"1910-12-31T00:00:00\", \"1920-12-31T00:00:00\", \"1930-12-31T00:00:00\", \"1940-12-31T00:00:00\", \"1950-12-31T00:00:00\", \"1960-12-31T00:00:00\", \"1970-12-31T00:00:00\", \"1980-12-31T00:00:00\", \"1990-12-31T00:00:00\", \"2000-12-31T00:00:00\", \"2010-12-31T00:00:00\", \"2020-12-31T00:00:00\"], \"y\": [null, null, -1.5844666666666667, -0.8639999999999999, -1.0239272727272728, -0.6943416666666667, -0.5234333333333334, -0.7035500000000002, -0.20689999999999995, -0.5721833333333336, -0.6410416666666666, -0.44003333333333333, -0.37898333333333334, -0.5069000000000001, -0.3385249999999999, -0.11880000000000003, -0.18340000000000004, 0.17324999999999993, 0.01016666666666668, 0.5641999999999997, 0.8130249999999999, 1.426658333333333, 1.1213125]}, {\"line\": {\"color\": \"grey\"}, \"name\": \"Turks and Caicos Islands\", \"opacity\": 0.1, \"type\": \"scatter\", \"x\": [\"1800-12-31T00:00:00\", \"1810-12-31T00:00:00\", \"1820-12-31T00:00:00\", \"1830-12-31T00:00:00\", \"1840-12-31T00:00:00\", \"1850-12-31T00:00:00\", \"1860-12-31T00:00:00\", \"1870-12-31T00:00:00\", \"1880-12-31T00:00:00\", \"1890-12-31T00:00:00\", \"1900-12-31T00:00:00\", \"1910-12-31T00:00:00\", \"1920-12-31T00:00:00\", \"1930-12-31T00:00:00\", \"1940-12-31T00:00:00\", \"1950-12-31T00:00:00\", \"1960-12-31T00:00:00\", \"1970-12-31T00:00:00\", \"1980-12-31T00:00:00\", \"1990-12-31T00:00:00\", \"2000-12-31T00:00:00\", \"2010-12-31T00:00:00\", \"2020-12-31T00:00:00\"], \"y\": [null, null, null, -0.14185416666666656, -0.708433333333333, -0.7079916666666669, -0.6269750000000001, -0.4802749999999999, -0.400025, -0.6218499999999998, -0.4160750000000002, -0.4923499999999999, -0.447025, -0.23169166666666674, -0.12761666666666666, -0.005141666666666646, -0.06620833333333323, 0.020116666666666658, 0.046075000000000005, 0.26255, 0.4388083333333332, 0.6331, 0.524121212121212]}, {\"line\": {\"color\": \"grey\"}, \"name\": \"Uganda\", \"opacity\": 0.1, \"type\": \"scatter\", \"x\": [\"1800-12-31T00:00:00\", \"1810-12-31T00:00:00\", \"1820-12-31T00:00:00\", \"1830-12-31T00:00:00\", \"1840-12-31T00:00:00\", \"1850-12-31T00:00:00\", \"1860-12-31T00:00:00\", \"1870-12-31T00:00:00\", \"1880-12-31T00:00:00\", \"1890-12-31T00:00:00\", \"1900-12-31T00:00:00\", \"1910-12-31T00:00:00\", \"1920-12-31T00:00:00\", \"1930-12-31T00:00:00\", \"1940-12-31T00:00:00\", \"1950-12-31T00:00:00\", \"1960-12-31T00:00:00\", \"1970-12-31T00:00:00\", \"1980-12-31T00:00:00\", \"1990-12-31T00:00:00\", \"2000-12-31T00:00:00\", \"2010-12-31T00:00:00\", \"2020-12-31T00:00:00\"], \"y\": [null, null, null, null, null, -0.7764545454545455, -0.6421162790697674, -0.7757692307692309, -0.3646727272727273, -0.5784369747899162, -0.3012666666666667, -0.3182166666666667, -0.21368333333333336, -0.2116416666666667, 0.014016666666666658, 0.05048333333333336, -0.03890833333333333, -0.10214166666666667, 0.14104166666666665, 0.33179166666666665, 0.38445833333333324, 0.693991666666667, 0.7345625]}, {\"line\": {\"color\": \"grey\"}, \"name\": \"Ukraine\", \"opacity\": 0.1, \"type\": \"scatter\", \"x\": [\"1800-12-31T00:00:00\", \"1810-12-31T00:00:00\", \"1820-12-31T00:00:00\", \"1830-12-31T00:00:00\", \"1840-12-31T00:00:00\", \"1850-12-31T00:00:00\", \"1860-12-31T00:00:00\", \"1870-12-31T00:00:00\", \"1880-12-31T00:00:00\", \"1890-12-31T00:00:00\", \"1900-12-31T00:00:00\", \"1910-12-31T00:00:00\", \"1920-12-31T00:00:00\", \"1930-12-31T00:00:00\", \"1940-12-31T00:00:00\", \"1950-12-31T00:00:00\", \"1960-12-31T00:00:00\", \"1970-12-31T00:00:00\", \"1980-12-31T00:00:00\", \"1990-12-31T00:00:00\", \"2000-12-31T00:00:00\", \"2010-12-31T00:00:00\", \"2020-12-31T00:00:00\"], \"y\": [-0.2900833333333333, -0.3965833333333334, -0.9332916666666666, -0.36442500000000005, -1.1000416666666666, -0.4814916666666669, -0.3275416666666666, -0.6408333333333333, -0.5923083333333334, -0.571783333333333, -0.5216166666666668, -0.3182916666666665, -0.42338333333333333, -0.31219166666666653, -0.07443333333333335, -0.4024083333333333, -0.04111666666666666, 0.05112499999999998, -0.009975000000000038, 0.217375, 0.4957666666666667, 1.2121333333333333, 1.3311249999999997]}, {\"line\": {\"color\": \"grey\"}, \"name\": \"United Arab Emirates\", \"opacity\": 0.1, \"type\": \"scatter\", \"x\": [\"1800-12-31T00:00:00\", \"1810-12-31T00:00:00\", \"1820-12-31T00:00:00\", \"1830-12-31T00:00:00\", \"1840-12-31T00:00:00\", \"1850-12-31T00:00:00\", \"1860-12-31T00:00:00\", \"1870-12-31T00:00:00\", \"1880-12-31T00:00:00\", \"1890-12-31T00:00:00\", \"1900-12-31T00:00:00\", \"1910-12-31T00:00:00\", \"1920-12-31T00:00:00\", \"1930-12-31T00:00:00\", \"1940-12-31T00:00:00\", \"1950-12-31T00:00:00\", \"1960-12-31T00:00:00\", \"1970-12-31T00:00:00\", \"1980-12-31T00:00:00\", \"1990-12-31T00:00:00\", \"2000-12-31T00:00:00\", \"2010-12-31T00:00:00\", \"2020-12-31T00:00:00\"], \"y\": [null, null, null, null, null, -0.769078431372549, -0.4359166666666667, -0.5907168141592917, -0.40036134453781524, -0.374975, -0.35867500000000024, -0.3487750000000001, -0.435166666666667, -0.1814666666666667, -0.3629833333333335, -0.08117500000000001, -0.03578333333333334, -0.019216666666666653, 0.05495833333333325, -0.018041666666666675, 0.5260666666666666, 1.2933666666666666, 1.3656249999999999]}, {\"line\": {\"color\": \"grey\"}, \"name\": \"United Kingdom\", \"opacity\": 0.1, \"type\": \"scatter\", \"x\": [\"1800-12-31T00:00:00\", \"1810-12-31T00:00:00\", \"1820-12-31T00:00:00\", \"1830-12-31T00:00:00\", \"1840-12-31T00:00:00\", \"1850-12-31T00:00:00\", \"1860-12-31T00:00:00\", \"1870-12-31T00:00:00\", \"1880-12-31T00:00:00\", \"1890-12-31T00:00:00\", \"1900-12-31T00:00:00\", \"1910-12-31T00:00:00\", \"1920-12-31T00:00:00\", \"1930-12-31T00:00:00\", \"1940-12-31T00:00:00\", \"1950-12-31T00:00:00\", \"1960-12-31T00:00:00\", \"1970-12-31T00:00:00\", \"1980-12-31T00:00:00\", \"1990-12-31T00:00:00\", \"2000-12-31T00:00:00\", \"2010-12-31T00:00:00\", \"2020-12-31T00:00:00\"], \"y\": [-0.399, -0.47015833333333334, -0.6651666666666667, -0.0962416666666667, -0.39709166666666657, -0.27264999999999995, -0.35328333333333334, -0.14453333333333332, -0.3373916666666666, -0.5973833333333334, -0.2147333333333333, -0.35715, -0.1523750000000001, -0.12199166666666669, 0.15186666666666662, 0.24232499999999998, 0.11425000000000002, -0.18653333333333347, 0.0723500000000001, 0.16334166666666664, 0.5419999999999999, 0.8652750000000007, 0.64875]}, {\"line\": {\"color\": \"grey\"}, \"name\": \"United States of America\", \"opacity\": 0.1, \"type\": \"scatter\", \"x\": [\"1800-12-31T00:00:00\", \"1810-12-31T00:00:00\", \"1820-12-31T00:00:00\", \"1830-12-31T00:00:00\", \"1840-12-31T00:00:00\", \"1850-12-31T00:00:00\", \"1860-12-31T00:00:00\", \"1870-12-31T00:00:00\", \"1880-12-31T00:00:00\", \"1890-12-31T00:00:00\", \"1900-12-31T00:00:00\", \"1910-12-31T00:00:00\", \"1920-12-31T00:00:00\", \"1930-12-31T00:00:00\", \"1940-12-31T00:00:00\", \"1950-12-31T00:00:00\", \"1960-12-31T00:00:00\", \"1970-12-31T00:00:00\", \"1980-12-31T00:00:00\", \"1990-12-31T00:00:00\", \"2000-12-31T00:00:00\", \"2010-12-31T00:00:00\", \"2020-12-31T00:00:00\"], \"y\": [null, null, -1.2339651162790695, -0.20288333333333322, -0.6913750000000003, -0.5712583333333335, -0.4257999999999999, -0.3554333333333334, -0.39387499999999986, -0.5005750000000002, -0.4380416666666666, -0.37147500000000017, -0.39042500000000013, 0.01723333333333336, 0.32960833333333345, 0.0866833333333333, 0.1234833333333333, -0.07334166666666665, -0.05015833333333332, 0.3495833333333333, 0.5370416666666668, 0.8389749999999998, 1.0004848484848483]}, {\"line\": {\"color\": \"grey\"}, \"name\": \"Uruguay\", \"opacity\": 0.1, \"type\": \"scatter\", \"x\": [\"1800-12-31T00:00:00\", \"1810-12-31T00:00:00\", \"1820-12-31T00:00:00\", \"1830-12-31T00:00:00\", \"1840-12-31T00:00:00\", \"1850-12-31T00:00:00\", \"1860-12-31T00:00:00\", \"1870-12-31T00:00:00\", \"1880-12-31T00:00:00\", \"1890-12-31T00:00:00\", \"1900-12-31T00:00:00\", \"1910-12-31T00:00:00\", \"1920-12-31T00:00:00\", \"1930-12-31T00:00:00\", \"1940-12-31T00:00:00\", \"1950-12-31T00:00:00\", \"1960-12-31T00:00:00\", \"1970-12-31T00:00:00\", \"1980-12-31T00:00:00\", \"1990-12-31T00:00:00\", \"2000-12-31T00:00:00\", \"2010-12-31T00:00:00\", \"2020-12-31T00:00:00\"], \"y\": [null, null, null, null, -0.9902962962962966, -0.6939444444444445, -0.5545249999999999, -0.4994, -0.7023666666666671, -0.8750749999999997, -0.3494583333333336, -0.4868333333333332, -0.3169666666666665, -0.23573333333333338, -0.18587500000000015, -0.014975000000000018, -0.11541666666666674, 0.022424999999999955, 0.09301666666666669, 0.3560666666666667, 0.4438166666666668, 0.6623250000000003, 0.5555624999999998]}, {\"line\": {\"color\": \"grey\"}, \"name\": \"Uzbekistan\", \"opacity\": 0.1, \"type\": \"scatter\", \"x\": [\"1800-12-31T00:00:00\", \"1810-12-31T00:00:00\", \"1820-12-31T00:00:00\", \"1830-12-31T00:00:00\", \"1840-12-31T00:00:00\", \"1850-12-31T00:00:00\", \"1860-12-31T00:00:00\", \"1870-12-31T00:00:00\", \"1880-12-31T00:00:00\", \"1890-12-31T00:00:00\", \"1900-12-31T00:00:00\", \"1910-12-31T00:00:00\", \"1920-12-31T00:00:00\", \"1930-12-31T00:00:00\", \"1940-12-31T00:00:00\", \"1950-12-31T00:00:00\", \"1960-12-31T00:00:00\", \"1970-12-31T00:00:00\", \"1980-12-31T00:00:00\", \"1990-12-31T00:00:00\", \"2000-12-31T00:00:00\", \"2010-12-31T00:00:00\", \"2020-12-31T00:00:00\"], \"y\": [null, null, -1.6208571428571428, null, -1.0805909090909094, -0.7431250000000004, -0.5905500000000001, -0.7102000000000002, -0.26493333333333335, -0.6780583333333333, -0.7256000000000001, -0.5681749999999999, -0.3692833333333333, -0.5189499999999999, -0.4194416666666663, -0.163025, -0.2820083333333333, 0.2129249999999998, 0.06916666666666667, 0.579733333333333, 0.6727749999999998, 1.343841666666667, 0.9355937500000001]}, {\"line\": {\"color\": \"grey\"}, \"name\": \"Venezuela\", \"opacity\": 0.1, \"type\": \"scatter\", \"x\": [\"1800-12-31T00:00:00\", \"1810-12-31T00:00:00\", \"1820-12-31T00:00:00\", \"1830-12-31T00:00:00\", \"1840-12-31T00:00:00\", \"1850-12-31T00:00:00\", \"1860-12-31T00:00:00\", \"1870-12-31T00:00:00\", \"1880-12-31T00:00:00\", \"1890-12-31T00:00:00\", \"1900-12-31T00:00:00\", \"1910-12-31T00:00:00\", \"1920-12-31T00:00:00\", \"1930-12-31T00:00:00\", \"1940-12-31T00:00:00\", \"1950-12-31T00:00:00\", \"1960-12-31T00:00:00\", \"1970-12-31T00:00:00\", \"1980-12-31T00:00:00\", \"1990-12-31T00:00:00\", \"2000-12-31T00:00:00\", \"2010-12-31T00:00:00\", \"2020-12-31T00:00:00\"], \"y\": [null, null, null, -0.43901538461538453, null, -0.7299710144927535, -0.7933166666666666, -0.6998999999999997, -0.5115416666666669, -0.8462666666666664, -0.6629583333333333, -0.5768166666666666, -0.6036416666666667, -0.46159166666666646, -0.25415833333333326, -0.14729166666666668, -0.003116666666666672, 0.04219166666666669, -0.039041666666666704, 0.12527500000000005, 0.30644166666666683, 0.5801499999999998, 0.4191875]}, {\"line\": {\"color\": \"grey\"}, \"name\": \"Vietnam\", \"opacity\": 0.1, \"type\": \"scatter\", \"x\": [\"1800-12-31T00:00:00\", \"1810-12-31T00:00:00\", \"1820-12-31T00:00:00\", \"1830-12-31T00:00:00\", \"1840-12-31T00:00:00\", \"1850-12-31T00:00:00\", \"1860-12-31T00:00:00\", \"1870-12-31T00:00:00\", \"1880-12-31T00:00:00\", \"1890-12-31T00:00:00\", \"1900-12-31T00:00:00\", \"1910-12-31T00:00:00\", \"1920-12-31T00:00:00\", \"1930-12-31T00:00:00\", \"1940-12-31T00:00:00\", \"1950-12-31T00:00:00\", \"1960-12-31T00:00:00\", \"1970-12-31T00:00:00\", \"1980-12-31T00:00:00\", \"1990-12-31T00:00:00\", \"2000-12-31T00:00:00\", \"2010-12-31T00:00:00\", \"2020-12-31T00:00:00\"], \"y\": [null, null, null, -0.35674999999999996, -0.9381904761904761, -0.8194117647058824, -0.71185593220339, -0.7241261261261264, -0.5714416666666667, -0.7163166666666668, -0.6433166666666668, -0.4601083333333335, -0.40304166666666663, -0.35554166666666664, -0.1768583333333334, 0.07501666666666665, 0.03538333333333336, 0.011191666666666655, -0.04656666666666665, 0.09107499999999999, 0.1387333333333334, 0.3664500000000002, 0.3765625000000001]}, {\"line\": {\"color\": \"grey\"}, \"name\": \"Western Sahara\", \"opacity\": 0.1, \"type\": \"scatter\", \"x\": [\"1800-12-31T00:00:00\", \"1810-12-31T00:00:00\", \"1820-12-31T00:00:00\", \"1830-12-31T00:00:00\", \"1840-12-31T00:00:00\", \"1850-12-31T00:00:00\", \"1860-12-31T00:00:00\", \"1870-12-31T00:00:00\", \"1880-12-31T00:00:00\", \"1890-12-31T00:00:00\", \"1900-12-31T00:00:00\", \"1910-12-31T00:00:00\", \"1920-12-31T00:00:00\", \"1930-12-31T00:00:00\", \"1940-12-31T00:00:00\", \"1950-12-31T00:00:00\", \"1960-12-31T00:00:00\", \"1970-12-31T00:00:00\", \"1980-12-31T00:00:00\", \"1990-12-31T00:00:00\", \"2000-12-31T00:00:00\", \"2010-12-31T00:00:00\", \"2020-12-31T00:00:00\"], \"y\": [0.107, -0.36883116883116884, -0.8671904761904764, -0.2302916666666665, -0.6250916666666672, -0.4404786324786324, -0.3875666666666665, -0.2738833333333334, -0.3631416666666666, -0.4842166666666665, -0.0913916666666667, -0.34759166666666663, -0.18574166666666653, 0.05280000000000001, -0.088725, 0.024850000000000018, -0.11555833333333337, 0.2365083333333334, -0.1208916666666667, 0.5572333333333331, 0.6361083333333336, 1.0822333333333327, 0.9859374999999998]}, {\"line\": {\"color\": \"grey\"}, \"name\": \"Yemen\", \"opacity\": 0.1, \"type\": \"scatter\", \"x\": [\"1800-12-31T00:00:00\", \"1810-12-31T00:00:00\", \"1820-12-31T00:00:00\", \"1830-12-31T00:00:00\", \"1840-12-31T00:00:00\", \"1850-12-31T00:00:00\", \"1860-12-31T00:00:00\", \"1870-12-31T00:00:00\", \"1880-12-31T00:00:00\", \"1890-12-31T00:00:00\", \"1900-12-31T00:00:00\", \"1910-12-31T00:00:00\", \"1920-12-31T00:00:00\", \"1930-12-31T00:00:00\", \"1940-12-31T00:00:00\", \"1950-12-31T00:00:00\", \"1960-12-31T00:00:00\", \"1970-12-31T00:00:00\", \"1980-12-31T00:00:00\", \"1990-12-31T00:00:00\", \"2000-12-31T00:00:00\", \"2010-12-31T00:00:00\", \"2020-12-31T00:00:00\"], \"y\": [null, null, null, null, null, null, null, null, -0.31459649122807015, -0.35150833333333337, -0.33978333333333327, -0.3898416666666666, -0.3791083333333332, -0.1823583333333335, -0.2894666666666666, 0.048083333333333284, -0.07521666666666665, 0.0028916666666666466, 0.07235833333333334, -0.016925000000000016, 0.5721083333333333, 0.9360666666666669, 1.10365625]}, {\"line\": {\"color\": \"grey\"}, \"name\": \"Zambia\", \"opacity\": 0.1, \"type\": \"scatter\", \"x\": [\"1800-12-31T00:00:00\", \"1810-12-31T00:00:00\", \"1820-12-31T00:00:00\", \"1830-12-31T00:00:00\", \"1840-12-31T00:00:00\", \"1850-12-31T00:00:00\", \"1860-12-31T00:00:00\", \"1870-12-31T00:00:00\", \"1880-12-31T00:00:00\", \"1890-12-31T00:00:00\", \"1900-12-31T00:00:00\", \"1910-12-31T00:00:00\", \"1920-12-31T00:00:00\", \"1930-12-31T00:00:00\", \"1940-12-31T00:00:00\", \"1950-12-31T00:00:00\", \"1960-12-31T00:00:00\", \"1970-12-31T00:00:00\", \"1980-12-31T00:00:00\", \"1990-12-31T00:00:00\", \"2000-12-31T00:00:00\", \"2010-12-31T00:00:00\", \"2020-12-31T00:00:00\"], \"y\": [null, null, null, null, null, -0.7786363636363638, -0.5142000000000001, -0.6468333333333333, -0.4875846153846154, -0.6082333333333333, -0.3377250000000001, -0.444625, -0.14537499999999998, -0.0735, -0.20323333333333332, 0.03305833333333333, 0.06862499999999999, 0.020783333333333338, -0.08940833333333334, 0.4425250000000002, 0.6207166666666664, 0.68045, 0.55625]}, {\"line\": {\"color\": \"grey\"}, \"name\": \"Zimbabwe\", \"opacity\": 0.1, \"type\": \"scatter\", \"x\": [\"1800-12-31T00:00:00\", \"1810-12-31T00:00:00\", \"1820-12-31T00:00:00\", \"1830-12-31T00:00:00\", \"1840-12-31T00:00:00\", \"1850-12-31T00:00:00\", \"1860-12-31T00:00:00\", \"1870-12-31T00:00:00\", \"1880-12-31T00:00:00\", \"1890-12-31T00:00:00\", \"1900-12-31T00:00:00\", \"1910-12-31T00:00:00\", \"1920-12-31T00:00:00\", \"1930-12-31T00:00:00\", \"1940-12-31T00:00:00\", \"1950-12-31T00:00:00\", \"1960-12-31T00:00:00\", \"1970-12-31T00:00:00\", \"1980-12-31T00:00:00\", \"1990-12-31T00:00:00\", \"2000-12-31T00:00:00\", \"2010-12-31T00:00:00\", \"2020-12-31T00:00:00\"], \"y\": [null, null, null, null, null, -0.7883636363636364, -0.6516000000000001, -0.6349090909090909, -0.4960923076923077, -0.5625833333333337, -0.35573333333333346, -0.517825, -0.1577416666666667, -0.12486666666666665, -0.23453333333333332, 0.13678333333333342, 0.02129166666666665, 0.10375833333333334, -0.12508333333333335, 0.45284166666666653, 0.6784666666666663, 0.5938916666666664, 0.4690937500000001]}, {\"line\": {\"color\": \"black\", \"dash\": \"dot\", \"width\": 1}, \"name\": \"Mittelwert von 1950-1980\", \"opacity\": 0.8, \"type\": \"scatter\", \"x\": [\"1800-12-31T00:00:00\", \"1810-12-31T00:00:00\", \"1820-12-31T00:00:00\", \"1830-12-31T00:00:00\", \"1840-12-31T00:00:00\", \"1850-12-31T00:00:00\", \"1860-12-31T00:00:00\", \"1870-12-31T00:00:00\", \"1880-12-31T00:00:00\", \"1890-12-31T00:00:00\", \"1900-12-31T00:00:00\", \"1910-12-31T00:00:00\", \"1920-12-31T00:00:00\", \"1930-12-31T00:00:00\", \"1940-12-31T00:00:00\", \"1950-12-31T00:00:00\", \"1960-12-31T00:00:00\", \"1970-12-31T00:00:00\", \"1980-12-31T00:00:00\", \"1990-12-31T00:00:00\", \"2000-12-31T00:00:00\", \"2010-12-31T00:00:00\", \"2020-12-31T00:00:00\"], \"y\": [0, 0, 0, 0, 0, 0, 0, 0, 0, 0, 0, 0, 0, 0, 0, 0, 0, 0, 0, 0, 0, 0, 0]}],\n",
       "                        {\"annotations\": [{\"showarrow\": false, \"text\": \"Quelle: http://berkeleyearth.org/\", \"x\": 0.5, \"xref\": \"paper\", \"y\": -0.25, \"yref\": \"paper\"}], \"margin\": {\"b\": 90}, \"showlegend\": false, \"template\": {\"data\": {\"bar\": [{\"error_x\": {\"color\": \"rgb(36,36,36)\"}, \"error_y\": {\"color\": \"rgb(36,36,36)\"}, \"marker\": {\"line\": {\"color\": \"white\", \"width\": 0.5}}, \"type\": \"bar\"}], \"barpolar\": [{\"marker\": {\"line\": {\"color\": \"white\", \"width\": 0.5}}, \"type\": \"barpolar\"}], \"carpet\": [{\"aaxis\": {\"endlinecolor\": \"rgb(36,36,36)\", \"gridcolor\": \"white\", \"linecolor\": \"white\", \"minorgridcolor\": \"white\", \"startlinecolor\": \"rgb(36,36,36)\"}, \"baxis\": {\"endlinecolor\": \"rgb(36,36,36)\", \"gridcolor\": \"white\", \"linecolor\": \"white\", \"minorgridcolor\": \"white\", \"startlinecolor\": \"rgb(36,36,36)\"}, \"type\": \"carpet\"}], \"choropleth\": [{\"colorbar\": {\"outlinewidth\": 1, \"tickcolor\": \"rgb(36,36,36)\", \"ticks\": \"outside\"}, \"type\": \"choropleth\"}], \"contour\": [{\"colorbar\": {\"outlinewidth\": 1, \"tickcolor\": \"rgb(36,36,36)\", \"ticks\": \"outside\"}, \"colorscale\": [[0.0, \"#440154\"], [0.1111111111111111, \"#482878\"], [0.2222222222222222, \"#3e4989\"], [0.3333333333333333, \"#31688e\"], [0.4444444444444444, \"#26828e\"], [0.5555555555555556, \"#1f9e89\"], [0.6666666666666666, \"#35b779\"], [0.7777777777777778, \"#6ece58\"], [0.8888888888888888, \"#b5de2b\"], [1.0, \"#fde725\"]], \"type\": \"contour\"}], \"contourcarpet\": [{\"colorbar\": {\"outlinewidth\": 1, \"tickcolor\": \"rgb(36,36,36)\", \"ticks\": \"outside\"}, \"type\": \"contourcarpet\"}], \"heatmap\": [{\"colorbar\": {\"outlinewidth\": 1, \"tickcolor\": \"rgb(36,36,36)\", \"ticks\": \"outside\"}, \"colorscale\": [[0.0, \"#440154\"], [0.1111111111111111, \"#482878\"], [0.2222222222222222, \"#3e4989\"], [0.3333333333333333, \"#31688e\"], [0.4444444444444444, \"#26828e\"], [0.5555555555555556, \"#1f9e89\"], [0.6666666666666666, \"#35b779\"], [0.7777777777777778, \"#6ece58\"], [0.8888888888888888, \"#b5de2b\"], [1.0, \"#fde725\"]], \"type\": \"heatmap\"}], \"heatmapgl\": [{\"colorbar\": {\"outlinewidth\": 1, \"tickcolor\": \"rgb(36,36,36)\", \"ticks\": \"outside\"}, \"colorscale\": [[0.0, \"#440154\"], [0.1111111111111111, \"#482878\"], [0.2222222222222222, \"#3e4989\"], [0.3333333333333333, \"#31688e\"], [0.4444444444444444, \"#26828e\"], [0.5555555555555556, \"#1f9e89\"], [0.6666666666666666, \"#35b779\"], [0.7777777777777778, \"#6ece58\"], [0.8888888888888888, \"#b5de2b\"], [1.0, \"#fde725\"]], \"type\": \"heatmapgl\"}], \"histogram\": [{\"marker\": {\"line\": {\"color\": \"white\", \"width\": 0.6}}, \"type\": \"histogram\"}], \"histogram2d\": [{\"colorbar\": {\"outlinewidth\": 1, \"tickcolor\": \"rgb(36,36,36)\", \"ticks\": \"outside\"}, \"colorscale\": [[0.0, \"#440154\"], [0.1111111111111111, \"#482878\"], [0.2222222222222222, \"#3e4989\"], [0.3333333333333333, \"#31688e\"], [0.4444444444444444, \"#26828e\"], [0.5555555555555556, \"#1f9e89\"], [0.6666666666666666, \"#35b779\"], [0.7777777777777778, \"#6ece58\"], [0.8888888888888888, \"#b5de2b\"], [1.0, \"#fde725\"]], \"type\": \"histogram2d\"}], \"histogram2dcontour\": [{\"colorbar\": {\"outlinewidth\": 1, \"tickcolor\": \"rgb(36,36,36)\", \"ticks\": \"outside\"}, \"colorscale\": [[0.0, \"#440154\"], [0.1111111111111111, \"#482878\"], [0.2222222222222222, \"#3e4989\"], [0.3333333333333333, \"#31688e\"], [0.4444444444444444, \"#26828e\"], [0.5555555555555556, \"#1f9e89\"], [0.6666666666666666, \"#35b779\"], [0.7777777777777778, \"#6ece58\"], [0.8888888888888888, \"#b5de2b\"], [1.0, \"#fde725\"]], \"type\": \"histogram2dcontour\"}], \"mesh3d\": [{\"colorbar\": {\"outlinewidth\": 1, \"tickcolor\": \"rgb(36,36,36)\", \"ticks\": \"outside\"}, \"type\": \"mesh3d\"}], \"parcoords\": [{\"line\": {\"colorbar\": {\"outlinewidth\": 1, \"tickcolor\": \"rgb(36,36,36)\", \"ticks\": \"outside\"}}, \"type\": \"parcoords\"}], \"pie\": [{\"automargin\": true, \"type\": \"pie\"}], \"scatter\": [{\"marker\": {\"colorbar\": {\"outlinewidth\": 1, \"tickcolor\": \"rgb(36,36,36)\", \"ticks\": \"outside\"}}, \"type\": \"scatter\"}], \"scatter3d\": [{\"line\": {\"colorbar\": {\"outlinewidth\": 1, \"tickcolor\": \"rgb(36,36,36)\", \"ticks\": \"outside\"}}, \"marker\": {\"colorbar\": {\"outlinewidth\": 1, \"tickcolor\": \"rgb(36,36,36)\", \"ticks\": \"outside\"}}, \"type\": \"scatter3d\"}], \"scattercarpet\": [{\"marker\": {\"colorbar\": {\"outlinewidth\": 1, \"tickcolor\": \"rgb(36,36,36)\", \"ticks\": \"outside\"}}, \"type\": \"scattercarpet\"}], \"scattergeo\": [{\"marker\": {\"colorbar\": {\"outlinewidth\": 1, \"tickcolor\": \"rgb(36,36,36)\", \"ticks\": \"outside\"}}, \"type\": \"scattergeo\"}], \"scattergl\": [{\"marker\": {\"colorbar\": {\"outlinewidth\": 1, \"tickcolor\": \"rgb(36,36,36)\", \"ticks\": \"outside\"}}, \"type\": \"scattergl\"}], \"scattermapbox\": [{\"marker\": {\"colorbar\": {\"outlinewidth\": 1, \"tickcolor\": \"rgb(36,36,36)\", \"ticks\": \"outside\"}}, \"type\": \"scattermapbox\"}], \"scatterpolar\": [{\"marker\": {\"colorbar\": {\"outlinewidth\": 1, \"tickcolor\": \"rgb(36,36,36)\", \"ticks\": \"outside\"}}, \"type\": \"scatterpolar\"}], \"scatterpolargl\": [{\"marker\": {\"colorbar\": {\"outlinewidth\": 1, \"tickcolor\": \"rgb(36,36,36)\", \"ticks\": \"outside\"}}, \"type\": \"scatterpolargl\"}], \"scatterternary\": [{\"marker\": {\"colorbar\": {\"outlinewidth\": 1, \"tickcolor\": \"rgb(36,36,36)\", \"ticks\": \"outside\"}}, \"type\": \"scatterternary\"}], \"surface\": [{\"colorbar\": {\"outlinewidth\": 1, \"tickcolor\": \"rgb(36,36,36)\", \"ticks\": \"outside\"}, \"colorscale\": [[0.0, \"#440154\"], [0.1111111111111111, \"#482878\"], [0.2222222222222222, \"#3e4989\"], [0.3333333333333333, \"#31688e\"], [0.4444444444444444, \"#26828e\"], [0.5555555555555556, \"#1f9e89\"], [0.6666666666666666, \"#35b779\"], [0.7777777777777778, \"#6ece58\"], [0.8888888888888888, \"#b5de2b\"], [1.0, \"#fde725\"]], \"type\": \"surface\"}], \"table\": [{\"cells\": {\"fill\": {\"color\": \"rgb(237,237,237)\"}, \"line\": {\"color\": \"white\"}}, \"header\": {\"fill\": {\"color\": \"rgb(217,217,217)\"}, \"line\": {\"color\": \"white\"}}, \"type\": \"table\"}]}, \"layout\": {\"annotationdefaults\": {\"arrowhead\": 0, \"arrowwidth\": 1}, \"coloraxis\": {\"colorbar\": {\"outlinewidth\": 1, \"tickcolor\": \"rgb(36,36,36)\", \"ticks\": \"outside\"}}, \"colorscale\": {\"diverging\": [[0.0, \"rgb(103,0,31)\"], [0.1, \"rgb(178,24,43)\"], [0.2, \"rgb(214,96,77)\"], [0.3, \"rgb(244,165,130)\"], [0.4, \"rgb(253,219,199)\"], [0.5, \"rgb(247,247,247)\"], [0.6, \"rgb(209,229,240)\"], [0.7, \"rgb(146,197,222)\"], [0.8, \"rgb(67,147,195)\"], [0.9, \"rgb(33,102,172)\"], [1.0, \"rgb(5,48,97)\"]], \"sequential\": [[0.0, \"#440154\"], [0.1111111111111111, \"#482878\"], [0.2222222222222222, \"#3e4989\"], [0.3333333333333333, \"#31688e\"], [0.4444444444444444, \"#26828e\"], [0.5555555555555556, \"#1f9e89\"], [0.6666666666666666, \"#35b779\"], [0.7777777777777778, \"#6ece58\"], [0.8888888888888888, \"#b5de2b\"], [1.0, \"#fde725\"]], \"sequentialminus\": [[0.0, \"#440154\"], [0.1111111111111111, \"#482878\"], [0.2222222222222222, \"#3e4989\"], [0.3333333333333333, \"#31688e\"], [0.4444444444444444, \"#26828e\"], [0.5555555555555556, \"#1f9e89\"], [0.6666666666666666, \"#35b779\"], [0.7777777777777778, \"#6ece58\"], [0.8888888888888888, \"#b5de2b\"], [1.0, \"#fde725\"]]}, \"colorway\": [\"#1F77B4\", \"#FF7F0E\", \"#2CA02C\", \"#D62728\", \"#9467BD\", \"#8C564B\", \"#E377C2\", \"#7F7F7F\", \"#BCBD22\", \"#17BECF\"], \"font\": {\"color\": \"rgb(36,36,36)\"}, \"geo\": {\"bgcolor\": \"white\", \"lakecolor\": \"white\", \"landcolor\": \"white\", \"showlakes\": true, \"showland\": true, \"subunitcolor\": \"white\"}, \"hoverlabel\": {\"align\": \"left\"}, \"hovermode\": \"closest\", \"mapbox\": {\"style\": \"light\"}, \"paper_bgcolor\": \"white\", \"plot_bgcolor\": \"white\", \"polar\": {\"angularaxis\": {\"gridcolor\": \"rgb(232,232,232)\", \"linecolor\": \"rgb(36,36,36)\", \"showgrid\": false, \"showline\": true, \"ticks\": \"outside\"}, \"bgcolor\": \"white\", \"radialaxis\": {\"gridcolor\": \"rgb(232,232,232)\", \"linecolor\": \"rgb(36,36,36)\", \"showgrid\": false, \"showline\": true, \"ticks\": \"outside\"}}, \"scene\": {\"xaxis\": {\"backgroundcolor\": \"white\", \"gridcolor\": \"rgb(232,232,232)\", \"gridwidth\": 2, \"linecolor\": \"rgb(36,36,36)\", \"showbackground\": true, \"showgrid\": false, \"showline\": true, \"ticks\": \"outside\", \"zeroline\": false, \"zerolinecolor\": \"rgb(36,36,36)\"}, \"yaxis\": {\"backgroundcolor\": \"white\", \"gridcolor\": \"rgb(232,232,232)\", \"gridwidth\": 2, \"linecolor\": \"rgb(36,36,36)\", \"showbackground\": true, \"showgrid\": false, \"showline\": true, \"ticks\": \"outside\", \"zeroline\": false, \"zerolinecolor\": \"rgb(36,36,36)\"}, \"zaxis\": {\"backgroundcolor\": \"white\", \"gridcolor\": \"rgb(232,232,232)\", \"gridwidth\": 2, \"linecolor\": \"rgb(36,36,36)\", \"showbackground\": true, \"showgrid\": false, \"showline\": true, \"ticks\": \"outside\", \"zeroline\": false, \"zerolinecolor\": \"rgb(36,36,36)\"}}, \"shapedefaults\": {\"fillcolor\": \"black\", \"line\": {\"width\": 0}, \"opacity\": 0.3}, \"ternary\": {\"aaxis\": {\"gridcolor\": \"rgb(232,232,232)\", \"linecolor\": \"rgb(36,36,36)\", \"showgrid\": false, \"showline\": true, \"ticks\": \"outside\"}, \"baxis\": {\"gridcolor\": \"rgb(232,232,232)\", \"linecolor\": \"rgb(36,36,36)\", \"showgrid\": false, \"showline\": true, \"ticks\": \"outside\"}, \"bgcolor\": \"white\", \"caxis\": {\"gridcolor\": \"rgb(232,232,232)\", \"linecolor\": \"rgb(36,36,36)\", \"showgrid\": false, \"showline\": true, \"ticks\": \"outside\"}}, \"title\": {\"x\": 0.05}, \"xaxis\": {\"automargin\": true, \"gridcolor\": \"rgb(232,232,232)\", \"linecolor\": \"rgb(36,36,36)\", \"showgrid\": false, \"showline\": true, \"ticks\": \"outside\", \"title\": {\"standoff\": 15}, \"zeroline\": false, \"zerolinecolor\": \"rgb(36,36,36)\"}, \"yaxis\": {\"automargin\": true, \"gridcolor\": \"rgb(232,232,232)\", \"linecolor\": \"rgb(36,36,36)\", \"showgrid\": false, \"showline\": true, \"ticks\": \"outside\", \"title\": {\"standoff\": 15}, \"zeroline\": false, \"zerolinecolor\": \"rgb(36,36,36)\"}}}, \"title\": {\"text\": \"Temperaturdifferenzen zum gemessenen Mittel aller L\\u00e4nder von 1950-1980 im 10 Jahres Mittel\"}, \"width\": 950, \"xaxis\": {\"title\": {\"text\": \"Jahre\"}}, \"yaxis\": {\"title\": {\"text\": \"Temperaturdifferenz in K\"}}},\n",
       "                        {\"responsive\": true}\n",
       "                    ).then(function(){\n",
       "                            \n",
       "var gd = document.getElementById('e46fdc06-aac6-446f-87bc-e360f4f2305d');\n",
       "var x = new MutationObserver(function (mutations, observer) {{\n",
       "        var display = window.getComputedStyle(gd).display;\n",
       "        if (!display || display === 'none') {{\n",
       "            console.log([gd, 'removed!']);\n",
       "            Plotly.purge(gd);\n",
       "            observer.disconnect();\n",
       "        }}\n",
       "}});\n",
       "\n",
       "// Listen for the removal of the full notebook cells\n",
       "var notebookContainer = gd.closest('#notebook-container');\n",
       "if (notebookContainer) {{\n",
       "    x.observe(notebookContainer, {childList: true});\n",
       "}}\n",
       "\n",
       "// Listen for the clearing of the current output cell\n",
       "var outputEl = gd.closest('.output');\n",
       "if (outputEl) {{\n",
       "    x.observe(outputEl, {childList: true});\n",
       "}}\n",
       "\n",
       "                        })\n",
       "                };\n",
       "                });\n",
       "            </script>\n",
       "        </div>"
      ]
     },
     "metadata": {},
     "output_type": "display_data"
    }
   ],
   "source": [
    "def lineplot_swiss_global_temp(data):\n",
    "    data = data.copy()\n",
    "    \n",
    "    data = data.pivot_table(index='date', columns='country', values='temperature')\n",
    "    data.index = pd.to_datetime(data.index)\n",
    "    \n",
    "    data = data.loc['1800':]\n",
    "    data = data.resample('10Y').mean()\n",
    "            \n",
    "    fig = go.Figure()\n",
    "    \n",
    "    for column in data.columns:\n",
    "        if column != 'Switzerland':\n",
    "            fig.add_trace(go.Scatter(x=data.index,\n",
    "                                     y=data[column], \n",
    "                                     name=column,\n",
    "                                     line=dict(color='grey'),\n",
    "                                     opacity=0.1)\n",
    "                         )\n",
    "        else:\n",
    "            fig.add_trace(go.Scatter(x=data.index,\n",
    "                                     y=data[column],\n",
    "                                     name=column, \n",
    "                                     line=dict(color='red',\n",
    "                                               width=2)\n",
    "                                    )\n",
    "                         )\n",
    "    fig.add_trace(go.Scatter(x=data.index,\n",
    "                             y=[0 for i in range(data.shape[0])],\n",
    "                             name='Mittelwert von 1950-1980',\n",
    "                             line=dict(color='black', \n",
    "                                       dash='dot',\n",
    "                                       width=1),\n",
    "                             opacity=0.8)\n",
    "                  \n",
    "                 )\n",
    "    \n",
    "    fig.update_layout(template='simple_white',\n",
    "                      title='Temperaturdifferenzen zum gemessenen Mittel aller Länder von 1950-1980 im 10 Jahres Mittel',\n",
    "                      xaxis_title='Jahre',\n",
    "                      yaxis_title='Temperaturdifferenz in K',\n",
    "                      showlegend=False\n",
    "                     )\n",
    "    \n",
    "    fig.update_layout(width=950,\n",
    "                    margin_b=90, \n",
    "                    annotations = [dict(xref='paper',\n",
    "                                        yref='paper',\n",
    "                                        x=0.5, y=-0.25,\n",
    "                                        showarrow=False,\n",
    "                                        text ='Quelle: http://berkeleyearth.org/')])\n",
    "                      \n",
    "\n",
    "    fig.show()\n",
    "    \n",
    "    \n",
    "lineplot_swiss_global_temp(temp_data)"
   ]
  },
  {
   "cell_type": "markdown",
   "metadata": {},
   "source": [
    "Die Schweiz befindet sich mittendrin und bleibt von dem Temperaturzuwachs nicht verschont. Wie der Plot zeigt, bewegt sich die Schweiz immer etwas im oberen Band der TEmperaturdifferenzen aller Länder. Leider fällt der Vergleich nicht so aus wie er es gern hätte, denn er weiss, um die Abweichungen der Grössen der einzelnen Ländern. Er sucht sich spezifische Länder mit ähnlicher Fläche zur Schweiz. Im Wikipedia wird er fündig: Dänemark, Holland, Bhutan und Taiwan."
   ]
  },
  {
   "cell_type": "code",
   "execution_count": null,
   "metadata": {
    "scrolled": false
   },
   "outputs": [],
   "source": [
    "from IPython.display import Image\n",
    "Image(filename='switzerland_similarsizes.png')"
   ]
  },
  {
   "cell_type": "markdown",
   "metadata": {},
   "source": [
    "Ein Vergleich zwischen Flächenmässig gleichgrossen Ländern macht bereits mehr sinn. "
   ]
  },
  {
   "cell_type": "code",
   "execution_count": 96,
   "metadata": {
    "scrolled": true
   },
   "outputs": [
    {
     "data": {
      "application/vnd.plotly.v1+json": {
       "config": {
        "plotlyServerURL": "https://plot.ly"
       },
       "data": [
        {
         "line": {
          "color": "red"
         },
         "name": "Bhutan",
         "opacity": 0.1,
         "type": "scatter",
         "x": [
          "1800-12-31T00:00:00",
          "1805-12-31T00:00:00",
          "1810-12-31T00:00:00",
          "1815-12-31T00:00:00",
          "1820-12-31T00:00:00",
          "1825-12-31T00:00:00",
          "1830-12-31T00:00:00",
          "1835-12-31T00:00:00",
          "1840-12-31T00:00:00",
          "1845-12-31T00:00:00",
          "1850-12-31T00:00:00",
          "1855-12-31T00:00:00",
          "1860-12-31T00:00:00",
          "1865-12-31T00:00:00",
          "1870-12-31T00:00:00",
          "1875-12-31T00:00:00",
          "1880-12-31T00:00:00",
          "1885-12-31T00:00:00",
          "1890-12-31T00:00:00",
          "1895-12-31T00:00:00",
          "1900-12-31T00:00:00",
          "1905-12-31T00:00:00",
          "1910-12-31T00:00:00",
          "1915-12-31T00:00:00",
          "1920-12-31T00:00:00",
          "1925-12-31T00:00:00",
          "1930-12-31T00:00:00",
          "1935-12-31T00:00:00",
          "1940-12-31T00:00:00",
          "1945-12-31T00:00:00",
          "1950-12-31T00:00:00",
          "1955-12-31T00:00:00",
          "1960-12-31T00:00:00",
          "1965-12-31T00:00:00",
          "1970-12-31T00:00:00",
          "1975-12-31T00:00:00",
          "1980-12-31T00:00:00",
          "1985-12-31T00:00:00",
          "1990-12-31T00:00:00",
          "1995-12-31T00:00:00",
          "2000-12-31T00:00:00",
          "2005-12-31T00:00:00",
          "2010-12-31T00:00:00",
          "2015-12-31T00:00:00"
         ],
         "y": [
          null,
          null,
          null,
          null,
          -1.559824561403509,
          -0.4845166666666666,
          -0.4535833333333333,
          -1.0647719298245613,
          -0.7803333333333333,
          -0.8270833333333333,
          -0.8928474576271187,
          -0.5841896551724137,
          -0.8069649122807017,
          -0.7362083333333337,
          -0.5699833333333333,
          -0.5256999999999998,
          -0.38728333333333337,
          -0.6580666666666666,
          -0.46056666666666674,
          -0.6399166666666666,
          -0.22869999999999993,
          -0.5143833333333334,
          -0.3247166666666667,
          -0.4834666666666665,
          -0.35835000000000006,
          -0.2807333333333332,
          -0.38550000000000006,
          -0.22955,
          -0.14484999999999998,
          -0.0617,
          -0.08693333333333335,
          0.09468333333333329,
          0.14191666666666664,
          -0.21946666666666662,
          -0.10756666666666667,
          0.03503333333333333,
          0.055349999999999996,
          0.0013333333333333253,
          0.17775000000000007,
          0.019966666666666674,
          0.16383333333333325,
          0.1910333333333333,
          0.7068666666666668,
          0.33753125
         ]
        },
        {
         "line": {
          "color": "red"
         },
         "name": "Denmark",
         "opacity": 0.1,
         "type": "scatter",
         "x": [
          "1800-12-31T00:00:00",
          "1805-12-31T00:00:00",
          "1810-12-31T00:00:00",
          "1815-12-31T00:00:00",
          "1820-12-31T00:00:00",
          "1825-12-31T00:00:00",
          "1830-12-31T00:00:00",
          "1835-12-31T00:00:00",
          "1840-12-31T00:00:00",
          "1845-12-31T00:00:00",
          "1850-12-31T00:00:00",
          "1855-12-31T00:00:00",
          "1860-12-31T00:00:00",
          "1865-12-31T00:00:00",
          "1870-12-31T00:00:00",
          "1875-12-31T00:00:00",
          "1880-12-31T00:00:00",
          "1885-12-31T00:00:00",
          "1890-12-31T00:00:00",
          "1895-12-31T00:00:00",
          "1900-12-31T00:00:00",
          "1905-12-31T00:00:00",
          "1910-12-31T00:00:00",
          "1915-12-31T00:00:00",
          "1920-12-31T00:00:00",
          "1925-12-31T00:00:00",
          "1930-12-31T00:00:00",
          "1935-12-31T00:00:00",
          "1940-12-31T00:00:00",
          "1945-12-31T00:00:00",
          "1950-12-31T00:00:00",
          "1955-12-31T00:00:00",
          "1960-12-31T00:00:00",
          "1965-12-31T00:00:00",
          "1970-12-31T00:00:00",
          "1975-12-31T00:00:00",
          "1980-12-31T00:00:00",
          "1985-12-31T00:00:00",
          "1990-12-31T00:00:00",
          "1995-12-31T00:00:00",
          "2000-12-31T00:00:00",
          "2005-12-31T00:00:00",
          "2010-12-31T00:00:00",
          "2015-12-31T00:00:00"
         ],
         "y": [
          -0.6887500000000001,
          -0.6537333333333334,
          -0.42999999999999994,
          -0.6089166666666664,
          -0.3975666666666667,
          0.2728666666666667,
          -0.47300000000000003,
          0.1569500000000001,
          -1.0308666666666668,
          -0.4993666666666666,
          -0.28958333333333347,
          -0.6135500000000002,
          -0.23895000000000002,
          -0.2974333333333333,
          -0.3071999999999999,
          -0.2625999999999999,
          -0.5905666666666666,
          -0.3455833333333333,
          -0.7060333333333333,
          -0.4767166666666668,
          0.06740000000000004,
          -0.30048333333333327,
          -0.16794999999999996,
          0.22148333333333334,
          -0.25093333333333345,
          -0.3143666666666668,
          -0.16445,
          0.41473333333333334,
          0.17663333333333334,
          -0.1614333333333332,
          0.4190666666666666,
          0.004533333333333319,
          0.010266666666666797,
          -0.32483333333333336,
          -0.11366666666666665,
          0.6635166666666668,
          -0.23984999999999998,
          0.05703333333333327,
          0.5527333333333334,
          0.7749,
          0.7641166666666662,
          1.0808666666666664,
          1.1731333333333331,
          0.7963749999999998
         ]
        },
        {
         "line": {
          "color": "red"
         },
         "name": "Netherlands",
         "opacity": 0.1,
         "type": "scatter",
         "x": [
          "1800-12-31T00:00:00",
          "1805-12-31T00:00:00",
          "1810-12-31T00:00:00",
          "1815-12-31T00:00:00",
          "1820-12-31T00:00:00",
          "1825-12-31T00:00:00",
          "1830-12-31T00:00:00",
          "1835-12-31T00:00:00",
          "1840-12-31T00:00:00",
          "1845-12-31T00:00:00",
          "1850-12-31T00:00:00",
          "1855-12-31T00:00:00",
          "1860-12-31T00:00:00",
          "1865-12-31T00:00:00",
          "1870-12-31T00:00:00",
          "1875-12-31T00:00:00",
          "1880-12-31T00:00:00",
          "1885-12-31T00:00:00",
          "1890-12-31T00:00:00",
          "1895-12-31T00:00:00",
          "1900-12-31T00:00:00",
          "1905-12-31T00:00:00",
          "1910-12-31T00:00:00",
          "1915-12-31T00:00:00",
          "1920-12-31T00:00:00",
          "1925-12-31T00:00:00",
          "1930-12-31T00:00:00",
          "1935-12-31T00:00:00",
          "1940-12-31T00:00:00",
          "1945-12-31T00:00:00",
          "1950-12-31T00:00:00",
          "1955-12-31T00:00:00",
          "1960-12-31T00:00:00",
          "1965-12-31T00:00:00",
          "1970-12-31T00:00:00",
          "1975-12-31T00:00:00",
          "1980-12-31T00:00:00",
          "1985-12-31T00:00:00",
          "1990-12-31T00:00:00",
          "1995-12-31T00:00:00",
          "2000-12-31T00:00:00",
          "2005-12-31T00:00:00",
          "2010-12-31T00:00:00",
          "2015-12-31T00:00:00"
         ],
         "y": [
          -0.3630833333333334,
          -0.7434499999999999,
          -0.4137500000000001,
          -0.5769833333333333,
          -0.48556666666666654,
          0.18348333333333336,
          -0.49815000000000004,
          0.17763333333333328,
          -0.7982333333333332,
          -0.49328333333333335,
          -0.22171666666666667,
          -0.7892499999999999,
          -0.2926166666666667,
          -0.1821833333333333,
          -0.08171666666666666,
          -0.22126666666666675,
          -0.42769999999999997,
          -0.30966666666666665,
          -0.959683333333333,
          -0.5397500000000001,
          -0.04846666666666672,
          -0.36441666666666656,
          -0.37371666666666664,
          0.19356666666666678,
          -0.3432333333333334,
          -0.2721499999999999,
          -0.0304166666666667,
          0.18885000000000005,
          0.03180000000000006,
          -0.045383333333333345,
          0.38563333333333333,
          -0.016883333333333337,
          0.18881666666666674,
          -0.4809833333333335,
          0.09346666666666653,
          0.27549999999999997,
          -0.05993333333333333,
          0.13763333333333339,
          0.5182833333333333,
          0.7318833333333333,
          0.7457499999999999,
          1.1276833333333334,
          1.0638166666666664,
          0.8105625000000002
         ]
        },
        {
         "line": {
          "color": "red",
          "width": 2
         },
         "name": "Switzerland",
         "type": "scatter",
         "x": [
          "1800-12-31T00:00:00",
          "1805-12-31T00:00:00",
          "1810-12-31T00:00:00",
          "1815-12-31T00:00:00",
          "1820-12-31T00:00:00",
          "1825-12-31T00:00:00",
          "1830-12-31T00:00:00",
          "1835-12-31T00:00:00",
          "1840-12-31T00:00:00",
          "1845-12-31T00:00:00",
          "1850-12-31T00:00:00",
          "1855-12-31T00:00:00",
          "1860-12-31T00:00:00",
          "1865-12-31T00:00:00",
          "1870-12-31T00:00:00",
          "1875-12-31T00:00:00",
          "1880-12-31T00:00:00",
          "1885-12-31T00:00:00",
          "1890-12-31T00:00:00",
          "1895-12-31T00:00:00",
          "1900-12-31T00:00:00",
          "1905-12-31T00:00:00",
          "1910-12-31T00:00:00",
          "1915-12-31T00:00:00",
          "1920-12-31T00:00:00",
          "1925-12-31T00:00:00",
          "1930-12-31T00:00:00",
          "1935-12-31T00:00:00",
          "1940-12-31T00:00:00",
          "1945-12-31T00:00:00",
          "1950-12-31T00:00:00",
          "1955-12-31T00:00:00",
          "1960-12-31T00:00:00",
          "1965-12-31T00:00:00",
          "1970-12-31T00:00:00",
          "1975-12-31T00:00:00",
          "1980-12-31T00:00:00",
          "1985-12-31T00:00:00",
          "1990-12-31T00:00:00",
          "1995-12-31T00:00:00",
          "2000-12-31T00:00:00",
          "2005-12-31T00:00:00",
          "2010-12-31T00:00:00",
          "2015-12-31T00:00:00"
         ],
         "y": [
          0.21658333333333332,
          -0.20575000000000002,
          -0.29739999999999994,
          -0.6631166666666667,
          -0.5588166666666666,
          0.17868333333333325,
          -0.4393333333333334,
          -0.06954999999999996,
          -0.7424666666666665,
          -0.5165,
          -0.33266666666666667,
          -0.7730833333333333,
          -0.5858333333333332,
          -0.0693166666666667,
          -0.08960000000000004,
          -0.3202999999999999,
          -0.37174999999999997,
          -0.35823333333333346,
          -1.0180833333333332,
          -0.48046666666666676,
          -0.04141666666666669,
          -0.3447666666666667,
          -0.47954999999999987,
          -0.21824999999999997,
          -0.28308333333333324,
          -0.09911666666666669,
          0.18366666666666667,
          -0.20161666666666667,
          -0.20005,
          -0.03821666666666675,
          0.6586333333333333,
          0.04614999999999998,
          0.0608000000000001,
          -0.13348333333333343,
          0.01895000000000004,
          0.11176666666666665,
          -0.10414999999999998,
          0.18783333333333344,
          0.6235500000000002,
          0.8335000000000001,
          0.8245999999999999,
          1.013366666666667,
          1.0079666666666667,
          1.1340312500000003
         ]
        },
        {
         "line": {
          "color": "red"
         },
         "name": "Taiwan",
         "opacity": 0.1,
         "type": "scatter",
         "x": [
          "1800-12-31T00:00:00",
          "1805-12-31T00:00:00",
          "1810-12-31T00:00:00",
          "1815-12-31T00:00:00",
          "1820-12-31T00:00:00",
          "1825-12-31T00:00:00",
          "1830-12-31T00:00:00",
          "1835-12-31T00:00:00",
          "1840-12-31T00:00:00",
          "1845-12-31T00:00:00",
          "1850-12-31T00:00:00",
          "1855-12-31T00:00:00",
          "1860-12-31T00:00:00",
          "1865-12-31T00:00:00",
          "1870-12-31T00:00:00",
          "1875-12-31T00:00:00",
          "1880-12-31T00:00:00",
          "1885-12-31T00:00:00",
          "1890-12-31T00:00:00",
          "1895-12-31T00:00:00",
          "1900-12-31T00:00:00",
          "1905-12-31T00:00:00",
          "1910-12-31T00:00:00",
          "1915-12-31T00:00:00",
          "1920-12-31T00:00:00",
          "1925-12-31T00:00:00",
          "1930-12-31T00:00:00",
          "1935-12-31T00:00:00",
          "1940-12-31T00:00:00",
          "1945-12-31T00:00:00",
          "1950-12-31T00:00:00",
          "1955-12-31T00:00:00",
          "1960-12-31T00:00:00",
          "1965-12-31T00:00:00",
          "1970-12-31T00:00:00",
          "1975-12-31T00:00:00",
          "1980-12-31T00:00:00",
          "1985-12-31T00:00:00",
          "1990-12-31T00:00:00",
          "1995-12-31T00:00:00",
          "2000-12-31T00:00:00",
          "2005-12-31T00:00:00",
          "2010-12-31T00:00:00",
          "2015-12-31T00:00:00"
         ],
         "y": [
          null,
          null,
          null,
          null,
          null,
          null,
          null,
          null,
          null,
          -0.9391333333333333,
          -0.7703333333333333,
          -0.5116,
          -0.8079666666666669,
          -1.0539322033898308,
          -0.37020338983050843,
          -0.4618666666666667,
          -0.6602166666666667,
          -1.0337166666666666,
          -0.7108333333333333,
          -0.8112166666666666,
          -0.5036666666666664,
          -0.7456166666666665,
          -0.4820166666666666,
          -0.3816666666666667,
          -0.748816666666667,
          -0.6168499999999999,
          -0.4964833333333333,
          -0.3936666666666666,
          -0.28863333333333324,
          -0.14506666666666668,
          -0.03958333333333334,
          0.10011666666666667,
          0.04348333333333332,
          -0.03171666666666666,
          -0.12313333333333325,
          -0.039416666666666704,
          0.050699999999999995,
          -0.07599999999999998,
          0.017249999999999995,
          0.18281666666666666,
          0.4741666666666667,
          0.5353166666666666,
          0.6423333333333334,
          0.30596874999999996
         ]
        },
        {
         "line": {
          "color": "black",
          "dash": "dot",
          "width": 1
         },
         "name": "Mittelwert von 1950-1980",
         "opacity": 0.8,
         "type": "scatter",
         "x": [
          "1800-12-31T00:00:00",
          "1805-12-31T00:00:00",
          "1810-12-31T00:00:00",
          "1815-12-31T00:00:00",
          "1820-12-31T00:00:00",
          "1825-12-31T00:00:00",
          "1830-12-31T00:00:00",
          "1835-12-31T00:00:00",
          "1840-12-31T00:00:00",
          "1845-12-31T00:00:00",
          "1850-12-31T00:00:00",
          "1855-12-31T00:00:00",
          "1860-12-31T00:00:00",
          "1865-12-31T00:00:00",
          "1870-12-31T00:00:00",
          "1875-12-31T00:00:00",
          "1880-12-31T00:00:00",
          "1885-12-31T00:00:00",
          "1890-12-31T00:00:00",
          "1895-12-31T00:00:00",
          "1900-12-31T00:00:00",
          "1905-12-31T00:00:00",
          "1910-12-31T00:00:00",
          "1915-12-31T00:00:00",
          "1920-12-31T00:00:00",
          "1925-12-31T00:00:00",
          "1930-12-31T00:00:00",
          "1935-12-31T00:00:00",
          "1940-12-31T00:00:00",
          "1945-12-31T00:00:00",
          "1950-12-31T00:00:00",
          "1955-12-31T00:00:00",
          "1960-12-31T00:00:00",
          "1965-12-31T00:00:00",
          "1970-12-31T00:00:00",
          "1975-12-31T00:00:00",
          "1980-12-31T00:00:00",
          "1985-12-31T00:00:00",
          "1990-12-31T00:00:00",
          "1995-12-31T00:00:00",
          "2000-12-31T00:00:00",
          "2005-12-31T00:00:00",
          "2010-12-31T00:00:00",
          "2015-12-31T00:00:00"
         ],
         "y": [
          0,
          0,
          0,
          0,
          0,
          0,
          0,
          0,
          0,
          0,
          0,
          0,
          0,
          0,
          0,
          0,
          0,
          0,
          0,
          0,
          0,
          0,
          0,
          0,
          0,
          0,
          0,
          0,
          0,
          0,
          0,
          0,
          0,
          0,
          0,
          0,
          0,
          0,
          0,
          0,
          0,
          0,
          0,
          0
         ]
        }
       ],
       "layout": {
        "annotations": [
         {
          "showarrow": false,
          "text": "Quelle: http://berkeleyearth.org/",
          "x": 0.5,
          "xref": "paper",
          "y": -0.25,
          "yref": "paper"
         }
        ],
        "margin": {
         "b": 90
        },
        "template": {
         "data": {
          "bar": [
           {
            "error_x": {
             "color": "rgb(36,36,36)"
            },
            "error_y": {
             "color": "rgb(36,36,36)"
            },
            "marker": {
             "line": {
              "color": "white",
              "width": 0.5
             }
            },
            "type": "bar"
           }
          ],
          "barpolar": [
           {
            "marker": {
             "line": {
              "color": "white",
              "width": 0.5
             }
            },
            "type": "barpolar"
           }
          ],
          "carpet": [
           {
            "aaxis": {
             "endlinecolor": "rgb(36,36,36)",
             "gridcolor": "white",
             "linecolor": "white",
             "minorgridcolor": "white",
             "startlinecolor": "rgb(36,36,36)"
            },
            "baxis": {
             "endlinecolor": "rgb(36,36,36)",
             "gridcolor": "white",
             "linecolor": "white",
             "minorgridcolor": "white",
             "startlinecolor": "rgb(36,36,36)"
            },
            "type": "carpet"
           }
          ],
          "choropleth": [
           {
            "colorbar": {
             "outlinewidth": 1,
             "tickcolor": "rgb(36,36,36)",
             "ticks": "outside"
            },
            "type": "choropleth"
           }
          ],
          "contour": [
           {
            "colorbar": {
             "outlinewidth": 1,
             "tickcolor": "rgb(36,36,36)",
             "ticks": "outside"
            },
            "colorscale": [
             [
              0,
              "#440154"
             ],
             [
              0.1111111111111111,
              "#482878"
             ],
             [
              0.2222222222222222,
              "#3e4989"
             ],
             [
              0.3333333333333333,
              "#31688e"
             ],
             [
              0.4444444444444444,
              "#26828e"
             ],
             [
              0.5555555555555556,
              "#1f9e89"
             ],
             [
              0.6666666666666666,
              "#35b779"
             ],
             [
              0.7777777777777778,
              "#6ece58"
             ],
             [
              0.8888888888888888,
              "#b5de2b"
             ],
             [
              1,
              "#fde725"
             ]
            ],
            "type": "contour"
           }
          ],
          "contourcarpet": [
           {
            "colorbar": {
             "outlinewidth": 1,
             "tickcolor": "rgb(36,36,36)",
             "ticks": "outside"
            },
            "type": "contourcarpet"
           }
          ],
          "heatmap": [
           {
            "colorbar": {
             "outlinewidth": 1,
             "tickcolor": "rgb(36,36,36)",
             "ticks": "outside"
            },
            "colorscale": [
             [
              0,
              "#440154"
             ],
             [
              0.1111111111111111,
              "#482878"
             ],
             [
              0.2222222222222222,
              "#3e4989"
             ],
             [
              0.3333333333333333,
              "#31688e"
             ],
             [
              0.4444444444444444,
              "#26828e"
             ],
             [
              0.5555555555555556,
              "#1f9e89"
             ],
             [
              0.6666666666666666,
              "#35b779"
             ],
             [
              0.7777777777777778,
              "#6ece58"
             ],
             [
              0.8888888888888888,
              "#b5de2b"
             ],
             [
              1,
              "#fde725"
             ]
            ],
            "type": "heatmap"
           }
          ],
          "heatmapgl": [
           {
            "colorbar": {
             "outlinewidth": 1,
             "tickcolor": "rgb(36,36,36)",
             "ticks": "outside"
            },
            "colorscale": [
             [
              0,
              "#440154"
             ],
             [
              0.1111111111111111,
              "#482878"
             ],
             [
              0.2222222222222222,
              "#3e4989"
             ],
             [
              0.3333333333333333,
              "#31688e"
             ],
             [
              0.4444444444444444,
              "#26828e"
             ],
             [
              0.5555555555555556,
              "#1f9e89"
             ],
             [
              0.6666666666666666,
              "#35b779"
             ],
             [
              0.7777777777777778,
              "#6ece58"
             ],
             [
              0.8888888888888888,
              "#b5de2b"
             ],
             [
              1,
              "#fde725"
             ]
            ],
            "type": "heatmapgl"
           }
          ],
          "histogram": [
           {
            "marker": {
             "line": {
              "color": "white",
              "width": 0.6
             }
            },
            "type": "histogram"
           }
          ],
          "histogram2d": [
           {
            "colorbar": {
             "outlinewidth": 1,
             "tickcolor": "rgb(36,36,36)",
             "ticks": "outside"
            },
            "colorscale": [
             [
              0,
              "#440154"
             ],
             [
              0.1111111111111111,
              "#482878"
             ],
             [
              0.2222222222222222,
              "#3e4989"
             ],
             [
              0.3333333333333333,
              "#31688e"
             ],
             [
              0.4444444444444444,
              "#26828e"
             ],
             [
              0.5555555555555556,
              "#1f9e89"
             ],
             [
              0.6666666666666666,
              "#35b779"
             ],
             [
              0.7777777777777778,
              "#6ece58"
             ],
             [
              0.8888888888888888,
              "#b5de2b"
             ],
             [
              1,
              "#fde725"
             ]
            ],
            "type": "histogram2d"
           }
          ],
          "histogram2dcontour": [
           {
            "colorbar": {
             "outlinewidth": 1,
             "tickcolor": "rgb(36,36,36)",
             "ticks": "outside"
            },
            "colorscale": [
             [
              0,
              "#440154"
             ],
             [
              0.1111111111111111,
              "#482878"
             ],
             [
              0.2222222222222222,
              "#3e4989"
             ],
             [
              0.3333333333333333,
              "#31688e"
             ],
             [
              0.4444444444444444,
              "#26828e"
             ],
             [
              0.5555555555555556,
              "#1f9e89"
             ],
             [
              0.6666666666666666,
              "#35b779"
             ],
             [
              0.7777777777777778,
              "#6ece58"
             ],
             [
              0.8888888888888888,
              "#b5de2b"
             ],
             [
              1,
              "#fde725"
             ]
            ],
            "type": "histogram2dcontour"
           }
          ],
          "mesh3d": [
           {
            "colorbar": {
             "outlinewidth": 1,
             "tickcolor": "rgb(36,36,36)",
             "ticks": "outside"
            },
            "type": "mesh3d"
           }
          ],
          "parcoords": [
           {
            "line": {
             "colorbar": {
              "outlinewidth": 1,
              "tickcolor": "rgb(36,36,36)",
              "ticks": "outside"
             }
            },
            "type": "parcoords"
           }
          ],
          "pie": [
           {
            "automargin": true,
            "type": "pie"
           }
          ],
          "scatter": [
           {
            "marker": {
             "colorbar": {
              "outlinewidth": 1,
              "tickcolor": "rgb(36,36,36)",
              "ticks": "outside"
             }
            },
            "type": "scatter"
           }
          ],
          "scatter3d": [
           {
            "line": {
             "colorbar": {
              "outlinewidth": 1,
              "tickcolor": "rgb(36,36,36)",
              "ticks": "outside"
             }
            },
            "marker": {
             "colorbar": {
              "outlinewidth": 1,
              "tickcolor": "rgb(36,36,36)",
              "ticks": "outside"
             }
            },
            "type": "scatter3d"
           }
          ],
          "scattercarpet": [
           {
            "marker": {
             "colorbar": {
              "outlinewidth": 1,
              "tickcolor": "rgb(36,36,36)",
              "ticks": "outside"
             }
            },
            "type": "scattercarpet"
           }
          ],
          "scattergeo": [
           {
            "marker": {
             "colorbar": {
              "outlinewidth": 1,
              "tickcolor": "rgb(36,36,36)",
              "ticks": "outside"
             }
            },
            "type": "scattergeo"
           }
          ],
          "scattergl": [
           {
            "marker": {
             "colorbar": {
              "outlinewidth": 1,
              "tickcolor": "rgb(36,36,36)",
              "ticks": "outside"
             }
            },
            "type": "scattergl"
           }
          ],
          "scattermapbox": [
           {
            "marker": {
             "colorbar": {
              "outlinewidth": 1,
              "tickcolor": "rgb(36,36,36)",
              "ticks": "outside"
             }
            },
            "type": "scattermapbox"
           }
          ],
          "scatterpolar": [
           {
            "marker": {
             "colorbar": {
              "outlinewidth": 1,
              "tickcolor": "rgb(36,36,36)",
              "ticks": "outside"
             }
            },
            "type": "scatterpolar"
           }
          ],
          "scatterpolargl": [
           {
            "marker": {
             "colorbar": {
              "outlinewidth": 1,
              "tickcolor": "rgb(36,36,36)",
              "ticks": "outside"
             }
            },
            "type": "scatterpolargl"
           }
          ],
          "scatterternary": [
           {
            "marker": {
             "colorbar": {
              "outlinewidth": 1,
              "tickcolor": "rgb(36,36,36)",
              "ticks": "outside"
             }
            },
            "type": "scatterternary"
           }
          ],
          "surface": [
           {
            "colorbar": {
             "outlinewidth": 1,
             "tickcolor": "rgb(36,36,36)",
             "ticks": "outside"
            },
            "colorscale": [
             [
              0,
              "#440154"
             ],
             [
              0.1111111111111111,
              "#482878"
             ],
             [
              0.2222222222222222,
              "#3e4989"
             ],
             [
              0.3333333333333333,
              "#31688e"
             ],
             [
              0.4444444444444444,
              "#26828e"
             ],
             [
              0.5555555555555556,
              "#1f9e89"
             ],
             [
              0.6666666666666666,
              "#35b779"
             ],
             [
              0.7777777777777778,
              "#6ece58"
             ],
             [
              0.8888888888888888,
              "#b5de2b"
             ],
             [
              1,
              "#fde725"
             ]
            ],
            "type": "surface"
           }
          ],
          "table": [
           {
            "cells": {
             "fill": {
              "color": "rgb(237,237,237)"
             },
             "line": {
              "color": "white"
             }
            },
            "header": {
             "fill": {
              "color": "rgb(217,217,217)"
             },
             "line": {
              "color": "white"
             }
            },
            "type": "table"
           }
          ]
         },
         "layout": {
          "annotationdefaults": {
           "arrowhead": 0,
           "arrowwidth": 1
          },
          "coloraxis": {
           "colorbar": {
            "outlinewidth": 1,
            "tickcolor": "rgb(36,36,36)",
            "ticks": "outside"
           }
          },
          "colorscale": {
           "diverging": [
            [
             0,
             "rgb(103,0,31)"
            ],
            [
             0.1,
             "rgb(178,24,43)"
            ],
            [
             0.2,
             "rgb(214,96,77)"
            ],
            [
             0.3,
             "rgb(244,165,130)"
            ],
            [
             0.4,
             "rgb(253,219,199)"
            ],
            [
             0.5,
             "rgb(247,247,247)"
            ],
            [
             0.6,
             "rgb(209,229,240)"
            ],
            [
             0.7,
             "rgb(146,197,222)"
            ],
            [
             0.8,
             "rgb(67,147,195)"
            ],
            [
             0.9,
             "rgb(33,102,172)"
            ],
            [
             1,
             "rgb(5,48,97)"
            ]
           ],
           "sequential": [
            [
             0,
             "#440154"
            ],
            [
             0.1111111111111111,
             "#482878"
            ],
            [
             0.2222222222222222,
             "#3e4989"
            ],
            [
             0.3333333333333333,
             "#31688e"
            ],
            [
             0.4444444444444444,
             "#26828e"
            ],
            [
             0.5555555555555556,
             "#1f9e89"
            ],
            [
             0.6666666666666666,
             "#35b779"
            ],
            [
             0.7777777777777778,
             "#6ece58"
            ],
            [
             0.8888888888888888,
             "#b5de2b"
            ],
            [
             1,
             "#fde725"
            ]
           ],
           "sequentialminus": [
            [
             0,
             "#440154"
            ],
            [
             0.1111111111111111,
             "#482878"
            ],
            [
             0.2222222222222222,
             "#3e4989"
            ],
            [
             0.3333333333333333,
             "#31688e"
            ],
            [
             0.4444444444444444,
             "#26828e"
            ],
            [
             0.5555555555555556,
             "#1f9e89"
            ],
            [
             0.6666666666666666,
             "#35b779"
            ],
            [
             0.7777777777777778,
             "#6ece58"
            ],
            [
             0.8888888888888888,
             "#b5de2b"
            ],
            [
             1,
             "#fde725"
            ]
           ]
          },
          "colorway": [
           "#1F77B4",
           "#FF7F0E",
           "#2CA02C",
           "#D62728",
           "#9467BD",
           "#8C564B",
           "#E377C2",
           "#7F7F7F",
           "#BCBD22",
           "#17BECF"
          ],
          "font": {
           "color": "rgb(36,36,36)"
          },
          "geo": {
           "bgcolor": "white",
           "lakecolor": "white",
           "landcolor": "white",
           "showlakes": true,
           "showland": true,
           "subunitcolor": "white"
          },
          "hoverlabel": {
           "align": "left"
          },
          "hovermode": "closest",
          "mapbox": {
           "style": "light"
          },
          "paper_bgcolor": "white",
          "plot_bgcolor": "white",
          "polar": {
           "angularaxis": {
            "gridcolor": "rgb(232,232,232)",
            "linecolor": "rgb(36,36,36)",
            "showgrid": false,
            "showline": true,
            "ticks": "outside"
           },
           "bgcolor": "white",
           "radialaxis": {
            "gridcolor": "rgb(232,232,232)",
            "linecolor": "rgb(36,36,36)",
            "showgrid": false,
            "showline": true,
            "ticks": "outside"
           }
          },
          "scene": {
           "xaxis": {
            "backgroundcolor": "white",
            "gridcolor": "rgb(232,232,232)",
            "gridwidth": 2,
            "linecolor": "rgb(36,36,36)",
            "showbackground": true,
            "showgrid": false,
            "showline": true,
            "ticks": "outside",
            "zeroline": false,
            "zerolinecolor": "rgb(36,36,36)"
           },
           "yaxis": {
            "backgroundcolor": "white",
            "gridcolor": "rgb(232,232,232)",
            "gridwidth": 2,
            "linecolor": "rgb(36,36,36)",
            "showbackground": true,
            "showgrid": false,
            "showline": true,
            "ticks": "outside",
            "zeroline": false,
            "zerolinecolor": "rgb(36,36,36)"
           },
           "zaxis": {
            "backgroundcolor": "white",
            "gridcolor": "rgb(232,232,232)",
            "gridwidth": 2,
            "linecolor": "rgb(36,36,36)",
            "showbackground": true,
            "showgrid": false,
            "showline": true,
            "ticks": "outside",
            "zeroline": false,
            "zerolinecolor": "rgb(36,36,36)"
           }
          },
          "shapedefaults": {
           "fillcolor": "black",
           "line": {
            "width": 0
           },
           "opacity": 0.3
          },
          "ternary": {
           "aaxis": {
            "gridcolor": "rgb(232,232,232)",
            "linecolor": "rgb(36,36,36)",
            "showgrid": false,
            "showline": true,
            "ticks": "outside"
           },
           "baxis": {
            "gridcolor": "rgb(232,232,232)",
            "linecolor": "rgb(36,36,36)",
            "showgrid": false,
            "showline": true,
            "ticks": "outside"
           },
           "bgcolor": "white",
           "caxis": {
            "gridcolor": "rgb(232,232,232)",
            "linecolor": "rgb(36,36,36)",
            "showgrid": false,
            "showline": true,
            "ticks": "outside"
           }
          },
          "title": {
           "x": 0.05
          },
          "xaxis": {
           "automargin": true,
           "gridcolor": "rgb(232,232,232)",
           "linecolor": "rgb(36,36,36)",
           "showgrid": false,
           "showline": true,
           "ticks": "outside",
           "title": {
            "standoff": 15
           },
           "zeroline": false,
           "zerolinecolor": "rgb(36,36,36)"
          },
          "yaxis": {
           "automargin": true,
           "gridcolor": "rgb(232,232,232)",
           "linecolor": "rgb(36,36,36)",
           "showgrid": false,
           "showline": true,
           "ticks": "outside",
           "title": {
            "standoff": 15
           },
           "zeroline": false,
           "zerolinecolor": "rgb(36,36,36)"
          }
         }
        },
        "title": {
         "text": "Temperaturdifferenzen zum gemessenen Mittel ähnlich grosser Länder zur Schweiz von 1950-1980"
        },
        "width": 950,
        "xaxis": {
         "title": {
          "text": "Jahre"
         }
        },
        "yaxis": {
         "title": {
          "text": "Temperaturdifferenz in K"
         }
        }
       }
      },
      "text/html": [
       "<div>\n",
       "        \n",
       "        \n",
       "            <div id=\"5788c4c5-e694-4d80-a485-ea10d0c00d17\" class=\"plotly-graph-div\" style=\"height:525px; width:950px;\"></div>\n",
       "            <script type=\"text/javascript\">\n",
       "                require([\"plotly\"], function(Plotly) {\n",
       "                    window.PLOTLYENV=window.PLOTLYENV || {};\n",
       "                    \n",
       "                if (document.getElementById(\"5788c4c5-e694-4d80-a485-ea10d0c00d17\")) {\n",
       "                    Plotly.newPlot(\n",
       "                        '5788c4c5-e694-4d80-a485-ea10d0c00d17',\n",
       "                        [{\"line\": {\"color\": \"red\"}, \"name\": \"Bhutan\", \"opacity\": 0.1, \"type\": \"scatter\", \"x\": [\"1800-12-31T00:00:00\", \"1805-12-31T00:00:00\", \"1810-12-31T00:00:00\", \"1815-12-31T00:00:00\", \"1820-12-31T00:00:00\", \"1825-12-31T00:00:00\", \"1830-12-31T00:00:00\", \"1835-12-31T00:00:00\", \"1840-12-31T00:00:00\", \"1845-12-31T00:00:00\", \"1850-12-31T00:00:00\", \"1855-12-31T00:00:00\", \"1860-12-31T00:00:00\", \"1865-12-31T00:00:00\", \"1870-12-31T00:00:00\", \"1875-12-31T00:00:00\", \"1880-12-31T00:00:00\", \"1885-12-31T00:00:00\", \"1890-12-31T00:00:00\", \"1895-12-31T00:00:00\", \"1900-12-31T00:00:00\", \"1905-12-31T00:00:00\", \"1910-12-31T00:00:00\", \"1915-12-31T00:00:00\", \"1920-12-31T00:00:00\", \"1925-12-31T00:00:00\", \"1930-12-31T00:00:00\", \"1935-12-31T00:00:00\", \"1940-12-31T00:00:00\", \"1945-12-31T00:00:00\", \"1950-12-31T00:00:00\", \"1955-12-31T00:00:00\", \"1960-12-31T00:00:00\", \"1965-12-31T00:00:00\", \"1970-12-31T00:00:00\", \"1975-12-31T00:00:00\", \"1980-12-31T00:00:00\", \"1985-12-31T00:00:00\", \"1990-12-31T00:00:00\", \"1995-12-31T00:00:00\", \"2000-12-31T00:00:00\", \"2005-12-31T00:00:00\", \"2010-12-31T00:00:00\", \"2015-12-31T00:00:00\"], \"y\": [null, null, null, null, -1.559824561403509, -0.4845166666666666, -0.4535833333333333, -1.0647719298245613, -0.7803333333333333, -0.8270833333333333, -0.8928474576271187, -0.5841896551724137, -0.8069649122807017, -0.7362083333333337, -0.5699833333333333, -0.5256999999999998, -0.38728333333333337, -0.6580666666666666, -0.46056666666666674, -0.6399166666666666, -0.22869999999999993, -0.5143833333333334, -0.3247166666666667, -0.4834666666666665, -0.35835000000000006, -0.2807333333333332, -0.38550000000000006, -0.22955, -0.14484999999999998, -0.0617, -0.08693333333333335, 0.09468333333333329, 0.14191666666666664, -0.21946666666666662, -0.10756666666666667, 0.03503333333333333, 0.055349999999999996, 0.0013333333333333253, 0.17775000000000007, 0.019966666666666674, 0.16383333333333325, 0.1910333333333333, 0.7068666666666668, 0.33753125]}, {\"line\": {\"color\": \"red\"}, \"name\": \"Denmark\", \"opacity\": 0.1, \"type\": \"scatter\", \"x\": [\"1800-12-31T00:00:00\", \"1805-12-31T00:00:00\", \"1810-12-31T00:00:00\", \"1815-12-31T00:00:00\", \"1820-12-31T00:00:00\", \"1825-12-31T00:00:00\", \"1830-12-31T00:00:00\", \"1835-12-31T00:00:00\", \"1840-12-31T00:00:00\", \"1845-12-31T00:00:00\", \"1850-12-31T00:00:00\", \"1855-12-31T00:00:00\", \"1860-12-31T00:00:00\", \"1865-12-31T00:00:00\", \"1870-12-31T00:00:00\", \"1875-12-31T00:00:00\", \"1880-12-31T00:00:00\", \"1885-12-31T00:00:00\", \"1890-12-31T00:00:00\", \"1895-12-31T00:00:00\", \"1900-12-31T00:00:00\", \"1905-12-31T00:00:00\", \"1910-12-31T00:00:00\", \"1915-12-31T00:00:00\", \"1920-12-31T00:00:00\", \"1925-12-31T00:00:00\", \"1930-12-31T00:00:00\", \"1935-12-31T00:00:00\", \"1940-12-31T00:00:00\", \"1945-12-31T00:00:00\", \"1950-12-31T00:00:00\", \"1955-12-31T00:00:00\", \"1960-12-31T00:00:00\", \"1965-12-31T00:00:00\", \"1970-12-31T00:00:00\", \"1975-12-31T00:00:00\", \"1980-12-31T00:00:00\", \"1985-12-31T00:00:00\", \"1990-12-31T00:00:00\", \"1995-12-31T00:00:00\", \"2000-12-31T00:00:00\", \"2005-12-31T00:00:00\", \"2010-12-31T00:00:00\", \"2015-12-31T00:00:00\"], \"y\": [-0.6887500000000001, -0.6537333333333334, -0.42999999999999994, -0.6089166666666664, -0.3975666666666667, 0.2728666666666667, -0.47300000000000003, 0.1569500000000001, -1.0308666666666668, -0.4993666666666666, -0.28958333333333347, -0.6135500000000002, -0.23895000000000002, -0.2974333333333333, -0.3071999999999999, -0.2625999999999999, -0.5905666666666666, -0.3455833333333333, -0.7060333333333333, -0.4767166666666668, 0.06740000000000004, -0.30048333333333327, -0.16794999999999996, 0.22148333333333334, -0.25093333333333345, -0.3143666666666668, -0.16445, 0.41473333333333334, 0.17663333333333334, -0.1614333333333332, 0.4190666666666666, 0.004533333333333319, 0.010266666666666797, -0.32483333333333336, -0.11366666666666665, 0.6635166666666668, -0.23984999999999998, 0.05703333333333327, 0.5527333333333334, 0.7749, 0.7641166666666662, 1.0808666666666664, 1.1731333333333331, 0.7963749999999998]}, {\"line\": {\"color\": \"red\"}, \"name\": \"Netherlands\", \"opacity\": 0.1, \"type\": \"scatter\", \"x\": [\"1800-12-31T00:00:00\", \"1805-12-31T00:00:00\", \"1810-12-31T00:00:00\", \"1815-12-31T00:00:00\", \"1820-12-31T00:00:00\", \"1825-12-31T00:00:00\", \"1830-12-31T00:00:00\", \"1835-12-31T00:00:00\", \"1840-12-31T00:00:00\", \"1845-12-31T00:00:00\", \"1850-12-31T00:00:00\", \"1855-12-31T00:00:00\", \"1860-12-31T00:00:00\", \"1865-12-31T00:00:00\", \"1870-12-31T00:00:00\", \"1875-12-31T00:00:00\", \"1880-12-31T00:00:00\", \"1885-12-31T00:00:00\", \"1890-12-31T00:00:00\", \"1895-12-31T00:00:00\", \"1900-12-31T00:00:00\", \"1905-12-31T00:00:00\", \"1910-12-31T00:00:00\", \"1915-12-31T00:00:00\", \"1920-12-31T00:00:00\", \"1925-12-31T00:00:00\", \"1930-12-31T00:00:00\", \"1935-12-31T00:00:00\", \"1940-12-31T00:00:00\", \"1945-12-31T00:00:00\", \"1950-12-31T00:00:00\", \"1955-12-31T00:00:00\", \"1960-12-31T00:00:00\", \"1965-12-31T00:00:00\", \"1970-12-31T00:00:00\", \"1975-12-31T00:00:00\", \"1980-12-31T00:00:00\", \"1985-12-31T00:00:00\", \"1990-12-31T00:00:00\", \"1995-12-31T00:00:00\", \"2000-12-31T00:00:00\", \"2005-12-31T00:00:00\", \"2010-12-31T00:00:00\", \"2015-12-31T00:00:00\"], \"y\": [-0.3630833333333334, -0.7434499999999999, -0.4137500000000001, -0.5769833333333333, -0.48556666666666654, 0.18348333333333336, -0.49815000000000004, 0.17763333333333328, -0.7982333333333332, -0.49328333333333335, -0.22171666666666667, -0.7892499999999999, -0.2926166666666667, -0.1821833333333333, -0.08171666666666666, -0.22126666666666675, -0.42769999999999997, -0.30966666666666665, -0.959683333333333, -0.5397500000000001, -0.04846666666666672, -0.36441666666666656, -0.37371666666666664, 0.19356666666666678, -0.3432333333333334, -0.2721499999999999, -0.0304166666666667, 0.18885000000000005, 0.03180000000000006, -0.045383333333333345, 0.38563333333333333, -0.016883333333333337, 0.18881666666666674, -0.4809833333333335, 0.09346666666666653, 0.27549999999999997, -0.05993333333333333, 0.13763333333333339, 0.5182833333333333, 0.7318833333333333, 0.7457499999999999, 1.1276833333333334, 1.0638166666666664, 0.8105625000000002]}, {\"line\": {\"color\": \"red\", \"width\": 2}, \"name\": \"Switzerland\", \"type\": \"scatter\", \"x\": [\"1800-12-31T00:00:00\", \"1805-12-31T00:00:00\", \"1810-12-31T00:00:00\", \"1815-12-31T00:00:00\", \"1820-12-31T00:00:00\", \"1825-12-31T00:00:00\", \"1830-12-31T00:00:00\", \"1835-12-31T00:00:00\", \"1840-12-31T00:00:00\", \"1845-12-31T00:00:00\", \"1850-12-31T00:00:00\", \"1855-12-31T00:00:00\", \"1860-12-31T00:00:00\", \"1865-12-31T00:00:00\", \"1870-12-31T00:00:00\", \"1875-12-31T00:00:00\", \"1880-12-31T00:00:00\", \"1885-12-31T00:00:00\", \"1890-12-31T00:00:00\", \"1895-12-31T00:00:00\", \"1900-12-31T00:00:00\", \"1905-12-31T00:00:00\", \"1910-12-31T00:00:00\", \"1915-12-31T00:00:00\", \"1920-12-31T00:00:00\", \"1925-12-31T00:00:00\", \"1930-12-31T00:00:00\", \"1935-12-31T00:00:00\", \"1940-12-31T00:00:00\", \"1945-12-31T00:00:00\", \"1950-12-31T00:00:00\", \"1955-12-31T00:00:00\", \"1960-12-31T00:00:00\", \"1965-12-31T00:00:00\", \"1970-12-31T00:00:00\", \"1975-12-31T00:00:00\", \"1980-12-31T00:00:00\", \"1985-12-31T00:00:00\", \"1990-12-31T00:00:00\", \"1995-12-31T00:00:00\", \"2000-12-31T00:00:00\", \"2005-12-31T00:00:00\", \"2010-12-31T00:00:00\", \"2015-12-31T00:00:00\"], \"y\": [0.21658333333333332, -0.20575000000000002, -0.29739999999999994, -0.6631166666666667, -0.5588166666666666, 0.17868333333333325, -0.4393333333333334, -0.06954999999999996, -0.7424666666666665, -0.5165, -0.33266666666666667, -0.7730833333333333, -0.5858333333333332, -0.0693166666666667, -0.08960000000000004, -0.3202999999999999, -0.37174999999999997, -0.35823333333333346, -1.0180833333333332, -0.48046666666666676, -0.04141666666666669, -0.3447666666666667, -0.47954999999999987, -0.21824999999999997, -0.28308333333333324, -0.09911666666666669, 0.18366666666666667, -0.20161666666666667, -0.20005, -0.03821666666666675, 0.6586333333333333, 0.04614999999999998, 0.0608000000000001, -0.13348333333333343, 0.01895000000000004, 0.11176666666666665, -0.10414999999999998, 0.18783333333333344, 0.6235500000000002, 0.8335000000000001, 0.8245999999999999, 1.013366666666667, 1.0079666666666667, 1.1340312500000003]}, {\"line\": {\"color\": \"red\"}, \"name\": \"Taiwan\", \"opacity\": 0.1, \"type\": \"scatter\", \"x\": [\"1800-12-31T00:00:00\", \"1805-12-31T00:00:00\", \"1810-12-31T00:00:00\", \"1815-12-31T00:00:00\", \"1820-12-31T00:00:00\", \"1825-12-31T00:00:00\", \"1830-12-31T00:00:00\", \"1835-12-31T00:00:00\", \"1840-12-31T00:00:00\", \"1845-12-31T00:00:00\", \"1850-12-31T00:00:00\", \"1855-12-31T00:00:00\", \"1860-12-31T00:00:00\", \"1865-12-31T00:00:00\", \"1870-12-31T00:00:00\", \"1875-12-31T00:00:00\", \"1880-12-31T00:00:00\", \"1885-12-31T00:00:00\", \"1890-12-31T00:00:00\", \"1895-12-31T00:00:00\", \"1900-12-31T00:00:00\", \"1905-12-31T00:00:00\", \"1910-12-31T00:00:00\", \"1915-12-31T00:00:00\", \"1920-12-31T00:00:00\", \"1925-12-31T00:00:00\", \"1930-12-31T00:00:00\", \"1935-12-31T00:00:00\", \"1940-12-31T00:00:00\", \"1945-12-31T00:00:00\", \"1950-12-31T00:00:00\", \"1955-12-31T00:00:00\", \"1960-12-31T00:00:00\", \"1965-12-31T00:00:00\", \"1970-12-31T00:00:00\", \"1975-12-31T00:00:00\", \"1980-12-31T00:00:00\", \"1985-12-31T00:00:00\", \"1990-12-31T00:00:00\", \"1995-12-31T00:00:00\", \"2000-12-31T00:00:00\", \"2005-12-31T00:00:00\", \"2010-12-31T00:00:00\", \"2015-12-31T00:00:00\"], \"y\": [null, null, null, null, null, null, null, null, null, -0.9391333333333333, -0.7703333333333333, -0.5116, -0.8079666666666669, -1.0539322033898308, -0.37020338983050843, -0.4618666666666667, -0.6602166666666667, -1.0337166666666666, -0.7108333333333333, -0.8112166666666666, -0.5036666666666664, -0.7456166666666665, -0.4820166666666666, -0.3816666666666667, -0.748816666666667, -0.6168499999999999, -0.4964833333333333, -0.3936666666666666, -0.28863333333333324, -0.14506666666666668, -0.03958333333333334, 0.10011666666666667, 0.04348333333333332, -0.03171666666666666, -0.12313333333333325, -0.039416666666666704, 0.050699999999999995, -0.07599999999999998, 0.017249999999999995, 0.18281666666666666, 0.4741666666666667, 0.5353166666666666, 0.6423333333333334, 0.30596874999999996]}, {\"line\": {\"color\": \"black\", \"dash\": \"dot\", \"width\": 1}, \"name\": \"Mittelwert von 1950-1980\", \"opacity\": 0.8, \"type\": \"scatter\", \"x\": [\"1800-12-31T00:00:00\", \"1805-12-31T00:00:00\", \"1810-12-31T00:00:00\", \"1815-12-31T00:00:00\", \"1820-12-31T00:00:00\", \"1825-12-31T00:00:00\", \"1830-12-31T00:00:00\", \"1835-12-31T00:00:00\", \"1840-12-31T00:00:00\", \"1845-12-31T00:00:00\", \"1850-12-31T00:00:00\", \"1855-12-31T00:00:00\", \"1860-12-31T00:00:00\", \"1865-12-31T00:00:00\", \"1870-12-31T00:00:00\", \"1875-12-31T00:00:00\", \"1880-12-31T00:00:00\", \"1885-12-31T00:00:00\", \"1890-12-31T00:00:00\", \"1895-12-31T00:00:00\", \"1900-12-31T00:00:00\", \"1905-12-31T00:00:00\", \"1910-12-31T00:00:00\", \"1915-12-31T00:00:00\", \"1920-12-31T00:00:00\", \"1925-12-31T00:00:00\", \"1930-12-31T00:00:00\", \"1935-12-31T00:00:00\", \"1940-12-31T00:00:00\", \"1945-12-31T00:00:00\", \"1950-12-31T00:00:00\", \"1955-12-31T00:00:00\", \"1960-12-31T00:00:00\", \"1965-12-31T00:00:00\", \"1970-12-31T00:00:00\", \"1975-12-31T00:00:00\", \"1980-12-31T00:00:00\", \"1985-12-31T00:00:00\", \"1990-12-31T00:00:00\", \"1995-12-31T00:00:00\", \"2000-12-31T00:00:00\", \"2005-12-31T00:00:00\", \"2010-12-31T00:00:00\", \"2015-12-31T00:00:00\"], \"y\": [0, 0, 0, 0, 0, 0, 0, 0, 0, 0, 0, 0, 0, 0, 0, 0, 0, 0, 0, 0, 0, 0, 0, 0, 0, 0, 0, 0, 0, 0, 0, 0, 0, 0, 0, 0, 0, 0, 0, 0, 0, 0, 0, 0]}],\n",
       "                        {\"annotations\": [{\"showarrow\": false, \"text\": \"Quelle: http://berkeleyearth.org/\", \"x\": 0.5, \"xref\": \"paper\", \"y\": -0.25, \"yref\": \"paper\"}], \"margin\": {\"b\": 90}, \"template\": {\"data\": {\"bar\": [{\"error_x\": {\"color\": \"rgb(36,36,36)\"}, \"error_y\": {\"color\": \"rgb(36,36,36)\"}, \"marker\": {\"line\": {\"color\": \"white\", \"width\": 0.5}}, \"type\": \"bar\"}], \"barpolar\": [{\"marker\": {\"line\": {\"color\": \"white\", \"width\": 0.5}}, \"type\": \"barpolar\"}], \"carpet\": [{\"aaxis\": {\"endlinecolor\": \"rgb(36,36,36)\", \"gridcolor\": \"white\", \"linecolor\": \"white\", \"minorgridcolor\": \"white\", \"startlinecolor\": \"rgb(36,36,36)\"}, \"baxis\": {\"endlinecolor\": \"rgb(36,36,36)\", \"gridcolor\": \"white\", \"linecolor\": \"white\", \"minorgridcolor\": \"white\", \"startlinecolor\": \"rgb(36,36,36)\"}, \"type\": \"carpet\"}], \"choropleth\": [{\"colorbar\": {\"outlinewidth\": 1, \"tickcolor\": \"rgb(36,36,36)\", \"ticks\": \"outside\"}, \"type\": \"choropleth\"}], \"contour\": [{\"colorbar\": {\"outlinewidth\": 1, \"tickcolor\": \"rgb(36,36,36)\", \"ticks\": \"outside\"}, \"colorscale\": [[0.0, \"#440154\"], [0.1111111111111111, \"#482878\"], [0.2222222222222222, \"#3e4989\"], [0.3333333333333333, \"#31688e\"], [0.4444444444444444, \"#26828e\"], [0.5555555555555556, \"#1f9e89\"], [0.6666666666666666, \"#35b779\"], [0.7777777777777778, \"#6ece58\"], [0.8888888888888888, \"#b5de2b\"], [1.0, \"#fde725\"]], \"type\": \"contour\"}], \"contourcarpet\": [{\"colorbar\": {\"outlinewidth\": 1, \"tickcolor\": \"rgb(36,36,36)\", \"ticks\": \"outside\"}, \"type\": \"contourcarpet\"}], \"heatmap\": [{\"colorbar\": {\"outlinewidth\": 1, \"tickcolor\": \"rgb(36,36,36)\", \"ticks\": \"outside\"}, \"colorscale\": [[0.0, \"#440154\"], [0.1111111111111111, \"#482878\"], [0.2222222222222222, \"#3e4989\"], [0.3333333333333333, \"#31688e\"], [0.4444444444444444, \"#26828e\"], [0.5555555555555556, \"#1f9e89\"], [0.6666666666666666, \"#35b779\"], [0.7777777777777778, \"#6ece58\"], [0.8888888888888888, \"#b5de2b\"], [1.0, \"#fde725\"]], \"type\": \"heatmap\"}], \"heatmapgl\": [{\"colorbar\": {\"outlinewidth\": 1, \"tickcolor\": \"rgb(36,36,36)\", \"ticks\": \"outside\"}, \"colorscale\": [[0.0, \"#440154\"], [0.1111111111111111, \"#482878\"], [0.2222222222222222, \"#3e4989\"], [0.3333333333333333, \"#31688e\"], [0.4444444444444444, \"#26828e\"], [0.5555555555555556, \"#1f9e89\"], [0.6666666666666666, \"#35b779\"], [0.7777777777777778, \"#6ece58\"], [0.8888888888888888, \"#b5de2b\"], [1.0, \"#fde725\"]], \"type\": \"heatmapgl\"}], \"histogram\": [{\"marker\": {\"line\": {\"color\": \"white\", \"width\": 0.6}}, \"type\": \"histogram\"}], \"histogram2d\": [{\"colorbar\": {\"outlinewidth\": 1, \"tickcolor\": \"rgb(36,36,36)\", \"ticks\": \"outside\"}, \"colorscale\": [[0.0, \"#440154\"], [0.1111111111111111, \"#482878\"], [0.2222222222222222, \"#3e4989\"], [0.3333333333333333, \"#31688e\"], [0.4444444444444444, \"#26828e\"], [0.5555555555555556, \"#1f9e89\"], [0.6666666666666666, \"#35b779\"], [0.7777777777777778, \"#6ece58\"], [0.8888888888888888, \"#b5de2b\"], [1.0, \"#fde725\"]], \"type\": \"histogram2d\"}], \"histogram2dcontour\": [{\"colorbar\": {\"outlinewidth\": 1, \"tickcolor\": \"rgb(36,36,36)\", \"ticks\": \"outside\"}, \"colorscale\": [[0.0, \"#440154\"], [0.1111111111111111, \"#482878\"], [0.2222222222222222, \"#3e4989\"], [0.3333333333333333, \"#31688e\"], [0.4444444444444444, \"#26828e\"], [0.5555555555555556, \"#1f9e89\"], [0.6666666666666666, \"#35b779\"], [0.7777777777777778, \"#6ece58\"], [0.8888888888888888, \"#b5de2b\"], [1.0, \"#fde725\"]], \"type\": \"histogram2dcontour\"}], \"mesh3d\": [{\"colorbar\": {\"outlinewidth\": 1, \"tickcolor\": \"rgb(36,36,36)\", \"ticks\": \"outside\"}, \"type\": \"mesh3d\"}], \"parcoords\": [{\"line\": {\"colorbar\": {\"outlinewidth\": 1, \"tickcolor\": \"rgb(36,36,36)\", \"ticks\": \"outside\"}}, \"type\": \"parcoords\"}], \"pie\": [{\"automargin\": true, \"type\": \"pie\"}], \"scatter\": [{\"marker\": {\"colorbar\": {\"outlinewidth\": 1, \"tickcolor\": \"rgb(36,36,36)\", \"ticks\": \"outside\"}}, \"type\": \"scatter\"}], \"scatter3d\": [{\"line\": {\"colorbar\": {\"outlinewidth\": 1, \"tickcolor\": \"rgb(36,36,36)\", \"ticks\": \"outside\"}}, \"marker\": {\"colorbar\": {\"outlinewidth\": 1, \"tickcolor\": \"rgb(36,36,36)\", \"ticks\": \"outside\"}}, \"type\": \"scatter3d\"}], \"scattercarpet\": [{\"marker\": {\"colorbar\": {\"outlinewidth\": 1, \"tickcolor\": \"rgb(36,36,36)\", \"ticks\": \"outside\"}}, \"type\": \"scattercarpet\"}], \"scattergeo\": [{\"marker\": {\"colorbar\": {\"outlinewidth\": 1, \"tickcolor\": \"rgb(36,36,36)\", \"ticks\": \"outside\"}}, \"type\": \"scattergeo\"}], \"scattergl\": [{\"marker\": {\"colorbar\": {\"outlinewidth\": 1, \"tickcolor\": \"rgb(36,36,36)\", \"ticks\": \"outside\"}}, \"type\": \"scattergl\"}], \"scattermapbox\": [{\"marker\": {\"colorbar\": {\"outlinewidth\": 1, \"tickcolor\": \"rgb(36,36,36)\", \"ticks\": \"outside\"}}, \"type\": \"scattermapbox\"}], \"scatterpolar\": [{\"marker\": {\"colorbar\": {\"outlinewidth\": 1, \"tickcolor\": \"rgb(36,36,36)\", \"ticks\": \"outside\"}}, \"type\": \"scatterpolar\"}], \"scatterpolargl\": [{\"marker\": {\"colorbar\": {\"outlinewidth\": 1, \"tickcolor\": \"rgb(36,36,36)\", \"ticks\": \"outside\"}}, \"type\": \"scatterpolargl\"}], \"scatterternary\": [{\"marker\": {\"colorbar\": {\"outlinewidth\": 1, \"tickcolor\": \"rgb(36,36,36)\", \"ticks\": \"outside\"}}, \"type\": \"scatterternary\"}], \"surface\": [{\"colorbar\": {\"outlinewidth\": 1, \"tickcolor\": \"rgb(36,36,36)\", \"ticks\": \"outside\"}, \"colorscale\": [[0.0, \"#440154\"], [0.1111111111111111, \"#482878\"], [0.2222222222222222, \"#3e4989\"], [0.3333333333333333, \"#31688e\"], [0.4444444444444444, \"#26828e\"], [0.5555555555555556, \"#1f9e89\"], [0.6666666666666666, \"#35b779\"], [0.7777777777777778, \"#6ece58\"], [0.8888888888888888, \"#b5de2b\"], [1.0, \"#fde725\"]], \"type\": \"surface\"}], \"table\": [{\"cells\": {\"fill\": {\"color\": \"rgb(237,237,237)\"}, \"line\": {\"color\": \"white\"}}, \"header\": {\"fill\": {\"color\": \"rgb(217,217,217)\"}, \"line\": {\"color\": \"white\"}}, \"type\": \"table\"}]}, \"layout\": {\"annotationdefaults\": {\"arrowhead\": 0, \"arrowwidth\": 1}, \"coloraxis\": {\"colorbar\": {\"outlinewidth\": 1, \"tickcolor\": \"rgb(36,36,36)\", \"ticks\": \"outside\"}}, \"colorscale\": {\"diverging\": [[0.0, \"rgb(103,0,31)\"], [0.1, \"rgb(178,24,43)\"], [0.2, \"rgb(214,96,77)\"], [0.3, \"rgb(244,165,130)\"], [0.4, \"rgb(253,219,199)\"], [0.5, \"rgb(247,247,247)\"], [0.6, \"rgb(209,229,240)\"], [0.7, \"rgb(146,197,222)\"], [0.8, \"rgb(67,147,195)\"], [0.9, \"rgb(33,102,172)\"], [1.0, \"rgb(5,48,97)\"]], \"sequential\": [[0.0, \"#440154\"], [0.1111111111111111, \"#482878\"], [0.2222222222222222, \"#3e4989\"], [0.3333333333333333, \"#31688e\"], [0.4444444444444444, \"#26828e\"], [0.5555555555555556, \"#1f9e89\"], [0.6666666666666666, \"#35b779\"], [0.7777777777777778, \"#6ece58\"], [0.8888888888888888, \"#b5de2b\"], [1.0, \"#fde725\"]], \"sequentialminus\": [[0.0, \"#440154\"], [0.1111111111111111, \"#482878\"], [0.2222222222222222, \"#3e4989\"], [0.3333333333333333, \"#31688e\"], [0.4444444444444444, \"#26828e\"], [0.5555555555555556, \"#1f9e89\"], [0.6666666666666666, \"#35b779\"], [0.7777777777777778, \"#6ece58\"], [0.8888888888888888, \"#b5de2b\"], [1.0, \"#fde725\"]]}, \"colorway\": [\"#1F77B4\", \"#FF7F0E\", \"#2CA02C\", \"#D62728\", \"#9467BD\", \"#8C564B\", \"#E377C2\", \"#7F7F7F\", \"#BCBD22\", \"#17BECF\"], \"font\": {\"color\": \"rgb(36,36,36)\"}, \"geo\": {\"bgcolor\": \"white\", \"lakecolor\": \"white\", \"landcolor\": \"white\", \"showlakes\": true, \"showland\": true, \"subunitcolor\": \"white\"}, \"hoverlabel\": {\"align\": \"left\"}, \"hovermode\": \"closest\", \"mapbox\": {\"style\": \"light\"}, \"paper_bgcolor\": \"white\", \"plot_bgcolor\": \"white\", \"polar\": {\"angularaxis\": {\"gridcolor\": \"rgb(232,232,232)\", \"linecolor\": \"rgb(36,36,36)\", \"showgrid\": false, \"showline\": true, \"ticks\": \"outside\"}, \"bgcolor\": \"white\", \"radialaxis\": {\"gridcolor\": \"rgb(232,232,232)\", \"linecolor\": \"rgb(36,36,36)\", \"showgrid\": false, \"showline\": true, \"ticks\": \"outside\"}}, \"scene\": {\"xaxis\": {\"backgroundcolor\": \"white\", \"gridcolor\": \"rgb(232,232,232)\", \"gridwidth\": 2, \"linecolor\": \"rgb(36,36,36)\", \"showbackground\": true, \"showgrid\": false, \"showline\": true, \"ticks\": \"outside\", \"zeroline\": false, \"zerolinecolor\": \"rgb(36,36,36)\"}, \"yaxis\": {\"backgroundcolor\": \"white\", \"gridcolor\": \"rgb(232,232,232)\", \"gridwidth\": 2, \"linecolor\": \"rgb(36,36,36)\", \"showbackground\": true, \"showgrid\": false, \"showline\": true, \"ticks\": \"outside\", \"zeroline\": false, \"zerolinecolor\": \"rgb(36,36,36)\"}, \"zaxis\": {\"backgroundcolor\": \"white\", \"gridcolor\": \"rgb(232,232,232)\", \"gridwidth\": 2, \"linecolor\": \"rgb(36,36,36)\", \"showbackground\": true, \"showgrid\": false, \"showline\": true, \"ticks\": \"outside\", \"zeroline\": false, \"zerolinecolor\": \"rgb(36,36,36)\"}}, \"shapedefaults\": {\"fillcolor\": \"black\", \"line\": {\"width\": 0}, \"opacity\": 0.3}, \"ternary\": {\"aaxis\": {\"gridcolor\": \"rgb(232,232,232)\", \"linecolor\": \"rgb(36,36,36)\", \"showgrid\": false, \"showline\": true, \"ticks\": \"outside\"}, \"baxis\": {\"gridcolor\": \"rgb(232,232,232)\", \"linecolor\": \"rgb(36,36,36)\", \"showgrid\": false, \"showline\": true, \"ticks\": \"outside\"}, \"bgcolor\": \"white\", \"caxis\": {\"gridcolor\": \"rgb(232,232,232)\", \"linecolor\": \"rgb(36,36,36)\", \"showgrid\": false, \"showline\": true, \"ticks\": \"outside\"}}, \"title\": {\"x\": 0.05}, \"xaxis\": {\"automargin\": true, \"gridcolor\": \"rgb(232,232,232)\", \"linecolor\": \"rgb(36,36,36)\", \"showgrid\": false, \"showline\": true, \"ticks\": \"outside\", \"title\": {\"standoff\": 15}, \"zeroline\": false, \"zerolinecolor\": \"rgb(36,36,36)\"}, \"yaxis\": {\"automargin\": true, \"gridcolor\": \"rgb(232,232,232)\", \"linecolor\": \"rgb(36,36,36)\", \"showgrid\": false, \"showline\": true, \"ticks\": \"outside\", \"title\": {\"standoff\": 15}, \"zeroline\": false, \"zerolinecolor\": \"rgb(36,36,36)\"}}}, \"title\": {\"text\": \"Temperaturdifferenzen zum gemessenen Mittel \\u00e4hnlich grosser L\\u00e4nder zur Schweiz von 1950-1980\"}, \"width\": 950, \"xaxis\": {\"title\": {\"text\": \"Jahre\"}}, \"yaxis\": {\"title\": {\"text\": \"Temperaturdifferenz in K\"}}},\n",
       "                        {\"responsive\": true}\n",
       "                    ).then(function(){\n",
       "                            \n",
       "var gd = document.getElementById('5788c4c5-e694-4d80-a485-ea10d0c00d17');\n",
       "var x = new MutationObserver(function (mutations, observer) {{\n",
       "        var display = window.getComputedStyle(gd).display;\n",
       "        if (!display || display === 'none') {{\n",
       "            console.log([gd, 'removed!']);\n",
       "            Plotly.purge(gd);\n",
       "            observer.disconnect();\n",
       "        }}\n",
       "}});\n",
       "\n",
       "// Listen for the removal of the full notebook cells\n",
       "var notebookContainer = gd.closest('#notebook-container');\n",
       "if (notebookContainer) {{\n",
       "    x.observe(notebookContainer, {childList: true});\n",
       "}}\n",
       "\n",
       "// Listen for the clearing of the current output cell\n",
       "var outputEl = gd.closest('.output');\n",
       "if (outputEl) {{\n",
       "    x.observe(outputEl, {childList: true});\n",
       "}}\n",
       "\n",
       "                        })\n",
       "                };\n",
       "                });\n",
       "            </script>\n",
       "        </div>"
      ]
     },
     "metadata": {},
     "output_type": "display_data"
    }
   ],
   "source": [
    "def lineplot_swiss_similar_countries(data):\n",
    "    data = data.copy()\n",
    "    data = data[data['country'].isin(['Switzerland','Denmark', 'Netherlands', 'Bhutan', 'Taiwan']) == True]\n",
    "    data = data.pivot_table(index='date', columns='country', values='temperature')\n",
    "    data = data.loc['1800':]\n",
    "    data = data.resample('5Y').mean()\n",
    "                \n",
    "    fig = go.Figure()\n",
    "    \n",
    "    for column in data.columns:\n",
    "        if column != 'Switzerland':\n",
    "            fig.add_trace(go.Scatter(x=data.index,\n",
    "                                     y=data[column], \n",
    "                                     name=column,\n",
    "                                     line=dict(color='red'),\n",
    "                                     opacity=0.1)\n",
    "                         )\n",
    "        else:\n",
    "            fig.add_trace(go.Scatter(x=data.index,\n",
    "                                     y=data[column],\n",
    "                                     name=column, \n",
    "                                     line=dict(color='red',\n",
    "                                               width=2)\n",
    "                                    )\n",
    "                         )\n",
    "    fig.add_trace(go.Scatter(x=data.index,\n",
    "                             y=[0 for i in range(data.shape[0])],\n",
    "                             name='Mittelwert von 1950-1980',\n",
    "                             line=dict(color='black', \n",
    "                                       dash='dot',\n",
    "                                       width=1),\n",
    "                             opacity=0.8)\n",
    "                  \n",
    "                 )\n",
    "    \n",
    "    fig.update_layout(template='simple_white',\n",
    "                      title='Temperaturdifferenzen zum gemessenen Mittel ähnlich grosser Länder zur Schweiz von 1950-1980',\n",
    "                      xaxis_title='Jahre',\n",
    "                      yaxis_title='Temperaturdifferenz in K',\n",
    "                     )\n",
    "    \n",
    "    fig.update_layout(width=950,\n",
    "                    margin_b=90, \n",
    "                    annotations = [dict(xref='paper',\n",
    "                                        yref='paper',\n",
    "                                        x=0.5, y=-0.25,\n",
    "                                        showarrow=False,\n",
    "                                        text ='Quelle: http://berkeleyearth.org/')])\n",
    "                      \n",
    "\n",
    "    fig.show()\n",
    "    \n",
    "    \n",
    "lineplot_swiss_similar_countries(temp_data)"
   ]
  },
  {
   "cell_type": "markdown",
   "metadata": {},
   "source": [
    "Ihn interessier nun der maximale Absolute Unterschied vom Anfangsmesswert zum letzten gemessenen Messwert jedes Landes. Welches Land hatte den grössten Zuwachs und wie steht die Schweiz zu diesen Ländern?"
   ]
  },
  {
   "cell_type": "code",
   "execution_count": 97,
   "metadata": {},
   "outputs": [
    {
     "data": {
      "text/html": [
       "<div>\n",
       "<style scoped>\n",
       "    .dataframe tbody tr th:only-of-type {\n",
       "        vertical-align: middle;\n",
       "    }\n",
       "\n",
       "    .dataframe tbody tr th {\n",
       "        vertical-align: top;\n",
       "    }\n",
       "\n",
       "    .dataframe thead th {\n",
       "        text-align: right;\n",
       "    }\n",
       "</style>\n",
       "<table border=\"1\" class=\"dataframe\">\n",
       "  <thead>\n",
       "    <tr style=\"text-align: right;\">\n",
       "      <th></th>\n",
       "      <th>date</th>\n",
       "      <th>country</th>\n",
       "      <th>alpha_3</th>\n",
       "      <th>temperature</th>\n",
       "    </tr>\n",
       "  </thead>\n",
       "  <tbody>\n",
       "    <tr>\n",
       "      <th>0</th>\n",
       "      <td>1838-04-01</td>\n",
       "      <td>Afghanistan</td>\n",
       "      <td>AFG</td>\n",
       "      <td>-1.612</td>\n",
       "    </tr>\n",
       "    <tr>\n",
       "      <th>1</th>\n",
       "      <td>1838-05-01</td>\n",
       "      <td>Afghanistan</td>\n",
       "      <td>AFG</td>\n",
       "      <td>NaN</td>\n",
       "    </tr>\n",
       "    <tr>\n",
       "      <th>2</th>\n",
       "      <td>1838-07-01</td>\n",
       "      <td>Afghanistan</td>\n",
       "      <td>AFG</td>\n",
       "      <td>0.167</td>\n",
       "    </tr>\n",
       "    <tr>\n",
       "      <th>3</th>\n",
       "      <td>1838-11-01</td>\n",
       "      <td>Afghanistan</td>\n",
       "      <td>AFG</td>\n",
       "      <td>-0.155</td>\n",
       "    </tr>\n",
       "    <tr>\n",
       "      <th>4</th>\n",
       "      <td>1839-07-01</td>\n",
       "      <td>Afghanistan</td>\n",
       "      <td>AFG</td>\n",
       "      <td>NaN</td>\n",
       "    </tr>\n",
       "    <tr>\n",
       "      <th>...</th>\n",
       "      <td>...</td>\n",
       "      <td>...</td>\n",
       "      <td>...</td>\n",
       "      <td>...</td>\n",
       "    </tr>\n",
       "    <tr>\n",
       "      <th>490159</th>\n",
       "      <td>1956-10-01</td>\n",
       "      <td>Zimbabwe</td>\n",
       "      <td>ZWE</td>\n",
       "      <td>-0.008</td>\n",
       "    </tr>\n",
       "    <tr>\n",
       "      <th>490160</th>\n",
       "      <td>1965-08-01</td>\n",
       "      <td>Zimbabwe</td>\n",
       "      <td>ZWE</td>\n",
       "      <td>0.172</td>\n",
       "    </tr>\n",
       "    <tr>\n",
       "      <th>490161</th>\n",
       "      <td>2002-11-01</td>\n",
       "      <td>Zimbabwe</td>\n",
       "      <td>ZWE</td>\n",
       "      <td>-0.249</td>\n",
       "    </tr>\n",
       "    <tr>\n",
       "      <th>490162</th>\n",
       "      <td>1998-02-01</td>\n",
       "      <td>Zimbabwe</td>\n",
       "      <td>ZWE</td>\n",
       "      <td>1.056</td>\n",
       "    </tr>\n",
       "    <tr>\n",
       "      <th>490163</th>\n",
       "      <td>1888-05-01</td>\n",
       "      <td>Zimbabwe</td>\n",
       "      <td>ZWE</td>\n",
       "      <td>-0.853</td>\n",
       "    </tr>\n",
       "  </tbody>\n",
       "</table>\n",
       "<p>490164 rows × 4 columns</p>\n",
       "</div>"
      ],
      "text/plain": [
       "             date      country alpha_3  temperature\n",
       "0      1838-04-01  Afghanistan     AFG       -1.612\n",
       "1      1838-05-01  Afghanistan     AFG          NaN\n",
       "2      1838-07-01  Afghanistan     AFG        0.167\n",
       "3      1838-11-01  Afghanistan     AFG       -0.155\n",
       "4      1839-07-01  Afghanistan     AFG          NaN\n",
       "...           ...          ...     ...          ...\n",
       "490159 1956-10-01     Zimbabwe     ZWE       -0.008\n",
       "490160 1965-08-01     Zimbabwe     ZWE        0.172\n",
       "490161 2002-11-01     Zimbabwe     ZWE       -0.249\n",
       "490162 1998-02-01     Zimbabwe     ZWE        1.056\n",
       "490163 1888-05-01     Zimbabwe     ZWE       -0.853\n",
       "\n",
       "[490164 rows x 4 columns]"
      ]
     },
     "execution_count": 97,
     "metadata": {},
     "output_type": "execute_result"
    }
   ],
   "source": [
    "temp_data"
   ]
  },
  {
   "cell_type": "code",
   "execution_count": 101,
   "metadata": {
    "scrolled": true
   },
   "outputs": [
    {
     "data": {
      "application/vnd.plotly.v1+json": {
       "config": {
        "plotlyServerURL": "https://plot.ly"
       },
       "data": [
        {
         "marker": {
          "color": "blue"
         },
         "opacity": 0.5,
         "type": "bar",
         "x": [
          "Armenia"
         ],
         "y": [
          -1.288939655172414
         ]
        },
        {
         "marker": {
          "color": "blue"
         },
         "opacity": 0.5,
         "type": "bar",
         "x": [
          "Netherlands"
         ],
         "y": [
          -0.6034827586206895
         ]
        },
        {
         "marker": {
          "color": "blue"
         },
         "opacity": 0.5,
         "type": "bar",
         "x": [
          "Belgium"
         ],
         "y": [
          -0.5176120689655168
         ]
        },
        {
         "marker": {
          "color": "blue"
         },
         "opacity": 0.5,
         "type": "bar",
         "x": [
          "Luxembourg"
         ],
         "y": [
          -0.4882758620689658
         ]
        },
        {
         "marker": {
          "color": "blue"
         },
         "opacity": 0.5,
         "type": "bar",
         "x": [
          "Denmark"
         ],
         "y": [
          -0.46487931034482766
         ]
        },
        {
         "marker": {
          "color": "blue"
         },
         "opacity": 0.5,
         "type": "bar",
         "x": [
          "Germany"
         ],
         "y": [
          -0.4614396551724136
         ]
        },
        {
         "marker": {
          "color": "blue"
         },
         "opacity": 0.5,
         "type": "bar",
         "x": [
          "United Kingdom"
         ],
         "y": [
          -0.12552586206896577
         ]
        },
        {
         "marker": {
          "color": "blue"
         },
         "opacity": 0.5,
         "type": "bar",
         "x": [
          "Liechtenstein"
         ],
         "y": [
          0.038534482758620814
         ]
        },
        {
         "marker": {
          "color": "blue"
         },
         "opacity": 0.5,
         "type": "bar",
         "x": [
          "Czech Republic"
         ],
         "y": [
          0.07673275862068951
         ]
        },
        {
         "marker": {
          "color": "blue"
         },
         "opacity": 0.5,
         "type": "bar",
         "x": [
          "Sweden"
         ],
         "y": [
          0.07887931034482687
         ]
        },
        {
         "marker": {
          "color": "grey"
         },
         "type": "bar",
         "x": [
          "Switzerland"
         ],
         "y": [
          0.08892241379310317
         ]
        },
        {
         "marker": {
          "color": "red"
         },
         "opacity": 0.5,
         "type": "bar",
         "x": [
          "Israel"
         ],
         "y": [
          2.4357116858237546
         ]
        },
        {
         "marker": {
          "color": "red"
         },
         "opacity": 0.5,
         "type": "bar",
         "x": [
          "Syria"
         ],
         "y": [
          2.4485874384236457
         ]
        },
        {
         "marker": {
          "color": "red"
         },
         "opacity": 0.5,
         "type": "bar",
         "x": [
          "Jordan"
         ],
         "y": [
          2.495334975369458
         ]
        },
        {
         "marker": {
          "color": "red"
         },
         "opacity": 0.5,
         "type": "bar",
         "x": [
          "Egypt"
         ],
         "y": [
          2.5509291187739462
         ]
        },
        {
         "marker": {
          "color": "red"
         },
         "opacity": 0.5,
         "type": "bar",
         "x": [
          "Kazakhstan"
         ],
         "y": [
          2.653468515742129
         ]
        },
        {
         "marker": {
          "color": "red"
         },
         "opacity": 0.5,
         "type": "bar",
         "x": [
          "Russia"
         ],
         "y": [
          2.6946071964017992
         ]
        },
        {
         "marker": {
          "color": "red"
         },
         "opacity": 0.5,
         "type": "bar",
         "x": [
          "Turkmenistan"
         ],
         "y": [
          2.8664664750957862
         ]
        },
        {
         "marker": {
          "color": "red"
         },
         "opacity": 0.5,
         "type": "bar",
         "x": [
          "Uzbekistan"
         ],
         "y": [
          2.9080899014778323
         ]
        },
        {
         "marker": {
          "color": "red"
         },
         "opacity": 0.5,
         "type": "bar",
         "x": [
          "Azerbaijan"
         ],
         "y": [
          2.9717315270935956
         ]
        },
        {
         "marker": {
          "color": "red"
         },
         "opacity": 0.5,
         "type": "bar",
         "x": [
          "Saint Pierre and Miquelon"
         ],
         "y": [
          3.2422564102564104
         ]
        }
       ],
       "layout": {
        "showlegend": false,
        "template": {
         "data": {
          "bar": [
           {
            "error_x": {
             "color": "rgb(36,36,36)"
            },
            "error_y": {
             "color": "rgb(36,36,36)"
            },
            "marker": {
             "line": {
              "color": "white",
              "width": 0.5
             }
            },
            "type": "bar"
           }
          ],
          "barpolar": [
           {
            "marker": {
             "line": {
              "color": "white",
              "width": 0.5
             }
            },
            "type": "barpolar"
           }
          ],
          "carpet": [
           {
            "aaxis": {
             "endlinecolor": "rgb(36,36,36)",
             "gridcolor": "white",
             "linecolor": "white",
             "minorgridcolor": "white",
             "startlinecolor": "rgb(36,36,36)"
            },
            "baxis": {
             "endlinecolor": "rgb(36,36,36)",
             "gridcolor": "white",
             "linecolor": "white",
             "minorgridcolor": "white",
             "startlinecolor": "rgb(36,36,36)"
            },
            "type": "carpet"
           }
          ],
          "choropleth": [
           {
            "colorbar": {
             "outlinewidth": 1,
             "tickcolor": "rgb(36,36,36)",
             "ticks": "outside"
            },
            "type": "choropleth"
           }
          ],
          "contour": [
           {
            "colorbar": {
             "outlinewidth": 1,
             "tickcolor": "rgb(36,36,36)",
             "ticks": "outside"
            },
            "colorscale": [
             [
              0,
              "#440154"
             ],
             [
              0.1111111111111111,
              "#482878"
             ],
             [
              0.2222222222222222,
              "#3e4989"
             ],
             [
              0.3333333333333333,
              "#31688e"
             ],
             [
              0.4444444444444444,
              "#26828e"
             ],
             [
              0.5555555555555556,
              "#1f9e89"
             ],
             [
              0.6666666666666666,
              "#35b779"
             ],
             [
              0.7777777777777778,
              "#6ece58"
             ],
             [
              0.8888888888888888,
              "#b5de2b"
             ],
             [
              1,
              "#fde725"
             ]
            ],
            "type": "contour"
           }
          ],
          "contourcarpet": [
           {
            "colorbar": {
             "outlinewidth": 1,
             "tickcolor": "rgb(36,36,36)",
             "ticks": "outside"
            },
            "type": "contourcarpet"
           }
          ],
          "heatmap": [
           {
            "colorbar": {
             "outlinewidth": 1,
             "tickcolor": "rgb(36,36,36)",
             "ticks": "outside"
            },
            "colorscale": [
             [
              0,
              "#440154"
             ],
             [
              0.1111111111111111,
              "#482878"
             ],
             [
              0.2222222222222222,
              "#3e4989"
             ],
             [
              0.3333333333333333,
              "#31688e"
             ],
             [
              0.4444444444444444,
              "#26828e"
             ],
             [
              0.5555555555555556,
              "#1f9e89"
             ],
             [
              0.6666666666666666,
              "#35b779"
             ],
             [
              0.7777777777777778,
              "#6ece58"
             ],
             [
              0.8888888888888888,
              "#b5de2b"
             ],
             [
              1,
              "#fde725"
             ]
            ],
            "type": "heatmap"
           }
          ],
          "heatmapgl": [
           {
            "colorbar": {
             "outlinewidth": 1,
             "tickcolor": "rgb(36,36,36)",
             "ticks": "outside"
            },
            "colorscale": [
             [
              0,
              "#440154"
             ],
             [
              0.1111111111111111,
              "#482878"
             ],
             [
              0.2222222222222222,
              "#3e4989"
             ],
             [
              0.3333333333333333,
              "#31688e"
             ],
             [
              0.4444444444444444,
              "#26828e"
             ],
             [
              0.5555555555555556,
              "#1f9e89"
             ],
             [
              0.6666666666666666,
              "#35b779"
             ],
             [
              0.7777777777777778,
              "#6ece58"
             ],
             [
              0.8888888888888888,
              "#b5de2b"
             ],
             [
              1,
              "#fde725"
             ]
            ],
            "type": "heatmapgl"
           }
          ],
          "histogram": [
           {
            "marker": {
             "line": {
              "color": "white",
              "width": 0.6
             }
            },
            "type": "histogram"
           }
          ],
          "histogram2d": [
           {
            "colorbar": {
             "outlinewidth": 1,
             "tickcolor": "rgb(36,36,36)",
             "ticks": "outside"
            },
            "colorscale": [
             [
              0,
              "#440154"
             ],
             [
              0.1111111111111111,
              "#482878"
             ],
             [
              0.2222222222222222,
              "#3e4989"
             ],
             [
              0.3333333333333333,
              "#31688e"
             ],
             [
              0.4444444444444444,
              "#26828e"
             ],
             [
              0.5555555555555556,
              "#1f9e89"
             ],
             [
              0.6666666666666666,
              "#35b779"
             ],
             [
              0.7777777777777778,
              "#6ece58"
             ],
             [
              0.8888888888888888,
              "#b5de2b"
             ],
             [
              1,
              "#fde725"
             ]
            ],
            "type": "histogram2d"
           }
          ],
          "histogram2dcontour": [
           {
            "colorbar": {
             "outlinewidth": 1,
             "tickcolor": "rgb(36,36,36)",
             "ticks": "outside"
            },
            "colorscale": [
             [
              0,
              "#440154"
             ],
             [
              0.1111111111111111,
              "#482878"
             ],
             [
              0.2222222222222222,
              "#3e4989"
             ],
             [
              0.3333333333333333,
              "#31688e"
             ],
             [
              0.4444444444444444,
              "#26828e"
             ],
             [
              0.5555555555555556,
              "#1f9e89"
             ],
             [
              0.6666666666666666,
              "#35b779"
             ],
             [
              0.7777777777777778,
              "#6ece58"
             ],
             [
              0.8888888888888888,
              "#b5de2b"
             ],
             [
              1,
              "#fde725"
             ]
            ],
            "type": "histogram2dcontour"
           }
          ],
          "mesh3d": [
           {
            "colorbar": {
             "outlinewidth": 1,
             "tickcolor": "rgb(36,36,36)",
             "ticks": "outside"
            },
            "type": "mesh3d"
           }
          ],
          "parcoords": [
           {
            "line": {
             "colorbar": {
              "outlinewidth": 1,
              "tickcolor": "rgb(36,36,36)",
              "ticks": "outside"
             }
            },
            "type": "parcoords"
           }
          ],
          "pie": [
           {
            "automargin": true,
            "type": "pie"
           }
          ],
          "scatter": [
           {
            "marker": {
             "colorbar": {
              "outlinewidth": 1,
              "tickcolor": "rgb(36,36,36)",
              "ticks": "outside"
             }
            },
            "type": "scatter"
           }
          ],
          "scatter3d": [
           {
            "line": {
             "colorbar": {
              "outlinewidth": 1,
              "tickcolor": "rgb(36,36,36)",
              "ticks": "outside"
             }
            },
            "marker": {
             "colorbar": {
              "outlinewidth": 1,
              "tickcolor": "rgb(36,36,36)",
              "ticks": "outside"
             }
            },
            "type": "scatter3d"
           }
          ],
          "scattercarpet": [
           {
            "marker": {
             "colorbar": {
              "outlinewidth": 1,
              "tickcolor": "rgb(36,36,36)",
              "ticks": "outside"
             }
            },
            "type": "scattercarpet"
           }
          ],
          "scattergeo": [
           {
            "marker": {
             "colorbar": {
              "outlinewidth": 1,
              "tickcolor": "rgb(36,36,36)",
              "ticks": "outside"
             }
            },
            "type": "scattergeo"
           }
          ],
          "scattergl": [
           {
            "marker": {
             "colorbar": {
              "outlinewidth": 1,
              "tickcolor": "rgb(36,36,36)",
              "ticks": "outside"
             }
            },
            "type": "scattergl"
           }
          ],
          "scattermapbox": [
           {
            "marker": {
             "colorbar": {
              "outlinewidth": 1,
              "tickcolor": "rgb(36,36,36)",
              "ticks": "outside"
             }
            },
            "type": "scattermapbox"
           }
          ],
          "scatterpolar": [
           {
            "marker": {
             "colorbar": {
              "outlinewidth": 1,
              "tickcolor": "rgb(36,36,36)",
              "ticks": "outside"
             }
            },
            "type": "scatterpolar"
           }
          ],
          "scatterpolargl": [
           {
            "marker": {
             "colorbar": {
              "outlinewidth": 1,
              "tickcolor": "rgb(36,36,36)",
              "ticks": "outside"
             }
            },
            "type": "scatterpolargl"
           }
          ],
          "scatterternary": [
           {
            "marker": {
             "colorbar": {
              "outlinewidth": 1,
              "tickcolor": "rgb(36,36,36)",
              "ticks": "outside"
             }
            },
            "type": "scatterternary"
           }
          ],
          "surface": [
           {
            "colorbar": {
             "outlinewidth": 1,
             "tickcolor": "rgb(36,36,36)",
             "ticks": "outside"
            },
            "colorscale": [
             [
              0,
              "#440154"
             ],
             [
              0.1111111111111111,
              "#482878"
             ],
             [
              0.2222222222222222,
              "#3e4989"
             ],
             [
              0.3333333333333333,
              "#31688e"
             ],
             [
              0.4444444444444444,
              "#26828e"
             ],
             [
              0.5555555555555556,
              "#1f9e89"
             ],
             [
              0.6666666666666666,
              "#35b779"
             ],
             [
              0.7777777777777778,
              "#6ece58"
             ],
             [
              0.8888888888888888,
              "#b5de2b"
             ],
             [
              1,
              "#fde725"
             ]
            ],
            "type": "surface"
           }
          ],
          "table": [
           {
            "cells": {
             "fill": {
              "color": "rgb(237,237,237)"
             },
             "line": {
              "color": "white"
             }
            },
            "header": {
             "fill": {
              "color": "rgb(217,217,217)"
             },
             "line": {
              "color": "white"
             }
            },
            "type": "table"
           }
          ]
         },
         "layout": {
          "annotationdefaults": {
           "arrowhead": 0,
           "arrowwidth": 1
          },
          "coloraxis": {
           "colorbar": {
            "outlinewidth": 1,
            "tickcolor": "rgb(36,36,36)",
            "ticks": "outside"
           }
          },
          "colorscale": {
           "diverging": [
            [
             0,
             "rgb(103,0,31)"
            ],
            [
             0.1,
             "rgb(178,24,43)"
            ],
            [
             0.2,
             "rgb(214,96,77)"
            ],
            [
             0.3,
             "rgb(244,165,130)"
            ],
            [
             0.4,
             "rgb(253,219,199)"
            ],
            [
             0.5,
             "rgb(247,247,247)"
            ],
            [
             0.6,
             "rgb(209,229,240)"
            ],
            [
             0.7,
             "rgb(146,197,222)"
            ],
            [
             0.8,
             "rgb(67,147,195)"
            ],
            [
             0.9,
             "rgb(33,102,172)"
            ],
            [
             1,
             "rgb(5,48,97)"
            ]
           ],
           "sequential": [
            [
             0,
             "#440154"
            ],
            [
             0.1111111111111111,
             "#482878"
            ],
            [
             0.2222222222222222,
             "#3e4989"
            ],
            [
             0.3333333333333333,
             "#31688e"
            ],
            [
             0.4444444444444444,
             "#26828e"
            ],
            [
             0.5555555555555556,
             "#1f9e89"
            ],
            [
             0.6666666666666666,
             "#35b779"
            ],
            [
             0.7777777777777778,
             "#6ece58"
            ],
            [
             0.8888888888888888,
             "#b5de2b"
            ],
            [
             1,
             "#fde725"
            ]
           ],
           "sequentialminus": [
            [
             0,
             "#440154"
            ],
            [
             0.1111111111111111,
             "#482878"
            ],
            [
             0.2222222222222222,
             "#3e4989"
            ],
            [
             0.3333333333333333,
             "#31688e"
            ],
            [
             0.4444444444444444,
             "#26828e"
            ],
            [
             0.5555555555555556,
             "#1f9e89"
            ],
            [
             0.6666666666666666,
             "#35b779"
            ],
            [
             0.7777777777777778,
             "#6ece58"
            ],
            [
             0.8888888888888888,
             "#b5de2b"
            ],
            [
             1,
             "#fde725"
            ]
           ]
          },
          "colorway": [
           "#1F77B4",
           "#FF7F0E",
           "#2CA02C",
           "#D62728",
           "#9467BD",
           "#8C564B",
           "#E377C2",
           "#7F7F7F",
           "#BCBD22",
           "#17BECF"
          ],
          "font": {
           "color": "rgb(36,36,36)"
          },
          "geo": {
           "bgcolor": "white",
           "lakecolor": "white",
           "landcolor": "white",
           "showlakes": true,
           "showland": true,
           "subunitcolor": "white"
          },
          "hoverlabel": {
           "align": "left"
          },
          "hovermode": "closest",
          "mapbox": {
           "style": "light"
          },
          "paper_bgcolor": "white",
          "plot_bgcolor": "white",
          "polar": {
           "angularaxis": {
            "gridcolor": "rgb(232,232,232)",
            "linecolor": "rgb(36,36,36)",
            "showgrid": false,
            "showline": true,
            "ticks": "outside"
           },
           "bgcolor": "white",
           "radialaxis": {
            "gridcolor": "rgb(232,232,232)",
            "linecolor": "rgb(36,36,36)",
            "showgrid": false,
            "showline": true,
            "ticks": "outside"
           }
          },
          "scene": {
           "xaxis": {
            "backgroundcolor": "white",
            "gridcolor": "rgb(232,232,232)",
            "gridwidth": 2,
            "linecolor": "rgb(36,36,36)",
            "showbackground": true,
            "showgrid": false,
            "showline": true,
            "ticks": "outside",
            "zeroline": false,
            "zerolinecolor": "rgb(36,36,36)"
           },
           "yaxis": {
            "backgroundcolor": "white",
            "gridcolor": "rgb(232,232,232)",
            "gridwidth": 2,
            "linecolor": "rgb(36,36,36)",
            "showbackground": true,
            "showgrid": false,
            "showline": true,
            "ticks": "outside",
            "zeroline": false,
            "zerolinecolor": "rgb(36,36,36)"
           },
           "zaxis": {
            "backgroundcolor": "white",
            "gridcolor": "rgb(232,232,232)",
            "gridwidth": 2,
            "linecolor": "rgb(36,36,36)",
            "showbackground": true,
            "showgrid": false,
            "showline": true,
            "ticks": "outside",
            "zeroline": false,
            "zerolinecolor": "rgb(36,36,36)"
           }
          },
          "shapedefaults": {
           "fillcolor": "black",
           "line": {
            "width": 0
           },
           "opacity": 0.3
          },
          "ternary": {
           "aaxis": {
            "gridcolor": "rgb(232,232,232)",
            "linecolor": "rgb(36,36,36)",
            "showgrid": false,
            "showline": true,
            "ticks": "outside"
           },
           "baxis": {
            "gridcolor": "rgb(232,232,232)",
            "linecolor": "rgb(36,36,36)",
            "showgrid": false,
            "showline": true,
            "ticks": "outside"
           },
           "bgcolor": "white",
           "caxis": {
            "gridcolor": "rgb(232,232,232)",
            "linecolor": "rgb(36,36,36)",
            "showgrid": false,
            "showline": true,
            "ticks": "outside"
           }
          },
          "title": {
           "x": 0.05
          },
          "xaxis": {
           "automargin": true,
           "gridcolor": "rgb(232,232,232)",
           "linecolor": "rgb(36,36,36)",
           "showgrid": false,
           "showline": true,
           "ticks": "outside",
           "title": {
            "standoff": 15
           },
           "zeroline": false,
           "zerolinecolor": "rgb(36,36,36)"
          },
          "yaxis": {
           "automargin": true,
           "gridcolor": "rgb(232,232,232)",
           "linecolor": "rgb(36,36,36)",
           "showgrid": false,
           "showline": true,
           "ticks": "outside",
           "title": {
            "standoff": 15
           },
           "zeroline": false,
           "zerolinecolor": "rgb(36,36,36)"
          }
         }
        },
        "title": {
         "text": "Highest 10 / Lowest 10 Temperature Differences since Start Measurement"
        },
        "xaxis": {
         "title": {
          "text": "Temperature Difference in K"
         }
        },
        "yaxis": {
         "range": [
          -3.5,
          3.5
         ]
        }
       }
      },
      "text/html": [
       "<div>\n",
       "        \n",
       "        \n",
       "            <div id=\"ecb7aee6-ebee-48e8-bc1b-0df2afe0df74\" class=\"plotly-graph-div\" style=\"height:525px; width:100%;\"></div>\n",
       "            <script type=\"text/javascript\">\n",
       "                require([\"plotly\"], function(Plotly) {\n",
       "                    window.PLOTLYENV=window.PLOTLYENV || {};\n",
       "                    \n",
       "                if (document.getElementById(\"ecb7aee6-ebee-48e8-bc1b-0df2afe0df74\")) {\n",
       "                    Plotly.newPlot(\n",
       "                        'ecb7aee6-ebee-48e8-bc1b-0df2afe0df74',\n",
       "                        [{\"marker\": {\"color\": \"blue\"}, \"opacity\": 0.5, \"type\": \"bar\", \"x\": [\"Armenia\"], \"y\": [-1.288939655172414]}, {\"marker\": {\"color\": \"blue\"}, \"opacity\": 0.5, \"type\": \"bar\", \"x\": [\"Netherlands\"], \"y\": [-0.6034827586206895]}, {\"marker\": {\"color\": \"blue\"}, \"opacity\": 0.5, \"type\": \"bar\", \"x\": [\"Belgium\"], \"y\": [-0.5176120689655168]}, {\"marker\": {\"color\": \"blue\"}, \"opacity\": 0.5, \"type\": \"bar\", \"x\": [\"Luxembourg\"], \"y\": [-0.4882758620689658]}, {\"marker\": {\"color\": \"blue\"}, \"opacity\": 0.5, \"type\": \"bar\", \"x\": [\"Denmark\"], \"y\": [-0.46487931034482766]}, {\"marker\": {\"color\": \"blue\"}, \"opacity\": 0.5, \"type\": \"bar\", \"x\": [\"Germany\"], \"y\": [-0.4614396551724136]}, {\"marker\": {\"color\": \"blue\"}, \"opacity\": 0.5, \"type\": \"bar\", \"x\": [\"United Kingdom\"], \"y\": [-0.12552586206896577]}, {\"marker\": {\"color\": \"blue\"}, \"opacity\": 0.5, \"type\": \"bar\", \"x\": [\"Liechtenstein\"], \"y\": [0.038534482758620814]}, {\"marker\": {\"color\": \"blue\"}, \"opacity\": 0.5, \"type\": \"bar\", \"x\": [\"Czech Republic\"], \"y\": [0.07673275862068951]}, {\"marker\": {\"color\": \"blue\"}, \"opacity\": 0.5, \"type\": \"bar\", \"x\": [\"Sweden\"], \"y\": [0.07887931034482687]}, {\"marker\": {\"color\": \"grey\"}, \"type\": \"bar\", \"x\": [\"Switzerland\"], \"y\": [0.08892241379310317]}, {\"marker\": {\"color\": \"red\"}, \"opacity\": 0.5, \"type\": \"bar\", \"x\": [\"Israel\"], \"y\": [2.4357116858237546]}, {\"marker\": {\"color\": \"red\"}, \"opacity\": 0.5, \"type\": \"bar\", \"x\": [\"Syria\"], \"y\": [2.4485874384236457]}, {\"marker\": {\"color\": \"red\"}, \"opacity\": 0.5, \"type\": \"bar\", \"x\": [\"Jordan\"], \"y\": [2.495334975369458]}, {\"marker\": {\"color\": \"red\"}, \"opacity\": 0.5, \"type\": \"bar\", \"x\": [\"Egypt\"], \"y\": [2.5509291187739462]}, {\"marker\": {\"color\": \"red\"}, \"opacity\": 0.5, \"type\": \"bar\", \"x\": [\"Kazakhstan\"], \"y\": [2.653468515742129]}, {\"marker\": {\"color\": \"red\"}, \"opacity\": 0.5, \"type\": \"bar\", \"x\": [\"Russia\"], \"y\": [2.6946071964017992]}, {\"marker\": {\"color\": \"red\"}, \"opacity\": 0.5, \"type\": \"bar\", \"x\": [\"Turkmenistan\"], \"y\": [2.8664664750957862]}, {\"marker\": {\"color\": \"red\"}, \"opacity\": 0.5, \"type\": \"bar\", \"x\": [\"Uzbekistan\"], \"y\": [2.9080899014778323]}, {\"marker\": {\"color\": \"red\"}, \"opacity\": 0.5, \"type\": \"bar\", \"x\": [\"Azerbaijan\"], \"y\": [2.9717315270935956]}, {\"marker\": {\"color\": \"red\"}, \"opacity\": 0.5, \"type\": \"bar\", \"x\": [\"Saint Pierre and Miquelon\"], \"y\": [3.2422564102564104]}],\n",
       "                        {\"showlegend\": false, \"template\": {\"data\": {\"bar\": [{\"error_x\": {\"color\": \"rgb(36,36,36)\"}, \"error_y\": {\"color\": \"rgb(36,36,36)\"}, \"marker\": {\"line\": {\"color\": \"white\", \"width\": 0.5}}, \"type\": \"bar\"}], \"barpolar\": [{\"marker\": {\"line\": {\"color\": \"white\", \"width\": 0.5}}, \"type\": \"barpolar\"}], \"carpet\": [{\"aaxis\": {\"endlinecolor\": \"rgb(36,36,36)\", \"gridcolor\": \"white\", \"linecolor\": \"white\", \"minorgridcolor\": \"white\", \"startlinecolor\": \"rgb(36,36,36)\"}, \"baxis\": {\"endlinecolor\": \"rgb(36,36,36)\", \"gridcolor\": \"white\", \"linecolor\": \"white\", \"minorgridcolor\": \"white\", \"startlinecolor\": \"rgb(36,36,36)\"}, \"type\": \"carpet\"}], \"choropleth\": [{\"colorbar\": {\"outlinewidth\": 1, \"tickcolor\": \"rgb(36,36,36)\", \"ticks\": \"outside\"}, \"type\": \"choropleth\"}], \"contour\": [{\"colorbar\": {\"outlinewidth\": 1, \"tickcolor\": \"rgb(36,36,36)\", \"ticks\": \"outside\"}, \"colorscale\": [[0.0, \"#440154\"], [0.1111111111111111, \"#482878\"], [0.2222222222222222, \"#3e4989\"], [0.3333333333333333, \"#31688e\"], [0.4444444444444444, \"#26828e\"], [0.5555555555555556, \"#1f9e89\"], [0.6666666666666666, \"#35b779\"], [0.7777777777777778, \"#6ece58\"], [0.8888888888888888, \"#b5de2b\"], [1.0, \"#fde725\"]], \"type\": \"contour\"}], \"contourcarpet\": [{\"colorbar\": {\"outlinewidth\": 1, \"tickcolor\": \"rgb(36,36,36)\", \"ticks\": \"outside\"}, \"type\": \"contourcarpet\"}], \"heatmap\": [{\"colorbar\": {\"outlinewidth\": 1, \"tickcolor\": \"rgb(36,36,36)\", \"ticks\": \"outside\"}, \"colorscale\": [[0.0, \"#440154\"], [0.1111111111111111, \"#482878\"], [0.2222222222222222, \"#3e4989\"], [0.3333333333333333, \"#31688e\"], [0.4444444444444444, \"#26828e\"], [0.5555555555555556, \"#1f9e89\"], [0.6666666666666666, \"#35b779\"], [0.7777777777777778, \"#6ece58\"], [0.8888888888888888, \"#b5de2b\"], [1.0, \"#fde725\"]], \"type\": \"heatmap\"}], \"heatmapgl\": [{\"colorbar\": {\"outlinewidth\": 1, \"tickcolor\": \"rgb(36,36,36)\", \"ticks\": \"outside\"}, \"colorscale\": [[0.0, \"#440154\"], [0.1111111111111111, \"#482878\"], [0.2222222222222222, \"#3e4989\"], [0.3333333333333333, \"#31688e\"], [0.4444444444444444, \"#26828e\"], [0.5555555555555556, \"#1f9e89\"], [0.6666666666666666, \"#35b779\"], [0.7777777777777778, \"#6ece58\"], [0.8888888888888888, \"#b5de2b\"], [1.0, \"#fde725\"]], \"type\": \"heatmapgl\"}], \"histogram\": [{\"marker\": {\"line\": {\"color\": \"white\", \"width\": 0.6}}, \"type\": \"histogram\"}], \"histogram2d\": [{\"colorbar\": {\"outlinewidth\": 1, \"tickcolor\": \"rgb(36,36,36)\", \"ticks\": \"outside\"}, \"colorscale\": [[0.0, \"#440154\"], [0.1111111111111111, \"#482878\"], [0.2222222222222222, \"#3e4989\"], [0.3333333333333333, \"#31688e\"], [0.4444444444444444, \"#26828e\"], [0.5555555555555556, \"#1f9e89\"], [0.6666666666666666, \"#35b779\"], [0.7777777777777778, \"#6ece58\"], [0.8888888888888888, \"#b5de2b\"], [1.0, \"#fde725\"]], \"type\": \"histogram2d\"}], \"histogram2dcontour\": [{\"colorbar\": {\"outlinewidth\": 1, \"tickcolor\": \"rgb(36,36,36)\", \"ticks\": \"outside\"}, \"colorscale\": [[0.0, \"#440154\"], [0.1111111111111111, \"#482878\"], [0.2222222222222222, \"#3e4989\"], [0.3333333333333333, \"#31688e\"], [0.4444444444444444, \"#26828e\"], [0.5555555555555556, \"#1f9e89\"], [0.6666666666666666, \"#35b779\"], [0.7777777777777778, \"#6ece58\"], [0.8888888888888888, \"#b5de2b\"], [1.0, \"#fde725\"]], \"type\": \"histogram2dcontour\"}], \"mesh3d\": [{\"colorbar\": {\"outlinewidth\": 1, \"tickcolor\": \"rgb(36,36,36)\", \"ticks\": \"outside\"}, \"type\": \"mesh3d\"}], \"parcoords\": [{\"line\": {\"colorbar\": {\"outlinewidth\": 1, \"tickcolor\": \"rgb(36,36,36)\", \"ticks\": \"outside\"}}, \"type\": \"parcoords\"}], \"pie\": [{\"automargin\": true, \"type\": \"pie\"}], \"scatter\": [{\"marker\": {\"colorbar\": {\"outlinewidth\": 1, \"tickcolor\": \"rgb(36,36,36)\", \"ticks\": \"outside\"}}, \"type\": \"scatter\"}], \"scatter3d\": [{\"line\": {\"colorbar\": {\"outlinewidth\": 1, \"tickcolor\": \"rgb(36,36,36)\", \"ticks\": \"outside\"}}, \"marker\": {\"colorbar\": {\"outlinewidth\": 1, \"tickcolor\": \"rgb(36,36,36)\", \"ticks\": \"outside\"}}, \"type\": \"scatter3d\"}], \"scattercarpet\": [{\"marker\": {\"colorbar\": {\"outlinewidth\": 1, \"tickcolor\": \"rgb(36,36,36)\", \"ticks\": \"outside\"}}, \"type\": \"scattercarpet\"}], \"scattergeo\": [{\"marker\": {\"colorbar\": {\"outlinewidth\": 1, \"tickcolor\": \"rgb(36,36,36)\", \"ticks\": \"outside\"}}, \"type\": \"scattergeo\"}], \"scattergl\": [{\"marker\": {\"colorbar\": {\"outlinewidth\": 1, \"tickcolor\": \"rgb(36,36,36)\", \"ticks\": \"outside\"}}, \"type\": \"scattergl\"}], \"scattermapbox\": [{\"marker\": {\"colorbar\": {\"outlinewidth\": 1, \"tickcolor\": \"rgb(36,36,36)\", \"ticks\": \"outside\"}}, \"type\": \"scattermapbox\"}], \"scatterpolar\": [{\"marker\": {\"colorbar\": {\"outlinewidth\": 1, \"tickcolor\": \"rgb(36,36,36)\", \"ticks\": \"outside\"}}, \"type\": \"scatterpolar\"}], \"scatterpolargl\": [{\"marker\": {\"colorbar\": {\"outlinewidth\": 1, \"tickcolor\": \"rgb(36,36,36)\", \"ticks\": \"outside\"}}, \"type\": \"scatterpolargl\"}], \"scatterternary\": [{\"marker\": {\"colorbar\": {\"outlinewidth\": 1, \"tickcolor\": \"rgb(36,36,36)\", \"ticks\": \"outside\"}}, \"type\": \"scatterternary\"}], \"surface\": [{\"colorbar\": {\"outlinewidth\": 1, \"tickcolor\": \"rgb(36,36,36)\", \"ticks\": \"outside\"}, \"colorscale\": [[0.0, \"#440154\"], [0.1111111111111111, \"#482878\"], [0.2222222222222222, \"#3e4989\"], [0.3333333333333333, \"#31688e\"], [0.4444444444444444, \"#26828e\"], [0.5555555555555556, \"#1f9e89\"], [0.6666666666666666, \"#35b779\"], [0.7777777777777778, \"#6ece58\"], [0.8888888888888888, \"#b5de2b\"], [1.0, \"#fde725\"]], \"type\": \"surface\"}], \"table\": [{\"cells\": {\"fill\": {\"color\": \"rgb(237,237,237)\"}, \"line\": {\"color\": \"white\"}}, \"header\": {\"fill\": {\"color\": \"rgb(217,217,217)\"}, \"line\": {\"color\": \"white\"}}, \"type\": \"table\"}]}, \"layout\": {\"annotationdefaults\": {\"arrowhead\": 0, \"arrowwidth\": 1}, \"coloraxis\": {\"colorbar\": {\"outlinewidth\": 1, \"tickcolor\": \"rgb(36,36,36)\", \"ticks\": \"outside\"}}, \"colorscale\": {\"diverging\": [[0.0, \"rgb(103,0,31)\"], [0.1, \"rgb(178,24,43)\"], [0.2, \"rgb(214,96,77)\"], [0.3, \"rgb(244,165,130)\"], [0.4, \"rgb(253,219,199)\"], [0.5, \"rgb(247,247,247)\"], [0.6, \"rgb(209,229,240)\"], [0.7, \"rgb(146,197,222)\"], [0.8, \"rgb(67,147,195)\"], [0.9, \"rgb(33,102,172)\"], [1.0, \"rgb(5,48,97)\"]], \"sequential\": [[0.0, \"#440154\"], [0.1111111111111111, \"#482878\"], [0.2222222222222222, \"#3e4989\"], [0.3333333333333333, \"#31688e\"], [0.4444444444444444, \"#26828e\"], [0.5555555555555556, \"#1f9e89\"], [0.6666666666666666, \"#35b779\"], [0.7777777777777778, \"#6ece58\"], [0.8888888888888888, \"#b5de2b\"], [1.0, \"#fde725\"]], \"sequentialminus\": [[0.0, \"#440154\"], [0.1111111111111111, \"#482878\"], [0.2222222222222222, \"#3e4989\"], [0.3333333333333333, \"#31688e\"], [0.4444444444444444, \"#26828e\"], [0.5555555555555556, \"#1f9e89\"], [0.6666666666666666, \"#35b779\"], [0.7777777777777778, \"#6ece58\"], [0.8888888888888888, \"#b5de2b\"], [1.0, \"#fde725\"]]}, \"colorway\": [\"#1F77B4\", \"#FF7F0E\", \"#2CA02C\", \"#D62728\", \"#9467BD\", \"#8C564B\", \"#E377C2\", \"#7F7F7F\", \"#BCBD22\", \"#17BECF\"], \"font\": {\"color\": \"rgb(36,36,36)\"}, \"geo\": {\"bgcolor\": \"white\", \"lakecolor\": \"white\", \"landcolor\": \"white\", \"showlakes\": true, \"showland\": true, \"subunitcolor\": \"white\"}, \"hoverlabel\": {\"align\": \"left\"}, \"hovermode\": \"closest\", \"mapbox\": {\"style\": \"light\"}, \"paper_bgcolor\": \"white\", \"plot_bgcolor\": \"white\", \"polar\": {\"angularaxis\": {\"gridcolor\": \"rgb(232,232,232)\", \"linecolor\": \"rgb(36,36,36)\", \"showgrid\": false, \"showline\": true, \"ticks\": \"outside\"}, \"bgcolor\": \"white\", \"radialaxis\": {\"gridcolor\": \"rgb(232,232,232)\", \"linecolor\": \"rgb(36,36,36)\", \"showgrid\": false, \"showline\": true, \"ticks\": \"outside\"}}, \"scene\": {\"xaxis\": {\"backgroundcolor\": \"white\", \"gridcolor\": \"rgb(232,232,232)\", \"gridwidth\": 2, \"linecolor\": \"rgb(36,36,36)\", \"showbackground\": true, \"showgrid\": false, \"showline\": true, \"ticks\": \"outside\", \"zeroline\": false, \"zerolinecolor\": \"rgb(36,36,36)\"}, \"yaxis\": {\"backgroundcolor\": \"white\", \"gridcolor\": \"rgb(232,232,232)\", \"gridwidth\": 2, \"linecolor\": \"rgb(36,36,36)\", \"showbackground\": true, \"showgrid\": false, \"showline\": true, \"ticks\": \"outside\", \"zeroline\": false, \"zerolinecolor\": \"rgb(36,36,36)\"}, \"zaxis\": {\"backgroundcolor\": \"white\", \"gridcolor\": \"rgb(232,232,232)\", \"gridwidth\": 2, \"linecolor\": \"rgb(36,36,36)\", \"showbackground\": true, \"showgrid\": false, \"showline\": true, \"ticks\": \"outside\", \"zeroline\": false, \"zerolinecolor\": \"rgb(36,36,36)\"}}, \"shapedefaults\": {\"fillcolor\": \"black\", \"line\": {\"width\": 0}, \"opacity\": 0.3}, \"ternary\": {\"aaxis\": {\"gridcolor\": \"rgb(232,232,232)\", \"linecolor\": \"rgb(36,36,36)\", \"showgrid\": false, \"showline\": true, \"ticks\": \"outside\"}, \"baxis\": {\"gridcolor\": \"rgb(232,232,232)\", \"linecolor\": \"rgb(36,36,36)\", \"showgrid\": false, \"showline\": true, \"ticks\": \"outside\"}, \"bgcolor\": \"white\", \"caxis\": {\"gridcolor\": \"rgb(232,232,232)\", \"linecolor\": \"rgb(36,36,36)\", \"showgrid\": false, \"showline\": true, \"ticks\": \"outside\"}}, \"title\": {\"x\": 0.05}, \"xaxis\": {\"automargin\": true, \"gridcolor\": \"rgb(232,232,232)\", \"linecolor\": \"rgb(36,36,36)\", \"showgrid\": false, \"showline\": true, \"ticks\": \"outside\", \"title\": {\"standoff\": 15}, \"zeroline\": false, \"zerolinecolor\": \"rgb(36,36,36)\"}, \"yaxis\": {\"automargin\": true, \"gridcolor\": \"rgb(232,232,232)\", \"linecolor\": \"rgb(36,36,36)\", \"showgrid\": false, \"showline\": true, \"ticks\": \"outside\", \"title\": {\"standoff\": 15}, \"zeroline\": false, \"zerolinecolor\": \"rgb(36,36,36)\"}}}, \"title\": {\"text\": \"Highest 10 / Lowest 10 Temperature Differences since Start Measurement\"}, \"xaxis\": {\"title\": {\"text\": \"Temperature Difference in K\"}}, \"yaxis\": {\"range\": [-3.5, 3.5]}},\n",
       "                        {\"responsive\": true}\n",
       "                    ).then(function(){\n",
       "                            \n",
       "var gd = document.getElementById('ecb7aee6-ebee-48e8-bc1b-0df2afe0df74');\n",
       "var x = new MutationObserver(function (mutations, observer) {{\n",
       "        var display = window.getComputedStyle(gd).display;\n",
       "        if (!display || display === 'none') {{\n",
       "            console.log([gd, 'removed!']);\n",
       "            Plotly.purge(gd);\n",
       "            observer.disconnect();\n",
       "        }}\n",
       "}});\n",
       "\n",
       "// Listen for the removal of the full notebook cells\n",
       "var notebookContainer = gd.closest('#notebook-container');\n",
       "if (notebookContainer) {{\n",
       "    x.observe(notebookContainer, {childList: true});\n",
       "}}\n",
       "\n",
       "// Listen for the clearing of the current output cell\n",
       "var outputEl = gd.closest('.output');\n",
       "if (outputEl) {{\n",
       "    x.observe(outputEl, {childList: true});\n",
       "}}\n",
       "\n",
       "                        })\n",
       "                };\n",
       "                });\n",
       "            </script>\n",
       "        </div>"
      ]
     },
     "metadata": {},
     "output_type": "display_data"
    }
   ],
   "source": [
    "def barchart_top_flop(data):\n",
    "    \n",
    "    data = data.pivot_table(index='date', columns=data['country'], values='temperature')\n",
    "    \n",
    "    data = data.resample('10Y').mean()\n",
    "    data = data.fillna(method='backfill')\n",
    "\n",
    "    diff = data.iloc[-1, :] - data.iloc[0, :]\n",
    "    temp = data.iloc[0, :]\n",
    "    data = pd.concat([temp, data.iloc[-1,:]], axis=1).T\n",
    "        \n",
    "    top_diff = diff.sort_values(ascending=False).iloc[:10].reset_index()['country'].values\n",
    "    flop_diff = diff.sort_values(ascending=True).iloc[:10].reset_index()['country'].values\n",
    "    \n",
    "    top_diff = np.append(top_diff, 'Switzerland')\n",
    "    \n",
    "    top_diff = data[data.columns.intersection(top_diff)].T\n",
    "    flop_diff = data[data.columns.intersection(flop_diff)].T\n",
    "    \n",
    "    top_diff['top_low'] = 'top'\n",
    "    flop_diff['top_low'] = 'low'\n",
    "    \n",
    "    data = pd.concat([top_diff, flop_diff], axis=0)\n",
    "    data.columns = [data.columns[0].year, data.columns[1].year, 'top_low']\n",
    "    data.loc['Switzerland', 'top_low'] = 'neutral'\n",
    "    data['diff'] = data[2013] - data[1743]\n",
    "    data = data.sort_values(by=['top_low', 'diff'], ascending=True)\n",
    "    \n",
    "    \n",
    "    fig = go.Figure()\n",
    "    \n",
    "    for i in range(len(data.index)):\n",
    "        if data.loc[data.index[i], 'top_low'] == 'top':\n",
    "            fig.add_trace(go.Bar(\n",
    "                                y=[data.loc[data.index[i], 'diff']],\n",
    "                                x=[data.index[i]],\n",
    "                                marker=dict(\n",
    "                                    color='red'\n",
    "                                ),\n",
    "                                opacity=0.5\n",
    "                                )\n",
    "                         )\n",
    "            \n",
    "        if data.loc[data.index[i], 'top_low'] == 'low':\n",
    "            fig.add_trace(go.Bar(\n",
    "                                y=[data.loc[data.index[i], 'diff']],\n",
    "                                x=[data.index[i]],\n",
    "                                marker=dict(\n",
    "                                    color='blue'\n",
    "                                ),\n",
    "                                opacity=0.5\n",
    "                         ))\n",
    "            \n",
    "        if data.loc[data.index[i], 'top_low'] == 'neutral':\n",
    "            fig.add_trace(go.Bar(\n",
    "                                y=[data.loc[data.index[i], 'diff']],\n",
    "                                x=[data.index[i]],\n",
    "                                marker=dict(\n",
    "                                    color='grey'\n",
    "                                )\n",
    "                                ))\n",
    " \n",
    "    \n",
    "    fig.update_layout(template='simple_white',\n",
    "                      title='Highest 10 / Lowest 10 Temperature Differences since Start Measurement',\n",
    "                      showlegend=False, \n",
    "                      xaxis_title='Temperature Difference in K',\n",
    "                      yaxis=dict(\n",
    "                          range=[-3.5, 3.5]\n",
    "                          )\n",
    "                     )\n",
    "    fig.show()\n",
    "    \n",
    "barchart_top_flop(temp_data)"
   ]
  },
  {
   "cell_type": "markdown",
   "metadata": {},
   "source": [
    "Jan weiss bereits das der Temperaturanstieg in der Schweiz ein grosses Problem ist nicht nur auf die Schneeschmelze bezogen.\n",
    "Er weiss, auch das die globale Klimaerwärmung aufgrund des hohen CO2-Ausstosses von Industrieländern verschuldet ist. Mit diesem Wissen interessiert es ihn, wieviel die Schweiz im Verhältnis zum Weltweiten Ausstoss wirklich ausmacht. Dafür möchte er einen Grössenvergleich zwischen den Top-Reitern der CO2-ausstossreichsten Ländern und und der Schweiz wagen. Wieviel macht die Schweiz im Vergleich zu den emissionsreichsten Ländern wirklich aus?"
   ]
  },
  {
   "cell_type": "code",
   "execution_count": null,
   "metadata": {
    "scrolled": false
   },
   "outputs": [],
   "source": [
    "import matplotlib.pyplot as plt\n",
    "import matplotlib\n",
    "import squarify\n",
    "\n",
    "def tree_map_co2(data):\n",
    "    data = data.copy()\n",
    "    data = data.groupby('country').sum()\n",
    "    data_swiss = data[data.index == 'Switzerland']\n",
    "    data_swiss.index = ['CH']\n",
    "    top_players = data.sort_values('co2', ascending=False).iloc[:10]\n",
    "    top_players = pd.concat([top_players, data_swiss], axis=0)\n",
    "    \n",
    "    # Plotting\n",
    "    cmap = matplotlib.cm.coolwarm\n",
    "    mini=min(top_players['co2'])\n",
    "    maxi=max(top_players['co2'])\n",
    "    norm = matplotlib.colors.Normalize(vmin=mini, vmax=maxi)\n",
    "    colors = [cmap(norm(value)) for value in top_players['co2']]\n",
    " \n",
    "    fig, ax = plt.subplots(figsize=(16,6))\n",
    "    squarify.plot(sizes=top_players['co2'] , label=top_players.index, color=colors)\n",
    "    plt.title('Summed CO2 Comparisson Switzerland and Global Big Players', loc='left')\n",
    "    plt.axis('off')\n",
    "    plt.show()\n",
    "    \n",
    "tree_map_co2(co2_data)"
   ]
  },
  {
   "cell_type": "markdown",
   "metadata": {},
   "source": [
    "Ich wusste, dass die Länder mit denen er den CO2-Ausstoss vergleicht von der grösse her sehr stark divergieren. Umso grösser das Land, desto grösser der Klimausstoss. Es zeichnet sich auch so ab, dass die wirtschaftlich stärksten Länder eigentlich alle in disem Top-Ranking dabei sind. Die Schweiz belegt also im globalen CO2-Ausstoss eher einer der hinteren Plätze, obwohl die Wirtschaft in der Schweiz gemessen am BIP relativ stark ist. Wie wir sehen können ist sie auch im Vergleich zu den emissionsreichsten Ländern kein Vergleichsmass."
   ]
  },
  {
   "cell_type": "code",
   "execution_count": 1,
   "metadata": {},
   "outputs": [],
   "source": [
    "def scatter_temp_co2(co2, temp):\n",
    "    \n",
    "    co2 = co2.copy()\n",
    "    co2 = co2[['country', 'continent', 'co2']].groupby(['continent', 'country']).sum()\n",
    "    co2 = co2.reset_index()\n",
    "    \n",
    "    temp = temp.copy()\n",
    "    temp = temp[['country', 'continent', 'temperature']].groupby(['continent', 'country']).median()\n",
    "    temp = temp.reset_index()\n",
    "    \n",
    "    data = pd.merge(left=co2, right=temp, how='inner',\n",
    "                    left_on=['country'], right_on=['country'])\n",
    "    print(data)\n",
    "    fig = go.Figure()\n",
    "    \n",
    "    list_continents = data['continent_x'].unique()\n",
    "    \n",
    "    for country in data['country'].unique():\n",
    "        if data[data['country'] == country]['continent_x'].all() == list_continents[0]:\n",
    "            fig.add_trace(go.Scatter(x=data['temperature'],\n",
    "                          y=data['co2'],\n",
    "                          fillcolor='blue',\n",
    "                          mode='markers',\n",
    "                          opacity=0.5\n",
    "                                )\n",
    "                     )\n",
    "    \n",
    "    fig.update_layout(template='simple_white', showlegend=False)\n",
    "    fig.show()\n",
    "    "
   ]
  },
  {
   "cell_type": "code",
   "execution_count": 2,
   "metadata": {},
   "outputs": [],
   "source": [
    "def scatter_temp_co2(co2, temp):\n",
    "    \n",
    "    co2 = co2.copy()\n",
    "    co2 = co2[['country', 'continent', 'co2']].groupby(['continent', 'country']).sum()\n",
    "    co2 = co2.reset_index()\n",
    "    \n",
    "    temp = temp.copy()\n",
    "    temp = temp[['country', 'continent', 'temperature']].groupby(['continent', 'country']).median()\n",
    "    temp = temp.reset_index()\n",
    "    \n",
    "    data = pd.merge(left=co2, right=temp, how='inner',\n",
    "                    left_on=['country'], right_on=['country'])\n",
    "    \n",
    "    data['display_name'] = np.where(data['co2'] > 23000, data['country'], '')\n",
    "    \n",
    "    fig = px.scatter(x=data['temperature'], \n",
    "                     y=data['co2'],\n",
    "                     color=data['continent_y'],\n",
    "                     color_discrete_sequence=px.colors.qualitative.Set1,\n",
    "                     text=data['display_name'],\n",
    "                     size=data['co2'])\n",
    "    \n",
    "    fig.update_traces(textposition='top center')\n",
    "    \n",
    "    fig.update_layout(template='simple_white',  \n",
    "                      title='Temperaturdifferenz vs CO2-Emissionen',\n",
    "                      xaxis_title='Median Temperatur Anomalie (K)',\n",
    "                      yaxis_title='Summierte CO2-Emissionen (Megatonnen)')\n",
    "    fig.show()"
   ]
  },
  {
   "cell_type": "code",
   "execution_count": 3,
   "metadata": {},
   "outputs": [
    {
     "ename": "NameError",
     "evalue": "name 'co2_data' is not defined",
     "output_type": "error",
     "traceback": [
      "\u001b[1;31m---------------------------------------------------------------------------\u001b[0m",
      "\u001b[1;31mNameError\u001b[0m                                 Traceback (most recent call last)",
      "\u001b[1;32m<ipython-input-3-df980fc20e1d>\u001b[0m in \u001b[0;36m<module>\u001b[1;34m\u001b[0m\n\u001b[1;32m----> 1\u001b[1;33m \u001b[0mscatter_temp_co2\u001b[0m\u001b[1;33m(\u001b[0m\u001b[0mco2_data\u001b[0m\u001b[1;33m,\u001b[0m \u001b[0mtemp_data\u001b[0m\u001b[1;33m)\u001b[0m\u001b[1;33m\u001b[0m\u001b[1;33m\u001b[0m\u001b[0m\n\u001b[0m",
      "\u001b[1;31mNameError\u001b[0m: name 'co2_data' is not defined"
     ]
    }
   ],
   "source": [
    "scatter_temp_co2(co2_data, temp_data)"
   ]
  },
  {
   "cell_type": "code",
   "execution_count": null,
   "metadata": {},
   "outputs": [],
   "source": [
    "from sklearn.decomposition import PCA\n",
    "\n",
    "\n",
    "def co2_comparisson(data):\n",
    "    data = data.copy()\n",
    "    pca = PCA(n_components=2)\n",
    "    reduced_df = pd.DataFrame()\n",
    "    \n",
    "    data = data.pivot_table(values='co2', index='year', columns='country')\n",
    "    data = data.fillna(method='backfill')\n",
    "    \n",
    "    fit = pca.fit(data.T).transform(data.T)\n",
    "    \n",
    "    for i in range(len(data.columns)):\n",
    "        reduced_df[data.columns[i]] = list(fit[i])\n",
    "\n",
    "    reduced_df = reduced_df.T\n",
    "    reduced_df.columns = ['y', 'x']\n",
    "    reduced_df['distance'] = np.sqrt((reduced_df['x']**2 + reduced_df['y']**2))\n",
    "        \n",
    "    fig = px.scatter(x=reduced_df.x,\n",
    "                     y=reduced_df.y,\n",
    "                     color=reduced_df.distance,\n",
    "                     color_continuous_scale=[\"blue\", \"red\"],\n",
    "                    )\n",
    "    fig.show()\n",
    "\n",
    "        \n",
    "\n",
    "co2_comparisson(co2_data)"
   ]
  }
 ],
 "metadata": {
  "kernelspec": {
   "display_name": "Python 3",
   "language": "python",
   "name": "python3"
  },
  "language_info": {
   "codemirror_mode": {
    "name": "ipython",
    "version": 3
   },
   "file_extension": ".py",
   "mimetype": "text/x-python",
   "name": "python",
   "nbconvert_exporter": "python",
   "pygments_lexer": "ipython3",
   "version": "3.7.6"
  },
  "toc": {
   "base_numbering": 1,
   "nav_menu": {},
   "number_sections": true,
   "sideBar": true,
   "skip_h1_title": false,
   "title_cell": "Table of Contents",
   "title_sidebar": "Contents",
   "toc_cell": false,
   "toc_position": {},
   "toc_section_display": true,
   "toc_window_display": false
  }
 },
 "nbformat": 4,
 "nbformat_minor": 4
}
