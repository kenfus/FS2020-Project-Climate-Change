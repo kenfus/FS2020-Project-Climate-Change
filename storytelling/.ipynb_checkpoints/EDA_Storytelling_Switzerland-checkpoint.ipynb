{
 "cells": [
  {
   "cell_type": "markdown",
   "metadata": {},
   "source": [
    "# **EDA Switzerland Story-telling**"
   ]
  },
  {
   "cell_type": "markdown",
   "metadata": {},
   "source": [
    "# Story-Inputs"
   ]
  },
  {
   "cell_type": "markdown",
   "metadata": {},
   "source": [
    "## Ideas"
   ]
  },
  {
   "cell_type": "markdown",
   "metadata": {},
   "source": [
    "**Story-Inputs**:\n",
    "- Involve the readers interests (Skiing)\n",
    "- Progression of tourists in winter region/cable car usage"
   ]
  },
  {
   "cell_type": "markdown",
   "metadata": {},
   "source": [
    "**Start the Story**\n",
    "- Skier asks himself regarding to all the climate change if it will be possible to ski in the future and then he does some research\n",
    "- Guy talks with his grandma who's living in a famous skiing area in Switzerland and she tells him that every year they have less snow -> Guy starts with research about this topic"
   ]
  },
  {
   "cell_type": "markdown",
   "metadata": {},
   "source": [
    "# Data Import"
   ]
  },
  {
   "cell_type": "markdown",
   "metadata": {},
   "source": [
    "Set all import paths for this project"
   ]
  },
  {
   "cell_type": "code",
   "execution_count": 1,
   "metadata": {
    "scrolled": false
   },
   "outputs": [
    {
     "name": "stdout",
     "output_type": "stream",
     "text": [
      "['C:\\\\Users\\\\simon\\\\Desktop\\\\FS2020-Project-Climate-Change\\\\storytelling', 'C:\\\\Users\\\\simon\\\\anaconda3\\\\python37.zip', 'C:\\\\Users\\\\simon\\\\anaconda3\\\\DLLs', 'C:\\\\Users\\\\simon\\\\anaconda3\\\\lib', 'C:\\\\Users\\\\simon\\\\anaconda3', '', 'C:\\\\Users\\\\simon\\\\anaconda3\\\\lib\\\\site-packages', 'C:\\\\Users\\\\simon\\\\anaconda3\\\\lib\\\\site-packages\\\\win32', 'C:\\\\Users\\\\simon\\\\anaconda3\\\\lib\\\\site-packages\\\\win32\\\\lib', 'C:\\\\Users\\\\simon\\\\anaconda3\\\\lib\\\\site-packages\\\\Pythonwin', 'C:\\\\Users\\\\simon\\\\anaconda3\\\\lib\\\\site-packages\\\\IPython\\\\extensions', 'C:\\\\Users\\\\simon\\\\.ipython']\n",
      "New path added to Sys.\n"
     ]
    }
   ],
   "source": [
    "import sys\n",
    "import os\n",
    "\n",
    "database_path = '../database'\n",
    "\n",
    "print(sys.path)\n",
    "\n",
    "def import_system_path():\n",
    "    if database_path not in sys.path:\n",
    "        sys.path.append(database_path)\n",
    "        print('New path added to Sys.')\n",
    "    else:\n",
    "        print('Path already exists.')\n",
    "        \n",
    "import_system_path()"
   ]
  },
  {
   "cell_type": "code",
   "execution_count": 2,
   "metadata": {},
   "outputs": [
    {
     "name": "stdout",
     "output_type": "stream",
     "text": [
      "['C:\\\\Users\\\\simon\\\\Desktop\\\\FS2020-Project-Climate-Change\\\\storytelling', 'C:\\\\Users\\\\simon\\\\anaconda3\\\\python37.zip', 'C:\\\\Users\\\\simon\\\\anaconda3\\\\DLLs', 'C:\\\\Users\\\\simon\\\\anaconda3\\\\lib', 'C:\\\\Users\\\\simon\\\\anaconda3', '', 'C:\\\\Users\\\\simon\\\\anaconda3\\\\lib\\\\site-packages', 'C:\\\\Users\\\\simon\\\\anaconda3\\\\lib\\\\site-packages\\\\win32', 'C:\\\\Users\\\\simon\\\\anaconda3\\\\lib\\\\site-packages\\\\win32\\\\lib', 'C:\\\\Users\\\\simon\\\\anaconda3\\\\lib\\\\site-packages\\\\Pythonwin', 'C:\\\\Users\\\\simon\\\\anaconda3\\\\lib\\\\site-packages\\\\IPython\\\\extensions', 'C:\\\\Users\\\\simon\\\\.ipython', '../database']\n"
     ]
    }
   ],
   "source": [
    "print(sys.path)"
   ]
  },
  {
   "cell_type": "code",
   "execution_count": 3,
   "metadata": {},
   "outputs": [],
   "source": [
    "from DBA import DBA\n",
    "import yaml\n",
    "\n",
    "\n",
    "import pandas as pd\n",
    "import numpy as np\n",
    "import datetime\n",
    "\n",
    "import sqlalchemy\n",
    "\n",
    "import seaborn as sns\n",
    "import matplotlib.pyplot as plt\n",
    "import squarify\n",
    "import plotly.express as px\n",
    "import plotly.graph_objects as go\n",
    "\n",
    "\n",
    "sns.set_style(\"darkgrid\")"
   ]
  },
  {
   "cell_type": "markdown",
   "metadata": {},
   "source": [
    "Read YML-File with Configuration data for database"
   ]
  },
  {
   "cell_type": "code",
   "execution_count": 4,
   "metadata": {
    "scrolled": false
   },
   "outputs": [
    {
     "name": "stdout",
     "output_type": "stream",
     "text": [
      "{'sql': {'host': '86.119.42.47', 'user': 'db_user', 'pw': 'db_password', 'db': 'climate_change_db', 'port': '5432'}}\n"
     ]
    }
   ],
   "source": [
    "a_yaml_file = open(\"config.yml\")\n",
    "parsed_yaml_file = yaml.load(a_yaml_file, Loader=yaml.FullLoader)\n",
    "print(parsed_yaml_file)"
   ]
  },
  {
   "cell_type": "markdown",
   "metadata": {},
   "source": [
    "## DB Connection"
   ]
  },
  {
   "cell_type": "markdown",
   "metadata": {},
   "source": [
    "Create connection object with all DB configurations"
   ]
  },
  {
   "cell_type": "code",
   "execution_count": 5,
   "metadata": {},
   "outputs": [],
   "source": [
    "connection_object = DBA(parsed_yaml_file['sql']['db'], \n",
    "                        parsed_yaml_file['sql']['user'] , \n",
    "                        parsed_yaml_file['sql']['pw'] , \n",
    "                        parsed_yaml_file['sql']['host'], \n",
    "                        parsed_yaml_file['sql']['port']\n",
    "                       )"
   ]
  },
  {
   "cell_type": "markdown",
   "metadata": {},
   "source": [
    "## All Queries"
   ]
  },
  {
   "cell_type": "code",
   "execution_count": 41,
   "metadata": {},
   "outputs": [],
   "source": [
    "class Queries():\n",
    "    \n",
    "    switzerland_temperature = \"\"\"select locations.location_id, locations.country, locations.region,\n",
    "                                 sensors.sensor_id, sensors.sensor_type,\n",
    "                                 sensor_readings.timestamp, sensor_readings.int_reading, sensor_readings.float_reading, sensor_readings.bool_reading\n",
    "                                 from locations\n",
    "                                 inner join sensors on (sensors.location_id = locations.location_id)\n",
    "                                 inner join sensor_readings on (sensors.sensor_id = sensor_readings.sensor_id)\n",
    "                                 where locations.country = 'Switzerland' and locations.region is not null and sensors.sensor_type = 'temperature' \n",
    "                                 order by timestamp\"\"\"\n",
    "    \n",
    "    switzerland_co2 = \"\"\"select locations.location_id, locations.country, \n",
    "                         sensors.sensor_id, sensors.sensor_type,\n",
    "                         sensor_readings.timestamp, sensor_readings.int_reading, sensor_readings.float_reading, sensor_readings.bool_reading\n",
    "                         from locations\n",
    "                         inner join sensors on (sensors.location_id = locations.location_id)\n",
    "                         inner join sensor_readings on (sensors.sensor_id = sensor_readings.sensor_id)\n",
    "                         where locations.country = 'Switzerland' and (sensors.sensor_type = 'co2')\n",
    "                         order by timestamp\"\"\"\n",
    "    \n",
    "    regions_newsnow = \"\"\"select locations.location_id, locations.region, \n",
    "                         sensors.sensor_id, sensors.sensor_type,\n",
    "                         sensor_readings.int_reading, sensor_readings.timestamp\n",
    "                         from locations\n",
    "                         inner join sensors on (sensors.location_id = locations.location_id)\n",
    "                         inner join sensor_readings on (sensors.sensor_id = sensor_readings.sensor_id)\n",
    "                         where locations.region is not NULL\n",
    "                         order by region, timestamp\"\"\"\n",
    "\n",
    "    "
   ]
  },
  {
   "cell_type": "markdown",
   "metadata": {},
   "source": [
    "## Query Data"
   ]
  },
  {
   "cell_type": "code",
   "execution_count": 42,
   "metadata": {
    "scrolled": false
   },
   "outputs": [],
   "source": [
    "switzerland_temp = connection_object.query_data(Queries.switzerland_temperature)\n",
    "switzerland_co2 = connection_object.query_data(Queries.switzerland_co2)\n",
    "switzerland_newsnow = connection_object.query_data(Queries.regions_newsnow)"
   ]
  },
  {
   "cell_type": "markdown",
   "metadata": {},
   "source": [
    "## Transform"
   ]
  },
  {
   "cell_type": "code",
   "execution_count": 15,
   "metadata": {},
   "outputs": [],
   "source": [
    "def transform_switzerland_temp(swiss_temp):\n",
    "    swiss_temp = swiss_temp.drop(['int_reading', 'bool_reading'], axis=1)\n",
    "    swiss_temp = swiss_temp.set_index('timestamp', drop=True)\n",
    "    swiss_temp.index = pd.to_datetime(swiss_temp.index)\n",
    "    swiss_temp = swiss_temp.loc[:, ['float_reading']]\n",
    "    swiss_temp.columns = ['temperature']\n",
    "    \n",
    "    amt_missing_values = swiss_temp[swiss_temp['temperature'].isna() == True].shape[0]\n",
    "    if amt_missing_values > 0:\n",
    "        plot = sns.distplot(swiss_temp[swiss_temp['temperature'].isna() == True].index.year, bins=50)\n",
    "        plot.set_title('Missing Values in years / Amount: {}'.format(amt_missing_values))\n",
    "        plt.show()\n",
    " \n",
    "    swiss_temp = swiss_temp.dropna()\n",
    "    \n",
    "    return swiss_temp\n",
    "\n",
    "def transform_switzerland_co2(swiss_co2):\n",
    "    swiss_co2 = swiss_co2.drop(['int_reading', 'bool_reading'], axis=1)\n",
    "    swiss_co2 = swiss_co2.set_index('timestamp', drop=True)\n",
    "    swiss_co2.index = pd.to_datetime(swiss_co2.index)\n",
    "    swiss_co2 = swiss_co2.loc[:, ['float_reading']]\n",
    "    swiss_co2.columns = ['CO2']\n",
    "    \n",
    "    amt_missing_values = swiss_co2[swiss_co2['CO2'].isna() == True].shape[0]\n",
    "    if amt_missing_values > 0:\n",
    "        plot = sns.distplot(swiss_co2[swiss_co2['CO2'].isna() == True].index.year, bins=50)\n",
    "        plot.set_title('Missing Values in years / Amount: {}'.format(amt_missing_values))\n",
    "        plt.show()\n",
    "    \n",
    "    swiss_co2 = swiss_co2.dropna()\n",
    "    \n",
    "    return swiss_co2\n",
    "\n",
    "\n",
    "def transform_newsnow(data):\n",
    "    data = data.loc[:,['timestamp', 'region', 'int_reading']]\n",
    "    #data = pd.pivot_table(data=data, values='int_reading', index='timestamp', columns='region')\n",
    "    data = data.set_index('timestamp')\n",
    "    data.index = pd.to_datetime(data.index)\n",
    "    data = data.sort_values(by='timestamp')\n",
    "    data.columns = ['region', 'new_snow']\n",
    "\n",
    "    return data\n"
   ]
  },
  {
   "cell_type": "code",
   "execution_count": 16,
   "metadata": {},
   "outputs": [],
   "source": [
    "switzerland_temp = transform_switzerland_temp(switzerland_temp)  \n",
    "switzerland_co2 = transform_switzerland_co2(switzerland_co2)\n",
    "switzerland_newsnow = transform_newsnow(switzerland_newsnow)"
   ]
  },
  {
   "cell_type": "markdown",
   "metadata": {},
   "source": [
    "# Analysis Temperature/CO2"
   ]
  },
  {
   "cell_type": "markdown",
   "metadata": {},
   "source": [
    "Analysis of the Temperature and CO2 values of Switzerland"
   ]
  },
  {
   "cell_type": "markdown",
   "metadata": {},
   "source": [
    "Check which are the time differences between each measurement of CO2 and temperature"
   ]
  },
  {
   "cell_type": "code",
   "execution_count": 10,
   "metadata": {},
   "outputs": [
    {
     "ename": "KeyError",
     "evalue": "'sensor_type'",
     "output_type": "error",
     "traceback": [
      "\u001b[1;31m---------------------------------------------------------------------------\u001b[0m",
      "\u001b[1;31mKeyError\u001b[0m                                  Traceback (most recent call last)",
      "\u001b[1;32m~\\anaconda3\\lib\\site-packages\\pandas\\core\\indexes\\base.py\u001b[0m in \u001b[0;36mget_loc\u001b[1;34m(self, key, method, tolerance)\u001b[0m\n\u001b[0;32m   2645\u001b[0m             \u001b[1;32mtry\u001b[0m\u001b[1;33m:\u001b[0m\u001b[1;33m\u001b[0m\u001b[1;33m\u001b[0m\u001b[0m\n\u001b[1;32m-> 2646\u001b[1;33m                 \u001b[1;32mreturn\u001b[0m \u001b[0mself\u001b[0m\u001b[1;33m.\u001b[0m\u001b[0m_engine\u001b[0m\u001b[1;33m.\u001b[0m\u001b[0mget_loc\u001b[0m\u001b[1;33m(\u001b[0m\u001b[0mkey\u001b[0m\u001b[1;33m)\u001b[0m\u001b[1;33m\u001b[0m\u001b[1;33m\u001b[0m\u001b[0m\n\u001b[0m\u001b[0;32m   2647\u001b[0m             \u001b[1;32mexcept\u001b[0m \u001b[0mKeyError\u001b[0m\u001b[1;33m:\u001b[0m\u001b[1;33m\u001b[0m\u001b[1;33m\u001b[0m\u001b[0m\n",
      "\u001b[1;32mpandas\\_libs\\index.pyx\u001b[0m in \u001b[0;36mpandas._libs.index.IndexEngine.get_loc\u001b[1;34m()\u001b[0m\n",
      "\u001b[1;32mpandas\\_libs\\index.pyx\u001b[0m in \u001b[0;36mpandas._libs.index.IndexEngine.get_loc\u001b[1;34m()\u001b[0m\n",
      "\u001b[1;32mpandas\\_libs\\hashtable_class_helper.pxi\u001b[0m in \u001b[0;36mpandas._libs.hashtable.PyObjectHashTable.get_item\u001b[1;34m()\u001b[0m\n",
      "\u001b[1;32mpandas\\_libs\\hashtable_class_helper.pxi\u001b[0m in \u001b[0;36mpandas._libs.hashtable.PyObjectHashTable.get_item\u001b[1;34m()\u001b[0m\n",
      "\u001b[1;31mKeyError\u001b[0m: 'sensor_type'",
      "\nDuring handling of the above exception, another exception occurred:\n",
      "\u001b[1;31mKeyError\u001b[0m                                  Traceback (most recent call last)",
      "\u001b[1;32m<ipython-input-10-f6ae9cd73d6a>\u001b[0m in \u001b[0;36m<module>\u001b[1;34m\u001b[0m\n\u001b[1;32m----> 1\u001b[1;33m \u001b[0mtemperature_switzerland\u001b[0m \u001b[1;33m=\u001b[0m \u001b[0mswitzerland_temp\u001b[0m\u001b[1;33m[\u001b[0m\u001b[0mswitzerland_temp\u001b[0m\u001b[1;33m[\u001b[0m\u001b[1;34m'sensor_type'\u001b[0m\u001b[1;33m]\u001b[0m \u001b[1;33m==\u001b[0m \u001b[1;34m'temperature'\u001b[0m\u001b[1;33m]\u001b[0m\u001b[1;33m\u001b[0m\u001b[1;33m\u001b[0m\u001b[0m\n\u001b[0m\u001b[0;32m      2\u001b[0m \u001b[0mtemperature_switzerland\u001b[0m \u001b[1;33m=\u001b[0m \u001b[0mtemperature_switzerland\u001b[0m\u001b[1;33m.\u001b[0m\u001b[0mset_index\u001b[0m\u001b[1;33m(\u001b[0m\u001b[0mtemperature_switzerland\u001b[0m\u001b[1;33m[\u001b[0m\u001b[1;34m'timestamp'\u001b[0m\u001b[1;33m]\u001b[0m\u001b[1;33m)\u001b[0m\u001b[1;33m\u001b[0m\u001b[1;33m\u001b[0m\u001b[0m\n\u001b[0;32m      3\u001b[0m \u001b[0mtemperature_switzerland\u001b[0m\u001b[1;33m.\u001b[0m\u001b[0mindex\u001b[0m \u001b[1;33m=\u001b[0m \u001b[0mpd\u001b[0m\u001b[1;33m.\u001b[0m\u001b[0mto_datetime\u001b[0m\u001b[1;33m(\u001b[0m\u001b[0mtemperature_switzerland\u001b[0m\u001b[1;33m.\u001b[0m\u001b[0mindex\u001b[0m\u001b[1;33m)\u001b[0m\u001b[1;33m\u001b[0m\u001b[1;33m\u001b[0m\u001b[0m\n\u001b[0;32m      4\u001b[0m \u001b[1;33m\u001b[0m\u001b[0m\n\u001b[0;32m      5\u001b[0m \u001b[0mtime_shifted\u001b[0m \u001b[1;33m=\u001b[0m \u001b[0mtemperature_switzerland\u001b[0m\u001b[1;33m.\u001b[0m\u001b[0mloc\u001b[0m\u001b[1;33m[\u001b[0m\u001b[1;33m:\u001b[0m\u001b[1;33m,\u001b[0m\u001b[1;34m'timestamp'\u001b[0m\u001b[1;33m]\u001b[0m\u001b[1;33m.\u001b[0m\u001b[0mshift\u001b[0m\u001b[1;33m(\u001b[0m\u001b[1;36m1\u001b[0m\u001b[1;33m)\u001b[0m\u001b[1;33m\u001b[0m\u001b[1;33m\u001b[0m\u001b[0m\n",
      "\u001b[1;32m~\\anaconda3\\lib\\site-packages\\pandas\\core\\frame.py\u001b[0m in \u001b[0;36m__getitem__\u001b[1;34m(self, key)\u001b[0m\n\u001b[0;32m   2798\u001b[0m             \u001b[1;32mif\u001b[0m \u001b[0mself\u001b[0m\u001b[1;33m.\u001b[0m\u001b[0mcolumns\u001b[0m\u001b[1;33m.\u001b[0m\u001b[0mnlevels\u001b[0m \u001b[1;33m>\u001b[0m \u001b[1;36m1\u001b[0m\u001b[1;33m:\u001b[0m\u001b[1;33m\u001b[0m\u001b[1;33m\u001b[0m\u001b[0m\n\u001b[0;32m   2799\u001b[0m                 \u001b[1;32mreturn\u001b[0m \u001b[0mself\u001b[0m\u001b[1;33m.\u001b[0m\u001b[0m_getitem_multilevel\u001b[0m\u001b[1;33m(\u001b[0m\u001b[0mkey\u001b[0m\u001b[1;33m)\u001b[0m\u001b[1;33m\u001b[0m\u001b[1;33m\u001b[0m\u001b[0m\n\u001b[1;32m-> 2800\u001b[1;33m             \u001b[0mindexer\u001b[0m \u001b[1;33m=\u001b[0m \u001b[0mself\u001b[0m\u001b[1;33m.\u001b[0m\u001b[0mcolumns\u001b[0m\u001b[1;33m.\u001b[0m\u001b[0mget_loc\u001b[0m\u001b[1;33m(\u001b[0m\u001b[0mkey\u001b[0m\u001b[1;33m)\u001b[0m\u001b[1;33m\u001b[0m\u001b[1;33m\u001b[0m\u001b[0m\n\u001b[0m\u001b[0;32m   2801\u001b[0m             \u001b[1;32mif\u001b[0m \u001b[0mis_integer\u001b[0m\u001b[1;33m(\u001b[0m\u001b[0mindexer\u001b[0m\u001b[1;33m)\u001b[0m\u001b[1;33m:\u001b[0m\u001b[1;33m\u001b[0m\u001b[1;33m\u001b[0m\u001b[0m\n\u001b[0;32m   2802\u001b[0m                 \u001b[0mindexer\u001b[0m \u001b[1;33m=\u001b[0m \u001b[1;33m[\u001b[0m\u001b[0mindexer\u001b[0m\u001b[1;33m]\u001b[0m\u001b[1;33m\u001b[0m\u001b[1;33m\u001b[0m\u001b[0m\n",
      "\u001b[1;32m~\\anaconda3\\lib\\site-packages\\pandas\\core\\indexes\\base.py\u001b[0m in \u001b[0;36mget_loc\u001b[1;34m(self, key, method, tolerance)\u001b[0m\n\u001b[0;32m   2646\u001b[0m                 \u001b[1;32mreturn\u001b[0m \u001b[0mself\u001b[0m\u001b[1;33m.\u001b[0m\u001b[0m_engine\u001b[0m\u001b[1;33m.\u001b[0m\u001b[0mget_loc\u001b[0m\u001b[1;33m(\u001b[0m\u001b[0mkey\u001b[0m\u001b[1;33m)\u001b[0m\u001b[1;33m\u001b[0m\u001b[1;33m\u001b[0m\u001b[0m\n\u001b[0;32m   2647\u001b[0m             \u001b[1;32mexcept\u001b[0m \u001b[0mKeyError\u001b[0m\u001b[1;33m:\u001b[0m\u001b[1;33m\u001b[0m\u001b[1;33m\u001b[0m\u001b[0m\n\u001b[1;32m-> 2648\u001b[1;33m                 \u001b[1;32mreturn\u001b[0m \u001b[0mself\u001b[0m\u001b[1;33m.\u001b[0m\u001b[0m_engine\u001b[0m\u001b[1;33m.\u001b[0m\u001b[0mget_loc\u001b[0m\u001b[1;33m(\u001b[0m\u001b[0mself\u001b[0m\u001b[1;33m.\u001b[0m\u001b[0m_maybe_cast_indexer\u001b[0m\u001b[1;33m(\u001b[0m\u001b[0mkey\u001b[0m\u001b[1;33m)\u001b[0m\u001b[1;33m)\u001b[0m\u001b[1;33m\u001b[0m\u001b[1;33m\u001b[0m\u001b[0m\n\u001b[0m\u001b[0;32m   2649\u001b[0m         \u001b[0mindexer\u001b[0m \u001b[1;33m=\u001b[0m \u001b[0mself\u001b[0m\u001b[1;33m.\u001b[0m\u001b[0mget_indexer\u001b[0m\u001b[1;33m(\u001b[0m\u001b[1;33m[\u001b[0m\u001b[0mkey\u001b[0m\u001b[1;33m]\u001b[0m\u001b[1;33m,\u001b[0m \u001b[0mmethod\u001b[0m\u001b[1;33m=\u001b[0m\u001b[0mmethod\u001b[0m\u001b[1;33m,\u001b[0m \u001b[0mtolerance\u001b[0m\u001b[1;33m=\u001b[0m\u001b[0mtolerance\u001b[0m\u001b[1;33m)\u001b[0m\u001b[1;33m\u001b[0m\u001b[1;33m\u001b[0m\u001b[0m\n\u001b[0;32m   2650\u001b[0m         \u001b[1;32mif\u001b[0m \u001b[0mindexer\u001b[0m\u001b[1;33m.\u001b[0m\u001b[0mndim\u001b[0m \u001b[1;33m>\u001b[0m \u001b[1;36m1\u001b[0m \u001b[1;32mor\u001b[0m \u001b[0mindexer\u001b[0m\u001b[1;33m.\u001b[0m\u001b[0msize\u001b[0m \u001b[1;33m>\u001b[0m \u001b[1;36m1\u001b[0m\u001b[1;33m:\u001b[0m\u001b[1;33m\u001b[0m\u001b[1;33m\u001b[0m\u001b[0m\n",
      "\u001b[1;32mpandas\\_libs\\index.pyx\u001b[0m in \u001b[0;36mpandas._libs.index.IndexEngine.get_loc\u001b[1;34m()\u001b[0m\n",
      "\u001b[1;32mpandas\\_libs\\index.pyx\u001b[0m in \u001b[0;36mpandas._libs.index.IndexEngine.get_loc\u001b[1;34m()\u001b[0m\n",
      "\u001b[1;32mpandas\\_libs\\hashtable_class_helper.pxi\u001b[0m in \u001b[0;36mpandas._libs.hashtable.PyObjectHashTable.get_item\u001b[1;34m()\u001b[0m\n",
      "\u001b[1;32mpandas\\_libs\\hashtable_class_helper.pxi\u001b[0m in \u001b[0;36mpandas._libs.hashtable.PyObjectHashTable.get_item\u001b[1;34m()\u001b[0m\n",
      "\u001b[1;31mKeyError\u001b[0m: 'sensor_type'"
     ]
    }
   ],
   "source": [
    "temperature_switzerland = switzerland_temp[switzerland_temp['sensor_type'] == 'temperature']\n",
    "temperature_switzerland = temperature_switzerland.set_index(temperature_switzerland['timestamp'])\n",
    "temperature_switzerland.index = pd.to_datetime(temperature_switzerland.index)\n",
    "\n",
    "time_shifted = temperature_switzerland.loc[:,'timestamp'].shift(1) \n",
    "time_diff = temperature_switzerland.loc[:,'timestamp'] - time_shifted\n",
    "print('Temperature Measurement differences: {}'.format(time_diff.mean()))\n",
    "\n",
    "temperature_switzerland.head(3)"
   ]
  },
  {
   "cell_type": "code",
   "execution_count": null,
   "metadata": {
    "scrolled": true
   },
   "outputs": [],
   "source": [
    "co2_switzerland = switzerland_co2[switzerland_co2['sensor_type'] == 'co2']\n",
    "co2_switzerland = co2_switzerland.set_index(co2_switzerland['timestamp'])\n",
    "co2_switzerland.index = pd.to_datetime(co2_switzerland.index)\n",
    "\n",
    "\n",
    "time_shifted = co2_switzerland.loc[:,'timestamp'].shift(1) \n",
    "time_diff = co2_switzerland.loc[:,'timestamp'] - time_shifted\n",
    "print('CO2 Measurement differences: {}'.format(time_diff.mean()))\n",
    "\n",
    "co2_switzerland.head(3)"
   ]
  },
  {
   "cell_type": "markdown",
   "metadata": {},
   "source": [
    "## Time Linechart"
   ]
  },
  {
   "cell_type": "code",
   "execution_count": null,
   "metadata": {},
   "outputs": [],
   "source": [
    "def plot_temperature_international(rolling_mean):\n",
    "    fig, ax = plt.subplots(2, 1, figsize=(12,10))\n",
    "    \n",
    "    time_from = '1960-01-01'\n",
    "    time_to =  2020\n",
    "    \n",
    "    temperature_switzerland = switzerland_temp[switzerland_temp['sensor_type'] == 'temperature']\n",
    "    temperature_switzerland = temperature_switzerland.loc[:, ['timestamp', 'float_reading']]\n",
    "    \n",
    "    co2_switzerland = switzerland_co2[switzerland_co2['sensor_type'] == 'co2']\n",
    "            \n",
    "    p1_y = temperature_switzerland[temperature_switzerland['sensor_type'] == 'temperature']['timestamp']\n",
    "    p1_y = p1_y[p1_y > pd.to_datetime(time_from)]\n",
    "    \n",
    "    p1 = sns.lineplot(x=p1_y, \n",
    "                      y=temperature_switzerland['float_reading'].rolling(rolling_mean).mean(), ax=ax[0])\n",
    "    p3 = sns.lineplot(x=p1_y, y=temperature_switzerland['float_reading'].rolling(6).mean(), ax=ax[0])\n",
    "    p1.set_title('Temperature of Switzerland with {} month Rolling Average'.format(rolling_mean), loc='left')\n",
    "    p1.set(ylabel='Temperature in C°', xlabel=('Years'))\n",
    "\n",
    "    p2 = sns.lineplot(x=not_local_data[not_local_data['sensor_type'] == 'co2']['timestamp'], \n",
    "                      y=co2_switzerland['float_reading'], ax=ax[1])\n",
    "    p2.set_title('CO2 of Switzerland cumulative each year', loc='left')\n",
    "    p2.set(ylabel='CO2', xlabel=('Years'))\n",
    "    \n",
    "    plt.show()\n",
    "\n",
    "plot_temperature_international(6*12)"
   ]
  },
  {
   "cell_type": "markdown",
   "metadata": {},
   "source": [
    "## Distribution of the Data"
   ]
  },
  {
   "cell_type": "code",
   "execution_count": null,
   "metadata": {},
   "outputs": [],
   "source": [
    "def boxplot_temp_co2():\n",
    "    fig, ax = plt.subplots(1,2, figsize=(12,3))\n",
    "    p1 = sns.boxplot(temperature_switzerland['float_reading'], ax=ax[0])\n",
    "    p1.set_title('Temperature Readings Switzerland from {} to {}'.format(temperature_switzerland.index[0].year, temperature_switzerland.index[-1].year))\n",
    "    p1.set_xlabel('Temperature in C°')\n",
    "    \n",
    "    p2 = sns.boxplot(co2_switzerland['float_reading'], ax=ax[1])\n",
    "    p2.set_title('CO2 Readings Switzerland from {} to {}'.format(co2_switzerland.index[0].year, co2_switzerland.index[-1].year))\n",
    "    p2.set_xlabel('CO2')\n",
    "    plt.show()\n",
    "    \n",
    "boxplot_temp_co2()\n",
    "\n",
    "def distribution_temp_co2():\n",
    "\n",
    "    fig, ax = plt.subplots(1,2, figsize=(12,3))\n",
    "    p1 = sns.distplot(temperature_switzerland['float_reading'], bins=int(np.sqrt(temperature_switzerland.shape[0])), ax=ax[0])\n",
    "    p1.set_title('Temperature Readings Switzerland from {} to {}'.format(temperature_switzerland.index[0].year, temperature_switzerland.index[-1].year))\n",
    "    p1.set_xlabel('Temperature in C°')\n",
    "    \n",
    "    p2 = sns.distplot(co2_switzerland['float_reading'], bins=int(np.sqrt(co2_switzerland.shape[0])), ax=ax[1])\n",
    "    p2.set_title('CO2 Readings Switzerland from {} to {}'.format(co2_switzerland.index[0].year, co2_switzerland.index[-1].year))\n",
    "    p2.set_xlabel('CO2')\n",
    "    plt.show()\n",
    "\n",
    "distribution_temp_co2()"
   ]
  },
  {
   "cell_type": "markdown",
   "metadata": {},
   "source": [
    "Calculation of the Pearson correlation between the two variables of all data available. For the same timestamp I resampled the temperature from one month to one year and took the mean of it, because of the fact we don't have massive outliers in our dataframe."
   ]
  },
  {
   "cell_type": "markdown",
   "metadata": {},
   "source": [
    "## Pearson Correlation "
   ]
  },
  {
   "cell_type": "code",
   "execution_count": null,
   "metadata": {
    "scrolled": true
   },
   "outputs": [],
   "source": [
    "def temp_co2_correlation():\n",
    "    temp_from_1960_yearly = temperature_switzerland.loc[temperature_switzerland.index > pd.to_datetime('1960-01-01')]['float_reading']\n",
    "    temp_from_1960_yearly.index = pd.to_datetime(temp_from_1960_yearly.index)\n",
    "\n",
    "    temp_from_1960_yearly = temp_from_1960_yearly.resample('Y').mean()\n",
    "    temp_from_1960_yearly.tail()\n",
    "    \n",
    "    co2_from_1960_yearly = co2_switzerland.loc[:'2013-01-01']['float_reading']\n",
    "\n",
    "    corr_df = pd.concat([co2_from_1960_yearly, temp_from_1960_yearly], axis=1).resample('Y').median()\n",
    "    corr_df.columns = ['CO2', 'Temperature']\n",
    "    \n",
    "    plot = sns.heatmap(corr_df.corr(), annot=True)\n",
    "    plot.set_title('Correlation Heat Map CO2/Temperaturefrom {} to {}'.format(corr_df.index[0].year, corr_df.index[-1].year))\n",
    "    plt.show()\n",
    "\n",
    "temp_co2_correlation()"
   ]
  },
  {
   "cell_type": "markdown",
   "metadata": {},
   "source": [
    "As we can see we have a medium negative correlation which probably is the effect on the upturn of the CO2 trendline at 1990. To have better measure I only take the timeframe from 1990 up to highest available data."
   ]
  },
  {
   "cell_type": "code",
   "execution_count": null,
   "metadata": {},
   "outputs": [],
   "source": [
    "def temp_co2_correlation():\n",
    "    temp = temperature_switzerland.loc[temperature_switzerland.index > pd.to_datetime('1995-01-01')]['float_reading']\n",
    "    temp.index = pd.to_datetime(temp.index)\n",
    "\n",
    "    temp = temp.resample('Y').mean()\n",
    "    \n",
    "    co2 = co2_switzerland.loc[temp.index[0]:temp.index[-1]]['float_reading']\n",
    "    \n",
    "    corr_df = pd.concat([co2, temp], axis=1).resample('Y').median()\n",
    "    corr_df.columns = ['CO2', 'Temperature']\n",
    "        \n",
    "    plot = sns.heatmap(corr_df.corr(), annot=True)\n",
    "    plot.set_title('Correlation Heat Map CO2/Temperaturefrom {} to {}'.format(corr_df.index[0].year, corr_df.index[-1].year))\n",
    "    plt.show()\n",
    "\n",
    "temp_co2_correlation()"
   ]
  },
  {
   "cell_type": "markdown",
   "metadata": {},
   "source": [
    "## Cross -and Autocorrelation"
   ]
  },
  {
   "cell_type": "code",
   "execution_count": null,
   "metadata": {},
   "outputs": [],
   "source": [
    "def autocorr():\n",
    "    \n",
    "    temp =  temperature_switzerland.loc[:, ['float_reading']]\n",
    "    plt.acorr(temp['float_reading'])\n",
    "    plt.show()\n",
    "    \n",
    "    temp = temp.resample('Y').mean()\n",
    "    plt.acorr(temp['float_reading'])\n",
    "    plt.show()\n",
    "\n",
    "        \n",
    "    \n",
    "    \n",
    "    \n",
    "    \n",
    "autocorr()"
   ]
  },
  {
   "cell_type": "markdown",
   "metadata": {},
   "source": [
    "# Analysis with .CSV data"
   ]
  },
  {
   "cell_type": "markdown",
   "metadata": {},
   "source": [
    "## Read Data"
   ]
  },
  {
   "cell_type": "code",
   "execution_count": 102,
   "metadata": {
    "scrolled": true
   },
   "outputs": [],
   "source": [
    "xlsx = pd.ExcelFile('data_collectionklimadaten_swiss_open_data.xlsx')\n",
    "swiss_sunshine = pd.read_excel(xlsx, 'Sonnenscheindauer' ,\n",
    "                                   header=5, index_col=0 ).dropna().iloc[1:]\n",
    "\n",
    "swiss_precipitation = pd.read_excel(xlsx, 'Jahresniederschlag' ,\n",
    "                                         header=5, index_col=0 ).dropna().iloc[1:]\n",
    "\n",
    "swiss_temp = pd.read_excel(xlsx, 'Jahrestemperatur' ,\n",
    "                                header=5, index_col=0 ).dropna().iloc[1:]\n",
    "\n",
    "swiss_snow = pd.read_excel(xlsx, 'Neuschnee' ,\n",
    "                           header=5, index_col=0 ).dropna().iloc[1:]\n",
    "\n",
    "\n",
    "co2_data = pd.read_csv('co2.csv', index_col=1).drop(['Unnamed: 0'], axis=1)\n",
    "co2_data.index = pd.to_datetime(co2_data.index)\n",
    "\n",
    "temp_data = pd.read_csv('temperature_global.csv', index_col=1).drop(['Unnamed: 0'], axis=1)\n",
    "temp_data.index = pd.to_datetime(temp_data.index)"
   ]
  },
  {
   "cell_type": "code",
   "execution_count": 103,
   "metadata": {},
   "outputs": [
    {
     "data": {
      "text/html": [
       "<div>\n",
       "<style scoped>\n",
       "    .dataframe tbody tr th:only-of-type {\n",
       "        vertical-align: middle;\n",
       "    }\n",
       "\n",
       "    .dataframe tbody tr th {\n",
       "        vertical-align: top;\n",
       "    }\n",
       "\n",
       "    .dataframe thead th {\n",
       "        text-align: right;\n",
       "    }\n",
       "</style>\n",
       "<table border=\"1\" class=\"dataframe\">\n",
       "  <thead>\n",
       "    <tr style=\"text-align: right;\">\n",
       "      <th></th>\n",
       "      <th>country</th>\n",
       "      <th>monthly_anomaly</th>\n",
       "    </tr>\n",
       "    <tr>\n",
       "      <th>date</th>\n",
       "      <th></th>\n",
       "      <th></th>\n",
       "    </tr>\n",
       "  </thead>\n",
       "  <tbody>\n",
       "    <tr>\n",
       "      <th>1743-11-01</th>\n",
       "      <td>Switzerland</td>\n",
       "      <td>0.872</td>\n",
       "    </tr>\n",
       "    <tr>\n",
       "      <th>1743-12-01</th>\n",
       "      <td>Switzerland</td>\n",
       "      <td>NaN</td>\n",
       "    </tr>\n",
       "    <tr>\n",
       "      <th>1744-01-01</th>\n",
       "      <td>Switzerland</td>\n",
       "      <td>NaN</td>\n",
       "    </tr>\n",
       "    <tr>\n",
       "      <th>1744-02-01</th>\n",
       "      <td>Switzerland</td>\n",
       "      <td>NaN</td>\n",
       "    </tr>\n",
       "    <tr>\n",
       "      <th>1744-03-01</th>\n",
       "      <td>Switzerland</td>\n",
       "      <td>NaN</td>\n",
       "    </tr>\n",
       "    <tr>\n",
       "      <th>...</th>\n",
       "      <td>...</td>\n",
       "      <td>...</td>\n",
       "    </tr>\n",
       "    <tr>\n",
       "      <th>2013-05-01</th>\n",
       "      <td>Switzerland</td>\n",
       "      <td>-1.165</td>\n",
       "    </tr>\n",
       "    <tr>\n",
       "      <th>2013-06-01</th>\n",
       "      <td>Switzerland</td>\n",
       "      <td>0.562</td>\n",
       "    </tr>\n",
       "    <tr>\n",
       "      <th>2013-07-01</th>\n",
       "      <td>Switzerland</td>\n",
       "      <td>2.715</td>\n",
       "    </tr>\n",
       "    <tr>\n",
       "      <th>2013-08-01</th>\n",
       "      <td>Switzerland</td>\n",
       "      <td>1.499</td>\n",
       "    </tr>\n",
       "    <tr>\n",
       "      <th>2013-09-01</th>\n",
       "      <td>Switzerland</td>\n",
       "      <td>NaN</td>\n",
       "    </tr>\n",
       "  </tbody>\n",
       "</table>\n",
       "<p>3239 rows × 2 columns</p>\n",
       "</div>"
      ],
      "text/plain": [
       "                country  monthly_anomaly\n",
       "date                                    \n",
       "1743-11-01  Switzerland            0.872\n",
       "1743-12-01  Switzerland              NaN\n",
       "1744-01-01  Switzerland              NaN\n",
       "1744-02-01  Switzerland              NaN\n",
       "1744-03-01  Switzerland              NaN\n",
       "...                 ...              ...\n",
       "2013-05-01  Switzerland           -1.165\n",
       "2013-06-01  Switzerland            0.562\n",
       "2013-07-01  Switzerland            2.715\n",
       "2013-08-01  Switzerland            1.499\n",
       "2013-09-01  Switzerland              NaN\n",
       "\n",
       "[3239 rows x 2 columns]"
      ]
     },
     "execution_count": 103,
     "metadata": {},
     "output_type": "execute_result"
    }
   ],
   "source": [
    "temp_data[temp_data['country'] == 'Switzerland']"
   ]
  },
  {
   "cell_type": "markdown",
   "metadata": {},
   "source": [
    "##  CO2  "
   ]
  },
  {
   "cell_type": "markdown",
   "metadata": {},
   "source": [
    "### Overall Sum of each country"
   ]
  },
  {
   "cell_type": "code",
   "execution_count": 104,
   "metadata": {},
   "outputs": [
    {
     "data": {
      "application/vnd.plotly.v1+json": {
       "config": {
        "plotlyServerURL": "https://plot.ly"
       },
       "data": [
        {
         "hovertemplate": "Years=%{x}<br>CO2=%{y}<extra></extra>",
         "legendgroup": "",
         "line": {
          "color": "#636efa",
          "dash": "solid"
         },
         "mode": "lines",
         "name": "",
         "showlegend": false,
         "type": "scatter",
         "x": [
          "1960-12-31T00:00:00",
          "1961-12-31T00:00:00",
          "1962-12-31T00:00:00",
          "1963-12-31T00:00:00",
          "1964-12-31T00:00:00",
          "1965-12-31T00:00:00",
          "1966-12-31T00:00:00",
          "1967-12-31T00:00:00",
          "1968-12-31T00:00:00",
          "1969-12-31T00:00:00",
          "1970-12-31T00:00:00",
          "1971-12-31T00:00:00",
          "1972-12-31T00:00:00",
          "1973-12-31T00:00:00",
          "1974-12-31T00:00:00",
          "1975-12-31T00:00:00",
          "1976-12-31T00:00:00",
          "1977-12-31T00:00:00",
          "1978-12-31T00:00:00",
          "1979-12-31T00:00:00",
          "1980-12-31T00:00:00",
          "1981-12-31T00:00:00",
          "1982-12-31T00:00:00",
          "1983-12-31T00:00:00",
          "1984-12-31T00:00:00",
          "1985-12-31T00:00:00",
          "1986-12-31T00:00:00",
          "1987-12-31T00:00:00",
          "1988-12-31T00:00:00",
          "1989-12-31T00:00:00",
          "1990-12-31T00:00:00",
          "1991-12-31T00:00:00",
          "1992-12-31T00:00:00",
          "1993-12-31T00:00:00",
          "1994-12-31T00:00:00",
          "1995-12-31T00:00:00",
          "1996-12-31T00:00:00",
          "1997-12-31T00:00:00",
          "1998-12-31T00:00:00",
          "1999-12-31T00:00:00",
          "2000-12-31T00:00:00",
          "2001-12-31T00:00:00",
          "2002-12-31T00:00:00",
          "2003-12-31T00:00:00",
          "2004-12-31T00:00:00",
          "2005-12-31T00:00:00",
          "2006-12-31T00:00:00",
          "2007-12-31T00:00:00",
          "2008-12-31T00:00:00",
          "2009-12-31T00:00:00",
          "2010-12-31T00:00:00",
          "2011-12-31T00:00:00",
          "2012-12-31T00:00:00",
          "2013-12-31T00:00:00",
          "2014-12-31T00:00:00",
          "2015-12-31T00:00:00",
          "2016-12-31T00:00:00",
          "2017-12-31T00:00:00",
          "2018-12-31T00:00:00"
         ],
         "xaxis": "x",
         "y": [
          9098.593158000003,
          9095.446996000002,
          9418.056662000005,
          9954.694905999999,
          10460.605934999998,
          10950.738237000001,
          11448.85063,
          11801.215999999999,
          12444.489669999999,
          13280.892696999997,
          14382.387003000003,
          14956.689162000002,
          15635.271134000006,
          16467.396227000005,
          16432.612602,
          16453.804384000003,
          17359.788793999996,
          17838.524404000003,
          18500.109813000006,
          19006.166484,
          18925.810636000006,
          18438.570325999994,
          18337.325253999996,
          18528.795955999998,
          19076.796994,
          19761.090208000005,
          20023.831176,
          20550.258294000003,
          21337.55217800001,
          21648.291461999997,
          22141.71155200001,
          22156.615936999995,
          21903.901458,
          22145.003157999996,
          22282.924484000014,
          22742.894562,
          23417.161874000005,
          23519.55057999999,
          23389.808977000008,
          23672.391667,
          24358.697960000016,
          24574.738844000003,
          25111.10262200001,
          26324.636106000013,
          27525.693014000004,
          28446.024964000007,
          29366.012760000012,
          30211.545965999998,
          30903.102106,
          30487.38596800001,
          32042.237514000022,
          33129.69536800001,
          33663.56836800001,
          33812.17641000003,
          34063.619592000025,
          34035.52012400001,
          34127.802106,
          34537.60117519998,
          35284.291342699995
         ],
         "yaxis": "y"
        }
       ],
       "layout": {
        "legend": {
         "tracegroupgap": 0
        },
        "template": {
         "data": {
          "bar": [
           {
            "error_x": {
             "color": "#2a3f5f"
            },
            "error_y": {
             "color": "#2a3f5f"
            },
            "marker": {
             "line": {
              "color": "#E5ECF6",
              "width": 0.5
             }
            },
            "type": "bar"
           }
          ],
          "barpolar": [
           {
            "marker": {
             "line": {
              "color": "#E5ECF6",
              "width": 0.5
             }
            },
            "type": "barpolar"
           }
          ],
          "carpet": [
           {
            "aaxis": {
             "endlinecolor": "#2a3f5f",
             "gridcolor": "white",
             "linecolor": "white",
             "minorgridcolor": "white",
             "startlinecolor": "#2a3f5f"
            },
            "baxis": {
             "endlinecolor": "#2a3f5f",
             "gridcolor": "white",
             "linecolor": "white",
             "minorgridcolor": "white",
             "startlinecolor": "#2a3f5f"
            },
            "type": "carpet"
           }
          ],
          "choropleth": [
           {
            "colorbar": {
             "outlinewidth": 0,
             "ticks": ""
            },
            "type": "choropleth"
           }
          ],
          "contour": [
           {
            "colorbar": {
             "outlinewidth": 0,
             "ticks": ""
            },
            "colorscale": [
             [
              0,
              "#0d0887"
             ],
             [
              0.1111111111111111,
              "#46039f"
             ],
             [
              0.2222222222222222,
              "#7201a8"
             ],
             [
              0.3333333333333333,
              "#9c179e"
             ],
             [
              0.4444444444444444,
              "#bd3786"
             ],
             [
              0.5555555555555556,
              "#d8576b"
             ],
             [
              0.6666666666666666,
              "#ed7953"
             ],
             [
              0.7777777777777778,
              "#fb9f3a"
             ],
             [
              0.8888888888888888,
              "#fdca26"
             ],
             [
              1,
              "#f0f921"
             ]
            ],
            "type": "contour"
           }
          ],
          "contourcarpet": [
           {
            "colorbar": {
             "outlinewidth": 0,
             "ticks": ""
            },
            "type": "contourcarpet"
           }
          ],
          "heatmap": [
           {
            "colorbar": {
             "outlinewidth": 0,
             "ticks": ""
            },
            "colorscale": [
             [
              0,
              "#0d0887"
             ],
             [
              0.1111111111111111,
              "#46039f"
             ],
             [
              0.2222222222222222,
              "#7201a8"
             ],
             [
              0.3333333333333333,
              "#9c179e"
             ],
             [
              0.4444444444444444,
              "#bd3786"
             ],
             [
              0.5555555555555556,
              "#d8576b"
             ],
             [
              0.6666666666666666,
              "#ed7953"
             ],
             [
              0.7777777777777778,
              "#fb9f3a"
             ],
             [
              0.8888888888888888,
              "#fdca26"
             ],
             [
              1,
              "#f0f921"
             ]
            ],
            "type": "heatmap"
           }
          ],
          "heatmapgl": [
           {
            "colorbar": {
             "outlinewidth": 0,
             "ticks": ""
            },
            "colorscale": [
             [
              0,
              "#0d0887"
             ],
             [
              0.1111111111111111,
              "#46039f"
             ],
             [
              0.2222222222222222,
              "#7201a8"
             ],
             [
              0.3333333333333333,
              "#9c179e"
             ],
             [
              0.4444444444444444,
              "#bd3786"
             ],
             [
              0.5555555555555556,
              "#d8576b"
             ],
             [
              0.6666666666666666,
              "#ed7953"
             ],
             [
              0.7777777777777778,
              "#fb9f3a"
             ],
             [
              0.8888888888888888,
              "#fdca26"
             ],
             [
              1,
              "#f0f921"
             ]
            ],
            "type": "heatmapgl"
           }
          ],
          "histogram": [
           {
            "marker": {
             "colorbar": {
              "outlinewidth": 0,
              "ticks": ""
             }
            },
            "type": "histogram"
           }
          ],
          "histogram2d": [
           {
            "colorbar": {
             "outlinewidth": 0,
             "ticks": ""
            },
            "colorscale": [
             [
              0,
              "#0d0887"
             ],
             [
              0.1111111111111111,
              "#46039f"
             ],
             [
              0.2222222222222222,
              "#7201a8"
             ],
             [
              0.3333333333333333,
              "#9c179e"
             ],
             [
              0.4444444444444444,
              "#bd3786"
             ],
             [
              0.5555555555555556,
              "#d8576b"
             ],
             [
              0.6666666666666666,
              "#ed7953"
             ],
             [
              0.7777777777777778,
              "#fb9f3a"
             ],
             [
              0.8888888888888888,
              "#fdca26"
             ],
             [
              1,
              "#f0f921"
             ]
            ],
            "type": "histogram2d"
           }
          ],
          "histogram2dcontour": [
           {
            "colorbar": {
             "outlinewidth": 0,
             "ticks": ""
            },
            "colorscale": [
             [
              0,
              "#0d0887"
             ],
             [
              0.1111111111111111,
              "#46039f"
             ],
             [
              0.2222222222222222,
              "#7201a8"
             ],
             [
              0.3333333333333333,
              "#9c179e"
             ],
             [
              0.4444444444444444,
              "#bd3786"
             ],
             [
              0.5555555555555556,
              "#d8576b"
             ],
             [
              0.6666666666666666,
              "#ed7953"
             ],
             [
              0.7777777777777778,
              "#fb9f3a"
             ],
             [
              0.8888888888888888,
              "#fdca26"
             ],
             [
              1,
              "#f0f921"
             ]
            ],
            "type": "histogram2dcontour"
           }
          ],
          "mesh3d": [
           {
            "colorbar": {
             "outlinewidth": 0,
             "ticks": ""
            },
            "type": "mesh3d"
           }
          ],
          "parcoords": [
           {
            "line": {
             "colorbar": {
              "outlinewidth": 0,
              "ticks": ""
             }
            },
            "type": "parcoords"
           }
          ],
          "pie": [
           {
            "automargin": true,
            "type": "pie"
           }
          ],
          "scatter": [
           {
            "marker": {
             "colorbar": {
              "outlinewidth": 0,
              "ticks": ""
             }
            },
            "type": "scatter"
           }
          ],
          "scatter3d": [
           {
            "line": {
             "colorbar": {
              "outlinewidth": 0,
              "ticks": ""
             }
            },
            "marker": {
             "colorbar": {
              "outlinewidth": 0,
              "ticks": ""
             }
            },
            "type": "scatter3d"
           }
          ],
          "scattercarpet": [
           {
            "marker": {
             "colorbar": {
              "outlinewidth": 0,
              "ticks": ""
             }
            },
            "type": "scattercarpet"
           }
          ],
          "scattergeo": [
           {
            "marker": {
             "colorbar": {
              "outlinewidth": 0,
              "ticks": ""
             }
            },
            "type": "scattergeo"
           }
          ],
          "scattergl": [
           {
            "marker": {
             "colorbar": {
              "outlinewidth": 0,
              "ticks": ""
             }
            },
            "type": "scattergl"
           }
          ],
          "scattermapbox": [
           {
            "marker": {
             "colorbar": {
              "outlinewidth": 0,
              "ticks": ""
             }
            },
            "type": "scattermapbox"
           }
          ],
          "scatterpolar": [
           {
            "marker": {
             "colorbar": {
              "outlinewidth": 0,
              "ticks": ""
             }
            },
            "type": "scatterpolar"
           }
          ],
          "scatterpolargl": [
           {
            "marker": {
             "colorbar": {
              "outlinewidth": 0,
              "ticks": ""
             }
            },
            "type": "scatterpolargl"
           }
          ],
          "scatterternary": [
           {
            "marker": {
             "colorbar": {
              "outlinewidth": 0,
              "ticks": ""
             }
            },
            "type": "scatterternary"
           }
          ],
          "surface": [
           {
            "colorbar": {
             "outlinewidth": 0,
             "ticks": ""
            },
            "colorscale": [
             [
              0,
              "#0d0887"
             ],
             [
              0.1111111111111111,
              "#46039f"
             ],
             [
              0.2222222222222222,
              "#7201a8"
             ],
             [
              0.3333333333333333,
              "#9c179e"
             ],
             [
              0.4444444444444444,
              "#bd3786"
             ],
             [
              0.5555555555555556,
              "#d8576b"
             ],
             [
              0.6666666666666666,
              "#ed7953"
             ],
             [
              0.7777777777777778,
              "#fb9f3a"
             ],
             [
              0.8888888888888888,
              "#fdca26"
             ],
             [
              1,
              "#f0f921"
             ]
            ],
            "type": "surface"
           }
          ],
          "table": [
           {
            "cells": {
             "fill": {
              "color": "#EBF0F8"
             },
             "line": {
              "color": "white"
             }
            },
            "header": {
             "fill": {
              "color": "#C8D4E3"
             },
             "line": {
              "color": "white"
             }
            },
            "type": "table"
           }
          ]
         },
         "layout": {
          "annotationdefaults": {
           "arrowcolor": "#2a3f5f",
           "arrowhead": 0,
           "arrowwidth": 1
          },
          "coloraxis": {
           "colorbar": {
            "outlinewidth": 0,
            "ticks": ""
           }
          },
          "colorscale": {
           "diverging": [
            [
             0,
             "#8e0152"
            ],
            [
             0.1,
             "#c51b7d"
            ],
            [
             0.2,
             "#de77ae"
            ],
            [
             0.3,
             "#f1b6da"
            ],
            [
             0.4,
             "#fde0ef"
            ],
            [
             0.5,
             "#f7f7f7"
            ],
            [
             0.6,
             "#e6f5d0"
            ],
            [
             0.7,
             "#b8e186"
            ],
            [
             0.8,
             "#7fbc41"
            ],
            [
             0.9,
             "#4d9221"
            ],
            [
             1,
             "#276419"
            ]
           ],
           "sequential": [
            [
             0,
             "#0d0887"
            ],
            [
             0.1111111111111111,
             "#46039f"
            ],
            [
             0.2222222222222222,
             "#7201a8"
            ],
            [
             0.3333333333333333,
             "#9c179e"
            ],
            [
             0.4444444444444444,
             "#bd3786"
            ],
            [
             0.5555555555555556,
             "#d8576b"
            ],
            [
             0.6666666666666666,
             "#ed7953"
            ],
            [
             0.7777777777777778,
             "#fb9f3a"
            ],
            [
             0.8888888888888888,
             "#fdca26"
            ],
            [
             1,
             "#f0f921"
            ]
           ],
           "sequentialminus": [
            [
             0,
             "#0d0887"
            ],
            [
             0.1111111111111111,
             "#46039f"
            ],
            [
             0.2222222222222222,
             "#7201a8"
            ],
            [
             0.3333333333333333,
             "#9c179e"
            ],
            [
             0.4444444444444444,
             "#bd3786"
            ],
            [
             0.5555555555555556,
             "#d8576b"
            ],
            [
             0.6666666666666666,
             "#ed7953"
            ],
            [
             0.7777777777777778,
             "#fb9f3a"
            ],
            [
             0.8888888888888888,
             "#fdca26"
            ],
            [
             1,
             "#f0f921"
            ]
           ]
          },
          "colorway": [
           "#636efa",
           "#EF553B",
           "#00cc96",
           "#ab63fa",
           "#FFA15A",
           "#19d3f3",
           "#FF6692",
           "#B6E880",
           "#FF97FF",
           "#FECB52"
          ],
          "font": {
           "color": "#2a3f5f"
          },
          "geo": {
           "bgcolor": "white",
           "lakecolor": "white",
           "landcolor": "#E5ECF6",
           "showlakes": true,
           "showland": true,
           "subunitcolor": "white"
          },
          "hoverlabel": {
           "align": "left"
          },
          "hovermode": "closest",
          "mapbox": {
           "style": "light"
          },
          "paper_bgcolor": "white",
          "plot_bgcolor": "#E5ECF6",
          "polar": {
           "angularaxis": {
            "gridcolor": "white",
            "linecolor": "white",
            "ticks": ""
           },
           "bgcolor": "#E5ECF6",
           "radialaxis": {
            "gridcolor": "white",
            "linecolor": "white",
            "ticks": ""
           }
          },
          "scene": {
           "xaxis": {
            "backgroundcolor": "#E5ECF6",
            "gridcolor": "white",
            "gridwidth": 2,
            "linecolor": "white",
            "showbackground": true,
            "ticks": "",
            "zerolinecolor": "white"
           },
           "yaxis": {
            "backgroundcolor": "#E5ECF6",
            "gridcolor": "white",
            "gridwidth": 2,
            "linecolor": "white",
            "showbackground": true,
            "ticks": "",
            "zerolinecolor": "white"
           },
           "zaxis": {
            "backgroundcolor": "#E5ECF6",
            "gridcolor": "white",
            "gridwidth": 2,
            "linecolor": "white",
            "showbackground": true,
            "ticks": "",
            "zerolinecolor": "white"
           }
          },
          "shapedefaults": {
           "line": {
            "color": "#2a3f5f"
           }
          },
          "ternary": {
           "aaxis": {
            "gridcolor": "white",
            "linecolor": "white",
            "ticks": ""
           },
           "baxis": {
            "gridcolor": "white",
            "linecolor": "white",
            "ticks": ""
           },
           "bgcolor": "#E5ECF6",
           "caxis": {
            "gridcolor": "white",
            "linecolor": "white",
            "ticks": ""
           }
          },
          "title": {
           "x": 0.05
          },
          "xaxis": {
           "automargin": true,
           "gridcolor": "white",
           "linecolor": "white",
           "ticks": "",
           "title": {
            "standoff": 15
           },
           "zerolinecolor": "white",
           "zerolinewidth": 2
          },
          "yaxis": {
           "automargin": true,
           "gridcolor": "white",
           "linecolor": "white",
           "ticks": "",
           "title": {
            "standoff": 15
           },
           "zerolinecolor": "white",
           "zerolinewidth": 2
          }
         }
        },
        "title": {
         "text": "Continental yearly CO2 Increase"
        },
        "xaxis": {
         "anchor": "y",
         "domain": [
          0,
          1
         ],
         "title": {
          "text": "Years"
         }
        },
        "yaxis": {
         "anchor": "x",
         "domain": [
          0,
          1
         ],
         "title": {
          "text": "CO2"
         }
        }
       }
      },
      "text/html": [
       "<div>\n",
       "        \n",
       "        \n",
       "            <div id=\"d4cb1840-a460-4257-86b5-a111c6957d64\" class=\"plotly-graph-div\" style=\"height:525px; width:100%;\"></div>\n",
       "            <script type=\"text/javascript\">\n",
       "                require([\"plotly\"], function(Plotly) {\n",
       "                    window.PLOTLYENV=window.PLOTLYENV || {};\n",
       "                    \n",
       "                if (document.getElementById(\"d4cb1840-a460-4257-86b5-a111c6957d64\")) {\n",
       "                    Plotly.newPlot(\n",
       "                        'd4cb1840-a460-4257-86b5-a111c6957d64',\n",
       "                        [{\"hovertemplate\": \"Years=%{x}<br>CO2=%{y}<extra></extra>\", \"legendgroup\": \"\", \"line\": {\"color\": \"#636efa\", \"dash\": \"solid\"}, \"mode\": \"lines\", \"name\": \"\", \"showlegend\": false, \"type\": \"scatter\", \"x\": [\"1960-12-31T00:00:00\", \"1961-12-31T00:00:00\", \"1962-12-31T00:00:00\", \"1963-12-31T00:00:00\", \"1964-12-31T00:00:00\", \"1965-12-31T00:00:00\", \"1966-12-31T00:00:00\", \"1967-12-31T00:00:00\", \"1968-12-31T00:00:00\", \"1969-12-31T00:00:00\", \"1970-12-31T00:00:00\", \"1971-12-31T00:00:00\", \"1972-12-31T00:00:00\", \"1973-12-31T00:00:00\", \"1974-12-31T00:00:00\", \"1975-12-31T00:00:00\", \"1976-12-31T00:00:00\", \"1977-12-31T00:00:00\", \"1978-12-31T00:00:00\", \"1979-12-31T00:00:00\", \"1980-12-31T00:00:00\", \"1981-12-31T00:00:00\", \"1982-12-31T00:00:00\", \"1983-12-31T00:00:00\", \"1984-12-31T00:00:00\", \"1985-12-31T00:00:00\", \"1986-12-31T00:00:00\", \"1987-12-31T00:00:00\", \"1988-12-31T00:00:00\", \"1989-12-31T00:00:00\", \"1990-12-31T00:00:00\", \"1991-12-31T00:00:00\", \"1992-12-31T00:00:00\", \"1993-12-31T00:00:00\", \"1994-12-31T00:00:00\", \"1995-12-31T00:00:00\", \"1996-12-31T00:00:00\", \"1997-12-31T00:00:00\", \"1998-12-31T00:00:00\", \"1999-12-31T00:00:00\", \"2000-12-31T00:00:00\", \"2001-12-31T00:00:00\", \"2002-12-31T00:00:00\", \"2003-12-31T00:00:00\", \"2004-12-31T00:00:00\", \"2005-12-31T00:00:00\", \"2006-12-31T00:00:00\", \"2007-12-31T00:00:00\", \"2008-12-31T00:00:00\", \"2009-12-31T00:00:00\", \"2010-12-31T00:00:00\", \"2011-12-31T00:00:00\", \"2012-12-31T00:00:00\", \"2013-12-31T00:00:00\", \"2014-12-31T00:00:00\", \"2015-12-31T00:00:00\", \"2016-12-31T00:00:00\", \"2017-12-31T00:00:00\", \"2018-12-31T00:00:00\"], \"xaxis\": \"x\", \"y\": [9098.593158000003, 9095.446996000002, 9418.056662000005, 9954.694905999999, 10460.605934999998, 10950.738237000001, 11448.85063, 11801.215999999999, 12444.489669999999, 13280.892696999997, 14382.387003000003, 14956.689162000002, 15635.271134000006, 16467.396227000005, 16432.612602, 16453.804384000003, 17359.788793999996, 17838.524404000003, 18500.109813000006, 19006.166484, 18925.810636000006, 18438.570325999994, 18337.325253999996, 18528.795955999998, 19076.796994, 19761.090208000005, 20023.831176, 20550.258294000003, 21337.55217800001, 21648.291461999997, 22141.71155200001, 22156.615936999995, 21903.901458, 22145.003157999996, 22282.924484000014, 22742.894562, 23417.161874000005, 23519.55057999999, 23389.808977000008, 23672.391667, 24358.697960000016, 24574.738844000003, 25111.10262200001, 26324.636106000013, 27525.693014000004, 28446.024964000007, 29366.012760000012, 30211.545965999998, 30903.102106, 30487.38596800001, 32042.237514000022, 33129.69536800001, 33663.56836800001, 33812.17641000003, 34063.619592000025, 34035.52012400001, 34127.802106, 34537.60117519998, 35284.291342699995], \"yaxis\": \"y\"}],\n",
       "                        {\"legend\": {\"tracegroupgap\": 0}, \"template\": {\"data\": {\"bar\": [{\"error_x\": {\"color\": \"#2a3f5f\"}, \"error_y\": {\"color\": \"#2a3f5f\"}, \"marker\": {\"line\": {\"color\": \"#E5ECF6\", \"width\": 0.5}}, \"type\": \"bar\"}], \"barpolar\": [{\"marker\": {\"line\": {\"color\": \"#E5ECF6\", \"width\": 0.5}}, \"type\": \"barpolar\"}], \"carpet\": [{\"aaxis\": {\"endlinecolor\": \"#2a3f5f\", \"gridcolor\": \"white\", \"linecolor\": \"white\", \"minorgridcolor\": \"white\", \"startlinecolor\": \"#2a3f5f\"}, \"baxis\": {\"endlinecolor\": \"#2a3f5f\", \"gridcolor\": \"white\", \"linecolor\": \"white\", \"minorgridcolor\": \"white\", \"startlinecolor\": \"#2a3f5f\"}, \"type\": \"carpet\"}], \"choropleth\": [{\"colorbar\": {\"outlinewidth\": 0, \"ticks\": \"\"}, \"type\": \"choropleth\"}], \"contour\": [{\"colorbar\": {\"outlinewidth\": 0, \"ticks\": \"\"}, \"colorscale\": [[0.0, \"#0d0887\"], [0.1111111111111111, \"#46039f\"], [0.2222222222222222, \"#7201a8\"], [0.3333333333333333, \"#9c179e\"], [0.4444444444444444, \"#bd3786\"], [0.5555555555555556, \"#d8576b\"], [0.6666666666666666, \"#ed7953\"], [0.7777777777777778, \"#fb9f3a\"], [0.8888888888888888, \"#fdca26\"], [1.0, \"#f0f921\"]], \"type\": \"contour\"}], \"contourcarpet\": [{\"colorbar\": {\"outlinewidth\": 0, \"ticks\": \"\"}, \"type\": \"contourcarpet\"}], \"heatmap\": [{\"colorbar\": {\"outlinewidth\": 0, \"ticks\": \"\"}, \"colorscale\": [[0.0, \"#0d0887\"], [0.1111111111111111, \"#46039f\"], [0.2222222222222222, \"#7201a8\"], [0.3333333333333333, \"#9c179e\"], [0.4444444444444444, \"#bd3786\"], [0.5555555555555556, \"#d8576b\"], [0.6666666666666666, \"#ed7953\"], [0.7777777777777778, \"#fb9f3a\"], [0.8888888888888888, \"#fdca26\"], [1.0, \"#f0f921\"]], \"type\": \"heatmap\"}], \"heatmapgl\": [{\"colorbar\": {\"outlinewidth\": 0, \"ticks\": \"\"}, \"colorscale\": [[0.0, \"#0d0887\"], [0.1111111111111111, \"#46039f\"], [0.2222222222222222, \"#7201a8\"], [0.3333333333333333, \"#9c179e\"], [0.4444444444444444, \"#bd3786\"], [0.5555555555555556, \"#d8576b\"], [0.6666666666666666, \"#ed7953\"], [0.7777777777777778, \"#fb9f3a\"], [0.8888888888888888, \"#fdca26\"], [1.0, \"#f0f921\"]], \"type\": \"heatmapgl\"}], \"histogram\": [{\"marker\": {\"colorbar\": {\"outlinewidth\": 0, \"ticks\": \"\"}}, \"type\": \"histogram\"}], \"histogram2d\": [{\"colorbar\": {\"outlinewidth\": 0, \"ticks\": \"\"}, \"colorscale\": [[0.0, \"#0d0887\"], [0.1111111111111111, \"#46039f\"], [0.2222222222222222, \"#7201a8\"], [0.3333333333333333, \"#9c179e\"], [0.4444444444444444, \"#bd3786\"], [0.5555555555555556, \"#d8576b\"], [0.6666666666666666, \"#ed7953\"], [0.7777777777777778, \"#fb9f3a\"], [0.8888888888888888, \"#fdca26\"], [1.0, \"#f0f921\"]], \"type\": \"histogram2d\"}], \"histogram2dcontour\": [{\"colorbar\": {\"outlinewidth\": 0, \"ticks\": \"\"}, \"colorscale\": [[0.0, \"#0d0887\"], [0.1111111111111111, \"#46039f\"], [0.2222222222222222, \"#7201a8\"], [0.3333333333333333, \"#9c179e\"], [0.4444444444444444, \"#bd3786\"], [0.5555555555555556, \"#d8576b\"], [0.6666666666666666, \"#ed7953\"], [0.7777777777777778, \"#fb9f3a\"], [0.8888888888888888, \"#fdca26\"], [1.0, \"#f0f921\"]], \"type\": \"histogram2dcontour\"}], \"mesh3d\": [{\"colorbar\": {\"outlinewidth\": 0, \"ticks\": \"\"}, \"type\": \"mesh3d\"}], \"parcoords\": [{\"line\": {\"colorbar\": {\"outlinewidth\": 0, \"ticks\": \"\"}}, \"type\": \"parcoords\"}], \"pie\": [{\"automargin\": true, \"type\": \"pie\"}], \"scatter\": [{\"marker\": {\"colorbar\": {\"outlinewidth\": 0, \"ticks\": \"\"}}, \"type\": \"scatter\"}], \"scatter3d\": [{\"line\": {\"colorbar\": {\"outlinewidth\": 0, \"ticks\": \"\"}}, \"marker\": {\"colorbar\": {\"outlinewidth\": 0, \"ticks\": \"\"}}, \"type\": \"scatter3d\"}], \"scattercarpet\": [{\"marker\": {\"colorbar\": {\"outlinewidth\": 0, \"ticks\": \"\"}}, \"type\": \"scattercarpet\"}], \"scattergeo\": [{\"marker\": {\"colorbar\": {\"outlinewidth\": 0, \"ticks\": \"\"}}, \"type\": \"scattergeo\"}], \"scattergl\": [{\"marker\": {\"colorbar\": {\"outlinewidth\": 0, \"ticks\": \"\"}}, \"type\": \"scattergl\"}], \"scattermapbox\": [{\"marker\": {\"colorbar\": {\"outlinewidth\": 0, \"ticks\": \"\"}}, \"type\": \"scattermapbox\"}], \"scatterpolar\": [{\"marker\": {\"colorbar\": {\"outlinewidth\": 0, \"ticks\": \"\"}}, \"type\": \"scatterpolar\"}], \"scatterpolargl\": [{\"marker\": {\"colorbar\": {\"outlinewidth\": 0, \"ticks\": \"\"}}, \"type\": \"scatterpolargl\"}], \"scatterternary\": [{\"marker\": {\"colorbar\": {\"outlinewidth\": 0, \"ticks\": \"\"}}, \"type\": \"scatterternary\"}], \"surface\": [{\"colorbar\": {\"outlinewidth\": 0, \"ticks\": \"\"}, \"colorscale\": [[0.0, \"#0d0887\"], [0.1111111111111111, \"#46039f\"], [0.2222222222222222, \"#7201a8\"], [0.3333333333333333, \"#9c179e\"], [0.4444444444444444, \"#bd3786\"], [0.5555555555555556, \"#d8576b\"], [0.6666666666666666, \"#ed7953\"], [0.7777777777777778, \"#fb9f3a\"], [0.8888888888888888, \"#fdca26\"], [1.0, \"#f0f921\"]], \"type\": \"surface\"}], \"table\": [{\"cells\": {\"fill\": {\"color\": \"#EBF0F8\"}, \"line\": {\"color\": \"white\"}}, \"header\": {\"fill\": {\"color\": \"#C8D4E3\"}, \"line\": {\"color\": \"white\"}}, \"type\": \"table\"}]}, \"layout\": {\"annotationdefaults\": {\"arrowcolor\": \"#2a3f5f\", \"arrowhead\": 0, \"arrowwidth\": 1}, \"coloraxis\": {\"colorbar\": {\"outlinewidth\": 0, \"ticks\": \"\"}}, \"colorscale\": {\"diverging\": [[0, \"#8e0152\"], [0.1, \"#c51b7d\"], [0.2, \"#de77ae\"], [0.3, \"#f1b6da\"], [0.4, \"#fde0ef\"], [0.5, \"#f7f7f7\"], [0.6, \"#e6f5d0\"], [0.7, \"#b8e186\"], [0.8, \"#7fbc41\"], [0.9, \"#4d9221\"], [1, \"#276419\"]], \"sequential\": [[0.0, \"#0d0887\"], [0.1111111111111111, \"#46039f\"], [0.2222222222222222, \"#7201a8\"], [0.3333333333333333, \"#9c179e\"], [0.4444444444444444, \"#bd3786\"], [0.5555555555555556, \"#d8576b\"], [0.6666666666666666, \"#ed7953\"], [0.7777777777777778, \"#fb9f3a\"], [0.8888888888888888, \"#fdca26\"], [1.0, \"#f0f921\"]], \"sequentialminus\": [[0.0, \"#0d0887\"], [0.1111111111111111, \"#46039f\"], [0.2222222222222222, \"#7201a8\"], [0.3333333333333333, \"#9c179e\"], [0.4444444444444444, \"#bd3786\"], [0.5555555555555556, \"#d8576b\"], [0.6666666666666666, \"#ed7953\"], [0.7777777777777778, \"#fb9f3a\"], [0.8888888888888888, \"#fdca26\"], [1.0, \"#f0f921\"]]}, \"colorway\": [\"#636efa\", \"#EF553B\", \"#00cc96\", \"#ab63fa\", \"#FFA15A\", \"#19d3f3\", \"#FF6692\", \"#B6E880\", \"#FF97FF\", \"#FECB52\"], \"font\": {\"color\": \"#2a3f5f\"}, \"geo\": {\"bgcolor\": \"white\", \"lakecolor\": \"white\", \"landcolor\": \"#E5ECF6\", \"showlakes\": true, \"showland\": true, \"subunitcolor\": \"white\"}, \"hoverlabel\": {\"align\": \"left\"}, \"hovermode\": \"closest\", \"mapbox\": {\"style\": \"light\"}, \"paper_bgcolor\": \"white\", \"plot_bgcolor\": \"#E5ECF6\", \"polar\": {\"angularaxis\": {\"gridcolor\": \"white\", \"linecolor\": \"white\", \"ticks\": \"\"}, \"bgcolor\": \"#E5ECF6\", \"radialaxis\": {\"gridcolor\": \"white\", \"linecolor\": \"white\", \"ticks\": \"\"}}, \"scene\": {\"xaxis\": {\"backgroundcolor\": \"#E5ECF6\", \"gridcolor\": \"white\", \"gridwidth\": 2, \"linecolor\": \"white\", \"showbackground\": true, \"ticks\": \"\", \"zerolinecolor\": \"white\"}, \"yaxis\": {\"backgroundcolor\": \"#E5ECF6\", \"gridcolor\": \"white\", \"gridwidth\": 2, \"linecolor\": \"white\", \"showbackground\": true, \"ticks\": \"\", \"zerolinecolor\": \"white\"}, \"zaxis\": {\"backgroundcolor\": \"#E5ECF6\", \"gridcolor\": \"white\", \"gridwidth\": 2, \"linecolor\": \"white\", \"showbackground\": true, \"ticks\": \"\", \"zerolinecolor\": \"white\"}}, \"shapedefaults\": {\"line\": {\"color\": \"#2a3f5f\"}}, \"ternary\": {\"aaxis\": {\"gridcolor\": \"white\", \"linecolor\": \"white\", \"ticks\": \"\"}, \"baxis\": {\"gridcolor\": \"white\", \"linecolor\": \"white\", \"ticks\": \"\"}, \"bgcolor\": \"#E5ECF6\", \"caxis\": {\"gridcolor\": \"white\", \"linecolor\": \"white\", \"ticks\": \"\"}}, \"title\": {\"x\": 0.05}, \"xaxis\": {\"automargin\": true, \"gridcolor\": \"white\", \"linecolor\": \"white\", \"ticks\": \"\", \"title\": {\"standoff\": 15}, \"zerolinecolor\": \"white\", \"zerolinewidth\": 2}, \"yaxis\": {\"automargin\": true, \"gridcolor\": \"white\", \"linecolor\": \"white\", \"ticks\": \"\", \"title\": {\"standoff\": 15}, \"zerolinecolor\": \"white\", \"zerolinewidth\": 2}}}, \"title\": {\"text\": \"Continental yearly CO2 Increase\"}, \"xaxis\": {\"anchor\": \"y\", \"domain\": [0.0, 1.0], \"title\": {\"text\": \"Years\"}}, \"yaxis\": {\"anchor\": \"x\", \"domain\": [0.0, 1.0], \"title\": {\"text\": \"CO2\"}}},\n",
       "                        {\"responsive\": true}\n",
       "                    ).then(function(){\n",
       "                            \n",
       "var gd = document.getElementById('d4cb1840-a460-4257-86b5-a111c6957d64');\n",
       "var x = new MutationObserver(function (mutations, observer) {{\n",
       "        var display = window.getComputedStyle(gd).display;\n",
       "        if (!display || display === 'none') {{\n",
       "            console.log([gd, 'removed!']);\n",
       "            Plotly.purge(gd);\n",
       "            observer.disconnect();\n",
       "        }}\n",
       "}});\n",
       "\n",
       "// Listen for the removal of the full notebook cells\n",
       "var notebookContainer = gd.closest('#notebook-container');\n",
       "if (notebookContainer) {{\n",
       "    x.observe(notebookContainer, {childList: true});\n",
       "}}\n",
       "\n",
       "// Listen for the clearing of the current output cell\n",
       "var outputEl = gd.closest('.output');\n",
       "if (outputEl) {{\n",
       "    x.observe(outputEl, {childList: true});\n",
       "}}\n",
       "\n",
       "                        })\n",
       "                };\n",
       "                });\n",
       "            </script>\n",
       "        </div>"
      ]
     },
     "metadata": {},
     "output_type": "display_data"
    }
   ],
   "source": [
    "def plot_co2_overall_sum():\n",
    "\n",
    "    labels={'x':'Years', 'y':'CO2'}\n",
    "    title='Continental yearly CO2 Increase'\n",
    "\n",
    "    fig = px.line(y=co2_data.resample('Y').sum()['co2'], x=co2_data.resample('Y').median().index,\n",
    "                 title=title, labels=labels)\n",
    "\n",
    "    fig.show()\n",
    "    \n",
    "plot_co2_overall_sum()"
   ]
  },
  {
   "cell_type": "markdown",
   "metadata": {},
   "source": [
    "### Tree Map Switzerland <> 10 Countries with highest CO2 Emission"
   ]
  },
  {
   "cell_type": "code",
   "execution_count": 105,
   "metadata": {},
   "outputs": [],
   "source": [
    "import matplotlib"
   ]
  },
  {
   "cell_type": "code",
   "execution_count": 106,
   "metadata": {},
   "outputs": [],
   "source": [
    "def tree_map_co2(data):\n",
    "    data = data.groupby('country').sum()\n",
    "    data_swiss = data[data.index == 'Switzerland']\n",
    "    data_swiss.index = ['CH']\n",
    "    top_players = data.sort_values('co2', ascending=False).iloc[:10]\n",
    "    top_players = pd.concat([top_players, data_swiss], axis=0)\n",
    "    \n",
    "    # Plotting\n",
    "    cmap = matplotlib.cm.Greys\n",
    "    mini=min(top_players['co2'])\n",
    "    maxi=max(top_players['co2'])\n",
    "    norm = matplotlib.colors.Normalize(vmin=mini, vmax=maxi)\n",
    "    colors = [cmap(norm(value)) for value in top_players['co2']]\n",
    " \n",
    "    fig, ax = plt.subplots(figsize=(16,6))\n",
    "    squarify.plot(sizes=top_players['co2'] , label=top_players.index, color=colors)\n",
    "    plt.title('CO2 Comparisson Switzerland and Global Big Players', loc='left')\n",
    "    plt.axis('off')\n",
    "    plt.show()"
   ]
  },
  {
   "cell_type": "code",
   "execution_count": 107,
   "metadata": {
    "scrolled": true
   },
   "outputs": [
    {
     "data": {
      "image/png": "[encoded data removed]",
      "text/plain": [
       "<Figure size 1152x432 with 1 Axes>"
      ]
     },
     "metadata": {},
     "output_type": "display_data"
    }
   ],
   "source": [
    "tree_map_co2(co2_data)"
   ]
  },
  {
   "cell_type": "markdown",
   "metadata": {},
   "source": [
    "## Temperature"
   ]
  },
  {
   "cell_type": "markdown",
   "metadata": {},
   "source": [
    "### Tree Map (Switzerland Comparisson to other Countries)"
   ]
  },
  {
   "cell_type": "code",
   "execution_count": 108,
   "metadata": {},
   "outputs": [],
   "source": [
    "def tree_map_temp(data):\n",
    "    year_to = data.index[-1].year\n",
    "    data = data[data.index.year == year_to]\n",
    "    data = data.groupby('country').max()\n",
    "    data_swiss = data[data.index == 'Switzerland']\n",
    "    data_swiss.index = ['CH']\n",
    "    top_players = data.sort_values('monthly_anomaly', ascending=False).iloc[:10]\n",
    "    top_players = pd.concat([top_players, data_swiss], axis=0)\n",
    "    \n",
    "    # Plotting\n",
    "    cmap = matplotlib.cm.Reds\n",
    "    mini=min(top_players['monthly_anomaly'])\n",
    "    maxi=max(top_players['monthly_anomaly'])\n",
    "    norm = matplotlib.colors.Normalize(vmin=mini, vmax=maxi)\n",
    "    colors = [cmap(norm(value)) for value in top_players['monthly_anomaly']]\n",
    " \n",
    "    fig, ax = plt.subplots(figsize=(16,6))\n",
    "    squarify.plot(sizes=top_players['monthly_anomaly'] , label=top_players.index, color=colors)\n",
    "    plt.title('Top 10 Countries with highest Temperature Increase of the Year {}'.format(year_to), loc='left')\n",
    "    plt.axis('off')\n",
    "    plt.show()    \n"
   ]
  },
  {
   "cell_type": "code",
   "execution_count": 109,
   "metadata": {},
   "outputs": [
    {
     "data": {
      "image/png": "[encoded data removed]",
      "text/plain": [
       "<Figure size 1152x432 with 1 Axes>"
      ]
     },
     "metadata": {},
     "output_type": "display_data"
    }
   ],
   "source": [
    "tree_map_temp(temp_data)  "
   ]
  },
  {
   "cell_type": "markdown",
   "metadata": {},
   "source": [
    "## Swiss Local Data"
   ]
  },
  {
   "cell_type": "code",
   "execution_count": 110,
   "metadata": {
    "scrolled": true
   },
   "outputs": [],
   "source": [
    "import re\n",
    "\n",
    "def swiss_places_column_titles(data):\n",
    "    \"\"\"Replaces the Header of the swiss data table with only alphabetic chars.\"\"\"\n",
    "    new_cols = []\n",
    "    \n",
    "    for i in data.columns:\n",
    "        result = re.sub(\"[1,2)]\", '', i)\n",
    "        new_cols.append(result)\n",
    "    data.columns = new_cols\n",
    "    \n",
    "    return data  "
   ]
  },
  {
   "cell_type": "code",
   "execution_count": 111,
   "metadata": {},
   "outputs": [],
   "source": [
    "swiss_sunshine = swiss_places_column_titles(swiss_sunshine)\n",
    "swiss_precipitation = swiss_places_column_titles(swiss_precipitation)\n",
    "swiss_snow = swiss_places_column_titles(swiss_snow)\n",
    "swiss_temp = swiss_places_column_titles(swiss_temp)"
   ]
  },
  {
   "cell_type": "code",
   "execution_count": 112,
   "metadata": {},
   "outputs": [
    {
     "data": {
      "text/html": [
       "<div>\n",
       "<style scoped>\n",
       "    .dataframe tbody tr th:only-of-type {\n",
       "        vertical-align: middle;\n",
       "    }\n",
       "\n",
       "    .dataframe tbody tr th {\n",
       "        vertical-align: top;\n",
       "    }\n",
       "\n",
       "    .dataframe thead th {\n",
       "        text-align: right;\n",
       "    }\n",
       "</style>\n",
       "<table border=\"1\" class=\"dataframe\">\n",
       "  <thead>\n",
       "    <tr style=\"text-align: right;\">\n",
       "      <th></th>\n",
       "      <th>Basel-Binningen</th>\n",
       "      <th>Bern-Zollikofen</th>\n",
       "      <th>Davos</th>\n",
       "      <th>Genf-Cointrin</th>\n",
       "      <th>Locarno-Monti</th>\n",
       "      <th>Lugano</th>\n",
       "      <th>Luzern</th>\n",
       "      <th>Neuenburg</th>\n",
       "      <th>Säntis</th>\n",
       "      <th>Samedan</th>\n",
       "      <th>Sitten</th>\n",
       "      <th>St. Gallen</th>\n",
       "      <th>Zürich-Fluntern</th>\n",
       "    </tr>\n",
       "  </thead>\n",
       "  <tbody>\n",
       "    <tr>\n",
       "      <th>1931</th>\n",
       "      <td>8.5</td>\n",
       "      <td>7.2</td>\n",
       "      <td>1.7</td>\n",
       "      <td>9</td>\n",
       "      <td>11</td>\n",
       "      <td>10.9</td>\n",
       "      <td>7.8</td>\n",
       "      <td>8.4</td>\n",
       "      <td>-2.8</td>\n",
       "      <td>0.6</td>\n",
       "      <td>8.1</td>\n",
       "      <td>6.2</td>\n",
       "      <td>7.4</td>\n",
       "    </tr>\n",
       "  </tbody>\n",
       "</table>\n",
       "</div>"
      ],
      "text/plain": [
       "     Basel-Binningen Bern-Zollikofen  Davos Genf-Cointrin Locarno-Monti  \\\n",
       "1931             8.5              7.2   1.7             9            11   \n",
       "\n",
       "     Lugano Luzern Neuenburg Säntis Samedan Sitten St. Gallen Zürich-Fluntern  \n",
       "1931   10.9    7.8       8.4   -2.8     0.6    8.1        6.2             7.4  "
      ]
     },
     "execution_count": 112,
     "metadata": {},
     "output_type": "execute_result"
    }
   ],
   "source": [
    "swiss_temp.head(1)"
   ]
  },
  {
   "cell_type": "code",
   "execution_count": 113,
   "metadata": {
    "scrolled": true
   },
   "outputs": [
    {
     "data": {
      "application/vnd.plotly.v1+json": {
       "config": {
        "plotlyServerURL": "https://plot.ly"
       },
       "data": [
        {
         "hovertemplate": "color=Basel-Binningen<br>Years=%{x}<br>Temperature Difference in K=%{y}<extra></extra>",
         "legendgroup": "Basel-Binningen",
         "line": {
          "color": "#636efa",
          "dash": "solid"
         },
         "mode": "lines",
         "name": "Basel-Binningen",
         "showlegend": true,
         "type": "scattergl",
         "x": [
          1931,
          1932,
          1933,
          1934,
          1935,
          1936,
          1937,
          1938,
          1939,
          1940,
          1941,
          1942,
          1943,
          1944,
          1945,
          1946,
          1947,
          1948,
          1949,
          1950,
          1951,
          1952,
          1953,
          1954,
          1955,
          1956,
          1957,
          1958,
          1959,
          1960,
          1961,
          1962,
          1963,
          1964,
          1965,
          1966,
          1967,
          1968,
          1969,
          1970,
          1971,
          1972,
          1973,
          1974,
          1975,
          1976,
          1977,
          1978,
          1979,
          1980,
          1981,
          1982,
          1983,
          1984,
          1985,
          1986,
          1987,
          1988,
          1989,
          1990,
          1991,
          1992,
          1993,
          1994,
          1995,
          1996,
          1997,
          1998,
          1999,
          2000,
          2001,
          2002,
          2003,
          2004,
          2005,
          2006,
          2007,
          2008,
          2009,
          2010,
          2011,
          2012,
          2013,
          2014,
          2015,
          2016,
          2017,
          2018,
          2019
         ],
         "xaxis": "x",
         "y": [
          0,
          0.40000000000000036,
          0.3000000000000007,
          1.4000000000000004,
          0.9000000000000004,
          1,
          1.3000000000000007,
          0.8000000000000007,
          0.5999999999999996,
          -0.3000000000000007,
          -0.09999999999999964,
          0.3000000000000007,
          1.6999999999999993,
          0.8000000000000007,
          1.5,
          1,
          2,
          1.4000000000000004,
          1.9000000000000004,
          1.5,
          1.0999999999999996,
          1.1999999999999993,
          1.0999999999999996,
          0.5,
          0.5999999999999996,
          -0.5999999999999996,
          1,
          1.0999999999999996,
          1.6999999999999993,
          1.0999999999999996,
          2,
          0.09999999999999964,
          0,
          1.3000000000000007,
          0.6999999999999993,
          1.4000000000000004,
          1.3000000000000007,
          0.8000000000000007,
          0.5,
          0.6999999999999993,
          0.8000000000000007,
          0.40000000000000036,
          0.6999999999999993,
          1.5,
          1.1999999999999993,
          1.5,
          1.4000000000000004,
          0.5,
          1,
          0.40000000000000036,
          1.0999999999999996,
          1.8000000000000007,
          1.8000000000000007,
          1,
          0.5,
          0.9000000000000004,
          1,
          2,
          2.0999999999999996,
          2.4000000000000004,
          1.5,
          2.1999999999999993,
          1.6999999999999993,
          3,
          2,
          0.9000000000000004,
          2.0999999999999996,
          2.0999999999999996,
          2.1999999999999993,
          2.9000000000000004,
          2.0999999999999996,
          2.6999999999999993,
          2.9000000000000004,
          2.0999999999999996,
          1.9000000000000004,
          2.4000000000000004,
          2.8000000000000007,
          2.3000000000000007,
          2.5999999999999996,
          1.4000000000000004,
          3.0999999999999996,
          2.4000000000000004,
          1.8000000000000007,
          3.4000000000000004,
          3.1999999999999993,
          2.4000000000000004,
          2.9000000000000004,
          3.6999999999999993,
          3.0999999999999996
         ],
         "yaxis": "y"
        },
        {
         "hovertemplate": "color=Bern-Zollikofen <br>Years=%{x}<br>Temperature Difference in K=%{y}<extra></extra>",
         "legendgroup": "Bern-Zollikofen ",
         "line": {
          "color": "#EF553B",
          "dash": "solid"
         },
         "mode": "lines",
         "name": "Bern-Zollikofen ",
         "showlegend": true,
         "type": "scattergl",
         "x": [
          1931,
          1932,
          1933,
          1934,
          1935,
          1936,
          1937,
          1938,
          1939,
          1940,
          1941,
          1942,
          1943,
          1944,
          1945,
          1946,
          1947,
          1948,
          1949,
          1950,
          1951,
          1952,
          1953,
          1954,
          1955,
          1956,
          1957,
          1958,
          1959,
          1960,
          1961,
          1962,
          1963,
          1964,
          1965,
          1966,
          1967,
          1968,
          1969,
          1970,
          1971,
          1972,
          1973,
          1974,
          1975,
          1976,
          1977,
          1978,
          1979,
          1980,
          1981,
          1982,
          1983,
          1984,
          1985,
          1986,
          1987,
          1988,
          1989,
          1990,
          1991,
          1992,
          1993,
          1994,
          1995,
          1996,
          1997,
          1998,
          1999,
          2000,
          2001,
          2002,
          2003,
          2004,
          2005,
          2006,
          2007,
          2008,
          2009,
          2010,
          2011,
          2012,
          2013,
          2014,
          2015,
          2016,
          2017,
          2018,
          2019
         ],
         "xaxis": "x",
         "y": [
          0,
          0.20000000000000018,
          0.09999999999999964,
          1.2000000000000002,
          0.5999999999999996,
          0.7999999999999998,
          0.9999999999999991,
          0.5999999999999996,
          0.20000000000000018,
          -0.40000000000000036,
          -0.2999999999999998,
          0,
          1.2999999999999998,
          0.20000000000000018,
          0.9999999999999991,
          0.7000000000000002,
          1.9999999999999991,
          1.2999999999999998,
          1.7999999999999998,
          1.3999999999999995,
          0.8999999999999995,
          1.1000000000000005,
          0.7999999999999998,
          0.5,
          0.39999999999999947,
          -0.7000000000000002,
          0.7000000000000002,
          0.7000000000000002,
          1.2999999999999998,
          0.5999999999999996,
          1.6000000000000005,
          -0.10000000000000053,
          -0.5,
          0.7999999999999998,
          0,
          1.1000000000000005,
          0.9999999999999991,
          0.5,
          0.2999999999999998,
          0.2999999999999998,
          0.39999999999999947,
          0.20000000000000018,
          0.2999999999999998,
          1.1000000000000005,
          0.7999999999999998,
          0.9999999999999991,
          0.9999999999999991,
          0.09999999999999964,
          0.7000000000000002,
          0.09999999999999964,
          0.7999999999999998,
          1.4999999999999991,
          1.2999999999999998,
          0.5999999999999996,
          0.39999999999999947,
          0.7999999999999998,
          0.7000000000000002,
          1.6000000000000005,
          1.6000000000000005,
          1.8999999999999995,
          0.9999999999999991,
          1.6000000000000005,
          1.3999999999999995,
          2.8,
          1.6000000000000005,
          0.7000000000000002,
          1.7999999999999998,
          1.7000000000000002,
          1.7000000000000002,
          2.3999999999999995,
          1.8999999999999995,
          2.2,
          2.3,
          1.6000000000000005,
          1.2999999999999998,
          1.9999999999999991,
          2.3,
          1.7999999999999998,
          2.2,
          1.3999999999999995,
          2.8999999999999995,
          1.9999999999999991,
          1.4999999999999991,
          2.8,
          2.7,
          2.2,
          2.3999999999999995,
          3.3,
          2.8
         ],
         "yaxis": "y"
        },
        {
         "hovertemplate": "color=Davos<br>Years=%{x}<br>Temperature Difference in K=%{y}<extra></extra>",
         "legendgroup": "Davos",
         "line": {
          "color": "#00cc96",
          "dash": "solid"
         },
         "mode": "lines",
         "name": "Davos",
         "showlegend": true,
         "type": "scattergl",
         "x": [
          1931,
          1932,
          1933,
          1934,
          1935,
          1936,
          1937,
          1938,
          1939,
          1940,
          1941,
          1942,
          1943,
          1944,
          1945,
          1946,
          1947,
          1948,
          1949,
          1950,
          1951,
          1952,
          1953,
          1954,
          1955,
          1956,
          1957,
          1958,
          1959,
          1960,
          1961,
          1962,
          1963,
          1964,
          1965,
          1966,
          1967,
          1968,
          1969,
          1970,
          1971,
          1972,
          1973,
          1974,
          1975,
          1976,
          1977,
          1978,
          1979,
          1980,
          1981,
          1982,
          1983,
          1984,
          1985,
          1986,
          1987,
          1988,
          1989,
          1990,
          1991,
          1992,
          1993,
          1994,
          1995,
          1996,
          1997,
          1998,
          1999,
          2000,
          2001,
          2002,
          2003,
          2004,
          2005,
          2006,
          2007,
          2008,
          2009,
          2010,
          2011,
          2012,
          2013,
          2014,
          2015,
          2016,
          2017,
          2018,
          2019
         ],
         "xaxis": "x",
         "y": [
          0,
          0.5999999999999999,
          0.10000000000000009,
          1.5999999999999999,
          0.10000000000000009,
          0.7,
          0.8,
          0.5999999999999999,
          0.5000000000000002,
          -0.30000000000000004,
          0,
          0.7,
          1.4000000000000001,
          0,
          0.8,
          1.3,
          1.9000000000000001,
          1.5000000000000002,
          1.5000000000000002,
          1.0999999999999999,
          1.2,
          0.5000000000000002,
          1.0000000000000002,
          0.19999999999999996,
          0.30000000000000004,
          -0.7999999999999999,
          1.3,
          0.9000000000000001,
          1.5000000000000002,
          1.0999999999999999,
          2,
          -0.09999999999999987,
          0.19999999999999996,
          1.4000000000000001,
          0.10000000000000009,
          0.9000000000000001,
          1.0000000000000002,
          0.9000000000000001,
          0.9000000000000001,
          0.5999999999999999,
          1.4000000000000001,
          1.2,
          0.9000000000000001,
          1.0000000000000002,
          1.4000000000000001,
          1.0000000000000002,
          1.5000000000000002,
          0.9000000000000001,
          0.9000000000000001,
          0.40000000000000013,
          0.9000000000000001,
          1.5999999999999999,
          1.7,
          0.5999999999999999,
          0.9000000000000001,
          1.4000000000000001,
          1.3,
          1.8,
          2.5,
          2.0999999999999996,
          1.5000000000000002,
          2.0999999999999996,
          1.7,
          2.8999999999999995,
          1.5000000000000002,
          1.4000000000000001,
          2.3999999999999995,
          1.8,
          1.8,
          2.3999999999999995,
          1.8,
          2.5999999999999996,
          2.5999999999999996,
          1.8,
          1.3,
          2.5,
          2.3999999999999995,
          2.0999999999999996,
          2.0999999999999996,
          1.0000000000000002,
          3,
          2.2,
          1.9000000000000001,
          3.0999999999999996,
          3.0999999999999996,
          2.7,
          2.5,
          3.3,
          2.8
         ],
         "yaxis": "y"
        },
        {
         "hovertemplate": "color=Genf-Cointrin<br>Years=%{x}<br>Temperature Difference in K=%{y}<extra></extra>",
         "legendgroup": "Genf-Cointrin",
         "line": {
          "color": "#ab63fa",
          "dash": "solid"
         },
         "mode": "lines",
         "name": "Genf-Cointrin",
         "showlegend": true,
         "type": "scattergl",
         "x": [
          1931,
          1932,
          1933,
          1934,
          1935,
          1936,
          1937,
          1938,
          1939,
          1940,
          1941,
          1942,
          1943,
          1944,
          1945,
          1946,
          1947,
          1948,
          1949,
          1950,
          1951,
          1952,
          1953,
          1954,
          1955,
          1956,
          1957,
          1958,
          1959,
          1960,
          1961,
          1962,
          1963,
          1964,
          1965,
          1966,
          1967,
          1968,
          1969,
          1970,
          1971,
          1972,
          1973,
          1974,
          1975,
          1976,
          1977,
          1978,
          1979,
          1980,
          1981,
          1982,
          1983,
          1984,
          1985,
          1986,
          1987,
          1988,
          1989,
          1990,
          1991,
          1992,
          1993,
          1994,
          1995,
          1996,
          1997,
          1998,
          1999,
          2000,
          2001,
          2002,
          2003,
          2004,
          2005,
          2006,
          2007,
          2008,
          2009,
          2010,
          2011,
          2012,
          2013,
          2014,
          2015,
          2016,
          2017,
          2018,
          2019
         ],
         "xaxis": "x",
         "y": [
          0,
          0.1999999999999993,
          0,
          1,
          0.5999999999999996,
          0.5999999999999996,
          1,
          0.40000000000000036,
          0.09999999999999964,
          -0.3000000000000007,
          -0.1999999999999993,
          0.3000000000000007,
          1.4000000000000004,
          0.5999999999999996,
          1.3000000000000007,
          1,
          1.9000000000000004,
          1.0999999999999996,
          1.5999999999999996,
          1.4000000000000004,
          0.5999999999999996,
          0.9000000000000004,
          0.6999999999999993,
          0.40000000000000036,
          0.6999999999999993,
          -0.5,
          0.5,
          0.5999999999999996,
          1.1999999999999993,
          0.6999999999999993,
          1.5999999999999996,
          0.09999999999999964,
          -0.5,
          0.8000000000000007,
          -0.1999999999999993,
          1,
          0.6999999999999993,
          0.40000000000000036,
          0.09999999999999964,
          0.3000000000000007,
          0.3000000000000007,
          0.1999999999999993,
          0.09999999999999964,
          0.8000000000000007,
          0.6999999999999993,
          0.8000000000000007,
          0.9000000000000004,
          0,
          0.6999999999999993,
          -0.09999999999999964,
          0.5999999999999996,
          1.4000000000000004,
          1.3000000000000007,
          0.5,
          0.1999999999999993,
          0.8000000000000007,
          0.9000000000000004,
          1.5,
          1.6999999999999993,
          1.8000000000000007,
          1.1999999999999993,
          1.5999999999999996,
          1.0999999999999996,
          2.5999999999999996,
          1.6999999999999993,
          0.8000000000000007,
          1.6999999999999993,
          1.5999999999999996,
          1.5,
          2.1999999999999993,
          1.9000000000000004,
          2.1999999999999993,
          2.4000000000000004,
          1.6999999999999993,
          1.3000000000000007,
          2.1999999999999993,
          2.1999999999999993,
          1.8000000000000007,
          2.1999999999999993,
          1.0999999999999996,
          2.4000000000000004,
          1.9000000000000004,
          1.1999999999999993,
          2.6999999999999993,
          2.5999999999999996,
          2.0999999999999996,
          2.3000000000000007,
          3.3000000000000007,
          2.8000000000000007
         ],
         "yaxis": "y"
        },
        {
         "hovertemplate": "color=Locarno-Monti<br>Years=%{x}<br>Temperature Difference in K=%{y}<extra></extra>",
         "legendgroup": "Locarno-Monti",
         "line": {
          "color": "#FFA15A",
          "dash": "solid"
         },
         "mode": "lines",
         "name": "Locarno-Monti",
         "showlegend": true,
         "type": "scattergl",
         "x": [
          1931,
          1932,
          1933,
          1934,
          1935,
          1936,
          1937,
          1938,
          1939,
          1940,
          1941,
          1942,
          1943,
          1944,
          1945,
          1946,
          1947,
          1948,
          1949,
          1950,
          1951,
          1952,
          1953,
          1954,
          1955,
          1956,
          1957,
          1958,
          1959,
          1960,
          1961,
          1962,
          1963,
          1964,
          1965,
          1966,
          1967,
          1968,
          1969,
          1970,
          1971,
          1972,
          1973,
          1974,
          1975,
          1976,
          1977,
          1978,
          1979,
          1980,
          1981,
          1982,
          1983,
          1984,
          1985,
          1986,
          1987,
          1988,
          1989,
          1990,
          1991,
          1992,
          1993,
          1994,
          1995,
          1996,
          1997,
          1998,
          1999,
          2000,
          2001,
          2002,
          2003,
          2004,
          2005,
          2006,
          2007,
          2008,
          2009,
          2010,
          2011,
          2012,
          2013,
          2014,
          2015,
          2016,
          2017,
          2018,
          2019
         ],
         "xaxis": "x",
         "y": [
          0,
          0,
          0.1999999999999993,
          0.5,
          0.1999999999999993,
          0.09999999999999964,
          0.3000000000000007,
          0.40000000000000036,
          -0.1999999999999993,
          -0.40000000000000036,
          -0.5,
          0.40000000000000036,
          1.5,
          0.3000000000000007,
          1.3000000000000007,
          0.5,
          0.9000000000000004,
          0.9000000000000004,
          1.4000000000000004,
          0.9000000000000004,
          0.1999999999999993,
          0.3000000000000007,
          0.9000000000000004,
          0,
          0.40000000000000036,
          -0.40000000000000036,
          0.5,
          0.5999999999999996,
          1,
          -0.09999999999999964,
          1.1999999999999993,
          0.1999999999999993,
          -0.40000000000000036,
          0.8000000000000007,
          0,
          0.40000000000000036,
          0.5,
          0,
          0,
          0,
          0.40000000000000036,
          -0.1999999999999993,
          0.5,
          0.5999999999999996,
          0.5,
          0.8000000000000007,
          0,
          -0.09999999999999964,
          0.3000000000000007,
          0.09999999999999964,
          0.5999999999999996,
          0.8000000000000007,
          0.8000000000000007,
          0.09999999999999964,
          0.40000000000000036,
          0.8000000000000007,
          0.5,
          1.0999999999999996,
          1.4000000000000004,
          1.6999999999999993,
          1.3000000000000007,
          1.5,
          1.3000000000000007,
          2,
          1.1999999999999993,
          0.9000000000000004,
          1.9000000000000004,
          1.5,
          1.4000000000000004,
          1.8000000000000007,
          1.5,
          1.6999999999999993,
          2.4000000000000004,
          1.5,
          1.4000000000000004,
          2,
          2.5,
          1.5,
          2,
          0.9000000000000004,
          2.4000000000000004,
          2.0999999999999996,
          1.6999999999999993,
          2.3000000000000007,
          2.8000000000000007,
          2.1999999999999993,
          2.4000000000000004,
          2.8000000000000007,
          2.8000000000000007
         ],
         "yaxis": "y"
        },
        {
         "hovertemplate": "color=Lugano<br>Years=%{x}<br>Temperature Difference in K=%{y}<extra></extra>",
         "legendgroup": "Lugano",
         "line": {
          "color": "#19d3f3",
          "dash": "solid"
         },
         "mode": "lines",
         "name": "Lugano",
         "showlegend": true,
         "type": "scattergl",
         "x": [
          1931,
          1932,
          1933,
          1934,
          1935,
          1936,
          1937,
          1938,
          1939,
          1940,
          1941,
          1942,
          1943,
          1944,
          1945,
          1946,
          1947,
          1948,
          1949,
          1950,
          1951,
          1952,
          1953,
          1954,
          1955,
          1956,
          1957,
          1958,
          1959,
          1960,
          1961,
          1962,
          1963,
          1964,
          1965,
          1966,
          1967,
          1968,
          1969,
          1970,
          1971,
          1972,
          1973,
          1974,
          1975,
          1976,
          1977,
          1978,
          1979,
          1980,
          1981,
          1982,
          1983,
          1984,
          1985,
          1986,
          1987,
          1988,
          1989,
          1990,
          1991,
          1992,
          1993,
          1994,
          1995,
          1996,
          1997,
          1998,
          1999,
          2000,
          2001,
          2002,
          2003,
          2004,
          2005,
          2006,
          2007,
          2008,
          2009,
          2010,
          2011,
          2012,
          2013,
          2014,
          2015,
          2016,
          2017,
          2018,
          2019
         ],
         "xaxis": "x",
         "y": [
          0,
          0.09999999999999964,
          0.1999999999999993,
          0.7999999999999989,
          0.5,
          0.40000000000000036,
          0.6999999999999993,
          0.5999999999999996,
          0.1999999999999993,
          0.09999999999999964,
          0.09999999999999964,
          1,
          1.799999999999999,
          0.5999999999999996,
          1.5999999999999996,
          0.7999999999999989,
          1.299999999999999,
          1.5,
          1.799999999999999,
          1.299999999999999,
          0.5999999999999996,
          0.6999999999999993,
          1.0999999999999996,
          0.29999999999999893,
          0.7999999999999989,
          -0.09999999999999964,
          0.6999999999999993,
          1.0999999999999996,
          1.1999999999999993,
          0.1999999999999993,
          1.299999999999999,
          0.5,
          0,
          0.9000000000000004,
          0.09999999999999964,
          0.6999999999999993,
          1,
          0.40000000000000036,
          0.1999999999999993,
          0.40000000000000036,
          0.9000000000000004,
          0.40000000000000036,
          0.7999999999999989,
          1,
          0.9000000000000004,
          1,
          0.40000000000000036,
          0.1999999999999993,
          0.5,
          0.1999999999999993,
          0.6999999999999993,
          1.1999999999999993,
          1,
          0.40000000000000036,
          0.5999999999999996,
          0.9000000000000004,
          0.6999999999999993,
          1.4000000000000004,
          1.4000000000000004,
          1.6999999999999993,
          1.4000000000000004,
          1.5,
          1.1999999999999993,
          2.1999999999999993,
          1.5999999999999996,
          1.1999999999999993,
          2.0999999999999996,
          1.5,
          1.6999999999999993,
          2.0999999999999996,
          1.799999999999999,
          2,
          2.4000000000000004,
          1.6999999999999993,
          1.6999999999999993,
          2.1999999999999993,
          2.5999999999999996,
          1.799999999999999,
          2.299999999999999,
          1.1999999999999993,
          2.5999999999999996,
          2.299999999999999,
          1.9000000000000004,
          2.5999999999999996,
          2.9000000000000004,
          2.4000000000000004,
          2.5,
          3,
          3
         ],
         "yaxis": "y"
        },
        {
         "hovertemplate": "color=Luzern<br>Years=%{x}<br>Temperature Difference in K=%{y}<extra></extra>",
         "legendgroup": "Luzern",
         "line": {
          "color": "#FF6692",
          "dash": "solid"
         },
         "mode": "lines",
         "name": "Luzern",
         "showlegend": true,
         "type": "scattergl",
         "x": [
          1931,
          1932,
          1933,
          1934,
          1935,
          1936,
          1937,
          1938,
          1939,
          1940,
          1941,
          1942,
          1943,
          1944,
          1945,
          1946,
          1947,
          1948,
          1949,
          1950,
          1951,
          1952,
          1953,
          1954,
          1955,
          1956,
          1957,
          1958,
          1959,
          1960,
          1961,
          1962,
          1963,
          1964,
          1965,
          1966,
          1967,
          1968,
          1969,
          1970,
          1971,
          1972,
          1973,
          1974,
          1975,
          1976,
          1977,
          1978,
          1979,
          1980,
          1981,
          1982,
          1983,
          1984,
          1985,
          1986,
          1987,
          1988,
          1989,
          1990,
          1991,
          1992,
          1993,
          1994,
          1995,
          1996,
          1997,
          1998,
          1999,
          2000,
          2001,
          2002,
          2003,
          2004,
          2005,
          2006,
          2007,
          2008,
          2009,
          2010,
          2011,
          2012,
          2013,
          2014,
          2015,
          2016,
          2017,
          2018,
          2019
         ],
         "xaxis": "x",
         "y": [
          0,
          0.2999999999999998,
          0.10000000000000053,
          1.2999999999999998,
          0.5000000000000009,
          0.8999999999999995,
          1.0000000000000009,
          0.6000000000000005,
          0.39999999999999947,
          -0.39999999999999947,
          -0.09999999999999964,
          0.2999999999999998,
          1.6000000000000005,
          0.5000000000000009,
          1.2000000000000002,
          1.1000000000000005,
          1.8999999999999995,
          1.5000000000000009,
          1.7999999999999998,
          1.3999999999999995,
          1.0000000000000009,
          1.1000000000000005,
          1.0000000000000009,
          0.5000000000000009,
          0.7000000000000002,
          -0.39999999999999947,
          0.8999999999999995,
          1.0000000000000009,
          1.3999999999999995,
          0.8999999999999995,
          1.8999999999999995,
          0.10000000000000053,
          -0.2999999999999998,
          1.0000000000000009,
          0.10000000000000053,
          1.2000000000000002,
          1.2000000000000002,
          0.7999999999999998,
          0.39999999999999947,
          0.2999999999999998,
          0.5000000000000009,
          0.20000000000000018,
          0.6000000000000005,
          1.2999999999999998,
          1.0000000000000009,
          1.2000000000000002,
          1.2000000000000002,
          0.20000000000000018,
          0.8999999999999995,
          0.5000000000000009,
          1.0000000000000009,
          1.5000000000000009,
          1.7000000000000002,
          0.7000000000000002,
          0.5000000000000009,
          0.8999999999999995,
          0.8999999999999995,
          2.1000000000000005,
          2.000000000000001,
          2.2,
          1.2999999999999998,
          2.000000000000001,
          1.7000000000000002,
          3.1000000000000005,
          1.8999999999999995,
          0.8999999999999995,
          2.000000000000001,
          2.000000000000001,
          1.7999999999999998,
          2.6000000000000005,
          2.1000000000000005,
          2.6000000000000005,
          2.6000000000000005,
          2.000000000000001,
          1.7000000000000002,
          2.3,
          2.6000000000000005,
          2.1000000000000005,
          2.3999999999999995,
          1.3999999999999995,
          2.8999999999999995,
          2.3,
          1.7000000000000002,
          3.1000000000000005,
          3.000000000000001,
          2.500000000000001,
          2.6000000000000005,
          3.6000000000000005,
          3.1000000000000005
         ],
         "yaxis": "y"
        },
        {
         "hovertemplate": "color=Neuenburg<br>Years=%{x}<br>Temperature Difference in K=%{y}<extra></extra>",
         "legendgroup": "Neuenburg",
         "line": {
          "color": "#B6E880",
          "dash": "solid"
         },
         "mode": "lines",
         "name": "Neuenburg",
         "showlegend": true,
         "type": "scattergl",
         "x": [
          1931,
          1932,
          1933,
          1934,
          1935,
          1936,
          1937,
          1938,
          1939,
          1940,
          1941,
          1942,
          1943,
          1944,
          1945,
          1946,
          1947,
          1948,
          1949,
          1950,
          1951,
          1952,
          1953,
          1954,
          1955,
          1956,
          1957,
          1958,
          1959,
          1960,
          1961,
          1962,
          1963,
          1964,
          1965,
          1966,
          1967,
          1968,
          1969,
          1970,
          1971,
          1972,
          1973,
          1974,
          1975,
          1976,
          1977,
          1978,
          1979,
          1980,
          1981,
          1982,
          1983,
          1984,
          1985,
          1986,
          1987,
          1988,
          1989,
          1990,
          1991,
          1992,
          1993,
          1994,
          1995,
          1996,
          1997,
          1998,
          1999,
          2000,
          2001,
          2002,
          2003,
          2004,
          2005,
          2006,
          2007,
          2008,
          2009,
          2010,
          2011,
          2012,
          2013,
          2014,
          2015,
          2016,
          2017,
          2018,
          2019
         ],
         "xaxis": "x",
         "y": [
          0,
          0.1999999999999993,
          0.09999999999999964,
          1.4000000000000004,
          0.5,
          0.7999999999999989,
          0.9000000000000004,
          0.5999999999999996,
          0.09999999999999964,
          -0.3000000000000007,
          -0.09999999999999964,
          0.29999999999999893,
          1.6999999999999993,
          0.6999999999999993,
          1.5,
          1,
          2.0999999999999996,
          1.299999999999999,
          1.799999999999999,
          1.299999999999999,
          0.9000000000000004,
          1.1999999999999993,
          0.7999999999999989,
          0.5,
          0.5,
          -0.6000000000000005,
          0.7999999999999989,
          0.9000000000000004,
          1.6999999999999993,
          0.9000000000000004,
          1.9000000000000004,
          0.29999999999999893,
          -0.3000000000000007,
          1.0999999999999996,
          0.09999999999999964,
          1.299999999999999,
          1.299999999999999,
          0.9000000000000004,
          0.5,
          0.5,
          0.7999999999999989,
          0.40000000000000036,
          0.6999999999999993,
          1.4000000000000004,
          1.1999999999999993,
          1.4000000000000004,
          1.1999999999999993,
          0.40000000000000036,
          1.0999999999999996,
          0.40000000000000036,
          1.0999999999999996,
          1.6999999999999993,
          1.5999999999999996,
          0.7999999999999989,
          0.7999999999999989,
          1,
          1,
          1.6999999999999993,
          1.9000000000000004,
          2.0999999999999996,
          1.299999999999999,
          2,
          1.5999999999999996,
          3,
          1.9000000000000004,
          1,
          2,
          2,
          1.9000000000000004,
          2.5999999999999996,
          2,
          2.5,
          2.6999999999999993,
          1.9000000000000004,
          1.5999999999999996,
          2.299999999999999,
          2.4000000000000004,
          1.9000000000000004,
          2.4000000000000004,
          1.4000000000000004,
          2.9000000000000004,
          2.1999999999999993,
          1.5999999999999996,
          2.9000000000000004,
          3.0999999999999996,
          2.4000000000000004,
          2.799999999999999,
          3.4000000000000004,
          2.9000000000000004
         ],
         "yaxis": "y"
        },
        {
         "hovertemplate": "color=Säntis<br>Years=%{x}<br>Temperature Difference in K=%{y}<extra></extra>",
         "legendgroup": "Säntis",
         "line": {
          "color": "#FF97FF",
          "dash": "solid"
         },
         "mode": "lines",
         "name": "Säntis",
         "showlegend": true,
         "type": "scattergl",
         "x": [
          1931,
          1932,
          1933,
          1934,
          1935,
          1936,
          1937,
          1938,
          1939,
          1940,
          1941,
          1942,
          1943,
          1944,
          1945,
          1946,
          1947,
          1948,
          1949,
          1950,
          1951,
          1952,
          1953,
          1954,
          1955,
          1956,
          1957,
          1958,
          1959,
          1960,
          1961,
          1962,
          1963,
          1964,
          1965,
          1966,
          1967,
          1968,
          1969,
          1970,
          1971,
          1972,
          1973,
          1974,
          1975,
          1976,
          1977,
          1978,
          1979,
          1980,
          1981,
          1982,
          1983,
          1984,
          1985,
          1986,
          1987,
          1988,
          1989,
          1990,
          1991,
          1992,
          1993,
          1994,
          1995,
          1996,
          1997,
          1998,
          1999,
          2000,
          2001,
          2002,
          2003,
          2004,
          2005,
          2006,
          2007,
          2008,
          2009,
          2010,
          2011,
          2012,
          2013,
          2014,
          2015,
          2016,
          2017,
          2018,
          2019
         ],
         "xaxis": "x",
         "y": [
          0,
          1.0999999999999999,
          0,
          1.7999999999999998,
          0.09999999999999964,
          0.5999999999999996,
          0.5,
          0.7999999999999998,
          0.3999999999999999,
          -0.30000000000000027,
          -0.20000000000000018,
          0.8999999999999999,
          1.6999999999999997,
          0,
          1.1999999999999997,
          1.2999999999999998,
          1.9,
          1.9,
          1.6999999999999997,
          1.4999999999999998,
          1.2999999999999998,
          0.2999999999999998,
          1.7999999999999998,
          0.19999999999999973,
          0.3999999999999999,
          -0.5,
          1.4,
          1.1999999999999997,
          1.9999999999999998,
          0.5999999999999996,
          1.9,
          -0.10000000000000009,
          0.5,
          1.5999999999999999,
          -0.30000000000000027,
          0.5999999999999996,
          0.9999999999999998,
          0.6999999999999997,
          0.5,
          0.09999999999999964,
          1.1999999999999997,
          0.6999999999999997,
          0.5,
          0.19999999999999973,
          1.4,
          0.7999999999999998,
          1.0999999999999999,
          0.6999999999999997,
          0.5999999999999996,
          0,
          0.2999999999999998,
          1.5999999999999999,
          1.9999999999999998,
          0.19999999999999973,
          0.6999999999999997,
          0.9999999999999998,
          0.9999999999999998,
          1.4,
          2.5999999999999996,
          1.9,
          1.4,
          2.4,
          1.4999999999999998,
          2.4,
          1.1999999999999997,
          1.0999999999999999,
          2.4,
          1.5999999999999999,
          1.6999999999999997,
          2.1999999999999997,
          1.6999999999999997,
          2.4,
          2.6999999999999997,
          1.4999999999999998,
          0.9999999999999998,
          2.5,
          2.3,
          1.9,
          1.7999999999999998,
          0.6999999999999997,
          3.0999999999999996,
          2.0999999999999996,
          1.6999999999999997,
          2.6999999999999997,
          3,
          2.1999999999999997,
          2.1999999999999997,
          3.0999999999999996,
          2.6999999999999997
         ],
         "yaxis": "y"
        },
        {
         "hovertemplate": "color=Samedan<br>Years=%{x}<br>Temperature Difference in K=%{y}<extra></extra>",
         "legendgroup": "Samedan",
         "line": {
          "color": "#FECB52",
          "dash": "solid"
         },
         "mode": "lines",
         "name": "Samedan",
         "showlegend": true,
         "type": "scattergl",
         "x": [
          1931,
          1932,
          1933,
          1934,
          1935,
          1936,
          1937,
          1938,
          1939,
          1940,
          1941,
          1942,
          1943,
          1944,
          1945,
          1946,
          1947,
          1948,
          1949,
          1950,
          1951,
          1952,
          1953,
          1954,
          1955,
          1956,
          1957,
          1958,
          1959,
          1960,
          1961,
          1962,
          1963,
          1964,
          1965,
          1966,
          1967,
          1968,
          1969,
          1970,
          1971,
          1972,
          1973,
          1974,
          1975,
          1976,
          1977,
          1978,
          1979,
          1980,
          1981,
          1982,
          1983,
          1984,
          1985,
          1986,
          1987,
          1988,
          1989,
          1990,
          1991,
          1992,
          1993,
          1994,
          1995,
          1996,
          1997,
          1998,
          1999,
          2000,
          2001,
          2002,
          2003,
          2004,
          2005,
          2006,
          2007,
          2008,
          2009,
          2010,
          2011,
          2012,
          2013,
          2014,
          2015,
          2016,
          2017,
          2018,
          2019
         ],
         "xaxis": "x",
         "y": [
          0,
          0.4,
          0,
          0.9,
          0.09999999999999998,
          0.6,
          0.7999999999999999,
          0.5000000000000001,
          0.30000000000000004,
          -0.39999999999999997,
          -0.19999999999999996,
          1.1,
          1.4,
          0.30000000000000004,
          1,
          0.9,
          1.6999999999999997,
          1.4,
          1.2999999999999998,
          0.9,
          1.1,
          0.7999999999999999,
          1.1,
          0.7999999999999999,
          0.4,
          -0.7,
          0.7000000000000001,
          0.5000000000000001,
          0.7999999999999999,
          0.20000000000000007,
          1.2000000000000002,
          -0.19999999999999996,
          -0.3,
          1.2000000000000002,
          -0.19999999999999996,
          0.7999999999999999,
          0.30000000000000004,
          0.20000000000000007,
          0.30000000000000004,
          0.09999999999999998,
          0.5000000000000001,
          0.6,
          0.6,
          0.7999999999999999,
          0.5000000000000001,
          0.6,
          0.7999999999999999,
          0.4,
          0.4,
          -0.09999999999999998,
          0.7000000000000001,
          1.2999999999999998,
          1.1,
          0.09999999999999998,
          0.5000000000000001,
          0.7999999999999999,
          1,
          1.9,
          1.6,
          1.4,
          0.6,
          1,
          1.2000000000000002,
          2.5,
          1.2999999999999998,
          0.7999999999999999,
          1.2999999999999998,
          1.2999999999999998,
          1.2999999999999998,
          1.7999999999999998,
          1.6,
          2.3,
          1.7999999999999998,
          1.6,
          0.9,
          1.9,
          2.1999999999999997,
          1.7999999999999998,
          1.6,
          0.9,
          2.3,
          1.7999999999999998,
          1.5,
          2.6,
          2.8,
          2.1999999999999997,
          2,
          2.5,
          2.1999999999999997
         ],
         "yaxis": "y"
        },
        {
         "hovertemplate": "color=Sitten<br>Years=%{x}<br>Temperature Difference in K=%{y}<extra></extra>",
         "legendgroup": "Sitten",
         "line": {
          "color": "#636efa",
          "dash": "solid"
         },
         "mode": "lines",
         "name": "Sitten",
         "showlegend": true,
         "type": "scattergl",
         "x": [
          1931,
          1932,
          1933,
          1934,
          1935,
          1936,
          1937,
          1938,
          1939,
          1940,
          1941,
          1942,
          1943,
          1944,
          1945,
          1946,
          1947,
          1948,
          1949,
          1950,
          1951,
          1952,
          1953,
          1954,
          1955,
          1956,
          1957,
          1958,
          1959,
          1960,
          1961,
          1962,
          1963,
          1964,
          1965,
          1966,
          1967,
          1968,
          1969,
          1970,
          1971,
          1972,
          1973,
          1974,
          1975,
          1976,
          1977,
          1978,
          1979,
          1980,
          1981,
          1982,
          1983,
          1984,
          1985,
          1986,
          1987,
          1988,
          1989,
          1990,
          1991,
          1992,
          1993,
          1994,
          1995,
          1996,
          1997,
          1998,
          1999,
          2000,
          2001,
          2002,
          2003,
          2004,
          2005,
          2006,
          2007,
          2008,
          2009,
          2010,
          2011,
          2012,
          2013,
          2014,
          2015,
          2016,
          2017,
          2018,
          2019
         ],
         "xaxis": "x",
         "y": [
          0,
          0.5999999999999996,
          0.7000000000000011,
          1.3000000000000007,
          0.8000000000000007,
          1,
          1.4000000000000004,
          1.0999999999999996,
          0.8000000000000007,
          0,
          0.09999999999999964,
          0.9000000000000004,
          1.8000000000000007,
          0.40000000000000036,
          1.3000000000000007,
          1.0999999999999996,
          2.200000000000001,
          1.5999999999999996,
          1.9000000000000004,
          1.5,
          1.3000000000000007,
          1.0999999999999996,
          1,
          0.5999999999999996,
          0.9000000000000004,
          -0.1999999999999993,
          1,
          0.9000000000000004,
          2,
          1.4000000000000004,
          1.9000000000000004,
          0.5999999999999996,
          0.3000000000000007,
          1.0999999999999996,
          0.20000000000000107,
          1.3000000000000007,
          1.4000000000000004,
          1.200000000000001,
          0.7000000000000011,
          0.9000000000000004,
          1,
          1.0999999999999996,
          0.7000000000000011,
          1.200000000000001,
          1.200000000000001,
          1.3000000000000007,
          1.3000000000000007,
          0.09999999999999964,
          0.9000000000000004,
          0.09999999999999964,
          1.0999999999999996,
          1.700000000000001,
          1.4000000000000004,
          0.8000000000000007,
          0.5999999999999996,
          1.3000000000000007,
          1.200000000000001,
          2,
          1.8000000000000007,
          2.0999999999999996,
          1.5999999999999996,
          2.0999999999999996,
          2.200000000000001,
          3,
          2.0999999999999996,
          1.8000000000000007,
          2.5,
          2.0999999999999996,
          2,
          2.700000000000001,
          2.200000000000001,
          2.8000000000000007,
          3.200000000000001,
          2.3000000000000007,
          1.700000000000001,
          2.5,
          2.700000000000001,
          2.700000000000001,
          2.5999999999999996,
          2,
          3.200000000000001,
          2.9000000000000004,
          2.3000000000000007,
          3.700000000000001,
          3.4000000000000004,
          3.0999999999999996,
          3.200000000000001,
          4.300000000000001,
          3.700000000000001
         ],
         "yaxis": "y"
        },
        {
         "hovertemplate": "color=St. Gallen<br>Years=%{x}<br>Temperature Difference in K=%{y}<extra></extra>",
         "legendgroup": "St. Gallen",
         "line": {
          "color": "#EF553B",
          "dash": "solid"
         },
         "mode": "lines",
         "name": "St. Gallen",
         "showlegend": true,
         "type": "scattergl",
         "x": [
          1931,
          1932,
          1933,
          1934,
          1935,
          1936,
          1937,
          1938,
          1939,
          1940,
          1941,
          1942,
          1943,
          1944,
          1945,
          1946,
          1947,
          1948,
          1949,
          1950,
          1951,
          1952,
          1953,
          1954,
          1955,
          1956,
          1957,
          1958,
          1959,
          1960,
          1961,
          1962,
          1963,
          1964,
          1965,
          1966,
          1967,
          1968,
          1969,
          1970,
          1971,
          1972,
          1973,
          1974,
          1975,
          1976,
          1977,
          1978,
          1979,
          1980,
          1981,
          1982,
          1983,
          1984,
          1985,
          1986,
          1987,
          1988,
          1989,
          1990,
          1991,
          1992,
          1993,
          1994,
          1995,
          1996,
          1997,
          1998,
          1999,
          2000,
          2001,
          2002,
          2003,
          2004,
          2005,
          2006,
          2007,
          2008,
          2009,
          2010,
          2011,
          2012,
          2013,
          2014,
          2015,
          2016,
          2017,
          2018,
          2019
         ],
         "xaxis": "x",
         "y": [
          0,
          0.5999999999999996,
          0.09999999999999964,
          1.7000000000000002,
          0.7000000000000002,
          1.0999999999999996,
          1.3999999999999995,
          0.8999999999999995,
          0.7000000000000002,
          -0.10000000000000053,
          0.20000000000000018,
          0.7000000000000002,
          1.7000000000000002,
          0.7999999999999998,
          1.5,
          1.2999999999999998,
          1.9999999999999991,
          1.5999999999999996,
          1.7999999999999998,
          1.7000000000000002,
          1.5999999999999996,
          1.2000000000000002,
          1.2000000000000002,
          0.5999999999999996,
          0.5999999999999996,
          -0.20000000000000018,
          1.2999999999999998,
          1.2999999999999998,
          1.7000000000000002,
          1.3999999999999995,
          2.2,
          0.2999999999999998,
          0.09999999999999964,
          1.0999999999999996,
          0.39999999999999947,
          1.5999999999999996,
          1.5,
          1,
          0.7000000000000002,
          0.7999999999999998,
          1.0999999999999996,
          0.7000000000000002,
          0.8999999999999995,
          1.5999999999999996,
          1.3999999999999995,
          1.2999999999999998,
          1.7000000000000002,
          0.5999999999999996,
          1.2999999999999998,
          0.5999999999999996,
          1.2999999999999998,
          1.8999999999999995,
          1.9999999999999991,
          0.7999999999999998,
          0.7999999999999998,
          1.0999999999999996,
          1.0999999999999996,
          2.2,
          2.3,
          2.6000000000000005,
          1.2999999999999998,
          2.3999999999999995,
          1.7999999999999998,
          3.2,
          1.8999999999999995,
          0.7000000000000002,
          2.3,
          2.3999999999999995,
          2.2,
          3.2,
          2.2,
          2.8999999999999995,
          2.8999999999999995,
          1.9999999999999991,
          1.8999999999999995,
          2.6000000000000005,
          2.8999999999999995,
          2.3999999999999995,
          2.7,
          1.3999999999999995,
          3.2,
          2.3999999999999995,
          1.7000000000000002,
          3.3999999999999995,
          3.3999999999999995,
          2.8,
          2.8999999999999995,
          3.7,
          3.3
         ],
         "yaxis": "y"
        },
        {
         "hovertemplate": "color=Zürich-Fluntern<br>Years=%{x}<br>Temperature Difference in K=%{y}<extra></extra>",
         "legendgroup": "Zürich-Fluntern",
         "line": {
          "color": "#00cc96",
          "dash": "solid"
         },
         "mode": "lines",
         "name": "Zürich-Fluntern",
         "showlegend": true,
         "type": "scattergl",
         "x": [
          1931,
          1932,
          1933,
          1934,
          1935,
          1936,
          1937,
          1938,
          1939,
          1940,
          1941,
          1942,
          1943,
          1944,
          1945,
          1946,
          1947,
          1948,
          1949,
          1950,
          1951,
          1952,
          1953,
          1954,
          1955,
          1956,
          1957,
          1958,
          1959,
          1960,
          1961,
          1962,
          1963,
          1964,
          1965,
          1966,
          1967,
          1968,
          1969,
          1970,
          1971,
          1972,
          1973,
          1974,
          1975,
          1976,
          1977,
          1978,
          1979,
          1980,
          1981,
          1982,
          1983,
          1984,
          1985,
          1986,
          1987,
          1988,
          1989,
          1990,
          1991,
          1992,
          1993,
          1994,
          1995,
          1996,
          1997,
          1998,
          1999,
          2000,
          2001,
          2002,
          2003,
          2004,
          2005,
          2006,
          2007,
          2008,
          2009,
          2010,
          2011,
          2012,
          2013,
          2014,
          2015,
          2016,
          2017,
          2018,
          2019
         ],
         "xaxis": "x",
         "y": [
          0,
          0.39999999999999947,
          0.1999999999999993,
          1.5,
          0.7999999999999989,
          1,
          1.1999999999999993,
          0.7999999999999989,
          0.5,
          -0.3000000000000007,
          0,
          0.5,
          1.799999999999999,
          0.7999999999999989,
          1.5999999999999996,
          1.1999999999999993,
          2,
          1.5,
          2,
          1.5999999999999996,
          1.1999999999999993,
          1.1999999999999993,
          1.0999999999999996,
          0.5999999999999996,
          0.6999999999999993,
          -0.3000000000000007,
          1.1999999999999993,
          1.1999999999999993,
          1.799999999999999,
          1.1999999999999993,
          2.0999999999999996,
          0.1999999999999993,
          0,
          1.0999999999999996,
          0.1999999999999993,
          1.299999999999999,
          1.299999999999999,
          0.7999999999999989,
          0.5999999999999996,
          0.5,
          0.9000000000000004,
          0.5,
          0.5999999999999996,
          1.5,
          1.1999999999999993,
          1.1999999999999993,
          1.5,
          0.5,
          1.0999999999999996,
          0.5,
          1.1999999999999993,
          1.799999999999999,
          1.9000000000000004,
          0.9000000000000004,
          0.7999999999999989,
          1,
          0.9000000000000004,
          2,
          2,
          2.299999999999999,
          1.5,
          2.0999999999999996,
          1.6999999999999993,
          3.0999999999999996,
          1.799999999999999,
          0.6999999999999993,
          2,
          2.0999999999999996,
          2,
          2.799999999999999,
          2,
          2.799999999999999,
          2.6999999999999993,
          2.0999999999999996,
          1.9000000000000004,
          2.4000000000000004,
          2.6999999999999993,
          2.1999999999999993,
          2.5,
          1.4000000000000004,
          3.0999999999999996,
          2.299999999999999,
          1.6999999999999993,
          3.1999999999999993,
          3.1999999999999993,
          2.5,
          2.799999999999999,
          3.6999999999999993,
          3.0999999999999996
         ],
         "yaxis": "y"
        }
       ],
       "layout": {
        "legend": {
         "title": {
          "text": "color"
         },
         "tracegroupgap": 0
        },
        "template": {
         "data": {
          "bar": [
           {
            "error_x": {
             "color": "#2a3f5f"
            },
            "error_y": {
             "color": "#2a3f5f"
            },
            "marker": {
             "line": {
              "color": "#E5ECF6",
              "width": 0.5
             }
            },
            "type": "bar"
           }
          ],
          "barpolar": [
           {
            "marker": {
             "line": {
              "color": "#E5ECF6",
              "width": 0.5
             }
            },
            "type": "barpolar"
           }
          ],
          "carpet": [
           {
            "aaxis": {
             "endlinecolor": "#2a3f5f",
             "gridcolor": "white",
             "linecolor": "white",
             "minorgridcolor": "white",
             "startlinecolor": "#2a3f5f"
            },
            "baxis": {
             "endlinecolor": "#2a3f5f",
             "gridcolor": "white",
             "linecolor": "white",
             "minorgridcolor": "white",
             "startlinecolor": "#2a3f5f"
            },
            "type": "carpet"
           }
          ],
          "choropleth": [
           {
            "colorbar": {
             "outlinewidth": 0,
             "ticks": ""
            },
            "type": "choropleth"
           }
          ],
          "contour": [
           {
            "colorbar": {
             "outlinewidth": 0,
             "ticks": ""
            },
            "colorscale": [
             [
              0,
              "#0d0887"
             ],
             [
              0.1111111111111111,
              "#46039f"
             ],
             [
              0.2222222222222222,
              "#7201a8"
             ],
             [
              0.3333333333333333,
              "#9c179e"
             ],
             [
              0.4444444444444444,
              "#bd3786"
             ],
             [
              0.5555555555555556,
              "#d8576b"
             ],
             [
              0.6666666666666666,
              "#ed7953"
             ],
             [
              0.7777777777777778,
              "#fb9f3a"
             ],
             [
              0.8888888888888888,
              "#fdca26"
             ],
             [
              1,
              "#f0f921"
             ]
            ],
            "type": "contour"
           }
          ],
          "contourcarpet": [
           {
            "colorbar": {
             "outlinewidth": 0,
             "ticks": ""
            },
            "type": "contourcarpet"
           }
          ],
          "heatmap": [
           {
            "colorbar": {
             "outlinewidth": 0,
             "ticks": ""
            },
            "colorscale": [
             [
              0,
              "#0d0887"
             ],
             [
              0.1111111111111111,
              "#46039f"
             ],
             [
              0.2222222222222222,
              "#7201a8"
             ],
             [
              0.3333333333333333,
              "#9c179e"
             ],
             [
              0.4444444444444444,
              "#bd3786"
             ],
             [
              0.5555555555555556,
              "#d8576b"
             ],
             [
              0.6666666666666666,
              "#ed7953"
             ],
             [
              0.7777777777777778,
              "#fb9f3a"
             ],
             [
              0.8888888888888888,
              "#fdca26"
             ],
             [
              1,
              "#f0f921"
             ]
            ],
            "type": "heatmap"
           }
          ],
          "heatmapgl": [
           {
            "colorbar": {
             "outlinewidth": 0,
             "ticks": ""
            },
            "colorscale": [
             [
              0,
              "#0d0887"
             ],
             [
              0.1111111111111111,
              "#46039f"
             ],
             [
              0.2222222222222222,
              "#7201a8"
             ],
             [
              0.3333333333333333,
              "#9c179e"
             ],
             [
              0.4444444444444444,
              "#bd3786"
             ],
             [
              0.5555555555555556,
              "#d8576b"
             ],
             [
              0.6666666666666666,
              "#ed7953"
             ],
             [
              0.7777777777777778,
              "#fb9f3a"
             ],
             [
              0.8888888888888888,
              "#fdca26"
             ],
             [
              1,
              "#f0f921"
             ]
            ],
            "type": "heatmapgl"
           }
          ],
          "histogram": [
           {
            "marker": {
             "colorbar": {
              "outlinewidth": 0,
              "ticks": ""
             }
            },
            "type": "histogram"
           }
          ],
          "histogram2d": [
           {
            "colorbar": {
             "outlinewidth": 0,
             "ticks": ""
            },
            "colorscale": [
             [
              0,
              "#0d0887"
             ],
             [
              0.1111111111111111,
              "#46039f"
             ],
             [
              0.2222222222222222,
              "#7201a8"
             ],
             [
              0.3333333333333333,
              "#9c179e"
             ],
             [
              0.4444444444444444,
              "#bd3786"
             ],
             [
              0.5555555555555556,
              "#d8576b"
             ],
             [
              0.6666666666666666,
              "#ed7953"
             ],
             [
              0.7777777777777778,
              "#fb9f3a"
             ],
             [
              0.8888888888888888,
              "#fdca26"
             ],
             [
              1,
              "#f0f921"
             ]
            ],
            "type": "histogram2d"
           }
          ],
          "histogram2dcontour": [
           {
            "colorbar": {
             "outlinewidth": 0,
             "ticks": ""
            },
            "colorscale": [
             [
              0,
              "#0d0887"
             ],
             [
              0.1111111111111111,
              "#46039f"
             ],
             [
              0.2222222222222222,
              "#7201a8"
             ],
             [
              0.3333333333333333,
              "#9c179e"
             ],
             [
              0.4444444444444444,
              "#bd3786"
             ],
             [
              0.5555555555555556,
              "#d8576b"
             ],
             [
              0.6666666666666666,
              "#ed7953"
             ],
             [
              0.7777777777777778,
              "#fb9f3a"
             ],
             [
              0.8888888888888888,
              "#fdca26"
             ],
             [
              1,
              "#f0f921"
             ]
            ],
            "type": "histogram2dcontour"
           }
          ],
          "mesh3d": [
           {
            "colorbar": {
             "outlinewidth": 0,
             "ticks": ""
            },
            "type": "mesh3d"
           }
          ],
          "parcoords": [
           {
            "line": {
             "colorbar": {
              "outlinewidth": 0,
              "ticks": ""
             }
            },
            "type": "parcoords"
           }
          ],
          "pie": [
           {
            "automargin": true,
            "type": "pie"
           }
          ],
          "scatter": [
           {
            "marker": {
             "colorbar": {
              "outlinewidth": 0,
              "ticks": ""
             }
            },
            "type": "scatter"
           }
          ],
          "scatter3d": [
           {
            "line": {
             "colorbar": {
              "outlinewidth": 0,
              "ticks": ""
             }
            },
            "marker": {
             "colorbar": {
              "outlinewidth": 0,
              "ticks": ""
             }
            },
            "type": "scatter3d"
           }
          ],
          "scattercarpet": [
           {
            "marker": {
             "colorbar": {
              "outlinewidth": 0,
              "ticks": ""
             }
            },
            "type": "scattercarpet"
           }
          ],
          "scattergeo": [
           {
            "marker": {
             "colorbar": {
              "outlinewidth": 0,
              "ticks": ""
             }
            },
            "type": "scattergeo"
           }
          ],
          "scattergl": [
           {
            "marker": {
             "colorbar": {
              "outlinewidth": 0,
              "ticks": ""
             }
            },
            "type": "scattergl"
           }
          ],
          "scattermapbox": [
           {
            "marker": {
             "colorbar": {
              "outlinewidth": 0,
              "ticks": ""
             }
            },
            "type": "scattermapbox"
           }
          ],
          "scatterpolar": [
           {
            "marker": {
             "colorbar": {
              "outlinewidth": 0,
              "ticks": ""
             }
            },
            "type": "scatterpolar"
           }
          ],
          "scatterpolargl": [
           {
            "marker": {
             "colorbar": {
              "outlinewidth": 0,
              "ticks": ""
             }
            },
            "type": "scatterpolargl"
           }
          ],
          "scatterternary": [
           {
            "marker": {
             "colorbar": {
              "outlinewidth": 0,
              "ticks": ""
             }
            },
            "type": "scatterternary"
           }
          ],
          "surface": [
           {
            "colorbar": {
             "outlinewidth": 0,
             "ticks": ""
            },
            "colorscale": [
             [
              0,
              "#0d0887"
             ],
             [
              0.1111111111111111,
              "#46039f"
             ],
             [
              0.2222222222222222,
              "#7201a8"
             ],
             [
              0.3333333333333333,
              "#9c179e"
             ],
             [
              0.4444444444444444,
              "#bd3786"
             ],
             [
              0.5555555555555556,
              "#d8576b"
             ],
             [
              0.6666666666666666,
              "#ed7953"
             ],
             [
              0.7777777777777778,
              "#fb9f3a"
             ],
             [
              0.8888888888888888,
              "#fdca26"
             ],
             [
              1,
              "#f0f921"
             ]
            ],
            "type": "surface"
           }
          ],
          "table": [
           {
            "cells": {
             "fill": {
              "color": "#EBF0F8"
             },
             "line": {
              "color": "white"
             }
            },
            "header": {
             "fill": {
              "color": "#C8D4E3"
             },
             "line": {
              "color": "white"
             }
            },
            "type": "table"
           }
          ]
         },
         "layout": {
          "annotationdefaults": {
           "arrowcolor": "#2a3f5f",
           "arrowhead": 0,
           "arrowwidth": 1
          },
          "coloraxis": {
           "colorbar": {
            "outlinewidth": 0,
            "ticks": ""
           }
          },
          "colorscale": {
           "diverging": [
            [
             0,
             "#8e0152"
            ],
            [
             0.1,
             "#c51b7d"
            ],
            [
             0.2,
             "#de77ae"
            ],
            [
             0.3,
             "#f1b6da"
            ],
            [
             0.4,
             "#fde0ef"
            ],
            [
             0.5,
             "#f7f7f7"
            ],
            [
             0.6,
             "#e6f5d0"
            ],
            [
             0.7,
             "#b8e186"
            ],
            [
             0.8,
             "#7fbc41"
            ],
            [
             0.9,
             "#4d9221"
            ],
            [
             1,
             "#276419"
            ]
           ],
           "sequential": [
            [
             0,
             "#0d0887"
            ],
            [
             0.1111111111111111,
             "#46039f"
            ],
            [
             0.2222222222222222,
             "#7201a8"
            ],
            [
             0.3333333333333333,
             "#9c179e"
            ],
            [
             0.4444444444444444,
             "#bd3786"
            ],
            [
             0.5555555555555556,
             "#d8576b"
            ],
            [
             0.6666666666666666,
             "#ed7953"
            ],
            [
             0.7777777777777778,
             "#fb9f3a"
            ],
            [
             0.8888888888888888,
             "#fdca26"
            ],
            [
             1,
             "#f0f921"
            ]
           ],
           "sequentialminus": [
            [
             0,
             "#0d0887"
            ],
            [
             0.1111111111111111,
             "#46039f"
            ],
            [
             0.2222222222222222,
             "#7201a8"
            ],
            [
             0.3333333333333333,
             "#9c179e"
            ],
            [
             0.4444444444444444,
             "#bd3786"
            ],
            [
             0.5555555555555556,
             "#d8576b"
            ],
            [
             0.6666666666666666,
             "#ed7953"
            ],
            [
             0.7777777777777778,
             "#fb9f3a"
            ],
            [
             0.8888888888888888,
             "#fdca26"
            ],
            [
             1,
             "#f0f921"
            ]
           ]
          },
          "colorway": [
           "#636efa",
           "#EF553B",
           "#00cc96",
           "#ab63fa",
           "#FFA15A",
           "#19d3f3",
           "#FF6692",
           "#B6E880",
           "#FF97FF",
           "#FECB52"
          ],
          "font": {
           "color": "#2a3f5f"
          },
          "geo": {
           "bgcolor": "white",
           "lakecolor": "white",
           "landcolor": "#E5ECF6",
           "showlakes": true,
           "showland": true,
           "subunitcolor": "white"
          },
          "hoverlabel": {
           "align": "left"
          },
          "hovermode": "closest",
          "mapbox": {
           "style": "light"
          },
          "paper_bgcolor": "white",
          "plot_bgcolor": "#E5ECF6",
          "polar": {
           "angularaxis": {
            "gridcolor": "white",
            "linecolor": "white",
            "ticks": ""
           },
           "bgcolor": "#E5ECF6",
           "radialaxis": {
            "gridcolor": "white",
            "linecolor": "white",
            "ticks": ""
           }
          },
          "scene": {
           "xaxis": {
            "backgroundcolor": "#E5ECF6",
            "gridcolor": "white",
            "gridwidth": 2,
            "linecolor": "white",
            "showbackground": true,
            "ticks": "",
            "zerolinecolor": "white"
           },
           "yaxis": {
            "backgroundcolor": "#E5ECF6",
            "gridcolor": "white",
            "gridwidth": 2,
            "linecolor": "white",
            "showbackground": true,
            "ticks": "",
            "zerolinecolor": "white"
           },
           "zaxis": {
            "backgroundcolor": "#E5ECF6",
            "gridcolor": "white",
            "gridwidth": 2,
            "linecolor": "white",
            "showbackground": true,
            "ticks": "",
            "zerolinecolor": "white"
           }
          },
          "shapedefaults": {
           "line": {
            "color": "#2a3f5f"
           }
          },
          "ternary": {
           "aaxis": {
            "gridcolor": "white",
            "linecolor": "white",
            "ticks": ""
           },
           "baxis": {
            "gridcolor": "white",
            "linecolor": "white",
            "ticks": ""
           },
           "bgcolor": "#E5ECF6",
           "caxis": {
            "gridcolor": "white",
            "linecolor": "white",
            "ticks": ""
           }
          },
          "title": {
           "x": 0.05
          },
          "xaxis": {
           "automargin": true,
           "gridcolor": "white",
           "linecolor": "white",
           "ticks": "",
           "title": {
            "standoff": 15
           },
           "zerolinecolor": "white",
           "zerolinewidth": 2
          },
          "yaxis": {
           "automargin": true,
           "gridcolor": "white",
           "linecolor": "white",
           "ticks": "",
           "title": {
            "standoff": 15
           },
           "zerolinecolor": "white",
           "zerolinewidth": 2
          }
         }
        },
        "title": {
         "text": "Temperature Change from initial Temperature in C°"
        },
        "xaxis": {
         "anchor": "y",
         "domain": [
          0,
          1
         ],
         "title": {
          "text": "Years"
         }
        },
        "yaxis": {
         "anchor": "x",
         "domain": [
          0,
          1
         ],
         "title": {
          "text": "Temperature Difference in K"
         }
        }
       }
      },
      "text/html": [
       "<div>\n",
       "        \n",
       "        \n",
       "            <div id=\"aef90096-65e5-47ee-942d-156baa9772ec\" class=\"plotly-graph-div\" style=\"height:525px; width:100%;\"></div>\n",
       "            <script type=\"text/javascript\">\n",
       "                require([\"plotly\"], function(Plotly) {\n",
       "                    window.PLOTLYENV=window.PLOTLYENV || {};\n",
       "                    \n",
       "                if (document.getElementById(\"aef90096-65e5-47ee-942d-156baa9772ec\")) {\n",
       "                    Plotly.newPlot(\n",
       "                        'aef90096-65e5-47ee-942d-156baa9772ec',\n",
       "                        [{\"hovertemplate\": \"color=Basel-Binningen<br>Years=%{x}<br>Temperature Difference in K=%{y}<extra></extra>\", \"legendgroup\": \"Basel-Binningen\", \"line\": {\"color\": \"#636efa\", \"dash\": \"solid\"}, \"mode\": \"lines\", \"name\": \"Basel-Binningen\", \"showlegend\": true, \"type\": \"scattergl\", \"x\": [1931, 1932, 1933, 1934, 1935, 1936, 1937, 1938, 1939, 1940, 1941, 1942, 1943, 1944, 1945, 1946, 1947, 1948, 1949, 1950, 1951, 1952, 1953, 1954, 1955, 1956, 1957, 1958, 1959, 1960, 1961, 1962, 1963, 1964, 1965, 1966, 1967, 1968, 1969, 1970, 1971, 1972, 1973, 1974, 1975, 1976, 1977, 1978, 1979, 1980, 1981, 1982, 1983, 1984, 1985, 1986, 1987, 1988, 1989, 1990, 1991, 1992, 1993, 1994, 1995, 1996, 1997, 1998, 1999, 2000, 2001, 2002, 2003, 2004, 2005, 2006, 2007, 2008, 2009, 2010, 2011, 2012, 2013, 2014, 2015, 2016, 2017, 2018, 2019], \"xaxis\": \"x\", \"y\": [0.0, 0.40000000000000036, 0.3000000000000007, 1.4000000000000004, 0.9000000000000004, 1.0, 1.3000000000000007, 0.8000000000000007, 0.5999999999999996, -0.3000000000000007, -0.09999999999999964, 0.3000000000000007, 1.6999999999999993, 0.8000000000000007, 1.5, 1.0, 2.0, 1.4000000000000004, 1.9000000000000004, 1.5, 1.0999999999999996, 1.1999999999999993, 1.0999999999999996, 0.5, 0.5999999999999996, -0.5999999999999996, 1.0, 1.0999999999999996, 1.6999999999999993, 1.0999999999999996, 2.0, 0.09999999999999964, 0.0, 1.3000000000000007, 0.6999999999999993, 1.4000000000000004, 1.3000000000000007, 0.8000000000000007, 0.5, 0.6999999999999993, 0.8000000000000007, 0.40000000000000036, 0.6999999999999993, 1.5, 1.1999999999999993, 1.5, 1.4000000000000004, 0.5, 1.0, 0.40000000000000036, 1.0999999999999996, 1.8000000000000007, 1.8000000000000007, 1.0, 0.5, 0.9000000000000004, 1.0, 2.0, 2.0999999999999996, 2.4000000000000004, 1.5, 2.1999999999999993, 1.6999999999999993, 3.0, 2.0, 0.9000000000000004, 2.0999999999999996, 2.0999999999999996, 2.1999999999999993, 2.9000000000000004, 2.0999999999999996, 2.6999999999999993, 2.9000000000000004, 2.0999999999999996, 1.9000000000000004, 2.4000000000000004, 2.8000000000000007, 2.3000000000000007, 2.5999999999999996, 1.4000000000000004, 3.0999999999999996, 2.4000000000000004, 1.8000000000000007, 3.4000000000000004, 3.1999999999999993, 2.4000000000000004, 2.9000000000000004, 3.6999999999999993, 3.0999999999999996], \"yaxis\": \"y\"}, {\"hovertemplate\": \"color=Bern-Zollikofen <br>Years=%{x}<br>Temperature Difference in K=%{y}<extra></extra>\", \"legendgroup\": \"Bern-Zollikofen \", \"line\": {\"color\": \"#EF553B\", \"dash\": \"solid\"}, \"mode\": \"lines\", \"name\": \"Bern-Zollikofen \", \"showlegend\": true, \"type\": \"scattergl\", \"x\": [1931, 1932, 1933, 1934, 1935, 1936, 1937, 1938, 1939, 1940, 1941, 1942, 1943, 1944, 1945, 1946, 1947, 1948, 1949, 1950, 1951, 1952, 1953, 1954, 1955, 1956, 1957, 1958, 1959, 1960, 1961, 1962, 1963, 1964, 1965, 1966, 1967, 1968, 1969, 1970, 1971, 1972, 1973, 1974, 1975, 1976, 1977, 1978, 1979, 1980, 1981, 1982, 1983, 1984, 1985, 1986, 1987, 1988, 1989, 1990, 1991, 1992, 1993, 1994, 1995, 1996, 1997, 1998, 1999, 2000, 2001, 2002, 2003, 2004, 2005, 2006, 2007, 2008, 2009, 2010, 2011, 2012, 2013, 2014, 2015, 2016, 2017, 2018, 2019], \"xaxis\": \"x\", \"y\": [0.0, 0.20000000000000018, 0.09999999999999964, 1.2000000000000002, 0.5999999999999996, 0.7999999999999998, 0.9999999999999991, 0.5999999999999996, 0.20000000000000018, -0.40000000000000036, -0.2999999999999998, 0.0, 1.2999999999999998, 0.20000000000000018, 0.9999999999999991, 0.7000000000000002, 1.9999999999999991, 1.2999999999999998, 1.7999999999999998, 1.3999999999999995, 0.8999999999999995, 1.1000000000000005, 0.7999999999999998, 0.5, 0.39999999999999947, -0.7000000000000002, 0.7000000000000002, 0.7000000000000002, 1.2999999999999998, 0.5999999999999996, 1.6000000000000005, -0.10000000000000053, -0.5, 0.7999999999999998, 0.0, 1.1000000000000005, 0.9999999999999991, 0.5, 0.2999999999999998, 0.2999999999999998, 0.39999999999999947, 0.20000000000000018, 0.2999999999999998, 1.1000000000000005, 0.7999999999999998, 0.9999999999999991, 0.9999999999999991, 0.09999999999999964, 0.7000000000000002, 0.09999999999999964, 0.7999999999999998, 1.4999999999999991, 1.2999999999999998, 0.5999999999999996, 0.39999999999999947, 0.7999999999999998, 0.7000000000000002, 1.6000000000000005, 1.6000000000000005, 1.8999999999999995, 0.9999999999999991, 1.6000000000000005, 1.3999999999999995, 2.8, 1.6000000000000005, 0.7000000000000002, 1.7999999999999998, 1.7000000000000002, 1.7000000000000002, 2.3999999999999995, 1.8999999999999995, 2.2, 2.3, 1.6000000000000005, 1.2999999999999998, 1.9999999999999991, 2.3, 1.7999999999999998, 2.2, 1.3999999999999995, 2.8999999999999995, 1.9999999999999991, 1.4999999999999991, 2.8, 2.7, 2.2, 2.3999999999999995, 3.3, 2.8], \"yaxis\": \"y\"}, {\"hovertemplate\": \"color=Davos<br>Years=%{x}<br>Temperature Difference in K=%{y}<extra></extra>\", \"legendgroup\": \"Davos\", \"line\": {\"color\": \"#00cc96\", \"dash\": \"solid\"}, \"mode\": \"lines\", \"name\": \"Davos\", \"showlegend\": true, \"type\": \"scattergl\", \"x\": [1931, 1932, 1933, 1934, 1935, 1936, 1937, 1938, 1939, 1940, 1941, 1942, 1943, 1944, 1945, 1946, 1947, 1948, 1949, 1950, 1951, 1952, 1953, 1954, 1955, 1956, 1957, 1958, 1959, 1960, 1961, 1962, 1963, 1964, 1965, 1966, 1967, 1968, 1969, 1970, 1971, 1972, 1973, 1974, 1975, 1976, 1977, 1978, 1979, 1980, 1981, 1982, 1983, 1984, 1985, 1986, 1987, 1988, 1989, 1990, 1991, 1992, 1993, 1994, 1995, 1996, 1997, 1998, 1999, 2000, 2001, 2002, 2003, 2004, 2005, 2006, 2007, 2008, 2009, 2010, 2011, 2012, 2013, 2014, 2015, 2016, 2017, 2018, 2019], \"xaxis\": \"x\", \"y\": [0.0, 0.5999999999999999, 0.10000000000000009, 1.5999999999999999, 0.10000000000000009, 0.7, 0.8, 0.5999999999999999, 0.5000000000000002, -0.30000000000000004, 0.0, 0.7, 1.4000000000000001, 0.0, 0.8, 1.3, 1.9000000000000001, 1.5000000000000002, 1.5000000000000002, 1.0999999999999999, 1.2, 0.5000000000000002, 1.0000000000000002, 0.19999999999999996, 0.30000000000000004, -0.7999999999999999, 1.3, 0.9000000000000001, 1.5000000000000002, 1.0999999999999999, 2.0, -0.09999999999999987, 0.19999999999999996, 1.4000000000000001, 0.10000000000000009, 0.9000000000000001, 1.0000000000000002, 0.9000000000000001, 0.9000000000000001, 0.5999999999999999, 1.4000000000000001, 1.2, 0.9000000000000001, 1.0000000000000002, 1.4000000000000001, 1.0000000000000002, 1.5000000000000002, 0.9000000000000001, 0.9000000000000001, 0.40000000000000013, 0.9000000000000001, 1.5999999999999999, 1.7, 0.5999999999999999, 0.9000000000000001, 1.4000000000000001, 1.3, 1.8, 2.5, 2.0999999999999996, 1.5000000000000002, 2.0999999999999996, 1.7, 2.8999999999999995, 1.5000000000000002, 1.4000000000000001, 2.3999999999999995, 1.8, 1.8, 2.3999999999999995, 1.8, 2.5999999999999996, 2.5999999999999996, 1.8, 1.3, 2.5, 2.3999999999999995, 2.0999999999999996, 2.0999999999999996, 1.0000000000000002, 3.0, 2.2, 1.9000000000000001, 3.0999999999999996, 3.0999999999999996, 2.7, 2.5, 3.3, 2.8], \"yaxis\": \"y\"}, {\"hovertemplate\": \"color=Genf-Cointrin<br>Years=%{x}<br>Temperature Difference in K=%{y}<extra></extra>\", \"legendgroup\": \"Genf-Cointrin\", \"line\": {\"color\": \"#ab63fa\", \"dash\": \"solid\"}, \"mode\": \"lines\", \"name\": \"Genf-Cointrin\", \"showlegend\": true, \"type\": \"scattergl\", \"x\": [1931, 1932, 1933, 1934, 1935, 1936, 1937, 1938, 1939, 1940, 1941, 1942, 1943, 1944, 1945, 1946, 1947, 1948, 1949, 1950, 1951, 1952, 1953, 1954, 1955, 1956, 1957, 1958, 1959, 1960, 1961, 1962, 1963, 1964, 1965, 1966, 1967, 1968, 1969, 1970, 1971, 1972, 1973, 1974, 1975, 1976, 1977, 1978, 1979, 1980, 1981, 1982, 1983, 1984, 1985, 1986, 1987, 1988, 1989, 1990, 1991, 1992, 1993, 1994, 1995, 1996, 1997, 1998, 1999, 2000, 2001, 2002, 2003, 2004, 2005, 2006, 2007, 2008, 2009, 2010, 2011, 2012, 2013, 2014, 2015, 2016, 2017, 2018, 2019], \"xaxis\": \"x\", \"y\": [0, 0.1999999999999993, 0, 1, 0.5999999999999996, 0.5999999999999996, 1, 0.40000000000000036, 0.09999999999999964, -0.3000000000000007, -0.1999999999999993, 0.3000000000000007, 1.4000000000000004, 0.5999999999999996, 1.3000000000000007, 1, 1.9000000000000004, 1.0999999999999996, 1.5999999999999996, 1.4000000000000004, 0.5999999999999996, 0.9000000000000004, 0.6999999999999993, 0.40000000000000036, 0.6999999999999993, -0.5, 0.5, 0.5999999999999996, 1.1999999999999993, 0.6999999999999993, 1.5999999999999996, 0.09999999999999964, -0.5, 0.8000000000000007, -0.1999999999999993, 1, 0.6999999999999993, 0.40000000000000036, 0.09999999999999964, 0.3000000000000007, 0.3000000000000007, 0.1999999999999993, 0.09999999999999964, 0.8000000000000007, 0.6999999999999993, 0.8000000000000007, 0.9000000000000004, 0, 0.6999999999999993, -0.09999999999999964, 0.5999999999999996, 1.4000000000000004, 1.3000000000000007, 0.5, 0.1999999999999993, 0.8000000000000007, 0.9000000000000004, 1.5, 1.6999999999999993, 1.8000000000000007, 1.1999999999999993, 1.5999999999999996, 1.0999999999999996, 2.5999999999999996, 1.6999999999999993, 0.8000000000000007, 1.6999999999999993, 1.5999999999999996, 1.5, 2.1999999999999993, 1.9000000000000004, 2.1999999999999993, 2.4000000000000004, 1.6999999999999993, 1.3000000000000007, 2.1999999999999993, 2.1999999999999993, 1.8000000000000007, 2.1999999999999993, 1.0999999999999996, 2.4000000000000004, 1.9000000000000004, 1.1999999999999993, 2.6999999999999993, 2.5999999999999996, 2.0999999999999996, 2.3000000000000007, 3.3000000000000007, 2.8000000000000007], \"yaxis\": \"y\"}, {\"hovertemplate\": \"color=Locarno-Monti<br>Years=%{x}<br>Temperature Difference in K=%{y}<extra></extra>\", \"legendgroup\": \"Locarno-Monti\", \"line\": {\"color\": \"#FFA15A\", \"dash\": \"solid\"}, \"mode\": \"lines\", \"name\": \"Locarno-Monti\", \"showlegend\": true, \"type\": \"scattergl\", \"x\": [1931, 1932, 1933, 1934, 1935, 1936, 1937, 1938, 1939, 1940, 1941, 1942, 1943, 1944, 1945, 1946, 1947, 1948, 1949, 1950, 1951, 1952, 1953, 1954, 1955, 1956, 1957, 1958, 1959, 1960, 1961, 1962, 1963, 1964, 1965, 1966, 1967, 1968, 1969, 1970, 1971, 1972, 1973, 1974, 1975, 1976, 1977, 1978, 1979, 1980, 1981, 1982, 1983, 1984, 1985, 1986, 1987, 1988, 1989, 1990, 1991, 1992, 1993, 1994, 1995, 1996, 1997, 1998, 1999, 2000, 2001, 2002, 2003, 2004, 2005, 2006, 2007, 2008, 2009, 2010, 2011, 2012, 2013, 2014, 2015, 2016, 2017, 2018, 2019], \"xaxis\": \"x\", \"y\": [0, 0, 0.1999999999999993, 0.5, 0.1999999999999993, 0.09999999999999964, 0.3000000000000007, 0.40000000000000036, -0.1999999999999993, -0.40000000000000036, -0.5, 0.40000000000000036, 1.5, 0.3000000000000007, 1.3000000000000007, 0.5, 0.9000000000000004, 0.9000000000000004, 1.4000000000000004, 0.9000000000000004, 0.1999999999999993, 0.3000000000000007, 0.9000000000000004, 0, 0.40000000000000036, -0.40000000000000036, 0.5, 0.5999999999999996, 1, -0.09999999999999964, 1.1999999999999993, 0.1999999999999993, -0.40000000000000036, 0.8000000000000007, 0, 0.40000000000000036, 0.5, 0, 0, 0, 0.40000000000000036, -0.1999999999999993, 0.5, 0.5999999999999996, 0.5, 0.8000000000000007, 0, -0.09999999999999964, 0.3000000000000007, 0.09999999999999964, 0.5999999999999996, 0.8000000000000007, 0.8000000000000007, 0.09999999999999964, 0.40000000000000036, 0.8000000000000007, 0.5, 1.0999999999999996, 1.4000000000000004, 1.6999999999999993, 1.3000000000000007, 1.5, 1.3000000000000007, 2, 1.1999999999999993, 0.9000000000000004, 1.9000000000000004, 1.5, 1.4000000000000004, 1.8000000000000007, 1.5, 1.6999999999999993, 2.4000000000000004, 1.5, 1.4000000000000004, 2, 2.5, 1.5, 2, 0.9000000000000004, 2.4000000000000004, 2.0999999999999996, 1.6999999999999993, 2.3000000000000007, 2.8000000000000007, 2.1999999999999993, 2.4000000000000004, 2.8000000000000007, 2.8000000000000007], \"yaxis\": \"y\"}, {\"hovertemplate\": \"color=Lugano<br>Years=%{x}<br>Temperature Difference in K=%{y}<extra></extra>\", \"legendgroup\": \"Lugano\", \"line\": {\"color\": \"#19d3f3\", \"dash\": \"solid\"}, \"mode\": \"lines\", \"name\": \"Lugano\", \"showlegend\": true, \"type\": \"scattergl\", \"x\": [1931, 1932, 1933, 1934, 1935, 1936, 1937, 1938, 1939, 1940, 1941, 1942, 1943, 1944, 1945, 1946, 1947, 1948, 1949, 1950, 1951, 1952, 1953, 1954, 1955, 1956, 1957, 1958, 1959, 1960, 1961, 1962, 1963, 1964, 1965, 1966, 1967, 1968, 1969, 1970, 1971, 1972, 1973, 1974, 1975, 1976, 1977, 1978, 1979, 1980, 1981, 1982, 1983, 1984, 1985, 1986, 1987, 1988, 1989, 1990, 1991, 1992, 1993, 1994, 1995, 1996, 1997, 1998, 1999, 2000, 2001, 2002, 2003, 2004, 2005, 2006, 2007, 2008, 2009, 2010, 2011, 2012, 2013, 2014, 2015, 2016, 2017, 2018, 2019], \"xaxis\": \"x\", \"y\": [0.0, 0.09999999999999964, 0.1999999999999993, 0.7999999999999989, 0.5, 0.40000000000000036, 0.6999999999999993, 0.5999999999999996, 0.1999999999999993, 0.09999999999999964, 0.09999999999999964, 1.0, 1.799999999999999, 0.5999999999999996, 1.5999999999999996, 0.7999999999999989, 1.299999999999999, 1.5, 1.799999999999999, 1.299999999999999, 0.5999999999999996, 0.6999999999999993, 1.0999999999999996, 0.29999999999999893, 0.7999999999999989, -0.09999999999999964, 0.6999999999999993, 1.0999999999999996, 1.1999999999999993, 0.1999999999999993, 1.299999999999999, 0.5, 0.0, 0.9000000000000004, 0.09999999999999964, 0.6999999999999993, 1.0, 0.40000000000000036, 0.1999999999999993, 0.40000000000000036, 0.9000000000000004, 0.40000000000000036, 0.7999999999999989, 1.0, 0.9000000000000004, 1.0, 0.40000000000000036, 0.1999999999999993, 0.5, 0.1999999999999993, 0.6999999999999993, 1.1999999999999993, 1.0, 0.40000000000000036, 0.5999999999999996, 0.9000000000000004, 0.6999999999999993, 1.4000000000000004, 1.4000000000000004, 1.6999999999999993, 1.4000000000000004, 1.5, 1.1999999999999993, 2.1999999999999993, 1.5999999999999996, 1.1999999999999993, 2.0999999999999996, 1.5, 1.6999999999999993, 2.0999999999999996, 1.799999999999999, 2.0, 2.4000000000000004, 1.6999999999999993, 1.6999999999999993, 2.1999999999999993, 2.5999999999999996, 1.799999999999999, 2.299999999999999, 1.1999999999999993, 2.5999999999999996, 2.299999999999999, 1.9000000000000004, 2.5999999999999996, 2.9000000000000004, 2.4000000000000004, 2.5, 3.0, 3.0], \"yaxis\": \"y\"}, {\"hovertemplate\": \"color=Luzern<br>Years=%{x}<br>Temperature Difference in K=%{y}<extra></extra>\", \"legendgroup\": \"Luzern\", \"line\": {\"color\": \"#FF6692\", \"dash\": \"solid\"}, \"mode\": \"lines\", \"name\": \"Luzern\", \"showlegend\": true, \"type\": \"scattergl\", \"x\": [1931, 1932, 1933, 1934, 1935, 1936, 1937, 1938, 1939, 1940, 1941, 1942, 1943, 1944, 1945, 1946, 1947, 1948, 1949, 1950, 1951, 1952, 1953, 1954, 1955, 1956, 1957, 1958, 1959, 1960, 1961, 1962, 1963, 1964, 1965, 1966, 1967, 1968, 1969, 1970, 1971, 1972, 1973, 1974, 1975, 1976, 1977, 1978, 1979, 1980, 1981, 1982, 1983, 1984, 1985, 1986, 1987, 1988, 1989, 1990, 1991, 1992, 1993, 1994, 1995, 1996, 1997, 1998, 1999, 2000, 2001, 2002, 2003, 2004, 2005, 2006, 2007, 2008, 2009, 2010, 2011, 2012, 2013, 2014, 2015, 2016, 2017, 2018, 2019], \"xaxis\": \"x\", \"y\": [0.0, 0.2999999999999998, 0.10000000000000053, 1.2999999999999998, 0.5000000000000009, 0.8999999999999995, 1.0000000000000009, 0.6000000000000005, 0.39999999999999947, -0.39999999999999947, -0.09999999999999964, 0.2999999999999998, 1.6000000000000005, 0.5000000000000009, 1.2000000000000002, 1.1000000000000005, 1.8999999999999995, 1.5000000000000009, 1.7999999999999998, 1.3999999999999995, 1.0000000000000009, 1.1000000000000005, 1.0000000000000009, 0.5000000000000009, 0.7000000000000002, -0.39999999999999947, 0.8999999999999995, 1.0000000000000009, 1.3999999999999995, 0.8999999999999995, 1.8999999999999995, 0.10000000000000053, -0.2999999999999998, 1.0000000000000009, 0.10000000000000053, 1.2000000000000002, 1.2000000000000002, 0.7999999999999998, 0.39999999999999947, 0.2999999999999998, 0.5000000000000009, 0.20000000000000018, 0.6000000000000005, 1.2999999999999998, 1.0000000000000009, 1.2000000000000002, 1.2000000000000002, 0.20000000000000018, 0.8999999999999995, 0.5000000000000009, 1.0000000000000009, 1.5000000000000009, 1.7000000000000002, 0.7000000000000002, 0.5000000000000009, 0.8999999999999995, 0.8999999999999995, 2.1000000000000005, 2.000000000000001, 2.2, 1.2999999999999998, 2.000000000000001, 1.7000000000000002, 3.1000000000000005, 1.8999999999999995, 0.8999999999999995, 2.000000000000001, 2.000000000000001, 1.7999999999999998, 2.6000000000000005, 2.1000000000000005, 2.6000000000000005, 2.6000000000000005, 2.000000000000001, 1.7000000000000002, 2.3, 2.6000000000000005, 2.1000000000000005, 2.3999999999999995, 1.3999999999999995, 2.8999999999999995, 2.3, 1.7000000000000002, 3.1000000000000005, 3.000000000000001, 2.500000000000001, 2.6000000000000005, 3.6000000000000005, 3.1000000000000005], \"yaxis\": \"y\"}, {\"hovertemplate\": \"color=Neuenburg<br>Years=%{x}<br>Temperature Difference in K=%{y}<extra></extra>\", \"legendgroup\": \"Neuenburg\", \"line\": {\"color\": \"#B6E880\", \"dash\": \"solid\"}, \"mode\": \"lines\", \"name\": \"Neuenburg\", \"showlegend\": true, \"type\": \"scattergl\", \"x\": [1931, 1932, 1933, 1934, 1935, 1936, 1937, 1938, 1939, 1940, 1941, 1942, 1943, 1944, 1945, 1946, 1947, 1948, 1949, 1950, 1951, 1952, 1953, 1954, 1955, 1956, 1957, 1958, 1959, 1960, 1961, 1962, 1963, 1964, 1965, 1966, 1967, 1968, 1969, 1970, 1971, 1972, 1973, 1974, 1975, 1976, 1977, 1978, 1979, 1980, 1981, 1982, 1983, 1984, 1985, 1986, 1987, 1988, 1989, 1990, 1991, 1992, 1993, 1994, 1995, 1996, 1997, 1998, 1999, 2000, 2001, 2002, 2003, 2004, 2005, 2006, 2007, 2008, 2009, 2010, 2011, 2012, 2013, 2014, 2015, 2016, 2017, 2018, 2019], \"xaxis\": \"x\", \"y\": [0.0, 0.1999999999999993, 0.09999999999999964, 1.4000000000000004, 0.5, 0.7999999999999989, 0.9000000000000004, 0.5999999999999996, 0.09999999999999964, -0.3000000000000007, -0.09999999999999964, 0.29999999999999893, 1.6999999999999993, 0.6999999999999993, 1.5, 1.0, 2.0999999999999996, 1.299999999999999, 1.799999999999999, 1.299999999999999, 0.9000000000000004, 1.1999999999999993, 0.7999999999999989, 0.5, 0.5, -0.6000000000000005, 0.7999999999999989, 0.9000000000000004, 1.6999999999999993, 0.9000000000000004, 1.9000000000000004, 0.29999999999999893, -0.3000000000000007, 1.0999999999999996, 0.09999999999999964, 1.299999999999999, 1.299999999999999, 0.9000000000000004, 0.5, 0.5, 0.7999999999999989, 0.40000000000000036, 0.6999999999999993, 1.4000000000000004, 1.1999999999999993, 1.4000000000000004, 1.1999999999999993, 0.40000000000000036, 1.0999999999999996, 0.40000000000000036, 1.0999999999999996, 1.6999999999999993, 1.5999999999999996, 0.7999999999999989, 0.7999999999999989, 1.0, 1.0, 1.6999999999999993, 1.9000000000000004, 2.0999999999999996, 1.299999999999999, 2.0, 1.5999999999999996, 3.0, 1.9000000000000004, 1.0, 2.0, 2.0, 1.9000000000000004, 2.5999999999999996, 2.0, 2.5, 2.6999999999999993, 1.9000000000000004, 1.5999999999999996, 2.299999999999999, 2.4000000000000004, 1.9000000000000004, 2.4000000000000004, 1.4000000000000004, 2.9000000000000004, 2.1999999999999993, 1.5999999999999996, 2.9000000000000004, 3.0999999999999996, 2.4000000000000004, 2.799999999999999, 3.4000000000000004, 2.9000000000000004], \"yaxis\": \"y\"}, {\"hovertemplate\": \"color=S\\u00e4ntis<br>Years=%{x}<br>Temperature Difference in K=%{y}<extra></extra>\", \"legendgroup\": \"S\\u00e4ntis\", \"line\": {\"color\": \"#FF97FF\", \"dash\": \"solid\"}, \"mode\": \"lines\", \"name\": \"S\\u00e4ntis\", \"showlegend\": true, \"type\": \"scattergl\", \"x\": [1931, 1932, 1933, 1934, 1935, 1936, 1937, 1938, 1939, 1940, 1941, 1942, 1943, 1944, 1945, 1946, 1947, 1948, 1949, 1950, 1951, 1952, 1953, 1954, 1955, 1956, 1957, 1958, 1959, 1960, 1961, 1962, 1963, 1964, 1965, 1966, 1967, 1968, 1969, 1970, 1971, 1972, 1973, 1974, 1975, 1976, 1977, 1978, 1979, 1980, 1981, 1982, 1983, 1984, 1985, 1986, 1987, 1988, 1989, 1990, 1991, 1992, 1993, 1994, 1995, 1996, 1997, 1998, 1999, 2000, 2001, 2002, 2003, 2004, 2005, 2006, 2007, 2008, 2009, 2010, 2011, 2012, 2013, 2014, 2015, 2016, 2017, 2018, 2019], \"xaxis\": \"x\", \"y\": [0.0, 1.0999999999999999, 0.0, 1.7999999999999998, 0.09999999999999964, 0.5999999999999996, 0.5, 0.7999999999999998, 0.3999999999999999, -0.30000000000000027, -0.20000000000000018, 0.8999999999999999, 1.6999999999999997, 0.0, 1.1999999999999997, 1.2999999999999998, 1.9, 1.9, 1.6999999999999997, 1.4999999999999998, 1.2999999999999998, 0.2999999999999998, 1.7999999999999998, 0.19999999999999973, 0.3999999999999999, -0.5, 1.4, 1.1999999999999997, 1.9999999999999998, 0.5999999999999996, 1.9, -0.10000000000000009, 0.5, 1.5999999999999999, -0.30000000000000027, 0.5999999999999996, 0.9999999999999998, 0.6999999999999997, 0.5, 0.09999999999999964, 1.1999999999999997, 0.6999999999999997, 0.5, 0.19999999999999973, 1.4, 0.7999999999999998, 1.0999999999999999, 0.6999999999999997, 0.5999999999999996, 0.0, 0.2999999999999998, 1.5999999999999999, 1.9999999999999998, 0.19999999999999973, 0.6999999999999997, 0.9999999999999998, 0.9999999999999998, 1.4, 2.5999999999999996, 1.9, 1.4, 2.4, 1.4999999999999998, 2.4, 1.1999999999999997, 1.0999999999999999, 2.4, 1.5999999999999999, 1.6999999999999997, 2.1999999999999997, 1.6999999999999997, 2.4, 2.6999999999999997, 1.4999999999999998, 0.9999999999999998, 2.5, 2.3, 1.9, 1.7999999999999998, 0.6999999999999997, 3.0999999999999996, 2.0999999999999996, 1.6999999999999997, 2.6999999999999997, 3.0, 2.1999999999999997, 2.1999999999999997, 3.0999999999999996, 2.6999999999999997], \"yaxis\": \"y\"}, {\"hovertemplate\": \"color=Samedan<br>Years=%{x}<br>Temperature Difference in K=%{y}<extra></extra>\", \"legendgroup\": \"Samedan\", \"line\": {\"color\": \"#FECB52\", \"dash\": \"solid\"}, \"mode\": \"lines\", \"name\": \"Samedan\", \"showlegend\": true, \"type\": \"scattergl\", \"x\": [1931, 1932, 1933, 1934, 1935, 1936, 1937, 1938, 1939, 1940, 1941, 1942, 1943, 1944, 1945, 1946, 1947, 1948, 1949, 1950, 1951, 1952, 1953, 1954, 1955, 1956, 1957, 1958, 1959, 1960, 1961, 1962, 1963, 1964, 1965, 1966, 1967, 1968, 1969, 1970, 1971, 1972, 1973, 1974, 1975, 1976, 1977, 1978, 1979, 1980, 1981, 1982, 1983, 1984, 1985, 1986, 1987, 1988, 1989, 1990, 1991, 1992, 1993, 1994, 1995, 1996, 1997, 1998, 1999, 2000, 2001, 2002, 2003, 2004, 2005, 2006, 2007, 2008, 2009, 2010, 2011, 2012, 2013, 2014, 2015, 2016, 2017, 2018, 2019], \"xaxis\": \"x\", \"y\": [0.0, 0.4, 0.0, 0.9, 0.09999999999999998, 0.6, 0.7999999999999999, 0.5000000000000001, 0.30000000000000004, -0.39999999999999997, -0.19999999999999996, 1.1, 1.4, 0.30000000000000004, 1.0, 0.9, 1.6999999999999997, 1.4, 1.2999999999999998, 0.9, 1.1, 0.7999999999999999, 1.1, 0.7999999999999999, 0.4, -0.7, 0.7000000000000001, 0.5000000000000001, 0.7999999999999999, 0.20000000000000007, 1.2000000000000002, -0.19999999999999996, -0.3, 1.2000000000000002, -0.19999999999999996, 0.7999999999999999, 0.30000000000000004, 0.20000000000000007, 0.30000000000000004, 0.09999999999999998, 0.5000000000000001, 0.6, 0.6, 0.7999999999999999, 0.5000000000000001, 0.6, 0.7999999999999999, 0.4, 0.4, -0.09999999999999998, 0.7000000000000001, 1.2999999999999998, 1.1, 0.09999999999999998, 0.5000000000000001, 0.7999999999999999, 1.0, 1.9, 1.6, 1.4, 0.6, 1.0, 1.2000000000000002, 2.5, 1.2999999999999998, 0.7999999999999999, 1.2999999999999998, 1.2999999999999998, 1.2999999999999998, 1.7999999999999998, 1.6, 2.3, 1.7999999999999998, 1.6, 0.9, 1.9, 2.1999999999999997, 1.7999999999999998, 1.6, 0.9, 2.3, 1.7999999999999998, 1.5, 2.6, 2.8, 2.1999999999999997, 2.0, 2.5, 2.1999999999999997], \"yaxis\": \"y\"}, {\"hovertemplate\": \"color=Sitten<br>Years=%{x}<br>Temperature Difference in K=%{y}<extra></extra>\", \"legendgroup\": \"Sitten\", \"line\": {\"color\": \"#636efa\", \"dash\": \"solid\"}, \"mode\": \"lines\", \"name\": \"Sitten\", \"showlegend\": true, \"type\": \"scattergl\", \"x\": [1931, 1932, 1933, 1934, 1935, 1936, 1937, 1938, 1939, 1940, 1941, 1942, 1943, 1944, 1945, 1946, 1947, 1948, 1949, 1950, 1951, 1952, 1953, 1954, 1955, 1956, 1957, 1958, 1959, 1960, 1961, 1962, 1963, 1964, 1965, 1966, 1967, 1968, 1969, 1970, 1971, 1972, 1973, 1974, 1975, 1976, 1977, 1978, 1979, 1980, 1981, 1982, 1983, 1984, 1985, 1986, 1987, 1988, 1989, 1990, 1991, 1992, 1993, 1994, 1995, 1996, 1997, 1998, 1999, 2000, 2001, 2002, 2003, 2004, 2005, 2006, 2007, 2008, 2009, 2010, 2011, 2012, 2013, 2014, 2015, 2016, 2017, 2018, 2019], \"xaxis\": \"x\", \"y\": [0.0, 0.5999999999999996, 0.7000000000000011, 1.3000000000000007, 0.8000000000000007, 1.0, 1.4000000000000004, 1.0999999999999996, 0.8000000000000007, 0.0, 0.09999999999999964, 0.9000000000000004, 1.8000000000000007, 0.40000000000000036, 1.3000000000000007, 1.0999999999999996, 2.200000000000001, 1.5999999999999996, 1.9000000000000004, 1.5, 1.3000000000000007, 1.0999999999999996, 1.0, 0.5999999999999996, 0.9000000000000004, -0.1999999999999993, 1.0, 0.9000000000000004, 2.0, 1.4000000000000004, 1.9000000000000004, 0.5999999999999996, 0.3000000000000007, 1.0999999999999996, 0.20000000000000107, 1.3000000000000007, 1.4000000000000004, 1.200000000000001, 0.7000000000000011, 0.9000000000000004, 1.0, 1.0999999999999996, 0.7000000000000011, 1.200000000000001, 1.200000000000001, 1.3000000000000007, 1.3000000000000007, 0.09999999999999964, 0.9000000000000004, 0.09999999999999964, 1.0999999999999996, 1.700000000000001, 1.4000000000000004, 0.8000000000000007, 0.5999999999999996, 1.3000000000000007, 1.200000000000001, 2.0, 1.8000000000000007, 2.0999999999999996, 1.5999999999999996, 2.0999999999999996, 2.200000000000001, 3.0, 2.0999999999999996, 1.8000000000000007, 2.5, 2.0999999999999996, 2.0, 2.700000000000001, 2.200000000000001, 2.8000000000000007, 3.200000000000001, 2.3000000000000007, 1.700000000000001, 2.5, 2.700000000000001, 2.700000000000001, 2.5999999999999996, 2.0, 3.200000000000001, 2.9000000000000004, 2.3000000000000007, 3.700000000000001, 3.4000000000000004, 3.0999999999999996, 3.200000000000001, 4.300000000000001, 3.700000000000001], \"yaxis\": \"y\"}, {\"hovertemplate\": \"color=St. Gallen<br>Years=%{x}<br>Temperature Difference in K=%{y}<extra></extra>\", \"legendgroup\": \"St. Gallen\", \"line\": {\"color\": \"#EF553B\", \"dash\": \"solid\"}, \"mode\": \"lines\", \"name\": \"St. Gallen\", \"showlegend\": true, \"type\": \"scattergl\", \"x\": [1931, 1932, 1933, 1934, 1935, 1936, 1937, 1938, 1939, 1940, 1941, 1942, 1943, 1944, 1945, 1946, 1947, 1948, 1949, 1950, 1951, 1952, 1953, 1954, 1955, 1956, 1957, 1958, 1959, 1960, 1961, 1962, 1963, 1964, 1965, 1966, 1967, 1968, 1969, 1970, 1971, 1972, 1973, 1974, 1975, 1976, 1977, 1978, 1979, 1980, 1981, 1982, 1983, 1984, 1985, 1986, 1987, 1988, 1989, 1990, 1991, 1992, 1993, 1994, 1995, 1996, 1997, 1998, 1999, 2000, 2001, 2002, 2003, 2004, 2005, 2006, 2007, 2008, 2009, 2010, 2011, 2012, 2013, 2014, 2015, 2016, 2017, 2018, 2019], \"xaxis\": \"x\", \"y\": [0.0, 0.5999999999999996, 0.09999999999999964, 1.7000000000000002, 0.7000000000000002, 1.0999999999999996, 1.3999999999999995, 0.8999999999999995, 0.7000000000000002, -0.10000000000000053, 0.20000000000000018, 0.7000000000000002, 1.7000000000000002, 0.7999999999999998, 1.5, 1.2999999999999998, 1.9999999999999991, 1.5999999999999996, 1.7999999999999998, 1.7000000000000002, 1.5999999999999996, 1.2000000000000002, 1.2000000000000002, 0.5999999999999996, 0.5999999999999996, -0.20000000000000018, 1.2999999999999998, 1.2999999999999998, 1.7000000000000002, 1.3999999999999995, 2.2, 0.2999999999999998, 0.09999999999999964, 1.0999999999999996, 0.39999999999999947, 1.5999999999999996, 1.5, 1.0, 0.7000000000000002, 0.7999999999999998, 1.0999999999999996, 0.7000000000000002, 0.8999999999999995, 1.5999999999999996, 1.3999999999999995, 1.2999999999999998, 1.7000000000000002, 0.5999999999999996, 1.2999999999999998, 0.5999999999999996, 1.2999999999999998, 1.8999999999999995, 1.9999999999999991, 0.7999999999999998, 0.7999999999999998, 1.0999999999999996, 1.0999999999999996, 2.2, 2.3, 2.6000000000000005, 1.2999999999999998, 2.3999999999999995, 1.7999999999999998, 3.2, 1.8999999999999995, 0.7000000000000002, 2.3, 2.3999999999999995, 2.2, 3.2, 2.2, 2.8999999999999995, 2.8999999999999995, 1.9999999999999991, 1.8999999999999995, 2.6000000000000005, 2.8999999999999995, 2.3999999999999995, 2.7, 1.3999999999999995, 3.2, 2.3999999999999995, 1.7000000000000002, 3.3999999999999995, 3.3999999999999995, 2.8, 2.8999999999999995, 3.7, 3.3], \"yaxis\": \"y\"}, {\"hovertemplate\": \"color=Z\\u00fcrich-Fluntern<br>Years=%{x}<br>Temperature Difference in K=%{y}<extra></extra>\", \"legendgroup\": \"Z\\u00fcrich-Fluntern\", \"line\": {\"color\": \"#00cc96\", \"dash\": \"solid\"}, \"mode\": \"lines\", \"name\": \"Z\\u00fcrich-Fluntern\", \"showlegend\": true, \"type\": \"scattergl\", \"x\": [1931, 1932, 1933, 1934, 1935, 1936, 1937, 1938, 1939, 1940, 1941, 1942, 1943, 1944, 1945, 1946, 1947, 1948, 1949, 1950, 1951, 1952, 1953, 1954, 1955, 1956, 1957, 1958, 1959, 1960, 1961, 1962, 1963, 1964, 1965, 1966, 1967, 1968, 1969, 1970, 1971, 1972, 1973, 1974, 1975, 1976, 1977, 1978, 1979, 1980, 1981, 1982, 1983, 1984, 1985, 1986, 1987, 1988, 1989, 1990, 1991, 1992, 1993, 1994, 1995, 1996, 1997, 1998, 1999, 2000, 2001, 2002, 2003, 2004, 2005, 2006, 2007, 2008, 2009, 2010, 2011, 2012, 2013, 2014, 2015, 2016, 2017, 2018, 2019], \"xaxis\": \"x\", \"y\": [0.0, 0.39999999999999947, 0.1999999999999993, 1.5, 0.7999999999999989, 1.0, 1.1999999999999993, 0.7999999999999989, 0.5, -0.3000000000000007, 0.0, 0.5, 1.799999999999999, 0.7999999999999989, 1.5999999999999996, 1.1999999999999993, 2.0, 1.5, 2.0, 1.5999999999999996, 1.1999999999999993, 1.1999999999999993, 1.0999999999999996, 0.5999999999999996, 0.6999999999999993, -0.3000000000000007, 1.1999999999999993, 1.1999999999999993, 1.799999999999999, 1.1999999999999993, 2.0999999999999996, 0.1999999999999993, 0.0, 1.0999999999999996, 0.1999999999999993, 1.299999999999999, 1.299999999999999, 0.7999999999999989, 0.5999999999999996, 0.5, 0.9000000000000004, 0.5, 0.5999999999999996, 1.5, 1.1999999999999993, 1.1999999999999993, 1.5, 0.5, 1.0999999999999996, 0.5, 1.1999999999999993, 1.799999999999999, 1.9000000000000004, 0.9000000000000004, 0.7999999999999989, 1.0, 0.9000000000000004, 2.0, 2.0, 2.299999999999999, 1.5, 2.0999999999999996, 1.6999999999999993, 3.0999999999999996, 1.799999999999999, 0.6999999999999993, 2.0, 2.0999999999999996, 2.0, 2.799999999999999, 2.0, 2.799999999999999, 2.6999999999999993, 2.0999999999999996, 1.9000000000000004, 2.4000000000000004, 2.6999999999999993, 2.1999999999999993, 2.5, 1.4000000000000004, 3.0999999999999996, 2.299999999999999, 1.6999999999999993, 3.1999999999999993, 3.1999999999999993, 2.5, 2.799999999999999, 3.6999999999999993, 3.0999999999999996], \"yaxis\": \"y\"}],\n",
       "                        {\"legend\": {\"title\": {\"text\": \"color\"}, \"tracegroupgap\": 0}, \"template\": {\"data\": {\"bar\": [{\"error_x\": {\"color\": \"#2a3f5f\"}, \"error_y\": {\"color\": \"#2a3f5f\"}, \"marker\": {\"line\": {\"color\": \"#E5ECF6\", \"width\": 0.5}}, \"type\": \"bar\"}], \"barpolar\": [{\"marker\": {\"line\": {\"color\": \"#E5ECF6\", \"width\": 0.5}}, \"type\": \"barpolar\"}], \"carpet\": [{\"aaxis\": {\"endlinecolor\": \"#2a3f5f\", \"gridcolor\": \"white\", \"linecolor\": \"white\", \"minorgridcolor\": \"white\", \"startlinecolor\": \"#2a3f5f\"}, \"baxis\": {\"endlinecolor\": \"#2a3f5f\", \"gridcolor\": \"white\", \"linecolor\": \"white\", \"minorgridcolor\": \"white\", \"startlinecolor\": \"#2a3f5f\"}, \"type\": \"carpet\"}], \"choropleth\": [{\"colorbar\": {\"outlinewidth\": 0, \"ticks\": \"\"}, \"type\": \"choropleth\"}], \"contour\": [{\"colorbar\": {\"outlinewidth\": 0, \"ticks\": \"\"}, \"colorscale\": [[0.0, \"#0d0887\"], [0.1111111111111111, \"#46039f\"], [0.2222222222222222, \"#7201a8\"], [0.3333333333333333, \"#9c179e\"], [0.4444444444444444, \"#bd3786\"], [0.5555555555555556, \"#d8576b\"], [0.6666666666666666, \"#ed7953\"], [0.7777777777777778, \"#fb9f3a\"], [0.8888888888888888, \"#fdca26\"], [1.0, \"#f0f921\"]], \"type\": \"contour\"}], \"contourcarpet\": [{\"colorbar\": {\"outlinewidth\": 0, \"ticks\": \"\"}, \"type\": \"contourcarpet\"}], \"heatmap\": [{\"colorbar\": {\"outlinewidth\": 0, \"ticks\": \"\"}, \"colorscale\": [[0.0, \"#0d0887\"], [0.1111111111111111, \"#46039f\"], [0.2222222222222222, \"#7201a8\"], [0.3333333333333333, \"#9c179e\"], [0.4444444444444444, \"#bd3786\"], [0.5555555555555556, \"#d8576b\"], [0.6666666666666666, \"#ed7953\"], [0.7777777777777778, \"#fb9f3a\"], [0.8888888888888888, \"#fdca26\"], [1.0, \"#f0f921\"]], \"type\": \"heatmap\"}], \"heatmapgl\": [{\"colorbar\": {\"outlinewidth\": 0, \"ticks\": \"\"}, \"colorscale\": [[0.0, \"#0d0887\"], [0.1111111111111111, \"#46039f\"], [0.2222222222222222, \"#7201a8\"], [0.3333333333333333, \"#9c179e\"], [0.4444444444444444, \"#bd3786\"], [0.5555555555555556, \"#d8576b\"], [0.6666666666666666, \"#ed7953\"], [0.7777777777777778, \"#fb9f3a\"], [0.8888888888888888, \"#fdca26\"], [1.0, \"#f0f921\"]], \"type\": \"heatmapgl\"}], \"histogram\": [{\"marker\": {\"colorbar\": {\"outlinewidth\": 0, \"ticks\": \"\"}}, \"type\": \"histogram\"}], \"histogram2d\": [{\"colorbar\": {\"outlinewidth\": 0, \"ticks\": \"\"}, \"colorscale\": [[0.0, \"#0d0887\"], [0.1111111111111111, \"#46039f\"], [0.2222222222222222, \"#7201a8\"], [0.3333333333333333, \"#9c179e\"], [0.4444444444444444, \"#bd3786\"], [0.5555555555555556, \"#d8576b\"], [0.6666666666666666, \"#ed7953\"], [0.7777777777777778, \"#fb9f3a\"], [0.8888888888888888, \"#fdca26\"], [1.0, \"#f0f921\"]], \"type\": \"histogram2d\"}], \"histogram2dcontour\": [{\"colorbar\": {\"outlinewidth\": 0, \"ticks\": \"\"}, \"colorscale\": [[0.0, \"#0d0887\"], [0.1111111111111111, \"#46039f\"], [0.2222222222222222, \"#7201a8\"], [0.3333333333333333, \"#9c179e\"], [0.4444444444444444, \"#bd3786\"], [0.5555555555555556, \"#d8576b\"], [0.6666666666666666, \"#ed7953\"], [0.7777777777777778, \"#fb9f3a\"], [0.8888888888888888, \"#fdca26\"], [1.0, \"#f0f921\"]], \"type\": \"histogram2dcontour\"}], \"mesh3d\": [{\"colorbar\": {\"outlinewidth\": 0, \"ticks\": \"\"}, \"type\": \"mesh3d\"}], \"parcoords\": [{\"line\": {\"colorbar\": {\"outlinewidth\": 0, \"ticks\": \"\"}}, \"type\": \"parcoords\"}], \"pie\": [{\"automargin\": true, \"type\": \"pie\"}], \"scatter\": [{\"marker\": {\"colorbar\": {\"outlinewidth\": 0, \"ticks\": \"\"}}, \"type\": \"scatter\"}], \"scatter3d\": [{\"line\": {\"colorbar\": {\"outlinewidth\": 0, \"ticks\": \"\"}}, \"marker\": {\"colorbar\": {\"outlinewidth\": 0, \"ticks\": \"\"}}, \"type\": \"scatter3d\"}], \"scattercarpet\": [{\"marker\": {\"colorbar\": {\"outlinewidth\": 0, \"ticks\": \"\"}}, \"type\": \"scattercarpet\"}], \"scattergeo\": [{\"marker\": {\"colorbar\": {\"outlinewidth\": 0, \"ticks\": \"\"}}, \"type\": \"scattergeo\"}], \"scattergl\": [{\"marker\": {\"colorbar\": {\"outlinewidth\": 0, \"ticks\": \"\"}}, \"type\": \"scattergl\"}], \"scattermapbox\": [{\"marker\": {\"colorbar\": {\"outlinewidth\": 0, \"ticks\": \"\"}}, \"type\": \"scattermapbox\"}], \"scatterpolar\": [{\"marker\": {\"colorbar\": {\"outlinewidth\": 0, \"ticks\": \"\"}}, \"type\": \"scatterpolar\"}], \"scatterpolargl\": [{\"marker\": {\"colorbar\": {\"outlinewidth\": 0, \"ticks\": \"\"}}, \"type\": \"scatterpolargl\"}], \"scatterternary\": [{\"marker\": {\"colorbar\": {\"outlinewidth\": 0, \"ticks\": \"\"}}, \"type\": \"scatterternary\"}], \"surface\": [{\"colorbar\": {\"outlinewidth\": 0, \"ticks\": \"\"}, \"colorscale\": [[0.0, \"#0d0887\"], [0.1111111111111111, \"#46039f\"], [0.2222222222222222, \"#7201a8\"], [0.3333333333333333, \"#9c179e\"], [0.4444444444444444, \"#bd3786\"], [0.5555555555555556, \"#d8576b\"], [0.6666666666666666, \"#ed7953\"], [0.7777777777777778, \"#fb9f3a\"], [0.8888888888888888, \"#fdca26\"], [1.0, \"#f0f921\"]], \"type\": \"surface\"}], \"table\": [{\"cells\": {\"fill\": {\"color\": \"#EBF0F8\"}, \"line\": {\"color\": \"white\"}}, \"header\": {\"fill\": {\"color\": \"#C8D4E3\"}, \"line\": {\"color\": \"white\"}}, \"type\": \"table\"}]}, \"layout\": {\"annotationdefaults\": {\"arrowcolor\": \"#2a3f5f\", \"arrowhead\": 0, \"arrowwidth\": 1}, \"coloraxis\": {\"colorbar\": {\"outlinewidth\": 0, \"ticks\": \"\"}}, \"colorscale\": {\"diverging\": [[0, \"#8e0152\"], [0.1, \"#c51b7d\"], [0.2, \"#de77ae\"], [0.3, \"#f1b6da\"], [0.4, \"#fde0ef\"], [0.5, \"#f7f7f7\"], [0.6, \"#e6f5d0\"], [0.7, \"#b8e186\"], [0.8, \"#7fbc41\"], [0.9, \"#4d9221\"], [1, \"#276419\"]], \"sequential\": [[0.0, \"#0d0887\"], [0.1111111111111111, \"#46039f\"], [0.2222222222222222, \"#7201a8\"], [0.3333333333333333, \"#9c179e\"], [0.4444444444444444, \"#bd3786\"], [0.5555555555555556, \"#d8576b\"], [0.6666666666666666, \"#ed7953\"], [0.7777777777777778, \"#fb9f3a\"], [0.8888888888888888, \"#fdca26\"], [1.0, \"#f0f921\"]], \"sequentialminus\": [[0.0, \"#0d0887\"], [0.1111111111111111, \"#46039f\"], [0.2222222222222222, \"#7201a8\"], [0.3333333333333333, \"#9c179e\"], [0.4444444444444444, \"#bd3786\"], [0.5555555555555556, \"#d8576b\"], [0.6666666666666666, \"#ed7953\"], [0.7777777777777778, \"#fb9f3a\"], [0.8888888888888888, \"#fdca26\"], [1.0, \"#f0f921\"]]}, \"colorway\": [\"#636efa\", \"#EF553B\", \"#00cc96\", \"#ab63fa\", \"#FFA15A\", \"#19d3f3\", \"#FF6692\", \"#B6E880\", \"#FF97FF\", \"#FECB52\"], \"font\": {\"color\": \"#2a3f5f\"}, \"geo\": {\"bgcolor\": \"white\", \"lakecolor\": \"white\", \"landcolor\": \"#E5ECF6\", \"showlakes\": true, \"showland\": true, \"subunitcolor\": \"white\"}, \"hoverlabel\": {\"align\": \"left\"}, \"hovermode\": \"closest\", \"mapbox\": {\"style\": \"light\"}, \"paper_bgcolor\": \"white\", \"plot_bgcolor\": \"#E5ECF6\", \"polar\": {\"angularaxis\": {\"gridcolor\": \"white\", \"linecolor\": \"white\", \"ticks\": \"\"}, \"bgcolor\": \"#E5ECF6\", \"radialaxis\": {\"gridcolor\": \"white\", \"linecolor\": \"white\", \"ticks\": \"\"}}, \"scene\": {\"xaxis\": {\"backgroundcolor\": \"#E5ECF6\", \"gridcolor\": \"white\", \"gridwidth\": 2, \"linecolor\": \"white\", \"showbackground\": true, \"ticks\": \"\", \"zerolinecolor\": \"white\"}, \"yaxis\": {\"backgroundcolor\": \"#E5ECF6\", \"gridcolor\": \"white\", \"gridwidth\": 2, \"linecolor\": \"white\", \"showbackground\": true, \"ticks\": \"\", \"zerolinecolor\": \"white\"}, \"zaxis\": {\"backgroundcolor\": \"#E5ECF6\", \"gridcolor\": \"white\", \"gridwidth\": 2, \"linecolor\": \"white\", \"showbackground\": true, \"ticks\": \"\", \"zerolinecolor\": \"white\"}}, \"shapedefaults\": {\"line\": {\"color\": \"#2a3f5f\"}}, \"ternary\": {\"aaxis\": {\"gridcolor\": \"white\", \"linecolor\": \"white\", \"ticks\": \"\"}, \"baxis\": {\"gridcolor\": \"white\", \"linecolor\": \"white\", \"ticks\": \"\"}, \"bgcolor\": \"#E5ECF6\", \"caxis\": {\"gridcolor\": \"white\", \"linecolor\": \"white\", \"ticks\": \"\"}}, \"title\": {\"x\": 0.05}, \"xaxis\": {\"automargin\": true, \"gridcolor\": \"white\", \"linecolor\": \"white\", \"ticks\": \"\", \"title\": {\"standoff\": 15}, \"zerolinecolor\": \"white\", \"zerolinewidth\": 2}, \"yaxis\": {\"automargin\": true, \"gridcolor\": \"white\", \"linecolor\": \"white\", \"ticks\": \"\", \"title\": {\"standoff\": 15}, \"zerolinecolor\": \"white\", \"zerolinewidth\": 2}}}, \"title\": {\"text\": \"Temperature Change from initial Temperature in C\\u00b0\"}, \"xaxis\": {\"anchor\": \"y\", \"domain\": [0.0, 1.0], \"title\": {\"text\": \"Years\"}}, \"yaxis\": {\"anchor\": \"x\", \"domain\": [0.0, 1.0], \"title\": {\"text\": \"Temperature Difference in K\"}}},\n",
       "                        {\"responsive\": true}\n",
       "                    ).then(function(){\n",
       "                            \n",
       "var gd = document.getElementById('aef90096-65e5-47ee-942d-156baa9772ec');\n",
       "var x = new MutationObserver(function (mutations, observer) {{\n",
       "        var display = window.getComputedStyle(gd).display;\n",
       "        if (!display || display === 'none') {{\n",
       "            console.log([gd, 'removed!']);\n",
       "            Plotly.purge(gd);\n",
       "            observer.disconnect();\n",
       "        }}\n",
       "}});\n",
       "\n",
       "// Listen for the removal of the full notebook cells\n",
       "var notebookContainer = gd.closest('#notebook-container');\n",
       "if (notebookContainer) {{\n",
       "    x.observe(notebookContainer, {childList: true});\n",
       "}}\n",
       "\n",
       "// Listen for the clearing of the current output cell\n",
       "var outputEl = gd.closest('.output');\n",
       "if (outputEl) {{\n",
       "    x.observe(outputEl, {childList: true});\n",
       "}}\n",
       "\n",
       "                        })\n",
       "                };\n",
       "                });\n",
       "            </script>\n",
       "        </div>"
      ]
     },
     "metadata": {},
     "output_type": "display_data"
    }
   ],
   "source": [
    "def lineplot_swiss_temp(data):\n",
    "    data = data.copy()\n",
    "    for column in data.columns:\n",
    "        data[column] = data[column] - data[column].iloc[0]\n",
    "    data = pd.melt(data.reset_index(), id_vars='index')\n",
    "    data.columns = ['year', 'location', 'temperature']\n",
    "    \n",
    "    fig = px.line(x=data['year'], y=data['temperature'], color=data['location'], \n",
    "                  title='Temperature Change from initial Temperature in C°',\n",
    "                 labels={'x':'Years', 'y':'Temperature Difference in K'})\n",
    "    fig.show()\n",
    "    \n",
    "    \n",
    "lineplot_swiss_temp(swiss_temp)"
   ]
  },
  {
   "cell_type": "code",
   "execution_count": 130,
   "metadata": {},
   "outputs": [
    {
     "data": {
      "text/html": [
       "<div>\n",
       "<style scoped>\n",
       "    .dataframe tbody tr th:only-of-type {\n",
       "        vertical-align: middle;\n",
       "    }\n",
       "\n",
       "    .dataframe tbody tr th {\n",
       "        vertical-align: top;\n",
       "    }\n",
       "\n",
       "    .dataframe thead th {\n",
       "        text-align: right;\n",
       "    }\n",
       "</style>\n",
       "<table border=\"1\" class=\"dataframe\">\n",
       "  <thead>\n",
       "    <tr style=\"text-align: right;\">\n",
       "      <th></th>\n",
       "      <th>Basel-Binningen</th>\n",
       "      <th>Bern-Zollikofen</th>\n",
       "      <th>Davos</th>\n",
       "      <th>Genf-Cointrin</th>\n",
       "      <th>Locarno-Monti</th>\n",
       "      <th>Lugano</th>\n",
       "      <th>Luzern</th>\n",
       "      <th>Neuenburg</th>\n",
       "      <th>Säntis</th>\n",
       "      <th>Samedan</th>\n",
       "      <th>Sitten</th>\n",
       "      <th>St. Gallen</th>\n",
       "      <th>Zürich-Fluntern</th>\n",
       "    </tr>\n",
       "  </thead>\n",
       "  <tbody>\n",
       "    <tr>\n",
       "      <th>1931</th>\n",
       "      <td>8.5</td>\n",
       "      <td>7.2</td>\n",
       "      <td>1.7</td>\n",
       "      <td>9</td>\n",
       "      <td>11</td>\n",
       "      <td>10.9</td>\n",
       "      <td>7.8</td>\n",
       "      <td>8.4</td>\n",
       "      <td>-2.8</td>\n",
       "      <td>0.6</td>\n",
       "      <td>8.1</td>\n",
       "      <td>6.2</td>\n",
       "      <td>7.4</td>\n",
       "    </tr>\n",
       "    <tr>\n",
       "      <th>1932</th>\n",
       "      <td>8.9</td>\n",
       "      <td>7.4</td>\n",
       "      <td>2.3</td>\n",
       "      <td>9.2</td>\n",
       "      <td>11</td>\n",
       "      <td>11</td>\n",
       "      <td>8.1</td>\n",
       "      <td>8.6</td>\n",
       "      <td>-1.7</td>\n",
       "      <td>1</td>\n",
       "      <td>8.7</td>\n",
       "      <td>6.8</td>\n",
       "      <td>7.8</td>\n",
       "    </tr>\n",
       "    <tr>\n",
       "      <th>1933</th>\n",
       "      <td>8.8</td>\n",
       "      <td>7.3</td>\n",
       "      <td>1.8</td>\n",
       "      <td>9</td>\n",
       "      <td>11.2</td>\n",
       "      <td>11.1</td>\n",
       "      <td>7.9</td>\n",
       "      <td>8.5</td>\n",
       "      <td>-2.8</td>\n",
       "      <td>0.6</td>\n",
       "      <td>8.8</td>\n",
       "      <td>6.3</td>\n",
       "      <td>7.6</td>\n",
       "    </tr>\n",
       "    <tr>\n",
       "      <th>1934</th>\n",
       "      <td>9.9</td>\n",
       "      <td>8.4</td>\n",
       "      <td>3.3</td>\n",
       "      <td>10</td>\n",
       "      <td>11.5</td>\n",
       "      <td>11.7</td>\n",
       "      <td>9.1</td>\n",
       "      <td>9.8</td>\n",
       "      <td>-1</td>\n",
       "      <td>1.5</td>\n",
       "      <td>9.4</td>\n",
       "      <td>7.9</td>\n",
       "      <td>8.9</td>\n",
       "    </tr>\n",
       "    <tr>\n",
       "      <th>1935</th>\n",
       "      <td>9.4</td>\n",
       "      <td>7.8</td>\n",
       "      <td>1.8</td>\n",
       "      <td>9.6</td>\n",
       "      <td>11.2</td>\n",
       "      <td>11.4</td>\n",
       "      <td>8.3</td>\n",
       "      <td>8.9</td>\n",
       "      <td>-2.7</td>\n",
       "      <td>0.7</td>\n",
       "      <td>8.9</td>\n",
       "      <td>6.9</td>\n",
       "      <td>8.2</td>\n",
       "    </tr>\n",
       "    <tr>\n",
       "      <th>...</th>\n",
       "      <td>...</td>\n",
       "      <td>...</td>\n",
       "      <td>...</td>\n",
       "      <td>...</td>\n",
       "      <td>...</td>\n",
       "      <td>...</td>\n",
       "      <td>...</td>\n",
       "      <td>...</td>\n",
       "      <td>...</td>\n",
       "      <td>...</td>\n",
       "      <td>...</td>\n",
       "      <td>...</td>\n",
       "      <td>...</td>\n",
       "    </tr>\n",
       "    <tr>\n",
       "      <th>2015</th>\n",
       "      <td>11.7</td>\n",
       "      <td>9.9</td>\n",
       "      <td>4.8</td>\n",
       "      <td>11.6</td>\n",
       "      <td>13.8</td>\n",
       "      <td>13.8</td>\n",
       "      <td>10.8</td>\n",
       "      <td>11.5</td>\n",
       "      <td>0.2</td>\n",
       "      <td>3.4</td>\n",
       "      <td>11.5</td>\n",
       "      <td>9.6</td>\n",
       "      <td>10.6</td>\n",
       "    </tr>\n",
       "    <tr>\n",
       "      <th>2016</th>\n",
       "      <td>10.9</td>\n",
       "      <td>9.4</td>\n",
       "      <td>4.4</td>\n",
       "      <td>11.1</td>\n",
       "      <td>13.2</td>\n",
       "      <td>13.3</td>\n",
       "      <td>10.3</td>\n",
       "      <td>10.8</td>\n",
       "      <td>-0.6</td>\n",
       "      <td>2.8</td>\n",
       "      <td>11.2</td>\n",
       "      <td>9</td>\n",
       "      <td>9.9</td>\n",
       "    </tr>\n",
       "    <tr>\n",
       "      <th>2017</th>\n",
       "      <td>11.4</td>\n",
       "      <td>9.6</td>\n",
       "      <td>4.2</td>\n",
       "      <td>11.3</td>\n",
       "      <td>13.4</td>\n",
       "      <td>13.4</td>\n",
       "      <td>10.4</td>\n",
       "      <td>11.2</td>\n",
       "      <td>-0.6</td>\n",
       "      <td>2.6</td>\n",
       "      <td>11.3</td>\n",
       "      <td>9.1</td>\n",
       "      <td>10.2</td>\n",
       "    </tr>\n",
       "    <tr>\n",
       "      <th>2018</th>\n",
       "      <td>12.2</td>\n",
       "      <td>10.5</td>\n",
       "      <td>5</td>\n",
       "      <td>12.3</td>\n",
       "      <td>13.8</td>\n",
       "      <td>13.9</td>\n",
       "      <td>11.4</td>\n",
       "      <td>11.8</td>\n",
       "      <td>0.3</td>\n",
       "      <td>3.1</td>\n",
       "      <td>12.4</td>\n",
       "      <td>9.9</td>\n",
       "      <td>11.1</td>\n",
       "    </tr>\n",
       "    <tr>\n",
       "      <th>2019</th>\n",
       "      <td>11.6</td>\n",
       "      <td>10</td>\n",
       "      <td>4.5</td>\n",
       "      <td>11.8</td>\n",
       "      <td>13.8</td>\n",
       "      <td>13.9</td>\n",
       "      <td>10.9</td>\n",
       "      <td>11.3</td>\n",
       "      <td>-0.1</td>\n",
       "      <td>2.8</td>\n",
       "      <td>11.8</td>\n",
       "      <td>9.5</td>\n",
       "      <td>10.5</td>\n",
       "    </tr>\n",
       "  </tbody>\n",
       "</table>\n",
       "<p>89 rows × 13 columns</p>\n",
       "</div>"
      ],
      "text/plain": [
       "     Basel-Binningen Bern-Zollikofen  Davos Genf-Cointrin Locarno-Monti  \\\n",
       "1931             8.5              7.2   1.7             9            11   \n",
       "1932             8.9              7.4   2.3           9.2            11   \n",
       "1933             8.8              7.3   1.8             9          11.2   \n",
       "1934             9.9              8.4   3.3            10          11.5   \n",
       "1935             9.4              7.8   1.8           9.6          11.2   \n",
       "...              ...              ...   ...           ...           ...   \n",
       "2015            11.7              9.9   4.8          11.6          13.8   \n",
       "2016            10.9              9.4   4.4          11.1          13.2   \n",
       "2017            11.4              9.6   4.2          11.3          13.4   \n",
       "2018            12.2             10.5     5          12.3          13.8   \n",
       "2019            11.6               10   4.5          11.8          13.8   \n",
       "\n",
       "     Lugano Luzern Neuenburg Säntis Samedan Sitten St. Gallen Zürich-Fluntern  \n",
       "1931   10.9    7.8       8.4   -2.8     0.6    8.1        6.2             7.4  \n",
       "1932     11    8.1       8.6   -1.7       1    8.7        6.8             7.8  \n",
       "1933   11.1    7.9       8.5   -2.8     0.6    8.8        6.3             7.6  \n",
       "1934   11.7    9.1       9.8     -1     1.5    9.4        7.9             8.9  \n",
       "1935   11.4    8.3       8.9   -2.7     0.7    8.9        6.9             8.2  \n",
       "...     ...    ...       ...    ...     ...    ...        ...             ...  \n",
       "2015   13.8   10.8      11.5    0.2     3.4   11.5        9.6            10.6  \n",
       "2016   13.3   10.3      10.8   -0.6     2.8   11.2          9             9.9  \n",
       "2017   13.4   10.4      11.2   -0.6     2.6   11.3        9.1            10.2  \n",
       "2018   13.9   11.4      11.8    0.3     3.1   12.4        9.9            11.1  \n",
       "2019   13.9   10.9      11.3   -0.1     2.8   11.8        9.5            10.5  \n",
       "\n",
       "[89 rows x 13 columns]"
      ]
     },
     "execution_count": 130,
     "metadata": {},
     "output_type": "execute_result"
    }
   ],
   "source": [
    "swiss_temp"
   ]
  },
  {
   "cell_type": "code",
   "execution_count": 161,
   "metadata": {
    "scrolled": true
   },
   "outputs": [
    {
     "data": {
      "application/vnd.plotly.v1+json": {
       "config": {
        "plotlyServerURL": "https://plot.ly"
       },
       "data": [
        {
         "line": {
          "color": "grey"
         },
         "name": "Basel-Binningen",
         "opacity": 0.3,
         "type": "scatter",
         "x": [
          1931,
          1932,
          1933,
          1934,
          1935,
          1936,
          1937,
          1938,
          1939,
          1940,
          1941,
          1942,
          1943,
          1944,
          1945,
          1946,
          1947,
          1948,
          1949,
          1950,
          1951,
          1952,
          1953,
          1954,
          1955,
          1956,
          1957,
          1958,
          1959,
          1960,
          1961,
          1962,
          1963,
          1964,
          1965,
          1966,
          1967,
          1968,
          1969,
          1970,
          1971,
          1972,
          1973,
          1974,
          1975,
          1976,
          1977,
          1978,
          1979,
          1980,
          1981,
          1982,
          1983,
          1984,
          1985,
          1986,
          1987,
          1988,
          1989,
          1990,
          1991,
          1992,
          1993,
          1994,
          1995,
          1996,
          1997,
          1998,
          1999,
          2000,
          2001,
          2002,
          2003,
          2004,
          2005,
          2006,
          2007,
          2008,
          2009,
          2010,
          2011,
          2012,
          2013,
          2014,
          2015,
          2016,
          2017,
          2018,
          2019
         ],
         "y": [
          -1.4584269662921336,
          -1.0584269662921333,
          -1.158426966292133,
          -0.05842696629213329,
          -0.5584269662921333,
          -0.45842696629213364,
          -0.15842696629213293,
          -0.6584269662921329,
          -0.858426966292134,
          -1.7584269662921344,
          -1.5584269662921333,
          -1.158426966292133,
          0.24157303370786565,
          -0.6584269662921329,
          0.04157303370786636,
          -0.45842696629213364,
          0.5415730337078664,
          -0.05842696629213329,
          0.4415730337078667,
          0.04157303370786636,
          -0.358426966292134,
          -0.25842696629213435,
          -0.358426966292134,
          -0.9584269662921336,
          -0.858426966292134,
          -2.0584269662921333,
          -0.45842696629213364,
          -0.358426966292134,
          0.24157303370786565,
          -0.358426966292134,
          0.5415730337078664,
          -1.358426966292134,
          -1.4584269662921336,
          -0.15842696629213293,
          -0.7584269662921344,
          -0.05842696629213329,
          -0.15842696629213293,
          -0.6584269662921329,
          -0.9584269662921336,
          -0.7584269662921344,
          -0.6584269662921329,
          -1.0584269662921333,
          -0.7584269662921344,
          0.04157303370786636,
          -0.25842696629213435,
          0.04157303370786636,
          -0.05842696629213329,
          -0.9584269662921336,
          -0.45842696629213364,
          -1.0584269662921333,
          -0.358426966292134,
          0.34157303370786707,
          0.34157303370786707,
          -0.45842696629213364,
          -0.9584269662921336,
          -0.5584269662921333,
          -0.45842696629213364,
          0.5415730337078664,
          0.641573033707866,
          0.9415730337078667,
          0.04157303370786636,
          0.7415730337078656,
          0.24157303370786565,
          1.5415730337078664,
          0.5415730337078664,
          -0.5584269662921333,
          0.641573033707866,
          0.641573033707866,
          0.7415730337078656,
          1.4415730337078667,
          0.641573033707866,
          1.2415730337078656,
          1.4415730337078667,
          0.641573033707866,
          0.4415730337078667,
          0.9415730337078667,
          1.341573033707867,
          0.8415730337078671,
          1.141573033707866,
          -0.05842696629213329,
          1.641573033707866,
          0.9415730337078667,
          0.34157303370786707,
          1.9415730337078667,
          1.7415730337078656,
          0.9415730337078667,
          1.4415730337078667,
          2.2415730337078656,
          1.641573033707866
         ]
        },
        {
         "line": {
          "color": "grey"
         },
         "name": "Bern-Zollikofen ",
         "opacity": 0.3,
         "type": "scatter",
         "x": [
          1931,
          1932,
          1933,
          1934,
          1935,
          1936,
          1937,
          1938,
          1939,
          1940,
          1941,
          1942,
          1943,
          1944,
          1945,
          1946,
          1947,
          1948,
          1949,
          1950,
          1951,
          1952,
          1953,
          1954,
          1955,
          1956,
          1957,
          1958,
          1959,
          1960,
          1961,
          1962,
          1963,
          1964,
          1965,
          1966,
          1967,
          1968,
          1969,
          1970,
          1971,
          1972,
          1973,
          1974,
          1975,
          1976,
          1977,
          1978,
          1979,
          1980,
          1981,
          1982,
          1983,
          1984,
          1985,
          1986,
          1987,
          1988,
          1989,
          1990,
          1991,
          1992,
          1993,
          1994,
          1995,
          1996,
          1997,
          1998,
          1999,
          2000,
          2001,
          2002,
          2003,
          2004,
          2005,
          2006,
          2007,
          2008,
          2009,
          2010,
          2011,
          2012,
          2013,
          2014,
          2015,
          2016,
          2017,
          2018,
          2019
         ],
         "y": [
          -1.1258426966292143,
          -0.9258426966292141,
          -1.0258426966292147,
          0.07415730337078585,
          -0.5258426966292147,
          -0.3258426966292145,
          -0.1258426966292152,
          -0.5258426966292147,
          -0.9258426966292141,
          -1.5258426966292147,
          -1.4258426966292141,
          -1.1258426966292143,
          0.1741573033707855,
          -0.9258426966292141,
          -0.1258426966292152,
          -0.42584269662921415,
          0.8741573033707848,
          0.1741573033707855,
          0.6741573033707855,
          0.27415730337078514,
          -0.22584269662921486,
          -0.02584269662921379,
          -0.3258426966292145,
          -0.6258426966292143,
          -0.7258426966292149,
          -1.8258426966292145,
          -0.42584269662921415,
          -0.42584269662921415,
          0.1741573033707855,
          -0.5258426966292147,
          0.4741573033707862,
          -1.2258426966292149,
          -1.6258426966292143,
          -0.3258426966292145,
          -1.1258426966292143,
          -0.02584269662921379,
          -0.1258426966292152,
          -0.6258426966292143,
          -0.8258426966292145,
          -0.8258426966292145,
          -0.7258426966292149,
          -0.9258426966292141,
          -0.8258426966292145,
          -0.02584269662921379,
          -0.3258426966292145,
          -0.1258426966292152,
          -0.1258426966292152,
          -1.0258426966292147,
          -0.42584269662921415,
          -1.0258426966292147,
          -0.3258426966292145,
          0.3741573033707848,
          0.1741573033707855,
          -0.5258426966292147,
          -0.7258426966292149,
          -0.3258426966292145,
          -0.42584269662921415,
          0.4741573033707862,
          0.4741573033707862,
          0.7741573033707851,
          -0.1258426966292152,
          0.4741573033707862,
          0.27415730337078514,
          1.6741573033707855,
          0.4741573033707862,
          -0.42584269662921415,
          0.6741573033707855,
          0.5741573033707859,
          0.5741573033707859,
          1.2741573033707851,
          0.7741573033707851,
          1.0741573033707859,
          1.1741573033707855,
          0.4741573033707862,
          0.1741573033707855,
          0.8741573033707848,
          1.1741573033707855,
          0.6741573033707855,
          1.0741573033707859,
          0.27415730337078514,
          1.7741573033707851,
          0.8741573033707848,
          0.3741573033707848,
          1.6741573033707855,
          1.5741573033707859,
          1.0741573033707859,
          1.2741573033707851,
          2.1741573033707855,
          1.6741573033707855
         ]
        },
        {
         "line": {
          "color": "red",
          "width": 2
         },
         "name": "Davos",
         "type": "scatter",
         "x": [
          1931,
          1932,
          1933,
          1934,
          1935,
          1936,
          1937,
          1938,
          1939,
          1940,
          1941,
          1942,
          1943,
          1944,
          1945,
          1946,
          1947,
          1948,
          1949,
          1950,
          1951,
          1952,
          1953,
          1954,
          1955,
          1956,
          1957,
          1958,
          1959,
          1960,
          1961,
          1962,
          1963,
          1964,
          1965,
          1966,
          1967,
          1968,
          1969,
          1970,
          1971,
          1972,
          1973,
          1974,
          1975,
          1976,
          1977,
          1978,
          1979,
          1980,
          1981,
          1982,
          1983,
          1984,
          1985,
          1986,
          1987,
          1988,
          1989,
          1990,
          1991,
          1992,
          1993,
          1994,
          1995,
          1996,
          1997,
          1998,
          1999,
          2000,
          2001,
          2002,
          2003,
          2004,
          2005,
          2006,
          2007,
          2008,
          2009,
          2010,
          2011,
          2012,
          2013,
          2014,
          2015,
          2016,
          2017,
          2018,
          2019
         ],
         "y": [
          -1.3449438202247184,
          -0.7449438202247185,
          -1.2449438202247183,
          0.2550561797752815,
          -1.2449438202247183,
          -0.6449438202247184,
          -0.5449438202247183,
          -0.7449438202247185,
          -0.8449438202247181,
          -1.6449438202247184,
          -1.3449438202247184,
          -0.6449438202247184,
          0.055056179775281766,
          -1.3449438202247184,
          -0.5449438202247183,
          -0.04494382022471832,
          0.5550561797752818,
          0.15505617977528185,
          0.15505617977528185,
          -0.2449438202247185,
          -0.1449438202247184,
          -0.8449438202247181,
          -0.34494382022471815,
          -1.1449438202247184,
          -1.0449438202247183,
          -2.1449438202247184,
          -0.04494382022471832,
          -0.44494382022471823,
          0.15505617977528185,
          -0.2449438202247185,
          0.6550561797752819,
          -1.4449438202247182,
          -1.1449438202247184,
          0.055056179775281766,
          -1.2449438202247183,
          -0.44494382022471823,
          -0.34494382022471815,
          -0.44494382022471823,
          -0.44494382022471823,
          -0.7449438202247185,
          0.055056179775281766,
          -0.1449438202247184,
          -0.44494382022471823,
          -0.34494382022471815,
          0.055056179775281766,
          -0.34494382022471815,
          0.15505617977528185,
          -0.44494382022471823,
          -0.44494382022471823,
          -0.9449438202247182,
          -0.44494382022471823,
          0.2550561797752815,
          0.3550561797752816,
          -0.7449438202247185,
          -0.44494382022471823,
          0.055056179775281766,
          -0.04494382022471832,
          0.4550561797752817,
          1.1550561797752819,
          0.7550561797752815,
          0.15505617977528185,
          0.7550561797752815,
          0.3550561797752816,
          1.5550561797752813,
          0.15505617977528185,
          0.055056179775281766,
          1.0550561797752813,
          0.4550561797752817,
          0.4550561797752817,
          1.0550561797752813,
          0.4550561797752817,
          1.2550561797752815,
          1.2550561797752815,
          0.4550561797752817,
          -0.04494382022471832,
          1.1550561797752819,
          1.0550561797752813,
          0.7550561797752815,
          0.7550561797752815,
          -0.34494382022471815,
          1.6550561797752819,
          0.8550561797752816,
          0.5550561797752818,
          1.7550561797752815,
          1.7550561797752815,
          1.355056179775282,
          1.1550561797752819,
          1.9550561797752817,
          1.4550561797752817
         ]
        },
        {
         "line": {
          "color": "grey"
         },
         "name": "Genf-Cointrin",
         "opacity": 0.3,
         "type": "scatter",
         "x": [
          1931,
          1932,
          1933,
          1934,
          1935,
          1936,
          1937,
          1938,
          1939,
          1940,
          1941,
          1942,
          1943,
          1944,
          1945,
          1946,
          1947,
          1948,
          1949,
          1950,
          1951,
          1952,
          1953,
          1954,
          1955,
          1956,
          1957,
          1958,
          1959,
          1960,
          1961,
          1962,
          1963,
          1964,
          1965,
          1966,
          1967,
          1968,
          1969,
          1970,
          1971,
          1972,
          1973,
          1974,
          1975,
          1976,
          1977,
          1978,
          1979,
          1980,
          1981,
          1982,
          1983,
          1984,
          1985,
          1986,
          1987,
          1988,
          1989,
          1990,
          1991,
          1992,
          1993,
          1994,
          1995,
          1996,
          1997,
          1998,
          1999,
          2000,
          2001,
          2002,
          2003,
          2004,
          2005,
          2006,
          2007,
          2008,
          2009,
          2010,
          2011,
          2012,
          2013,
          2014,
          2015,
          2016,
          2017,
          2018,
          2019
         ],
         "y": [
          -1.0730337078651715,
          -0.8730337078651722,
          -1.0730337078651715,
          -0.0730337078651715,
          -0.47303370786517185,
          -0.47303370786517185,
          -0.0730337078651715,
          -0.6730337078651711,
          -0.9730337078651718,
          -1.3730337078651722,
          -1.2730337078651708,
          -0.7730337078651708,
          0.32696629213482886,
          -0.47303370786517185,
          0.22696629213482922,
          -0.0730337078651715,
          0.8269662921348289,
          0.02696629213482815,
          0.5269662921348282,
          0.32696629213482886,
          -0.47303370786517185,
          -0.17303370786517114,
          -0.3730337078651722,
          -0.6730337078651711,
          -0.3730337078651722,
          -1.5730337078651715,
          -0.5730337078651715,
          -0.47303370786517185,
          0.1269662921348278,
          -0.3730337078651722,
          0.5269662921348282,
          -0.9730337078651718,
          -1.5730337078651715,
          -0.2730337078651708,
          -1.2730337078651708,
          -0.0730337078651715,
          -0.3730337078651722,
          -0.6730337078651711,
          -0.9730337078651718,
          -0.7730337078651708,
          -0.7730337078651708,
          -0.8730337078651722,
          -0.9730337078651718,
          -0.2730337078651708,
          -0.3730337078651722,
          -0.2730337078651708,
          -0.17303370786517114,
          -1.0730337078651715,
          -0.3730337078651722,
          -1.1730337078651711,
          -0.47303370786517185,
          0.32696629213482886,
          0.22696629213482922,
          -0.5730337078651715,
          -0.8730337078651722,
          -0.2730337078651708,
          -0.17303370786517114,
          0.4269662921348285,
          0.6269662921348278,
          0.7269662921348292,
          0.1269662921348278,
          0.5269662921348282,
          0.02696629213482815,
          1.5269662921348282,
          0.6269662921348278,
          -0.2730337078651708,
          0.6269662921348278,
          0.5269662921348282,
          0.4269662921348285,
          1.1269662921348278,
          0.8269662921348289,
          1.1269662921348278,
          1.3269662921348289,
          0.6269662921348278,
          0.22696629213482922,
          1.1269662921348278,
          1.1269662921348278,
          0.7269662921348292,
          1.1269662921348278,
          0.02696629213482815,
          1.3269662921348289,
          0.8269662921348289,
          0.1269662921348278,
          1.6269662921348278,
          1.5269662921348282,
          1.0269662921348282,
          1.2269662921348292,
          2.226966292134829,
          1.7269662921348292
         ]
        },
        {
         "line": {
          "color": "grey"
         },
         "name": "Locarno-Monti",
         "opacity": 0.3,
         "type": "scatter",
         "x": [
          1931,
          1932,
          1933,
          1934,
          1935,
          1936,
          1937,
          1938,
          1939,
          1940,
          1941,
          1942,
          1943,
          1944,
          1945,
          1946,
          1947,
          1948,
          1949,
          1950,
          1951,
          1952,
          1953,
          1954,
          1955,
          1956,
          1957,
          1958,
          1959,
          1960,
          1961,
          1962,
          1963,
          1964,
          1965,
          1966,
          1967,
          1968,
          1969,
          1970,
          1971,
          1972,
          1973,
          1974,
          1975,
          1976,
          1977,
          1978,
          1979,
          1980,
          1981,
          1982,
          1983,
          1984,
          1985,
          1986,
          1987,
          1988,
          1989,
          1990,
          1991,
          1992,
          1993,
          1994,
          1995,
          1996,
          1997,
          1998,
          1999,
          2000,
          2001,
          2002,
          2003,
          2004,
          2005,
          2006,
          2007,
          2008,
          2009,
          2010,
          2011,
          2012,
          2013,
          2014,
          2015,
          2016,
          2017,
          2018,
          2019
         ],
         "y": [
          -0.8943820224719072,
          -0.8943820224719072,
          -0.694382022471908,
          -0.39438202247190723,
          -0.694382022471908,
          -0.7943820224719076,
          -0.5943820224719065,
          -0.4943820224719069,
          -1.0943820224719065,
          -1.2943820224719076,
          -1.3943820224719072,
          -0.4943820224719069,
          0.6056179775280928,
          -0.5943820224719065,
          0.4056179775280935,
          -0.39438202247190723,
          0.005617977528093121,
          0.005617977528093121,
          0.5056179775280931,
          0.005617977528093121,
          -0.694382022471908,
          -0.5943820224719065,
          0.005617977528093121,
          -0.8943820224719072,
          -0.4943820224719069,
          -1.2943820224719076,
          -0.39438202247190723,
          -0.2943820224719076,
          0.10561797752809277,
          -0.9943820224719069,
          0.30561797752809206,
          -0.694382022471908,
          -1.2943820224719076,
          -0.09438202247190652,
          -0.8943820224719072,
          -0.4943820224719069,
          -0.39438202247190723,
          -0.8943820224719072,
          -0.8943820224719072,
          -0.8943820224719072,
          -0.4943820224719069,
          -1.0943820224719065,
          -0.39438202247190723,
          -0.2943820224719076,
          -0.39438202247190723,
          -0.09438202247190652,
          -0.8943820224719072,
          -0.9943820224719069,
          -0.5943820224719065,
          -0.7943820224719076,
          -0.2943820224719076,
          -0.09438202247190652,
          -0.09438202247190652,
          -0.7943820224719076,
          -0.4943820224719069,
          -0.09438202247190652,
          -0.39438202247190723,
          0.2056179775280924,
          0.5056179775280931,
          0.805617977528092,
          0.4056179775280935,
          0.6056179775280928,
          0.4056179775280935,
          1.1056179775280928,
          0.30561797752809206,
          0.005617977528093121,
          1.0056179775280931,
          0.6056179775280928,
          0.5056179775280931,
          0.9056179775280935,
          0.6056179775280928,
          0.805617977528092,
          1.5056179775280931,
          0.6056179775280928,
          0.5056179775280931,
          1.1056179775280928,
          1.6056179775280928,
          0.6056179775280928,
          1.1056179775280928,
          0.005617977528093121,
          1.5056179775280931,
          1.2056179775280924,
          0.805617977528092,
          1.4056179775280935,
          1.9056179775280935,
          1.305617977528092,
          1.5056179775280931,
          1.9056179775280935,
          1.9056179775280935
         ]
        },
        {
         "line": {
          "color": "grey"
         },
         "name": "Lugano",
         "opacity": 0.3,
         "type": "scatter",
         "x": [
          1931,
          1932,
          1933,
          1934,
          1935,
          1936,
          1937,
          1938,
          1939,
          1940,
          1941,
          1942,
          1943,
          1944,
          1945,
          1946,
          1947,
          1948,
          1949,
          1950,
          1951,
          1952,
          1953,
          1954,
          1955,
          1956,
          1957,
          1958,
          1959,
          1960,
          1961,
          1962,
          1963,
          1964,
          1965,
          1966,
          1967,
          1968,
          1969,
          1970,
          1971,
          1972,
          1973,
          1974,
          1975,
          1976,
          1977,
          1978,
          1979,
          1980,
          1981,
          1982,
          1983,
          1984,
          1985,
          1986,
          1987,
          1988,
          1989,
          1990,
          1991,
          1992,
          1993,
          1994,
          1995,
          1996,
          1997,
          1998,
          1999,
          2000,
          2001,
          2002,
          2003,
          2004,
          2005,
          2006,
          2007,
          2008,
          2009,
          2010,
          2011,
          2012,
          2013,
          2014,
          2015,
          2016,
          2017,
          2018,
          2019
         ],
         "y": [
          -1.1595505617977544,
          -1.0595505617977548,
          -0.9595505617977551,
          -0.35955056179775546,
          -0.6595505617977544,
          -0.759550561797754,
          -0.4595505617977551,
          -0.5595505617977548,
          -0.9595505617977551,
          -1.0595505617977548,
          -1.0595505617977548,
          -0.1595505617977544,
          0.6404494382022445,
          -0.5595505617977548,
          0.44044943820224525,
          -0.35955056179775546,
          0.14044943820224454,
          0.3404494382022456,
          0.6404494382022445,
          0.14044943820224454,
          -0.5595505617977548,
          -0.4595505617977551,
          -0.05955056179775475,
          -0.8595505617977555,
          -0.35955056179775546,
          -1.259550561797754,
          -0.4595505617977551,
          -0.05955056179775475,
          0.04044943820224489,
          -0.9595505617977551,
          0.14044943820224454,
          -0.6595505617977544,
          -1.1595505617977544,
          -0.25955056179775404,
          -1.0595505617977548,
          -0.4595505617977551,
          -0.1595505617977544,
          -0.759550561797754,
          -0.9595505617977551,
          -0.759550561797754,
          -0.25955056179775404,
          -0.759550561797754,
          -0.35955056179775546,
          -0.1595505617977544,
          -0.25955056179775404,
          -0.1595505617977544,
          -0.759550561797754,
          -0.9595505617977551,
          -0.6595505617977544,
          -0.9595505617977551,
          -0.4595505617977551,
          0.04044943820224489,
          -0.1595505617977544,
          -0.759550561797754,
          -0.5595505617977548,
          -0.25955056179775404,
          -0.4595505617977551,
          0.24044943820224596,
          0.24044943820224596,
          0.5404494382022449,
          0.24044943820224596,
          0.3404494382022456,
          0.04044943820224489,
          1.040449438202245,
          0.44044943820224525,
          0.04044943820224489,
          0.9404494382022452,
          0.3404494382022456,
          0.5404494382022449,
          0.9404494382022452,
          0.6404494382022445,
          0.8404494382022456,
          1.240449438202246,
          0.5404494382022449,
          0.5404494382022449,
          1.040449438202245,
          1.4404494382022452,
          0.6404494382022445,
          1.1404494382022445,
          0.04044943820224489,
          1.4404494382022452,
          1.1404494382022445,
          0.740449438202246,
          1.4404494382022452,
          1.740449438202246,
          1.240449438202246,
          1.3404494382022456,
          1.8404494382022456,
          1.8404494382022456
         ]
        },
        {
         "line": {
          "color": "grey"
         },
         "name": "Luzern",
         "opacity": 0.3,
         "type": "scatter",
         "x": [
          1931,
          1932,
          1933,
          1934,
          1935,
          1936,
          1937,
          1938,
          1939,
          1940,
          1941,
          1942,
          1943,
          1944,
          1945,
          1946,
          1947,
          1948,
          1949,
          1950,
          1951,
          1952,
          1953,
          1954,
          1955,
          1956,
          1957,
          1958,
          1959,
          1960,
          1961,
          1962,
          1963,
          1964,
          1965,
          1966,
          1967,
          1968,
          1969,
          1970,
          1971,
          1972,
          1973,
          1974,
          1975,
          1976,
          1977,
          1978,
          1979,
          1980,
          1981,
          1982,
          1983,
          1984,
          1985,
          1986,
          1987,
          1988,
          1989,
          1990,
          1991,
          1992,
          1993,
          1994,
          1995,
          1996,
          1997,
          1998,
          1999,
          2000,
          2001,
          2002,
          2003,
          2004,
          2005,
          2006,
          2007,
          2008,
          2009,
          2010,
          2011,
          2012,
          2013,
          2014,
          2015,
          2016,
          2017,
          2018,
          2019
         ],
         "y": [
          -1.322471910112358,
          -1.0224719101123583,
          -1.2224719101123576,
          -0.022471910112358273,
          -0.8224719101123572,
          -0.42247191011235863,
          -0.3224719101123572,
          -0.7224719101123576,
          -0.9224719101123586,
          -1.7224719101123576,
          -1.4224719101123577,
          -1.0224719101123583,
          0.27752808988764244,
          -0.8224719101123572,
          -0.12247191011235792,
          -0.22247191011235756,
          0.5775280898876414,
          0.1775280898876428,
          0.4775280898876417,
          0.07752808988764137,
          -0.3224719101123572,
          -0.22247191011235756,
          -0.3224719101123572,
          -0.8224719101123572,
          -0.6224719101123579,
          -1.7224719101123576,
          -0.42247191011235863,
          -0.3224719101123572,
          0.07752808988764137,
          -0.42247191011235863,
          0.5775280898876414,
          -1.2224719101123576,
          -1.622471910112358,
          -0.3224719101123572,
          -1.2224719101123576,
          -0.12247191011235792,
          -0.12247191011235792,
          -0.5224719101123583,
          -0.9224719101123586,
          -1.0224719101123583,
          -0.8224719101123572,
          -1.122471910112358,
          -0.7224719101123576,
          -0.022471910112358273,
          -0.3224719101123572,
          -0.12247191011235792,
          -0.12247191011235792,
          -1.122471910112358,
          -0.42247191011235863,
          -0.8224719101123572,
          -0.3224719101123572,
          0.1775280898876428,
          0.3775280898876421,
          -0.6224719101123579,
          -0.8224719101123572,
          -0.42247191011235863,
          -0.42247191011235863,
          0.7775280898876424,
          0.6775280898876428,
          0.8775280898876421,
          -0.022471910112358273,
          0.6775280898876428,
          0.3775280898876421,
          1.7775280898876424,
          0.5775280898876414,
          -0.42247191011235863,
          0.6775280898876428,
          0.6775280898876428,
          0.4775280898876417,
          1.2775280898876424,
          0.7775280898876424,
          1.2775280898876424,
          1.2775280898876424,
          0.6775280898876428,
          0.3775280898876421,
          0.9775280898876417,
          1.2775280898876424,
          0.7775280898876424,
          1.0775280898876414,
          0.07752808988764137,
          1.5775280898876414,
          0.9775280898876417,
          0.3775280898876421,
          1.7775280898876424,
          1.6775280898876428,
          1.1775280898876428,
          1.2775280898876424,
          2.2775280898876424,
          1.7775280898876424
         ]
        },
        {
         "line": {
          "color": "grey"
         },
         "name": "Neuenburg",
         "opacity": 0.3,
         "type": "scatter",
         "x": [
          1931,
          1932,
          1933,
          1934,
          1935,
          1936,
          1937,
          1938,
          1939,
          1940,
          1941,
          1942,
          1943,
          1944,
          1945,
          1946,
          1947,
          1948,
          1949,
          1950,
          1951,
          1952,
          1953,
          1954,
          1955,
          1956,
          1957,
          1958,
          1959,
          1960,
          1961,
          1962,
          1963,
          1964,
          1965,
          1966,
          1967,
          1968,
          1969,
          1970,
          1971,
          1972,
          1973,
          1974,
          1975,
          1976,
          1977,
          1978,
          1979,
          1980,
          1981,
          1982,
          1983,
          1984,
          1985,
          1986,
          1987,
          1988,
          1989,
          1990,
          1991,
          1992,
          1993,
          1994,
          1995,
          1996,
          1997,
          1998,
          1999,
          2000,
          2001,
          2002,
          2003,
          2004,
          2005,
          2006,
          2007,
          2008,
          2009,
          2010,
          2011,
          2012,
          2013,
          2014,
          2015,
          2016,
          2017,
          2018,
          2019
         ],
         "y": [
          -1.330337078651679,
          -1.1303370786516798,
          -1.2303370786516794,
          0.0696629213483213,
          -0.830337078651679,
          -0.5303370786516801,
          -0.4303370786516787,
          -0.7303370786516794,
          -1.2303370786516794,
          -1.6303370786516798,
          -1.4303370786516787,
          -1.0303370786516801,
          0.36966292134832024,
          -0.6303370786516798,
          0.16966292134832095,
          -0.33033707865167905,
          0.7696629213483206,
          -0.030337078651680116,
          0.4696629213483199,
          -0.030337078651680116,
          -0.4303370786516787,
          -0.13033707865167976,
          -0.5303370786516801,
          -0.830337078651679,
          -0.830337078651679,
          -1.9303370786516796,
          -0.5303370786516801,
          -0.4303370786516787,
          0.36966292134832024,
          -0.4303370786516787,
          0.5696629213483213,
          -1.0303370786516801,
          -1.6303370786516798,
          -0.2303370786516794,
          -1.2303370786516794,
          -0.030337078651680116,
          -0.030337078651680116,
          -0.4303370786516787,
          -0.830337078651679,
          -0.830337078651679,
          -0.5303370786516801,
          -0.9303370786516787,
          -0.6303370786516798,
          0.0696629213483213,
          -0.13033707865167976,
          0.0696629213483213,
          -0.13033707865167976,
          -0.9303370786516787,
          -0.2303370786516794,
          -0.9303370786516787,
          -0.2303370786516794,
          0.36966292134832024,
          0.2696629213483206,
          -0.5303370786516801,
          -0.5303370786516801,
          -0.33033707865167905,
          -0.33033707865167905,
          0.36966292134832024,
          0.5696629213483213,
          0.7696629213483206,
          -0.030337078651680116,
          0.669662921348321,
          0.2696629213483206,
          1.669662921348321,
          0.5696629213483213,
          -0.33033707865167905,
          0.669662921348321,
          0.669662921348321,
          0.5696629213483213,
          1.2696629213483206,
          0.669662921348321,
          1.169662921348321,
          1.3696629213483202,
          0.5696629213483213,
          0.2696629213483206,
          0.9696629213483199,
          1.0696629213483213,
          0.5696629213483213,
          1.0696629213483213,
          0.0696629213483213,
          1.5696629213483213,
          0.8696629213483202,
          0.2696629213483206,
          1.5696629213483213,
          1.7696629213483206,
          1.0696629213483213,
          1.4696629213483199,
          2.0696629213483213,
          1.5696629213483213
         ]
        },
        {
         "line": {
          "color": "grey"
         },
         "name": "Säntis",
         "opacity": 0.3,
         "type": "scatter",
         "x": [
          1931,
          1932,
          1933,
          1934,
          1935,
          1936,
          1937,
          1938,
          1939,
          1940,
          1941,
          1942,
          1943,
          1944,
          1945,
          1946,
          1947,
          1948,
          1949,
          1950,
          1951,
          1952,
          1953,
          1954,
          1955,
          1956,
          1957,
          1958,
          1959,
          1960,
          1961,
          1962,
          1963,
          1964,
          1965,
          1966,
          1967,
          1968,
          1969,
          1970,
          1971,
          1972,
          1973,
          1974,
          1975,
          1976,
          1977,
          1978,
          1979,
          1980,
          1981,
          1982,
          1983,
          1984,
          1985,
          1986,
          1987,
          1988,
          1989,
          1990,
          1991,
          1992,
          1993,
          1994,
          1995,
          1996,
          1997,
          1998,
          1999,
          2000,
          2001,
          2002,
          2003,
          2004,
          2005,
          2006,
          2007,
          2008,
          2009,
          2010,
          2011,
          2012,
          2013,
          2014,
          2015,
          2016,
          2017,
          2018,
          2019
         ],
         "y": [
          -1.2494382022471915,
          -0.14943820224719162,
          -1.2494382022471915,
          0.5505617977528083,
          -1.1494382022471918,
          -0.6494382022471918,
          -0.7494382022471915,
          -0.44943820224719166,
          -0.8494382022471916,
          -1.5494382022471918,
          -1.4494382022471917,
          -0.3494382022471916,
          0.45056179775280825,
          -1.2494382022471915,
          -0.049438202247191754,
          0.050561797752808335,
          0.6505617977528083,
          0.6505617977528083,
          0.45056179775280825,
          0.2505617977528083,
          0.050561797752808335,
          -0.9494382022471917,
          0.5505617977528083,
          -1.0494382022471918,
          -0.8494382022471916,
          -1.7494382022471915,
          0.15056179775280842,
          -0.049438202247191754,
          0.7505617977528083,
          -0.6494382022471918,
          0.6505617977528083,
          -1.3494382022471916,
          -0.7494382022471915,
          0.3505617977528084,
          -1.5494382022471918,
          -0.6494382022471918,
          -0.2494382022471917,
          -0.5494382022471918,
          -0.7494382022471915,
          -1.1494382022471918,
          -0.049438202247191754,
          -0.5494382022471918,
          -0.7494382022471915,
          -1.0494382022471918,
          0.15056179775280842,
          -0.44943820224719166,
          -0.14943820224719162,
          -0.5494382022471918,
          -0.6494382022471918,
          -1.2494382022471915,
          -0.9494382022471917,
          0.3505617977528084,
          0.7505617977528083,
          -1.0494382022471918,
          -0.5494382022471918,
          -0.2494382022471917,
          -0.2494382022471917,
          0.15056179775280842,
          1.3505617977528084,
          0.6505617977528083,
          0.15056179775280842,
          1.1505617977528084,
          0.2505617977528083,
          1.1505617977528084,
          -0.049438202247191754,
          -0.14943820224719162,
          1.1505617977528084,
          0.3505617977528084,
          0.45056179775280825,
          0.9505617977528084,
          0.45056179775280825,
          1.1505617977528084,
          1.4505617977528082,
          0.2505617977528083,
          -0.2494382022471917,
          1.2505617977528083,
          1.0505617977528083,
          0.6505617977528083,
          0.5505617977528083,
          -0.5494382022471918,
          1.8505617977528084,
          0.8505617977528084,
          0.45056179775280825,
          1.4505617977528082,
          1.7505617977528083,
          0.9505617977528084,
          0.9505617977528084,
          1.8505617977528084,
          1.4505617977528082
         ]
        },
        {
         "line": {
          "color": "grey"
         },
         "name": "Samedan",
         "opacity": 0.3,
         "type": "scatter",
         "x": [
          1931,
          1932,
          1933,
          1934,
          1935,
          1936,
          1937,
          1938,
          1939,
          1940,
          1941,
          1942,
          1943,
          1944,
          1945,
          1946,
          1947,
          1948,
          1949,
          1950,
          1951,
          1952,
          1953,
          1954,
          1955,
          1956,
          1957,
          1958,
          1959,
          1960,
          1961,
          1962,
          1963,
          1964,
          1965,
          1966,
          1967,
          1968,
          1969,
          1970,
          1971,
          1972,
          1973,
          1974,
          1975,
          1976,
          1977,
          1978,
          1979,
          1980,
          1981,
          1982,
          1983,
          1984,
          1985,
          1986,
          1987,
          1988,
          1989,
          1990,
          1991,
          1992,
          1993,
          1994,
          1995,
          1996,
          1997,
          1998,
          1999,
          2000,
          2001,
          2002,
          2003,
          2004,
          2005,
          2006,
          2007,
          2008,
          2009,
          2010,
          2011,
          2012,
          2013,
          2014,
          2015,
          2016,
          2017,
          2018,
          2019
         ],
         "y": [
          -0.979775280898877,
          -0.579775280898877,
          -0.979775280898877,
          -0.07977528089887698,
          -0.879775280898877,
          -0.379775280898877,
          -0.17977528089887707,
          -0.4797752808988769,
          -0.679775280898877,
          -1.379775280898877,
          -1.1797752808988768,
          0.12022471910112298,
          0.420224719101123,
          -0.679775280898877,
          0.020224719101123112,
          -0.07977528089887698,
          0.7202247191011228,
          0.420224719101123,
          0.32022471910112293,
          -0.07977528089887698,
          0.12022471910112298,
          -0.17977528089887707,
          0.12022471910112298,
          -0.17977528089887707,
          -0.579775280898877,
          -1.679775280898877,
          -0.27977528089887693,
          -0.4797752808988769,
          -0.17977528089887707,
          -0.7797752808988769,
          0.22022471910112307,
          -1.1797752808988768,
          -1.279775280898877,
          0.22022471910112307,
          -1.1797752808988768,
          -0.17977528089887707,
          -0.679775280898877,
          -0.7797752808988769,
          -0.679775280898877,
          -0.879775280898877,
          -0.4797752808988769,
          -0.379775280898877,
          -0.379775280898877,
          -0.17977528089887707,
          -0.4797752808988769,
          -0.379775280898877,
          -0.17977528089887707,
          -0.579775280898877,
          -0.579775280898877,
          -1.079775280898877,
          -0.27977528089887693,
          0.32022471910112293,
          0.12022471910112298,
          -0.879775280898877,
          -0.4797752808988769,
          -0.17977528089887707,
          0.020224719101123112,
          0.920224719101123,
          0.6202247191011232,
          0.420224719101123,
          -0.379775280898877,
          0.020224719101123112,
          0.22022471910112307,
          1.5202247191011231,
          0.32022471910112293,
          -0.17977528089887707,
          0.32022471910112293,
          0.32022471910112293,
          0.32022471910112293,
          0.8202247191011229,
          0.6202247191011232,
          1.320224719101123,
          0.8202247191011229,
          0.6202247191011232,
          -0.07977528089887698,
          0.920224719101123,
          1.2202247191011228,
          0.8202247191011229,
          0.6202247191011232,
          -0.07977528089887698,
          1.320224719101123,
          0.8202247191011229,
          0.5202247191011231,
          1.6202247191011232,
          1.820224719101123,
          1.2202247191011228,
          1.0202247191011231,
          1.5202247191011231,
          1.2202247191011228
         ]
        },
        {
         "line": {
          "color": "grey"
         },
         "name": "Sitten",
         "opacity": 0.3,
         "type": "scatter",
         "x": [
          1931,
          1932,
          1933,
          1934,
          1935,
          1936,
          1937,
          1938,
          1939,
          1940,
          1941,
          1942,
          1943,
          1944,
          1945,
          1946,
          1947,
          1948,
          1949,
          1950,
          1951,
          1952,
          1953,
          1954,
          1955,
          1956,
          1957,
          1958,
          1959,
          1960,
          1961,
          1962,
          1963,
          1964,
          1965,
          1966,
          1967,
          1968,
          1969,
          1970,
          1971,
          1972,
          1973,
          1974,
          1975,
          1976,
          1977,
          1978,
          1979,
          1980,
          1981,
          1982,
          1983,
          1984,
          1985,
          1986,
          1987,
          1988,
          1989,
          1990,
          1991,
          1992,
          1993,
          1994,
          1995,
          1996,
          1997,
          1998,
          1999,
          2000,
          2001,
          2002,
          2003,
          2004,
          2005,
          2006,
          2007,
          2008,
          2009,
          2010,
          2011,
          2012,
          2013,
          2014,
          2015,
          2016,
          2017,
          2018,
          2019
         ],
         "y": [
          -1.5685393258426927,
          -0.9685393258426931,
          -0.8685393258426917,
          -0.268539325842692,
          -0.768539325842692,
          -0.5685393258426927,
          -0.16853932584269238,
          -0.4685393258426931,
          -0.768539325842692,
          -1.5685393258426927,
          -1.468539325842693,
          -0.6685393258426924,
          0.23146067415730798,
          -1.1685393258426924,
          -0.268539325842692,
          -0.4685393258426931,
          0.6314606741573083,
          0.03146067415730691,
          0.3314606741573076,
          -0.06853932584269273,
          -0.268539325842692,
          -0.4685393258426931,
          -0.5685393258426927,
          -0.9685393258426931,
          -0.6685393258426924,
          -1.768539325842692,
          -0.5685393258426927,
          -0.6685393258426924,
          0.43146067415730727,
          -0.16853932584269238,
          0.3314606741573076,
          -0.9685393258426931,
          -1.268539325842692,
          -0.4685393258426931,
          -1.3685393258426917,
          -0.268539325842692,
          -0.16853932584269238,
          -0.36853932584269167,
          -0.8685393258426917,
          -0.6685393258426924,
          -0.5685393258426927,
          -0.4685393258426931,
          -0.8685393258426917,
          -0.36853932584269167,
          -0.36853932584269167,
          -0.268539325842692,
          -0.268539325842692,
          -1.468539325842693,
          -0.6685393258426924,
          -1.468539325842693,
          -0.4685393258426931,
          0.13146067415730833,
          -0.16853932584269238,
          -0.768539325842692,
          -0.9685393258426931,
          -0.268539325842692,
          -0.36853932584269167,
          0.43146067415730727,
          0.23146067415730798,
          0.5314606741573069,
          0.03146067415730691,
          0.5314606741573069,
          0.6314606741573083,
          1.4314606741573073,
          0.5314606741573069,
          0.23146067415730798,
          0.9314606741573073,
          0.5314606741573069,
          0.43146067415730727,
          1.1314606741573083,
          0.6314606741573083,
          1.231460674157308,
          1.6314606741573083,
          0.731460674157308,
          0.13146067415730833,
          0.9314606741573073,
          1.1314606741573083,
          1.1314606741573083,
          1.031460674157307,
          0.43146067415730727,
          1.6314606741573083,
          1.3314606741573076,
          0.731460674157308,
          2.1314606741573083,
          1.8314606741573076,
          1.531460674157307,
          1.6314606741573083,
          2.731460674157308,
          2.1314606741573083
         ]
        },
        {
         "line": {
          "color": "grey"
         },
         "name": "St. Gallen",
         "opacity": 0.3,
         "type": "scatter",
         "x": [
          1931,
          1932,
          1933,
          1934,
          1935,
          1936,
          1937,
          1938,
          1939,
          1940,
          1941,
          1942,
          1943,
          1944,
          1945,
          1946,
          1947,
          1948,
          1949,
          1950,
          1951,
          1952,
          1953,
          1954,
          1955,
          1956,
          1957,
          1958,
          1959,
          1960,
          1961,
          1962,
          1963,
          1964,
          1965,
          1966,
          1967,
          1968,
          1969,
          1970,
          1971,
          1972,
          1973,
          1974,
          1975,
          1976,
          1977,
          1978,
          1979,
          1980,
          1981,
          1982,
          1983,
          1984,
          1985,
          1986,
          1987,
          1988,
          1989,
          1990,
          1991,
          1992,
          1993,
          1994,
          1995,
          1996,
          1997,
          1998,
          1999,
          2000,
          2001,
          2002,
          2003,
          2004,
          2005,
          2006,
          2007,
          2008,
          2009,
          2010,
          2011,
          2012,
          2013,
          2014,
          2015,
          2016,
          2017,
          2018,
          2019
         ],
         "y": [
          -1.5752808988764064,
          -0.9752808988764068,
          -1.4752808988764068,
          0.12471910112359375,
          -0.8752808988764063,
          -0.4752808988764068,
          -0.17528089887640697,
          -0.675280898876407,
          -0.8752808988764063,
          -1.675280898876407,
          -1.3752808988764063,
          -0.8752808988764063,
          0.12471910112359375,
          -0.7752808988764066,
          -0.07528089887640643,
          -0.2752808988764066,
          0.4247191011235927,
          0.024719101123593212,
          0.2247191011235934,
          0.12471910112359375,
          0.024719101123593212,
          -0.37528089887640625,
          -0.37528089887640625,
          -0.9752808988764068,
          -0.9752808988764068,
          -1.7752808988764066,
          -0.2752808988764066,
          -0.2752808988764066,
          0.12471910112359375,
          -0.17528089887640697,
          0.6247191011235937,
          -1.2752808988764066,
          -1.4752808988764068,
          -0.4752808988764068,
          -1.175280898876407,
          0.024719101123593212,
          -0.07528089887640643,
          -0.5752808988764064,
          -0.8752808988764063,
          -0.7752808988764066,
          -0.4752808988764068,
          -0.8752808988764063,
          -0.675280898876407,
          0.024719101123593212,
          -0.17528089887640697,
          -0.2752808988764066,
          0.12471910112359375,
          -0.9752808988764068,
          -0.2752808988764066,
          -0.9752808988764068,
          -0.2752808988764066,
          0.32471910112359303,
          0.4247191011235927,
          -0.7752808988764066,
          -0.7752808988764066,
          -0.4752808988764068,
          -0.4752808988764068,
          0.6247191011235937,
          0.7247191011235934,
          1.024719101123594,
          -0.2752808988764066,
          0.824719101123593,
          0.2247191011235934,
          1.6247191011235937,
          0.32471910112359303,
          -0.8752808988764063,
          0.7247191011235934,
          0.824719101123593,
          0.6247191011235937,
          1.6247191011235937,
          0.6247191011235937,
          1.324719101123593,
          1.324719101123593,
          0.4247191011235927,
          0.32471910112359303,
          1.024719101123594,
          1.324719101123593,
          0.824719101123593,
          1.1247191011235937,
          -0.17528089887640697,
          1.6247191011235937,
          0.824719101123593,
          0.12471910112359375,
          1.824719101123593,
          1.824719101123593,
          1.2247191011235934,
          1.324719101123593,
          2.1247191011235937,
          1.7247191011235934
         ]
        },
        {
         "line": {
          "color": "grey"
         },
         "name": "Zürich-Fluntern",
         "opacity": 0.3,
         "type": "scatter",
         "x": [
          1931,
          1932,
          1933,
          1934,
          1935,
          1936,
          1937,
          1938,
          1939,
          1940,
          1941,
          1942,
          1943,
          1944,
          1945,
          1946,
          1947,
          1948,
          1949,
          1950,
          1951,
          1952,
          1953,
          1954,
          1955,
          1956,
          1957,
          1958,
          1959,
          1960,
          1961,
          1962,
          1963,
          1964,
          1965,
          1966,
          1967,
          1968,
          1969,
          1970,
          1971,
          1972,
          1973,
          1974,
          1975,
          1976,
          1977,
          1978,
          1979,
          1980,
          1981,
          1982,
          1983,
          1984,
          1985,
          1986,
          1987,
          1988,
          1989,
          1990,
          1991,
          1992,
          1993,
          1994,
          1995,
          1996,
          1997,
          1998,
          1999,
          2000,
          2001,
          2002,
          2003,
          2004,
          2005,
          2006,
          2007,
          2008,
          2009,
          2010,
          2011,
          2012,
          2013,
          2014,
          2015,
          2016,
          2017,
          2018,
          2019
         ],
         "y": [
          -1.4550561797752817,
          -1.0550561797752822,
          -1.2550561797752824,
          0.04494382022471832,
          -0.6550561797752827,
          -0.4550561797752817,
          -0.2550561797752824,
          -0.6550561797752827,
          -0.9550561797752817,
          -1.7550561797752824,
          -1.4550561797752817,
          -0.9550561797752817,
          0.34494382022471726,
          -0.6550561797752827,
          0.14494382022471797,
          -0.2550561797752824,
          0.5449438202247183,
          0.04494382022471832,
          0.5449438202247183,
          0.14494382022471797,
          -0.2550561797752824,
          -0.2550561797752824,
          -0.35505617977528203,
          -0.855056179775282,
          -0.7550561797752824,
          -1.7550561797752824,
          -0.2550561797752824,
          -0.2550561797752824,
          0.34494382022471726,
          -0.2550561797752824,
          0.644943820224718,
          -1.2550561797752824,
          -1.4550561797752817,
          -0.35505617977528203,
          -1.2550561797752824,
          -0.15505617977528274,
          -0.15505617977528274,
          -0.6550561797752827,
          -0.855056179775282,
          -0.9550561797752817,
          -0.5550561797752813,
          -0.9550561797752817,
          -0.855056179775282,
          0.04494382022471832,
          -0.2550561797752824,
          -0.2550561797752824,
          0.04494382022471832,
          -0.9550561797752817,
          -0.35505617977528203,
          -0.9550561797752817,
          -0.2550561797752824,
          0.34494382022471726,
          0.4449438202247187,
          -0.5550561797752813,
          -0.6550561797752827,
          -0.4550561797752817,
          -0.5550561797752813,
          0.5449438202247183,
          0.5449438202247183,
          0.8449438202247173,
          0.04494382022471832,
          0.644943820224718,
          0.2449438202247176,
          1.644943820224718,
          0.34494382022471726,
          -0.7550561797752824,
          0.5449438202247183,
          0.644943820224718,
          0.5449438202247183,
          1.3449438202247173,
          0.5449438202247183,
          1.3449438202247173,
          1.2449438202247176,
          0.644943820224718,
          0.4449438202247187,
          0.9449438202247187,
          1.2449438202247176,
          0.7449438202247176,
          1.0449438202247183,
          -0.05505617977528132,
          1.644943820224718,
          0.8449438202247173,
          0.2449438202247176,
          1.7449438202247176,
          1.7449438202247176,
          1.0449438202247183,
          1.3449438202247173,
          2.2449438202247176,
          1.644943820224718
         ]
        },
        {
         "line": {
          "color": "black",
          "dash": "dot",
          "width": 1
         },
         "name": "Zentriertes Mittel",
         "opacity": 0.8,
         "type": "scatter",
         "x": [
          1931,
          1932,
          1933,
          1934,
          1935,
          1936,
          1937,
          1938,
          1939,
          1940,
          1941,
          1942,
          1943,
          1944,
          1945,
          1946,
          1947,
          1948,
          1949,
          1950,
          1951,
          1952,
          1953,
          1954,
          1955,
          1956,
          1957,
          1958,
          1959,
          1960,
          1961,
          1962,
          1963,
          1964,
          1965,
          1966,
          1967,
          1968,
          1969,
          1970,
          1971,
          1972,
          1973,
          1974,
          1975,
          1976,
          1977,
          1978,
          1979,
          1980,
          1981,
          1982,
          1983,
          1984,
          1985,
          1986,
          1987,
          1988,
          1989,
          1990,
          1991,
          1992,
          1993,
          1994,
          1995,
          1996,
          1997,
          1998,
          1999,
          2000,
          2001,
          2002,
          2003,
          2004,
          2005,
          2006,
          2007,
          2008,
          2009,
          2010,
          2011,
          2012,
          2013,
          2014,
          2015,
          2016,
          2017,
          2018,
          2019
         ],
         "y": [
          0,
          0,
          0,
          0,
          0,
          0,
          0,
          0,
          0,
          0,
          0,
          0,
          0,
          0,
          0,
          0,
          0,
          0,
          0,
          0,
          0,
          0,
          0,
          0,
          0,
          0,
          0,
          0,
          0,
          0,
          0,
          0,
          0,
          0,
          0,
          0,
          0,
          0,
          0,
          0,
          0,
          0,
          0,
          0,
          0,
          0,
          0,
          0,
          0,
          0,
          0,
          0,
          0,
          0,
          0,
          0,
          0,
          0,
          0,
          0,
          0,
          0,
          0,
          0,
          0,
          0,
          0,
          0,
          0,
          0,
          0,
          0,
          0,
          0,
          0,
          0,
          0,
          0,
          0,
          0,
          0,
          0,
          0,
          0,
          0,
          0,
          0,
          0,
          0
         ]
        }
       ],
       "layout": {
        "template": {
         "data": {
          "bar": [
           {
            "error_x": {
             "color": "rgb(36,36,36)"
            },
            "error_y": {
             "color": "rgb(36,36,36)"
            },
            "marker": {
             "line": {
              "color": "white",
              "width": 0.5
             }
            },
            "type": "bar"
           }
          ],
          "barpolar": [
           {
            "marker": {
             "line": {
              "color": "white",
              "width": 0.5
             }
            },
            "type": "barpolar"
           }
          ],
          "carpet": [
           {
            "aaxis": {
             "endlinecolor": "rgb(36,36,36)",
             "gridcolor": "white",
             "linecolor": "white",
             "minorgridcolor": "white",
             "startlinecolor": "rgb(36,36,36)"
            },
            "baxis": {
             "endlinecolor": "rgb(36,36,36)",
             "gridcolor": "white",
             "linecolor": "white",
             "minorgridcolor": "white",
             "startlinecolor": "rgb(36,36,36)"
            },
            "type": "carpet"
           }
          ],
          "choropleth": [
           {
            "colorbar": {
             "outlinewidth": 1,
             "tickcolor": "rgb(36,36,36)",
             "ticks": "outside"
            },
            "type": "choropleth"
           }
          ],
          "contour": [
           {
            "colorbar": {
             "outlinewidth": 1,
             "tickcolor": "rgb(36,36,36)",
             "ticks": "outside"
            },
            "colorscale": [
             [
              0,
              "#440154"
             ],
             [
              0.1111111111111111,
              "#482878"
             ],
             [
              0.2222222222222222,
              "#3e4989"
             ],
             [
              0.3333333333333333,
              "#31688e"
             ],
             [
              0.4444444444444444,
              "#26828e"
             ],
             [
              0.5555555555555556,
              "#1f9e89"
             ],
             [
              0.6666666666666666,
              "#35b779"
             ],
             [
              0.7777777777777778,
              "#6ece58"
             ],
             [
              0.8888888888888888,
              "#b5de2b"
             ],
             [
              1,
              "#fde725"
             ]
            ],
            "type": "contour"
           }
          ],
          "contourcarpet": [
           {
            "colorbar": {
             "outlinewidth": 1,
             "tickcolor": "rgb(36,36,36)",
             "ticks": "outside"
            },
            "type": "contourcarpet"
           }
          ],
          "heatmap": [
           {
            "colorbar": {
             "outlinewidth": 1,
             "tickcolor": "rgb(36,36,36)",
             "ticks": "outside"
            },
            "colorscale": [
             [
              0,
              "#440154"
             ],
             [
              0.1111111111111111,
              "#482878"
             ],
             [
              0.2222222222222222,
              "#3e4989"
             ],
             [
              0.3333333333333333,
              "#31688e"
             ],
             [
              0.4444444444444444,
              "#26828e"
             ],
             [
              0.5555555555555556,
              "#1f9e89"
             ],
             [
              0.6666666666666666,
              "#35b779"
             ],
             [
              0.7777777777777778,
              "#6ece58"
             ],
             [
              0.8888888888888888,
              "#b5de2b"
             ],
             [
              1,
              "#fde725"
             ]
            ],
            "type": "heatmap"
           }
          ],
          "heatmapgl": [
           {
            "colorbar": {
             "outlinewidth": 1,
             "tickcolor": "rgb(36,36,36)",
             "ticks": "outside"
            },
            "colorscale": [
             [
              0,
              "#440154"
             ],
             [
              0.1111111111111111,
              "#482878"
             ],
             [
              0.2222222222222222,
              "#3e4989"
             ],
             [
              0.3333333333333333,
              "#31688e"
             ],
             [
              0.4444444444444444,
              "#26828e"
             ],
             [
              0.5555555555555556,
              "#1f9e89"
             ],
             [
              0.6666666666666666,
              "#35b779"
             ],
             [
              0.7777777777777778,
              "#6ece58"
             ],
             [
              0.8888888888888888,
              "#b5de2b"
             ],
             [
              1,
              "#fde725"
             ]
            ],
            "type": "heatmapgl"
           }
          ],
          "histogram": [
           {
            "marker": {
             "line": {
              "color": "white",
              "width": 0.6
             }
            },
            "type": "histogram"
           }
          ],
          "histogram2d": [
           {
            "colorbar": {
             "outlinewidth": 1,
             "tickcolor": "rgb(36,36,36)",
             "ticks": "outside"
            },
            "colorscale": [
             [
              0,
              "#440154"
             ],
             [
              0.1111111111111111,
              "#482878"
             ],
             [
              0.2222222222222222,
              "#3e4989"
             ],
             [
              0.3333333333333333,
              "#31688e"
             ],
             [
              0.4444444444444444,
              "#26828e"
             ],
             [
              0.5555555555555556,
              "#1f9e89"
             ],
             [
              0.6666666666666666,
              "#35b779"
             ],
             [
              0.7777777777777778,
              "#6ece58"
             ],
             [
              0.8888888888888888,
              "#b5de2b"
             ],
             [
              1,
              "#fde725"
             ]
            ],
            "type": "histogram2d"
           }
          ],
          "histogram2dcontour": [
           {
            "colorbar": {
             "outlinewidth": 1,
             "tickcolor": "rgb(36,36,36)",
             "ticks": "outside"
            },
            "colorscale": [
             [
              0,
              "#440154"
             ],
             [
              0.1111111111111111,
              "#482878"
             ],
             [
              0.2222222222222222,
              "#3e4989"
             ],
             [
              0.3333333333333333,
              "#31688e"
             ],
             [
              0.4444444444444444,
              "#26828e"
             ],
             [
              0.5555555555555556,
              "#1f9e89"
             ],
             [
              0.6666666666666666,
              "#35b779"
             ],
             [
              0.7777777777777778,
              "#6ece58"
             ],
             [
              0.8888888888888888,
              "#b5de2b"
             ],
             [
              1,
              "#fde725"
             ]
            ],
            "type": "histogram2dcontour"
           }
          ],
          "mesh3d": [
           {
            "colorbar": {
             "outlinewidth": 1,
             "tickcolor": "rgb(36,36,36)",
             "ticks": "outside"
            },
            "type": "mesh3d"
           }
          ],
          "parcoords": [
           {
            "line": {
             "colorbar": {
              "outlinewidth": 1,
              "tickcolor": "rgb(36,36,36)",
              "ticks": "outside"
             }
            },
            "type": "parcoords"
           }
          ],
          "pie": [
           {
            "automargin": true,
            "type": "pie"
           }
          ],
          "scatter": [
           {
            "marker": {
             "colorbar": {
              "outlinewidth": 1,
              "tickcolor": "rgb(36,36,36)",
              "ticks": "outside"
             }
            },
            "type": "scatter"
           }
          ],
          "scatter3d": [
           {
            "line": {
             "colorbar": {
              "outlinewidth": 1,
              "tickcolor": "rgb(36,36,36)",
              "ticks": "outside"
             }
            },
            "marker": {
             "colorbar": {
              "outlinewidth": 1,
              "tickcolor": "rgb(36,36,36)",
              "ticks": "outside"
             }
            },
            "type": "scatter3d"
           }
          ],
          "scattercarpet": [
           {
            "marker": {
             "colorbar": {
              "outlinewidth": 1,
              "tickcolor": "rgb(36,36,36)",
              "ticks": "outside"
             }
            },
            "type": "scattercarpet"
           }
          ],
          "scattergeo": [
           {
            "marker": {
             "colorbar": {
              "outlinewidth": 1,
              "tickcolor": "rgb(36,36,36)",
              "ticks": "outside"
             }
            },
            "type": "scattergeo"
           }
          ],
          "scattergl": [
           {
            "marker": {
             "colorbar": {
              "outlinewidth": 1,
              "tickcolor": "rgb(36,36,36)",
              "ticks": "outside"
             }
            },
            "type": "scattergl"
           }
          ],
          "scattermapbox": [
           {
            "marker": {
             "colorbar": {
              "outlinewidth": 1,
              "tickcolor": "rgb(36,36,36)",
              "ticks": "outside"
             }
            },
            "type": "scattermapbox"
           }
          ],
          "scatterpolar": [
           {
            "marker": {
             "colorbar": {
              "outlinewidth": 1,
              "tickcolor": "rgb(36,36,36)",
              "ticks": "outside"
             }
            },
            "type": "scatterpolar"
           }
          ],
          "scatterpolargl": [
           {
            "marker": {
             "colorbar": {
              "outlinewidth": 1,
              "tickcolor": "rgb(36,36,36)",
              "ticks": "outside"
             }
            },
            "type": "scatterpolargl"
           }
          ],
          "scatterternary": [
           {
            "marker": {
             "colorbar": {
              "outlinewidth": 1,
              "tickcolor": "rgb(36,36,36)",
              "ticks": "outside"
             }
            },
            "type": "scatterternary"
           }
          ],
          "surface": [
           {
            "colorbar": {
             "outlinewidth": 1,
             "tickcolor": "rgb(36,36,36)",
             "ticks": "outside"
            },
            "colorscale": [
             [
              0,
              "#440154"
             ],
             [
              0.1111111111111111,
              "#482878"
             ],
             [
              0.2222222222222222,
              "#3e4989"
             ],
             [
              0.3333333333333333,
              "#31688e"
             ],
             [
              0.4444444444444444,
              "#26828e"
             ],
             [
              0.5555555555555556,
              "#1f9e89"
             ],
             [
              0.6666666666666666,
              "#35b779"
             ],
             [
              0.7777777777777778,
              "#6ece58"
             ],
             [
              0.8888888888888888,
              "#b5de2b"
             ],
             [
              1,
              "#fde725"
             ]
            ],
            "type": "surface"
           }
          ],
          "table": [
           {
            "cells": {
             "fill": {
              "color": "rgb(237,237,237)"
             },
             "line": {
              "color": "white"
             }
            },
            "header": {
             "fill": {
              "color": "rgb(217,217,217)"
             },
             "line": {
              "color": "white"
             }
            },
            "type": "table"
           }
          ]
         },
         "layout": {
          "annotationdefaults": {
           "arrowhead": 0,
           "arrowwidth": 1
          },
          "coloraxis": {
           "colorbar": {
            "outlinewidth": 1,
            "tickcolor": "rgb(36,36,36)",
            "ticks": "outside"
           }
          },
          "colorscale": {
           "diverging": [
            [
             0,
             "rgb(103,0,31)"
            ],
            [
             0.1,
             "rgb(178,24,43)"
            ],
            [
             0.2,
             "rgb(214,96,77)"
            ],
            [
             0.3,
             "rgb(244,165,130)"
            ],
            [
             0.4,
             "rgb(253,219,199)"
            ],
            [
             0.5,
             "rgb(247,247,247)"
            ],
            [
             0.6,
             "rgb(209,229,240)"
            ],
            [
             0.7,
             "rgb(146,197,222)"
            ],
            [
             0.8,
             "rgb(67,147,195)"
            ],
            [
             0.9,
             "rgb(33,102,172)"
            ],
            [
             1,
             "rgb(5,48,97)"
            ]
           ],
           "sequential": [
            [
             0,
             "#440154"
            ],
            [
             0.1111111111111111,
             "#482878"
            ],
            [
             0.2222222222222222,
             "#3e4989"
            ],
            [
             0.3333333333333333,
             "#31688e"
            ],
            [
             0.4444444444444444,
             "#26828e"
            ],
            [
             0.5555555555555556,
             "#1f9e89"
            ],
            [
             0.6666666666666666,
             "#35b779"
            ],
            [
             0.7777777777777778,
             "#6ece58"
            ],
            [
             0.8888888888888888,
             "#b5de2b"
            ],
            [
             1,
             "#fde725"
            ]
           ],
           "sequentialminus": [
            [
             0,
             "#440154"
            ],
            [
             0.1111111111111111,
             "#482878"
            ],
            [
             0.2222222222222222,
             "#3e4989"
            ],
            [
             0.3333333333333333,
             "#31688e"
            ],
            [
             0.4444444444444444,
             "#26828e"
            ],
            [
             0.5555555555555556,
             "#1f9e89"
            ],
            [
             0.6666666666666666,
             "#35b779"
            ],
            [
             0.7777777777777778,
             "#6ece58"
            ],
            [
             0.8888888888888888,
             "#b5de2b"
            ],
            [
             1,
             "#fde725"
            ]
           ]
          },
          "colorway": [
           "#1F77B4",
           "#FF7F0E",
           "#2CA02C",
           "#D62728",
           "#9467BD",
           "#8C564B",
           "#E377C2",
           "#7F7F7F",
           "#BCBD22",
           "#17BECF"
          ],
          "font": {
           "color": "rgb(36,36,36)"
          },
          "geo": {
           "bgcolor": "white",
           "lakecolor": "white",
           "landcolor": "white",
           "showlakes": true,
           "showland": true,
           "subunitcolor": "white"
          },
          "hoverlabel": {
           "align": "left"
          },
          "hovermode": "closest",
          "mapbox": {
           "style": "light"
          },
          "paper_bgcolor": "white",
          "plot_bgcolor": "white",
          "polar": {
           "angularaxis": {
            "gridcolor": "rgb(232,232,232)",
            "linecolor": "rgb(36,36,36)",
            "showgrid": false,
            "showline": true,
            "ticks": "outside"
           },
           "bgcolor": "white",
           "radialaxis": {
            "gridcolor": "rgb(232,232,232)",
            "linecolor": "rgb(36,36,36)",
            "showgrid": false,
            "showline": true,
            "ticks": "outside"
           }
          },
          "scene": {
           "xaxis": {
            "backgroundcolor": "white",
            "gridcolor": "rgb(232,232,232)",
            "gridwidth": 2,
            "linecolor": "rgb(36,36,36)",
            "showbackground": true,
            "showgrid": false,
            "showline": true,
            "ticks": "outside",
            "zeroline": false,
            "zerolinecolor": "rgb(36,36,36)"
           },
           "yaxis": {
            "backgroundcolor": "white",
            "gridcolor": "rgb(232,232,232)",
            "gridwidth": 2,
            "linecolor": "rgb(36,36,36)",
            "showbackground": true,
            "showgrid": false,
            "showline": true,
            "ticks": "outside",
            "zeroline": false,
            "zerolinecolor": "rgb(36,36,36)"
           },
           "zaxis": {
            "backgroundcolor": "white",
            "gridcolor": "rgb(232,232,232)",
            "gridwidth": 2,
            "linecolor": "rgb(36,36,36)",
            "showbackground": true,
            "showgrid": false,
            "showline": true,
            "ticks": "outside",
            "zeroline": false,
            "zerolinecolor": "rgb(36,36,36)"
           }
          },
          "shapedefaults": {
           "fillcolor": "black",
           "line": {
            "width": 0
           },
           "opacity": 0.3
          },
          "ternary": {
           "aaxis": {
            "gridcolor": "rgb(232,232,232)",
            "linecolor": "rgb(36,36,36)",
            "showgrid": false,
            "showline": true,
            "ticks": "outside"
           },
           "baxis": {
            "gridcolor": "rgb(232,232,232)",
            "linecolor": "rgb(36,36,36)",
            "showgrid": false,
            "showline": true,
            "ticks": "outside"
           },
           "bgcolor": "white",
           "caxis": {
            "gridcolor": "rgb(232,232,232)",
            "linecolor": "rgb(36,36,36)",
            "showgrid": false,
            "showline": true,
            "ticks": "outside"
           }
          },
          "title": {
           "x": 0.05
          },
          "xaxis": {
           "automargin": true,
           "gridcolor": "rgb(232,232,232)",
           "linecolor": "rgb(36,36,36)",
           "showgrid": false,
           "showline": true,
           "ticks": "outside",
           "title": {
            "standoff": 15
           },
           "zeroline": false,
           "zerolinecolor": "rgb(36,36,36)"
          },
          "yaxis": {
           "automargin": true,
           "gridcolor": "rgb(232,232,232)",
           "linecolor": "rgb(36,36,36)",
           "showgrid": false,
           "showline": true,
           "ticks": "outside",
           "title": {
            "standoff": 15
           },
           "zeroline": false,
           "zerolinecolor": "rgb(36,36,36)"
          }
         }
        },
        "title": {
         "text": "Temperaturabweichungen aller Orte zum Mittelwert"
        },
        "xaxis": {
         "title": {
          "text": "Temperaturdifferenz in K"
         }
        },
        "yaxis": {
         "title": {
          "text": "Jahre"
         }
        }
       }
      },
      "text/html": [
       "<div>\n",
       "        \n",
       "        \n",
       "            <div id=\"a1dd0ab7-9a88-4067-b44b-863e6d3490f9\" class=\"plotly-graph-div\" style=\"height:525px; width:100%;\"></div>\n",
       "            <script type=\"text/javascript\">\n",
       "                require([\"plotly\"], function(Plotly) {\n",
       "                    window.PLOTLYENV=window.PLOTLYENV || {};\n",
       "                    \n",
       "                if (document.getElementById(\"a1dd0ab7-9a88-4067-b44b-863e6d3490f9\")) {\n",
       "                    Plotly.newPlot(\n",
       "                        'a1dd0ab7-9a88-4067-b44b-863e6d3490f9',\n",
       "                        [{\"line\": {\"color\": \"grey\"}, \"name\": \"Basel-Binningen\", \"opacity\": 0.3, \"type\": \"scatter\", \"x\": [1931, 1932, 1933, 1934, 1935, 1936, 1937, 1938, 1939, 1940, 1941, 1942, 1943, 1944, 1945, 1946, 1947, 1948, 1949, 1950, 1951, 1952, 1953, 1954, 1955, 1956, 1957, 1958, 1959, 1960, 1961, 1962, 1963, 1964, 1965, 1966, 1967, 1968, 1969, 1970, 1971, 1972, 1973, 1974, 1975, 1976, 1977, 1978, 1979, 1980, 1981, 1982, 1983, 1984, 1985, 1986, 1987, 1988, 1989, 1990, 1991, 1992, 1993, 1994, 1995, 1996, 1997, 1998, 1999, 2000, 2001, 2002, 2003, 2004, 2005, 2006, 2007, 2008, 2009, 2010, 2011, 2012, 2013, 2014, 2015, 2016, 2017, 2018, 2019], \"y\": [-1.4584269662921336, -1.0584269662921333, -1.158426966292133, -0.05842696629213329, -0.5584269662921333, -0.45842696629213364, -0.15842696629213293, -0.6584269662921329, -0.858426966292134, -1.7584269662921344, -1.5584269662921333, -1.158426966292133, 0.24157303370786565, -0.6584269662921329, 0.04157303370786636, -0.45842696629213364, 0.5415730337078664, -0.05842696629213329, 0.4415730337078667, 0.04157303370786636, -0.358426966292134, -0.25842696629213435, -0.358426966292134, -0.9584269662921336, -0.858426966292134, -2.0584269662921333, -0.45842696629213364, -0.358426966292134, 0.24157303370786565, -0.358426966292134, 0.5415730337078664, -1.358426966292134, -1.4584269662921336, -0.15842696629213293, -0.7584269662921344, -0.05842696629213329, -0.15842696629213293, -0.6584269662921329, -0.9584269662921336, -0.7584269662921344, -0.6584269662921329, -1.0584269662921333, -0.7584269662921344, 0.04157303370786636, -0.25842696629213435, 0.04157303370786636, -0.05842696629213329, -0.9584269662921336, -0.45842696629213364, -1.0584269662921333, -0.358426966292134, 0.34157303370786707, 0.34157303370786707, -0.45842696629213364, -0.9584269662921336, -0.5584269662921333, -0.45842696629213364, 0.5415730337078664, 0.641573033707866, 0.9415730337078667, 0.04157303370786636, 0.7415730337078656, 0.24157303370786565, 1.5415730337078664, 0.5415730337078664, -0.5584269662921333, 0.641573033707866, 0.641573033707866, 0.7415730337078656, 1.4415730337078667, 0.641573033707866, 1.2415730337078656, 1.4415730337078667, 0.641573033707866, 0.4415730337078667, 0.9415730337078667, 1.341573033707867, 0.8415730337078671, 1.141573033707866, -0.05842696629213329, 1.641573033707866, 0.9415730337078667, 0.34157303370786707, 1.9415730337078667, 1.7415730337078656, 0.9415730337078667, 1.4415730337078667, 2.2415730337078656, 1.641573033707866]}, {\"line\": {\"color\": \"grey\"}, \"name\": \"Bern-Zollikofen \", \"opacity\": 0.3, \"type\": \"scatter\", \"x\": [1931, 1932, 1933, 1934, 1935, 1936, 1937, 1938, 1939, 1940, 1941, 1942, 1943, 1944, 1945, 1946, 1947, 1948, 1949, 1950, 1951, 1952, 1953, 1954, 1955, 1956, 1957, 1958, 1959, 1960, 1961, 1962, 1963, 1964, 1965, 1966, 1967, 1968, 1969, 1970, 1971, 1972, 1973, 1974, 1975, 1976, 1977, 1978, 1979, 1980, 1981, 1982, 1983, 1984, 1985, 1986, 1987, 1988, 1989, 1990, 1991, 1992, 1993, 1994, 1995, 1996, 1997, 1998, 1999, 2000, 2001, 2002, 2003, 2004, 2005, 2006, 2007, 2008, 2009, 2010, 2011, 2012, 2013, 2014, 2015, 2016, 2017, 2018, 2019], \"y\": [-1.1258426966292143, -0.9258426966292141, -1.0258426966292147, 0.07415730337078585, -0.5258426966292147, -0.3258426966292145, -0.1258426966292152, -0.5258426966292147, -0.9258426966292141, -1.5258426966292147, -1.4258426966292141, -1.1258426966292143, 0.1741573033707855, -0.9258426966292141, -0.1258426966292152, -0.42584269662921415, 0.8741573033707848, 0.1741573033707855, 0.6741573033707855, 0.27415730337078514, -0.22584269662921486, -0.02584269662921379, -0.3258426966292145, -0.6258426966292143, -0.7258426966292149, -1.8258426966292145, -0.42584269662921415, -0.42584269662921415, 0.1741573033707855, -0.5258426966292147, 0.4741573033707862, -1.2258426966292149, -1.6258426966292143, -0.3258426966292145, -1.1258426966292143, -0.02584269662921379, -0.1258426966292152, -0.6258426966292143, -0.8258426966292145, -0.8258426966292145, -0.7258426966292149, -0.9258426966292141, -0.8258426966292145, -0.02584269662921379, -0.3258426966292145, -0.1258426966292152, -0.1258426966292152, -1.0258426966292147, -0.42584269662921415, -1.0258426966292147, -0.3258426966292145, 0.3741573033707848, 0.1741573033707855, -0.5258426966292147, -0.7258426966292149, -0.3258426966292145, -0.42584269662921415, 0.4741573033707862, 0.4741573033707862, 0.7741573033707851, -0.1258426966292152, 0.4741573033707862, 0.27415730337078514, 1.6741573033707855, 0.4741573033707862, -0.42584269662921415, 0.6741573033707855, 0.5741573033707859, 0.5741573033707859, 1.2741573033707851, 0.7741573033707851, 1.0741573033707859, 1.1741573033707855, 0.4741573033707862, 0.1741573033707855, 0.8741573033707848, 1.1741573033707855, 0.6741573033707855, 1.0741573033707859, 0.27415730337078514, 1.7741573033707851, 0.8741573033707848, 0.3741573033707848, 1.6741573033707855, 1.5741573033707859, 1.0741573033707859, 1.2741573033707851, 2.1741573033707855, 1.6741573033707855]}, {\"line\": {\"color\": \"red\", \"width\": 2}, \"name\": \"Davos\", \"type\": \"scatter\", \"x\": [1931, 1932, 1933, 1934, 1935, 1936, 1937, 1938, 1939, 1940, 1941, 1942, 1943, 1944, 1945, 1946, 1947, 1948, 1949, 1950, 1951, 1952, 1953, 1954, 1955, 1956, 1957, 1958, 1959, 1960, 1961, 1962, 1963, 1964, 1965, 1966, 1967, 1968, 1969, 1970, 1971, 1972, 1973, 1974, 1975, 1976, 1977, 1978, 1979, 1980, 1981, 1982, 1983, 1984, 1985, 1986, 1987, 1988, 1989, 1990, 1991, 1992, 1993, 1994, 1995, 1996, 1997, 1998, 1999, 2000, 2001, 2002, 2003, 2004, 2005, 2006, 2007, 2008, 2009, 2010, 2011, 2012, 2013, 2014, 2015, 2016, 2017, 2018, 2019], \"y\": [-1.3449438202247184, -0.7449438202247185, -1.2449438202247183, 0.2550561797752815, -1.2449438202247183, -0.6449438202247184, -0.5449438202247183, -0.7449438202247185, -0.8449438202247181, -1.6449438202247184, -1.3449438202247184, -0.6449438202247184, 0.055056179775281766, -1.3449438202247184, -0.5449438202247183, -0.04494382022471832, 0.5550561797752818, 0.15505617977528185, 0.15505617977528185, -0.2449438202247185, -0.1449438202247184, -0.8449438202247181, -0.34494382022471815, -1.1449438202247184, -1.0449438202247183, -2.1449438202247184, -0.04494382022471832, -0.44494382022471823, 0.15505617977528185, -0.2449438202247185, 0.6550561797752819, -1.4449438202247182, -1.1449438202247184, 0.055056179775281766, -1.2449438202247183, -0.44494382022471823, -0.34494382022471815, -0.44494382022471823, -0.44494382022471823, -0.7449438202247185, 0.055056179775281766, -0.1449438202247184, -0.44494382022471823, -0.34494382022471815, 0.055056179775281766, -0.34494382022471815, 0.15505617977528185, -0.44494382022471823, -0.44494382022471823, -0.9449438202247182, -0.44494382022471823, 0.2550561797752815, 0.3550561797752816, -0.7449438202247185, -0.44494382022471823, 0.055056179775281766, -0.04494382022471832, 0.4550561797752817, 1.1550561797752819, 0.7550561797752815, 0.15505617977528185, 0.7550561797752815, 0.3550561797752816, 1.5550561797752813, 0.15505617977528185, 0.055056179775281766, 1.0550561797752813, 0.4550561797752817, 0.4550561797752817, 1.0550561797752813, 0.4550561797752817, 1.2550561797752815, 1.2550561797752815, 0.4550561797752817, -0.04494382022471832, 1.1550561797752819, 1.0550561797752813, 0.7550561797752815, 0.7550561797752815, -0.34494382022471815, 1.6550561797752819, 0.8550561797752816, 0.5550561797752818, 1.7550561797752815, 1.7550561797752815, 1.355056179775282, 1.1550561797752819, 1.9550561797752817, 1.4550561797752817]}, {\"line\": {\"color\": \"grey\"}, \"name\": \"Genf-Cointrin\", \"opacity\": 0.3, \"type\": \"scatter\", \"x\": [1931, 1932, 1933, 1934, 1935, 1936, 1937, 1938, 1939, 1940, 1941, 1942, 1943, 1944, 1945, 1946, 1947, 1948, 1949, 1950, 1951, 1952, 1953, 1954, 1955, 1956, 1957, 1958, 1959, 1960, 1961, 1962, 1963, 1964, 1965, 1966, 1967, 1968, 1969, 1970, 1971, 1972, 1973, 1974, 1975, 1976, 1977, 1978, 1979, 1980, 1981, 1982, 1983, 1984, 1985, 1986, 1987, 1988, 1989, 1990, 1991, 1992, 1993, 1994, 1995, 1996, 1997, 1998, 1999, 2000, 2001, 2002, 2003, 2004, 2005, 2006, 2007, 2008, 2009, 2010, 2011, 2012, 2013, 2014, 2015, 2016, 2017, 2018, 2019], \"y\": [-1.0730337078651715, -0.8730337078651722, -1.0730337078651715, -0.0730337078651715, -0.47303370786517185, -0.47303370786517185, -0.0730337078651715, -0.6730337078651711, -0.9730337078651718, -1.3730337078651722, -1.2730337078651708, -0.7730337078651708, 0.32696629213482886, -0.47303370786517185, 0.22696629213482922, -0.0730337078651715, 0.8269662921348289, 0.02696629213482815, 0.5269662921348282, 0.32696629213482886, -0.47303370786517185, -0.17303370786517114, -0.3730337078651722, -0.6730337078651711, -0.3730337078651722, -1.5730337078651715, -0.5730337078651715, -0.47303370786517185, 0.1269662921348278, -0.3730337078651722, 0.5269662921348282, -0.9730337078651718, -1.5730337078651715, -0.2730337078651708, -1.2730337078651708, -0.0730337078651715, -0.3730337078651722, -0.6730337078651711, -0.9730337078651718, -0.7730337078651708, -0.7730337078651708, -0.8730337078651722, -0.9730337078651718, -0.2730337078651708, -0.3730337078651722, -0.2730337078651708, -0.17303370786517114, -1.0730337078651715, -0.3730337078651722, -1.1730337078651711, -0.47303370786517185, 0.32696629213482886, 0.22696629213482922, -0.5730337078651715, -0.8730337078651722, -0.2730337078651708, -0.17303370786517114, 0.4269662921348285, 0.6269662921348278, 0.7269662921348292, 0.1269662921348278, 0.5269662921348282, 0.02696629213482815, 1.5269662921348282, 0.6269662921348278, -0.2730337078651708, 0.6269662921348278, 0.5269662921348282, 0.4269662921348285, 1.1269662921348278, 0.8269662921348289, 1.1269662921348278, 1.3269662921348289, 0.6269662921348278, 0.22696629213482922, 1.1269662921348278, 1.1269662921348278, 0.7269662921348292, 1.1269662921348278, 0.02696629213482815, 1.3269662921348289, 0.8269662921348289, 0.1269662921348278, 1.6269662921348278, 1.5269662921348282, 1.0269662921348282, 1.2269662921348292, 2.226966292134829, 1.7269662921348292]}, {\"line\": {\"color\": \"grey\"}, \"name\": \"Locarno-Monti\", \"opacity\": 0.3, \"type\": \"scatter\", \"x\": [1931, 1932, 1933, 1934, 1935, 1936, 1937, 1938, 1939, 1940, 1941, 1942, 1943, 1944, 1945, 1946, 1947, 1948, 1949, 1950, 1951, 1952, 1953, 1954, 1955, 1956, 1957, 1958, 1959, 1960, 1961, 1962, 1963, 1964, 1965, 1966, 1967, 1968, 1969, 1970, 1971, 1972, 1973, 1974, 1975, 1976, 1977, 1978, 1979, 1980, 1981, 1982, 1983, 1984, 1985, 1986, 1987, 1988, 1989, 1990, 1991, 1992, 1993, 1994, 1995, 1996, 1997, 1998, 1999, 2000, 2001, 2002, 2003, 2004, 2005, 2006, 2007, 2008, 2009, 2010, 2011, 2012, 2013, 2014, 2015, 2016, 2017, 2018, 2019], \"y\": [-0.8943820224719072, -0.8943820224719072, -0.694382022471908, -0.39438202247190723, -0.694382022471908, -0.7943820224719076, -0.5943820224719065, -0.4943820224719069, -1.0943820224719065, -1.2943820224719076, -1.3943820224719072, -0.4943820224719069, 0.6056179775280928, -0.5943820224719065, 0.4056179775280935, -0.39438202247190723, 0.005617977528093121, 0.005617977528093121, 0.5056179775280931, 0.005617977528093121, -0.694382022471908, -0.5943820224719065, 0.005617977528093121, -0.8943820224719072, -0.4943820224719069, -1.2943820224719076, -0.39438202247190723, -0.2943820224719076, 0.10561797752809277, -0.9943820224719069, 0.30561797752809206, -0.694382022471908, -1.2943820224719076, -0.09438202247190652, -0.8943820224719072, -0.4943820224719069, -0.39438202247190723, -0.8943820224719072, -0.8943820224719072, -0.8943820224719072, -0.4943820224719069, -1.0943820224719065, -0.39438202247190723, -0.2943820224719076, -0.39438202247190723, -0.09438202247190652, -0.8943820224719072, -0.9943820224719069, -0.5943820224719065, -0.7943820224719076, -0.2943820224719076, -0.09438202247190652, -0.09438202247190652, -0.7943820224719076, -0.4943820224719069, -0.09438202247190652, -0.39438202247190723, 0.2056179775280924, 0.5056179775280931, 0.805617977528092, 0.4056179775280935, 0.6056179775280928, 0.4056179775280935, 1.1056179775280928, 0.30561797752809206, 0.005617977528093121, 1.0056179775280931, 0.6056179775280928, 0.5056179775280931, 0.9056179775280935, 0.6056179775280928, 0.805617977528092, 1.5056179775280931, 0.6056179775280928, 0.5056179775280931, 1.1056179775280928, 1.6056179775280928, 0.6056179775280928, 1.1056179775280928, 0.005617977528093121, 1.5056179775280931, 1.2056179775280924, 0.805617977528092, 1.4056179775280935, 1.9056179775280935, 1.305617977528092, 1.5056179775280931, 1.9056179775280935, 1.9056179775280935]}, {\"line\": {\"color\": \"grey\"}, \"name\": \"Lugano\", \"opacity\": 0.3, \"type\": \"scatter\", \"x\": [1931, 1932, 1933, 1934, 1935, 1936, 1937, 1938, 1939, 1940, 1941, 1942, 1943, 1944, 1945, 1946, 1947, 1948, 1949, 1950, 1951, 1952, 1953, 1954, 1955, 1956, 1957, 1958, 1959, 1960, 1961, 1962, 1963, 1964, 1965, 1966, 1967, 1968, 1969, 1970, 1971, 1972, 1973, 1974, 1975, 1976, 1977, 1978, 1979, 1980, 1981, 1982, 1983, 1984, 1985, 1986, 1987, 1988, 1989, 1990, 1991, 1992, 1993, 1994, 1995, 1996, 1997, 1998, 1999, 2000, 2001, 2002, 2003, 2004, 2005, 2006, 2007, 2008, 2009, 2010, 2011, 2012, 2013, 2014, 2015, 2016, 2017, 2018, 2019], \"y\": [-1.1595505617977544, -1.0595505617977548, -0.9595505617977551, -0.35955056179775546, -0.6595505617977544, -0.759550561797754, -0.4595505617977551, -0.5595505617977548, -0.9595505617977551, -1.0595505617977548, -1.0595505617977548, -0.1595505617977544, 0.6404494382022445, -0.5595505617977548, 0.44044943820224525, -0.35955056179775546, 0.14044943820224454, 0.3404494382022456, 0.6404494382022445, 0.14044943820224454, -0.5595505617977548, -0.4595505617977551, -0.05955056179775475, -0.8595505617977555, -0.35955056179775546, -1.259550561797754, -0.4595505617977551, -0.05955056179775475, 0.04044943820224489, -0.9595505617977551, 0.14044943820224454, -0.6595505617977544, -1.1595505617977544, -0.25955056179775404, -1.0595505617977548, -0.4595505617977551, -0.1595505617977544, -0.759550561797754, -0.9595505617977551, -0.759550561797754, -0.25955056179775404, -0.759550561797754, -0.35955056179775546, -0.1595505617977544, -0.25955056179775404, -0.1595505617977544, -0.759550561797754, -0.9595505617977551, -0.6595505617977544, -0.9595505617977551, -0.4595505617977551, 0.04044943820224489, -0.1595505617977544, -0.759550561797754, -0.5595505617977548, -0.25955056179775404, -0.4595505617977551, 0.24044943820224596, 0.24044943820224596, 0.5404494382022449, 0.24044943820224596, 0.3404494382022456, 0.04044943820224489, 1.040449438202245, 0.44044943820224525, 0.04044943820224489, 0.9404494382022452, 0.3404494382022456, 0.5404494382022449, 0.9404494382022452, 0.6404494382022445, 0.8404494382022456, 1.240449438202246, 0.5404494382022449, 0.5404494382022449, 1.040449438202245, 1.4404494382022452, 0.6404494382022445, 1.1404494382022445, 0.04044943820224489, 1.4404494382022452, 1.1404494382022445, 0.740449438202246, 1.4404494382022452, 1.740449438202246, 1.240449438202246, 1.3404494382022456, 1.8404494382022456, 1.8404494382022456]}, {\"line\": {\"color\": \"grey\"}, \"name\": \"Luzern\", \"opacity\": 0.3, \"type\": \"scatter\", \"x\": [1931, 1932, 1933, 1934, 1935, 1936, 1937, 1938, 1939, 1940, 1941, 1942, 1943, 1944, 1945, 1946, 1947, 1948, 1949, 1950, 1951, 1952, 1953, 1954, 1955, 1956, 1957, 1958, 1959, 1960, 1961, 1962, 1963, 1964, 1965, 1966, 1967, 1968, 1969, 1970, 1971, 1972, 1973, 1974, 1975, 1976, 1977, 1978, 1979, 1980, 1981, 1982, 1983, 1984, 1985, 1986, 1987, 1988, 1989, 1990, 1991, 1992, 1993, 1994, 1995, 1996, 1997, 1998, 1999, 2000, 2001, 2002, 2003, 2004, 2005, 2006, 2007, 2008, 2009, 2010, 2011, 2012, 2013, 2014, 2015, 2016, 2017, 2018, 2019], \"y\": [-1.322471910112358, -1.0224719101123583, -1.2224719101123576, -0.022471910112358273, -0.8224719101123572, -0.42247191011235863, -0.3224719101123572, -0.7224719101123576, -0.9224719101123586, -1.7224719101123576, -1.4224719101123577, -1.0224719101123583, 0.27752808988764244, -0.8224719101123572, -0.12247191011235792, -0.22247191011235756, 0.5775280898876414, 0.1775280898876428, 0.4775280898876417, 0.07752808988764137, -0.3224719101123572, -0.22247191011235756, -0.3224719101123572, -0.8224719101123572, -0.6224719101123579, -1.7224719101123576, -0.42247191011235863, -0.3224719101123572, 0.07752808988764137, -0.42247191011235863, 0.5775280898876414, -1.2224719101123576, -1.622471910112358, -0.3224719101123572, -1.2224719101123576, -0.12247191011235792, -0.12247191011235792, -0.5224719101123583, -0.9224719101123586, -1.0224719101123583, -0.8224719101123572, -1.122471910112358, -0.7224719101123576, -0.022471910112358273, -0.3224719101123572, -0.12247191011235792, -0.12247191011235792, -1.122471910112358, -0.42247191011235863, -0.8224719101123572, -0.3224719101123572, 0.1775280898876428, 0.3775280898876421, -0.6224719101123579, -0.8224719101123572, -0.42247191011235863, -0.42247191011235863, 0.7775280898876424, 0.6775280898876428, 0.8775280898876421, -0.022471910112358273, 0.6775280898876428, 0.3775280898876421, 1.7775280898876424, 0.5775280898876414, -0.42247191011235863, 0.6775280898876428, 0.6775280898876428, 0.4775280898876417, 1.2775280898876424, 0.7775280898876424, 1.2775280898876424, 1.2775280898876424, 0.6775280898876428, 0.3775280898876421, 0.9775280898876417, 1.2775280898876424, 0.7775280898876424, 1.0775280898876414, 0.07752808988764137, 1.5775280898876414, 0.9775280898876417, 0.3775280898876421, 1.7775280898876424, 1.6775280898876428, 1.1775280898876428, 1.2775280898876424, 2.2775280898876424, 1.7775280898876424]}, {\"line\": {\"color\": \"grey\"}, \"name\": \"Neuenburg\", \"opacity\": 0.3, \"type\": \"scatter\", \"x\": [1931, 1932, 1933, 1934, 1935, 1936, 1937, 1938, 1939, 1940, 1941, 1942, 1943, 1944, 1945, 1946, 1947, 1948, 1949, 1950, 1951, 1952, 1953, 1954, 1955, 1956, 1957, 1958, 1959, 1960, 1961, 1962, 1963, 1964, 1965, 1966, 1967, 1968, 1969, 1970, 1971, 1972, 1973, 1974, 1975, 1976, 1977, 1978, 1979, 1980, 1981, 1982, 1983, 1984, 1985, 1986, 1987, 1988, 1989, 1990, 1991, 1992, 1993, 1994, 1995, 1996, 1997, 1998, 1999, 2000, 2001, 2002, 2003, 2004, 2005, 2006, 2007, 2008, 2009, 2010, 2011, 2012, 2013, 2014, 2015, 2016, 2017, 2018, 2019], \"y\": [-1.330337078651679, -1.1303370786516798, -1.2303370786516794, 0.0696629213483213, -0.830337078651679, -0.5303370786516801, -0.4303370786516787, -0.7303370786516794, -1.2303370786516794, -1.6303370786516798, -1.4303370786516787, -1.0303370786516801, 0.36966292134832024, -0.6303370786516798, 0.16966292134832095, -0.33033707865167905, 0.7696629213483206, -0.030337078651680116, 0.4696629213483199, -0.030337078651680116, -0.4303370786516787, -0.13033707865167976, -0.5303370786516801, -0.830337078651679, -0.830337078651679, -1.9303370786516796, -0.5303370786516801, -0.4303370786516787, 0.36966292134832024, -0.4303370786516787, 0.5696629213483213, -1.0303370786516801, -1.6303370786516798, -0.2303370786516794, -1.2303370786516794, -0.030337078651680116, -0.030337078651680116, -0.4303370786516787, -0.830337078651679, -0.830337078651679, -0.5303370786516801, -0.9303370786516787, -0.6303370786516798, 0.0696629213483213, -0.13033707865167976, 0.0696629213483213, -0.13033707865167976, -0.9303370786516787, -0.2303370786516794, -0.9303370786516787, -0.2303370786516794, 0.36966292134832024, 0.2696629213483206, -0.5303370786516801, -0.5303370786516801, -0.33033707865167905, -0.33033707865167905, 0.36966292134832024, 0.5696629213483213, 0.7696629213483206, -0.030337078651680116, 0.669662921348321, 0.2696629213483206, 1.669662921348321, 0.5696629213483213, -0.33033707865167905, 0.669662921348321, 0.669662921348321, 0.5696629213483213, 1.2696629213483206, 0.669662921348321, 1.169662921348321, 1.3696629213483202, 0.5696629213483213, 0.2696629213483206, 0.9696629213483199, 1.0696629213483213, 0.5696629213483213, 1.0696629213483213, 0.0696629213483213, 1.5696629213483213, 0.8696629213483202, 0.2696629213483206, 1.5696629213483213, 1.7696629213483206, 1.0696629213483213, 1.4696629213483199, 2.0696629213483213, 1.5696629213483213]}, {\"line\": {\"color\": \"grey\"}, \"name\": \"S\\u00e4ntis\", \"opacity\": 0.3, \"type\": \"scatter\", \"x\": [1931, 1932, 1933, 1934, 1935, 1936, 1937, 1938, 1939, 1940, 1941, 1942, 1943, 1944, 1945, 1946, 1947, 1948, 1949, 1950, 1951, 1952, 1953, 1954, 1955, 1956, 1957, 1958, 1959, 1960, 1961, 1962, 1963, 1964, 1965, 1966, 1967, 1968, 1969, 1970, 1971, 1972, 1973, 1974, 1975, 1976, 1977, 1978, 1979, 1980, 1981, 1982, 1983, 1984, 1985, 1986, 1987, 1988, 1989, 1990, 1991, 1992, 1993, 1994, 1995, 1996, 1997, 1998, 1999, 2000, 2001, 2002, 2003, 2004, 2005, 2006, 2007, 2008, 2009, 2010, 2011, 2012, 2013, 2014, 2015, 2016, 2017, 2018, 2019], \"y\": [-1.2494382022471915, -0.14943820224719162, -1.2494382022471915, 0.5505617977528083, -1.1494382022471918, -0.6494382022471918, -0.7494382022471915, -0.44943820224719166, -0.8494382022471916, -1.5494382022471918, -1.4494382022471917, -0.3494382022471916, 0.45056179775280825, -1.2494382022471915, -0.049438202247191754, 0.050561797752808335, 0.6505617977528083, 0.6505617977528083, 0.45056179775280825, 0.2505617977528083, 0.050561797752808335, -0.9494382022471917, 0.5505617977528083, -1.0494382022471918, -0.8494382022471916, -1.7494382022471915, 0.15056179775280842, -0.049438202247191754, 0.7505617977528083, -0.6494382022471918, 0.6505617977528083, -1.3494382022471916, -0.7494382022471915, 0.3505617977528084, -1.5494382022471918, -0.6494382022471918, -0.2494382022471917, -0.5494382022471918, -0.7494382022471915, -1.1494382022471918, -0.049438202247191754, -0.5494382022471918, -0.7494382022471915, -1.0494382022471918, 0.15056179775280842, -0.44943820224719166, -0.14943820224719162, -0.5494382022471918, -0.6494382022471918, -1.2494382022471915, -0.9494382022471917, 0.3505617977528084, 0.7505617977528083, -1.0494382022471918, -0.5494382022471918, -0.2494382022471917, -0.2494382022471917, 0.15056179775280842, 1.3505617977528084, 0.6505617977528083, 0.15056179775280842, 1.1505617977528084, 0.2505617977528083, 1.1505617977528084, -0.049438202247191754, -0.14943820224719162, 1.1505617977528084, 0.3505617977528084, 0.45056179775280825, 0.9505617977528084, 0.45056179775280825, 1.1505617977528084, 1.4505617977528082, 0.2505617977528083, -0.2494382022471917, 1.2505617977528083, 1.0505617977528083, 0.6505617977528083, 0.5505617977528083, -0.5494382022471918, 1.8505617977528084, 0.8505617977528084, 0.45056179775280825, 1.4505617977528082, 1.7505617977528083, 0.9505617977528084, 0.9505617977528084, 1.8505617977528084, 1.4505617977528082]}, {\"line\": {\"color\": \"grey\"}, \"name\": \"Samedan\", \"opacity\": 0.3, \"type\": \"scatter\", \"x\": [1931, 1932, 1933, 1934, 1935, 1936, 1937, 1938, 1939, 1940, 1941, 1942, 1943, 1944, 1945, 1946, 1947, 1948, 1949, 1950, 1951, 1952, 1953, 1954, 1955, 1956, 1957, 1958, 1959, 1960, 1961, 1962, 1963, 1964, 1965, 1966, 1967, 1968, 1969, 1970, 1971, 1972, 1973, 1974, 1975, 1976, 1977, 1978, 1979, 1980, 1981, 1982, 1983, 1984, 1985, 1986, 1987, 1988, 1989, 1990, 1991, 1992, 1993, 1994, 1995, 1996, 1997, 1998, 1999, 2000, 2001, 2002, 2003, 2004, 2005, 2006, 2007, 2008, 2009, 2010, 2011, 2012, 2013, 2014, 2015, 2016, 2017, 2018, 2019], \"y\": [-0.979775280898877, -0.579775280898877, -0.979775280898877, -0.07977528089887698, -0.879775280898877, -0.379775280898877, -0.17977528089887707, -0.4797752808988769, -0.679775280898877, -1.379775280898877, -1.1797752808988768, 0.12022471910112298, 0.420224719101123, -0.679775280898877, 0.020224719101123112, -0.07977528089887698, 0.7202247191011228, 0.420224719101123, 0.32022471910112293, -0.07977528089887698, 0.12022471910112298, -0.17977528089887707, 0.12022471910112298, -0.17977528089887707, -0.579775280898877, -1.679775280898877, -0.27977528089887693, -0.4797752808988769, -0.17977528089887707, -0.7797752808988769, 0.22022471910112307, -1.1797752808988768, -1.279775280898877, 0.22022471910112307, -1.1797752808988768, -0.17977528089887707, -0.679775280898877, -0.7797752808988769, -0.679775280898877, -0.879775280898877, -0.4797752808988769, -0.379775280898877, -0.379775280898877, -0.17977528089887707, -0.4797752808988769, -0.379775280898877, -0.17977528089887707, -0.579775280898877, -0.579775280898877, -1.079775280898877, -0.27977528089887693, 0.32022471910112293, 0.12022471910112298, -0.879775280898877, -0.4797752808988769, -0.17977528089887707, 0.020224719101123112, 0.920224719101123, 0.6202247191011232, 0.420224719101123, -0.379775280898877, 0.020224719101123112, 0.22022471910112307, 1.5202247191011231, 0.32022471910112293, -0.17977528089887707, 0.32022471910112293, 0.32022471910112293, 0.32022471910112293, 0.8202247191011229, 0.6202247191011232, 1.320224719101123, 0.8202247191011229, 0.6202247191011232, -0.07977528089887698, 0.920224719101123, 1.2202247191011228, 0.8202247191011229, 0.6202247191011232, -0.07977528089887698, 1.320224719101123, 0.8202247191011229, 0.5202247191011231, 1.6202247191011232, 1.820224719101123, 1.2202247191011228, 1.0202247191011231, 1.5202247191011231, 1.2202247191011228]}, {\"line\": {\"color\": \"grey\"}, \"name\": \"Sitten\", \"opacity\": 0.3, \"type\": \"scatter\", \"x\": [1931, 1932, 1933, 1934, 1935, 1936, 1937, 1938, 1939, 1940, 1941, 1942, 1943, 1944, 1945, 1946, 1947, 1948, 1949, 1950, 1951, 1952, 1953, 1954, 1955, 1956, 1957, 1958, 1959, 1960, 1961, 1962, 1963, 1964, 1965, 1966, 1967, 1968, 1969, 1970, 1971, 1972, 1973, 1974, 1975, 1976, 1977, 1978, 1979, 1980, 1981, 1982, 1983, 1984, 1985, 1986, 1987, 1988, 1989, 1990, 1991, 1992, 1993, 1994, 1995, 1996, 1997, 1998, 1999, 2000, 2001, 2002, 2003, 2004, 2005, 2006, 2007, 2008, 2009, 2010, 2011, 2012, 2013, 2014, 2015, 2016, 2017, 2018, 2019], \"y\": [-1.5685393258426927, -0.9685393258426931, -0.8685393258426917, -0.268539325842692, -0.768539325842692, -0.5685393258426927, -0.16853932584269238, -0.4685393258426931, -0.768539325842692, -1.5685393258426927, -1.468539325842693, -0.6685393258426924, 0.23146067415730798, -1.1685393258426924, -0.268539325842692, -0.4685393258426931, 0.6314606741573083, 0.03146067415730691, 0.3314606741573076, -0.06853932584269273, -0.268539325842692, -0.4685393258426931, -0.5685393258426927, -0.9685393258426931, -0.6685393258426924, -1.768539325842692, -0.5685393258426927, -0.6685393258426924, 0.43146067415730727, -0.16853932584269238, 0.3314606741573076, -0.9685393258426931, -1.268539325842692, -0.4685393258426931, -1.3685393258426917, -0.268539325842692, -0.16853932584269238, -0.36853932584269167, -0.8685393258426917, -0.6685393258426924, -0.5685393258426927, -0.4685393258426931, -0.8685393258426917, -0.36853932584269167, -0.36853932584269167, -0.268539325842692, -0.268539325842692, -1.468539325842693, -0.6685393258426924, -1.468539325842693, -0.4685393258426931, 0.13146067415730833, -0.16853932584269238, -0.768539325842692, -0.9685393258426931, -0.268539325842692, -0.36853932584269167, 0.43146067415730727, 0.23146067415730798, 0.5314606741573069, 0.03146067415730691, 0.5314606741573069, 0.6314606741573083, 1.4314606741573073, 0.5314606741573069, 0.23146067415730798, 0.9314606741573073, 0.5314606741573069, 0.43146067415730727, 1.1314606741573083, 0.6314606741573083, 1.231460674157308, 1.6314606741573083, 0.731460674157308, 0.13146067415730833, 0.9314606741573073, 1.1314606741573083, 1.1314606741573083, 1.031460674157307, 0.43146067415730727, 1.6314606741573083, 1.3314606741573076, 0.731460674157308, 2.1314606741573083, 1.8314606741573076, 1.531460674157307, 1.6314606741573083, 2.731460674157308, 2.1314606741573083]}, {\"line\": {\"color\": \"grey\"}, \"name\": \"St. Gallen\", \"opacity\": 0.3, \"type\": \"scatter\", \"x\": [1931, 1932, 1933, 1934, 1935, 1936, 1937, 1938, 1939, 1940, 1941, 1942, 1943, 1944, 1945, 1946, 1947, 1948, 1949, 1950, 1951, 1952, 1953, 1954, 1955, 1956, 1957, 1958, 1959, 1960, 1961, 1962, 1963, 1964, 1965, 1966, 1967, 1968, 1969, 1970, 1971, 1972, 1973, 1974, 1975, 1976, 1977, 1978, 1979, 1980, 1981, 1982, 1983, 1984, 1985, 1986, 1987, 1988, 1989, 1990, 1991, 1992, 1993, 1994, 1995, 1996, 1997, 1998, 1999, 2000, 2001, 2002, 2003, 2004, 2005, 2006, 2007, 2008, 2009, 2010, 2011, 2012, 2013, 2014, 2015, 2016, 2017, 2018, 2019], \"y\": [-1.5752808988764064, -0.9752808988764068, -1.4752808988764068, 0.12471910112359375, -0.8752808988764063, -0.4752808988764068, -0.17528089887640697, -0.675280898876407, -0.8752808988764063, -1.675280898876407, -1.3752808988764063, -0.8752808988764063, 0.12471910112359375, -0.7752808988764066, -0.07528089887640643, -0.2752808988764066, 0.4247191011235927, 0.024719101123593212, 0.2247191011235934, 0.12471910112359375, 0.024719101123593212, -0.37528089887640625, -0.37528089887640625, -0.9752808988764068, -0.9752808988764068, -1.7752808988764066, -0.2752808988764066, -0.2752808988764066, 0.12471910112359375, -0.17528089887640697, 0.6247191011235937, -1.2752808988764066, -1.4752808988764068, -0.4752808988764068, -1.175280898876407, 0.024719101123593212, -0.07528089887640643, -0.5752808988764064, -0.8752808988764063, -0.7752808988764066, -0.4752808988764068, -0.8752808988764063, -0.675280898876407, 0.024719101123593212, -0.17528089887640697, -0.2752808988764066, 0.12471910112359375, -0.9752808988764068, -0.2752808988764066, -0.9752808988764068, -0.2752808988764066, 0.32471910112359303, 0.4247191011235927, -0.7752808988764066, -0.7752808988764066, -0.4752808988764068, -0.4752808988764068, 0.6247191011235937, 0.7247191011235934, 1.024719101123594, -0.2752808988764066, 0.824719101123593, 0.2247191011235934, 1.6247191011235937, 0.32471910112359303, -0.8752808988764063, 0.7247191011235934, 0.824719101123593, 0.6247191011235937, 1.6247191011235937, 0.6247191011235937, 1.324719101123593, 1.324719101123593, 0.4247191011235927, 0.32471910112359303, 1.024719101123594, 1.324719101123593, 0.824719101123593, 1.1247191011235937, -0.17528089887640697, 1.6247191011235937, 0.824719101123593, 0.12471910112359375, 1.824719101123593, 1.824719101123593, 1.2247191011235934, 1.324719101123593, 2.1247191011235937, 1.7247191011235934]}, {\"line\": {\"color\": \"grey\"}, \"name\": \"Z\\u00fcrich-Fluntern\", \"opacity\": 0.3, \"type\": \"scatter\", \"x\": [1931, 1932, 1933, 1934, 1935, 1936, 1937, 1938, 1939, 1940, 1941, 1942, 1943, 1944, 1945, 1946, 1947, 1948, 1949, 1950, 1951, 1952, 1953, 1954, 1955, 1956, 1957, 1958, 1959, 1960, 1961, 1962, 1963, 1964, 1965, 1966, 1967, 1968, 1969, 1970, 1971, 1972, 1973, 1974, 1975, 1976, 1977, 1978, 1979, 1980, 1981, 1982, 1983, 1984, 1985, 1986, 1987, 1988, 1989, 1990, 1991, 1992, 1993, 1994, 1995, 1996, 1997, 1998, 1999, 2000, 2001, 2002, 2003, 2004, 2005, 2006, 2007, 2008, 2009, 2010, 2011, 2012, 2013, 2014, 2015, 2016, 2017, 2018, 2019], \"y\": [-1.4550561797752817, -1.0550561797752822, -1.2550561797752824, 0.04494382022471832, -0.6550561797752827, -0.4550561797752817, -0.2550561797752824, -0.6550561797752827, -0.9550561797752817, -1.7550561797752824, -1.4550561797752817, -0.9550561797752817, 0.34494382022471726, -0.6550561797752827, 0.14494382022471797, -0.2550561797752824, 0.5449438202247183, 0.04494382022471832, 0.5449438202247183, 0.14494382022471797, -0.2550561797752824, -0.2550561797752824, -0.35505617977528203, -0.855056179775282, -0.7550561797752824, -1.7550561797752824, -0.2550561797752824, -0.2550561797752824, 0.34494382022471726, -0.2550561797752824, 0.644943820224718, -1.2550561797752824, -1.4550561797752817, -0.35505617977528203, -1.2550561797752824, -0.15505617977528274, -0.15505617977528274, -0.6550561797752827, -0.855056179775282, -0.9550561797752817, -0.5550561797752813, -0.9550561797752817, -0.855056179775282, 0.04494382022471832, -0.2550561797752824, -0.2550561797752824, 0.04494382022471832, -0.9550561797752817, -0.35505617977528203, -0.9550561797752817, -0.2550561797752824, 0.34494382022471726, 0.4449438202247187, -0.5550561797752813, -0.6550561797752827, -0.4550561797752817, -0.5550561797752813, 0.5449438202247183, 0.5449438202247183, 0.8449438202247173, 0.04494382022471832, 0.644943820224718, 0.2449438202247176, 1.644943820224718, 0.34494382022471726, -0.7550561797752824, 0.5449438202247183, 0.644943820224718, 0.5449438202247183, 1.3449438202247173, 0.5449438202247183, 1.3449438202247173, 1.2449438202247176, 0.644943820224718, 0.4449438202247187, 0.9449438202247187, 1.2449438202247176, 0.7449438202247176, 1.0449438202247183, -0.05505617977528132, 1.644943820224718, 0.8449438202247173, 0.2449438202247176, 1.7449438202247176, 1.7449438202247176, 1.0449438202247183, 1.3449438202247173, 2.2449438202247176, 1.644943820224718]}, {\"line\": {\"color\": \"black\", \"dash\": \"dot\", \"width\": 1}, \"name\": \"Zentriertes Mittel\", \"opacity\": 0.8, \"type\": \"scatter\", \"x\": [1931, 1932, 1933, 1934, 1935, 1936, 1937, 1938, 1939, 1940, 1941, 1942, 1943, 1944, 1945, 1946, 1947, 1948, 1949, 1950, 1951, 1952, 1953, 1954, 1955, 1956, 1957, 1958, 1959, 1960, 1961, 1962, 1963, 1964, 1965, 1966, 1967, 1968, 1969, 1970, 1971, 1972, 1973, 1974, 1975, 1976, 1977, 1978, 1979, 1980, 1981, 1982, 1983, 1984, 1985, 1986, 1987, 1988, 1989, 1990, 1991, 1992, 1993, 1994, 1995, 1996, 1997, 1998, 1999, 2000, 2001, 2002, 2003, 2004, 2005, 2006, 2007, 2008, 2009, 2010, 2011, 2012, 2013, 2014, 2015, 2016, 2017, 2018, 2019], \"y\": [0, 0, 0, 0, 0, 0, 0, 0, 0, 0, 0, 0, 0, 0, 0, 0, 0, 0, 0, 0, 0, 0, 0, 0, 0, 0, 0, 0, 0, 0, 0, 0, 0, 0, 0, 0, 0, 0, 0, 0, 0, 0, 0, 0, 0, 0, 0, 0, 0, 0, 0, 0, 0, 0, 0, 0, 0, 0, 0, 0, 0, 0, 0, 0, 0, 0, 0, 0, 0, 0, 0, 0, 0, 0, 0, 0, 0, 0, 0, 0, 0, 0, 0, 0, 0, 0, 0, 0, 0]}],\n",
       "                        {\"template\": {\"data\": {\"bar\": [{\"error_x\": {\"color\": \"rgb(36,36,36)\"}, \"error_y\": {\"color\": \"rgb(36,36,36)\"}, \"marker\": {\"line\": {\"color\": \"white\", \"width\": 0.5}}, \"type\": \"bar\"}], \"barpolar\": [{\"marker\": {\"line\": {\"color\": \"white\", \"width\": 0.5}}, \"type\": \"barpolar\"}], \"carpet\": [{\"aaxis\": {\"endlinecolor\": \"rgb(36,36,36)\", \"gridcolor\": \"white\", \"linecolor\": \"white\", \"minorgridcolor\": \"white\", \"startlinecolor\": \"rgb(36,36,36)\"}, \"baxis\": {\"endlinecolor\": \"rgb(36,36,36)\", \"gridcolor\": \"white\", \"linecolor\": \"white\", \"minorgridcolor\": \"white\", \"startlinecolor\": \"rgb(36,36,36)\"}, \"type\": \"carpet\"}], \"choropleth\": [{\"colorbar\": {\"outlinewidth\": 1, \"tickcolor\": \"rgb(36,36,36)\", \"ticks\": \"outside\"}, \"type\": \"choropleth\"}], \"contour\": [{\"colorbar\": {\"outlinewidth\": 1, \"tickcolor\": \"rgb(36,36,36)\", \"ticks\": \"outside\"}, \"colorscale\": [[0.0, \"#440154\"], [0.1111111111111111, \"#482878\"], [0.2222222222222222, \"#3e4989\"], [0.3333333333333333, \"#31688e\"], [0.4444444444444444, \"#26828e\"], [0.5555555555555556, \"#1f9e89\"], [0.6666666666666666, \"#35b779\"], [0.7777777777777778, \"#6ece58\"], [0.8888888888888888, \"#b5de2b\"], [1.0, \"#fde725\"]], \"type\": \"contour\"}], \"contourcarpet\": [{\"colorbar\": {\"outlinewidth\": 1, \"tickcolor\": \"rgb(36,36,36)\", \"ticks\": \"outside\"}, \"type\": \"contourcarpet\"}], \"heatmap\": [{\"colorbar\": {\"outlinewidth\": 1, \"tickcolor\": \"rgb(36,36,36)\", \"ticks\": \"outside\"}, \"colorscale\": [[0.0, \"#440154\"], [0.1111111111111111, \"#482878\"], [0.2222222222222222, \"#3e4989\"], [0.3333333333333333, \"#31688e\"], [0.4444444444444444, \"#26828e\"], [0.5555555555555556, \"#1f9e89\"], [0.6666666666666666, \"#35b779\"], [0.7777777777777778, \"#6ece58\"], [0.8888888888888888, \"#b5de2b\"], [1.0, \"#fde725\"]], \"type\": \"heatmap\"}], \"heatmapgl\": [{\"colorbar\": {\"outlinewidth\": 1, \"tickcolor\": \"rgb(36,36,36)\", \"ticks\": \"outside\"}, \"colorscale\": [[0.0, \"#440154\"], [0.1111111111111111, \"#482878\"], [0.2222222222222222, \"#3e4989\"], [0.3333333333333333, \"#31688e\"], [0.4444444444444444, \"#26828e\"], [0.5555555555555556, \"#1f9e89\"], [0.6666666666666666, \"#35b779\"], [0.7777777777777778, \"#6ece58\"], [0.8888888888888888, \"#b5de2b\"], [1.0, \"#fde725\"]], \"type\": \"heatmapgl\"}], \"histogram\": [{\"marker\": {\"line\": {\"color\": \"white\", \"width\": 0.6}}, \"type\": \"histogram\"}], \"histogram2d\": [{\"colorbar\": {\"outlinewidth\": 1, \"tickcolor\": \"rgb(36,36,36)\", \"ticks\": \"outside\"}, \"colorscale\": [[0.0, \"#440154\"], [0.1111111111111111, \"#482878\"], [0.2222222222222222, \"#3e4989\"], [0.3333333333333333, \"#31688e\"], [0.4444444444444444, \"#26828e\"], [0.5555555555555556, \"#1f9e89\"], [0.6666666666666666, \"#35b779\"], [0.7777777777777778, \"#6ece58\"], [0.8888888888888888, \"#b5de2b\"], [1.0, \"#fde725\"]], \"type\": \"histogram2d\"}], \"histogram2dcontour\": [{\"colorbar\": {\"outlinewidth\": 1, \"tickcolor\": \"rgb(36,36,36)\", \"ticks\": \"outside\"}, \"colorscale\": [[0.0, \"#440154\"], [0.1111111111111111, \"#482878\"], [0.2222222222222222, \"#3e4989\"], [0.3333333333333333, \"#31688e\"], [0.4444444444444444, \"#26828e\"], [0.5555555555555556, \"#1f9e89\"], [0.6666666666666666, \"#35b779\"], [0.7777777777777778, \"#6ece58\"], [0.8888888888888888, \"#b5de2b\"], [1.0, \"#fde725\"]], \"type\": \"histogram2dcontour\"}], \"mesh3d\": [{\"colorbar\": {\"outlinewidth\": 1, \"tickcolor\": \"rgb(36,36,36)\", \"ticks\": \"outside\"}, \"type\": \"mesh3d\"}], \"parcoords\": [{\"line\": {\"colorbar\": {\"outlinewidth\": 1, \"tickcolor\": \"rgb(36,36,36)\", \"ticks\": \"outside\"}}, \"type\": \"parcoords\"}], \"pie\": [{\"automargin\": true, \"type\": \"pie\"}], \"scatter\": [{\"marker\": {\"colorbar\": {\"outlinewidth\": 1, \"tickcolor\": \"rgb(36,36,36)\", \"ticks\": \"outside\"}}, \"type\": \"scatter\"}], \"scatter3d\": [{\"line\": {\"colorbar\": {\"outlinewidth\": 1, \"tickcolor\": \"rgb(36,36,36)\", \"ticks\": \"outside\"}}, \"marker\": {\"colorbar\": {\"outlinewidth\": 1, \"tickcolor\": \"rgb(36,36,36)\", \"ticks\": \"outside\"}}, \"type\": \"scatter3d\"}], \"scattercarpet\": [{\"marker\": {\"colorbar\": {\"outlinewidth\": 1, \"tickcolor\": \"rgb(36,36,36)\", \"ticks\": \"outside\"}}, \"type\": \"scattercarpet\"}], \"scattergeo\": [{\"marker\": {\"colorbar\": {\"outlinewidth\": 1, \"tickcolor\": \"rgb(36,36,36)\", \"ticks\": \"outside\"}}, \"type\": \"scattergeo\"}], \"scattergl\": [{\"marker\": {\"colorbar\": {\"outlinewidth\": 1, \"tickcolor\": \"rgb(36,36,36)\", \"ticks\": \"outside\"}}, \"type\": \"scattergl\"}], \"scattermapbox\": [{\"marker\": {\"colorbar\": {\"outlinewidth\": 1, \"tickcolor\": \"rgb(36,36,36)\", \"ticks\": \"outside\"}}, \"type\": \"scattermapbox\"}], \"scatterpolar\": [{\"marker\": {\"colorbar\": {\"outlinewidth\": 1, \"tickcolor\": \"rgb(36,36,36)\", \"ticks\": \"outside\"}}, \"type\": \"scatterpolar\"}], \"scatterpolargl\": [{\"marker\": {\"colorbar\": {\"outlinewidth\": 1, \"tickcolor\": \"rgb(36,36,36)\", \"ticks\": \"outside\"}}, \"type\": \"scatterpolargl\"}], \"scatterternary\": [{\"marker\": {\"colorbar\": {\"outlinewidth\": 1, \"tickcolor\": \"rgb(36,36,36)\", \"ticks\": \"outside\"}}, \"type\": \"scatterternary\"}], \"surface\": [{\"colorbar\": {\"outlinewidth\": 1, \"tickcolor\": \"rgb(36,36,36)\", \"ticks\": \"outside\"}, \"colorscale\": [[0.0, \"#440154\"], [0.1111111111111111, \"#482878\"], [0.2222222222222222, \"#3e4989\"], [0.3333333333333333, \"#31688e\"], [0.4444444444444444, \"#26828e\"], [0.5555555555555556, \"#1f9e89\"], [0.6666666666666666, \"#35b779\"], [0.7777777777777778, \"#6ece58\"], [0.8888888888888888, \"#b5de2b\"], [1.0, \"#fde725\"]], \"type\": \"surface\"}], \"table\": [{\"cells\": {\"fill\": {\"color\": \"rgb(237,237,237)\"}, \"line\": {\"color\": \"white\"}}, \"header\": {\"fill\": {\"color\": \"rgb(217,217,217)\"}, \"line\": {\"color\": \"white\"}}, \"type\": \"table\"}]}, \"layout\": {\"annotationdefaults\": {\"arrowhead\": 0, \"arrowwidth\": 1}, \"coloraxis\": {\"colorbar\": {\"outlinewidth\": 1, \"tickcolor\": \"rgb(36,36,36)\", \"ticks\": \"outside\"}}, \"colorscale\": {\"diverging\": [[0.0, \"rgb(103,0,31)\"], [0.1, \"rgb(178,24,43)\"], [0.2, \"rgb(214,96,77)\"], [0.3, \"rgb(244,165,130)\"], [0.4, \"rgb(253,219,199)\"], [0.5, \"rgb(247,247,247)\"], [0.6, \"rgb(209,229,240)\"], [0.7, \"rgb(146,197,222)\"], [0.8, \"rgb(67,147,195)\"], [0.9, \"rgb(33,102,172)\"], [1.0, \"rgb(5,48,97)\"]], \"sequential\": [[0.0, \"#440154\"], [0.1111111111111111, \"#482878\"], [0.2222222222222222, \"#3e4989\"], [0.3333333333333333, \"#31688e\"], [0.4444444444444444, \"#26828e\"], [0.5555555555555556, \"#1f9e89\"], [0.6666666666666666, \"#35b779\"], [0.7777777777777778, \"#6ece58\"], [0.8888888888888888, \"#b5de2b\"], [1.0, \"#fde725\"]], \"sequentialminus\": [[0.0, \"#440154\"], [0.1111111111111111, \"#482878\"], [0.2222222222222222, \"#3e4989\"], [0.3333333333333333, \"#31688e\"], [0.4444444444444444, \"#26828e\"], [0.5555555555555556, \"#1f9e89\"], [0.6666666666666666, \"#35b779\"], [0.7777777777777778, \"#6ece58\"], [0.8888888888888888, \"#b5de2b\"], [1.0, \"#fde725\"]]}, \"colorway\": [\"#1F77B4\", \"#FF7F0E\", \"#2CA02C\", \"#D62728\", \"#9467BD\", \"#8C564B\", \"#E377C2\", \"#7F7F7F\", \"#BCBD22\", \"#17BECF\"], \"font\": {\"color\": \"rgb(36,36,36)\"}, \"geo\": {\"bgcolor\": \"white\", \"lakecolor\": \"white\", \"landcolor\": \"white\", \"showlakes\": true, \"showland\": true, \"subunitcolor\": \"white\"}, \"hoverlabel\": {\"align\": \"left\"}, \"hovermode\": \"closest\", \"mapbox\": {\"style\": \"light\"}, \"paper_bgcolor\": \"white\", \"plot_bgcolor\": \"white\", \"polar\": {\"angularaxis\": {\"gridcolor\": \"rgb(232,232,232)\", \"linecolor\": \"rgb(36,36,36)\", \"showgrid\": false, \"showline\": true, \"ticks\": \"outside\"}, \"bgcolor\": \"white\", \"radialaxis\": {\"gridcolor\": \"rgb(232,232,232)\", \"linecolor\": \"rgb(36,36,36)\", \"showgrid\": false, \"showline\": true, \"ticks\": \"outside\"}}, \"scene\": {\"xaxis\": {\"backgroundcolor\": \"white\", \"gridcolor\": \"rgb(232,232,232)\", \"gridwidth\": 2, \"linecolor\": \"rgb(36,36,36)\", \"showbackground\": true, \"showgrid\": false, \"showline\": true, \"ticks\": \"outside\", \"zeroline\": false, \"zerolinecolor\": \"rgb(36,36,36)\"}, \"yaxis\": {\"backgroundcolor\": \"white\", \"gridcolor\": \"rgb(232,232,232)\", \"gridwidth\": 2, \"linecolor\": \"rgb(36,36,36)\", \"showbackground\": true, \"showgrid\": false, \"showline\": true, \"ticks\": \"outside\", \"zeroline\": false, \"zerolinecolor\": \"rgb(36,36,36)\"}, \"zaxis\": {\"backgroundcolor\": \"white\", \"gridcolor\": \"rgb(232,232,232)\", \"gridwidth\": 2, \"linecolor\": \"rgb(36,36,36)\", \"showbackground\": true, \"showgrid\": false, \"showline\": true, \"ticks\": \"outside\", \"zeroline\": false, \"zerolinecolor\": \"rgb(36,36,36)\"}}, \"shapedefaults\": {\"fillcolor\": \"black\", \"line\": {\"width\": 0}, \"opacity\": 0.3}, \"ternary\": {\"aaxis\": {\"gridcolor\": \"rgb(232,232,232)\", \"linecolor\": \"rgb(36,36,36)\", \"showgrid\": false, \"showline\": true, \"ticks\": \"outside\"}, \"baxis\": {\"gridcolor\": \"rgb(232,232,232)\", \"linecolor\": \"rgb(36,36,36)\", \"showgrid\": false, \"showline\": true, \"ticks\": \"outside\"}, \"bgcolor\": \"white\", \"caxis\": {\"gridcolor\": \"rgb(232,232,232)\", \"linecolor\": \"rgb(36,36,36)\", \"showgrid\": false, \"showline\": true, \"ticks\": \"outside\"}}, \"title\": {\"x\": 0.05}, \"xaxis\": {\"automargin\": true, \"gridcolor\": \"rgb(232,232,232)\", \"linecolor\": \"rgb(36,36,36)\", \"showgrid\": false, \"showline\": true, \"ticks\": \"outside\", \"title\": {\"standoff\": 15}, \"zeroline\": false, \"zerolinecolor\": \"rgb(36,36,36)\"}, \"yaxis\": {\"automargin\": true, \"gridcolor\": \"rgb(232,232,232)\", \"linecolor\": \"rgb(36,36,36)\", \"showgrid\": false, \"showline\": true, \"ticks\": \"outside\", \"title\": {\"standoff\": 15}, \"zeroline\": false, \"zerolinecolor\": \"rgb(36,36,36)\"}}}, \"title\": {\"text\": \"Temperaturabweichungen aller Orte zum Mittelwert\"}, \"xaxis\": {\"title\": {\"text\": \"Temperaturdifferenz in K\"}}, \"yaxis\": {\"title\": {\"text\": \"Jahre\"}}},\n",
       "                        {\"responsive\": true}\n",
       "                    ).then(function(){\n",
       "                            \n",
       "var gd = document.getElementById('a1dd0ab7-9a88-4067-b44b-863e6d3490f9');\n",
       "var x = new MutationObserver(function (mutations, observer) {{\n",
       "        var display = window.getComputedStyle(gd).display;\n",
       "        if (!display || display === 'none') {{\n",
       "            console.log([gd, 'removed!']);\n",
       "            Plotly.purge(gd);\n",
       "            observer.disconnect();\n",
       "        }}\n",
       "}});\n",
       "\n",
       "// Listen for the removal of the full notebook cells\n",
       "var notebookContainer = gd.closest('#notebook-container');\n",
       "if (notebookContainer) {{\n",
       "    x.observe(notebookContainer, {childList: true});\n",
       "}}\n",
       "\n",
       "// Listen for the clearing of the current output cell\n",
       "var outputEl = gd.closest('.output');\n",
       "if (outputEl) {{\n",
       "    x.observe(outputEl, {childList: true});\n",
       "}}\n",
       "\n",
       "                        })\n",
       "                };\n",
       "                });\n",
       "            </script>\n",
       "        </div>"
      ]
     },
     "metadata": {},
     "output_type": "display_data"
    }
   ],
   "source": [
    "def lineplot_swiss_temp(data):\n",
    "    data = data.copy()\n",
    "    \n",
    "    for column in data.columns:\n",
    "        data[column] = data[column] - data[column].mean()\n",
    "        \n",
    "    fig = go.Figure()\n",
    "    for column in data.columns:\n",
    "        if column != 'Davos':\n",
    "            fig.add_trace(go.Scatter(x=data.index,\n",
    "                                     y=data[column], \n",
    "                                     name=column,\n",
    "                                     line=dict(color='grey'),\n",
    "                                     opacity=0.3)\n",
    "                         )\n",
    "        else:\n",
    "            fig.add_trace(go.Scatter(x=data.index,\n",
    "                                     y=data[column],\n",
    "                                     name=column, \n",
    "                                     line=dict(color='red',\n",
    "                                               width=2)\n",
    "                                    )\n",
    "                         )\n",
    "    fig.add_trace(go.Scatter(x=data.index,\n",
    "                             y=[0 for i in range(data.shape[0])],\n",
    "                             name='Zentriertes Mittel',\n",
    "                             line=dict(color='black', \n",
    "                                       dash='dot',\n",
    "                                       width=1),\n",
    "                             opacity=0.8)\n",
    "                  \n",
    "                 )\n",
    "    \n",
    "    fig.update_layout(template='simple_white',\n",
    "                      title='Temperaturabweichungen aller Orte zum Mittelwert',\n",
    "                      xaxis_title='Temperaturdifferenz in K',\n",
    "                      yaxis_title='Jahre')\n",
    "    fig.show()\n",
    "    \n",
    "    \n",
    "lineplot_swiss_temp(swiss_temp)"
   ]
  },
  {
   "cell_type": "code",
   "execution_count": 129,
   "metadata": {},
   "outputs": [
    {
     "data": {
      "application/vnd.plotly.v1+json": {
       "config": {
        "plotlyServerURL": "https://plot.ly"
       },
       "data": [
        {
         "hovertemplate": "color=Basel-Binningen<br>Years=%{x}<br>Temperature Difference in K=%{y}<extra></extra>",
         "legendgroup": "Basel-Binningen",
         "line": {
          "color": "rgb(1,1,100)",
          "dash": "solid"
         },
         "mode": "lines",
         "name": "Basel-Binningen",
         "showlegend": true,
         "type": "scattergl",
         "x": [
          1931,
          1932,
          1933,
          1934,
          1935,
          1936,
          1937,
          1938,
          1939,
          1940,
          1941,
          1942,
          1943,
          1944,
          1945,
          1946,
          1947,
          1948,
          1949,
          1950,
          1951,
          1952,
          1953,
          1954,
          1955,
          1956,
          1957,
          1958,
          1959,
          1960,
          1961,
          1962,
          1963,
          1964,
          1965,
          1966,
          1967,
          1968,
          1969,
          1970,
          1971,
          1972,
          1973,
          1974,
          1975,
          1976,
          1977,
          1978,
          1979,
          1980,
          1981,
          1982,
          1983,
          1984,
          1985,
          1986,
          1987,
          1988,
          1989,
          1990,
          1991,
          1992,
          1993,
          1994,
          1995,
          1996,
          1997,
          1998,
          1999,
          2000,
          2001,
          2002,
          2003,
          2004,
          2005,
          2006,
          2007,
          2008,
          2009,
          2010,
          2011,
          2012,
          2013,
          2014,
          2015,
          2016,
          2017,
          2018,
          2019
         ],
         "xaxis": "x",
         "y": [
          -1.4584269662921336,
          -1.0584269662921333,
          -1.158426966292133,
          -0.05842696629213329,
          -0.5584269662921333,
          -0.45842696629213364,
          -0.15842696629213293,
          -0.6584269662921329,
          -0.858426966292134,
          -1.7584269662921344,
          -1.5584269662921333,
          -1.158426966292133,
          0.24157303370786565,
          -0.6584269662921329,
          0.04157303370786636,
          -0.45842696629213364,
          0.5415730337078664,
          -0.05842696629213329,
          0.4415730337078667,
          0.04157303370786636,
          -0.358426966292134,
          -0.25842696629213435,
          -0.358426966292134,
          -0.9584269662921336,
          -0.858426966292134,
          -2.0584269662921333,
          -0.45842696629213364,
          -0.358426966292134,
          0.24157303370786565,
          -0.358426966292134,
          0.5415730337078664,
          -1.358426966292134,
          -1.4584269662921336,
          -0.15842696629213293,
          -0.7584269662921344,
          -0.05842696629213329,
          -0.15842696629213293,
          -0.6584269662921329,
          -0.9584269662921336,
          -0.7584269662921344,
          -0.6584269662921329,
          -1.0584269662921333,
          -0.7584269662921344,
          0.04157303370786636,
          -0.25842696629213435,
          0.04157303370786636,
          -0.05842696629213329,
          -0.9584269662921336,
          -0.45842696629213364,
          -1.0584269662921333,
          -0.358426966292134,
          0.34157303370786707,
          0.34157303370786707,
          -0.45842696629213364,
          -0.9584269662921336,
          -0.5584269662921333,
          -0.45842696629213364,
          0.5415730337078664,
          0.641573033707866,
          0.9415730337078667,
          0.04157303370786636,
          0.7415730337078656,
          0.24157303370786565,
          1.5415730337078664,
          0.5415730337078664,
          -0.5584269662921333,
          0.641573033707866,
          0.641573033707866,
          0.7415730337078656,
          1.4415730337078667,
          0.641573033707866,
          1.2415730337078656,
          1.4415730337078667,
          0.641573033707866,
          0.4415730337078667,
          0.9415730337078667,
          1.341573033707867,
          0.8415730337078671,
          1.141573033707866,
          -0.05842696629213329,
          1.641573033707866,
          0.9415730337078667,
          0.34157303370786707,
          1.9415730337078667,
          1.7415730337078656,
          0.9415730337078667,
          1.4415730337078667,
          2.2415730337078656,
          1.641573033707866
         ],
         "yaxis": "y"
        },
        {
         "hovertemplate": "color=Bern-Zollikofen <br>Years=%{x}<br>Temperature Difference in K=%{y}<extra></extra>",
         "legendgroup": "Bern-Zollikofen ",
         "line": {
          "color": "rgb(1,1,100)",
          "dash": "solid"
         },
         "mode": "lines",
         "name": "Bern-Zollikofen ",
         "showlegend": true,
         "type": "scattergl",
         "x": [
          1931,
          1932,
          1933,
          1934,
          1935,
          1936,
          1937,
          1938,
          1939,
          1940,
          1941,
          1942,
          1943,
          1944,
          1945,
          1946,
          1947,
          1948,
          1949,
          1950,
          1951,
          1952,
          1953,
          1954,
          1955,
          1956,
          1957,
          1958,
          1959,
          1960,
          1961,
          1962,
          1963,
          1964,
          1965,
          1966,
          1967,
          1968,
          1969,
          1970,
          1971,
          1972,
          1973,
          1974,
          1975,
          1976,
          1977,
          1978,
          1979,
          1980,
          1981,
          1982,
          1983,
          1984,
          1985,
          1986,
          1987,
          1988,
          1989,
          1990,
          1991,
          1992,
          1993,
          1994,
          1995,
          1996,
          1997,
          1998,
          1999,
          2000,
          2001,
          2002,
          2003,
          2004,
          2005,
          2006,
          2007,
          2008,
          2009,
          2010,
          2011,
          2012,
          2013,
          2014,
          2015,
          2016,
          2017,
          2018,
          2019
         ],
         "xaxis": "x",
         "y": [
          -1.1258426966292143,
          -0.9258426966292141,
          -1.0258426966292147,
          0.07415730337078585,
          -0.5258426966292147,
          -0.3258426966292145,
          -0.1258426966292152,
          -0.5258426966292147,
          -0.9258426966292141,
          -1.5258426966292147,
          -1.4258426966292141,
          -1.1258426966292143,
          0.1741573033707855,
          -0.9258426966292141,
          -0.1258426966292152,
          -0.42584269662921415,
          0.8741573033707848,
          0.1741573033707855,
          0.6741573033707855,
          0.27415730337078514,
          -0.22584269662921486,
          -0.02584269662921379,
          -0.3258426966292145,
          -0.6258426966292143,
          -0.7258426966292149,
          -1.8258426966292145,
          -0.42584269662921415,
          -0.42584269662921415,
          0.1741573033707855,
          -0.5258426966292147,
          0.4741573033707862,
          -1.2258426966292149,
          -1.6258426966292143,
          -0.3258426966292145,
          -1.1258426966292143,
          -0.02584269662921379,
          -0.1258426966292152,
          -0.6258426966292143,
          -0.8258426966292145,
          -0.8258426966292145,
          -0.7258426966292149,
          -0.9258426966292141,
          -0.8258426966292145,
          -0.02584269662921379,
          -0.3258426966292145,
          -0.1258426966292152,
          -0.1258426966292152,
          -1.0258426966292147,
          -0.42584269662921415,
          -1.0258426966292147,
          -0.3258426966292145,
          0.3741573033707848,
          0.1741573033707855,
          -0.5258426966292147,
          -0.7258426966292149,
          -0.3258426966292145,
          -0.42584269662921415,
          0.4741573033707862,
          0.4741573033707862,
          0.7741573033707851,
          -0.1258426966292152,
          0.4741573033707862,
          0.27415730337078514,
          1.6741573033707855,
          0.4741573033707862,
          -0.42584269662921415,
          0.6741573033707855,
          0.5741573033707859,
          0.5741573033707859,
          1.2741573033707851,
          0.7741573033707851,
          1.0741573033707859,
          1.1741573033707855,
          0.4741573033707862,
          0.1741573033707855,
          0.8741573033707848,
          1.1741573033707855,
          0.6741573033707855,
          1.0741573033707859,
          0.27415730337078514,
          1.7741573033707851,
          0.8741573033707848,
          0.3741573033707848,
          1.6741573033707855,
          1.5741573033707859,
          1.0741573033707859,
          1.2741573033707851,
          2.1741573033707855,
          1.6741573033707855
         ],
         "yaxis": "y"
        },
        {
         "hovertemplate": "color=Davos<br>Years=%{x}<br>Temperature Difference in K=%{y}<extra></extra>",
         "legendgroup": "Davos",
         "line": {
          "color": "rgb(1,1,100)",
          "dash": "solid"
         },
         "mode": "lines",
         "name": "Davos",
         "showlegend": true,
         "type": "scattergl",
         "x": [
          1931,
          1932,
          1933,
          1934,
          1935,
          1936,
          1937,
          1938,
          1939,
          1940,
          1941,
          1942,
          1943,
          1944,
          1945,
          1946,
          1947,
          1948,
          1949,
          1950,
          1951,
          1952,
          1953,
          1954,
          1955,
          1956,
          1957,
          1958,
          1959,
          1960,
          1961,
          1962,
          1963,
          1964,
          1965,
          1966,
          1967,
          1968,
          1969,
          1970,
          1971,
          1972,
          1973,
          1974,
          1975,
          1976,
          1977,
          1978,
          1979,
          1980,
          1981,
          1982,
          1983,
          1984,
          1985,
          1986,
          1987,
          1988,
          1989,
          1990,
          1991,
          1992,
          1993,
          1994,
          1995,
          1996,
          1997,
          1998,
          1999,
          2000,
          2001,
          2002,
          2003,
          2004,
          2005,
          2006,
          2007,
          2008,
          2009,
          2010,
          2011,
          2012,
          2013,
          2014,
          2015,
          2016,
          2017,
          2018,
          2019
         ],
         "xaxis": "x",
         "y": [
          -1.3449438202247184,
          -0.7449438202247185,
          -1.2449438202247183,
          0.2550561797752815,
          -1.2449438202247183,
          -0.6449438202247184,
          -0.5449438202247183,
          -0.7449438202247185,
          -0.8449438202247181,
          -1.6449438202247184,
          -1.3449438202247184,
          -0.6449438202247184,
          0.055056179775281766,
          -1.3449438202247184,
          -0.5449438202247183,
          -0.04494382022471832,
          0.5550561797752818,
          0.15505617977528185,
          0.15505617977528185,
          -0.2449438202247185,
          -0.1449438202247184,
          -0.8449438202247181,
          -0.34494382022471815,
          -1.1449438202247184,
          -1.0449438202247183,
          -2.1449438202247184,
          -0.04494382022471832,
          -0.44494382022471823,
          0.15505617977528185,
          -0.2449438202247185,
          0.6550561797752819,
          -1.4449438202247182,
          -1.1449438202247184,
          0.055056179775281766,
          -1.2449438202247183,
          -0.44494382022471823,
          -0.34494382022471815,
          -0.44494382022471823,
          -0.44494382022471823,
          -0.7449438202247185,
          0.055056179775281766,
          -0.1449438202247184,
          -0.44494382022471823,
          -0.34494382022471815,
          0.055056179775281766,
          -0.34494382022471815,
          0.15505617977528185,
          -0.44494382022471823,
          -0.44494382022471823,
          -0.9449438202247182,
          -0.44494382022471823,
          0.2550561797752815,
          0.3550561797752816,
          -0.7449438202247185,
          -0.44494382022471823,
          0.055056179775281766,
          -0.04494382022471832,
          0.4550561797752817,
          1.1550561797752819,
          0.7550561797752815,
          0.15505617977528185,
          0.7550561797752815,
          0.3550561797752816,
          1.5550561797752813,
          0.15505617977528185,
          0.055056179775281766,
          1.0550561797752813,
          0.4550561797752817,
          0.4550561797752817,
          1.0550561797752813,
          0.4550561797752817,
          1.2550561797752815,
          1.2550561797752815,
          0.4550561797752817,
          -0.04494382022471832,
          1.1550561797752819,
          1.0550561797752813,
          0.7550561797752815,
          0.7550561797752815,
          -0.34494382022471815,
          1.6550561797752819,
          0.8550561797752816,
          0.5550561797752818,
          1.7550561797752815,
          1.7550561797752815,
          1.355056179775282,
          1.1550561797752819,
          1.9550561797752817,
          1.4550561797752817
         ],
         "yaxis": "y"
        },
        {
         "hovertemplate": "color=Genf-Cointrin<br>Years=%{x}<br>Temperature Difference in K=%{y}<extra></extra>",
         "legendgroup": "Genf-Cointrin",
         "line": {
          "color": "rgb(1,1,100)",
          "dash": "solid"
         },
         "mode": "lines",
         "name": "Genf-Cointrin",
         "showlegend": true,
         "type": "scattergl",
         "x": [
          1931,
          1932,
          1933,
          1934,
          1935,
          1936,
          1937,
          1938,
          1939,
          1940,
          1941,
          1942,
          1943,
          1944,
          1945,
          1946,
          1947,
          1948,
          1949,
          1950,
          1951,
          1952,
          1953,
          1954,
          1955,
          1956,
          1957,
          1958,
          1959,
          1960,
          1961,
          1962,
          1963,
          1964,
          1965,
          1966,
          1967,
          1968,
          1969,
          1970,
          1971,
          1972,
          1973,
          1974,
          1975,
          1976,
          1977,
          1978,
          1979,
          1980,
          1981,
          1982,
          1983,
          1984,
          1985,
          1986,
          1987,
          1988,
          1989,
          1990,
          1991,
          1992,
          1993,
          1994,
          1995,
          1996,
          1997,
          1998,
          1999,
          2000,
          2001,
          2002,
          2003,
          2004,
          2005,
          2006,
          2007,
          2008,
          2009,
          2010,
          2011,
          2012,
          2013,
          2014,
          2015,
          2016,
          2017,
          2018,
          2019
         ],
         "xaxis": "x",
         "y": [
          -1.0730337078651715,
          -0.8730337078651722,
          -1.0730337078651715,
          -0.0730337078651715,
          -0.47303370786517185,
          -0.47303370786517185,
          -0.0730337078651715,
          -0.6730337078651711,
          -0.9730337078651718,
          -1.3730337078651722,
          -1.2730337078651708,
          -0.7730337078651708,
          0.32696629213482886,
          -0.47303370786517185,
          0.22696629213482922,
          -0.0730337078651715,
          0.8269662921348289,
          0.02696629213482815,
          0.5269662921348282,
          0.32696629213482886,
          -0.47303370786517185,
          -0.17303370786517114,
          -0.3730337078651722,
          -0.6730337078651711,
          -0.3730337078651722,
          -1.5730337078651715,
          -0.5730337078651715,
          -0.47303370786517185,
          0.1269662921348278,
          -0.3730337078651722,
          0.5269662921348282,
          -0.9730337078651718,
          -1.5730337078651715,
          -0.2730337078651708,
          -1.2730337078651708,
          -0.0730337078651715,
          -0.3730337078651722,
          -0.6730337078651711,
          -0.9730337078651718,
          -0.7730337078651708,
          -0.7730337078651708,
          -0.8730337078651722,
          -0.9730337078651718,
          -0.2730337078651708,
          -0.3730337078651722,
          -0.2730337078651708,
          -0.17303370786517114,
          -1.0730337078651715,
          -0.3730337078651722,
          -1.1730337078651711,
          -0.47303370786517185,
          0.32696629213482886,
          0.22696629213482922,
          -0.5730337078651715,
          -0.8730337078651722,
          -0.2730337078651708,
          -0.17303370786517114,
          0.4269662921348285,
          0.6269662921348278,
          0.7269662921348292,
          0.1269662921348278,
          0.5269662921348282,
          0.02696629213482815,
          1.5269662921348282,
          0.6269662921348278,
          -0.2730337078651708,
          0.6269662921348278,
          0.5269662921348282,
          0.4269662921348285,
          1.1269662921348278,
          0.8269662921348289,
          1.1269662921348278,
          1.3269662921348289,
          0.6269662921348278,
          0.22696629213482922,
          1.1269662921348278,
          1.1269662921348278,
          0.7269662921348292,
          1.1269662921348278,
          0.02696629213482815,
          1.3269662921348289,
          0.8269662921348289,
          0.1269662921348278,
          1.6269662921348278,
          1.5269662921348282,
          1.0269662921348282,
          1.2269662921348292,
          2.226966292134829,
          1.7269662921348292
         ],
         "yaxis": "y"
        },
        {
         "hovertemplate": "color=Locarno-Monti<br>Years=%{x}<br>Temperature Difference in K=%{y}<extra></extra>",
         "legendgroup": "Locarno-Monti",
         "line": {
          "color": "rgb(1,1,100)",
          "dash": "solid"
         },
         "mode": "lines",
         "name": "Locarno-Monti",
         "showlegend": true,
         "type": "scattergl",
         "x": [
          1931,
          1932,
          1933,
          1934,
          1935,
          1936,
          1937,
          1938,
          1939,
          1940,
          1941,
          1942,
          1943,
          1944,
          1945,
          1946,
          1947,
          1948,
          1949,
          1950,
          1951,
          1952,
          1953,
          1954,
          1955,
          1956,
          1957,
          1958,
          1959,
          1960,
          1961,
          1962,
          1963,
          1964,
          1965,
          1966,
          1967,
          1968,
          1969,
          1970,
          1971,
          1972,
          1973,
          1974,
          1975,
          1976,
          1977,
          1978,
          1979,
          1980,
          1981,
          1982,
          1983,
          1984,
          1985,
          1986,
          1987,
          1988,
          1989,
          1990,
          1991,
          1992,
          1993,
          1994,
          1995,
          1996,
          1997,
          1998,
          1999,
          2000,
          2001,
          2002,
          2003,
          2004,
          2005,
          2006,
          2007,
          2008,
          2009,
          2010,
          2011,
          2012,
          2013,
          2014,
          2015,
          2016,
          2017,
          2018,
          2019
         ],
         "xaxis": "x",
         "y": [
          -0.8943820224719072,
          -0.8943820224719072,
          -0.694382022471908,
          -0.39438202247190723,
          -0.694382022471908,
          -0.7943820224719076,
          -0.5943820224719065,
          -0.4943820224719069,
          -1.0943820224719065,
          -1.2943820224719076,
          -1.3943820224719072,
          -0.4943820224719069,
          0.6056179775280928,
          -0.5943820224719065,
          0.4056179775280935,
          -0.39438202247190723,
          0.005617977528093121,
          0.005617977528093121,
          0.5056179775280931,
          0.005617977528093121,
          -0.694382022471908,
          -0.5943820224719065,
          0.005617977528093121,
          -0.8943820224719072,
          -0.4943820224719069,
          -1.2943820224719076,
          -0.39438202247190723,
          -0.2943820224719076,
          0.10561797752809277,
          -0.9943820224719069,
          0.30561797752809206,
          -0.694382022471908,
          -1.2943820224719076,
          -0.09438202247190652,
          -0.8943820224719072,
          -0.4943820224719069,
          -0.39438202247190723,
          -0.8943820224719072,
          -0.8943820224719072,
          -0.8943820224719072,
          -0.4943820224719069,
          -1.0943820224719065,
          -0.39438202247190723,
          -0.2943820224719076,
          -0.39438202247190723,
          -0.09438202247190652,
          -0.8943820224719072,
          -0.9943820224719069,
          -0.5943820224719065,
          -0.7943820224719076,
          -0.2943820224719076,
          -0.09438202247190652,
          -0.09438202247190652,
          -0.7943820224719076,
          -0.4943820224719069,
          -0.09438202247190652,
          -0.39438202247190723,
          0.2056179775280924,
          0.5056179775280931,
          0.805617977528092,
          0.4056179775280935,
          0.6056179775280928,
          0.4056179775280935,
          1.1056179775280928,
          0.30561797752809206,
          0.005617977528093121,
          1.0056179775280931,
          0.6056179775280928,
          0.5056179775280931,
          0.9056179775280935,
          0.6056179775280928,
          0.805617977528092,
          1.5056179775280931,
          0.6056179775280928,
          0.5056179775280931,
          1.1056179775280928,
          1.6056179775280928,
          0.6056179775280928,
          1.1056179775280928,
          0.005617977528093121,
          1.5056179775280931,
          1.2056179775280924,
          0.805617977528092,
          1.4056179775280935,
          1.9056179775280935,
          1.305617977528092,
          1.5056179775280931,
          1.9056179775280935,
          1.9056179775280935
         ],
         "yaxis": "y"
        },
        {
         "hovertemplate": "color=Lugano<br>Years=%{x}<br>Temperature Difference in K=%{y}<extra></extra>",
         "legendgroup": "Lugano",
         "line": {
          "color": "rgb(1,1,100)",
          "dash": "solid"
         },
         "mode": "lines",
         "name": "Lugano",
         "showlegend": true,
         "type": "scattergl",
         "x": [
          1931,
          1932,
          1933,
          1934,
          1935,
          1936,
          1937,
          1938,
          1939,
          1940,
          1941,
          1942,
          1943,
          1944,
          1945,
          1946,
          1947,
          1948,
          1949,
          1950,
          1951,
          1952,
          1953,
          1954,
          1955,
          1956,
          1957,
          1958,
          1959,
          1960,
          1961,
          1962,
          1963,
          1964,
          1965,
          1966,
          1967,
          1968,
          1969,
          1970,
          1971,
          1972,
          1973,
          1974,
          1975,
          1976,
          1977,
          1978,
          1979,
          1980,
          1981,
          1982,
          1983,
          1984,
          1985,
          1986,
          1987,
          1988,
          1989,
          1990,
          1991,
          1992,
          1993,
          1994,
          1995,
          1996,
          1997,
          1998,
          1999,
          2000,
          2001,
          2002,
          2003,
          2004,
          2005,
          2006,
          2007,
          2008,
          2009,
          2010,
          2011,
          2012,
          2013,
          2014,
          2015,
          2016,
          2017,
          2018,
          2019
         ],
         "xaxis": "x",
         "y": [
          -1.1595505617977544,
          -1.0595505617977548,
          -0.9595505617977551,
          -0.35955056179775546,
          -0.6595505617977544,
          -0.759550561797754,
          -0.4595505617977551,
          -0.5595505617977548,
          -0.9595505617977551,
          -1.0595505617977548,
          -1.0595505617977548,
          -0.1595505617977544,
          0.6404494382022445,
          -0.5595505617977548,
          0.44044943820224525,
          -0.35955056179775546,
          0.14044943820224454,
          0.3404494382022456,
          0.6404494382022445,
          0.14044943820224454,
          -0.5595505617977548,
          -0.4595505617977551,
          -0.05955056179775475,
          -0.8595505617977555,
          -0.35955056179775546,
          -1.259550561797754,
          -0.4595505617977551,
          -0.05955056179775475,
          0.04044943820224489,
          -0.9595505617977551,
          0.14044943820224454,
          -0.6595505617977544,
          -1.1595505617977544,
          -0.25955056179775404,
          -1.0595505617977548,
          -0.4595505617977551,
          -0.1595505617977544,
          -0.759550561797754,
          -0.9595505617977551,
          -0.759550561797754,
          -0.25955056179775404,
          -0.759550561797754,
          -0.35955056179775546,
          -0.1595505617977544,
          -0.25955056179775404,
          -0.1595505617977544,
          -0.759550561797754,
          -0.9595505617977551,
          -0.6595505617977544,
          -0.9595505617977551,
          -0.4595505617977551,
          0.04044943820224489,
          -0.1595505617977544,
          -0.759550561797754,
          -0.5595505617977548,
          -0.25955056179775404,
          -0.4595505617977551,
          0.24044943820224596,
          0.24044943820224596,
          0.5404494382022449,
          0.24044943820224596,
          0.3404494382022456,
          0.04044943820224489,
          1.040449438202245,
          0.44044943820224525,
          0.04044943820224489,
          0.9404494382022452,
          0.3404494382022456,
          0.5404494382022449,
          0.9404494382022452,
          0.6404494382022445,
          0.8404494382022456,
          1.240449438202246,
          0.5404494382022449,
          0.5404494382022449,
          1.040449438202245,
          1.4404494382022452,
          0.6404494382022445,
          1.1404494382022445,
          0.04044943820224489,
          1.4404494382022452,
          1.1404494382022445,
          0.740449438202246,
          1.4404494382022452,
          1.740449438202246,
          1.240449438202246,
          1.3404494382022456,
          1.8404494382022456,
          1.8404494382022456
         ],
         "yaxis": "y"
        },
        {
         "hovertemplate": "color=Luzern<br>Years=%{x}<br>Temperature Difference in K=%{y}<extra></extra>",
         "legendgroup": "Luzern",
         "line": {
          "color": "rgb(1,1,100)",
          "dash": "solid"
         },
         "mode": "lines",
         "name": "Luzern",
         "showlegend": true,
         "type": "scattergl",
         "x": [
          1931,
          1932,
          1933,
          1934,
          1935,
          1936,
          1937,
          1938,
          1939,
          1940,
          1941,
          1942,
          1943,
          1944,
          1945,
          1946,
          1947,
          1948,
          1949,
          1950,
          1951,
          1952,
          1953,
          1954,
          1955,
          1956,
          1957,
          1958,
          1959,
          1960,
          1961,
          1962,
          1963,
          1964,
          1965,
          1966,
          1967,
          1968,
          1969,
          1970,
          1971,
          1972,
          1973,
          1974,
          1975,
          1976,
          1977,
          1978,
          1979,
          1980,
          1981,
          1982,
          1983,
          1984,
          1985,
          1986,
          1987,
          1988,
          1989,
          1990,
          1991,
          1992,
          1993,
          1994,
          1995,
          1996,
          1997,
          1998,
          1999,
          2000,
          2001,
          2002,
          2003,
          2004,
          2005,
          2006,
          2007,
          2008,
          2009,
          2010,
          2011,
          2012,
          2013,
          2014,
          2015,
          2016,
          2017,
          2018,
          2019
         ],
         "xaxis": "x",
         "y": [
          -1.322471910112358,
          -1.0224719101123583,
          -1.2224719101123576,
          -0.022471910112358273,
          -0.8224719101123572,
          -0.42247191011235863,
          -0.3224719101123572,
          -0.7224719101123576,
          -0.9224719101123586,
          -1.7224719101123576,
          -1.4224719101123577,
          -1.0224719101123583,
          0.27752808988764244,
          -0.8224719101123572,
          -0.12247191011235792,
          -0.22247191011235756,
          0.5775280898876414,
          0.1775280898876428,
          0.4775280898876417,
          0.07752808988764137,
          -0.3224719101123572,
          -0.22247191011235756,
          -0.3224719101123572,
          -0.8224719101123572,
          -0.6224719101123579,
          -1.7224719101123576,
          -0.42247191011235863,
          -0.3224719101123572,
          0.07752808988764137,
          -0.42247191011235863,
          0.5775280898876414,
          -1.2224719101123576,
          -1.622471910112358,
          -0.3224719101123572,
          -1.2224719101123576,
          -0.12247191011235792,
          -0.12247191011235792,
          -0.5224719101123583,
          -0.9224719101123586,
          -1.0224719101123583,
          -0.8224719101123572,
          -1.122471910112358,
          -0.7224719101123576,
          -0.022471910112358273,
          -0.3224719101123572,
          -0.12247191011235792,
          -0.12247191011235792,
          -1.122471910112358,
          -0.42247191011235863,
          -0.8224719101123572,
          -0.3224719101123572,
          0.1775280898876428,
          0.3775280898876421,
          -0.6224719101123579,
          -0.8224719101123572,
          -0.42247191011235863,
          -0.42247191011235863,
          0.7775280898876424,
          0.6775280898876428,
          0.8775280898876421,
          -0.022471910112358273,
          0.6775280898876428,
          0.3775280898876421,
          1.7775280898876424,
          0.5775280898876414,
          -0.42247191011235863,
          0.6775280898876428,
          0.6775280898876428,
          0.4775280898876417,
          1.2775280898876424,
          0.7775280898876424,
          1.2775280898876424,
          1.2775280898876424,
          0.6775280898876428,
          0.3775280898876421,
          0.9775280898876417,
          1.2775280898876424,
          0.7775280898876424,
          1.0775280898876414,
          0.07752808988764137,
          1.5775280898876414,
          0.9775280898876417,
          0.3775280898876421,
          1.7775280898876424,
          1.6775280898876428,
          1.1775280898876428,
          1.2775280898876424,
          2.2775280898876424,
          1.7775280898876424
         ],
         "yaxis": "y"
        },
        {
         "hovertemplate": "color=Neuenburg<br>Years=%{x}<br>Temperature Difference in K=%{y}<extra></extra>",
         "legendgroup": "Neuenburg",
         "line": {
          "color": "rgb(1,1,100)",
          "dash": "solid"
         },
         "mode": "lines",
         "name": "Neuenburg",
         "showlegend": true,
         "type": "scattergl",
         "x": [
          1931,
          1932,
          1933,
          1934,
          1935,
          1936,
          1937,
          1938,
          1939,
          1940,
          1941,
          1942,
          1943,
          1944,
          1945,
          1946,
          1947,
          1948,
          1949,
          1950,
          1951,
          1952,
          1953,
          1954,
          1955,
          1956,
          1957,
          1958,
          1959,
          1960,
          1961,
          1962,
          1963,
          1964,
          1965,
          1966,
          1967,
          1968,
          1969,
          1970,
          1971,
          1972,
          1973,
          1974,
          1975,
          1976,
          1977,
          1978,
          1979,
          1980,
          1981,
          1982,
          1983,
          1984,
          1985,
          1986,
          1987,
          1988,
          1989,
          1990,
          1991,
          1992,
          1993,
          1994,
          1995,
          1996,
          1997,
          1998,
          1999,
          2000,
          2001,
          2002,
          2003,
          2004,
          2005,
          2006,
          2007,
          2008,
          2009,
          2010,
          2011,
          2012,
          2013,
          2014,
          2015,
          2016,
          2017,
          2018,
          2019
         ],
         "xaxis": "x",
         "y": [
          -1.330337078651679,
          -1.1303370786516798,
          -1.2303370786516794,
          0.0696629213483213,
          -0.830337078651679,
          -0.5303370786516801,
          -0.4303370786516787,
          -0.7303370786516794,
          -1.2303370786516794,
          -1.6303370786516798,
          -1.4303370786516787,
          -1.0303370786516801,
          0.36966292134832024,
          -0.6303370786516798,
          0.16966292134832095,
          -0.33033707865167905,
          0.7696629213483206,
          -0.030337078651680116,
          0.4696629213483199,
          -0.030337078651680116,
          -0.4303370786516787,
          -0.13033707865167976,
          -0.5303370786516801,
          -0.830337078651679,
          -0.830337078651679,
          -1.9303370786516796,
          -0.5303370786516801,
          -0.4303370786516787,
          0.36966292134832024,
          -0.4303370786516787,
          0.5696629213483213,
          -1.0303370786516801,
          -1.6303370786516798,
          -0.2303370786516794,
          -1.2303370786516794,
          -0.030337078651680116,
          -0.030337078651680116,
          -0.4303370786516787,
          -0.830337078651679,
          -0.830337078651679,
          -0.5303370786516801,
          -0.9303370786516787,
          -0.6303370786516798,
          0.0696629213483213,
          -0.13033707865167976,
          0.0696629213483213,
          -0.13033707865167976,
          -0.9303370786516787,
          -0.2303370786516794,
          -0.9303370786516787,
          -0.2303370786516794,
          0.36966292134832024,
          0.2696629213483206,
          -0.5303370786516801,
          -0.5303370786516801,
          -0.33033707865167905,
          -0.33033707865167905,
          0.36966292134832024,
          0.5696629213483213,
          0.7696629213483206,
          -0.030337078651680116,
          0.669662921348321,
          0.2696629213483206,
          1.669662921348321,
          0.5696629213483213,
          -0.33033707865167905,
          0.669662921348321,
          0.669662921348321,
          0.5696629213483213,
          1.2696629213483206,
          0.669662921348321,
          1.169662921348321,
          1.3696629213483202,
          0.5696629213483213,
          0.2696629213483206,
          0.9696629213483199,
          1.0696629213483213,
          0.5696629213483213,
          1.0696629213483213,
          0.0696629213483213,
          1.5696629213483213,
          0.8696629213483202,
          0.2696629213483206,
          1.5696629213483213,
          1.7696629213483206,
          1.0696629213483213,
          1.4696629213483199,
          2.0696629213483213,
          1.5696629213483213
         ],
         "yaxis": "y"
        },
        {
         "hovertemplate": "color=Säntis<br>Years=%{x}<br>Temperature Difference in K=%{y}<extra></extra>",
         "legendgroup": "Säntis",
         "line": {
          "color": "rgb(1,1,100)",
          "dash": "solid"
         },
         "mode": "lines",
         "name": "Säntis",
         "showlegend": true,
         "type": "scattergl",
         "x": [
          1931,
          1932,
          1933,
          1934,
          1935,
          1936,
          1937,
          1938,
          1939,
          1940,
          1941,
          1942,
          1943,
          1944,
          1945,
          1946,
          1947,
          1948,
          1949,
          1950,
          1951,
          1952,
          1953,
          1954,
          1955,
          1956,
          1957,
          1958,
          1959,
          1960,
          1961,
          1962,
          1963,
          1964,
          1965,
          1966,
          1967,
          1968,
          1969,
          1970,
          1971,
          1972,
          1973,
          1974,
          1975,
          1976,
          1977,
          1978,
          1979,
          1980,
          1981,
          1982,
          1983,
          1984,
          1985,
          1986,
          1987,
          1988,
          1989,
          1990,
          1991,
          1992,
          1993,
          1994,
          1995,
          1996,
          1997,
          1998,
          1999,
          2000,
          2001,
          2002,
          2003,
          2004,
          2005,
          2006,
          2007,
          2008,
          2009,
          2010,
          2011,
          2012,
          2013,
          2014,
          2015,
          2016,
          2017,
          2018,
          2019
         ],
         "xaxis": "x",
         "y": [
          -1.2494382022471915,
          -0.14943820224719162,
          -1.2494382022471915,
          0.5505617977528083,
          -1.1494382022471918,
          -0.6494382022471918,
          -0.7494382022471915,
          -0.44943820224719166,
          -0.8494382022471916,
          -1.5494382022471918,
          -1.4494382022471917,
          -0.3494382022471916,
          0.45056179775280825,
          -1.2494382022471915,
          -0.049438202247191754,
          0.050561797752808335,
          0.6505617977528083,
          0.6505617977528083,
          0.45056179775280825,
          0.2505617977528083,
          0.050561797752808335,
          -0.9494382022471917,
          0.5505617977528083,
          -1.0494382022471918,
          -0.8494382022471916,
          -1.7494382022471915,
          0.15056179775280842,
          -0.049438202247191754,
          0.7505617977528083,
          -0.6494382022471918,
          0.6505617977528083,
          -1.3494382022471916,
          -0.7494382022471915,
          0.3505617977528084,
          -1.5494382022471918,
          -0.6494382022471918,
          -0.2494382022471917,
          -0.5494382022471918,
          -0.7494382022471915,
          -1.1494382022471918,
          -0.049438202247191754,
          -0.5494382022471918,
          -0.7494382022471915,
          -1.0494382022471918,
          0.15056179775280842,
          -0.44943820224719166,
          -0.14943820224719162,
          -0.5494382022471918,
          -0.6494382022471918,
          -1.2494382022471915,
          -0.9494382022471917,
          0.3505617977528084,
          0.7505617977528083,
          -1.0494382022471918,
          -0.5494382022471918,
          -0.2494382022471917,
          -0.2494382022471917,
          0.15056179775280842,
          1.3505617977528084,
          0.6505617977528083,
          0.15056179775280842,
          1.1505617977528084,
          0.2505617977528083,
          1.1505617977528084,
          -0.049438202247191754,
          -0.14943820224719162,
          1.1505617977528084,
          0.3505617977528084,
          0.45056179775280825,
          0.9505617977528084,
          0.45056179775280825,
          1.1505617977528084,
          1.4505617977528082,
          0.2505617977528083,
          -0.2494382022471917,
          1.2505617977528083,
          1.0505617977528083,
          0.6505617977528083,
          0.5505617977528083,
          -0.5494382022471918,
          1.8505617977528084,
          0.8505617977528084,
          0.45056179775280825,
          1.4505617977528082,
          1.7505617977528083,
          0.9505617977528084,
          0.9505617977528084,
          1.8505617977528084,
          1.4505617977528082
         ],
         "yaxis": "y"
        },
        {
         "hovertemplate": "color=Samedan<br>Years=%{x}<br>Temperature Difference in K=%{y}<extra></extra>",
         "legendgroup": "Samedan",
         "line": {
          "color": "rgb(1,1,100)",
          "dash": "solid"
         },
         "mode": "lines",
         "name": "Samedan",
         "showlegend": true,
         "type": "scattergl",
         "x": [
          1931,
          1932,
          1933,
          1934,
          1935,
          1936,
          1937,
          1938,
          1939,
          1940,
          1941,
          1942,
          1943,
          1944,
          1945,
          1946,
          1947,
          1948,
          1949,
          1950,
          1951,
          1952,
          1953,
          1954,
          1955,
          1956,
          1957,
          1958,
          1959,
          1960,
          1961,
          1962,
          1963,
          1964,
          1965,
          1966,
          1967,
          1968,
          1969,
          1970,
          1971,
          1972,
          1973,
          1974,
          1975,
          1976,
          1977,
          1978,
          1979,
          1980,
          1981,
          1982,
          1983,
          1984,
          1985,
          1986,
          1987,
          1988,
          1989,
          1990,
          1991,
          1992,
          1993,
          1994,
          1995,
          1996,
          1997,
          1998,
          1999,
          2000,
          2001,
          2002,
          2003,
          2004,
          2005,
          2006,
          2007,
          2008,
          2009,
          2010,
          2011,
          2012,
          2013,
          2014,
          2015,
          2016,
          2017,
          2018,
          2019
         ],
         "xaxis": "x",
         "y": [
          -0.979775280898877,
          -0.579775280898877,
          -0.979775280898877,
          -0.07977528089887698,
          -0.879775280898877,
          -0.379775280898877,
          -0.17977528089887707,
          -0.4797752808988769,
          -0.679775280898877,
          -1.379775280898877,
          -1.1797752808988768,
          0.12022471910112298,
          0.420224719101123,
          -0.679775280898877,
          0.020224719101123112,
          -0.07977528089887698,
          0.7202247191011228,
          0.420224719101123,
          0.32022471910112293,
          -0.07977528089887698,
          0.12022471910112298,
          -0.17977528089887707,
          0.12022471910112298,
          -0.17977528089887707,
          -0.579775280898877,
          -1.679775280898877,
          -0.27977528089887693,
          -0.4797752808988769,
          -0.17977528089887707,
          -0.7797752808988769,
          0.22022471910112307,
          -1.1797752808988768,
          -1.279775280898877,
          0.22022471910112307,
          -1.1797752808988768,
          -0.17977528089887707,
          -0.679775280898877,
          -0.7797752808988769,
          -0.679775280898877,
          -0.879775280898877,
          -0.4797752808988769,
          -0.379775280898877,
          -0.379775280898877,
          -0.17977528089887707,
          -0.4797752808988769,
          -0.379775280898877,
          -0.17977528089887707,
          -0.579775280898877,
          -0.579775280898877,
          -1.079775280898877,
          -0.27977528089887693,
          0.32022471910112293,
          0.12022471910112298,
          -0.879775280898877,
          -0.4797752808988769,
          -0.17977528089887707,
          0.020224719101123112,
          0.920224719101123,
          0.6202247191011232,
          0.420224719101123,
          -0.379775280898877,
          0.020224719101123112,
          0.22022471910112307,
          1.5202247191011231,
          0.32022471910112293,
          -0.17977528089887707,
          0.32022471910112293,
          0.32022471910112293,
          0.32022471910112293,
          0.8202247191011229,
          0.6202247191011232,
          1.320224719101123,
          0.8202247191011229,
          0.6202247191011232,
          -0.07977528089887698,
          0.920224719101123,
          1.2202247191011228,
          0.8202247191011229,
          0.6202247191011232,
          -0.07977528089887698,
          1.320224719101123,
          0.8202247191011229,
          0.5202247191011231,
          1.6202247191011232,
          1.820224719101123,
          1.2202247191011228,
          1.0202247191011231,
          1.5202247191011231,
          1.2202247191011228
         ],
         "yaxis": "y"
        },
        {
         "hovertemplate": "color=Sitten<br>Years=%{x}<br>Temperature Difference in K=%{y}<extra></extra>",
         "legendgroup": "Sitten",
         "line": {
          "color": "rgb(1,1,100)",
          "dash": "solid"
         },
         "mode": "lines",
         "name": "Sitten",
         "showlegend": true,
         "type": "scattergl",
         "x": [
          1931,
          1932,
          1933,
          1934,
          1935,
          1936,
          1937,
          1938,
          1939,
          1940,
          1941,
          1942,
          1943,
          1944,
          1945,
          1946,
          1947,
          1948,
          1949,
          1950,
          1951,
          1952,
          1953,
          1954,
          1955,
          1956,
          1957,
          1958,
          1959,
          1960,
          1961,
          1962,
          1963,
          1964,
          1965,
          1966,
          1967,
          1968,
          1969,
          1970,
          1971,
          1972,
          1973,
          1974,
          1975,
          1976,
          1977,
          1978,
          1979,
          1980,
          1981,
          1982,
          1983,
          1984,
          1985,
          1986,
          1987,
          1988,
          1989,
          1990,
          1991,
          1992,
          1993,
          1994,
          1995,
          1996,
          1997,
          1998,
          1999,
          2000,
          2001,
          2002,
          2003,
          2004,
          2005,
          2006,
          2007,
          2008,
          2009,
          2010,
          2011,
          2012,
          2013,
          2014,
          2015,
          2016,
          2017,
          2018,
          2019
         ],
         "xaxis": "x",
         "y": [
          -1.5685393258426927,
          -0.9685393258426931,
          -0.8685393258426917,
          -0.268539325842692,
          -0.768539325842692,
          -0.5685393258426927,
          -0.16853932584269238,
          -0.4685393258426931,
          -0.768539325842692,
          -1.5685393258426927,
          -1.468539325842693,
          -0.6685393258426924,
          0.23146067415730798,
          -1.1685393258426924,
          -0.268539325842692,
          -0.4685393258426931,
          0.6314606741573083,
          0.03146067415730691,
          0.3314606741573076,
          -0.06853932584269273,
          -0.268539325842692,
          -0.4685393258426931,
          -0.5685393258426927,
          -0.9685393258426931,
          -0.6685393258426924,
          -1.768539325842692,
          -0.5685393258426927,
          -0.6685393258426924,
          0.43146067415730727,
          -0.16853932584269238,
          0.3314606741573076,
          -0.9685393258426931,
          -1.268539325842692,
          -0.4685393258426931,
          -1.3685393258426917,
          -0.268539325842692,
          -0.16853932584269238,
          -0.36853932584269167,
          -0.8685393258426917,
          -0.6685393258426924,
          -0.5685393258426927,
          -0.4685393258426931,
          -0.8685393258426917,
          -0.36853932584269167,
          -0.36853932584269167,
          -0.268539325842692,
          -0.268539325842692,
          -1.468539325842693,
          -0.6685393258426924,
          -1.468539325842693,
          -0.4685393258426931,
          0.13146067415730833,
          -0.16853932584269238,
          -0.768539325842692,
          -0.9685393258426931,
          -0.268539325842692,
          -0.36853932584269167,
          0.43146067415730727,
          0.23146067415730798,
          0.5314606741573069,
          0.03146067415730691,
          0.5314606741573069,
          0.6314606741573083,
          1.4314606741573073,
          0.5314606741573069,
          0.23146067415730798,
          0.9314606741573073,
          0.5314606741573069,
          0.43146067415730727,
          1.1314606741573083,
          0.6314606741573083,
          1.231460674157308,
          1.6314606741573083,
          0.731460674157308,
          0.13146067415730833,
          0.9314606741573073,
          1.1314606741573083,
          1.1314606741573083,
          1.031460674157307,
          0.43146067415730727,
          1.6314606741573083,
          1.3314606741573076,
          0.731460674157308,
          2.1314606741573083,
          1.8314606741573076,
          1.531460674157307,
          1.6314606741573083,
          2.731460674157308,
          2.1314606741573083
         ],
         "yaxis": "y"
        },
        {
         "hovertemplate": "color=St. Gallen<br>Years=%{x}<br>Temperature Difference in K=%{y}<extra></extra>",
         "legendgroup": "St. Gallen",
         "line": {
          "color": "rgb(1,1,100)",
          "dash": "solid"
         },
         "mode": "lines",
         "name": "St. Gallen",
         "showlegend": true,
         "type": "scattergl",
         "x": [
          1931,
          1932,
          1933,
          1934,
          1935,
          1936,
          1937,
          1938,
          1939,
          1940,
          1941,
          1942,
          1943,
          1944,
          1945,
          1946,
          1947,
          1948,
          1949,
          1950,
          1951,
          1952,
          1953,
          1954,
          1955,
          1956,
          1957,
          1958,
          1959,
          1960,
          1961,
          1962,
          1963,
          1964,
          1965,
          1966,
          1967,
          1968,
          1969,
          1970,
          1971,
          1972,
          1973,
          1974,
          1975,
          1976,
          1977,
          1978,
          1979,
          1980,
          1981,
          1982,
          1983,
          1984,
          1985,
          1986,
          1987,
          1988,
          1989,
          1990,
          1991,
          1992,
          1993,
          1994,
          1995,
          1996,
          1997,
          1998,
          1999,
          2000,
          2001,
          2002,
          2003,
          2004,
          2005,
          2006,
          2007,
          2008,
          2009,
          2010,
          2011,
          2012,
          2013,
          2014,
          2015,
          2016,
          2017,
          2018,
          2019
         ],
         "xaxis": "x",
         "y": [
          -1.5752808988764064,
          -0.9752808988764068,
          -1.4752808988764068,
          0.12471910112359375,
          -0.8752808988764063,
          -0.4752808988764068,
          -0.17528089887640697,
          -0.675280898876407,
          -0.8752808988764063,
          -1.675280898876407,
          -1.3752808988764063,
          -0.8752808988764063,
          0.12471910112359375,
          -0.7752808988764066,
          -0.07528089887640643,
          -0.2752808988764066,
          0.4247191011235927,
          0.024719101123593212,
          0.2247191011235934,
          0.12471910112359375,
          0.024719101123593212,
          -0.37528089887640625,
          -0.37528089887640625,
          -0.9752808988764068,
          -0.9752808988764068,
          -1.7752808988764066,
          -0.2752808988764066,
          -0.2752808988764066,
          0.12471910112359375,
          -0.17528089887640697,
          0.6247191011235937,
          -1.2752808988764066,
          -1.4752808988764068,
          -0.4752808988764068,
          -1.175280898876407,
          0.024719101123593212,
          -0.07528089887640643,
          -0.5752808988764064,
          -0.8752808988764063,
          -0.7752808988764066,
          -0.4752808988764068,
          -0.8752808988764063,
          -0.675280898876407,
          0.024719101123593212,
          -0.17528089887640697,
          -0.2752808988764066,
          0.12471910112359375,
          -0.9752808988764068,
          -0.2752808988764066,
          -0.9752808988764068,
          -0.2752808988764066,
          0.32471910112359303,
          0.4247191011235927,
          -0.7752808988764066,
          -0.7752808988764066,
          -0.4752808988764068,
          -0.4752808988764068,
          0.6247191011235937,
          0.7247191011235934,
          1.024719101123594,
          -0.2752808988764066,
          0.824719101123593,
          0.2247191011235934,
          1.6247191011235937,
          0.32471910112359303,
          -0.8752808988764063,
          0.7247191011235934,
          0.824719101123593,
          0.6247191011235937,
          1.6247191011235937,
          0.6247191011235937,
          1.324719101123593,
          1.324719101123593,
          0.4247191011235927,
          0.32471910112359303,
          1.024719101123594,
          1.324719101123593,
          0.824719101123593,
          1.1247191011235937,
          -0.17528089887640697,
          1.6247191011235937,
          0.824719101123593,
          0.12471910112359375,
          1.824719101123593,
          1.824719101123593,
          1.2247191011235934,
          1.324719101123593,
          2.1247191011235937,
          1.7247191011235934
         ],
         "yaxis": "y"
        },
        {
         "hovertemplate": "color=Zürich-Fluntern<br>Years=%{x}<br>Temperature Difference in K=%{y}<extra></extra>",
         "legendgroup": "Zürich-Fluntern",
         "line": {
          "color": "rgb(1,1,100)",
          "dash": "solid"
         },
         "mode": "lines",
         "name": "Zürich-Fluntern",
         "showlegend": true,
         "type": "scattergl",
         "x": [
          1931,
          1932,
          1933,
          1934,
          1935,
          1936,
          1937,
          1938,
          1939,
          1940,
          1941,
          1942,
          1943,
          1944,
          1945,
          1946,
          1947,
          1948,
          1949,
          1950,
          1951,
          1952,
          1953,
          1954,
          1955,
          1956,
          1957,
          1958,
          1959,
          1960,
          1961,
          1962,
          1963,
          1964,
          1965,
          1966,
          1967,
          1968,
          1969,
          1970,
          1971,
          1972,
          1973,
          1974,
          1975,
          1976,
          1977,
          1978,
          1979,
          1980,
          1981,
          1982,
          1983,
          1984,
          1985,
          1986,
          1987,
          1988,
          1989,
          1990,
          1991,
          1992,
          1993,
          1994,
          1995,
          1996,
          1997,
          1998,
          1999,
          2000,
          2001,
          2002,
          2003,
          2004,
          2005,
          2006,
          2007,
          2008,
          2009,
          2010,
          2011,
          2012,
          2013,
          2014,
          2015,
          2016,
          2017,
          2018,
          2019
         ],
         "xaxis": "x",
         "y": [
          -1.4550561797752817,
          -1.0550561797752822,
          -1.2550561797752824,
          0.04494382022471832,
          -0.6550561797752827,
          -0.4550561797752817,
          -0.2550561797752824,
          -0.6550561797752827,
          -0.9550561797752817,
          -1.7550561797752824,
          -1.4550561797752817,
          -0.9550561797752817,
          0.34494382022471726,
          -0.6550561797752827,
          0.14494382022471797,
          -0.2550561797752824,
          0.5449438202247183,
          0.04494382022471832,
          0.5449438202247183,
          0.14494382022471797,
          -0.2550561797752824,
          -0.2550561797752824,
          -0.35505617977528203,
          -0.855056179775282,
          -0.7550561797752824,
          -1.7550561797752824,
          -0.2550561797752824,
          -0.2550561797752824,
          0.34494382022471726,
          -0.2550561797752824,
          0.644943820224718,
          -1.2550561797752824,
          -1.4550561797752817,
          -0.35505617977528203,
          -1.2550561797752824,
          -0.15505617977528274,
          -0.15505617977528274,
          -0.6550561797752827,
          -0.855056179775282,
          -0.9550561797752817,
          -0.5550561797752813,
          -0.9550561797752817,
          -0.855056179775282,
          0.04494382022471832,
          -0.2550561797752824,
          -0.2550561797752824,
          0.04494382022471832,
          -0.9550561797752817,
          -0.35505617977528203,
          -0.9550561797752817,
          -0.2550561797752824,
          0.34494382022471726,
          0.4449438202247187,
          -0.5550561797752813,
          -0.6550561797752827,
          -0.4550561797752817,
          -0.5550561797752813,
          0.5449438202247183,
          0.5449438202247183,
          0.8449438202247173,
          0.04494382022471832,
          0.644943820224718,
          0.2449438202247176,
          1.644943820224718,
          0.34494382022471726,
          -0.7550561797752824,
          0.5449438202247183,
          0.644943820224718,
          0.5449438202247183,
          1.3449438202247173,
          0.5449438202247183,
          1.3449438202247173,
          1.2449438202247176,
          0.644943820224718,
          0.4449438202247187,
          0.9449438202247187,
          1.2449438202247176,
          0.7449438202247176,
          1.0449438202247183,
          -0.05505617977528132,
          1.644943820224718,
          0.8449438202247173,
          0.2449438202247176,
          1.7449438202247176,
          1.7449438202247176,
          1.0449438202247183,
          1.3449438202247173,
          2.2449438202247176,
          1.644943820224718
         ],
         "yaxis": "y"
        }
       ],
       "layout": {
        "legend": {
         "title": {
          "text": "color"
         },
         "tracegroupgap": 0
        },
        "template": {
         "data": {
          "bar": [
           {
            "error_x": {
             "color": "rgb(36,36,36)"
            },
            "error_y": {
             "color": "rgb(36,36,36)"
            },
            "marker": {
             "line": {
              "color": "white",
              "width": 0.5
             }
            },
            "type": "bar"
           }
          ],
          "barpolar": [
           {
            "marker": {
             "line": {
              "color": "white",
              "width": 0.5
             }
            },
            "type": "barpolar"
           }
          ],
          "carpet": [
           {
            "aaxis": {
             "endlinecolor": "rgb(36,36,36)",
             "gridcolor": "white",
             "linecolor": "white",
             "minorgridcolor": "white",
             "startlinecolor": "rgb(36,36,36)"
            },
            "baxis": {
             "endlinecolor": "rgb(36,36,36)",
             "gridcolor": "white",
             "linecolor": "white",
             "minorgridcolor": "white",
             "startlinecolor": "rgb(36,36,36)"
            },
            "type": "carpet"
           }
          ],
          "choropleth": [
           {
            "colorbar": {
             "outlinewidth": 1,
             "tickcolor": "rgb(36,36,36)",
             "ticks": "outside"
            },
            "type": "choropleth"
           }
          ],
          "contour": [
           {
            "colorbar": {
             "outlinewidth": 1,
             "tickcolor": "rgb(36,36,36)",
             "ticks": "outside"
            },
            "colorscale": [
             [
              0,
              "#440154"
             ],
             [
              0.1111111111111111,
              "#482878"
             ],
             [
              0.2222222222222222,
              "#3e4989"
             ],
             [
              0.3333333333333333,
              "#31688e"
             ],
             [
              0.4444444444444444,
              "#26828e"
             ],
             [
              0.5555555555555556,
              "#1f9e89"
             ],
             [
              0.6666666666666666,
              "#35b779"
             ],
             [
              0.7777777777777778,
              "#6ece58"
             ],
             [
              0.8888888888888888,
              "#b5de2b"
             ],
             [
              1,
              "#fde725"
             ]
            ],
            "type": "contour"
           }
          ],
          "contourcarpet": [
           {
            "colorbar": {
             "outlinewidth": 1,
             "tickcolor": "rgb(36,36,36)",
             "ticks": "outside"
            },
            "type": "contourcarpet"
           }
          ],
          "heatmap": [
           {
            "colorbar": {
             "outlinewidth": 1,
             "tickcolor": "rgb(36,36,36)",
             "ticks": "outside"
            },
            "colorscale": [
             [
              0,
              "#440154"
             ],
             [
              0.1111111111111111,
              "#482878"
             ],
             [
              0.2222222222222222,
              "#3e4989"
             ],
             [
              0.3333333333333333,
              "#31688e"
             ],
             [
              0.4444444444444444,
              "#26828e"
             ],
             [
              0.5555555555555556,
              "#1f9e89"
             ],
             [
              0.6666666666666666,
              "#35b779"
             ],
             [
              0.7777777777777778,
              "#6ece58"
             ],
             [
              0.8888888888888888,
              "#b5de2b"
             ],
             [
              1,
              "#fde725"
             ]
            ],
            "type": "heatmap"
           }
          ],
          "heatmapgl": [
           {
            "colorbar": {
             "outlinewidth": 1,
             "tickcolor": "rgb(36,36,36)",
             "ticks": "outside"
            },
            "colorscale": [
             [
              0,
              "#440154"
             ],
             [
              0.1111111111111111,
              "#482878"
             ],
             [
              0.2222222222222222,
              "#3e4989"
             ],
             [
              0.3333333333333333,
              "#31688e"
             ],
             [
              0.4444444444444444,
              "#26828e"
             ],
             [
              0.5555555555555556,
              "#1f9e89"
             ],
             [
              0.6666666666666666,
              "#35b779"
             ],
             [
              0.7777777777777778,
              "#6ece58"
             ],
             [
              0.8888888888888888,
              "#b5de2b"
             ],
             [
              1,
              "#fde725"
             ]
            ],
            "type": "heatmapgl"
           }
          ],
          "histogram": [
           {
            "marker": {
             "line": {
              "color": "white",
              "width": 0.6
             }
            },
            "type": "histogram"
           }
          ],
          "histogram2d": [
           {
            "colorbar": {
             "outlinewidth": 1,
             "tickcolor": "rgb(36,36,36)",
             "ticks": "outside"
            },
            "colorscale": [
             [
              0,
              "#440154"
             ],
             [
              0.1111111111111111,
              "#482878"
             ],
             [
              0.2222222222222222,
              "#3e4989"
             ],
             [
              0.3333333333333333,
              "#31688e"
             ],
             [
              0.4444444444444444,
              "#26828e"
             ],
             [
              0.5555555555555556,
              "#1f9e89"
             ],
             [
              0.6666666666666666,
              "#35b779"
             ],
             [
              0.7777777777777778,
              "#6ece58"
             ],
             [
              0.8888888888888888,
              "#b5de2b"
             ],
             [
              1,
              "#fde725"
             ]
            ],
            "type": "histogram2d"
           }
          ],
          "histogram2dcontour": [
           {
            "colorbar": {
             "outlinewidth": 1,
             "tickcolor": "rgb(36,36,36)",
             "ticks": "outside"
            },
            "colorscale": [
             [
              0,
              "#440154"
             ],
             [
              0.1111111111111111,
              "#482878"
             ],
             [
              0.2222222222222222,
              "#3e4989"
             ],
             [
              0.3333333333333333,
              "#31688e"
             ],
             [
              0.4444444444444444,
              "#26828e"
             ],
             [
              0.5555555555555556,
              "#1f9e89"
             ],
             [
              0.6666666666666666,
              "#35b779"
             ],
             [
              0.7777777777777778,
              "#6ece58"
             ],
             [
              0.8888888888888888,
              "#b5de2b"
             ],
             [
              1,
              "#fde725"
             ]
            ],
            "type": "histogram2dcontour"
           }
          ],
          "mesh3d": [
           {
            "colorbar": {
             "outlinewidth": 1,
             "tickcolor": "rgb(36,36,36)",
             "ticks": "outside"
            },
            "type": "mesh3d"
           }
          ],
          "parcoords": [
           {
            "line": {
             "colorbar": {
              "outlinewidth": 1,
              "tickcolor": "rgb(36,36,36)",
              "ticks": "outside"
             }
            },
            "type": "parcoords"
           }
          ],
          "pie": [
           {
            "automargin": true,
            "type": "pie"
           }
          ],
          "scatter": [
           {
            "marker": {
             "colorbar": {
              "outlinewidth": 1,
              "tickcolor": "rgb(36,36,36)",
              "ticks": "outside"
             }
            },
            "type": "scatter"
           }
          ],
          "scatter3d": [
           {
            "line": {
             "colorbar": {
              "outlinewidth": 1,
              "tickcolor": "rgb(36,36,36)",
              "ticks": "outside"
             }
            },
            "marker": {
             "colorbar": {
              "outlinewidth": 1,
              "tickcolor": "rgb(36,36,36)",
              "ticks": "outside"
             }
            },
            "type": "scatter3d"
           }
          ],
          "scattercarpet": [
           {
            "marker": {
             "colorbar": {
              "outlinewidth": 1,
              "tickcolor": "rgb(36,36,36)",
              "ticks": "outside"
             }
            },
            "type": "scattercarpet"
           }
          ],
          "scattergeo": [
           {
            "marker": {
             "colorbar": {
              "outlinewidth": 1,
              "tickcolor": "rgb(36,36,36)",
              "ticks": "outside"
             }
            },
            "type": "scattergeo"
           }
          ],
          "scattergl": [
           {
            "marker": {
             "colorbar": {
              "outlinewidth": 1,
              "tickcolor": "rgb(36,36,36)",
              "ticks": "outside"
             }
            },
            "type": "scattergl"
           }
          ],
          "scattermapbox": [
           {
            "marker": {
             "colorbar": {
              "outlinewidth": 1,
              "tickcolor": "rgb(36,36,36)",
              "ticks": "outside"
             }
            },
            "type": "scattermapbox"
           }
          ],
          "scatterpolar": [
           {
            "marker": {
             "colorbar": {
              "outlinewidth": 1,
              "tickcolor": "rgb(36,36,36)",
              "ticks": "outside"
             }
            },
            "type": "scatterpolar"
           }
          ],
          "scatterpolargl": [
           {
            "marker": {
             "colorbar": {
              "outlinewidth": 1,
              "tickcolor": "rgb(36,36,36)",
              "ticks": "outside"
             }
            },
            "type": "scatterpolargl"
           }
          ],
          "scatterternary": [
           {
            "marker": {
             "colorbar": {
              "outlinewidth": 1,
              "tickcolor": "rgb(36,36,36)",
              "ticks": "outside"
             }
            },
            "type": "scatterternary"
           }
          ],
          "surface": [
           {
            "colorbar": {
             "outlinewidth": 1,
             "tickcolor": "rgb(36,36,36)",
             "ticks": "outside"
            },
            "colorscale": [
             [
              0,
              "#440154"
             ],
             [
              0.1111111111111111,
              "#482878"
             ],
             [
              0.2222222222222222,
              "#3e4989"
             ],
             [
              0.3333333333333333,
              "#31688e"
             ],
             [
              0.4444444444444444,
              "#26828e"
             ],
             [
              0.5555555555555556,
              "#1f9e89"
             ],
             [
              0.6666666666666666,
              "#35b779"
             ],
             [
              0.7777777777777778,
              "#6ece58"
             ],
             [
              0.8888888888888888,
              "#b5de2b"
             ],
             [
              1,
              "#fde725"
             ]
            ],
            "type": "surface"
           }
          ],
          "table": [
           {
            "cells": {
             "fill": {
              "color": "rgb(237,237,237)"
             },
             "line": {
              "color": "white"
             }
            },
            "header": {
             "fill": {
              "color": "rgb(217,217,217)"
             },
             "line": {
              "color": "white"
             }
            },
            "type": "table"
           }
          ]
         },
         "layout": {
          "annotationdefaults": {
           "arrowhead": 0,
           "arrowwidth": 1
          },
          "coloraxis": {
           "colorbar": {
            "outlinewidth": 1,
            "tickcolor": "rgb(36,36,36)",
            "ticks": "outside"
           }
          },
          "colorscale": {
           "diverging": [
            [
             0,
             "rgb(103,0,31)"
            ],
            [
             0.1,
             "rgb(178,24,43)"
            ],
            [
             0.2,
             "rgb(214,96,77)"
            ],
            [
             0.3,
             "rgb(244,165,130)"
            ],
            [
             0.4,
             "rgb(253,219,199)"
            ],
            [
             0.5,
             "rgb(247,247,247)"
            ],
            [
             0.6,
             "rgb(209,229,240)"
            ],
            [
             0.7,
             "rgb(146,197,222)"
            ],
            [
             0.8,
             "rgb(67,147,195)"
            ],
            [
             0.9,
             "rgb(33,102,172)"
            ],
            [
             1,
             "rgb(5,48,97)"
            ]
           ],
           "sequential": [
            [
             0,
             "#440154"
            ],
            [
             0.1111111111111111,
             "#482878"
            ],
            [
             0.2222222222222222,
             "#3e4989"
            ],
            [
             0.3333333333333333,
             "#31688e"
            ],
            [
             0.4444444444444444,
             "#26828e"
            ],
            [
             0.5555555555555556,
             "#1f9e89"
            ],
            [
             0.6666666666666666,
             "#35b779"
            ],
            [
             0.7777777777777778,
             "#6ece58"
            ],
            [
             0.8888888888888888,
             "#b5de2b"
            ],
            [
             1,
             "#fde725"
            ]
           ],
           "sequentialminus": [
            [
             0,
             "#440154"
            ],
            [
             0.1111111111111111,
             "#482878"
            ],
            [
             0.2222222222222222,
             "#3e4989"
            ],
            [
             0.3333333333333333,
             "#31688e"
            ],
            [
             0.4444444444444444,
             "#26828e"
            ],
            [
             0.5555555555555556,
             "#1f9e89"
            ],
            [
             0.6666666666666666,
             "#35b779"
            ],
            [
             0.7777777777777778,
             "#6ece58"
            ],
            [
             0.8888888888888888,
             "#b5de2b"
            ],
            [
             1,
             "#fde725"
            ]
           ]
          },
          "colorway": [
           "#1F77B4",
           "#FF7F0E",
           "#2CA02C",
           "#D62728",
           "#9467BD",
           "#8C564B",
           "#E377C2",
           "#7F7F7F",
           "#BCBD22",
           "#17BECF"
          ],
          "font": {
           "color": "rgb(36,36,36)"
          },
          "geo": {
           "bgcolor": "white",
           "lakecolor": "white",
           "landcolor": "white",
           "showlakes": true,
           "showland": true,
           "subunitcolor": "white"
          },
          "hoverlabel": {
           "align": "left"
          },
          "hovermode": "closest",
          "mapbox": {
           "style": "light"
          },
          "paper_bgcolor": "white",
          "plot_bgcolor": "white",
          "polar": {
           "angularaxis": {
            "gridcolor": "rgb(232,232,232)",
            "linecolor": "rgb(36,36,36)",
            "showgrid": false,
            "showline": true,
            "ticks": "outside"
           },
           "bgcolor": "white",
           "radialaxis": {
            "gridcolor": "rgb(232,232,232)",
            "linecolor": "rgb(36,36,36)",
            "showgrid": false,
            "showline": true,
            "ticks": "outside"
           }
          },
          "scene": {
           "xaxis": {
            "backgroundcolor": "white",
            "gridcolor": "rgb(232,232,232)",
            "gridwidth": 2,
            "linecolor": "rgb(36,36,36)",
            "showbackground": true,
            "showgrid": false,
            "showline": true,
            "ticks": "outside",
            "zeroline": false,
            "zerolinecolor": "rgb(36,36,36)"
           },
           "yaxis": {
            "backgroundcolor": "white",
            "gridcolor": "rgb(232,232,232)",
            "gridwidth": 2,
            "linecolor": "rgb(36,36,36)",
            "showbackground": true,
            "showgrid": false,
            "showline": true,
            "ticks": "outside",
            "zeroline": false,
            "zerolinecolor": "rgb(36,36,36)"
           },
           "zaxis": {
            "backgroundcolor": "white",
            "gridcolor": "rgb(232,232,232)",
            "gridwidth": 2,
            "linecolor": "rgb(36,36,36)",
            "showbackground": true,
            "showgrid": false,
            "showline": true,
            "ticks": "outside",
            "zeroline": false,
            "zerolinecolor": "rgb(36,36,36)"
           }
          },
          "shapedefaults": {
           "fillcolor": "black",
           "line": {
            "width": 0
           },
           "opacity": 0.3
          },
          "ternary": {
           "aaxis": {
            "gridcolor": "rgb(232,232,232)",
            "linecolor": "rgb(36,36,36)",
            "showgrid": false,
            "showline": true,
            "ticks": "outside"
           },
           "baxis": {
            "gridcolor": "rgb(232,232,232)",
            "linecolor": "rgb(36,36,36)",
            "showgrid": false,
            "showline": true,
            "ticks": "outside"
           },
           "bgcolor": "white",
           "caxis": {
            "gridcolor": "rgb(232,232,232)",
            "linecolor": "rgb(36,36,36)",
            "showgrid": false,
            "showline": true,
            "ticks": "outside"
           }
          },
          "title": {
           "x": 0.05
          },
          "xaxis": {
           "automargin": true,
           "gridcolor": "rgb(232,232,232)",
           "linecolor": "rgb(36,36,36)",
           "showgrid": false,
           "showline": true,
           "ticks": "outside",
           "title": {
            "standoff": 15
           },
           "zeroline": false,
           "zerolinecolor": "rgb(36,36,36)"
          },
          "yaxis": {
           "automargin": true,
           "gridcolor": "rgb(232,232,232)",
           "linecolor": "rgb(36,36,36)",
           "showgrid": false,
           "showline": true,
           "ticks": "outside",
           "title": {
            "standoff": 15
           },
           "zeroline": false,
           "zerolinecolor": "rgb(36,36,36)"
          }
         }
        },
        "title": {
         "text": "Temperature Change from initial Temperature in C°"
        },
        "xaxis": {
         "anchor": "y",
         "domain": [
          0,
          1
         ],
         "title": {
          "text": "Years"
         }
        },
        "yaxis": {
         "anchor": "x",
         "domain": [
          0,
          1
         ],
         "title": {
          "text": "Temperature Difference in K"
         }
        }
       }
      },
      "text/html": [
       "<div>\n",
       "        \n",
       "        \n",
       "            <div id=\"55213c5e-1053-46ee-b76a-6c9156ca7654\" class=\"plotly-graph-div\" style=\"height:525px; width:100%;\"></div>\n",
       "            <script type=\"text/javascript\">\n",
       "                require([\"plotly\"], function(Plotly) {\n",
       "                    window.PLOTLYENV=window.PLOTLYENV || {};\n",
       "                    \n",
       "                if (document.getElementById(\"55213c5e-1053-46ee-b76a-6c9156ca7654\")) {\n",
       "                    Plotly.newPlot(\n",
       "                        '55213c5e-1053-46ee-b76a-6c9156ca7654',\n",
       "                        [{\"hovertemplate\": \"color=Basel-Binningen<br>Years=%{x}<br>Temperature Difference in K=%{y}<extra></extra>\", \"legendgroup\": \"Basel-Binningen\", \"line\": {\"color\": \"rgb(1,1,100)\", \"dash\": \"solid\"}, \"mode\": \"lines\", \"name\": \"Basel-Binningen\", \"showlegend\": true, \"type\": \"scattergl\", \"x\": [1931, 1932, 1933, 1934, 1935, 1936, 1937, 1938, 1939, 1940, 1941, 1942, 1943, 1944, 1945, 1946, 1947, 1948, 1949, 1950, 1951, 1952, 1953, 1954, 1955, 1956, 1957, 1958, 1959, 1960, 1961, 1962, 1963, 1964, 1965, 1966, 1967, 1968, 1969, 1970, 1971, 1972, 1973, 1974, 1975, 1976, 1977, 1978, 1979, 1980, 1981, 1982, 1983, 1984, 1985, 1986, 1987, 1988, 1989, 1990, 1991, 1992, 1993, 1994, 1995, 1996, 1997, 1998, 1999, 2000, 2001, 2002, 2003, 2004, 2005, 2006, 2007, 2008, 2009, 2010, 2011, 2012, 2013, 2014, 2015, 2016, 2017, 2018, 2019], \"xaxis\": \"x\", \"y\": [-1.4584269662921336, -1.0584269662921333, -1.158426966292133, -0.05842696629213329, -0.5584269662921333, -0.45842696629213364, -0.15842696629213293, -0.6584269662921329, -0.858426966292134, -1.7584269662921344, -1.5584269662921333, -1.158426966292133, 0.24157303370786565, -0.6584269662921329, 0.04157303370786636, -0.45842696629213364, 0.5415730337078664, -0.05842696629213329, 0.4415730337078667, 0.04157303370786636, -0.358426966292134, -0.25842696629213435, -0.358426966292134, -0.9584269662921336, -0.858426966292134, -2.0584269662921333, -0.45842696629213364, -0.358426966292134, 0.24157303370786565, -0.358426966292134, 0.5415730337078664, -1.358426966292134, -1.4584269662921336, -0.15842696629213293, -0.7584269662921344, -0.05842696629213329, -0.15842696629213293, -0.6584269662921329, -0.9584269662921336, -0.7584269662921344, -0.6584269662921329, -1.0584269662921333, -0.7584269662921344, 0.04157303370786636, -0.25842696629213435, 0.04157303370786636, -0.05842696629213329, -0.9584269662921336, -0.45842696629213364, -1.0584269662921333, -0.358426966292134, 0.34157303370786707, 0.34157303370786707, -0.45842696629213364, -0.9584269662921336, -0.5584269662921333, -0.45842696629213364, 0.5415730337078664, 0.641573033707866, 0.9415730337078667, 0.04157303370786636, 0.7415730337078656, 0.24157303370786565, 1.5415730337078664, 0.5415730337078664, -0.5584269662921333, 0.641573033707866, 0.641573033707866, 0.7415730337078656, 1.4415730337078667, 0.641573033707866, 1.2415730337078656, 1.4415730337078667, 0.641573033707866, 0.4415730337078667, 0.9415730337078667, 1.341573033707867, 0.8415730337078671, 1.141573033707866, -0.05842696629213329, 1.641573033707866, 0.9415730337078667, 0.34157303370786707, 1.9415730337078667, 1.7415730337078656, 0.9415730337078667, 1.4415730337078667, 2.2415730337078656, 1.641573033707866], \"yaxis\": \"y\"}, {\"hovertemplate\": \"color=Bern-Zollikofen <br>Years=%{x}<br>Temperature Difference in K=%{y}<extra></extra>\", \"legendgroup\": \"Bern-Zollikofen \", \"line\": {\"color\": \"rgb(1,1,100)\", \"dash\": \"solid\"}, \"mode\": \"lines\", \"name\": \"Bern-Zollikofen \", \"showlegend\": true, \"type\": \"scattergl\", \"x\": [1931, 1932, 1933, 1934, 1935, 1936, 1937, 1938, 1939, 1940, 1941, 1942, 1943, 1944, 1945, 1946, 1947, 1948, 1949, 1950, 1951, 1952, 1953, 1954, 1955, 1956, 1957, 1958, 1959, 1960, 1961, 1962, 1963, 1964, 1965, 1966, 1967, 1968, 1969, 1970, 1971, 1972, 1973, 1974, 1975, 1976, 1977, 1978, 1979, 1980, 1981, 1982, 1983, 1984, 1985, 1986, 1987, 1988, 1989, 1990, 1991, 1992, 1993, 1994, 1995, 1996, 1997, 1998, 1999, 2000, 2001, 2002, 2003, 2004, 2005, 2006, 2007, 2008, 2009, 2010, 2011, 2012, 2013, 2014, 2015, 2016, 2017, 2018, 2019], \"xaxis\": \"x\", \"y\": [-1.1258426966292143, -0.9258426966292141, -1.0258426966292147, 0.07415730337078585, -0.5258426966292147, -0.3258426966292145, -0.1258426966292152, -0.5258426966292147, -0.9258426966292141, -1.5258426966292147, -1.4258426966292141, -1.1258426966292143, 0.1741573033707855, -0.9258426966292141, -0.1258426966292152, -0.42584269662921415, 0.8741573033707848, 0.1741573033707855, 0.6741573033707855, 0.27415730337078514, -0.22584269662921486, -0.02584269662921379, -0.3258426966292145, -0.6258426966292143, -0.7258426966292149, -1.8258426966292145, -0.42584269662921415, -0.42584269662921415, 0.1741573033707855, -0.5258426966292147, 0.4741573033707862, -1.2258426966292149, -1.6258426966292143, -0.3258426966292145, -1.1258426966292143, -0.02584269662921379, -0.1258426966292152, -0.6258426966292143, -0.8258426966292145, -0.8258426966292145, -0.7258426966292149, -0.9258426966292141, -0.8258426966292145, -0.02584269662921379, -0.3258426966292145, -0.1258426966292152, -0.1258426966292152, -1.0258426966292147, -0.42584269662921415, -1.0258426966292147, -0.3258426966292145, 0.3741573033707848, 0.1741573033707855, -0.5258426966292147, -0.7258426966292149, -0.3258426966292145, -0.42584269662921415, 0.4741573033707862, 0.4741573033707862, 0.7741573033707851, -0.1258426966292152, 0.4741573033707862, 0.27415730337078514, 1.6741573033707855, 0.4741573033707862, -0.42584269662921415, 0.6741573033707855, 0.5741573033707859, 0.5741573033707859, 1.2741573033707851, 0.7741573033707851, 1.0741573033707859, 1.1741573033707855, 0.4741573033707862, 0.1741573033707855, 0.8741573033707848, 1.1741573033707855, 0.6741573033707855, 1.0741573033707859, 0.27415730337078514, 1.7741573033707851, 0.8741573033707848, 0.3741573033707848, 1.6741573033707855, 1.5741573033707859, 1.0741573033707859, 1.2741573033707851, 2.1741573033707855, 1.6741573033707855], \"yaxis\": \"y\"}, {\"hovertemplate\": \"color=Davos<br>Years=%{x}<br>Temperature Difference in K=%{y}<extra></extra>\", \"legendgroup\": \"Davos\", \"line\": {\"color\": \"rgb(1,1,100)\", \"dash\": \"solid\"}, \"mode\": \"lines\", \"name\": \"Davos\", \"showlegend\": true, \"type\": \"scattergl\", \"x\": [1931, 1932, 1933, 1934, 1935, 1936, 1937, 1938, 1939, 1940, 1941, 1942, 1943, 1944, 1945, 1946, 1947, 1948, 1949, 1950, 1951, 1952, 1953, 1954, 1955, 1956, 1957, 1958, 1959, 1960, 1961, 1962, 1963, 1964, 1965, 1966, 1967, 1968, 1969, 1970, 1971, 1972, 1973, 1974, 1975, 1976, 1977, 1978, 1979, 1980, 1981, 1982, 1983, 1984, 1985, 1986, 1987, 1988, 1989, 1990, 1991, 1992, 1993, 1994, 1995, 1996, 1997, 1998, 1999, 2000, 2001, 2002, 2003, 2004, 2005, 2006, 2007, 2008, 2009, 2010, 2011, 2012, 2013, 2014, 2015, 2016, 2017, 2018, 2019], \"xaxis\": \"x\", \"y\": [-1.3449438202247184, -0.7449438202247185, -1.2449438202247183, 0.2550561797752815, -1.2449438202247183, -0.6449438202247184, -0.5449438202247183, -0.7449438202247185, -0.8449438202247181, -1.6449438202247184, -1.3449438202247184, -0.6449438202247184, 0.055056179775281766, -1.3449438202247184, -0.5449438202247183, -0.04494382022471832, 0.5550561797752818, 0.15505617977528185, 0.15505617977528185, -0.2449438202247185, -0.1449438202247184, -0.8449438202247181, -0.34494382022471815, -1.1449438202247184, -1.0449438202247183, -2.1449438202247184, -0.04494382022471832, -0.44494382022471823, 0.15505617977528185, -0.2449438202247185, 0.6550561797752819, -1.4449438202247182, -1.1449438202247184, 0.055056179775281766, -1.2449438202247183, -0.44494382022471823, -0.34494382022471815, -0.44494382022471823, -0.44494382022471823, -0.7449438202247185, 0.055056179775281766, -0.1449438202247184, -0.44494382022471823, -0.34494382022471815, 0.055056179775281766, -0.34494382022471815, 0.15505617977528185, -0.44494382022471823, -0.44494382022471823, -0.9449438202247182, -0.44494382022471823, 0.2550561797752815, 0.3550561797752816, -0.7449438202247185, -0.44494382022471823, 0.055056179775281766, -0.04494382022471832, 0.4550561797752817, 1.1550561797752819, 0.7550561797752815, 0.15505617977528185, 0.7550561797752815, 0.3550561797752816, 1.5550561797752813, 0.15505617977528185, 0.055056179775281766, 1.0550561797752813, 0.4550561797752817, 0.4550561797752817, 1.0550561797752813, 0.4550561797752817, 1.2550561797752815, 1.2550561797752815, 0.4550561797752817, -0.04494382022471832, 1.1550561797752819, 1.0550561797752813, 0.7550561797752815, 0.7550561797752815, -0.34494382022471815, 1.6550561797752819, 0.8550561797752816, 0.5550561797752818, 1.7550561797752815, 1.7550561797752815, 1.355056179775282, 1.1550561797752819, 1.9550561797752817, 1.4550561797752817], \"yaxis\": \"y\"}, {\"hovertemplate\": \"color=Genf-Cointrin<br>Years=%{x}<br>Temperature Difference in K=%{y}<extra></extra>\", \"legendgroup\": \"Genf-Cointrin\", \"line\": {\"color\": \"rgb(1,1,100)\", \"dash\": \"solid\"}, \"mode\": \"lines\", \"name\": \"Genf-Cointrin\", \"showlegend\": true, \"type\": \"scattergl\", \"x\": [1931, 1932, 1933, 1934, 1935, 1936, 1937, 1938, 1939, 1940, 1941, 1942, 1943, 1944, 1945, 1946, 1947, 1948, 1949, 1950, 1951, 1952, 1953, 1954, 1955, 1956, 1957, 1958, 1959, 1960, 1961, 1962, 1963, 1964, 1965, 1966, 1967, 1968, 1969, 1970, 1971, 1972, 1973, 1974, 1975, 1976, 1977, 1978, 1979, 1980, 1981, 1982, 1983, 1984, 1985, 1986, 1987, 1988, 1989, 1990, 1991, 1992, 1993, 1994, 1995, 1996, 1997, 1998, 1999, 2000, 2001, 2002, 2003, 2004, 2005, 2006, 2007, 2008, 2009, 2010, 2011, 2012, 2013, 2014, 2015, 2016, 2017, 2018, 2019], \"xaxis\": \"x\", \"y\": [-1.0730337078651715, -0.8730337078651722, -1.0730337078651715, -0.0730337078651715, -0.47303370786517185, -0.47303370786517185, -0.0730337078651715, -0.6730337078651711, -0.9730337078651718, -1.3730337078651722, -1.2730337078651708, -0.7730337078651708, 0.32696629213482886, -0.47303370786517185, 0.22696629213482922, -0.0730337078651715, 0.8269662921348289, 0.02696629213482815, 0.5269662921348282, 0.32696629213482886, -0.47303370786517185, -0.17303370786517114, -0.3730337078651722, -0.6730337078651711, -0.3730337078651722, -1.5730337078651715, -0.5730337078651715, -0.47303370786517185, 0.1269662921348278, -0.3730337078651722, 0.5269662921348282, -0.9730337078651718, -1.5730337078651715, -0.2730337078651708, -1.2730337078651708, -0.0730337078651715, -0.3730337078651722, -0.6730337078651711, -0.9730337078651718, -0.7730337078651708, -0.7730337078651708, -0.8730337078651722, -0.9730337078651718, -0.2730337078651708, -0.3730337078651722, -0.2730337078651708, -0.17303370786517114, -1.0730337078651715, -0.3730337078651722, -1.1730337078651711, -0.47303370786517185, 0.32696629213482886, 0.22696629213482922, -0.5730337078651715, -0.8730337078651722, -0.2730337078651708, -0.17303370786517114, 0.4269662921348285, 0.6269662921348278, 0.7269662921348292, 0.1269662921348278, 0.5269662921348282, 0.02696629213482815, 1.5269662921348282, 0.6269662921348278, -0.2730337078651708, 0.6269662921348278, 0.5269662921348282, 0.4269662921348285, 1.1269662921348278, 0.8269662921348289, 1.1269662921348278, 1.3269662921348289, 0.6269662921348278, 0.22696629213482922, 1.1269662921348278, 1.1269662921348278, 0.7269662921348292, 1.1269662921348278, 0.02696629213482815, 1.3269662921348289, 0.8269662921348289, 0.1269662921348278, 1.6269662921348278, 1.5269662921348282, 1.0269662921348282, 1.2269662921348292, 2.226966292134829, 1.7269662921348292], \"yaxis\": \"y\"}, {\"hovertemplate\": \"color=Locarno-Monti<br>Years=%{x}<br>Temperature Difference in K=%{y}<extra></extra>\", \"legendgroup\": \"Locarno-Monti\", \"line\": {\"color\": \"rgb(1,1,100)\", \"dash\": \"solid\"}, \"mode\": \"lines\", \"name\": \"Locarno-Monti\", \"showlegend\": true, \"type\": \"scattergl\", \"x\": [1931, 1932, 1933, 1934, 1935, 1936, 1937, 1938, 1939, 1940, 1941, 1942, 1943, 1944, 1945, 1946, 1947, 1948, 1949, 1950, 1951, 1952, 1953, 1954, 1955, 1956, 1957, 1958, 1959, 1960, 1961, 1962, 1963, 1964, 1965, 1966, 1967, 1968, 1969, 1970, 1971, 1972, 1973, 1974, 1975, 1976, 1977, 1978, 1979, 1980, 1981, 1982, 1983, 1984, 1985, 1986, 1987, 1988, 1989, 1990, 1991, 1992, 1993, 1994, 1995, 1996, 1997, 1998, 1999, 2000, 2001, 2002, 2003, 2004, 2005, 2006, 2007, 2008, 2009, 2010, 2011, 2012, 2013, 2014, 2015, 2016, 2017, 2018, 2019], \"xaxis\": \"x\", \"y\": [-0.8943820224719072, -0.8943820224719072, -0.694382022471908, -0.39438202247190723, -0.694382022471908, -0.7943820224719076, -0.5943820224719065, -0.4943820224719069, -1.0943820224719065, -1.2943820224719076, -1.3943820224719072, -0.4943820224719069, 0.6056179775280928, -0.5943820224719065, 0.4056179775280935, -0.39438202247190723, 0.005617977528093121, 0.005617977528093121, 0.5056179775280931, 0.005617977528093121, -0.694382022471908, -0.5943820224719065, 0.005617977528093121, -0.8943820224719072, -0.4943820224719069, -1.2943820224719076, -0.39438202247190723, -0.2943820224719076, 0.10561797752809277, -0.9943820224719069, 0.30561797752809206, -0.694382022471908, -1.2943820224719076, -0.09438202247190652, -0.8943820224719072, -0.4943820224719069, -0.39438202247190723, -0.8943820224719072, -0.8943820224719072, -0.8943820224719072, -0.4943820224719069, -1.0943820224719065, -0.39438202247190723, -0.2943820224719076, -0.39438202247190723, -0.09438202247190652, -0.8943820224719072, -0.9943820224719069, -0.5943820224719065, -0.7943820224719076, -0.2943820224719076, -0.09438202247190652, -0.09438202247190652, -0.7943820224719076, -0.4943820224719069, -0.09438202247190652, -0.39438202247190723, 0.2056179775280924, 0.5056179775280931, 0.805617977528092, 0.4056179775280935, 0.6056179775280928, 0.4056179775280935, 1.1056179775280928, 0.30561797752809206, 0.005617977528093121, 1.0056179775280931, 0.6056179775280928, 0.5056179775280931, 0.9056179775280935, 0.6056179775280928, 0.805617977528092, 1.5056179775280931, 0.6056179775280928, 0.5056179775280931, 1.1056179775280928, 1.6056179775280928, 0.6056179775280928, 1.1056179775280928, 0.005617977528093121, 1.5056179775280931, 1.2056179775280924, 0.805617977528092, 1.4056179775280935, 1.9056179775280935, 1.305617977528092, 1.5056179775280931, 1.9056179775280935, 1.9056179775280935], \"yaxis\": \"y\"}, {\"hovertemplate\": \"color=Lugano<br>Years=%{x}<br>Temperature Difference in K=%{y}<extra></extra>\", \"legendgroup\": \"Lugano\", \"line\": {\"color\": \"rgb(1,1,100)\", \"dash\": \"solid\"}, \"mode\": \"lines\", \"name\": \"Lugano\", \"showlegend\": true, \"type\": \"scattergl\", \"x\": [1931, 1932, 1933, 1934, 1935, 1936, 1937, 1938, 1939, 1940, 1941, 1942, 1943, 1944, 1945, 1946, 1947, 1948, 1949, 1950, 1951, 1952, 1953, 1954, 1955, 1956, 1957, 1958, 1959, 1960, 1961, 1962, 1963, 1964, 1965, 1966, 1967, 1968, 1969, 1970, 1971, 1972, 1973, 1974, 1975, 1976, 1977, 1978, 1979, 1980, 1981, 1982, 1983, 1984, 1985, 1986, 1987, 1988, 1989, 1990, 1991, 1992, 1993, 1994, 1995, 1996, 1997, 1998, 1999, 2000, 2001, 2002, 2003, 2004, 2005, 2006, 2007, 2008, 2009, 2010, 2011, 2012, 2013, 2014, 2015, 2016, 2017, 2018, 2019], \"xaxis\": \"x\", \"y\": [-1.1595505617977544, -1.0595505617977548, -0.9595505617977551, -0.35955056179775546, -0.6595505617977544, -0.759550561797754, -0.4595505617977551, -0.5595505617977548, -0.9595505617977551, -1.0595505617977548, -1.0595505617977548, -0.1595505617977544, 0.6404494382022445, -0.5595505617977548, 0.44044943820224525, -0.35955056179775546, 0.14044943820224454, 0.3404494382022456, 0.6404494382022445, 0.14044943820224454, -0.5595505617977548, -0.4595505617977551, -0.05955056179775475, -0.8595505617977555, -0.35955056179775546, -1.259550561797754, -0.4595505617977551, -0.05955056179775475, 0.04044943820224489, -0.9595505617977551, 0.14044943820224454, -0.6595505617977544, -1.1595505617977544, -0.25955056179775404, -1.0595505617977548, -0.4595505617977551, -0.1595505617977544, -0.759550561797754, -0.9595505617977551, -0.759550561797754, -0.25955056179775404, -0.759550561797754, -0.35955056179775546, -0.1595505617977544, -0.25955056179775404, -0.1595505617977544, -0.759550561797754, -0.9595505617977551, -0.6595505617977544, -0.9595505617977551, -0.4595505617977551, 0.04044943820224489, -0.1595505617977544, -0.759550561797754, -0.5595505617977548, -0.25955056179775404, -0.4595505617977551, 0.24044943820224596, 0.24044943820224596, 0.5404494382022449, 0.24044943820224596, 0.3404494382022456, 0.04044943820224489, 1.040449438202245, 0.44044943820224525, 0.04044943820224489, 0.9404494382022452, 0.3404494382022456, 0.5404494382022449, 0.9404494382022452, 0.6404494382022445, 0.8404494382022456, 1.240449438202246, 0.5404494382022449, 0.5404494382022449, 1.040449438202245, 1.4404494382022452, 0.6404494382022445, 1.1404494382022445, 0.04044943820224489, 1.4404494382022452, 1.1404494382022445, 0.740449438202246, 1.4404494382022452, 1.740449438202246, 1.240449438202246, 1.3404494382022456, 1.8404494382022456, 1.8404494382022456], \"yaxis\": \"y\"}, {\"hovertemplate\": \"color=Luzern<br>Years=%{x}<br>Temperature Difference in K=%{y}<extra></extra>\", \"legendgroup\": \"Luzern\", \"line\": {\"color\": \"rgb(1,1,100)\", \"dash\": \"solid\"}, \"mode\": \"lines\", \"name\": \"Luzern\", \"showlegend\": true, \"type\": \"scattergl\", \"x\": [1931, 1932, 1933, 1934, 1935, 1936, 1937, 1938, 1939, 1940, 1941, 1942, 1943, 1944, 1945, 1946, 1947, 1948, 1949, 1950, 1951, 1952, 1953, 1954, 1955, 1956, 1957, 1958, 1959, 1960, 1961, 1962, 1963, 1964, 1965, 1966, 1967, 1968, 1969, 1970, 1971, 1972, 1973, 1974, 1975, 1976, 1977, 1978, 1979, 1980, 1981, 1982, 1983, 1984, 1985, 1986, 1987, 1988, 1989, 1990, 1991, 1992, 1993, 1994, 1995, 1996, 1997, 1998, 1999, 2000, 2001, 2002, 2003, 2004, 2005, 2006, 2007, 2008, 2009, 2010, 2011, 2012, 2013, 2014, 2015, 2016, 2017, 2018, 2019], \"xaxis\": \"x\", \"y\": [-1.322471910112358, -1.0224719101123583, -1.2224719101123576, -0.022471910112358273, -0.8224719101123572, -0.42247191011235863, -0.3224719101123572, -0.7224719101123576, -0.9224719101123586, -1.7224719101123576, -1.4224719101123577, -1.0224719101123583, 0.27752808988764244, -0.8224719101123572, -0.12247191011235792, -0.22247191011235756, 0.5775280898876414, 0.1775280898876428, 0.4775280898876417, 0.07752808988764137, -0.3224719101123572, -0.22247191011235756, -0.3224719101123572, -0.8224719101123572, -0.6224719101123579, -1.7224719101123576, -0.42247191011235863, -0.3224719101123572, 0.07752808988764137, -0.42247191011235863, 0.5775280898876414, -1.2224719101123576, -1.622471910112358, -0.3224719101123572, -1.2224719101123576, -0.12247191011235792, -0.12247191011235792, -0.5224719101123583, -0.9224719101123586, -1.0224719101123583, -0.8224719101123572, -1.122471910112358, -0.7224719101123576, -0.022471910112358273, -0.3224719101123572, -0.12247191011235792, -0.12247191011235792, -1.122471910112358, -0.42247191011235863, -0.8224719101123572, -0.3224719101123572, 0.1775280898876428, 0.3775280898876421, -0.6224719101123579, -0.8224719101123572, -0.42247191011235863, -0.42247191011235863, 0.7775280898876424, 0.6775280898876428, 0.8775280898876421, -0.022471910112358273, 0.6775280898876428, 0.3775280898876421, 1.7775280898876424, 0.5775280898876414, -0.42247191011235863, 0.6775280898876428, 0.6775280898876428, 0.4775280898876417, 1.2775280898876424, 0.7775280898876424, 1.2775280898876424, 1.2775280898876424, 0.6775280898876428, 0.3775280898876421, 0.9775280898876417, 1.2775280898876424, 0.7775280898876424, 1.0775280898876414, 0.07752808988764137, 1.5775280898876414, 0.9775280898876417, 0.3775280898876421, 1.7775280898876424, 1.6775280898876428, 1.1775280898876428, 1.2775280898876424, 2.2775280898876424, 1.7775280898876424], \"yaxis\": \"y\"}, {\"hovertemplate\": \"color=Neuenburg<br>Years=%{x}<br>Temperature Difference in K=%{y}<extra></extra>\", \"legendgroup\": \"Neuenburg\", \"line\": {\"color\": \"rgb(1,1,100)\", \"dash\": \"solid\"}, \"mode\": \"lines\", \"name\": \"Neuenburg\", \"showlegend\": true, \"type\": \"scattergl\", \"x\": [1931, 1932, 1933, 1934, 1935, 1936, 1937, 1938, 1939, 1940, 1941, 1942, 1943, 1944, 1945, 1946, 1947, 1948, 1949, 1950, 1951, 1952, 1953, 1954, 1955, 1956, 1957, 1958, 1959, 1960, 1961, 1962, 1963, 1964, 1965, 1966, 1967, 1968, 1969, 1970, 1971, 1972, 1973, 1974, 1975, 1976, 1977, 1978, 1979, 1980, 1981, 1982, 1983, 1984, 1985, 1986, 1987, 1988, 1989, 1990, 1991, 1992, 1993, 1994, 1995, 1996, 1997, 1998, 1999, 2000, 2001, 2002, 2003, 2004, 2005, 2006, 2007, 2008, 2009, 2010, 2011, 2012, 2013, 2014, 2015, 2016, 2017, 2018, 2019], \"xaxis\": \"x\", \"y\": [-1.330337078651679, -1.1303370786516798, -1.2303370786516794, 0.0696629213483213, -0.830337078651679, -0.5303370786516801, -0.4303370786516787, -0.7303370786516794, -1.2303370786516794, -1.6303370786516798, -1.4303370786516787, -1.0303370786516801, 0.36966292134832024, -0.6303370786516798, 0.16966292134832095, -0.33033707865167905, 0.7696629213483206, -0.030337078651680116, 0.4696629213483199, -0.030337078651680116, -0.4303370786516787, -0.13033707865167976, -0.5303370786516801, -0.830337078651679, -0.830337078651679, -1.9303370786516796, -0.5303370786516801, -0.4303370786516787, 0.36966292134832024, -0.4303370786516787, 0.5696629213483213, -1.0303370786516801, -1.6303370786516798, -0.2303370786516794, -1.2303370786516794, -0.030337078651680116, -0.030337078651680116, -0.4303370786516787, -0.830337078651679, -0.830337078651679, -0.5303370786516801, -0.9303370786516787, -0.6303370786516798, 0.0696629213483213, -0.13033707865167976, 0.0696629213483213, -0.13033707865167976, -0.9303370786516787, -0.2303370786516794, -0.9303370786516787, -0.2303370786516794, 0.36966292134832024, 0.2696629213483206, -0.5303370786516801, -0.5303370786516801, -0.33033707865167905, -0.33033707865167905, 0.36966292134832024, 0.5696629213483213, 0.7696629213483206, -0.030337078651680116, 0.669662921348321, 0.2696629213483206, 1.669662921348321, 0.5696629213483213, -0.33033707865167905, 0.669662921348321, 0.669662921348321, 0.5696629213483213, 1.2696629213483206, 0.669662921348321, 1.169662921348321, 1.3696629213483202, 0.5696629213483213, 0.2696629213483206, 0.9696629213483199, 1.0696629213483213, 0.5696629213483213, 1.0696629213483213, 0.0696629213483213, 1.5696629213483213, 0.8696629213483202, 0.2696629213483206, 1.5696629213483213, 1.7696629213483206, 1.0696629213483213, 1.4696629213483199, 2.0696629213483213, 1.5696629213483213], \"yaxis\": \"y\"}, {\"hovertemplate\": \"color=S\\u00e4ntis<br>Years=%{x}<br>Temperature Difference in K=%{y}<extra></extra>\", \"legendgroup\": \"S\\u00e4ntis\", \"line\": {\"color\": \"rgb(1,1,100)\", \"dash\": \"solid\"}, \"mode\": \"lines\", \"name\": \"S\\u00e4ntis\", \"showlegend\": true, \"type\": \"scattergl\", \"x\": [1931, 1932, 1933, 1934, 1935, 1936, 1937, 1938, 1939, 1940, 1941, 1942, 1943, 1944, 1945, 1946, 1947, 1948, 1949, 1950, 1951, 1952, 1953, 1954, 1955, 1956, 1957, 1958, 1959, 1960, 1961, 1962, 1963, 1964, 1965, 1966, 1967, 1968, 1969, 1970, 1971, 1972, 1973, 1974, 1975, 1976, 1977, 1978, 1979, 1980, 1981, 1982, 1983, 1984, 1985, 1986, 1987, 1988, 1989, 1990, 1991, 1992, 1993, 1994, 1995, 1996, 1997, 1998, 1999, 2000, 2001, 2002, 2003, 2004, 2005, 2006, 2007, 2008, 2009, 2010, 2011, 2012, 2013, 2014, 2015, 2016, 2017, 2018, 2019], \"xaxis\": \"x\", \"y\": [-1.2494382022471915, -0.14943820224719162, -1.2494382022471915, 0.5505617977528083, -1.1494382022471918, -0.6494382022471918, -0.7494382022471915, -0.44943820224719166, -0.8494382022471916, -1.5494382022471918, -1.4494382022471917, -0.3494382022471916, 0.45056179775280825, -1.2494382022471915, -0.049438202247191754, 0.050561797752808335, 0.6505617977528083, 0.6505617977528083, 0.45056179775280825, 0.2505617977528083, 0.050561797752808335, -0.9494382022471917, 0.5505617977528083, -1.0494382022471918, -0.8494382022471916, -1.7494382022471915, 0.15056179775280842, -0.049438202247191754, 0.7505617977528083, -0.6494382022471918, 0.6505617977528083, -1.3494382022471916, -0.7494382022471915, 0.3505617977528084, -1.5494382022471918, -0.6494382022471918, -0.2494382022471917, -0.5494382022471918, -0.7494382022471915, -1.1494382022471918, -0.049438202247191754, -0.5494382022471918, -0.7494382022471915, -1.0494382022471918, 0.15056179775280842, -0.44943820224719166, -0.14943820224719162, -0.5494382022471918, -0.6494382022471918, -1.2494382022471915, -0.9494382022471917, 0.3505617977528084, 0.7505617977528083, -1.0494382022471918, -0.5494382022471918, -0.2494382022471917, -0.2494382022471917, 0.15056179775280842, 1.3505617977528084, 0.6505617977528083, 0.15056179775280842, 1.1505617977528084, 0.2505617977528083, 1.1505617977528084, -0.049438202247191754, -0.14943820224719162, 1.1505617977528084, 0.3505617977528084, 0.45056179775280825, 0.9505617977528084, 0.45056179775280825, 1.1505617977528084, 1.4505617977528082, 0.2505617977528083, -0.2494382022471917, 1.2505617977528083, 1.0505617977528083, 0.6505617977528083, 0.5505617977528083, -0.5494382022471918, 1.8505617977528084, 0.8505617977528084, 0.45056179775280825, 1.4505617977528082, 1.7505617977528083, 0.9505617977528084, 0.9505617977528084, 1.8505617977528084, 1.4505617977528082], \"yaxis\": \"y\"}, {\"hovertemplate\": \"color=Samedan<br>Years=%{x}<br>Temperature Difference in K=%{y}<extra></extra>\", \"legendgroup\": \"Samedan\", \"line\": {\"color\": \"rgb(1,1,100)\", \"dash\": \"solid\"}, \"mode\": \"lines\", \"name\": \"Samedan\", \"showlegend\": true, \"type\": \"scattergl\", \"x\": [1931, 1932, 1933, 1934, 1935, 1936, 1937, 1938, 1939, 1940, 1941, 1942, 1943, 1944, 1945, 1946, 1947, 1948, 1949, 1950, 1951, 1952, 1953, 1954, 1955, 1956, 1957, 1958, 1959, 1960, 1961, 1962, 1963, 1964, 1965, 1966, 1967, 1968, 1969, 1970, 1971, 1972, 1973, 1974, 1975, 1976, 1977, 1978, 1979, 1980, 1981, 1982, 1983, 1984, 1985, 1986, 1987, 1988, 1989, 1990, 1991, 1992, 1993, 1994, 1995, 1996, 1997, 1998, 1999, 2000, 2001, 2002, 2003, 2004, 2005, 2006, 2007, 2008, 2009, 2010, 2011, 2012, 2013, 2014, 2015, 2016, 2017, 2018, 2019], \"xaxis\": \"x\", \"y\": [-0.979775280898877, -0.579775280898877, -0.979775280898877, -0.07977528089887698, -0.879775280898877, -0.379775280898877, -0.17977528089887707, -0.4797752808988769, -0.679775280898877, -1.379775280898877, -1.1797752808988768, 0.12022471910112298, 0.420224719101123, -0.679775280898877, 0.020224719101123112, -0.07977528089887698, 0.7202247191011228, 0.420224719101123, 0.32022471910112293, -0.07977528089887698, 0.12022471910112298, -0.17977528089887707, 0.12022471910112298, -0.17977528089887707, -0.579775280898877, -1.679775280898877, -0.27977528089887693, -0.4797752808988769, -0.17977528089887707, -0.7797752808988769, 0.22022471910112307, -1.1797752808988768, -1.279775280898877, 0.22022471910112307, -1.1797752808988768, -0.17977528089887707, -0.679775280898877, -0.7797752808988769, -0.679775280898877, -0.879775280898877, -0.4797752808988769, -0.379775280898877, -0.379775280898877, -0.17977528089887707, -0.4797752808988769, -0.379775280898877, -0.17977528089887707, -0.579775280898877, -0.579775280898877, -1.079775280898877, -0.27977528089887693, 0.32022471910112293, 0.12022471910112298, -0.879775280898877, -0.4797752808988769, -0.17977528089887707, 0.020224719101123112, 0.920224719101123, 0.6202247191011232, 0.420224719101123, -0.379775280898877, 0.020224719101123112, 0.22022471910112307, 1.5202247191011231, 0.32022471910112293, -0.17977528089887707, 0.32022471910112293, 0.32022471910112293, 0.32022471910112293, 0.8202247191011229, 0.6202247191011232, 1.320224719101123, 0.8202247191011229, 0.6202247191011232, -0.07977528089887698, 0.920224719101123, 1.2202247191011228, 0.8202247191011229, 0.6202247191011232, -0.07977528089887698, 1.320224719101123, 0.8202247191011229, 0.5202247191011231, 1.6202247191011232, 1.820224719101123, 1.2202247191011228, 1.0202247191011231, 1.5202247191011231, 1.2202247191011228], \"yaxis\": \"y\"}, {\"hovertemplate\": \"color=Sitten<br>Years=%{x}<br>Temperature Difference in K=%{y}<extra></extra>\", \"legendgroup\": \"Sitten\", \"line\": {\"color\": \"rgb(1,1,100)\", \"dash\": \"solid\"}, \"mode\": \"lines\", \"name\": \"Sitten\", \"showlegend\": true, \"type\": \"scattergl\", \"x\": [1931, 1932, 1933, 1934, 1935, 1936, 1937, 1938, 1939, 1940, 1941, 1942, 1943, 1944, 1945, 1946, 1947, 1948, 1949, 1950, 1951, 1952, 1953, 1954, 1955, 1956, 1957, 1958, 1959, 1960, 1961, 1962, 1963, 1964, 1965, 1966, 1967, 1968, 1969, 1970, 1971, 1972, 1973, 1974, 1975, 1976, 1977, 1978, 1979, 1980, 1981, 1982, 1983, 1984, 1985, 1986, 1987, 1988, 1989, 1990, 1991, 1992, 1993, 1994, 1995, 1996, 1997, 1998, 1999, 2000, 2001, 2002, 2003, 2004, 2005, 2006, 2007, 2008, 2009, 2010, 2011, 2012, 2013, 2014, 2015, 2016, 2017, 2018, 2019], \"xaxis\": \"x\", \"y\": [-1.5685393258426927, -0.9685393258426931, -0.8685393258426917, -0.268539325842692, -0.768539325842692, -0.5685393258426927, -0.16853932584269238, -0.4685393258426931, -0.768539325842692, -1.5685393258426927, -1.468539325842693, -0.6685393258426924, 0.23146067415730798, -1.1685393258426924, -0.268539325842692, -0.4685393258426931, 0.6314606741573083, 0.03146067415730691, 0.3314606741573076, -0.06853932584269273, -0.268539325842692, -0.4685393258426931, -0.5685393258426927, -0.9685393258426931, -0.6685393258426924, -1.768539325842692, -0.5685393258426927, -0.6685393258426924, 0.43146067415730727, -0.16853932584269238, 0.3314606741573076, -0.9685393258426931, -1.268539325842692, -0.4685393258426931, -1.3685393258426917, -0.268539325842692, -0.16853932584269238, -0.36853932584269167, -0.8685393258426917, -0.6685393258426924, -0.5685393258426927, -0.4685393258426931, -0.8685393258426917, -0.36853932584269167, -0.36853932584269167, -0.268539325842692, -0.268539325842692, -1.468539325842693, -0.6685393258426924, -1.468539325842693, -0.4685393258426931, 0.13146067415730833, -0.16853932584269238, -0.768539325842692, -0.9685393258426931, -0.268539325842692, -0.36853932584269167, 0.43146067415730727, 0.23146067415730798, 0.5314606741573069, 0.03146067415730691, 0.5314606741573069, 0.6314606741573083, 1.4314606741573073, 0.5314606741573069, 0.23146067415730798, 0.9314606741573073, 0.5314606741573069, 0.43146067415730727, 1.1314606741573083, 0.6314606741573083, 1.231460674157308, 1.6314606741573083, 0.731460674157308, 0.13146067415730833, 0.9314606741573073, 1.1314606741573083, 1.1314606741573083, 1.031460674157307, 0.43146067415730727, 1.6314606741573083, 1.3314606741573076, 0.731460674157308, 2.1314606741573083, 1.8314606741573076, 1.531460674157307, 1.6314606741573083, 2.731460674157308, 2.1314606741573083], \"yaxis\": \"y\"}, {\"hovertemplate\": \"color=St. Gallen<br>Years=%{x}<br>Temperature Difference in K=%{y}<extra></extra>\", \"legendgroup\": \"St. Gallen\", \"line\": {\"color\": \"rgb(1,1,100)\", \"dash\": \"solid\"}, \"mode\": \"lines\", \"name\": \"St. Gallen\", \"showlegend\": true, \"type\": \"scattergl\", \"x\": [1931, 1932, 1933, 1934, 1935, 1936, 1937, 1938, 1939, 1940, 1941, 1942, 1943, 1944, 1945, 1946, 1947, 1948, 1949, 1950, 1951, 1952, 1953, 1954, 1955, 1956, 1957, 1958, 1959, 1960, 1961, 1962, 1963, 1964, 1965, 1966, 1967, 1968, 1969, 1970, 1971, 1972, 1973, 1974, 1975, 1976, 1977, 1978, 1979, 1980, 1981, 1982, 1983, 1984, 1985, 1986, 1987, 1988, 1989, 1990, 1991, 1992, 1993, 1994, 1995, 1996, 1997, 1998, 1999, 2000, 2001, 2002, 2003, 2004, 2005, 2006, 2007, 2008, 2009, 2010, 2011, 2012, 2013, 2014, 2015, 2016, 2017, 2018, 2019], \"xaxis\": \"x\", \"y\": [-1.5752808988764064, -0.9752808988764068, -1.4752808988764068, 0.12471910112359375, -0.8752808988764063, -0.4752808988764068, -0.17528089887640697, -0.675280898876407, -0.8752808988764063, -1.675280898876407, -1.3752808988764063, -0.8752808988764063, 0.12471910112359375, -0.7752808988764066, -0.07528089887640643, -0.2752808988764066, 0.4247191011235927, 0.024719101123593212, 0.2247191011235934, 0.12471910112359375, 0.024719101123593212, -0.37528089887640625, -0.37528089887640625, -0.9752808988764068, -0.9752808988764068, -1.7752808988764066, -0.2752808988764066, -0.2752808988764066, 0.12471910112359375, -0.17528089887640697, 0.6247191011235937, -1.2752808988764066, -1.4752808988764068, -0.4752808988764068, -1.175280898876407, 0.024719101123593212, -0.07528089887640643, -0.5752808988764064, -0.8752808988764063, -0.7752808988764066, -0.4752808988764068, -0.8752808988764063, -0.675280898876407, 0.024719101123593212, -0.17528089887640697, -0.2752808988764066, 0.12471910112359375, -0.9752808988764068, -0.2752808988764066, -0.9752808988764068, -0.2752808988764066, 0.32471910112359303, 0.4247191011235927, -0.7752808988764066, -0.7752808988764066, -0.4752808988764068, -0.4752808988764068, 0.6247191011235937, 0.7247191011235934, 1.024719101123594, -0.2752808988764066, 0.824719101123593, 0.2247191011235934, 1.6247191011235937, 0.32471910112359303, -0.8752808988764063, 0.7247191011235934, 0.824719101123593, 0.6247191011235937, 1.6247191011235937, 0.6247191011235937, 1.324719101123593, 1.324719101123593, 0.4247191011235927, 0.32471910112359303, 1.024719101123594, 1.324719101123593, 0.824719101123593, 1.1247191011235937, -0.17528089887640697, 1.6247191011235937, 0.824719101123593, 0.12471910112359375, 1.824719101123593, 1.824719101123593, 1.2247191011235934, 1.324719101123593, 2.1247191011235937, 1.7247191011235934], \"yaxis\": \"y\"}, {\"hovertemplate\": \"color=Z\\u00fcrich-Fluntern<br>Years=%{x}<br>Temperature Difference in K=%{y}<extra></extra>\", \"legendgroup\": \"Z\\u00fcrich-Fluntern\", \"line\": {\"color\": \"rgb(1,1,100)\", \"dash\": \"solid\"}, \"mode\": \"lines\", \"name\": \"Z\\u00fcrich-Fluntern\", \"showlegend\": true, \"type\": \"scattergl\", \"x\": [1931, 1932, 1933, 1934, 1935, 1936, 1937, 1938, 1939, 1940, 1941, 1942, 1943, 1944, 1945, 1946, 1947, 1948, 1949, 1950, 1951, 1952, 1953, 1954, 1955, 1956, 1957, 1958, 1959, 1960, 1961, 1962, 1963, 1964, 1965, 1966, 1967, 1968, 1969, 1970, 1971, 1972, 1973, 1974, 1975, 1976, 1977, 1978, 1979, 1980, 1981, 1982, 1983, 1984, 1985, 1986, 1987, 1988, 1989, 1990, 1991, 1992, 1993, 1994, 1995, 1996, 1997, 1998, 1999, 2000, 2001, 2002, 2003, 2004, 2005, 2006, 2007, 2008, 2009, 2010, 2011, 2012, 2013, 2014, 2015, 2016, 2017, 2018, 2019], \"xaxis\": \"x\", \"y\": [-1.4550561797752817, -1.0550561797752822, -1.2550561797752824, 0.04494382022471832, -0.6550561797752827, -0.4550561797752817, -0.2550561797752824, -0.6550561797752827, -0.9550561797752817, -1.7550561797752824, -1.4550561797752817, -0.9550561797752817, 0.34494382022471726, -0.6550561797752827, 0.14494382022471797, -0.2550561797752824, 0.5449438202247183, 0.04494382022471832, 0.5449438202247183, 0.14494382022471797, -0.2550561797752824, -0.2550561797752824, -0.35505617977528203, -0.855056179775282, -0.7550561797752824, -1.7550561797752824, -0.2550561797752824, -0.2550561797752824, 0.34494382022471726, -0.2550561797752824, 0.644943820224718, -1.2550561797752824, -1.4550561797752817, -0.35505617977528203, -1.2550561797752824, -0.15505617977528274, -0.15505617977528274, -0.6550561797752827, -0.855056179775282, -0.9550561797752817, -0.5550561797752813, -0.9550561797752817, -0.855056179775282, 0.04494382022471832, -0.2550561797752824, -0.2550561797752824, 0.04494382022471832, -0.9550561797752817, -0.35505617977528203, -0.9550561797752817, -0.2550561797752824, 0.34494382022471726, 0.4449438202247187, -0.5550561797752813, -0.6550561797752827, -0.4550561797752817, -0.5550561797752813, 0.5449438202247183, 0.5449438202247183, 0.8449438202247173, 0.04494382022471832, 0.644943820224718, 0.2449438202247176, 1.644943820224718, 0.34494382022471726, -0.7550561797752824, 0.5449438202247183, 0.644943820224718, 0.5449438202247183, 1.3449438202247173, 0.5449438202247183, 1.3449438202247173, 1.2449438202247176, 0.644943820224718, 0.4449438202247187, 0.9449438202247187, 1.2449438202247176, 0.7449438202247176, 1.0449438202247183, -0.05505617977528132, 1.644943820224718, 0.8449438202247173, 0.2449438202247176, 1.7449438202247176, 1.7449438202247176, 1.0449438202247183, 1.3449438202247173, 2.2449438202247176, 1.644943820224718], \"yaxis\": \"y\"}],\n",
       "                        {\"legend\": {\"title\": {\"text\": \"color\"}, \"tracegroupgap\": 0}, \"template\": {\"data\": {\"bar\": [{\"error_x\": {\"color\": \"rgb(36,36,36)\"}, \"error_y\": {\"color\": \"rgb(36,36,36)\"}, \"marker\": {\"line\": {\"color\": \"white\", \"width\": 0.5}}, \"type\": \"bar\"}], \"barpolar\": [{\"marker\": {\"line\": {\"color\": \"white\", \"width\": 0.5}}, \"type\": \"barpolar\"}], \"carpet\": [{\"aaxis\": {\"endlinecolor\": \"rgb(36,36,36)\", \"gridcolor\": \"white\", \"linecolor\": \"white\", \"minorgridcolor\": \"white\", \"startlinecolor\": \"rgb(36,36,36)\"}, \"baxis\": {\"endlinecolor\": \"rgb(36,36,36)\", \"gridcolor\": \"white\", \"linecolor\": \"white\", \"minorgridcolor\": \"white\", \"startlinecolor\": \"rgb(36,36,36)\"}, \"type\": \"carpet\"}], \"choropleth\": [{\"colorbar\": {\"outlinewidth\": 1, \"tickcolor\": \"rgb(36,36,36)\", \"ticks\": \"outside\"}, \"type\": \"choropleth\"}], \"contour\": [{\"colorbar\": {\"outlinewidth\": 1, \"tickcolor\": \"rgb(36,36,36)\", \"ticks\": \"outside\"}, \"colorscale\": [[0.0, \"#440154\"], [0.1111111111111111, \"#482878\"], [0.2222222222222222, \"#3e4989\"], [0.3333333333333333, \"#31688e\"], [0.4444444444444444, \"#26828e\"], [0.5555555555555556, \"#1f9e89\"], [0.6666666666666666, \"#35b779\"], [0.7777777777777778, \"#6ece58\"], [0.8888888888888888, \"#b5de2b\"], [1.0, \"#fde725\"]], \"type\": \"contour\"}], \"contourcarpet\": [{\"colorbar\": {\"outlinewidth\": 1, \"tickcolor\": \"rgb(36,36,36)\", \"ticks\": \"outside\"}, \"type\": \"contourcarpet\"}], \"heatmap\": [{\"colorbar\": {\"outlinewidth\": 1, \"tickcolor\": \"rgb(36,36,36)\", \"ticks\": \"outside\"}, \"colorscale\": [[0.0, \"#440154\"], [0.1111111111111111, \"#482878\"], [0.2222222222222222, \"#3e4989\"], [0.3333333333333333, \"#31688e\"], [0.4444444444444444, \"#26828e\"], [0.5555555555555556, \"#1f9e89\"], [0.6666666666666666, \"#35b779\"], [0.7777777777777778, \"#6ece58\"], [0.8888888888888888, \"#b5de2b\"], [1.0, \"#fde725\"]], \"type\": \"heatmap\"}], \"heatmapgl\": [{\"colorbar\": {\"outlinewidth\": 1, \"tickcolor\": \"rgb(36,36,36)\", \"ticks\": \"outside\"}, \"colorscale\": [[0.0, \"#440154\"], [0.1111111111111111, \"#482878\"], [0.2222222222222222, \"#3e4989\"], [0.3333333333333333, \"#31688e\"], [0.4444444444444444, \"#26828e\"], [0.5555555555555556, \"#1f9e89\"], [0.6666666666666666, \"#35b779\"], [0.7777777777777778, \"#6ece58\"], [0.8888888888888888, \"#b5de2b\"], [1.0, \"#fde725\"]], \"type\": \"heatmapgl\"}], \"histogram\": [{\"marker\": {\"line\": {\"color\": \"white\", \"width\": 0.6}}, \"type\": \"histogram\"}], \"histogram2d\": [{\"colorbar\": {\"outlinewidth\": 1, \"tickcolor\": \"rgb(36,36,36)\", \"ticks\": \"outside\"}, \"colorscale\": [[0.0, \"#440154\"], [0.1111111111111111, \"#482878\"], [0.2222222222222222, \"#3e4989\"], [0.3333333333333333, \"#31688e\"], [0.4444444444444444, \"#26828e\"], [0.5555555555555556, \"#1f9e89\"], [0.6666666666666666, \"#35b779\"], [0.7777777777777778, \"#6ece58\"], [0.8888888888888888, \"#b5de2b\"], [1.0, \"#fde725\"]], \"type\": \"histogram2d\"}], \"histogram2dcontour\": [{\"colorbar\": {\"outlinewidth\": 1, \"tickcolor\": \"rgb(36,36,36)\", \"ticks\": \"outside\"}, \"colorscale\": [[0.0, \"#440154\"], [0.1111111111111111, \"#482878\"], [0.2222222222222222, \"#3e4989\"], [0.3333333333333333, \"#31688e\"], [0.4444444444444444, \"#26828e\"], [0.5555555555555556, \"#1f9e89\"], [0.6666666666666666, \"#35b779\"], [0.7777777777777778, \"#6ece58\"], [0.8888888888888888, \"#b5de2b\"], [1.0, \"#fde725\"]], \"type\": \"histogram2dcontour\"}], \"mesh3d\": [{\"colorbar\": {\"outlinewidth\": 1, \"tickcolor\": \"rgb(36,36,36)\", \"ticks\": \"outside\"}, \"type\": \"mesh3d\"}], \"parcoords\": [{\"line\": {\"colorbar\": {\"outlinewidth\": 1, \"tickcolor\": \"rgb(36,36,36)\", \"ticks\": \"outside\"}}, \"type\": \"parcoords\"}], \"pie\": [{\"automargin\": true, \"type\": \"pie\"}], \"scatter\": [{\"marker\": {\"colorbar\": {\"outlinewidth\": 1, \"tickcolor\": \"rgb(36,36,36)\", \"ticks\": \"outside\"}}, \"type\": \"scatter\"}], \"scatter3d\": [{\"line\": {\"colorbar\": {\"outlinewidth\": 1, \"tickcolor\": \"rgb(36,36,36)\", \"ticks\": \"outside\"}}, \"marker\": {\"colorbar\": {\"outlinewidth\": 1, \"tickcolor\": \"rgb(36,36,36)\", \"ticks\": \"outside\"}}, \"type\": \"scatter3d\"}], \"scattercarpet\": [{\"marker\": {\"colorbar\": {\"outlinewidth\": 1, \"tickcolor\": \"rgb(36,36,36)\", \"ticks\": \"outside\"}}, \"type\": \"scattercarpet\"}], \"scattergeo\": [{\"marker\": {\"colorbar\": {\"outlinewidth\": 1, \"tickcolor\": \"rgb(36,36,36)\", \"ticks\": \"outside\"}}, \"type\": \"scattergeo\"}], \"scattergl\": [{\"marker\": {\"colorbar\": {\"outlinewidth\": 1, \"tickcolor\": \"rgb(36,36,36)\", \"ticks\": \"outside\"}}, \"type\": \"scattergl\"}], \"scattermapbox\": [{\"marker\": {\"colorbar\": {\"outlinewidth\": 1, \"tickcolor\": \"rgb(36,36,36)\", \"ticks\": \"outside\"}}, \"type\": \"scattermapbox\"}], \"scatterpolar\": [{\"marker\": {\"colorbar\": {\"outlinewidth\": 1, \"tickcolor\": \"rgb(36,36,36)\", \"ticks\": \"outside\"}}, \"type\": \"scatterpolar\"}], \"scatterpolargl\": [{\"marker\": {\"colorbar\": {\"outlinewidth\": 1, \"tickcolor\": \"rgb(36,36,36)\", \"ticks\": \"outside\"}}, \"type\": \"scatterpolargl\"}], \"scatterternary\": [{\"marker\": {\"colorbar\": {\"outlinewidth\": 1, \"tickcolor\": \"rgb(36,36,36)\", \"ticks\": \"outside\"}}, \"type\": \"scatterternary\"}], \"surface\": [{\"colorbar\": {\"outlinewidth\": 1, \"tickcolor\": \"rgb(36,36,36)\", \"ticks\": \"outside\"}, \"colorscale\": [[0.0, \"#440154\"], [0.1111111111111111, \"#482878\"], [0.2222222222222222, \"#3e4989\"], [0.3333333333333333, \"#31688e\"], [0.4444444444444444, \"#26828e\"], [0.5555555555555556, \"#1f9e89\"], [0.6666666666666666, \"#35b779\"], [0.7777777777777778, \"#6ece58\"], [0.8888888888888888, \"#b5de2b\"], [1.0, \"#fde725\"]], \"type\": \"surface\"}], \"table\": [{\"cells\": {\"fill\": {\"color\": \"rgb(237,237,237)\"}, \"line\": {\"color\": \"white\"}}, \"header\": {\"fill\": {\"color\": \"rgb(217,217,217)\"}, \"line\": {\"color\": \"white\"}}, \"type\": \"table\"}]}, \"layout\": {\"annotationdefaults\": {\"arrowhead\": 0, \"arrowwidth\": 1}, \"coloraxis\": {\"colorbar\": {\"outlinewidth\": 1, \"tickcolor\": \"rgb(36,36,36)\", \"ticks\": \"outside\"}}, \"colorscale\": {\"diverging\": [[0.0, \"rgb(103,0,31)\"], [0.1, \"rgb(178,24,43)\"], [0.2, \"rgb(214,96,77)\"], [0.3, \"rgb(244,165,130)\"], [0.4, \"rgb(253,219,199)\"], [0.5, \"rgb(247,247,247)\"], [0.6, \"rgb(209,229,240)\"], [0.7, \"rgb(146,197,222)\"], [0.8, \"rgb(67,147,195)\"], [0.9, \"rgb(33,102,172)\"], [1.0, \"rgb(5,48,97)\"]], \"sequential\": [[0.0, \"#440154\"], [0.1111111111111111, \"#482878\"], [0.2222222222222222, \"#3e4989\"], [0.3333333333333333, \"#31688e\"], [0.4444444444444444, \"#26828e\"], [0.5555555555555556, \"#1f9e89\"], [0.6666666666666666, \"#35b779\"], [0.7777777777777778, \"#6ece58\"], [0.8888888888888888, \"#b5de2b\"], [1.0, \"#fde725\"]], \"sequentialminus\": [[0.0, \"#440154\"], [0.1111111111111111, \"#482878\"], [0.2222222222222222, \"#3e4989\"], [0.3333333333333333, \"#31688e\"], [0.4444444444444444, \"#26828e\"], [0.5555555555555556, \"#1f9e89\"], [0.6666666666666666, \"#35b779\"], [0.7777777777777778, \"#6ece58\"], [0.8888888888888888, \"#b5de2b\"], [1.0, \"#fde725\"]]}, \"colorway\": [\"#1F77B4\", \"#FF7F0E\", \"#2CA02C\", \"#D62728\", \"#9467BD\", \"#8C564B\", \"#E377C2\", \"#7F7F7F\", \"#BCBD22\", \"#17BECF\"], \"font\": {\"color\": \"rgb(36,36,36)\"}, \"geo\": {\"bgcolor\": \"white\", \"lakecolor\": \"white\", \"landcolor\": \"white\", \"showlakes\": true, \"showland\": true, \"subunitcolor\": \"white\"}, \"hoverlabel\": {\"align\": \"left\"}, \"hovermode\": \"closest\", \"mapbox\": {\"style\": \"light\"}, \"paper_bgcolor\": \"white\", \"plot_bgcolor\": \"white\", \"polar\": {\"angularaxis\": {\"gridcolor\": \"rgb(232,232,232)\", \"linecolor\": \"rgb(36,36,36)\", \"showgrid\": false, \"showline\": true, \"ticks\": \"outside\"}, \"bgcolor\": \"white\", \"radialaxis\": {\"gridcolor\": \"rgb(232,232,232)\", \"linecolor\": \"rgb(36,36,36)\", \"showgrid\": false, \"showline\": true, \"ticks\": \"outside\"}}, \"scene\": {\"xaxis\": {\"backgroundcolor\": \"white\", \"gridcolor\": \"rgb(232,232,232)\", \"gridwidth\": 2, \"linecolor\": \"rgb(36,36,36)\", \"showbackground\": true, \"showgrid\": false, \"showline\": true, \"ticks\": \"outside\", \"zeroline\": false, \"zerolinecolor\": \"rgb(36,36,36)\"}, \"yaxis\": {\"backgroundcolor\": \"white\", \"gridcolor\": \"rgb(232,232,232)\", \"gridwidth\": 2, \"linecolor\": \"rgb(36,36,36)\", \"showbackground\": true, \"showgrid\": false, \"showline\": true, \"ticks\": \"outside\", \"zeroline\": false, \"zerolinecolor\": \"rgb(36,36,36)\"}, \"zaxis\": {\"backgroundcolor\": \"white\", \"gridcolor\": \"rgb(232,232,232)\", \"gridwidth\": 2, \"linecolor\": \"rgb(36,36,36)\", \"showbackground\": true, \"showgrid\": false, \"showline\": true, \"ticks\": \"outside\", \"zeroline\": false, \"zerolinecolor\": \"rgb(36,36,36)\"}}, \"shapedefaults\": {\"fillcolor\": \"black\", \"line\": {\"width\": 0}, \"opacity\": 0.3}, \"ternary\": {\"aaxis\": {\"gridcolor\": \"rgb(232,232,232)\", \"linecolor\": \"rgb(36,36,36)\", \"showgrid\": false, \"showline\": true, \"ticks\": \"outside\"}, \"baxis\": {\"gridcolor\": \"rgb(232,232,232)\", \"linecolor\": \"rgb(36,36,36)\", \"showgrid\": false, \"showline\": true, \"ticks\": \"outside\"}, \"bgcolor\": \"white\", \"caxis\": {\"gridcolor\": \"rgb(232,232,232)\", \"linecolor\": \"rgb(36,36,36)\", \"showgrid\": false, \"showline\": true, \"ticks\": \"outside\"}}, \"title\": {\"x\": 0.05}, \"xaxis\": {\"automargin\": true, \"gridcolor\": \"rgb(232,232,232)\", \"linecolor\": \"rgb(36,36,36)\", \"showgrid\": false, \"showline\": true, \"ticks\": \"outside\", \"title\": {\"standoff\": 15}, \"zeroline\": false, \"zerolinecolor\": \"rgb(36,36,36)\"}, \"yaxis\": {\"automargin\": true, \"gridcolor\": \"rgb(232,232,232)\", \"linecolor\": \"rgb(36,36,36)\", \"showgrid\": false, \"showline\": true, \"ticks\": \"outside\", \"title\": {\"standoff\": 15}, \"zeroline\": false, \"zerolinecolor\": \"rgb(36,36,36)\"}}}, \"title\": {\"text\": \"Temperature Change from initial Temperature in C\\u00b0\"}, \"xaxis\": {\"anchor\": \"y\", \"domain\": [0.0, 1.0], \"title\": {\"text\": \"Years\"}}, \"yaxis\": {\"anchor\": \"x\", \"domain\": [0.0, 1.0], \"title\": {\"text\": \"Temperature Difference in K\"}}},\n",
       "                        {\"responsive\": true}\n",
       "                    ).then(function(){\n",
       "                            \n",
       "var gd = document.getElementById('55213c5e-1053-46ee-b76a-6c9156ca7654');\n",
       "var x = new MutationObserver(function (mutations, observer) {{\n",
       "        var display = window.getComputedStyle(gd).display;\n",
       "        if (!display || display === 'none') {{\n",
       "            console.log([gd, 'removed!']);\n",
       "            Plotly.purge(gd);\n",
       "            observer.disconnect();\n",
       "        }}\n",
       "}});\n",
       "\n",
       "// Listen for the removal of the full notebook cells\n",
       "var notebookContainer = gd.closest('#notebook-container');\n",
       "if (notebookContainer) {{\n",
       "    x.observe(notebookContainer, {childList: true});\n",
       "}}\n",
       "\n",
       "// Listen for the clearing of the current output cell\n",
       "var outputEl = gd.closest('.output');\n",
       "if (outputEl) {{\n",
       "    x.observe(outputEl, {childList: true});\n",
       "}}\n",
       "\n",
       "                        })\n",
       "                };\n",
       "                });\n",
       "            </script>\n",
       "        </div>"
      ]
     },
     "metadata": {},
     "output_type": "display_data"
    }
   ],
   "source": [
    "def lineplot_swiss_temp(data):\n",
    "    data = data.copy()\n",
    "    \n",
    "    for column in data.columns:\n",
    "        data[column] = data[column] - data[column].mean()\n",
    "    data = pd.melt(data.reset_index(), id_vars='index')\n",
    "    data.columns = ['year', 'location', 'temperature']\n",
    "    data['isDavos'] = np.where(data['location'] == 'Davos', 1, 0)\n",
    "    \n",
    "    fig = px.line(x=data['year'], y=data['temperature'], color=data['location'], \n",
    "                  title='Temperature Change from initial Temperature in C°',\n",
    "                  labels={'x':'Years', 'y':'Temperature Difference in K'},\n",
    "                  template='simple_white'\n",
    "                    )\n",
    "    fig.update_traces(line=dict(color='rgb(1,1,100)'))\n",
    "    fig.show()\n",
    "    \n",
    "    \n",
    "lineplot_swiss_temp(swiss_temp)"
   ]
  }
 ],
 "metadata": {
  "kernelspec": {
   "display_name": "Python 3",
   "language": "python",
   "name": "python3"
  },
  "language_info": {
   "codemirror_mode": {
    "name": "ipython",
    "version": 3
   },
   "file_extension": ".py",
   "mimetype": "text/x-python",
   "name": "python",
   "nbconvert_exporter": "python",
   "pygments_lexer": "ipython3",
   "version": "3.7.6"
  },
  "toc": {
   "base_numbering": 1,
   "nav_menu": {},
   "number_sections": true,
   "sideBar": true,
   "skip_h1_title": false,
   "title_cell": "Table of Contents",
   "title_sidebar": "Contents",
   "toc_cell": false,
   "toc_position": {
    "height": "calc(100% - 180px)",
    "left": "10px",
    "top": "150px",
    "width": "256px"
   },
   "toc_section_display": true,
   "toc_window_display": false
  }
 },
 "nbformat": 4,
 "nbformat_minor": 4
}
